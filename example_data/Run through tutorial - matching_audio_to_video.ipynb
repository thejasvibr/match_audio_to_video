{
 "cells": [
  {
   "cell_type": "markdown",
   "metadata": {},
   "source": [
    "This is an example run through to show how the match_audio_to_video workflow goes\n",
    "\n",
    "\n",
    "Author : Thejasvi Beleyur, August 2019,\n",
    "         Acoustic and Functional Ecology Group, Max Planck Institute for Ornithology, Seewiesen"
   ]
  },
  {
   "cell_type": "code",
   "execution_count": 1,
   "metadata": {},
   "outputs": [],
   "source": [
    "import sys \n",
    "sys.path.append('../') # include the modules in the outer folder in the search path\n",
    "import pandas as pd\n",
    "import numpy as np \n",
    "import matplotlib.pyplot as plt\n",
    "plt.rcParams['agg.path.chunksize'] = 100000"
   ]
  },
  {
   "cell_type": "code",
   "execution_count": 2,
   "metadata": {},
   "outputs": [
    {
     "data": {
      "text/plain": [
       "['common_fps_video_sync555.csv',\n",
       " 'Run through tutorial - matching_audio_to_video.ipynb',\n",
       " 'audio',\n",
       " '.ipynb_checkpoints',\n",
       " '.~lock.eg_annotations.csv#',\n",
       " 'videosync_DVRecorder_03_20190704_16.49.45-16.56.42[R][@da37][0].avi_.csv',\n",
       " 'vlc-record_03_20190704_16-51-30to16-52[R][@da37][0].avi',\n",
       " 'highres_recordings',\n",
       " 'get_videodata.py',\n",
       " 'common_fps_video_sync202.csv',\n",
       " '.~lock.common_fps_video_sync111.csv#',\n",
       " 'eg_annotations.csv',\n",
       " 'video']"
      ]
     },
     "execution_count": 2,
     "metadata": {},
     "output_type": "execute_result"
    }
   ],
   "source": [
    "import os \n",
    "os.listdir('./')"
   ]
  },
  {
   "cell_type": "code",
   "execution_count": 2,
   "metadata": {},
   "outputs": [
    {
     "ename": "ImportError",
     "evalue": "Matplotlib qt-based backends require an external PyQt4, PyQt5,\nPySide or PySide2 package to be installed, but it was not found.",
     "output_type": "error",
     "traceback": [
      "\u001b[0;31m---------------------------------------------------------------------------\u001b[0m",
      "\u001b[0;31mImportError\u001b[0m                               Traceback (most recent call last)",
      "\u001b[0;32m<ipython-input-2-4460ac8d7abe>\u001b[0m in \u001b[0;36m<module>\u001b[0;34m()\u001b[0m\n\u001b[0;32m----> 1\u001b[0;31m \u001b[0mget_ipython\u001b[0m\u001b[0;34m(\u001b[0m\u001b[0;34m)\u001b[0m\u001b[0;34m.\u001b[0m\u001b[0mmagic\u001b[0m\u001b[0;34m(\u001b[0m\u001b[0;34mu'matplotlib qt'\u001b[0m\u001b[0;34m)\u001b[0m\u001b[0;34m\u001b[0m\u001b[0;34m\u001b[0m\u001b[0m\n\u001b[0m",
      "\u001b[0;32m/home/thejasvi/python_envs/horseshoebat/local/lib/python2.7/site-packages/IPython/core/interactiveshell.pyc\u001b[0m in \u001b[0;36mmagic\u001b[0;34m(self, arg_s)\u001b[0m\n\u001b[1;32m   2158\u001b[0m         \u001b[0mmagic_name\u001b[0m\u001b[0;34m,\u001b[0m \u001b[0m_\u001b[0m\u001b[0;34m,\u001b[0m \u001b[0mmagic_arg_s\u001b[0m \u001b[0;34m=\u001b[0m \u001b[0marg_s\u001b[0m\u001b[0;34m.\u001b[0m\u001b[0mpartition\u001b[0m\u001b[0;34m(\u001b[0m\u001b[0;34m' '\u001b[0m\u001b[0;34m)\u001b[0m\u001b[0;34m\u001b[0m\u001b[0;34m\u001b[0m\u001b[0m\n\u001b[1;32m   2159\u001b[0m         \u001b[0mmagic_name\u001b[0m \u001b[0;34m=\u001b[0m \u001b[0mmagic_name\u001b[0m\u001b[0;34m.\u001b[0m\u001b[0mlstrip\u001b[0m\u001b[0;34m(\u001b[0m\u001b[0mprefilter\u001b[0m\u001b[0;34m.\u001b[0m\u001b[0mESC_MAGIC\u001b[0m\u001b[0;34m)\u001b[0m\u001b[0;34m\u001b[0m\u001b[0;34m\u001b[0m\u001b[0m\n\u001b[0;32m-> 2160\u001b[0;31m         \u001b[0;32mreturn\u001b[0m \u001b[0mself\u001b[0m\u001b[0;34m.\u001b[0m\u001b[0mrun_line_magic\u001b[0m\u001b[0;34m(\u001b[0m\u001b[0mmagic_name\u001b[0m\u001b[0;34m,\u001b[0m \u001b[0mmagic_arg_s\u001b[0m\u001b[0;34m)\u001b[0m\u001b[0;34m\u001b[0m\u001b[0;34m\u001b[0m\u001b[0m\n\u001b[0m\u001b[1;32m   2161\u001b[0m \u001b[0;34m\u001b[0m\u001b[0m\n\u001b[1;32m   2162\u001b[0m     \u001b[0;31m#-------------------------------------------------------------------------\u001b[0m\u001b[0;34m\u001b[0m\u001b[0;34m\u001b[0m\u001b[0;34m\u001b[0m\u001b[0m\n",
      "\u001b[0;32m/home/thejasvi/python_envs/horseshoebat/local/lib/python2.7/site-packages/IPython/core/interactiveshell.pyc\u001b[0m in \u001b[0;36mrun_line_magic\u001b[0;34m(self, magic_name, line)\u001b[0m\n\u001b[1;32m   2079\u001b[0m                 \u001b[0mkwargs\u001b[0m\u001b[0;34m[\u001b[0m\u001b[0;34m'local_ns'\u001b[0m\u001b[0;34m]\u001b[0m \u001b[0;34m=\u001b[0m \u001b[0msys\u001b[0m\u001b[0;34m.\u001b[0m\u001b[0m_getframe\u001b[0m\u001b[0;34m(\u001b[0m\u001b[0mstack_depth\u001b[0m\u001b[0;34m)\u001b[0m\u001b[0;34m.\u001b[0m\u001b[0mf_locals\u001b[0m\u001b[0;34m\u001b[0m\u001b[0;34m\u001b[0m\u001b[0m\n\u001b[1;32m   2080\u001b[0m             \u001b[0;32mwith\u001b[0m \u001b[0mself\u001b[0m\u001b[0;34m.\u001b[0m\u001b[0mbuiltin_trap\u001b[0m\u001b[0;34m:\u001b[0m\u001b[0;34m\u001b[0m\u001b[0;34m\u001b[0m\u001b[0m\n\u001b[0;32m-> 2081\u001b[0;31m                 \u001b[0mresult\u001b[0m \u001b[0;34m=\u001b[0m \u001b[0mfn\u001b[0m\u001b[0;34m(\u001b[0m\u001b[0;34m*\u001b[0m\u001b[0margs\u001b[0m\u001b[0;34m,\u001b[0m\u001b[0;34m**\u001b[0m\u001b[0mkwargs\u001b[0m\u001b[0;34m)\u001b[0m\u001b[0;34m\u001b[0m\u001b[0;34m\u001b[0m\u001b[0m\n\u001b[0m\u001b[1;32m   2082\u001b[0m             \u001b[0;32mreturn\u001b[0m \u001b[0mresult\u001b[0m\u001b[0;34m\u001b[0m\u001b[0;34m\u001b[0m\u001b[0m\n\u001b[1;32m   2083\u001b[0m \u001b[0;34m\u001b[0m\u001b[0m\n",
      "\u001b[0;32m</home/thejasvi/python_envs/horseshoebat/local/lib/python2.7/site-packages/decorator.pyc:decorator-gen-105>\u001b[0m in \u001b[0;36mmatplotlib\u001b[0;34m(self, line)\u001b[0m\n",
      "\u001b[0;32m/home/thejasvi/python_envs/horseshoebat/local/lib/python2.7/site-packages/IPython/core/magic.pyc\u001b[0m in \u001b[0;36m<lambda>\u001b[0;34m(f, *a, **k)\u001b[0m\n\u001b[1;32m    186\u001b[0m     \u001b[0;31m# but it's overkill for just that one bit of state.\u001b[0m\u001b[0;34m\u001b[0m\u001b[0;34m\u001b[0m\u001b[0;34m\u001b[0m\u001b[0m\n\u001b[1;32m    187\u001b[0m     \u001b[0;32mdef\u001b[0m \u001b[0mmagic_deco\u001b[0m\u001b[0;34m(\u001b[0m\u001b[0marg\u001b[0m\u001b[0;34m)\u001b[0m\u001b[0;34m:\u001b[0m\u001b[0;34m\u001b[0m\u001b[0;34m\u001b[0m\u001b[0m\n\u001b[0;32m--> 188\u001b[0;31m         \u001b[0mcall\u001b[0m \u001b[0;34m=\u001b[0m \u001b[0;32mlambda\u001b[0m \u001b[0mf\u001b[0m\u001b[0;34m,\u001b[0m \u001b[0;34m*\u001b[0m\u001b[0ma\u001b[0m\u001b[0;34m,\u001b[0m \u001b[0;34m**\u001b[0m\u001b[0mk\u001b[0m\u001b[0;34m:\u001b[0m \u001b[0mf\u001b[0m\u001b[0;34m(\u001b[0m\u001b[0;34m*\u001b[0m\u001b[0ma\u001b[0m\u001b[0;34m,\u001b[0m \u001b[0;34m**\u001b[0m\u001b[0mk\u001b[0m\u001b[0;34m)\u001b[0m\u001b[0;34m\u001b[0m\u001b[0;34m\u001b[0m\u001b[0m\n\u001b[0m\u001b[1;32m    189\u001b[0m \u001b[0;34m\u001b[0m\u001b[0m\n\u001b[1;32m    190\u001b[0m         \u001b[0;32mif\u001b[0m \u001b[0mcallable\u001b[0m\u001b[0;34m(\u001b[0m\u001b[0marg\u001b[0m\u001b[0;34m)\u001b[0m\u001b[0;34m:\u001b[0m\u001b[0;34m\u001b[0m\u001b[0;34m\u001b[0m\u001b[0m\n",
      "\u001b[0;32m/home/thejasvi/python_envs/horseshoebat/local/lib/python2.7/site-packages/IPython/core/magics/pylab.pyc\u001b[0m in \u001b[0;36mmatplotlib\u001b[0;34m(self, line)\u001b[0m\n\u001b[1;32m     98\u001b[0m             \u001b[0;32mprint\u001b[0m\u001b[0;34m(\u001b[0m\u001b[0;34m\"Available matplotlib backends: %s\"\u001b[0m \u001b[0;34m%\u001b[0m \u001b[0mbackends_list\u001b[0m\u001b[0;34m)\u001b[0m\u001b[0;34m\u001b[0m\u001b[0;34m\u001b[0m\u001b[0m\n\u001b[1;32m     99\u001b[0m         \u001b[0;32melse\u001b[0m\u001b[0;34m:\u001b[0m\u001b[0;34m\u001b[0m\u001b[0;34m\u001b[0m\u001b[0m\n\u001b[0;32m--> 100\u001b[0;31m             \u001b[0mgui\u001b[0m\u001b[0;34m,\u001b[0m \u001b[0mbackend\u001b[0m \u001b[0;34m=\u001b[0m \u001b[0mself\u001b[0m\u001b[0;34m.\u001b[0m\u001b[0mshell\u001b[0m\u001b[0;34m.\u001b[0m\u001b[0menable_matplotlib\u001b[0m\u001b[0;34m(\u001b[0m\u001b[0margs\u001b[0m\u001b[0;34m.\u001b[0m\u001b[0mgui\u001b[0m\u001b[0;34m)\u001b[0m\u001b[0;34m\u001b[0m\u001b[0;34m\u001b[0m\u001b[0m\n\u001b[0m\u001b[1;32m    101\u001b[0m             \u001b[0mself\u001b[0m\u001b[0;34m.\u001b[0m\u001b[0m_show_matplotlib_backend\u001b[0m\u001b[0;34m(\u001b[0m\u001b[0margs\u001b[0m\u001b[0;34m.\u001b[0m\u001b[0mgui\u001b[0m\u001b[0;34m,\u001b[0m \u001b[0mbackend\u001b[0m\u001b[0;34m)\u001b[0m\u001b[0;34m\u001b[0m\u001b[0;34m\u001b[0m\u001b[0m\n\u001b[1;32m    102\u001b[0m \u001b[0;34m\u001b[0m\u001b[0m\n",
      "\u001b[0;32m/home/thejasvi/python_envs/horseshoebat/local/lib/python2.7/site-packages/IPython/core/interactiveshell.pyc\u001b[0m in \u001b[0;36menable_matplotlib\u001b[0;34m(self, gui)\u001b[0m\n\u001b[1;32m   2964\u001b[0m                 \u001b[0mgui\u001b[0m\u001b[0;34m,\u001b[0m \u001b[0mbackend\u001b[0m \u001b[0;34m=\u001b[0m \u001b[0mpt\u001b[0m\u001b[0;34m.\u001b[0m\u001b[0mfind_gui_and_backend\u001b[0m\u001b[0;34m(\u001b[0m\u001b[0mself\u001b[0m\u001b[0;34m.\u001b[0m\u001b[0mpylab_gui_select\u001b[0m\u001b[0;34m)\u001b[0m\u001b[0;34m\u001b[0m\u001b[0;34m\u001b[0m\u001b[0m\n\u001b[1;32m   2965\u001b[0m \u001b[0;34m\u001b[0m\u001b[0m\n\u001b[0;32m-> 2966\u001b[0;31m         \u001b[0mpt\u001b[0m\u001b[0;34m.\u001b[0m\u001b[0mactivate_matplotlib\u001b[0m\u001b[0;34m(\u001b[0m\u001b[0mbackend\u001b[0m\u001b[0;34m)\u001b[0m\u001b[0;34m\u001b[0m\u001b[0;34m\u001b[0m\u001b[0m\n\u001b[0m\u001b[1;32m   2967\u001b[0m         \u001b[0mpt\u001b[0m\u001b[0;34m.\u001b[0m\u001b[0mconfigure_inline_support\u001b[0m\u001b[0;34m(\u001b[0m\u001b[0mself\u001b[0m\u001b[0;34m,\u001b[0m \u001b[0mbackend\u001b[0m\u001b[0;34m)\u001b[0m\u001b[0;34m\u001b[0m\u001b[0;34m\u001b[0m\u001b[0m\n\u001b[1;32m   2968\u001b[0m \u001b[0;34m\u001b[0m\u001b[0m\n",
      "\u001b[0;32m/home/thejasvi/python_envs/horseshoebat/local/lib/python2.7/site-packages/IPython/core/pylabtools.pyc\u001b[0m in \u001b[0;36mactivate_matplotlib\u001b[0;34m(backend)\u001b[0m\n\u001b[1;32m    313\u001b[0m \u001b[0;34m\u001b[0m\u001b[0m\n\u001b[1;32m    314\u001b[0m     \u001b[0;32mimport\u001b[0m \u001b[0mmatplotlib\u001b[0m\u001b[0;34m.\u001b[0m\u001b[0mpyplot\u001b[0m\u001b[0;34m\u001b[0m\u001b[0;34m\u001b[0m\u001b[0m\n\u001b[0;32m--> 315\u001b[0;31m     \u001b[0mmatplotlib\u001b[0m\u001b[0;34m.\u001b[0m\u001b[0mpyplot\u001b[0m\u001b[0;34m.\u001b[0m\u001b[0mswitch_backend\u001b[0m\u001b[0;34m(\u001b[0m\u001b[0mbackend\u001b[0m\u001b[0;34m)\u001b[0m\u001b[0;34m\u001b[0m\u001b[0;34m\u001b[0m\u001b[0m\n\u001b[0m\u001b[1;32m    316\u001b[0m \u001b[0;34m\u001b[0m\u001b[0m\n\u001b[1;32m    317\u001b[0m     \u001b[0;31m# This must be imported last in the matplotlib series, after\u001b[0m\u001b[0;34m\u001b[0m\u001b[0;34m\u001b[0m\u001b[0;34m\u001b[0m\u001b[0m\n",
      "\u001b[0;32m/home/thejasvi/python_envs/horseshoebat/local/lib/python2.7/site-packages/matplotlib/pyplot.pyc\u001b[0m in \u001b[0;36mswitch_backend\u001b[0;34m(newbackend)\u001b[0m\n\u001b[1;32m    231\u001b[0m     \u001b[0mmatplotlib\u001b[0m\u001b[0;34m.\u001b[0m\u001b[0muse\u001b[0m\u001b[0;34m(\u001b[0m\u001b[0mnewbackend\u001b[0m\u001b[0;34m,\u001b[0m \u001b[0mwarn\u001b[0m\u001b[0;34m=\u001b[0m\u001b[0mFalse\u001b[0m\u001b[0;34m,\u001b[0m \u001b[0mforce\u001b[0m\u001b[0;34m=\u001b[0m\u001b[0mTrue\u001b[0m\u001b[0;34m)\u001b[0m\u001b[0;34m\u001b[0m\u001b[0;34m\u001b[0m\u001b[0m\n\u001b[1;32m    232\u001b[0m     \u001b[0;32mfrom\u001b[0m \u001b[0mmatplotlib\u001b[0m\u001b[0;34m.\u001b[0m\u001b[0mbackends\u001b[0m \u001b[0;32mimport\u001b[0m \u001b[0mpylab_setup\u001b[0m\u001b[0;34m\u001b[0m\u001b[0;34m\u001b[0m\u001b[0m\n\u001b[0;32m--> 233\u001b[0;31m     \u001b[0m_backend_mod\u001b[0m\u001b[0;34m,\u001b[0m \u001b[0mnew_figure_manager\u001b[0m\u001b[0;34m,\u001b[0m \u001b[0mdraw_if_interactive\u001b[0m\u001b[0;34m,\u001b[0m \u001b[0m_show\u001b[0m \u001b[0;34m=\u001b[0m \u001b[0mpylab_setup\u001b[0m\u001b[0;34m(\u001b[0m\u001b[0;34m)\u001b[0m\u001b[0;34m\u001b[0m\u001b[0;34m\u001b[0m\u001b[0m\n\u001b[0m\u001b[1;32m    234\u001b[0m \u001b[0;34m\u001b[0m\u001b[0m\n\u001b[1;32m    235\u001b[0m \u001b[0;34m\u001b[0m\u001b[0m\n",
      "\u001b[0;32m/home/thejasvi/python_envs/horseshoebat/local/lib/python2.7/site-packages/matplotlib/backends/__init__.pyc\u001b[0m in \u001b[0;36mpylab_setup\u001b[0;34m(name)\u001b[0m\n\u001b[1;32m     60\u001b[0m     \u001b[0;31m# imports. 0 means only perform absolute imports.\u001b[0m\u001b[0;34m\u001b[0m\u001b[0;34m\u001b[0m\u001b[0;34m\u001b[0m\u001b[0m\n\u001b[1;32m     61\u001b[0m     backend_mod = __import__(backend_name, globals(), locals(),\n\u001b[0;32m---> 62\u001b[0;31m                              [backend_name], 0)\n\u001b[0m\u001b[1;32m     63\u001b[0m \u001b[0;34m\u001b[0m\u001b[0m\n\u001b[1;32m     64\u001b[0m     \u001b[0;31m# Things we pull in from all backends\u001b[0m\u001b[0;34m\u001b[0m\u001b[0;34m\u001b[0m\u001b[0;34m\u001b[0m\u001b[0m\n",
      "\u001b[0;32m/home/thejasvi/python_envs/horseshoebat/local/lib/python2.7/site-packages/matplotlib/backends/backend_qt5agg.py\u001b[0m in \u001b[0;36m<module>\u001b[0;34m()\u001b[0m\n\u001b[1;32m     13\u001b[0m \u001b[0;34m\u001b[0m\u001b[0m\n\u001b[1;32m     14\u001b[0m \u001b[0;32mfrom\u001b[0m \u001b[0;34m.\u001b[0m\u001b[0mbackend_agg\u001b[0m \u001b[0;32mimport\u001b[0m \u001b[0mFigureCanvasAgg\u001b[0m\u001b[0;34m\u001b[0m\u001b[0;34m\u001b[0m\u001b[0m\n\u001b[0;32m---> 15\u001b[0;31m from .backend_qt5 import (\n\u001b[0m\u001b[1;32m     16\u001b[0m     \u001b[0mQtCore\u001b[0m\u001b[0;34m,\u001b[0m \u001b[0mQtGui\u001b[0m\u001b[0;34m,\u001b[0m \u001b[0mQtWidgets\u001b[0m\u001b[0;34m,\u001b[0m \u001b[0m_BackendQT5\u001b[0m\u001b[0;34m,\u001b[0m \u001b[0mFigureCanvasQT\u001b[0m\u001b[0;34m,\u001b[0m \u001b[0mFigureManagerQT\u001b[0m\u001b[0;34m,\u001b[0m\u001b[0;34m\u001b[0m\u001b[0;34m\u001b[0m\u001b[0m\n\u001b[1;32m     17\u001b[0m     NavigationToolbar2QT, backend_version)\n",
      "\u001b[0;32m/home/thejasvi/python_envs/horseshoebat/local/lib/python2.7/site-packages/matplotlib/backends/backend_qt5.py\u001b[0m in \u001b[0;36m<module>\u001b[0;34m()\u001b[0m\n\u001b[1;32m     17\u001b[0m     \u001b[0m_Backend\u001b[0m\u001b[0;34m,\u001b[0m \u001b[0mFigureCanvasBase\u001b[0m\u001b[0;34m,\u001b[0m \u001b[0mFigureManagerBase\u001b[0m\u001b[0;34m,\u001b[0m \u001b[0mNavigationToolbar2\u001b[0m\u001b[0;34m,\u001b[0m\u001b[0;34m\u001b[0m\u001b[0;34m\u001b[0m\u001b[0m\n\u001b[1;32m     18\u001b[0m     TimerBase, cursors, ToolContainerBase, StatusbarBase)\n\u001b[0;32m---> 19\u001b[0;31m \u001b[0;32mimport\u001b[0m \u001b[0mmatplotlib\u001b[0m\u001b[0;34m.\u001b[0m\u001b[0mbackends\u001b[0m\u001b[0;34m.\u001b[0m\u001b[0mqt_editor\u001b[0m\u001b[0;34m.\u001b[0m\u001b[0mfigureoptions\u001b[0m \u001b[0;32mas\u001b[0m \u001b[0mfigureoptions\u001b[0m\u001b[0;34m\u001b[0m\u001b[0;34m\u001b[0m\u001b[0m\n\u001b[0m\u001b[1;32m     20\u001b[0m \u001b[0;32mfrom\u001b[0m \u001b[0mmatplotlib\u001b[0m\u001b[0;34m.\u001b[0m\u001b[0mbackends\u001b[0m\u001b[0;34m.\u001b[0m\u001b[0mqt_editor\u001b[0m\u001b[0;34m.\u001b[0m\u001b[0mformsubplottool\u001b[0m \u001b[0;32mimport\u001b[0m \u001b[0mUiSubplotTool\u001b[0m\u001b[0;34m\u001b[0m\u001b[0;34m\u001b[0m\u001b[0m\n\u001b[1;32m     21\u001b[0m \u001b[0;32mfrom\u001b[0m \u001b[0mmatplotlib\u001b[0m\u001b[0;34m.\u001b[0m\u001b[0mfigure\u001b[0m \u001b[0;32mimport\u001b[0m \u001b[0mFigure\u001b[0m\u001b[0;34m\u001b[0m\u001b[0;34m\u001b[0m\u001b[0m\n",
      "\u001b[0;32m/home/thejasvi/python_envs/horseshoebat/local/lib/python2.7/site-packages/matplotlib/backends/qt_editor/figureoptions.py\u001b[0m in \u001b[0;36m<module>\u001b[0;34m()\u001b[0m\n\u001b[1;32m     18\u001b[0m \u001b[0;32mimport\u001b[0m \u001b[0mmatplotlib\u001b[0m\u001b[0;34m\u001b[0m\u001b[0;34m\u001b[0m\u001b[0m\n\u001b[1;32m     19\u001b[0m \u001b[0;32mfrom\u001b[0m \u001b[0mmatplotlib\u001b[0m \u001b[0;32mimport\u001b[0m \u001b[0mcm\u001b[0m\u001b[0;34m,\u001b[0m \u001b[0mcolors\u001b[0m \u001b[0;32mas\u001b[0m \u001b[0mmcolors\u001b[0m\u001b[0;34m,\u001b[0m \u001b[0mmarkers\u001b[0m\u001b[0;34m,\u001b[0m \u001b[0mimage\u001b[0m \u001b[0;32mas\u001b[0m \u001b[0mmimage\u001b[0m\u001b[0;34m\u001b[0m\u001b[0;34m\u001b[0m\u001b[0m\n\u001b[0;32m---> 20\u001b[0;31m \u001b[0;32mimport\u001b[0m \u001b[0mmatplotlib\u001b[0m\u001b[0;34m.\u001b[0m\u001b[0mbackends\u001b[0m\u001b[0;34m.\u001b[0m\u001b[0mqt_editor\u001b[0m\u001b[0;34m.\u001b[0m\u001b[0mformlayout\u001b[0m \u001b[0;32mas\u001b[0m \u001b[0mformlayout\u001b[0m\u001b[0;34m\u001b[0m\u001b[0;34m\u001b[0m\u001b[0m\n\u001b[0m\u001b[1;32m     21\u001b[0m \u001b[0;32mfrom\u001b[0m \u001b[0mmatplotlib\u001b[0m\u001b[0;34m.\u001b[0m\u001b[0mbackends\u001b[0m\u001b[0;34m.\u001b[0m\u001b[0mqt_compat\u001b[0m \u001b[0;32mimport\u001b[0m \u001b[0mQtGui\u001b[0m\u001b[0;34m\u001b[0m\u001b[0;34m\u001b[0m\u001b[0m\n\u001b[1;32m     22\u001b[0m \u001b[0;34m\u001b[0m\u001b[0m\n",
      "\u001b[0;32m/home/thejasvi/python_envs/horseshoebat/local/lib/python2.7/site-packages/matplotlib/backends/qt_editor/formlayout.py\u001b[0m in \u001b[0;36m<module>\u001b[0;34m()\u001b[0m\n\u001b[1;32m     52\u001b[0m \u001b[0;34m\u001b[0m\u001b[0m\n\u001b[1;32m     53\u001b[0m \u001b[0;32mfrom\u001b[0m \u001b[0mmatplotlib\u001b[0m \u001b[0;32mimport\u001b[0m \u001b[0mcolors\u001b[0m \u001b[0;32mas\u001b[0m \u001b[0mmcolors\u001b[0m\u001b[0;34m\u001b[0m\u001b[0;34m\u001b[0m\u001b[0m\n\u001b[0;32m---> 54\u001b[0;31m \u001b[0;32mfrom\u001b[0m \u001b[0mmatplotlib\u001b[0m\u001b[0;34m.\u001b[0m\u001b[0mbackends\u001b[0m\u001b[0;34m.\u001b[0m\u001b[0mqt_compat\u001b[0m \u001b[0;32mimport\u001b[0m \u001b[0mQtGui\u001b[0m\u001b[0;34m,\u001b[0m \u001b[0mQtWidgets\u001b[0m\u001b[0;34m,\u001b[0m \u001b[0mQtCore\u001b[0m\u001b[0;34m\u001b[0m\u001b[0;34m\u001b[0m\u001b[0m\n\u001b[0m\u001b[1;32m     55\u001b[0m \u001b[0;34m\u001b[0m\u001b[0m\n\u001b[1;32m     56\u001b[0m \u001b[0;34m\u001b[0m\u001b[0m\n",
      "\u001b[0;32m/home/thejasvi/python_envs/horseshoebat/local/lib/python2.7/site-packages/matplotlib/backends/qt_compat.py\u001b[0m in \u001b[0;36m<module>\u001b[0;34m()\u001b[0m\n\u001b[1;32m    202\u001b[0m     \u001b[0;32mexcept\u001b[0m \u001b[0mImportError\u001b[0m\u001b[0;34m:\u001b[0m\u001b[0;34m\u001b[0m\u001b[0;34m\u001b[0m\u001b[0m\n\u001b[1;32m    203\u001b[0m         raise ImportError(\n\u001b[0;32m--> 204\u001b[0;31m             \u001b[0;34m\"Matplotlib qt-based backends require an external PyQt4, PyQt5,\\n\"\u001b[0m\u001b[0;34m\u001b[0m\u001b[0;34m\u001b[0m\u001b[0m\n\u001b[0m\u001b[1;32m    205\u001b[0m             \"PySide or PySide2 package to be installed, but it was not found.\")\n\u001b[1;32m    206\u001b[0m \u001b[0;34m\u001b[0m\u001b[0m\n",
      "\u001b[0;31mImportError\u001b[0m: Matplotlib qt-based backends require an external PyQt4, PyQt5,\nPySide or PySide2 package to be installed, but it was not found."
     ]
    }
   ],
   "source": [
    "%matplotlib qt"
   ]
  },
  {
   "cell_type": "markdown",
   "metadata": {},
   "source": [
    "### Getting your borders right:\n",
    "For reliable and quick light intensity tracking and timestamp reading it is best to provide a narrow region around the focal area. In my experience I've seen that the timestamp reading can get a bit wonky if the whole image is provided!"
   ]
  },
  {
   "cell_type": "code",
   "execution_count": 3,
   "metadata": {},
   "outputs": [
    {
     "data": {
      "image/png": "[encoded data removed]",
      "text/plain": [
       "<Figure size 432x288 with 5 Axes>"
      ]
     },
     "metadata": {
      "needs_background": "light"
     },
     "output_type": "display_data"
    }
   ],
   "source": [
    "# Get the led and timestamp borders \n",
    "%run ../browse_through_video.py -v '/media/tbeleyur/PEN_DRIVe/AV_synchronisation_experiment_4July2019/video/DVRecorder_03_20190704_16.49.45-16.56.42[R][@da37][0].avi'"
   ]
  },
  {
   "cell_type": "markdown",
   "metadata": {},
   "source": [
    "So - for the example video the led_border entry should be (418.09, 792.16, 492.46, 246.62) *your points may be different than mine!!* - don't bother with too many decimal places! - repeat this once more to get the timestamp_border - and do this for every video file you have! \n",
    "The points are chosen by left click. If you want to delete an accidental click then use the right click. \n",
    "If you think the 4 points you chose still aren't right - no worries you can press the choose border button once more and redo the whole process. \n",
    "\n",
    "You could redo the border selection any time by keeping the frame-by-frame display open!\n",
    "\n",
    "The border output you need to put into the annotations file is always printed out. \n"
   ]
  },
  {
   "cell_type": "markdown",
   "metadata": {},
   "source": [
    "### Running the video file level data production : tracking the light intensity and timestamps frame-by-frame\n",
    "After entering your annotations, now run the  routine that will measure the light intensity in each frame and read the timestamp. "
   ]
  },
  {
   "cell_type": "code",
   "execution_count": 5,
   "metadata": {},
   "outputs": [
    {
     "name": "stderr",
     "output_type": "stream",
     "text": [
      "\r",
      "0it [00:00, ?it/s]"
     ]
    },
    {
     "name": "stdout",
     "output_type": "stream",
     "text": [
      "('Now generating dat from row', 0)\n",
      "gettin raw video data from DVRecorder_03_20190704_16.49.45-16.56.42[R][@da37][0].avi  now....\n",
      "starting frame reading\n"
     ]
    },
    {
     "name": "stderr",
     "output_type": "stream",
     "text": [
      "Frames read: 100%|██████████| 9307/9307 [38:33<00:00,  4.01it/s]\n"
     ]
    },
    {
     "name": "stdout",
     "output_type": "stream",
     "text": [
      "Done with frame conversion\n",
      "((9307, 4), 9307)\n"
     ]
    },
    {
     "name": "stderr",
     "output_type": "stream",
     "text": [
      "2it [38:34, 1157.08s/it]"
     ]
    },
    {
     "name": "stdout",
     "output_type": "stream",
     "text": [
      "doen w getting raw video data \n",
      "('Now generating dat from row', 1)\n",
      "('DVRecorder_03_20190704_16.49.45-16.56.42[R][@da37][0].avi', ' is already processed moving to next video')\n",
      "All of the videos have been processed...\n"
     ]
    },
    {
     "name": "stderr",
     "output_type": "stream",
     "text": [
      "\n"
     ]
    }
   ],
   "source": [
    "from generate_data_from_video import generate_videodata_from_videofiles\n",
    "\n",
    "annotations_df = pd.read_csv('eg_annotations.csv')\n",
    "# Since it's a small video with only 1370 frames - we'll run the whole thing! This could take a couple of minutes\n",
    "generate_videodata_from_videofiles(annotations_df)"
   ]
  },
  {
   "cell_type": "markdown",
   "metadata": {},
   "source": [
    "The step above should have given a .csv file with the following template : *videosync_file path here_.csv*. You will notice the 'timestamp_verified' columns is blank. This is because the effectiveness of the OCR can vary a lot. Copy the 'timestamp' column into timestamp_verified and correct the entries wherever they look weird. It may be useful especially to check along transition points ie. where the second changes or the date changes - sometimes the change in the numbers are not detected. \n",
    "\n",
    "This is also the point at which you can run *browse_through_video* and run through the videos keeping the interface on inspect video mode. For instance you might see a misread at frame 186 (indexing starts from 1 in the package!), and some others at 16:26:25. \n"
   ]
  },
  {
   "cell_type": "code",
   "execution_count": 6,
   "metadata": {},
   "outputs": [],
   "source": [
    "df = pd.read_csv('videosync_DVRecorder_03_20190704_16.49.45-16.56.42[R][@da37][0].avi_.csv')"
   ]
  },
  {
   "cell_type": "code",
   "execution_count": 8,
   "metadata": {},
   "outputs": [],
   "source": [
    "timestamps, counts = np.unique(df['timestamp'], return_counts=True)\n"
   ]
  },
  {
   "cell_type": "code",
   "execution_count": null,
   "metadata": {},
   "outputs": [],
   "source": [
    "%run ../browse_through_video.py -v './vlc-record_03_20190704_16-51-30to16-52[R][@da37][0].avi'"
   ]
  },
  {
   "cell_type": "code",
   "execution_count": 8,
   "metadata": {},
   "outputs": [],
   "source": [
    "df = pd.read_csv('videosync_DVRecorder_03_20190704_16.49.45-16.56.42[R][@da37][0].avi_.csv')"
   ]
  },
  {
   "cell_type": "code",
   "execution_count": 10,
   "metadata": {},
   "outputs": [
    {
     "data": {
      "text/plain": [
       "[<matplotlib.lines.Line2D at 0x7f2fac5a7b10>]"
      ]
     },
     "execution_count": 10,
     "metadata": {},
     "output_type": "execute_result"
    },
    {
     "data": {
      "image/png": "[encoded data removed]",
      "text/plain": [
       "<Figure size 432x288 with 1 Axes>"
      ]
     },
     "metadata": {
      "needs_background": "light"
     },
     "output_type": "display_data"
    }
   ],
   "source": [
    "plt.figure()\n",
    "plt.plot(df['led_intensity'])"
   ]
  },
  {
   "cell_type": "code",
   "execution_count": 5,
   "metadata": {},
   "outputs": [],
   "source": [
    "import numpy as np "
   ]
  },
  {
   "cell_type": "code",
   "execution_count": 9,
   "metadata": {},
   "outputs": [],
   "source": [
    "timestamps, numtimes = np.unique(df['timestamp_verified'], return_counts=True)"
   ]
  },
  {
   "cell_type": "code",
   "execution_count": 10,
   "metadata": {},
   "outputs": [
    {
     "data": {
      "text/plain": [
       "(array(['2019-07-04 16:49:43', '2019-07-04 16:49:44',\n",
       "        '2019-07-04 16:49:45', '2019-07-04 16:49:46',\n",
       "        '2019-07-04 16:49:47', '2019-07-04 16:49:48',\n",
       "        '2019-07-04 16:49:49', '2019-07-04 16:49:50',\n",
       "        '2019-07-04 16:49:51', '2019-07-04 16:49:52',\n",
       "        '2019-07-04 16:49:53', '2019-07-04 16:49:55',\n",
       "        '2019-07-04 16:49:56', '2019-07-04 16:49:57',\n",
       "        '2019-07-04 16:49:58', '2019-07-04 16:50:00',\n",
       "        '2019-07-04 16:50:01', '2019-07-04 16:50:02',\n",
       "        '2019-07-04 16:50:03', '2019-07-04 16:50:04',\n",
       "        '2019-07-04 16:50:05', '2019-07-04 16:50:06',\n",
       "        '2019-07-04 16:50:07', '2019-07-04 16:50:08',\n",
       "        '2019-07-04 16:50:09', '2019-07-04 16:50:10',\n",
       "        '2019-07-04 16:50:11', '2019-07-04 16:50:12',\n",
       "        '2019-07-04 16:50:13', '2019-07-04 16:50:14',\n",
       "        '2019-07-04 16:50:15', '2019-07-04 16:50:16',\n",
       "        '2019-07-04 16:50:17', '2019-07-04 16:50:18',\n",
       "        '2019-07-04 16:50:19', '2019-07-04 16:50:20',\n",
       "        '2019-07-04 16:50:21', '2019-07-04 16:50:22',\n",
       "        '2019-07-04 16:50:23', '2019-07-04 16:50:24',\n",
       "        '2019-07-04 16:50:25', '2019-07-04 16:50:26',\n",
       "        '2019-07-04 16:50:27', '2019-07-04 16:50:28',\n",
       "        '2019-07-04 16:50:29', '2019-07-04 16:50:30',\n",
       "        '2019-07-04 16:50:31', '2019-07-04 16:50:32',\n",
       "        '2019-07-04 16:50:33', '2019-07-04 16:50:34',\n",
       "        '2019-07-04 16:50:35', '2019-07-04 16:50:36',\n",
       "        '2019-07-04 16:50:37', '2019-07-04 16:50:38',\n",
       "        '2019-07-04 16:50:39', '2019-07-04 16:50:40',\n",
       "        '2019-07-04 16:50:41', '2019-07-04 16:50:42',\n",
       "        '2019-07-04 16:50:43', '2019-07-04 16:50:44',\n",
       "        '2019-07-04 16:50:45', '2019-07-04 16:50:46',\n",
       "        '2019-07-04 16:50:47', '2019-07-04 16:50:48',\n",
       "        '2019-07-04 16:50:49', '2019-07-04 16:50:50',\n",
       "        '2019-07-04 16:50:51', '2019-07-04 16:50:52',\n",
       "        '2019-07-04 16:50:53', '2019-07-04 16:50:54',\n",
       "        '2019-07-04 16:50:55', '2019-07-04 16:50:56',\n",
       "        '2019-07-04 16:50:57', '2019-07-04 16:50:58',\n",
       "        '2019-07-04 16:50:59', '2019-07-04 16:51:00',\n",
       "        '2019-07-04 16:51:01', '2019-07-04 16:51:02',\n",
       "        '2019-07-04 16:51:03', '2019-07-04 16:51:04',\n",
       "        '2019-07-04 16:51:05', '2019-07-04 16:51:06',\n",
       "        '2019-07-04 16:51:07', '2019-07-04 16:51:08',\n",
       "        '2019-07-04 16:51:09', '2019-07-04 16:51:10',\n",
       "        '2019-07-04 16:51:11', '2019-07-04 16:51:12',\n",
       "        '2019-07-04 16:51:13', '2019-07-04 16:51:14',\n",
       "        '2019-07-04 16:51:15', '2019-07-04 16:51:16',\n",
       "        '2019-07-04 16:51:17', '2019-07-04 16:51:18',\n",
       "        '2019-07-04 16:51:19', '2019-07-04 16:51:20',\n",
       "        '2019-07-04 16:51:21', '2019-07-04 16:51:22',\n",
       "        '2019-07-04 16:51:23', '2019-07-04 16:51:24',\n",
       "        '2019-07-04 16:51:25', '2019-07-04 16:51:26',\n",
       "        '2019-07-04 16:51:27', '2019-07-04 16:51:28',\n",
       "        '2019-07-04 16:51:29', '2019-07-04 16:51:30',\n",
       "        '2019-07-04 16:51:31', '2019-07-04 16:51:32',\n",
       "        '2019-07-04 16:51:33', '2019-07-04 16:51:34',\n",
       "        '2019-07-04 16:51:35', '2019-07-04 16:51:36',\n",
       "        '2019-07-04 16:51:37', '2019-07-04 16:51:38',\n",
       "        '2019-07-04 16:51:39', '2019-07-04 16:51:40',\n",
       "        '2019-07-04 16:51:41', '2019-07-04 16:51:42',\n",
       "        '2019-07-04 16:51:43', '2019-07-04 16:51:44',\n",
       "        '2019-07-04 16:51:45', '2019-07-04 16:51:46',\n",
       "        '2019-07-04 16:51:47', '2019-07-04 16:51:48',\n",
       "        '2019-07-04 16:51:49', '2019-07-04 16:51:50',\n",
       "        '2019-07-04 16:51:51', '2019-07-04 16:51:52',\n",
       "        '2019-07-04 16:51:53', '2019-07-04 16:51:54',\n",
       "        '2019-07-04 16:51:55', '2019-07-04 16:51:56',\n",
       "        '2019-07-04 16:51:57', '2019-07-04 16:51:58',\n",
       "        '2019-07-04 16:51:59', '2019-07-04 16:52:00',\n",
       "        '2019-07-04 16:52:01', '2019-07-04 16:52:02',\n",
       "        '2019-07-04 16:52:03', '2019-07-04 16:52:04',\n",
       "        '2019-07-04 16:52:05', '2019-07-04 16:52:06',\n",
       "        '2019-07-04 16:52:07', '2019-07-04 16:52:08',\n",
       "        '2019-07-04 16:52:09', '2019-07-04 16:52:10',\n",
       "        '2019-07-04 16:52:11', '2019-07-04 16:52:12',\n",
       "        '2019-07-04 16:52:13', '2019-07-04 16:52:14',\n",
       "        '2019-07-04 16:52:15', '2019-07-04 16:52:16',\n",
       "        '2019-07-04 16:52:17', '2019-07-04 16:52:18',\n",
       "        '2019-07-04 16:52:19', '2019-07-04 16:52:20',\n",
       "        '2019-07-04 16:52:21', '2019-07-04 16:52:22',\n",
       "        '2019-07-04 16:52:23', '2019-07-04 16:52:24',\n",
       "        '2019-07-04 16:52:25', '2019-07-04 16:52:26',\n",
       "        '2019-07-04 16:52:27', '2019-07-04 16:52:28',\n",
       "        '2019-07-04 16:52:29', '2019-07-04 16:52:30',\n",
       "        '2019-07-04 16:52:31', '2019-07-04 16:52:32',\n",
       "        '2019-07-04 16:52:33', '2019-07-04 16:52:34',\n",
       "        '2019-07-04 16:52:35', '2019-07-04 16:52:36',\n",
       "        '2019-07-04 16:52:37', '2019-07-04 16:52:38',\n",
       "        '2019-07-04 16:52:39', '2019-07-04 16:52:40',\n",
       "        '2019-07-04 16:52:41', '2019-07-04 16:52:42',\n",
       "        '2019-07-04 16:52:43', '2019-07-04 16:52:44',\n",
       "        '2019-07-04 16:52:45', '2019-07-04 16:52:46',\n",
       "        '2019-07-04 16:52:47', '2019-07-04 16:52:48',\n",
       "        '2019-07-04 16:52:49', '2019-07-04 16:52:50',\n",
       "        '2019-07-04 16:52:51', '2019-07-04 16:52:52',\n",
       "        '2019-07-04 16:52:53', '2019-07-04 16:52:54',\n",
       "        '2019-07-04 16:52:55', '2019-07-04 16:52:56',\n",
       "        '2019-07-04 16:52:57', '2019-07-04 16:52:58',\n",
       "        '2019-07-04 16:52:59', '2019-07-04 16:53:00',\n",
       "        '2019-07-04 16:53:01', '2019-07-04 16:53:02',\n",
       "        '2019-07-04 16:53:03', '2019-07-04 16:53:04',\n",
       "        '2019-07-04 16:53:05', '2019-07-04 16:53:06',\n",
       "        '2019-07-04 16:53:07', '2019-07-04 16:53:08',\n",
       "        '2019-07-04 16:53:09', '2019-07-04 16:53:10',\n",
       "        '2019-07-04 16:53:11', '2019-07-04 16:53:12',\n",
       "        '2019-07-04 16:53:13', '2019-07-04 16:53:14',\n",
       "        '2019-07-04 16:53:15', '2019-07-04 16:53:16',\n",
       "        '2019-07-04 16:53:17', '2019-07-04 16:53:18',\n",
       "        '2019-07-04 16:53:19', '2019-07-04 16:53:20',\n",
       "        '2019-07-04 16:53:21', '2019-07-04 16:53:22',\n",
       "        '2019-07-04 16:53:23', '2019-07-04 16:53:24',\n",
       "        '2019-07-04 16:53:25', '2019-07-04 16:53:26',\n",
       "        '2019-07-04 16:53:27', '2019-07-04 16:53:28',\n",
       "        '2019-07-04 16:53:29', '2019-07-04 16:53:30',\n",
       "        '2019-07-04 16:53:31', '2019-07-04 16:53:32',\n",
       "        '2019-07-04 16:53:33', '2019-07-04 16:53:34',\n",
       "        '2019-07-04 16:53:35', '2019-07-04 16:53:36',\n",
       "        '2019-07-04 16:53:37', '2019-07-04 16:53:38',\n",
       "        '2019-07-04 16:53:39', '2019-07-04 16:53:40',\n",
       "        '2019-07-04 16:53:41', '2019-07-04 16:53:42',\n",
       "        '2019-07-04 16:53:43', '2019-07-04 16:53:44',\n",
       "        '2019-07-04 16:53:45', '2019-07-04 16:53:46',\n",
       "        '2019-07-04 16:53:47', '2019-07-04 16:53:48',\n",
       "        '2019-07-04 16:53:49', '2019-07-04 16:53:50',\n",
       "        '2019-07-04 16:53:51', '2019-07-04 16:53:52',\n",
       "        '2019-07-04 16:53:53', '2019-07-04 16:53:54',\n",
       "        '2019-07-04 16:53:55', '2019-07-04 16:53:56',\n",
       "        '2019-07-04 16:53:57', '2019-07-04 16:53:58',\n",
       "        '2019-07-04 16:53:59', '2019-07-04 16:54:00',\n",
       "        '2019-07-04 16:54:01', '2019-07-04 16:54:02',\n",
       "        '2019-07-04 16:54:03', '2019-07-04 16:54:04',\n",
       "        '2019-07-04 16:54:05', '2019-07-04 16:54:06',\n",
       "        '2019-07-04 16:54:07', '2019-07-04 16:54:08',\n",
       "        '2019-07-04 16:54:09', '2019-07-04 16:54:10',\n",
       "        '2019-07-04 16:54:11', '2019-07-04 16:54:12',\n",
       "        '2019-07-04 16:54:13', '2019-07-04 16:54:14',\n",
       "        '2019-07-04 16:54:15', '2019-07-04 16:54:16',\n",
       "        '2019-07-04 16:54:17', '2019-07-04 16:54:18',\n",
       "        '2019-07-04 16:54:19', '2019-07-04 16:54:20',\n",
       "        '2019-07-04 16:54:21', '2019-07-04 16:54:22',\n",
       "        '2019-07-04 16:54:23', '2019-07-04 16:54:24',\n",
       "        '2019-07-04 16:54:25', '2019-07-04 16:54:26',\n",
       "        '2019-07-04 16:54:27', '2019-07-04 16:54:28',\n",
       "        '2019-07-04 16:54:29', '2019-07-04 16:54:30',\n",
       "        '2019-07-04 16:54:31', '2019-07-04 16:54:32',\n",
       "        '2019-07-04 16:54:33', '2019-07-04 16:54:34',\n",
       "        '2019-07-04 16:54:35', '2019-07-04 16:54:36',\n",
       "        '2019-07-04 16:54:37', '2019-07-04 16:54:38',\n",
       "        '2019-07-04 16:54:39', '2019-07-04 16:54:40',\n",
       "        '2019-07-04 16:54:41', '2019-07-04 16:54:42',\n",
       "        '2019-07-04 16:54:43', '2019-07-04 16:54:44',\n",
       "        '2019-07-04 16:54:45', '2019-07-04 16:54:46',\n",
       "        '2019-07-04 16:54:47', '2019-07-04 16:54:48',\n",
       "        '2019-07-04 16:54:49', '2019-07-04 16:54:50',\n",
       "        '2019-07-04 16:54:51', '2019-07-04 16:54:52',\n",
       "        '2019-07-04 16:54:53', '2019-07-04 16:54:54',\n",
       "        '2019-07-04 16:54:55', '2019-07-04 16:54:56',\n",
       "        '2019-07-04 16:54:57', '2019-07-04 16:54:58',\n",
       "        '2019-07-04 16:54:59', '2019-07-04 16:55:00',\n",
       "        '2019-07-04 16:55:01', '2019-07-04 16:55:02',\n",
       "        '2019-07-04 16:55:03', '2019-07-04 16:55:04',\n",
       "        '2019-07-04 16:55:05', '2019-07-04 16:55:06',\n",
       "        '2019-07-04 16:55:07', '2019-07-04 16:55:08',\n",
       "        '2019-07-04 16:55:09', '2019-07-04 16:55:10',\n",
       "        '2019-07-04 16:55:11', '2019-07-04 16:55:12',\n",
       "        '2019-07-04 16:55:13', '2019-07-04 16:55:14',\n",
       "        '2019-07-04 16:55:15', '2019-07-04 16:55:16',\n",
       "        '2019-07-04 16:55:17', '2019-07-04 16:55:18',\n",
       "        '2019-07-04 16:55:19', '2019-07-04 16:55:20',\n",
       "        '2019-07-04 16:55:21', '2019-07-04 16:55:22',\n",
       "        '2019-07-04 16:55:23', '2019-07-04 16:55:24',\n",
       "        '2019-07-04 16:55:25', '2019-07-04 16:55:26',\n",
       "        '2019-07-04 16:55:27', '2019-07-04 16:55:28',\n",
       "        '2019-07-04 16:55:29', '2019-07-04 16:55:30',\n",
       "        '2019-07-04 16:55:31', '2019-07-04 16:55:32',\n",
       "        '2019-07-04 16:55:33', '2019-07-04 16:55:34',\n",
       "        '2019-07-04 16:55:35', '2019-07-04 16:55:36',\n",
       "        '2019-07-04 16:55:37', '2019-07-04 16:55:38',\n",
       "        '2019-07-04 16:55:39', '2019-07-04 16:55:40',\n",
       "        '2019-07-04 16:55:41', '2019-07-04 16:55:42',\n",
       "        '2019-07-04 16:55:43', '2019-07-04 16:55:44',\n",
       "        '2019-07-04 16:55:45', '2019-07-04 16:55:46',\n",
       "        '2019-07-04 16:55:47', '2019-07-04 16:55:48',\n",
       "        '2019-07-04 16:55:49', '2019-07-04 16:55:50',\n",
       "        '2019-07-04 16:55:51', '2019-07-04 16:55:52',\n",
       "        '2019-07-04 16:55:53', '2019-07-04 16:55:54',\n",
       "        '2019-07-04 16:55:55', '2019-07-04 16:55:56',\n",
       "        '2019-07-04 16:55:57', '2019-07-04 16:55:58',\n",
       "        '2019-07-04 16:55:59', '2019-07-04 16:56:00',\n",
       "        '2019-07-04 16:56:01', '2019-07-04 16:56:02',\n",
       "        '2019-07-04 16:56:03', '2019-07-04 16:56:04',\n",
       "        '2019-07-04 16:56:05', '2019-07-04 16:56:06',\n",
       "        '2019-07-04 16:56:07', '2019-07-04 16:56:08',\n",
       "        '2019-07-04 16:56:09', '2019-07-04 16:56:10',\n",
       "        '2019-07-04 16:56:11', '2019-07-04 16:56:12',\n",
       "        '2019-07-04 16:56:13', '2019-07-04 16:56:14',\n",
       "        '2019-07-04 16:56:15', '2019-07-04 16:56:16',\n",
       "        '2019-07-04 16:56:17', '2019-07-04 16:56:18',\n",
       "        '2019-07-04 16:56:19', '2019-07-04 16:56:20',\n",
       "        '2019-07-04 16:56:21', '2019-07-04 16:56:22',\n",
       "        '2019-07-04 16:56:23', '2019-07-04 16:56:24',\n",
       "        '2019-07-04 16:56:25', '2019-07-04 16:56:26',\n",
       "        '2019-07-04 16:56:27', '2019-07-04 16:56:28',\n",
       "        '2019-07-04 16:56:29', '2019-07-04 16:56:30',\n",
       "        '2019-07-04 16:56:31', '2019-07-04 16:56:32',\n",
       "        '2019-07-04 16:56:33', '2019-07-04 16:56:34',\n",
       "        '2019-07-04 16:56:35', '2019-07-04 16:56:36',\n",
       "        '2019-07-04 16:56:37', '2019-07-04 16:56:38',\n",
       "        '2019-07-04 16:56:39', '2019-07-04 16:56:40',\n",
       "        '2019-07-04 16:56:41', '2019-07-04 16:56:42',\n",
       "        '2019-07-04 16:56:43', '2019-07-04 16:56:44',\n",
       "        '2019-07-04 16:56:45', '2019-07-04 16:56:46',\n",
       "        '2019-07-04 16:56:47', '2019-07-04 16:56:48',\n",
       "        '2019-07-04 16:56:49'], dtype=object),\n",
       " array([ 1, 22, 22, 22, 22, 22, 22, 21, 22, 23, 21, 16, 22, 22, 11, 23, 22,\n",
       "        22, 22, 22, 22, 22, 22, 22, 22, 22, 22, 22, 22, 22, 22, 22, 22, 22,\n",
       "        22, 22, 22, 26, 18, 22, 22, 22, 22, 22, 21, 23, 22, 22, 22, 22, 22,\n",
       "        22, 22, 22, 22, 22, 22, 22, 22, 21, 23, 22, 22, 22, 22, 22, 22, 26,\n",
       "        18, 22, 22, 22, 22, 22, 22, 22, 22, 22, 21, 23, 22, 22, 22, 22, 21,\n",
       "        23, 21, 23, 22, 22, 22, 22, 21, 23, 22, 22, 22, 26, 18, 22, 22, 22,\n",
       "        21, 23, 22, 22, 21, 23, 22, 22, 21, 23, 21, 23, 22, 22, 21, 23, 22,\n",
       "        22, 22, 22, 22, 22, 22, 22, 22, 22, 22, 22, 22, 22, 22, 22, 22, 22,\n",
       "        22, 22, 22, 22, 22, 22, 22, 22, 22, 22, 22, 22, 22, 22, 22, 22, 22,\n",
       "        22, 22, 22, 22, 22, 22, 22, 22, 22, 22, 22, 22, 22, 22, 22, 22, 22,\n",
       "        22, 22, 22, 22, 22, 22, 22, 22, 22, 22, 22, 22, 22, 22, 22, 22, 22,\n",
       "        22, 22, 22, 22, 22, 22, 22, 22, 22, 22, 22, 22, 22, 22, 22, 22, 22,\n",
       "        22, 22, 22, 22, 22, 22, 22, 22, 22, 22, 22, 22, 22, 22, 22, 22, 22,\n",
       "        22, 21, 23, 22, 23, 21, 22, 22, 22, 22, 22, 22, 22, 22, 22, 22, 23,\n",
       "        21, 22, 22, 22, 22, 22, 22, 22, 22, 22, 22, 22, 22, 22, 22, 22, 22,\n",
       "        22, 22, 22, 22, 22, 22, 22, 22, 22, 22, 23, 21, 22, 22, 22, 22, 22,\n",
       "        22, 22, 22, 22, 22, 22, 22, 22, 22, 22, 22, 22, 22, 22, 22, 22, 22,\n",
       "        22, 22, 22, 22, 22, 22, 22, 22, 22, 22, 22, 22, 22, 22, 22, 22, 22,\n",
       "        22, 22, 22, 22, 22, 22, 22, 22, 22, 22, 22, 22, 22, 22, 22, 22, 22,\n",
       "        22, 22, 22, 22, 22, 22, 22, 22, 22, 22, 22, 22, 22, 22, 22, 22, 22,\n",
       "        22, 22, 22, 22, 22, 22, 22, 22, 22, 22, 22, 22, 22, 22, 22, 22, 22,\n",
       "        22, 22, 22, 22, 22, 22, 22, 22, 22, 22, 22, 22, 22, 22, 22, 22, 22,\n",
       "        22, 22, 22, 22, 22, 22, 22, 22, 22, 22, 22, 22, 22, 22, 22, 22, 22,\n",
       "        22, 22, 22, 22, 22, 22, 22, 22, 22, 22, 22, 22, 22, 22, 22, 22, 22,\n",
       "        22, 22, 22, 22, 22, 22, 22, 22, 22, 22, 22, 22, 22, 22, 22, 22, 17]))"
      ]
     },
     "execution_count": 10,
     "metadata": {},
     "output_type": "execute_result"
    }
   ],
   "source": [
    "timestamps, numtimes"
   ]
  },
  {
   "cell_type": "markdown",
   "metadata": {},
   "source": [
    "### Resampling the led signal and checking for dropped frames :\n",
    "The *videosync* file is raw data. Depending on your camera+DVR system there could be dropped frames or the framerate may vary over time. These issues need to be detected and corrected for at the level of each annotation. \n",
    "\n",
    "The output of this step is a series of *commonfps* files."
   ]
  },
  {
   "cell_type": "code",
   "execution_count": 4,
   "metadata": {},
   "outputs": [
    {
     "name": "stderr",
     "output_type": "stream",
     "text": [
      "/home/tbeleyur/anaconda2/envs/horseshoebat/lib/python2.7/site-packages/scipy/signal/signaltools.py:2223: FutureWarning: Using a non-tuple sequence for multidimensional indexing is deprecated; use `arr[tuple(seq)]` instead of `arr[seq]`. In the future this will be interpreted as an array index, `arr[np.array(seq)]`, which will result either in an error or a different result.\n",
      "  Y[sl] = X[sl]\n",
      "/home/tbeleyur/anaconda2/envs/horseshoebat/lib/python2.7/site-packages/scipy/signal/signaltools.py:2225: FutureWarning: Using a non-tuple sequence for multidimensional indexing is deprecated; use `arr[tuple(seq)]` instead of `arr[seq]`. In the future this will be interpreted as an array index, `arr[np.array(seq)]`, which will result either in an error or a different result.\n",
      "  Y[sl] = X[sl]\n",
      "/home/tbeleyur/anaconda2/envs/horseshoebat/lib/python2.7/site-packages/scipy/signal/signaltools.py:2233: FutureWarning: Using a non-tuple sequence for multidimensional indexing is deprecated; use `arr[tuple(seq)]` instead of `arr[seq]`. In the future this will be interpreted as an array index, `arr[np.array(seq)]`, which will result either in an error or a different result.\n",
      "  Y[sl] /= 2  # halve the component at -N/2\n",
      "/home/tbeleyur/anaconda2/envs/horseshoebat/lib/python2.7/site-packages/scipy/signal/signaltools.py:2234: FutureWarning: Using a non-tuple sequence for multidimensional indexing is deprecated; use `arr[tuple(seq)]` instead of `arr[seq]`. In the future this will be interpreted as an array index, `arr[np.array(seq)]`, which will result either in an error or a different result.\n",
      "  temp = Y[sl]\n",
      "/home/tbeleyur/anaconda2/envs/horseshoebat/lib/python2.7/site-packages/scipy/signal/signaltools.py:2236: FutureWarning: Using a non-tuple sequence for multidimensional indexing is deprecated; use `arr[tuple(seq)]` instead of `arr[seq]`. In the future this will be interpreted as an array index, `arr[np.array(seq)]`, which will result either in an error or a different result.\n",
      "  Y[sl] = temp  # set that equal to the component at -N/2\n"
     ]
    },
    {
     "name": "stdout",
     "output_type": "stream",
     "text": [
      "SAVED IT ALL!!!202\n",
      "SAVED IT ALL!!!555\n",
      "0    True\n",
      "1    True\n",
      "dtype: bool\n"
     ]
    }
   ],
   "source": [
    "from process_video_annotations import video_sync_over_annotation_block\n",
    "\n",
    "annotations = pd.read_csv('eg_annotations.csv')\n",
    "whole_video_data = pd.read_csv('videosync_DVRecorder_03_20190704_16.49.45-16.56.42[R][@da37][0].avi_.csv')\n",
    "\n",
    "kwargs = {'timestamp_pattern': '%Y-%m-%d %H:%M:%S'}\n",
    "kwargs['min_fps']= 20 # Hz\n",
    "kwargs['min_durn'] = 20.0 # seconds \n",
    "kwargs['common_fps'] = 25 # Hz\n",
    "\n",
    "success = annotations.apply(video_sync_over_annotation_block,1, video_sync_data=whole_video_data , \n",
    "                                 **kwargs)\n",
    "print(success)\n"
   ]
  },
  {
   "cell_type": "code",
   "execution_count": 9,
   "metadata": {},
   "outputs": [
    {
     "name": "stdout",
     "output_type": "stream",
     "text": [
      "./common_fps_video_sync202.csv\n",
      "('video_fps obtained is :', 25)\n",
      "videosync_size\n",
      "Did not find user-provided sample rate - getting it from first file that matches format!\n",
      "('sampling rate is : ', 500000)\n"
     ]
    },
    {
     "name": "stderr",
     "output_type": "stream",
     "text": [
      "\r",
      "  0%|          | 0/1 [00:00<?, ?it/s]"
     ]
    },
    {
     "name": "stdout",
     "output_type": "stream",
     "text": [
      "('first two chunks', ['to45sec_non_spikey_T2019-07-04_16-51-30_0000007.wav_0', 'to45sec_non_spikey_T2019-07-04_16-51-30_0000007.wav_1'])\n",
      "Searching for best double chunk...\n"
     ]
    },
    {
     "name": "stderr",
     "output_type": "stream",
     "text": [
      "100%|██████████| 1/1 [00:04<00:00,  4.98s/it]\n"
     ]
    },
    {
     "name": "stdout",
     "output_type": "stream",
     "text": [
      "Best doublechunk segment is:to45sec_non_spikey_T2019-07-04_16-51-30_0000007.wav_0^to45sec_non_spikey_T2019-07-04_16-51-30_0000007.wav_1\n",
      "\n",
      " Starting refined search within best doublechunk segment...\n",
      "Done with refined search - best matching audio returned\n",
      "('correlation coefficient is: ', array([[ 1.        , -0.13324243],\n",
      "       [-0.13324243,  1.        ]]))\n",
      "./common_fps_video_sync555.csv\n",
      "('video_fps obtained is :', 25)\n",
      "videosync_size\n",
      "Did not find user-provided sample rate - getting it from first file that matches format!\n",
      "('sampling rate is : ', 500000)\n"
     ]
    },
    {
     "name": "stderr",
     "output_type": "stream",
     "text": [
      "\r",
      "  0%|          | 0/1 [00:00<?, ?it/s]"
     ]
    },
    {
     "name": "stdout",
     "output_type": "stream",
     "text": [
      "('first two chunks', ['to45sec_non_spikey_T2019-07-04_16-51-30_0000007.wav_0', 'to45sec_non_spikey_T2019-07-04_16-51-30_0000007.wav_1'])\n",
      "Searching for best double chunk...\n"
     ]
    },
    {
     "name": "stderr",
     "output_type": "stream",
     "text": [
      "100%|██████████| 1/1 [00:03<00:00,  3.46s/it]\n"
     ]
    },
    {
     "name": "stdout",
     "output_type": "stream",
     "text": [
      "Best doublechunk segment is:to45sec_non_spikey_T2019-07-04_16-51-30_0000007.wav_0^to45sec_non_spikey_T2019-07-04_16-51-30_0000007.wav_1\n",
      "\n",
      " Starting refined search within best doublechunk segment...\n",
      "Done with refined search - best matching audio returned\n",
      "('correlation coefficient is: ', array([[1.        , 0.85273393],\n",
      "       [0.85273393, 1.        ]]))\n"
     ]
    }
   ],
   "source": [
    "### Finding the matching audio snippet !! \n",
    "import glob \n",
    "import soundfile as sf\n",
    "from audio_for_videoannotation import match_video_sync_to_audio\n",
    "\n",
    "#all_commonfps = glob.glob('common_fps_video_sync*') # get all the relevant common_fps_sync files\n",
    "all_commonfps = glob.glob('./common_fps*')\n",
    "audio_folder = 'audio/' # the current folder\n",
    "fs = 500000\n",
    "# generate the \n",
    "for somenumber, each_commonfps in enumerate(sorted(all_commonfps)):\n",
    "    print(each_commonfps)\n",
    "    video_sync = pd.read_csv(each_commonfps)\n",
    "    best_audio = match_video_sync_to_audio(video_sync, audio_folder, audio_fileformat='*.wav',\n",
    "                                           audio_sync_spikey=False)\n",
    "                                                                 \n",
    "    sf.write('./matching_sync_'+str(somenumber)+'.WAV', best_audio,fs)\n",
    "    print('correlation coefficient is: ', np.corrcoef(best_audio[:,-1],best_audio[:,-2]))"
   ]
  },
  {
   "cell_type": "code",
   "execution_count": 8,
   "metadata": {},
   "outputs": [
    {
     "data": {
      "text/plain": [
       "array([[1.        , 0.85273393],\n",
       "       [0.85273393, 1.        ]])"
      ]
     },
     "execution_count": 8,
     "metadata": {},
     "output_type": "execute_result"
    }
   ],
   "source": []
  },
  {
   "cell_type": "code",
   "execution_count": null,
   "metadata": {},
   "outputs": [],
   "source": []
  }
 ],
 "metadata": {
  "anaconda-cloud": {},
  "kernelspec": {
   "display_name": "horseshoebat",
   "language": "python",
   "name": "horseshoebat"
  },
  "language_info": {
   "codemirror_mode": {
    "name": "ipython",
    "version": 2
   },
   "file_extension": ".py",
   "mimetype": "text/x-python",
   "name": "python",
   "nbconvert_exporter": "python",
   "pygments_lexer": "ipython2",
   "version": "2.7.15"
  }
 },
 "nbformat": 4,
 "nbformat_minor": 2
}
