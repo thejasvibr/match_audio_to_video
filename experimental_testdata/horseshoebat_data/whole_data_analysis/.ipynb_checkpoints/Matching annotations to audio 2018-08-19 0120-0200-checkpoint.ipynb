{
 "cells": [
  {
   "cell_type": "markdown",
   "metadata": {},
   "source": [
    "#### Author: Thejasvi Beleyur\n",
    "#### Last updated: 29-02-2020\n",
    "\n",
    "This notebook will detail all the steps required to get matching audio snippets for the annotations of bat flights made for 2018-08-19 between 01:20-02:00 hours. \n",
    "This notebook is a copy of 'Matching annotations to audio 2018-08-19 0200-0210'. \n",
    "\n",
    "### Steps carried out before hand:\n",
    "1. Generating the video sync for the video file *OrlovaChukaDome_01_20180819_01.20.50-02.00.00[R]....avi* with frame-wise light intensities and time stamps\n",
    "\n",
    "2. Video annotations of the horseshoebats flying done by  Aditya Kanjoor. \n"
   ]
  },
  {
   "cell_type": "code",
   "execution_count": 1,
   "metadata": {},
   "outputs": [],
   "source": [
    "import matplotlib.pyplot as plt\n",
    "import pandas as pd \n",
    "from tqdm import tqdm\n",
    "\n",
    "package_folder = '../../../bin/'\n",
    "import os\n",
    "import sys \n",
    "sys.path.append(package_folder) # include the modules in the outer folder in the search path\n",
    "from process_video_annotations import video_sync_over_annotation_block\n",
    "\n"
   ]
  },
  {
   "cell_type": "code",
   "execution_count": 2,
   "metadata": {},
   "outputs": [],
   "source": [
    "%matplotlib notebook"
   ]
  },
  {
   "cell_type": "code",
   "execution_count": 3,
   "metadata": {},
   "outputs": [],
   "source": [
    "# loading the annotations\n",
    "annotations = pd.read_csv('annotations/corrected_HBC_video_annotations_Aditya/2018-08-19_0120-0200_Aditya_corrected.csv')"
   ]
  },
  {
   "cell_type": "code",
   "execution_count": 4,
   "metadata": {
    "scrolled": false
   },
   "outputs": [
    {
     "data": {
      "text/html": [
       "<div>\n",
       "<style scoped>\n",
       "    .dataframe tbody tr th:only-of-type {\n",
       "        vertical-align: middle;\n",
       "    }\n",
       "\n",
       "    .dataframe tbody tr th {\n",
       "        vertical-align: top;\n",
       "    }\n",
       "\n",
       "    .dataframe thead th {\n",
       "        text-align: right;\n",
       "    }\n",
       "</style>\n",
       "<table border=\"1\" class=\"dataframe\">\n",
       "  <thead>\n",
       "    <tr style=\"text-align: right;\">\n",
       "      <th></th>\n",
       "      <th>video_path</th>\n",
       "      <th>annotation_id</th>\n",
       "      <th>Sampling minute</th>\n",
       "      <th>timestamp from camera</th>\n",
       "      <th>start_timestamp</th>\n",
       "      <th>start_framenumber</th>\n",
       "      <th>end_timestamp</th>\n",
       "      <th>end_framenumber</th>\n",
       "      <th>no. of flying bats</th>\n",
       "      <th>bat behaviour</th>\n",
       "      <th>strength (1 - strong, 0-weak)</th>\n",
       "      <th>weak in (Behaviour Be, Number Bn)</th>\n",
       "      <th>Comments</th>\n",
       "      <th>Details on the comment</th>\n",
       "      <th>annotator</th>\n",
       "    </tr>\n",
       "  </thead>\n",
       "  <tbody>\n",
       "    <tr>\n",
       "      <th>0</th>\n",
       "      <td>OrlovaChukaDome_02_20180819_01.20.50-02.00.00[...</td>\n",
       "      <td>Aditya_2018-08-19_0120-0200_1</td>\n",
       "      <td>22</td>\n",
       "      <td>2</td>\n",
       "      <td>2018-08-19 01:22:10</td>\n",
       "      <td>19</td>\n",
       "      <td>2018-08-19 01:22:11</td>\n",
       "      <td>17</td>\n",
       "      <td>1.0</td>\n",
       "      <td>NaN</td>\n",
       "      <td>1.0</td>\n",
       "      <td>NaN</td>\n",
       "      <td>NaN</td>\n",
       "      <td>NaN</td>\n",
       "      <td>Aditya</td>\n",
       "    </tr>\n",
       "    <tr>\n",
       "      <th>1</th>\n",
       "      <td>OrlovaChukaDome_02_20180819_01.20.50-02.00.00[...</td>\n",
       "      <td>Aditya_2018-08-19_0120-0200_2</td>\n",
       "      <td>22</td>\n",
       "      <td>2</td>\n",
       "      <td>2018-08-19 01:22:43</td>\n",
       "      <td>2</td>\n",
       "      <td>2018-08-19 01:22:43</td>\n",
       "      <td>10</td>\n",
       "      <td>1.0</td>\n",
       "      <td>NaN</td>\n",
       "      <td>1.0</td>\n",
       "      <td>NaN</td>\n",
       "      <td>NaN</td>\n",
       "      <td>NaN</td>\n",
       "      <td>Aditya</td>\n",
       "    </tr>\n",
       "    <tr>\n",
       "      <th>2</th>\n",
       "      <td>OrlovaChukaDome_02_20180819_01.20.50-02.00.00[...</td>\n",
       "      <td>Aditya_2018-08-19_0120-0200_3</td>\n",
       "      <td>22</td>\n",
       "      <td>2</td>\n",
       "      <td>2018-08-19 01:22:43</td>\n",
       "      <td>17</td>\n",
       "      <td>2018-08-19 01:22:44</td>\n",
       "      <td>12</td>\n",
       "      <td>2.0</td>\n",
       "      <td>T</td>\n",
       "      <td>1.0</td>\n",
       "      <td>NaN</td>\n",
       "      <td>Both of them go inside the roost</td>\n",
       "      <td>NaN</td>\n",
       "      <td>Aditya</td>\n",
       "    </tr>\n",
       "    <tr>\n",
       "      <th>3</th>\n",
       "      <td>OrlovaChukaDome_02_20180819_01.20.50-02.00.00[...</td>\n",
       "      <td>Aditya_2018-08-19_0120-0200_4</td>\n",
       "      <td>22</td>\n",
       "      <td>2</td>\n",
       "      <td>2018-08-19 01:22:46</td>\n",
       "      <td>1</td>\n",
       "      <td>2018-08-19 01:22:47</td>\n",
       "      <td>1</td>\n",
       "      <td>1.0</td>\n",
       "      <td>NaN</td>\n",
       "      <td>1.0</td>\n",
       "      <td>NaN</td>\n",
       "      <td>NaN</td>\n",
       "      <td>NaN</td>\n",
       "      <td>Aditya</td>\n",
       "    </tr>\n",
       "    <tr>\n",
       "      <th>4</th>\n",
       "      <td>OrlovaChukaDome_02_20180819_01.20.50-02.00.00[...</td>\n",
       "      <td>Aditya_2018-08-19_0120-0200_5</td>\n",
       "      <td>23</td>\n",
       "      <td>2</td>\n",
       "      <td>2018-08-19 01:23:38</td>\n",
       "      <td>10</td>\n",
       "      <td>2018-08-19 01:23:40</td>\n",
       "      <td>4</td>\n",
       "      <td>1.0</td>\n",
       "      <td>NaN</td>\n",
       "      <td>1.0</td>\n",
       "      <td>NaN</td>\n",
       "      <td>NaN</td>\n",
       "      <td>NaN</td>\n",
       "      <td>Aditya</td>\n",
       "    </tr>\n",
       "  </tbody>\n",
       "</table>\n",
       "</div>"
      ],
      "text/plain": [
       "                                          video_path  \\\n",
       "0  OrlovaChukaDome_02_20180819_01.20.50-02.00.00[...   \n",
       "1  OrlovaChukaDome_02_20180819_01.20.50-02.00.00[...   \n",
       "2  OrlovaChukaDome_02_20180819_01.20.50-02.00.00[...   \n",
       "3  OrlovaChukaDome_02_20180819_01.20.50-02.00.00[...   \n",
       "4  OrlovaChukaDome_02_20180819_01.20.50-02.00.00[...   \n",
       "\n",
       "                   annotation_id  Sampling minute  timestamp from camera  \\\n",
       "0  Aditya_2018-08-19_0120-0200_1               22                      2   \n",
       "1  Aditya_2018-08-19_0120-0200_2               22                      2   \n",
       "2  Aditya_2018-08-19_0120-0200_3               22                      2   \n",
       "3  Aditya_2018-08-19_0120-0200_4               22                      2   \n",
       "4  Aditya_2018-08-19_0120-0200_5               23                      2   \n",
       "\n",
       "       start_timestamp  start_framenumber        end_timestamp  \\\n",
       "0  2018-08-19 01:22:10                 19  2018-08-19 01:22:11   \n",
       "1  2018-08-19 01:22:43                  2  2018-08-19 01:22:43   \n",
       "2  2018-08-19 01:22:43                 17  2018-08-19 01:22:44   \n",
       "3  2018-08-19 01:22:46                  1  2018-08-19 01:22:47   \n",
       "4  2018-08-19 01:23:38                 10  2018-08-19 01:23:40   \n",
       "\n",
       "   end_framenumber  no. of flying bats bat behaviour  \\\n",
       "0               17                 1.0           NaN   \n",
       "1               10                 1.0           NaN   \n",
       "2               12                 2.0             T   \n",
       "3                1                 1.0           NaN   \n",
       "4                4                 1.0           NaN   \n",
       "\n",
       "   strength (1 - strong, 0-weak) weak in (Behaviour Be, Number Bn)  \\\n",
       "0                            1.0                               NaN   \n",
       "1                            1.0                               NaN   \n",
       "2                            1.0                               NaN   \n",
       "3                            1.0                               NaN   \n",
       "4                            1.0                               NaN   \n",
       "\n",
       "                           Comments  Details on the comment annotator  \n",
       "0                               NaN                     NaN    Aditya  \n",
       "1                               NaN                     NaN    Aditya  \n",
       "2  Both of them go inside the roost                     NaN    Aditya  \n",
       "3                               NaN                     NaN    Aditya  \n",
       "4                               NaN                     NaN    Aditya  "
      ]
     },
     "execution_count": 4,
     "metadata": {},
     "output_type": "execute_result"
    }
   ],
   "source": [
    "annotations.head()"
   ]
  },
  {
   "cell_type": "code",
   "execution_count": 7,
   "metadata": {},
   "outputs": [
    {
     "data": {
      "text/plain": [
       "(131, 15)"
      ]
     },
     "execution_count": 7,
     "metadata": {},
     "output_type": "execute_result"
    }
   ],
   "source": [
    "annotations.shape"
   ]
  },
  {
   "cell_type": "code",
   "execution_count": 8,
   "metadata": {},
   "outputs": [],
   "source": [
    "annots_w_bats = annotations[annotations['no. of flying bats']>0].reset_index(drop=True)"
   ]
  },
  {
   "cell_type": "code",
   "execution_count": 9,
   "metadata": {},
   "outputs": [
    {
     "data": {
      "text/plain": [
       "(131, 15)"
      ]
     },
     "execution_count": 9,
     "metadata": {},
     "output_type": "execute_result"
    }
   ],
   "source": [
    "annotations.shape"
   ]
  },
  {
   "cell_type": "code",
   "execution_count": 10,
   "metadata": {},
   "outputs": [
    {
     "data": {
      "text/plain": [
       "(130, 15)"
      ]
     },
     "execution_count": 10,
     "metadata": {},
     "output_type": "execute_result"
    }
   ],
   "source": [
    "annots_w_bats.shape"
   ]
  },
  {
   "cell_type": "code",
   "execution_count": 11,
   "metadata": {},
   "outputs": [
    {
     "data": {
      "text/html": [
       "<div>\n",
       "<style scoped>\n",
       "    .dataframe tbody tr th:only-of-type {\n",
       "        vertical-align: middle;\n",
       "    }\n",
       "\n",
       "    .dataframe tbody tr th {\n",
       "        vertical-align: top;\n",
       "    }\n",
       "\n",
       "    .dataframe thead th {\n",
       "        text-align: right;\n",
       "    }\n",
       "</style>\n",
       "<table border=\"1\" class=\"dataframe\">\n",
       "  <thead>\n",
       "    <tr style=\"text-align: right;\">\n",
       "      <th></th>\n",
       "      <th>video_path</th>\n",
       "      <th>annotation_id</th>\n",
       "      <th>Sampling minute</th>\n",
       "      <th>timestamp from camera</th>\n",
       "      <th>start_timestamp</th>\n",
       "      <th>start_framenumber</th>\n",
       "      <th>end_timestamp</th>\n",
       "      <th>end_framenumber</th>\n",
       "      <th>no. of flying bats</th>\n",
       "      <th>bat behaviour</th>\n",
       "      <th>strength (1 - strong, 0-weak)</th>\n",
       "      <th>weak in (Behaviour Be, Number Bn)</th>\n",
       "      <th>Comments</th>\n",
       "      <th>Details on the comment</th>\n",
       "      <th>annotator</th>\n",
       "    </tr>\n",
       "  </thead>\n",
       "  <tbody>\n",
       "    <tr>\n",
       "      <th>0</th>\n",
       "      <td>OrlovaChukaDome_02_20180819_01.20.50-02.00.00[...</td>\n",
       "      <td>Aditya_2018-08-19_0120-0200_1</td>\n",
       "      <td>22</td>\n",
       "      <td>2</td>\n",
       "      <td>2018-08-19 01:22:10</td>\n",
       "      <td>19</td>\n",
       "      <td>2018-08-19 01:22:11</td>\n",
       "      <td>17</td>\n",
       "      <td>1.0</td>\n",
       "      <td>NaN</td>\n",
       "      <td>1.0</td>\n",
       "      <td>NaN</td>\n",
       "      <td>NaN</td>\n",
       "      <td>NaN</td>\n",
       "      <td>Aditya</td>\n",
       "    </tr>\n",
       "    <tr>\n",
       "      <th>1</th>\n",
       "      <td>OrlovaChukaDome_02_20180819_01.20.50-02.00.00[...</td>\n",
       "      <td>Aditya_2018-08-19_0120-0200_2</td>\n",
       "      <td>22</td>\n",
       "      <td>2</td>\n",
       "      <td>2018-08-19 01:22:43</td>\n",
       "      <td>2</td>\n",
       "      <td>2018-08-19 01:22:43</td>\n",
       "      <td>10</td>\n",
       "      <td>1.0</td>\n",
       "      <td>NaN</td>\n",
       "      <td>1.0</td>\n",
       "      <td>NaN</td>\n",
       "      <td>NaN</td>\n",
       "      <td>NaN</td>\n",
       "      <td>Aditya</td>\n",
       "    </tr>\n",
       "    <tr>\n",
       "      <th>2</th>\n",
       "      <td>OrlovaChukaDome_02_20180819_01.20.50-02.00.00[...</td>\n",
       "      <td>Aditya_2018-08-19_0120-0200_3</td>\n",
       "      <td>22</td>\n",
       "      <td>2</td>\n",
       "      <td>2018-08-19 01:22:43</td>\n",
       "      <td>17</td>\n",
       "      <td>2018-08-19 01:22:44</td>\n",
       "      <td>12</td>\n",
       "      <td>2.0</td>\n",
       "      <td>T</td>\n",
       "      <td>1.0</td>\n",
       "      <td>NaN</td>\n",
       "      <td>Both of them go inside the roost</td>\n",
       "      <td>NaN</td>\n",
       "      <td>Aditya</td>\n",
       "    </tr>\n",
       "    <tr>\n",
       "      <th>3</th>\n",
       "      <td>OrlovaChukaDome_02_20180819_01.20.50-02.00.00[...</td>\n",
       "      <td>Aditya_2018-08-19_0120-0200_4</td>\n",
       "      <td>22</td>\n",
       "      <td>2</td>\n",
       "      <td>2018-08-19 01:22:46</td>\n",
       "      <td>1</td>\n",
       "      <td>2018-08-19 01:22:47</td>\n",
       "      <td>1</td>\n",
       "      <td>1.0</td>\n",
       "      <td>NaN</td>\n",
       "      <td>1.0</td>\n",
       "      <td>NaN</td>\n",
       "      <td>NaN</td>\n",
       "      <td>NaN</td>\n",
       "      <td>Aditya</td>\n",
       "    </tr>\n",
       "    <tr>\n",
       "      <th>4</th>\n",
       "      <td>OrlovaChukaDome_02_20180819_01.20.50-02.00.00[...</td>\n",
       "      <td>Aditya_2018-08-19_0120-0200_5</td>\n",
       "      <td>23</td>\n",
       "      <td>2</td>\n",
       "      <td>2018-08-19 01:23:38</td>\n",
       "      <td>10</td>\n",
       "      <td>2018-08-19 01:23:40</td>\n",
       "      <td>4</td>\n",
       "      <td>1.0</td>\n",
       "      <td>NaN</td>\n",
       "      <td>1.0</td>\n",
       "      <td>NaN</td>\n",
       "      <td>NaN</td>\n",
       "      <td>NaN</td>\n",
       "      <td>Aditya</td>\n",
       "    </tr>\n",
       "  </tbody>\n",
       "</table>\n",
       "</div>"
      ],
      "text/plain": [
       "                                          video_path  \\\n",
       "0  OrlovaChukaDome_02_20180819_01.20.50-02.00.00[...   \n",
       "1  OrlovaChukaDome_02_20180819_01.20.50-02.00.00[...   \n",
       "2  OrlovaChukaDome_02_20180819_01.20.50-02.00.00[...   \n",
       "3  OrlovaChukaDome_02_20180819_01.20.50-02.00.00[...   \n",
       "4  OrlovaChukaDome_02_20180819_01.20.50-02.00.00[...   \n",
       "\n",
       "                   annotation_id  Sampling minute  timestamp from camera  \\\n",
       "0  Aditya_2018-08-19_0120-0200_1               22                      2   \n",
       "1  Aditya_2018-08-19_0120-0200_2               22                      2   \n",
       "2  Aditya_2018-08-19_0120-0200_3               22                      2   \n",
       "3  Aditya_2018-08-19_0120-0200_4               22                      2   \n",
       "4  Aditya_2018-08-19_0120-0200_5               23                      2   \n",
       "\n",
       "       start_timestamp  start_framenumber        end_timestamp  \\\n",
       "0  2018-08-19 01:22:10                 19  2018-08-19 01:22:11   \n",
       "1  2018-08-19 01:22:43                  2  2018-08-19 01:22:43   \n",
       "2  2018-08-19 01:22:43                 17  2018-08-19 01:22:44   \n",
       "3  2018-08-19 01:22:46                  1  2018-08-19 01:22:47   \n",
       "4  2018-08-19 01:23:38                 10  2018-08-19 01:23:40   \n",
       "\n",
       "   end_framenumber  no. of flying bats bat behaviour  \\\n",
       "0               17                 1.0           NaN   \n",
       "1               10                 1.0           NaN   \n",
       "2               12                 2.0             T   \n",
       "3                1                 1.0           NaN   \n",
       "4                4                 1.0           NaN   \n",
       "\n",
       "   strength (1 - strong, 0-weak) weak in (Behaviour Be, Number Bn)  \\\n",
       "0                            1.0                               NaN   \n",
       "1                            1.0                               NaN   \n",
       "2                            1.0                               NaN   \n",
       "3                            1.0                               NaN   \n",
       "4                            1.0                               NaN   \n",
       "\n",
       "                           Comments  Details on the comment annotator  \n",
       "0                               NaN                     NaN    Aditya  \n",
       "1                               NaN                     NaN    Aditya  \n",
       "2  Both of them go inside the roost                     NaN    Aditya  \n",
       "3                               NaN                     NaN    Aditya  \n",
       "4                               NaN                     NaN    Aditya  "
      ]
     },
     "execution_count": 11,
     "metadata": {},
     "output_type": "execute_result"
    }
   ],
   "source": [
    "annots_w_bats.head()"
   ]
  },
  {
   "cell_type": "markdown",
   "metadata": {},
   "source": [
    "### Carrying out the common-fps conversion:\n"
   ]
  },
  {
   "cell_type": "code",
   "execution_count": 14,
   "metadata": {},
   "outputs": [],
   "source": [
    "# load the video sync file with corrected timestamps\n",
    "video_sync_file = 'videosync_OrlovaChukaDome_01_20180819_01.20.50-02.00.00[R][@3293][2].avi_w_suggestions_[timestamp_corrected]_[signal_checked].csv'\n",
    "path_to_videosync = os.path.join('raw_sync',\n",
    "                                 video_sync_file)\n",
    "video_sync = pd.read_csv(path_to_videosync)"
   ]
  },
  {
   "cell_type": "code",
   "execution_count": 15,
   "metadata": {},
   "outputs": [
    {
     "data": {
      "text/html": [
       "<div>\n",
       "<style scoped>\n",
       "    .dataframe tbody tr th:only-of-type {\n",
       "        vertical-align: middle;\n",
       "    }\n",
       "\n",
       "    .dataframe tbody tr th {\n",
       "        vertical-align: top;\n",
       "    }\n",
       "\n",
       "    .dataframe thead th {\n",
       "        text-align: right;\n",
       "    }\n",
       "</style>\n",
       "<table border=\"1\" class=\"dataframe\">\n",
       "  <thead>\n",
       "    <tr style=\"text-align: right;\">\n",
       "      <th></th>\n",
       "      <th>Unnamed: 0</th>\n",
       "      <th>Unnamed: 0.1</th>\n",
       "      <th>frame_number</th>\n",
       "      <th>led_intensity</th>\n",
       "      <th>timestamp</th>\n",
       "      <th>timestamp_verified</th>\n",
       "      <th>user_suggestion</th>\n",
       "    </tr>\n",
       "  </thead>\n",
       "  <tbody>\n",
       "    <tr>\n",
       "      <th>0</th>\n",
       "      <td>0</td>\n",
       "      <td>0</td>\n",
       "      <td>1</td>\n",
       "      <td>NaN</td>\n",
       "      <td>2018-08-19 01:20:49</td>\n",
       "      <td>2018-08-19 01:20:49</td>\n",
       "      <td>maybeokay</td>\n",
       "    </tr>\n",
       "    <tr>\n",
       "      <th>1</th>\n",
       "      <td>1</td>\n",
       "      <td>1</td>\n",
       "      <td>2</td>\n",
       "      <td>NaN</td>\n",
       "      <td>2018-08-19 01:20:49</td>\n",
       "      <td>2018-08-19 01:20:49</td>\n",
       "      <td>maybeokay</td>\n",
       "    </tr>\n",
       "    <tr>\n",
       "      <th>2</th>\n",
       "      <td>2</td>\n",
       "      <td>2</td>\n",
       "      <td>3</td>\n",
       "      <td>NaN</td>\n",
       "      <td>2018-08-19 01:20:49</td>\n",
       "      <td>2018-08-19 01:20:49</td>\n",
       "      <td>maybeokay</td>\n",
       "    </tr>\n",
       "    <tr>\n",
       "      <th>3</th>\n",
       "      <td>3</td>\n",
       "      <td>3</td>\n",
       "      <td>4</td>\n",
       "      <td>NaN</td>\n",
       "      <td>2018-08-19 01:20:49</td>\n",
       "      <td>2018-08-19 01:20:49</td>\n",
       "      <td>maybeokay</td>\n",
       "    </tr>\n",
       "    <tr>\n",
       "      <th>4</th>\n",
       "      <td>4</td>\n",
       "      <td>4</td>\n",
       "      <td>5</td>\n",
       "      <td>NaN</td>\n",
       "      <td>2018-08-19 01:20:49</td>\n",
       "      <td>2018-08-19 01:20:49</td>\n",
       "      <td>maybeokay</td>\n",
       "    </tr>\n",
       "  </tbody>\n",
       "</table>\n",
       "</div>"
      ],
      "text/plain": [
       "   Unnamed: 0  Unnamed: 0.1  frame_number  led_intensity            timestamp  \\\n",
       "0           0             0             1            NaN  2018-08-19 01:20:49   \n",
       "1           1             1             2            NaN  2018-08-19 01:20:49   \n",
       "2           2             2             3            NaN  2018-08-19 01:20:49   \n",
       "3           3             3             4            NaN  2018-08-19 01:20:49   \n",
       "4           4             4             5            NaN  2018-08-19 01:20:49   \n",
       "\n",
       "    timestamp_verified user_suggestion  \n",
       "0  2018-08-19 01:20:49       maybeokay  \n",
       "1  2018-08-19 01:20:49       maybeokay  \n",
       "2  2018-08-19 01:20:49       maybeokay  \n",
       "3  2018-08-19 01:20:49       maybeokay  \n",
       "4  2018-08-19 01:20:49       maybeokay  "
      ]
     },
     "execution_count": 15,
     "metadata": {},
     "output_type": "execute_result"
    }
   ],
   "source": [
    "video_sync.head()"
   ]
  },
  {
   "cell_type": "code",
   "execution_count": 16,
   "metadata": {
    "scrolled": true
   },
   "outputs": [
    {
     "name": "stderr",
     "output_type": "stream",
     "text": [
      "0it [00:00, ?it/s]/home/tbeleyur/anaconda2/envs/horseshoebat/lib/python2.7/site-packages/scipy/signal/signaltools.py:2223: FutureWarning: Using a non-tuple sequence for multidimensional indexing is deprecated; use `arr[tuple(seq)]` instead of `arr[seq]`. In the future this will be interpreted as an array index, `arr[np.array(seq)]`, which will result either in an error or a different result.\n",
      "  Y[sl] = X[sl]\n",
      "/home/tbeleyur/anaconda2/envs/horseshoebat/lib/python2.7/site-packages/scipy/signal/signaltools.py:2225: FutureWarning: Using a non-tuple sequence for multidimensional indexing is deprecated; use `arr[tuple(seq)]` instead of `arr[seq]`. In the future this will be interpreted as an array index, `arr[np.array(seq)]`, which will result either in an error or a different result.\n",
      "  Y[sl] = X[sl]\n",
      "/home/tbeleyur/anaconda2/envs/horseshoebat/lib/python2.7/site-packages/scipy/signal/signaltools.py:2233: FutureWarning: Using a non-tuple sequence for multidimensional indexing is deprecated; use `arr[tuple(seq)]` instead of `arr[seq]`. In the future this will be interpreted as an array index, `arr[np.array(seq)]`, which will result either in an error or a different result.\n",
      "  Y[sl] /= 2  # halve the component at -N/2\n",
      "/home/tbeleyur/anaconda2/envs/horseshoebat/lib/python2.7/site-packages/scipy/signal/signaltools.py:2234: FutureWarning: Using a non-tuple sequence for multidimensional indexing is deprecated; use `arr[tuple(seq)]` instead of `arr[seq]`. In the future this will be interpreted as an array index, `arr[np.array(seq)]`, which will result either in an error or a different result.\n",
      "  temp = Y[sl]\n",
      "/home/tbeleyur/anaconda2/envs/horseshoebat/lib/python2.7/site-packages/scipy/signal/signaltools.py:2236: FutureWarning: Using a non-tuple sequence for multidimensional indexing is deprecated; use `arr[tuple(seq)]` instead of `arr[seq]`. In the future this will be interpreted as an array index, `arr[np.array(seq)]`, which will result either in an error or a different result.\n",
      "  Y[sl] = temp  # set that equal to the component at -N/2\n",
      "1it [00:07,  7.05s/it]"
     ]
    },
    {
     "name": "stdout",
     "output_type": "stream",
     "text": [
      "Saved annotation :Aditya_2018-08-19_0120-0200_1\n"
     ]
    },
    {
     "name": "stderr",
     "output_type": "stream",
     "text": [
      "\r",
      "2it [00:13,  6.96s/it]"
     ]
    },
    {
     "name": "stdout",
     "output_type": "stream",
     "text": [
      "Saved annotation :Aditya_2018-08-19_0120-0200_2\n"
     ]
    },
    {
     "name": "stderr",
     "output_type": "stream",
     "text": [
      "\r",
      "3it [00:20,  6.78s/it]"
     ]
    },
    {
     "name": "stdout",
     "output_type": "stream",
     "text": [
      "Saved annotation :Aditya_2018-08-19_0120-0200_3\n"
     ]
    },
    {
     "name": "stderr",
     "output_type": "stream",
     "text": [
      "\r",
      "4it [00:26,  6.66s/it]"
     ]
    },
    {
     "name": "stdout",
     "output_type": "stream",
     "text": [
      "Saved annotation :Aditya_2018-08-19_0120-0200_4\n"
     ]
    },
    {
     "name": "stderr",
     "output_type": "stream",
     "text": [
      "\r",
      "5it [00:32,  6.55s/it]"
     ]
    },
    {
     "name": "stdout",
     "output_type": "stream",
     "text": [
      "Saved annotation :Aditya_2018-08-19_0120-0200_5\n"
     ]
    },
    {
     "name": "stderr",
     "output_type": "stream",
     "text": [
      "\r",
      "6it [00:39,  6.70s/it]"
     ]
    },
    {
     "name": "stdout",
     "output_type": "stream",
     "text": [
      "Saved annotation :Aditya_2018-08-19_0120-0200_6\n"
     ]
    },
    {
     "name": "stderr",
     "output_type": "stream",
     "text": [
      "\r",
      "7it [00:48,  7.13s/it]"
     ]
    },
    {
     "name": "stdout",
     "output_type": "stream",
     "text": [
      "Saved annotation :Aditya_2018-08-19_0120-0200_7\n"
     ]
    },
    {
     "name": "stderr",
     "output_type": "stream",
     "text": [
      "\r",
      "8it [00:54,  6.95s/it]"
     ]
    },
    {
     "name": "stdout",
     "output_type": "stream",
     "text": [
      "Saved annotation :Aditya_2018-08-19_0120-0200_8\n"
     ]
    },
    {
     "name": "stderr",
     "output_type": "stream",
     "text": [
      "\r",
      "9it [00:59,  6.49s/it]"
     ]
    },
    {
     "name": "stdout",
     "output_type": "stream",
     "text": [
      "Unable to process annotation: Aditya_2018-08-19_0120-0200_9\n"
     ]
    },
    {
     "name": "stderr",
     "output_type": "stream",
     "text": [
      "\r",
      "10it [01:05,  6.11s/it]"
     ]
    },
    {
     "name": "stdout",
     "output_type": "stream",
     "text": [
      "Unable to process annotation: Aditya_2018-08-19_0120-0200_10\n"
     ]
    },
    {
     "name": "stderr",
     "output_type": "stream",
     "text": [
      "\r",
      "11it [01:10,  5.95s/it]"
     ]
    },
    {
     "name": "stdout",
     "output_type": "stream",
     "text": [
      "Unable to process annotation: Aditya_2018-08-19_0120-0200_11\n"
     ]
    },
    {
     "name": "stderr",
     "output_type": "stream",
     "text": [
      "\r",
      "12it [01:16,  5.75s/it]"
     ]
    },
    {
     "name": "stdout",
     "output_type": "stream",
     "text": [
      "Unable to process annotation: Aditya_2018-08-19_0120-0200_12\n"
     ]
    },
    {
     "name": "stderr",
     "output_type": "stream",
     "text": [
      "\r",
      "13it [01:22,  6.10s/it]"
     ]
    },
    {
     "name": "stdout",
     "output_type": "stream",
     "text": [
      "Saved annotation :Aditya_2018-08-19_0120-0200_13\n"
     ]
    },
    {
     "name": "stderr",
     "output_type": "stream",
     "text": [
      "\r",
      "14it [01:31,  6.75s/it]"
     ]
    },
    {
     "name": "stdout",
     "output_type": "stream",
     "text": [
      "Saved annotation :Aditya_2018-08-19_0120-0200_14\n"
     ]
    },
    {
     "name": "stderr",
     "output_type": "stream",
     "text": [
      "\r",
      "15it [01:38,  6.98s/it]"
     ]
    },
    {
     "name": "stdout",
     "output_type": "stream",
     "text": [
      "Saved annotation :Aditya_2018-08-19_0120-0200_15\n"
     ]
    },
    {
     "name": "stderr",
     "output_type": "stream",
     "text": [
      "\r",
      "16it [01:46,  7.19s/it]"
     ]
    },
    {
     "name": "stdout",
     "output_type": "stream",
     "text": [
      "Saved annotation :Aditya_2018-08-19_0120-0200_16\n"
     ]
    },
    {
     "name": "stderr",
     "output_type": "stream",
     "text": [
      "../../../bin/process_video_annotations.py:389: UserWarning: Some timestamps below min fps!\n",
      "  warnings.warn('Some timestamps below min fps!')\n",
      "../../../bin/process_video_annotations.py:310: UserWarning: FPS fell below the minimum required - ignoring this annotation\n",
      "  warnings.warn('FPS fell below the minimum required - ignoring this annotation')\n",
      "../../../bin/process_video_annotations.py:115: UserWarning: could not bring above annotation to common fps,                      please check a) if the corresponding audio file is present                        b) if the ON/OFF of the light signal is clean                           \n",
      "  ')\n",
      "\r",
      "17it [01:51,  6.47s/it]"
     ]
    },
    {
     "name": "stdout",
     "output_type": "stream",
     "text": [
      "('timestamps below min fps: ', array(['2018-08-19 01:31:04', '2018-08-19 01:31:16'], dtype=object))\n",
      "video_path                           OrlovaChukaDome_02_20180819_01.20.50-02.00.00[...\n",
      "annotation_id                                           Aditya_2018-08-19_0120-0200_17\n",
      "Sampling minute                                                                     30\n",
      "timestamp from camera                                                                2\n",
      "start_timestamp                                                    2018-08-19 01:30:37\n",
      "start_framenumber                                                                   12\n",
      "end_timestamp                                                      2018-08-19 01:30:39\n",
      "end_framenumber                                                                     23\n",
      "no. of flying bats                                                                   1\n",
      "bat behaviour                                                                      NaN\n",
      "strength (1 - strong, 0-weak)                                                        1\n",
      "weak in (Behaviour Be, Number Bn)                                                  NaN\n",
      "Comments                                                                           NaN\n",
      "Details on the comment                                                             NaN\n",
      "annotator                                                                       Aditya\n",
      "Name: 16, dtype: object\n",
      "video_path                           OrlovaChukaDome_02_20180819_01.20.50-02.00.00[...\n",
      "annotation_id                                           Aditya_2018-08-19_0120-0200_17\n",
      "Sampling minute                                                                     30\n",
      "timestamp from camera                                                                2\n",
      "start_timestamp                                                    2018-08-19 01:30:37\n",
      "start_framenumber                                                                   12\n",
      "end_timestamp                                                      2018-08-19 01:30:39\n",
      "end_framenumber                                                                     23\n",
      "no. of flying bats                                                                   1\n",
      "bat behaviour                                                                      NaN\n",
      "strength (1 - strong, 0-weak)                                                        1\n",
      "weak in (Behaviour Be, Number Bn)                                                  NaN\n",
      "Comments                                                                           NaN\n",
      "Details on the comment                                                             NaN\n",
      "annotator                                                                       Aditya\n",
      "Name: 16, dtype: object\n"
     ]
    },
    {
     "name": "stderr",
     "output_type": "stream",
     "text": [
      "\r",
      "18it [01:58,  6.72s/it]"
     ]
    },
    {
     "name": "stdout",
     "output_type": "stream",
     "text": [
      "Saved annotation :Aditya_2018-08-19_0120-0200_18\n"
     ]
    },
    {
     "name": "stderr",
     "output_type": "stream",
     "text": [
      "\r",
      "19it [02:05,  6.89s/it]"
     ]
    },
    {
     "name": "stdout",
     "output_type": "stream",
     "text": [
      "Saved annotation :Aditya_2018-08-19_0120-0200_19\n"
     ]
    },
    {
     "name": "stderr",
     "output_type": "stream",
     "text": [
      "\r",
      "20it [02:13,  7.01s/it]"
     ]
    },
    {
     "name": "stdout",
     "output_type": "stream",
     "text": [
      "Saved annotation :Aditya_2018-08-19_0120-0200_20\n"
     ]
    },
    {
     "name": "stderr",
     "output_type": "stream",
     "text": [
      "\r",
      "21it [02:20,  7.12s/it]"
     ]
    },
    {
     "name": "stdout",
     "output_type": "stream",
     "text": [
      "Saved annotation :Aditya_2018-08-19_0120-0200_21\n"
     ]
    },
    {
     "name": "stderr",
     "output_type": "stream",
     "text": [
      "\r",
      "22it [02:27,  7.12s/it]"
     ]
    },
    {
     "name": "stdout",
     "output_type": "stream",
     "text": [
      "Saved annotation :Aditya_2018-08-19_0120-0200_22\n"
     ]
    },
    {
     "name": "stderr",
     "output_type": "stream",
     "text": [
      "\r",
      "23it [02:34,  7.14s/it]"
     ]
    },
    {
     "name": "stdout",
     "output_type": "stream",
     "text": [
      "Saved annotation :Aditya_2018-08-19_0120-0200_23\n"
     ]
    },
    {
     "name": "stderr",
     "output_type": "stream",
     "text": [
      "\r",
      "24it [02:42,  7.17s/it]"
     ]
    },
    {
     "name": "stdout",
     "output_type": "stream",
     "text": [
      "Saved annotation :Aditya_2018-08-19_0120-0200_24\n"
     ]
    },
    {
     "name": "stderr",
     "output_type": "stream",
     "text": [
      "\r",
      "25it [02:49,  7.29s/it]"
     ]
    },
    {
     "name": "stdout",
     "output_type": "stream",
     "text": [
      "Unable to process annotation: Aditya_2018-08-19_0120-0200_25\n"
     ]
    },
    {
     "name": "stderr",
     "output_type": "stream",
     "text": [
      "\r",
      "26it [02:56,  7.26s/it]"
     ]
    },
    {
     "name": "stdout",
     "output_type": "stream",
     "text": [
      "Saved annotation :Aditya_2018-08-19_0120-0200_26\n"
     ]
    },
    {
     "name": "stderr",
     "output_type": "stream",
     "text": [
      "\r",
      "27it [03:03,  7.22s/it]"
     ]
    },
    {
     "name": "stdout",
     "output_type": "stream",
     "text": [
      "Saved annotation :Aditya_2018-08-19_0120-0200_27\n"
     ]
    },
    {
     "name": "stderr",
     "output_type": "stream",
     "text": [
      "\r",
      "28it [03:11,  7.47s/it]"
     ]
    },
    {
     "name": "stdout",
     "output_type": "stream",
     "text": [
      "Saved annotation :Aditya_2018-08-19_0120-0200_28\n"
     ]
    },
    {
     "name": "stderr",
     "output_type": "stream",
     "text": [
      "\r",
      "29it [03:19,  7.51s/it]"
     ]
    },
    {
     "name": "stdout",
     "output_type": "stream",
     "text": [
      "Saved annotation :Aditya_2018-08-19_0120-0200_29\n"
     ]
    },
    {
     "name": "stderr",
     "output_type": "stream",
     "text": [
      "\r",
      "30it [03:26,  7.44s/it]"
     ]
    },
    {
     "name": "stdout",
     "output_type": "stream",
     "text": [
      "Saved annotation :Aditya_2018-08-19_0120-0200_30\n"
     ]
    },
    {
     "name": "stderr",
     "output_type": "stream",
     "text": [
      "\r",
      "31it [03:34,  7.50s/it]"
     ]
    },
    {
     "name": "stdout",
     "output_type": "stream",
     "text": [
      "Saved annotation :Aditya_2018-08-19_0120-0200_32\n"
     ]
    },
    {
     "name": "stderr",
     "output_type": "stream",
     "text": [
      "\r",
      "32it [03:41,  7.48s/it]"
     ]
    },
    {
     "name": "stdout",
     "output_type": "stream",
     "text": [
      "Saved annotation :Aditya_2018-08-19_0120-0200_33\n"
     ]
    },
    {
     "name": "stderr",
     "output_type": "stream",
     "text": [
      "\r",
      "33it [03:48,  7.19s/it]"
     ]
    },
    {
     "name": "stdout",
     "output_type": "stream",
     "text": [
      "Saved annotation :Aditya_2018-08-19_0120-0200_34\n"
     ]
    },
    {
     "name": "stderr",
     "output_type": "stream",
     "text": [
      "\r",
      "34it [03:55,  7.05s/it]"
     ]
    },
    {
     "name": "stdout",
     "output_type": "stream",
     "text": [
      "Saved annotation :Aditya_2018-08-19_0120-0200_35\n"
     ]
    },
    {
     "name": "stderr",
     "output_type": "stream",
     "text": [
      "\r",
      "35it [04:03,  7.30s/it]"
     ]
    },
    {
     "name": "stdout",
     "output_type": "stream",
     "text": [
      "Unable to process annotation: Aditya_2018-08-19_0120-0200_36\n"
     ]
    },
    {
     "name": "stderr",
     "output_type": "stream",
     "text": [
      "\r",
      "36it [04:11,  7.55s/it]"
     ]
    },
    {
     "name": "stdout",
     "output_type": "stream",
     "text": [
      "Saved annotation :Aditya_2018-08-19_0120-0200_37\n"
     ]
    },
    {
     "name": "stderr",
     "output_type": "stream",
     "text": [
      "\r",
      "37it [04:18,  7.59s/it]"
     ]
    },
    {
     "name": "stdout",
     "output_type": "stream",
     "text": [
      "Saved annotation :Aditya_2018-08-19_0120-0200_38\n"
     ]
    },
    {
     "name": "stderr",
     "output_type": "stream",
     "text": [
      "\r",
      "38it [04:25,  7.34s/it]"
     ]
    },
    {
     "name": "stdout",
     "output_type": "stream",
     "text": [
      "Unable to process annotation: Aditya_2018-08-19_0120-0200_39\n"
     ]
    },
    {
     "name": "stderr",
     "output_type": "stream",
     "text": [
      "\r",
      "39it [04:30,  6.71s/it]"
     ]
    },
    {
     "name": "stdout",
     "output_type": "stream",
     "text": [
      "Unable to process annotation: Aditya_2018-08-19_0120-0200_40\n"
     ]
    },
    {
     "name": "stderr",
     "output_type": "stream",
     "text": [
      "\r",
      "40it [04:36,  6.35s/it]"
     ]
    },
    {
     "name": "stdout",
     "output_type": "stream",
     "text": [
      "Saved annotation :Aditya_2018-08-19_0120-0200_41\n"
     ]
    },
    {
     "name": "stderr",
     "output_type": "stream",
     "text": [
      "\r",
      "41it [04:42,  6.33s/it]"
     ]
    },
    {
     "name": "stdout",
     "output_type": "stream",
     "text": [
      "Saved annotation :Aditya_2018-08-19_0120-0200_42\n"
     ]
    },
    {
     "name": "stderr",
     "output_type": "stream",
     "text": [
      "\r",
      "42it [04:48,  6.24s/it]"
     ]
    },
    {
     "name": "stdout",
     "output_type": "stream",
     "text": [
      "Unable to process annotation: Aditya_2018-08-19_0120-0200_43\n"
     ]
    },
    {
     "name": "stderr",
     "output_type": "stream",
     "text": [
      "\r",
      "43it [04:56,  6.59s/it]"
     ]
    },
    {
     "name": "stdout",
     "output_type": "stream",
     "text": [
      "Saved annotation :Aditya_2018-08-19_0120-0200_44\n"
     ]
    },
    {
     "name": "stderr",
     "output_type": "stream",
     "text": [
      "\r",
      "44it [05:03,  6.82s/it]"
     ]
    },
    {
     "name": "stdout",
     "output_type": "stream",
     "text": [
      "Saved annotation :Aditya_2018-08-19_0120-0200_45\n"
     ]
    },
    {
     "name": "stderr",
     "output_type": "stream",
     "text": [
      "\r",
      "45it [05:09,  6.74s/it]"
     ]
    },
    {
     "name": "stdout",
     "output_type": "stream",
     "text": [
      "Saved annotation :Aditya_2018-08-19_0120-0200_46\n"
     ]
    },
    {
     "name": "stderr",
     "output_type": "stream",
     "text": [
      "\r",
      "46it [05:16,  6.70s/it]"
     ]
    },
    {
     "name": "stdout",
     "output_type": "stream",
     "text": [
      "Saved annotation :Aditya_2018-08-19_0120-0200_47\n"
     ]
    },
    {
     "name": "stderr",
     "output_type": "stream",
     "text": [
      "\r",
      "47it [05:22,  6.45s/it]"
     ]
    },
    {
     "name": "stdout",
     "output_type": "stream",
     "text": [
      "Saved annotation :Aditya_2018-08-19_0120-0200_48\n"
     ]
    },
    {
     "name": "stderr",
     "output_type": "stream",
     "text": [
      "\r",
      "48it [05:30,  6.83s/it]"
     ]
    },
    {
     "name": "stdout",
     "output_type": "stream",
     "text": [
      "Saved annotation :Aditya_2018-08-19_0120-0200_49\n"
     ]
    },
    {
     "name": "stderr",
     "output_type": "stream",
     "text": [
      "\r",
      "49it [05:36,  6.78s/it]"
     ]
    },
    {
     "name": "stdout",
     "output_type": "stream",
     "text": [
      "Unable to process annotation: Aditya_2018-08-19_0120-0200_50\n"
     ]
    },
    {
     "name": "stderr",
     "output_type": "stream",
     "text": [
      "\r",
      "50it [05:43,  6.80s/it]"
     ]
    },
    {
     "name": "stdout",
     "output_type": "stream",
     "text": [
      "Saved annotation :Aditya_2018-08-19_0120-0200_51\n"
     ]
    },
    {
     "name": "stderr",
     "output_type": "stream",
     "text": [
      "\r",
      "51it [05:50,  6.82s/it]"
     ]
    },
    {
     "name": "stdout",
     "output_type": "stream",
     "text": [
      "Saved annotation :Aditya_2018-08-19_0120-0200_52\n"
     ]
    },
    {
     "name": "stderr",
     "output_type": "stream",
     "text": [
      "\r",
      "52it [05:58,  7.14s/it]"
     ]
    },
    {
     "name": "stdout",
     "output_type": "stream",
     "text": [
      "Saved annotation :Aditya_2018-08-19_0120-0200_53\n"
     ]
    },
    {
     "name": "stderr",
     "output_type": "stream",
     "text": [
      "\r",
      "53it [06:05,  7.09s/it]"
     ]
    },
    {
     "name": "stdout",
     "output_type": "stream",
     "text": [
      "Saved annotation :Aditya_2018-08-19_0120-0200_54\n"
     ]
    },
    {
     "name": "stderr",
     "output_type": "stream",
     "text": [
      "\r",
      "54it [06:12,  7.03s/it]"
     ]
    },
    {
     "name": "stdout",
     "output_type": "stream",
     "text": [
      "Unable to process annotation: Aditya_2018-08-19_0120-0200_55\n"
     ]
    },
    {
     "name": "stderr",
     "output_type": "stream",
     "text": [
      "\r",
      "55it [06:18,  6.72s/it]"
     ]
    },
    {
     "name": "stdout",
     "output_type": "stream",
     "text": [
      "Unable to process annotation: Aditya_2018-08-19_0120-0200_56\n"
     ]
    },
    {
     "name": "stderr",
     "output_type": "stream",
     "text": [
      "\r",
      "56it [06:25,  6.73s/it]"
     ]
    },
    {
     "name": "stdout",
     "output_type": "stream",
     "text": [
      "Saved annotation :Aditya_2018-08-19_0120-0200_57\n"
     ]
    },
    {
     "name": "stderr",
     "output_type": "stream",
     "text": [
      "\r",
      "57it [06:31,  6.76s/it]"
     ]
    },
    {
     "name": "stdout",
     "output_type": "stream",
     "text": [
      "Unable to process annotation: Aditya_2018-08-19_0120-0200_58\n"
     ]
    },
    {
     "name": "stderr",
     "output_type": "stream",
     "text": [
      "\r",
      "58it [06:38,  6.73s/it]"
     ]
    },
    {
     "name": "stdout",
     "output_type": "stream",
     "text": [
      "Saved annotation :Aditya_2018-08-19_0120-0200_59\n"
     ]
    },
    {
     "name": "stderr",
     "output_type": "stream",
     "text": [
      "\r",
      "59it [06:45,  6.92s/it]"
     ]
    },
    {
     "name": "stdout",
     "output_type": "stream",
     "text": [
      "Saved annotation :Aditya_2018-08-19_0120-0200_60\n"
     ]
    },
    {
     "name": "stderr",
     "output_type": "stream",
     "text": [
      "\r",
      "60it [06:53,  7.26s/it]"
     ]
    },
    {
     "name": "stdout",
     "output_type": "stream",
     "text": [
      "Unable to process annotation: Aditya_2018-08-19_0120-0200_61\n"
     ]
    },
    {
     "name": "stderr",
     "output_type": "stream",
     "text": [
      "\r",
      "61it [07:00,  7.19s/it]"
     ]
    },
    {
     "name": "stdout",
     "output_type": "stream",
     "text": [
      "Saved annotation :Aditya_2018-08-19_0120-0200_62\n"
     ]
    },
    {
     "name": "stderr",
     "output_type": "stream",
     "text": [
      "\r",
      "62it [07:08,  7.27s/it]"
     ]
    },
    {
     "name": "stdout",
     "output_type": "stream",
     "text": [
      "Saved annotation :Aditya_2018-08-19_0120-0200_63\n"
     ]
    },
    {
     "name": "stderr",
     "output_type": "stream",
     "text": [
      "\r",
      "63it [07:16,  7.49s/it]"
     ]
    },
    {
     "name": "stdout",
     "output_type": "stream",
     "text": [
      "Saved annotation :Aditya_2018-08-19_0120-0200_64\n"
     ]
    },
    {
     "name": "stderr",
     "output_type": "stream",
     "text": [
      "\r",
      "64it [07:23,  7.40s/it]"
     ]
    },
    {
     "name": "stdout",
     "output_type": "stream",
     "text": [
      "Saved annotation :Aditya_2018-08-19_0120-0200_65\n"
     ]
    },
    {
     "name": "stderr",
     "output_type": "stream",
     "text": [
      "\r",
      "65it [07:29,  6.95s/it]"
     ]
    },
    {
     "name": "stdout",
     "output_type": "stream",
     "text": [
      "Saved annotation :Aditya_2018-08-19_0120-0200_66\n"
     ]
    },
    {
     "name": "stderr",
     "output_type": "stream",
     "text": [
      "\r",
      "66it [07:35,  6.68s/it]"
     ]
    },
    {
     "name": "stdout",
     "output_type": "stream",
     "text": [
      "Unable to process annotation: Aditya_2018-08-19_0120-0200_67\n",
      "('2018-08-19 01:45:35', '2018-08-19 01:45:35')\n",
      "Unable to process annotation: Aditya_2018-08-19_0120-0200_68\n"
     ]
    },
    {
     "name": "stderr",
     "output_type": "stream",
     "text": [
      "\r",
      "68it [07:41,  5.56s/it]"
     ]
    },
    {
     "name": "stdout",
     "output_type": "stream",
     "text": [
      "Saved annotation :Aditya_2018-08-19_0120-0200_69\n"
     ]
    },
    {
     "name": "stderr",
     "output_type": "stream",
     "text": [
      "\r",
      "69it [07:47,  5.84s/it]"
     ]
    },
    {
     "name": "stdout",
     "output_type": "stream",
     "text": [
      "Saved annotation :Aditya_2018-08-19_0120-0200_70\n"
     ]
    },
    {
     "name": "stderr",
     "output_type": "stream",
     "text": [
      "\r",
      "70it [07:55,  6.34s/it]"
     ]
    },
    {
     "name": "stdout",
     "output_type": "stream",
     "text": [
      "Saved annotation :Aditya_2018-08-19_0120-0200_71\n"
     ]
    },
    {
     "name": "stderr",
     "output_type": "stream",
     "text": [
      "\r",
      "71it [08:03,  6.82s/it]"
     ]
    },
    {
     "name": "stdout",
     "output_type": "stream",
     "text": [
      "Saved annotation :Aditya_2018-08-19_0120-0200_72\n"
     ]
    },
    {
     "name": "stderr",
     "output_type": "stream",
     "text": [
      "\r",
      "72it [08:10,  7.03s/it]"
     ]
    },
    {
     "name": "stdout",
     "output_type": "stream",
     "text": [
      "Saved annotation :Aditya_2018-08-19_0120-0200_73\n"
     ]
    },
    {
     "name": "stderr",
     "output_type": "stream",
     "text": [
      "\r",
      "73it [08:17,  6.75s/it]"
     ]
    },
    {
     "name": "stdout",
     "output_type": "stream",
     "text": [
      "Saved annotation :Aditya_2018-08-19_0120-0200_74\n"
     ]
    },
    {
     "name": "stderr",
     "output_type": "stream",
     "text": [
      "\r",
      "74it [08:23,  6.75s/it]"
     ]
    },
    {
     "name": "stdout",
     "output_type": "stream",
     "text": [
      "Unable to process annotation: Aditya_2018-08-19_0120-0200_75\n"
     ]
    },
    {
     "name": "stderr",
     "output_type": "stream",
     "text": [
      "\r",
      "75it [08:31,  7.07s/it]"
     ]
    },
    {
     "name": "stdout",
     "output_type": "stream",
     "text": [
      "Saved annotation :Aditya_2018-08-19_0120-0200_76\n"
     ]
    },
    {
     "name": "stderr",
     "output_type": "stream",
     "text": [
      "\r",
      "76it [08:39,  7.41s/it]"
     ]
    },
    {
     "name": "stdout",
     "output_type": "stream",
     "text": [
      "Saved annotation :Aditya_2018-08-19_0120-0200_77\n"
     ]
    },
    {
     "name": "stderr",
     "output_type": "stream",
     "text": [
      "\r",
      "77it [08:46,  7.31s/it]"
     ]
    },
    {
     "name": "stdout",
     "output_type": "stream",
     "text": [
      "Saved annotation :Aditya_2018-08-19_0120-0200_78\n"
     ]
    },
    {
     "name": "stderr",
     "output_type": "stream",
     "text": [
      "\r",
      "78it [08:55,  7.64s/it]"
     ]
    },
    {
     "name": "stdout",
     "output_type": "stream",
     "text": [
      "Saved annotation :Aditya_2018-08-19_0120-0200_79\n"
     ]
    },
    {
     "name": "stderr",
     "output_type": "stream",
     "text": [
      "\r",
      "79it [09:03,  7.80s/it]"
     ]
    },
    {
     "name": "stdout",
     "output_type": "stream",
     "text": [
      "Saved annotation :Aditya_2018-08-19_0120-0200_80\n"
     ]
    },
    {
     "name": "stderr",
     "output_type": "stream",
     "text": [
      "\r",
      "80it [09:11,  7.93s/it]"
     ]
    },
    {
     "name": "stdout",
     "output_type": "stream",
     "text": [
      "Saved annotation :Aditya_2018-08-19_0120-0200_81\n"
     ]
    },
    {
     "name": "stderr",
     "output_type": "stream",
     "text": [
      "\r",
      "81it [09:19,  7.88s/it]"
     ]
    },
    {
     "name": "stdout",
     "output_type": "stream",
     "text": [
      "Saved annotation :Aditya_2018-08-19_0120-0200_82\n"
     ]
    },
    {
     "name": "stderr",
     "output_type": "stream",
     "text": [
      "\r",
      "82it [09:26,  7.75s/it]"
     ]
    },
    {
     "name": "stdout",
     "output_type": "stream",
     "text": [
      "Saved annotation :Aditya_2018-08-19_0120-0200_83\n"
     ]
    },
    {
     "name": "stderr",
     "output_type": "stream",
     "text": [
      "\r",
      "83it [09:34,  7.56s/it]"
     ]
    },
    {
     "name": "stdout",
     "output_type": "stream",
     "text": [
      "Saved annotation :Aditya_2018-08-19_0120-0200_84\n"
     ]
    },
    {
     "name": "stderr",
     "output_type": "stream",
     "text": [
      "\r",
      "84it [09:41,  7.69s/it]"
     ]
    },
    {
     "name": "stdout",
     "output_type": "stream",
     "text": [
      "Saved annotation :Aditya_2018-08-19_0120-0200_85\n"
     ]
    },
    {
     "name": "stderr",
     "output_type": "stream",
     "text": [
      "\r",
      "85it [09:49,  7.68s/it]"
     ]
    },
    {
     "name": "stdout",
     "output_type": "stream",
     "text": [
      "Saved annotation :Aditya_2018-08-19_0120-0200_86\n"
     ]
    },
    {
     "name": "stderr",
     "output_type": "stream",
     "text": [
      "\r",
      "86it [09:56,  7.38s/it]"
     ]
    },
    {
     "name": "stdout",
     "output_type": "stream",
     "text": [
      "Saved annotation :Aditya_2018-08-19_0120-0200_87\n"
     ]
    },
    {
     "name": "stderr",
     "output_type": "stream",
     "text": [
      "\r",
      "87it [10:03,  7.33s/it]"
     ]
    },
    {
     "name": "stdout",
     "output_type": "stream",
     "text": [
      "Saved annotation :Aditya_2018-08-19_0120-0200_88\n"
     ]
    },
    {
     "name": "stderr",
     "output_type": "stream",
     "text": [
      "\r",
      "88it [10:11,  7.64s/it]"
     ]
    },
    {
     "name": "stdout",
     "output_type": "stream",
     "text": [
      "Unable to process annotation: Aditya_2018-08-19_0120-0200_89\n"
     ]
    },
    {
     "name": "stderr",
     "output_type": "stream",
     "text": [
      "\r",
      "89it [10:18,  7.37s/it]"
     ]
    },
    {
     "name": "stdout",
     "output_type": "stream",
     "text": [
      "Saved annotation :Aditya_2018-08-19_0120-0200_90\n"
     ]
    },
    {
     "name": "stderr",
     "output_type": "stream",
     "text": [
      "\r",
      "90it [10:24,  6.96s/it]"
     ]
    },
    {
     "name": "stdout",
     "output_type": "stream",
     "text": [
      "Unable to process annotation: Aditya_2018-08-19_0120-0200_91\n"
     ]
    },
    {
     "name": "stderr",
     "output_type": "stream",
     "text": [
      "\r",
      "91it [10:31,  6.87s/it]"
     ]
    },
    {
     "name": "stdout",
     "output_type": "stream",
     "text": [
      "Unable to process annotation: Aditya_2018-08-19_0120-0200_92\n"
     ]
    },
    {
     "name": "stderr",
     "output_type": "stream",
     "text": [
      "\r",
      "92it [10:36,  6.46s/it]"
     ]
    },
    {
     "name": "stdout",
     "output_type": "stream",
     "text": [
      "Saved annotation :Aditya_2018-08-19_0120-0200_93\n"
     ]
    },
    {
     "name": "stderr",
     "output_type": "stream",
     "text": [
      "\r",
      "93it [10:43,  6.42s/it]"
     ]
    },
    {
     "name": "stdout",
     "output_type": "stream",
     "text": [
      "Saved annotation :Aditya_2018-08-19_0120-0200_94\n"
     ]
    },
    {
     "name": "stderr",
     "output_type": "stream",
     "text": [
      "\r",
      "94it [10:49,  6.35s/it]"
     ]
    },
    {
     "name": "stdout",
     "output_type": "stream",
     "text": [
      "Saved annotation :Aditya_2018-08-19_0120-0200_95\n"
     ]
    },
    {
     "name": "stderr",
     "output_type": "stream",
     "text": [
      "\r",
      "95it [10:55,  6.16s/it]"
     ]
    },
    {
     "name": "stdout",
     "output_type": "stream",
     "text": [
      "Saved annotation :Aditya_2018-08-19_0120-0200_96\n"
     ]
    },
    {
     "name": "stderr",
     "output_type": "stream",
     "text": [
      "\r",
      "96it [11:01,  6.17s/it]"
     ]
    },
    {
     "name": "stdout",
     "output_type": "stream",
     "text": [
      "Saved annotation :Aditya_2018-08-19_0120-0200_97\n"
     ]
    },
    {
     "name": "stderr",
     "output_type": "stream",
     "text": [
      "\r",
      "97it [11:07,  6.20s/it]"
     ]
    },
    {
     "name": "stdout",
     "output_type": "stream",
     "text": [
      "Unable to process annotation: Aditya_2018-08-19_0120-0200_98\n"
     ]
    },
    {
     "name": "stderr",
     "output_type": "stream",
     "text": [
      "\r",
      "98it [11:14,  6.43s/it]"
     ]
    },
    {
     "name": "stdout",
     "output_type": "stream",
     "text": [
      "Unable to process annotation: Aditya_2018-08-19_0120-0200_99\n"
     ]
    },
    {
     "name": "stderr",
     "output_type": "stream",
     "text": [
      "\r",
      "99it [11:20,  6.31s/it]"
     ]
    },
    {
     "name": "stdout",
     "output_type": "stream",
     "text": [
      "Unable to process annotation: Aditya_2018-08-19_0120-0200_100\n"
     ]
    },
    {
     "name": "stderr",
     "output_type": "stream",
     "text": [
      "\r",
      "100it [11:26,  6.28s/it]"
     ]
    },
    {
     "name": "stdout",
     "output_type": "stream",
     "text": [
      "Saved annotation :Aditya_2018-08-19_0120-0200_101\n"
     ]
    },
    {
     "name": "stderr",
     "output_type": "stream",
     "text": [
      "\r",
      "101it [11:32,  6.22s/it]"
     ]
    },
    {
     "name": "stdout",
     "output_type": "stream",
     "text": [
      "Saved annotation :Aditya_2018-08-19_0120-0200_102\n"
     ]
    },
    {
     "name": "stderr",
     "output_type": "stream",
     "text": [
      "\r",
      "102it [11:38,  6.18s/it]"
     ]
    },
    {
     "name": "stdout",
     "output_type": "stream",
     "text": [
      "Unable to process annotation: Aditya_2018-08-19_0120-0200_103\n"
     ]
    },
    {
     "name": "stderr",
     "output_type": "stream",
     "text": [
      "\r",
      "103it [11:45,  6.19s/it]"
     ]
    },
    {
     "name": "stdout",
     "output_type": "stream",
     "text": [
      "Saved annotation :Aditya_2018-08-19_0120-0200_104\n"
     ]
    },
    {
     "name": "stderr",
     "output_type": "stream",
     "text": [
      "\r",
      "104it [11:51,  6.38s/it]"
     ]
    },
    {
     "name": "stdout",
     "output_type": "stream",
     "text": [
      "Saved annotation :Aditya_2018-08-19_0120-0200_105\n"
     ]
    },
    {
     "name": "stderr",
     "output_type": "stream",
     "text": [
      "\r",
      "105it [11:58,  6.53s/it]"
     ]
    },
    {
     "name": "stdout",
     "output_type": "stream",
     "text": [
      "Saved annotation :Aditya_2018-08-19_0120-0200_106\n"
     ]
    },
    {
     "name": "stderr",
     "output_type": "stream",
     "text": [
      "\r",
      "106it [12:05,  6.70s/it]"
     ]
    },
    {
     "name": "stdout",
     "output_type": "stream",
     "text": [
      "Saved annotation :Aditya_2018-08-19_0120-0200_107\n"
     ]
    },
    {
     "name": "stderr",
     "output_type": "stream",
     "text": [
      "\r",
      "107it [12:12,  6.60s/it]"
     ]
    },
    {
     "name": "stdout",
     "output_type": "stream",
     "text": [
      "Unable to process annotation: Aditya_2018-08-19_0120-0200_108\n"
     ]
    },
    {
     "name": "stderr",
     "output_type": "stream",
     "text": [
      "\r",
      "108it [12:19,  6.84s/it]"
     ]
    },
    {
     "name": "stdout",
     "output_type": "stream",
     "text": [
      "Saved annotation :Aditya_2018-08-19_0120-0200_109\n"
     ]
    },
    {
     "name": "stderr",
     "output_type": "stream",
     "text": [
      "\r",
      "109it [12:27,  7.15s/it]"
     ]
    },
    {
     "name": "stdout",
     "output_type": "stream",
     "text": [
      "Saved annotation :Aditya_2018-08-19_0120-0200_110\n"
     ]
    },
    {
     "name": "stderr",
     "output_type": "stream",
     "text": [
      "\r",
      "110it [12:34,  7.20s/it]"
     ]
    },
    {
     "name": "stdout",
     "output_type": "stream",
     "text": [
      "Saved annotation :Aditya_2018-08-19_0120-0200_111\n"
     ]
    },
    {
     "name": "stderr",
     "output_type": "stream",
     "text": [
      "\r",
      "111it [12:42,  7.43s/it]"
     ]
    },
    {
     "name": "stdout",
     "output_type": "stream",
     "text": [
      "Saved annotation :Aditya_2018-08-19_0120-0200_112\n"
     ]
    },
    {
     "name": "stderr",
     "output_type": "stream",
     "text": [
      "\r",
      "112it [12:47,  6.74s/it]"
     ]
    },
    {
     "name": "stdout",
     "output_type": "stream",
     "text": [
      "Saved annotation :Aditya_2018-08-19_0120-0200_113\n"
     ]
    },
    {
     "name": "stderr",
     "output_type": "stream",
     "text": [
      "\r",
      "113it [12:53,  6.30s/it]"
     ]
    },
    {
     "name": "stdout",
     "output_type": "stream",
     "text": [
      "Unable to process annotation: Aditya_2018-08-19_0120-0200_114\n"
     ]
    },
    {
     "name": "stderr",
     "output_type": "stream",
     "text": [
      "\r",
      "114it [12:58,  5.99s/it]"
     ]
    },
    {
     "name": "stdout",
     "output_type": "stream",
     "text": [
      "Unable to process annotation: Aditya_2018-08-19_0120-0200_115\n"
     ]
    },
    {
     "name": "stderr",
     "output_type": "stream",
     "text": [
      "\r",
      "115it [13:03,  5.73s/it]"
     ]
    },
    {
     "name": "stdout",
     "output_type": "stream",
     "text": [
      "Saved annotation :Aditya_2018-08-19_0120-0200_116\n"
     ]
    },
    {
     "name": "stderr",
     "output_type": "stream",
     "text": [
      "\r",
      "116it [13:09,  5.67s/it]"
     ]
    },
    {
     "name": "stdout",
     "output_type": "stream",
     "text": [
      "Saved annotation :Aditya_2018-08-19_0120-0200_117\n"
     ]
    },
    {
     "name": "stderr",
     "output_type": "stream",
     "text": [
      "\r",
      "117it [13:14,  5.68s/it]"
     ]
    },
    {
     "name": "stdout",
     "output_type": "stream",
     "text": [
      "Saved annotation :Aditya_2018-08-19_0120-0200_118\n"
     ]
    },
    {
     "name": "stderr",
     "output_type": "stream",
     "text": [
      "\r",
      "118it [13:23,  6.49s/it]"
     ]
    },
    {
     "name": "stdout",
     "output_type": "stream",
     "text": [
      "Saved annotation :Aditya_2018-08-19_0120-0200_119\n"
     ]
    },
    {
     "name": "stderr",
     "output_type": "stream",
     "text": [
      "\r",
      "119it [13:31,  7.03s/it]"
     ]
    },
    {
     "name": "stdout",
     "output_type": "stream",
     "text": [
      "Saved annotation :Aditya_2018-08-19_0120-0200_120\n"
     ]
    },
    {
     "name": "stderr",
     "output_type": "stream",
     "text": [
      "\r",
      "120it [13:40,  7.56s/it]"
     ]
    },
    {
     "name": "stdout",
     "output_type": "stream",
     "text": [
      "Saved annotation :Aditya_2018-08-19_0120-0200_121\n"
     ]
    },
    {
     "name": "stderr",
     "output_type": "stream",
     "text": [
      "\r",
      "121it [13:48,  7.62s/it]"
     ]
    },
    {
     "name": "stdout",
     "output_type": "stream",
     "text": [
      "Saved annotation :Aditya_2018-08-19_0120-0200_122\n"
     ]
    },
    {
     "name": "stderr",
     "output_type": "stream",
     "text": [
      "\r",
      "122it [13:56,  7.79s/it]"
     ]
    },
    {
     "name": "stdout",
     "output_type": "stream",
     "text": [
      "Saved annotation :Aditya_2018-08-19_0120-0200_123\n"
     ]
    },
    {
     "name": "stderr",
     "output_type": "stream",
     "text": [
      "\r",
      "123it [14:03,  7.63s/it]"
     ]
    },
    {
     "name": "stdout",
     "output_type": "stream",
     "text": [
      "Saved annotation :Aditya_2018-08-19_0120-0200_124\n"
     ]
    },
    {
     "name": "stderr",
     "output_type": "stream",
     "text": [
      "\r",
      "124it [14:09,  7.09s/it]"
     ]
    },
    {
     "name": "stdout",
     "output_type": "stream",
     "text": [
      "Unable to process annotation: Aditya_2018-08-19_0120-0200_125\n"
     ]
    },
    {
     "name": "stderr",
     "output_type": "stream",
     "text": [
      "\r",
      "125it [14:15,  6.94s/it]"
     ]
    },
    {
     "name": "stdout",
     "output_type": "stream",
     "text": [
      "Saved annotation :Aditya_2018-08-19_0120-0200_126\n"
     ]
    },
    {
     "name": "stderr",
     "output_type": "stream",
     "text": [
      "\r",
      "126it [14:21,  6.45s/it]"
     ]
    },
    {
     "name": "stdout",
     "output_type": "stream",
     "text": [
      "Saved annotation :Aditya_2018-08-19_0120-0200_127\n"
     ]
    },
    {
     "name": "stderr",
     "output_type": "stream",
     "text": [
      "\r",
      "127it [14:26,  6.07s/it]"
     ]
    },
    {
     "name": "stdout",
     "output_type": "stream",
     "text": [
      "Saved annotation :Aditya_2018-08-19_0120-0200_128\n"
     ]
    },
    {
     "name": "stderr",
     "output_type": "stream",
     "text": [
      "\r",
      "128it [14:32,  5.92s/it]"
     ]
    },
    {
     "name": "stdout",
     "output_type": "stream",
     "text": [
      "Unable to process annotation: Aditya_2018-08-19_0120-0200_129\n"
     ]
    },
    {
     "name": "stderr",
     "output_type": "stream",
     "text": [
      "../../../bin/process_video_annotations.py:289: UserWarning: The following timestamps are missing in the annotation\n",
      "  stacklevel=1)\n",
      "\r",
      "129it [14:33,  4.64s/it]"
     ]
    },
    {
     "name": "stdout",
     "output_type": "stream",
     "text": [
      "('2018-08-19 02:00:00', '...to...', '2018-08-19 02:00:20')\n",
      "video_path                           OrlovaChukaDome_02_20180819_01.20.50-02.00.00[...\n",
      "annotation_id                                          Aditya_2018-08-19_0120-0200_130\n",
      "Sampling minute                                                                     59\n",
      "timestamp from camera                                                                2\n",
      "start_timestamp                                                    2018-08-19 01:59:35\n",
      "start_framenumber                                                                   19\n",
      "end_timestamp                                                      2018-08-19 01:59:37\n",
      "end_framenumber                                                                     25\n",
      "no. of flying bats                                                                   1\n",
      "bat behaviour                                                                      NaN\n",
      "strength (1 - strong, 0-weak)                                                        1\n",
      "weak in (Behaviour Be, Number Bn)                                                  NaN\n",
      "Comments                                                                           NaN\n",
      "Details on the comment                                                             NaN\n",
      "annotator                                                                       Aditya\n",
      "Name: 128, dtype: object\n"
     ]
    },
    {
     "name": "stderr",
     "output_type": "stream",
     "text": [
      "\r",
      "130it [14:35,  3.77s/it]"
     ]
    },
    {
     "name": "stdout",
     "output_type": "stream",
     "text": [
      "('2018-08-19 02:00:00', '...to...', '2018-08-19 02:00:29')\n",
      "video_path                           OrlovaChukaDome_02_20180819_01.20.50-02.00.00[...\n",
      "annotation_id                                          Aditya_2018-08-19_0120-0200_131\n",
      "Sampling minute                                                                     59\n",
      "timestamp from camera                                                                2\n",
      "start_timestamp                                                    2018-08-19 01:59:44\n",
      "start_framenumber                                                                    3\n",
      "end_timestamp                                                      2018-08-19 01:59:44\n",
      "end_framenumber                                                                     16\n",
      "no. of flying bats                                                                   1\n",
      "bat behaviour                                                                      NaN\n",
      "strength (1 - strong, 0-weak)                                                        1\n",
      "weak in (Behaviour Be, Number Bn)                                                  NaN\n",
      "Comments                                                                           NaN\n",
      "Details on the comment                                                             NaN\n",
      "annotator                                                                       Aditya\n",
      "Name: 129, dtype: object\n"
     ]
    },
    {
     "name": "stderr",
     "output_type": "stream",
     "text": [
      "\n"
     ]
    }
   ],
   "source": [
    "kwargs = {'timestamp_pattern': '%Y-%m-%d %H:%M:%S'}\n",
    "kwargs['min_fps']= 21 # Hz\n",
    "kwargs['min_durn'] = 45.0 # seconds \n",
    "kwargs['common_fps'] = 25 # Hz\n",
    "kwargs['output_folder'] = './common_fps/Aditya_annotations/2018-08-18/'\n",
    "\n",
    "unprocessed_annotations = []\n",
    "\n",
    "for i, each_annotation in tqdm(annots_w_bats.iterrows()):\n",
    "    try:\n",
    "        success = video_sync_over_annotation_block(each_annotation,video_sync, \n",
    "                                                     **kwargs)\n",
    "    except :\n",
    "        unprocessed_annotations.append(i)\n",
    "        print('Unable to process annotation: %s'%annots_w_bats['annotation_id'][i])\n"
   ]
  },
  {
   "cell_type": "markdown",
   "metadata": {},
   "source": [
    "### Matching Audio from the common_fps files"
   ]
  },
  {
   "cell_type": "code",
   "execution_count": 8,
   "metadata": {},
   "outputs": [],
   "source": [
    "### Finding the matching audio snippet !! \n",
    "import glob \n",
    "import soundfile as sf\n",
    "from audio_for_videoannotation import match_video_sync_to_audio, search_for_best_fit\n",
    "\n",
    "#all_commonfps = glob.glob('common_fps_video_sync*') # get all the relevant common_fps_sync files\n",
    "all_commonfps = glob.glob('common_fps/Aditya_annotations/2018-08-18/common_fps_video_syncAditya_2018-08-19_012*')\n",
    "audio_folder = '/home/tbeleyur/Documents/horseshoe_bat/audio_non_spikey/2018-08-18/' # the current folder\n",
    "\n",
    "# the output folders\n",
    "audiosync_folder = './sync_audio/'\n",
    "audioannotation_folder = './annotation_audio/'\n",
    "fs = 250000 # change according to the recording sampling rate in Hz!! \n"
   ]
  },
  {
   "cell_type": "code",
   "execution_count": 9,
   "metadata": {
    "scrolled": true
   },
   "outputs": [],
   "source": [
    "all_ccs = []\n",
    "files_to_run = sorted(all_commonfps)\n",
    "\n",
    "def generate_matching_audio(each_commonfps, audio_folder, \n",
    "                           **kwargs):\n",
    "    '''\n",
    "    '''\n",
    "    print(each_commonfps)\n",
    "    try:\n",
    "        video_sync = pd.read_csv(each_commonfps)\n",
    "        best_audio, syncblock_audio, crosscoef = match_video_sync_to_audio(video_sync, audio_folder, \n",
    "                                                                           **kwargs)\n",
    "        all_ccs.append(crosscoef)\n",
    "        fname  = os.path.split(each_commonfps)[-1]\n",
    "        annotation_id = '-'.join(os.path.split(fname)[-1].split('common_fps_video_sync')[-1:])[:-4]\n",
    "\n",
    "        audiosync_folder = kwargs.get('audiosync_folder', 'sync_audio')\n",
    "        audioannotation_folder = kwargs.get('audioannotation_folder', 'annotation_audio')\n",
    "\n",
    "    \n",
    "        audio_file_base_name = annotation_id+'.WAV'\n",
    "        sf.write(audiosync_folder+'matching_sync_'+audio_file_base_name, syncblock_audio,fs)\n",
    "        sf.write(audioannotation_folder+'matching_annotaudio_'+audio_file_base_name, best_audio,fs)\n",
    "        return(True)\n",
    "    except:\n",
    "        print('Could not save ', each_commonfps)\n",
    "        return(False)\n",
    "\n"
   ]
  },
  {
   "cell_type": "code",
   "execution_count": 10,
   "metadata": {},
   "outputs": [
    {
     "data": {
      "text/plain": [
       "['/home/tbeleyur/Documents/horseshoe_bat/audio_non_spikey/2018-08-18/non_spikey_T0000822.WAV',\n",
       " '/home/tbeleyur/Documents/horseshoe_bat/audio_non_spikey/2018-08-18/non_spikey_T0000974.WAV',\n",
       " '/home/tbeleyur/Documents/horseshoe_bat/audio_non_spikey/2018-08-18/non_spikey_T0000923.WAV',\n",
       " '/home/tbeleyur/Documents/horseshoe_bat/audio_non_spikey/2018-08-18/non_spikey_T0000888.WAV',\n",
       " '/home/tbeleyur/Documents/horseshoe_bat/audio_non_spikey/2018-08-18/non_spikey_T0000851.WAV',\n",
       " '/home/tbeleyur/Documents/horseshoe_bat/audio_non_spikey/2018-08-18/non_spikey_T0000918.WAV',\n",
       " '/home/tbeleyur/Documents/horseshoe_bat/audio_non_spikey/2018-08-18/non_spikey_T0000858.WAV',\n",
       " '/home/tbeleyur/Documents/horseshoe_bat/audio_non_spikey/2018-08-18/non_spikey_T0000919.WAV',\n",
       " '/home/tbeleyur/Documents/horseshoe_bat/audio_non_spikey/2018-08-18/non_spikey_T0000984.WAV',\n",
       " '/home/tbeleyur/Documents/horseshoe_bat/audio_non_spikey/2018-08-18/non_spikey_T0000963.WAV',\n",
       " '/home/tbeleyur/Documents/horseshoe_bat/audio_non_spikey/2018-08-18/non_spikey_T0000902.WAV',\n",
       " '/home/tbeleyur/Documents/horseshoe_bat/audio_non_spikey/2018-08-18/non_spikey_T0000911.WAV',\n",
       " '/home/tbeleyur/Documents/horseshoe_bat/audio_non_spikey/2018-08-18/non_spikey_T0000959.WAV',\n",
       " '/home/tbeleyur/Documents/horseshoe_bat/audio_non_spikey/2018-08-18/non_spikey_T0000969.WAV',\n",
       " '/home/tbeleyur/Documents/horseshoe_bat/audio_non_spikey/2018-08-18/non_spikey_T0000869.WAV',\n",
       " '/home/tbeleyur/Documents/horseshoe_bat/audio_non_spikey/2018-08-18/non_spikey_T0000886.WAV',\n",
       " '/home/tbeleyur/Documents/horseshoe_bat/audio_non_spikey/2018-08-18/non_spikey_T0000949.WAV',\n",
       " '/home/tbeleyur/Documents/horseshoe_bat/audio_non_spikey/2018-08-18/non_spikey_T0000912.WAV',\n",
       " '/home/tbeleyur/Documents/horseshoe_bat/audio_non_spikey/2018-08-18/non_spikey_T0000947.WAV',\n",
       " '/home/tbeleyur/Documents/horseshoe_bat/audio_non_spikey/2018-08-18/non_spikey_T0000986.WAV',\n",
       " '/home/tbeleyur/Documents/horseshoe_bat/audio_non_spikey/2018-08-18/non_spikey_T0000903.WAV',\n",
       " '/home/tbeleyur/Documents/horseshoe_bat/audio_non_spikey/2018-08-18/non_spikey_T0000962.WAV',\n",
       " '/home/tbeleyur/Documents/horseshoe_bat/audio_non_spikey/2018-08-18/non_spikey_T0000952.WAV',\n",
       " '/home/tbeleyur/Documents/horseshoe_bat/audio_non_spikey/2018-08-18/non_spikey_T0000882.WAV',\n",
       " '/home/tbeleyur/Documents/horseshoe_bat/audio_non_spikey/2018-08-18/non_spikey_T0000839.WAV',\n",
       " '/home/tbeleyur/Documents/horseshoe_bat/audio_non_spikey/2018-08-18/non_spikey_T0000917.WAV',\n",
       " '/home/tbeleyur/Documents/horseshoe_bat/audio_non_spikey/2018-08-18/non_spikey_T0000880.WAV',\n",
       " '/home/tbeleyur/Documents/horseshoe_bat/audio_non_spikey/2018-08-18/non_spikey_T0000823.WAV',\n",
       " '/home/tbeleyur/Documents/horseshoe_bat/audio_non_spikey/2018-08-18/non_spikey_T0000931.WAV',\n",
       " '/home/tbeleyur/Documents/horseshoe_bat/audio_non_spikey/2018-08-18/non_spikey_T0000916.WAV',\n",
       " '/home/tbeleyur/Documents/horseshoe_bat/audio_non_spikey/2018-08-18/non_spikey_T0000881.WAV',\n",
       " '/home/tbeleyur/Documents/horseshoe_bat/audio_non_spikey/2018-08-18/non_spikey_T0000929.WAV',\n",
       " '/home/tbeleyur/Documents/horseshoe_bat/audio_non_spikey/2018-08-18/non_spikey_T0000956.WAV',\n",
       " '/home/tbeleyur/Documents/horseshoe_bat/audio_non_spikey/2018-08-18/non_spikey_T0000857.WAV',\n",
       " '/home/tbeleyur/Documents/horseshoe_bat/audio_non_spikey/2018-08-18/non_spikey_T0000848.WAV',\n",
       " '/home/tbeleyur/Documents/horseshoe_bat/audio_non_spikey/2018-08-18/non_spikey_T0000955.WAV',\n",
       " '/home/tbeleyur/Documents/horseshoe_bat/audio_non_spikey/2018-08-18/non_spikey_T0000920.WAV',\n",
       " '/home/tbeleyur/Documents/horseshoe_bat/audio_non_spikey/2018-08-18/non_spikey_T0000894.WAV',\n",
       " '/home/tbeleyur/Documents/horseshoe_bat/audio_non_spikey/2018-08-18/non_spikey_T0000937.WAV',\n",
       " '/home/tbeleyur/Documents/horseshoe_bat/audio_non_spikey/2018-08-18/non_spikey_T0000887.WAV',\n",
       " '/home/tbeleyur/Documents/horseshoe_bat/audio_non_spikey/2018-08-18/non_spikey_T0000909.WAV',\n",
       " '/home/tbeleyur/Documents/horseshoe_bat/audio_non_spikey/2018-08-18/non_spikey_T0000843.WAV',\n",
       " '/home/tbeleyur/Documents/horseshoe_bat/audio_non_spikey/2018-08-18/non_spikey_T0000837.WAV',\n",
       " '/home/tbeleyur/Documents/horseshoe_bat/audio_non_spikey/2018-08-18/non_spikey_T0000933.WAV',\n",
       " '/home/tbeleyur/Documents/horseshoe_bat/audio_non_spikey/2018-08-18/non_spikey_T0000864.WAV',\n",
       " '/home/tbeleyur/Documents/horseshoe_bat/audio_non_spikey/2018-08-18/non_spikey_T0000901.WAV',\n",
       " '/home/tbeleyur/Documents/horseshoe_bat/audio_non_spikey/2018-08-18/non_spikey_T0000942.WAV',\n",
       " '/home/tbeleyur/Documents/horseshoe_bat/audio_non_spikey/2018-08-18/non_spikey_T0000844.WAV',\n",
       " '/home/tbeleyur/Documents/horseshoe_bat/audio_non_spikey/2018-08-18/non_spikey_T0000936.WAV',\n",
       " '/home/tbeleyur/Documents/horseshoe_bat/audio_non_spikey/2018-08-18/non_spikey_T0000842.WAV',\n",
       " '/home/tbeleyur/Documents/horseshoe_bat/audio_non_spikey/2018-08-18/non_spikey_T0000965.WAV',\n",
       " '/home/tbeleyur/Documents/horseshoe_bat/audio_non_spikey/2018-08-18/non_spikey_T0000975.WAV',\n",
       " '/home/tbeleyur/Documents/horseshoe_bat/audio_non_spikey/2018-08-18/non_spikey_T0000821.WAV',\n",
       " '/home/tbeleyur/Documents/horseshoe_bat/audio_non_spikey/2018-08-18/non_spikey_T0000818.WAV',\n",
       " '/home/tbeleyur/Documents/horseshoe_bat/audio_non_spikey/2018-08-18/non_spikey_T0000865.WAV',\n",
       " '/home/tbeleyur/Documents/horseshoe_bat/audio_non_spikey/2018-08-18/non_spikey_T0000966.WAV',\n",
       " '/home/tbeleyur/Documents/horseshoe_bat/audio_non_spikey/2018-08-18/non_spikey_T0000817.WAV',\n",
       " '/home/tbeleyur/Documents/horseshoe_bat/audio_non_spikey/2018-08-18/non_spikey_T0000928.WAV',\n",
       " '/home/tbeleyur/Documents/horseshoe_bat/audio_non_spikey/2018-08-18/non_spikey_T0000973.WAV',\n",
       " '/home/tbeleyur/Documents/horseshoe_bat/audio_non_spikey/2018-08-18/non_spikey_T0000983.WAV',\n",
       " '/home/tbeleyur/Documents/horseshoe_bat/audio_non_spikey/2018-08-18/non_spikey_T0000964.WAV',\n",
       " '/home/tbeleyur/Documents/horseshoe_bat/audio_non_spikey/2018-08-18/non_spikey_T0000856.WAV',\n",
       " '/home/tbeleyur/Documents/horseshoe_bat/audio_non_spikey/2018-08-18/non_spikey_T0000930.WAV',\n",
       " '/home/tbeleyur/Documents/horseshoe_bat/audio_non_spikey/2018-08-18/non_spikey_T0000819.WAV',\n",
       " '/home/tbeleyur/Documents/horseshoe_bat/audio_non_spikey/2018-08-18/non_spikey_T0000825.WAV',\n",
       " '/home/tbeleyur/Documents/horseshoe_bat/audio_non_spikey/2018-08-18/non_spikey_T0000854.WAV',\n",
       " '/home/tbeleyur/Documents/horseshoe_bat/audio_non_spikey/2018-08-18/non_spikey_T0000846.WAV',\n",
       " '/home/tbeleyur/Documents/horseshoe_bat/audio_non_spikey/2018-08-18/non_spikey_T0000946.WAV',\n",
       " '/home/tbeleyur/Documents/horseshoe_bat/audio_non_spikey/2018-08-18/non_spikey_T0000935.WAV',\n",
       " '/home/tbeleyur/Documents/horseshoe_bat/audio_non_spikey/2018-08-18/non_spikey_T0000981.WAV',\n",
       " '/home/tbeleyur/Documents/horseshoe_bat/audio_non_spikey/2018-08-18/non_spikey_T0000876.WAV',\n",
       " '/home/tbeleyur/Documents/horseshoe_bat/audio_non_spikey/2018-08-18/non_spikey_T0000875.WAV',\n",
       " '/home/tbeleyur/Documents/horseshoe_bat/audio_non_spikey/2018-08-18/non_spikey_T0000874.WAV',\n",
       " '/home/tbeleyur/Documents/horseshoe_bat/audio_non_spikey/2018-08-18/non_spikey_T0000915.WAV',\n",
       " '/home/tbeleyur/Documents/horseshoe_bat/audio_non_spikey/2018-08-18/non_spikey_T0000852.WAV',\n",
       " '/home/tbeleyur/Documents/horseshoe_bat/audio_non_spikey/2018-08-18/non_spikey_T0000939.WAV',\n",
       " '/home/tbeleyur/Documents/horseshoe_bat/audio_non_spikey/2018-08-18/non_spikey_T0000868.WAV',\n",
       " '/home/tbeleyur/Documents/horseshoe_bat/audio_non_spikey/2018-08-18/non_spikey_T0000951.WAV',\n",
       " '/home/tbeleyur/Documents/horseshoe_bat/audio_non_spikey/2018-08-18/non_spikey_T0000845.WAV',\n",
       " '/home/tbeleyur/Documents/horseshoe_bat/audio_non_spikey/2018-08-18/non_spikey_T0000922.WAV',\n",
       " '/home/tbeleyur/Documents/horseshoe_bat/audio_non_spikey/2018-08-18/non_spikey_T0000879.WAV',\n",
       " '/home/tbeleyur/Documents/horseshoe_bat/audio_non_spikey/2018-08-18/non_spikey_T0000945.WAV',\n",
       " '/home/tbeleyur/Documents/horseshoe_bat/audio_non_spikey/2018-08-18/non_spikey_T0000826.WAV',\n",
       " '/home/tbeleyur/Documents/horseshoe_bat/audio_non_spikey/2018-08-18/non_spikey_T0000898.WAV',\n",
       " '/home/tbeleyur/Documents/horseshoe_bat/audio_non_spikey/2018-08-18/non_spikey_T0000840.WAV',\n",
       " '/home/tbeleyur/Documents/horseshoe_bat/audio_non_spikey/2018-08-18/non_spikey_T0000889.WAV',\n",
       " '/home/tbeleyur/Documents/horseshoe_bat/audio_non_spikey/2018-08-18/non_spikey_T0000914.WAV',\n",
       " '/home/tbeleyur/Documents/horseshoe_bat/audio_non_spikey/2018-08-18/non_spikey_T0000873.WAV',\n",
       " '/home/tbeleyur/Documents/horseshoe_bat/audio_non_spikey/2018-08-18/non_spikey_T0000861.WAV',\n",
       " '/home/tbeleyur/Documents/horseshoe_bat/audio_non_spikey/2018-08-18/non_spikey_T0000815.WAV',\n",
       " '/home/tbeleyur/Documents/horseshoe_bat/audio_non_spikey/2018-08-18/non_spikey_T0000896.WAV',\n",
       " '/home/tbeleyur/Documents/horseshoe_bat/audio_non_spikey/2018-08-18/non_spikey_T0000913.WAV',\n",
       " '/home/tbeleyur/Documents/horseshoe_bat/audio_non_spikey/2018-08-18/non_spikey_T0000862.WAV',\n",
       " '/home/tbeleyur/Documents/horseshoe_bat/audio_non_spikey/2018-08-18/non_spikey_T0000867.WAV',\n",
       " '/home/tbeleyur/Documents/horseshoe_bat/audio_non_spikey/2018-08-18/non_spikey_T0000900.WAV',\n",
       " '/home/tbeleyur/Documents/horseshoe_bat/audio_non_spikey/2018-08-18/non_spikey_T0000841.WAV',\n",
       " '/home/tbeleyur/Documents/horseshoe_bat/audio_non_spikey/2018-08-18/non_spikey_T0000908.WAV',\n",
       " '/home/tbeleyur/Documents/horseshoe_bat/audio_non_spikey/2018-08-18/non_spikey_T0000847.WAV',\n",
       " '/home/tbeleyur/Documents/horseshoe_bat/audio_non_spikey/2018-08-18/non_spikey_T0000972.WAV',\n",
       " '/home/tbeleyur/Documents/horseshoe_bat/audio_non_spikey/2018-08-18/non_spikey_T0000855.WAV',\n",
       " '/home/tbeleyur/Documents/horseshoe_bat/audio_non_spikey/2018-08-18/non_spikey_T0000870.WAV',\n",
       " '/home/tbeleyur/Documents/horseshoe_bat/audio_non_spikey/2018-08-18/non_spikey_T0000829.WAV',\n",
       " '/home/tbeleyur/Documents/horseshoe_bat/audio_non_spikey/2018-08-18/non_spikey_T0000910.WAV',\n",
       " '/home/tbeleyur/Documents/horseshoe_bat/audio_non_spikey/2018-08-18/non_spikey_T0000863.WAV',\n",
       " '/home/tbeleyur/Documents/horseshoe_bat/audio_non_spikey/2018-08-18/non_spikey_T0000853.WAV',\n",
       " '/home/tbeleyur/Documents/horseshoe_bat/audio_non_spikey/2018-08-18/non_spikey_T0000926.WAV',\n",
       " '/home/tbeleyur/Documents/horseshoe_bat/audio_non_spikey/2018-08-18/non_spikey_T0000860.WAV',\n",
       " '/home/tbeleyur/Documents/horseshoe_bat/audio_non_spikey/2018-08-18/non_spikey_T0000904.WAV',\n",
       " '/home/tbeleyur/Documents/horseshoe_bat/audio_non_spikey/2018-08-18/non_spikey_T0000899.WAV',\n",
       " '/home/tbeleyur/Documents/horseshoe_bat/audio_non_spikey/2018-08-18/non_spikey_T0000957.WAV',\n",
       " '/home/tbeleyur/Documents/horseshoe_bat/audio_non_spikey/2018-08-18/non_spikey_T0000895.WAV',\n",
       " '/home/tbeleyur/Documents/horseshoe_bat/audio_non_spikey/2018-08-18/non_spikey_T0000941.WAV',\n",
       " '/home/tbeleyur/Documents/horseshoe_bat/audio_non_spikey/2018-08-18/non_spikey_T0000884.WAV',\n",
       " '/home/tbeleyur/Documents/horseshoe_bat/audio_non_spikey/2018-08-18/non_spikey_T0000832.WAV',\n",
       " '/home/tbeleyur/Documents/horseshoe_bat/audio_non_spikey/2018-08-18/non_spikey_T0000934.WAV',\n",
       " '/home/tbeleyur/Documents/horseshoe_bat/audio_non_spikey/2018-08-18/non_spikey_T0000980.WAV',\n",
       " '/home/tbeleyur/Documents/horseshoe_bat/audio_non_spikey/2018-08-18/non_spikey_T0000970.WAV',\n",
       " '/home/tbeleyur/Documents/horseshoe_bat/audio_non_spikey/2018-08-18/non_spikey_T0000828.WAV',\n",
       " '/home/tbeleyur/Documents/horseshoe_bat/audio_non_spikey/2018-08-18/non_spikey_T0000872.WAV',\n",
       " '/home/tbeleyur/Documents/horseshoe_bat/audio_non_spikey/2018-08-18/non_spikey_T0000835.WAV',\n",
       " '/home/tbeleyur/Documents/horseshoe_bat/audio_non_spikey/2018-08-18/non_spikey_T0000927.WAV',\n",
       " '/home/tbeleyur/Documents/horseshoe_bat/audio_non_spikey/2018-08-18/non_spikey_T0000979.WAV',\n",
       " '/home/tbeleyur/Documents/horseshoe_bat/audio_non_spikey/2018-08-18/non_spikey_T0000978.WAV',\n",
       " '/home/tbeleyur/Documents/horseshoe_bat/audio_non_spikey/2018-08-18/non_spikey_T0000833.WAV',\n",
       " '/home/tbeleyur/Documents/horseshoe_bat/audio_non_spikey/2018-08-18/non_spikey_T0000891.WAV',\n",
       " '/home/tbeleyur/Documents/horseshoe_bat/audio_non_spikey/2018-08-18/non_spikey_T0000883.WAV',\n",
       " '/home/tbeleyur/Documents/horseshoe_bat/audio_non_spikey/2018-08-18/non_spikey_T0000943.WAV',\n",
       " '/home/tbeleyur/Documents/horseshoe_bat/audio_non_spikey/2018-08-18/non_spikey_T0000878.WAV',\n",
       " '/home/tbeleyur/Documents/horseshoe_bat/audio_non_spikey/2018-08-18/non_spikey_T0000885.WAV',\n",
       " '/home/tbeleyur/Documents/horseshoe_bat/audio_non_spikey/2018-08-18/non_spikey_T0000830.WAV',\n",
       " '/home/tbeleyur/Documents/horseshoe_bat/audio_non_spikey/2018-08-18/non_spikey_T0000866.WAV',\n",
       " '/home/tbeleyur/Documents/horseshoe_bat/audio_non_spikey/2018-08-18/non_spikey_T0000838.WAV',\n",
       " '/home/tbeleyur/Documents/horseshoe_bat/audio_non_spikey/2018-08-18/non_spikey_T0000985.WAV',\n",
       " '/home/tbeleyur/Documents/horseshoe_bat/audio_non_spikey/2018-08-18/non_spikey_T0000836.WAV',\n",
       " '/home/tbeleyur/Documents/horseshoe_bat/audio_non_spikey/2018-08-18/non_spikey_T0000907.WAV',\n",
       " '/home/tbeleyur/Documents/horseshoe_bat/audio_non_spikey/2018-08-18/non_spikey_T0000824.WAV',\n",
       " '/home/tbeleyur/Documents/horseshoe_bat/audio_non_spikey/2018-08-18/non_spikey_T0000925.WAV',\n",
       " '/home/tbeleyur/Documents/horseshoe_bat/audio_non_spikey/2018-08-18/non_spikey_T0000871.WAV',\n",
       " '/home/tbeleyur/Documents/horseshoe_bat/audio_non_spikey/2018-08-18/non_spikey_T0000950.WAV',\n",
       " '/home/tbeleyur/Documents/horseshoe_bat/audio_non_spikey/2018-08-18/non_spikey_T0000892.WAV',\n",
       " '/home/tbeleyur/Documents/horseshoe_bat/audio_non_spikey/2018-08-18/non_spikey_T0000940.WAV',\n",
       " '/home/tbeleyur/Documents/horseshoe_bat/audio_non_spikey/2018-08-18/non_spikey_T0000971.WAV',\n",
       " '/home/tbeleyur/Documents/horseshoe_bat/audio_non_spikey/2018-08-18/non_spikey_T0000893.WAV',\n",
       " '/home/tbeleyur/Documents/horseshoe_bat/audio_non_spikey/2018-08-18/non_spikey_T0000960.WAV',\n",
       " '/home/tbeleyur/Documents/horseshoe_bat/audio_non_spikey/2018-08-18/non_spikey_T0000961.WAV',\n",
       " '/home/tbeleyur/Documents/horseshoe_bat/audio_non_spikey/2018-08-18/non_spikey_T0000906.WAV',\n",
       " '/home/tbeleyur/Documents/horseshoe_bat/audio_non_spikey/2018-08-18/non_spikey_T0000859.WAV',\n",
       " '/home/tbeleyur/Documents/horseshoe_bat/audio_non_spikey/2018-08-18/non_spikey_T0000954.WAV',\n",
       " '/home/tbeleyur/Documents/horseshoe_bat/audio_non_spikey/2018-08-18/non_spikey_T0000924.WAV',\n",
       " '/home/tbeleyur/Documents/horseshoe_bat/audio_non_spikey/2018-08-18/non_spikey_T0000953.WAV',\n",
       " '/home/tbeleyur/Documents/horseshoe_bat/audio_non_spikey/2018-08-18/non_spikey_T0000820.WAV',\n",
       " '/home/tbeleyur/Documents/horseshoe_bat/audio_non_spikey/2018-08-18/non_spikey_T0000948.WAV',\n",
       " '/home/tbeleyur/Documents/horseshoe_bat/audio_non_spikey/2018-08-18/non_spikey_T0000938.WAV',\n",
       " '/home/tbeleyur/Documents/horseshoe_bat/audio_non_spikey/2018-08-18/non_spikey_T0000976.WAV',\n",
       " '/home/tbeleyur/Documents/horseshoe_bat/audio_non_spikey/2018-08-18/non_spikey_T0000977.WAV',\n",
       " '/home/tbeleyur/Documents/horseshoe_bat/audio_non_spikey/2018-08-18/non_spikey_T0000982.WAV',\n",
       " '/home/tbeleyur/Documents/horseshoe_bat/audio_non_spikey/2018-08-18/non_spikey_T0000968.WAV',\n",
       " '/home/tbeleyur/Documents/horseshoe_bat/audio_non_spikey/2018-08-18/non_spikey_T0000850.WAV',\n",
       " '/home/tbeleyur/Documents/horseshoe_bat/audio_non_spikey/2018-08-18/non_spikey_T0000834.WAV',\n",
       " '/home/tbeleyur/Documents/horseshoe_bat/audio_non_spikey/2018-08-18/non_spikey_T0000877.WAV',\n",
       " '/home/tbeleyur/Documents/horseshoe_bat/audio_non_spikey/2018-08-18/non_spikey_T0000905.WAV',\n",
       " '/home/tbeleyur/Documents/horseshoe_bat/audio_non_spikey/2018-08-18/non_spikey_T0000958.WAV',\n",
       " '/home/tbeleyur/Documents/horseshoe_bat/audio_non_spikey/2018-08-18/non_spikey_T0000816.WAV',\n",
       " '/home/tbeleyur/Documents/horseshoe_bat/audio_non_spikey/2018-08-18/non_spikey_T0000921.WAV',\n",
       " '/home/tbeleyur/Documents/horseshoe_bat/audio_non_spikey/2018-08-18/non_spikey_T0000967.WAV',\n",
       " '/home/tbeleyur/Documents/horseshoe_bat/audio_non_spikey/2018-08-18/non_spikey_T0000890.WAV',\n",
       " '/home/tbeleyur/Documents/horseshoe_bat/audio_non_spikey/2018-08-18/non_spikey_T0000849.WAV',\n",
       " '/home/tbeleyur/Documents/horseshoe_bat/audio_non_spikey/2018-08-18/non_spikey_T0000827.WAV',\n",
       " '/home/tbeleyur/Documents/horseshoe_bat/audio_non_spikey/2018-08-18/non_spikey_T0000831.WAV',\n",
       " '/home/tbeleyur/Documents/horseshoe_bat/audio_non_spikey/2018-08-18/non_spikey_T0000897.WAV',\n",
       " '/home/tbeleyur/Documents/horseshoe_bat/audio_non_spikey/2018-08-18/non_spikey_T0000932.WAV',\n",
       " '/home/tbeleyur/Documents/horseshoe_bat/audio_non_spikey/2018-08-18/non_spikey_T0000944.WAV']"
      ]
     },
     "execution_count": 10,
     "metadata": {},
     "output_type": "execute_result"
    }
   ],
   "source": [
    "glob.glob(audio_folder+'*.WAV')"
   ]
  },
  {
   "cell_type": "code",
   "execution_count": 11,
   "metadata": {
    "scrolled": true
   },
   "outputs": [
    {
     "data": {
      "text/plain": [
       "['non_spikey_T0000822.WAV',\n",
       " 'non_spikey_T0000974.WAV',\n",
       " 'non_spikey_T0000923.WAV',\n",
       " 'non_spikey_T0000888.WAV',\n",
       " 'non_spikey_T0000851.WAV',\n",
       " 'non_spikey_T0000918.WAV',\n",
       " 'non_spikey_T0000858.WAV',\n",
       " 'non_spikey_T0000919.WAV',\n",
       " 'non_spikey_T0000984.WAV',\n",
       " 'non_spikey_T0000963.WAV',\n",
       " 'non_spikey_T0000902.WAV',\n",
       " 'non_spikey_T0000911.WAV',\n",
       " 'non_spikey_T0000959.WAV',\n",
       " 'non_spikey_T0000969.WAV',\n",
       " 'non_spikey_T0000869.WAV',\n",
       " 'non_spikey_T0000886.WAV',\n",
       " 'non_spikey_T0000949.WAV',\n",
       " 'non_spikey_T0000912.WAV',\n",
       " 'non_spikey_T0000947.WAV',\n",
       " 'non_spikey_T0000986.WAV',\n",
       " 'non_spikey_T0000903.WAV',\n",
       " 'non_spikey_T0000962.WAV',\n",
       " 'non_spikey_T0000952.WAV',\n",
       " 'non_spikey_T0000882.WAV',\n",
       " 'non_spikey_T0000839.WAV',\n",
       " 'non_spikey_T0000917.WAV',\n",
       " 'non_spikey_T0000880.WAV',\n",
       " 'non_spikey_T0000823.WAV',\n",
       " 'non_spikey_T0000931.WAV',\n",
       " 'non_spikey_T0000916.WAV',\n",
       " 'non_spikey_T0000881.WAV',\n",
       " 'non_spikey_T0000929.WAV',\n",
       " 'non_spikey_T0000956.WAV',\n",
       " 'non_spikey_T0000857.WAV',\n",
       " 'non_spikey_T0000848.WAV',\n",
       " 'non_spikey_T0000955.WAV',\n",
       " 'non_spikey_T0000920.WAV',\n",
       " 'non_spikey_T0000894.WAV',\n",
       " 'non_spikey_T0000937.WAV',\n",
       " 'non_spikey_T0000887.WAV',\n",
       " 'non_spikey_T0000909.WAV',\n",
       " 'non_spikey_T0000843.WAV',\n",
       " 'non_spikey_T0000837.WAV',\n",
       " 'non_spikey_T0000933.WAV',\n",
       " 'non_spikey_T0000864.WAV',\n",
       " 'make_non_spikey_2018-08-18.py',\n",
       " 'non_spikey_T0000901.WAV',\n",
       " 'non_spikey_T0000942.WAV',\n",
       " 'non_spikey_T0000844.WAV',\n",
       " 'non_spikey_T0000936.WAV',\n",
       " 'non_spikey_T0000842.WAV',\n",
       " 'non_spikey_T0000965.WAV',\n",
       " 'non_spikey_T0000975.WAV',\n",
       " 'non_spikey_T0000821.WAV',\n",
       " 'non_spikey_T0000818.WAV',\n",
       " 'non_spikey_T0000865.WAV',\n",
       " 'non_spikey_T0000966.WAV',\n",
       " 'non_spikey_T0000817.WAV',\n",
       " 'non_spikey_T0000928.WAV',\n",
       " 'non_spikey_T0000973.WAV',\n",
       " 'non_spikey_T0000983.WAV',\n",
       " 'non_spikey_T0000964.WAV',\n",
       " 'non_spikey_T0000856.WAV',\n",
       " 'non_spikey_T0000930.WAV',\n",
       " 'non_spikey_T0000819.WAV',\n",
       " 'non_spikey_T0000825.WAV',\n",
       " 'non_spikey_T0000854.WAV',\n",
       " 'non_spikey_T0000846.WAV',\n",
       " 'non_spikey_T0000946.WAV',\n",
       " 'non_spikey_T0000935.WAV',\n",
       " 'non_spikey_T0000981.WAV',\n",
       " 'non_spikey_T0000876.WAV',\n",
       " 'non_spikey_T0000875.WAV',\n",
       " 'non_spikey_T0000874.WAV',\n",
       " 'non_spikey_T0000915.WAV',\n",
       " 'non_spikey_T0000852.WAV',\n",
       " 'non_spikey_T0000939.WAV',\n",
       " 'non_spikey_T0000868.WAV',\n",
       " 'non_spikey_T0000951.WAV',\n",
       " 'non_spikey_T0000845.WAV',\n",
       " 'non_spikey_T0000922.WAV',\n",
       " 'non_spikey_T0000879.WAV',\n",
       " 'non_spikey_T0000945.WAV',\n",
       " 'non_spikey_T0000826.WAV',\n",
       " 'non_spikey_T0000898.WAV',\n",
       " 'non_spikey_T0000840.WAV',\n",
       " 'non_spikey_T0000889.WAV',\n",
       " 'non_spikey_T0000914.WAV',\n",
       " 'non_spikey_T0000873.WAV',\n",
       " 'non_spikey_T0000861.WAV',\n",
       " 'non_spikey_T0000815.WAV',\n",
       " 'non_spikey_T0000896.WAV',\n",
       " 'non_spikey_T0000913.WAV',\n",
       " 'non_spikey_T0000862.WAV',\n",
       " 'non_spikey_T0000867.WAV',\n",
       " 'non_spikey_T0000900.WAV',\n",
       " 'non_spikey_T0000841.WAV',\n",
       " 'non_spikey_T0000908.WAV',\n",
       " 'non_spikey_T0000847.WAV',\n",
       " 'non_spikey_T0000972.WAV',\n",
       " 'non_spikey_T0000855.WAV',\n",
       " 'non_spikey_T0000870.WAV',\n",
       " 'non_spikey_T0000829.WAV',\n",
       " 'non_spikey_T0000910.WAV',\n",
       " 'non_spikey_T0000863.WAV',\n",
       " 'non_spikey_T0000853.WAV',\n",
       " 'non_spikey_T0000926.WAV',\n",
       " 'non_spikey_T0000860.WAV',\n",
       " 'non_spikey_T0000904.WAV',\n",
       " 'non_spikey_T0000899.WAV',\n",
       " 'non_spikey_T0000957.WAV',\n",
       " 'non_spikey_T0000895.WAV',\n",
       " 'non_spikey_T0000941.WAV',\n",
       " 'non_spikey_T0000884.WAV',\n",
       " 'non_spikey_T0000832.WAV',\n",
       " 'non_spikey_T0000934.WAV',\n",
       " 'non_spikey_T0000980.WAV',\n",
       " 'non_spikey_T0000970.WAV',\n",
       " 'non_spikey_T0000828.WAV',\n",
       " 'non_spikey_T0000872.WAV',\n",
       " 'non_spikey_T0000835.WAV',\n",
       " 'non_spikey_T0000927.WAV',\n",
       " 'non_spikey_T0000979.WAV',\n",
       " 'non_spikey_T0000978.WAV',\n",
       " 'non_spikey_T0000833.WAV',\n",
       " 'non_spikey_T0000891.WAV',\n",
       " 'non_spikey_T0000883.WAV',\n",
       " 'non_spikey_T0000943.WAV',\n",
       " 'non_spikey_T0000878.WAV',\n",
       " 'non_spikey_T0000885.WAV',\n",
       " 'non_spikey_T0000830.WAV',\n",
       " 'non_spikey_T0000866.WAV',\n",
       " 'non_spikey_T0000838.WAV',\n",
       " 'non_spikey_T0000985.WAV',\n",
       " 'non_spikey_T0000836.WAV',\n",
       " 'non_spikey_T0000907.WAV',\n",
       " 'non_spikey_T0000824.WAV',\n",
       " 'non_spikey_T0000925.WAV',\n",
       " 'non_spikey_T0000871.WAV',\n",
       " 'non_spikey_T0000950.WAV',\n",
       " 'non_spikey_T0000892.WAV',\n",
       " 'non_spikey_T0000940.WAV',\n",
       " 'non_spikey_T0000971.WAV',\n",
       " 'non_spikey_T0000893.WAV',\n",
       " 'non_spikey_T0000960.WAV',\n",
       " 'non_spikey_T0000961.WAV',\n",
       " 'non_spikey_T0000906.WAV',\n",
       " 'non_spikey_T0000859.WAV',\n",
       " 'non_spikey_T0000954.WAV',\n",
       " 'non_spikey_T0000924.WAV',\n",
       " 'non_spikey_T0000953.WAV',\n",
       " 'non_spikey_T0000820.WAV',\n",
       " 'non_spikey_T0000948.WAV',\n",
       " 'non_spikey_T0000938.WAV',\n",
       " 'non_spikey_T0000976.WAV',\n",
       " 'non_spikey_T0000977.WAV',\n",
       " 'non_spikey_T0000982.WAV',\n",
       " 'non_spikey_T0000968.WAV',\n",
       " 'non_spikey_T0000850.WAV',\n",
       " 'non_spikey_T0000834.WAV',\n",
       " 'non_spikey_T0000877.WAV',\n",
       " 'non_spikey_T0000905.WAV',\n",
       " 'non_spikey_T0000958.WAV',\n",
       " 'non_spikey_T0000816.WAV',\n",
       " 'non_spikey_T0000921.WAV',\n",
       " 'non_spikey_T0000967.WAV',\n",
       " 'non_spikey_T0000890.WAV',\n",
       " 'non_spikey_T0000849.WAV',\n",
       " 'non_spikey_T0000827.WAV',\n",
       " 'non_spikey_T0000831.WAV',\n",
       " 'non_spikey_T0000897.WAV',\n",
       " 'non_spikey_T0000932.WAV',\n",
       " 'non_spikey_T0000944.WAV']"
      ]
     },
     "execution_count": 11,
     "metadata": {},
     "output_type": "execute_result"
    }
   ],
   "source": [
    "os.listdir(audio_folder)"
   ]
  },
  {
   "cell_type": "code",
   "execution_count": 12,
   "metadata": {
    "scrolled": true
   },
   "outputs": [
    {
     "data": {
      "text/plain": [
       "['common_fps/Aditya_annotations/2018-08-18/common_fps_video_syncAditya_2018-08-19_0120-0200_80.csv',\n",
       " 'common_fps/Aditya_annotations/2018-08-18/common_fps_video_syncAditya_2018-08-19_0120-0200_101.csv',\n",
       " 'common_fps/Aditya_annotations/2018-08-18/common_fps_video_syncAditya_2018-08-19_0120-0200_81.csv',\n",
       " 'common_fps/Aditya_annotations/2018-08-18/common_fps_video_syncAditya_2018-08-19_0120-0200_118.csv',\n",
       " 'common_fps/Aditya_annotations/2018-08-18/common_fps_video_syncAditya_2018-08-19_0120-0200_122.csv',\n",
       " 'common_fps/Aditya_annotations/2018-08-18/common_fps_video_syncAditya_2018-08-19_0120-0200_24.csv',\n",
       " 'common_fps/Aditya_annotations/2018-08-18/common_fps_video_syncAditya_2018-08-19_0120-0200_33.csv',\n",
       " 'common_fps/Aditya_annotations/2018-08-18/common_fps_video_syncAditya_2018-08-19_0120-0200_116.csv',\n",
       " 'common_fps/Aditya_annotations/2018-08-18/common_fps_video_syncAditya_2018-08-19_0120-0200_30.csv',\n",
       " 'common_fps/Aditya_annotations/2018-08-18/common_fps_video_syncAditya_2018-08-19_0120-0200_124.csv',\n",
       " 'common_fps/Aditya_annotations/2018-08-18/common_fps_video_syncAditya_2018-08-19_0120-0200_13.csv',\n",
       " 'common_fps/Aditya_annotations/2018-08-18/common_fps_video_syncAditya_2018-08-19_0120-0200_34.csv',\n",
       " 'common_fps/Aditya_annotations/2018-08-18/common_fps_video_syncAditya_2018-08-19_0120-0200_65.csv',\n",
       " 'common_fps/Aditya_annotations/2018-08-18/common_fps_video_syncAditya_2018-08-19_0120-0200_64.csv',\n",
       " 'common_fps/Aditya_annotations/2018-08-18/common_fps_video_syncAditya_2018-08-19_0120-0200_90.csv',\n",
       " 'common_fps/Aditya_annotations/2018-08-18/common_fps_video_syncAditya_2018-08-19_0120-0200_69.csv',\n",
       " 'common_fps/Aditya_annotations/2018-08-18/common_fps_video_syncAditya_2018-08-19_0120-0200_62.csv',\n",
       " 'common_fps/Aditya_annotations/2018-08-18/common_fps_video_syncAditya_2018-08-19_0120-0200_106.csv',\n",
       " 'common_fps/Aditya_annotations/2018-08-18/common_fps_video_syncAditya_2018-08-19_0120-0200_37.csv',\n",
       " 'common_fps/Aditya_annotations/2018-08-18/common_fps_video_syncAditya_2018-08-19_0120-0200_128.csv',\n",
       " 'common_fps/Aditya_annotations/2018-08-18/common_fps_video_syncAditya_2018-08-19_0120-0200_8.csv',\n",
       " 'common_fps/Aditya_annotations/2018-08-18/common_fps_video_syncAditya_2018-08-19_0120-0200_93.csv',\n",
       " 'common_fps/Aditya_annotations/2018-08-18/common_fps_video_syncAditya_2018-08-19_0120-0200_110.csv',\n",
       " 'common_fps/Aditya_annotations/2018-08-18/common_fps_video_syncAditya_2018-08-19_0120-0200_102.csv',\n",
       " 'common_fps/Aditya_annotations/2018-08-18/common_fps_video_syncAditya_2018-08-19_0120-0200_21.csv',\n",
       " 'common_fps/Aditya_annotations/2018-08-18/common_fps_video_syncAditya_2018-08-19_0120-0200_95.csv',\n",
       " 'common_fps/Aditya_annotations/2018-08-18/common_fps_video_syncAditya_2018-08-19_0120-0200_84.csv',\n",
       " 'common_fps/Aditya_annotations/2018-08-18/common_fps_video_syncAditya_2018-08-19_0120-0200_42.csv',\n",
       " 'common_fps/Aditya_annotations/2018-08-18/common_fps_video_syncAditya_2018-08-19_0120-0200_23.csv',\n",
       " 'common_fps/Aditya_annotations/2018-08-18/common_fps_video_syncAditya_2018-08-19_0120-0200_22.csv',\n",
       " 'common_fps/Aditya_annotations/2018-08-18/common_fps_video_syncAditya_2018-08-19_0120-0200_112.csv',\n",
       " 'common_fps/Aditya_annotations/2018-08-18/common_fps_video_syncAditya_2018-08-19_0120-0200_32.csv',\n",
       " 'common_fps/Aditya_annotations/2018-08-18/common_fps_video_syncAditya_2018-08-19_0120-0200_60.csv',\n",
       " 'common_fps/Aditya_annotations/2018-08-18/common_fps_video_syncAditya_2018-08-19_0120-0200_49.csv',\n",
       " 'common_fps/Aditya_annotations/2018-08-18/common_fps_video_syncAditya_2018-08-19_0120-0200_73.csv',\n",
       " 'common_fps/Aditya_annotations/2018-08-18/common_fps_video_syncAditya_2018-08-19_0120-0200_94.csv',\n",
       " 'common_fps/Aditya_annotations/2018-08-18/common_fps_video_syncAditya_2018-08-19_0120-0200_104.csv',\n",
       " 'common_fps/Aditya_annotations/2018-08-18/common_fps_video_syncAditya_2018-08-19_0120-0200_77.csv',\n",
       " 'common_fps/Aditya_annotations/2018-08-18/common_fps_video_syncAditya_2018-08-19_0120-0200_26.csv',\n",
       " 'common_fps/Aditya_annotations/2018-08-18/common_fps_video_syncAditya_2018-08-19_0120-0200_54.csv',\n",
       " 'common_fps/Aditya_annotations/2018-08-18/common_fps_video_syncAditya_2018-08-19_0120-0200_85.csv',\n",
       " 'common_fps/Aditya_annotations/2018-08-18/common_fps_video_syncAditya_2018-08-19_0120-0200_52.csv',\n",
       " 'common_fps/Aditya_annotations/2018-08-18/common_fps_video_syncAditya_2018-08-19_0120-0200_47.csv',\n",
       " 'common_fps/Aditya_annotations/2018-08-18/common_fps_video_syncAditya_2018-08-19_0120-0200_74.csv',\n",
       " 'common_fps/Aditya_annotations/2018-08-18/common_fps_video_syncAditya_2018-08-19_0120-0200_79.csv',\n",
       " 'common_fps/Aditya_annotations/2018-08-18/common_fps_video_syncAditya_2018-08-19_0120-0200_117.csv',\n",
       " 'common_fps/Aditya_annotations/2018-08-18/common_fps_video_syncAditya_2018-08-19_0120-0200_51.csv',\n",
       " 'common_fps/Aditya_annotations/2018-08-18/common_fps_video_syncAditya_2018-08-19_0120-0200_63.csv',\n",
       " 'common_fps/Aditya_annotations/2018-08-18/common_fps_video_syncAditya_2018-08-19_0120-0200_96.csv',\n",
       " 'common_fps/Aditya_annotations/2018-08-18/common_fps_video_syncAditya_2018-08-19_0120-0200_6.csv',\n",
       " 'common_fps/Aditya_annotations/2018-08-18/common_fps_video_syncAditya_2018-08-19_0120-0200_35.csv',\n",
       " 'common_fps/Aditya_annotations/2018-08-18/common_fps_video_syncAditya_2018-08-19_0120-0200_4.csv',\n",
       " 'common_fps/Aditya_annotations/2018-08-18/common_fps_video_syncAditya_2018-08-19_0120-0200_123.csv',\n",
       " 'common_fps/Aditya_annotations/2018-08-18/common_fps_video_syncAditya_2018-08-19_0120-0200_38.csv',\n",
       " 'common_fps/Aditya_annotations/2018-08-18/common_fps_video_syncAditya_2018-08-19_0120-0200_107.csv',\n",
       " 'common_fps/Aditya_annotations/2018-08-18/common_fps_video_syncAditya_2018-08-19_0120-0200_105.csv',\n",
       " 'common_fps/Aditya_annotations/2018-08-18/common_fps_video_syncAditya_2018-08-19_0120-0200_18.csv',\n",
       " 'common_fps/Aditya_annotations/2018-08-18/common_fps_video_syncAditya_2018-08-19_0120-0200_111.csv',\n",
       " 'common_fps/Aditya_annotations/2018-08-18/common_fps_video_syncAditya_2018-08-19_0120-0200_97.csv',\n",
       " 'common_fps/Aditya_annotations/2018-08-18/common_fps_video_syncAditya_2018-08-19_0120-0200_48.csv',\n",
       " 'common_fps/Aditya_annotations/2018-08-18/common_fps_video_syncAditya_2018-08-19_0120-0200_14.csv',\n",
       " 'common_fps/Aditya_annotations/2018-08-18/common_fps_video_syncAditya_2018-08-19_0120-0200_86.csv',\n",
       " 'common_fps/Aditya_annotations/2018-08-18/common_fps_video_syncAditya_2018-08-19_0120-0200_45.csv',\n",
       " 'common_fps/Aditya_annotations/2018-08-18/common_fps_video_syncAditya_2018-08-19_0120-0200_66.csv',\n",
       " 'common_fps/Aditya_annotations/2018-08-18/common_fps_video_syncAditya_2018-08-19_0120-0200_2.csv',\n",
       " 'common_fps/Aditya_annotations/2018-08-18/common_fps_video_syncAditya_2018-08-19_0120-0200_78.csv',\n",
       " 'common_fps/Aditya_annotations/2018-08-18/common_fps_video_syncAditya_2018-08-19_0120-0200_119.csv',\n",
       " 'common_fps/Aditya_annotations/2018-08-18/common_fps_video_syncAditya_2018-08-19_0120-0200_121.csv',\n",
       " 'common_fps/Aditya_annotations/2018-08-18/common_fps_video_syncAditya_2018-08-19_0120-0200_16.csv',\n",
       " 'common_fps/Aditya_annotations/2018-08-18/common_fps_video_syncAditya_2018-08-19_0120-0200_76.csv',\n",
       " 'common_fps/Aditya_annotations/2018-08-18/common_fps_video_syncAditya_2018-08-19_0120-0200_41.csv',\n",
       " 'common_fps/Aditya_annotations/2018-08-18/common_fps_video_syncAditya_2018-08-19_0120-0200_127.csv',\n",
       " 'common_fps/Aditya_annotations/2018-08-18/common_fps_video_syncAditya_2018-08-19_0120-0200_3.csv',\n",
       " 'common_fps/Aditya_annotations/2018-08-18/common_fps_video_syncAditya_2018-08-19_0120-0200_19.csv',\n",
       " 'common_fps/Aditya_annotations/2018-08-18/common_fps_video_syncAditya_2018-08-19_0120-0200_72.csv',\n",
       " 'common_fps/Aditya_annotations/2018-08-18/common_fps_video_syncAditya_2018-08-19_0120-0200_28.csv',\n",
       " 'common_fps/Aditya_annotations/2018-08-18/common_fps_video_syncAditya_2018-08-19_0120-0200_1.csv',\n",
       " 'common_fps/Aditya_annotations/2018-08-18/common_fps_video_syncAditya_2018-08-19_0120-0200_120.csv',\n",
       " 'common_fps/Aditya_annotations/2018-08-18/common_fps_video_syncAditya_2018-08-19_0120-0200_44.csv',\n",
       " 'common_fps/Aditya_annotations/2018-08-18/common_fps_video_syncAditya_2018-08-19_0120-0200_87.csv',\n",
       " 'common_fps/Aditya_annotations/2018-08-18/common_fps_video_syncAditya_2018-08-19_0120-0200_88.csv',\n",
       " 'common_fps/Aditya_annotations/2018-08-18/common_fps_video_syncAditya_2018-08-19_0120-0200_109.csv',\n",
       " 'common_fps/Aditya_annotations/2018-08-18/common_fps_video_syncAditya_2018-08-19_0120-0200_82.csv',\n",
       " 'common_fps/Aditya_annotations/2018-08-18/common_fps_video_syncAditya_2018-08-19_0120-0200_7.csv',\n",
       " 'common_fps/Aditya_annotations/2018-08-18/common_fps_video_syncAditya_2018-08-19_0120-0200_113.csv',\n",
       " 'common_fps/Aditya_annotations/2018-08-18/common_fps_video_syncAditya_2018-08-19_0120-0200_59.csv',\n",
       " 'common_fps/Aditya_annotations/2018-08-18/common_fps_video_syncAditya_2018-08-19_0120-0200_5.csv',\n",
       " 'common_fps/Aditya_annotations/2018-08-18/common_fps_video_syncAditya_2018-08-19_0120-0200_15.csv',\n",
       " 'common_fps/Aditya_annotations/2018-08-18/common_fps_video_syncAditya_2018-08-19_0120-0200_27.csv',\n",
       " 'common_fps/Aditya_annotations/2018-08-18/common_fps_video_syncAditya_2018-08-19_0120-0200_29.csv',\n",
       " 'common_fps/Aditya_annotations/2018-08-18/common_fps_video_syncAditya_2018-08-19_0120-0200_70.csv',\n",
       " 'common_fps/Aditya_annotations/2018-08-18/common_fps_video_syncAditya_2018-08-19_0120-0200_83.csv',\n",
       " 'common_fps/Aditya_annotations/2018-08-18/common_fps_video_syncAditya_2018-08-19_0120-0200_20.csv',\n",
       " 'common_fps/Aditya_annotations/2018-08-18/common_fps_video_syncAditya_2018-08-19_0120-0200_126.csv',\n",
       " 'common_fps/Aditya_annotations/2018-08-18/common_fps_video_syncAditya_2018-08-19_0120-0200_46.csv',\n",
       " 'common_fps/Aditya_annotations/2018-08-18/common_fps_video_syncAditya_2018-08-19_0120-0200_71.csv',\n",
       " 'common_fps/Aditya_annotations/2018-08-18/common_fps_video_syncAditya_2018-08-19_0120-0200_53.csv',\n",
       " 'common_fps/Aditya_annotations/2018-08-18/common_fps_video_syncAditya_2018-08-19_0120-0200_57.csv']"
      ]
     },
     "execution_count": 12,
     "metadata": {},
     "output_type": "execute_result"
    }
   ],
   "source": [
    "all_commonfps"
   ]
  },
  {
   "cell_type": "code",
   "execution_count": 13,
   "metadata": {},
   "outputs": [
    {
     "data": {
      "text/plain": [
       "'/home/tbeleyur/Documents/horseshoe_bat/audio_non_spikey/2018-08-18/'"
      ]
     },
     "execution_count": 13,
     "metadata": {},
     "output_type": "execute_result"
    }
   ],
   "source": [
    "audio_folder"
   ]
  },
  {
   "cell_type": "code",
   "execution_count": 14,
   "metadata": {},
   "outputs": [
    {
     "data": {
      "text/plain": [
       "98"
      ]
     },
     "execution_count": 14,
     "metadata": {},
     "output_type": "execute_result"
    }
   ],
   "source": [
    "len(all_commonfps)"
   ]
  },
  {
   "cell_type": "code",
   "execution_count": 15,
   "metadata": {},
   "outputs": [],
   "source": [
    "import numpy as np \n",
    "import natsort"
   ]
  },
  {
   "cell_type": "raw",
   "metadata": {},
   "source": []
  },
  {
   "cell_type": "code",
   "execution_count": null,
   "metadata": {},
   "outputs": [],
   "source": []
  },
  {
   "cell_type": "code",
   "execution_count": 16,
   "metadata": {},
   "outputs": [
    {
     "data": {
      "text/plain": [
       "['common_fps/Aditya_annotations/2018-08-18/common_fps_video_syncAditya_2018-08-19_0120-0200_1.csv',\n",
       " 'common_fps/Aditya_annotations/2018-08-18/common_fps_video_syncAditya_2018-08-19_0120-0200_2.csv',\n",
       " 'common_fps/Aditya_annotations/2018-08-18/common_fps_video_syncAditya_2018-08-19_0120-0200_3.csv',\n",
       " 'common_fps/Aditya_annotations/2018-08-18/common_fps_video_syncAditya_2018-08-19_0120-0200_4.csv',\n",
       " 'common_fps/Aditya_annotations/2018-08-18/common_fps_video_syncAditya_2018-08-19_0120-0200_5.csv',\n",
       " 'common_fps/Aditya_annotations/2018-08-18/common_fps_video_syncAditya_2018-08-19_0120-0200_6.csv',\n",
       " 'common_fps/Aditya_annotations/2018-08-18/common_fps_video_syncAditya_2018-08-19_0120-0200_7.csv',\n",
       " 'common_fps/Aditya_annotations/2018-08-18/common_fps_video_syncAditya_2018-08-19_0120-0200_8.csv',\n",
       " 'common_fps/Aditya_annotations/2018-08-18/common_fps_video_syncAditya_2018-08-19_0120-0200_13.csv',\n",
       " 'common_fps/Aditya_annotations/2018-08-18/common_fps_video_syncAditya_2018-08-19_0120-0200_14.csv',\n",
       " 'common_fps/Aditya_annotations/2018-08-18/common_fps_video_syncAditya_2018-08-19_0120-0200_15.csv',\n",
       " 'common_fps/Aditya_annotations/2018-08-18/common_fps_video_syncAditya_2018-08-19_0120-0200_16.csv',\n",
       " 'common_fps/Aditya_annotations/2018-08-18/common_fps_video_syncAditya_2018-08-19_0120-0200_18.csv',\n",
       " 'common_fps/Aditya_annotations/2018-08-18/common_fps_video_syncAditya_2018-08-19_0120-0200_19.csv',\n",
       " 'common_fps/Aditya_annotations/2018-08-18/common_fps_video_syncAditya_2018-08-19_0120-0200_20.csv',\n",
       " 'common_fps/Aditya_annotations/2018-08-18/common_fps_video_syncAditya_2018-08-19_0120-0200_21.csv',\n",
       " 'common_fps/Aditya_annotations/2018-08-18/common_fps_video_syncAditya_2018-08-19_0120-0200_22.csv',\n",
       " 'common_fps/Aditya_annotations/2018-08-18/common_fps_video_syncAditya_2018-08-19_0120-0200_23.csv',\n",
       " 'common_fps/Aditya_annotations/2018-08-18/common_fps_video_syncAditya_2018-08-19_0120-0200_24.csv',\n",
       " 'common_fps/Aditya_annotations/2018-08-18/common_fps_video_syncAditya_2018-08-19_0120-0200_26.csv',\n",
       " 'common_fps/Aditya_annotations/2018-08-18/common_fps_video_syncAditya_2018-08-19_0120-0200_27.csv',\n",
       " 'common_fps/Aditya_annotations/2018-08-18/common_fps_video_syncAditya_2018-08-19_0120-0200_28.csv',\n",
       " 'common_fps/Aditya_annotations/2018-08-18/common_fps_video_syncAditya_2018-08-19_0120-0200_29.csv',\n",
       " 'common_fps/Aditya_annotations/2018-08-18/common_fps_video_syncAditya_2018-08-19_0120-0200_30.csv',\n",
       " 'common_fps/Aditya_annotations/2018-08-18/common_fps_video_syncAditya_2018-08-19_0120-0200_32.csv',\n",
       " 'common_fps/Aditya_annotations/2018-08-18/common_fps_video_syncAditya_2018-08-19_0120-0200_33.csv',\n",
       " 'common_fps/Aditya_annotations/2018-08-18/common_fps_video_syncAditya_2018-08-19_0120-0200_34.csv',\n",
       " 'common_fps/Aditya_annotations/2018-08-18/common_fps_video_syncAditya_2018-08-19_0120-0200_35.csv',\n",
       " 'common_fps/Aditya_annotations/2018-08-18/common_fps_video_syncAditya_2018-08-19_0120-0200_37.csv',\n",
       " 'common_fps/Aditya_annotations/2018-08-18/common_fps_video_syncAditya_2018-08-19_0120-0200_38.csv',\n",
       " 'common_fps/Aditya_annotations/2018-08-18/common_fps_video_syncAditya_2018-08-19_0120-0200_41.csv',\n",
       " 'common_fps/Aditya_annotations/2018-08-18/common_fps_video_syncAditya_2018-08-19_0120-0200_42.csv',\n",
       " 'common_fps/Aditya_annotations/2018-08-18/common_fps_video_syncAditya_2018-08-19_0120-0200_44.csv',\n",
       " 'common_fps/Aditya_annotations/2018-08-18/common_fps_video_syncAditya_2018-08-19_0120-0200_45.csv',\n",
       " 'common_fps/Aditya_annotations/2018-08-18/common_fps_video_syncAditya_2018-08-19_0120-0200_46.csv',\n",
       " 'common_fps/Aditya_annotations/2018-08-18/common_fps_video_syncAditya_2018-08-19_0120-0200_47.csv',\n",
       " 'common_fps/Aditya_annotations/2018-08-18/common_fps_video_syncAditya_2018-08-19_0120-0200_48.csv',\n",
       " 'common_fps/Aditya_annotations/2018-08-18/common_fps_video_syncAditya_2018-08-19_0120-0200_49.csv',\n",
       " 'common_fps/Aditya_annotations/2018-08-18/common_fps_video_syncAditya_2018-08-19_0120-0200_51.csv',\n",
       " 'common_fps/Aditya_annotations/2018-08-18/common_fps_video_syncAditya_2018-08-19_0120-0200_52.csv',\n",
       " 'common_fps/Aditya_annotations/2018-08-18/common_fps_video_syncAditya_2018-08-19_0120-0200_53.csv',\n",
       " 'common_fps/Aditya_annotations/2018-08-18/common_fps_video_syncAditya_2018-08-19_0120-0200_54.csv',\n",
       " 'common_fps/Aditya_annotations/2018-08-18/common_fps_video_syncAditya_2018-08-19_0120-0200_57.csv',\n",
       " 'common_fps/Aditya_annotations/2018-08-18/common_fps_video_syncAditya_2018-08-19_0120-0200_59.csv',\n",
       " 'common_fps/Aditya_annotations/2018-08-18/common_fps_video_syncAditya_2018-08-19_0120-0200_60.csv',\n",
       " 'common_fps/Aditya_annotations/2018-08-18/common_fps_video_syncAditya_2018-08-19_0120-0200_62.csv',\n",
       " 'common_fps/Aditya_annotations/2018-08-18/common_fps_video_syncAditya_2018-08-19_0120-0200_63.csv',\n",
       " 'common_fps/Aditya_annotations/2018-08-18/common_fps_video_syncAditya_2018-08-19_0120-0200_64.csv',\n",
       " 'common_fps/Aditya_annotations/2018-08-18/common_fps_video_syncAditya_2018-08-19_0120-0200_65.csv',\n",
       " 'common_fps/Aditya_annotations/2018-08-18/common_fps_video_syncAditya_2018-08-19_0120-0200_66.csv',\n",
       " 'common_fps/Aditya_annotations/2018-08-18/common_fps_video_syncAditya_2018-08-19_0120-0200_69.csv',\n",
       " 'common_fps/Aditya_annotations/2018-08-18/common_fps_video_syncAditya_2018-08-19_0120-0200_70.csv',\n",
       " 'common_fps/Aditya_annotations/2018-08-18/common_fps_video_syncAditya_2018-08-19_0120-0200_71.csv',\n",
       " 'common_fps/Aditya_annotations/2018-08-18/common_fps_video_syncAditya_2018-08-19_0120-0200_72.csv',\n",
       " 'common_fps/Aditya_annotations/2018-08-18/common_fps_video_syncAditya_2018-08-19_0120-0200_73.csv',\n",
       " 'common_fps/Aditya_annotations/2018-08-18/common_fps_video_syncAditya_2018-08-19_0120-0200_74.csv',\n",
       " 'common_fps/Aditya_annotations/2018-08-18/common_fps_video_syncAditya_2018-08-19_0120-0200_76.csv',\n",
       " 'common_fps/Aditya_annotations/2018-08-18/common_fps_video_syncAditya_2018-08-19_0120-0200_77.csv',\n",
       " 'common_fps/Aditya_annotations/2018-08-18/common_fps_video_syncAditya_2018-08-19_0120-0200_78.csv',\n",
       " 'common_fps/Aditya_annotations/2018-08-18/common_fps_video_syncAditya_2018-08-19_0120-0200_79.csv',\n",
       " 'common_fps/Aditya_annotations/2018-08-18/common_fps_video_syncAditya_2018-08-19_0120-0200_80.csv',\n",
       " 'common_fps/Aditya_annotations/2018-08-18/common_fps_video_syncAditya_2018-08-19_0120-0200_81.csv',\n",
       " 'common_fps/Aditya_annotations/2018-08-18/common_fps_video_syncAditya_2018-08-19_0120-0200_82.csv',\n",
       " 'common_fps/Aditya_annotations/2018-08-18/common_fps_video_syncAditya_2018-08-19_0120-0200_83.csv',\n",
       " 'common_fps/Aditya_annotations/2018-08-18/common_fps_video_syncAditya_2018-08-19_0120-0200_84.csv',\n",
       " 'common_fps/Aditya_annotations/2018-08-18/common_fps_video_syncAditya_2018-08-19_0120-0200_85.csv',\n",
       " 'common_fps/Aditya_annotations/2018-08-18/common_fps_video_syncAditya_2018-08-19_0120-0200_86.csv',\n",
       " 'common_fps/Aditya_annotations/2018-08-18/common_fps_video_syncAditya_2018-08-19_0120-0200_87.csv',\n",
       " 'common_fps/Aditya_annotations/2018-08-18/common_fps_video_syncAditya_2018-08-19_0120-0200_88.csv',\n",
       " 'common_fps/Aditya_annotations/2018-08-18/common_fps_video_syncAditya_2018-08-19_0120-0200_90.csv',\n",
       " 'common_fps/Aditya_annotations/2018-08-18/common_fps_video_syncAditya_2018-08-19_0120-0200_93.csv',\n",
       " 'common_fps/Aditya_annotations/2018-08-18/common_fps_video_syncAditya_2018-08-19_0120-0200_94.csv',\n",
       " 'common_fps/Aditya_annotations/2018-08-18/common_fps_video_syncAditya_2018-08-19_0120-0200_95.csv',\n",
       " 'common_fps/Aditya_annotations/2018-08-18/common_fps_video_syncAditya_2018-08-19_0120-0200_96.csv',\n",
       " 'common_fps/Aditya_annotations/2018-08-18/common_fps_video_syncAditya_2018-08-19_0120-0200_97.csv',\n",
       " 'common_fps/Aditya_annotations/2018-08-18/common_fps_video_syncAditya_2018-08-19_0120-0200_101.csv',\n",
       " 'common_fps/Aditya_annotations/2018-08-18/common_fps_video_syncAditya_2018-08-19_0120-0200_102.csv',\n",
       " 'common_fps/Aditya_annotations/2018-08-18/common_fps_video_syncAditya_2018-08-19_0120-0200_104.csv',\n",
       " 'common_fps/Aditya_annotations/2018-08-18/common_fps_video_syncAditya_2018-08-19_0120-0200_105.csv',\n",
       " 'common_fps/Aditya_annotations/2018-08-18/common_fps_video_syncAditya_2018-08-19_0120-0200_106.csv',\n",
       " 'common_fps/Aditya_annotations/2018-08-18/common_fps_video_syncAditya_2018-08-19_0120-0200_107.csv',\n",
       " 'common_fps/Aditya_annotations/2018-08-18/common_fps_video_syncAditya_2018-08-19_0120-0200_109.csv',\n",
       " 'common_fps/Aditya_annotations/2018-08-18/common_fps_video_syncAditya_2018-08-19_0120-0200_110.csv',\n",
       " 'common_fps/Aditya_annotations/2018-08-18/common_fps_video_syncAditya_2018-08-19_0120-0200_111.csv',\n",
       " 'common_fps/Aditya_annotations/2018-08-18/common_fps_video_syncAditya_2018-08-19_0120-0200_112.csv',\n",
       " 'common_fps/Aditya_annotations/2018-08-18/common_fps_video_syncAditya_2018-08-19_0120-0200_113.csv',\n",
       " 'common_fps/Aditya_annotations/2018-08-18/common_fps_video_syncAditya_2018-08-19_0120-0200_116.csv',\n",
       " 'common_fps/Aditya_annotations/2018-08-18/common_fps_video_syncAditya_2018-08-19_0120-0200_117.csv',\n",
       " 'common_fps/Aditya_annotations/2018-08-18/common_fps_video_syncAditya_2018-08-19_0120-0200_118.csv',\n",
       " 'common_fps/Aditya_annotations/2018-08-18/common_fps_video_syncAditya_2018-08-19_0120-0200_119.csv',\n",
       " 'common_fps/Aditya_annotations/2018-08-18/common_fps_video_syncAditya_2018-08-19_0120-0200_120.csv',\n",
       " 'common_fps/Aditya_annotations/2018-08-18/common_fps_video_syncAditya_2018-08-19_0120-0200_121.csv',\n",
       " 'common_fps/Aditya_annotations/2018-08-18/common_fps_video_syncAditya_2018-08-19_0120-0200_122.csv',\n",
       " 'common_fps/Aditya_annotations/2018-08-18/common_fps_video_syncAditya_2018-08-19_0120-0200_123.csv',\n",
       " 'common_fps/Aditya_annotations/2018-08-18/common_fps_video_syncAditya_2018-08-19_0120-0200_124.csv',\n",
       " 'common_fps/Aditya_annotations/2018-08-18/common_fps_video_syncAditya_2018-08-19_0120-0200_126.csv',\n",
       " 'common_fps/Aditya_annotations/2018-08-18/common_fps_video_syncAditya_2018-08-19_0120-0200_127.csv',\n",
       " 'common_fps/Aditya_annotations/2018-08-18/common_fps_video_syncAditya_2018-08-19_0120-0200_128.csv']"
      ]
     },
     "execution_count": 16,
     "metadata": {},
     "output_type": "execute_result"
    }
   ],
   "source": [
    "natsort.natsorted(all_commonfps)"
   ]
  },
  {
   "cell_type": "markdown",
   "metadata": {},
   "source": [
    "### A slight change in how annotations are matched to audio. \n",
    "4My previous approach to matching annotations to audio was to give *all* audio files in the recording session and let the program search for the best fit. This basically meant that even though the annotation referred only to the first 5 minutes, the *whole* session would be searched. This approach is time consuming. Ever since I tried giving only 10 minutes of audio to be searched for the 02:00-02:10 on 2018-08-19, I realised it takes only about a minute to search through 10 minutes of audio. This means if I break the ~40minutes of audio into four 10minute chunks, then the program will only take one minute per annotation! This should mean, even if there are 120 annotations - it'll take upto ~2hours to complete. I'm wondering why I didn't think of this earlier now...."
   ]
  },
  {
   "cell_type": "code",
   "execution_count": 17,
   "metadata": {},
   "outputs": [],
   "source": [
    "sorted_commonfps = natsort.natsorted(all_commonfps)\n",
    "\n",
    "common_fps_chunks = np.array_split(np.array(sorted_commonfps),4) # split the commonfps files into 10 minutes bins\n"
   ]
  },
  {
   "cell_type": "code",
   "execution_count": 18,
   "metadata": {},
   "outputs": [
    {
     "ename": "NameError",
     "evalue": "name 'each' is not defined",
     "output_type": "error",
     "traceback": [
      "\u001b[0;31m---------------------------------------------------------------------------\u001b[0m",
      "\u001b[0;31mNameError\u001b[0m                                 Traceback (most recent call last)",
      "\u001b[0;32m<ipython-input-18-9215f275141a>\u001b[0m in \u001b[0;36m<module>\u001b[0;34m()\u001b[0m\n\u001b[0;32m----> 1\u001b[0;31m \u001b[0meach\u001b[0m\u001b[0;34m\u001b[0m\u001b[0m\n\u001b[0m",
      "\u001b[0;31mNameError\u001b[0m: name 'each' is not defined"
     ]
    }
   ],
   "source": [
    "each"
   ]
  },
  {
   "cell_type": "code",
   "execution_count": 19,
   "metadata": {},
   "outputs": [
    {
     "name": "stdout",
     "output_type": "stream",
     "text": [
      "('common_fps/Aditya_annotations/2018-08-18/common_fps_video_syncAditya_2018-08-19_0120-0200_1.csv', 'common_fps/Aditya_annotations/2018-08-18/common_fps_video_syncAditya_2018-08-19_0120-0200_32.csv')\n",
      "('common_fps/Aditya_annotations/2018-08-18/common_fps_video_syncAditya_2018-08-19_0120-0200_33.csv', 'common_fps/Aditya_annotations/2018-08-18/common_fps_video_syncAditya_2018-08-19_0120-0200_66.csv')\n",
      "('common_fps/Aditya_annotations/2018-08-18/common_fps_video_syncAditya_2018-08-19_0120-0200_69.csv', 'common_fps/Aditya_annotations/2018-08-18/common_fps_video_syncAditya_2018-08-19_0120-0200_96.csv')\n",
      "('common_fps/Aditya_annotations/2018-08-18/common_fps_video_syncAditya_2018-08-19_0120-0200_97.csv', 'common_fps/Aditya_annotations/2018-08-18/common_fps_video_syncAditya_2018-08-19_0120-0200_128.csv')\n"
     ]
    }
   ],
   "source": [
    "# get annotation number of first and last annoration for each chunks\n",
    "for each in common_fps_chunks:\n",
    "    print(each[0], each[-1])"
   ]
  },
  {
   "cell_type": "code",
   "execution_count": 20,
   "metadata": {},
   "outputs": [],
   "source": [
    "file_ranges_for_chunks = [ ('non_spikey_T0000818','non_spikey_T0000836'),\n",
    "                          ('non_spikey_T0000834','non_spikey_T0000844'),\n",
    "                          ('non_spikey_T0000841','non_spikey_T0000852'),\n",
    "                          ('non_spikey_T0000849','non_spikey_T0000857'),] # the corresponding audio file range for each 10 minute bin\n"
   ]
  },
  {
   "cell_type": "code",
   "execution_count": 21,
   "metadata": {
    "scrolled": true
   },
   "outputs": [
    {
     "name": "stdout",
     "output_type": "stream",
     "text": [
      "common_fps/Aditya_annotations/2018-08-18/common_fps_video_syncAditya_2018-08-19_0120-0200_1.csv\n",
      "('video_fps obtained is :', 25)\n",
      "Did not find user-provided sample rate - getting it from first file that matches format!\n",
      "('sampling rate is : ', 250000)\n",
      ".....finding best audio segment.....\n"
     ]
    },
    {
     "name": "stderr",
     "output_type": "stream",
     "text": [
      "\r",
      "  0%|          | 0/18 [00:00<?, ?it/s]"
     ]
    },
    {
     "name": "stdout",
     "output_type": "stream",
     "text": [
      "('max mins for upsampled video', -0.9854708905886425, 1.0)\n",
      "('max mins', -0.9842913319379506, 1.0)\n"
     ]
    },
    {
     "name": "stderr",
     "output_type": "stream",
     "text": [
      "/home/tbeleyur/anaconda2/envs/horseshoebat/lib/python2.7/site-packages/scipy/signal/signaltools.py:491: FutureWarning: Using a non-tuple sequence for multidimensional indexing is deprecated; use `arr[tuple(seq)]` instead of `arr[seq]`. In the future this will be interpreted as an array index, `arr[np.array(seq)]`, which will result either in an error or a different result.\n",
      "  return x[reverse].conj()\n",
      "  6%|▌         | 1/18 [00:05<01:39,  5.86s/it]"
     ]
    },
    {
     "name": "stdout",
     "output_type": "stream",
     "text": [
      "('max mins', -0.9990574645583497, 1.0)\n"
     ]
    },
    {
     "name": "stderr",
     "output_type": "stream",
     "text": [
      "\r",
      " 11%|█         | 2/18 [00:10<01:28,  5.55s/it]"
     ]
    },
    {
     "name": "stdout",
     "output_type": "stream",
     "text": [
      "('max mins', -0.9807445591121711, 1.0)\n"
     ]
    },
    {
     "name": "stderr",
     "output_type": "stream",
     "text": [
      "\r",
      " 17%|█▋        | 3/18 [00:15<01:20,  5.35s/it]"
     ]
    },
    {
     "name": "stdout",
     "output_type": "stream",
     "text": [
      "('max mins', -1.0, 0.9565539319250242)\n"
     ]
    },
    {
     "name": "stderr",
     "output_type": "stream",
     "text": [
      "\r",
      " 22%|██▏       | 4/18 [00:19<01:10,  5.05s/it]"
     ]
    },
    {
     "name": "stdout",
     "output_type": "stream",
     "text": [
      "('max mins', -1.0, 0.91661497137065)\n"
     ]
    },
    {
     "name": "stderr",
     "output_type": "stream",
     "text": [
      "\r",
      " 28%|██▊       | 5/18 [00:24<01:02,  4.84s/it]"
     ]
    },
    {
     "name": "stdout",
     "output_type": "stream",
     "text": [
      "('max mins', -1.0, 0.9710591622684932)\n"
     ]
    },
    {
     "name": "stderr",
     "output_type": "stream",
     "text": [
      "\r",
      " 33%|███▎      | 6/18 [00:28<00:56,  4.69s/it]"
     ]
    },
    {
     "name": "stdout",
     "output_type": "stream",
     "text": [
      "('max mins', -1.0, 0.9775796255224128)\n"
     ]
    },
    {
     "name": "stderr",
     "output_type": "stream",
     "text": [
      "\r",
      " 39%|███▉      | 7/18 [00:32<00:50,  4.59s/it]"
     ]
    },
    {
     "name": "stdout",
     "output_type": "stream",
     "text": [
      "('max mins', -0.9628585976124859, 1.0)\n"
     ]
    },
    {
     "name": "stderr",
     "output_type": "stream",
     "text": [
      "\r",
      " 44%|████▍     | 8/18 [00:37<00:45,  4.51s/it]"
     ]
    },
    {
     "name": "stdout",
     "output_type": "stream",
     "text": [
      "('max mins', -0.9666347799422894, 1.0)\n"
     ]
    },
    {
     "name": "stderr",
     "output_type": "stream",
     "text": [
      "\r",
      " 50%|█████     | 9/18 [00:41<00:40,  4.46s/it]"
     ]
    },
    {
     "name": "stdout",
     "output_type": "stream",
     "text": [
      "('max mins', -1.0, 0.9721025773644282)\n"
     ]
    },
    {
     "name": "stderr",
     "output_type": "stream",
     "text": [
      "\r",
      " 56%|█████▌    | 10/18 [00:46<00:35,  4.44s/it]"
     ]
    },
    {
     "name": "stdout",
     "output_type": "stream",
     "text": [
      "('max mins', -1.0, 0.9705080499673067)\n"
     ]
    },
    {
     "name": "stderr",
     "output_type": "stream",
     "text": [
      "\r",
      " 61%|██████    | 11/18 [00:50<00:30,  4.42s/it]"
     ]
    },
    {
     "name": "stdout",
     "output_type": "stream",
     "text": [
      "('max mins', -1.0, 0.9901011729372123)\n"
     ]
    },
    {
     "name": "stderr",
     "output_type": "stream",
     "text": [
      "\r",
      " 67%|██████▋   | 12/18 [00:54<00:26,  4.39s/it]"
     ]
    },
    {
     "name": "stdout",
     "output_type": "stream",
     "text": [
      "('max mins', -0.9980627460717553, 1.0)\n"
     ]
    },
    {
     "name": "stderr",
     "output_type": "stream",
     "text": [
      "\r",
      " 72%|███████▏  | 13/18 [00:59<00:21,  4.38s/it]"
     ]
    },
    {
     "name": "stdout",
     "output_type": "stream",
     "text": [
      "('max mins', -1.0, 0.9443811730993229)\n"
     ]
    },
    {
     "name": "stderr",
     "output_type": "stream",
     "text": [
      "\r",
      " 78%|███████▊  | 14/18 [01:03<00:17,  4.37s/it]"
     ]
    },
    {
     "name": "stdout",
     "output_type": "stream",
     "text": [
      "('max mins', -1.0, 0.9213079865198895)\n"
     ]
    },
    {
     "name": "stderr",
     "output_type": "stream",
     "text": [
      "\r",
      " 83%|████████▎ | 15/18 [01:07<00:13,  4.36s/it]"
     ]
    },
    {
     "name": "stdout",
     "output_type": "stream",
     "text": [
      "('max mins', -1.0, 0.9709446183744602)\n"
     ]
    },
    {
     "name": "stderr",
     "output_type": "stream",
     "text": [
      "\r",
      " 89%|████████▉ | 16/18 [01:12<00:08,  4.35s/it]"
     ]
    },
    {
     "name": "stdout",
     "output_type": "stream",
     "text": [
      "('max mins', -0.9959990229971392, 1.0)\n"
     ]
    },
    {
     "name": "stderr",
     "output_type": "stream",
     "text": [
      "\r",
      " 94%|█████████▍| 17/18 [01:16<00:04,  4.36s/it]"
     ]
    },
    {
     "name": "stdout",
     "output_type": "stream",
     "text": [
      "('max mins', -1.0, 0.9780470985687384)\n"
     ]
    },
    {
     "name": "stderr",
     "output_type": "stream",
     "text": [
      "100%|██████████| 18/18 [01:20<00:00,  4.34s/it]\n"
     ]
    },
    {
     "name": "stdout",
     "output_type": "stream",
     "text": [
      "('Best file pairs are: ', 'non_spikey_T0000819.WAV*non_spikey_T0000820.WAV')\n",
      "Start and end indices around peak:                  start index: 659986\t\t          end index: 12159986                  total samples:30015488\n"
     ]
    },
    {
     "name": "stderr",
     "output_type": "stream",
     "text": [
      "../../../bin/audio_for_videoannotation.py:175: UserWarning: The AV sync may not be very great - please check again. The value was :0.21705153820791973\n",
      "  warnings.warn(warning_msg, stacklevel=1)\n"
     ]
    },
    {
     "name": "stdout",
     "output_type": "stream",
     "text": [
      "common_fps/Aditya_annotations/2018-08-18/common_fps_video_syncAditya_2018-08-19_0120-0200_2.csv\n",
      "('video_fps obtained is :', 25)\n",
      "Did not find user-provided sample rate - getting it from first file that matches format!\n",
      "('sampling rate is : ', 250000)\n",
      ".....finding best audio segment.....\n"
     ]
    },
    {
     "name": "stderr",
     "output_type": "stream",
     "text": [
      "\r",
      "  0%|          | 0/18 [00:00<?, ?it/s]"
     ]
    },
    {
     "name": "stdout",
     "output_type": "stream",
     "text": [
      "('max mins for upsampled video', -0.9865216765239542, 1.0)\n",
      "('max mins', -0.9842913319379506, 1.0)\n"
     ]
    },
    {
     "name": "stderr",
     "output_type": "stream",
     "text": [
      "\r",
      "  6%|▌         | 1/18 [00:05<01:25,  5.05s/it]"
     ]
    },
    {
     "name": "stdout",
     "output_type": "stream",
     "text": [
      "('max mins', -0.9990574645583497, 1.0)\n"
     ]
    },
    {
     "name": "stderr",
     "output_type": "stream",
     "text": [
      "\r",
      " 11%|█         | 2/18 [00:09<01:18,  4.91s/it]"
     ]
    },
    {
     "name": "stdout",
     "output_type": "stream",
     "text": [
      "('max mins', -0.9807445591121711, 1.0)\n"
     ]
    },
    {
     "name": "stderr",
     "output_type": "stream",
     "text": [
      "\r",
      " 17%|█▋        | 3/18 [00:14<01:12,  4.86s/it]"
     ]
    },
    {
     "name": "stdout",
     "output_type": "stream",
     "text": [
      "('max mins', -1.0, 0.9565539319250242)\n"
     ]
    },
    {
     "name": "stderr",
     "output_type": "stream",
     "text": [
      "\r",
      " 22%|██▏       | 4/18 [00:18<01:06,  4.73s/it]"
     ]
    },
    {
     "name": "stdout",
     "output_type": "stream",
     "text": [
      "('max mins', -1.0, 0.91661497137065)\n"
     ]
    },
    {
     "name": "stderr",
     "output_type": "stream",
     "text": [
      "\r",
      " 28%|██▊       | 5/18 [00:23<01:01,  4.74s/it]"
     ]
    },
    {
     "name": "stdout",
     "output_type": "stream",
     "text": [
      "('max mins', -1.0, 0.9710591622684932)\n"
     ]
    },
    {
     "name": "stderr",
     "output_type": "stream",
     "text": [
      "\r",
      " 33%|███▎      | 6/18 [00:28<00:58,  4.88s/it]"
     ]
    },
    {
     "name": "stdout",
     "output_type": "stream",
     "text": [
      "('max mins', -1.0, 0.9775796255224128)\n"
     ]
    },
    {
     "name": "stderr",
     "output_type": "stream",
     "text": [
      "\r",
      " 39%|███▉      | 7/18 [00:33<00:54,  4.98s/it]"
     ]
    },
    {
     "name": "stdout",
     "output_type": "stream",
     "text": [
      "('max mins', -0.9628585976124859, 1.0)\n"
     ]
    },
    {
     "name": "stderr",
     "output_type": "stream",
     "text": [
      "\r",
      " 44%|████▍     | 8/18 [00:38<00:49,  4.96s/it]"
     ]
    },
    {
     "name": "stdout",
     "output_type": "stream",
     "text": [
      "('max mins', -0.9666347799422894, 1.0)\n"
     ]
    },
    {
     "name": "stderr",
     "output_type": "stream",
     "text": [
      "\r",
      " 50%|█████     | 9/18 [00:43<00:44,  4.97s/it]"
     ]
    },
    {
     "name": "stdout",
     "output_type": "stream",
     "text": [
      "('max mins', -1.0, 0.9721025773644282)\n"
     ]
    },
    {
     "name": "stderr",
     "output_type": "stream",
     "text": [
      "\r",
      " 56%|█████▌    | 10/18 [00:48<00:38,  4.77s/it]"
     ]
    },
    {
     "name": "stdout",
     "output_type": "stream",
     "text": [
      "('max mins', -1.0, 0.9705080499673067)\n"
     ]
    },
    {
     "name": "stderr",
     "output_type": "stream",
     "text": [
      "\r",
      " 61%|██████    | 11/18 [00:52<00:32,  4.63s/it]"
     ]
    },
    {
     "name": "stdout",
     "output_type": "stream",
     "text": [
      "('max mins', -1.0, 0.9901011729372123)\n"
     ]
    },
    {
     "name": "stderr",
     "output_type": "stream",
     "text": [
      "\r",
      " 67%|██████▋   | 12/18 [00:56<00:27,  4.54s/it]"
     ]
    },
    {
     "name": "stdout",
     "output_type": "stream",
     "text": [
      "('max mins', -0.9980627460717553, 1.0)\n"
     ]
    },
    {
     "name": "stderr",
     "output_type": "stream",
     "text": [
      "\r",
      " 72%|███████▏  | 13/18 [01:01<00:22,  4.57s/it]"
     ]
    },
    {
     "name": "stdout",
     "output_type": "stream",
     "text": [
      "('max mins', -1.0, 0.9443811730993229)\n"
     ]
    },
    {
     "name": "stderr",
     "output_type": "stream",
     "text": [
      "\r",
      " 78%|███████▊  | 14/18 [01:06<00:18,  4.58s/it]"
     ]
    },
    {
     "name": "stdout",
     "output_type": "stream",
     "text": [
      "('max mins', -1.0, 0.9213079865198895)\n"
     ]
    },
    {
     "name": "stderr",
     "output_type": "stream",
     "text": [
      "\r",
      " 83%|████████▎ | 15/18 [01:11<00:14,  4.81s/it]"
     ]
    },
    {
     "name": "stdout",
     "output_type": "stream",
     "text": [
      "('max mins', -1.0, 0.9709446183744602)\n"
     ]
    },
    {
     "name": "stderr",
     "output_type": "stream",
     "text": [
      "\r",
      " 89%|████████▉ | 16/18 [01:16<00:09,  4.74s/it]"
     ]
    },
    {
     "name": "stdout",
     "output_type": "stream",
     "text": [
      "('max mins', -0.9959990229971392, 1.0)\n"
     ]
    },
    {
     "name": "stderr",
     "output_type": "stream",
     "text": [
      "\r",
      " 94%|█████████▍| 17/18 [01:20<00:04,  4.62s/it]"
     ]
    },
    {
     "name": "stdout",
     "output_type": "stream",
     "text": [
      "('max mins', -1.0, 0.9780470985687384)\n"
     ]
    },
    {
     "name": "stderr",
     "output_type": "stream",
     "text": [
      "100%|██████████| 18/18 [01:25<00:00,  4.64s/it]\n"
     ]
    },
    {
     "name": "stdout",
     "output_type": "stream",
     "text": [
      "('Best file pairs are: ', 'non_spikey_T0000818.WAV*non_spikey_T0000819.WAV')\n",
      "Start and end indices around peak:                  start index: 2093105\t\t          end index: 13593105                  total samples:30015488\n",
      "('AV Sync was above threshold: ', 0.8312277350930187)\n",
      "common_fps/Aditya_annotations/2018-08-18/common_fps_video_syncAditya_2018-08-19_0120-0200_3.csv\n",
      "('video_fps obtained is :', 25)\n",
      "Did not find user-provided sample rate - getting it from first file that matches format!\n",
      "('sampling rate is : ', 250000)\n",
      ".....finding best audio segment.....\n"
     ]
    },
    {
     "name": "stderr",
     "output_type": "stream",
     "text": [
      "\r",
      "  0%|          | 0/18 [00:00<?, ?it/s]"
     ]
    },
    {
     "name": "stdout",
     "output_type": "stream",
     "text": [
      "('max mins for upsampled video', -0.9865216765239542, 1.0)\n",
      "('max mins', -0.9842913319379506, 1.0)\n"
     ]
    },
    {
     "name": "stderr",
     "output_type": "stream",
     "text": [
      "\r",
      "  6%|▌         | 1/18 [00:05<01:25,  5.02s/it]"
     ]
    },
    {
     "name": "stdout",
     "output_type": "stream",
     "text": [
      "('max mins', -0.9990574645583497, 1.0)\n"
     ]
    },
    {
     "name": "stderr",
     "output_type": "stream",
     "text": [
      "\r",
      " 11%|█         | 2/18 [00:09<01:19,  4.97s/it]"
     ]
    },
    {
     "name": "stdout",
     "output_type": "stream",
     "text": [
      "('max mins', -0.9807445591121711, 1.0)\n"
     ]
    },
    {
     "name": "stderr",
     "output_type": "stream",
     "text": [
      "\r",
      " 17%|█▋        | 3/18 [00:15<01:16,  5.13s/it]"
     ]
    },
    {
     "name": "stdout",
     "output_type": "stream",
     "text": [
      "('max mins', -1.0, 0.9565539319250242)\n"
     ]
    },
    {
     "name": "stderr",
     "output_type": "stream",
     "text": [
      "\r",
      " 22%|██▏       | 4/18 [00:20<01:10,  5.07s/it]"
     ]
    },
    {
     "name": "stdout",
     "output_type": "stream",
     "text": [
      "('max mins', -1.0, 0.91661497137065)\n"
     ]
    },
    {
     "name": "stderr",
     "output_type": "stream",
     "text": [
      "\r",
      " 28%|██▊       | 5/18 [00:24<01:03,  4.85s/it]"
     ]
    },
    {
     "name": "stdout",
     "output_type": "stream",
     "text": [
      "('max mins', -1.0, 0.9710591622684932)\n"
     ]
    },
    {
     "name": "stderr",
     "output_type": "stream",
     "text": [
      "\r",
      " 33%|███▎      | 6/18 [00:29<00:56,  4.72s/it]"
     ]
    },
    {
     "name": "stdout",
     "output_type": "stream",
     "text": [
      "('max mins', -1.0, 0.9775796255224128)\n"
     ]
    },
    {
     "name": "stderr",
     "output_type": "stream",
     "text": [
      "\r",
      " 39%|███▉      | 7/18 [00:33<00:50,  4.63s/it]"
     ]
    },
    {
     "name": "stdout",
     "output_type": "stream",
     "text": [
      "('max mins', -0.9628585976124859, 1.0)\n"
     ]
    },
    {
     "name": "stderr",
     "output_type": "stream",
     "text": [
      "\r",
      " 44%|████▍     | 8/18 [00:37<00:45,  4.56s/it]"
     ]
    },
    {
     "name": "stdout",
     "output_type": "stream",
     "text": [
      "('max mins', -0.9666347799422894, 1.0)\n"
     ]
    },
    {
     "name": "stderr",
     "output_type": "stream",
     "text": [
      "\r",
      " 50%|█████     | 9/18 [00:42<00:40,  4.50s/it]"
     ]
    },
    {
     "name": "stdout",
     "output_type": "stream",
     "text": [
      "('max mins', -1.0, 0.9721025773644282)\n"
     ]
    },
    {
     "name": "stderr",
     "output_type": "stream",
     "text": [
      "\r",
      " 56%|█████▌    | 10/18 [00:46<00:36,  4.54s/it]"
     ]
    },
    {
     "name": "stdout",
     "output_type": "stream",
     "text": [
      "('max mins', -1.0, 0.9705080499673067)\n"
     ]
    },
    {
     "name": "stderr",
     "output_type": "stream",
     "text": [
      "\r",
      " 61%|██████    | 11/18 [00:51<00:32,  4.68s/it]"
     ]
    },
    {
     "name": "stdout",
     "output_type": "stream",
     "text": [
      "('max mins', -1.0, 0.9901011729372123)\n"
     ]
    },
    {
     "name": "stderr",
     "output_type": "stream",
     "text": [
      "\r",
      " 67%|██████▋   | 12/18 [00:57<00:28,  4.83s/it]"
     ]
    },
    {
     "name": "stdout",
     "output_type": "stream",
     "text": [
      "('max mins', -0.9980627460717553, 1.0)\n"
     ]
    },
    {
     "name": "stderr",
     "output_type": "stream",
     "text": [
      "\r",
      " 72%|███████▏  | 13/18 [01:02<00:25,  5.14s/it]"
     ]
    },
    {
     "name": "stdout",
     "output_type": "stream",
     "text": [
      "('max mins', -1.0, 0.9443811730993229)\n"
     ]
    },
    {
     "name": "stderr",
     "output_type": "stream",
     "text": [
      "\r",
      " 78%|███████▊  | 14/18 [01:07<00:19,  4.95s/it]"
     ]
    },
    {
     "name": "stdout",
     "output_type": "stream",
     "text": [
      "('max mins', -1.0, 0.9213079865198895)\n"
     ]
    },
    {
     "name": "stderr",
     "output_type": "stream",
     "text": [
      "\r",
      " 83%|████████▎ | 15/18 [01:11<00:14,  4.78s/it]"
     ]
    },
    {
     "name": "stdout",
     "output_type": "stream",
     "text": [
      "('max mins', -1.0, 0.9709446183744602)\n"
     ]
    },
    {
     "name": "stderr",
     "output_type": "stream",
     "text": [
      "\r",
      " 89%|████████▉ | 16/18 [01:16<00:09,  4.64s/it]"
     ]
    },
    {
     "name": "stdout",
     "output_type": "stream",
     "text": [
      "('max mins', -0.9959990229971392, 1.0)\n"
     ]
    },
    {
     "name": "stderr",
     "output_type": "stream",
     "text": [
      "\r",
      " 94%|█████████▍| 17/18 [01:20<00:04,  4.55s/it]"
     ]
    },
    {
     "name": "stdout",
     "output_type": "stream",
     "text": [
      "('max mins', -1.0, 0.9780470985687384)\n"
     ]
    },
    {
     "name": "stderr",
     "output_type": "stream",
     "text": [
      "100%|██████████| 18/18 [01:24<00:00,  4.48s/it]\n"
     ]
    },
    {
     "name": "stdout",
     "output_type": "stream",
     "text": [
      "('Best file pairs are: ', 'non_spikey_T0000818.WAV*non_spikey_T0000819.WAV')\n",
      "Start and end indices around peak:                  start index: 2093105\t\t          end index: 13593105                  total samples:30015488\n",
      "('AV Sync was above threshold: ', 0.8312277350930187)\n",
      "common_fps/Aditya_annotations/2018-08-18/common_fps_video_syncAditya_2018-08-19_0120-0200_4.csv\n",
      "('video_fps obtained is :', 25)\n",
      "Did not find user-provided sample rate - getting it from first file that matches format!\n",
      "('sampling rate is : ', 250000)\n",
      ".....finding best audio segment.....\n"
     ]
    },
    {
     "name": "stderr",
     "output_type": "stream",
     "text": [
      "/home/tbeleyur/anaconda2/envs/horseshoebat/lib/python2.7/site-packages/numpy/core/fromnumeric.py:83: RuntimeWarning: invalid value encountered in reduce\n",
      "  return ufunc.reduce(obj, axis, dtype, out, **passkwargs)\n",
      "../../../bin/audio_for_videoannotation.py:830: RuntimeWarning: invalid value encountered in greater_equal\n",
      "  all_X_above_or_below_0 = [np.all(X>=0), np.all(X<=0)]\n",
      "../../../bin/audio_for_videoannotation.py:830: RuntimeWarning: invalid value encountered in less_equal\n",
      "  all_X_above_or_below_0 = [np.all(X>=0), np.all(X<=0)]\n",
      "  0%|          | 0/18 [00:00<?, ?it/s]"
     ]
    },
    {
     "name": "stdout",
     "output_type": "stream",
     "text": [
      "('max mins for upsampled video', nan, nan)\n",
      "('max mins', -0.9842913319379506, 1.0)\n"
     ]
    },
    {
     "name": "stderr",
     "output_type": "stream",
     "text": [
      "\r",
      "  6%|▌         | 1/18 [00:04<01:24,  4.95s/it]"
     ]
    },
    {
     "name": "stdout",
     "output_type": "stream",
     "text": [
      "('max mins', -0.9990574645583497, 1.0)\n"
     ]
    },
    {
     "name": "stderr",
     "output_type": "stream",
     "text": [
      "\r",
      " 11%|█         | 2/18 [00:10<01:20,  5.01s/it]"
     ]
    },
    {
     "name": "stdout",
     "output_type": "stream",
     "text": [
      "('max mins', -0.9807445591121711, 1.0)\n"
     ]
    },
    {
     "name": "stderr",
     "output_type": "stream",
     "text": [
      "\r",
      " 17%|█▋        | 3/18 [00:15<01:14,  5.00s/it]"
     ]
    },
    {
     "name": "stdout",
     "output_type": "stream",
     "text": [
      "('max mins', -1.0, 0.9565539319250242)\n"
     ]
    },
    {
     "name": "stderr",
     "output_type": "stream",
     "text": [
      "\r",
      " 22%|██▏       | 4/18 [00:20<01:09,  4.99s/it]"
     ]
    },
    {
     "name": "stdout",
     "output_type": "stream",
     "text": [
      "('max mins', -1.0, 0.91661497137065)\n"
     ]
    },
    {
     "name": "stderr",
     "output_type": "stream",
     "text": [
      "\r",
      " 28%|██▊       | 5/18 [00:24<01:03,  4.91s/it]"
     ]
    },
    {
     "name": "stdout",
     "output_type": "stream",
     "text": [
      "('max mins', -1.0, 0.9710591622684932)\n"
     ]
    },
    {
     "name": "stderr",
     "output_type": "stream",
     "text": [
      "\r",
      " 33%|███▎      | 6/18 [00:30<01:01,  5.10s/it]"
     ]
    },
    {
     "name": "stdout",
     "output_type": "stream",
     "text": [
      "('max mins', -1.0, 0.9775796255224128)\n"
     ]
    },
    {
     "name": "stderr",
     "output_type": "stream",
     "text": [
      "\r",
      " 39%|███▉      | 7/18 [00:34<00:54,  4.93s/it]"
     ]
    },
    {
     "name": "stdout",
     "output_type": "stream",
     "text": [
      "('max mins', -0.9628585976124859, 1.0)\n"
     ]
    },
    {
     "name": "stderr",
     "output_type": "stream",
     "text": [
      "\r",
      " 44%|████▍     | 8/18 [00:39<00:47,  4.74s/it]"
     ]
    },
    {
     "name": "stdout",
     "output_type": "stream",
     "text": [
      "('max mins', -0.9666347799422894, 1.0)\n"
     ]
    },
    {
     "name": "stderr",
     "output_type": "stream",
     "text": [
      "\r",
      " 50%|█████     | 9/18 [00:43<00:41,  4.64s/it]"
     ]
    },
    {
     "name": "stdout",
     "output_type": "stream",
     "text": [
      "('max mins', -1.0, 0.9721025773644282)\n"
     ]
    },
    {
     "name": "stderr",
     "output_type": "stream",
     "text": [
      "\r",
      " 56%|█████▌    | 10/18 [00:47<00:36,  4.53s/it]"
     ]
    },
    {
     "name": "stdout",
     "output_type": "stream",
     "text": [
      "('max mins', -1.0, 0.9705080499673067)\n"
     ]
    },
    {
     "name": "stderr",
     "output_type": "stream",
     "text": [
      "\r",
      " 61%|██████    | 11/18 [00:52<00:31,  4.45s/it]"
     ]
    },
    {
     "name": "stdout",
     "output_type": "stream",
     "text": [
      "('max mins', -1.0, 0.9901011729372123)\n"
     ]
    },
    {
     "name": "stderr",
     "output_type": "stream",
     "text": [
      "\r",
      " 67%|██████▋   | 12/18 [00:56<00:26,  4.40s/it]"
     ]
    },
    {
     "name": "stdout",
     "output_type": "stream",
     "text": [
      "('max mins', -0.9980627460717553, 1.0)\n"
     ]
    },
    {
     "name": "stderr",
     "output_type": "stream",
     "text": [
      "\r",
      " 72%|███████▏  | 13/18 [01:00<00:21,  4.38s/it]"
     ]
    },
    {
     "name": "stdout",
     "output_type": "stream",
     "text": [
      "('max mins', -1.0, 0.9443811730993229)\n"
     ]
    },
    {
     "name": "stderr",
     "output_type": "stream",
     "text": [
      "\r",
      " 78%|███████▊  | 14/18 [01:05<00:17,  4.37s/it]"
     ]
    },
    {
     "name": "stdout",
     "output_type": "stream",
     "text": [
      "('max mins', -1.0, 0.9213079865198895)\n"
     ]
    },
    {
     "name": "stderr",
     "output_type": "stream",
     "text": [
      "\r",
      " 83%|████████▎ | 15/18 [01:09<00:13,  4.35s/it]"
     ]
    },
    {
     "name": "stdout",
     "output_type": "stream",
     "text": [
      "('max mins', -1.0, 0.9709446183744602)\n"
     ]
    },
    {
     "name": "stderr",
     "output_type": "stream",
     "text": [
      "\r",
      " 89%|████████▉ | 16/18 [01:13<00:08,  4.34s/it]"
     ]
    },
    {
     "name": "stdout",
     "output_type": "stream",
     "text": [
      "('max mins', -0.9959990229971392, 1.0)\n"
     ]
    },
    {
     "name": "stderr",
     "output_type": "stream",
     "text": [
      "\r",
      " 94%|█████████▍| 17/18 [01:17<00:04,  4.33s/it]"
     ]
    },
    {
     "name": "stdout",
     "output_type": "stream",
     "text": [
      "('max mins', -1.0, 0.9780470985687384)\n"
     ]
    },
    {
     "name": "stderr",
     "output_type": "stream",
     "text": [
      "100%|██████████| 18/18 [01:22<00:00,  4.33s/it]\n"
     ]
    },
    {
     "name": "stdout",
     "output_type": "stream",
     "text": [
      "('Best file pairs are: ', 'non_spikey_T0000822.WAV*non_spikey_T0000823.WAV')\n",
      "Unable to get proper audio match for video segment!\n",
      "('Could not save ', 'common_fps/Aditya_annotations/2018-08-18/common_fps_video_syncAditya_2018-08-19_0120-0200_4.csv')\n",
      "common_fps/Aditya_annotations/2018-08-18/common_fps_video_syncAditya_2018-08-19_0120-0200_5.csv\n",
      "('video_fps obtained is :', 25)\n",
      "Did not find user-provided sample rate - getting it from first file that matches format!\n",
      "('sampling rate is : ', 250000)\n",
      ".....finding best audio segment.....\n"
     ]
    },
    {
     "name": "stderr",
     "output_type": "stream",
     "text": [
      "\r",
      "  0%|          | 0/18 [00:00<?, ?it/s]"
     ]
    },
    {
     "name": "stdout",
     "output_type": "stream",
     "text": [
      "('max mins for upsampled video', nan, nan)\n",
      "('max mins', -0.9842913319379506, 1.0)\n"
     ]
    },
    {
     "name": "stderr",
     "output_type": "stream",
     "text": [
      "\r",
      "  6%|▌         | 1/18 [00:04<01:15,  4.43s/it]"
     ]
    },
    {
     "name": "stdout",
     "output_type": "stream",
     "text": [
      "('max mins', -0.9990574645583497, 1.0)\n"
     ]
    },
    {
     "name": "stderr",
     "output_type": "stream",
     "text": [
      "\r",
      " 11%|█         | 2/18 [00:08<01:11,  4.45s/it]"
     ]
    },
    {
     "name": "stdout",
     "output_type": "stream",
     "text": [
      "('max mins', -0.9807445591121711, 1.0)\n"
     ]
    },
    {
     "name": "stderr",
     "output_type": "stream",
     "text": [
      "\r",
      " 17%|█▋        | 3/18 [00:13<01:07,  4.52s/it]"
     ]
    },
    {
     "name": "stdout",
     "output_type": "stream",
     "text": [
      "('max mins', -1.0, 0.9565539319250242)\n"
     ]
    },
    {
     "name": "stderr",
     "output_type": "stream",
     "text": [
      "\r",
      " 22%|██▏       | 4/18 [00:18<01:04,  4.58s/it]"
     ]
    },
    {
     "name": "stdout",
     "output_type": "stream",
     "text": [
      "('max mins', -1.0, 0.91661497137065)\n"
     ]
    },
    {
     "name": "stderr",
     "output_type": "stream",
     "text": [
      "\r",
      " 28%|██▊       | 5/18 [00:23<01:00,  4.64s/it]"
     ]
    },
    {
     "name": "stdout",
     "output_type": "stream",
     "text": [
      "('max mins', -1.0, 0.9710591622684932)\n"
     ]
    },
    {
     "name": "stderr",
     "output_type": "stream",
     "text": [
      "\r",
      " 33%|███▎      | 6/18 [00:28<00:57,  4.83s/it]"
     ]
    },
    {
     "name": "stdout",
     "output_type": "stream",
     "text": [
      "('max mins', -1.0, 0.9775796255224128)\n"
     ]
    },
    {
     "name": "stderr",
     "output_type": "stream",
     "text": [
      "\r",
      " 39%|███▉      | 7/18 [00:33<00:52,  4.79s/it]"
     ]
    },
    {
     "name": "stdout",
     "output_type": "stream",
     "text": [
      "('max mins', -0.9628585976124859, 1.0)\n"
     ]
    },
    {
     "name": "stderr",
     "output_type": "stream",
     "text": [
      "\r",
      " 44%|████▍     | 8/18 [00:37<00:47,  4.71s/it]"
     ]
    },
    {
     "name": "stdout",
     "output_type": "stream",
     "text": [
      "('max mins', -0.9666347799422894, 1.0)\n"
     ]
    },
    {
     "name": "stderr",
     "output_type": "stream",
     "text": [
      "\r",
      " 50%|█████     | 9/18 [00:42<00:41,  4.63s/it]"
     ]
    },
    {
     "name": "stdout",
     "output_type": "stream",
     "text": [
      "('max mins', -1.0, 0.9721025773644282)\n"
     ]
    },
    {
     "name": "stderr",
     "output_type": "stream",
     "text": [
      "\r",
      " 56%|█████▌    | 10/18 [00:47<00:39,  4.90s/it]"
     ]
    },
    {
     "name": "stdout",
     "output_type": "stream",
     "text": [
      "('max mins', -1.0, 0.9705080499673067)\n"
     ]
    },
    {
     "name": "stderr",
     "output_type": "stream",
     "text": [
      "\r",
      " 61%|██████    | 11/18 [00:52<00:33,  4.83s/it]"
     ]
    },
    {
     "name": "stdout",
     "output_type": "stream",
     "text": [
      "('max mins', -1.0, 0.9901011729372123)\n"
     ]
    },
    {
     "name": "stderr",
     "output_type": "stream",
     "text": [
      "\r",
      " 67%|██████▋   | 12/18 [00:56<00:28,  4.72s/it]"
     ]
    },
    {
     "name": "stdout",
     "output_type": "stream",
     "text": [
      "('max mins', -0.9980627460717553, 1.0)\n"
     ]
    },
    {
     "name": "stderr",
     "output_type": "stream",
     "text": [
      "\r",
      " 72%|███████▏  | 13/18 [01:01<00:23,  4.69s/it]"
     ]
    },
    {
     "name": "stdout",
     "output_type": "stream",
     "text": [
      "('max mins', -1.0, 0.9443811730993229)\n"
     ]
    },
    {
     "name": "stderr",
     "output_type": "stream",
     "text": [
      "\r",
      " 78%|███████▊  | 14/18 [01:06<00:18,  4.75s/it]"
     ]
    },
    {
     "name": "stdout",
     "output_type": "stream",
     "text": [
      "('max mins', -1.0, 0.9213079865198895)\n"
     ]
    },
    {
     "name": "stderr",
     "output_type": "stream",
     "text": [
      "\r",
      " 83%|████████▎ | 15/18 [01:11<00:14,  4.89s/it]"
     ]
    },
    {
     "name": "stdout",
     "output_type": "stream",
     "text": [
      "('max mins', -1.0, 0.9709446183744602)\n"
     ]
    },
    {
     "name": "stderr",
     "output_type": "stream",
     "text": [
      "\r",
      " 89%|████████▉ | 16/18 [01:15<00:09,  4.75s/it]"
     ]
    },
    {
     "name": "stdout",
     "output_type": "stream",
     "text": [
      "('max mins', -0.9959990229971392, 1.0)\n"
     ]
    },
    {
     "name": "stderr",
     "output_type": "stream",
     "text": [
      "\r",
      " 94%|█████████▍| 17/18 [01:20<00:04,  4.78s/it]"
     ]
    },
    {
     "name": "stdout",
     "output_type": "stream",
     "text": [
      "('max mins', -1.0, 0.9780470985687384)\n"
     ]
    },
    {
     "name": "stderr",
     "output_type": "stream",
     "text": [
      "100%|██████████| 18/18 [01:25<00:00,  4.69s/it]\n"
     ]
    },
    {
     "name": "stdout",
     "output_type": "stream",
     "text": [
      "('Best file pairs are: ', 'non_spikey_T0000822.WAV*non_spikey_T0000823.WAV')\n",
      "Unable to get proper audio match for video segment!\n",
      "('Could not save ', 'common_fps/Aditya_annotations/2018-08-18/common_fps_video_syncAditya_2018-08-19_0120-0200_5.csv')\n",
      "common_fps/Aditya_annotations/2018-08-18/common_fps_video_syncAditya_2018-08-19_0120-0200_6.csv\n",
      "('video_fps obtained is :', 25)\n",
      "Did not find user-provided sample rate - getting it from first file that matches format!\n",
      "('sampling rate is : ', 250000)\n",
      ".....finding best audio segment.....\n"
     ]
    },
    {
     "name": "stderr",
     "output_type": "stream",
     "text": [
      "\r",
      "  0%|          | 0/18 [00:00<?, ?it/s]"
     ]
    },
    {
     "name": "stdout",
     "output_type": "stream",
     "text": [
      "('max mins for upsampled video', -0.997970722937534, 1.0)\n",
      "('max mins', -0.9842913319379506, 1.0)\n"
     ]
    },
    {
     "name": "stderr",
     "output_type": "stream",
     "text": [
      "\r",
      "  6%|▌         | 1/18 [00:05<01:26,  5.11s/it]"
     ]
    },
    {
     "name": "stdout",
     "output_type": "stream",
     "text": [
      "('max mins', -0.9990574645583497, 1.0)\n"
     ]
    },
    {
     "name": "stderr",
     "output_type": "stream",
     "text": [
      "\r",
      " 11%|█         | 2/18 [00:10<01:20,  5.05s/it]"
     ]
    },
    {
     "name": "stdout",
     "output_type": "stream",
     "text": [
      "('max mins', -0.9807445591121711, 1.0)\n"
     ]
    },
    {
     "name": "stderr",
     "output_type": "stream",
     "text": [
      "\r",
      " 17%|█▋        | 3/18 [00:14<01:13,  4.92s/it]"
     ]
    },
    {
     "name": "stdout",
     "output_type": "stream",
     "text": [
      "('max mins', -1.0, 0.9565539319250242)\n"
     ]
    },
    {
     "name": "stderr",
     "output_type": "stream",
     "text": [
      "\r",
      " 22%|██▏       | 4/18 [00:19<01:07,  4.79s/it]"
     ]
    },
    {
     "name": "stdout",
     "output_type": "stream",
     "text": [
      "('max mins', -1.0, 0.91661497137065)\n"
     ]
    },
    {
     "name": "stderr",
     "output_type": "stream",
     "text": [
      "\r",
      " 28%|██▊       | 5/18 [00:24<01:02,  4.82s/it]"
     ]
    },
    {
     "name": "stdout",
     "output_type": "stream",
     "text": [
      "('max mins', -1.0, 0.9710591622684932)\n"
     ]
    },
    {
     "name": "stderr",
     "output_type": "stream",
     "text": [
      "\r",
      " 33%|███▎      | 6/18 [00:29<00:58,  4.88s/it]"
     ]
    },
    {
     "name": "stdout",
     "output_type": "stream",
     "text": [
      "('max mins', -1.0, 0.9775796255224128)\n"
     ]
    },
    {
     "name": "stderr",
     "output_type": "stream",
     "text": [
      "\r",
      " 39%|███▉      | 7/18 [00:33<00:52,  4.81s/it]"
     ]
    },
    {
     "name": "stdout",
     "output_type": "stream",
     "text": [
      "('max mins', -0.9628585976124859, 1.0)\n"
     ]
    },
    {
     "name": "stderr",
     "output_type": "stream",
     "text": [
      "\r",
      " 44%|████▍     | 8/18 [00:38<00:47,  4.73s/it]"
     ]
    },
    {
     "name": "stdout",
     "output_type": "stream",
     "text": [
      "('max mins', -0.9666347799422894, 1.0)\n"
     ]
    },
    {
     "name": "stderr",
     "output_type": "stream",
     "text": [
      "\r",
      " 50%|█████     | 9/18 [00:42<00:42,  4.68s/it]"
     ]
    },
    {
     "name": "stdout",
     "output_type": "stream",
     "text": [
      "('max mins', -1.0, 0.9721025773644282)\n"
     ]
    },
    {
     "name": "stderr",
     "output_type": "stream",
     "text": [
      "\r",
      " 56%|█████▌    | 10/18 [00:47<00:36,  4.57s/it]"
     ]
    },
    {
     "name": "stdout",
     "output_type": "stream",
     "text": [
      "('max mins', -1.0, 0.9705080499673067)\n"
     ]
    },
    {
     "name": "stderr",
     "output_type": "stream",
     "text": [
      "\r",
      " 61%|██████    | 11/18 [00:51<00:32,  4.58s/it]"
     ]
    },
    {
     "name": "stdout",
     "output_type": "stream",
     "text": [
      "('max mins', -1.0, 0.9901011729372123)\n"
     ]
    },
    {
     "name": "stderr",
     "output_type": "stream",
     "text": [
      "\r",
      " 67%|██████▋   | 12/18 [00:56<00:27,  4.50s/it]"
     ]
    },
    {
     "name": "stdout",
     "output_type": "stream",
     "text": [
      "('max mins', -0.9980627460717553, 1.0)\n"
     ]
    },
    {
     "name": "stderr",
     "output_type": "stream",
     "text": [
      "\r",
      " 72%|███████▏  | 13/18 [01:00<00:22,  4.45s/it]"
     ]
    },
    {
     "name": "stdout",
     "output_type": "stream",
     "text": [
      "('max mins', -1.0, 0.9443811730993229)\n"
     ]
    },
    {
     "name": "stderr",
     "output_type": "stream",
     "text": [
      "\r",
      " 78%|███████▊  | 14/18 [01:04<00:17,  4.40s/it]"
     ]
    },
    {
     "name": "stdout",
     "output_type": "stream",
     "text": [
      "('max mins', -1.0, 0.9213079865198895)\n"
     ]
    },
    {
     "name": "stderr",
     "output_type": "stream",
     "text": [
      "\r",
      " 83%|████████▎ | 15/18 [01:08<00:13,  4.38s/it]"
     ]
    },
    {
     "name": "stdout",
     "output_type": "stream",
     "text": [
      "('max mins', -1.0, 0.9709446183744602)\n"
     ]
    },
    {
     "name": "stderr",
     "output_type": "stream",
     "text": [
      "\r",
      " 89%|████████▉ | 16/18 [01:13<00:08,  4.37s/it]"
     ]
    },
    {
     "name": "stdout",
     "output_type": "stream",
     "text": [
      "('max mins', -0.9959990229971392, 1.0)\n"
     ]
    },
    {
     "name": "stderr",
     "output_type": "stream",
     "text": [
      "\r",
      " 94%|█████████▍| 17/18 [01:17<00:04,  4.36s/it]"
     ]
    },
    {
     "name": "stdout",
     "output_type": "stream",
     "text": [
      "('max mins', -1.0, 0.9780470985687384)\n"
     ]
    },
    {
     "name": "stderr",
     "output_type": "stream",
     "text": [
      "100%|██████████| 18/18 [01:21<00:00,  4.35s/it]\n"
     ]
    },
    {
     "name": "stdout",
     "output_type": "stream",
     "text": [
      "('Best file pairs are: ', 'non_spikey_T0000819.WAV*non_spikey_T0000820.WAV')\n",
      "Start and end indices around peak:                  start index: 10332605\t\t          end index: 21832605                  total samples:30015488\n",
      "('AV Sync was above threshold: ', 0.8537236754376669)\n",
      "common_fps/Aditya_annotations/2018-08-18/common_fps_video_syncAditya_2018-08-19_0120-0200_7.csv\n",
      "('video_fps obtained is :', 25)\n",
      "Did not find user-provided sample rate - getting it from first file that matches format!\n",
      "('sampling rate is : ', 250000)\n",
      ".....finding best audio segment.....\n"
     ]
    },
    {
     "name": "stderr",
     "output_type": "stream",
     "text": [
      "\r",
      "  0%|          | 0/18 [00:00<?, ?it/s]"
     ]
    },
    {
     "name": "stdout",
     "output_type": "stream",
     "text": [
      "('max mins for upsampled video', -1.0, 0.9723307963974693)\n",
      "('max mins', -0.9842913319379506, 1.0)\n"
     ]
    },
    {
     "name": "stderr",
     "output_type": "stream",
     "text": [
      "\r",
      "  6%|▌         | 1/18 [00:04<01:13,  4.32s/it]"
     ]
    },
    {
     "name": "stdout",
     "output_type": "stream",
     "text": [
      "('max mins', -0.9990574645583497, 1.0)\n"
     ]
    },
    {
     "name": "stderr",
     "output_type": "stream",
     "text": [
      "\r",
      " 11%|█         | 2/18 [00:09<01:11,  4.46s/it]"
     ]
    },
    {
     "name": "stdout",
     "output_type": "stream",
     "text": [
      "('max mins', -0.9807445591121711, 1.0)\n"
     ]
    },
    {
     "name": "stderr",
     "output_type": "stream",
     "text": [
      "\r",
      " 17%|█▋        | 3/18 [00:13<01:06,  4.42s/it]"
     ]
    },
    {
     "name": "stdout",
     "output_type": "stream",
     "text": [
      "('max mins', -1.0, 0.9565539319250242)\n"
     ]
    },
    {
     "name": "stderr",
     "output_type": "stream",
     "text": [
      "\r",
      " 22%|██▏       | 4/18 [00:17<01:01,  4.38s/it]"
     ]
    },
    {
     "name": "stdout",
     "output_type": "stream",
     "text": [
      "('max mins', -1.0, 0.91661497137065)\n"
     ]
    },
    {
     "name": "stderr",
     "output_type": "stream",
     "text": [
      "\r",
      " 28%|██▊       | 5/18 [00:22<00:56,  4.36s/it]"
     ]
    },
    {
     "name": "stdout",
     "output_type": "stream",
     "text": [
      "('max mins', -1.0, 0.9710591622684932)\n"
     ]
    },
    {
     "name": "stderr",
     "output_type": "stream",
     "text": [
      "\r",
      " 33%|███▎      | 6/18 [00:26<00:52,  4.35s/it]"
     ]
    },
    {
     "name": "stdout",
     "output_type": "stream",
     "text": [
      "('max mins', -1.0, 0.9775796255224128)\n"
     ]
    },
    {
     "name": "stderr",
     "output_type": "stream",
     "text": [
      "\r",
      " 39%|███▉      | 7/18 [00:30<00:47,  4.35s/it]"
     ]
    },
    {
     "name": "stdout",
     "output_type": "stream",
     "text": [
      "('max mins', -0.9628585976124859, 1.0)\n"
     ]
    },
    {
     "name": "stderr",
     "output_type": "stream",
     "text": [
      "\r",
      " 44%|████▍     | 8/18 [00:35<00:44,  4.42s/it]"
     ]
    },
    {
     "name": "stdout",
     "output_type": "stream",
     "text": [
      "('max mins', -0.9666347799422894, 1.0)\n"
     ]
    },
    {
     "name": "stderr",
     "output_type": "stream",
     "text": [
      "\r",
      " 50%|█████     | 9/18 [00:39<00:40,  4.49s/it]"
     ]
    },
    {
     "name": "stdout",
     "output_type": "stream",
     "text": [
      "('max mins', -1.0, 0.9721025773644282)\n"
     ]
    },
    {
     "name": "stderr",
     "output_type": "stream",
     "text": [
      "\r",
      " 56%|█████▌    | 10/18 [00:44<00:37,  4.64s/it]"
     ]
    },
    {
     "name": "stdout",
     "output_type": "stream",
     "text": [
      "('max mins', -1.0, 0.9705080499673067)\n"
     ]
    },
    {
     "name": "stderr",
     "output_type": "stream",
     "text": [
      "\r",
      " 61%|██████    | 11/18 [00:49<00:31,  4.54s/it]"
     ]
    },
    {
     "name": "stdout",
     "output_type": "stream",
     "text": [
      "('max mins', -1.0, 0.9901011729372123)\n"
     ]
    },
    {
     "name": "stderr",
     "output_type": "stream",
     "text": [
      "\r",
      " 67%|██████▋   | 12/18 [00:53<00:27,  4.52s/it]"
     ]
    },
    {
     "name": "stdout",
     "output_type": "stream",
     "text": [
      "('max mins', -0.9980627460717553, 1.0)\n"
     ]
    },
    {
     "name": "stderr",
     "output_type": "stream",
     "text": [
      "\r",
      " 72%|███████▏  | 13/18 [00:58<00:22,  4.50s/it]"
     ]
    },
    {
     "name": "stdout",
     "output_type": "stream",
     "text": [
      "('max mins', -1.0, 0.9443811730993229)\n"
     ]
    },
    {
     "name": "stderr",
     "output_type": "stream",
     "text": [
      "\r",
      " 78%|███████▊  | 14/18 [01:03<00:18,  4.70s/it]"
     ]
    },
    {
     "name": "stdout",
     "output_type": "stream",
     "text": [
      "('max mins', -1.0, 0.9213079865198895)\n"
     ]
    },
    {
     "name": "stderr",
     "output_type": "stream",
     "text": [
      "\r",
      " 83%|████████▎ | 15/18 [01:07<00:13,  4.65s/it]"
     ]
    },
    {
     "name": "stdout",
     "output_type": "stream",
     "text": [
      "('max mins', -1.0, 0.9709446183744602)\n"
     ]
    },
    {
     "name": "stderr",
     "output_type": "stream",
     "text": [
      "\r",
      " 89%|████████▉ | 16/18 [01:13<00:09,  4.83s/it]"
     ]
    },
    {
     "name": "stdout",
     "output_type": "stream",
     "text": [
      "('max mins', -0.9959990229971392, 1.0)\n"
     ]
    },
    {
     "name": "stderr",
     "output_type": "stream",
     "text": [
      "\r",
      " 94%|█████████▍| 17/18 [01:17<00:04,  4.82s/it]"
     ]
    },
    {
     "name": "stdout",
     "output_type": "stream",
     "text": [
      "('max mins', -1.0, 0.9780470985687384)\n"
     ]
    },
    {
     "name": "stderr",
     "output_type": "stream",
     "text": [
      "100%|██████████| 18/18 [01:23<00:00,  5.07s/it]\n"
     ]
    },
    {
     "name": "stdout",
     "output_type": "stream",
     "text": [
      "('Best file pairs are: ', 'non_spikey_T0000819.WAV*non_spikey_T0000820.WAV')\n",
      "Start and end indices around peak:                  start index: 10582870\t\t          end index: 22082870                  total samples:30015488\n",
      "('AV Sync was above threshold: ', 0.851700379163865)\n",
      "common_fps/Aditya_annotations/2018-08-18/common_fps_video_syncAditya_2018-08-19_0120-0200_8.csv\n",
      "('video_fps obtained is :', 25)\n",
      "Did not find user-provided sample rate - getting it from first file that matches format!\n",
      "('sampling rate is : ', 250000)\n",
      ".....finding best audio segment.....\n"
     ]
    },
    {
     "name": "stderr",
     "output_type": "stream",
     "text": [
      "\r",
      "  0%|          | 0/18 [00:00<?, ?it/s]"
     ]
    },
    {
     "name": "stdout",
     "output_type": "stream",
     "text": [
      "('max mins for upsampled video', -1.0, 0.9751118040722723)\n",
      "('max mins', -0.9842913319379506, 1.0)\n"
     ]
    },
    {
     "name": "stderr",
     "output_type": "stream",
     "text": [
      "\r",
      "  6%|▌         | 1/18 [00:05<01:33,  5.48s/it]"
     ]
    },
    {
     "name": "stdout",
     "output_type": "stream",
     "text": [
      "('max mins', -0.9990574645583497, 1.0)\n"
     ]
    },
    {
     "name": "stderr",
     "output_type": "stream",
     "text": [
      "\r",
      " 11%|█         | 2/18 [00:10<01:26,  5.38s/it]"
     ]
    },
    {
     "name": "stdout",
     "output_type": "stream",
     "text": [
      "('max mins', -0.9807445591121711, 1.0)\n"
     ]
    },
    {
     "name": "stderr",
     "output_type": "stream",
     "text": [
      "\r",
      " 17%|█▋        | 3/18 [00:16<01:22,  5.53s/it]"
     ]
    },
    {
     "name": "stdout",
     "output_type": "stream",
     "text": [
      "('max mins', -1.0, 0.9565539319250242)\n"
     ]
    },
    {
     "name": "stderr",
     "output_type": "stream",
     "text": [
      "\r",
      " 22%|██▏       | 4/18 [00:21<01:15,  5.40s/it]"
     ]
    },
    {
     "name": "stdout",
     "output_type": "stream",
     "text": [
      "('max mins', -1.0, 0.91661497137065)\n"
     ]
    },
    {
     "name": "stderr",
     "output_type": "stream",
     "text": [
      "\r",
      " 28%|██▊       | 5/18 [00:26<01:07,  5.21s/it]"
     ]
    },
    {
     "name": "stdout",
     "output_type": "stream",
     "text": [
      "('max mins', -1.0, 0.9710591622684932)\n"
     ]
    },
    {
     "name": "stderr",
     "output_type": "stream",
     "text": [
      "\r",
      " 33%|███▎      | 6/18 [00:31<01:01,  5.10s/it]"
     ]
    },
    {
     "name": "stdout",
     "output_type": "stream",
     "text": [
      "('max mins', -1.0, 0.9775796255224128)\n"
     ]
    },
    {
     "name": "stderr",
     "output_type": "stream",
     "text": [
      "\r",
      " 39%|███▉      | 7/18 [00:36<00:57,  5.27s/it]"
     ]
    },
    {
     "name": "stdout",
     "output_type": "stream",
     "text": [
      "('max mins', -0.9628585976124859, 1.0)\n"
     ]
    },
    {
     "name": "stderr",
     "output_type": "stream",
     "text": [
      "\r",
      " 44%|████▍     | 8/18 [00:41<00:51,  5.15s/it]"
     ]
    },
    {
     "name": "stdout",
     "output_type": "stream",
     "text": [
      "('max mins', -0.9666347799422894, 1.0)\n"
     ]
    },
    {
     "name": "stderr",
     "output_type": "stream",
     "text": [
      "\r",
      " 50%|█████     | 9/18 [00:46<00:44,  4.92s/it]"
     ]
    },
    {
     "name": "stdout",
     "output_type": "stream",
     "text": [
      "('max mins', -1.0, 0.9721025773644282)\n"
     ]
    },
    {
     "name": "stderr",
     "output_type": "stream",
     "text": [
      "\r",
      " 56%|█████▌    | 10/18 [00:50<00:38,  4.81s/it]"
     ]
    },
    {
     "name": "stdout",
     "output_type": "stream",
     "text": [
      "('max mins', -1.0, 0.9705080499673067)\n"
     ]
    },
    {
     "name": "stderr",
     "output_type": "stream",
     "text": [
      "\r",
      " 61%|██████    | 11/18 [00:55<00:33,  4.84s/it]"
     ]
    },
    {
     "name": "stdout",
     "output_type": "stream",
     "text": [
      "('max mins', -1.0, 0.9901011729372123)\n"
     ]
    },
    {
     "name": "stderr",
     "output_type": "stream",
     "text": [
      "\r",
      " 67%|██████▋   | 12/18 [01:00<00:29,  4.89s/it]"
     ]
    },
    {
     "name": "stdout",
     "output_type": "stream",
     "text": [
      "('max mins', -0.9980627460717553, 1.0)\n"
     ]
    },
    {
     "name": "stderr",
     "output_type": "stream",
     "text": [
      "\r",
      " 72%|███████▏  | 13/18 [01:06<00:25,  5.06s/it]"
     ]
    },
    {
     "name": "stdout",
     "output_type": "stream",
     "text": [
      "('max mins', -1.0, 0.9443811730993229)\n"
     ]
    },
    {
     "name": "stderr",
     "output_type": "stream",
     "text": [
      "\r",
      " 78%|███████▊  | 14/18 [01:10<00:19,  4.96s/it]"
     ]
    },
    {
     "name": "stdout",
     "output_type": "stream",
     "text": [
      "('max mins', -1.0, 0.9213079865198895)\n"
     ]
    },
    {
     "name": "stderr",
     "output_type": "stream",
     "text": [
      "\r",
      " 83%|████████▎ | 15/18 [01:15<00:14,  4.76s/it]"
     ]
    },
    {
     "name": "stdout",
     "output_type": "stream",
     "text": [
      "('max mins', -1.0, 0.9709446183744602)\n"
     ]
    },
    {
     "name": "stderr",
     "output_type": "stream",
     "text": [
      "\r",
      " 89%|████████▉ | 16/18 [01:19<00:09,  4.63s/it]"
     ]
    },
    {
     "name": "stdout",
     "output_type": "stream",
     "text": [
      "('max mins', -0.9959990229971392, 1.0)\n"
     ]
    },
    {
     "name": "stderr",
     "output_type": "stream",
     "text": [
      "\r",
      " 94%|█████████▍| 17/18 [01:23<00:04,  4.53s/it]"
     ]
    },
    {
     "name": "stdout",
     "output_type": "stream",
     "text": [
      "('max mins', -1.0, 0.9780470985687384)\n"
     ]
    },
    {
     "name": "stderr",
     "output_type": "stream",
     "text": [
      "100%|██████████| 18/18 [01:28<00:00,  4.47s/it]\n"
     ]
    },
    {
     "name": "stdout",
     "output_type": "stream",
     "text": [
      "('Best file pairs are: ', 'non_spikey_T0000819.WAV*non_spikey_T0000820.WAV')\n",
      "Start and end indices around peak:                  start index: 14582654\t\t          end index: 26082654                  total samples:30015488\n",
      "('AV Sync was above threshold: ', 0.8533813004856972)\n",
      "common_fps/Aditya_annotations/2018-08-18/common_fps_video_syncAditya_2018-08-19_0120-0200_13.csv\n",
      "('video_fps obtained is :', 25)\n",
      "Did not find user-provided sample rate - getting it from first file that matches format!\n",
      "('sampling rate is : ', 250000)\n",
      ".....finding best audio segment.....\n"
     ]
    },
    {
     "name": "stderr",
     "output_type": "stream",
     "text": [
      "\r",
      "  0%|          | 0/18 [00:00<?, ?it/s]"
     ]
    },
    {
     "name": "stdout",
     "output_type": "stream",
     "text": [
      "('max mins for upsampled video', -0.8921571319935924, 1.0)\n",
      "('max mins', -0.9842913319379506, 1.0)\n"
     ]
    },
    {
     "name": "stderr",
     "output_type": "stream",
     "text": [
      "\r",
      "  6%|▌         | 1/18 [00:04<01:13,  4.31s/it]"
     ]
    },
    {
     "name": "stdout",
     "output_type": "stream",
     "text": [
      "('max mins', -0.9990574645583497, 1.0)\n"
     ]
    },
    {
     "name": "stderr",
     "output_type": "stream",
     "text": [
      "\r",
      " 11%|█         | 2/18 [00:08<01:09,  4.32s/it]"
     ]
    },
    {
     "name": "stdout",
     "output_type": "stream",
     "text": [
      "('max mins', -0.9807445591121711, 1.0)\n"
     ]
    },
    {
     "name": "stderr",
     "output_type": "stream",
     "text": [
      "\r",
      " 17%|█▋        | 3/18 [00:12<01:04,  4.32s/it]"
     ]
    },
    {
     "name": "stdout",
     "output_type": "stream",
     "text": [
      "('max mins', -1.0, 0.9565539319250242)\n"
     ]
    },
    {
     "name": "stderr",
     "output_type": "stream",
     "text": [
      "\r",
      " 22%|██▏       | 4/18 [00:17<01:00,  4.32s/it]"
     ]
    },
    {
     "name": "stdout",
     "output_type": "stream",
     "text": [
      "('max mins', -1.0, 0.91661497137065)\n"
     ]
    },
    {
     "name": "stderr",
     "output_type": "stream",
     "text": [
      "\r",
      " 28%|██▊       | 5/18 [00:21<00:56,  4.32s/it]"
     ]
    },
    {
     "name": "stdout",
     "output_type": "stream",
     "text": [
      "('max mins', -1.0, 0.9710591622684932)\n"
     ]
    },
    {
     "name": "stderr",
     "output_type": "stream",
     "text": [
      "\r",
      " 33%|███▎      | 6/18 [00:26<00:52,  4.38s/it]"
     ]
    },
    {
     "name": "stdout",
     "output_type": "stream",
     "text": [
      "('max mins', -1.0, 0.9775796255224128)\n"
     ]
    },
    {
     "name": "stderr",
     "output_type": "stream",
     "text": [
      "\r",
      " 39%|███▉      | 7/18 [00:30<00:47,  4.36s/it]"
     ]
    },
    {
     "name": "stdout",
     "output_type": "stream",
     "text": [
      "('max mins', -0.9628585976124859, 1.0)\n"
     ]
    },
    {
     "name": "stderr",
     "output_type": "stream",
     "text": [
      "\r",
      " 44%|████▍     | 8/18 [00:34<00:43,  4.38s/it]"
     ]
    },
    {
     "name": "stdout",
     "output_type": "stream",
     "text": [
      "('max mins', -0.9666347799422894, 1.0)\n"
     ]
    },
    {
     "name": "stderr",
     "output_type": "stream",
     "text": [
      "\r",
      " 50%|█████     | 9/18 [00:39<00:39,  4.37s/it]"
     ]
    },
    {
     "name": "stdout",
     "output_type": "stream",
     "text": [
      "('max mins', -1.0, 0.9721025773644282)\n"
     ]
    },
    {
     "name": "stderr",
     "output_type": "stream",
     "text": [
      "\r",
      " 56%|█████▌    | 10/18 [00:43<00:34,  4.36s/it]"
     ]
    },
    {
     "name": "stdout",
     "output_type": "stream",
     "text": [
      "('max mins', -1.0, 0.9705080499673067)\n"
     ]
    },
    {
     "name": "stderr",
     "output_type": "stream",
     "text": [
      "\r",
      " 61%|██████    | 11/18 [00:47<00:30,  4.35s/it]"
     ]
    },
    {
     "name": "stdout",
     "output_type": "stream",
     "text": [
      "('max mins', -1.0, 0.9901011729372123)\n"
     ]
    },
    {
     "name": "stderr",
     "output_type": "stream",
     "text": [
      "\r",
      " 67%|██████▋   | 12/18 [00:52<00:26,  4.35s/it]"
     ]
    },
    {
     "name": "stdout",
     "output_type": "stream",
     "text": [
      "('max mins', -0.9980627460717553, 1.0)\n"
     ]
    },
    {
     "name": "stderr",
     "output_type": "stream",
     "text": [
      "\r",
      " 72%|███████▏  | 13/18 [00:56<00:22,  4.48s/it]"
     ]
    },
    {
     "name": "stdout",
     "output_type": "stream",
     "text": [
      "('max mins', -1.0, 0.9443811730993229)\n"
     ]
    },
    {
     "name": "stderr",
     "output_type": "stream",
     "text": [
      "\r",
      " 78%|███████▊  | 14/18 [01:01<00:18,  4.55s/it]"
     ]
    },
    {
     "name": "stdout",
     "output_type": "stream",
     "text": [
      "('max mins', -1.0, 0.9213079865198895)\n"
     ]
    },
    {
     "name": "stderr",
     "output_type": "stream",
     "text": [
      "\r",
      " 83%|████████▎ | 15/18 [01:06<00:14,  4.73s/it]"
     ]
    },
    {
     "name": "stdout",
     "output_type": "stream",
     "text": [
      "('max mins', -1.0, 0.9709446183744602)\n"
     ]
    },
    {
     "name": "stderr",
     "output_type": "stream",
     "text": [
      "\r",
      " 89%|████████▉ | 16/18 [01:11<00:09,  4.62s/it]"
     ]
    },
    {
     "name": "stdout",
     "output_type": "stream",
     "text": [
      "('max mins', -0.9959990229971392, 1.0)\n"
     ]
    },
    {
     "name": "stderr",
     "output_type": "stream",
     "text": [
      "\r",
      " 94%|█████████▍| 17/18 [01:15<00:04,  4.53s/it]"
     ]
    },
    {
     "name": "stdout",
     "output_type": "stream",
     "text": [
      "('max mins', -1.0, 0.9780470985687384)\n"
     ]
    },
    {
     "name": "stderr",
     "output_type": "stream",
     "text": [
      "100%|██████████| 18/18 [01:19<00:00,  4.47s/it]\n"
     ]
    },
    {
     "name": "stdout",
     "output_type": "stream",
     "text": [
      "('Best file pairs are: ', 'non_spikey_T0000820.WAV*non_spikey_T0000821.WAV')\n",
      "Start and end indices around peak:                  start index: 16829277\t\t          end index: 28329277                  total samples:30015488\n",
      "('AV Sync was above threshold: ', 0.8625870076833976)\n",
      "common_fps/Aditya_annotations/2018-08-18/common_fps_video_syncAditya_2018-08-19_0120-0200_14.csv\n",
      "('video_fps obtained is :', 25)\n",
      "Did not find user-provided sample rate - getting it from first file that matches format!\n",
      "('sampling rate is : ', 250000)\n",
      ".....finding best audio segment.....\n"
     ]
    },
    {
     "name": "stderr",
     "output_type": "stream",
     "text": [
      "\r",
      "  0%|          | 0/18 [00:00<?, ?it/s]"
     ]
    },
    {
     "name": "stdout",
     "output_type": "stream",
     "text": [
      "('max mins for upsampled video', -1.0, 0.9857983043248816)\n",
      "('max mins', -0.9842913319379506, 1.0)\n"
     ]
    },
    {
     "name": "stderr",
     "output_type": "stream",
     "text": [
      "\r",
      "  6%|▌         | 1/18 [00:04<01:13,  4.33s/it]"
     ]
    },
    {
     "name": "stdout",
     "output_type": "stream",
     "text": [
      "('max mins', -0.9990574645583497, 1.0)\n"
     ]
    },
    {
     "name": "stderr",
     "output_type": "stream",
     "text": [
      "\r",
      " 11%|█         | 2/18 [00:09<01:12,  4.55s/it]"
     ]
    },
    {
     "name": "stdout",
     "output_type": "stream",
     "text": [
      "('max mins', -0.9807445591121711, 1.0)\n"
     ]
    },
    {
     "name": "stderr",
     "output_type": "stream",
     "text": [
      "\r",
      " 17%|█▋        | 3/18 [00:15<01:13,  4.87s/it]"
     ]
    },
    {
     "name": "stdout",
     "output_type": "stream",
     "text": [
      "('max mins', -1.0, 0.9565539319250242)\n"
     ]
    },
    {
     "name": "stderr",
     "output_type": "stream",
     "text": [
      "\r",
      " 22%|██▏       | 4/18 [00:19<01:06,  4.75s/it]"
     ]
    },
    {
     "name": "stdout",
     "output_type": "stream",
     "text": [
      "('max mins', -1.0, 0.91661497137065)\n"
     ]
    },
    {
     "name": "stderr",
     "output_type": "stream",
     "text": [
      "\r",
      " 28%|██▊       | 5/18 [00:23<01:00,  4.63s/it]"
     ]
    },
    {
     "name": "stdout",
     "output_type": "stream",
     "text": [
      "('max mins', -1.0, 0.9710591622684932)\n"
     ]
    },
    {
     "name": "stderr",
     "output_type": "stream",
     "text": [
      "\r",
      " 33%|███▎      | 6/18 [00:28<00:54,  4.54s/it]"
     ]
    },
    {
     "name": "stdout",
     "output_type": "stream",
     "text": [
      "('max mins', -1.0, 0.9775796255224128)\n"
     ]
    },
    {
     "name": "stderr",
     "output_type": "stream",
     "text": [
      "\r",
      " 39%|███▉      | 7/18 [00:32<00:49,  4.48s/it]"
     ]
    },
    {
     "name": "stdout",
     "output_type": "stream",
     "text": [
      "('max mins', -0.9628585976124859, 1.0)\n"
     ]
    },
    {
     "name": "stderr",
     "output_type": "stream",
     "text": [
      "\r",
      " 44%|████▍     | 8/18 [00:36<00:44,  4.44s/it]"
     ]
    },
    {
     "name": "stdout",
     "output_type": "stream",
     "text": [
      "('max mins', -0.9666347799422894, 1.0)\n"
     ]
    },
    {
     "name": "stderr",
     "output_type": "stream",
     "text": [
      "\r",
      " 50%|█████     | 9/18 [00:41<00:39,  4.41s/it]"
     ]
    },
    {
     "name": "stdout",
     "output_type": "stream",
     "text": [
      "('max mins', -1.0, 0.9721025773644282)\n"
     ]
    },
    {
     "name": "stderr",
     "output_type": "stream",
     "text": [
      "\r",
      " 56%|█████▌    | 10/18 [00:45<00:35,  4.40s/it]"
     ]
    },
    {
     "name": "stdout",
     "output_type": "stream",
     "text": [
      "('max mins', -1.0, 0.9705080499673067)\n"
     ]
    },
    {
     "name": "stderr",
     "output_type": "stream",
     "text": [
      "\r",
      " 61%|██████    | 11/18 [00:50<00:31,  4.44s/it]"
     ]
    },
    {
     "name": "stdout",
     "output_type": "stream",
     "text": [
      "('max mins', -1.0, 0.9901011729372123)\n"
     ]
    },
    {
     "name": "stderr",
     "output_type": "stream",
     "text": [
      "\r",
      " 67%|██████▋   | 12/18 [00:54<00:26,  4.47s/it]"
     ]
    },
    {
     "name": "stdout",
     "output_type": "stream",
     "text": [
      "('max mins', -0.9980627460717553, 1.0)\n"
     ]
    },
    {
     "name": "stderr",
     "output_type": "stream",
     "text": [
      "\r",
      " 72%|███████▏  | 13/18 [00:59<00:23,  4.71s/it]"
     ]
    },
    {
     "name": "stdout",
     "output_type": "stream",
     "text": [
      "('max mins', -1.0, 0.9443811730993229)\n"
     ]
    },
    {
     "name": "stderr",
     "output_type": "stream",
     "text": [
      "\r",
      " 78%|███████▊  | 14/18 [01:05<00:19,  4.92s/it]"
     ]
    },
    {
     "name": "stdout",
     "output_type": "stream",
     "text": [
      "('max mins', -1.0, 0.9213079865198895)\n"
     ]
    },
    {
     "name": "stderr",
     "output_type": "stream",
     "text": [
      "\r",
      " 83%|████████▎ | 15/18 [01:10<00:15,  5.01s/it]"
     ]
    },
    {
     "name": "stdout",
     "output_type": "stream",
     "text": [
      "('max mins', -1.0, 0.9709446183744602)\n"
     ]
    },
    {
     "name": "stderr",
     "output_type": "stream",
     "text": [
      "\r",
      " 89%|████████▉ | 16/18 [01:16<00:10,  5.18s/it]"
     ]
    },
    {
     "name": "stdout",
     "output_type": "stream",
     "text": [
      "('max mins', -0.9959990229971392, 1.0)\n"
     ]
    },
    {
     "name": "stderr",
     "output_type": "stream",
     "text": [
      "\r",
      " 94%|█████████▍| 17/18 [01:20<00:05,  5.05s/it]"
     ]
    },
    {
     "name": "stdout",
     "output_type": "stream",
     "text": [
      "('max mins', -1.0, 0.9780470985687384)\n"
     ]
    },
    {
     "name": "stderr",
     "output_type": "stream",
     "text": [
      "100%|██████████| 18/18 [01:26<00:00,  5.15s/it]\n"
     ]
    },
    {
     "name": "stdout",
     "output_type": "stream",
     "text": [
      "('Best file pairs are: ', 'non_spikey_T0000821.WAV*non_spikey_T0000822.WAV')\n",
      "Start and end indices around peak:                  start index: 17819542\t\t          end index: 29319542                  total samples:30015488\n",
      "('AV Sync was above threshold: ', 0.8748341878859731)\n",
      "common_fps/Aditya_annotations/2018-08-18/common_fps_video_syncAditya_2018-08-19_0120-0200_15.csv\n",
      "('video_fps obtained is :', 25)\n",
      "Did not find user-provided sample rate - getting it from first file that matches format!\n",
      "('sampling rate is : ', 250000)\n",
      ".....finding best audio segment.....\n"
     ]
    },
    {
     "name": "stderr",
     "output_type": "stream",
     "text": [
      "\r",
      "  0%|          | 0/18 [00:00<?, ?it/s]"
     ]
    },
    {
     "name": "stdout",
     "output_type": "stream",
     "text": [
      "('max mins for upsampled video', -0.9341942011560542, 1.0)\n",
      "('max mins', -0.9842913319379506, 1.0)\n"
     ]
    },
    {
     "name": "stderr",
     "output_type": "stream",
     "text": [
      "\r",
      "  6%|▌         | 1/18 [00:05<01:27,  5.13s/it]"
     ]
    },
    {
     "name": "stdout",
     "output_type": "stream",
     "text": [
      "('max mins', -0.9990574645583497, 1.0)\n"
     ]
    },
    {
     "name": "stderr",
     "output_type": "stream",
     "text": [
      "\r",
      " 11%|█         | 2/18 [00:10<01:23,  5.20s/it]"
     ]
    },
    {
     "name": "stdout",
     "output_type": "stream",
     "text": [
      "('max mins', -0.9807445591121711, 1.0)\n"
     ]
    },
    {
     "name": "stderr",
     "output_type": "stream",
     "text": [
      "\r",
      " 17%|█▋        | 3/18 [00:16<01:19,  5.33s/it]"
     ]
    },
    {
     "name": "stdout",
     "output_type": "stream",
     "text": [
      "('max mins', -1.0, 0.9565539319250242)\n"
     ]
    },
    {
     "name": "stderr",
     "output_type": "stream",
     "text": [
      "\r",
      " 22%|██▏       | 4/18 [00:22<01:16,  5.50s/it]"
     ]
    },
    {
     "name": "stdout",
     "output_type": "stream",
     "text": [
      "('max mins', -1.0, 0.91661497137065)\n"
     ]
    },
    {
     "name": "stderr",
     "output_type": "stream",
     "text": [
      "\r",
      " 28%|██▊       | 5/18 [00:27<01:13,  5.62s/it]"
     ]
    },
    {
     "name": "stdout",
     "output_type": "stream",
     "text": [
      "('max mins', -1.0, 0.9710591622684932)\n"
     ]
    },
    {
     "name": "stderr",
     "output_type": "stream",
     "text": [
      "\r",
      " 33%|███▎      | 6/18 [00:32<01:04,  5.39s/it]"
     ]
    },
    {
     "name": "stdout",
     "output_type": "stream",
     "text": [
      "('max mins', -1.0, 0.9775796255224128)\n"
     ]
    },
    {
     "name": "stderr",
     "output_type": "stream",
     "text": [
      "\r",
      " 39%|███▉      | 7/18 [00:38<00:59,  5.39s/it]"
     ]
    },
    {
     "name": "stdout",
     "output_type": "stream",
     "text": [
      "('max mins', -0.9628585976124859, 1.0)\n"
     ]
    },
    {
     "name": "stderr",
     "output_type": "stream",
     "text": [
      "\r",
      " 44%|████▍     | 8/18 [00:42<00:50,  5.09s/it]"
     ]
    },
    {
     "name": "stdout",
     "output_type": "stream",
     "text": [
      "('max mins', -0.9666347799422894, 1.0)\n"
     ]
    },
    {
     "name": "stderr",
     "output_type": "stream",
     "text": [
      "\r",
      " 50%|█████     | 9/18 [00:46<00:43,  4.86s/it]"
     ]
    },
    {
     "name": "stdout",
     "output_type": "stream",
     "text": [
      "('max mins', -1.0, 0.9721025773644282)\n"
     ]
    },
    {
     "name": "stderr",
     "output_type": "stream",
     "text": [
      "\r",
      " 56%|█████▌    | 10/18 [00:51<00:37,  4.70s/it]"
     ]
    },
    {
     "name": "stdout",
     "output_type": "stream",
     "text": [
      "('max mins', -1.0, 0.9705080499673067)\n"
     ]
    },
    {
     "name": "stderr",
     "output_type": "stream",
     "text": [
      "\r",
      " 61%|██████    | 11/18 [00:55<00:32,  4.59s/it]"
     ]
    },
    {
     "name": "stdout",
     "output_type": "stream",
     "text": [
      "('max mins', -1.0, 0.9901011729372123)\n"
     ]
    },
    {
     "name": "stderr",
     "output_type": "stream",
     "text": [
      "\r",
      " 67%|██████▋   | 12/18 [01:00<00:27,  4.59s/it]"
     ]
    },
    {
     "name": "stdout",
     "output_type": "stream",
     "text": [
      "('max mins', -0.9980627460717553, 1.0)\n"
     ]
    },
    {
     "name": "stderr",
     "output_type": "stream",
     "text": [
      "\r",
      " 72%|███████▏  | 13/18 [01:05<00:23,  4.76s/it]"
     ]
    },
    {
     "name": "stdout",
     "output_type": "stream",
     "text": [
      "('max mins', -1.0, 0.9443811730993229)\n"
     ]
    },
    {
     "name": "stderr",
     "output_type": "stream",
     "text": [
      "\r",
      " 78%|███████▊  | 14/18 [01:09<00:18,  4.64s/it]"
     ]
    },
    {
     "name": "stdout",
     "output_type": "stream",
     "text": [
      "('max mins', -1.0, 0.9213079865198895)\n"
     ]
    },
    {
     "name": "stderr",
     "output_type": "stream",
     "text": [
      "\r",
      " 83%|████████▎ | 15/18 [01:14<00:13,  4.55s/it]"
     ]
    },
    {
     "name": "stdout",
     "output_type": "stream",
     "text": [
      "('max mins', -1.0, 0.9709446183744602)\n"
     ]
    },
    {
     "name": "stderr",
     "output_type": "stream",
     "text": [
      "\r",
      " 89%|████████▉ | 16/18 [01:18<00:08,  4.48s/it]"
     ]
    },
    {
     "name": "stdout",
     "output_type": "stream",
     "text": [
      "('max mins', -0.9959990229971392, 1.0)\n"
     ]
    },
    {
     "name": "stderr",
     "output_type": "stream",
     "text": [
      "\r",
      " 94%|█████████▍| 17/18 [01:22<00:04,  4.45s/it]"
     ]
    },
    {
     "name": "stdout",
     "output_type": "stream",
     "text": [
      "('max mins', -1.0, 0.9780470985687384)\n"
     ]
    },
    {
     "name": "stderr",
     "output_type": "stream",
     "text": [
      "100%|██████████| 18/18 [01:27<00:00,  4.42s/it]\n"
     ]
    },
    {
     "name": "stdout",
     "output_type": "stream",
     "text": [
      "('Best file pairs are: ', 'non_spikey_T0000824.WAV*non_spikey_T0000825.WAV')\n",
      "Start and end indices around peak:                  start index: 11350649\t\t          end index: 22850649                  total samples:30015488\n",
      "('AV Sync was above threshold: ', 0.8852008896130453)\n",
      "common_fps/Aditya_annotations/2018-08-18/common_fps_video_syncAditya_2018-08-19_0120-0200_16.csv\n",
      "('video_fps obtained is :', 25)\n",
      "Did not find user-provided sample rate - getting it from first file that matches format!\n",
      "('sampling rate is : ', 250000)\n",
      ".....finding best audio segment.....\n"
     ]
    },
    {
     "name": "stderr",
     "output_type": "stream",
     "text": [
      "\r",
      "  0%|          | 0/18 [00:00<?, ?it/s]"
     ]
    },
    {
     "name": "stdout",
     "output_type": "stream",
     "text": [
      "('max mins for upsampled video', -0.9392101113213437, 1.0)\n",
      "('max mins', -0.9842913319379506, 1.0)\n"
     ]
    },
    {
     "name": "stderr",
     "output_type": "stream",
     "text": [
      "\r",
      "  6%|▌         | 1/18 [00:04<01:17,  4.55s/it]"
     ]
    },
    {
     "name": "stdout",
     "output_type": "stream",
     "text": [
      "('max mins', -0.9990574645583497, 1.0)\n"
     ]
    },
    {
     "name": "stderr",
     "output_type": "stream",
     "text": [
      "\r",
      " 11%|█         | 2/18 [00:08<01:11,  4.48s/it]"
     ]
    },
    {
     "name": "stdout",
     "output_type": "stream",
     "text": [
      "('max mins', -0.9807445591121711, 1.0)\n"
     ]
    },
    {
     "name": "stderr",
     "output_type": "stream",
     "text": [
      "\r",
      " 17%|█▋        | 3/18 [00:13<01:06,  4.44s/it]"
     ]
    },
    {
     "name": "stdout",
     "output_type": "stream",
     "text": [
      "('max mins', -1.0, 0.9565539319250242)\n"
     ]
    },
    {
     "name": "stderr",
     "output_type": "stream",
     "text": [
      "\r",
      " 22%|██▏       | 4/18 [00:17<01:01,  4.40s/it]"
     ]
    },
    {
     "name": "stdout",
     "output_type": "stream",
     "text": [
      "('max mins', -1.0, 0.91661497137065)\n"
     ]
    },
    {
     "name": "stderr",
     "output_type": "stream",
     "text": [
      "\r",
      " 28%|██▊       | 5/18 [00:21<00:56,  4.38s/it]"
     ]
    },
    {
     "name": "stdout",
     "output_type": "stream",
     "text": [
      "('max mins', -1.0, 0.9710591622684932)\n"
     ]
    },
    {
     "name": "stderr",
     "output_type": "stream",
     "text": [
      "\r",
      " 33%|███▎      | 6/18 [00:26<00:52,  4.36s/it]"
     ]
    },
    {
     "name": "stdout",
     "output_type": "stream",
     "text": [
      "('max mins', -1.0, 0.9775796255224128)\n"
     ]
    },
    {
     "name": "stderr",
     "output_type": "stream",
     "text": [
      "\r",
      " 39%|███▉      | 7/18 [00:30<00:48,  4.45s/it]"
     ]
    },
    {
     "name": "stdout",
     "output_type": "stream",
     "text": [
      "('max mins', -0.9628585976124859, 1.0)\n"
     ]
    },
    {
     "name": "stderr",
     "output_type": "stream",
     "text": [
      "\r",
      " 44%|████▍     | 8/18 [00:35<00:44,  4.47s/it]"
     ]
    },
    {
     "name": "stdout",
     "output_type": "stream",
     "text": [
      "('max mins', -0.9666347799422894, 1.0)\n"
     ]
    },
    {
     "name": "stderr",
     "output_type": "stream",
     "text": [
      "\r",
      " 50%|█████     | 9/18 [00:39<00:39,  4.42s/it]"
     ]
    },
    {
     "name": "stdout",
     "output_type": "stream",
     "text": [
      "('max mins', -1.0, 0.9721025773644282)\n"
     ]
    },
    {
     "name": "stderr",
     "output_type": "stream",
     "text": [
      "\r",
      " 56%|█████▌    | 10/18 [00:44<00:35,  4.50s/it]"
     ]
    },
    {
     "name": "stdout",
     "output_type": "stream",
     "text": [
      "('max mins', -1.0, 0.9705080499673067)\n"
     ]
    },
    {
     "name": "stderr",
     "output_type": "stream",
     "text": [
      "\r",
      " 61%|██████    | 11/18 [00:48<00:31,  4.45s/it]"
     ]
    },
    {
     "name": "stdout",
     "output_type": "stream",
     "text": [
      "('max mins', -1.0, 0.9901011729372123)\n"
     ]
    },
    {
     "name": "stderr",
     "output_type": "stream",
     "text": [
      "\r",
      " 67%|██████▋   | 12/18 [00:53<00:27,  4.60s/it]"
     ]
    },
    {
     "name": "stdout",
     "output_type": "stream",
     "text": [
      "('max mins', -0.9980627460717553, 1.0)\n"
     ]
    },
    {
     "name": "stderr",
     "output_type": "stream",
     "text": [
      "\r",
      " 72%|███████▏  | 13/18 [00:58<00:24,  4.82s/it]"
     ]
    },
    {
     "name": "stdout",
     "output_type": "stream",
     "text": [
      "('max mins', -1.0, 0.9443811730993229)\n"
     ]
    },
    {
     "name": "stderr",
     "output_type": "stream",
     "text": [
      "\r",
      " 78%|███████▊  | 14/18 [01:04<00:20,  5.04s/it]"
     ]
    },
    {
     "name": "stdout",
     "output_type": "stream",
     "text": [
      "('max mins', -1.0, 0.9213079865198895)\n"
     ]
    },
    {
     "name": "stderr",
     "output_type": "stream",
     "text": [
      "\r",
      " 83%|████████▎ | 15/18 [01:09<00:15,  5.07s/it]"
     ]
    },
    {
     "name": "stdout",
     "output_type": "stream",
     "text": [
      "('max mins', -1.0, 0.9709446183744602)\n"
     ]
    },
    {
     "name": "stderr",
     "output_type": "stream",
     "text": [
      "\r",
      " 89%|████████▉ | 16/18 [01:14<00:09,  4.90s/it]"
     ]
    },
    {
     "name": "stdout",
     "output_type": "stream",
     "text": [
      "('max mins', -0.9959990229971392, 1.0)\n"
     ]
    },
    {
     "name": "stderr",
     "output_type": "stream",
     "text": [
      "\r",
      " 94%|█████████▍| 17/18 [01:18<00:04,  4.73s/it]"
     ]
    },
    {
     "name": "stdout",
     "output_type": "stream",
     "text": [
      "('max mins', -1.0, 0.9780470985687384)\n"
     ]
    },
    {
     "name": "stderr",
     "output_type": "stream",
     "text": [
      "100%|██████████| 18/18 [01:22<00:00,  4.61s/it]\n"
     ]
    },
    {
     "name": "stdout",
     "output_type": "stream",
     "text": [
      "('Best file pairs are: ', 'non_spikey_T0000824.WAV*non_spikey_T0000825.WAV')\n",
      "Start and end indices around peak:                  start index: 12350858\t\t          end index: 23850858                  total samples:30015488\n",
      "('AV Sync was above threshold: ', 0.8898936117830789)\n",
      "common_fps/Aditya_annotations/2018-08-18/common_fps_video_syncAditya_2018-08-19_0120-0200_18.csv\n",
      "('video_fps obtained is :', 25)\n",
      "Did not find user-provided sample rate - getting it from first file that matches format!\n",
      "('sampling rate is : ', 250000)\n",
      ".....finding best audio segment.....\n"
     ]
    },
    {
     "name": "stderr",
     "output_type": "stream",
     "text": [
      "\r",
      "  0%|          | 0/18 [00:00<?, ?it/s]"
     ]
    },
    {
     "name": "stdout",
     "output_type": "stream",
     "text": [
      "('max mins for upsampled video', -0.9162597151956573, 1.0)\n",
      "('max mins', -0.9842913319379506, 1.0)\n"
     ]
    },
    {
     "name": "stderr",
     "output_type": "stream",
     "text": [
      "\r",
      "  6%|▌         | 1/18 [00:04<01:13,  4.31s/it]"
     ]
    },
    {
     "name": "stdout",
     "output_type": "stream",
     "text": [
      "('max mins', -0.9990574645583497, 1.0)\n"
     ]
    },
    {
     "name": "stderr",
     "output_type": "stream",
     "text": [
      "\r",
      " 11%|█         | 2/18 [00:08<01:09,  4.33s/it]"
     ]
    },
    {
     "name": "stdout",
     "output_type": "stream",
     "text": [
      "('max mins', -0.9807445591121711, 1.0)\n"
     ]
    },
    {
     "name": "stderr",
     "output_type": "stream",
     "text": [
      "\r",
      " 17%|█▋        | 3/18 [00:12<01:04,  4.32s/it]"
     ]
    },
    {
     "name": "stdout",
     "output_type": "stream",
     "text": [
      "('max mins', -1.0, 0.9565539319250242)\n"
     ]
    },
    {
     "name": "stderr",
     "output_type": "stream",
     "text": [
      "\r",
      " 22%|██▏       | 4/18 [00:17<01:00,  4.32s/it]"
     ]
    },
    {
     "name": "stdout",
     "output_type": "stream",
     "text": [
      "('max mins', -1.0, 0.91661497137065)\n"
     ]
    },
    {
     "name": "stderr",
     "output_type": "stream",
     "text": [
      "\r",
      " 28%|██▊       | 5/18 [00:21<00:56,  4.32s/it]"
     ]
    },
    {
     "name": "stdout",
     "output_type": "stream",
     "text": [
      "('max mins', -1.0, 0.9710591622684932)\n"
     ]
    },
    {
     "name": "stderr",
     "output_type": "stream",
     "text": [
      "\r",
      " 33%|███▎      | 6/18 [00:25<00:51,  4.33s/it]"
     ]
    },
    {
     "name": "stdout",
     "output_type": "stream",
     "text": [
      "('max mins', -1.0, 0.9775796255224128)\n"
     ]
    },
    {
     "name": "stderr",
     "output_type": "stream",
     "text": [
      "\r",
      " 39%|███▉      | 7/18 [00:30<00:47,  4.32s/it]"
     ]
    },
    {
     "name": "stdout",
     "output_type": "stream",
     "text": [
      "('max mins', -0.9628585976124859, 1.0)\n"
     ]
    },
    {
     "name": "stderr",
     "output_type": "stream",
     "text": [
      "\r",
      " 44%|████▍     | 8/18 [00:34<00:43,  4.33s/it]"
     ]
    },
    {
     "name": "stdout",
     "output_type": "stream",
     "text": [
      "('max mins', -0.9666347799422894, 1.0)\n"
     ]
    },
    {
     "name": "stderr",
     "output_type": "stream",
     "text": [
      "\r",
      " 50%|█████     | 9/18 [00:39<00:39,  4.41s/it]"
     ]
    },
    {
     "name": "stdout",
     "output_type": "stream",
     "text": [
      "('max mins', -1.0, 0.9721025773644282)\n"
     ]
    },
    {
     "name": "stderr",
     "output_type": "stream",
     "text": [
      "\r",
      " 56%|█████▌    | 10/18 [00:43<00:35,  4.38s/it]"
     ]
    },
    {
     "name": "stdout",
     "output_type": "stream",
     "text": [
      "('max mins', -1.0, 0.9705080499673067)\n"
     ]
    },
    {
     "name": "stderr",
     "output_type": "stream",
     "text": [
      "\r",
      " 61%|██████    | 11/18 [00:47<00:30,  4.36s/it]"
     ]
    },
    {
     "name": "stdout",
     "output_type": "stream",
     "text": [
      "('max mins', -1.0, 0.9901011729372123)\n"
     ]
    },
    {
     "name": "stderr",
     "output_type": "stream",
     "text": [
      "\r",
      " 67%|██████▋   | 12/18 [00:52<00:26,  4.35s/it]"
     ]
    },
    {
     "name": "stdout",
     "output_type": "stream",
     "text": [
      "('max mins', -0.9980627460717553, 1.0)\n"
     ]
    },
    {
     "name": "stderr",
     "output_type": "stream",
     "text": [
      "\r",
      " 72%|███████▏  | 13/18 [00:56<00:21,  4.34s/it]"
     ]
    },
    {
     "name": "stdout",
     "output_type": "stream",
     "text": [
      "('max mins', -1.0, 0.9443811730993229)\n"
     ]
    },
    {
     "name": "stderr",
     "output_type": "stream",
     "text": [
      "\r",
      " 78%|███████▊  | 14/18 [01:00<00:17,  4.34s/it]"
     ]
    },
    {
     "name": "stdout",
     "output_type": "stream",
     "text": [
      "('max mins', -1.0, 0.9213079865198895)\n"
     ]
    },
    {
     "name": "stderr",
     "output_type": "stream",
     "text": [
      "\r",
      " 83%|████████▎ | 15/18 [01:05<00:13,  4.33s/it]"
     ]
    },
    {
     "name": "stdout",
     "output_type": "stream",
     "text": [
      "('max mins', -1.0, 0.9709446183744602)\n"
     ]
    },
    {
     "name": "stderr",
     "output_type": "stream",
     "text": [
      "\r",
      " 89%|████████▉ | 16/18 [01:10<00:08,  4.49s/it]"
     ]
    },
    {
     "name": "stdout",
     "output_type": "stream",
     "text": [
      "('max mins', -0.9959990229971392, 1.0)\n"
     ]
    },
    {
     "name": "stderr",
     "output_type": "stream",
     "text": [
      "\r",
      " 94%|█████████▍| 17/18 [01:14<00:04,  4.52s/it]"
     ]
    },
    {
     "name": "stdout",
     "output_type": "stream",
     "text": [
      "('max mins', -1.0, 0.9780470985687384)\n"
     ]
    },
    {
     "name": "stderr",
     "output_type": "stream",
     "text": [
      "100%|██████████| 18/18 [01:20<00:00,  4.84s/it]\n"
     ]
    },
    {
     "name": "stdout",
     "output_type": "stream",
     "text": [
      "('Best file pairs are: ', 'non_spikey_T0000828.WAV*non_spikey_T0000829.WAV')\n",
      "Start and end indices around peak:                  start index: 11319533\t\t          end index: 22819533                  total samples:30015488\n",
      "('AV Sync was above threshold: ', 0.8981422728113058)\n",
      "common_fps/Aditya_annotations/2018-08-18/common_fps_video_syncAditya_2018-08-19_0120-0200_19.csv\n",
      "('video_fps obtained is :', 25)\n",
      "Did not find user-provided sample rate - getting it from first file that matches format!\n",
      "('sampling rate is : ', 250000)\n",
      ".....finding best audio segment.....\n"
     ]
    },
    {
     "name": "stderr",
     "output_type": "stream",
     "text": [
      "\r",
      "  0%|          | 0/18 [00:00<?, ?it/s]"
     ]
    },
    {
     "name": "stdout",
     "output_type": "stream",
     "text": [
      "('max mins for upsampled video', -0.9844865735686998, 1.0)\n",
      "('max mins', -0.9842913319379506, 1.0)\n"
     ]
    },
    {
     "name": "stderr",
     "output_type": "stream",
     "text": [
      "\r",
      "  6%|▌         | 1/18 [00:04<01:15,  4.44s/it]"
     ]
    },
    {
     "name": "stdout",
     "output_type": "stream",
     "text": [
      "('max mins', -0.9990574645583497, 1.0)\n"
     ]
    },
    {
     "name": "stderr",
     "output_type": "stream",
     "text": [
      "\r",
      " 11%|█         | 2/18 [00:09<01:11,  4.48s/it]"
     ]
    },
    {
     "name": "stdout",
     "output_type": "stream",
     "text": [
      "('max mins', -0.9807445591121711, 1.0)\n"
     ]
    },
    {
     "name": "stderr",
     "output_type": "stream",
     "text": [
      "\r",
      " 17%|█▋        | 3/18 [00:13<01:06,  4.46s/it]"
     ]
    },
    {
     "name": "stdout",
     "output_type": "stream",
     "text": [
      "('max mins', -1.0, 0.9565539319250242)\n"
     ]
    },
    {
     "name": "stderr",
     "output_type": "stream",
     "text": [
      "\r",
      " 22%|██▏       | 4/18 [00:17<01:02,  4.45s/it]"
     ]
    },
    {
     "name": "stdout",
     "output_type": "stream",
     "text": [
      "('max mins', -1.0, 0.91661497137065)\n"
     ]
    },
    {
     "name": "stderr",
     "output_type": "stream",
     "text": [
      "\r",
      " 28%|██▊       | 5/18 [00:22<00:57,  4.41s/it]"
     ]
    },
    {
     "name": "stdout",
     "output_type": "stream",
     "text": [
      "('max mins', -1.0, 0.9710591622684932)\n"
     ]
    },
    {
     "name": "stderr",
     "output_type": "stream",
     "text": [
      "\r",
      " 33%|███▎      | 6/18 [00:26<00:52,  4.38s/it]"
     ]
    },
    {
     "name": "stdout",
     "output_type": "stream",
     "text": [
      "('max mins', -1.0, 0.9775796255224128)\n"
     ]
    },
    {
     "name": "stderr",
     "output_type": "stream",
     "text": [
      "\r",
      " 39%|███▉      | 7/18 [00:30<00:47,  4.36s/it]"
     ]
    },
    {
     "name": "stdout",
     "output_type": "stream",
     "text": [
      "('max mins', -0.9628585976124859, 1.0)\n"
     ]
    },
    {
     "name": "stderr",
     "output_type": "stream",
     "text": [
      "\r",
      " 44%|████▍     | 8/18 [00:35<00:43,  4.40s/it]"
     ]
    },
    {
     "name": "stdout",
     "output_type": "stream",
     "text": [
      "('max mins', -0.9666347799422894, 1.0)\n"
     ]
    },
    {
     "name": "stderr",
     "output_type": "stream",
     "text": [
      "\r",
      " 50%|█████     | 9/18 [00:40<00:40,  4.50s/it]"
     ]
    },
    {
     "name": "stdout",
     "output_type": "stream",
     "text": [
      "('max mins', -1.0, 0.9721025773644282)\n"
     ]
    },
    {
     "name": "stderr",
     "output_type": "stream",
     "text": [
      "\r",
      " 56%|█████▌    | 10/18 [00:44<00:36,  4.61s/it]"
     ]
    },
    {
     "name": "stdout",
     "output_type": "stream",
     "text": [
      "('max mins', -1.0, 0.9705080499673067)\n"
     ]
    },
    {
     "name": "stderr",
     "output_type": "stream",
     "text": [
      "\r",
      " 61%|██████    | 11/18 [00:49<00:31,  4.53s/it]"
     ]
    },
    {
     "name": "stdout",
     "output_type": "stream",
     "text": [
      "('max mins', -1.0, 0.9901011729372123)\n"
     ]
    },
    {
     "name": "stderr",
     "output_type": "stream",
     "text": [
      "\r",
      " 67%|██████▋   | 12/18 [00:53<00:26,  4.48s/it]"
     ]
    },
    {
     "name": "stdout",
     "output_type": "stream",
     "text": [
      "('max mins', -0.9980627460717553, 1.0)\n"
     ]
    },
    {
     "name": "stderr",
     "output_type": "stream",
     "text": [
      "\r",
      " 72%|███████▏  | 13/18 [00:57<00:22,  4.44s/it]"
     ]
    },
    {
     "name": "stdout",
     "output_type": "stream",
     "text": [
      "('max mins', -1.0, 0.9443811730993229)\n"
     ]
    },
    {
     "name": "stderr",
     "output_type": "stream",
     "text": [
      "\r",
      " 78%|███████▊  | 14/18 [01:02<00:17,  4.43s/it]"
     ]
    },
    {
     "name": "stdout",
     "output_type": "stream",
     "text": [
      "('max mins', -1.0, 0.9213079865198895)\n"
     ]
    },
    {
     "name": "stderr",
     "output_type": "stream",
     "text": [
      "\r",
      " 83%|████████▎ | 15/18 [01:06<00:13,  4.41s/it]"
     ]
    },
    {
     "name": "stdout",
     "output_type": "stream",
     "text": [
      "('max mins', -1.0, 0.9709446183744602)\n"
     ]
    },
    {
     "name": "stderr",
     "output_type": "stream",
     "text": [
      "\r",
      " 89%|████████▉ | 16/18 [01:11<00:08,  4.39s/it]"
     ]
    },
    {
     "name": "stdout",
     "output_type": "stream",
     "text": [
      "('max mins', -0.9959990229971392, 1.0)\n"
     ]
    },
    {
     "name": "stderr",
     "output_type": "stream",
     "text": [
      "\r",
      " 94%|█████████▍| 17/18 [01:15<00:04,  4.48s/it]"
     ]
    },
    {
     "name": "stdout",
     "output_type": "stream",
     "text": [
      "('max mins', -1.0, 0.9780470985687384)\n"
     ]
    },
    {
     "name": "stderr",
     "output_type": "stream",
     "text": [
      "100%|██████████| 18/18 [01:20<00:00,  4.44s/it]\n"
     ]
    },
    {
     "name": "stdout",
     "output_type": "stream",
     "text": [
      "('Best file pairs are: ', 'non_spikey_T0000828.WAV*non_spikey_T0000829.WAV')\n",
      "Start and end indices around peak:                  start index: 11569904\t\t          end index: 23069904                  total samples:30015488\n",
      "('AV Sync was above threshold: ', 0.8913435018368423)\n",
      "common_fps/Aditya_annotations/2018-08-18/common_fps_video_syncAditya_2018-08-19_0120-0200_20.csv\n",
      "('video_fps obtained is :', 25)\n",
      "Did not find user-provided sample rate - getting it from first file that matches format!\n",
      "('sampling rate is : ', 250000)\n",
      ".....finding best audio segment.....\n"
     ]
    },
    {
     "name": "stderr",
     "output_type": "stream",
     "text": [
      "\r",
      "  0%|          | 0/18 [00:00<?, ?it/s]"
     ]
    },
    {
     "name": "stdout",
     "output_type": "stream",
     "text": [
      "('max mins for upsampled video', -0.9864911341845243, 1.0)\n",
      "('max mins', -0.9842913319379506, 1.0)\n"
     ]
    },
    {
     "name": "stderr",
     "output_type": "stream",
     "text": [
      "\r",
      "  6%|▌         | 1/18 [00:04<01:13,  4.34s/it]"
     ]
    },
    {
     "name": "stdout",
     "output_type": "stream",
     "text": [
      "('max mins', -0.9990574645583497, 1.0)\n"
     ]
    },
    {
     "name": "stderr",
     "output_type": "stream",
     "text": [
      "\r",
      " 11%|█         | 2/18 [00:08<01:10,  4.42s/it]"
     ]
    },
    {
     "name": "stdout",
     "output_type": "stream",
     "text": [
      "('max mins', -0.9807445591121711, 1.0)\n"
     ]
    },
    {
     "name": "stderr",
     "output_type": "stream",
     "text": [
      "\r",
      " 17%|█▋        | 3/18 [00:13<01:06,  4.44s/it]"
     ]
    },
    {
     "name": "stdout",
     "output_type": "stream",
     "text": [
      "('max mins', -1.0, 0.9565539319250242)\n"
     ]
    },
    {
     "name": "stderr",
     "output_type": "stream",
     "text": [
      "\r",
      " 22%|██▏       | 4/18 [00:17<01:01,  4.40s/it]"
     ]
    },
    {
     "name": "stdout",
     "output_type": "stream",
     "text": [
      "('max mins', -1.0, 0.91661497137065)\n"
     ]
    },
    {
     "name": "stderr",
     "output_type": "stream",
     "text": [
      "\r",
      " 28%|██▊       | 5/18 [00:22<00:56,  4.38s/it]"
     ]
    },
    {
     "name": "stdout",
     "output_type": "stream",
     "text": [
      "('max mins', -1.0, 0.9710591622684932)\n"
     ]
    },
    {
     "name": "stderr",
     "output_type": "stream",
     "text": [
      "\r",
      " 33%|███▎      | 6/18 [00:26<00:52,  4.36s/it]"
     ]
    },
    {
     "name": "stdout",
     "output_type": "stream",
     "text": [
      "('max mins', -1.0, 0.9775796255224128)\n"
     ]
    },
    {
     "name": "stderr",
     "output_type": "stream",
     "text": [
      "\r",
      " 39%|███▉      | 7/18 [00:30<00:47,  4.35s/it]"
     ]
    },
    {
     "name": "stdout",
     "output_type": "stream",
     "text": [
      "('max mins', -0.9628585976124859, 1.0)\n"
     ]
    },
    {
     "name": "stderr",
     "output_type": "stream",
     "text": [
      "\r",
      " 44%|████▍     | 8/18 [00:35<00:43,  4.36s/it]"
     ]
    },
    {
     "name": "stdout",
     "output_type": "stream",
     "text": [
      "('max mins', -0.9666347799422894, 1.0)\n"
     ]
    },
    {
     "name": "stderr",
     "output_type": "stream",
     "text": [
      "\r",
      " 50%|█████     | 9/18 [00:39<00:39,  4.34s/it]"
     ]
    },
    {
     "name": "stdout",
     "output_type": "stream",
     "text": [
      "('max mins', -1.0, 0.9721025773644282)\n"
     ]
    },
    {
     "name": "stderr",
     "output_type": "stream",
     "text": [
      "\r",
      " 56%|█████▌    | 10/18 [00:44<00:37,  4.67s/it]"
     ]
    },
    {
     "name": "stdout",
     "output_type": "stream",
     "text": [
      "('max mins', -1.0, 0.9705080499673067)\n"
     ]
    },
    {
     "name": "stderr",
     "output_type": "stream",
     "text": [
      "\r",
      " 61%|██████    | 11/18 [00:49<00:33,  4.72s/it]"
     ]
    },
    {
     "name": "stdout",
     "output_type": "stream",
     "text": [
      "('max mins', -1.0, 0.9901011729372123)\n"
     ]
    },
    {
     "name": "stderr",
     "output_type": "stream",
     "text": [
      "\r",
      " 67%|██████▋   | 12/18 [00:54<00:28,  4.83s/it]"
     ]
    },
    {
     "name": "stdout",
     "output_type": "stream",
     "text": [
      "('max mins', -0.9980627460717553, 1.0)\n"
     ]
    },
    {
     "name": "stderr",
     "output_type": "stream",
     "text": [
      "\r",
      " 72%|███████▏  | 13/18 [00:59<00:24,  4.84s/it]"
     ]
    },
    {
     "name": "stdout",
     "output_type": "stream",
     "text": [
      "('max mins', -1.0, 0.9443811730993229)\n"
     ]
    },
    {
     "name": "stderr",
     "output_type": "stream",
     "text": [
      "\r",
      " 78%|███████▊  | 14/18 [01:04<00:19,  4.87s/it]"
     ]
    },
    {
     "name": "stdout",
     "output_type": "stream",
     "text": [
      "('max mins', -1.0, 0.9213079865198895)\n"
     ]
    },
    {
     "name": "stderr",
     "output_type": "stream",
     "text": [
      "\r",
      " 83%|████████▎ | 15/18 [01:10<00:15,  5.05s/it]"
     ]
    },
    {
     "name": "stdout",
     "output_type": "stream",
     "text": [
      "('max mins', -1.0, 0.9709446183744602)\n"
     ]
    },
    {
     "name": "stderr",
     "output_type": "stream",
     "text": [
      "\r",
      " 89%|████████▉ | 16/18 [01:15<00:10,  5.07s/it]"
     ]
    },
    {
     "name": "stdout",
     "output_type": "stream",
     "text": [
      "('max mins', -0.9959990229971392, 1.0)\n"
     ]
    },
    {
     "name": "stderr",
     "output_type": "stream",
     "text": [
      "\r",
      " 94%|█████████▍| 17/18 [01:19<00:04,  4.97s/it]"
     ]
    },
    {
     "name": "stdout",
     "output_type": "stream",
     "text": [
      "('max mins', -1.0, 0.9780470985687384)\n"
     ]
    },
    {
     "name": "stderr",
     "output_type": "stream",
     "text": [
      "100%|██████████| 18/18 [01:24<00:00,  4.80s/it]\n"
     ]
    },
    {
     "name": "stdout",
     "output_type": "stream",
     "text": [
      "('Best file pairs are: ', 'non_spikey_T0000828.WAV*non_spikey_T0000829.WAV')\n",
      "Start and end indices around peak:                  start index: 13570662\t\t          end index: 25070662                  total samples:30015488\n",
      "('AV Sync was above threshold: ', 0.8888449926012292)\n",
      "common_fps/Aditya_annotations/2018-08-18/common_fps_video_syncAditya_2018-08-19_0120-0200_21.csv\n",
      "('video_fps obtained is :', 25)\n",
      "Did not find user-provided sample rate - getting it from first file that matches format!\n",
      "('sampling rate is : ', 250000)\n",
      ".....finding best audio segment.....\n"
     ]
    },
    {
     "name": "stderr",
     "output_type": "stream",
     "text": [
      "\r",
      "  0%|          | 0/18 [00:00<?, ?it/s]"
     ]
    },
    {
     "name": "stdout",
     "output_type": "stream",
     "text": [
      "('max mins for upsampled video', -1.0, 0.9361886468631904)\n",
      "('max mins', -0.9842913319379506, 1.0)\n"
     ]
    },
    {
     "name": "stderr",
     "output_type": "stream",
     "text": [
      "\r",
      "  6%|▌         | 1/18 [00:04<01:13,  4.32s/it]"
     ]
    },
    {
     "name": "stdout",
     "output_type": "stream",
     "text": [
      "('max mins', -0.9990574645583497, 1.0)\n"
     ]
    },
    {
     "name": "stderr",
     "output_type": "stream",
     "text": [
      "\r",
      " 11%|█         | 2/18 [00:08<01:09,  4.34s/it]"
     ]
    },
    {
     "name": "stdout",
     "output_type": "stream",
     "text": [
      "('max mins', -0.9807445591121711, 1.0)\n"
     ]
    },
    {
     "name": "stderr",
     "output_type": "stream",
     "text": [
      "\r",
      " 17%|█▋        | 3/18 [00:13<01:08,  4.58s/it]"
     ]
    },
    {
     "name": "stdout",
     "output_type": "stream",
     "text": [
      "('max mins', -1.0, 0.9565539319250242)\n"
     ]
    },
    {
     "name": "stderr",
     "output_type": "stream",
     "text": [
      "\r",
      " 22%|██▏       | 4/18 [00:18<01:04,  4.58s/it]"
     ]
    },
    {
     "name": "stdout",
     "output_type": "stream",
     "text": [
      "('max mins', -1.0, 0.91661497137065)\n"
     ]
    },
    {
     "name": "stderr",
     "output_type": "stream",
     "text": [
      "\r",
      " 28%|██▊       | 5/18 [00:23<01:00,  4.63s/it]"
     ]
    },
    {
     "name": "stdout",
     "output_type": "stream",
     "text": [
      "('max mins', -1.0, 0.9710591622684932)\n"
     ]
    },
    {
     "name": "stderr",
     "output_type": "stream",
     "text": [
      "\r",
      " 33%|███▎      | 6/18 [00:27<00:54,  4.54s/it]"
     ]
    },
    {
     "name": "stdout",
     "output_type": "stream",
     "text": [
      "('max mins', -1.0, 0.9775796255224128)\n"
     ]
    },
    {
     "name": "stderr",
     "output_type": "stream",
     "text": [
      "\r",
      " 39%|███▉      | 7/18 [00:32<00:51,  4.69s/it]"
     ]
    },
    {
     "name": "stdout",
     "output_type": "stream",
     "text": [
      "('max mins', -0.9628585976124859, 1.0)\n"
     ]
    },
    {
     "name": "stderr",
     "output_type": "stream",
     "text": [
      "\r",
      " 44%|████▍     | 8/18 [00:38<00:51,  5.16s/it]"
     ]
    },
    {
     "name": "stdout",
     "output_type": "stream",
     "text": [
      "('max mins', -0.9666347799422894, 1.0)\n"
     ]
    },
    {
     "name": "stderr",
     "output_type": "stream",
     "text": [
      "\r",
      " 50%|█████     | 9/18 [00:43<00:44,  4.94s/it]"
     ]
    },
    {
     "name": "stdout",
     "output_type": "stream",
     "text": [
      "('max mins', -1.0, 0.9721025773644282)\n"
     ]
    },
    {
     "name": "stderr",
     "output_type": "stream",
     "text": [
      "\r",
      " 56%|█████▌    | 10/18 [00:48<00:39,  4.97s/it]"
     ]
    },
    {
     "name": "stdout",
     "output_type": "stream",
     "text": [
      "('max mins', -1.0, 0.9705080499673067)\n"
     ]
    },
    {
     "name": "stderr",
     "output_type": "stream",
     "text": [
      "\r",
      " 61%|██████    | 11/18 [00:53<00:35,  5.10s/it]"
     ]
    },
    {
     "name": "stdout",
     "output_type": "stream",
     "text": [
      "('max mins', -1.0, 0.9901011729372123)\n"
     ]
    },
    {
     "name": "stderr",
     "output_type": "stream",
     "text": [
      "\r",
      " 67%|██████▋   | 12/18 [00:59<00:31,  5.33s/it]"
     ]
    },
    {
     "name": "stdout",
     "output_type": "stream",
     "text": [
      "('max mins', -0.9980627460717553, 1.0)\n"
     ]
    },
    {
     "name": "stderr",
     "output_type": "stream",
     "text": [
      "\r",
      " 72%|███████▏  | 13/18 [01:04<00:26,  5.25s/it]"
     ]
    },
    {
     "name": "stdout",
     "output_type": "stream",
     "text": [
      "('max mins', -1.0, 0.9443811730993229)\n"
     ]
    },
    {
     "name": "stderr",
     "output_type": "stream",
     "text": [
      "\r",
      " 78%|███████▊  | 14/18 [01:10<00:21,  5.35s/it]"
     ]
    },
    {
     "name": "stdout",
     "output_type": "stream",
     "text": [
      "('max mins', -1.0, 0.9213079865198895)\n"
     ]
    },
    {
     "name": "stderr",
     "output_type": "stream",
     "text": [
      "\r",
      " 83%|████████▎ | 15/18 [01:15<00:15,  5.29s/it]"
     ]
    },
    {
     "name": "stdout",
     "output_type": "stream",
     "text": [
      "('max mins', -1.0, 0.9709446183744602)\n"
     ]
    },
    {
     "name": "stderr",
     "output_type": "stream",
     "text": [
      "\r",
      " 89%|████████▉ | 16/18 [01:19<00:10,  5.09s/it]"
     ]
    },
    {
     "name": "stdout",
     "output_type": "stream",
     "text": [
      "('max mins', -0.9959990229971392, 1.0)\n"
     ]
    },
    {
     "name": "stderr",
     "output_type": "stream",
     "text": [
      "\r",
      " 94%|█████████▍| 17/18 [01:25<00:05,  5.19s/it]"
     ]
    },
    {
     "name": "stdout",
     "output_type": "stream",
     "text": [
      "('max mins', -1.0, 0.9780470985687384)\n"
     ]
    },
    {
     "name": "stderr",
     "output_type": "stream",
     "text": [
      "100%|██████████| 18/18 [01:30<00:00,  5.28s/it]\n"
     ]
    },
    {
     "name": "stdout",
     "output_type": "stream",
     "text": [
      "('Best file pairs are: ', 'non_spikey_T0000829.WAV*non_spikey_T0000830.WAV')\n",
      "Start and end indices around peak:                  start index: 63602\t\t          end index: 11563602                  total samples:30015488\n",
      "('AV Sync was above threshold: ', 0.8829841947923053)\n",
      "common_fps/Aditya_annotations/2018-08-18/common_fps_video_syncAditya_2018-08-19_0120-0200_22.csv\n",
      "('video_fps obtained is :', 25)\n",
      "Did not find user-provided sample rate - getting it from first file that matches format!\n",
      "('sampling rate is : ', 250000)\n",
      ".....finding best audio segment.....\n"
     ]
    },
    {
     "name": "stderr",
     "output_type": "stream",
     "text": [
      "\r",
      "  0%|          | 0/18 [00:00<?, ?it/s]"
     ]
    },
    {
     "name": "stdout",
     "output_type": "stream",
     "text": [
      "('max mins for upsampled video', -1.0, 0.937181086553796)\n",
      "('max mins', -0.9842913319379506, 1.0)\n"
     ]
    },
    {
     "name": "stderr",
     "output_type": "stream",
     "text": [
      "\r",
      "  6%|▌         | 1/18 [00:05<01:25,  5.03s/it]"
     ]
    },
    {
     "name": "stdout",
     "output_type": "stream",
     "text": [
      "('max mins', -0.9990574645583497, 1.0)\n"
     ]
    },
    {
     "name": "stderr",
     "output_type": "stream",
     "text": [
      "\r",
      " 11%|█         | 2/18 [00:09<01:19,  4.96s/it]"
     ]
    },
    {
     "name": "stdout",
     "output_type": "stream",
     "text": [
      "('max mins', -0.9807445591121711, 1.0)\n"
     ]
    },
    {
     "name": "stderr",
     "output_type": "stream",
     "text": [
      "\r",
      " 17%|█▋        | 3/18 [00:14<01:13,  4.89s/it]"
     ]
    },
    {
     "name": "stdout",
     "output_type": "stream",
     "text": [
      "('max mins', -1.0, 0.9565539319250242)\n"
     ]
    },
    {
     "name": "stderr",
     "output_type": "stream",
     "text": [
      "\r",
      " 22%|██▏       | 4/18 [00:19<01:08,  4.92s/it]"
     ]
    },
    {
     "name": "stdout",
     "output_type": "stream",
     "text": [
      "('max mins', -1.0, 0.91661497137065)\n"
     ]
    },
    {
     "name": "stderr",
     "output_type": "stream",
     "text": [
      "\r",
      " 28%|██▊       | 5/18 [00:24<01:03,  4.92s/it]"
     ]
    },
    {
     "name": "stdout",
     "output_type": "stream",
     "text": [
      "('max mins', -1.0, 0.9710591622684932)\n"
     ]
    },
    {
     "name": "stderr",
     "output_type": "stream",
     "text": [
      "\r",
      " 33%|███▎      | 6/18 [00:29<01:00,  5.04s/it]"
     ]
    },
    {
     "name": "stdout",
     "output_type": "stream",
     "text": [
      "('max mins', -1.0, 0.9775796255224128)\n"
     ]
    },
    {
     "name": "stderr",
     "output_type": "stream",
     "text": [
      "\r",
      " 39%|███▉      | 7/18 [00:34<00:55,  5.08s/it]"
     ]
    },
    {
     "name": "stdout",
     "output_type": "stream",
     "text": [
      "('max mins', -0.9628585976124859, 1.0)\n"
     ]
    },
    {
     "name": "stderr",
     "output_type": "stream",
     "text": [
      "\r",
      " 44%|████▍     | 8/18 [00:39<00:49,  5.00s/it]"
     ]
    },
    {
     "name": "stdout",
     "output_type": "stream",
     "text": [
      "('max mins', -0.9666347799422894, 1.0)\n"
     ]
    },
    {
     "name": "stderr",
     "output_type": "stream",
     "text": [
      "\r",
      " 50%|█████     | 9/18 [00:44<00:45,  5.06s/it]"
     ]
    },
    {
     "name": "stdout",
     "output_type": "stream",
     "text": [
      "('max mins', -1.0, 0.9721025773644282)\n"
     ]
    },
    {
     "name": "stderr",
     "output_type": "stream",
     "text": [
      "\r",
      " 56%|█████▌    | 10/18 [00:50<00:41,  5.17s/it]"
     ]
    },
    {
     "name": "stdout",
     "output_type": "stream",
     "text": [
      "('max mins', -1.0, 0.9705080499673067)\n"
     ]
    },
    {
     "name": "stderr",
     "output_type": "stream",
     "text": [
      "\r",
      " 61%|██████    | 11/18 [00:55<00:35,  5.10s/it]"
     ]
    },
    {
     "name": "stdout",
     "output_type": "stream",
     "text": [
      "('max mins', -1.0, 0.9901011729372123)\n"
     ]
    },
    {
     "name": "stderr",
     "output_type": "stream",
     "text": [
      "\r",
      " 67%|██████▋   | 12/18 [01:00<00:30,  5.05s/it]"
     ]
    },
    {
     "name": "stdout",
     "output_type": "stream",
     "text": [
      "('max mins', -0.9980627460717553, 1.0)\n"
     ]
    },
    {
     "name": "stderr",
     "output_type": "stream",
     "text": [
      "\r",
      " 72%|███████▏  | 13/18 [01:05<00:25,  5.15s/it]"
     ]
    },
    {
     "name": "stdout",
     "output_type": "stream",
     "text": [
      "('max mins', -1.0, 0.9443811730993229)\n"
     ]
    },
    {
     "name": "stderr",
     "output_type": "stream",
     "text": [
      "\r",
      " 78%|███████▊  | 14/18 [01:10<00:20,  5.12s/it]"
     ]
    },
    {
     "name": "stdout",
     "output_type": "stream",
     "text": [
      "('max mins', -1.0, 0.9213079865198895)\n"
     ]
    },
    {
     "name": "stderr",
     "output_type": "stream",
     "text": [
      "\r",
      " 83%|████████▎ | 15/18 [01:15<00:15,  5.11s/it]"
     ]
    },
    {
     "name": "stdout",
     "output_type": "stream",
     "text": [
      "('max mins', -1.0, 0.9709446183744602)\n"
     ]
    },
    {
     "name": "stderr",
     "output_type": "stream",
     "text": [
      "\r",
      " 89%|████████▉ | 16/18 [01:20<00:10,  5.11s/it]"
     ]
    },
    {
     "name": "stdout",
     "output_type": "stream",
     "text": [
      "('max mins', -0.9959990229971392, 1.0)\n"
     ]
    },
    {
     "name": "stderr",
     "output_type": "stream",
     "text": [
      "\r",
      " 94%|█████████▍| 17/18 [01:26<00:05,  5.11s/it]"
     ]
    },
    {
     "name": "stdout",
     "output_type": "stream",
     "text": [
      "('max mins', -1.0, 0.9780470985687384)\n"
     ]
    },
    {
     "name": "stderr",
     "output_type": "stream",
     "text": [
      "100%|██████████| 18/18 [01:30<00:00,  4.97s/it]\n"
     ]
    },
    {
     "name": "stdout",
     "output_type": "stream",
     "text": [
      "('Best file pairs are: ', 'non_spikey_T0000829.WAV*non_spikey_T0000830.WAV')\n",
      "Start and end indices around peak:                  start index: 313602\t\t          end index: 11813602                  total samples:30015488\n",
      "('AV Sync was above threshold: ', 0.8829521720046092)\n",
      "common_fps/Aditya_annotations/2018-08-18/common_fps_video_syncAditya_2018-08-19_0120-0200_23.csv\n",
      "('video_fps obtained is :', 25)\n",
      "Did not find user-provided sample rate - getting it from first file that matches format!\n",
      "('sampling rate is : ', 250000)\n",
      ".....finding best audio segment.....\n"
     ]
    },
    {
     "name": "stderr",
     "output_type": "stream",
     "text": [
      "\r",
      "  0%|          | 0/18 [00:00<?, ?it/s]"
     ]
    },
    {
     "name": "stdout",
     "output_type": "stream",
     "text": [
      "('max mins for upsampled video', -1.0, 0.9330509462215764)\n",
      "('max mins', -0.9842913319379506, 1.0)\n"
     ]
    },
    {
     "name": "stderr",
     "output_type": "stream",
     "text": [
      "\r",
      "  6%|▌         | 1/18 [00:05<01:27,  5.12s/it]"
     ]
    },
    {
     "name": "stdout",
     "output_type": "stream",
     "text": [
      "('max mins', -0.9990574645583497, 1.0)\n"
     ]
    },
    {
     "name": "stderr",
     "output_type": "stream",
     "text": [
      "\r",
      " 11%|█         | 2/18 [00:09<01:19,  4.99s/it]"
     ]
    },
    {
     "name": "stdout",
     "output_type": "stream",
     "text": [
      "('max mins', -0.9807445591121711, 1.0)\n"
     ]
    },
    {
     "name": "stderr",
     "output_type": "stream",
     "text": [
      "\r",
      " 17%|█▋        | 3/18 [00:14<01:12,  4.85s/it]"
     ]
    },
    {
     "name": "stdout",
     "output_type": "stream",
     "text": [
      "('max mins', -1.0, 0.9565539319250242)\n"
     ]
    },
    {
     "name": "stderr",
     "output_type": "stream",
     "text": [
      "\r",
      " 22%|██▏       | 4/18 [00:18<01:07,  4.79s/it]"
     ]
    },
    {
     "name": "stdout",
     "output_type": "stream",
     "text": [
      "('max mins', -1.0, 0.91661497137065)\n"
     ]
    },
    {
     "name": "stderr",
     "output_type": "stream",
     "text": [
      "\r",
      " 28%|██▊       | 5/18 [00:23<01:00,  4.67s/it]"
     ]
    },
    {
     "name": "stdout",
     "output_type": "stream",
     "text": [
      "('max mins', -1.0, 0.9710591622684932)\n"
     ]
    },
    {
     "name": "stderr",
     "output_type": "stream",
     "text": [
      "\r",
      " 33%|███▎      | 6/18 [00:27<00:55,  4.60s/it]"
     ]
    },
    {
     "name": "stdout",
     "output_type": "stream",
     "text": [
      "('max mins', -1.0, 0.9775796255224128)\n"
     ]
    },
    {
     "name": "stderr",
     "output_type": "stream",
     "text": [
      "\r",
      " 39%|███▉      | 7/18 [00:32<00:50,  4.55s/it]"
     ]
    },
    {
     "name": "stdout",
     "output_type": "stream",
     "text": [
      "('max mins', -0.9628585976124859, 1.0)\n"
     ]
    },
    {
     "name": "stderr",
     "output_type": "stream",
     "text": [
      "\r",
      " 44%|████▍     | 8/18 [00:36<00:45,  4.55s/it]"
     ]
    },
    {
     "name": "stdout",
     "output_type": "stream",
     "text": [
      "('max mins', -0.9666347799422894, 1.0)\n"
     ]
    },
    {
     "name": "stderr",
     "output_type": "stream",
     "text": [
      "\r",
      " 50%|█████     | 9/18 [00:41<00:40,  4.49s/it]"
     ]
    },
    {
     "name": "stdout",
     "output_type": "stream",
     "text": [
      "('max mins', -1.0, 0.9721025773644282)\n"
     ]
    },
    {
     "name": "stderr",
     "output_type": "stream",
     "text": [
      "\r",
      " 56%|█████▌    | 10/18 [00:45<00:36,  4.51s/it]"
     ]
    },
    {
     "name": "stdout",
     "output_type": "stream",
     "text": [
      "('max mins', -1.0, 0.9705080499673067)\n"
     ]
    },
    {
     "name": "stderr",
     "output_type": "stream",
     "text": [
      "\r",
      " 61%|██████    | 11/18 [00:50<00:32,  4.63s/it]"
     ]
    },
    {
     "name": "stdout",
     "output_type": "stream",
     "text": [
      "('max mins', -1.0, 0.9901011729372123)\n"
     ]
    },
    {
     "name": "stderr",
     "output_type": "stream",
     "text": [
      "\r",
      " 67%|██████▋   | 12/18 [00:56<00:29,  5.00s/it]"
     ]
    },
    {
     "name": "stdout",
     "output_type": "stream",
     "text": [
      "('max mins', -0.9980627460717553, 1.0)\n"
     ]
    },
    {
     "name": "stderr",
     "output_type": "stream",
     "text": [
      "\r",
      " 72%|███████▏  | 13/18 [01:01<00:24,  4.96s/it]"
     ]
    },
    {
     "name": "stdout",
     "output_type": "stream",
     "text": [
      "('max mins', -1.0, 0.9443811730993229)\n"
     ]
    },
    {
     "name": "stderr",
     "output_type": "stream",
     "text": [
      "\r",
      " 78%|███████▊  | 14/18 [01:06<00:19,  4.92s/it]"
     ]
    },
    {
     "name": "stdout",
     "output_type": "stream",
     "text": [
      "('max mins', -1.0, 0.9213079865198895)\n"
     ]
    },
    {
     "name": "stderr",
     "output_type": "stream",
     "text": [
      "\r",
      " 83%|████████▎ | 15/18 [01:10<00:14,  4.86s/it]"
     ]
    },
    {
     "name": "stdout",
     "output_type": "stream",
     "text": [
      "('max mins', -1.0, 0.9709446183744602)\n"
     ]
    },
    {
     "name": "stderr",
     "output_type": "stream",
     "text": [
      "\r",
      " 89%|████████▉ | 16/18 [01:15<00:09,  4.83s/it]"
     ]
    },
    {
     "name": "stdout",
     "output_type": "stream",
     "text": [
      "('max mins', -0.9959990229971392, 1.0)\n"
     ]
    },
    {
     "name": "stderr",
     "output_type": "stream",
     "text": [
      "\r",
      " 94%|█████████▍| 17/18 [01:20<00:04,  4.69s/it]"
     ]
    },
    {
     "name": "stdout",
     "output_type": "stream",
     "text": [
      "('max mins', -1.0, 0.9780470985687384)\n"
     ]
    },
    {
     "name": "stderr",
     "output_type": "stream",
     "text": [
      "100%|██████████| 18/18 [01:24<00:00,  4.74s/it]\n"
     ]
    },
    {
     "name": "stdout",
     "output_type": "stream",
     "text": [
      "('Best file pairs are: ', 'non_spikey_T0000829.WAV*non_spikey_T0000830.WAV')\n",
      "Start and end indices around peak:                  start index: 2063606\t\t          end index: 13563606                  total samples:30015488\n",
      "('AV Sync was above threshold: ', 0.8788126934619116)\n",
      "common_fps/Aditya_annotations/2018-08-18/common_fps_video_syncAditya_2018-08-19_0120-0200_24.csv\n",
      "('video_fps obtained is :', 25)\n",
      "Did not find user-provided sample rate - getting it from first file that matches format!\n",
      "('sampling rate is : ', 250000)\n",
      ".....finding best audio segment.....\n"
     ]
    },
    {
     "name": "stderr",
     "output_type": "stream",
     "text": [
      "\r",
      "  0%|          | 0/18 [00:00<?, ?it/s]"
     ]
    },
    {
     "name": "stdout",
     "output_type": "stream",
     "text": [
      "('max mins for upsampled video', -1.0, 0.9322023085342789)\n",
      "('max mins', -0.9842913319379506, 1.0)\n"
     ]
    },
    {
     "name": "stderr",
     "output_type": "stream",
     "text": [
      "\r",
      "  6%|▌         | 1/18 [00:04<01:18,  4.63s/it]"
     ]
    },
    {
     "name": "stdout",
     "output_type": "stream",
     "text": [
      "('max mins', -0.9990574645583497, 1.0)\n"
     ]
    },
    {
     "name": "stderr",
     "output_type": "stream",
     "text": [
      "\r",
      " 11%|█         | 2/18 [00:09<01:14,  4.65s/it]"
     ]
    },
    {
     "name": "stdout",
     "output_type": "stream",
     "text": [
      "('max mins', -0.9807445591121711, 1.0)\n"
     ]
    },
    {
     "name": "stderr",
     "output_type": "stream",
     "text": [
      "\r",
      " 17%|█▋        | 3/18 [00:14<01:10,  4.67s/it]"
     ]
    },
    {
     "name": "stdout",
     "output_type": "stream",
     "text": [
      "('max mins', -1.0, 0.9565539319250242)\n"
     ]
    },
    {
     "name": "stderr",
     "output_type": "stream",
     "text": [
      "\r",
      " 22%|██▏       | 4/18 [00:18<01:06,  4.72s/it]"
     ]
    },
    {
     "name": "stdout",
     "output_type": "stream",
     "text": [
      "('max mins', -1.0, 0.91661497137065)\n"
     ]
    },
    {
     "name": "stderr",
     "output_type": "stream",
     "text": [
      "\r",
      " 28%|██▊       | 5/18 [00:23<01:01,  4.70s/it]"
     ]
    },
    {
     "name": "stdout",
     "output_type": "stream",
     "text": [
      "('max mins', -1.0, 0.9710591622684932)\n"
     ]
    },
    {
     "name": "stderr",
     "output_type": "stream",
     "text": [
      "\r",
      " 33%|███▎      | 6/18 [00:28<00:56,  4.75s/it]"
     ]
    },
    {
     "name": "stdout",
     "output_type": "stream",
     "text": [
      "('max mins', -1.0, 0.9775796255224128)\n"
     ]
    },
    {
     "name": "stderr",
     "output_type": "stream",
     "text": [
      "\r",
      " 39%|███▉      | 7/18 [00:33<00:52,  4.77s/it]"
     ]
    },
    {
     "name": "stdout",
     "output_type": "stream",
     "text": [
      "('max mins', -0.9628585976124859, 1.0)\n"
     ]
    },
    {
     "name": "stderr",
     "output_type": "stream",
     "text": [
      "\r",
      " 44%|████▍     | 8/18 [00:38<00:47,  4.79s/it]"
     ]
    },
    {
     "name": "stdout",
     "output_type": "stream",
     "text": [
      "('max mins', -0.9666347799422894, 1.0)\n"
     ]
    },
    {
     "name": "stderr",
     "output_type": "stream",
     "text": [
      "\r",
      " 50%|█████     | 9/18 [00:42<00:43,  4.82s/it]"
     ]
    },
    {
     "name": "stdout",
     "output_type": "stream",
     "text": [
      "('max mins', -1.0, 0.9721025773644282)\n"
     ]
    },
    {
     "name": "stderr",
     "output_type": "stream",
     "text": [
      "\r",
      " 56%|█████▌    | 10/18 [00:47<00:38,  4.82s/it]"
     ]
    },
    {
     "name": "stdout",
     "output_type": "stream",
     "text": [
      "('max mins', -1.0, 0.9705080499673067)\n"
     ]
    },
    {
     "name": "stderr",
     "output_type": "stream",
     "text": [
      "\r",
      " 61%|██████    | 11/18 [00:52<00:33,  4.78s/it]"
     ]
    },
    {
     "name": "stdout",
     "output_type": "stream",
     "text": [
      "('max mins', -1.0, 0.9901011729372123)\n"
     ]
    },
    {
     "name": "stderr",
     "output_type": "stream",
     "text": [
      "\r",
      " 67%|██████▋   | 12/18 [00:57<00:29,  4.92s/it]"
     ]
    },
    {
     "name": "stdout",
     "output_type": "stream",
     "text": [
      "('max mins', -0.9980627460717553, 1.0)\n"
     ]
    },
    {
     "name": "stderr",
     "output_type": "stream",
     "text": [
      "\r",
      " 72%|███████▏  | 13/18 [01:02<00:24,  4.89s/it]"
     ]
    },
    {
     "name": "stdout",
     "output_type": "stream",
     "text": [
      "('max mins', -1.0, 0.9443811730993229)\n"
     ]
    },
    {
     "name": "stderr",
     "output_type": "stream",
     "text": [
      "\r",
      " 78%|███████▊  | 14/18 [01:07<00:19,  4.82s/it]"
     ]
    },
    {
     "name": "stdout",
     "output_type": "stream",
     "text": [
      "('max mins', -1.0, 0.9213079865198895)\n"
     ]
    },
    {
     "name": "stderr",
     "output_type": "stream",
     "text": [
      "\r",
      " 83%|████████▎ | 15/18 [01:12<00:14,  4.86s/it]"
     ]
    },
    {
     "name": "stdout",
     "output_type": "stream",
     "text": [
      "('max mins', -1.0, 0.9709446183744602)\n"
     ]
    },
    {
     "name": "stderr",
     "output_type": "stream",
     "text": [
      "\r",
      " 89%|████████▉ | 16/18 [01:16<00:09,  4.86s/it]"
     ]
    },
    {
     "name": "stdout",
     "output_type": "stream",
     "text": [
      "('max mins', -0.9959990229971392, 1.0)\n"
     ]
    },
    {
     "name": "stderr",
     "output_type": "stream",
     "text": [
      "\r",
      " 94%|█████████▍| 17/18 [01:21<00:04,  4.78s/it]"
     ]
    },
    {
     "name": "stdout",
     "output_type": "stream",
     "text": [
      "('max mins', -1.0, 0.9780470985687384)\n"
     ]
    },
    {
     "name": "stderr",
     "output_type": "stream",
     "text": [
      "100%|██████████| 18/18 [01:26<00:00,  4.71s/it]\n"
     ]
    },
    {
     "name": "stdout",
     "output_type": "stream",
     "text": [
      "('Best file pairs are: ', 'non_spikey_T0000829.WAV*non_spikey_T0000830.WAV')\n",
      "Start and end indices around peak:                  start index: 3063606\t\t          end index: 14563606                  total samples:30015488\n",
      "('AV Sync was above threshold: ', 0.8797792336572507)\n",
      "common_fps/Aditya_annotations/2018-08-18/common_fps_video_syncAditya_2018-08-19_0120-0200_26.csv\n",
      "('video_fps obtained is :', 25)\n",
      "Did not find user-provided sample rate - getting it from first file that matches format!\n",
      "('sampling rate is : ', 250000)\n",
      ".....finding best audio segment.....\n"
     ]
    },
    {
     "name": "stderr",
     "output_type": "stream",
     "text": [
      "\r",
      "  0%|          | 0/18 [00:00<?, ?it/s]"
     ]
    },
    {
     "name": "stdout",
     "output_type": "stream",
     "text": [
      "('max mins for upsampled video', -1.0, 0.8843775999857668)\n",
      "('max mins', -0.9842913319379506, 1.0)\n"
     ]
    },
    {
     "name": "stderr",
     "output_type": "stream",
     "text": [
      "\r",
      "  6%|▌         | 1/18 [00:05<01:27,  5.16s/it]"
     ]
    },
    {
     "name": "stdout",
     "output_type": "stream",
     "text": [
      "('max mins', -0.9990574645583497, 1.0)\n"
     ]
    },
    {
     "name": "stderr",
     "output_type": "stream",
     "text": [
      "\r",
      " 11%|█         | 2/18 [00:09<01:20,  5.04s/it]"
     ]
    },
    {
     "name": "stdout",
     "output_type": "stream",
     "text": [
      "('max mins', -0.9807445591121711, 1.0)\n"
     ]
    },
    {
     "name": "stderr",
     "output_type": "stream",
     "text": [
      "\r",
      " 17%|█▋        | 3/18 [00:14<01:13,  4.93s/it]"
     ]
    },
    {
     "name": "stdout",
     "output_type": "stream",
     "text": [
      "('max mins', -1.0, 0.9565539319250242)\n"
     ]
    },
    {
     "name": "stderr",
     "output_type": "stream",
     "text": [
      "\r",
      " 22%|██▏       | 4/18 [00:19<01:09,  4.94s/it]"
     ]
    },
    {
     "name": "stdout",
     "output_type": "stream",
     "text": [
      "('max mins', -1.0, 0.91661497137065)\n"
     ]
    },
    {
     "name": "stderr",
     "output_type": "stream",
     "text": [
      "\r",
      " 28%|██▊       | 5/18 [00:23<01:02,  4.78s/it]"
     ]
    },
    {
     "name": "stdout",
     "output_type": "stream",
     "text": [
      "('max mins', -1.0, 0.9710591622684932)\n"
     ]
    },
    {
     "name": "stderr",
     "output_type": "stream",
     "text": [
      "\r",
      " 33%|███▎      | 6/18 [00:28<00:57,  4.81s/it]"
     ]
    },
    {
     "name": "stdout",
     "output_type": "stream",
     "text": [
      "('max mins', -1.0, 0.9775796255224128)\n"
     ]
    },
    {
     "name": "stderr",
     "output_type": "stream",
     "text": [
      "\r",
      " 39%|███▉      | 7/18 [00:33<00:52,  4.74s/it]"
     ]
    },
    {
     "name": "stdout",
     "output_type": "stream",
     "text": [
      "('max mins', -0.9628585976124859, 1.0)\n"
     ]
    },
    {
     "name": "stderr",
     "output_type": "stream",
     "text": [
      "\r",
      " 44%|████▍     | 8/18 [00:38<00:47,  4.77s/it]"
     ]
    },
    {
     "name": "stdout",
     "output_type": "stream",
     "text": [
      "('max mins', -0.9666347799422894, 1.0)\n"
     ]
    },
    {
     "name": "stderr",
     "output_type": "stream",
     "text": [
      "\r",
      " 50%|█████     | 9/18 [00:42<00:42,  4.76s/it]"
     ]
    },
    {
     "name": "stdout",
     "output_type": "stream",
     "text": [
      "('max mins', -1.0, 0.9721025773644282)\n"
     ]
    },
    {
     "name": "stderr",
     "output_type": "stream",
     "text": [
      "\r",
      " 56%|█████▌    | 10/18 [00:47<00:37,  4.73s/it]"
     ]
    },
    {
     "name": "stdout",
     "output_type": "stream",
     "text": [
      "('max mins', -1.0, 0.9705080499673067)\n"
     ]
    },
    {
     "name": "stderr",
     "output_type": "stream",
     "text": [
      "\r",
      " 61%|██████    | 11/18 [00:52<00:33,  4.75s/it]"
     ]
    },
    {
     "name": "stdout",
     "output_type": "stream",
     "text": [
      "('max mins', -1.0, 0.9901011729372123)\n"
     ]
    },
    {
     "name": "stderr",
     "output_type": "stream",
     "text": [
      "\r",
      " 67%|██████▋   | 12/18 [00:57<00:28,  4.80s/it]"
     ]
    },
    {
     "name": "stdout",
     "output_type": "stream",
     "text": [
      "('max mins', -0.9980627460717553, 1.0)\n"
     ]
    },
    {
     "name": "stderr",
     "output_type": "stream",
     "text": [
      "\r",
      " 72%|███████▏  | 13/18 [01:02<00:24,  4.91s/it]"
     ]
    },
    {
     "name": "stdout",
     "output_type": "stream",
     "text": [
      "('max mins', -1.0, 0.9443811730993229)\n"
     ]
    },
    {
     "name": "stderr",
     "output_type": "stream",
     "text": [
      "\r",
      " 78%|███████▊  | 14/18 [01:07<00:19,  4.94s/it]"
     ]
    },
    {
     "name": "stdout",
     "output_type": "stream",
     "text": [
      "('max mins', -1.0, 0.9213079865198895)\n"
     ]
    },
    {
     "name": "stderr",
     "output_type": "stream",
     "text": [
      "\r",
      " 83%|████████▎ | 15/18 [01:12<00:14,  5.00s/it]"
     ]
    },
    {
     "name": "stdout",
     "output_type": "stream",
     "text": [
      "('max mins', -1.0, 0.9709446183744602)\n"
     ]
    },
    {
     "name": "stderr",
     "output_type": "stream",
     "text": [
      "\r",
      " 89%|████████▉ | 16/18 [01:17<00:09,  4.97s/it]"
     ]
    },
    {
     "name": "stdout",
     "output_type": "stream",
     "text": [
      "('max mins', -0.9959990229971392, 1.0)\n"
     ]
    },
    {
     "name": "stderr",
     "output_type": "stream",
     "text": [
      "\r",
      " 94%|█████████▍| 17/18 [01:22<00:04,  4.84s/it]"
     ]
    },
    {
     "name": "stdout",
     "output_type": "stream",
     "text": [
      "('max mins', -1.0, 0.9780470985687384)\n"
     ]
    },
    {
     "name": "stderr",
     "output_type": "stream",
     "text": [
      "100%|██████████| 18/18 [01:26<00:00,  4.71s/it]\n"
     ]
    },
    {
     "name": "stdout",
     "output_type": "stream",
     "text": [
      "('Best file pairs are: ', 'non_spikey_T0000831.WAV*non_spikey_T0000832.WAV')\n",
      "Start and end indices around peak:                  start index: 11027706\t\t          end index: 22527706                  total samples:30015488\n",
      "('AV Sync was above threshold: ', 0.86339497371814)\n",
      "common_fps/Aditya_annotations/2018-08-18/common_fps_video_syncAditya_2018-08-19_0120-0200_27.csv\n",
      "('video_fps obtained is :', 25)\n",
      "Did not find user-provided sample rate - getting it from first file that matches format!\n",
      "('sampling rate is : ', 250000)\n",
      ".....finding best audio segment.....\n"
     ]
    },
    {
     "name": "stderr",
     "output_type": "stream",
     "text": [
      "\r",
      "  0%|          | 0/18 [00:00<?, ?it/s]"
     ]
    },
    {
     "name": "stdout",
     "output_type": "stream",
     "text": [
      "('max mins for upsampled video', -1.0, 0.885286669144101)\n",
      "('max mins', -0.9842913319379506, 1.0)\n"
     ]
    },
    {
     "name": "stderr",
     "output_type": "stream",
     "text": [
      "\r",
      "  6%|▌         | 1/18 [00:04<01:18,  4.60s/it]"
     ]
    },
    {
     "name": "stdout",
     "output_type": "stream",
     "text": [
      "('max mins', -0.9990574645583497, 1.0)\n"
     ]
    },
    {
     "name": "stderr",
     "output_type": "stream",
     "text": [
      "\r",
      " 11%|█         | 2/18 [00:09<01:14,  4.66s/it]"
     ]
    },
    {
     "name": "stdout",
     "output_type": "stream",
     "text": [
      "('max mins', -0.9807445591121711, 1.0)\n"
     ]
    },
    {
     "name": "stderr",
     "output_type": "stream",
     "text": [
      "\r",
      " 17%|█▋        | 3/18 [00:13<01:09,  4.62s/it]"
     ]
    },
    {
     "name": "stdout",
     "output_type": "stream",
     "text": [
      "('max mins', -1.0, 0.9565539319250242)\n"
     ]
    },
    {
     "name": "stderr",
     "output_type": "stream",
     "text": [
      "\r",
      " 22%|██▏       | 4/18 [00:18<01:04,  4.62s/it]"
     ]
    },
    {
     "name": "stdout",
     "output_type": "stream",
     "text": [
      "('max mins', -1.0, 0.91661497137065)\n"
     ]
    },
    {
     "name": "stderr",
     "output_type": "stream",
     "text": [
      "\r",
      " 28%|██▊       | 5/18 [00:23<01:00,  4.65s/it]"
     ]
    },
    {
     "name": "stdout",
     "output_type": "stream",
     "text": [
      "('max mins', -1.0, 0.9710591622684932)\n"
     ]
    },
    {
     "name": "stderr",
     "output_type": "stream",
     "text": [
      "\r",
      " 33%|███▎      | 6/18 [00:27<00:55,  4.64s/it]"
     ]
    },
    {
     "name": "stdout",
     "output_type": "stream",
     "text": [
      "('max mins', -1.0, 0.9775796255224128)\n"
     ]
    },
    {
     "name": "stderr",
     "output_type": "stream",
     "text": [
      "\r",
      " 39%|███▉      | 7/18 [00:33<00:52,  4.80s/it]"
     ]
    },
    {
     "name": "stdout",
     "output_type": "stream",
     "text": [
      "('max mins', -0.9628585976124859, 1.0)\n"
     ]
    },
    {
     "name": "stderr",
     "output_type": "stream",
     "text": [
      "\r",
      " 44%|████▍     | 8/18 [00:37<00:47,  4.75s/it]"
     ]
    },
    {
     "name": "stdout",
     "output_type": "stream",
     "text": [
      "('max mins', -0.9666347799422894, 1.0)\n"
     ]
    },
    {
     "name": "stderr",
     "output_type": "stream",
     "text": [
      "\r",
      " 50%|█████     | 9/18 [00:42<00:42,  4.76s/it]"
     ]
    },
    {
     "name": "stdout",
     "output_type": "stream",
     "text": [
      "('max mins', -1.0, 0.9721025773644282)\n"
     ]
    },
    {
     "name": "stderr",
     "output_type": "stream",
     "text": [
      "\r",
      " 56%|█████▌    | 10/18 [00:47<00:39,  4.97s/it]"
     ]
    },
    {
     "name": "stdout",
     "output_type": "stream",
     "text": [
      "('max mins', -1.0, 0.9705080499673067)\n"
     ]
    },
    {
     "name": "stderr",
     "output_type": "stream",
     "text": [
      "\r",
      " 61%|██████    | 11/18 [00:52<00:34,  4.93s/it]"
     ]
    },
    {
     "name": "stdout",
     "output_type": "stream",
     "text": [
      "('max mins', -1.0, 0.9901011729372123)\n"
     ]
    },
    {
     "name": "stderr",
     "output_type": "stream",
     "text": [
      "\r",
      " 67%|██████▋   | 12/18 [00:57<00:29,  4.84s/it]"
     ]
    },
    {
     "name": "stdout",
     "output_type": "stream",
     "text": [
      "('max mins', -0.9980627460717553, 1.0)\n"
     ]
    },
    {
     "name": "stderr",
     "output_type": "stream",
     "text": [
      "\r",
      " 72%|███████▏  | 13/18 [01:02<00:23,  4.78s/it]"
     ]
    },
    {
     "name": "stdout",
     "output_type": "stream",
     "text": [
      "('max mins', -1.0, 0.9443811730993229)\n"
     ]
    },
    {
     "name": "stderr",
     "output_type": "stream",
     "text": [
      "\r",
      " 78%|███████▊  | 14/18 [01:06<00:18,  4.73s/it]"
     ]
    },
    {
     "name": "stdout",
     "output_type": "stream",
     "text": [
      "('max mins', -1.0, 0.9213079865198895)\n"
     ]
    },
    {
     "name": "stderr",
     "output_type": "stream",
     "text": [
      "\r",
      " 83%|████████▎ | 15/18 [01:11<00:14,  4.82s/it]"
     ]
    },
    {
     "name": "stdout",
     "output_type": "stream",
     "text": [
      "('max mins', -1.0, 0.9709446183744602)\n"
     ]
    },
    {
     "name": "stderr",
     "output_type": "stream",
     "text": [
      "\r",
      " 89%|████████▉ | 16/18 [01:16<00:09,  4.68s/it]"
     ]
    },
    {
     "name": "stdout",
     "output_type": "stream",
     "text": [
      "('max mins', -0.9959990229971392, 1.0)\n"
     ]
    },
    {
     "name": "stderr",
     "output_type": "stream",
     "text": [
      "\r",
      " 94%|█████████▍| 17/18 [01:20<00:04,  4.65s/it]"
     ]
    },
    {
     "name": "stdout",
     "output_type": "stream",
     "text": [
      "('max mins', -1.0, 0.9780470985687384)\n"
     ]
    },
    {
     "name": "stderr",
     "output_type": "stream",
     "text": [
      "100%|██████████| 18/18 [01:25<00:00,  4.65s/it]\n"
     ]
    },
    {
     "name": "stdout",
     "output_type": "stream",
     "text": [
      "('Best file pairs are: ', 'non_spikey_T0000832.WAV*non_spikey_T0000833.WAV')\n",
      "Start and end indices around peak:                  start index: 4771104\t\t          end index: 16271104                  total samples:30015488\n",
      "('AV Sync was above threshold: ', 0.8637536050831257)\n",
      "common_fps/Aditya_annotations/2018-08-18/common_fps_video_syncAditya_2018-08-19_0120-0200_28.csv\n",
      "('video_fps obtained is :', 25)\n",
      "Did not find user-provided sample rate - getting it from first file that matches format!\n",
      "('sampling rate is : ', 250000)\n",
      ".....finding best audio segment.....\n"
     ]
    },
    {
     "name": "stderr",
     "output_type": "stream",
     "text": [
      "\r",
      "  0%|          | 0/18 [00:00<?, ?it/s]"
     ]
    },
    {
     "name": "stdout",
     "output_type": "stream",
     "text": [
      "('max mins for upsampled video', -1.0, 0.8912661491258818)\n",
      "('max mins', -0.9842913319379506, 1.0)\n"
     ]
    },
    {
     "name": "stderr",
     "output_type": "stream",
     "text": [
      "\r",
      "  6%|▌         | 1/18 [00:04<01:16,  4.50s/it]"
     ]
    },
    {
     "name": "stdout",
     "output_type": "stream",
     "text": [
      "('max mins', -0.9990574645583497, 1.0)\n"
     ]
    },
    {
     "name": "stderr",
     "output_type": "stream",
     "text": [
      "\r",
      " 11%|█         | 2/18 [00:09<01:12,  4.55s/it]"
     ]
    },
    {
     "name": "stdout",
     "output_type": "stream",
     "text": [
      "('max mins', -0.9807445591121711, 1.0)\n"
     ]
    },
    {
     "name": "stderr",
     "output_type": "stream",
     "text": [
      "\r",
      " 17%|█▋        | 3/18 [00:13<01:08,  4.56s/it]"
     ]
    },
    {
     "name": "stdout",
     "output_type": "stream",
     "text": [
      "('max mins', -1.0, 0.9565539319250242)\n"
     ]
    },
    {
     "name": "stderr",
     "output_type": "stream",
     "text": [
      "\r",
      " 22%|██▏       | 4/18 [00:18<01:06,  4.72s/it]"
     ]
    },
    {
     "name": "stdout",
     "output_type": "stream",
     "text": [
      "('max mins', -1.0, 0.91661497137065)\n"
     ]
    },
    {
     "name": "stderr",
     "output_type": "stream",
     "text": [
      "\r",
      " 28%|██▊       | 5/18 [00:23<01:00,  4.68s/it]"
     ]
    },
    {
     "name": "stdout",
     "output_type": "stream",
     "text": [
      "('max mins', -1.0, 0.9710591622684932)\n"
     ]
    },
    {
     "name": "stderr",
     "output_type": "stream",
     "text": [
      "\r",
      " 33%|███▎      | 6/18 [00:27<00:55,  4.59s/it]"
     ]
    },
    {
     "name": "stdout",
     "output_type": "stream",
     "text": [
      "('max mins', -1.0, 0.9775796255224128)\n"
     ]
    },
    {
     "name": "stderr",
     "output_type": "stream",
     "text": [
      "\r",
      " 39%|███▉      | 7/18 [00:32<00:50,  4.55s/it]"
     ]
    },
    {
     "name": "stdout",
     "output_type": "stream",
     "text": [
      "('max mins', -0.9628585976124859, 1.0)\n"
     ]
    },
    {
     "name": "stderr",
     "output_type": "stream",
     "text": [
      "\r",
      " 44%|████▍     | 8/18 [00:37<00:46,  4.69s/it]"
     ]
    },
    {
     "name": "stdout",
     "output_type": "stream",
     "text": [
      "('max mins', -0.9666347799422894, 1.0)\n"
     ]
    },
    {
     "name": "stderr",
     "output_type": "stream",
     "text": [
      "\r",
      " 50%|█████     | 9/18 [00:42<00:42,  4.78s/it]"
     ]
    },
    {
     "name": "stdout",
     "output_type": "stream",
     "text": [
      "('max mins', -1.0, 0.9721025773644282)\n"
     ]
    },
    {
     "name": "stderr",
     "output_type": "stream",
     "text": [
      "\r",
      " 56%|█████▌    | 10/18 [00:46<00:37,  4.71s/it]"
     ]
    },
    {
     "name": "stdout",
     "output_type": "stream",
     "text": [
      "('max mins', -1.0, 0.9705080499673067)\n"
     ]
    },
    {
     "name": "stderr",
     "output_type": "stream",
     "text": [
      "\r",
      " 61%|██████    | 11/18 [00:51<00:32,  4.68s/it]"
     ]
    },
    {
     "name": "stdout",
     "output_type": "stream",
     "text": [
      "('max mins', -1.0, 0.9901011729372123)\n"
     ]
    },
    {
     "name": "stderr",
     "output_type": "stream",
     "text": [
      "\r",
      " 67%|██████▋   | 12/18 [00:56<00:28,  4.69s/it]"
     ]
    },
    {
     "name": "stdout",
     "output_type": "stream",
     "text": [
      "('max mins', -0.9980627460717553, 1.0)\n"
     ]
    },
    {
     "name": "stderr",
     "output_type": "stream",
     "text": [
      "\r",
      " 72%|███████▏  | 13/18 [01:00<00:23,  4.61s/it]"
     ]
    },
    {
     "name": "stdout",
     "output_type": "stream",
     "text": [
      "('max mins', -1.0, 0.9443811730993229)\n"
     ]
    },
    {
     "name": "stderr",
     "output_type": "stream",
     "text": [
      "\r",
      " 78%|███████▊  | 14/18 [01:05<00:18,  4.57s/it]"
     ]
    },
    {
     "name": "stdout",
     "output_type": "stream",
     "text": [
      "('max mins', -1.0, 0.9213079865198895)\n"
     ]
    },
    {
     "name": "stderr",
     "output_type": "stream",
     "text": [
      "\r",
      " 83%|████████▎ | 15/18 [01:09<00:13,  4.56s/it]"
     ]
    },
    {
     "name": "stdout",
     "output_type": "stream",
     "text": [
      "('max mins', -1.0, 0.9709446183744602)\n"
     ]
    },
    {
     "name": "stderr",
     "output_type": "stream",
     "text": [
      "\r",
      " 89%|████████▉ | 16/18 [01:14<00:09,  4.64s/it]"
     ]
    },
    {
     "name": "stdout",
     "output_type": "stream",
     "text": [
      "('max mins', -0.9959990229971392, 1.0)\n"
     ]
    },
    {
     "name": "stderr",
     "output_type": "stream",
     "text": [
      "\r",
      " 94%|█████████▍| 17/18 [01:19<00:04,  4.79s/it]"
     ]
    },
    {
     "name": "stdout",
     "output_type": "stream",
     "text": [
      "('max mins', -1.0, 0.9780470985687384)\n"
     ]
    },
    {
     "name": "stderr",
     "output_type": "stream",
     "text": [
      "100%|██████████| 18/18 [01:24<00:00,  4.77s/it]\n"
     ]
    },
    {
     "name": "stdout",
     "output_type": "stream",
     "text": [
      "('Best file pairs are: ', 'non_spikey_T0000832.WAV*non_spikey_T0000833.WAV')\n",
      "Start and end indices around peak:                  start index: 8772378\t\t          end index: 20272378                  total samples:30015488\n",
      "('AV Sync was above threshold: ', 0.8690117025535293)\n",
      "common_fps/Aditya_annotations/2018-08-18/common_fps_video_syncAditya_2018-08-19_0120-0200_29.csv\n",
      "('video_fps obtained is :', 25)\n",
      "Did not find user-provided sample rate - getting it from first file that matches format!\n",
      "('sampling rate is : ', 250000)\n",
      ".....finding best audio segment.....\n"
     ]
    },
    {
     "name": "stderr",
     "output_type": "stream",
     "text": [
      "\r",
      "  0%|          | 0/18 [00:00<?, ?it/s]"
     ]
    },
    {
     "name": "stdout",
     "output_type": "stream",
     "text": [
      "('max mins for upsampled video', -1.0, 0.9366801967985103)\n",
      "('max mins', -0.9842913319379506, 1.0)\n"
     ]
    },
    {
     "name": "stderr",
     "output_type": "stream",
     "text": [
      "\r",
      "  6%|▌         | 1/18 [00:04<01:24,  5.00s/it]"
     ]
    },
    {
     "name": "stdout",
     "output_type": "stream",
     "text": [
      "('max mins', -0.9990574645583497, 1.0)\n"
     ]
    },
    {
     "name": "stderr",
     "output_type": "stream",
     "text": [
      "\r",
      " 11%|█         | 2/18 [00:09<01:18,  4.93s/it]"
     ]
    },
    {
     "name": "stdout",
     "output_type": "stream",
     "text": [
      "('max mins', -0.9807445591121711, 1.0)\n"
     ]
    },
    {
     "name": "stderr",
     "output_type": "stream",
     "text": [
      "\r",
      " 17%|█▋        | 3/18 [00:15<01:15,  5.03s/it]"
     ]
    },
    {
     "name": "stdout",
     "output_type": "stream",
     "text": [
      "('max mins', -1.0, 0.9565539319250242)\n"
     ]
    },
    {
     "name": "stderr",
     "output_type": "stream",
     "text": [
      "\r",
      " 22%|██▏       | 4/18 [00:20<01:11,  5.11s/it]"
     ]
    },
    {
     "name": "stdout",
     "output_type": "stream",
     "text": [
      "('max mins', -1.0, 0.91661497137065)\n"
     ]
    },
    {
     "name": "stderr",
     "output_type": "stream",
     "text": [
      "\r",
      " 28%|██▊       | 5/18 [00:25<01:06,  5.10s/it]"
     ]
    },
    {
     "name": "stdout",
     "output_type": "stream",
     "text": [
      "('max mins', -1.0, 0.9710591622684932)\n"
     ]
    },
    {
     "name": "stderr",
     "output_type": "stream",
     "text": [
      "\r",
      " 33%|███▎      | 6/18 [00:30<01:01,  5.14s/it]"
     ]
    },
    {
     "name": "stdout",
     "output_type": "stream",
     "text": [
      "('max mins', -1.0, 0.9775796255224128)\n"
     ]
    },
    {
     "name": "stderr",
     "output_type": "stream",
     "text": [
      "\r",
      " 39%|███▉      | 7/18 [00:35<00:54,  4.91s/it]"
     ]
    },
    {
     "name": "stdout",
     "output_type": "stream",
     "text": [
      "('max mins', -0.9628585976124859, 1.0)\n"
     ]
    },
    {
     "name": "stderr",
     "output_type": "stream",
     "text": [
      "\r",
      " 44%|████▍     | 8/18 [00:39<00:48,  4.90s/it]"
     ]
    },
    {
     "name": "stdout",
     "output_type": "stream",
     "text": [
      "('max mins', -0.9666347799422894, 1.0)\n"
     ]
    },
    {
     "name": "stderr",
     "output_type": "stream",
     "text": [
      "\r",
      " 50%|█████     | 9/18 [00:44<00:44,  4.91s/it]"
     ]
    },
    {
     "name": "stdout",
     "output_type": "stream",
     "text": [
      "('max mins', -1.0, 0.9721025773644282)\n"
     ]
    },
    {
     "name": "stderr",
     "output_type": "stream",
     "text": [
      "\r",
      " 56%|█████▌    | 10/18 [00:49<00:39,  4.97s/it]"
     ]
    },
    {
     "name": "stdout",
     "output_type": "stream",
     "text": [
      "('max mins', -1.0, 0.9705080499673067)\n"
     ]
    },
    {
     "name": "stderr",
     "output_type": "stream",
     "text": [
      "\r",
      " 61%|██████    | 11/18 [00:54<00:34,  4.86s/it]"
     ]
    },
    {
     "name": "stdout",
     "output_type": "stream",
     "text": [
      "('max mins', -1.0, 0.9901011729372123)\n"
     ]
    },
    {
     "name": "stderr",
     "output_type": "stream",
     "text": [
      "\r",
      " 67%|██████▋   | 12/18 [00:59<00:29,  4.89s/it]"
     ]
    },
    {
     "name": "stdout",
     "output_type": "stream",
     "text": [
      "('max mins', -0.9980627460717553, 1.0)\n"
     ]
    },
    {
     "name": "stderr",
     "output_type": "stream",
     "text": [
      "\r",
      " 72%|███████▏  | 13/18 [01:03<00:23,  4.77s/it]"
     ]
    },
    {
     "name": "stdout",
     "output_type": "stream",
     "text": [
      "('max mins', -1.0, 0.9443811730993229)\n"
     ]
    },
    {
     "name": "stderr",
     "output_type": "stream",
     "text": [
      "\r",
      " 78%|███████▊  | 14/18 [01:08<00:19,  4.81s/it]"
     ]
    },
    {
     "name": "stdout",
     "output_type": "stream",
     "text": [
      "('max mins', -1.0, 0.9213079865198895)\n"
     ]
    },
    {
     "name": "stderr",
     "output_type": "stream",
     "text": [
      "\r",
      " 83%|████████▎ | 15/18 [01:13<00:14,  4.81s/it]"
     ]
    },
    {
     "name": "stdout",
     "output_type": "stream",
     "text": [
      "('max mins', -1.0, 0.9709446183744602)\n"
     ]
    },
    {
     "name": "stderr",
     "output_type": "stream",
     "text": [
      "\r",
      " 89%|████████▉ | 16/18 [01:18<00:09,  4.83s/it]"
     ]
    },
    {
     "name": "stdout",
     "output_type": "stream",
     "text": [
      "('max mins', -0.9959990229971392, 1.0)\n"
     ]
    },
    {
     "name": "stderr",
     "output_type": "stream",
     "text": [
      "\r",
      " 94%|█████████▍| 17/18 [01:23<00:04,  4.83s/it]"
     ]
    },
    {
     "name": "stdout",
     "output_type": "stream",
     "text": [
      "('max mins', -1.0, 0.9780470985687384)\n"
     ]
    },
    {
     "name": "stderr",
     "output_type": "stream",
     "text": [
      "100%|██████████| 18/18 [01:28<00:00,  4.89s/it]\n"
     ]
    },
    {
     "name": "stdout",
     "output_type": "stream",
     "text": [
      "('Best file pairs are: ', 'non_spikey_T0000832.WAV*non_spikey_T0000833.WAV')\n",
      "Start and end indices around peak:                  start index: 11023080\t\t          end index: 22523080                  total samples:30015488\n",
      "('AV Sync was above threshold: ', 0.8764501110393645)\n",
      "common_fps/Aditya_annotations/2018-08-18/common_fps_video_syncAditya_2018-08-19_0120-0200_30.csv\n",
      "('video_fps obtained is :', 25)\n",
      "Did not find user-provided sample rate - getting it from first file that matches format!\n",
      "('sampling rate is : ', 250000)\n",
      ".....finding best audio segment.....\n"
     ]
    },
    {
     "name": "stderr",
     "output_type": "stream",
     "text": [
      "\r",
      "  0%|          | 0/18 [00:00<?, ?it/s]"
     ]
    },
    {
     "name": "stdout",
     "output_type": "stream",
     "text": [
      "('max mins for upsampled video', -1.0, 0.9404701824744186)\n",
      "('max mins', -0.9842913319379506, 1.0)\n"
     ]
    },
    {
     "name": "stderr",
     "output_type": "stream",
     "text": [
      "\r",
      "  6%|▌         | 1/18 [00:05<01:25,  5.03s/it]"
     ]
    },
    {
     "name": "stdout",
     "output_type": "stream",
     "text": [
      "('max mins', -0.9990574645583497, 1.0)\n"
     ]
    },
    {
     "name": "stderr",
     "output_type": "stream",
     "text": [
      "\r",
      " 11%|█         | 2/18 [00:10<01:21,  5.08s/it]"
     ]
    },
    {
     "name": "stdout",
     "output_type": "stream",
     "text": [
      "('max mins', -0.9807445591121711, 1.0)\n"
     ]
    },
    {
     "name": "stderr",
     "output_type": "stream",
     "text": [
      "\r",
      " 17%|█▋        | 3/18 [00:15<01:15,  5.04s/it]"
     ]
    },
    {
     "name": "stdout",
     "output_type": "stream",
     "text": [
      "('max mins', -1.0, 0.9565539319250242)\n"
     ]
    },
    {
     "name": "stderr",
     "output_type": "stream",
     "text": [
      "\r",
      " 22%|██▏       | 4/18 [00:20<01:12,  5.21s/it]"
     ]
    },
    {
     "name": "stdout",
     "output_type": "stream",
     "text": [
      "('max mins', -1.0, 0.91661497137065)\n"
     ]
    },
    {
     "name": "stderr",
     "output_type": "stream",
     "text": [
      "\r",
      " 28%|██▊       | 5/18 [00:25<01:06,  5.14s/it]"
     ]
    },
    {
     "name": "stdout",
     "output_type": "stream",
     "text": [
      "('max mins', -1.0, 0.9710591622684932)\n"
     ]
    },
    {
     "name": "stderr",
     "output_type": "stream",
     "text": [
      "\r",
      " 33%|███▎      | 6/18 [00:30<01:00,  5.04s/it]"
     ]
    },
    {
     "name": "stdout",
     "output_type": "stream",
     "text": [
      "('max mins', -1.0, 0.9775796255224128)\n"
     ]
    },
    {
     "name": "stderr",
     "output_type": "stream",
     "text": [
      "\r",
      " 39%|███▉      | 7/18 [00:35<00:55,  5.04s/it]"
     ]
    },
    {
     "name": "stdout",
     "output_type": "stream",
     "text": [
      "('max mins', -0.9628585976124859, 1.0)\n"
     ]
    },
    {
     "name": "stderr",
     "output_type": "stream",
     "text": [
      "\r",
      " 44%|████▍     | 8/18 [00:41<00:53,  5.36s/it]"
     ]
    },
    {
     "name": "stdout",
     "output_type": "stream",
     "text": [
      "('max mins', -0.9666347799422894, 1.0)\n"
     ]
    },
    {
     "name": "stderr",
     "output_type": "stream",
     "text": [
      "\r",
      " 50%|█████     | 9/18 [00:47<00:49,  5.54s/it]"
     ]
    },
    {
     "name": "stdout",
     "output_type": "stream",
     "text": [
      "('max mins', -1.0, 0.9721025773644282)\n"
     ]
    },
    {
     "name": "stderr",
     "output_type": "stream",
     "text": [
      "\r",
      " 56%|█████▌    | 10/18 [00:52<00:43,  5.45s/it]"
     ]
    },
    {
     "name": "stdout",
     "output_type": "stream",
     "text": [
      "('max mins', -1.0, 0.9705080499673067)\n"
     ]
    },
    {
     "name": "stderr",
     "output_type": "stream",
     "text": [
      "\r",
      " 61%|██████    | 11/18 [00:57<00:37,  5.29s/it]"
     ]
    },
    {
     "name": "stdout",
     "output_type": "stream",
     "text": [
      "('max mins', -1.0, 0.9901011729372123)\n"
     ]
    },
    {
     "name": "stderr",
     "output_type": "stream",
     "text": [
      "\r",
      " 67%|██████▋   | 12/18 [01:02<00:31,  5.22s/it]"
     ]
    },
    {
     "name": "stdout",
     "output_type": "stream",
     "text": [
      "('max mins', -0.9980627460717553, 1.0)\n"
     ]
    },
    {
     "name": "stderr",
     "output_type": "stream",
     "text": [
      "\r",
      " 72%|███████▏  | 13/18 [01:08<00:26,  5.22s/it]"
     ]
    },
    {
     "name": "stdout",
     "output_type": "stream",
     "text": [
      "('max mins', -1.0, 0.9443811730993229)\n"
     ]
    },
    {
     "name": "stderr",
     "output_type": "stream",
     "text": [
      "\r",
      " 78%|███████▊  | 14/18 [01:14<00:21,  5.45s/it]"
     ]
    },
    {
     "name": "stdout",
     "output_type": "stream",
     "text": [
      "('max mins', -1.0, 0.9213079865198895)\n"
     ]
    },
    {
     "name": "stderr",
     "output_type": "stream",
     "text": [
      "\r",
      " 83%|████████▎ | 15/18 [01:19<00:16,  5.37s/it]"
     ]
    },
    {
     "name": "stdout",
     "output_type": "stream",
     "text": [
      "('max mins', -1.0, 0.9709446183744602)\n"
     ]
    },
    {
     "name": "stderr",
     "output_type": "stream",
     "text": [
      "\r",
      " 89%|████████▉ | 16/18 [01:24<00:10,  5.42s/it]"
     ]
    },
    {
     "name": "stdout",
     "output_type": "stream",
     "text": [
      "('max mins', -0.9959990229971392, 1.0)\n"
     ]
    },
    {
     "name": "stderr",
     "output_type": "stream",
     "text": [
      "\r",
      " 94%|█████████▍| 17/18 [01:30<00:05,  5.41s/it]"
     ]
    },
    {
     "name": "stdout",
     "output_type": "stream",
     "text": [
      "('max mins', -1.0, 0.9780470985687384)\n"
     ]
    },
    {
     "name": "stderr",
     "output_type": "stream",
     "text": [
      "100%|██████████| 18/18 [01:35<00:00,  5.38s/it]\n"
     ]
    },
    {
     "name": "stdout",
     "output_type": "stream",
     "text": [
      "('Best file pairs are: ', 'non_spikey_T0000832.WAV*non_spikey_T0000833.WAV')\n",
      "Start and end indices around peak:                  start index: 11273193\t\t          end index: 22773193                  total samples:30015488\n",
      "('AV Sync was above threshold: ', 0.8777820953578228)\n",
      "common_fps/Aditya_annotations/2018-08-18/common_fps_video_syncAditya_2018-08-19_0120-0200_32.csv\n",
      "('video_fps obtained is :', 25)\n",
      "Did not find user-provided sample rate - getting it from first file that matches format!\n",
      "('sampling rate is : ', 250000)\n",
      ".....finding best audio segment.....\n"
     ]
    },
    {
     "name": "stderr",
     "output_type": "stream",
     "text": [
      "\r",
      "  0%|          | 0/18 [00:00<?, ?it/s]"
     ]
    },
    {
     "name": "stdout",
     "output_type": "stream",
     "text": [
      "('max mins for upsampled video', -1.0, 0.9156107536400422)\n",
      "('max mins', -0.9842913319379506, 1.0)\n"
     ]
    },
    {
     "name": "stderr",
     "output_type": "stream",
     "text": [
      "\r",
      "  6%|▌         | 1/18 [00:05<01:30,  5.33s/it]"
     ]
    },
    {
     "name": "stdout",
     "output_type": "stream",
     "text": [
      "('max mins', -0.9990574645583497, 1.0)\n"
     ]
    },
    {
     "name": "stderr",
     "output_type": "stream",
     "text": [
      "\r",
      " 11%|█         | 2/18 [00:10<01:25,  5.33s/it]"
     ]
    },
    {
     "name": "stdout",
     "output_type": "stream",
     "text": [
      "('max mins', -0.9807445591121711, 1.0)\n"
     ]
    },
    {
     "name": "stderr",
     "output_type": "stream",
     "text": [
      "\r",
      " 17%|█▋        | 3/18 [00:16<01:20,  5.34s/it]"
     ]
    },
    {
     "name": "stdout",
     "output_type": "stream",
     "text": [
      "('max mins', -1.0, 0.9565539319250242)\n"
     ]
    },
    {
     "name": "stderr",
     "output_type": "stream",
     "text": [
      "\r",
      " 22%|██▏       | 4/18 [00:21<01:14,  5.33s/it]"
     ]
    },
    {
     "name": "stdout",
     "output_type": "stream",
     "text": [
      "('max mins', -1.0, 0.91661497137065)\n"
     ]
    },
    {
     "name": "stderr",
     "output_type": "stream",
     "text": [
      "\r",
      " 28%|██▊       | 5/18 [00:26<01:10,  5.38s/it]"
     ]
    },
    {
     "name": "stdout",
     "output_type": "stream",
     "text": [
      "('max mins', -1.0, 0.9710591622684932)\n"
     ]
    },
    {
     "name": "stderr",
     "output_type": "stream",
     "text": [
      "\r",
      " 33%|███▎      | 6/18 [00:32<01:04,  5.35s/it]"
     ]
    },
    {
     "name": "stdout",
     "output_type": "stream",
     "text": [
      "('max mins', -1.0, 0.9775796255224128)\n"
     ]
    },
    {
     "name": "stderr",
     "output_type": "stream",
     "text": [
      "\r",
      " 39%|███▉      | 7/18 [00:37<00:57,  5.27s/it]"
     ]
    },
    {
     "name": "stdout",
     "output_type": "stream",
     "text": [
      "('max mins', -0.9628585976124859, 1.0)\n"
     ]
    },
    {
     "name": "stderr",
     "output_type": "stream",
     "text": [
      "\r",
      " 44%|████▍     | 8/18 [00:42<00:53,  5.34s/it]"
     ]
    },
    {
     "name": "stdout",
     "output_type": "stream",
     "text": [
      "('max mins', -0.9666347799422894, 1.0)\n"
     ]
    },
    {
     "name": "stderr",
     "output_type": "stream",
     "text": [
      "\r",
      " 50%|█████     | 9/18 [00:47<00:46,  5.19s/it]"
     ]
    },
    {
     "name": "stdout",
     "output_type": "stream",
     "text": [
      "('max mins', -1.0, 0.9721025773644282)\n"
     ]
    },
    {
     "name": "stderr",
     "output_type": "stream",
     "text": [
      "\r",
      " 56%|█████▌    | 10/18 [00:52<00:41,  5.16s/it]"
     ]
    },
    {
     "name": "stdout",
     "output_type": "stream",
     "text": [
      "('max mins', -1.0, 0.9705080499673067)\n"
     ]
    },
    {
     "name": "stderr",
     "output_type": "stream",
     "text": [
      "\r",
      " 61%|██████    | 11/18 [00:58<00:38,  5.47s/it]"
     ]
    },
    {
     "name": "stdout",
     "output_type": "stream",
     "text": [
      "('max mins', -1.0, 0.9901011729372123)\n"
     ]
    },
    {
     "name": "stderr",
     "output_type": "stream",
     "text": [
      "\r",
      " 67%|██████▋   | 12/18 [01:04<00:32,  5.42s/it]"
     ]
    },
    {
     "name": "stdout",
     "output_type": "stream",
     "text": [
      "('max mins', -0.9980627460717553, 1.0)\n"
     ]
    },
    {
     "name": "stderr",
     "output_type": "stream",
     "text": [
      "\r",
      " 72%|███████▏  | 13/18 [01:09<00:26,  5.35s/it]"
     ]
    },
    {
     "name": "stdout",
     "output_type": "stream",
     "text": [
      "('max mins', -1.0, 0.9443811730993229)\n"
     ]
    },
    {
     "name": "stderr",
     "output_type": "stream",
     "text": [
      "\r",
      " 78%|███████▊  | 14/18 [01:14<00:21,  5.31s/it]"
     ]
    },
    {
     "name": "stdout",
     "output_type": "stream",
     "text": [
      "('max mins', -1.0, 0.9213079865198895)\n"
     ]
    },
    {
     "name": "stderr",
     "output_type": "stream",
     "text": [
      "\r",
      " 83%|████████▎ | 15/18 [01:19<00:15,  5.29s/it]"
     ]
    },
    {
     "name": "stdout",
     "output_type": "stream",
     "text": [
      "('max mins', -1.0, 0.9709446183744602)\n"
     ]
    },
    {
     "name": "stderr",
     "output_type": "stream",
     "text": [
      "\r",
      " 89%|████████▉ | 16/18 [01:24<00:10,  5.06s/it]"
     ]
    },
    {
     "name": "stdout",
     "output_type": "stream",
     "text": [
      "('max mins', -0.9959990229971392, 1.0)\n"
     ]
    },
    {
     "name": "stderr",
     "output_type": "stream",
     "text": [
      "\r",
      " 94%|█████████▍| 17/18 [01:28<00:04,  4.84s/it]"
     ]
    },
    {
     "name": "stdout",
     "output_type": "stream",
     "text": [
      "('max mins', -1.0, 0.9780470985687384)\n"
     ]
    },
    {
     "name": "stderr",
     "output_type": "stream",
     "text": [
      "100%|██████████| 18/18 [01:33<00:00,  4.70s/it]\n"
     ]
    },
    {
     "name": "stdout",
     "output_type": "stream",
     "text": [
      "('Best file pairs are: ', 'non_spikey_T0000833.WAV*non_spikey_T0000834.WAV')\n",
      "Start and end indices around peak:                  start index: 515293\t\t          end index: 12015293                  total samples:30015488\n",
      "('AV Sync was above threshold: ', 0.8741937664206042)\n",
      "common_fps/Aditya_annotations/2018-08-18/common_fps_video_syncAditya_2018-08-19_0120-0200_33.csv\n",
      "('video_fps obtained is :', 25)\n",
      "Did not find user-provided sample rate - getting it from first file that matches format!\n",
      "('sampling rate is : ', 250000)\n",
      ".....finding best audio segment.....\n"
     ]
    },
    {
     "name": "stderr",
     "output_type": "stream",
     "text": [
      "\r",
      "  0%|          | 0/10 [00:00<?, ?it/s]"
     ]
    },
    {
     "name": "stdout",
     "output_type": "stream",
     "text": [
      "('max mins for upsampled video', -1.0, 0.9156107536400422)\n",
      "('max mins', -0.9959990229971392, 1.0)\n"
     ]
    },
    {
     "name": "stderr",
     "output_type": "stream",
     "text": [
      "\r",
      " 10%|█         | 1/10 [00:04<00:38,  4.31s/it]"
     ]
    },
    {
     "name": "stdout",
     "output_type": "stream",
     "text": [
      "('max mins', -1.0, 0.9780470985687384)\n"
     ]
    },
    {
     "name": "stderr",
     "output_type": "stream",
     "text": [
      "\r",
      " 20%|██        | 2/10 [00:08<00:34,  4.32s/it]"
     ]
    },
    {
     "name": "stdout",
     "output_type": "stream",
     "text": [
      "('max mins', -1.0, 0.977374304381043)\n"
     ]
    },
    {
     "name": "stderr",
     "output_type": "stream",
     "text": [
      "\r",
      " 30%|███       | 3/10 [00:13<00:30,  4.39s/it]"
     ]
    },
    {
     "name": "stdout",
     "output_type": "stream",
     "text": [
      "('max mins', -0.9412727803185628, 1.0)\n"
     ]
    },
    {
     "name": "stderr",
     "output_type": "stream",
     "text": [
      "\r",
      " 40%|████      | 4/10 [00:17<00:26,  4.46s/it]"
     ]
    },
    {
     "name": "stdout",
     "output_type": "stream",
     "text": [
      "('max mins', -0.950052315645415, 1.0)\n"
     ]
    },
    {
     "name": "stderr",
     "output_type": "stream",
     "text": [
      "\r",
      " 50%|█████     | 5/10 [00:22<00:22,  4.52s/it]"
     ]
    },
    {
     "name": "stdout",
     "output_type": "stream",
     "text": [
      "('max mins', -0.9945437506341868, 1.0)\n"
     ]
    },
    {
     "name": "stderr",
     "output_type": "stream",
     "text": [
      "\r",
      " 60%|██████    | 6/10 [00:27<00:18,  4.55s/it]"
     ]
    },
    {
     "name": "stdout",
     "output_type": "stream",
     "text": [
      "('max mins', -0.9367571166681841, 1.0)\n"
     ]
    },
    {
     "name": "stderr",
     "output_type": "stream",
     "text": [
      "\r",
      " 70%|███████   | 7/10 [00:31<00:13,  4.56s/it]"
     ]
    },
    {
     "name": "stdout",
     "output_type": "stream",
     "text": [
      "('max mins', -0.9739639603380102, 1.0)\n"
     ]
    },
    {
     "name": "stderr",
     "output_type": "stream",
     "text": [
      "\r",
      " 80%|████████  | 8/10 [00:36<00:09,  4.59s/it]"
     ]
    },
    {
     "name": "stdout",
     "output_type": "stream",
     "text": [
      "('max mins', -1.0, 0.9531781071652979)\n"
     ]
    },
    {
     "name": "stderr",
     "output_type": "stream",
     "text": [
      "\r",
      " 90%|█████████ | 9/10 [00:40<00:04,  4.60s/it]"
     ]
    },
    {
     "name": "stdout",
     "output_type": "stream",
     "text": [
      "('max mins', -1.0, 0.9859764486805959)\n"
     ]
    },
    {
     "name": "stderr",
     "output_type": "stream",
     "text": [
      "100%|██████████| 10/10 [00:45<00:00,  4.60s/it]\n"
     ]
    },
    {
     "name": "stdout",
     "output_type": "stream",
     "text": [
      "('Best file pairs are: ', 'non_spikey_T0000834.WAV*non_spikey_T0000835.WAV')\n",
      "Start and end indices around peak:                  start index: 13478104\t\t          end index: 24978104                  total samples:30015488\n"
     ]
    },
    {
     "name": "stderr",
     "output_type": "stream",
     "text": [
      "../../../bin/audio_for_videoannotation.py:175: UserWarning: The AV sync may not be very great - please check again. The value was :0.19990660252733294\n",
      "  warnings.warn(warning_msg, stacklevel=1)\n"
     ]
    },
    {
     "name": "stdout",
     "output_type": "stream",
     "text": [
      "common_fps/Aditya_annotations/2018-08-18/common_fps_video_syncAditya_2018-08-19_0120-0200_34.csv\n",
      "('video_fps obtained is :', 25)\n",
      "Did not find user-provided sample rate - getting it from first file that matches format!\n",
      "('sampling rate is : ', 250000)\n",
      ".....finding best audio segment.....\n"
     ]
    },
    {
     "name": "stderr",
     "output_type": "stream",
     "text": [
      "\r",
      "  0%|          | 0/10 [00:00<?, ?it/s]"
     ]
    },
    {
     "name": "stdout",
     "output_type": "stream",
     "text": [
      "('max mins for upsampled video', -1.0, 0.9155556356987913)\n",
      "('max mins', -0.9959990229971392, 1.0)\n"
     ]
    },
    {
     "name": "stderr",
     "output_type": "stream",
     "text": [
      "\r",
      " 10%|█         | 1/10 [00:04<00:38,  4.32s/it]"
     ]
    },
    {
     "name": "stdout",
     "output_type": "stream",
     "text": [
      "('max mins', -1.0, 0.9780470985687384)\n"
     ]
    },
    {
     "name": "stderr",
     "output_type": "stream",
     "text": [
      "\r",
      " 20%|██        | 2/10 [00:08<00:34,  4.32s/it]"
     ]
    },
    {
     "name": "stdout",
     "output_type": "stream",
     "text": [
      "('max mins', -1.0, 0.977374304381043)\n"
     ]
    },
    {
     "name": "stderr",
     "output_type": "stream",
     "text": [
      "\r",
      " 30%|███       | 3/10 [00:13<00:30,  4.34s/it]"
     ]
    },
    {
     "name": "stdout",
     "output_type": "stream",
     "text": [
      "('max mins', -0.9412727803185628, 1.0)\n"
     ]
    },
    {
     "name": "stderr",
     "output_type": "stream",
     "text": [
      "\r",
      " 40%|████      | 4/10 [00:17<00:26,  4.39s/it]"
     ]
    },
    {
     "name": "stdout",
     "output_type": "stream",
     "text": [
      "('max mins', -0.950052315645415, 1.0)\n"
     ]
    },
    {
     "name": "stderr",
     "output_type": "stream",
     "text": [
      "\r",
      " 50%|█████     | 5/10 [00:21<00:21,  4.37s/it]"
     ]
    },
    {
     "name": "stdout",
     "output_type": "stream",
     "text": [
      "('max mins', -0.9945437506341868, 1.0)\n"
     ]
    },
    {
     "name": "stderr",
     "output_type": "stream",
     "text": [
      "\r",
      " 60%|██████    | 6/10 [00:26<00:17,  4.36s/it]"
     ]
    },
    {
     "name": "stdout",
     "output_type": "stream",
     "text": [
      "('max mins', -0.9367571166681841, 1.0)\n"
     ]
    },
    {
     "name": "stderr",
     "output_type": "stream",
     "text": [
      "\r",
      " 70%|███████   | 7/10 [00:30<00:13,  4.36s/it]"
     ]
    },
    {
     "name": "stdout",
     "output_type": "stream",
     "text": [
      "('max mins', -0.9739639603380102, 1.0)\n"
     ]
    },
    {
     "name": "stderr",
     "output_type": "stream",
     "text": [
      "\r",
      " 80%|████████  | 8/10 [00:34<00:08,  4.36s/it]"
     ]
    },
    {
     "name": "stdout",
     "output_type": "stream",
     "text": [
      "('max mins', -1.0, 0.9531781071652979)\n"
     ]
    },
    {
     "name": "stderr",
     "output_type": "stream",
     "text": [
      "\r",
      " 90%|█████████ | 9/10 [00:39<00:04,  4.35s/it]"
     ]
    },
    {
     "name": "stdout",
     "output_type": "stream",
     "text": [
      "('max mins', -1.0, 0.9859764486805959)\n"
     ]
    },
    {
     "name": "stderr",
     "output_type": "stream",
     "text": [
      "100%|██████████| 10/10 [00:43<00:00,  4.35s/it]\n"
     ]
    },
    {
     "name": "stdout",
     "output_type": "stream",
     "text": [
      "('Best file pairs are: ', 'non_spikey_T0000841.WAV*non_spikey_T0000842.WAV')\n",
      "Start and end indices around peak:                  start index: 15325828\t\t          end index: 26825828                  total samples:30015488\n"
     ]
    },
    {
     "name": "stderr",
     "output_type": "stream",
     "text": [
      "../../../bin/audio_for_videoannotation.py:175: UserWarning: The AV sync may not be very great - please check again. The value was :0.2092312463926101\n",
      "  warnings.warn(warning_msg, stacklevel=1)\n"
     ]
    },
    {
     "name": "stdout",
     "output_type": "stream",
     "text": [
      "common_fps/Aditya_annotations/2018-08-18/common_fps_video_syncAditya_2018-08-19_0120-0200_35.csv\n",
      "('video_fps obtained is :', 25)\n",
      "Did not find user-provided sample rate - getting it from first file that matches format!\n",
      "('sampling rate is : ', 250000)\n",
      ".....finding best audio segment.....\n"
     ]
    },
    {
     "name": "stderr",
     "output_type": "stream",
     "text": [
      "\r",
      "  0%|          | 0/10 [00:00<?, ?it/s]"
     ]
    },
    {
     "name": "stdout",
     "output_type": "stream",
     "text": [
      "('max mins for upsampled video', -1.0, 0.9217268315247407)\n",
      "('max mins', -0.9959990229971392, 1.0)\n"
     ]
    },
    {
     "name": "stderr",
     "output_type": "stream",
     "text": [
      "\r",
      " 10%|█         | 1/10 [00:04<00:39,  4.35s/it]"
     ]
    },
    {
     "name": "stdout",
     "output_type": "stream",
     "text": [
      "('max mins', -1.0, 0.9780470985687384)\n"
     ]
    },
    {
     "name": "stderr",
     "output_type": "stream",
     "text": [
      "\r",
      " 20%|██        | 2/10 [00:08<00:34,  4.35s/it]"
     ]
    },
    {
     "name": "stdout",
     "output_type": "stream",
     "text": [
      "('max mins', -1.0, 0.977374304381043)\n"
     ]
    },
    {
     "name": "stderr",
     "output_type": "stream",
     "text": [
      "\r",
      " 30%|███       | 3/10 [00:13<00:30,  4.36s/it]"
     ]
    },
    {
     "name": "stdout",
     "output_type": "stream",
     "text": [
      "('max mins', -0.9412727803185628, 1.0)\n"
     ]
    },
    {
     "name": "stderr",
     "output_type": "stream",
     "text": [
      "\r",
      " 40%|████      | 4/10 [00:17<00:26,  4.39s/it]"
     ]
    },
    {
     "name": "stdout",
     "output_type": "stream",
     "text": [
      "('max mins', -0.950052315645415, 1.0)\n"
     ]
    },
    {
     "name": "stderr",
     "output_type": "stream",
     "text": [
      "\r",
      " 50%|█████     | 5/10 [00:21<00:21,  4.39s/it]"
     ]
    },
    {
     "name": "stdout",
     "output_type": "stream",
     "text": [
      "('max mins', -0.9945437506341868, 1.0)\n"
     ]
    },
    {
     "name": "stderr",
     "output_type": "stream",
     "text": [
      "\r",
      " 60%|██████    | 6/10 [00:26<00:17,  4.39s/it]"
     ]
    },
    {
     "name": "stdout",
     "output_type": "stream",
     "text": [
      "('max mins', -0.9367571166681841, 1.0)\n"
     ]
    },
    {
     "name": "stderr",
     "output_type": "stream",
     "text": [
      "\r",
      " 70%|███████   | 7/10 [00:30<00:13,  4.39s/it]"
     ]
    },
    {
     "name": "stdout",
     "output_type": "stream",
     "text": [
      "('max mins', -0.9739639603380102, 1.0)\n"
     ]
    },
    {
     "name": "stderr",
     "output_type": "stream",
     "text": [
      "\r",
      " 80%|████████  | 8/10 [00:35<00:08,  4.38s/it]"
     ]
    },
    {
     "name": "stdout",
     "output_type": "stream",
     "text": [
      "('max mins', -1.0, 0.9531781071652979)\n"
     ]
    },
    {
     "name": "stderr",
     "output_type": "stream",
     "text": [
      "\r",
      " 90%|█████████ | 9/10 [00:39<00:04,  4.38s/it]"
     ]
    },
    {
     "name": "stdout",
     "output_type": "stream",
     "text": [
      "('max mins', -1.0, 0.9859764486805959)\n"
     ]
    },
    {
     "name": "stderr",
     "output_type": "stream",
     "text": [
      "100%|██████████| 10/10 [00:43<00:00,  4.38s/it]\n"
     ]
    },
    {
     "name": "stdout",
     "output_type": "stream",
     "text": [
      "('Best file pairs are: ', 'non_spikey_T0000839.WAV*non_spikey_T0000840.WAV')\n",
      "Start and end indices around peak:                  start index: 11764311\t\t          end index: 23264311                  total samples:30015488\n"
     ]
    },
    {
     "name": "stderr",
     "output_type": "stream",
     "text": [
      "../../../bin/audio_for_videoannotation.py:175: UserWarning: The AV sync may not be very great - please check again. The value was :0.20219992447645904\n",
      "  warnings.warn(warning_msg, stacklevel=1)\n"
     ]
    },
    {
     "name": "stdout",
     "output_type": "stream",
     "text": [
      "common_fps/Aditya_annotations/2018-08-18/common_fps_video_syncAditya_2018-08-19_0120-0200_37.csv\n",
      "('video_fps obtained is :', 25)\n",
      "Did not find user-provided sample rate - getting it from first file that matches format!\n",
      "('sampling rate is : ', 250000)\n",
      ".....finding best audio segment.....\n"
     ]
    },
    {
     "name": "stderr",
     "output_type": "stream",
     "text": [
      "\r",
      "  0%|          | 0/10 [00:00<?, ?it/s]"
     ]
    },
    {
     "name": "stdout",
     "output_type": "stream",
     "text": [
      "('max mins for upsampled video', -1.0, 0.8591017567231967)\n",
      "('max mins', -0.9959990229971392, 1.0)\n"
     ]
    },
    {
     "name": "stderr",
     "output_type": "stream",
     "text": [
      "\r",
      " 10%|█         | 1/10 [00:04<00:39,  4.35s/it]"
     ]
    },
    {
     "name": "stdout",
     "output_type": "stream",
     "text": [
      "('max mins', -1.0, 0.9780470985687384)\n"
     ]
    },
    {
     "name": "stderr",
     "output_type": "stream",
     "text": [
      "\r",
      " 20%|██        | 2/10 [00:08<00:34,  4.37s/it]"
     ]
    },
    {
     "name": "stdout",
     "output_type": "stream",
     "text": [
      "('max mins', -1.0, 0.977374304381043)\n"
     ]
    },
    {
     "name": "stderr",
     "output_type": "stream",
     "text": [
      "\r",
      " 30%|███       | 3/10 [00:13<00:30,  4.37s/it]"
     ]
    },
    {
     "name": "stdout",
     "output_type": "stream",
     "text": [
      "('max mins', -0.9412727803185628, 1.0)\n"
     ]
    },
    {
     "name": "stderr",
     "output_type": "stream",
     "text": [
      "\r",
      " 40%|████      | 4/10 [00:17<00:26,  4.40s/it]"
     ]
    },
    {
     "name": "stdout",
     "output_type": "stream",
     "text": [
      "('max mins', -0.950052315645415, 1.0)\n"
     ]
    },
    {
     "name": "stderr",
     "output_type": "stream",
     "text": [
      "\r",
      " 50%|█████     | 5/10 [00:21<00:22,  4.40s/it]"
     ]
    },
    {
     "name": "stdout",
     "output_type": "stream",
     "text": [
      "('max mins', -0.9945437506341868, 1.0)\n"
     ]
    },
    {
     "name": "stderr",
     "output_type": "stream",
     "text": [
      "\r",
      " 60%|██████    | 6/10 [00:26<00:17,  4.39s/it]"
     ]
    },
    {
     "name": "stdout",
     "output_type": "stream",
     "text": [
      "('max mins', -0.9367571166681841, 1.0)\n"
     ]
    },
    {
     "name": "stderr",
     "output_type": "stream",
     "text": [
      "\r",
      " 70%|███████   | 7/10 [00:30<00:13,  4.38s/it]"
     ]
    },
    {
     "name": "stdout",
     "output_type": "stream",
     "text": [
      "('max mins', -0.9739639603380102, 1.0)\n"
     ]
    },
    {
     "name": "stderr",
     "output_type": "stream",
     "text": [
      "\r",
      " 80%|████████  | 8/10 [00:35<00:08,  4.37s/it]"
     ]
    },
    {
     "name": "stdout",
     "output_type": "stream",
     "text": [
      "('max mins', -1.0, 0.9531781071652979)\n"
     ]
    },
    {
     "name": "stderr",
     "output_type": "stream",
     "text": [
      "\r",
      " 90%|█████████ | 9/10 [00:39<00:04,  4.41s/it]"
     ]
    },
    {
     "name": "stdout",
     "output_type": "stream",
     "text": [
      "('max mins', -1.0, 0.9859764486805959)\n"
     ]
    },
    {
     "name": "stderr",
     "output_type": "stream",
     "text": [
      "100%|██████████| 10/10 [00:43<00:00,  4.41s/it]\n"
     ]
    },
    {
     "name": "stdout",
     "output_type": "stream",
     "text": [
      "('Best file pairs are: ', 'non_spikey_T0000838.WAV*non_spikey_T0000839.WAV')\n",
      "Unable to get proper audio match for video segment!\n",
      "('Could not save ', 'common_fps/Aditya_annotations/2018-08-18/common_fps_video_syncAditya_2018-08-19_0120-0200_37.csv')\n",
      "common_fps/Aditya_annotations/2018-08-18/common_fps_video_syncAditya_2018-08-19_0120-0200_38.csv\n",
      "('video_fps obtained is :', 25)\n",
      "Did not find user-provided sample rate - getting it from first file that matches format!\n",
      "('sampling rate is : ', 250000)\n",
      ".....finding best audio segment.....\n"
     ]
    },
    {
     "name": "stderr",
     "output_type": "stream",
     "text": [
      "\r",
      "  0%|          | 0/10 [00:00<?, ?it/s]"
     ]
    },
    {
     "name": "stdout",
     "output_type": "stream",
     "text": [
      "('max mins for upsampled video', -1.0, 0.855593362224787)\n",
      "('max mins', -0.9959990229971392, 1.0)\n"
     ]
    },
    {
     "name": "stderr",
     "output_type": "stream",
     "text": [
      "\r",
      " 10%|█         | 1/10 [00:04<00:39,  4.37s/it]"
     ]
    },
    {
     "name": "stdout",
     "output_type": "stream",
     "text": [
      "('max mins', -1.0, 0.9780470985687384)\n"
     ]
    },
    {
     "name": "stderr",
     "output_type": "stream",
     "text": [
      "\r",
      " 20%|██        | 2/10 [00:08<00:35,  4.43s/it]"
     ]
    },
    {
     "name": "stdout",
     "output_type": "stream",
     "text": [
      "('max mins', -1.0, 0.977374304381043)\n"
     ]
    },
    {
     "name": "stderr",
     "output_type": "stream",
     "text": [
      "\r",
      " 30%|███       | 3/10 [00:13<00:31,  4.44s/it]"
     ]
    },
    {
     "name": "stdout",
     "output_type": "stream",
     "text": [
      "('max mins', -0.9412727803185628, 1.0)\n"
     ]
    },
    {
     "name": "stderr",
     "output_type": "stream",
     "text": [
      "\r",
      " 40%|████      | 4/10 [00:17<00:26,  4.41s/it]"
     ]
    },
    {
     "name": "stdout",
     "output_type": "stream",
     "text": [
      "('max mins', -0.950052315645415, 1.0)\n"
     ]
    },
    {
     "name": "stderr",
     "output_type": "stream",
     "text": [
      "\r",
      " 50%|█████     | 5/10 [00:22<00:22,  4.44s/it]"
     ]
    },
    {
     "name": "stdout",
     "output_type": "stream",
     "text": [
      "('max mins', -0.9945437506341868, 1.0)\n"
     ]
    },
    {
     "name": "stderr",
     "output_type": "stream",
     "text": [
      "\r",
      " 60%|██████    | 6/10 [00:26<00:17,  4.44s/it]"
     ]
    },
    {
     "name": "stdout",
     "output_type": "stream",
     "text": [
      "('max mins', -0.9367571166681841, 1.0)\n"
     ]
    },
    {
     "name": "stderr",
     "output_type": "stream",
     "text": [
      "\r",
      " 70%|███████   | 7/10 [00:31<00:13,  4.64s/it]"
     ]
    },
    {
     "name": "stdout",
     "output_type": "stream",
     "text": [
      "('max mins', -0.9739639603380102, 1.0)\n"
     ]
    },
    {
     "name": "stderr",
     "output_type": "stream",
     "text": [
      "\r",
      " 80%|████████  | 8/10 [00:36<00:09,  4.75s/it]"
     ]
    },
    {
     "name": "stdout",
     "output_type": "stream",
     "text": [
      "('max mins', -1.0, 0.9531781071652979)\n"
     ]
    },
    {
     "name": "stderr",
     "output_type": "stream",
     "text": [
      "\r",
      " 90%|█████████ | 9/10 [00:41<00:04,  4.86s/it]"
     ]
    },
    {
     "name": "stdout",
     "output_type": "stream",
     "text": [
      "('max mins', -1.0, 0.9859764486805959)\n"
     ]
    },
    {
     "name": "stderr",
     "output_type": "stream",
     "text": [
      "100%|██████████| 10/10 [00:46<00:00,  4.82s/it]\n"
     ]
    },
    {
     "name": "stdout",
     "output_type": "stream",
     "text": [
      "('Best file pairs are: ', 'non_spikey_T0000838.WAV*non_spikey_T0000839.WAV')\n",
      "Unable to get proper audio match for video segment!\n",
      "('Could not save ', 'common_fps/Aditya_annotations/2018-08-18/common_fps_video_syncAditya_2018-08-19_0120-0200_38.csv')\n",
      "common_fps/Aditya_annotations/2018-08-18/common_fps_video_syncAditya_2018-08-19_0120-0200_41.csv\n",
      "('video_fps obtained is :', 25)\n",
      "Did not find user-provided sample rate - getting it from first file that matches format!\n",
      "('sampling rate is : ', 250000)\n",
      ".....finding best audio segment.....\n"
     ]
    },
    {
     "name": "stderr",
     "output_type": "stream",
     "text": [
      "\r",
      "  0%|          | 0/10 [00:00<?, ?it/s]"
     ]
    },
    {
     "name": "stdout",
     "output_type": "stream",
     "text": [
      "('max mins for upsampled video', -1.0, 0.8397494325864422)\n",
      "('max mins', -0.9959990229971392, 1.0)\n"
     ]
    },
    {
     "name": "stderr",
     "output_type": "stream",
     "text": [
      "\r",
      " 10%|█         | 1/10 [00:04<00:41,  4.59s/it]"
     ]
    },
    {
     "name": "stdout",
     "output_type": "stream",
     "text": [
      "('max mins', -1.0, 0.9780470985687384)\n"
     ]
    },
    {
     "name": "stderr",
     "output_type": "stream",
     "text": [
      "\r",
      " 20%|██        | 2/10 [00:09<00:36,  4.60s/it]"
     ]
    },
    {
     "name": "stdout",
     "output_type": "stream",
     "text": [
      "('max mins', -1.0, 0.977374304381043)\n"
     ]
    },
    {
     "name": "stderr",
     "output_type": "stream",
     "text": [
      "\r",
      " 30%|███       | 3/10 [00:13<00:31,  4.57s/it]"
     ]
    },
    {
     "name": "stdout",
     "output_type": "stream",
     "text": [
      "('max mins', -0.9412727803185628, 1.0)\n"
     ]
    },
    {
     "name": "stderr",
     "output_type": "stream",
     "text": [
      "\r",
      " 40%|████      | 4/10 [00:18<00:27,  4.60s/it]"
     ]
    },
    {
     "name": "stdout",
     "output_type": "stream",
     "text": [
      "('max mins', -0.950052315645415, 1.0)\n"
     ]
    },
    {
     "name": "stderr",
     "output_type": "stream",
     "text": [
      "\r",
      " 50%|█████     | 5/10 [00:22<00:22,  4.59s/it]"
     ]
    },
    {
     "name": "stdout",
     "output_type": "stream",
     "text": [
      "('max mins', -0.9945437506341868, 1.0)\n"
     ]
    },
    {
     "name": "stderr",
     "output_type": "stream",
     "text": [
      "\r",
      " 60%|██████    | 6/10 [00:27<00:18,  4.58s/it]"
     ]
    },
    {
     "name": "stdout",
     "output_type": "stream",
     "text": [
      "('max mins', -0.9367571166681841, 1.0)\n"
     ]
    },
    {
     "name": "stderr",
     "output_type": "stream",
     "text": [
      "\r",
      " 70%|███████   | 7/10 [00:32<00:13,  4.56s/it]"
     ]
    },
    {
     "name": "stdout",
     "output_type": "stream",
     "text": [
      "('max mins', -0.9739639603380102, 1.0)\n"
     ]
    },
    {
     "name": "stderr",
     "output_type": "stream",
     "text": [
      "\r",
      " 80%|████████  | 8/10 [00:36<00:09,  4.50s/it]"
     ]
    },
    {
     "name": "stdout",
     "output_type": "stream",
     "text": [
      "('max mins', -1.0, 0.9531781071652979)\n"
     ]
    },
    {
     "name": "stderr",
     "output_type": "stream",
     "text": [
      "\r",
      " 90%|█████████ | 9/10 [00:40<00:04,  4.47s/it]"
     ]
    },
    {
     "name": "stdout",
     "output_type": "stream",
     "text": [
      "('max mins', -1.0, 0.9859764486805959)\n"
     ]
    },
    {
     "name": "stderr",
     "output_type": "stream",
     "text": [
      "100%|██████████| 10/10 [00:45<00:00,  4.50s/it]\n"
     ]
    },
    {
     "name": "stdout",
     "output_type": "stream",
     "text": [
      "('Best file pairs are: ', 'non_spikey_T0000841.WAV*non_spikey_T0000842.WAV')\n",
      "Start and end indices around peak:                  start index: 1941777\t\t          end index: 13441777                  total samples:30015488\n"
     ]
    },
    {
     "name": "stderr",
     "output_type": "stream",
     "text": [
      "../../../bin/audio_for_videoannotation.py:175: UserWarning: The AV sync may not be very great - please check again. The value was :0.22055161790806915\n",
      "  warnings.warn(warning_msg, stacklevel=1)\n"
     ]
    },
    {
     "name": "stdout",
     "output_type": "stream",
     "text": [
      "common_fps/Aditya_annotations/2018-08-18/common_fps_video_syncAditya_2018-08-19_0120-0200_42.csv\n",
      "('video_fps obtained is :', 25)\n",
      "Did not find user-provided sample rate - getting it from first file that matches format!\n",
      "('sampling rate is : ', 250000)\n",
      ".....finding best audio segment.....\n"
     ]
    },
    {
     "name": "stderr",
     "output_type": "stream",
     "text": [
      "\r",
      "  0%|          | 0/10 [00:00<?, ?it/s]"
     ]
    },
    {
     "name": "stdout",
     "output_type": "stream",
     "text": [
      "('max mins for upsampled video', -1.0, 0.8402739636305188)\n",
      "('max mins', -0.9959990229971392, 1.0)\n"
     ]
    },
    {
     "name": "stderr",
     "output_type": "stream",
     "text": [
      "\r",
      " 10%|█         | 1/10 [00:04<00:40,  4.46s/it]"
     ]
    },
    {
     "name": "stdout",
     "output_type": "stream",
     "text": [
      "('max mins', -1.0, 0.9780470985687384)\n"
     ]
    },
    {
     "name": "stderr",
     "output_type": "stream",
     "text": [
      "\r",
      " 20%|██        | 2/10 [00:08<00:35,  4.47s/it]"
     ]
    },
    {
     "name": "stdout",
     "output_type": "stream",
     "text": [
      "('max mins', -1.0, 0.977374304381043)\n"
     ]
    },
    {
     "name": "stderr",
     "output_type": "stream",
     "text": [
      "\r",
      " 30%|███       | 3/10 [00:13<00:31,  4.45s/it]"
     ]
    },
    {
     "name": "stdout",
     "output_type": "stream",
     "text": [
      "('max mins', -0.9412727803185628, 1.0)\n"
     ]
    },
    {
     "name": "stderr",
     "output_type": "stream",
     "text": [
      "\r",
      " 40%|████      | 4/10 [00:18<00:28,  4.68s/it]"
     ]
    },
    {
     "name": "stdout",
     "output_type": "stream",
     "text": [
      "('max mins', -0.950052315645415, 1.0)\n"
     ]
    },
    {
     "name": "stderr",
     "output_type": "stream",
     "text": [
      "\r",
      " 50%|█████     | 5/10 [00:22<00:22,  4.59s/it]"
     ]
    },
    {
     "name": "stdout",
     "output_type": "stream",
     "text": [
      "('max mins', -0.9945437506341868, 1.0)\n"
     ]
    },
    {
     "name": "stderr",
     "output_type": "stream",
     "text": [
      "\r",
      " 60%|██████    | 6/10 [00:27<00:18,  4.56s/it]"
     ]
    },
    {
     "name": "stdout",
     "output_type": "stream",
     "text": [
      "('max mins', -0.9367571166681841, 1.0)\n"
     ]
    },
    {
     "name": "stderr",
     "output_type": "stream",
     "text": [
      "\r",
      " 70%|███████   | 7/10 [00:33<00:14,  4.96s/it]"
     ]
    },
    {
     "name": "stdout",
     "output_type": "stream",
     "text": [
      "('max mins', -0.9739639603380102, 1.0)\n"
     ]
    },
    {
     "name": "stderr",
     "output_type": "stream",
     "text": [
      "\r",
      " 80%|████████  | 8/10 [00:38<00:10,  5.03s/it]"
     ]
    },
    {
     "name": "stdout",
     "output_type": "stream",
     "text": [
      "('max mins', -1.0, 0.9531781071652979)\n"
     ]
    },
    {
     "name": "stderr",
     "output_type": "stream",
     "text": [
      "\r",
      " 90%|█████████ | 9/10 [00:43<00:04,  4.96s/it]"
     ]
    },
    {
     "name": "stdout",
     "output_type": "stream",
     "text": [
      "('max mins', -1.0, 0.9859764486805959)\n"
     ]
    },
    {
     "name": "stderr",
     "output_type": "stream",
     "text": [
      "100%|██████████| 10/10 [00:49<00:00,  5.20s/it]\n"
     ]
    },
    {
     "name": "stdout",
     "output_type": "stream",
     "text": [
      "('Best file pairs are: ', 'non_spikey_T0000841.WAV*non_spikey_T0000842.WAV')\n",
      "Start and end indices around peak:                  start index: 2190613\t\t          end index: 13690613                  total samples:30015488\n"
     ]
    },
    {
     "name": "stderr",
     "output_type": "stream",
     "text": [
      "../../../bin/audio_for_videoannotation.py:175: UserWarning: The AV sync may not be very great - please check again. The value was :0.2215011339133994\n",
      "  warnings.warn(warning_msg, stacklevel=1)\n"
     ]
    },
    {
     "name": "stdout",
     "output_type": "stream",
     "text": [
      "common_fps/Aditya_annotations/2018-08-18/common_fps_video_syncAditya_2018-08-19_0120-0200_44.csv\n",
      "('video_fps obtained is :', 25)\n",
      "Did not find user-provided sample rate - getting it from first file that matches format!\n",
      "('sampling rate is : ', 250000)\n",
      ".....finding best audio segment.....\n"
     ]
    },
    {
     "name": "stderr",
     "output_type": "stream",
     "text": [
      "\r",
      "  0%|          | 0/10 [00:00<?, ?it/s]"
     ]
    },
    {
     "name": "stdout",
     "output_type": "stream",
     "text": [
      "('max mins for upsampled video', -1.0, 0.8639169079413669)\n",
      "('max mins', -0.9959990229971392, 1.0)\n"
     ]
    },
    {
     "name": "stderr",
     "output_type": "stream",
     "text": [
      "\r",
      " 10%|█         | 1/10 [00:05<00:47,  5.30s/it]"
     ]
    },
    {
     "name": "stdout",
     "output_type": "stream",
     "text": [
      "('max mins', -1.0, 0.9780470985687384)\n"
     ]
    },
    {
     "name": "stderr",
     "output_type": "stream",
     "text": [
      "\r",
      " 20%|██        | 2/10 [00:10<00:41,  5.23s/it]"
     ]
    },
    {
     "name": "stdout",
     "output_type": "stream",
     "text": [
      "('max mins', -1.0, 0.977374304381043)\n"
     ]
    },
    {
     "name": "stderr",
     "output_type": "stream",
     "text": [
      "\r",
      " 30%|███       | 3/10 [00:15<00:35,  5.07s/it]"
     ]
    },
    {
     "name": "stdout",
     "output_type": "stream",
     "text": [
      "('max mins', -0.9412727803185628, 1.0)\n"
     ]
    },
    {
     "name": "stderr",
     "output_type": "stream",
     "text": [
      "\r",
      " 40%|████      | 4/10 [00:19<00:29,  4.89s/it]"
     ]
    },
    {
     "name": "stdout",
     "output_type": "stream",
     "text": [
      "('max mins', -0.950052315645415, 1.0)\n"
     ]
    },
    {
     "name": "stderr",
     "output_type": "stream",
     "text": [
      "\r",
      " 50%|█████     | 5/10 [00:23<00:23,  4.74s/it]"
     ]
    },
    {
     "name": "stdout",
     "output_type": "stream",
     "text": [
      "('max mins', -0.9945437506341868, 1.0)\n"
     ]
    },
    {
     "name": "stderr",
     "output_type": "stream",
     "text": [
      "\r",
      " 60%|██████    | 6/10 [00:28<00:18,  4.64s/it]"
     ]
    },
    {
     "name": "stdout",
     "output_type": "stream",
     "text": [
      "('max mins', -0.9367571166681841, 1.0)\n"
     ]
    },
    {
     "name": "stderr",
     "output_type": "stream",
     "text": [
      "\r",
      " 70%|███████   | 7/10 [00:32<00:13,  4.57s/it]"
     ]
    },
    {
     "name": "stdout",
     "output_type": "stream",
     "text": [
      "('max mins', -0.9739639603380102, 1.0)\n"
     ]
    },
    {
     "name": "stderr",
     "output_type": "stream",
     "text": [
      "\r",
      " 80%|████████  | 8/10 [00:37<00:09,  4.69s/it]"
     ]
    },
    {
     "name": "stdout",
     "output_type": "stream",
     "text": [
      "('max mins', -1.0, 0.9531781071652979)\n"
     ]
    },
    {
     "name": "stderr",
     "output_type": "stream",
     "text": [
      "\r",
      " 90%|█████████ | 9/10 [00:42<00:04,  4.87s/it]"
     ]
    },
    {
     "name": "stdout",
     "output_type": "stream",
     "text": [
      "('max mins', -1.0, 0.9859764486805959)\n"
     ]
    },
    {
     "name": "stderr",
     "output_type": "stream",
     "text": [
      "100%|██████████| 10/10 [00:48<00:00,  4.96s/it]\n"
     ]
    },
    {
     "name": "stdout",
     "output_type": "stream",
     "text": [
      "('Best file pairs are: ', 'non_spikey_T0000834.WAV*non_spikey_T0000835.WAV')\n",
      "Unable to get proper audio match for video segment!\n",
      "('Could not save ', 'common_fps/Aditya_annotations/2018-08-18/common_fps_video_syncAditya_2018-08-19_0120-0200_44.csv')\n",
      "common_fps/Aditya_annotations/2018-08-18/common_fps_video_syncAditya_2018-08-19_0120-0200_45.csv\n",
      "('video_fps obtained is :', 25)\n",
      "Did not find user-provided sample rate - getting it from first file that matches format!\n",
      "('sampling rate is : ', 250000)\n",
      ".....finding best audio segment.....\n"
     ]
    },
    {
     "name": "stderr",
     "output_type": "stream",
     "text": [
      "\r",
      "  0%|          | 0/10 [00:00<?, ?it/s]"
     ]
    },
    {
     "name": "stdout",
     "output_type": "stream",
     "text": [
      "('max mins for upsampled video', -1.0, 0.8893801159964249)\n",
      "('max mins', -0.9959990229971392, 1.0)\n"
     ]
    },
    {
     "name": "stderr",
     "output_type": "stream",
     "text": [
      "\r",
      " 10%|█         | 1/10 [00:04<00:41,  4.58s/it]"
     ]
    },
    {
     "name": "stdout",
     "output_type": "stream",
     "text": [
      "('max mins', -1.0, 0.9780470985687384)\n"
     ]
    },
    {
     "name": "stderr",
     "output_type": "stream",
     "text": [
      "\r",
      " 20%|██        | 2/10 [00:09<00:37,  4.63s/it]"
     ]
    },
    {
     "name": "stdout",
     "output_type": "stream",
     "text": [
      "('max mins', -1.0, 0.977374304381043)\n"
     ]
    },
    {
     "name": "stderr",
     "output_type": "stream",
     "text": [
      "\r",
      " 30%|███       | 3/10 [00:13<00:32,  4.60s/it]"
     ]
    },
    {
     "name": "stdout",
     "output_type": "stream",
     "text": [
      "('max mins', -0.9412727803185628, 1.0)\n"
     ]
    },
    {
     "name": "stderr",
     "output_type": "stream",
     "text": [
      "\r",
      " 40%|████      | 4/10 [00:18<00:27,  4.54s/it]"
     ]
    },
    {
     "name": "stdout",
     "output_type": "stream",
     "text": [
      "('max mins', -0.950052315645415, 1.0)\n"
     ]
    },
    {
     "name": "stderr",
     "output_type": "stream",
     "text": [
      "\r",
      " 50%|█████     | 5/10 [00:23<00:24,  4.85s/it]"
     ]
    },
    {
     "name": "stdout",
     "output_type": "stream",
     "text": [
      "('max mins', -0.9945437506341868, 1.0)\n"
     ]
    },
    {
     "name": "stderr",
     "output_type": "stream",
     "text": [
      "\r",
      " 60%|██████    | 6/10 [00:28<00:18,  4.70s/it]"
     ]
    },
    {
     "name": "stdout",
     "output_type": "stream",
     "text": [
      "('max mins', -0.9367571166681841, 1.0)\n"
     ]
    },
    {
     "name": "stderr",
     "output_type": "stream",
     "text": [
      "\r",
      " 70%|███████   | 7/10 [00:32<00:13,  4.66s/it]"
     ]
    },
    {
     "name": "stdout",
     "output_type": "stream",
     "text": [
      "('max mins', -0.9739639603380102, 1.0)\n"
     ]
    },
    {
     "name": "stderr",
     "output_type": "stream",
     "text": [
      "\r",
      " 80%|████████  | 8/10 [00:38<00:09,  4.95s/it]"
     ]
    },
    {
     "name": "stdout",
     "output_type": "stream",
     "text": [
      "('max mins', -1.0, 0.9531781071652979)\n"
     ]
    },
    {
     "name": "stderr",
     "output_type": "stream",
     "text": [
      "\r",
      " 90%|█████████ | 9/10 [00:43<00:04,  4.85s/it]"
     ]
    },
    {
     "name": "stdout",
     "output_type": "stream",
     "text": [
      "('max mins', -1.0, 0.9859764486805959)\n"
     ]
    },
    {
     "name": "stderr",
     "output_type": "stream",
     "text": [
      "100%|██████████| 10/10 [00:47<00:00,  4.71s/it]\n"
     ]
    },
    {
     "name": "stdout",
     "output_type": "stream",
     "text": [
      "('Best file pairs are: ', 'non_spikey_T0000834.WAV*non_spikey_T0000835.WAV')\n",
      "Start and end indices around peak:                  start index: 8899\t\t          end index: 11508899                  total samples:30015488\n",
      "('AV Sync was above threshold: ', 0.8731453922342735)\n",
      "common_fps/Aditya_annotations/2018-08-18/common_fps_video_syncAditya_2018-08-19_0120-0200_46.csv\n",
      "('video_fps obtained is :', 25)\n",
      "Did not find user-provided sample rate - getting it from first file that matches format!\n",
      "('sampling rate is : ', 250000)\n",
      ".....finding best audio segment.....\n"
     ]
    },
    {
     "name": "stderr",
     "output_type": "stream",
     "text": [
      "\r",
      "  0%|          | 0/10 [00:00<?, ?it/s]"
     ]
    },
    {
     "name": "stdout",
     "output_type": "stream",
     "text": [
      "('max mins for upsampled video', -1.0, 0.9260911292613467)\n",
      "('max mins', -0.9959990229971392, 1.0)\n"
     ]
    },
    {
     "name": "stderr",
     "output_type": "stream",
     "text": [
      "\r",
      " 10%|█         | 1/10 [00:04<00:38,  4.32s/it]"
     ]
    },
    {
     "name": "stdout",
     "output_type": "stream",
     "text": [
      "('max mins', -1.0, 0.9780470985687384)\n"
     ]
    },
    {
     "name": "stderr",
     "output_type": "stream",
     "text": [
      "\r",
      " 20%|██        | 2/10 [00:08<00:34,  4.32s/it]"
     ]
    },
    {
     "name": "stdout",
     "output_type": "stream",
     "text": [
      "('max mins', -1.0, 0.977374304381043)\n"
     ]
    },
    {
     "name": "stderr",
     "output_type": "stream",
     "text": [
      "\r",
      " 30%|███       | 3/10 [00:12<00:30,  4.33s/it]"
     ]
    },
    {
     "name": "stdout",
     "output_type": "stream",
     "text": [
      "('max mins', -0.9412727803185628, 1.0)\n"
     ]
    },
    {
     "name": "stderr",
     "output_type": "stream",
     "text": [
      "\r",
      " 40%|████      | 4/10 [00:17<00:26,  4.33s/it]"
     ]
    },
    {
     "name": "stdout",
     "output_type": "stream",
     "text": [
      "('max mins', -0.950052315645415, 1.0)\n"
     ]
    },
    {
     "name": "stderr",
     "output_type": "stream",
     "text": [
      "\r",
      " 50%|█████     | 5/10 [00:21<00:21,  4.34s/it]"
     ]
    },
    {
     "name": "stdout",
     "output_type": "stream",
     "text": [
      "('max mins', -0.9945437506341868, 1.0)\n"
     ]
    },
    {
     "name": "stderr",
     "output_type": "stream",
     "text": [
      "\r",
      " 60%|██████    | 6/10 [00:26<00:17,  4.34s/it]"
     ]
    },
    {
     "name": "stdout",
     "output_type": "stream",
     "text": [
      "('max mins', -0.9367571166681841, 1.0)\n"
     ]
    },
    {
     "name": "stderr",
     "output_type": "stream",
     "text": [
      "\r",
      " 70%|███████   | 7/10 [00:30<00:13,  4.34s/it]"
     ]
    },
    {
     "name": "stdout",
     "output_type": "stream",
     "text": [
      "('max mins', -0.9739639603380102, 1.0)\n"
     ]
    },
    {
     "name": "stderr",
     "output_type": "stream",
     "text": [
      "\r",
      " 80%|████████  | 8/10 [00:34<00:08,  4.34s/it]"
     ]
    },
    {
     "name": "stdout",
     "output_type": "stream",
     "text": [
      "('max mins', -1.0, 0.9531781071652979)\n"
     ]
    },
    {
     "name": "stderr",
     "output_type": "stream",
     "text": [
      "\r",
      " 90%|█████████ | 9/10 [00:39<00:04,  4.33s/it]"
     ]
    },
    {
     "name": "stdout",
     "output_type": "stream",
     "text": [
      "('max mins', -1.0, 0.9859764486805959)\n"
     ]
    },
    {
     "name": "stderr",
     "output_type": "stream",
     "text": [
      "100%|██████████| 10/10 [00:43<00:00,  4.33s/it]\n"
     ]
    },
    {
     "name": "stdout",
     "output_type": "stream",
     "text": [
      "('Best file pairs are: ', 'non_spikey_T0000834.WAV*non_spikey_T0000835.WAV')\n",
      "Start and end indices around peak:                  start index: 10261945\t\t          end index: 21761945                  total samples:30015488\n",
      "('AV Sync was above threshold: ', 0.8528019818599412)\n",
      "common_fps/Aditya_annotations/2018-08-18/common_fps_video_syncAditya_2018-08-19_0120-0200_47.csv\n",
      "('video_fps obtained is :', 25)\n",
      "Did not find user-provided sample rate - getting it from first file that matches format!\n",
      "('sampling rate is : ', 250000)\n",
      ".....finding best audio segment.....\n"
     ]
    },
    {
     "name": "stderr",
     "output_type": "stream",
     "text": [
      "\r",
      "  0%|          | 0/10 [00:00<?, ?it/s]"
     ]
    },
    {
     "name": "stdout",
     "output_type": "stream",
     "text": [
      "('max mins for upsampled video', -1.0, 0.9452785068712467)\n",
      "('max mins', -0.9959990229971392, 1.0)\n"
     ]
    },
    {
     "name": "stderr",
     "output_type": "stream",
     "text": [
      "\r",
      " 10%|█         | 1/10 [00:04<00:38,  4.31s/it]"
     ]
    },
    {
     "name": "stdout",
     "output_type": "stream",
     "text": [
      "('max mins', -1.0, 0.9780470985687384)\n"
     ]
    },
    {
     "name": "stderr",
     "output_type": "stream",
     "text": [
      "\r",
      " 20%|██        | 2/10 [00:08<00:34,  4.32s/it]"
     ]
    },
    {
     "name": "stdout",
     "output_type": "stream",
     "text": [
      "('max mins', -1.0, 0.977374304381043)\n"
     ]
    },
    {
     "name": "stderr",
     "output_type": "stream",
     "text": [
      "\r",
      " 30%|███       | 3/10 [00:12<00:30,  4.32s/it]"
     ]
    },
    {
     "name": "stdout",
     "output_type": "stream",
     "text": [
      "('max mins', -0.9412727803185628, 1.0)\n"
     ]
    },
    {
     "name": "stderr",
     "output_type": "stream",
     "text": [
      "\r",
      " 40%|████      | 4/10 [00:17<00:25,  4.33s/it]"
     ]
    },
    {
     "name": "stdout",
     "output_type": "stream",
     "text": [
      "('max mins', -0.950052315645415, 1.0)\n"
     ]
    },
    {
     "name": "stderr",
     "output_type": "stream",
     "text": [
      "\r",
      " 50%|█████     | 5/10 [00:21<00:21,  4.32s/it]"
     ]
    },
    {
     "name": "stdout",
     "output_type": "stream",
     "text": [
      "('max mins', -0.9945437506341868, 1.0)\n"
     ]
    },
    {
     "name": "stderr",
     "output_type": "stream",
     "text": [
      "\r",
      " 60%|██████    | 6/10 [00:25<00:17,  4.32s/it]"
     ]
    },
    {
     "name": "stdout",
     "output_type": "stream",
     "text": [
      "('max mins', -0.9367571166681841, 1.0)\n"
     ]
    },
    {
     "name": "stderr",
     "output_type": "stream",
     "text": [
      "\r",
      " 70%|███████   | 7/10 [00:30<00:12,  4.33s/it]"
     ]
    },
    {
     "name": "stdout",
     "output_type": "stream",
     "text": [
      "('max mins', -0.9739639603380102, 1.0)\n"
     ]
    },
    {
     "name": "stderr",
     "output_type": "stream",
     "text": [
      "\r",
      " 80%|████████  | 8/10 [00:34<00:08,  4.34s/it]"
     ]
    },
    {
     "name": "stdout",
     "output_type": "stream",
     "text": [
      "('max mins', -1.0, 0.9531781071652979)\n"
     ]
    },
    {
     "name": "stderr",
     "output_type": "stream",
     "text": [
      "\r",
      " 90%|█████████ | 9/10 [00:39<00:04,  4.34s/it]"
     ]
    },
    {
     "name": "stdout",
     "output_type": "stream",
     "text": [
      "('max mins', -1.0, 0.9859764486805959)\n"
     ]
    },
    {
     "name": "stderr",
     "output_type": "stream",
     "text": [
      "100%|██████████| 10/10 [00:43<00:00,  4.34s/it]\n"
     ]
    },
    {
     "name": "stdout",
     "output_type": "stream",
     "text": [
      "('Best file pairs are: ', 'non_spikey_T0000834.WAV*non_spikey_T0000835.WAV')\n",
      "Start and end indices around peak:                  start index: 12012320\t\t          end index: 23512320                  total samples:30015488\n",
      "('AV Sync was above threshold: ', 0.8494538764473162)\n",
      "common_fps/Aditya_annotations/2018-08-18/common_fps_video_syncAditya_2018-08-19_0120-0200_48.csv\n",
      "('video_fps obtained is :', 25)\n",
      "Did not find user-provided sample rate - getting it from first file that matches format!\n",
      "('sampling rate is : ', 250000)\n",
      ".....finding best audio segment.....\n"
     ]
    },
    {
     "name": "stderr",
     "output_type": "stream",
     "text": [
      "\r",
      "  0%|          | 0/10 [00:00<?, ?it/s]"
     ]
    },
    {
     "name": "stdout",
     "output_type": "stream",
     "text": [
      "('max mins for upsampled video', -1.0, 0.9929531870912577)\n",
      "('max mins', -0.9959990229971392, 1.0)\n"
     ]
    },
    {
     "name": "stderr",
     "output_type": "stream",
     "text": [
      "\r",
      " 10%|█         | 1/10 [00:04<00:38,  4.30s/it]"
     ]
    },
    {
     "name": "stdout",
     "output_type": "stream",
     "text": [
      "('max mins', -1.0, 0.9780470985687384)\n"
     ]
    },
    {
     "name": "stderr",
     "output_type": "stream",
     "text": [
      "\r",
      " 20%|██        | 2/10 [00:09<00:35,  4.44s/it]"
     ]
    },
    {
     "name": "stdout",
     "output_type": "stream",
     "text": [
      "('max mins', -1.0, 0.977374304381043)\n"
     ]
    },
    {
     "name": "stderr",
     "output_type": "stream",
     "text": [
      "\r",
      " 30%|███       | 3/10 [00:13<00:30,  4.41s/it]"
     ]
    },
    {
     "name": "stdout",
     "output_type": "stream",
     "text": [
      "('max mins', -0.9412727803185628, 1.0)\n"
     ]
    },
    {
     "name": "stderr",
     "output_type": "stream",
     "text": [
      "\r",
      " 40%|████      | 4/10 [00:17<00:26,  4.38s/it]"
     ]
    },
    {
     "name": "stdout",
     "output_type": "stream",
     "text": [
      "('max mins', -0.950052315645415, 1.0)\n"
     ]
    },
    {
     "name": "stderr",
     "output_type": "stream",
     "text": [
      "\r",
      " 50%|█████     | 5/10 [00:22<00:21,  4.36s/it]"
     ]
    },
    {
     "name": "stdout",
     "output_type": "stream",
     "text": [
      "('max mins', -0.9945437506341868, 1.0)\n"
     ]
    },
    {
     "name": "stderr",
     "output_type": "stream",
     "text": [
      "\r",
      " 60%|██████    | 6/10 [00:26<00:17,  4.34s/it]"
     ]
    },
    {
     "name": "stdout",
     "output_type": "stream",
     "text": [
      "('max mins', -0.9367571166681841, 1.0)\n"
     ]
    },
    {
     "name": "stderr",
     "output_type": "stream",
     "text": [
      "\r",
      " 70%|███████   | 7/10 [00:30<00:13,  4.34s/it]"
     ]
    },
    {
     "name": "stdout",
     "output_type": "stream",
     "text": [
      "('max mins', -0.9739639603380102, 1.0)\n"
     ]
    },
    {
     "name": "stderr",
     "output_type": "stream",
     "text": [
      "\r",
      " 80%|████████  | 8/10 [00:34<00:08,  4.33s/it]"
     ]
    },
    {
     "name": "stdout",
     "output_type": "stream",
     "text": [
      "('max mins', -1.0, 0.9531781071652979)\n"
     ]
    },
    {
     "name": "stderr",
     "output_type": "stream",
     "text": [
      "\r",
      " 90%|█████████ | 9/10 [00:39<00:04,  4.33s/it]"
     ]
    },
    {
     "name": "stdout",
     "output_type": "stream",
     "text": [
      "('max mins', -1.0, 0.9859764486805959)\n"
     ]
    },
    {
     "name": "stderr",
     "output_type": "stream",
     "text": [
      "100%|██████████| 10/10 [00:43<00:00,  4.33s/it]\n"
     ]
    },
    {
     "name": "stdout",
     "output_type": "stream",
     "text": [
      "('Best file pairs are: ', 'non_spikey_T0000834.WAV*non_spikey_T0000835.WAV')\n",
      "Start and end indices around peak:                  start index: 14513040\t\t          end index: 26013040                  total samples:30015488\n",
      "('AV Sync was above threshold: ', 0.8552296540744733)\n",
      "common_fps/Aditya_annotations/2018-08-18/common_fps_video_syncAditya_2018-08-19_0120-0200_49.csv\n",
      "('video_fps obtained is :', 25)\n",
      "Did not find user-provided sample rate - getting it from first file that matches format!\n",
      "('sampling rate is : ', 250000)\n",
      ".....finding best audio segment.....\n"
     ]
    },
    {
     "name": "stderr",
     "output_type": "stream",
     "text": [
      "\r",
      "  0%|          | 0/10 [00:00<?, ?it/s]"
     ]
    },
    {
     "name": "stdout",
     "output_type": "stream",
     "text": [
      "('max mins for upsampled video', -1.0, 0.9966447276578456)\n",
      "('max mins', -0.9959990229971392, 1.0)\n"
     ]
    },
    {
     "name": "stderr",
     "output_type": "stream",
     "text": [
      "\r",
      " 10%|█         | 1/10 [00:04<00:38,  4.31s/it]"
     ]
    },
    {
     "name": "stdout",
     "output_type": "stream",
     "text": [
      "('max mins', -1.0, 0.9780470985687384)\n"
     ]
    },
    {
     "name": "stderr",
     "output_type": "stream",
     "text": [
      "\r",
      " 20%|██        | 2/10 [00:09<00:35,  4.48s/it]"
     ]
    },
    {
     "name": "stdout",
     "output_type": "stream",
     "text": [
      "('max mins', -1.0, 0.977374304381043)\n"
     ]
    },
    {
     "name": "stderr",
     "output_type": "stream",
     "text": [
      "\r",
      " 30%|███       | 3/10 [00:13<00:31,  4.57s/it]"
     ]
    },
    {
     "name": "stdout",
     "output_type": "stream",
     "text": [
      "('max mins', -0.9412727803185628, 1.0)\n"
     ]
    },
    {
     "name": "stderr",
     "output_type": "stream",
     "text": [
      "\r",
      " 40%|████      | 4/10 [00:19<00:28,  4.80s/it]"
     ]
    },
    {
     "name": "stdout",
     "output_type": "stream",
     "text": [
      "('max mins', -0.950052315645415, 1.0)\n"
     ]
    },
    {
     "name": "stderr",
     "output_type": "stream",
     "text": [
      "\r",
      " 50%|█████     | 5/10 [00:24<00:24,  4.92s/it]"
     ]
    },
    {
     "name": "stdout",
     "output_type": "stream",
     "text": [
      "('max mins', -0.9945437506341868, 1.0)\n"
     ]
    },
    {
     "name": "stderr",
     "output_type": "stream",
     "text": [
      "\r",
      " 60%|██████    | 6/10 [00:29<00:19,  4.95s/it]"
     ]
    },
    {
     "name": "stdout",
     "output_type": "stream",
     "text": [
      "('max mins', -0.9367571166681841, 1.0)\n"
     ]
    },
    {
     "name": "stderr",
     "output_type": "stream",
     "text": [
      "\r",
      " 70%|███████   | 7/10 [00:34<00:14,  4.82s/it]"
     ]
    },
    {
     "name": "stdout",
     "output_type": "stream",
     "text": [
      "('max mins', -0.9739639603380102, 1.0)\n"
     ]
    },
    {
     "name": "stderr",
     "output_type": "stream",
     "text": [
      "\r",
      " 80%|████████  | 8/10 [00:38<00:09,  4.67s/it]"
     ]
    },
    {
     "name": "stdout",
     "output_type": "stream",
     "text": [
      "('max mins', -1.0, 0.9531781071652979)\n"
     ]
    },
    {
     "name": "stderr",
     "output_type": "stream",
     "text": [
      "\r",
      " 90%|█████████ | 9/10 [00:42<00:04,  4.57s/it]"
     ]
    },
    {
     "name": "stdout",
     "output_type": "stream",
     "text": [
      "('max mins', -1.0, 0.9859764486805959)\n"
     ]
    },
    {
     "name": "stderr",
     "output_type": "stream",
     "text": [
      "100%|██████████| 10/10 [00:47<00:00,  4.50s/it]\n"
     ]
    },
    {
     "name": "stdout",
     "output_type": "stream",
     "text": [
      "('Best file pairs are: ', 'non_spikey_T0000834.WAV*non_spikey_T0000835.WAV')\n",
      "Start and end indices around peak:                  start index: 17512938\t\t          end index: 29012938                  total samples:30015488\n",
      "('AV Sync was above threshold: ', 0.8657333244789819)\n",
      "common_fps/Aditya_annotations/2018-08-18/common_fps_video_syncAditya_2018-08-19_0120-0200_51.csv\n",
      "('video_fps obtained is :', 25)\n",
      "Did not find user-provided sample rate - getting it from first file that matches format!\n",
      "('sampling rate is : ', 250000)\n",
      ".....finding best audio segment.....\n"
     ]
    },
    {
     "name": "stderr",
     "output_type": "stream",
     "text": [
      "\r",
      "  0%|          | 0/10 [00:00<?, ?it/s]"
     ]
    },
    {
     "name": "stdout",
     "output_type": "stream",
     "text": [
      "('max mins for upsampled video', -1.0, 0.9402893048816913)\n",
      "('max mins', -0.9959990229971392, 1.0)\n"
     ]
    },
    {
     "name": "stderr",
     "output_type": "stream",
     "text": [
      "\r",
      " 10%|█         | 1/10 [00:04<00:38,  4.32s/it]"
     ]
    },
    {
     "name": "stdout",
     "output_type": "stream",
     "text": [
      "('max mins', -1.0, 0.9780470985687384)\n"
     ]
    },
    {
     "name": "stderr",
     "output_type": "stream",
     "text": [
      "\r",
      " 20%|██        | 2/10 [00:08<00:34,  4.33s/it]"
     ]
    },
    {
     "name": "stdout",
     "output_type": "stream",
     "text": [
      "('max mins', -1.0, 0.977374304381043)\n"
     ]
    },
    {
     "name": "stderr",
     "output_type": "stream",
     "text": [
      "\r",
      " 30%|███       | 3/10 [00:12<00:30,  4.33s/it]"
     ]
    },
    {
     "name": "stdout",
     "output_type": "stream",
     "text": [
      "('max mins', -0.9412727803185628, 1.0)\n"
     ]
    },
    {
     "name": "stderr",
     "output_type": "stream",
     "text": [
      "\r",
      " 40%|████      | 4/10 [00:17<00:25,  4.33s/it]"
     ]
    },
    {
     "name": "stdout",
     "output_type": "stream",
     "text": [
      "('max mins', -0.950052315645415, 1.0)\n"
     ]
    },
    {
     "name": "stderr",
     "output_type": "stream",
     "text": [
      "\r",
      " 50%|█████     | 5/10 [00:21<00:21,  4.33s/it]"
     ]
    },
    {
     "name": "stdout",
     "output_type": "stream",
     "text": [
      "('max mins', -0.9945437506341868, 1.0)\n"
     ]
    },
    {
     "name": "stderr",
     "output_type": "stream",
     "text": [
      "\r",
      " 60%|██████    | 6/10 [00:25<00:17,  4.33s/it]"
     ]
    },
    {
     "name": "stdout",
     "output_type": "stream",
     "text": [
      "('max mins', -0.9367571166681841, 1.0)\n"
     ]
    },
    {
     "name": "stderr",
     "output_type": "stream",
     "text": [
      "\r",
      " 70%|███████   | 7/10 [00:30<00:13,  4.49s/it]"
     ]
    },
    {
     "name": "stdout",
     "output_type": "stream",
     "text": [
      "('max mins', -0.9739639603380102, 1.0)\n"
     ]
    },
    {
     "name": "stderr",
     "output_type": "stream",
     "text": [
      "\r",
      " 80%|████████  | 8/10 [00:35<00:09,  4.57s/it]"
     ]
    },
    {
     "name": "stdout",
     "output_type": "stream",
     "text": [
      "('max mins', -1.0, 0.9531781071652979)\n"
     ]
    },
    {
     "name": "stderr",
     "output_type": "stream",
     "text": [
      "\r",
      " 90%|█████████ | 9/10 [00:40<00:04,  4.61s/it]"
     ]
    },
    {
     "name": "stdout",
     "output_type": "stream",
     "text": [
      "('max mins', -1.0, 0.9859764486805959)\n"
     ]
    },
    {
     "name": "stderr",
     "output_type": "stream",
     "text": [
      "100%|██████████| 10/10 [00:44<00:00,  4.52s/it]\n"
     ]
    },
    {
     "name": "stdout",
     "output_type": "stream",
     "text": [
      "('Best file pairs are: ', 'non_spikey_T0000835.WAV*non_spikey_T0000836.WAV')\n",
      "Start and end indices around peak:                  start index: 4505194\t\t          end index: 16005194                  total samples:30015488\n",
      "('AV Sync was above threshold: ', 0.8571309563143708)\n",
      "common_fps/Aditya_annotations/2018-08-18/common_fps_video_syncAditya_2018-08-19_0120-0200_52.csv\n",
      "('video_fps obtained is :', 25)\n",
      "Did not find user-provided sample rate - getting it from first file that matches format!\n",
      "('sampling rate is : ', 250000)\n",
      ".....finding best audio segment.....\n"
     ]
    },
    {
     "name": "stderr",
     "output_type": "stream",
     "text": [
      "\r",
      "  0%|          | 0/10 [00:00<?, ?it/s]"
     ]
    },
    {
     "name": "stdout",
     "output_type": "stream",
     "text": [
      "('max mins for upsampled video', -1.0, 0.9411032593058333)\n",
      "('max mins', -0.9959990229971392, 1.0)\n"
     ]
    },
    {
     "name": "stderr",
     "output_type": "stream",
     "text": [
      "\r",
      " 10%|█         | 1/10 [00:04<00:38,  4.30s/it]"
     ]
    },
    {
     "name": "stdout",
     "output_type": "stream",
     "text": [
      "('max mins', -1.0, 0.9780470985687384)\n"
     ]
    },
    {
     "name": "stderr",
     "output_type": "stream",
     "text": [
      "\r",
      " 20%|██        | 2/10 [00:08<00:34,  4.31s/it]"
     ]
    },
    {
     "name": "stdout",
     "output_type": "stream",
     "text": [
      "('max mins', -1.0, 0.977374304381043)\n"
     ]
    },
    {
     "name": "stderr",
     "output_type": "stream",
     "text": [
      "\r",
      " 30%|███       | 3/10 [00:12<00:30,  4.32s/it]"
     ]
    },
    {
     "name": "stdout",
     "output_type": "stream",
     "text": [
      "('max mins', -0.9412727803185628, 1.0)\n"
     ]
    },
    {
     "name": "stderr",
     "output_type": "stream",
     "text": [
      "\r",
      " 40%|████      | 4/10 [00:17<00:25,  4.33s/it]"
     ]
    },
    {
     "name": "stdout",
     "output_type": "stream",
     "text": [
      "('max mins', -0.950052315645415, 1.0)\n"
     ]
    },
    {
     "name": "stderr",
     "output_type": "stream",
     "text": [
      "\r",
      " 50%|█████     | 5/10 [00:21<00:21,  4.32s/it]"
     ]
    },
    {
     "name": "stdout",
     "output_type": "stream",
     "text": [
      "('max mins', -0.9945437506341868, 1.0)\n"
     ]
    },
    {
     "name": "stderr",
     "output_type": "stream",
     "text": [
      "\r",
      " 60%|██████    | 6/10 [00:25<00:17,  4.33s/it]"
     ]
    },
    {
     "name": "stdout",
     "output_type": "stream",
     "text": [
      "('max mins', -0.9367571166681841, 1.0)\n"
     ]
    },
    {
     "name": "stderr",
     "output_type": "stream",
     "text": [
      "\r",
      " 70%|███████   | 7/10 [00:30<00:12,  4.33s/it]"
     ]
    },
    {
     "name": "stdout",
     "output_type": "stream",
     "text": [
      "('max mins', -0.9739639603380102, 1.0)\n"
     ]
    },
    {
     "name": "stderr",
     "output_type": "stream",
     "text": [
      "\r",
      " 80%|████████  | 8/10 [00:34<00:08,  4.33s/it]"
     ]
    },
    {
     "name": "stdout",
     "output_type": "stream",
     "text": [
      "('max mins', -1.0, 0.9531781071652979)\n"
     ]
    },
    {
     "name": "stderr",
     "output_type": "stream",
     "text": [
      "\r",
      " 90%|█████████ | 9/10 [00:38<00:04,  4.33s/it]"
     ]
    },
    {
     "name": "stdout",
     "output_type": "stream",
     "text": [
      "('max mins', -1.0, 0.9859764486805959)\n"
     ]
    },
    {
     "name": "stderr",
     "output_type": "stream",
     "text": [
      "100%|██████████| 10/10 [00:43<00:00,  4.33s/it]\n"
     ]
    },
    {
     "name": "stdout",
     "output_type": "stream",
     "text": [
      "('Best file pairs are: ', 'non_spikey_T0000835.WAV*non_spikey_T0000836.WAV')\n",
      "Start and end indices around peak:                  start index: 4755194\t\t          end index: 16255194                  total samples:30015488\n",
      "('AV Sync was above threshold: ', 0.8586456145189298)\n",
      "common_fps/Aditya_annotations/2018-08-18/common_fps_video_syncAditya_2018-08-19_0120-0200_53.csv\n",
      "('video_fps obtained is :', 25)\n",
      "Did not find user-provided sample rate - getting it from first file that matches format!\n",
      "('sampling rate is : ', 250000)\n",
      ".....finding best audio segment.....\n"
     ]
    },
    {
     "name": "stderr",
     "output_type": "stream",
     "text": [
      "\r",
      "  0%|          | 0/10 [00:00<?, ?it/s]"
     ]
    },
    {
     "name": "stdout",
     "output_type": "stream",
     "text": [
      "('max mins for upsampled video', -0.9951956524759411, 1.0)\n",
      "('max mins', -0.9959990229971392, 1.0)\n"
     ]
    },
    {
     "name": "stderr",
     "output_type": "stream",
     "text": [
      "\r",
      " 10%|█         | 1/10 [00:04<00:39,  4.34s/it]"
     ]
    },
    {
     "name": "stdout",
     "output_type": "stream",
     "text": [
      "('max mins', -1.0, 0.9780470985687384)\n"
     ]
    },
    {
     "name": "stderr",
     "output_type": "stream",
     "text": [
      "\r",
      " 20%|██        | 2/10 [00:08<00:34,  4.35s/it]"
     ]
    },
    {
     "name": "stdout",
     "output_type": "stream",
     "text": [
      "('max mins', -1.0, 0.977374304381043)\n"
     ]
    },
    {
     "name": "stderr",
     "output_type": "stream",
     "text": [
      "\r",
      " 30%|███       | 3/10 [00:13<00:30,  4.35s/it]"
     ]
    },
    {
     "name": "stdout",
     "output_type": "stream",
     "text": [
      "('max mins', -0.9412727803185628, 1.0)\n"
     ]
    },
    {
     "name": "stderr",
     "output_type": "stream",
     "text": [
      "\r",
      " 40%|████      | 4/10 [00:17<00:26,  4.34s/it]"
     ]
    },
    {
     "name": "stdout",
     "output_type": "stream",
     "text": [
      "('max mins', -0.950052315645415, 1.0)\n"
     ]
    },
    {
     "name": "stderr",
     "output_type": "stream",
     "text": [
      "\r",
      " 50%|█████     | 5/10 [00:21<00:21,  4.34s/it]"
     ]
    },
    {
     "name": "stdout",
     "output_type": "stream",
     "text": [
      "('max mins', -0.9945437506341868, 1.0)\n"
     ]
    },
    {
     "name": "stderr",
     "output_type": "stream",
     "text": [
      "\r",
      " 60%|██████    | 6/10 [00:26<00:17,  4.34s/it]"
     ]
    },
    {
     "name": "stdout",
     "output_type": "stream",
     "text": [
      "('max mins', -0.9367571166681841, 1.0)\n"
     ]
    },
    {
     "name": "stderr",
     "output_type": "stream",
     "text": [
      "\r",
      " 70%|███████   | 7/10 [00:30<00:13,  4.34s/it]"
     ]
    },
    {
     "name": "stdout",
     "output_type": "stream",
     "text": [
      "('max mins', -0.9739639603380102, 1.0)\n"
     ]
    },
    {
     "name": "stderr",
     "output_type": "stream",
     "text": [
      "\r",
      " 80%|████████  | 8/10 [00:34<00:08,  4.34s/it]"
     ]
    },
    {
     "name": "stdout",
     "output_type": "stream",
     "text": [
      "('max mins', -1.0, 0.9531781071652979)\n"
     ]
    },
    {
     "name": "stderr",
     "output_type": "stream",
     "text": [
      "\r",
      " 90%|█████████ | 9/10 [00:39<00:04,  4.34s/it]"
     ]
    },
    {
     "name": "stdout",
     "output_type": "stream",
     "text": [
      "('max mins', -1.0, 0.9859764486805959)\n"
     ]
    },
    {
     "name": "stderr",
     "output_type": "stream",
     "text": [
      "100%|██████████| 10/10 [00:43<00:00,  4.34s/it]\n"
     ]
    },
    {
     "name": "stdout",
     "output_type": "stream",
     "text": [
      "('Best file pairs are: ', 'non_spikey_T0000835.WAV*non_spikey_T0000836.WAV')\n",
      "Start and end indices around peak:                  start index: 7505968\t\t          end index: 19005968                  total samples:30015488\n",
      "('AV Sync was above threshold: ', 0.8645300973771682)\n",
      "common_fps/Aditya_annotations/2018-08-18/common_fps_video_syncAditya_2018-08-19_0120-0200_54.csv\n",
      "('video_fps obtained is :', 25)\n",
      "Did not find user-provided sample rate - getting it from first file that matches format!\n",
      "('sampling rate is : ', 250000)\n",
      ".....finding best audio segment.....\n"
     ]
    },
    {
     "name": "stderr",
     "output_type": "stream",
     "text": [
      "\r",
      "  0%|          | 0/10 [00:00<?, ?it/s]"
     ]
    },
    {
     "name": "stdout",
     "output_type": "stream",
     "text": [
      "('max mins for upsampled video', -0.981825485843691, 1.0)\n",
      "('max mins', -0.9959990229971392, 1.0)\n"
     ]
    },
    {
     "name": "stderr",
     "output_type": "stream",
     "text": [
      "\r",
      " 10%|█         | 1/10 [00:04<00:39,  4.35s/it]"
     ]
    },
    {
     "name": "stdout",
     "output_type": "stream",
     "text": [
      "('max mins', -1.0, 0.9780470985687384)\n"
     ]
    },
    {
     "name": "stderr",
     "output_type": "stream",
     "text": [
      "\r",
      " 20%|██        | 2/10 [00:09<00:36,  4.55s/it]"
     ]
    },
    {
     "name": "stdout",
     "output_type": "stream",
     "text": [
      "('max mins', -1.0, 0.977374304381043)\n"
     ]
    },
    {
     "name": "stderr",
     "output_type": "stream",
     "text": [
      "\r",
      " 30%|███       | 3/10 [00:13<00:31,  4.50s/it]"
     ]
    },
    {
     "name": "stdout",
     "output_type": "stream",
     "text": [
      "('max mins', -0.9412727803185628, 1.0)\n"
     ]
    },
    {
     "name": "stderr",
     "output_type": "stream",
     "text": [
      "\r",
      " 40%|████      | 4/10 [00:18<00:26,  4.45s/it]"
     ]
    },
    {
     "name": "stdout",
     "output_type": "stream",
     "text": [
      "('max mins', -0.950052315645415, 1.0)\n"
     ]
    },
    {
     "name": "stderr",
     "output_type": "stream",
     "text": [
      "\r",
      " 50%|█████     | 5/10 [00:22<00:22,  4.42s/it]"
     ]
    },
    {
     "name": "stdout",
     "output_type": "stream",
     "text": [
      "('max mins', -0.9945437506341868, 1.0)\n"
     ]
    },
    {
     "name": "stderr",
     "output_type": "stream",
     "text": [
      "\r",
      " 60%|██████    | 6/10 [00:26<00:17,  4.40s/it]"
     ]
    },
    {
     "name": "stdout",
     "output_type": "stream",
     "text": [
      "('max mins', -0.9367571166681841, 1.0)\n"
     ]
    },
    {
     "name": "stderr",
     "output_type": "stream",
     "text": [
      "\r",
      " 70%|███████   | 7/10 [00:31<00:13,  4.39s/it]"
     ]
    },
    {
     "name": "stdout",
     "output_type": "stream",
     "text": [
      "('max mins', -0.9739639603380102, 1.0)\n"
     ]
    },
    {
     "name": "stderr",
     "output_type": "stream",
     "text": [
      "\r",
      " 80%|████████  | 8/10 [00:35<00:08,  4.38s/it]"
     ]
    },
    {
     "name": "stdout",
     "output_type": "stream",
     "text": [
      "('max mins', -1.0, 0.9531781071652979)\n"
     ]
    },
    {
     "name": "stderr",
     "output_type": "stream",
     "text": [
      "\r",
      " 90%|█████████ | 9/10 [00:39<00:04,  4.37s/it]"
     ]
    },
    {
     "name": "stdout",
     "output_type": "stream",
     "text": [
      "('max mins', -1.0, 0.9859764486805959)\n"
     ]
    },
    {
     "name": "stderr",
     "output_type": "stream",
     "text": [
      "100%|██████████| 10/10 [00:44<00:00,  4.36s/it]\n"
     ]
    },
    {
     "name": "stdout",
     "output_type": "stream",
     "text": [
      "('Best file pairs are: ', 'non_spikey_T0000836.WAV*non_spikey_T0000837.WAV')\n",
      "Start and end indices around peak:                  start index: 5748881\t\t          end index: 17248881                  total samples:30015488\n",
      "('AV Sync was above threshold: ', 0.8687176563206981)\n",
      "common_fps/Aditya_annotations/2018-08-18/common_fps_video_syncAditya_2018-08-19_0120-0200_57.csv\n",
      "('video_fps obtained is :', 25)\n",
      "Did not find user-provided sample rate - getting it from first file that matches format!\n",
      "('sampling rate is : ', 250000)\n",
      ".....finding best audio segment.....\n"
     ]
    },
    {
     "name": "stderr",
     "output_type": "stream",
     "text": [
      "\r",
      "  0%|          | 0/10 [00:00<?, ?it/s]"
     ]
    },
    {
     "name": "stdout",
     "output_type": "stream",
     "text": [
      "('max mins for upsampled video', -1.0, 0.8914710558693348)\n",
      "('max mins', -0.9959990229971392, 1.0)\n"
     ]
    },
    {
     "name": "stderr",
     "output_type": "stream",
     "text": [
      "\r",
      " 10%|█         | 1/10 [00:04<00:38,  4.33s/it]"
     ]
    },
    {
     "name": "stdout",
     "output_type": "stream",
     "text": [
      "('max mins', -1.0, 0.9780470985687384)\n"
     ]
    },
    {
     "name": "stderr",
     "output_type": "stream",
     "text": [
      "\r",
      " 20%|██        | 2/10 [00:08<00:34,  4.34s/it]"
     ]
    },
    {
     "name": "stdout",
     "output_type": "stream",
     "text": [
      "('max mins', -1.0, 0.977374304381043)\n"
     ]
    },
    {
     "name": "stderr",
     "output_type": "stream",
     "text": [
      "\r",
      " 30%|███       | 3/10 [00:13<00:30,  4.35s/it]"
     ]
    },
    {
     "name": "stdout",
     "output_type": "stream",
     "text": [
      "('max mins', -0.9412727803185628, 1.0)\n"
     ]
    },
    {
     "name": "stderr",
     "output_type": "stream",
     "text": [
      "\r",
      " 40%|████      | 4/10 [00:17<00:26,  4.34s/it]"
     ]
    },
    {
     "name": "stdout",
     "output_type": "stream",
     "text": [
      "('max mins', -0.950052315645415, 1.0)\n"
     ]
    },
    {
     "name": "stderr",
     "output_type": "stream",
     "text": [
      "\r",
      " 50%|█████     | 5/10 [00:21<00:21,  4.34s/it]"
     ]
    },
    {
     "name": "stdout",
     "output_type": "stream",
     "text": [
      "('max mins', -0.9945437506341868, 1.0)\n"
     ]
    },
    {
     "name": "stderr",
     "output_type": "stream",
     "text": [
      "\r",
      " 60%|██████    | 6/10 [00:26<00:17,  4.34s/it]"
     ]
    },
    {
     "name": "stdout",
     "output_type": "stream",
     "text": [
      "('max mins', -0.9367571166681841, 1.0)\n"
     ]
    },
    {
     "name": "stderr",
     "output_type": "stream",
     "text": [
      "\r",
      " 70%|███████   | 7/10 [00:30<00:13,  4.34s/it]"
     ]
    },
    {
     "name": "stdout",
     "output_type": "stream",
     "text": [
      "('max mins', -0.9739639603380102, 1.0)\n"
     ]
    },
    {
     "name": "stderr",
     "output_type": "stream",
     "text": [
      "\r",
      " 80%|████████  | 8/10 [00:34<00:08,  4.34s/it]"
     ]
    },
    {
     "name": "stdout",
     "output_type": "stream",
     "text": [
      "('max mins', -1.0, 0.9531781071652979)\n"
     ]
    },
    {
     "name": "stderr",
     "output_type": "stream",
     "text": [
      "\r",
      " 90%|█████████ | 9/10 [00:39<00:04,  4.33s/it]"
     ]
    },
    {
     "name": "stdout",
     "output_type": "stream",
     "text": [
      "('max mins', -1.0, 0.9859764486805959)\n"
     ]
    },
    {
     "name": "stderr",
     "output_type": "stream",
     "text": [
      "100%|██████████| 10/10 [00:43<00:00,  4.34s/it]\n"
     ]
    },
    {
     "name": "stdout",
     "output_type": "stream",
     "text": [
      "('Best file pairs are: ', 'non_spikey_T0000836.WAV*non_spikey_T0000837.WAV')\n",
      "Start and end indices around peak:                  start index: 18499408\t\t          end index: 29999408                  total samples:30015488\n",
      "('AV Sync was above threshold: ', 0.8592951174918411)\n",
      "common_fps/Aditya_annotations/2018-08-18/common_fps_video_syncAditya_2018-08-19_0120-0200_59.csv\n",
      "('video_fps obtained is :', 25)\n",
      "Did not find user-provided sample rate - getting it from first file that matches format!\n",
      "('sampling rate is : ', 250000)\n",
      ".....finding best audio segment.....\n"
     ]
    },
    {
     "name": "stderr",
     "output_type": "stream",
     "text": [
      "\r",
      "  0%|          | 0/10 [00:00<?, ?it/s]"
     ]
    },
    {
     "name": "stdout",
     "output_type": "stream",
     "text": [
      "('max mins for upsampled video', -0.91493496529696, 1.0)\n",
      "('max mins', -0.9959990229971392, 1.0)\n"
     ]
    },
    {
     "name": "stderr",
     "output_type": "stream",
     "text": [
      "\r",
      " 10%|█         | 1/10 [00:04<00:39,  4.39s/it]"
     ]
    },
    {
     "name": "stdout",
     "output_type": "stream",
     "text": [
      "('max mins', -1.0, 0.9780470985687384)\n"
     ]
    },
    {
     "name": "stderr",
     "output_type": "stream",
     "text": [
      "\r",
      " 20%|██        | 2/10 [00:08<00:35,  4.40s/it]"
     ]
    },
    {
     "name": "stdout",
     "output_type": "stream",
     "text": [
      "('max mins', -1.0, 0.977374304381043)\n"
     ]
    },
    {
     "name": "stderr",
     "output_type": "stream",
     "text": [
      "\r",
      " 30%|███       | 3/10 [00:13<00:30,  4.40s/it]"
     ]
    },
    {
     "name": "stdout",
     "output_type": "stream",
     "text": [
      "('max mins', -0.9412727803185628, 1.0)\n"
     ]
    },
    {
     "name": "stderr",
     "output_type": "stream",
     "text": [
      "\r",
      " 40%|████      | 4/10 [00:17<00:26,  4.39s/it]"
     ]
    },
    {
     "name": "stdout",
     "output_type": "stream",
     "text": [
      "('max mins', -0.950052315645415, 1.0)\n"
     ]
    },
    {
     "name": "stderr",
     "output_type": "stream",
     "text": [
      "\r",
      " 50%|█████     | 5/10 [00:21<00:21,  4.38s/it]"
     ]
    },
    {
     "name": "stdout",
     "output_type": "stream",
     "text": [
      "('max mins', -0.9945437506341868, 1.0)\n"
     ]
    },
    {
     "name": "stderr",
     "output_type": "stream",
     "text": [
      "\r",
      " 60%|██████    | 6/10 [00:26<00:17,  4.38s/it]"
     ]
    },
    {
     "name": "stdout",
     "output_type": "stream",
     "text": [
      "('max mins', -0.9367571166681841, 1.0)\n"
     ]
    },
    {
     "name": "stderr",
     "output_type": "stream",
     "text": [
      "\r",
      " 70%|███████   | 7/10 [00:30<00:13,  4.38s/it]"
     ]
    },
    {
     "name": "stdout",
     "output_type": "stream",
     "text": [
      "('max mins', -0.9739639603380102, 1.0)\n"
     ]
    },
    {
     "name": "stderr",
     "output_type": "stream",
     "text": [
      "\r",
      " 80%|████████  | 8/10 [00:35<00:09,  4.55s/it]"
     ]
    },
    {
     "name": "stdout",
     "output_type": "stream",
     "text": [
      "('max mins', -1.0, 0.9531781071652979)\n"
     ]
    },
    {
     "name": "stderr",
     "output_type": "stream",
     "text": [
      "\r",
      " 90%|█████████ | 9/10 [00:40<00:04,  4.50s/it]"
     ]
    },
    {
     "name": "stdout",
     "output_type": "stream",
     "text": [
      "('max mins', -1.0, 0.9859764486805959)\n"
     ]
    },
    {
     "name": "stderr",
     "output_type": "stream",
     "text": [
      "100%|██████████| 10/10 [00:44<00:00,  4.46s/it]\n"
     ]
    },
    {
     "name": "stdout",
     "output_type": "stream",
     "text": [
      "('Best file pairs are: ', 'non_spikey_T0000838.WAV*non_spikey_T0000839.WAV')\n",
      "Start and end indices around peak:                  start index: 2482196\t\t          end index: 13982196                  total samples:30015488\n",
      "('AV Sync was above threshold: ', 0.8812404461047278)\n",
      "common_fps/Aditya_annotations/2018-08-18/common_fps_video_syncAditya_2018-08-19_0120-0200_60.csv\n",
      "('video_fps obtained is :', 25)\n",
      "Did not find user-provided sample rate - getting it from first file that matches format!\n",
      "('sampling rate is : ', 250000)\n",
      ".....finding best audio segment.....\n"
     ]
    },
    {
     "name": "stderr",
     "output_type": "stream",
     "text": [
      "\r",
      "  0%|          | 0/10 [00:00<?, ?it/s]"
     ]
    },
    {
     "name": "stdout",
     "output_type": "stream",
     "text": [
      "('max mins for upsampled video', -0.900806844621512, 1.0)\n",
      "('max mins', -0.9959990229971392, 1.0)\n"
     ]
    },
    {
     "name": "stderr",
     "output_type": "stream",
     "text": [
      "\r",
      " 10%|█         | 1/10 [00:04<00:39,  4.39s/it]"
     ]
    },
    {
     "name": "stdout",
     "output_type": "stream",
     "text": [
      "('max mins', -1.0, 0.9780470985687384)\n"
     ]
    },
    {
     "name": "stderr",
     "output_type": "stream",
     "text": [
      "\r",
      " 20%|██        | 2/10 [00:08<00:35,  4.40s/it]"
     ]
    },
    {
     "name": "stdout",
     "output_type": "stream",
     "text": [
      "('max mins', -1.0, 0.977374304381043)\n"
     ]
    },
    {
     "name": "stderr",
     "output_type": "stream",
     "text": [
      "\r",
      " 30%|███       | 3/10 [00:13<00:30,  4.40s/it]"
     ]
    },
    {
     "name": "stdout",
     "output_type": "stream",
     "text": [
      "('max mins', -0.9412727803185628, 1.0)\n"
     ]
    },
    {
     "name": "stderr",
     "output_type": "stream",
     "text": [
      "\r",
      " 40%|████      | 4/10 [00:17<00:26,  4.39s/it]"
     ]
    },
    {
     "name": "stdout",
     "output_type": "stream",
     "text": [
      "('max mins', -0.950052315645415, 1.0)\n"
     ]
    },
    {
     "name": "stderr",
     "output_type": "stream",
     "text": [
      "\r",
      " 50%|█████     | 5/10 [00:21<00:21,  4.39s/it]"
     ]
    },
    {
     "name": "stdout",
     "output_type": "stream",
     "text": [
      "('max mins', -0.9945437506341868, 1.0)\n"
     ]
    },
    {
     "name": "stderr",
     "output_type": "stream",
     "text": [
      "\r",
      " 60%|██████    | 6/10 [00:26<00:17,  4.39s/it]"
     ]
    },
    {
     "name": "stdout",
     "output_type": "stream",
     "text": [
      "('max mins', -0.9367571166681841, 1.0)\n"
     ]
    },
    {
     "name": "stderr",
     "output_type": "stream",
     "text": [
      "\r",
      " 70%|███████   | 7/10 [00:30<00:13,  4.39s/it]"
     ]
    },
    {
     "name": "stdout",
     "output_type": "stream",
     "text": [
      "('max mins', -0.9739639603380102, 1.0)\n"
     ]
    },
    {
     "name": "stderr",
     "output_type": "stream",
     "text": [
      "\r",
      " 80%|████████  | 8/10 [00:35<00:08,  4.39s/it]"
     ]
    },
    {
     "name": "stdout",
     "output_type": "stream",
     "text": [
      "('max mins', -1.0, 0.9531781071652979)\n"
     ]
    },
    {
     "name": "stderr",
     "output_type": "stream",
     "text": [
      "\r",
      " 90%|█████████ | 9/10 [00:39<00:04,  4.38s/it]"
     ]
    },
    {
     "name": "stdout",
     "output_type": "stream",
     "text": [
      "('max mins', -1.0, 0.9859764486805959)\n"
     ]
    },
    {
     "name": "stderr",
     "output_type": "stream",
     "text": [
      "100%|██████████| 10/10 [00:43<00:00,  4.38s/it]\n"
     ]
    },
    {
     "name": "stdout",
     "output_type": "stream",
     "text": [
      "('Best file pairs are: ', 'non_spikey_T0000838.WAV*non_spikey_T0000839.WAV')\n",
      "Start and end indices around peak:                  start index: 5232850\t\t          end index: 16732850                  total samples:30015488\n",
      "('AV Sync was above threshold: ', 0.8787634807334215)\n",
      "common_fps/Aditya_annotations/2018-08-18/common_fps_video_syncAditya_2018-08-19_0120-0200_62.csv\n",
      "('video_fps obtained is :', 25)\n",
      "Did not find user-provided sample rate - getting it from first file that matches format!\n",
      "('sampling rate is : ', 250000)\n",
      ".....finding best audio segment.....\n"
     ]
    },
    {
     "name": "stderr",
     "output_type": "stream",
     "text": [
      "\r",
      "  0%|          | 0/10 [00:00<?, ?it/s]"
     ]
    },
    {
     "name": "stdout",
     "output_type": "stream",
     "text": [
      "('max mins for upsampled video', -0.9490890575277406, 1.0)\n",
      "('max mins', -0.9959990229971392, 1.0)\n"
     ]
    },
    {
     "name": "stderr",
     "output_type": "stream",
     "text": [
      "\r",
      " 10%|█         | 1/10 [00:04<00:39,  4.38s/it]"
     ]
    },
    {
     "name": "stdout",
     "output_type": "stream",
     "text": [
      "('max mins', -1.0, 0.9780470985687384)\n"
     ]
    },
    {
     "name": "stderr",
     "output_type": "stream",
     "text": [
      "\r",
      " 20%|██        | 2/10 [00:08<00:35,  4.38s/it]"
     ]
    },
    {
     "name": "stdout",
     "output_type": "stream",
     "text": [
      "('max mins', -1.0, 0.977374304381043)\n"
     ]
    },
    {
     "name": "stderr",
     "output_type": "stream",
     "text": [
      "\r",
      " 30%|███       | 3/10 [00:13<00:30,  4.39s/it]"
     ]
    },
    {
     "name": "stdout",
     "output_type": "stream",
     "text": [
      "('max mins', -0.9412727803185628, 1.0)\n"
     ]
    },
    {
     "name": "stderr",
     "output_type": "stream",
     "text": [
      "\r",
      " 40%|████      | 4/10 [00:17<00:26,  4.42s/it]"
     ]
    },
    {
     "name": "stdout",
     "output_type": "stream",
     "text": [
      "('max mins', -0.950052315645415, 1.0)\n"
     ]
    },
    {
     "name": "stderr",
     "output_type": "stream",
     "text": [
      "\r",
      " 50%|█████     | 5/10 [00:22<00:22,  4.41s/it]"
     ]
    },
    {
     "name": "stdout",
     "output_type": "stream",
     "text": [
      "('max mins', -0.9945437506341868, 1.0)\n"
     ]
    },
    {
     "name": "stderr",
     "output_type": "stream",
     "text": [
      "\r",
      " 60%|██████    | 6/10 [00:26<00:17,  4.40s/it]"
     ]
    },
    {
     "name": "stdout",
     "output_type": "stream",
     "text": [
      "('max mins', -0.9367571166681841, 1.0)\n"
     ]
    },
    {
     "name": "stderr",
     "output_type": "stream",
     "text": [
      "\r",
      " 70%|███████   | 7/10 [00:30<00:13,  4.39s/it]"
     ]
    },
    {
     "name": "stdout",
     "output_type": "stream",
     "text": [
      "('max mins', -0.9739639603380102, 1.0)\n"
     ]
    },
    {
     "name": "stderr",
     "output_type": "stream",
     "text": [
      "\r",
      " 80%|████████  | 8/10 [00:35<00:08,  4.38s/it]"
     ]
    },
    {
     "name": "stdout",
     "output_type": "stream",
     "text": [
      "('max mins', -1.0, 0.9531781071652979)\n"
     ]
    },
    {
     "name": "stderr",
     "output_type": "stream",
     "text": [
      "\r",
      " 90%|█████████ | 9/10 [00:39<00:04,  4.38s/it]"
     ]
    },
    {
     "name": "stdout",
     "output_type": "stream",
     "text": [
      "('max mins', -1.0, 0.9859764486805959)\n"
     ]
    },
    {
     "name": "stderr",
     "output_type": "stream",
     "text": [
      "100%|██████████| 10/10 [00:43<00:00,  4.38s/it]\n"
     ]
    },
    {
     "name": "stdout",
     "output_type": "stream",
     "text": [
      "('Best file pairs are: ', 'non_spikey_T0000838.WAV*non_spikey_T0000839.WAV')\n",
      "Start and end indices around peak:                  start index: 10232788\t\t          end index: 21732788                  total samples:30015488\n",
      "('AV Sync was above threshold: ', 0.876261107105647)\n",
      "common_fps/Aditya_annotations/2018-08-18/common_fps_video_syncAditya_2018-08-19_0120-0200_63.csv\n",
      "('video_fps obtained is :', 25)\n",
      "Did not find user-provided sample rate - getting it from first file that matches format!\n",
      "('sampling rate is : ', 250000)\n",
      ".....finding best audio segment.....\n"
     ]
    },
    {
     "name": "stderr",
     "output_type": "stream",
     "text": [
      "\r",
      "  0%|          | 0/10 [00:00<?, ?it/s]"
     ]
    },
    {
     "name": "stdout",
     "output_type": "stream",
     "text": [
      "('max mins for upsampled video', -0.9901450971224854, 1.0)\n",
      "('max mins', -0.9959990229971392, 1.0)\n"
     ]
    },
    {
     "name": "stderr",
     "output_type": "stream",
     "text": [
      "\r",
      " 10%|█         | 1/10 [00:04<00:39,  4.42s/it]"
     ]
    },
    {
     "name": "stdout",
     "output_type": "stream",
     "text": [
      "('max mins', -1.0, 0.9780470985687384)\n"
     ]
    },
    {
     "name": "stderr",
     "output_type": "stream",
     "text": [
      "\r",
      " 20%|██        | 2/10 [00:08<00:35,  4.42s/it]"
     ]
    },
    {
     "name": "stdout",
     "output_type": "stream",
     "text": [
      "('max mins', -1.0, 0.977374304381043)\n"
     ]
    },
    {
     "name": "stderr",
     "output_type": "stream",
     "text": [
      "\r",
      " 30%|███       | 3/10 [00:13<00:31,  4.54s/it]"
     ]
    },
    {
     "name": "stdout",
     "output_type": "stream",
     "text": [
      "('max mins', -0.9412727803185628, 1.0)\n"
     ]
    },
    {
     "name": "stderr",
     "output_type": "stream",
     "text": [
      "\r",
      " 40%|████      | 4/10 [00:18<00:26,  4.49s/it]"
     ]
    },
    {
     "name": "stdout",
     "output_type": "stream",
     "text": [
      "('max mins', -0.950052315645415, 1.0)\n"
     ]
    },
    {
     "name": "stderr",
     "output_type": "stream",
     "text": [
      "\r",
      " 50%|█████     | 5/10 [00:22<00:22,  4.45s/it]"
     ]
    },
    {
     "name": "stdout",
     "output_type": "stream",
     "text": [
      "('max mins', -0.9945437506341868, 1.0)\n"
     ]
    },
    {
     "name": "stderr",
     "output_type": "stream",
     "text": [
      "\r",
      " 60%|██████    | 6/10 [00:26<00:17,  4.43s/it]"
     ]
    },
    {
     "name": "stdout",
     "output_type": "stream",
     "text": [
      "('max mins', -0.9367571166681841, 1.0)\n"
     ]
    },
    {
     "name": "stderr",
     "output_type": "stream",
     "text": [
      "\r",
      " 70%|███████   | 7/10 [00:31<00:13,  4.41s/it]"
     ]
    },
    {
     "name": "stdout",
     "output_type": "stream",
     "text": [
      "('max mins', -0.9739639603380102, 1.0)\n"
     ]
    },
    {
     "name": "stderr",
     "output_type": "stream",
     "text": [
      "\r",
      " 80%|████████  | 8/10 [00:35<00:08,  4.40s/it]"
     ]
    },
    {
     "name": "stdout",
     "output_type": "stream",
     "text": [
      "('max mins', -1.0, 0.9531781071652979)\n"
     ]
    },
    {
     "name": "stderr",
     "output_type": "stream",
     "text": [
      "\r",
      " 90%|█████████ | 9/10 [00:40<00:04,  4.62s/it]"
     ]
    },
    {
     "name": "stdout",
     "output_type": "stream",
     "text": [
      "('max mins', -1.0, 0.9859764486805959)\n"
     ]
    },
    {
     "name": "stderr",
     "output_type": "stream",
     "text": [
      "100%|██████████| 10/10 [00:46<00:00,  4.87s/it]\n"
     ]
    },
    {
     "name": "stdout",
     "output_type": "stream",
     "text": [
      "('Best file pairs are: ', 'non_spikey_T0000839.WAV*non_spikey_T0000840.WAV')\n",
      "Start and end indices around peak:                  start index: 13725036\t\t          end index: 25225036                  total samples:30015488\n",
      "('AV Sync was above threshold: ', 0.8720367807555672)\n",
      "common_fps/Aditya_annotations/2018-08-18/common_fps_video_syncAditya_2018-08-19_0120-0200_64.csv\n",
      "('video_fps obtained is :', 25)\n",
      "Did not find user-provided sample rate - getting it from first file that matches format!\n",
      "('sampling rate is : ', 250000)\n",
      ".....finding best audio segment.....\n"
     ]
    },
    {
     "name": "stderr",
     "output_type": "stream",
     "text": [
      "\r",
      "  0%|          | 0/10 [00:00<?, ?it/s]"
     ]
    },
    {
     "name": "stdout",
     "output_type": "stream",
     "text": [
      "('max mins for upsampled video', -1.0, 0.9306460502454608)\n",
      "('max mins', -0.9959990229971392, 1.0)\n"
     ]
    },
    {
     "name": "stderr",
     "output_type": "stream",
     "text": [
      "\r",
      " 10%|█         | 1/10 [00:05<00:46,  5.19s/it]"
     ]
    },
    {
     "name": "stdout",
     "output_type": "stream",
     "text": [
      "('max mins', -1.0, 0.9780470985687384)\n"
     ]
    },
    {
     "name": "stderr",
     "output_type": "stream",
     "text": [
      "\r",
      " 20%|██        | 2/10 [00:10<00:41,  5.15s/it]"
     ]
    },
    {
     "name": "stdout",
     "output_type": "stream",
     "text": [
      "('max mins', -1.0, 0.977374304381043)\n"
     ]
    },
    {
     "name": "stderr",
     "output_type": "stream",
     "text": [
      "\r",
      " 30%|███       | 3/10 [00:14<00:34,  4.93s/it]"
     ]
    },
    {
     "name": "stdout",
     "output_type": "stream",
     "text": [
      "('max mins', -0.9412727803185628, 1.0)\n"
     ]
    },
    {
     "name": "stderr",
     "output_type": "stream",
     "text": [
      "\r",
      " 40%|████      | 4/10 [00:19<00:28,  4.76s/it]"
     ]
    },
    {
     "name": "stdout",
     "output_type": "stream",
     "text": [
      "('max mins', -0.950052315645415, 1.0)\n"
     ]
    },
    {
     "name": "stderr",
     "output_type": "stream",
     "text": [
      "\r",
      " 50%|█████     | 5/10 [00:23<00:23,  4.65s/it]"
     ]
    },
    {
     "name": "stdout",
     "output_type": "stream",
     "text": [
      "('max mins', -0.9945437506341868, 1.0)\n"
     ]
    },
    {
     "name": "stderr",
     "output_type": "stream",
     "text": [
      "\r",
      " 60%|██████    | 6/10 [00:27<00:18,  4.58s/it]"
     ]
    },
    {
     "name": "stdout",
     "output_type": "stream",
     "text": [
      "('max mins', -0.9367571166681841, 1.0)\n"
     ]
    },
    {
     "name": "stderr",
     "output_type": "stream",
     "text": [
      "\r",
      " 70%|███████   | 7/10 [00:32<00:13,  4.52s/it]"
     ]
    },
    {
     "name": "stdout",
     "output_type": "stream",
     "text": [
      "('max mins', -0.9739639603380102, 1.0)\n"
     ]
    },
    {
     "name": "stderr",
     "output_type": "stream",
     "text": [
      "\r",
      " 80%|████████  | 8/10 [00:36<00:08,  4.48s/it]"
     ]
    },
    {
     "name": "stdout",
     "output_type": "stream",
     "text": [
      "('max mins', -1.0, 0.9531781071652979)\n"
     ]
    },
    {
     "name": "stderr",
     "output_type": "stream",
     "text": [
      "\r",
      " 90%|█████████ | 9/10 [00:40<00:04,  4.45s/it]"
     ]
    },
    {
     "name": "stdout",
     "output_type": "stream",
     "text": [
      "('max mins', -1.0, 0.9859764486805959)\n"
     ]
    },
    {
     "name": "stderr",
     "output_type": "stream",
     "text": [
      "100%|██████████| 10/10 [00:45<00:00,  4.43s/it]\n"
     ]
    },
    {
     "name": "stdout",
     "output_type": "stream",
     "text": [
      "('Best file pairs are: ', 'non_spikey_T0000839.WAV*non_spikey_T0000840.WAV')\n",
      "Start and end indices around peak:                  start index: 15975032\t\t          end index: 27475032                  total samples:30015488\n",
      "('AV Sync was above threshold: ', 0.8807945991979479)\n",
      "common_fps/Aditya_annotations/2018-08-18/common_fps_video_syncAditya_2018-08-19_0120-0200_65.csv\n",
      "('video_fps obtained is :', 25)\n",
      "Did not find user-provided sample rate - getting it from first file that matches format!\n",
      "('sampling rate is : ', 250000)\n",
      ".....finding best audio segment.....\n"
     ]
    },
    {
     "name": "stderr",
     "output_type": "stream",
     "text": [
      "\r",
      "  0%|          | 0/10 [00:00<?, ?it/s]"
     ]
    },
    {
     "name": "stdout",
     "output_type": "stream",
     "text": [
      "('max mins for upsampled video', -1.0, 0.9879231268803463)\n",
      "('max mins', -0.9959990229971392, 1.0)\n"
     ]
    },
    {
     "name": "stderr",
     "output_type": "stream",
     "text": [
      "\r",
      " 10%|█         | 1/10 [00:04<00:39,  4.40s/it]"
     ]
    },
    {
     "name": "stdout",
     "output_type": "stream",
     "text": [
      "('max mins', -1.0, 0.9780470985687384)\n"
     ]
    },
    {
     "name": "stderr",
     "output_type": "stream",
     "text": [
      "\r",
      " 20%|██        | 2/10 [00:08<00:35,  4.40s/it]"
     ]
    },
    {
     "name": "stdout",
     "output_type": "stream",
     "text": [
      "('max mins', -1.0, 0.977374304381043)\n"
     ]
    },
    {
     "name": "stderr",
     "output_type": "stream",
     "text": [
      "\r",
      " 30%|███       | 3/10 [00:13<00:30,  4.42s/it]"
     ]
    },
    {
     "name": "stdout",
     "output_type": "stream",
     "text": [
      "('max mins', -0.9412727803185628, 1.0)\n"
     ]
    },
    {
     "name": "stderr",
     "output_type": "stream",
     "text": [
      "\r",
      " 40%|████      | 4/10 [00:17<00:26,  4.42s/it]"
     ]
    },
    {
     "name": "stdout",
     "output_type": "stream",
     "text": [
      "('max mins', -0.950052315645415, 1.0)\n"
     ]
    },
    {
     "name": "stderr",
     "output_type": "stream",
     "text": [
      "\r",
      " 50%|█████     | 5/10 [00:22<00:22,  4.42s/it]"
     ]
    },
    {
     "name": "stdout",
     "output_type": "stream",
     "text": [
      "('max mins', -0.9945437506341868, 1.0)\n"
     ]
    },
    {
     "name": "stderr",
     "output_type": "stream",
     "text": [
      "\r",
      " 60%|██████    | 6/10 [00:26<00:17,  4.41s/it]"
     ]
    },
    {
     "name": "stdout",
     "output_type": "stream",
     "text": [
      "('max mins', -0.9367571166681841, 1.0)\n"
     ]
    },
    {
     "name": "stderr",
     "output_type": "stream",
     "text": [
      "\r",
      " 70%|███████   | 7/10 [00:30<00:13,  4.42s/it]"
     ]
    },
    {
     "name": "stdout",
     "output_type": "stream",
     "text": [
      "('max mins', -0.9739639603380102, 1.0)\n"
     ]
    },
    {
     "name": "stderr",
     "output_type": "stream",
     "text": [
      "\r",
      " 80%|████████  | 8/10 [00:35<00:08,  4.46s/it]"
     ]
    },
    {
     "name": "stdout",
     "output_type": "stream",
     "text": [
      "('max mins', -1.0, 0.9531781071652979)\n"
     ]
    },
    {
     "name": "stderr",
     "output_type": "stream",
     "text": [
      "\r",
      " 90%|█████████ | 9/10 [00:39<00:04,  4.44s/it]"
     ]
    },
    {
     "name": "stdout",
     "output_type": "stream",
     "text": [
      "('max mins', -1.0, 0.9859764486805959)\n"
     ]
    },
    {
     "name": "stderr",
     "output_type": "stream",
     "text": [
      "100%|██████████| 10/10 [00:44<00:00,  4.43s/it]\n"
     ]
    },
    {
     "name": "stdout",
     "output_type": "stream",
     "text": [
      "('Best file pairs are: ', 'non_spikey_T0000840.WAV*non_spikey_T0000841.WAV')\n",
      "Start and end indices around peak:                  start index: 8972078\t\t          end index: 20472078                  total samples:30015488\n",
      "('AV Sync was above threshold: ', 0.867097602156376)\n",
      "common_fps/Aditya_annotations/2018-08-18/common_fps_video_syncAditya_2018-08-19_0120-0200_66.csv\n",
      "('video_fps obtained is :', 25)\n",
      "Did not find user-provided sample rate - getting it from first file that matches format!\n",
      "('sampling rate is : ', 250000)\n",
      ".....finding best audio segment.....\n"
     ]
    },
    {
     "name": "stderr",
     "output_type": "stream",
     "text": [
      "\r",
      "  0%|          | 0/10 [00:00<?, ?it/s]"
     ]
    },
    {
     "name": "stdout",
     "output_type": "stream",
     "text": [
      "('max mins for upsampled video', -0.9777122776677063, 1.0)\n",
      "('max mins', -0.9959990229971392, 1.0)\n"
     ]
    },
    {
     "name": "stderr",
     "output_type": "stream",
     "text": [
      "\r",
      " 10%|█         | 1/10 [00:04<00:39,  4.41s/it]"
     ]
    },
    {
     "name": "stdout",
     "output_type": "stream",
     "text": [
      "('max mins', -1.0, 0.9780470985687384)\n"
     ]
    },
    {
     "name": "stderr",
     "output_type": "stream",
     "text": [
      "\r",
      " 20%|██        | 2/10 [00:08<00:35,  4.41s/it]"
     ]
    },
    {
     "name": "stdout",
     "output_type": "stream",
     "text": [
      "('max mins', -1.0, 0.977374304381043)\n"
     ]
    },
    {
     "name": "stderr",
     "output_type": "stream",
     "text": [
      "\r",
      " 30%|███       | 3/10 [00:13<00:31,  4.47s/it]"
     ]
    },
    {
     "name": "stdout",
     "output_type": "stream",
     "text": [
      "('max mins', -0.9412727803185628, 1.0)\n"
     ]
    },
    {
     "name": "stderr",
     "output_type": "stream",
     "text": [
      "\r",
      " 40%|████      | 4/10 [00:18<00:28,  4.70s/it]"
     ]
    },
    {
     "name": "stdout",
     "output_type": "stream",
     "text": [
      "('max mins', -0.950052315645415, 1.0)\n"
     ]
    },
    {
     "name": "stderr",
     "output_type": "stream",
     "text": [
      "\r",
      " 50%|█████     | 5/10 [00:23<00:23,  4.71s/it]"
     ]
    },
    {
     "name": "stdout",
     "output_type": "stream",
     "text": [
      "('max mins', -0.9945437506341868, 1.0)\n"
     ]
    },
    {
     "name": "stderr",
     "output_type": "stream",
     "text": [
      "\r",
      " 60%|██████    | 6/10 [00:27<00:18,  4.62s/it]"
     ]
    },
    {
     "name": "stdout",
     "output_type": "stream",
     "text": [
      "('max mins', -0.9367571166681841, 1.0)\n"
     ]
    },
    {
     "name": "stderr",
     "output_type": "stream",
     "text": [
      "\r",
      " 70%|███████   | 7/10 [00:32<00:13,  4.54s/it]"
     ]
    },
    {
     "name": "stdout",
     "output_type": "stream",
     "text": [
      "('max mins', -0.9739639603380102, 1.0)\n"
     ]
    },
    {
     "name": "stderr",
     "output_type": "stream",
     "text": [
      "\r",
      " 80%|████████  | 8/10 [00:36<00:08,  4.50s/it]"
     ]
    },
    {
     "name": "stdout",
     "output_type": "stream",
     "text": [
      "('max mins', -1.0, 0.9531781071652979)\n"
     ]
    },
    {
     "name": "stderr",
     "output_type": "stream",
     "text": [
      "\r",
      " 90%|█████████ | 9/10 [00:40<00:04,  4.46s/it]"
     ]
    },
    {
     "name": "stdout",
     "output_type": "stream",
     "text": [
      "('max mins', -1.0, 0.9859764486805959)\n"
     ]
    },
    {
     "name": "stderr",
     "output_type": "stream",
     "text": [
      "100%|██████████| 10/10 [00:45<00:00,  4.44s/it]\n"
     ]
    },
    {
     "name": "stdout",
     "output_type": "stream",
     "text": [
      "('Best file pairs are: ', 'non_spikey_T0000840.WAV*non_spikey_T0000841.WAV')\n",
      "Start and end indices around peak:                  start index: 11472555\t\t          end index: 22972555                  total samples:30015488\n",
      "('AV Sync was above threshold: ', 0.8692452403470151)\n",
      "common_fps/Aditya_annotations/2018-08-18/common_fps_video_syncAditya_2018-08-19_0120-0200_69.csv\n",
      "('video_fps obtained is :', 25)\n",
      "Did not find user-provided sample rate - getting it from first file that matches format!\n",
      "('sampling rate is : ', 250000)\n",
      ".....finding best audio segment.....\n"
     ]
    },
    {
     "name": "stderr",
     "output_type": "stream",
     "text": [
      "\r",
      "  0%|          | 0/11 [00:00<?, ?it/s]"
     ]
    },
    {
     "name": "stdout",
     "output_type": "stream",
     "text": [
      "('max mins for upsampled video', -1.0, 0.949265101707086)\n",
      "('max mins', -0.9739639603380102, 1.0)\n"
     ]
    },
    {
     "name": "stderr",
     "output_type": "stream",
     "text": [
      "\r",
      "  9%|▉         | 1/11 [00:04<00:44,  4.46s/it]"
     ]
    },
    {
     "name": "stdout",
     "output_type": "stream",
     "text": [
      "('max mins', -1.0, 0.9531781071652979)\n"
     ]
    },
    {
     "name": "stderr",
     "output_type": "stream",
     "text": [
      "\r",
      " 18%|█▊        | 2/11 [00:08<00:40,  4.45s/it]"
     ]
    },
    {
     "name": "stdout",
     "output_type": "stream",
     "text": [
      "('max mins', -1.0, 0.9859764486805959)\n"
     ]
    },
    {
     "name": "stderr",
     "output_type": "stream",
     "text": [
      "\r",
      " 27%|██▋       | 3/11 [00:13<00:35,  4.44s/it]"
     ]
    },
    {
     "name": "stdout",
     "output_type": "stream",
     "text": [
      "('max mins', -1.0, 0.9807300503175779)\n"
     ]
    },
    {
     "name": "stderr",
     "output_type": "stream",
     "text": [
      "\r",
      " 36%|███▋      | 4/11 [00:17<00:31,  4.50s/it]"
     ]
    },
    {
     "name": "stdout",
     "output_type": "stream",
     "text": [
      "('max mins', -0.998946965332836, 1.0)\n"
     ]
    },
    {
     "name": "stderr",
     "output_type": "stream",
     "text": [
      "\r",
      " 45%|████▌     | 5/11 [00:22<00:27,  4.55s/it]"
     ]
    },
    {
     "name": "stdout",
     "output_type": "stream",
     "text": [
      "('max mins', -0.9960251715197141, 1.0)\n"
     ]
    },
    {
     "name": "stderr",
     "output_type": "stream",
     "text": [
      "\r",
      " 55%|█████▍    | 6/11 [00:27<00:22,  4.58s/it]"
     ]
    },
    {
     "name": "stdout",
     "output_type": "stream",
     "text": [
      "('max mins', -1.0, 0.9483329836798366)\n"
     ]
    },
    {
     "name": "stderr",
     "output_type": "stream",
     "text": [
      "\r",
      " 64%|██████▎   | 7/11 [00:31<00:18,  4.61s/it]"
     ]
    },
    {
     "name": "stdout",
     "output_type": "stream",
     "text": [
      "('max mins', -1.0, 0.9476643235160923)\n"
     ]
    },
    {
     "name": "stderr",
     "output_type": "stream",
     "text": [
      "\r",
      " 73%|███████▎  | 8/11 [00:36<00:13,  4.62s/it]"
     ]
    },
    {
     "name": "stdout",
     "output_type": "stream",
     "text": [
      "('max mins', -0.995114226491868, 1.0)\n"
     ]
    },
    {
     "name": "stderr",
     "output_type": "stream",
     "text": [
      "\r",
      " 82%|████████▏ | 9/11 [00:41<00:09,  4.63s/it]"
     ]
    },
    {
     "name": "stdout",
     "output_type": "stream",
     "text": [
      "('max mins', -0.9764981302756793, 1.0)\n"
     ]
    },
    {
     "name": "stderr",
     "output_type": "stream",
     "text": [
      "\r",
      " 91%|█████████ | 10/11 [00:45<00:04,  4.63s/it]"
     ]
    },
    {
     "name": "stdout",
     "output_type": "stream",
     "text": [
      "('max mins', -1.0, 0.997450571804602)\n"
     ]
    },
    {
     "name": "stderr",
     "output_type": "stream",
     "text": [
      "100%|██████████| 11/11 [00:50<00:00,  4.64s/it]\n"
     ]
    },
    {
     "name": "stdout",
     "output_type": "stream",
     "text": [
      "('Best file pairs are: ', 'non_spikey_T0000841.WAV*non_spikey_T0000842.WAV')\n",
      "Unable to get proper audio match for video segment!\n",
      "('Could not save ', 'common_fps/Aditya_annotations/2018-08-18/common_fps_video_syncAditya_2018-08-19_0120-0200_69.csv')\n",
      "common_fps/Aditya_annotations/2018-08-18/common_fps_video_syncAditya_2018-08-19_0120-0200_70.csv\n",
      "('video_fps obtained is :', 25)\n",
      "Did not find user-provided sample rate - getting it from first file that matches format!\n",
      "('sampling rate is : ', 250000)\n",
      ".....finding best audio segment.....\n"
     ]
    },
    {
     "name": "stderr",
     "output_type": "stream",
     "text": [
      "\r",
      "  0%|          | 0/11 [00:00<?, ?it/s]"
     ]
    },
    {
     "name": "stdout",
     "output_type": "stream",
     "text": [
      "('max mins for upsampled video', -1.0, 0.9078822385302507)\n",
      "('max mins', -0.9739639603380102, 1.0)\n"
     ]
    },
    {
     "name": "stderr",
     "output_type": "stream",
     "text": [
      "\r",
      "  9%|▉         | 1/11 [00:05<00:50,  5.00s/it]"
     ]
    },
    {
     "name": "stdout",
     "output_type": "stream",
     "text": [
      "('max mins', -1.0, 0.9531781071652979)\n"
     ]
    },
    {
     "name": "stderr",
     "output_type": "stream",
     "text": [
      "\r",
      " 18%|█▊        | 2/11 [00:09<00:43,  4.82s/it]"
     ]
    },
    {
     "name": "stdout",
     "output_type": "stream",
     "text": [
      "('max mins', -1.0, 0.9859764486805959)\n"
     ]
    },
    {
     "name": "stderr",
     "output_type": "stream",
     "text": [
      "\r",
      " 27%|██▋       | 3/11 [00:13<00:37,  4.69s/it]"
     ]
    },
    {
     "name": "stdout",
     "output_type": "stream",
     "text": [
      "('max mins', -1.0, 0.9807300503175779)\n"
     ]
    },
    {
     "name": "stderr",
     "output_type": "stream",
     "text": [
      "\r",
      " 36%|███▋      | 4/11 [00:18<00:32,  4.60s/it]"
     ]
    },
    {
     "name": "stdout",
     "output_type": "stream",
     "text": [
      "('max mins', -0.998946965332836, 1.0)\n"
     ]
    },
    {
     "name": "stderr",
     "output_type": "stream",
     "text": [
      "\r",
      " 45%|████▌     | 5/11 [00:22<00:27,  4.53s/it]"
     ]
    },
    {
     "name": "stdout",
     "output_type": "stream",
     "text": [
      "('max mins', -0.9960251715197141, 1.0)\n"
     ]
    },
    {
     "name": "stderr",
     "output_type": "stream",
     "text": [
      "\r",
      " 55%|█████▍    | 6/11 [00:26<00:22,  4.49s/it]"
     ]
    },
    {
     "name": "stdout",
     "output_type": "stream",
     "text": [
      "('max mins', -1.0, 0.9483329836798366)\n"
     ]
    },
    {
     "name": "stderr",
     "output_type": "stream",
     "text": [
      "\r",
      " 64%|██████▎   | 7/11 [00:31<00:17,  4.46s/it]"
     ]
    },
    {
     "name": "stdout",
     "output_type": "stream",
     "text": [
      "('max mins', -1.0, 0.9476643235160923)\n"
     ]
    },
    {
     "name": "stderr",
     "output_type": "stream",
     "text": [
      "\r",
      " 73%|███████▎  | 8/11 [00:35<00:13,  4.44s/it]"
     ]
    },
    {
     "name": "stdout",
     "output_type": "stream",
     "text": [
      "('max mins', -0.995114226491868, 1.0)\n"
     ]
    },
    {
     "name": "stderr",
     "output_type": "stream",
     "text": [
      "\r",
      " 82%|████████▏ | 9/11 [00:40<00:08,  4.42s/it]"
     ]
    },
    {
     "name": "stdout",
     "output_type": "stream",
     "text": [
      "('max mins', -0.9764981302756793, 1.0)\n"
     ]
    },
    {
     "name": "stderr",
     "output_type": "stream",
     "text": [
      "\r",
      " 91%|█████████ | 10/11 [00:44<00:04,  4.41s/it]"
     ]
    },
    {
     "name": "stdout",
     "output_type": "stream",
     "text": [
      "('max mins', -1.0, 0.997450571804602)\n"
     ]
    },
    {
     "name": "stderr",
     "output_type": "stream",
     "text": [
      "100%|██████████| 11/11 [00:48<00:00,  4.41s/it]\n"
     ]
    },
    {
     "name": "stdout",
     "output_type": "stream",
     "text": [
      "('Best file pairs are: ', 'non_spikey_T0000842.WAV*non_spikey_T0000843.WAV')\n",
      "Start and end indices around peak:                  start index: 3709789\t\t          end index: 15209789                  total samples:30015488\n",
      "('AV Sync was above threshold: ', 0.8604655182400571)\n",
      "common_fps/Aditya_annotations/2018-08-18/common_fps_video_syncAditya_2018-08-19_0120-0200_71.csv\n",
      "('video_fps obtained is :', 25)\n",
      "Did not find user-provided sample rate - getting it from first file that matches format!\n",
      "('sampling rate is : ', 250000)\n",
      ".....finding best audio segment.....\n"
     ]
    },
    {
     "name": "stderr",
     "output_type": "stream",
     "text": [
      "\r",
      "  0%|          | 0/11 [00:00<?, ?it/s]"
     ]
    },
    {
     "name": "stdout",
     "output_type": "stream",
     "text": [
      "('max mins for upsampled video', -1.0, 0.9078822385302507)\n",
      "('max mins', -0.9739639603380102, 1.0)\n"
     ]
    },
    {
     "name": "stderr",
     "output_type": "stream",
     "text": [
      "\r",
      "  9%|▉         | 1/11 [00:04<00:43,  4.39s/it]"
     ]
    },
    {
     "name": "stdout",
     "output_type": "stream",
     "text": [
      "('max mins', -1.0, 0.9531781071652979)\n"
     ]
    },
    {
     "name": "stderr",
     "output_type": "stream",
     "text": [
      "\r",
      " 18%|█▊        | 2/11 [00:08<00:39,  4.40s/it]"
     ]
    },
    {
     "name": "stdout",
     "output_type": "stream",
     "text": [
      "('max mins', -1.0, 0.9859764486805959)\n"
     ]
    },
    {
     "name": "stderr",
     "output_type": "stream",
     "text": [
      "\r",
      " 27%|██▋       | 3/11 [00:13<00:35,  4.40s/it]"
     ]
    },
    {
     "name": "stdout",
     "output_type": "stream",
     "text": [
      "('max mins', -1.0, 0.9807300503175779)\n"
     ]
    },
    {
     "name": "stderr",
     "output_type": "stream",
     "text": [
      "\r",
      " 36%|███▋      | 4/11 [00:17<00:30,  4.39s/it]"
     ]
    },
    {
     "name": "stdout",
     "output_type": "stream",
     "text": [
      "('max mins', -0.998946965332836, 1.0)\n"
     ]
    },
    {
     "name": "stderr",
     "output_type": "stream",
     "text": [
      "\r",
      " 45%|████▌     | 5/11 [00:21<00:26,  4.38s/it]"
     ]
    },
    {
     "name": "stdout",
     "output_type": "stream",
     "text": [
      "('max mins', -0.9960251715197141, 1.0)\n"
     ]
    },
    {
     "name": "stderr",
     "output_type": "stream",
     "text": [
      "\r",
      " 55%|█████▍    | 6/11 [00:26<00:21,  4.38s/it]"
     ]
    },
    {
     "name": "stdout",
     "output_type": "stream",
     "text": [
      "('max mins', -1.0, 0.9483329836798366)\n"
     ]
    },
    {
     "name": "stderr",
     "output_type": "stream",
     "text": [
      "\r",
      " 64%|██████▎   | 7/11 [00:30<00:17,  4.38s/it]"
     ]
    },
    {
     "name": "stdout",
     "output_type": "stream",
     "text": [
      "('max mins', -1.0, 0.9476643235160923)\n"
     ]
    },
    {
     "name": "stderr",
     "output_type": "stream",
     "text": [
      "\r",
      " 73%|███████▎  | 8/11 [00:35<00:13,  4.38s/it]"
     ]
    },
    {
     "name": "stdout",
     "output_type": "stream",
     "text": [
      "('max mins', -0.995114226491868, 1.0)\n"
     ]
    },
    {
     "name": "stderr",
     "output_type": "stream",
     "text": [
      "\r",
      " 82%|████████▏ | 9/11 [00:39<00:08,  4.39s/it]"
     ]
    },
    {
     "name": "stdout",
     "output_type": "stream",
     "text": [
      "('max mins', -0.9764981302756793, 1.0)\n"
     ]
    },
    {
     "name": "stderr",
     "output_type": "stream",
     "text": [
      "\r",
      " 91%|█████████ | 10/11 [00:43<00:04,  4.39s/it]"
     ]
    },
    {
     "name": "stdout",
     "output_type": "stream",
     "text": [
      "('max mins', -1.0, 0.997450571804602)\n"
     ]
    },
    {
     "name": "stderr",
     "output_type": "stream",
     "text": [
      "100%|██████████| 11/11 [00:48<00:00,  4.39s/it]\n"
     ]
    },
    {
     "name": "stdout",
     "output_type": "stream",
     "text": [
      "('Best file pairs are: ', 'non_spikey_T0000842.WAV*non_spikey_T0000843.WAV')\n",
      "Start and end indices around peak:                  start index: 3709789\t\t          end index: 15209789                  total samples:30015488\n",
      "('AV Sync was above threshold: ', 0.8604655182400571)\n",
      "common_fps/Aditya_annotations/2018-08-18/common_fps_video_syncAditya_2018-08-19_0120-0200_72.csv\n",
      "('video_fps obtained is :', 25)\n",
      "Did not find user-provided sample rate - getting it from first file that matches format!\n",
      "('sampling rate is : ', 250000)\n",
      ".....finding best audio segment.....\n"
     ]
    },
    {
     "name": "stderr",
     "output_type": "stream",
     "text": [
      "\r",
      "  0%|          | 0/11 [00:00<?, ?it/s]"
     ]
    },
    {
     "name": "stdout",
     "output_type": "stream",
     "text": [
      "('max mins for upsampled video', -1.0, 0.977587224752353)\n",
      "('max mins', -0.9739639603380102, 1.0)\n"
     ]
    },
    {
     "name": "stderr",
     "output_type": "stream",
     "text": [
      "\r",
      "  9%|▉         | 1/11 [00:04<00:43,  4.39s/it]"
     ]
    },
    {
     "name": "stdout",
     "output_type": "stream",
     "text": [
      "('max mins', -1.0, 0.9531781071652979)\n"
     ]
    },
    {
     "name": "stderr",
     "output_type": "stream",
     "text": [
      "\r",
      " 18%|█▊        | 2/11 [00:08<00:39,  4.40s/it]"
     ]
    },
    {
     "name": "stdout",
     "output_type": "stream",
     "text": [
      "('max mins', -1.0, 0.9859764486805959)\n"
     ]
    },
    {
     "name": "stderr",
     "output_type": "stream",
     "text": [
      "\r",
      " 27%|██▋       | 3/11 [00:13<00:35,  4.40s/it]"
     ]
    },
    {
     "name": "stdout",
     "output_type": "stream",
     "text": [
      "('max mins', -1.0, 0.9807300503175779)\n"
     ]
    },
    {
     "name": "stderr",
     "output_type": "stream",
     "text": [
      "\r",
      " 36%|███▋      | 4/11 [00:17<00:30,  4.39s/it]"
     ]
    },
    {
     "name": "stdout",
     "output_type": "stream",
     "text": [
      "('max mins', -0.998946965332836, 1.0)\n"
     ]
    },
    {
     "name": "stderr",
     "output_type": "stream",
     "text": [
      "\r",
      " 45%|████▌     | 5/11 [00:22<00:27,  4.53s/it]"
     ]
    },
    {
     "name": "stdout",
     "output_type": "stream",
     "text": [
      "('max mins', -0.9960251715197141, 1.0)\n"
     ]
    },
    {
     "name": "stderr",
     "output_type": "stream",
     "text": [
      "\r",
      " 55%|█████▍    | 6/11 [00:26<00:22,  4.49s/it]"
     ]
    },
    {
     "name": "stdout",
     "output_type": "stream",
     "text": [
      "('max mins', -1.0, 0.9483329836798366)\n"
     ]
    },
    {
     "name": "stderr",
     "output_type": "stream",
     "text": [
      "\r",
      " 64%|██████▎   | 7/11 [00:31<00:17,  4.46s/it]"
     ]
    },
    {
     "name": "stdout",
     "output_type": "stream",
     "text": [
      "('max mins', -1.0, 0.9476643235160923)\n"
     ]
    },
    {
     "name": "stderr",
     "output_type": "stream",
     "text": [
      "\r",
      " 73%|███████▎  | 8/11 [00:35<00:13,  4.43s/it]"
     ]
    },
    {
     "name": "stdout",
     "output_type": "stream",
     "text": [
      "('max mins', -0.995114226491868, 1.0)\n"
     ]
    },
    {
     "name": "stderr",
     "output_type": "stream",
     "text": [
      "\r",
      " 82%|████████▏ | 9/11 [00:39<00:08,  4.42s/it]"
     ]
    },
    {
     "name": "stdout",
     "output_type": "stream",
     "text": [
      "('max mins', -0.9764981302756793, 1.0)\n"
     ]
    },
    {
     "name": "stderr",
     "output_type": "stream",
     "text": [
      "\r",
      " 91%|█████████ | 10/11 [00:44<00:04,  4.41s/it]"
     ]
    },
    {
     "name": "stdout",
     "output_type": "stream",
     "text": [
      "('max mins', -1.0, 0.997450571804602)\n"
     ]
    },
    {
     "name": "stderr",
     "output_type": "stream",
     "text": [
      "100%|██████████| 11/11 [00:48<00:00,  4.41s/it]\n"
     ]
    },
    {
     "name": "stdout",
     "output_type": "stream",
     "text": [
      "('Best file pairs are: ', 'non_spikey_T0000842.WAV*non_spikey_T0000843.WAV')\n",
      "Start and end indices around peak:                  start index: 8457022\t\t          end index: 19957022                  total samples:30015488\n",
      "('AV Sync was above threshold: ', 0.8758483563277952)\n",
      "common_fps/Aditya_annotations/2018-08-18/common_fps_video_syncAditya_2018-08-19_0120-0200_73.csv\n",
      "('video_fps obtained is :', 25)\n",
      "Did not find user-provided sample rate - getting it from first file that matches format!\n",
      "('sampling rate is : ', 250000)\n",
      ".....finding best audio segment.....\n"
     ]
    },
    {
     "name": "stderr",
     "output_type": "stream",
     "text": [
      "\r",
      "  0%|          | 0/11 [00:00<?, ?it/s]"
     ]
    },
    {
     "name": "stdout",
     "output_type": "stream",
     "text": [
      "('max mins for upsampled video', -1.0, 0.8845952796140143)\n",
      "('max mins', -0.9739639603380102, 1.0)\n"
     ]
    },
    {
     "name": "stderr",
     "output_type": "stream",
     "text": [
      "\r",
      "  9%|▉         | 1/11 [00:04<00:43,  4.39s/it]"
     ]
    },
    {
     "name": "stdout",
     "output_type": "stream",
     "text": [
      "('max mins', -1.0, 0.9531781071652979)\n"
     ]
    },
    {
     "name": "stderr",
     "output_type": "stream",
     "text": [
      "\r",
      " 18%|█▊        | 2/11 [00:08<00:39,  4.41s/it]"
     ]
    },
    {
     "name": "stdout",
     "output_type": "stream",
     "text": [
      "('max mins', -1.0, 0.9859764486805959)\n"
     ]
    },
    {
     "name": "stderr",
     "output_type": "stream",
     "text": [
      "\r",
      " 27%|██▋       | 3/11 [00:13<00:35,  4.40s/it]"
     ]
    },
    {
     "name": "stdout",
     "output_type": "stream",
     "text": [
      "('max mins', -1.0, 0.9807300503175779)\n"
     ]
    },
    {
     "name": "stderr",
     "output_type": "stream",
     "text": [
      "\r",
      " 36%|███▋      | 4/11 [00:17<00:30,  4.40s/it]"
     ]
    },
    {
     "name": "stdout",
     "output_type": "stream",
     "text": [
      "('max mins', -0.998946965332836, 1.0)\n"
     ]
    },
    {
     "name": "stderr",
     "output_type": "stream",
     "text": [
      "\r",
      " 45%|████▌     | 5/11 [00:21<00:26,  4.39s/it]"
     ]
    },
    {
     "name": "stdout",
     "output_type": "stream",
     "text": [
      "('max mins', -0.9960251715197141, 1.0)\n"
     ]
    },
    {
     "name": "stderr",
     "output_type": "stream",
     "text": [
      "\r",
      " 55%|█████▍    | 6/11 [00:26<00:21,  4.39s/it]"
     ]
    },
    {
     "name": "stdout",
     "output_type": "stream",
     "text": [
      "('max mins', -1.0, 0.9483329836798366)\n"
     ]
    },
    {
     "name": "stderr",
     "output_type": "stream",
     "text": [
      "\r",
      " 64%|██████▎   | 7/11 [00:30<00:17,  4.38s/it]"
     ]
    },
    {
     "name": "stdout",
     "output_type": "stream",
     "text": [
      "('max mins', -1.0, 0.9476643235160923)\n"
     ]
    },
    {
     "name": "stderr",
     "output_type": "stream",
     "text": [
      "\r",
      " 73%|███████▎  | 8/11 [00:35<00:13,  4.38s/it]"
     ]
    },
    {
     "name": "stdout",
     "output_type": "stream",
     "text": [
      "('max mins', -0.995114226491868, 1.0)\n"
     ]
    },
    {
     "name": "stderr",
     "output_type": "stream",
     "text": [
      "\r",
      " 82%|████████▏ | 9/11 [00:39<00:08,  4.38s/it]"
     ]
    },
    {
     "name": "stdout",
     "output_type": "stream",
     "text": [
      "('max mins', -0.9764981302756793, 1.0)\n"
     ]
    },
    {
     "name": "stderr",
     "output_type": "stream",
     "text": [
      "\r",
      " 91%|█████████ | 10/11 [00:43<00:04,  4.38s/it]"
     ]
    },
    {
     "name": "stdout",
     "output_type": "stream",
     "text": [
      "('max mins', -1.0, 0.997450571804602)\n"
     ]
    },
    {
     "name": "stderr",
     "output_type": "stream",
     "text": [
      "100%|██████████| 11/11 [00:48<00:00,  4.38s/it]\n"
     ]
    },
    {
     "name": "stdout",
     "output_type": "stream",
     "text": [
      "('Best file pairs are: ', 'non_spikey_T0000844.WAV*non_spikey_T0000845.WAV')\n",
      "Start and end indices around peak:                  start index: 7400632\t\t          end index: 18900632                  total samples:30015488\n",
      "('AV Sync was above threshold: ', 0.8778143503297275)\n",
      "common_fps/Aditya_annotations/2018-08-18/common_fps_video_syncAditya_2018-08-19_0120-0200_74.csv\n",
      "('video_fps obtained is :', 25)\n",
      "Did not find user-provided sample rate - getting it from first file that matches format!\n",
      "('sampling rate is : ', 250000)\n",
      ".....finding best audio segment.....\n"
     ]
    },
    {
     "name": "stderr",
     "output_type": "stream",
     "text": [
      "\r",
      "  0%|          | 0/11 [00:00<?, ?it/s]"
     ]
    },
    {
     "name": "stdout",
     "output_type": "stream",
     "text": [
      "('max mins for upsampled video', -1.0, 0.8284678460620701)\n",
      "('max mins', -0.9739639603380102, 1.0)\n"
     ]
    },
    {
     "name": "stderr",
     "output_type": "stream",
     "text": [
      "\r",
      "  9%|▉         | 1/11 [00:04<00:43,  4.38s/it]"
     ]
    },
    {
     "name": "stdout",
     "output_type": "stream",
     "text": [
      "('max mins', -1.0, 0.9531781071652979)\n"
     ]
    },
    {
     "name": "stderr",
     "output_type": "stream",
     "text": [
      "\r",
      " 18%|█▊        | 2/11 [00:08<00:39,  4.39s/it]"
     ]
    },
    {
     "name": "stdout",
     "output_type": "stream",
     "text": [
      "('max mins', -1.0, 0.9859764486805959)\n"
     ]
    },
    {
     "name": "stderr",
     "output_type": "stream",
     "text": [
      "\r",
      " 27%|██▋       | 3/11 [00:13<00:35,  4.39s/it]"
     ]
    },
    {
     "name": "stdout",
     "output_type": "stream",
     "text": [
      "('max mins', -1.0, 0.9807300503175779)\n"
     ]
    },
    {
     "name": "stderr",
     "output_type": "stream",
     "text": [
      "\r",
      " 36%|███▋      | 4/11 [00:17<00:30,  4.39s/it]"
     ]
    },
    {
     "name": "stdout",
     "output_type": "stream",
     "text": [
      "('max mins', -0.998946965332836, 1.0)\n"
     ]
    },
    {
     "name": "stderr",
     "output_type": "stream",
     "text": [
      "\r",
      " 45%|████▌     | 5/11 [00:21<00:26,  4.40s/it]"
     ]
    },
    {
     "name": "stdout",
     "output_type": "stream",
     "text": [
      "('max mins', -0.9960251715197141, 1.0)\n"
     ]
    },
    {
     "name": "stderr",
     "output_type": "stream",
     "text": [
      "\r",
      " 55%|█████▍    | 6/11 [00:26<00:21,  4.39s/it]"
     ]
    },
    {
     "name": "stdout",
     "output_type": "stream",
     "text": [
      "('max mins', -1.0, 0.9483329836798366)\n"
     ]
    },
    {
     "name": "stderr",
     "output_type": "stream",
     "text": [
      "\r",
      " 64%|██████▎   | 7/11 [00:30<00:17,  4.39s/it]"
     ]
    },
    {
     "name": "stdout",
     "output_type": "stream",
     "text": [
      "('max mins', -1.0, 0.9476643235160923)\n"
     ]
    },
    {
     "name": "stderr",
     "output_type": "stream",
     "text": [
      "\r",
      " 73%|███████▎  | 8/11 [00:35<00:13,  4.55s/it]"
     ]
    },
    {
     "name": "stdout",
     "output_type": "stream",
     "text": [
      "('max mins', -0.995114226491868, 1.0)\n"
     ]
    },
    {
     "name": "stderr",
     "output_type": "stream",
     "text": [
      "\r",
      " 82%|████████▏ | 9/11 [00:40<00:09,  4.52s/it]"
     ]
    },
    {
     "name": "stdout",
     "output_type": "stream",
     "text": [
      "('max mins', -0.9764981302756793, 1.0)\n"
     ]
    },
    {
     "name": "stderr",
     "output_type": "stream",
     "text": [
      "\r",
      " 91%|█████████ | 10/11 [00:44<00:04,  4.48s/it]"
     ]
    },
    {
     "name": "stdout",
     "output_type": "stream",
     "text": [
      "('max mins', -1.0, 0.997450571804602)\n"
     ]
    },
    {
     "name": "stderr",
     "output_type": "stream",
     "text": [
      "100%|██████████| 11/11 [00:48<00:00,  4.44s/it]\n"
     ]
    },
    {
     "name": "stdout",
     "output_type": "stream",
     "text": [
      "('Best file pairs are: ', 'non_spikey_T0000844.WAV*non_spikey_T0000845.WAV')\n",
      "Start and end indices around peak:                  start index: 11150960\t\t          end index: 22650960                  total samples:30015488\n",
      "('AV Sync was above threshold: ', 0.8780658312044182)\n",
      "common_fps/Aditya_annotations/2018-08-18/common_fps_video_syncAditya_2018-08-19_0120-0200_76.csv\n",
      "('video_fps obtained is :', 25)\n",
      "Did not find user-provided sample rate - getting it from first file that matches format!\n",
      "('sampling rate is : ', 250000)\n",
      ".....finding best audio segment.....\n"
     ]
    },
    {
     "name": "stderr",
     "output_type": "stream",
     "text": [
      "\r",
      "  0%|          | 0/11 [00:00<?, ?it/s]"
     ]
    },
    {
     "name": "stdout",
     "output_type": "stream",
     "text": [
      "('max mins for upsampled video', -1.0, 0.8284552300066788)\n",
      "('max mins', -0.9739639603380102, 1.0)\n"
     ]
    },
    {
     "name": "stderr",
     "output_type": "stream",
     "text": [
      "\r",
      "  9%|▉         | 1/11 [00:04<00:43,  4.39s/it]"
     ]
    },
    {
     "name": "stdout",
     "output_type": "stream",
     "text": [
      "('max mins', -1.0, 0.9531781071652979)\n"
     ]
    },
    {
     "name": "stderr",
     "output_type": "stream",
     "text": [
      "\r",
      " 18%|█▊        | 2/11 [00:08<00:39,  4.39s/it]"
     ]
    },
    {
     "name": "stdout",
     "output_type": "stream",
     "text": [
      "('max mins', -1.0, 0.9859764486805959)\n"
     ]
    },
    {
     "name": "stderr",
     "output_type": "stream",
     "text": [
      "\r",
      " 27%|██▋       | 3/11 [00:13<00:35,  4.39s/it]"
     ]
    },
    {
     "name": "stdout",
     "output_type": "stream",
     "text": [
      "('max mins', -1.0, 0.9807300503175779)\n"
     ]
    },
    {
     "name": "stderr",
     "output_type": "stream",
     "text": [
      "\r",
      " 36%|███▋      | 4/11 [00:17<00:30,  4.39s/it]"
     ]
    },
    {
     "name": "stdout",
     "output_type": "stream",
     "text": [
      "('max mins', -0.998946965332836, 1.0)\n"
     ]
    },
    {
     "name": "stderr",
     "output_type": "stream",
     "text": [
      "\r",
      " 45%|████▌     | 5/11 [00:21<00:26,  4.39s/it]"
     ]
    },
    {
     "name": "stdout",
     "output_type": "stream",
     "text": [
      "('max mins', -0.9960251715197141, 1.0)\n"
     ]
    },
    {
     "name": "stderr",
     "output_type": "stream",
     "text": [
      "\r",
      " 55%|█████▍    | 6/11 [00:26<00:21,  4.40s/it]"
     ]
    },
    {
     "name": "stdout",
     "output_type": "stream",
     "text": [
      "('max mins', -1.0, 0.9483329836798366)\n"
     ]
    },
    {
     "name": "stderr",
     "output_type": "stream",
     "text": [
      "\r",
      " 64%|██████▎   | 7/11 [00:30<00:17,  4.40s/it]"
     ]
    },
    {
     "name": "stdout",
     "output_type": "stream",
     "text": [
      "('max mins', -1.0, 0.9476643235160923)\n"
     ]
    },
    {
     "name": "stderr",
     "output_type": "stream",
     "text": [
      "\r",
      " 73%|███████▎  | 8/11 [00:35<00:13,  4.64s/it]"
     ]
    },
    {
     "name": "stdout",
     "output_type": "stream",
     "text": [
      "('max mins', -0.995114226491868, 1.0)\n"
     ]
    },
    {
     "name": "stderr",
     "output_type": "stream",
     "text": [
      "\r",
      " 82%|████████▏ | 9/11 [00:40<00:09,  4.74s/it]"
     ]
    },
    {
     "name": "stdout",
     "output_type": "stream",
     "text": [
      "('max mins', -0.9764981302756793, 1.0)\n"
     ]
    },
    {
     "name": "stderr",
     "output_type": "stream",
     "text": [
      "\r",
      " 91%|█████████ | 10/11 [00:46<00:04,  4.85s/it]"
     ]
    },
    {
     "name": "stdout",
     "output_type": "stream",
     "text": [
      "('max mins', -1.0, 0.997450571804602)\n"
     ]
    },
    {
     "name": "stderr",
     "output_type": "stream",
     "text": [
      "100%|██████████| 11/11 [00:50<00:00,  4.88s/it]\n"
     ]
    },
    {
     "name": "stdout",
     "output_type": "stream",
     "text": [
      "('Best file pairs are: ', 'non_spikey_T0000844.WAV*non_spikey_T0000845.WAV')\n",
      "Start and end indices around peak:                  start index: 11901044\t\t          end index: 23401044                  total samples:30015488\n",
      "('AV Sync was above threshold: ', 0.880449329099145)\n",
      "common_fps/Aditya_annotations/2018-08-18/common_fps_video_syncAditya_2018-08-19_0120-0200_77.csv\n",
      "('video_fps obtained is :', 25)\n",
      "Did not find user-provided sample rate - getting it from first file that matches format!\n",
      "('sampling rate is : ', 250000)\n",
      ".....finding best audio segment.....\n"
     ]
    },
    {
     "name": "stderr",
     "output_type": "stream",
     "text": [
      "\r",
      "  0%|          | 0/11 [00:00<?, ?it/s]"
     ]
    },
    {
     "name": "stdout",
     "output_type": "stream",
     "text": [
      "('max mins for upsampled video', -1.0, 0.8684764515443479)\n",
      "('max mins', -0.9739639603380102, 1.0)\n"
     ]
    },
    {
     "name": "stderr",
     "output_type": "stream",
     "text": [
      "\r",
      "  9%|▉         | 1/11 [00:04<00:45,  4.58s/it]"
     ]
    },
    {
     "name": "stdout",
     "output_type": "stream",
     "text": [
      "('max mins', -1.0, 0.9531781071652979)\n"
     ]
    },
    {
     "name": "stderr",
     "output_type": "stream",
     "text": [
      "\r",
      " 18%|█▊        | 2/11 [00:09<00:40,  4.53s/it]"
     ]
    },
    {
     "name": "stdout",
     "output_type": "stream",
     "text": [
      "('max mins', -1.0, 0.9859764486805959)\n"
     ]
    },
    {
     "name": "stderr",
     "output_type": "stream",
     "text": [
      "\r",
      " 27%|██▋       | 3/11 [00:13<00:35,  4.49s/it]"
     ]
    },
    {
     "name": "stdout",
     "output_type": "stream",
     "text": [
      "('max mins', -1.0, 0.9807300503175779)\n"
     ]
    },
    {
     "name": "stderr",
     "output_type": "stream",
     "text": [
      "\r",
      " 36%|███▋      | 4/11 [00:17<00:31,  4.47s/it]"
     ]
    },
    {
     "name": "stdout",
     "output_type": "stream",
     "text": [
      "('max mins', -0.998946965332836, 1.0)\n"
     ]
    },
    {
     "name": "stderr",
     "output_type": "stream",
     "text": [
      "\r",
      " 45%|████▌     | 5/11 [00:22<00:26,  4.44s/it]"
     ]
    },
    {
     "name": "stdout",
     "output_type": "stream",
     "text": [
      "('max mins', -0.9960251715197141, 1.0)\n"
     ]
    },
    {
     "name": "stderr",
     "output_type": "stream",
     "text": [
      "\r",
      " 55%|█████▍    | 6/11 [00:26<00:22,  4.43s/it]"
     ]
    },
    {
     "name": "stdout",
     "output_type": "stream",
     "text": [
      "('max mins', -1.0, 0.9483329836798366)\n"
     ]
    },
    {
     "name": "stderr",
     "output_type": "stream",
     "text": [
      "\r",
      " 64%|██████▎   | 7/11 [00:30<00:17,  4.42s/it]"
     ]
    },
    {
     "name": "stdout",
     "output_type": "stream",
     "text": [
      "('max mins', -1.0, 0.9476643235160923)\n"
     ]
    },
    {
     "name": "stderr",
     "output_type": "stream",
     "text": [
      "\r",
      " 73%|███████▎  | 8/11 [00:35<00:13,  4.41s/it]"
     ]
    },
    {
     "name": "stdout",
     "output_type": "stream",
     "text": [
      "('max mins', -0.995114226491868, 1.0)\n"
     ]
    },
    {
     "name": "stderr",
     "output_type": "stream",
     "text": [
      "\r",
      " 82%|████████▏ | 9/11 [00:39<00:08,  4.40s/it]"
     ]
    },
    {
     "name": "stdout",
     "output_type": "stream",
     "text": [
      "('max mins', -0.9764981302756793, 1.0)\n"
     ]
    },
    {
     "name": "stderr",
     "output_type": "stream",
     "text": [
      "\r",
      " 91%|█████████ | 10/11 [00:44<00:04,  4.40s/it]"
     ]
    },
    {
     "name": "stdout",
     "output_type": "stream",
     "text": [
      "('max mins', -1.0, 0.997450571804602)\n"
     ]
    },
    {
     "name": "stderr",
     "output_type": "stream",
     "text": [
      "100%|██████████| 11/11 [00:49<00:00,  4.61s/it]\n"
     ]
    },
    {
     "name": "stdout",
     "output_type": "stream",
     "text": [
      "('Best file pairs are: ', 'non_spikey_T0000844.WAV*non_spikey_T0000845.WAV')\n",
      "Start and end indices around peak:                  start index: 13151044\t\t          end index: 24651044                  total samples:30015488\n",
      "('AV Sync was above threshold: ', 0.8785494550158023)\n",
      "common_fps/Aditya_annotations/2018-08-18/common_fps_video_syncAditya_2018-08-19_0120-0200_78.csv\n",
      "('video_fps obtained is :', 25)\n",
      "Did not find user-provided sample rate - getting it from first file that matches format!\n",
      "('sampling rate is : ', 250000)\n",
      ".....finding best audio segment.....\n"
     ]
    },
    {
     "name": "stderr",
     "output_type": "stream",
     "text": [
      "\r",
      "  0%|          | 0/11 [00:00<?, ?it/s]"
     ]
    },
    {
     "name": "stdout",
     "output_type": "stream",
     "text": [
      "('max mins for upsampled video', -1.0, 0.8526586965556251)\n",
      "('max mins', -0.9739639603380102, 1.0)\n"
     ]
    },
    {
     "name": "stderr",
     "output_type": "stream",
     "text": [
      "\r",
      "  9%|▉         | 1/11 [00:04<00:43,  4.38s/it]"
     ]
    },
    {
     "name": "stdout",
     "output_type": "stream",
     "text": [
      "('max mins', -1.0, 0.9531781071652979)\n"
     ]
    },
    {
     "name": "stderr",
     "output_type": "stream",
     "text": [
      "\r",
      " 18%|█▊        | 2/11 [00:08<00:39,  4.39s/it]"
     ]
    },
    {
     "name": "stdout",
     "output_type": "stream",
     "text": [
      "('max mins', -1.0, 0.9859764486805959)\n"
     ]
    },
    {
     "name": "stderr",
     "output_type": "stream",
     "text": [
      "\r",
      " 27%|██▋       | 3/11 [00:13<00:35,  4.40s/it]"
     ]
    },
    {
     "name": "stdout",
     "output_type": "stream",
     "text": [
      "('max mins', -1.0, 0.9807300503175779)\n"
     ]
    },
    {
     "name": "stderr",
     "output_type": "stream",
     "text": [
      "\r",
      " 36%|███▋      | 4/11 [00:17<00:30,  4.39s/it]"
     ]
    },
    {
     "name": "stdout",
     "output_type": "stream",
     "text": [
      "('max mins', -0.998946965332836, 1.0)\n"
     ]
    },
    {
     "name": "stderr",
     "output_type": "stream",
     "text": [
      "\r",
      " 45%|████▌     | 5/11 [00:21<00:26,  4.39s/it]"
     ]
    },
    {
     "name": "stdout",
     "output_type": "stream",
     "text": [
      "('max mins', -0.9960251715197141, 1.0)\n"
     ]
    },
    {
     "name": "stderr",
     "output_type": "stream",
     "text": [
      "\r",
      " 55%|█████▍    | 6/11 [00:26<00:21,  4.38s/it]"
     ]
    },
    {
     "name": "stdout",
     "output_type": "stream",
     "text": [
      "('max mins', -1.0, 0.9483329836798366)\n"
     ]
    },
    {
     "name": "stderr",
     "output_type": "stream",
     "text": [
      "\r",
      " 64%|██████▎   | 7/11 [00:30<00:17,  4.38s/it]"
     ]
    },
    {
     "name": "stdout",
     "output_type": "stream",
     "text": [
      "('max mins', -1.0, 0.9476643235160923)\n"
     ]
    },
    {
     "name": "stderr",
     "output_type": "stream",
     "text": [
      "\r",
      " 73%|███████▎  | 8/11 [00:35<00:13,  4.38s/it]"
     ]
    },
    {
     "name": "stdout",
     "output_type": "stream",
     "text": [
      "('max mins', -0.995114226491868, 1.0)\n"
     ]
    },
    {
     "name": "stderr",
     "output_type": "stream",
     "text": [
      "\r",
      " 82%|████████▏ | 9/11 [00:40<00:09,  4.55s/it]"
     ]
    },
    {
     "name": "stdout",
     "output_type": "stream",
     "text": [
      "('max mins', -0.9764981302756793, 1.0)\n"
     ]
    },
    {
     "name": "stderr",
     "output_type": "stream",
     "text": [
      "\r",
      " 91%|█████████ | 10/11 [00:44<00:04,  4.54s/it]"
     ]
    },
    {
     "name": "stdout",
     "output_type": "stream",
     "text": [
      "('max mins', -1.0, 0.997450571804602)\n"
     ]
    },
    {
     "name": "stderr",
     "output_type": "stream",
     "text": [
      "100%|██████████| 11/11 [00:48<00:00,  4.50s/it]\n"
     ]
    },
    {
     "name": "stdout",
     "output_type": "stream",
     "text": [
      "('Best file pairs are: ', 'non_spikey_T0000844.WAV*non_spikey_T0000845.WAV')\n",
      "Start and end indices around peak:                  start index: 13651056\t\t          end index: 25151056                  total samples:30015488\n",
      "('AV Sync was above threshold: ', 0.8776042443237332)\n",
      "common_fps/Aditya_annotations/2018-08-18/common_fps_video_syncAditya_2018-08-19_0120-0200_79.csv\n",
      "('video_fps obtained is :', 25)\n",
      "Did not find user-provided sample rate - getting it from first file that matches format!\n",
      "('sampling rate is : ', 250000)\n",
      ".....finding best audio segment.....\n"
     ]
    },
    {
     "name": "stderr",
     "output_type": "stream",
     "text": [
      "\r",
      "  0%|          | 0/11 [00:00<?, ?it/s]"
     ]
    },
    {
     "name": "stdout",
     "output_type": "stream",
     "text": [
      "('max mins for upsampled video', -1.0, 0.8232472077730572)\n",
      "('max mins', -0.9739639603380102, 1.0)\n"
     ]
    },
    {
     "name": "stderr",
     "output_type": "stream",
     "text": [
      "\r",
      "  9%|▉         | 1/11 [00:04<00:43,  4.37s/it]"
     ]
    },
    {
     "name": "stdout",
     "output_type": "stream",
     "text": [
      "('max mins', -1.0, 0.9531781071652979)\n"
     ]
    },
    {
     "name": "stderr",
     "output_type": "stream",
     "text": [
      "\r",
      " 18%|█▊        | 2/11 [00:09<00:40,  4.49s/it]"
     ]
    },
    {
     "name": "stdout",
     "output_type": "stream",
     "text": [
      "('max mins', -1.0, 0.9859764486805959)\n"
     ]
    },
    {
     "name": "stderr",
     "output_type": "stream",
     "text": [
      "\r",
      " 27%|██▋       | 3/11 [00:13<00:35,  4.46s/it]"
     ]
    },
    {
     "name": "stdout",
     "output_type": "stream",
     "text": [
      "('max mins', -1.0, 0.9807300503175779)\n"
     ]
    },
    {
     "name": "stderr",
     "output_type": "stream",
     "text": [
      "\r",
      " 36%|███▋      | 4/11 [00:17<00:31,  4.43s/it]"
     ]
    },
    {
     "name": "stdout",
     "output_type": "stream",
     "text": [
      "('max mins', -0.998946965332836, 1.0)\n"
     ]
    },
    {
     "name": "stderr",
     "output_type": "stream",
     "text": [
      "\r",
      " 45%|████▌     | 5/11 [00:22<00:26,  4.41s/it]"
     ]
    },
    {
     "name": "stdout",
     "output_type": "stream",
     "text": [
      "('max mins', -0.9960251715197141, 1.0)\n"
     ]
    },
    {
     "name": "stderr",
     "output_type": "stream",
     "text": [
      "\r",
      " 55%|█████▍    | 6/11 [00:26<00:21,  4.40s/it]"
     ]
    },
    {
     "name": "stdout",
     "output_type": "stream",
     "text": [
      "('max mins', -1.0, 0.9483329836798366)\n"
     ]
    },
    {
     "name": "stderr",
     "output_type": "stream",
     "text": [
      "\r",
      " 64%|██████▎   | 7/11 [00:31<00:17,  4.40s/it]"
     ]
    },
    {
     "name": "stdout",
     "output_type": "stream",
     "text": [
      "('max mins', -1.0, 0.9476643235160923)\n"
     ]
    },
    {
     "name": "stderr",
     "output_type": "stream",
     "text": [
      "\r",
      " 73%|███████▎  | 8/11 [00:35<00:13,  4.39s/it]"
     ]
    },
    {
     "name": "stdout",
     "output_type": "stream",
     "text": [
      "('max mins', -0.995114226491868, 1.0)\n"
     ]
    },
    {
     "name": "stderr",
     "output_type": "stream",
     "text": [
      "\r",
      " 82%|████████▏ | 9/11 [00:39<00:08,  4.39s/it]"
     ]
    },
    {
     "name": "stdout",
     "output_type": "stream",
     "text": [
      "('max mins', -0.9764981302756793, 1.0)\n"
     ]
    },
    {
     "name": "stderr",
     "output_type": "stream",
     "text": [
      "\r",
      " 91%|█████████ | 10/11 [00:44<00:04,  4.40s/it]"
     ]
    },
    {
     "name": "stdout",
     "output_type": "stream",
     "text": [
      "('max mins', -1.0, 0.997450571804602)\n"
     ]
    },
    {
     "name": "stderr",
     "output_type": "stream",
     "text": [
      "100%|██████████| 11/11 [00:48<00:00,  4.39s/it]\n"
     ]
    },
    {
     "name": "stdout",
     "output_type": "stream",
     "text": [
      "('Best file pairs are: ', 'non_spikey_T0000844.WAV*non_spikey_T0000845.WAV')\n",
      "Start and end indices around peak:                  start index: 14151152\t\t          end index: 25651152                  total samples:30015488\n",
      "('AV Sync was above threshold: ', 0.8757006236391769)\n",
      "common_fps/Aditya_annotations/2018-08-18/common_fps_video_syncAditya_2018-08-19_0120-0200_80.csv\n",
      "('video_fps obtained is :', 25)\n",
      "Did not find user-provided sample rate - getting it from first file that matches format!\n",
      "('sampling rate is : ', 250000)\n",
      ".....finding best audio segment.....\n"
     ]
    },
    {
     "name": "stderr",
     "output_type": "stream",
     "text": [
      "\r",
      "  0%|          | 0/11 [00:00<?, ?it/s]"
     ]
    },
    {
     "name": "stdout",
     "output_type": "stream",
     "text": [
      "('max mins for upsampled video', -1.0, 0.8008042629112222)\n",
      "('max mins', -0.9739639603380102, 1.0)\n"
     ]
    },
    {
     "name": "stderr",
     "output_type": "stream",
     "text": [
      "\r",
      "  9%|▉         | 1/11 [00:04<00:43,  4.38s/it]"
     ]
    },
    {
     "name": "stdout",
     "output_type": "stream",
     "text": [
      "('max mins', -1.0, 0.9531781071652979)\n"
     ]
    },
    {
     "name": "stderr",
     "output_type": "stream",
     "text": [
      "\r",
      " 18%|█▊        | 2/11 [00:08<00:39,  4.38s/it]"
     ]
    },
    {
     "name": "stdout",
     "output_type": "stream",
     "text": [
      "('max mins', -1.0, 0.9859764486805959)\n"
     ]
    },
    {
     "name": "stderr",
     "output_type": "stream",
     "text": [
      "\r",
      " 27%|██▋       | 3/11 [00:13<00:36,  4.51s/it]"
     ]
    },
    {
     "name": "stdout",
     "output_type": "stream",
     "text": [
      "('max mins', -1.0, 0.9807300503175779)\n"
     ]
    },
    {
     "name": "stderr",
     "output_type": "stream",
     "text": [
      "\r",
      " 36%|███▋      | 4/11 [00:17<00:31,  4.47s/it]"
     ]
    },
    {
     "name": "stdout",
     "output_type": "stream",
     "text": [
      "('max mins', -0.998946965332836, 1.0)\n"
     ]
    },
    {
     "name": "stderr",
     "output_type": "stream",
     "text": [
      "\r",
      " 45%|████▌     | 5/11 [00:22<00:26,  4.43s/it]"
     ]
    },
    {
     "name": "stdout",
     "output_type": "stream",
     "text": [
      "('max mins', -0.9960251715197141, 1.0)\n"
     ]
    },
    {
     "name": "stderr",
     "output_type": "stream",
     "text": [
      "\r",
      " 55%|█████▍    | 6/11 [00:26<00:22,  4.42s/it]"
     ]
    },
    {
     "name": "stdout",
     "output_type": "stream",
     "text": [
      "('max mins', -1.0, 0.9483329836798366)\n"
     ]
    },
    {
     "name": "stderr",
     "output_type": "stream",
     "text": [
      "\r",
      " 64%|██████▎   | 7/11 [00:31<00:17,  4.41s/it]"
     ]
    },
    {
     "name": "stdout",
     "output_type": "stream",
     "text": [
      "('max mins', -1.0, 0.9476643235160923)\n"
     ]
    },
    {
     "name": "stderr",
     "output_type": "stream",
     "text": [
      "\r",
      " 73%|███████▎  | 8/11 [00:35<00:13,  4.40s/it]"
     ]
    },
    {
     "name": "stdout",
     "output_type": "stream",
     "text": [
      "('max mins', -0.995114226491868, 1.0)\n"
     ]
    },
    {
     "name": "stderr",
     "output_type": "stream",
     "text": [
      "\r",
      " 82%|████████▏ | 9/11 [00:39<00:08,  4.40s/it]"
     ]
    },
    {
     "name": "stdout",
     "output_type": "stream",
     "text": [
      "('max mins', -0.9764981302756793, 1.0)\n"
     ]
    },
    {
     "name": "stderr",
     "output_type": "stream",
     "text": [
      "\r",
      " 91%|█████████ | 10/11 [00:44<00:04,  4.39s/it]"
     ]
    },
    {
     "name": "stdout",
     "output_type": "stream",
     "text": [
      "('max mins', -1.0, 0.997450571804602)\n"
     ]
    },
    {
     "name": "stderr",
     "output_type": "stream",
     "text": [
      "100%|██████████| 11/11 [00:48<00:00,  4.39s/it]\n"
     ]
    },
    {
     "name": "stdout",
     "output_type": "stream",
     "text": [
      "('Best file pairs are: ', 'non_spikey_T0000844.WAV*non_spikey_T0000845.WAV')\n",
      "Start and end indices around peak:                  start index: 14651041\t\t          end index: 26151041                  total samples:30015488\n",
      "('AV Sync was above threshold: ', 0.8761582930665137)\n",
      "common_fps/Aditya_annotations/2018-08-18/common_fps_video_syncAditya_2018-08-19_0120-0200_81.csv\n",
      "('video_fps obtained is :', 25)\n",
      "Did not find user-provided sample rate - getting it from first file that matches format!\n",
      "('sampling rate is : ', 250000)\n",
      ".....finding best audio segment.....\n"
     ]
    },
    {
     "name": "stderr",
     "output_type": "stream",
     "text": [
      "\r",
      "  0%|          | 0/11 [00:00<?, ?it/s]"
     ]
    },
    {
     "name": "stdout",
     "output_type": "stream",
     "text": [
      "('max mins for upsampled video', -1.0, 0.842795056533465)\n",
      "('max mins', -0.9739639603380102, 1.0)\n"
     ]
    },
    {
     "name": "stderr",
     "output_type": "stream",
     "text": [
      "\r",
      "  9%|▉         | 1/11 [00:04<00:43,  4.38s/it]"
     ]
    },
    {
     "name": "stdout",
     "output_type": "stream",
     "text": [
      "('max mins', -1.0, 0.9531781071652979)\n"
     ]
    },
    {
     "name": "stderr",
     "output_type": "stream",
     "text": [
      "\r",
      " 18%|█▊        | 2/11 [00:08<00:39,  4.38s/it]"
     ]
    },
    {
     "name": "stdout",
     "output_type": "stream",
     "text": [
      "('max mins', -1.0, 0.9859764486805959)\n"
     ]
    },
    {
     "name": "stderr",
     "output_type": "stream",
     "text": [
      "\r",
      " 27%|██▋       | 3/11 [00:13<00:35,  4.39s/it]"
     ]
    },
    {
     "name": "stdout",
     "output_type": "stream",
     "text": [
      "('max mins', -1.0, 0.9807300503175779)\n"
     ]
    },
    {
     "name": "stderr",
     "output_type": "stream",
     "text": [
      "\r",
      " 36%|███▋      | 4/11 [00:17<00:30,  4.38s/it]"
     ]
    },
    {
     "name": "stdout",
     "output_type": "stream",
     "text": [
      "('max mins', -0.998946965332836, 1.0)\n"
     ]
    },
    {
     "name": "stderr",
     "output_type": "stream",
     "text": [
      "\r",
      " 45%|████▌     | 5/11 [00:21<00:26,  4.37s/it]"
     ]
    },
    {
     "name": "stdout",
     "output_type": "stream",
     "text": [
      "('max mins', -0.9960251715197141, 1.0)\n"
     ]
    },
    {
     "name": "stderr",
     "output_type": "stream",
     "text": [
      "\r",
      " 55%|█████▍    | 6/11 [00:26<00:21,  4.38s/it]"
     ]
    },
    {
     "name": "stdout",
     "output_type": "stream",
     "text": [
      "('max mins', -1.0, 0.9483329836798366)\n"
     ]
    },
    {
     "name": "stderr",
     "output_type": "stream",
     "text": [
      "\r",
      " 64%|██████▎   | 7/11 [00:30<00:17,  4.38s/it]"
     ]
    },
    {
     "name": "stdout",
     "output_type": "stream",
     "text": [
      "('max mins', -1.0, 0.9476643235160923)\n"
     ]
    },
    {
     "name": "stderr",
     "output_type": "stream",
     "text": [
      "\r",
      " 73%|███████▎  | 8/11 [00:35<00:13,  4.50s/it]"
     ]
    },
    {
     "name": "stdout",
     "output_type": "stream",
     "text": [
      "('max mins', -0.995114226491868, 1.0)\n"
     ]
    },
    {
     "name": "stderr",
     "output_type": "stream",
     "text": [
      "\r",
      " 82%|████████▏ | 9/11 [00:40<00:09,  4.64s/it]"
     ]
    },
    {
     "name": "stdout",
     "output_type": "stream",
     "text": [
      "('max mins', -0.9764981302756793, 1.0)\n"
     ]
    },
    {
     "name": "stderr",
     "output_type": "stream",
     "text": [
      "\r",
      " 91%|█████████ | 10/11 [00:45<00:04,  4.72s/it]"
     ]
    },
    {
     "name": "stdout",
     "output_type": "stream",
     "text": [
      "('max mins', -1.0, 0.997450571804602)\n"
     ]
    },
    {
     "name": "stderr",
     "output_type": "stream",
     "text": [
      "100%|██████████| 11/11 [00:50<00:00,  4.98s/it]\n"
     ]
    },
    {
     "name": "stdout",
     "output_type": "stream",
     "text": [
      "('Best file pairs are: ', 'non_spikey_T0000845.WAV*non_spikey_T0000846.WAV')\n",
      "Start and end indices around peak:                  start index: 1143300\t\t          end index: 12643300                  total samples:30015488\n",
      "('AV Sync was above threshold: ', 0.876022241535029)\n",
      "common_fps/Aditya_annotations/2018-08-18/common_fps_video_syncAditya_2018-08-19_0120-0200_82.csv\n",
      "('video_fps obtained is :', 25)\n",
      "Did not find user-provided sample rate - getting it from first file that matches format!\n",
      "('sampling rate is : ', 250000)\n",
      ".....finding best audio segment.....\n"
     ]
    },
    {
     "name": "stderr",
     "output_type": "stream",
     "text": [
      "\r",
      "  0%|          | 0/11 [00:00<?, ?it/s]"
     ]
    },
    {
     "name": "stdout",
     "output_type": "stream",
     "text": [
      "('max mins for upsampled video', -1.0, 0.848824456071499)\n",
      "('max mins', -0.9739639603380102, 1.0)\n"
     ]
    },
    {
     "name": "stderr",
     "output_type": "stream",
     "text": [
      "\r",
      "  9%|▉         | 1/11 [00:05<00:53,  5.39s/it]"
     ]
    },
    {
     "name": "stdout",
     "output_type": "stream",
     "text": [
      "('max mins', -1.0, 0.9531781071652979)\n"
     ]
    },
    {
     "name": "stderr",
     "output_type": "stream",
     "text": [
      "\r",
      " 18%|█▊        | 2/11 [00:10<00:48,  5.39s/it]"
     ]
    },
    {
     "name": "stdout",
     "output_type": "stream",
     "text": [
      "('max mins', -1.0, 0.9859764486805959)\n"
     ]
    },
    {
     "name": "stderr",
     "output_type": "stream",
     "text": [
      "\r",
      " 27%|██▋       | 3/11 [00:15<00:42,  5.26s/it]"
     ]
    },
    {
     "name": "stdout",
     "output_type": "stream",
     "text": [
      "('max mins', -1.0, 0.9807300503175779)\n"
     ]
    },
    {
     "name": "stderr",
     "output_type": "stream",
     "text": [
      "\r",
      " 36%|███▋      | 4/11 [00:20<00:36,  5.17s/it]"
     ]
    },
    {
     "name": "stdout",
     "output_type": "stream",
     "text": [
      "('max mins', -0.998946965332836, 1.0)\n"
     ]
    },
    {
     "name": "stderr",
     "output_type": "stream",
     "text": [
      "\r",
      " 45%|████▌     | 5/11 [00:26<00:31,  5.33s/it]"
     ]
    },
    {
     "name": "stdout",
     "output_type": "stream",
     "text": [
      "('max mins', -0.9960251715197141, 1.0)\n"
     ]
    },
    {
     "name": "stderr",
     "output_type": "stream",
     "text": [
      "\r",
      " 55%|█████▍    | 6/11 [00:31<00:26,  5.25s/it]"
     ]
    },
    {
     "name": "stdout",
     "output_type": "stream",
     "text": [
      "('max mins', -1.0, 0.9483329836798366)\n"
     ]
    },
    {
     "name": "stderr",
     "output_type": "stream",
     "text": [
      "\r",
      " 64%|██████▎   | 7/11 [00:36<00:20,  5.09s/it]"
     ]
    },
    {
     "name": "stdout",
     "output_type": "stream",
     "text": [
      "('max mins', -1.0, 0.9476643235160923)\n"
     ]
    },
    {
     "name": "stderr",
     "output_type": "stream",
     "text": [
      "\r",
      " 73%|███████▎  | 8/11 [00:41<00:15,  5.28s/it]"
     ]
    },
    {
     "name": "stdout",
     "output_type": "stream",
     "text": [
      "('max mins', -0.995114226491868, 1.0)\n"
     ]
    },
    {
     "name": "stderr",
     "output_type": "stream",
     "text": [
      "\r",
      " 82%|████████▏ | 9/11 [00:46<00:10,  5.14s/it]"
     ]
    },
    {
     "name": "stdout",
     "output_type": "stream",
     "text": [
      "('max mins', -0.9764981302756793, 1.0)\n"
     ]
    },
    {
     "name": "stderr",
     "output_type": "stream",
     "text": [
      "\r",
      " 91%|█████████ | 10/11 [00:51<00:04,  4.92s/it]"
     ]
    },
    {
     "name": "stdout",
     "output_type": "stream",
     "text": [
      "('max mins', -1.0, 0.997450571804602)\n"
     ]
    },
    {
     "name": "stderr",
     "output_type": "stream",
     "text": [
      "100%|██████████| 11/11 [00:55<00:00,  4.76s/it]\n"
     ]
    },
    {
     "name": "stdout",
     "output_type": "stream",
     "text": [
      "('Best file pairs are: ', 'non_spikey_T0000845.WAV*non_spikey_T0000846.WAV')\n",
      "Start and end indices around peak:                  start index: 1393401\t\t          end index: 12893401                  total samples:30015488\n",
      "('AV Sync was above threshold: ', 0.8767450668881942)\n",
      "common_fps/Aditya_annotations/2018-08-18/common_fps_video_syncAditya_2018-08-19_0120-0200_83.csv\n",
      "('video_fps obtained is :', 25)\n",
      "Did not find user-provided sample rate - getting it from first file that matches format!\n",
      "('sampling rate is : ', 250000)\n",
      ".....finding best audio segment.....\n"
     ]
    },
    {
     "name": "stderr",
     "output_type": "stream",
     "text": [
      "\r",
      "  0%|          | 0/11 [00:00<?, ?it/s]"
     ]
    },
    {
     "name": "stdout",
     "output_type": "stream",
     "text": [
      "('max mins for upsampled video', -1.0, 0.836734570941708)\n",
      "('max mins', -0.9739639603380102, 1.0)\n"
     ]
    },
    {
     "name": "stderr",
     "output_type": "stream",
     "text": [
      "\r",
      "  9%|▉         | 1/11 [00:05<00:53,  5.39s/it]"
     ]
    },
    {
     "name": "stdout",
     "output_type": "stream",
     "text": [
      "('max mins', -1.0, 0.9531781071652979)\n"
     ]
    },
    {
     "name": "stderr",
     "output_type": "stream",
     "text": [
      "\r",
      " 18%|█▊        | 2/11 [00:10<00:48,  5.39s/it]"
     ]
    },
    {
     "name": "stdout",
     "output_type": "stream",
     "text": [
      "('max mins', -1.0, 0.9859764486805959)\n"
     ]
    },
    {
     "name": "stderr",
     "output_type": "stream",
     "text": [
      "\r",
      " 27%|██▋       | 3/11 [00:15<00:42,  5.26s/it]"
     ]
    },
    {
     "name": "stdout",
     "output_type": "stream",
     "text": [
      "('max mins', -1.0, 0.9807300503175779)\n"
     ]
    },
    {
     "name": "stderr",
     "output_type": "stream",
     "text": [
      "\r",
      " 36%|███▋      | 4/11 [00:21<00:37,  5.36s/it]"
     ]
    },
    {
     "name": "stdout",
     "output_type": "stream",
     "text": [
      "('max mins', -0.998946965332836, 1.0)\n"
     ]
    },
    {
     "name": "stderr",
     "output_type": "stream",
     "text": [
      "\r",
      " 45%|████▌     | 5/11 [00:27<00:32,  5.47s/it]"
     ]
    },
    {
     "name": "stdout",
     "output_type": "stream",
     "text": [
      "('max mins', -0.9960251715197141, 1.0)\n"
     ]
    },
    {
     "name": "stderr",
     "output_type": "stream",
     "text": [
      "\r",
      " 55%|█████▍    | 6/11 [00:32<00:27,  5.48s/it]"
     ]
    },
    {
     "name": "stdout",
     "output_type": "stream",
     "text": [
      "('max mins', -1.0, 0.9483329836798366)\n"
     ]
    },
    {
     "name": "stderr",
     "output_type": "stream",
     "text": [
      "\r",
      " 64%|██████▎   | 7/11 [00:38<00:22,  5.51s/it]"
     ]
    },
    {
     "name": "stdout",
     "output_type": "stream",
     "text": [
      "('max mins', -1.0, 0.9476643235160923)\n"
     ]
    },
    {
     "name": "stderr",
     "output_type": "stream",
     "text": [
      "\r",
      " 73%|███████▎  | 8/11 [00:42<00:15,  5.29s/it]"
     ]
    },
    {
     "name": "stdout",
     "output_type": "stream",
     "text": [
      "('max mins', -0.995114226491868, 1.0)\n"
     ]
    },
    {
     "name": "stderr",
     "output_type": "stream",
     "text": [
      "\r",
      " 82%|████████▏ | 9/11 [00:47<00:10,  5.16s/it]"
     ]
    },
    {
     "name": "stdout",
     "output_type": "stream",
     "text": [
      "('max mins', -0.9764981302756793, 1.0)\n"
     ]
    },
    {
     "name": "stderr",
     "output_type": "stream",
     "text": [
      "\r",
      " 91%|█████████ | 10/11 [00:52<00:05,  5.06s/it]"
     ]
    },
    {
     "name": "stdout",
     "output_type": "stream",
     "text": [
      "('max mins', -1.0, 0.997450571804602)\n"
     ]
    },
    {
     "name": "stderr",
     "output_type": "stream",
     "text": [
      "100%|██████████| 11/11 [00:57<00:00,  4.96s/it]\n"
     ]
    },
    {
     "name": "stdout",
     "output_type": "stream",
     "text": [
      "('Best file pairs are: ', 'non_spikey_T0000845.WAV*non_spikey_T0000846.WAV')\n",
      "Start and end indices around peak:                  start index: 1893297\t\t          end index: 13393297                  total samples:30015488\n",
      "('AV Sync was above threshold: ', 0.8785587667415723)\n",
      "common_fps/Aditya_annotations/2018-08-18/common_fps_video_syncAditya_2018-08-19_0120-0200_84.csv\n",
      "('video_fps obtained is :', 25)\n",
      "Did not find user-provided sample rate - getting it from first file that matches format!\n",
      "('sampling rate is : ', 250000)\n",
      ".....finding best audio segment.....\n"
     ]
    },
    {
     "name": "stderr",
     "output_type": "stream",
     "text": [
      "\r",
      "  0%|          | 0/11 [00:00<?, ?it/s]"
     ]
    },
    {
     "name": "stdout",
     "output_type": "stream",
     "text": [
      "('max mins for upsampled video', -1.0, 0.8775558316871627)\n",
      "('max mins', -0.9739639603380102, 1.0)\n"
     ]
    },
    {
     "name": "stderr",
     "output_type": "stream",
     "text": [
      "\r",
      "  9%|▉         | 1/11 [00:04<00:46,  4.61s/it]"
     ]
    },
    {
     "name": "stdout",
     "output_type": "stream",
     "text": [
      "('max mins', -1.0, 0.9531781071652979)\n"
     ]
    },
    {
     "name": "stderr",
     "output_type": "stream",
     "text": [
      "\r",
      " 18%|█▊        | 2/11 [00:09<00:42,  4.69s/it]"
     ]
    },
    {
     "name": "stdout",
     "output_type": "stream",
     "text": [
      "('max mins', -1.0, 0.9859764486805959)\n"
     ]
    },
    {
     "name": "stderr",
     "output_type": "stream",
     "text": [
      "\r",
      " 27%|██▋       | 3/11 [00:14<00:37,  4.74s/it]"
     ]
    },
    {
     "name": "stdout",
     "output_type": "stream",
     "text": [
      "('max mins', -1.0, 0.9807300503175779)\n"
     ]
    },
    {
     "name": "stderr",
     "output_type": "stream",
     "text": [
      "\r",
      " 36%|███▋      | 4/11 [00:18<00:32,  4.69s/it]"
     ]
    },
    {
     "name": "stdout",
     "output_type": "stream",
     "text": [
      "('max mins', -0.998946965332836, 1.0)\n"
     ]
    },
    {
     "name": "stderr",
     "output_type": "stream",
     "text": [
      "\r",
      " 45%|████▌     | 5/11 [00:23<00:28,  4.74s/it]"
     ]
    },
    {
     "name": "stdout",
     "output_type": "stream",
     "text": [
      "('max mins', -0.9960251715197141, 1.0)\n"
     ]
    },
    {
     "name": "stderr",
     "output_type": "stream",
     "text": [
      "\r",
      " 55%|█████▍    | 6/11 [00:29<00:24,  4.94s/it]"
     ]
    },
    {
     "name": "stdout",
     "output_type": "stream",
     "text": [
      "('max mins', -1.0, 0.9483329836798366)\n"
     ]
    },
    {
     "name": "stderr",
     "output_type": "stream",
     "text": [
      "\r",
      " 64%|██████▎   | 7/11 [00:34<00:20,  5.11s/it]"
     ]
    },
    {
     "name": "stdout",
     "output_type": "stream",
     "text": [
      "('max mins', -1.0, 0.9476643235160923)\n"
     ]
    },
    {
     "name": "stderr",
     "output_type": "stream",
     "text": [
      "\r",
      " 73%|███████▎  | 8/11 [00:39<00:15,  5.10s/it]"
     ]
    },
    {
     "name": "stdout",
     "output_type": "stream",
     "text": [
      "('max mins', -0.995114226491868, 1.0)\n"
     ]
    },
    {
     "name": "stderr",
     "output_type": "stream",
     "text": [
      "\r",
      " 82%|████████▏ | 9/11 [00:45<00:10,  5.21s/it]"
     ]
    },
    {
     "name": "stdout",
     "output_type": "stream",
     "text": [
      "('max mins', -0.9764981302756793, 1.0)\n"
     ]
    },
    {
     "name": "stderr",
     "output_type": "stream",
     "text": [
      "\r",
      " 91%|█████████ | 10/11 [00:50<00:05,  5.28s/it]"
     ]
    },
    {
     "name": "stdout",
     "output_type": "stream",
     "text": [
      "('max mins', -1.0, 0.997450571804602)\n"
     ]
    },
    {
     "name": "stderr",
     "output_type": "stream",
     "text": [
      "100%|██████████| 11/11 [00:55<00:00,  5.00s/it]\n"
     ]
    },
    {
     "name": "stdout",
     "output_type": "stream",
     "text": [
      "('Best file pairs are: ', 'non_spikey_T0000845.WAV*non_spikey_T0000846.WAV')\n",
      "Start and end indices around peak:                  start index: 3893300\t\t          end index: 15393300                  total samples:30015488\n",
      "('AV Sync was above threshold: ', 0.884214831612666)\n",
      "common_fps/Aditya_annotations/2018-08-18/common_fps_video_syncAditya_2018-08-19_0120-0200_85.csv\n",
      "('video_fps obtained is :', 25)\n",
      "Did not find user-provided sample rate - getting it from first file that matches format!\n",
      "('sampling rate is : ', 250000)\n",
      ".....finding best audio segment.....\n"
     ]
    },
    {
     "name": "stderr",
     "output_type": "stream",
     "text": [
      "\r",
      "  0%|          | 0/11 [00:00<?, ?it/s]"
     ]
    },
    {
     "name": "stdout",
     "output_type": "stream",
     "text": [
      "('max mins for upsampled video', -1.0, 0.9727338528300906)\n",
      "('max mins', -0.9739639603380102, 1.0)\n"
     ]
    },
    {
     "name": "stderr",
     "output_type": "stream",
     "text": [
      "\r",
      "  9%|▉         | 1/11 [00:06<01:03,  6.32s/it]"
     ]
    },
    {
     "name": "stdout",
     "output_type": "stream",
     "text": [
      "('max mins', -1.0, 0.9531781071652979)\n"
     ]
    },
    {
     "name": "stderr",
     "output_type": "stream",
     "text": [
      "\r",
      " 18%|█▊        | 2/11 [00:11<00:54,  6.02s/it]"
     ]
    },
    {
     "name": "stdout",
     "output_type": "stream",
     "text": [
      "('max mins', -1.0, 0.9859764486805959)\n"
     ]
    },
    {
     "name": "stderr",
     "output_type": "stream",
     "text": [
      "\r",
      " 27%|██▋       | 3/11 [00:16<00:46,  5.78s/it]"
     ]
    },
    {
     "name": "stdout",
     "output_type": "stream",
     "text": [
      "('max mins', -1.0, 0.9807300503175779)\n"
     ]
    },
    {
     "name": "stderr",
     "output_type": "stream",
     "text": [
      "\r",
      " 36%|███▋      | 4/11 [00:21<00:37,  5.42s/it]"
     ]
    },
    {
     "name": "stdout",
     "output_type": "stream",
     "text": [
      "('max mins', -0.998946965332836, 1.0)\n"
     ]
    },
    {
     "name": "stderr",
     "output_type": "stream",
     "text": [
      "\r",
      " 45%|████▌     | 5/11 [00:26<00:31,  5.21s/it]"
     ]
    },
    {
     "name": "stdout",
     "output_type": "stream",
     "text": [
      "('max mins', -0.9960251715197141, 1.0)\n"
     ]
    },
    {
     "name": "stderr",
     "output_type": "stream",
     "text": [
      "\r",
      " 55%|█████▍    | 6/11 [00:31<00:25,  5.18s/it]"
     ]
    },
    {
     "name": "stdout",
     "output_type": "stream",
     "text": [
      "('max mins', -1.0, 0.9483329836798366)\n"
     ]
    },
    {
     "name": "stderr",
     "output_type": "stream",
     "text": [
      "\r",
      " 64%|██████▎   | 7/11 [00:37<00:21,  5.39s/it]"
     ]
    },
    {
     "name": "stdout",
     "output_type": "stream",
     "text": [
      "('max mins', -1.0, 0.9476643235160923)\n"
     ]
    },
    {
     "name": "stderr",
     "output_type": "stream",
     "text": [
      "\r",
      " 73%|███████▎  | 8/11 [00:42<00:16,  5.52s/it]"
     ]
    },
    {
     "name": "stdout",
     "output_type": "stream",
     "text": [
      "('max mins', -0.995114226491868, 1.0)\n"
     ]
    },
    {
     "name": "stderr",
     "output_type": "stream",
     "text": [
      "\r",
      " 82%|████████▏ | 9/11 [00:49<00:11,  5.72s/it]"
     ]
    },
    {
     "name": "stdout",
     "output_type": "stream",
     "text": [
      "('max mins', -0.9764981302756793, 1.0)\n"
     ]
    },
    {
     "name": "stderr",
     "output_type": "stream",
     "text": [
      "\r",
      " 91%|█████████ | 10/11 [00:54<00:05,  5.59s/it]"
     ]
    },
    {
     "name": "stdout",
     "output_type": "stream",
     "text": [
      "('max mins', -1.0, 0.997450571804602)\n"
     ]
    },
    {
     "name": "stderr",
     "output_type": "stream",
     "text": [
      "100%|██████████| 11/11 [00:59<00:00,  5.30s/it]\n"
     ]
    },
    {
     "name": "stdout",
     "output_type": "stream",
     "text": [
      "('Best file pairs are: ', 'non_spikey_T0000845.WAV*non_spikey_T0000846.WAV')\n",
      "Start and end indices around peak:                  start index: 9393497\t\t          end index: 20893497                  total samples:30015488\n",
      "('AV Sync was above threshold: ', 0.8839482040080793)\n",
      "common_fps/Aditya_annotations/2018-08-18/common_fps_video_syncAditya_2018-08-19_0120-0200_86.csv\n",
      "('video_fps obtained is :', 25)\n",
      "Did not find user-provided sample rate - getting it from first file that matches format!\n",
      "('sampling rate is : ', 250000)\n",
      ".....finding best audio segment.....\n"
     ]
    },
    {
     "name": "stderr",
     "output_type": "stream",
     "text": [
      "\r",
      "  0%|          | 0/11 [00:00<?, ?it/s]"
     ]
    },
    {
     "name": "stdout",
     "output_type": "stream",
     "text": [
      "('max mins for upsampled video', -0.9895199571023038, 1.0)\n",
      "('max mins', -0.9739639603380102, 1.0)\n"
     ]
    },
    {
     "name": "stderr",
     "output_type": "stream",
     "text": [
      "\r",
      "  9%|▉         | 1/11 [00:04<00:46,  4.65s/it]"
     ]
    },
    {
     "name": "stdout",
     "output_type": "stream",
     "text": [
      "('max mins', -1.0, 0.9531781071652979)\n"
     ]
    },
    {
     "name": "stderr",
     "output_type": "stream",
     "text": [
      "\r",
      " 18%|█▊        | 2/11 [00:09<00:41,  4.62s/it]"
     ]
    },
    {
     "name": "stdout",
     "output_type": "stream",
     "text": [
      "('max mins', -1.0, 0.9859764486805959)\n"
     ]
    },
    {
     "name": "stderr",
     "output_type": "stream",
     "text": [
      "\r",
      " 27%|██▋       | 3/11 [00:13<00:36,  4.62s/it]"
     ]
    },
    {
     "name": "stdout",
     "output_type": "stream",
     "text": [
      "('max mins', -1.0, 0.9807300503175779)\n"
     ]
    },
    {
     "name": "stderr",
     "output_type": "stream",
     "text": [
      "\r",
      " 36%|███▋      | 4/11 [00:18<00:33,  4.78s/it]"
     ]
    },
    {
     "name": "stdout",
     "output_type": "stream",
     "text": [
      "('max mins', -0.998946965332836, 1.0)\n"
     ]
    },
    {
     "name": "stderr",
     "output_type": "stream",
     "text": [
      "\r",
      " 45%|████▌     | 5/11 [00:24<00:30,  5.05s/it]"
     ]
    },
    {
     "name": "stdout",
     "output_type": "stream",
     "text": [
      "('max mins', -0.9960251715197141, 1.0)\n"
     ]
    },
    {
     "name": "stderr",
     "output_type": "stream",
     "text": [
      "\r",
      " 55%|█████▍    | 6/11 [00:29<00:25,  5.05s/it]"
     ]
    },
    {
     "name": "stdout",
     "output_type": "stream",
     "text": [
      "('max mins', -1.0, 0.9483329836798366)\n"
     ]
    },
    {
     "name": "stderr",
     "output_type": "stream",
     "text": [
      "\r",
      " 64%|██████▎   | 7/11 [00:35<00:20,  5.18s/it]"
     ]
    },
    {
     "name": "stdout",
     "output_type": "stream",
     "text": [
      "('max mins', -1.0, 0.9476643235160923)\n"
     ]
    },
    {
     "name": "stderr",
     "output_type": "stream",
     "text": [
      "\r",
      " 73%|███████▎  | 8/11 [00:40<00:16,  5.34s/it]"
     ]
    },
    {
     "name": "stdout",
     "output_type": "stream",
     "text": [
      "('max mins', -0.995114226491868, 1.0)\n"
     ]
    },
    {
     "name": "stderr",
     "output_type": "stream",
     "text": [
      "\r",
      " 82%|████████▏ | 9/11 [00:46<00:10,  5.48s/it]"
     ]
    },
    {
     "name": "stdout",
     "output_type": "stream",
     "text": [
      "('max mins', -0.9764981302756793, 1.0)\n"
     ]
    },
    {
     "name": "stderr",
     "output_type": "stream",
     "text": [
      "\r",
      " 91%|█████████ | 10/11 [00:52<00:05,  5.46s/it]"
     ]
    },
    {
     "name": "stdout",
     "output_type": "stream",
     "text": [
      "('max mins', -1.0, 0.997450571804602)\n"
     ]
    },
    {
     "name": "stderr",
     "output_type": "stream",
     "text": [
      "100%|██████████| 11/11 [00:56<00:00,  5.14s/it]\n"
     ]
    },
    {
     "name": "stdout",
     "output_type": "stream",
     "text": [
      "('Best file pairs are: ', 'non_spikey_T0000845.WAV*non_spikey_T0000846.WAV')\n",
      "Start and end indices around peak:                  start index: 16643032\t\t          end index: 28143032                  total samples:30015488\n",
      "('AV Sync was above threshold: ', 0.8722821325297021)\n",
      "common_fps/Aditya_annotations/2018-08-18/common_fps_video_syncAditya_2018-08-19_0120-0200_87.csv\n",
      "('video_fps obtained is :', 25)\n",
      "Did not find user-provided sample rate - getting it from first file that matches format!\n",
      "('sampling rate is : ', 250000)\n",
      ".....finding best audio segment.....\n"
     ]
    },
    {
     "name": "stderr",
     "output_type": "stream",
     "text": [
      "\r",
      "  0%|          | 0/11 [00:00<?, ?it/s]"
     ]
    },
    {
     "name": "stdout",
     "output_type": "stream",
     "text": [
      "('max mins for upsampled video', -0.9895199571023038, 1.0)\n",
      "('max mins', -0.9739639603380102, 1.0)\n"
     ]
    },
    {
     "name": "stderr",
     "output_type": "stream",
     "text": [
      "\r",
      "  9%|▉         | 1/11 [00:04<00:43,  4.34s/it]"
     ]
    },
    {
     "name": "stdout",
     "output_type": "stream",
     "text": [
      "('max mins', -1.0, 0.9531781071652979)\n"
     ]
    },
    {
     "name": "stderr",
     "output_type": "stream",
     "text": [
      "\r",
      " 18%|█▊        | 2/11 [00:08<00:39,  4.35s/it]"
     ]
    },
    {
     "name": "stdout",
     "output_type": "stream",
     "text": [
      "('max mins', -1.0, 0.9859764486805959)\n"
     ]
    },
    {
     "name": "stderr",
     "output_type": "stream",
     "text": [
      "\r",
      " 27%|██▋       | 3/11 [00:13<00:34,  4.35s/it]"
     ]
    },
    {
     "name": "stdout",
     "output_type": "stream",
     "text": [
      "('max mins', -1.0, 0.9807300503175779)\n"
     ]
    },
    {
     "name": "stderr",
     "output_type": "stream",
     "text": [
      "\r",
      " 36%|███▋      | 4/11 [00:17<00:30,  4.36s/it]"
     ]
    },
    {
     "name": "stdout",
     "output_type": "stream",
     "text": [
      "('max mins', -0.998946965332836, 1.0)\n"
     ]
    },
    {
     "name": "stderr",
     "output_type": "stream",
     "text": [
      "\r",
      " 45%|████▌     | 5/11 [00:21<00:26,  4.40s/it]"
     ]
    },
    {
     "name": "stdout",
     "output_type": "stream",
     "text": [
      "('max mins', -0.9960251715197141, 1.0)\n"
     ]
    },
    {
     "name": "stderr",
     "output_type": "stream",
     "text": [
      "\r",
      " 55%|█████▍    | 6/11 [00:26<00:22,  4.41s/it]"
     ]
    },
    {
     "name": "stdout",
     "output_type": "stream",
     "text": [
      "('max mins', -1.0, 0.9483329836798366)\n"
     ]
    },
    {
     "name": "stderr",
     "output_type": "stream",
     "text": [
      "\r",
      " 64%|██████▎   | 7/11 [00:30<00:17,  4.40s/it]"
     ]
    },
    {
     "name": "stdout",
     "output_type": "stream",
     "text": [
      "('max mins', -1.0, 0.9476643235160923)\n"
     ]
    },
    {
     "name": "stderr",
     "output_type": "stream",
     "text": [
      "\r",
      " 73%|███████▎  | 8/11 [00:35<00:13,  4.40s/it]"
     ]
    },
    {
     "name": "stdout",
     "output_type": "stream",
     "text": [
      "('max mins', -0.995114226491868, 1.0)\n"
     ]
    },
    {
     "name": "stderr",
     "output_type": "stream",
     "text": [
      "\r",
      " 82%|████████▏ | 9/11 [00:39<00:08,  4.40s/it]"
     ]
    },
    {
     "name": "stdout",
     "output_type": "stream",
     "text": [
      "('max mins', -0.9764981302756793, 1.0)\n"
     ]
    },
    {
     "name": "stderr",
     "output_type": "stream",
     "text": [
      "\r",
      " 91%|█████████ | 10/11 [00:43<00:04,  4.39s/it]"
     ]
    },
    {
     "name": "stdout",
     "output_type": "stream",
     "text": [
      "('max mins', -1.0, 0.997450571804602)\n"
     ]
    },
    {
     "name": "stderr",
     "output_type": "stream",
     "text": [
      "100%|██████████| 11/11 [00:48<00:00,  4.39s/it]\n"
     ]
    },
    {
     "name": "stdout",
     "output_type": "stream",
     "text": [
      "('Best file pairs are: ', 'non_spikey_T0000845.WAV*non_spikey_T0000846.WAV')\n",
      "Start and end indices around peak:                  start index: 16643032\t\t          end index: 28143032                  total samples:30015488\n",
      "('AV Sync was above threshold: ', 0.8722821325297021)\n",
      "common_fps/Aditya_annotations/2018-08-18/common_fps_video_syncAditya_2018-08-19_0120-0200_88.csv\n",
      "('video_fps obtained is :', 25)\n",
      "Did not find user-provided sample rate - getting it from first file that matches format!\n",
      "('sampling rate is : ', 250000)\n",
      ".....finding best audio segment.....\n"
     ]
    },
    {
     "name": "stderr",
     "output_type": "stream",
     "text": [
      "\r",
      "  0%|          | 0/11 [00:00<?, ?it/s]"
     ]
    },
    {
     "name": "stdout",
     "output_type": "stream",
     "text": [
      "('max mins for upsampled video', -0.9929984759556205, 1.0)\n",
      "('max mins', -0.9739639603380102, 1.0)\n"
     ]
    },
    {
     "name": "stderr",
     "output_type": "stream",
     "text": [
      "\r",
      "  9%|▉         | 1/11 [00:04<00:43,  4.33s/it]"
     ]
    },
    {
     "name": "stdout",
     "output_type": "stream",
     "text": [
      "('max mins', -1.0, 0.9531781071652979)\n"
     ]
    },
    {
     "name": "stderr",
     "output_type": "stream",
     "text": [
      "\r",
      " 18%|█▊        | 2/11 [00:09<00:41,  4.59s/it]"
     ]
    },
    {
     "name": "stdout",
     "output_type": "stream",
     "text": [
      "('max mins', -1.0, 0.9859764486805959)\n"
     ]
    },
    {
     "name": "stderr",
     "output_type": "stream",
     "text": [
      "\r",
      " 27%|██▋       | 3/11 [00:14<00:38,  4.85s/it]"
     ]
    },
    {
     "name": "stdout",
     "output_type": "stream",
     "text": [
      "('max mins', -1.0, 0.9807300503175779)\n"
     ]
    },
    {
     "name": "stderr",
     "output_type": "stream",
     "text": [
      "\r",
      " 36%|███▋      | 4/11 [00:20<00:34,  4.96s/it]"
     ]
    },
    {
     "name": "stdout",
     "output_type": "stream",
     "text": [
      "('max mins', -0.998946965332836, 1.0)\n"
     ]
    },
    {
     "name": "stderr",
     "output_type": "stream",
     "text": [
      "\r",
      " 45%|████▌     | 5/11 [00:25<00:30,  5.05s/it]"
     ]
    },
    {
     "name": "stdout",
     "output_type": "stream",
     "text": [
      "('max mins', -0.9960251715197141, 1.0)\n"
     ]
    },
    {
     "name": "stderr",
     "output_type": "stream",
     "text": [
      "\r",
      " 55%|█████▍    | 6/11 [00:30<00:25,  5.17s/it]"
     ]
    },
    {
     "name": "stdout",
     "output_type": "stream",
     "text": [
      "('max mins', -1.0, 0.9483329836798366)\n"
     ]
    },
    {
     "name": "stderr",
     "output_type": "stream",
     "text": [
      "\r",
      " 64%|██████▎   | 7/11 [00:35<00:20,  5.02s/it]"
     ]
    },
    {
     "name": "stdout",
     "output_type": "stream",
     "text": [
      "('max mins', -1.0, 0.9476643235160923)\n"
     ]
    },
    {
     "name": "stderr",
     "output_type": "stream",
     "text": [
      "\r",
      " 73%|███████▎  | 8/11 [00:40<00:14,  4.84s/it]"
     ]
    },
    {
     "name": "stdout",
     "output_type": "stream",
     "text": [
      "('max mins', -0.995114226491868, 1.0)\n"
     ]
    },
    {
     "name": "stderr",
     "output_type": "stream",
     "text": [
      "\r",
      " 82%|████████▏ | 9/11 [00:44<00:09,  4.71s/it]"
     ]
    },
    {
     "name": "stdout",
     "output_type": "stream",
     "text": [
      "('max mins', -0.9764981302756793, 1.0)\n"
     ]
    },
    {
     "name": "stderr",
     "output_type": "stream",
     "text": [
      "\r",
      " 91%|█████████ | 10/11 [00:48<00:04,  4.62s/it]"
     ]
    },
    {
     "name": "stdout",
     "output_type": "stream",
     "text": [
      "('max mins', -1.0, 0.997450571804602)\n"
     ]
    },
    {
     "name": "stderr",
     "output_type": "stream",
     "text": [
      "100%|██████████| 11/11 [00:53<00:00,  4.55s/it]\n"
     ]
    },
    {
     "name": "stdout",
     "output_type": "stream",
     "text": [
      "('Best file pairs are: ', 'non_spikey_T0000845.WAV*non_spikey_T0000846.WAV')\n",
      "Start and end indices around peak:                  start index: 16893032\t\t          end index: 28393032                  total samples:30015488\n",
      "('AV Sync was above threshold: ', 0.8719696174611417)\n",
      "common_fps/Aditya_annotations/2018-08-18/common_fps_video_syncAditya_2018-08-19_0120-0200_90.csv\n",
      "('video_fps obtained is :', 25)\n",
      "Did not find user-provided sample rate - getting it from first file that matches format!\n",
      "('sampling rate is : ', 250000)\n",
      ".....finding best audio segment.....\n"
     ]
    },
    {
     "name": "stderr",
     "output_type": "stream",
     "text": [
      "\r",
      "  0%|          | 0/11 [00:00<?, ?it/s]"
     ]
    },
    {
     "name": "stdout",
     "output_type": "stream",
     "text": [
      "('max mins for upsampled video', -0.9771460052319898, 1.0)\n",
      "('max mins', -0.9739639603380102, 1.0)\n"
     ]
    },
    {
     "name": "stderr",
     "output_type": "stream",
     "text": [
      "\r",
      "  9%|▉         | 1/11 [00:04<00:43,  4.38s/it]"
     ]
    },
    {
     "name": "stdout",
     "output_type": "stream",
     "text": [
      "('max mins', -1.0, 0.9531781071652979)\n"
     ]
    },
    {
     "name": "stderr",
     "output_type": "stream",
     "text": [
      "\r",
      " 18%|█▊        | 2/11 [00:08<00:39,  4.38s/it]"
     ]
    },
    {
     "name": "stdout",
     "output_type": "stream",
     "text": [
      "('max mins', -1.0, 0.9859764486805959)\n"
     ]
    },
    {
     "name": "stderr",
     "output_type": "stream",
     "text": [
      "\r",
      " 27%|██▋       | 3/11 [00:13<00:35,  4.39s/it]"
     ]
    },
    {
     "name": "stdout",
     "output_type": "stream",
     "text": [
      "('max mins', -1.0, 0.9807300503175779)\n"
     ]
    },
    {
     "name": "stderr",
     "output_type": "stream",
     "text": [
      "\r",
      " 36%|███▋      | 4/11 [00:17<00:30,  4.39s/it]"
     ]
    },
    {
     "name": "stdout",
     "output_type": "stream",
     "text": [
      "('max mins', -0.998946965332836, 1.0)\n"
     ]
    },
    {
     "name": "stderr",
     "output_type": "stream",
     "text": [
      "\r",
      " 45%|████▌     | 5/11 [00:21<00:26,  4.40s/it]"
     ]
    },
    {
     "name": "stdout",
     "output_type": "stream",
     "text": [
      "('max mins', -0.9960251715197141, 1.0)\n"
     ]
    },
    {
     "name": "stderr",
     "output_type": "stream",
     "text": [
      "\r",
      " 55%|█████▍    | 6/11 [00:26<00:21,  4.40s/it]"
     ]
    },
    {
     "name": "stdout",
     "output_type": "stream",
     "text": [
      "('max mins', -1.0, 0.9483329836798366)\n"
     ]
    },
    {
     "name": "stderr",
     "output_type": "stream",
     "text": [
      "\r",
      " 64%|██████▎   | 7/11 [00:30<00:17,  4.40s/it]"
     ]
    },
    {
     "name": "stdout",
     "output_type": "stream",
     "text": [
      "('max mins', -1.0, 0.9476643235160923)\n"
     ]
    },
    {
     "name": "stderr",
     "output_type": "stream",
     "text": [
      "\r",
      " 73%|███████▎  | 8/11 [00:35<00:13,  4.40s/it]"
     ]
    },
    {
     "name": "stdout",
     "output_type": "stream",
     "text": [
      "('max mins', -0.995114226491868, 1.0)\n"
     ]
    },
    {
     "name": "stderr",
     "output_type": "stream",
     "text": [
      "\r",
      " 82%|████████▏ | 9/11 [00:39<00:08,  4.40s/it]"
     ]
    },
    {
     "name": "stdout",
     "output_type": "stream",
     "text": [
      "('max mins', -0.9764981302756793, 1.0)\n"
     ]
    },
    {
     "name": "stderr",
     "output_type": "stream",
     "text": [
      "\r",
      " 91%|█████████ | 10/11 [00:43<00:04,  4.40s/it]"
     ]
    },
    {
     "name": "stdout",
     "output_type": "stream",
     "text": [
      "('max mins', -1.0, 0.997450571804602)\n"
     ]
    },
    {
     "name": "stderr",
     "output_type": "stream",
     "text": [
      "100%|██████████| 11/11 [00:48<00:00,  4.40s/it]\n"
     ]
    },
    {
     "name": "stdout",
     "output_type": "stream",
     "text": [
      "('Best file pairs are: ', 'non_spikey_T0000845.WAV*non_spikey_T0000846.WAV')\n",
      "Start and end indices around peak:                  start index: 17142913\t\t          end index: 28642913                  total samples:30015488\n",
      "('AV Sync was above threshold: ', 0.8744430069961429)\n",
      "common_fps/Aditya_annotations/2018-08-18/common_fps_video_syncAditya_2018-08-19_0120-0200_93.csv\n",
      "('video_fps obtained is :', 25)\n",
      "Did not find user-provided sample rate - getting it from first file that matches format!\n",
      "('sampling rate is : ', 250000)\n",
      ".....finding best audio segment.....\n"
     ]
    },
    {
     "name": "stderr",
     "output_type": "stream",
     "text": [
      "\r",
      "  0%|          | 0/11 [00:00<?, ?it/s]"
     ]
    },
    {
     "name": "stdout",
     "output_type": "stream",
     "text": [
      "('max mins for upsampled video', -0.9967091083771215, 1.0)\n",
      "('max mins', -0.9739639603380102, 1.0)\n"
     ]
    },
    {
     "name": "stderr",
     "output_type": "stream",
     "text": [
      "\r",
      "  9%|▉         | 1/11 [00:04<00:43,  4.38s/it]"
     ]
    },
    {
     "name": "stdout",
     "output_type": "stream",
     "text": [
      "('max mins', -1.0, 0.9531781071652979)\n"
     ]
    },
    {
     "name": "stderr",
     "output_type": "stream",
     "text": [
      "\r",
      " 18%|█▊        | 2/11 [00:08<00:39,  4.38s/it]"
     ]
    },
    {
     "name": "stdout",
     "output_type": "stream",
     "text": [
      "('max mins', -1.0, 0.9859764486805959)\n"
     ]
    },
    {
     "name": "stderr",
     "output_type": "stream",
     "text": [
      "\r",
      " 27%|██▋       | 3/11 [00:13<00:35,  4.38s/it]"
     ]
    },
    {
     "name": "stdout",
     "output_type": "stream",
     "text": [
      "('max mins', -1.0, 0.9807300503175779)\n"
     ]
    },
    {
     "name": "stderr",
     "output_type": "stream",
     "text": [
      "\r",
      " 36%|███▋      | 4/11 [00:17<00:30,  4.39s/it]"
     ]
    },
    {
     "name": "stdout",
     "output_type": "stream",
     "text": [
      "('max mins', -0.998946965332836, 1.0)\n"
     ]
    },
    {
     "name": "stderr",
     "output_type": "stream",
     "text": [
      "\r",
      " 45%|████▌     | 5/11 [00:22<00:26,  4.43s/it]"
     ]
    },
    {
     "name": "stdout",
     "output_type": "stream",
     "text": [
      "('max mins', -0.9960251715197141, 1.0)\n"
     ]
    },
    {
     "name": "stderr",
     "output_type": "stream",
     "text": [
      "\r",
      " 55%|█████▍    | 6/11 [00:26<00:22,  4.43s/it]"
     ]
    },
    {
     "name": "stdout",
     "output_type": "stream",
     "text": [
      "('max mins', -1.0, 0.9483329836798366)\n"
     ]
    },
    {
     "name": "stderr",
     "output_type": "stream",
     "text": [
      "\r",
      " 64%|██████▎   | 7/11 [00:30<00:17,  4.43s/it]"
     ]
    },
    {
     "name": "stdout",
     "output_type": "stream",
     "text": [
      "('max mins', -1.0, 0.9476643235160923)\n"
     ]
    },
    {
     "name": "stderr",
     "output_type": "stream",
     "text": [
      "\r",
      " 73%|███████▎  | 8/11 [00:35<00:13,  4.42s/it]"
     ]
    },
    {
     "name": "stdout",
     "output_type": "stream",
     "text": [
      "('max mins', -0.995114226491868, 1.0)\n"
     ]
    },
    {
     "name": "stderr",
     "output_type": "stream",
     "text": [
      "\r",
      " 82%|████████▏ | 9/11 [00:40<00:09,  4.64s/it]"
     ]
    },
    {
     "name": "stdout",
     "output_type": "stream",
     "text": [
      "('max mins', -0.9764981302756793, 1.0)\n"
     ]
    },
    {
     "name": "stderr",
     "output_type": "stream",
     "text": [
      "\r",
      " 91%|█████████ | 10/11 [00:46<00:04,  4.95s/it]"
     ]
    },
    {
     "name": "stdout",
     "output_type": "stream",
     "text": [
      "('max mins', -1.0, 0.997450571804602)\n"
     ]
    },
    {
     "name": "stderr",
     "output_type": "stream",
     "text": [
      "100%|██████████| 11/11 [00:50<00:00,  4.80s/it]\n"
     ]
    },
    {
     "name": "stdout",
     "output_type": "stream",
     "text": [
      "('Best file pairs are: ', 'non_spikey_T0000846.WAV*non_spikey_T0000847.WAV')\n",
      "Start and end indices around peak:                  start index: 15133471\t\t          end index: 26633471                  total samples:30015488\n",
      "('AV Sync was above threshold: ', 0.8953294888045301)\n",
      "common_fps/Aditya_annotations/2018-08-18/common_fps_video_syncAditya_2018-08-19_0120-0200_94.csv\n",
      "('video_fps obtained is :', 25)\n",
      "Did not find user-provided sample rate - getting it from first file that matches format!\n",
      "('sampling rate is : ', 250000)\n",
      ".....finding best audio segment.....\n"
     ]
    },
    {
     "name": "stderr",
     "output_type": "stream",
     "text": [
      "\r",
      "  0%|          | 0/11 [00:00<?, ?it/s]"
     ]
    },
    {
     "name": "stdout",
     "output_type": "stream",
     "text": [
      "('max mins for upsampled video', -1.0, 0.8737094414305221)\n",
      "('max mins', -0.9739639603380102, 1.0)\n"
     ]
    },
    {
     "name": "stderr",
     "output_type": "stream",
     "text": [
      "\r",
      "  9%|▉         | 1/11 [00:04<00:49,  4.97s/it]"
     ]
    },
    {
     "name": "stdout",
     "output_type": "stream",
     "text": [
      "('max mins', -1.0, 0.9531781071652979)\n"
     ]
    },
    {
     "name": "stderr",
     "output_type": "stream",
     "text": [
      "\r",
      " 18%|█▊        | 2/11 [00:10<00:45,  5.06s/it]"
     ]
    },
    {
     "name": "stdout",
     "output_type": "stream",
     "text": [
      "('max mins', -1.0, 0.9859764486805959)\n"
     ]
    },
    {
     "name": "stderr",
     "output_type": "stream",
     "text": [
      "\r",
      " 27%|██▋       | 3/11 [00:15<00:41,  5.23s/it]"
     ]
    },
    {
     "name": "stdout",
     "output_type": "stream",
     "text": [
      "('max mins', -1.0, 0.9807300503175779)\n"
     ]
    },
    {
     "name": "stderr",
     "output_type": "stream",
     "text": [
      "\r",
      " 36%|███▋      | 4/11 [00:20<00:35,  5.06s/it]"
     ]
    },
    {
     "name": "stdout",
     "output_type": "stream",
     "text": [
      "('max mins', -0.998946965332836, 1.0)\n"
     ]
    },
    {
     "name": "stderr",
     "output_type": "stream",
     "text": [
      "\r",
      " 45%|████▌     | 5/11 [00:26<00:31,  5.21s/it]"
     ]
    },
    {
     "name": "stdout",
     "output_type": "stream",
     "text": [
      "('max mins', -0.9960251715197141, 1.0)\n"
     ]
    },
    {
     "name": "stderr",
     "output_type": "stream",
     "text": [
      "\r",
      " 55%|█████▍    | 6/11 [00:31<00:25,  5.12s/it]"
     ]
    },
    {
     "name": "stdout",
     "output_type": "stream",
     "text": [
      "('max mins', -1.0, 0.9483329836798366)\n"
     ]
    },
    {
     "name": "stderr",
     "output_type": "stream",
     "text": [
      "\r",
      " 64%|██████▎   | 7/11 [00:36<00:21,  5.36s/it]"
     ]
    },
    {
     "name": "stdout",
     "output_type": "stream",
     "text": [
      "('max mins', -1.0, 0.9476643235160923)\n"
     ]
    },
    {
     "name": "stderr",
     "output_type": "stream",
     "text": [
      "\r",
      " 73%|███████▎  | 8/11 [00:42<00:16,  5.51s/it]"
     ]
    },
    {
     "name": "stdout",
     "output_type": "stream",
     "text": [
      "('max mins', -0.995114226491868, 1.0)\n"
     ]
    },
    {
     "name": "stderr",
     "output_type": "stream",
     "text": [
      "\r",
      " 82%|████████▏ | 9/11 [00:49<00:11,  5.92s/it]"
     ]
    },
    {
     "name": "stdout",
     "output_type": "stream",
     "text": [
      "('max mins', -0.9764981302756793, 1.0)\n"
     ]
    },
    {
     "name": "stderr",
     "output_type": "stream",
     "text": [
      "\r",
      " 91%|█████████ | 10/11 [00:56<00:06,  6.26s/it]"
     ]
    },
    {
     "name": "stdout",
     "output_type": "stream",
     "text": [
      "('max mins', -1.0, 0.997450571804602)\n"
     ]
    },
    {
     "name": "stderr",
     "output_type": "stream",
     "text": [
      "100%|██████████| 11/11 [01:03<00:00,  6.30s/it]\n"
     ]
    },
    {
     "name": "stdout",
     "output_type": "stream",
     "text": [
      "('Best file pairs are: ', 'non_spikey_T0000848.WAV*non_spikey_T0000849.WAV')\n",
      "Start and end indices around peak:                  start index: 4620992\t\t          end index: 16120992                  total samples:30015488\n",
      "('AV Sync was above threshold: ', 0.8575011002354531)\n",
      "common_fps/Aditya_annotations/2018-08-18/common_fps_video_syncAditya_2018-08-19_0120-0200_95.csv\n",
      "('video_fps obtained is :', 25)\n",
      "Did not find user-provided sample rate - getting it from first file that matches format!\n",
      "('sampling rate is : ', 250000)\n",
      ".....finding best audio segment.....\n"
     ]
    },
    {
     "name": "stderr",
     "output_type": "stream",
     "text": [
      "\r",
      "  0%|          | 0/11 [00:00<?, ?it/s]"
     ]
    },
    {
     "name": "stdout",
     "output_type": "stream",
     "text": [
      "('max mins for upsampled video', -1.0, 0.8793123683082016)\n",
      "('max mins', -0.9739639603380102, 1.0)\n"
     ]
    },
    {
     "name": "stderr",
     "output_type": "stream",
     "text": [
      "\r",
      "  9%|▉         | 1/11 [00:06<01:07,  6.78s/it]"
     ]
    },
    {
     "name": "stdout",
     "output_type": "stream",
     "text": [
      "('max mins', -1.0, 0.9531781071652979)\n"
     ]
    },
    {
     "name": "stderr",
     "output_type": "stream",
     "text": [
      "\r",
      " 18%|█▊        | 2/11 [00:13<01:00,  6.73s/it]"
     ]
    },
    {
     "name": "stdout",
     "output_type": "stream",
     "text": [
      "('max mins', -1.0, 0.9859764486805959)\n"
     ]
    },
    {
     "name": "stderr",
     "output_type": "stream",
     "text": [
      "\r",
      " 27%|██▋       | 3/11 [00:20<00:53,  6.69s/it]"
     ]
    },
    {
     "name": "stdout",
     "output_type": "stream",
     "text": [
      "('max mins', -1.0, 0.9807300503175779)\n"
     ]
    },
    {
     "name": "stderr",
     "output_type": "stream",
     "text": [
      "\r",
      " 36%|███▋      | 4/11 [00:27<00:47,  6.82s/it]"
     ]
    },
    {
     "name": "stdout",
     "output_type": "stream",
     "text": [
      "('max mins', -0.998946965332836, 1.0)\n"
     ]
    },
    {
     "name": "stderr",
     "output_type": "stream",
     "text": [
      "\r",
      " 45%|████▌     | 5/11 [00:33<00:39,  6.65s/it]"
     ]
    },
    {
     "name": "stdout",
     "output_type": "stream",
     "text": [
      "('max mins', -0.9960251715197141, 1.0)\n"
     ]
    },
    {
     "name": "stderr",
     "output_type": "stream",
     "text": [
      "\r",
      " 55%|█████▍    | 6/11 [00:38<00:30,  6.05s/it]"
     ]
    },
    {
     "name": "stdout",
     "output_type": "stream",
     "text": [
      "('max mins', -1.0, 0.9483329836798366)\n"
     ]
    },
    {
     "name": "stderr",
     "output_type": "stream",
     "text": [
      "\r",
      " 64%|██████▎   | 7/11 [00:43<00:23,  5.78s/it]"
     ]
    },
    {
     "name": "stdout",
     "output_type": "stream",
     "text": [
      "('max mins', -1.0, 0.9476643235160923)\n"
     ]
    },
    {
     "name": "stderr",
     "output_type": "stream",
     "text": [
      "\r",
      " 73%|███████▎  | 8/11 [00:48<00:16,  5.50s/it]"
     ]
    },
    {
     "name": "stdout",
     "output_type": "stream",
     "text": [
      "('max mins', -0.995114226491868, 1.0)\n"
     ]
    },
    {
     "name": "stderr",
     "output_type": "stream",
     "text": [
      "\r",
      " 82%|████████▏ | 9/11 [00:52<00:10,  5.30s/it]"
     ]
    },
    {
     "name": "stdout",
     "output_type": "stream",
     "text": [
      "('max mins', -0.9764981302756793, 1.0)\n"
     ]
    },
    {
     "name": "stderr",
     "output_type": "stream",
     "text": [
      "\r",
      " 91%|█████████ | 10/11 [00:57<00:05,  5.15s/it]"
     ]
    },
    {
     "name": "stdout",
     "output_type": "stream",
     "text": [
      "('max mins', -1.0, 0.997450571804602)\n"
     ]
    },
    {
     "name": "stderr",
     "output_type": "stream",
     "text": [
      "100%|██████████| 11/11 [01:02<00:00,  5.07s/it]\n"
     ]
    },
    {
     "name": "stdout",
     "output_type": "stream",
     "text": [
      "('Best file pairs are: ', 'non_spikey_T0000848.WAV*non_spikey_T0000849.WAV')\n",
      "Start and end indices around peak:                  start index: 8122647\t\t          end index: 19622647                  total samples:30015488\n",
      "('AV Sync was above threshold: ', 0.8495494466530356)\n",
      "common_fps/Aditya_annotations/2018-08-18/common_fps_video_syncAditya_2018-08-19_0120-0200_96.csv\n",
      "('video_fps obtained is :', 25)\n",
      "Did not find user-provided sample rate - getting it from first file that matches format!\n",
      "('sampling rate is : ', 250000)\n",
      ".....finding best audio segment.....\n"
     ]
    },
    {
     "name": "stderr",
     "output_type": "stream",
     "text": [
      "\r",
      "  0%|          | 0/11 [00:00<?, ?it/s]"
     ]
    },
    {
     "name": "stdout",
     "output_type": "stream",
     "text": [
      "('max mins for upsampled video', -1.0, 0.4140525129580646)\n",
      "('max mins', -0.9739639603380102, 1.0)\n"
     ]
    },
    {
     "name": "stderr",
     "output_type": "stream",
     "text": [
      "\r",
      "  9%|▉         | 1/11 [00:05<00:53,  5.37s/it]"
     ]
    },
    {
     "name": "stdout",
     "output_type": "stream",
     "text": [
      "('max mins', -1.0, 0.9531781071652979)\n"
     ]
    },
    {
     "name": "stderr",
     "output_type": "stream",
     "text": [
      "\r",
      " 18%|█▊        | 2/11 [00:09<00:46,  5.12s/it]"
     ]
    },
    {
     "name": "stdout",
     "output_type": "stream",
     "text": [
      "('max mins', -1.0, 0.9859764486805959)\n"
     ]
    },
    {
     "name": "stderr",
     "output_type": "stream",
     "text": [
      "\r",
      " 27%|██▋       | 3/11 [00:15<00:41,  5.14s/it]"
     ]
    },
    {
     "name": "stdout",
     "output_type": "stream",
     "text": [
      "('max mins', -1.0, 0.9807300503175779)\n"
     ]
    },
    {
     "name": "stderr",
     "output_type": "stream",
     "text": [
      "\r",
      " 36%|███▋      | 4/11 [00:19<00:34,  4.93s/it]"
     ]
    },
    {
     "name": "stdout",
     "output_type": "stream",
     "text": [
      "('max mins', -0.998946965332836, 1.0)\n"
     ]
    },
    {
     "name": "stderr",
     "output_type": "stream",
     "text": [
      "\r",
      " 45%|████▌     | 5/11 [00:24<00:29,  4.84s/it]"
     ]
    },
    {
     "name": "stdout",
     "output_type": "stream",
     "text": [
      "('max mins', -0.9960251715197141, 1.0)\n"
     ]
    },
    {
     "name": "stderr",
     "output_type": "stream",
     "text": [
      "\r",
      " 55%|█████▍    | 6/11 [00:28<00:23,  4.76s/it]"
     ]
    },
    {
     "name": "stdout",
     "output_type": "stream",
     "text": [
      "('max mins', -1.0, 0.9483329836798366)\n"
     ]
    },
    {
     "name": "stderr",
     "output_type": "stream",
     "text": [
      "\r",
      " 64%|██████▎   | 7/11 [00:34<00:19,  4.93s/it]"
     ]
    },
    {
     "name": "stdout",
     "output_type": "stream",
     "text": [
      "('max mins', -1.0, 0.9476643235160923)\n"
     ]
    },
    {
     "name": "stderr",
     "output_type": "stream",
     "text": [
      "\r",
      " 73%|███████▎  | 8/11 [00:38<00:14,  4.92s/it]"
     ]
    },
    {
     "name": "stdout",
     "output_type": "stream",
     "text": [
      "('max mins', -0.995114226491868, 1.0)\n"
     ]
    },
    {
     "name": "stderr",
     "output_type": "stream",
     "text": [
      "\r",
      " 82%|████████▏ | 9/11 [00:44<00:10,  5.09s/it]"
     ]
    },
    {
     "name": "stdout",
     "output_type": "stream",
     "text": [
      "('max mins', -0.9764981302756793, 1.0)\n"
     ]
    },
    {
     "name": "stderr",
     "output_type": "stream",
     "text": [
      "\r",
      " 91%|█████████ | 10/11 [00:48<00:04,  4.91s/it]"
     ]
    },
    {
     "name": "stdout",
     "output_type": "stream",
     "text": [
      "('max mins', -1.0, 0.997450571804602)\n"
     ]
    },
    {
     "name": "stderr",
     "output_type": "stream",
     "text": [
      "100%|██████████| 11/11 [00:53<00:00,  4.81s/it]\n"
     ]
    },
    {
     "name": "stdout",
     "output_type": "stream",
     "text": [
      "('Best file pairs are: ', 'non_spikey_T0000848.WAV*non_spikey_T0000849.WAV')\n",
      "Start and end indices around peak:                  start index: 11371643\t\t          end index: 22871643                  total samples:30015488\n",
      "('AV Sync was above threshold: ', 0.8482439691873997)\n",
      "common_fps/Aditya_annotations/2018-08-18/common_fps_video_syncAditya_2018-08-19_0120-0200_97.csv\n",
      "('video_fps obtained is :', 25)\n",
      "Did not find user-provided sample rate - getting it from first file that matches format!\n",
      "('sampling rate is : ', 250000)\n",
      ".....finding best audio segment.....\n"
     ]
    },
    {
     "name": "stderr",
     "output_type": "stream",
     "text": [
      "\r",
      "  0%|          | 0/8 [00:00<?, ?it/s]"
     ]
    },
    {
     "name": "stdout",
     "output_type": "stream",
     "text": [
      "('max mins for upsampled video', -1.0, 0.40952701887259163)\n",
      "('max mins', -0.995114226491868, 1.0)\n"
     ]
    },
    {
     "name": "stderr",
     "output_type": "stream",
     "text": [
      "\r",
      " 12%|█▎        | 1/8 [00:04<00:31,  4.51s/it]"
     ]
    },
    {
     "name": "stdout",
     "output_type": "stream",
     "text": [
      "('max mins', -0.9764981302756793, 1.0)\n"
     ]
    },
    {
     "name": "stderr",
     "output_type": "stream",
     "text": [
      "\r",
      " 25%|██▌       | 2/8 [00:09<00:27,  4.61s/it]"
     ]
    },
    {
     "name": "stdout",
     "output_type": "stream",
     "text": [
      "('max mins', -1.0, 0.997450571804602)\n"
     ]
    },
    {
     "name": "stderr",
     "output_type": "stream",
     "text": [
      "\r",
      " 38%|███▊      | 3/8 [00:14<00:23,  4.67s/it]"
     ]
    },
    {
     "name": "stdout",
     "output_type": "stream",
     "text": [
      "('max mins', -1.0, 0.9712772854754528)\n"
     ]
    },
    {
     "name": "stderr",
     "output_type": "stream",
     "text": [
      "\r",
      " 50%|█████     | 4/8 [00:19<00:19,  4.82s/it]"
     ]
    },
    {
     "name": "stdout",
     "output_type": "stream",
     "text": [
      "('max mins', -1.0, 0.923179286923753)\n"
     ]
    },
    {
     "name": "stderr",
     "output_type": "stream",
     "text": [
      "\r",
      " 62%|██████▎   | 5/8 [00:24<00:14,  4.95s/it]"
     ]
    },
    {
     "name": "stdout",
     "output_type": "stream",
     "text": [
      "('max mins', -1.0, 0.9189633329565583)\n"
     ]
    },
    {
     "name": "stderr",
     "output_type": "stream",
     "text": [
      "\r",
      " 75%|███████▌  | 6/8 [00:29<00:10,  5.00s/it]"
     ]
    },
    {
     "name": "stdout",
     "output_type": "stream",
     "text": [
      "('max mins', -1.0, 0.9247948730428763)\n"
     ]
    },
    {
     "name": "stderr",
     "output_type": "stream",
     "text": [
      "\r",
      " 88%|████████▊ | 7/8 [00:34<00:04,  4.95s/it]"
     ]
    },
    {
     "name": "stdout",
     "output_type": "stream",
     "text": [
      "('max mins', -1.0, 0.9609768360886519)\n"
     ]
    },
    {
     "name": "stderr",
     "output_type": "stream",
     "text": [
      "100%|██████████| 8/8 [00:39<00:00,  5.09s/it]\n"
     ]
    },
    {
     "name": "stdout",
     "output_type": "stream",
     "text": [
      "('Best file pairs are: ', 'non_spikey_T0000849.WAV*non_spikey_T0000850.WAV')\n",
      "Unable to get proper audio match for video segment!\n",
      "('Could not save ', 'common_fps/Aditya_annotations/2018-08-18/common_fps_video_syncAditya_2018-08-19_0120-0200_97.csv')\n",
      "common_fps/Aditya_annotations/2018-08-18/common_fps_video_syncAditya_2018-08-19_0120-0200_101.csv\n",
      "('video_fps obtained is :', 25)\n",
      "Did not find user-provided sample rate - getting it from first file that matches format!\n",
      "('sampling rate is : ', 250000)\n",
      ".....finding best audio segment.....\n"
     ]
    },
    {
     "name": "stderr",
     "output_type": "stream",
     "text": [
      "\r",
      "  0%|          | 0/8 [00:00<?, ?it/s]"
     ]
    },
    {
     "name": "stdout",
     "output_type": "stream",
     "text": [
      "('max mins for upsampled video', -1.0, 0.4143504516866441)\n",
      "('max mins', -0.995114226491868, 1.0)\n"
     ]
    },
    {
     "name": "stderr",
     "output_type": "stream",
     "text": [
      "\r",
      " 12%|█▎        | 1/8 [00:04<00:30,  4.43s/it]"
     ]
    },
    {
     "name": "stdout",
     "output_type": "stream",
     "text": [
      "('max mins', -0.9764981302756793, 1.0)\n"
     ]
    },
    {
     "name": "stderr",
     "output_type": "stream",
     "text": [
      "\r",
      " 25%|██▌       | 2/8 [00:08<00:26,  4.42s/it]"
     ]
    },
    {
     "name": "stdout",
     "output_type": "stream",
     "text": [
      "('max mins', -1.0, 0.997450571804602)\n"
     ]
    },
    {
     "name": "stderr",
     "output_type": "stream",
     "text": [
      "\r",
      " 38%|███▊      | 3/8 [00:13<00:22,  4.43s/it]"
     ]
    },
    {
     "name": "stdout",
     "output_type": "stream",
     "text": [
      "('max mins', -1.0, 0.9712772854754528)\n"
     ]
    },
    {
     "name": "stderr",
     "output_type": "stream",
     "text": [
      "\r",
      " 50%|█████     | 4/8 [00:17<00:17,  4.43s/it]"
     ]
    },
    {
     "name": "stdout",
     "output_type": "stream",
     "text": [
      "('max mins', -1.0, 0.923179286923753)\n"
     ]
    },
    {
     "name": "stderr",
     "output_type": "stream",
     "text": [
      "\r",
      " 62%|██████▎   | 5/8 [00:22<00:13,  4.43s/it]"
     ]
    },
    {
     "name": "stdout",
     "output_type": "stream",
     "text": [
      "('max mins', -1.0, 0.9189633329565583)\n"
     ]
    },
    {
     "name": "stderr",
     "output_type": "stream",
     "text": [
      "\r",
      " 75%|███████▌  | 6/8 [00:27<00:09,  4.59s/it]"
     ]
    },
    {
     "name": "stdout",
     "output_type": "stream",
     "text": [
      "('max mins', -1.0, 0.9247948730428763)\n"
     ]
    },
    {
     "name": "stderr",
     "output_type": "stream",
     "text": [
      "\r",
      " 88%|████████▊ | 7/8 [00:32<00:04,  4.95s/it]"
     ]
    },
    {
     "name": "stdout",
     "output_type": "stream",
     "text": [
      "('max mins', -1.0, 0.9609768360886519)\n"
     ]
    },
    {
     "name": "stderr",
     "output_type": "stream",
     "text": [
      "100%|██████████| 8/8 [00:37<00:00,  4.97s/it]\n"
     ]
    },
    {
     "name": "stdout",
     "output_type": "stream",
     "text": [
      "('Best file pairs are: ', 'non_spikey_T0000849.WAV*non_spikey_T0000850.WAV')\n",
      "Start and end indices around peak:                  start index: 612883\t\t          end index: 12112883                  total samples:30015488\n",
      "('AV Sync was above threshold: ', 0.8211953874973074)\n",
      "common_fps/Aditya_annotations/2018-08-18/common_fps_video_syncAditya_2018-08-19_0120-0200_102.csv\n",
      "('video_fps obtained is :', 25)\n",
      "Did not find user-provided sample rate - getting it from first file that matches format!\n",
      "('sampling rate is : ', 250000)\n",
      ".....finding best audio segment.....\n"
     ]
    },
    {
     "name": "stderr",
     "output_type": "stream",
     "text": [
      "\r",
      "  0%|          | 0/8 [00:00<?, ?it/s]"
     ]
    },
    {
     "name": "stdout",
     "output_type": "stream",
     "text": [
      "('max mins for upsampled video', -1.0, 0.4375622797172282)\n",
      "('max mins', -0.995114226491868, 1.0)\n"
     ]
    },
    {
     "name": "stderr",
     "output_type": "stream",
     "text": [
      "\r",
      " 12%|█▎        | 1/8 [00:05<00:40,  5.85s/it]"
     ]
    },
    {
     "name": "stdout",
     "output_type": "stream",
     "text": [
      "('max mins', -0.9764981302756793, 1.0)\n"
     ]
    },
    {
     "name": "stderr",
     "output_type": "stream",
     "text": [
      "\r",
      " 25%|██▌       | 2/8 [00:11<00:35,  5.93s/it]"
     ]
    },
    {
     "name": "stdout",
     "output_type": "stream",
     "text": [
      "('max mins', -1.0, 0.997450571804602)\n"
     ]
    },
    {
     "name": "stderr",
     "output_type": "stream",
     "text": [
      "\r",
      " 38%|███▊      | 3/8 [00:17<00:28,  5.71s/it]"
     ]
    },
    {
     "name": "stdout",
     "output_type": "stream",
     "text": [
      "('max mins', -1.0, 0.9712772854754528)\n"
     ]
    },
    {
     "name": "stderr",
     "output_type": "stream",
     "text": [
      "\r",
      " 50%|█████     | 4/8 [00:23<00:23,  5.78s/it]"
     ]
    },
    {
     "name": "stdout",
     "output_type": "stream",
     "text": [
      "('max mins', -1.0, 0.923179286923753)\n"
     ]
    },
    {
     "name": "stderr",
     "output_type": "stream",
     "text": [
      "\r",
      " 62%|██████▎   | 5/8 [00:28<00:16,  5.52s/it]"
     ]
    },
    {
     "name": "stdout",
     "output_type": "stream",
     "text": [
      "('max mins', -1.0, 0.9189633329565583)\n"
     ]
    },
    {
     "name": "stderr",
     "output_type": "stream",
     "text": [
      "\r",
      " 75%|███████▌  | 6/8 [00:32<00:10,  5.23s/it]"
     ]
    },
    {
     "name": "stdout",
     "output_type": "stream",
     "text": [
      "('max mins', -1.0, 0.9247948730428763)\n"
     ]
    },
    {
     "name": "stderr",
     "output_type": "stream",
     "text": [
      "\r",
      " 88%|████████▊ | 7/8 [00:37<00:05,  5.03s/it]"
     ]
    },
    {
     "name": "stdout",
     "output_type": "stream",
     "text": [
      "('max mins', -1.0, 0.9609768360886519)\n"
     ]
    },
    {
     "name": "stderr",
     "output_type": "stream",
     "text": [
      "100%|██████████| 8/8 [00:42<00:00,  5.03s/it]\n"
     ]
    },
    {
     "name": "stdout",
     "output_type": "stream",
     "text": [
      "('Best file pairs are: ', 'non_spikey_T0000849.WAV*non_spikey_T0000850.WAV')\n",
      "Start and end indices around peak:                  start index: 1611716\t\t          end index: 13111716                  total samples:30015488\n",
      "('AV Sync was above threshold: ', 0.8155932276683578)\n",
      "common_fps/Aditya_annotations/2018-08-18/common_fps_video_syncAditya_2018-08-19_0120-0200_104.csv\n",
      "('video_fps obtained is :', 25)\n",
      "Did not find user-provided sample rate - getting it from first file that matches format!\n",
      "('sampling rate is : ', 250000)\n",
      ".....finding best audio segment.....\n"
     ]
    },
    {
     "name": "stderr",
     "output_type": "stream",
     "text": [
      "\r",
      "  0%|          | 0/8 [00:00<?, ?it/s]"
     ]
    },
    {
     "name": "stdout",
     "output_type": "stream",
     "text": [
      "('max mins for upsampled video', -1.0, 0.4377737516218211)\n",
      "('max mins', -0.995114226491868, 1.0)\n"
     ]
    },
    {
     "name": "stderr",
     "output_type": "stream",
     "text": [
      "\r",
      " 12%|█▎        | 1/8 [00:06<00:43,  6.17s/it]"
     ]
    },
    {
     "name": "stdout",
     "output_type": "stream",
     "text": [
      "('max mins', -0.9764981302756793, 1.0)\n"
     ]
    },
    {
     "name": "stderr",
     "output_type": "stream",
     "text": [
      "\r",
      " 25%|██▌       | 2/8 [00:12<00:37,  6.24s/it]"
     ]
    },
    {
     "name": "stdout",
     "output_type": "stream",
     "text": [
      "('max mins', -1.0, 0.997450571804602)\n"
     ]
    },
    {
     "name": "stderr",
     "output_type": "stream",
     "text": [
      "\r",
      " 38%|███▊      | 3/8 [00:17<00:28,  5.75s/it]"
     ]
    },
    {
     "name": "stdout",
     "output_type": "stream",
     "text": [
      "('max mins', -1.0, 0.9712772854754528)\n"
     ]
    },
    {
     "name": "stderr",
     "output_type": "stream",
     "text": [
      "\r",
      " 50%|█████     | 4/8 [00:21<00:21,  5.40s/it]"
     ]
    },
    {
     "name": "stdout",
     "output_type": "stream",
     "text": [
      "('max mins', -1.0, 0.923179286923753)\n"
     ]
    },
    {
     "name": "stderr",
     "output_type": "stream",
     "text": [
      "\r",
      " 62%|██████▎   | 5/8 [00:27<00:16,  5.37s/it]"
     ]
    },
    {
     "name": "stdout",
     "output_type": "stream",
     "text": [
      "('max mins', -1.0, 0.9189633329565583)\n"
     ]
    },
    {
     "name": "stderr",
     "output_type": "stream",
     "text": [
      "\r",
      " 75%|███████▌  | 6/8 [00:32<00:10,  5.32s/it]"
     ]
    },
    {
     "name": "stdout",
     "output_type": "stream",
     "text": [
      "('max mins', -1.0, 0.9247948730428763)\n"
     ]
    },
    {
     "name": "stderr",
     "output_type": "stream",
     "text": [
      "\r",
      " 88%|████████▊ | 7/8 [00:36<00:05,  5.12s/it]"
     ]
    },
    {
     "name": "stdout",
     "output_type": "stream",
     "text": [
      "('max mins', -1.0, 0.9609768360886519)\n"
     ]
    },
    {
     "name": "stderr",
     "output_type": "stream",
     "text": [
      "100%|██████████| 8/8 [00:41<00:00,  4.98s/it]\n"
     ]
    },
    {
     "name": "stdout",
     "output_type": "stream",
     "text": [
      "('Best file pairs are: ', 'non_spikey_T0000849.WAV*non_spikey_T0000850.WAV')\n",
      "Start and end indices around peak:                  start index: 2111479\t\t          end index: 13611479                  total samples:30015488\n",
      "('AV Sync was above threshold: ', 0.8138586874412238)\n",
      "common_fps/Aditya_annotations/2018-08-18/common_fps_video_syncAditya_2018-08-19_0120-0200_105.csv\n",
      "('video_fps obtained is :', 25)\n",
      "Did not find user-provided sample rate - getting it from first file that matches format!\n",
      "('sampling rate is : ', 250000)\n",
      ".....finding best audio segment.....\n"
     ]
    },
    {
     "name": "stderr",
     "output_type": "stream",
     "text": [
      "\r",
      "  0%|          | 0/8 [00:00<?, ?it/s]"
     ]
    },
    {
     "name": "stdout",
     "output_type": "stream",
     "text": [
      "('max mins for upsampled video', -1.0, 0.43855201959547735)\n",
      "('max mins', -0.995114226491868, 1.0)\n"
     ]
    },
    {
     "name": "stderr",
     "output_type": "stream",
     "text": [
      "\r",
      " 12%|█▎        | 1/8 [00:05<00:36,  5.23s/it]"
     ]
    },
    {
     "name": "stdout",
     "output_type": "stream",
     "text": [
      "('max mins', -0.9764981302756793, 1.0)\n"
     ]
    },
    {
     "name": "stderr",
     "output_type": "stream",
     "text": [
      "\r",
      " 25%|██▌       | 2/8 [00:09<00:30,  5.04s/it]"
     ]
    },
    {
     "name": "stdout",
     "output_type": "stream",
     "text": [
      "('max mins', -1.0, 0.997450571804602)\n"
     ]
    },
    {
     "name": "stderr",
     "output_type": "stream",
     "text": [
      "\r",
      " 38%|███▊      | 3/8 [00:14<00:24,  4.96s/it]"
     ]
    },
    {
     "name": "stdout",
     "output_type": "stream",
     "text": [
      "('max mins', -1.0, 0.9712772854754528)\n"
     ]
    },
    {
     "name": "stderr",
     "output_type": "stream",
     "text": [
      "\r",
      " 50%|█████     | 4/8 [00:19<00:19,  4.92s/it]"
     ]
    },
    {
     "name": "stdout",
     "output_type": "stream",
     "text": [
      "('max mins', -1.0, 0.923179286923753)\n"
     ]
    },
    {
     "name": "stderr",
     "output_type": "stream",
     "text": [
      "\r",
      " 62%|██████▎   | 5/8 [00:24<00:14,  4.86s/it]"
     ]
    },
    {
     "name": "stdout",
     "output_type": "stream",
     "text": [
      "('max mins', -1.0, 0.9189633329565583)\n"
     ]
    },
    {
     "name": "stderr",
     "output_type": "stream",
     "text": [
      "\r",
      " 75%|███████▌  | 6/8 [00:29<00:09,  4.90s/it]"
     ]
    },
    {
     "name": "stdout",
     "output_type": "stream",
     "text": [
      "('max mins', -1.0, 0.9247948730428763)\n"
     ]
    },
    {
     "name": "stderr",
     "output_type": "stream",
     "text": [
      "\r",
      " 88%|████████▊ | 7/8 [00:33<00:04,  4.80s/it]"
     ]
    },
    {
     "name": "stdout",
     "output_type": "stream",
     "text": [
      "('max mins', -1.0, 0.9609768360886519)\n"
     ]
    },
    {
     "name": "stderr",
     "output_type": "stream",
     "text": [
      "100%|██████████| 8/8 [00:38<00:00,  4.88s/it]\n"
     ]
    },
    {
     "name": "stdout",
     "output_type": "stream",
     "text": [
      "('Best file pairs are: ', 'non_spikey_T0000849.WAV*non_spikey_T0000850.WAV')\n",
      "Start and end indices around peak:                  start index: 2610851\t\t          end index: 14110851                  total samples:30015488\n",
      "('AV Sync was above threshold: ', 0.8073879489875532)\n",
      "common_fps/Aditya_annotations/2018-08-18/common_fps_video_syncAditya_2018-08-19_0120-0200_106.csv\n",
      "('video_fps obtained is :', 25)\n",
      "Did not find user-provided sample rate - getting it from first file that matches format!\n",
      "('sampling rate is : ', 250000)\n",
      ".....finding best audio segment.....\n"
     ]
    },
    {
     "name": "stderr",
     "output_type": "stream",
     "text": [
      "\r",
      "  0%|          | 0/8 [00:00<?, ?it/s]"
     ]
    },
    {
     "name": "stdout",
     "output_type": "stream",
     "text": [
      "('max mins for upsampled video', -1.0, 0.430473310901967)\n",
      "('max mins', -0.995114226491868, 1.0)\n"
     ]
    },
    {
     "name": "stderr",
     "output_type": "stream",
     "text": [
      "\r",
      " 12%|█▎        | 1/8 [00:05<00:37,  5.36s/it]"
     ]
    },
    {
     "name": "stdout",
     "output_type": "stream",
     "text": [
      "('max mins', -0.9764981302756793, 1.0)\n"
     ]
    },
    {
     "name": "stderr",
     "output_type": "stream",
     "text": [
      "\r",
      " 25%|██▌       | 2/8 [00:10<00:31,  5.24s/it]"
     ]
    },
    {
     "name": "stdout",
     "output_type": "stream",
     "text": [
      "('max mins', -1.0, 0.997450571804602)\n"
     ]
    },
    {
     "name": "stderr",
     "output_type": "stream",
     "text": [
      "\r",
      " 38%|███▊      | 3/8 [00:14<00:25,  5.03s/it]"
     ]
    },
    {
     "name": "stdout",
     "output_type": "stream",
     "text": [
      "('max mins', -1.0, 0.9712772854754528)\n"
     ]
    },
    {
     "name": "stderr",
     "output_type": "stream",
     "text": [
      "\r",
      " 50%|█████     | 4/8 [00:19<00:19,  4.88s/it]"
     ]
    },
    {
     "name": "stdout",
     "output_type": "stream",
     "text": [
      "('max mins', -1.0, 0.923179286923753)\n"
     ]
    },
    {
     "name": "stderr",
     "output_type": "stream",
     "text": [
      "\r",
      " 62%|██████▎   | 5/8 [00:24<00:14,  4.85s/it]"
     ]
    },
    {
     "name": "stdout",
     "output_type": "stream",
     "text": [
      "('max mins', -1.0, 0.9189633329565583)\n"
     ]
    },
    {
     "name": "stderr",
     "output_type": "stream",
     "text": [
      "\r",
      " 75%|███████▌  | 6/8 [00:30<00:10,  5.20s/it]"
     ]
    },
    {
     "name": "stdout",
     "output_type": "stream",
     "text": [
      "('max mins', -1.0, 0.9247948730428763)\n"
     ]
    },
    {
     "name": "stderr",
     "output_type": "stream",
     "text": [
      "\r",
      " 88%|████████▊ | 7/8 [00:35<00:05,  5.19s/it]"
     ]
    },
    {
     "name": "stdout",
     "output_type": "stream",
     "text": [
      "('max mins', -1.0, 0.9609768360886519)\n"
     ]
    },
    {
     "name": "stderr",
     "output_type": "stream",
     "text": [
      "100%|██████████| 8/8 [00:40<00:00,  5.12s/it]\n"
     ]
    },
    {
     "name": "stdout",
     "output_type": "stream",
     "text": [
      "('Best file pairs are: ', 'non_spikey_T0000849.WAV*non_spikey_T0000850.WAV')\n",
      "Start and end indices around peak:                  start index: 4107314\t\t          end index: 15607314                  total samples:30015488\n",
      "('AV Sync was above threshold: ', 0.791379965844323)\n",
      "common_fps/Aditya_annotations/2018-08-18/common_fps_video_syncAditya_2018-08-19_0120-0200_107.csv\n",
      "('video_fps obtained is :', 25)\n",
      "Did not find user-provided sample rate - getting it from first file that matches format!\n",
      "('sampling rate is : ', 250000)\n",
      ".....finding best audio segment.....\n"
     ]
    },
    {
     "name": "stderr",
     "output_type": "stream",
     "text": [
      "\r",
      "  0%|          | 0/8 [00:00<?, ?it/s]"
     ]
    },
    {
     "name": "stdout",
     "output_type": "stream",
     "text": [
      "('max mins for upsampled video', -1.0, 0.4324699088627694)\n",
      "('max mins', -0.995114226491868, 1.0)\n"
     ]
    },
    {
     "name": "stderr",
     "output_type": "stream",
     "text": [
      "\r",
      " 12%|█▎        | 1/8 [00:05<00:39,  5.67s/it]"
     ]
    },
    {
     "name": "stdout",
     "output_type": "stream",
     "text": [
      "('max mins', -0.9764981302756793, 1.0)\n"
     ]
    },
    {
     "name": "stderr",
     "output_type": "stream",
     "text": [
      "\r",
      " 25%|██▌       | 2/8 [00:11<00:34,  5.75s/it]"
     ]
    },
    {
     "name": "stdout",
     "output_type": "stream",
     "text": [
      "('max mins', -1.0, 0.997450571804602)\n"
     ]
    },
    {
     "name": "stderr",
     "output_type": "stream",
     "text": [
      "\r",
      " 38%|███▊      | 3/8 [00:18<00:29,  5.98s/it]"
     ]
    },
    {
     "name": "stdout",
     "output_type": "stream",
     "text": [
      "('max mins', -1.0, 0.9712772854754528)\n"
     ]
    },
    {
     "name": "stderr",
     "output_type": "stream",
     "text": [
      "\r",
      " 50%|█████     | 4/8 [00:23<00:23,  5.80s/it]"
     ]
    },
    {
     "name": "stdout",
     "output_type": "stream",
     "text": [
      "('max mins', -1.0, 0.923179286923753)\n"
     ]
    },
    {
     "name": "stderr",
     "output_type": "stream",
     "text": [
      "\r",
      " 62%|██████▎   | 5/8 [00:27<00:16,  5.39s/it]"
     ]
    },
    {
     "name": "stdout",
     "output_type": "stream",
     "text": [
      "('max mins', -1.0, 0.9189633329565583)\n"
     ]
    },
    {
     "name": "stderr",
     "output_type": "stream",
     "text": [
      "\r",
      " 75%|███████▌  | 6/8 [00:32<00:10,  5.10s/it]"
     ]
    },
    {
     "name": "stdout",
     "output_type": "stream",
     "text": [
      "('max mins', -1.0, 0.9247948730428763)\n"
     ]
    },
    {
     "name": "stderr",
     "output_type": "stream",
     "text": [
      "\r",
      " 88%|████████▊ | 7/8 [00:36<00:04,  4.90s/it]"
     ]
    },
    {
     "name": "stdout",
     "output_type": "stream",
     "text": [
      "('max mins', -1.0, 0.9609768360886519)\n"
     ]
    },
    {
     "name": "stderr",
     "output_type": "stream",
     "text": [
      "100%|██████████| 8/8 [00:41<00:00,  4.76s/it]\n"
     ]
    },
    {
     "name": "stdout",
     "output_type": "stream",
     "text": [
      "('Best file pairs are: ', 'non_spikey_T0000849.WAV*non_spikey_T0000850.WAV')\n",
      "Start and end indices around peak:                  start index: 4856364\t\t          end index: 16356364                  total samples:30015488\n",
      "('AV Sync was above threshold: ', 0.799923851323437)\n",
      "common_fps/Aditya_annotations/2018-08-18/common_fps_video_syncAditya_2018-08-19_0120-0200_109.csv\n",
      "('video_fps obtained is :', 25)\n",
      "Did not find user-provided sample rate - getting it from first file that matches format!\n",
      "('sampling rate is : ', 250000)\n",
      ".....finding best audio segment.....\n"
     ]
    },
    {
     "name": "stderr",
     "output_type": "stream",
     "text": [
      "\r",
      "  0%|          | 0/8 [00:00<?, ?it/s]"
     ]
    },
    {
     "name": "stdout",
     "output_type": "stream",
     "text": [
      "('max mins for upsampled video', -0.9157379830789507, 1.0)\n",
      "('max mins', -0.995114226491868, 1.0)\n"
     ]
    },
    {
     "name": "stderr",
     "output_type": "stream",
     "text": [
      "\r",
      " 12%|█▎        | 1/8 [00:04<00:30,  4.42s/it]"
     ]
    },
    {
     "name": "stdout",
     "output_type": "stream",
     "text": [
      "('max mins', -0.9764981302756793, 1.0)\n"
     ]
    },
    {
     "name": "stderr",
     "output_type": "stream",
     "text": [
      "\r",
      " 25%|██▌       | 2/8 [00:08<00:26,  4.42s/it]"
     ]
    },
    {
     "name": "stdout",
     "output_type": "stream",
     "text": [
      "('max mins', -1.0, 0.997450571804602)\n"
     ]
    },
    {
     "name": "stderr",
     "output_type": "stream",
     "text": [
      "\r",
      " 38%|███▊      | 3/8 [00:13<00:22,  4.43s/it]"
     ]
    },
    {
     "name": "stdout",
     "output_type": "stream",
     "text": [
      "('max mins', -1.0, 0.9712772854754528)\n"
     ]
    },
    {
     "name": "stderr",
     "output_type": "stream",
     "text": [
      "\r",
      " 50%|█████     | 4/8 [00:17<00:17,  4.43s/it]"
     ]
    },
    {
     "name": "stdout",
     "output_type": "stream",
     "text": [
      "('max mins', -1.0, 0.923179286923753)\n"
     ]
    },
    {
     "name": "stderr",
     "output_type": "stream",
     "text": [
      "\r",
      " 62%|██████▎   | 5/8 [00:22<00:13,  4.42s/it]"
     ]
    },
    {
     "name": "stdout",
     "output_type": "stream",
     "text": [
      "('max mins', -1.0, 0.9189633329565583)\n"
     ]
    },
    {
     "name": "stderr",
     "output_type": "stream",
     "text": [
      "\r",
      " 75%|███████▌  | 6/8 [00:26<00:08,  4.42s/it]"
     ]
    },
    {
     "name": "stdout",
     "output_type": "stream",
     "text": [
      "('max mins', -1.0, 0.9247948730428763)\n"
     ]
    },
    {
     "name": "stderr",
     "output_type": "stream",
     "text": [
      "\r",
      " 88%|████████▊ | 7/8 [00:30<00:04,  4.42s/it]"
     ]
    },
    {
     "name": "stdout",
     "output_type": "stream",
     "text": [
      "('max mins', -1.0, 0.9609768360886519)\n"
     ]
    },
    {
     "name": "stderr",
     "output_type": "stream",
     "text": [
      "100%|██████████| 8/8 [00:35<00:00,  4.43s/it]\n"
     ]
    },
    {
     "name": "stdout",
     "output_type": "stream",
     "text": [
      "('Best file pairs are: ', 'non_spikey_T0000849.WAV*non_spikey_T0000850.WAV')\n",
      "Start and end indices around peak:                  start index: 7852780\t\t          end index: 19352780                  total samples:30015488\n",
      "('AV Sync was above threshold: ', 0.8333761949613419)\n",
      "common_fps/Aditya_annotations/2018-08-18/common_fps_video_syncAditya_2018-08-19_0120-0200_110.csv\n",
      "('video_fps obtained is :', 25)\n",
      "Did not find user-provided sample rate - getting it from first file that matches format!\n",
      "('sampling rate is : ', 250000)\n",
      ".....finding best audio segment.....\n"
     ]
    },
    {
     "name": "stderr",
     "output_type": "stream",
     "text": [
      "\r",
      "  0%|          | 0/8 [00:00<?, ?it/s]"
     ]
    },
    {
     "name": "stdout",
     "output_type": "stream",
     "text": [
      "('max mins for upsampled video', -0.8957420431489524, 1.0)\n",
      "('max mins', -0.995114226491868, 1.0)\n"
     ]
    },
    {
     "name": "stderr",
     "output_type": "stream",
     "text": [
      "\r",
      " 12%|█▎        | 1/8 [00:04<00:30,  4.40s/it]"
     ]
    },
    {
     "name": "stdout",
     "output_type": "stream",
     "text": [
      "('max mins', -0.9764981302756793, 1.0)\n"
     ]
    },
    {
     "name": "stderr",
     "output_type": "stream",
     "text": [
      "\r",
      " 25%|██▌       | 2/8 [00:08<00:26,  4.41s/it]"
     ]
    },
    {
     "name": "stdout",
     "output_type": "stream",
     "text": [
      "('max mins', -1.0, 0.997450571804602)\n"
     ]
    },
    {
     "name": "stderr",
     "output_type": "stream",
     "text": [
      "\r",
      " 38%|███▊      | 3/8 [00:13<00:22,  4.41s/it]"
     ]
    },
    {
     "name": "stdout",
     "output_type": "stream",
     "text": [
      "('max mins', -1.0, 0.9712772854754528)\n"
     ]
    },
    {
     "name": "stderr",
     "output_type": "stream",
     "text": [
      "\r",
      " 50%|█████     | 4/8 [00:17<00:17,  4.41s/it]"
     ]
    },
    {
     "name": "stdout",
     "output_type": "stream",
     "text": [
      "('max mins', -1.0, 0.923179286923753)\n"
     ]
    },
    {
     "name": "stderr",
     "output_type": "stream",
     "text": [
      "\r",
      " 62%|██████▎   | 5/8 [00:22<00:13,  4.41s/it]"
     ]
    },
    {
     "name": "stdout",
     "output_type": "stream",
     "text": [
      "('max mins', -1.0, 0.9189633329565583)\n"
     ]
    },
    {
     "name": "stderr",
     "output_type": "stream",
     "text": [
      "\r",
      " 75%|███████▌  | 6/8 [00:26<00:08,  4.41s/it]"
     ]
    },
    {
     "name": "stdout",
     "output_type": "stream",
     "text": [
      "('max mins', -1.0, 0.9247948730428763)\n"
     ]
    },
    {
     "name": "stderr",
     "output_type": "stream",
     "text": [
      "\r",
      " 88%|████████▊ | 7/8 [00:31<00:04,  4.47s/it]"
     ]
    },
    {
     "name": "stdout",
     "output_type": "stream",
     "text": [
      "('max mins', -1.0, 0.9609768360886519)\n"
     ]
    },
    {
     "name": "stderr",
     "output_type": "stream",
     "text": [
      "100%|██████████| 8/8 [00:35<00:00,  4.47s/it]\n"
     ]
    },
    {
     "name": "stdout",
     "output_type": "stream",
     "text": [
      "('Best file pairs are: ', 'non_spikey_T0000849.WAV*non_spikey_T0000850.WAV')\n",
      "Start and end indices around peak:                  start index: 9601361\t\t          end index: 21101361                  total samples:30015488\n",
      "('AV Sync was above threshold: ', 0.8608625841690204)\n",
      "common_fps/Aditya_annotations/2018-08-18/common_fps_video_syncAditya_2018-08-19_0120-0200_111.csv\n",
      "('video_fps obtained is :', 25)\n",
      "Did not find user-provided sample rate - getting it from first file that matches format!\n",
      "('sampling rate is : ', 250000)\n",
      ".....finding best audio segment.....\n"
     ]
    },
    {
     "name": "stderr",
     "output_type": "stream",
     "text": [
      "\r",
      "  0%|          | 0/8 [00:00<?, ?it/s]"
     ]
    },
    {
     "name": "stdout",
     "output_type": "stream",
     "text": [
      "('max mins for upsampled video', -0.9071453612697664, 1.0)\n",
      "('max mins', -0.995114226491868, 1.0)\n"
     ]
    },
    {
     "name": "stderr",
     "output_type": "stream",
     "text": [
      "\r",
      " 12%|█▎        | 1/8 [00:04<00:30,  4.42s/it]"
     ]
    },
    {
     "name": "stdout",
     "output_type": "stream",
     "text": [
      "('max mins', -0.9764981302756793, 1.0)\n"
     ]
    },
    {
     "name": "stderr",
     "output_type": "stream",
     "text": [
      "\r",
      " 25%|██▌       | 2/8 [00:08<00:26,  4.44s/it]"
     ]
    },
    {
     "name": "stdout",
     "output_type": "stream",
     "text": [
      "('max mins', -1.0, 0.997450571804602)\n"
     ]
    },
    {
     "name": "stderr",
     "output_type": "stream",
     "text": [
      "\r",
      " 38%|███▊      | 3/8 [00:14<00:23,  4.64s/it]"
     ]
    },
    {
     "name": "stdout",
     "output_type": "stream",
     "text": [
      "('max mins', -1.0, 0.9712772854754528)\n"
     ]
    },
    {
     "name": "stderr",
     "output_type": "stream",
     "text": [
      "\r",
      " 50%|█████     | 4/8 [00:18<00:18,  4.58s/it]"
     ]
    },
    {
     "name": "stdout",
     "output_type": "stream",
     "text": [
      "('max mins', -1.0, 0.923179286923753)\n"
     ]
    },
    {
     "name": "stderr",
     "output_type": "stream",
     "text": [
      "\r",
      " 62%|██████▎   | 5/8 [00:22<00:13,  4.53s/it]"
     ]
    },
    {
     "name": "stdout",
     "output_type": "stream",
     "text": [
      "('max mins', -1.0, 0.9189633329565583)\n"
     ]
    },
    {
     "name": "stderr",
     "output_type": "stream",
     "text": [
      "\r",
      " 75%|███████▌  | 6/8 [00:27<00:09,  4.51s/it]"
     ]
    },
    {
     "name": "stdout",
     "output_type": "stream",
     "text": [
      "('max mins', -1.0, 0.9247948730428763)\n"
     ]
    },
    {
     "name": "stderr",
     "output_type": "stream",
     "text": [
      "\r",
      " 88%|████████▊ | 7/8 [00:31<00:04,  4.48s/it]"
     ]
    },
    {
     "name": "stdout",
     "output_type": "stream",
     "text": [
      "('max mins', -1.0, 0.9609768360886519)\n"
     ]
    },
    {
     "name": "stderr",
     "output_type": "stream",
     "text": [
      "100%|██████████| 8/8 [00:36<00:00,  4.47s/it]\n"
     ]
    },
    {
     "name": "stdout",
     "output_type": "stream",
     "text": [
      "('Best file pairs are: ', 'non_spikey_T0000849.WAV*non_spikey_T0000850.WAV')\n",
      "Start and end indices around peak:                  start index: 10851177\t\t          end index: 22351177                  total samples:30015488\n",
      "('AV Sync was above threshold: ', 0.87765410802403)\n",
      "common_fps/Aditya_annotations/2018-08-18/common_fps_video_syncAditya_2018-08-19_0120-0200_112.csv\n",
      "('video_fps obtained is :', 25)\n",
      "Did not find user-provided sample rate - getting it from first file that matches format!\n",
      "('sampling rate is : ', 250000)\n",
      ".....finding best audio segment.....\n"
     ]
    },
    {
     "name": "stderr",
     "output_type": "stream",
     "text": [
      "\r",
      "  0%|          | 0/8 [00:00<?, ?it/s]"
     ]
    },
    {
     "name": "stdout",
     "output_type": "stream",
     "text": [
      "('max mins for upsampled video', -0.9111423501203002, 1.0)\n",
      "('max mins', -0.995114226491868, 1.0)\n"
     ]
    },
    {
     "name": "stderr",
     "output_type": "stream",
     "text": [
      "\r",
      " 12%|█▎        | 1/8 [00:04<00:30,  4.41s/it]"
     ]
    },
    {
     "name": "stdout",
     "output_type": "stream",
     "text": [
      "('max mins', -0.9764981302756793, 1.0)\n"
     ]
    },
    {
     "name": "stderr",
     "output_type": "stream",
     "text": [
      "\r",
      " 25%|██▌       | 2/8 [00:08<00:26,  4.41s/it]"
     ]
    },
    {
     "name": "stdout",
     "output_type": "stream",
     "text": [
      "('max mins', -1.0, 0.997450571804602)\n"
     ]
    },
    {
     "name": "stderr",
     "output_type": "stream",
     "text": [
      "\r",
      " 38%|███▊      | 3/8 [00:13<00:22,  4.41s/it]"
     ]
    },
    {
     "name": "stdout",
     "output_type": "stream",
     "text": [
      "('max mins', -1.0, 0.9712772854754528)\n"
     ]
    },
    {
     "name": "stderr",
     "output_type": "stream",
     "text": [
      "\r",
      " 50%|█████     | 4/8 [00:17<00:17,  4.42s/it]"
     ]
    },
    {
     "name": "stdout",
     "output_type": "stream",
     "text": [
      "('max mins', -1.0, 0.923179286923753)\n"
     ]
    },
    {
     "name": "stderr",
     "output_type": "stream",
     "text": [
      "\r",
      " 62%|██████▎   | 5/8 [00:22<00:13,  4.41s/it]"
     ]
    },
    {
     "name": "stdout",
     "output_type": "stream",
     "text": [
      "('max mins', -1.0, 0.9189633329565583)\n"
     ]
    },
    {
     "name": "stderr",
     "output_type": "stream",
     "text": [
      "\r",
      " 75%|███████▌  | 6/8 [00:26<00:08,  4.40s/it]"
     ]
    },
    {
     "name": "stdout",
     "output_type": "stream",
     "text": [
      "('max mins', -1.0, 0.9247948730428763)\n"
     ]
    },
    {
     "name": "stderr",
     "output_type": "stream",
     "text": [
      "\r",
      " 88%|████████▊ | 7/8 [00:30<00:04,  4.40s/it]"
     ]
    },
    {
     "name": "stdout",
     "output_type": "stream",
     "text": [
      "('max mins', -1.0, 0.9609768360886519)\n"
     ]
    },
    {
     "name": "stderr",
     "output_type": "stream",
     "text": [
      "100%|██████████| 8/8 [00:35<00:00,  4.40s/it]\n"
     ]
    },
    {
     "name": "stdout",
     "output_type": "stream",
     "text": [
      "('Best file pairs are: ', 'non_spikey_T0000849.WAV*non_spikey_T0000850.WAV')\n",
      "Start and end indices around peak:                  start index: 12100974\t\t          end index: 23600974                  total samples:30015488\n",
      "('AV Sync was above threshold: ', 0.8711852302268771)\n",
      "common_fps/Aditya_annotations/2018-08-18/common_fps_video_syncAditya_2018-08-19_0120-0200_113.csv\n",
      "('video_fps obtained is :', 25)\n",
      "Did not find user-provided sample rate - getting it from first file that matches format!\n",
      "('sampling rate is : ', 250000)\n",
      ".....finding best audio segment.....\n"
     ]
    },
    {
     "name": "stderr",
     "output_type": "stream",
     "text": [
      "\r",
      "  0%|          | 0/8 [00:00<?, ?it/s]"
     ]
    },
    {
     "name": "stdout",
     "output_type": "stream",
     "text": [
      "('max mins for upsampled video', -0.8842393198602558, 1.0)\n",
      "('max mins', -0.995114226491868, 1.0)\n"
     ]
    },
    {
     "name": "stderr",
     "output_type": "stream",
     "text": [
      "\r",
      " 12%|█▎        | 1/8 [00:04<00:31,  4.44s/it]"
     ]
    },
    {
     "name": "stdout",
     "output_type": "stream",
     "text": [
      "('max mins', -0.9764981302756793, 1.0)\n"
     ]
    },
    {
     "name": "stderr",
     "output_type": "stream",
     "text": [
      "\r",
      " 25%|██▌       | 2/8 [00:08<00:26,  4.44s/it]"
     ]
    },
    {
     "name": "stdout",
     "output_type": "stream",
     "text": [
      "('max mins', -1.0, 0.997450571804602)\n"
     ]
    },
    {
     "name": "stderr",
     "output_type": "stream",
     "text": [
      "\r",
      " 38%|███▊      | 3/8 [00:13<00:22,  4.44s/it]"
     ]
    },
    {
     "name": "stdout",
     "output_type": "stream",
     "text": [
      "('max mins', -1.0, 0.9712772854754528)\n"
     ]
    },
    {
     "name": "stderr",
     "output_type": "stream",
     "text": [
      "\r",
      " 50%|█████     | 4/8 [00:17<00:17,  4.43s/it]"
     ]
    },
    {
     "name": "stdout",
     "output_type": "stream",
     "text": [
      "('max mins', -1.0, 0.923179286923753)\n"
     ]
    },
    {
     "name": "stderr",
     "output_type": "stream",
     "text": [
      "\r",
      " 62%|██████▎   | 5/8 [00:22<00:13,  4.42s/it]"
     ]
    },
    {
     "name": "stdout",
     "output_type": "stream",
     "text": [
      "('max mins', -1.0, 0.9189633329565583)\n"
     ]
    },
    {
     "name": "stderr",
     "output_type": "stream",
     "text": [
      "\r",
      " 75%|███████▌  | 6/8 [00:26<00:08,  4.41s/it]"
     ]
    },
    {
     "name": "stdout",
     "output_type": "stream",
     "text": [
      "('max mins', -1.0, 0.9247948730428763)\n"
     ]
    },
    {
     "name": "stderr",
     "output_type": "stream",
     "text": [
      "\r",
      " 88%|████████▊ | 7/8 [00:30<00:04,  4.42s/it]"
     ]
    },
    {
     "name": "stdout",
     "output_type": "stream",
     "text": [
      "('max mins', -1.0, 0.9609768360886519)\n"
     ]
    },
    {
     "name": "stderr",
     "output_type": "stream",
     "text": [
      "100%|██████████| 8/8 [00:35<00:00,  4.42s/it]\n"
     ]
    },
    {
     "name": "stdout",
     "output_type": "stream",
     "text": [
      "('Best file pairs are: ', 'non_spikey_T0000849.WAV*non_spikey_T0000850.WAV')\n",
      "Start and end indices around peak:                  start index: 14350351\t\t          end index: 25850351                  total samples:30015488\n",
      "('AV Sync was above threshold: ', 0.8717785122283424)\n",
      "common_fps/Aditya_annotations/2018-08-18/common_fps_video_syncAditya_2018-08-19_0120-0200_116.csv\n",
      "('video_fps obtained is :', 25)\n",
      "Did not find user-provided sample rate - getting it from first file that matches format!\n",
      "('sampling rate is : ', 250000)\n",
      ".....finding best audio segment.....\n"
     ]
    },
    {
     "name": "stderr",
     "output_type": "stream",
     "text": [
      "\r",
      "  0%|          | 0/8 [00:00<?, ?it/s]"
     ]
    },
    {
     "name": "stdout",
     "output_type": "stream",
     "text": [
      "('max mins for upsampled video', -0.985017006641758, 1.0)\n",
      "('max mins', -0.995114226491868, 1.0)\n"
     ]
    },
    {
     "name": "stderr",
     "output_type": "stream",
     "text": [
      "\r",
      " 12%|█▎        | 1/8 [00:04<00:30,  4.41s/it]"
     ]
    },
    {
     "name": "stdout",
     "output_type": "stream",
     "text": [
      "('max mins', -0.9764981302756793, 1.0)\n"
     ]
    },
    {
     "name": "stderr",
     "output_type": "stream",
     "text": [
      "\r",
      " 25%|██▌       | 2/8 [00:08<00:26,  4.42s/it]"
     ]
    },
    {
     "name": "stdout",
     "output_type": "stream",
     "text": [
      "('max mins', -1.0, 0.997450571804602)\n"
     ]
    },
    {
     "name": "stderr",
     "output_type": "stream",
     "text": [
      "\r",
      " 38%|███▊      | 3/8 [00:13<00:22,  4.46s/it]"
     ]
    },
    {
     "name": "stdout",
     "output_type": "stream",
     "text": [
      "('max mins', -1.0, 0.9712772854754528)\n"
     ]
    },
    {
     "name": "stderr",
     "output_type": "stream",
     "text": [
      "\r",
      " 50%|█████     | 4/8 [00:18<00:18,  4.55s/it]"
     ]
    },
    {
     "name": "stdout",
     "output_type": "stream",
     "text": [
      "('max mins', -1.0, 0.923179286923753)\n"
     ]
    },
    {
     "name": "stderr",
     "output_type": "stream",
     "text": [
      "\r",
      " 62%|██████▎   | 5/8 [00:22<00:13,  4.51s/it]"
     ]
    },
    {
     "name": "stdout",
     "output_type": "stream",
     "text": [
      "('max mins', -1.0, 0.9189633329565583)\n"
     ]
    },
    {
     "name": "stderr",
     "output_type": "stream",
     "text": [
      "\r",
      " 75%|███████▌  | 6/8 [00:26<00:08,  4.47s/it]"
     ]
    },
    {
     "name": "stdout",
     "output_type": "stream",
     "text": [
      "('max mins', -1.0, 0.9247948730428763)\n"
     ]
    },
    {
     "name": "stderr",
     "output_type": "stream",
     "text": [
      "\r",
      " 88%|████████▊ | 7/8 [00:31<00:04,  4.46s/it]"
     ]
    },
    {
     "name": "stdout",
     "output_type": "stream",
     "text": [
      "('max mins', -1.0, 0.9609768360886519)\n"
     ]
    },
    {
     "name": "stderr",
     "output_type": "stream",
     "text": [
      "100%|██████████| 8/8 [00:35<00:00,  4.45s/it]\n"
     ]
    },
    {
     "name": "stdout",
     "output_type": "stream",
     "text": [
      "('Best file pairs are: ', 'non_spikey_T0000850.WAV*non_spikey_T0000851.WAV')\n",
      "Start and end indices around peak:                  start index: 4092607\t\t          end index: 15592607                  total samples:30015488\n",
      "('AV Sync was above threshold: ', 0.8693317006533674)\n",
      "common_fps/Aditya_annotations/2018-08-18/common_fps_video_syncAditya_2018-08-19_0120-0200_117.csv\n",
      "('video_fps obtained is :', 25)\n",
      "Did not find user-provided sample rate - getting it from first file that matches format!\n",
      "('sampling rate is : ', 250000)\n",
      ".....finding best audio segment.....\n"
     ]
    },
    {
     "name": "stderr",
     "output_type": "stream",
     "text": [
      "\r",
      "  0%|          | 0/8 [00:00<?, ?it/s]"
     ]
    },
    {
     "name": "stdout",
     "output_type": "stream",
     "text": [
      "('max mins for upsampled video', -0.957652867415528, 1.0)\n",
      "('max mins', -0.995114226491868, 1.0)\n"
     ]
    },
    {
     "name": "stderr",
     "output_type": "stream",
     "text": [
      "\r",
      " 12%|█▎        | 1/8 [00:04<00:30,  4.42s/it]"
     ]
    },
    {
     "name": "stdout",
     "output_type": "stream",
     "text": [
      "('max mins', -0.9764981302756793, 1.0)\n"
     ]
    },
    {
     "name": "stderr",
     "output_type": "stream",
     "text": [
      "\r",
      " 25%|██▌       | 2/8 [00:08<00:26,  4.41s/it]"
     ]
    },
    {
     "name": "stdout",
     "output_type": "stream",
     "text": [
      "('max mins', -1.0, 0.997450571804602)\n"
     ]
    },
    {
     "name": "stderr",
     "output_type": "stream",
     "text": [
      "\r",
      " 38%|███▊      | 3/8 [00:13<00:22,  4.43s/it]"
     ]
    },
    {
     "name": "stdout",
     "output_type": "stream",
     "text": [
      "('max mins', -1.0, 0.9712772854754528)\n"
     ]
    },
    {
     "name": "stderr",
     "output_type": "stream",
     "text": [
      "\r",
      " 50%|█████     | 4/8 [00:17<00:17,  4.43s/it]"
     ]
    },
    {
     "name": "stdout",
     "output_type": "stream",
     "text": [
      "('max mins', -1.0, 0.923179286923753)\n"
     ]
    },
    {
     "name": "stderr",
     "output_type": "stream",
     "text": [
      "\r",
      " 62%|██████▎   | 5/8 [00:22<00:13,  4.42s/it]"
     ]
    },
    {
     "name": "stdout",
     "output_type": "stream",
     "text": [
      "('max mins', -1.0, 0.9189633329565583)\n"
     ]
    },
    {
     "name": "stderr",
     "output_type": "stream",
     "text": [
      "\r",
      " 75%|███████▌  | 6/8 [00:26<00:08,  4.43s/it]"
     ]
    },
    {
     "name": "stdout",
     "output_type": "stream",
     "text": [
      "('max mins', -1.0, 0.9247948730428763)\n"
     ]
    },
    {
     "name": "stderr",
     "output_type": "stream",
     "text": [
      "\r",
      " 88%|████████▊ | 7/8 [00:30<00:04,  4.42s/it]"
     ]
    },
    {
     "name": "stdout",
     "output_type": "stream",
     "text": [
      "('max mins', -1.0, 0.9609768360886519)\n"
     ]
    },
    {
     "name": "stderr",
     "output_type": "stream",
     "text": [
      "100%|██████████| 8/8 [00:35<00:00,  4.42s/it]\n"
     ]
    },
    {
     "name": "stdout",
     "output_type": "stream",
     "text": [
      "('Best file pairs are: ', 'non_spikey_T0000850.WAV*non_spikey_T0000851.WAV')\n",
      "Start and end indices around peak:                  start index: 5092941\t\t          end index: 16592941                  total samples:30015488\n",
      "('AV Sync was above threshold: ', 0.8697579331479552)\n",
      "common_fps/Aditya_annotations/2018-08-18/common_fps_video_syncAditya_2018-08-19_0120-0200_118.csv\n",
      "('video_fps obtained is :', 25)\n",
      "Did not find user-provided sample rate - getting it from first file that matches format!\n",
      "('sampling rate is : ', 250000)\n",
      ".....finding best audio segment.....\n"
     ]
    },
    {
     "name": "stderr",
     "output_type": "stream",
     "text": [
      "\r",
      "  0%|          | 0/8 [00:00<?, ?it/s]"
     ]
    },
    {
     "name": "stdout",
     "output_type": "stream",
     "text": [
      "('max mins for upsampled video', -0.9631200289194379, 1.0)\n",
      "('max mins', -0.995114226491868, 1.0)\n"
     ]
    },
    {
     "name": "stderr",
     "output_type": "stream",
     "text": [
      "\r",
      " 12%|█▎        | 1/8 [00:05<00:37,  5.29s/it]"
     ]
    },
    {
     "name": "stdout",
     "output_type": "stream",
     "text": [
      "('max mins', -0.9764981302756793, 1.0)\n"
     ]
    },
    {
     "name": "stderr",
     "output_type": "stream",
     "text": [
      "\r",
      " 25%|██▌       | 2/8 [00:09<00:30,  5.05s/it]"
     ]
    },
    {
     "name": "stdout",
     "output_type": "stream",
     "text": [
      "('max mins', -1.0, 0.997450571804602)\n"
     ]
    },
    {
     "name": "stderr",
     "output_type": "stream",
     "text": [
      "\r",
      " 38%|███▊      | 3/8 [00:14<00:25,  5.05s/it]"
     ]
    },
    {
     "name": "stdout",
     "output_type": "stream",
     "text": [
      "('max mins', -1.0, 0.9712772854754528)\n"
     ]
    },
    {
     "name": "stderr",
     "output_type": "stream",
     "text": [
      "\r",
      " 50%|█████     | 4/8 [00:19<00:19,  4.96s/it]"
     ]
    },
    {
     "name": "stdout",
     "output_type": "stream",
     "text": [
      "('max mins', -1.0, 0.923179286923753)\n"
     ]
    },
    {
     "name": "stderr",
     "output_type": "stream",
     "text": [
      "\r",
      " 62%|██████▎   | 5/8 [00:25<00:15,  5.23s/it]"
     ]
    },
    {
     "name": "stdout",
     "output_type": "stream",
     "text": [
      "('max mins', -1.0, 0.9189633329565583)\n"
     ]
    },
    {
     "name": "stderr",
     "output_type": "stream",
     "text": [
      "\r",
      " 75%|███████▌  | 6/8 [00:30<00:10,  5.10s/it]"
     ]
    },
    {
     "name": "stdout",
     "output_type": "stream",
     "text": [
      "('max mins', -1.0, 0.9247948730428763)\n"
     ]
    },
    {
     "name": "stderr",
     "output_type": "stream",
     "text": [
      "\r",
      " 88%|████████▊ | 7/8 [00:35<00:05,  5.12s/it]"
     ]
    },
    {
     "name": "stdout",
     "output_type": "stream",
     "text": [
      "('max mins', -1.0, 0.9609768360886519)\n"
     ]
    },
    {
     "name": "stderr",
     "output_type": "stream",
     "text": [
      "100%|██████████| 8/8 [00:39<00:00,  4.91s/it]\n"
     ]
    },
    {
     "name": "stdout",
     "output_type": "stream",
     "text": [
      "('Best file pairs are: ', 'non_spikey_T0000850.WAV*non_spikey_T0000851.WAV')\n",
      "Start and end indices around peak:                  start index: 6342772\t\t          end index: 17842772                  total samples:30015488\n",
      "('AV Sync was above threshold: ', 0.8723554092597345)\n",
      "common_fps/Aditya_annotations/2018-08-18/common_fps_video_syncAditya_2018-08-19_0120-0200_119.csv\n",
      "('video_fps obtained is :', 25)\n",
      "Did not find user-provided sample rate - getting it from first file that matches format!\n",
      "('sampling rate is : ', 250000)\n",
      ".....finding best audio segment.....\n"
     ]
    },
    {
     "name": "stderr",
     "output_type": "stream",
     "text": [
      "\r",
      "  0%|          | 0/8 [00:00<?, ?it/s]"
     ]
    },
    {
     "name": "stdout",
     "output_type": "stream",
     "text": [
      "('max mins for upsampled video', -0.9989397277878443, 1.0)\n",
      "('max mins', -0.995114226491868, 1.0)\n"
     ]
    },
    {
     "name": "stderr",
     "output_type": "stream",
     "text": [
      "\r",
      " 12%|█▎        | 1/8 [00:04<00:33,  4.85s/it]"
     ]
    },
    {
     "name": "stdout",
     "output_type": "stream",
     "text": [
      "('max mins', -0.9764981302756793, 1.0)\n"
     ]
    },
    {
     "name": "stderr",
     "output_type": "stream",
     "text": [
      "\r",
      " 25%|██▌       | 2/8 [00:09<00:28,  4.72s/it]"
     ]
    },
    {
     "name": "stdout",
     "output_type": "stream",
     "text": [
      "('max mins', -1.0, 0.997450571804602)\n"
     ]
    },
    {
     "name": "stderr",
     "output_type": "stream",
     "text": [
      "\r",
      " 38%|███▊      | 3/8 [00:14<00:24,  4.89s/it]"
     ]
    },
    {
     "name": "stdout",
     "output_type": "stream",
     "text": [
      "('max mins', -1.0, 0.9712772854754528)\n"
     ]
    },
    {
     "name": "stderr",
     "output_type": "stream",
     "text": [
      "\r",
      " 50%|█████     | 4/8 [00:18<00:19,  4.75s/it]"
     ]
    },
    {
     "name": "stdout",
     "output_type": "stream",
     "text": [
      "('max mins', -1.0, 0.923179286923753)\n"
     ]
    },
    {
     "name": "stderr",
     "output_type": "stream",
     "text": [
      "\r",
      " 62%|██████▎   | 5/8 [00:23<00:13,  4.65s/it]"
     ]
    },
    {
     "name": "stdout",
     "output_type": "stream",
     "text": [
      "('max mins', -1.0, 0.9189633329565583)\n"
     ]
    },
    {
     "name": "stderr",
     "output_type": "stream",
     "text": [
      "\r",
      " 75%|███████▌  | 6/8 [00:27<00:09,  4.57s/it]"
     ]
    },
    {
     "name": "stdout",
     "output_type": "stream",
     "text": [
      "('max mins', -1.0, 0.9247948730428763)\n"
     ]
    },
    {
     "name": "stderr",
     "output_type": "stream",
     "text": [
      "\r",
      " 88%|████████▊ | 7/8 [00:32<00:04,  4.52s/it]"
     ]
    },
    {
     "name": "stdout",
     "output_type": "stream",
     "text": [
      "('max mins', -1.0, 0.9609768360886519)\n"
     ]
    },
    {
     "name": "stderr",
     "output_type": "stream",
     "text": [
      "100%|██████████| 8/8 [00:36<00:00,  4.49s/it]\n"
     ]
    },
    {
     "name": "stdout",
     "output_type": "stream",
     "text": [
      "('Best file pairs are: ', 'non_spikey_T0000850.WAV*non_spikey_T0000851.WAV')\n",
      "Start and end indices around peak:                  start index: 7342772\t\t          end index: 18842772                  total samples:30015488\n",
      "('AV Sync was above threshold: ', 0.8679267178492103)\n",
      "common_fps/Aditya_annotations/2018-08-18/common_fps_video_syncAditya_2018-08-19_0120-0200_120.csv\n",
      "('video_fps obtained is :', 25)\n",
      "Did not find user-provided sample rate - getting it from first file that matches format!\n",
      "('sampling rate is : ', 250000)\n",
      ".....finding best audio segment.....\n"
     ]
    },
    {
     "name": "stderr",
     "output_type": "stream",
     "text": [
      "\r",
      "  0%|          | 0/8 [00:00<?, ?it/s]"
     ]
    },
    {
     "name": "stdout",
     "output_type": "stream",
     "text": [
      "('max mins for upsampled video', -0.976067999320308, 1.0)\n",
      "('max mins', -0.995114226491868, 1.0)\n"
     ]
    },
    {
     "name": "stderr",
     "output_type": "stream",
     "text": [
      "\r",
      " 12%|█▎        | 1/8 [00:04<00:31,  4.46s/it]"
     ]
    },
    {
     "name": "stdout",
     "output_type": "stream",
     "text": [
      "('max mins', -0.9764981302756793, 1.0)\n"
     ]
    },
    {
     "name": "stderr",
     "output_type": "stream",
     "text": [
      "\r",
      " 25%|██▌       | 2/8 [00:08<00:26,  4.47s/it]"
     ]
    },
    {
     "name": "stdout",
     "output_type": "stream",
     "text": [
      "('max mins', -1.0, 0.997450571804602)\n"
     ]
    },
    {
     "name": "stderr",
     "output_type": "stream",
     "text": [
      "\r",
      " 38%|███▊      | 3/8 [00:13<00:22,  4.45s/it]"
     ]
    },
    {
     "name": "stdout",
     "output_type": "stream",
     "text": [
      "('max mins', -1.0, 0.9712772854754528)\n"
     ]
    },
    {
     "name": "stderr",
     "output_type": "stream",
     "text": [
      "\r",
      " 50%|█████     | 4/8 [00:17<00:17,  4.44s/it]"
     ]
    },
    {
     "name": "stdout",
     "output_type": "stream",
     "text": [
      "('max mins', -1.0, 0.923179286923753)\n"
     ]
    },
    {
     "name": "stderr",
     "output_type": "stream",
     "text": [
      "\r",
      " 62%|██████▎   | 5/8 [00:22<00:13,  4.43s/it]"
     ]
    },
    {
     "name": "stdout",
     "output_type": "stream",
     "text": [
      "('max mins', -1.0, 0.9189633329565583)\n"
     ]
    },
    {
     "name": "stderr",
     "output_type": "stream",
     "text": [
      "\r",
      " 75%|███████▌  | 6/8 [00:26<00:08,  4.42s/it]"
     ]
    },
    {
     "name": "stdout",
     "output_type": "stream",
     "text": [
      "('max mins', -1.0, 0.9247948730428763)\n"
     ]
    },
    {
     "name": "stderr",
     "output_type": "stream",
     "text": [
      "\r",
      " 88%|████████▊ | 7/8 [00:30<00:04,  4.42s/it]"
     ]
    },
    {
     "name": "stdout",
     "output_type": "stream",
     "text": [
      "('max mins', -1.0, 0.9609768360886519)\n"
     ]
    },
    {
     "name": "stderr",
     "output_type": "stream",
     "text": [
      "100%|██████████| 8/8 [00:35<00:00,  4.41s/it]\n"
     ]
    },
    {
     "name": "stdout",
     "output_type": "stream",
     "text": [
      "('Best file pairs are: ', 'non_spikey_T0000850.WAV*non_spikey_T0000851.WAV')\n",
      "Start and end indices around peak:                  start index: 12091077\t\t          end index: 23591077                  total samples:30015488\n",
      "('AV Sync was above threshold: ', 0.831097301055214)\n",
      "common_fps/Aditya_annotations/2018-08-18/common_fps_video_syncAditya_2018-08-19_0120-0200_121.csv\n",
      "('video_fps obtained is :', 25)\n",
      "Did not find user-provided sample rate - getting it from first file that matches format!\n",
      "('sampling rate is : ', 250000)\n",
      ".....finding best audio segment.....\n"
     ]
    },
    {
     "name": "stderr",
     "output_type": "stream",
     "text": [
      "\r",
      "  0%|          | 0/8 [00:00<?, ?it/s]"
     ]
    },
    {
     "name": "stdout",
     "output_type": "stream",
     "text": [
      "('max mins for upsampled video', -1.0, 0.94794310017745)\n",
      "('max mins', -0.995114226491868, 1.0)\n"
     ]
    },
    {
     "name": "stderr",
     "output_type": "stream",
     "text": [
      "\r",
      " 12%|█▎        | 1/8 [00:04<00:30,  4.42s/it]"
     ]
    },
    {
     "name": "stdout",
     "output_type": "stream",
     "text": [
      "('max mins', -0.9764981302756793, 1.0)\n"
     ]
    },
    {
     "name": "stderr",
     "output_type": "stream",
     "text": [
      "\r",
      " 25%|██▌       | 2/8 [00:08<00:26,  4.43s/it]"
     ]
    },
    {
     "name": "stdout",
     "output_type": "stream",
     "text": [
      "('max mins', -1.0, 0.997450571804602)\n"
     ]
    },
    {
     "name": "stderr",
     "output_type": "stream",
     "text": [
      "\r",
      " 38%|███▊      | 3/8 [00:13<00:22,  4.43s/it]"
     ]
    },
    {
     "name": "stdout",
     "output_type": "stream",
     "text": [
      "('max mins', -1.0, 0.9712772854754528)\n"
     ]
    },
    {
     "name": "stderr",
     "output_type": "stream",
     "text": [
      "\r",
      " 50%|█████     | 4/8 [00:17<00:17,  4.42s/it]"
     ]
    },
    {
     "name": "stdout",
     "output_type": "stream",
     "text": [
      "('max mins', -1.0, 0.923179286923753)\n"
     ]
    },
    {
     "name": "stderr",
     "output_type": "stream",
     "text": [
      "\r",
      " 62%|██████▎   | 5/8 [00:22<00:13,  4.64s/it]"
     ]
    },
    {
     "name": "stdout",
     "output_type": "stream",
     "text": [
      "('max mins', -1.0, 0.9189633329565583)\n"
     ]
    },
    {
     "name": "stderr",
     "output_type": "stream",
     "text": [
      "\r",
      " 75%|███████▌  | 6/8 [00:28<00:09,  4.87s/it]"
     ]
    },
    {
     "name": "stdout",
     "output_type": "stream",
     "text": [
      "('max mins', -1.0, 0.9247948730428763)\n"
     ]
    },
    {
     "name": "stderr",
     "output_type": "stream",
     "text": [
      "\r",
      " 88%|████████▊ | 7/8 [00:33<00:04,  4.98s/it]"
     ]
    },
    {
     "name": "stdout",
     "output_type": "stream",
     "text": [
      "('max mins', -1.0, 0.9609768360886519)\n"
     ]
    },
    {
     "name": "stderr",
     "output_type": "stream",
     "text": [
      "100%|██████████| 8/8 [00:38<00:00,  5.00s/it]\n"
     ]
    },
    {
     "name": "stdout",
     "output_type": "stream",
     "text": [
      "('Best file pairs are: ', 'non_spikey_T0000850.WAV*non_spikey_T0000851.WAV')\n",
      "Start and end indices around peak:                  start index: 14588904\t\t          end index: 26088904                  total samples:30015488\n",
      "('AV Sync was above threshold: ', 0.8311733265702381)\n",
      "common_fps/Aditya_annotations/2018-08-18/common_fps_video_syncAditya_2018-08-19_0120-0200_122.csv\n",
      "('video_fps obtained is :', 25)\n",
      "Did not find user-provided sample rate - getting it from first file that matches format!\n",
      "('sampling rate is : ', 250000)\n",
      ".....finding best audio segment.....\n"
     ]
    },
    {
     "name": "stderr",
     "output_type": "stream",
     "text": [
      "\r",
      "  0%|          | 0/8 [00:00<?, ?it/s]"
     ]
    },
    {
     "name": "stdout",
     "output_type": "stream",
     "text": [
      "('max mins for upsampled video', -1.0, 0.9163105901621352)\n",
      "('max mins', -0.995114226491868, 1.0)\n"
     ]
    },
    {
     "name": "stderr",
     "output_type": "stream",
     "text": [
      "\r",
      " 12%|█▎        | 1/8 [00:04<00:30,  4.41s/it]"
     ]
    },
    {
     "name": "stdout",
     "output_type": "stream",
     "text": [
      "('max mins', -0.9764981302756793, 1.0)\n"
     ]
    },
    {
     "name": "stderr",
     "output_type": "stream",
     "text": [
      "\r",
      " 25%|██▌       | 2/8 [00:08<00:26,  4.42s/it]"
     ]
    },
    {
     "name": "stdout",
     "output_type": "stream",
     "text": [
      "('max mins', -1.0, 0.997450571804602)\n"
     ]
    },
    {
     "name": "stderr",
     "output_type": "stream",
     "text": [
      "\r",
      " 38%|███▊      | 3/8 [00:13<00:23,  4.61s/it]"
     ]
    },
    {
     "name": "stdout",
     "output_type": "stream",
     "text": [
      "('max mins', -1.0, 0.9712772854754528)\n"
     ]
    },
    {
     "name": "stderr",
     "output_type": "stream",
     "text": [
      "\r",
      " 50%|█████     | 4/8 [00:18<00:18,  4.56s/it]"
     ]
    },
    {
     "name": "stdout",
     "output_type": "stream",
     "text": [
      "('max mins', -1.0, 0.923179286923753)\n"
     ]
    },
    {
     "name": "stderr",
     "output_type": "stream",
     "text": [
      "\r",
      " 62%|██████▎   | 5/8 [00:22<00:13,  4.51s/it]"
     ]
    },
    {
     "name": "stdout",
     "output_type": "stream",
     "text": [
      "('max mins', -1.0, 0.9189633329565583)\n"
     ]
    },
    {
     "name": "stderr",
     "output_type": "stream",
     "text": [
      "\r",
      " 75%|███████▌  | 6/8 [00:27<00:08,  4.48s/it]"
     ]
    },
    {
     "name": "stdout",
     "output_type": "stream",
     "text": [
      "('max mins', -1.0, 0.9247948730428763)\n"
     ]
    },
    {
     "name": "stderr",
     "output_type": "stream",
     "text": [
      "\r",
      " 88%|████████▊ | 7/8 [00:31<00:04,  4.45s/it]"
     ]
    },
    {
     "name": "stdout",
     "output_type": "stream",
     "text": [
      "('max mins', -1.0, 0.9609768360886519)\n"
     ]
    },
    {
     "name": "stderr",
     "output_type": "stream",
     "text": [
      "100%|██████████| 8/8 [00:35<00:00,  4.43s/it]\n"
     ]
    },
    {
     "name": "stdout",
     "output_type": "stream",
     "text": [
      "('Best file pairs are: ', 'non_spikey_T0000851.WAV*non_spikey_T0000852.WAV')\n",
      "Start and end indices around peak:                  start index: 2578349\t\t          end index: 14078349                  total samples:30015488\n",
      "('AV Sync was above threshold: ', 0.832553967079782)\n",
      "common_fps/Aditya_annotations/2018-08-18/common_fps_video_syncAditya_2018-08-19_0120-0200_123.csv\n",
      "('video_fps obtained is :', 25)\n",
      "Did not find user-provided sample rate - getting it from first file that matches format!\n",
      "('sampling rate is : ', 250000)\n",
      ".....finding best audio segment.....\n"
     ]
    },
    {
     "name": "stderr",
     "output_type": "stream",
     "text": [
      "\r",
      "  0%|          | 0/8 [00:00<?, ?it/s]"
     ]
    },
    {
     "name": "stdout",
     "output_type": "stream",
     "text": [
      "('max mins for upsampled video', -1.0, 0.9078738747641549)\n",
      "('max mins', -0.995114226491868, 1.0)\n"
     ]
    },
    {
     "name": "stderr",
     "output_type": "stream",
     "text": [
      "\r",
      " 12%|█▎        | 1/8 [00:04<00:30,  4.41s/it]"
     ]
    },
    {
     "name": "stdout",
     "output_type": "stream",
     "text": [
      "('max mins', -0.9764981302756793, 1.0)\n"
     ]
    },
    {
     "name": "stderr",
     "output_type": "stream",
     "text": [
      "\r",
      " 25%|██▌       | 2/8 [00:08<00:26,  4.41s/it]"
     ]
    },
    {
     "name": "stdout",
     "output_type": "stream",
     "text": [
      "('max mins', -1.0, 0.997450571804602)\n"
     ]
    },
    {
     "name": "stderr",
     "output_type": "stream",
     "text": [
      "\r",
      " 38%|███▊      | 3/8 [00:13<00:22,  4.44s/it]"
     ]
    },
    {
     "name": "stdout",
     "output_type": "stream",
     "text": [
      "('max mins', -1.0, 0.9712772854754528)\n"
     ]
    },
    {
     "name": "stderr",
     "output_type": "stream",
     "text": [
      "\r",
      " 50%|█████     | 4/8 [00:17<00:17,  4.43s/it]"
     ]
    },
    {
     "name": "stdout",
     "output_type": "stream",
     "text": [
      "('max mins', -1.0, 0.923179286923753)\n"
     ]
    },
    {
     "name": "stderr",
     "output_type": "stream",
     "text": [
      "\r",
      " 62%|██████▎   | 5/8 [00:22<00:13,  4.42s/it]"
     ]
    },
    {
     "name": "stdout",
     "output_type": "stream",
     "text": [
      "('max mins', -1.0, 0.9189633329565583)\n"
     ]
    },
    {
     "name": "stderr",
     "output_type": "stream",
     "text": [
      "\r",
      " 75%|███████▌  | 6/8 [00:26<00:08,  4.43s/it]"
     ]
    },
    {
     "name": "stdout",
     "output_type": "stream",
     "text": [
      "('max mins', -1.0, 0.9247948730428763)\n"
     ]
    },
    {
     "name": "stderr",
     "output_type": "stream",
     "text": [
      "\r",
      " 88%|████████▊ | 7/8 [00:30<00:04,  4.42s/it]"
     ]
    },
    {
     "name": "stdout",
     "output_type": "stream",
     "text": [
      "('max mins', -1.0, 0.9609768360886519)\n"
     ]
    },
    {
     "name": "stderr",
     "output_type": "stream",
     "text": [
      "100%|██████████| 8/8 [00:35<00:00,  4.42s/it]\n"
     ]
    },
    {
     "name": "stdout",
     "output_type": "stream",
     "text": [
      "('Best file pairs are: ', 'non_spikey_T0000851.WAV*non_spikey_T0000852.WAV')\n",
      "Start and end indices around peak:                  start index: 6577323\t\t          end index: 18077323                  total samples:30015488\n",
      "('AV Sync was above threshold: ', 0.8708801376694891)\n",
      "common_fps/Aditya_annotations/2018-08-18/common_fps_video_syncAditya_2018-08-19_0120-0200_124.csv\n",
      "('video_fps obtained is :', 25)\n",
      "Did not find user-provided sample rate - getting it from first file that matches format!\n",
      "('sampling rate is : ', 250000)\n",
      ".....finding best audio segment.....\n"
     ]
    },
    {
     "name": "stderr",
     "output_type": "stream",
     "text": [
      "\r",
      "  0%|          | 0/8 [00:00<?, ?it/s]"
     ]
    },
    {
     "name": "stdout",
     "output_type": "stream",
     "text": [
      "('max mins for upsampled video', -1.0, 0.9009661344157575)\n",
      "('max mins', -0.995114226491868, 1.0)\n"
     ]
    },
    {
     "name": "stderr",
     "output_type": "stream",
     "text": [
      "\r",
      " 12%|█▎        | 1/8 [00:04<00:31,  4.43s/it]"
     ]
    },
    {
     "name": "stdout",
     "output_type": "stream",
     "text": [
      "('max mins', -0.9764981302756793, 1.0)\n"
     ]
    },
    {
     "name": "stderr",
     "output_type": "stream",
     "text": [
      "\r",
      " 25%|██▌       | 2/8 [00:08<00:26,  4.44s/it]"
     ]
    },
    {
     "name": "stdout",
     "output_type": "stream",
     "text": [
      "('max mins', -1.0, 0.997450571804602)\n"
     ]
    },
    {
     "name": "stderr",
     "output_type": "stream",
     "text": [
      "\r",
      " 38%|███▊      | 3/8 [00:13<00:22,  4.44s/it]"
     ]
    },
    {
     "name": "stdout",
     "output_type": "stream",
     "text": [
      "('max mins', -1.0, 0.9712772854754528)\n"
     ]
    },
    {
     "name": "stderr",
     "output_type": "stream",
     "text": [
      "\r",
      " 50%|█████     | 4/8 [00:17<00:17,  4.42s/it]"
     ]
    },
    {
     "name": "stdout",
     "output_type": "stream",
     "text": [
      "('max mins', -1.0, 0.923179286923753)\n"
     ]
    },
    {
     "name": "stderr",
     "output_type": "stream",
     "text": [
      "\r",
      " 62%|██████▎   | 5/8 [00:22<00:13,  4.46s/it]"
     ]
    },
    {
     "name": "stdout",
     "output_type": "stream",
     "text": [
      "('max mins', -1.0, 0.9189633329565583)\n"
     ]
    },
    {
     "name": "stderr",
     "output_type": "stream",
     "text": [
      "\r",
      " 75%|███████▌  | 6/8 [00:27<00:09,  4.73s/it]"
     ]
    },
    {
     "name": "stdout",
     "output_type": "stream",
     "text": [
      "('max mins', -1.0, 0.9247948730428763)\n"
     ]
    },
    {
     "name": "stderr",
     "output_type": "stream",
     "text": [
      "\r",
      " 88%|████████▊ | 7/8 [00:32<00:04,  4.64s/it]"
     ]
    },
    {
     "name": "stdout",
     "output_type": "stream",
     "text": [
      "('max mins', -1.0, 0.9609768360886519)\n"
     ]
    },
    {
     "name": "stderr",
     "output_type": "stream",
     "text": [
      "100%|██████████| 8/8 [00:36<00:00,  4.58s/it]\n"
     ]
    },
    {
     "name": "stdout",
     "output_type": "stream",
     "text": [
      "('Best file pairs are: ', 'non_spikey_T0000851.WAV*non_spikey_T0000852.WAV')\n",
      "Start and end indices around peak:                  start index: 6827421\t\t          end index: 18327421                  total samples:30015488\n",
      "('AV Sync was above threshold: ', 0.8715696929536975)\n",
      "common_fps/Aditya_annotations/2018-08-18/common_fps_video_syncAditya_2018-08-19_0120-0200_126.csv\n",
      "('video_fps obtained is :', 25)\n",
      "Did not find user-provided sample rate - getting it from first file that matches format!\n",
      "('sampling rate is : ', 250000)\n",
      ".....finding best audio segment.....\n"
     ]
    },
    {
     "name": "stderr",
     "output_type": "stream",
     "text": [
      "\r",
      "  0%|          | 0/8 [00:00<?, ?it/s]"
     ]
    },
    {
     "name": "stdout",
     "output_type": "stream",
     "text": [
      "('max mins for upsampled video', -0.8025290235059679, 1.0)\n",
      "('max mins', -0.995114226491868, 1.0)\n"
     ]
    },
    {
     "name": "stderr",
     "output_type": "stream",
     "text": [
      "\r",
      " 12%|█▎        | 1/8 [00:04<00:31,  4.43s/it]"
     ]
    },
    {
     "name": "stdout",
     "output_type": "stream",
     "text": [
      "('max mins', -0.9764981302756793, 1.0)\n"
     ]
    },
    {
     "name": "stderr",
     "output_type": "stream",
     "text": [
      "\r",
      " 25%|██▌       | 2/8 [00:08<00:26,  4.43s/it]"
     ]
    },
    {
     "name": "stdout",
     "output_type": "stream",
     "text": [
      "('max mins', -1.0, 0.997450571804602)\n"
     ]
    },
    {
     "name": "stderr",
     "output_type": "stream",
     "text": [
      "\r",
      " 38%|███▊      | 3/8 [00:14<00:23,  4.69s/it]"
     ]
    },
    {
     "name": "stdout",
     "output_type": "stream",
     "text": [
      "('max mins', -1.0, 0.9712772854754528)\n"
     ]
    },
    {
     "name": "stderr",
     "output_type": "stream",
     "text": [
      "\r",
      " 50%|█████     | 4/8 [00:18<00:18,  4.61s/it]"
     ]
    },
    {
     "name": "stdout",
     "output_type": "stream",
     "text": [
      "('max mins', -1.0, 0.923179286923753)\n"
     ]
    },
    {
     "name": "stderr",
     "output_type": "stream",
     "text": [
      "\r",
      " 62%|██████▎   | 5/8 [00:22<00:13,  4.54s/it]"
     ]
    },
    {
     "name": "stdout",
     "output_type": "stream",
     "text": [
      "('max mins', -1.0, 0.9189633329565583)\n"
     ]
    },
    {
     "name": "stderr",
     "output_type": "stream",
     "text": [
      "\r",
      " 75%|███████▌  | 6/8 [00:27<00:09,  4.50s/it]"
     ]
    },
    {
     "name": "stdout",
     "output_type": "stream",
     "text": [
      "('max mins', -1.0, 0.9247948730428763)\n"
     ]
    },
    {
     "name": "stderr",
     "output_type": "stream",
     "text": [
      "\r",
      " 88%|████████▊ | 7/8 [00:31<00:04,  4.47s/it]"
     ]
    },
    {
     "name": "stdout",
     "output_type": "stream",
     "text": [
      "('max mins', -1.0, 0.9609768360886519)\n"
     ]
    },
    {
     "name": "stderr",
     "output_type": "stream",
     "text": [
      "100%|██████████| 8/8 [00:36<00:00,  4.45s/it]\n"
     ]
    },
    {
     "name": "stdout",
     "output_type": "stream",
     "text": [
      "('Best file pairs are: ', 'non_spikey_T0000852.WAV*non_spikey_T0000853.WAV')\n",
      "Start and end indices around peak:                  start index: 16319380\t\t          end index: 27819380                  total samples:30015488\n",
      "('AV Sync was above threshold: ', 0.8375044609805555)\n",
      "common_fps/Aditya_annotations/2018-08-18/common_fps_video_syncAditya_2018-08-19_0120-0200_127.csv\n",
      "('video_fps obtained is :', 25)\n",
      "Did not find user-provided sample rate - getting it from first file that matches format!\n",
      "('sampling rate is : ', 250000)\n",
      ".....finding best audio segment.....\n"
     ]
    },
    {
     "name": "stderr",
     "output_type": "stream",
     "text": [
      "\r",
      "  0%|          | 0/8 [00:00<?, ?it/s]"
     ]
    },
    {
     "name": "stdout",
     "output_type": "stream",
     "text": [
      "('max mins for upsampled video', -0.6835483761284897, 1.0)\n",
      "('max mins', -0.995114226491868, 1.0)\n"
     ]
    },
    {
     "name": "stderr",
     "output_type": "stream",
     "text": [
      "\r",
      " 12%|█▎        | 1/8 [00:04<00:30,  4.41s/it]"
     ]
    },
    {
     "name": "stdout",
     "output_type": "stream",
     "text": [
      "('max mins', -0.9764981302756793, 1.0)\n"
     ]
    },
    {
     "name": "stderr",
     "output_type": "stream",
     "text": [
      "\r",
      " 25%|██▌       | 2/8 [00:08<00:26,  4.42s/it]"
     ]
    },
    {
     "name": "stdout",
     "output_type": "stream",
     "text": [
      "('max mins', -1.0, 0.997450571804602)\n"
     ]
    },
    {
     "name": "stderr",
     "output_type": "stream",
     "text": [
      "\r",
      " 38%|███▊      | 3/8 [00:13<00:22,  4.42s/it]"
     ]
    },
    {
     "name": "stdout",
     "output_type": "stream",
     "text": [
      "('max mins', -1.0, 0.9712772854754528)\n"
     ]
    },
    {
     "name": "stderr",
     "output_type": "stream",
     "text": [
      "\r",
      " 50%|█████     | 4/8 [00:17<00:17,  4.41s/it]"
     ]
    },
    {
     "name": "stdout",
     "output_type": "stream",
     "text": [
      "('max mins', -1.0, 0.923179286923753)\n"
     ]
    },
    {
     "name": "stderr",
     "output_type": "stream",
     "text": [
      "\r",
      " 62%|██████▎   | 5/8 [00:22<00:13,  4.40s/it]"
     ]
    },
    {
     "name": "stdout",
     "output_type": "stream",
     "text": [
      "('max mins', -1.0, 0.9189633329565583)\n"
     ]
    },
    {
     "name": "stderr",
     "output_type": "stream",
     "text": [
      "\r",
      " 75%|███████▌  | 6/8 [00:26<00:08,  4.40s/it]"
     ]
    },
    {
     "name": "stdout",
     "output_type": "stream",
     "text": [
      "('max mins', -1.0, 0.9247948730428763)\n"
     ]
    },
    {
     "name": "stderr",
     "output_type": "stream",
     "text": [
      "\r",
      " 88%|████████▊ | 7/8 [00:30<00:04,  4.40s/it]"
     ]
    },
    {
     "name": "stdout",
     "output_type": "stream",
     "text": [
      "('max mins', -1.0, 0.9609768360886519)\n"
     ]
    },
    {
     "name": "stderr",
     "output_type": "stream",
     "text": [
      "100%|██████████| 8/8 [00:35<00:00,  4.46s/it]\n"
     ]
    },
    {
     "name": "stdout",
     "output_type": "stream",
     "text": [
      "('Best file pairs are: ', 'non_spikey_T0000852.WAV*non_spikey_T0000853.WAV')\n",
      "Start and end indices around peak:                  start index: 18068535\t\t          end index: 29568535                  total samples:30015488\n",
      "('AV Sync was above threshold: ', 0.7986000412298079)\n",
      "common_fps/Aditya_annotations/2018-08-18/common_fps_video_syncAditya_2018-08-19_0120-0200_128.csv\n",
      "('video_fps obtained is :', 25)\n",
      "Did not find user-provided sample rate - getting it from first file that matches format!\n",
      "('sampling rate is : ', 250000)\n",
      ".....finding best audio segment.....\n"
     ]
    },
    {
     "name": "stderr",
     "output_type": "stream",
     "text": [
      "\r",
      "  0%|          | 0/8 [00:00<?, ?it/s]"
     ]
    },
    {
     "name": "stdout",
     "output_type": "stream",
     "text": [
      "('max mins for upsampled video', -0.29071222442871053, 1.0)\n",
      "('max mins', -0.995114226491868, 1.0)\n"
     ]
    },
    {
     "name": "stderr",
     "output_type": "stream",
     "text": [
      "\r",
      " 12%|█▎        | 1/8 [00:04<00:30,  4.40s/it]"
     ]
    },
    {
     "name": "stdout",
     "output_type": "stream",
     "text": [
      "('max mins', -0.9764981302756793, 1.0)\n"
     ]
    },
    {
     "name": "stderr",
     "output_type": "stream",
     "text": [
      "\r",
      " 25%|██▌       | 2/8 [00:08<00:26,  4.41s/it]"
     ]
    },
    {
     "name": "stdout",
     "output_type": "stream",
     "text": [
      "('max mins', -1.0, 0.997450571804602)\n"
     ]
    },
    {
     "name": "stderr",
     "output_type": "stream",
     "text": [
      "\r",
      " 38%|███▊      | 3/8 [00:13<00:22,  4.41s/it]"
     ]
    },
    {
     "name": "stdout",
     "output_type": "stream",
     "text": [
      "('max mins', -1.0, 0.9712772854754528)\n"
     ]
    },
    {
     "name": "stderr",
     "output_type": "stream",
     "text": [
      "\r",
      " 50%|█████     | 4/8 [00:17<00:17,  4.41s/it]"
     ]
    },
    {
     "name": "stdout",
     "output_type": "stream",
     "text": [
      "('max mins', -1.0, 0.923179286923753)\n"
     ]
    },
    {
     "name": "stderr",
     "output_type": "stream",
     "text": [
      "\r",
      " 62%|██████▎   | 5/8 [00:22<00:13,  4.40s/it]"
     ]
    },
    {
     "name": "stdout",
     "output_type": "stream",
     "text": [
      "('max mins', -1.0, 0.9189633329565583)\n"
     ]
    },
    {
     "name": "stderr",
     "output_type": "stream",
     "text": [
      "\r",
      " 75%|███████▌  | 6/8 [00:26<00:08,  4.40s/it]"
     ]
    },
    {
     "name": "stdout",
     "output_type": "stream",
     "text": [
      "('max mins', -1.0, 0.9247948730428763)\n"
     ]
    },
    {
     "name": "stderr",
     "output_type": "stream",
     "text": [
      "\r",
      " 88%|████████▊ | 7/8 [00:30<00:04,  4.41s/it]"
     ]
    },
    {
     "name": "stdout",
     "output_type": "stream",
     "text": [
      "('max mins', -1.0, 0.9609768360886519)\n"
     ]
    },
    {
     "name": "stderr",
     "output_type": "stream",
     "text": [
      "100%|██████████| 8/8 [00:35<00:00,  4.40s/it]\n"
     ]
    },
    {
     "name": "stdout",
     "output_type": "stream",
     "text": [
      "('Best file pairs are: ', 'non_spikey_T0000853.WAV*non_spikey_T0000854.WAV')\n",
      "Start and end indices around peak:                  start index: 11054620\t\t          end index: 22554620                  total samples:30015488\n",
      "('AV Sync was above threshold: ', 0.5240722092375034)\n"
     ]
    }
   ],
   "source": [
    "for commonfps_set, file_range in zip(common_fps_chunks, file_ranges_for_chunks):\n",
    "    for each in commonfps_set:\n",
    "        generate_matching_audio(each, audio_folder, audio_sync_spikey=False, \n",
    "                                file_subset=file_range,\n",
    "                                audio_fileformat='*.WAV',\n",
    "                              audiosync_folder='sync_audio/Aditya_annotations/',\n",
    "                               audioannotation_folder='annotation_audio/Aditya_annotations/')"
   ]
  },
  {
   "cell_type": "markdown",
   "metadata": {},
   "source": [
    "2020-03-01 :\n",
    "### Fixing errors in file range definitions:\n",
    "\n",
    "There were some annotations that didn't get matched because I defined the file ranges incorrectly. Here I'll correct them and try to match them again. "
   ]
  },
  {
   "cell_type": "code",
   "execution_count": 22,
   "metadata": {},
   "outputs": [],
   "source": [
    "annot_1_range = ('non_spikey_T0000816','non_spikey_T0000819')\n",
    "annots_33_34_41_42_range = ('non_spikey_T0000830','non_spikey_T0000844')\n"
   ]
  },
  {
   "cell_type": "code",
   "execution_count": 34,
   "metadata": {},
   "outputs": [
    {
     "data": {
      "text/plain": [
       "76"
      ]
     },
     "execution_count": 34,
     "metadata": {},
     "output_type": "execute_result"
    }
   ],
   "source": []
  },
  {
   "cell_type": "code",
   "execution_count": 35,
   "metadata": {},
   "outputs": [],
   "source": [
    "annotation_1_commonfps = all_commonfps[int(np.argwhere(['0200_1.csv' in each for each in all_commonfps]))]"
   ]
  },
  {
   "cell_type": "code",
   "execution_count": 36,
   "metadata": {},
   "outputs": [
    {
     "name": "stdout",
     "output_type": "stream",
     "text": [
      "common_fps/Aditya_annotations/2018-08-18/common_fps_video_syncAditya_2018-08-19_0120-0200_1.csv\n",
      "('video_fps obtained is :', 25)\n",
      "Did not find user-provided sample rate - getting it from first file that matches format!\n",
      "('sampling rate is : ', 250000)\n",
      ".....finding best audio segment.....\n"
     ]
    },
    {
     "name": "stderr",
     "output_type": "stream",
     "text": [
      "\r",
      "  0%|          | 0/3 [00:00<?, ?it/s]"
     ]
    },
    {
     "name": "stdout",
     "output_type": "stream",
     "text": [
      "('max mins for upsampled video', -0.9854708905886425, 1.0)\n",
      "('max mins', -1.0, 0.9827567050322208)\n"
     ]
    },
    {
     "name": "stderr",
     "output_type": "stream",
     "text": [
      "\r",
      " 33%|███▎      | 1/3 [00:05<00:10,  5.30s/it]"
     ]
    },
    {
     "name": "stdout",
     "output_type": "stream",
     "text": [
      "('max mins', -0.9814108855221259, 1.0)\n"
     ]
    },
    {
     "name": "stderr",
     "output_type": "stream",
     "text": [
      "\r",
      " 67%|██████▋   | 2/3 [00:10<00:05,  5.25s/it]"
     ]
    },
    {
     "name": "stdout",
     "output_type": "stream",
     "text": [
      "('max mins', -0.9842913319379506, 1.0)\n"
     ]
    },
    {
     "name": "stderr",
     "output_type": "stream",
     "text": [
      "100%|██████████| 3/3 [00:15<00:00,  5.16s/it]\n"
     ]
    },
    {
     "name": "stdout",
     "output_type": "stream",
     "text": [
      "('Best file pairs are: ', 'non_spikey_T0000817.WAV*non_spikey_T0000818.WAV')\n",
      "Start and end indices around peak:                  start index: 8852271\t\t          end index: 20352271                  total samples:30015488\n",
      "('AV Sync was above threshold: ', 0.8582289486914867)\n"
     ]
    },
    {
     "data": {
      "text/plain": [
       "True"
      ]
     },
     "execution_count": 36,
     "metadata": {},
     "output_type": "execute_result"
    }
   ],
   "source": [
    "# for annotation 1\n",
    "generate_matching_audio(annotation_1_commonfps, audio_folder, audio_sync_spikey=False, \n",
    "                                file_subset=annot_1_range,\n",
    "                                audio_fileformat='*.WAV',\n",
    "                              audiosync_folder='sync_audio/Aditya_annotations/',\n",
    "                               audioannotation_folder='annotation_audio/Aditya_annotations/')"
   ]
  },
  {
   "cell_type": "code",
   "execution_count": 39,
   "metadata": {},
   "outputs": [],
   "source": [
    "annotation_33_commonfps = all_commonfps[int(np.argwhere(['0200_33.csv' in each for each in all_commonfps]))]\n",
    "annotation_34_commonfps = all_commonfps[int(np.argwhere(['0200_34.csv' in each for each in all_commonfps]))]\n",
    "annotation_41_commonfps = all_commonfps[int(np.argwhere(['0200_41.csv' in each for each in all_commonfps]))]\n",
    "\n",
    "annotations_to_be_rerun = [annotation_33_commonfps, annotation_34_commonfps, annotation_41_commonfps]"
   ]
  },
  {
   "cell_type": "code",
   "execution_count": 40,
   "metadata": {
    "scrolled": true
   },
   "outputs": [
    {
     "name": "stdout",
     "output_type": "stream",
     "text": [
      "common_fps/Aditya_annotations/2018-08-18/common_fps_video_syncAditya_2018-08-19_0120-0200_33.csv\n",
      "('video_fps obtained is :', 25)\n",
      "Did not find user-provided sample rate - getting it from first file that matches format!\n",
      "('sampling rate is : ', 250000)\n",
      ".....finding best audio segment.....\n"
     ]
    },
    {
     "name": "stderr",
     "output_type": "stream",
     "text": [
      "\r",
      "  0%|          | 0/14 [00:00<?, ?it/s]"
     ]
    },
    {
     "name": "stdout",
     "output_type": "stream",
     "text": [
      "('max mins for upsampled video', -1.0, 0.9156107536400422)\n",
      "('max mins', -0.9980627460717553, 1.0)\n"
     ]
    },
    {
     "name": "stderr",
     "output_type": "stream",
     "text": [
      "\r",
      "  7%|▋         | 1/14 [00:05<01:06,  5.08s/it]"
     ]
    },
    {
     "name": "stdout",
     "output_type": "stream",
     "text": [
      "('max mins', -1.0, 0.9443811730993229)\n"
     ]
    },
    {
     "name": "stderr",
     "output_type": "stream",
     "text": [
      "\r",
      " 14%|█▍        | 2/14 [00:09<00:59,  5.00s/it]"
     ]
    },
    {
     "name": "stdout",
     "output_type": "stream",
     "text": [
      "('max mins', -1.0, 0.9213079865198895)\n"
     ]
    },
    {
     "name": "stderr",
     "output_type": "stream",
     "text": [
      "\r",
      " 21%|██▏       | 3/14 [00:14<00:54,  4.92s/it]"
     ]
    },
    {
     "name": "stdout",
     "output_type": "stream",
     "text": [
      "('max mins', -1.0, 0.9709446183744602)\n"
     ]
    },
    {
     "name": "stderr",
     "output_type": "stream",
     "text": [
      "\r",
      " 29%|██▊       | 4/14 [00:19<00:49,  4.96s/it]"
     ]
    },
    {
     "name": "stdout",
     "output_type": "stream",
     "text": [
      "('max mins', -0.9959990229971392, 1.0)\n"
     ]
    },
    {
     "name": "stderr",
     "output_type": "stream",
     "text": [
      "\r",
      " 36%|███▌      | 5/14 [00:24<00:44,  4.95s/it]"
     ]
    },
    {
     "name": "stdout",
     "output_type": "stream",
     "text": [
      "('max mins', -1.0, 0.9780470985687384)\n"
     ]
    },
    {
     "name": "stderr",
     "output_type": "stream",
     "text": [
      "\r",
      " 43%|████▎     | 6/14 [00:29<00:39,  4.89s/it]"
     ]
    },
    {
     "name": "stdout",
     "output_type": "stream",
     "text": [
      "('max mins', -1.0, 0.977374304381043)\n"
     ]
    },
    {
     "name": "stderr",
     "output_type": "stream",
     "text": [
      "\r",
      " 50%|█████     | 7/14 [00:34<00:33,  4.85s/it]"
     ]
    },
    {
     "name": "stdout",
     "output_type": "stream",
     "text": [
      "('max mins', -0.9412727803185628, 1.0)\n"
     ]
    },
    {
     "name": "stderr",
     "output_type": "stream",
     "text": [
      "\r",
      " 57%|█████▋    | 8/14 [00:38<00:28,  4.81s/it]"
     ]
    },
    {
     "name": "stdout",
     "output_type": "stream",
     "text": [
      "('max mins', -0.950052315645415, 1.0)\n"
     ]
    },
    {
     "name": "stderr",
     "output_type": "stream",
     "text": [
      "\r",
      " 64%|██████▍   | 9/14 [00:43<00:23,  4.78s/it]"
     ]
    },
    {
     "name": "stdout",
     "output_type": "stream",
     "text": [
      "('max mins', -0.9945437506341868, 1.0)\n"
     ]
    },
    {
     "name": "stderr",
     "output_type": "stream",
     "text": [
      "\r",
      " 71%|███████▏  | 10/14 [00:48<00:19,  4.75s/it]"
     ]
    },
    {
     "name": "stdout",
     "output_type": "stream",
     "text": [
      "('max mins', -0.9367571166681841, 1.0)\n"
     ]
    },
    {
     "name": "stderr",
     "output_type": "stream",
     "text": [
      "\r",
      " 79%|███████▊  | 11/14 [00:53<00:14,  4.89s/it]"
     ]
    },
    {
     "name": "stdout",
     "output_type": "stream",
     "text": [
      "('max mins', -0.9739639603380102, 1.0)\n"
     ]
    },
    {
     "name": "stderr",
     "output_type": "stream",
     "text": [
      "\r",
      " 86%|████████▌ | 12/14 [00:58<00:09,  4.84s/it]"
     ]
    },
    {
     "name": "stdout",
     "output_type": "stream",
     "text": [
      "('max mins', -1.0, 0.9531781071652979)\n"
     ]
    },
    {
     "name": "stderr",
     "output_type": "stream",
     "text": [
      "\r",
      " 93%|█████████▎| 13/14 [01:02<00:04,  4.80s/it]"
     ]
    },
    {
     "name": "stdout",
     "output_type": "stream",
     "text": [
      "('max mins', -1.0, 0.9859764486805959)\n"
     ]
    },
    {
     "name": "stderr",
     "output_type": "stream",
     "text": [
      "100%|██████████| 14/14 [01:08<00:00,  5.03s/it]\n"
     ]
    },
    {
     "name": "stdout",
     "output_type": "stream",
     "text": [
      "('Best file pairs are: ', 'non_spikey_T0000833.WAV*non_spikey_T0000834.WAV')\n",
      "Start and end indices around peak:                  start index: 515293\t\t          end index: 12015293                  total samples:30015488\n",
      "('AV Sync was above threshold: ', 0.8741937664206042)\n",
      "common_fps/Aditya_annotations/2018-08-18/common_fps_video_syncAditya_2018-08-19_0120-0200_34.csv\n",
      "('video_fps obtained is :', 25)\n",
      "Did not find user-provided sample rate - getting it from first file that matches format!\n",
      "('sampling rate is : ', 250000)\n",
      ".....finding best audio segment.....\n"
     ]
    },
    {
     "name": "stderr",
     "output_type": "stream",
     "text": [
      "\r",
      "  0%|          | 0/14 [00:00<?, ?it/s]"
     ]
    },
    {
     "name": "stdout",
     "output_type": "stream",
     "text": [
      "('max mins for upsampled video', -1.0, 0.9155556356987913)\n",
      "('max mins', -0.9980627460717553, 1.0)\n"
     ]
    },
    {
     "name": "stderr",
     "output_type": "stream",
     "text": [
      "\r",
      "  7%|▋         | 1/14 [00:05<01:09,  5.34s/it]"
     ]
    },
    {
     "name": "stdout",
     "output_type": "stream",
     "text": [
      "('max mins', -1.0, 0.9443811730993229)\n"
     ]
    },
    {
     "name": "stderr",
     "output_type": "stream",
     "text": [
      "\r",
      " 14%|█▍        | 2/14 [00:09<01:00,  5.06s/it]"
     ]
    },
    {
     "name": "stdout",
     "output_type": "stream",
     "text": [
      "('max mins', -1.0, 0.9213079865198895)\n"
     ]
    },
    {
     "name": "stderr",
     "output_type": "stream",
     "text": [
      "\r",
      " 21%|██▏       | 3/14 [00:14<00:53,  4.85s/it]"
     ]
    },
    {
     "name": "stdout",
     "output_type": "stream",
     "text": [
      "('max mins', -1.0, 0.9709446183744602)\n"
     ]
    },
    {
     "name": "stderr",
     "output_type": "stream",
     "text": [
      "\r",
      " 29%|██▊       | 4/14 [00:18<00:47,  4.71s/it]"
     ]
    },
    {
     "name": "stdout",
     "output_type": "stream",
     "text": [
      "('max mins', -0.9959990229971392, 1.0)\n"
     ]
    },
    {
     "name": "stderr",
     "output_type": "stream",
     "text": [
      "\r",
      " 36%|███▌      | 5/14 [00:22<00:41,  4.62s/it]"
     ]
    },
    {
     "name": "stdout",
     "output_type": "stream",
     "text": [
      "('max mins', -1.0, 0.9780470985687384)\n"
     ]
    },
    {
     "name": "stderr",
     "output_type": "stream",
     "text": [
      "\r",
      " 43%|████▎     | 6/14 [00:28<00:38,  4.78s/it]"
     ]
    },
    {
     "name": "stdout",
     "output_type": "stream",
     "text": [
      "('max mins', -1.0, 0.977374304381043)\n"
     ]
    },
    {
     "name": "stderr",
     "output_type": "stream",
     "text": [
      "\r",
      " 50%|█████     | 7/14 [00:32<00:32,  4.69s/it]"
     ]
    },
    {
     "name": "stdout",
     "output_type": "stream",
     "text": [
      "('max mins', -0.9412727803185628, 1.0)\n"
     ]
    },
    {
     "name": "stderr",
     "output_type": "stream",
     "text": [
      "\r",
      " 57%|█████▋    | 8/14 [00:36<00:27,  4.60s/it]"
     ]
    },
    {
     "name": "stdout",
     "output_type": "stream",
     "text": [
      "('max mins', -0.950052315645415, 1.0)\n"
     ]
    },
    {
     "name": "stderr",
     "output_type": "stream",
     "text": [
      "\r",
      " 64%|██████▍   | 9/14 [00:41<00:22,  4.54s/it]"
     ]
    },
    {
     "name": "stdout",
     "output_type": "stream",
     "text": [
      "('max mins', -0.9945437506341868, 1.0)\n"
     ]
    },
    {
     "name": "stderr",
     "output_type": "stream",
     "text": [
      "\r",
      " 71%|███████▏  | 10/14 [00:45<00:18,  4.51s/it]"
     ]
    },
    {
     "name": "stdout",
     "output_type": "stream",
     "text": [
      "('max mins', -0.9367571166681841, 1.0)\n"
     ]
    },
    {
     "name": "stderr",
     "output_type": "stream",
     "text": [
      "\r",
      " 79%|███████▊  | 11/14 [00:50<00:13,  4.55s/it]"
     ]
    },
    {
     "name": "stdout",
     "output_type": "stream",
     "text": [
      "('max mins', -0.9739639603380102, 1.0)\n"
     ]
    },
    {
     "name": "stderr",
     "output_type": "stream",
     "text": [
      "\r",
      " 86%|████████▌ | 12/14 [00:54<00:09,  4.51s/it]"
     ]
    },
    {
     "name": "stdout",
     "output_type": "stream",
     "text": [
      "('max mins', -1.0, 0.9531781071652979)\n"
     ]
    },
    {
     "name": "stderr",
     "output_type": "stream",
     "text": [
      "\r",
      " 93%|█████████▎| 13/14 [00:59<00:04,  4.48s/it]"
     ]
    },
    {
     "name": "stdout",
     "output_type": "stream",
     "text": [
      "('max mins', -1.0, 0.9859764486805959)\n"
     ]
    },
    {
     "name": "stderr",
     "output_type": "stream",
     "text": [
      "100%|██████████| 14/14 [01:03<00:00,  4.48s/it]\n"
     ]
    },
    {
     "name": "stdout",
     "output_type": "stream",
     "text": [
      "('Best file pairs are: ', 'non_spikey_T0000833.WAV*non_spikey_T0000834.WAV')\n",
      "Start and end indices around peak:                  start index: 1265187\t\t          end index: 12765187                  total samples:30015488\n",
      "('AV Sync was above threshold: ', 0.8755914863654266)\n",
      "common_fps/Aditya_annotations/2018-08-18/common_fps_video_syncAditya_2018-08-19_0120-0200_41.csv\n",
      "('video_fps obtained is :', 25)\n",
      "Did not find user-provided sample rate - getting it from first file that matches format!\n",
      "('sampling rate is : ', 250000)\n",
      ".....finding best audio segment.....\n"
     ]
    },
    {
     "name": "stderr",
     "output_type": "stream",
     "text": [
      "\r",
      "  0%|          | 0/14 [00:00<?, ?it/s]"
     ]
    },
    {
     "name": "stdout",
     "output_type": "stream",
     "text": [
      "('max mins for upsampled video', -1.0, 0.8397494325864422)\n",
      "('max mins', -0.9980627460717553, 1.0)\n"
     ]
    },
    {
     "name": "stderr",
     "output_type": "stream",
     "text": [
      "\r",
      "  7%|▋         | 1/14 [00:04<01:04,  4.96s/it]"
     ]
    },
    {
     "name": "stdout",
     "output_type": "stream",
     "text": [
      "('max mins', -1.0, 0.9443811730993229)\n"
     ]
    },
    {
     "name": "stderr",
     "output_type": "stream",
     "text": [
      "\r",
      " 14%|█▍        | 2/14 [00:09<00:57,  4.79s/it]"
     ]
    },
    {
     "name": "stdout",
     "output_type": "stream",
     "text": [
      "('max mins', -1.0, 0.9213079865198895)\n"
     ]
    },
    {
     "name": "stderr",
     "output_type": "stream",
     "text": [
      "\r",
      " 21%|██▏       | 3/14 [00:13<00:51,  4.67s/it]"
     ]
    },
    {
     "name": "stdout",
     "output_type": "stream",
     "text": [
      "('max mins', -1.0, 0.9709446183744602)\n"
     ]
    },
    {
     "name": "stderr",
     "output_type": "stream",
     "text": [
      "\r",
      " 29%|██▊       | 4/14 [00:18<00:45,  4.58s/it]"
     ]
    },
    {
     "name": "stdout",
     "output_type": "stream",
     "text": [
      "('max mins', -0.9959990229971392, 1.0)\n"
     ]
    },
    {
     "name": "stderr",
     "output_type": "stream",
     "text": [
      "\r",
      " 36%|███▌      | 5/14 [00:22<00:40,  4.53s/it]"
     ]
    },
    {
     "name": "stdout",
     "output_type": "stream",
     "text": [
      "('max mins', -1.0, 0.9780470985687384)\n"
     ]
    },
    {
     "name": "stderr",
     "output_type": "stream",
     "text": [
      "\r",
      " 43%|████▎     | 6/14 [00:26<00:35,  4.50s/it]"
     ]
    },
    {
     "name": "stdout",
     "output_type": "stream",
     "text": [
      "('max mins', -1.0, 0.977374304381043)\n"
     ]
    },
    {
     "name": "stderr",
     "output_type": "stream",
     "text": [
      "\r",
      " 50%|█████     | 7/14 [00:31<00:31,  4.54s/it]"
     ]
    },
    {
     "name": "stdout",
     "output_type": "stream",
     "text": [
      "('max mins', -0.9412727803185628, 1.0)\n"
     ]
    },
    {
     "name": "stderr",
     "output_type": "stream",
     "text": [
      "\r",
      " 57%|█████▋    | 8/14 [00:36<00:27,  4.63s/it]"
     ]
    },
    {
     "name": "stdout",
     "output_type": "stream",
     "text": [
      "('max mins', -0.950052315645415, 1.0)\n"
     ]
    },
    {
     "name": "stderr",
     "output_type": "stream",
     "text": [
      "\r",
      " 64%|██████▍   | 9/14 [00:40<00:22,  4.60s/it]"
     ]
    },
    {
     "name": "stdout",
     "output_type": "stream",
     "text": [
      "('max mins', -0.9945437506341868, 1.0)\n"
     ]
    },
    {
     "name": "stderr",
     "output_type": "stream",
     "text": [
      "\r",
      " 71%|███████▏  | 10/14 [00:45<00:18,  4.65s/it]"
     ]
    },
    {
     "name": "stdout",
     "output_type": "stream",
     "text": [
      "('max mins', -0.9367571166681841, 1.0)\n"
     ]
    },
    {
     "name": "stderr",
     "output_type": "stream",
     "text": [
      "\r",
      " 79%|███████▊  | 11/14 [00:51<00:14,  4.89s/it]"
     ]
    },
    {
     "name": "stdout",
     "output_type": "stream",
     "text": [
      "('max mins', -0.9739639603380102, 1.0)\n"
     ]
    },
    {
     "name": "stderr",
     "output_type": "stream",
     "text": [
      "\r",
      " 86%|████████▌ | 12/14 [00:55<00:09,  4.78s/it]"
     ]
    },
    {
     "name": "stdout",
     "output_type": "stream",
     "text": [
      "('max mins', -1.0, 0.9531781071652979)\n"
     ]
    },
    {
     "name": "stderr",
     "output_type": "stream",
     "text": [
      "\r",
      " 93%|█████████▎| 13/14 [01:00<00:04,  4.69s/it]"
     ]
    },
    {
     "name": "stdout",
     "output_type": "stream",
     "text": [
      "('max mins', -1.0, 0.9859764486805959)\n"
     ]
    },
    {
     "name": "stderr",
     "output_type": "stream",
     "text": [
      "100%|██████████| 14/14 [01:04<00:00,  4.66s/it]\n"
     ]
    },
    {
     "name": "stdout",
     "output_type": "stream",
     "text": [
      "('Best file pairs are: ', 'non_spikey_T0000833.WAV*non_spikey_T0000834.WAV')\n",
      "Start and end indices around peak:                  start index: 5764823\t\t          end index: 17264823                  total samples:30015488\n",
      "('AV Sync was above threshold: ', 0.8770977839633955)\n"
     ]
    }
   ],
   "source": [
    "for each in annotations_to_be_rerun:\n",
    "    generate_matching_audio(each, audio_folder, audio_sync_spikey=False, \n",
    "                                file_subset=annots_33_34_41_42_range,\n",
    "                                audio_fileformat='*.WAV',\n",
    "                              audiosync_folder='sync_audio/Aditya_annotations/',\n",
    "                               audioannotation_folder='annotation_audio/Aditya_annotations/')\n"
   ]
  },
  {
   "cell_type": "code",
   "execution_count": 41,
   "metadata": {
    "scrolled": true
   },
   "outputs": [
    {
     "name": "stdout",
     "output_type": "stream",
     "text": [
      "common_fps/Aditya_annotations/2018-08-18/common_fps_video_syncAditya_2018-08-19_0120-0200_42.csv\n",
      "('video_fps obtained is :', 25)\n",
      "Did not find user-provided sample rate - getting it from first file that matches format!\n",
      "('sampling rate is : ', 250000)\n",
      ".....finding best audio segment.....\n"
     ]
    },
    {
     "name": "stderr",
     "output_type": "stream",
     "text": [
      "\r",
      "  0%|          | 0/14 [00:00<?, ?it/s]"
     ]
    },
    {
     "name": "stdout",
     "output_type": "stream",
     "text": [
      "('max mins for upsampled video', -1.0, 0.8402739636305188)\n",
      "('max mins', -0.9980627460717553, 1.0)\n"
     ]
    },
    {
     "name": "stderr",
     "output_type": "stream",
     "text": [
      "\r",
      "  7%|▋         | 1/14 [00:04<01:01,  4.73s/it]"
     ]
    },
    {
     "name": "stdout",
     "output_type": "stream",
     "text": [
      "('max mins', -1.0, 0.9443811730993229)\n"
     ]
    },
    {
     "name": "stderr",
     "output_type": "stream",
     "text": [
      "\r",
      " 14%|█▍        | 2/14 [00:09<00:57,  4.75s/it]"
     ]
    },
    {
     "name": "stdout",
     "output_type": "stream",
     "text": [
      "('max mins', -1.0, 0.9213079865198895)\n"
     ]
    },
    {
     "name": "stderr",
     "output_type": "stream",
     "text": [
      "\r",
      " 21%|██▏       | 3/14 [00:13<00:51,  4.66s/it]"
     ]
    },
    {
     "name": "stdout",
     "output_type": "stream",
     "text": [
      "('max mins', -1.0, 0.9709446183744602)\n"
     ]
    },
    {
     "name": "stderr",
     "output_type": "stream",
     "text": [
      "\r",
      " 29%|██▊       | 4/14 [00:18<00:45,  4.58s/it]"
     ]
    },
    {
     "name": "stdout",
     "output_type": "stream",
     "text": [
      "('max mins', -0.9959990229971392, 1.0)\n"
     ]
    },
    {
     "name": "stderr",
     "output_type": "stream",
     "text": [
      "\r",
      " 36%|███▌      | 5/14 [00:23<00:41,  4.63s/it]"
     ]
    },
    {
     "name": "stdout",
     "output_type": "stream",
     "text": [
      "('max mins', -1.0, 0.9780470985687384)\n"
     ]
    },
    {
     "name": "stderr",
     "output_type": "stream",
     "text": [
      "\r",
      " 43%|████▎     | 6/14 [00:27<00:37,  4.64s/it]"
     ]
    },
    {
     "name": "stdout",
     "output_type": "stream",
     "text": [
      "('max mins', -1.0, 0.977374304381043)\n"
     ]
    },
    {
     "name": "stderr",
     "output_type": "stream",
     "text": [
      "\r",
      " 50%|█████     | 7/14 [00:32<00:33,  4.75s/it]"
     ]
    },
    {
     "name": "stdout",
     "output_type": "stream",
     "text": [
      "('max mins', -0.9412727803185628, 1.0)\n"
     ]
    },
    {
     "name": "stderr",
     "output_type": "stream",
     "text": [
      "\r",
      " 57%|█████▋    | 8/14 [00:37<00:28,  4.82s/it]"
     ]
    },
    {
     "name": "stdout",
     "output_type": "stream",
     "text": [
      "('max mins', -0.950052315645415, 1.0)\n"
     ]
    },
    {
     "name": "stderr",
     "output_type": "stream",
     "text": [
      "\r",
      " 64%|██████▍   | 9/14 [00:42<00:23,  4.76s/it]"
     ]
    },
    {
     "name": "stdout",
     "output_type": "stream",
     "text": [
      "('max mins', -0.9945437506341868, 1.0)\n"
     ]
    },
    {
     "name": "stderr",
     "output_type": "stream",
     "text": [
      "\r",
      " 71%|███████▏  | 10/14 [00:46<00:18,  4.65s/it]"
     ]
    },
    {
     "name": "stdout",
     "output_type": "stream",
     "text": [
      "('max mins', -0.9367571166681841, 1.0)\n"
     ]
    },
    {
     "name": "stderr",
     "output_type": "stream",
     "text": [
      "\r",
      " 79%|███████▊  | 11/14 [00:51<00:13,  4.63s/it]"
     ]
    },
    {
     "name": "stdout",
     "output_type": "stream",
     "text": [
      "('max mins', -0.9739639603380102, 1.0)\n"
     ]
    },
    {
     "name": "stderr",
     "output_type": "stream",
     "text": [
      "\r",
      " 86%|████████▌ | 12/14 [00:55<00:09,  4.60s/it]"
     ]
    },
    {
     "name": "stdout",
     "output_type": "stream",
     "text": [
      "('max mins', -1.0, 0.9531781071652979)\n"
     ]
    },
    {
     "name": "stderr",
     "output_type": "stream",
     "text": [
      "\r",
      " 93%|█████████▎| 13/14 [01:00<00:04,  4.59s/it]"
     ]
    },
    {
     "name": "stdout",
     "output_type": "stream",
     "text": [
      "('max mins', -1.0, 0.9859764486805959)\n"
     ]
    },
    {
     "name": "stderr",
     "output_type": "stream",
     "text": [
      "100%|██████████| 14/14 [01:05<00:00,  4.57s/it]\n"
     ]
    },
    {
     "name": "stdout",
     "output_type": "stream",
     "text": [
      "('Best file pairs are: ', 'non_spikey_T0000833.WAV*non_spikey_T0000834.WAV')\n",
      "Start and end indices around peak:                  start index: 6014823\t\t          end index: 17514823                  total samples:30015488\n",
      "('AV Sync was above threshold: ', 0.8797439853762161)\n"
     ]
    },
    {
     "data": {
      "text/plain": [
       "True"
      ]
     },
     "execution_count": 41,
     "metadata": {},
     "output_type": "execute_result"
    }
   ],
   "source": [
    "# for annotation 42\n",
    "annotation_42_commonfps = all_commonfps[int(np.argwhere(['0200_42.csv' in each for each in all_commonfps]))]\n",
    "generate_matching_audio(annotation_42_commonfps, audio_folder, audio_sync_spikey=False, \n",
    "                                file_subset=annots_33_34_41_42_range,\n",
    "                                audio_fileformat='*.WAV',\n",
    "                              audiosync_folder='sync_audio/Aditya_annotations/',\n",
    "                               audioannotation_folder='annotation_audio/Aditya_annotations/')\n",
    "\n"
   ]
  },
  {
   "cell_type": "markdown",
   "metadata": {},
   "source": [
    "Try annotation 69 once more w new file ranges"
   ]
  },
  {
   "cell_type": "code",
   "execution_count": 42,
   "metadata": {
    "scrolled": true
   },
   "outputs": [
    {
     "name": "stdout",
     "output_type": "stream",
     "text": [
      "common_fps/Aditya_annotations/2018-08-18/common_fps_video_syncAditya_2018-08-19_0120-0200_69.csv\n",
      "('video_fps obtained is :', 25)\n",
      "Did not find user-provided sample rate - getting it from first file that matches format!\n",
      "('sampling rate is : ', 250000)\n",
      ".....finding best audio segment.....\n"
     ]
    },
    {
     "name": "stderr",
     "output_type": "stream",
     "text": [
      "\r",
      "  0%|          | 0/20 [00:00<?, ?it/s]"
     ]
    },
    {
     "name": "stdout",
     "output_type": "stream",
     "text": [
      "('max mins for upsampled video', -1.0, 0.949265101707086)\n",
      "('max mins', -0.950052315645415, 1.0)\n"
     ]
    },
    {
     "name": "stderr",
     "output_type": "stream",
     "text": [
      "\r",
      "  5%|▌         | 1/20 [00:04<01:34,  4.97s/it]"
     ]
    },
    {
     "name": "stdout",
     "output_type": "stream",
     "text": [
      "('max mins', -0.9945437506341868, 1.0)\n"
     ]
    },
    {
     "name": "stderr",
     "output_type": "stream",
     "text": [
      "\r",
      " 10%|█         | 2/20 [00:09<01:29,  4.96s/it]"
     ]
    },
    {
     "name": "stdout",
     "output_type": "stream",
     "text": [
      "('max mins', -0.9367571166681841, 1.0)\n"
     ]
    },
    {
     "name": "stderr",
     "output_type": "stream",
     "text": [
      "\r",
      " 15%|█▌        | 3/20 [00:14<01:22,  4.88s/it]"
     ]
    },
    {
     "name": "stdout",
     "output_type": "stream",
     "text": [
      "('max mins', -0.9739639603380102, 1.0)\n"
     ]
    },
    {
     "name": "stderr",
     "output_type": "stream",
     "text": [
      "\r",
      " 20%|██        | 4/20 [00:19<01:18,  4.93s/it]"
     ]
    },
    {
     "name": "stdout",
     "output_type": "stream",
     "text": [
      "('max mins', -1.0, 0.9531781071652979)\n"
     ]
    },
    {
     "name": "stderr",
     "output_type": "stream",
     "text": [
      "\r",
      " 25%|██▌       | 5/20 [00:25<01:19,  5.27s/it]"
     ]
    },
    {
     "name": "stdout",
     "output_type": "stream",
     "text": [
      "('max mins', -1.0, 0.9859764486805959)\n"
     ]
    },
    {
     "name": "stderr",
     "output_type": "stream",
     "text": [
      "\r",
      " 30%|███       | 6/20 [00:30<01:10,  5.06s/it]"
     ]
    },
    {
     "name": "stdout",
     "output_type": "stream",
     "text": [
      "('max mins', -1.0, 0.9807300503175779)\n"
     ]
    },
    {
     "name": "stderr",
     "output_type": "stream",
     "text": [
      "\r",
      " 35%|███▌      | 7/20 [00:35<01:04,  4.99s/it]"
     ]
    },
    {
     "name": "stdout",
     "output_type": "stream",
     "text": [
      "('max mins', -0.998946965332836, 1.0)\n"
     ]
    },
    {
     "name": "stderr",
     "output_type": "stream",
     "text": [
      "\r",
      " 40%|████      | 8/20 [00:39<00:59,  4.95s/it]"
     ]
    },
    {
     "name": "stdout",
     "output_type": "stream",
     "text": [
      "('max mins', -0.9960251715197141, 1.0)\n"
     ]
    },
    {
     "name": "stderr",
     "output_type": "stream",
     "text": [
      "\r",
      " 45%|████▌     | 9/20 [00:44<00:53,  4.89s/it]"
     ]
    },
    {
     "name": "stdout",
     "output_type": "stream",
     "text": [
      "('max mins', -1.0, 0.9483329836798366)\n"
     ]
    },
    {
     "name": "stderr",
     "output_type": "stream",
     "text": [
      "\r",
      " 50%|█████     | 10/20 [00:49<00:48,  4.84s/it]"
     ]
    },
    {
     "name": "stdout",
     "output_type": "stream",
     "text": [
      "('max mins', -1.0, 0.9476643235160923)\n"
     ]
    },
    {
     "name": "stderr",
     "output_type": "stream",
     "text": [
      "\r",
      " 55%|█████▌    | 11/20 [00:54<00:43,  4.81s/it]"
     ]
    },
    {
     "name": "stdout",
     "output_type": "stream",
     "text": [
      "('max mins', -0.995114226491868, 1.0)\n"
     ]
    },
    {
     "name": "stderr",
     "output_type": "stream",
     "text": [
      "\r",
      " 60%|██████    | 12/20 [00:59<00:38,  4.83s/it]"
     ]
    },
    {
     "name": "stdout",
     "output_type": "stream",
     "text": [
      "('max mins', -0.9764981302756793, 1.0)\n"
     ]
    },
    {
     "name": "stderr",
     "output_type": "stream",
     "text": [
      "\r",
      " 65%|██████▌   | 13/20 [01:03<00:33,  4.81s/it]"
     ]
    },
    {
     "name": "stdout",
     "output_type": "stream",
     "text": [
      "('max mins', -1.0, 0.997450571804602)\n"
     ]
    },
    {
     "name": "stderr",
     "output_type": "stream",
     "text": [
      "\r",
      " 70%|███████   | 14/20 [01:08<00:28,  4.81s/it]"
     ]
    },
    {
     "name": "stdout",
     "output_type": "stream",
     "text": [
      "('max mins', -1.0, 0.9712772854754528)\n"
     ]
    },
    {
     "name": "stderr",
     "output_type": "stream",
     "text": [
      "\r",
      " 75%|███████▌  | 15/20 [01:14<00:25,  5.10s/it]"
     ]
    },
    {
     "name": "stdout",
     "output_type": "stream",
     "text": [
      "('max mins', -1.0, 0.923179286923753)\n"
     ]
    },
    {
     "name": "stderr",
     "output_type": "stream",
     "text": [
      "\r",
      " 80%|████████  | 16/20 [01:19<00:20,  5.02s/it]"
     ]
    },
    {
     "name": "stdout",
     "output_type": "stream",
     "text": [
      "('max mins', -1.0, 0.9189633329565583)\n"
     ]
    },
    {
     "name": "stderr",
     "output_type": "stream",
     "text": [
      "\r",
      " 85%|████████▌ | 17/20 [01:24<00:14,  4.94s/it]"
     ]
    },
    {
     "name": "stdout",
     "output_type": "stream",
     "text": [
      "('max mins', -1.0, 0.9247948730428763)\n"
     ]
    },
    {
     "name": "stderr",
     "output_type": "stream",
     "text": [
      "\r",
      " 90%|█████████ | 18/20 [01:28<00:09,  4.91s/it]"
     ]
    },
    {
     "name": "stdout",
     "output_type": "stream",
     "text": [
      "('max mins', -1.0, 0.9609768360886519)\n"
     ]
    },
    {
     "name": "stderr",
     "output_type": "stream",
     "text": [
      "\r",
      " 95%|█████████▌| 19/20 [01:33<00:04,  4.88s/it]"
     ]
    },
    {
     "name": "stdout",
     "output_type": "stream",
     "text": [
      "('max mins', -1.0, 0.9805232904168644)\n"
     ]
    },
    {
     "name": "stderr",
     "output_type": "stream",
     "text": [
      "100%|██████████| 20/20 [01:38<00:00,  4.86s/it]\n"
     ]
    },
    {
     "name": "stdout",
     "output_type": "stream",
     "text": [
      "('Best file pairs are: ', 'non_spikey_T0000841.WAV*non_spikey_T0000842.WAV')\n",
      "Unable to get proper audio match for video segment!\n",
      "('Could not save ', 'common_fps/Aditya_annotations/2018-08-18/common_fps_video_syncAditya_2018-08-19_0120-0200_69.csv')\n"
     ]
    },
    {
     "data": {
      "text/plain": [
       "False"
      ]
     },
     "execution_count": 42,
     "metadata": {},
     "output_type": "execute_result"
    }
   ],
   "source": [
    "annotation_69_commonfps = all_commonfps[int(np.argwhere(['0200_69.csv' in each for each in all_commonfps]))]\n",
    "annot_69_range = ('non_spikey_T0000838','non_spikey_T0000858')\n",
    "generate_matching_audio(annotation_69_commonfps, audio_folder, audio_sync_spikey=False, \n",
    "                                file_subset=annot_69_range,\n",
    "                                audio_fileformat='*.WAV',\n",
    "                              audiosync_folder='sync_audio/Aditya_annotations/',\n",
    "                               audioannotation_folder='annotation_audio/Aditya_annotations/')"
   ]
  },
  {
   "cell_type": "markdown",
   "metadata": {},
   "source": [
    "Try annotation 97 with new file ranges"
   ]
  },
  {
   "cell_type": "code",
   "execution_count": 43,
   "metadata": {
    "scrolled": true
   },
   "outputs": [
    {
     "name": "stdout",
     "output_type": "stream",
     "text": [
      "common_fps/Aditya_annotations/2018-08-18/common_fps_video_syncAditya_2018-08-19_0120-0200_97.csv\n",
      "('video_fps obtained is :', 25)\n",
      "Did not find user-provided sample rate - getting it from first file that matches format!\n",
      "('sampling rate is : ', 250000)\n",
      ".....finding best audio segment.....\n"
     ]
    },
    {
     "name": "stderr",
     "output_type": "stream",
     "text": [
      "\r",
      "  0%|          | 0/11 [00:00<?, ?it/s]"
     ]
    },
    {
     "name": "stdout",
     "output_type": "stream",
     "text": [
      "('max mins for upsampled video', -1.0, 0.40952701887259163)\n",
      "('max mins', -1.0, 0.9483329836798366)\n"
     ]
    },
    {
     "name": "stderr",
     "output_type": "stream",
     "text": [
      "\r",
      "  9%|▉         | 1/11 [00:05<00:52,  5.29s/it]"
     ]
    },
    {
     "name": "stdout",
     "output_type": "stream",
     "text": [
      "('max mins', -1.0, 0.9476643235160923)\n"
     ]
    },
    {
     "name": "stderr",
     "output_type": "stream",
     "text": [
      "\r",
      " 18%|█▊        | 2/11 [00:10<00:46,  5.19s/it]"
     ]
    },
    {
     "name": "stdout",
     "output_type": "stream",
     "text": [
      "('max mins', -0.995114226491868, 1.0)\n"
     ]
    },
    {
     "name": "stderr",
     "output_type": "stream",
     "text": [
      "\r",
      " 27%|██▋       | 3/11 [00:15<00:40,  5.07s/it]"
     ]
    },
    {
     "name": "stdout",
     "output_type": "stream",
     "text": [
      "('max mins', -0.9764981302756793, 1.0)\n"
     ]
    },
    {
     "name": "stderr",
     "output_type": "stream",
     "text": [
      "\r",
      " 36%|███▋      | 4/11 [00:20<00:36,  5.24s/it]"
     ]
    },
    {
     "name": "stdout",
     "output_type": "stream",
     "text": [
      "('max mins', -1.0, 0.997450571804602)\n"
     ]
    },
    {
     "name": "stderr",
     "output_type": "stream",
     "text": [
      "\r",
      " 45%|████▌     | 5/11 [00:26<00:32,  5.48s/it]"
     ]
    },
    {
     "name": "stdout",
     "output_type": "stream",
     "text": [
      "('max mins', -1.0, 0.9712772854754528)\n"
     ]
    },
    {
     "name": "stderr",
     "output_type": "stream",
     "text": [
      "\r",
      " 55%|█████▍    | 6/11 [00:31<00:26,  5.28s/it]"
     ]
    },
    {
     "name": "stdout",
     "output_type": "stream",
     "text": [
      "('max mins', -1.0, 0.923179286923753)\n"
     ]
    },
    {
     "name": "stderr",
     "output_type": "stream",
     "text": [
      "\r",
      " 64%|██████▎   | 7/11 [00:36<00:20,  5.07s/it]"
     ]
    },
    {
     "name": "stdout",
     "output_type": "stream",
     "text": [
      "('max mins', -1.0, 0.9189633329565583)\n"
     ]
    },
    {
     "name": "stderr",
     "output_type": "stream",
     "text": [
      "\r",
      " 73%|███████▎  | 8/11 [00:40<00:14,  4.94s/it]"
     ]
    },
    {
     "name": "stdout",
     "output_type": "stream",
     "text": [
      "('max mins', -1.0, 0.9247948730428763)\n"
     ]
    },
    {
     "name": "stderr",
     "output_type": "stream",
     "text": [
      "\r",
      " 82%|████████▏ | 9/11 [00:45<00:09,  4.83s/it]"
     ]
    },
    {
     "name": "stdout",
     "output_type": "stream",
     "text": [
      "('max mins', -1.0, 0.9609768360886519)\n"
     ]
    },
    {
     "name": "stderr",
     "output_type": "stream",
     "text": [
      "\r",
      " 91%|█████████ | 10/11 [00:50<00:04,  4.78s/it]"
     ]
    },
    {
     "name": "stdout",
     "output_type": "stream",
     "text": [
      "('max mins', -1.0, 0.9805232904168644)\n"
     ]
    },
    {
     "name": "stderr",
     "output_type": "stream",
     "text": [
      "100%|██████████| 11/11 [00:54<00:00,  4.76s/it]\n"
     ]
    },
    {
     "name": "stdout",
     "output_type": "stream",
     "text": [
      "('Best file pairs are: ', 'non_spikey_T0000848.WAV*non_spikey_T0000849.WAV')\n",
      "Start and end indices around peak:                  start index: 12371928\t\t          end index: 23871928                  total samples:30015488\n",
      "('AV Sync was above threshold: ', 0.8478934689354292)\n"
     ]
    },
    {
     "data": {
      "text/plain": [
       "True"
      ]
     },
     "execution_count": 43,
     "metadata": {},
     "output_type": "execute_result"
    }
   ],
   "source": [
    "annotation_97_commonfps = all_commonfps[int(np.argwhere(['0200_97.csv' in each for each in all_commonfps]))]\n",
    "annot_97_range = ('non_spikey_T0000847','non_spikey_T0000858')\n",
    "\n",
    "generate_matching_audio(annotation_97_commonfps, audio_folder, audio_sync_spikey=False, \n",
    "                                file_subset=annot_97_range,\n",
    "                                audio_fileformat='*.WAV',\n",
    "                              audiosync_folder='sync_audio/Aditya_annotations/',\n",
    "                               audioannotation_folder='annotation_audio/Aditya_annotations/')"
   ]
  },
  {
   "cell_type": "code",
   "execution_count": null,
   "metadata": {},
   "outputs": [],
   "source": []
  }
 ],
 "metadata": {
  "kernelspec": {
   "display_name": "horseshoebat",
   "language": "python",
   "name": "horseshoebat"
  },
  "language_info": {
   "codemirror_mode": {
    "name": "ipython",
    "version": 2
   },
   "file_extension": ".py",
   "mimetype": "text/x-python",
   "name": "python",
   "nbconvert_exporter": "python",
   "pygments_lexer": "ipython2",
   "version": "2.7.15"
  }
 },
 "nbformat": 4,
 "nbformat_minor": 2
}
