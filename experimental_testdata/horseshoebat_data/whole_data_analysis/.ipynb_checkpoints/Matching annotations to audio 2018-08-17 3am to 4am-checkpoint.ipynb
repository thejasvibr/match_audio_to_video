{
 "cells": [
  {
   "cell_type": "markdown",
   "metadata": {},
   "source": [
    "#### Author: Thejasvi Beleyur\n",
    "#### Last updated: 24-01-2020\n",
    "\n",
    "This notebook will detail all the steps required to get matching audio snippets for the annotations of bat flights made for 2018-08-17 between 03:00-04:00 hours. \n",
    "\n",
    "### Steps carried out before hand:\n",
    "1. Generating the video sync for the video file *OrlovaChukaDome_01_20180817_03.00.00-04.00.00[R][@1e7f][2].avi* with frame-wise light intensities and time stamps\n",
    "\n",
    "2. Video annotations of the horseshoebats flying done by Neetash MR and Aditya Kanjoor. \n"
   ]
  },
  {
   "cell_type": "code",
   "execution_count": 1,
   "metadata": {},
   "outputs": [],
   "source": [
    "import matplotlib.pyplot as plt\n",
    "import pandas as pd \n",
    "from tqdm import tqdm\n",
    "\n",
    "package_folder = '/home/tbeleyur/Documents/packages_dev/match_audio_to_video/bin/'\n",
    "import os\n",
    "import sys \n",
    "sys.path.append(package_folder) # include the modules in the outer folder in the search path\n",
    "from process_video_annotations import video_sync_over_annotation_block\n",
    "\n"
   ]
  },
  {
   "cell_type": "code",
   "execution_count": 2,
   "metadata": {},
   "outputs": [],
   "source": [
    "%load_ext line_profiler"
   ]
  },
  {
   "cell_type": "code",
   "execution_count": 3,
   "metadata": {},
   "outputs": [],
   "source": [
    "# loading the annotations\n",
    "annotations = pd.read_csv('annotations/3am_4am - 3am_4am.csv')"
   ]
  },
  {
   "cell_type": "code",
   "execution_count": 4,
   "metadata": {
    "scrolled": false
   },
   "outputs": [
    {
     "data": {
      "text/html": [
       "<div>\n",
       "<style scoped>\n",
       "    .dataframe tbody tr th:only-of-type {\n",
       "        vertical-align: middle;\n",
       "    }\n",
       "\n",
       "    .dataframe tbody tr th {\n",
       "        vertical-align: top;\n",
       "    }\n",
       "\n",
       "    .dataframe thead th {\n",
       "        text-align: right;\n",
       "    }\n",
       "</style>\n",
       "<table border=\"1\" class=\"dataframe\">\n",
       "  <thead>\n",
       "    <tr style=\"text-align: right;\">\n",
       "      <th></th>\n",
       "      <th>video_path</th>\n",
       "      <th>annotation_id</th>\n",
       "      <th>old_annotation_id</th>\n",
       "      <th>Sampling minute</th>\n",
       "      <th>timestamp from camera</th>\n",
       "      <th>start_timestamp</th>\n",
       "      <th>start_framenumber</th>\n",
       "      <th>end_timestamp</th>\n",
       "      <th>end_framenumber</th>\n",
       "      <th>no. of flying bats</th>\n",
       "      <th>bat behaviour</th>\n",
       "      <th>strength (1 - strong</th>\n",
       "      <th>0- weak)</th>\n",
       "      <th>weak in (Behaviour Be</th>\n",
       "      <th>Bat number Bn)</th>\n",
       "      <th>comments</th>\n",
       "      <th>Details on the comment</th>\n",
       "      <th>Additional_details</th>\n",
       "    </tr>\n",
       "  </thead>\n",
       "  <tbody>\n",
       "    <tr>\n",
       "      <th>0</th>\n",
       "      <td>F:\\analysis_horseshoebat\\videoanalysis\\16.08.2...</td>\n",
       "      <td>2018-08-17_34_1</td>\n",
       "      <td>34_1</td>\n",
       "      <td>56</td>\n",
       "      <td>2</td>\n",
       "      <td>2018-08-17 03:56:00</td>\n",
       "      <td>15</td>\n",
       "      <td>2018-08-17 03:56:00</td>\n",
       "      <td>18</td>\n",
       "      <td>1</td>\n",
       "      <td>NaN</td>\n",
       "      <td>1</td>\n",
       "      <td>NaN</td>\n",
       "      <td>NaN</td>\n",
       "      <td>NaN</td>\n",
       "      <td>NaN</td>\n",
       "      <td>NaN</td>\n",
       "      <td>NaN</td>\n",
       "    </tr>\n",
       "    <tr>\n",
       "      <th>1</th>\n",
       "      <td>F:\\analysis_horseshoebat\\videoanalysis\\16.08.2...</td>\n",
       "      <td>2018-08-17_34_2</td>\n",
       "      <td>34_2</td>\n",
       "      <td>56</td>\n",
       "      <td>2</td>\n",
       "      <td>2018-08-17 03:56:00</td>\n",
       "      <td>1</td>\n",
       "      <td>2018-08-17 03:56:00</td>\n",
       "      <td>21</td>\n",
       "      <td>1</td>\n",
       "      <td>NaN</td>\n",
       "      <td>1</td>\n",
       "      <td>NaN</td>\n",
       "      <td>NaN</td>\n",
       "      <td>NaN</td>\n",
       "      <td>NaN</td>\n",
       "      <td>NaN</td>\n",
       "      <td>NaN</td>\n",
       "    </tr>\n",
       "    <tr>\n",
       "      <th>2</th>\n",
       "      <td>F:\\analysis_horseshoebat\\videoanalysis\\16.08.2...</td>\n",
       "      <td>2018-08-17_34_3</td>\n",
       "      <td>34_3</td>\n",
       "      <td>56</td>\n",
       "      <td>2</td>\n",
       "      <td>2018-08-17 03:57:00</td>\n",
       "      <td>19</td>\n",
       "      <td>2018-08-17 03:57:00</td>\n",
       "      <td>8</td>\n",
       "      <td>1</td>\n",
       "      <td>NaN</td>\n",
       "      <td>1</td>\n",
       "      <td>NaN</td>\n",
       "      <td>NaN</td>\n",
       "      <td>NaN</td>\n",
       "      <td>NaN</td>\n",
       "      <td>NaN</td>\n",
       "      <td>NaN</td>\n",
       "    </tr>\n",
       "    <tr>\n",
       "      <th>3</th>\n",
       "      <td>F:\\analysis_horseshoebat\\videoanalysis\\16.08.2...</td>\n",
       "      <td>2018-08-17_34_4</td>\n",
       "      <td>34_4</td>\n",
       "      <td>56</td>\n",
       "      <td>2</td>\n",
       "      <td>2018-08-17 03:57:00</td>\n",
       "      <td>11</td>\n",
       "      <td>2018-08-17 03:57:00</td>\n",
       "      <td>1</td>\n",
       "      <td>1</td>\n",
       "      <td>NaN</td>\n",
       "      <td>1</td>\n",
       "      <td>NaN</td>\n",
       "      <td>NaN</td>\n",
       "      <td>NaN</td>\n",
       "      <td>NaN</td>\n",
       "      <td>NaN</td>\n",
       "      <td>NaN</td>\n",
       "    </tr>\n",
       "    <tr>\n",
       "      <th>4</th>\n",
       "      <td>F:\\analysis_horseshoebat\\videoanalysis\\16.08.2...</td>\n",
       "      <td>2018-08-17_34_5</td>\n",
       "      <td>34_5</td>\n",
       "      <td>56</td>\n",
       "      <td>2</td>\n",
       "      <td>2018-08-17 03:56:00</td>\n",
       "      <td>1</td>\n",
       "      <td>2018-08-17 03:56:00</td>\n",
       "      <td>1</td>\n",
       "      <td>0</td>\n",
       "      <td>NaN</td>\n",
       "      <td>1</td>\n",
       "      <td>NaN</td>\n",
       "      <td>NaN</td>\n",
       "      <td>NaN</td>\n",
       "      <td>NaN</td>\n",
       "      <td>NaN</td>\n",
       "      <td>NaN</td>\n",
       "    </tr>\n",
       "  </tbody>\n",
       "</table>\n",
       "</div>"
      ],
      "text/plain": [
       "                                          video_path    annotation_id  \\\n",
       "0  F:\\analysis_horseshoebat\\videoanalysis\\16.08.2...  2018-08-17_34_1   \n",
       "1  F:\\analysis_horseshoebat\\videoanalysis\\16.08.2...  2018-08-17_34_2   \n",
       "2  F:\\analysis_horseshoebat\\videoanalysis\\16.08.2...  2018-08-17_34_3   \n",
       "3  F:\\analysis_horseshoebat\\videoanalysis\\16.08.2...  2018-08-17_34_4   \n",
       "4  F:\\analysis_horseshoebat\\videoanalysis\\16.08.2...  2018-08-17_34_5   \n",
       "\n",
       "  old_annotation_id  Sampling minute  timestamp from camera  \\\n",
       "0              34_1               56                      2   \n",
       "1              34_2               56                      2   \n",
       "2              34_3               56                      2   \n",
       "3              34_4               56                      2   \n",
       "4              34_5               56                      2   \n",
       "\n",
       "       start_timestamp  start_framenumber        end_timestamp  \\\n",
       "0  2018-08-17 03:56:00                 15  2018-08-17 03:56:00   \n",
       "1  2018-08-17 03:56:00                  1  2018-08-17 03:56:00   \n",
       "2  2018-08-17 03:57:00                 19  2018-08-17 03:57:00   \n",
       "3  2018-08-17 03:57:00                 11  2018-08-17 03:57:00   \n",
       "4  2018-08-17 03:56:00                  1  2018-08-17 03:56:00   \n",
       "\n",
       "   end_framenumber  no. of flying bats bat behaviour  strength (1 - strong  \\\n",
       "0               18                   1           NaN                     1   \n",
       "1               21                   1           NaN                     1   \n",
       "2                8                   1           NaN                     1   \n",
       "3                1                   1           NaN                     1   \n",
       "4                1                   0           NaN                     1   \n",
       "\n",
       "   0- weak) weak in (Behaviour Be  Bat number Bn) comments  \\\n",
       "0       NaN                   NaN             NaN      NaN   \n",
       "1       NaN                   NaN             NaN      NaN   \n",
       "2       NaN                   NaN             NaN      NaN   \n",
       "3       NaN                   NaN             NaN      NaN   \n",
       "4       NaN                   NaN             NaN      NaN   \n",
       "\n",
       "   Details on the comment  Additional_details  \n",
       "0                     NaN                 NaN  \n",
       "1                     NaN                 NaN  \n",
       "2                     NaN                 NaN  \n",
       "3                     NaN                 NaN  \n",
       "4                     NaN                 NaN  "
      ]
     },
     "execution_count": 4,
     "metadata": {},
     "output_type": "execute_result"
    }
   ],
   "source": [
    "annotations.head()"
   ]
  },
  {
   "cell_type": "code",
   "execution_count": 5,
   "metadata": {},
   "outputs": [],
   "source": [
    "annots_w_bats = annotations[annotations['no. of flying bats']>0].reset_index(drop=True)"
   ]
  },
  {
   "cell_type": "markdown",
   "metadata": {},
   "source": [
    "### Carrying out the common-fps conversion:\n"
   ]
  },
  {
   "cell_type": "markdown",
   "metadata": {},
   "source": [
    "# load the video sync file with corrected timestamps\n",
    "video_sync_file = 'videosync_OrlovaChukaDome_01_20180817_03.00.00-04.00.00[R][@1e7f][2].avi_[corrected_timestamps].csv'\n",
    "path_to_videosync = os.path.join('/home/tbeleyur/Documents/packages_dev/match_audio_to_video/experimental_testdata/horseshoebat_data/whole_data_analysis/raw_sync/2018-08-16',\n",
    "                                 video_sync_file)\n",
    "video_sync = pd.read_csv(path_to_videosync)"
   ]
  },
  {
   "cell_type": "markdown",
   "metadata": {
    "scrolled": true
   },
   "source": [
    "kwargs = {'timestamp_pattern': '%Y-%m-%d %H:%M:%S'}\n",
    "kwargs['min_fps']= 21 # Hz\n",
    "kwargs['min_durn'] = 75.0 # seconds \n",
    "kwargs['common_fps'] = 25 # Hz\n",
    "kwargs['output_folder'] = './common_fps/2018-08-16/'\n",
    "\n",
    "unprocessed_annotations = []\n",
    "\n",
    "for i, each_annotation in tqdm(annots_w_bats.iterrows()):\n",
    "    try:\n",
    "        success = video_sync_over_annotation_block(each_annotation,video_sync, \n",
    "                                                     **kwargs)\n",
    "    except :\n",
    "        unprocessed_annotations.append(i)\n",
    "        print('Unable to process annotation: %s'%annots_w_bats['annotation_id'][i])\n"
   ]
  },
  {
   "cell_type": "markdown",
   "metadata": {},
   "source": [
    "len(unprocessed_annotations)"
   ]
  },
  {
   "cell_type": "markdown",
   "metadata": {},
   "source": [
    "Cause of the unprocessed annotations: A quick check showed me that all the unprocessed annotations were caused only by annotations with odd timestamps - with the end timestamp before the starting or with both and start and end timestamps being the same. "
   ]
  },
  {
   "cell_type": "markdown",
   "metadata": {},
   "source": [
    "### Matching Audio from the common_fps files"
   ]
  },
  {
   "cell_type": "code",
   "execution_count": 6,
   "metadata": {},
   "outputs": [],
   "source": [
    "### Finding the matching audio snippet !! \n",
    "import glob \n",
    "import soundfile as sf\n",
    "from audio_for_videoannotation import match_video_sync_to_audio, search_for_best_fit\n",
    "\n",
    "#all_commonfps = glob.glob('common_fps_video_sync*') # get all the relevant common_fps_sync files\n",
    "all_commonfps = glob.glob('common_fps/2018-08-16/common_fps*')\n",
    "audio_folder = '/media/tbeleyur/THEJASVI_DATA_BACKUP_3/fieldwork_2018_002/horseshoe_bat/audio_non_spikey/2018-08-16/' # the current folder\n",
    "\n",
    "# the output folders\n",
    "audiosync_folder = './sync_audio/'\n",
    "audioannotation_folder = './annotation_audio/'\n",
    "fs = 250000 # change according to the recording sampling rate in Hz!! \n"
   ]
  },
  {
   "cell_type": "code",
   "execution_count": 7,
   "metadata": {
    "scrolled": true
   },
   "outputs": [],
   "source": [
    "all_ccs = []\n",
    "files_to_run = sorted(all_commonfps)\n",
    "def generate_matching_audio(each_commonfps):\n",
    "    '''\n",
    "    '''\n",
    "    print(each_commonfps)\n",
    "    video_sync = pd.read_csv(each_commonfps)\n",
    "    best_audio, syncblock_audio, crosscoef = match_video_sync_to_audio(video_sync, audio_folder, \n",
    "                                                                       audio_fileformat='*.WAV',\n",
    "                                           audio_sync_spikey=False,\n",
    "                                           file_subset=('non_spikey_T0000550','non_spikey_T0000629'))\n",
    "    all_ccs.append(crosscoef)\n",
    "    fname  = os.path.split(each_commonfps)[-1]\n",
    "    annotation_id = '-'.join(os.path.split(fname)[-1].split('common_fps_video_sync')[-1:])[:-4]\n",
    "\n",
    "    try:\n",
    "        audio_file_base_name = annotation_id+'.WAV'\n",
    "        sf.write(audiosync_folder+'matching_sync_'+audio_file_base_name, syncblock_audio,fs)\n",
    "        sf.write(audioannotation_folder+'matching_annotaudio_'+audio_file_base_name, best_audio,fs)\n",
    "        return(True)\n",
    "    except:\n",
    "        print('Could not save ', common_fps_file)\n",
    "        return(False)\n",
    "\n"
   ]
  },
  {
   "cell_type": "code",
   "execution_count": 8,
   "metadata": {},
   "outputs": [],
   "source": [
    "each_commonfps = files_to_run[0]\n",
    "video_sync = pd.read_csv(each_commonfps)"
   ]
  },
  {
   "cell_type": "code",
   "execution_count": null,
   "metadata": {},
   "outputs": [],
   "source": [
    "\n",
    "%lprun -f search_for_best_fit  match_video_sync_to_audio(video_sync, audio_folder, audio_fileformat='*.WAV', \n",
    "                          audio_sync_spikey=False, file_subset=('non_spikey_T0000550','non_spikey_T0000552'))"
   ]
  },
  {
   "cell_type": "code",
   "execution_count": 9,
   "metadata": {},
   "outputs": [
    {
     "name": "stdout",
     "output_type": "stream",
     "text": [
      "('video_fps obtained is :', 25)\n",
      "Did not find user-provided sample rate - getting it from first file that matches format!\n",
      "('sampling rate is : ', 250000)\n",
      ".....finding best audio segment.....\n",
      "Unable to get proper audio match for video segment!\n"
     ]
    },
    {
     "ename": "TypeError",
     "evalue": "too many arguments: expected 3, got 5",
     "output_type": "error",
     "traceback": [
      "\u001b[0;31m---------------------------------------------------------------------------\u001b[0m",
      "\u001b[0;31mTypeError\u001b[0m                                 Traceback (most recent call last)",
      "\u001b[0;32m<ipython-input-9-495d67235152>\u001b[0m in \u001b[0;36m<module>\u001b[0;34m()\u001b[0m\n\u001b[0;32m----> 1\u001b[0;31m \u001b[0mget_ipython\u001b[0m\u001b[0;34m(\u001b[0m\u001b[0;34m)\u001b[0m\u001b[0;34m.\u001b[0m\u001b[0mrun_cell_magic\u001b[0m\u001b[0;34m(\u001b[0m\u001b[0;34mu'timeit'\u001b[0m\u001b[0;34m,\u001b[0m \u001b[0;34mu''\u001b[0m\u001b[0;34m,\u001b[0m \u001b[0;34mu\"match_video_sync_to_audio(video_sync, audio_folder, audio_fileformat='*.WAV', \\n                          audio_sync_spikey=False, file_subset=('non_spikey_T0000550','non_spikey_T0000552'))\"\u001b[0m\u001b[0;34m)\u001b[0m\u001b[0;34m\u001b[0m\u001b[0m\n\u001b[0m",
      "\u001b[0;32m/home/tbeleyur/anaconda2/envs/horseshoebat/lib/python2.7/site-packages/IPython/core/interactiveshell.pyc\u001b[0m in \u001b[0;36mrun_cell_magic\u001b[0;34m(self, magic_name, line, cell)\u001b[0m\n\u001b[1;32m   2115\u001b[0m             \u001b[0mmagic_arg_s\u001b[0m \u001b[0;34m=\u001b[0m \u001b[0mself\u001b[0m\u001b[0;34m.\u001b[0m\u001b[0mvar_expand\u001b[0m\u001b[0;34m(\u001b[0m\u001b[0mline\u001b[0m\u001b[0;34m,\u001b[0m \u001b[0mstack_depth\u001b[0m\u001b[0;34m)\u001b[0m\u001b[0;34m\u001b[0m\u001b[0m\n\u001b[1;32m   2116\u001b[0m             \u001b[0;32mwith\u001b[0m \u001b[0mself\u001b[0m\u001b[0;34m.\u001b[0m\u001b[0mbuiltin_trap\u001b[0m\u001b[0;34m:\u001b[0m\u001b[0;34m\u001b[0m\u001b[0m\n\u001b[0;32m-> 2117\u001b[0;31m                 \u001b[0mresult\u001b[0m \u001b[0;34m=\u001b[0m \u001b[0mfn\u001b[0m\u001b[0;34m(\u001b[0m\u001b[0mmagic_arg_s\u001b[0m\u001b[0;34m,\u001b[0m \u001b[0mcell\u001b[0m\u001b[0;34m)\u001b[0m\u001b[0;34m\u001b[0m\u001b[0m\n\u001b[0m\u001b[1;32m   2118\u001b[0m             \u001b[0;32mreturn\u001b[0m \u001b[0mresult\u001b[0m\u001b[0;34m\u001b[0m\u001b[0m\n\u001b[1;32m   2119\u001b[0m \u001b[0;34m\u001b[0m\u001b[0m\n",
      "\u001b[0;32m</home/tbeleyur/anaconda2/envs/horseshoebat/lib/python2.7/site-packages/decorator.pyc:decorator-gen-59>\u001b[0m in \u001b[0;36mtimeit\u001b[0;34m(self, line, cell)\u001b[0m\n",
      "\u001b[0;32m/home/tbeleyur/anaconda2/envs/horseshoebat/lib/python2.7/site-packages/IPython/core/magic.pyc\u001b[0m in \u001b[0;36m<lambda>\u001b[0;34m(f, *a, **k)\u001b[0m\n\u001b[1;32m    186\u001b[0m     \u001b[0;31m# but it's overkill for just that one bit of state.\u001b[0m\u001b[0;34m\u001b[0m\u001b[0;34m\u001b[0m\u001b[0m\n\u001b[1;32m    187\u001b[0m     \u001b[0;32mdef\u001b[0m \u001b[0mmagic_deco\u001b[0m\u001b[0;34m(\u001b[0m\u001b[0marg\u001b[0m\u001b[0;34m)\u001b[0m\u001b[0;34m:\u001b[0m\u001b[0;34m\u001b[0m\u001b[0m\n\u001b[0;32m--> 188\u001b[0;31m         \u001b[0mcall\u001b[0m \u001b[0;34m=\u001b[0m \u001b[0;32mlambda\u001b[0m \u001b[0mf\u001b[0m\u001b[0;34m,\u001b[0m \u001b[0;34m*\u001b[0m\u001b[0ma\u001b[0m\u001b[0;34m,\u001b[0m \u001b[0;34m**\u001b[0m\u001b[0mk\u001b[0m\u001b[0;34m:\u001b[0m \u001b[0mf\u001b[0m\u001b[0;34m(\u001b[0m\u001b[0;34m*\u001b[0m\u001b[0ma\u001b[0m\u001b[0;34m,\u001b[0m \u001b[0;34m**\u001b[0m\u001b[0mk\u001b[0m\u001b[0;34m)\u001b[0m\u001b[0;34m\u001b[0m\u001b[0m\n\u001b[0m\u001b[1;32m    189\u001b[0m \u001b[0;34m\u001b[0m\u001b[0m\n\u001b[1;32m    190\u001b[0m         \u001b[0;32mif\u001b[0m \u001b[0mcallable\u001b[0m\u001b[0;34m(\u001b[0m\u001b[0marg\u001b[0m\u001b[0;34m)\u001b[0m\u001b[0;34m:\u001b[0m\u001b[0;34m\u001b[0m\u001b[0m\n",
      "\u001b[0;32m/home/tbeleyur/anaconda2/envs/horseshoebat/lib/python2.7/site-packages/IPython/core/magics/execution.pyc\u001b[0m in \u001b[0;36mtimeit\u001b[0;34m(self, line, cell)\u001b[0m\n\u001b[1;32m   1055\u001b[0m             \u001b[0mnumber\u001b[0m \u001b[0;34m=\u001b[0m \u001b[0;36m1\u001b[0m\u001b[0;34m\u001b[0m\u001b[0m\n\u001b[1;32m   1056\u001b[0m             \u001b[0;32mfor\u001b[0m \u001b[0m_\u001b[0m \u001b[0;32min\u001b[0m \u001b[0mrange\u001b[0m\u001b[0;34m(\u001b[0m\u001b[0;36m1\u001b[0m\u001b[0;34m,\u001b[0m \u001b[0;36m10\u001b[0m\u001b[0;34m)\u001b[0m\u001b[0;34m:\u001b[0m\u001b[0;34m\u001b[0m\u001b[0m\n\u001b[0;32m-> 1057\u001b[0;31m                 \u001b[0mtime_number\u001b[0m \u001b[0;34m=\u001b[0m \u001b[0mtimer\u001b[0m\u001b[0;34m.\u001b[0m\u001b[0mtimeit\u001b[0m\u001b[0;34m(\u001b[0m\u001b[0mnumber\u001b[0m\u001b[0;34m)\u001b[0m\u001b[0;34m\u001b[0m\u001b[0m\n\u001b[0m\u001b[1;32m   1058\u001b[0m                 \u001b[0mworst_tuning\u001b[0m \u001b[0;34m=\u001b[0m \u001b[0mmax\u001b[0m\u001b[0;34m(\u001b[0m\u001b[0mworst_tuning\u001b[0m\u001b[0;34m,\u001b[0m \u001b[0mtime_number\u001b[0m \u001b[0;34m/\u001b[0m \u001b[0mnumber\u001b[0m\u001b[0;34m)\u001b[0m\u001b[0;34m\u001b[0m\u001b[0m\n\u001b[1;32m   1059\u001b[0m                 \u001b[0;32mif\u001b[0m \u001b[0mtime_number\u001b[0m \u001b[0;34m>=\u001b[0m \u001b[0;36m0.2\u001b[0m\u001b[0;34m:\u001b[0m\u001b[0;34m\u001b[0m\u001b[0m\n",
      "\u001b[0;32m/home/tbeleyur/anaconda2/envs/horseshoebat/lib/python2.7/site-packages/IPython/core/magics/execution.pyc\u001b[0m in \u001b[0;36mtimeit\u001b[0;34m(self, number)\u001b[0m\n\u001b[1;32m    137\u001b[0m         \u001b[0mgc\u001b[0m\u001b[0;34m.\u001b[0m\u001b[0mdisable\u001b[0m\u001b[0;34m(\u001b[0m\u001b[0;34m)\u001b[0m\u001b[0;34m\u001b[0m\u001b[0m\n\u001b[1;32m    138\u001b[0m         \u001b[0;32mtry\u001b[0m\u001b[0;34m:\u001b[0m\u001b[0;34m\u001b[0m\u001b[0m\n\u001b[0;32m--> 139\u001b[0;31m             \u001b[0mtiming\u001b[0m \u001b[0;34m=\u001b[0m \u001b[0mself\u001b[0m\u001b[0;34m.\u001b[0m\u001b[0minner\u001b[0m\u001b[0;34m(\u001b[0m\u001b[0mit\u001b[0m\u001b[0;34m,\u001b[0m \u001b[0mself\u001b[0m\u001b[0;34m.\u001b[0m\u001b[0mtimer\u001b[0m\u001b[0;34m)\u001b[0m\u001b[0;34m\u001b[0m\u001b[0m\n\u001b[0m\u001b[1;32m    140\u001b[0m         \u001b[0;32mfinally\u001b[0m\u001b[0;34m:\u001b[0m\u001b[0;34m\u001b[0m\u001b[0m\n\u001b[1;32m    141\u001b[0m             \u001b[0;32mif\u001b[0m \u001b[0mgcold\u001b[0m\u001b[0;34m:\u001b[0m\u001b[0;34m\u001b[0m\u001b[0m\n",
      "\u001b[0;32m<magic-timeit>\u001b[0m in \u001b[0;36minner\u001b[0;34m(_it, _timer)\u001b[0m\n",
      "\u001b[0;32m/home/tbeleyur/Documents/packages_dev/match_audio_to_video/bin/audio_for_videoannotation.py\u001b[0m in \u001b[0;36mmatch_video_sync_to_audio\u001b[0;34m(video_sync, audio_folder, **kwargs)\u001b[0m\n\u001b[1;32m    157\u001b[0m     \u001b[0;31m# cross-correlate video sync signal with\u001b[0m\u001b[0;34m\u001b[0m\u001b[0;34m\u001b[0m\u001b[0m\n\u001b[1;32m    158\u001b[0m     best_match_to_syncblock  = get_best_audio_match(upsampled_video_sync, audio_folder, \n\u001b[0;32m--> 159\u001b[0;31m                                  **kwargs)\n\u001b[0m\u001b[1;32m    160\u001b[0m     \u001b[0;32mif\u001b[0m \u001b[0mbest_match_to_syncblock\u001b[0m \u001b[0;32mis\u001b[0m \u001b[0;32mnot\u001b[0m \u001b[0mNone\u001b[0m\u001b[0;34m:\u001b[0m\u001b[0;34m\u001b[0m\u001b[0m\n\u001b[1;32m    161\u001b[0m         \u001b[0;31m# extract the audio only relevant to the annotation\u001b[0m\u001b[0;34m\u001b[0m\u001b[0;34m\u001b[0m\u001b[0m\n",
      "\u001b[0;32m/home/tbeleyur/Documents/packages_dev/match_audio_to_video/bin/audio_for_videoannotation.py\u001b[0m in \u001b[0;36mget_best_audio_match\u001b[0;34m(upsampled_video_sync, audio_folder, **kwargs)\u001b[0m\n\u001b[1;32m    377\u001b[0m             best_audio_match  = search_for_best_fit(upsampled_video_sync,\n\u001b[1;32m    378\u001b[0m                                                             \u001b[0mmatching_audio_files\u001b[0m\u001b[0;34m,\u001b[0m\u001b[0;34m\u001b[0m\u001b[0m\n\u001b[0;32m--> 379\u001b[0;31m                                                             **kwargs)\n\u001b[0m\u001b[1;32m    380\u001b[0m         \u001b[0;32mexcept\u001b[0m\u001b[0;34m:\u001b[0m\u001b[0;34m\u001b[0m\u001b[0m\n\u001b[1;32m    381\u001b[0m             \u001b[0;32mprint\u001b[0m\u001b[0;34m(\u001b[0m\u001b[0;34m'Unable to get proper audio match for video segment!'\u001b[0m\u001b[0;34m)\u001b[0m\u001b[0;34m\u001b[0m\u001b[0m\n",
      "\u001b[0;31mTypeError\u001b[0m: too many arguments: expected 3, got 5"
     ]
    }
   ],
   "source": [
    "%%timeit\n",
    "match_video_sync_to_audio(video_sync, audio_folder, audio_fileformat='*.WAV', \n",
    "                          audio_sync_spikey=False, file_subset=('non_spikey_T0000550','non_spikey_T0000552'))"
   ]
  },
  {
   "cell_type": "markdown",
   "metadata": {},
   "source": [
    "success = map(generate_matching_audio, files_to_run)"
   ]
  }
 ],
 "metadata": {
  "kernelspec": {
   "display_name": "horseshoebat",
   "language": "python",
   "name": "horseshoebat"
  },
  "language_info": {
   "codemirror_mode": {
    "name": "ipython",
    "version": 2
   },
   "file_extension": ".py",
   "mimetype": "text/x-python",
   "name": "python",
   "nbconvert_exporter": "python",
   "pygments_lexer": "ipython2",
   "version": "2.7.15"
  }
 },
 "nbformat": 4,
 "nbformat_minor": 2
}
