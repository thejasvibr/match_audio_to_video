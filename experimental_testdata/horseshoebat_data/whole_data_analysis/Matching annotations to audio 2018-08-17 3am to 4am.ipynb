{
 "cells": [
  {
   "cell_type": "markdown",
   "metadata": {},
   "source": [
    "#### Author: Thejasvi Beleyur\n",
    "#### Last updated: 24-01-2020\n",
    "\n",
    "This notebook will detail all the steps required to get matching audio snippets for the annotations of bat flights made for 2018-08-17 between 03:00-04:00 hours. \n",
    "\n",
    "### Steps carried out before hand:\n",
    "1. Generating the video sync for the video file *OrlovaChukaDome_01_20180817_03.00.00-04.00.00[R][@1e7f][2].avi* with frame-wise light intensities and time stamps\n",
    "\n",
    "2. Video annotations of the horseshoebats flying done by Neetash MR and Aditya Kanjoor. \n"
   ]
  },
  {
   "cell_type": "code",
   "execution_count": 1,
   "metadata": {},
   "outputs": [],
   "source": [
    "import matplotlib.pyplot as plt\n",
    "import pandas as pd \n",
    "from tqdm import tqdm\n",
    "\n",
    "package_folder = '/home/tbeleyur/Documents/packages_dev/match_audio_to_video/bin/'\n",
    "import os\n",
    "import sys \n",
    "sys.path.append(package_folder) # include the modules in the outer folder in the search path\n",
    "from process_video_annotations import video_sync_over_annotation_block\n",
    "\n"
   ]
  },
  {
   "cell_type": "code",
   "execution_count": 2,
   "metadata": {},
   "outputs": [],
   "source": [
    "%load_ext line_profiler"
   ]
  },
  {
   "cell_type": "code",
   "execution_count": 3,
   "metadata": {},
   "outputs": [],
   "source": [
    "# loading the annotations\n",
    "annotations = pd.read_csv('annotations/3am_4am - 3am_4am.csv')"
   ]
  },
  {
   "cell_type": "code",
   "execution_count": 4,
   "metadata": {
    "scrolled": false
   },
   "outputs": [
    {
     "data": {
      "text/html": [
       "<div>\n",
       "<style scoped>\n",
       "    .dataframe tbody tr th:only-of-type {\n",
       "        vertical-align: middle;\n",
       "    }\n",
       "\n",
       "    .dataframe tbody tr th {\n",
       "        vertical-align: top;\n",
       "    }\n",
       "\n",
       "    .dataframe thead th {\n",
       "        text-align: right;\n",
       "    }\n",
       "</style>\n",
       "<table border=\"1\" class=\"dataframe\">\n",
       "  <thead>\n",
       "    <tr style=\"text-align: right;\">\n",
       "      <th></th>\n",
       "      <th>video_path</th>\n",
       "      <th>annotation_id</th>\n",
       "      <th>old_annotation_id</th>\n",
       "      <th>Sampling minute</th>\n",
       "      <th>timestamp from camera</th>\n",
       "      <th>start_timestamp</th>\n",
       "      <th>start_framenumber</th>\n",
       "      <th>end_timestamp</th>\n",
       "      <th>end_framenumber</th>\n",
       "      <th>no. of flying bats</th>\n",
       "      <th>bat behaviour</th>\n",
       "      <th>strength (1 - strong</th>\n",
       "      <th>0- weak)</th>\n",
       "      <th>weak in (Behaviour Be</th>\n",
       "      <th>Bat number Bn)</th>\n",
       "      <th>comments</th>\n",
       "      <th>Details on the comment</th>\n",
       "      <th>Additional_details</th>\n",
       "    </tr>\n",
       "  </thead>\n",
       "  <tbody>\n",
       "    <tr>\n",
       "      <th>0</th>\n",
       "      <td>F:\\analysis_horseshoebat\\videoanalysis\\16.08.2...</td>\n",
       "      <td>2018-08-17_34_1</td>\n",
       "      <td>34_1</td>\n",
       "      <td>56</td>\n",
       "      <td>2</td>\n",
       "      <td>2018-08-17 03:56:00</td>\n",
       "      <td>15</td>\n",
       "      <td>2018-08-17 03:56:00</td>\n",
       "      <td>18</td>\n",
       "      <td>1</td>\n",
       "      <td>NaN</td>\n",
       "      <td>1</td>\n",
       "      <td>NaN</td>\n",
       "      <td>NaN</td>\n",
       "      <td>NaN</td>\n",
       "      <td>NaN</td>\n",
       "      <td>NaN</td>\n",
       "      <td>NaN</td>\n",
       "    </tr>\n",
       "    <tr>\n",
       "      <th>1</th>\n",
       "      <td>F:\\analysis_horseshoebat\\videoanalysis\\16.08.2...</td>\n",
       "      <td>2018-08-17_34_2</td>\n",
       "      <td>34_2</td>\n",
       "      <td>56</td>\n",
       "      <td>2</td>\n",
       "      <td>2018-08-17 03:56:00</td>\n",
       "      <td>1</td>\n",
       "      <td>2018-08-17 03:56:00</td>\n",
       "      <td>21</td>\n",
       "      <td>1</td>\n",
       "      <td>NaN</td>\n",
       "      <td>1</td>\n",
       "      <td>NaN</td>\n",
       "      <td>NaN</td>\n",
       "      <td>NaN</td>\n",
       "      <td>NaN</td>\n",
       "      <td>NaN</td>\n",
       "      <td>NaN</td>\n",
       "    </tr>\n",
       "    <tr>\n",
       "      <th>2</th>\n",
       "      <td>F:\\analysis_horseshoebat\\videoanalysis\\16.08.2...</td>\n",
       "      <td>2018-08-17_34_3</td>\n",
       "      <td>34_3</td>\n",
       "      <td>56</td>\n",
       "      <td>2</td>\n",
       "      <td>2018-08-17 03:57:00</td>\n",
       "      <td>19</td>\n",
       "      <td>2018-08-17 03:57:00</td>\n",
       "      <td>8</td>\n",
       "      <td>1</td>\n",
       "      <td>NaN</td>\n",
       "      <td>1</td>\n",
       "      <td>NaN</td>\n",
       "      <td>NaN</td>\n",
       "      <td>NaN</td>\n",
       "      <td>NaN</td>\n",
       "      <td>NaN</td>\n",
       "      <td>NaN</td>\n",
       "    </tr>\n",
       "    <tr>\n",
       "      <th>3</th>\n",
       "      <td>F:\\analysis_horseshoebat\\videoanalysis\\16.08.2...</td>\n",
       "      <td>2018-08-17_34_4</td>\n",
       "      <td>34_4</td>\n",
       "      <td>56</td>\n",
       "      <td>2</td>\n",
       "      <td>2018-08-17 03:57:00</td>\n",
       "      <td>11</td>\n",
       "      <td>2018-08-17 03:57:00</td>\n",
       "      <td>1</td>\n",
       "      <td>1</td>\n",
       "      <td>NaN</td>\n",
       "      <td>1</td>\n",
       "      <td>NaN</td>\n",
       "      <td>NaN</td>\n",
       "      <td>NaN</td>\n",
       "      <td>NaN</td>\n",
       "      <td>NaN</td>\n",
       "      <td>NaN</td>\n",
       "    </tr>\n",
       "    <tr>\n",
       "      <th>4</th>\n",
       "      <td>F:\\analysis_horseshoebat\\videoanalysis\\16.08.2...</td>\n",
       "      <td>2018-08-17_34_5</td>\n",
       "      <td>34_5</td>\n",
       "      <td>56</td>\n",
       "      <td>2</td>\n",
       "      <td>2018-08-17 03:56:00</td>\n",
       "      <td>1</td>\n",
       "      <td>2018-08-17 03:56:00</td>\n",
       "      <td>1</td>\n",
       "      <td>0</td>\n",
       "      <td>NaN</td>\n",
       "      <td>1</td>\n",
       "      <td>NaN</td>\n",
       "      <td>NaN</td>\n",
       "      <td>NaN</td>\n",
       "      <td>NaN</td>\n",
       "      <td>NaN</td>\n",
       "      <td>NaN</td>\n",
       "    </tr>\n",
       "  </tbody>\n",
       "</table>\n",
       "</div>"
      ],
      "text/plain": [
       "                                          video_path    annotation_id  \\\n",
       "0  F:\\analysis_horseshoebat\\videoanalysis\\16.08.2...  2018-08-17_34_1   \n",
       "1  F:\\analysis_horseshoebat\\videoanalysis\\16.08.2...  2018-08-17_34_2   \n",
       "2  F:\\analysis_horseshoebat\\videoanalysis\\16.08.2...  2018-08-17_34_3   \n",
       "3  F:\\analysis_horseshoebat\\videoanalysis\\16.08.2...  2018-08-17_34_4   \n",
       "4  F:\\analysis_horseshoebat\\videoanalysis\\16.08.2...  2018-08-17_34_5   \n",
       "\n",
       "  old_annotation_id  Sampling minute  timestamp from camera  \\\n",
       "0              34_1               56                      2   \n",
       "1              34_2               56                      2   \n",
       "2              34_3               56                      2   \n",
       "3              34_4               56                      2   \n",
       "4              34_5               56                      2   \n",
       "\n",
       "       start_timestamp  start_framenumber        end_timestamp  \\\n",
       "0  2018-08-17 03:56:00                 15  2018-08-17 03:56:00   \n",
       "1  2018-08-17 03:56:00                  1  2018-08-17 03:56:00   \n",
       "2  2018-08-17 03:57:00                 19  2018-08-17 03:57:00   \n",
       "3  2018-08-17 03:57:00                 11  2018-08-17 03:57:00   \n",
       "4  2018-08-17 03:56:00                  1  2018-08-17 03:56:00   \n",
       "\n",
       "   end_framenumber  no. of flying bats bat behaviour  strength (1 - strong  \\\n",
       "0               18                   1           NaN                     1   \n",
       "1               21                   1           NaN                     1   \n",
       "2                8                   1           NaN                     1   \n",
       "3                1                   1           NaN                     1   \n",
       "4                1                   0           NaN                     1   \n",
       "\n",
       "   0- weak) weak in (Behaviour Be  Bat number Bn) comments  \\\n",
       "0       NaN                   NaN             NaN      NaN   \n",
       "1       NaN                   NaN             NaN      NaN   \n",
       "2       NaN                   NaN             NaN      NaN   \n",
       "3       NaN                   NaN             NaN      NaN   \n",
       "4       NaN                   NaN             NaN      NaN   \n",
       "\n",
       "   Details on the comment  Additional_details  \n",
       "0                     NaN                 NaN  \n",
       "1                     NaN                 NaN  \n",
       "2                     NaN                 NaN  \n",
       "3                     NaN                 NaN  \n",
       "4                     NaN                 NaN  "
      ]
     },
     "execution_count": 4,
     "metadata": {},
     "output_type": "execute_result"
    }
   ],
   "source": [
    "annotations.head()"
   ]
  },
  {
   "cell_type": "code",
   "execution_count": 5,
   "metadata": {},
   "outputs": [],
   "source": [
    "annots_w_bats = annotations[annotations['no. of flying bats']>0].reset_index(drop=True)"
   ]
  },
  {
   "cell_type": "markdown",
   "metadata": {},
   "source": [
    "### Carrying out the common-fps conversion:\n"
   ]
  },
  {
   "cell_type": "markdown",
   "metadata": {},
   "source": [
    "# load the video sync file with corrected timestamps\n",
    "video_sync_file = 'videosync_OrlovaChukaDome_01_20180817_03.00.00-04.00.00[R][@1e7f][2].avi_[corrected_timestamps].csv'\n",
    "path_to_videosync = os.path.join('/home/tbeleyur/Documents/packages_dev/match_audio_to_video/experimental_testdata/horseshoebat_data/whole_data_analysis/raw_sync/2018-08-16',\n",
    "                                 video_sync_file)\n",
    "video_sync = pd.read_csv(path_to_videosync)"
   ]
  },
  {
   "cell_type": "markdown",
   "metadata": {
    "scrolled": true
   },
   "source": [
    "kwargs = {'timestamp_pattern': '%Y-%m-%d %H:%M:%S'}\n",
    "kwargs['min_fps']= 21 # Hz\n",
    "kwargs['min_durn'] = 75.0 # seconds \n",
    "kwargs['common_fps'] = 25 # Hz\n",
    "kwargs['output_folder'] = './common_fps/2018-08-16/'\n",
    "\n",
    "unprocessed_annotations = []\n",
    "\n",
    "for i, each_annotation in tqdm(annots_w_bats.iterrows()):\n",
    "    try:\n",
    "        success = video_sync_over_annotation_block(each_annotation,video_sync, \n",
    "                                                     **kwargs)\n",
    "    except :\n",
    "        unprocessed_annotations.append(i)\n",
    "        print('Unable to process annotation: %s'%annots_w_bats['annotation_id'][i])\n"
   ]
  },
  {
   "cell_type": "markdown",
   "metadata": {},
   "source": [
    "len(unprocessed_annotations)"
   ]
  },
  {
   "cell_type": "markdown",
   "metadata": {},
   "source": [
    "Cause of the unprocessed annotations: A quick check showed me that all the unprocessed annotations were caused only by annotations with odd timestamps - with the end timestamp before the starting or with both and start and end timestamps being the same. "
   ]
  },
  {
   "cell_type": "markdown",
   "metadata": {},
   "source": [
    "### Matching Audio from the common_fps files"
   ]
  },
  {
   "cell_type": "code",
   "execution_count": 6,
   "metadata": {},
   "outputs": [],
   "source": [
    "### Finding the matching audio snippet !! \n",
    "import glob \n",
    "import soundfile as sf\n",
    "from audio_for_videoannotation import match_video_sync_to_audio, search_for_best_fit\n",
    "\n",
    "#all_commonfps = glob.glob('common_fps_video_sync*') # get all the relevant common_fps_sync files\n",
    "all_commonfps = glob.glob('common_fps/2018-08-16/common_fps*')\n",
    "audio_folder = '/media/tbeleyur/THEJASVI_DATA_BACKUP_3/fieldwork_2018_002/horseshoe_bat/audio_non_spikey/2018-08-16/' # the current folder\n",
    "\n",
    "# the output folders\n",
    "audiosync_folder = './sync_audio/'\n",
    "audioannotation_folder = './annotation_audio/'\n",
    "fs = 250000 # change according to the recording sampling rate in Hz!! \n"
   ]
  },
  {
   "cell_type": "code",
   "execution_count": 7,
   "metadata": {
    "scrolled": true
   },
   "outputs": [],
   "source": [
    "all_ccs = []\n",
    "files_to_run = sorted(all_commonfps)\n",
    "def generate_matching_audio(each_commonfps):\n",
    "    '''\n",
    "    '''\n",
    "    print(each_commonfps)\n",
    "    video_sync = pd.read_csv(each_commonfps)\n",
    "    best_audio, syncblock_audio, crosscoef = match_video_sync_to_audio(video_sync, audio_folder, \n",
    "                                                                       audio_fileformat='*.WAV',\n",
    "                                           audio_sync_spikey=False,\n",
    "                                           file_subset=('non_spikey_T0000550','non_spikey_T0000629'))\n",
    "    all_ccs.append(crosscoef)\n",
    "    fname  = os.path.split(each_commonfps)[-1]\n",
    "    annotation_id = '-'.join(os.path.split(fname)[-1].split('common_fps_video_sync')[-1:])[:-4]\n",
    "\n",
    "    try:\n",
    "        audio_file_base_name = annotation_id+'.WAV'\n",
    "        sf.write(audiosync_folder+'matching_sync_'+audio_file_base_name, syncblock_audio,fs)\n",
    "        sf.write(audioannotation_folder+'matching_annotaudio_'+audio_file_base_name, best_audio,fs)\n",
    "        return(True)\n",
    "    except:\n",
    "        print('Could not save ', common_fps_file)\n",
    "        return(False)\n",
    "\n"
   ]
  },
  {
   "cell_type": "code",
   "execution_count": 8,
   "metadata": {},
   "outputs": [],
   "source": [
    "each_commonfps = files_to_run[0]\n",
    "video_sync = pd.read_csv(each_commonfps)"
   ]
  },
  {
   "cell_type": "code",
   "execution_count": 9,
   "metadata": {},
   "outputs": [
    {
     "name": "stdout",
     "output_type": "stream",
     "text": [
      "('video_fps obtained is :', 25)\n",
      "Did not find user-provided sample rate - getting it from first file that matches format!\n",
      "('sampling rate is : ', 250000)\n",
      ".....finding best audio segment.....\n"
     ]
    },
    {
     "name": "stderr",
     "output_type": "stream",
     "text": [
      "\r",
      "  0%|          | 0/2 [00:00<?, ?it/s]"
     ]
    },
    {
     "name": "stdout",
     "output_type": "stream",
     "text": [
      "('max mins for upsampled video', -1.0, 0.927586799200516)\n",
      "('max mins', -1.0, 0.9847676272635918)\n"
     ]
    },
    {
     "name": "stderr",
     "output_type": "stream",
     "text": [
      "/home/tbeleyur/anaconda2/envs/horseshoebat/lib/python2.7/site-packages/scipy/signal/signaltools.py:491: FutureWarning: Using a non-tuple sequence for multidimensional indexing is deprecated; use `arr[tuple(seq)]` instead of `arr[seq]`. In the future this will be interpreted as an array index, `arr[np.array(seq)]`, which will result either in an error or a different result.\n",
      "  return x[reverse].conj()\n",
      " 50%|█████     | 1/2 [00:05<00:05,  5.80s/it]"
     ]
    },
    {
     "name": "stdout",
     "output_type": "stream",
     "text": [
      "('max mins', -1.0, 0.9914314440552543)\n"
     ]
    },
    {
     "name": "stderr",
     "output_type": "stream",
     "text": [
      "100%|██████████| 2/2 [00:10<00:00,  5.59s/it]\n"
     ]
    },
    {
     "name": "stdout",
     "output_type": "stream",
     "text": [
      "('Best file pairs are: ', 'non_spikey_T0000550.WAV*non_spikey_T0000551.WAV')\n",
      "Start and end indices around peak:                  start index: 7528149\t\t          end index: 22778149                  total samples:30015488\n"
     ]
    },
    {
     "name": "stderr",
     "output_type": "stream",
     "text": [
      "/home/tbeleyur/Documents/packages_dev/match_audio_to_video/bin/audio_for_videoannotation.py:176: UserWarning: The AV sync may not be very great - please check again. The value was :0.17315757132431606\n",
      "  warnings.warn(warning_msg, stacklevel=1)\n"
     ]
    }
   ],
   "source": [
    "%lprun -f search_for_best_fit match_video_sync_to_audio(video_sync, audio_folder, audio_fileformat='*.WAV',                       audio_sync_spikey=False, file_subset=('non_spikey_T0000550','non_spikey_T0000552'))"
   ]
  },
  {
   "cell_type": "markdown",
   "metadata": {},
   "source": [
    "%%timeit\n",
    "match_video_sync_to_audio(video_sync, audio_folder, audio_fileformat='*.WAV', \n",
    "                          audio_sync_spikey=False, file_subset=('non_spikey_T0000550','non_spikey_T0000552'))"
   ]
  },
  {
   "cell_type": "markdown",
   "metadata": {},
   "source": [
    "success = map(generate_matching_audio, files_to_run)"
   ]
  },
  {
   "cell_type": "code",
   "execution_count": 10,
   "metadata": {},
   "outputs": [
    {
     "data": {
      "text/plain": [
       "20.0"
      ]
     },
     "execution_count": 10,
     "metadata": {},
     "output_type": "execute_result"
    }
   ],
   "source": [
    "20*4*0.25"
   ]
  }
 ],
 "metadata": {
  "kernelspec": {
   "display_name": "horseshoebat",
   "language": "python",
   "name": "horseshoebat"
  },
  "language_info": {
   "codemirror_mode": {
    "name": "ipython",
    "version": 2
   },
   "file_extension": ".py",
   "mimetype": "text/x-python",
   "name": "python",
   "nbconvert_exporter": "python",
   "pygments_lexer": "ipython2",
   "version": "2.7.15"
  }
 },
 "nbformat": 4,
 "nbformat_minor": 2
}
