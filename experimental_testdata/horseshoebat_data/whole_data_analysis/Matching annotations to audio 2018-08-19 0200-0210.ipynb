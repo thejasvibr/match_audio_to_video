{
 "cells": [
  {
   "cell_type": "markdown",
   "metadata": {},
   "source": [
    "#### Author: Thejasvi Beleyur\n",
    "#### Last updated: 29-02-2020\n",
    "\n",
    "### Annotations only between 02:00-02:10 because of camera movement. \n",
    "This notebook will detail all the steps required to get matching audio snippets for the annotations of bat flights made for 2018-08-19 between 02:00-02:10 hours. Only 10 minutes are being annotated in the hour because cam01 moved - meaning that we couldn't maintain the two-camera annotation protocol for this hour. \n",
    "\n",
    "This notebook is basically a copy of 'Matching annotations to audio 2018-08-16 2150-2300.ipynb'. \n",
    "\n",
    "### Steps carried out before hand:\n",
    "1. Generating the video sync for the video file *OrlovaChukaDome_01_20180819_02.00.00-03.00.00[R]....avi* with frame-wise light intensities and time stamps\n",
    "\n",
    "2. Video annotations of the horseshoebats flying done by  Aditya Kanjoor. \n"
   ]
  },
  {
   "cell_type": "code",
   "execution_count": 3,
   "metadata": {},
   "outputs": [],
   "source": [
    "import matplotlib.pyplot as plt\n",
    "import pandas as pd \n",
    "from tqdm import tqdm\n",
    "\n",
    "package_folder = '../../../bin/'\n",
    "import os\n",
    "import sys \n",
    "sys.path.append(package_folder) # include the modules in the outer folder in the search path\n",
    "from process_video_annotations import video_sync_over_annotation_block\n",
    "\n"
   ]
  },
  {
   "cell_type": "code",
   "execution_count": 4,
   "metadata": {},
   "outputs": [],
   "source": [
    "%matplotlib notebook"
   ]
  },
  {
   "cell_type": "code",
   "execution_count": 5,
   "metadata": {},
   "outputs": [],
   "source": [
    "# loading the annotations\n",
    "annotations = pd.read_csv('annotations/corrected_HBC_video_annotations_Aditya/2018-08-19_23_Aditya_corrected.csv')"
   ]
  },
  {
   "cell_type": "code",
   "execution_count": 6,
   "metadata": {
    "scrolled": false
   },
   "outputs": [
    {
     "data": {
      "text/html": [
       "<div>\n",
       "<style scoped>\n",
       "    .dataframe tbody tr th:only-of-type {\n",
       "        vertical-align: middle;\n",
       "    }\n",
       "\n",
       "    .dataframe tbody tr th {\n",
       "        vertical-align: top;\n",
       "    }\n",
       "\n",
       "    .dataframe thead th {\n",
       "        text-align: right;\n",
       "    }\n",
       "</style>\n",
       "<table border=\"1\" class=\"dataframe\">\n",
       "  <thead>\n",
       "    <tr style=\"text-align: right;\">\n",
       "      <th></th>\n",
       "      <th>video_path</th>\n",
       "      <th>annotation_id</th>\n",
       "      <th>Sampling minute</th>\n",
       "      <th>timestamp from camera</th>\n",
       "      <th>start_timestamp</th>\n",
       "      <th>start_framenumber</th>\n",
       "      <th>end_timestamp</th>\n",
       "      <th>end_framenumber</th>\n",
       "      <th>no. of flying bats</th>\n",
       "      <th>bat behaviour</th>\n",
       "      <th>strength (1 - strong, 0-weak)</th>\n",
       "      <th>weak in (Behaviour Be, Number Bn)</th>\n",
       "      <th>Comments</th>\n",
       "      <th>Details on the comment</th>\n",
       "      <th>annotator</th>\n",
       "    </tr>\n",
       "  </thead>\n",
       "  <tbody>\n",
       "    <tr>\n",
       "      <th>0</th>\n",
       "      <td>OrlovaChukaDome_02_20180819_02.00.00-03.00.00[...</td>\n",
       "      <td>Aditya_2018-08-19_23_1</td>\n",
       "      <td>0</td>\n",
       "      <td>2</td>\n",
       "      <td>2018-08-19 02:00:11</td>\n",
       "      <td>20</td>\n",
       "      <td>2018-08-19 02:00:12</td>\n",
       "      <td>15</td>\n",
       "      <td>1</td>\n",
       "      <td>NaN</td>\n",
       "      <td>0</td>\n",
       "      <td>NaN</td>\n",
       "      <td>The bat has exited only out of the camera view...</td>\n",
       "      <td>NaN</td>\n",
       "      <td>Aditya</td>\n",
       "    </tr>\n",
       "    <tr>\n",
       "      <th>1</th>\n",
       "      <td>OrlovaChukaDome_02_20180819_02.00.00-03.00.00[...</td>\n",
       "      <td>Aditya_2018-08-19_23_2</td>\n",
       "      <td>1</td>\n",
       "      <td>2</td>\n",
       "      <td>2018-08-19 02:01:06</td>\n",
       "      <td>6</td>\n",
       "      <td>2018-08-19 02:01:06</td>\n",
       "      <td>17</td>\n",
       "      <td>1</td>\n",
       "      <td>NaN</td>\n",
       "      <td>1</td>\n",
       "      <td>NaN</td>\n",
       "      <td>NaN</td>\n",
       "      <td>NaN</td>\n",
       "      <td>Aditya</td>\n",
       "    </tr>\n",
       "    <tr>\n",
       "      <th>2</th>\n",
       "      <td>OrlovaChukaDome_02_20180819_02.00.00-03.00.00[...</td>\n",
       "      <td>Aditya_2018-08-19_23_3</td>\n",
       "      <td>1</td>\n",
       "      <td>2</td>\n",
       "      <td>2018-08-19 02:01:21</td>\n",
       "      <td>17</td>\n",
       "      <td>2018-08-19 02:01:22</td>\n",
       "      <td>6</td>\n",
       "      <td>1</td>\n",
       "      <td>NaN</td>\n",
       "      <td>1</td>\n",
       "      <td>NaN</td>\n",
       "      <td>NaN</td>\n",
       "      <td>NaN</td>\n",
       "      <td>Aditya</td>\n",
       "    </tr>\n",
       "    <tr>\n",
       "      <th>3</th>\n",
       "      <td>OrlovaChukaDome_02_20180819_02.00.00-03.00.00[...</td>\n",
       "      <td>Aditya_2018-08-19_23_4</td>\n",
       "      <td>1</td>\n",
       "      <td>2</td>\n",
       "      <td>2018-08-19 02:01:22</td>\n",
       "      <td>13</td>\n",
       "      <td>2018-08-19 02:01:22</td>\n",
       "      <td>19</td>\n",
       "      <td>2</td>\n",
       "      <td>T</td>\n",
       "      <td>1</td>\n",
       "      <td>NaN</td>\n",
       "      <td>NaN</td>\n",
       "      <td>NaN</td>\n",
       "      <td>Aditya</td>\n",
       "    </tr>\n",
       "    <tr>\n",
       "      <th>4</th>\n",
       "      <td>OrlovaChukaDome_02_20180819_02.00.00-03.00.00[...</td>\n",
       "      <td>Aditya_2018-08-19_23_5</td>\n",
       "      <td>1</td>\n",
       "      <td>2</td>\n",
       "      <td>2018-08-19 02:01:23</td>\n",
       "      <td>4</td>\n",
       "      <td>2018-08-19 02:01:23</td>\n",
       "      <td>9</td>\n",
       "      <td>2</td>\n",
       "      <td>P</td>\n",
       "      <td>0</td>\n",
       "      <td>NaN</td>\n",
       "      <td>Lasting only for a few frames after the buffer...</td>\n",
       "      <td>NaN</td>\n",
       "      <td>Aditya</td>\n",
       "    </tr>\n",
       "  </tbody>\n",
       "</table>\n",
       "</div>"
      ],
      "text/plain": [
       "                                          video_path           annotation_id  \\\n",
       "0  OrlovaChukaDome_02_20180819_02.00.00-03.00.00[...  Aditya_2018-08-19_23_1   \n",
       "1  OrlovaChukaDome_02_20180819_02.00.00-03.00.00[...  Aditya_2018-08-19_23_2   \n",
       "2  OrlovaChukaDome_02_20180819_02.00.00-03.00.00[...  Aditya_2018-08-19_23_3   \n",
       "3  OrlovaChukaDome_02_20180819_02.00.00-03.00.00[...  Aditya_2018-08-19_23_4   \n",
       "4  OrlovaChukaDome_02_20180819_02.00.00-03.00.00[...  Aditya_2018-08-19_23_5   \n",
       "\n",
       "   Sampling minute  timestamp from camera      start_timestamp  \\\n",
       "0                0                      2  2018-08-19 02:00:11   \n",
       "1                1                      2  2018-08-19 02:01:06   \n",
       "2                1                      2  2018-08-19 02:01:21   \n",
       "3                1                      2  2018-08-19 02:01:22   \n",
       "4                1                      2  2018-08-19 02:01:23   \n",
       "\n",
       "   start_framenumber        end_timestamp  end_framenumber  \\\n",
       "0                 20  2018-08-19 02:00:12               15   \n",
       "1                  6  2018-08-19 02:01:06               17   \n",
       "2                 17  2018-08-19 02:01:22                6   \n",
       "3                 13  2018-08-19 02:01:22               19   \n",
       "4                  4  2018-08-19 02:01:23                9   \n",
       "\n",
       "   no. of flying bats bat behaviour  strength (1 - strong, 0-weak)  \\\n",
       "0                   1           NaN                              0   \n",
       "1                   1           NaN                              1   \n",
       "2                   1           NaN                              1   \n",
       "3                   2             T                              1   \n",
       "4                   2             P                              0   \n",
       "\n",
       "  weak in (Behaviour Be, Number Bn)  \\\n",
       "0                               NaN   \n",
       "1                               NaN   \n",
       "2                               NaN   \n",
       "3                               NaN   \n",
       "4                               NaN   \n",
       "\n",
       "                                            Comments  Details on the comment  \\\n",
       "0  The bat has exited only out of the camera view...                     NaN   \n",
       "1                                                NaN                     NaN   \n",
       "2                                                NaN                     NaN   \n",
       "3                                                NaN                     NaN   \n",
       "4  Lasting only for a few frames after the buffer...                     NaN   \n",
       "\n",
       "  annotator  \n",
       "0    Aditya  \n",
       "1    Aditya  \n",
       "2    Aditya  \n",
       "3    Aditya  \n",
       "4    Aditya  "
      ]
     },
     "execution_count": 6,
     "metadata": {},
     "output_type": "execute_result"
    }
   ],
   "source": [
    "annotations.head()"
   ]
  },
  {
   "cell_type": "code",
   "execution_count": 7,
   "metadata": {},
   "outputs": [
    {
     "data": {
      "text/plain": [
       "(44, 15)"
      ]
     },
     "execution_count": 7,
     "metadata": {},
     "output_type": "execute_result"
    }
   ],
   "source": [
    "annotations.shape"
   ]
  },
  {
   "cell_type": "code",
   "execution_count": 8,
   "metadata": {},
   "outputs": [],
   "source": [
    "annots_w_bats = annotations[annotations['no. of flying bats']>0].reset_index(drop=True)"
   ]
  },
  {
   "cell_type": "code",
   "execution_count": 9,
   "metadata": {},
   "outputs": [
    {
     "data": {
      "text/plain": [
       "(44, 15)"
      ]
     },
     "execution_count": 9,
     "metadata": {},
     "output_type": "execute_result"
    }
   ],
   "source": [
    "annotations.shape"
   ]
  },
  {
   "cell_type": "code",
   "execution_count": 10,
   "metadata": {},
   "outputs": [
    {
     "data": {
      "text/plain": [
       "(44, 15)"
      ]
     },
     "execution_count": 10,
     "metadata": {},
     "output_type": "execute_result"
    }
   ],
   "source": [
    "annots_w_bats.shape"
   ]
  },
  {
   "cell_type": "code",
   "execution_count": 11,
   "metadata": {},
   "outputs": [
    {
     "data": {
      "text/html": [
       "<div>\n",
       "<style scoped>\n",
       "    .dataframe tbody tr th:only-of-type {\n",
       "        vertical-align: middle;\n",
       "    }\n",
       "\n",
       "    .dataframe tbody tr th {\n",
       "        vertical-align: top;\n",
       "    }\n",
       "\n",
       "    .dataframe thead th {\n",
       "        text-align: right;\n",
       "    }\n",
       "</style>\n",
       "<table border=\"1\" class=\"dataframe\">\n",
       "  <thead>\n",
       "    <tr style=\"text-align: right;\">\n",
       "      <th></th>\n",
       "      <th>video_path</th>\n",
       "      <th>annotation_id</th>\n",
       "      <th>Sampling minute</th>\n",
       "      <th>timestamp from camera</th>\n",
       "      <th>start_timestamp</th>\n",
       "      <th>start_framenumber</th>\n",
       "      <th>end_timestamp</th>\n",
       "      <th>end_framenumber</th>\n",
       "      <th>no. of flying bats</th>\n",
       "      <th>bat behaviour</th>\n",
       "      <th>strength (1 - strong, 0-weak)</th>\n",
       "      <th>weak in (Behaviour Be, Number Bn)</th>\n",
       "      <th>Comments</th>\n",
       "      <th>Details on the comment</th>\n",
       "      <th>annotator</th>\n",
       "    </tr>\n",
       "  </thead>\n",
       "  <tbody>\n",
       "    <tr>\n",
       "      <th>0</th>\n",
       "      <td>OrlovaChukaDome_02_20180819_02.00.00-03.00.00[...</td>\n",
       "      <td>Aditya_2018-08-19_23_1</td>\n",
       "      <td>0</td>\n",
       "      <td>2</td>\n",
       "      <td>2018-08-19 02:00:11</td>\n",
       "      <td>20</td>\n",
       "      <td>2018-08-19 02:00:12</td>\n",
       "      <td>15</td>\n",
       "      <td>1</td>\n",
       "      <td>NaN</td>\n",
       "      <td>0</td>\n",
       "      <td>NaN</td>\n",
       "      <td>The bat has exited only out of the camera view...</td>\n",
       "      <td>NaN</td>\n",
       "      <td>Aditya</td>\n",
       "    </tr>\n",
       "    <tr>\n",
       "      <th>1</th>\n",
       "      <td>OrlovaChukaDome_02_20180819_02.00.00-03.00.00[...</td>\n",
       "      <td>Aditya_2018-08-19_23_2</td>\n",
       "      <td>1</td>\n",
       "      <td>2</td>\n",
       "      <td>2018-08-19 02:01:06</td>\n",
       "      <td>6</td>\n",
       "      <td>2018-08-19 02:01:06</td>\n",
       "      <td>17</td>\n",
       "      <td>1</td>\n",
       "      <td>NaN</td>\n",
       "      <td>1</td>\n",
       "      <td>NaN</td>\n",
       "      <td>NaN</td>\n",
       "      <td>NaN</td>\n",
       "      <td>Aditya</td>\n",
       "    </tr>\n",
       "    <tr>\n",
       "      <th>2</th>\n",
       "      <td>OrlovaChukaDome_02_20180819_02.00.00-03.00.00[...</td>\n",
       "      <td>Aditya_2018-08-19_23_3</td>\n",
       "      <td>1</td>\n",
       "      <td>2</td>\n",
       "      <td>2018-08-19 02:01:21</td>\n",
       "      <td>17</td>\n",
       "      <td>2018-08-19 02:01:22</td>\n",
       "      <td>6</td>\n",
       "      <td>1</td>\n",
       "      <td>NaN</td>\n",
       "      <td>1</td>\n",
       "      <td>NaN</td>\n",
       "      <td>NaN</td>\n",
       "      <td>NaN</td>\n",
       "      <td>Aditya</td>\n",
       "    </tr>\n",
       "    <tr>\n",
       "      <th>3</th>\n",
       "      <td>OrlovaChukaDome_02_20180819_02.00.00-03.00.00[...</td>\n",
       "      <td>Aditya_2018-08-19_23_4</td>\n",
       "      <td>1</td>\n",
       "      <td>2</td>\n",
       "      <td>2018-08-19 02:01:22</td>\n",
       "      <td>13</td>\n",
       "      <td>2018-08-19 02:01:22</td>\n",
       "      <td>19</td>\n",
       "      <td>2</td>\n",
       "      <td>T</td>\n",
       "      <td>1</td>\n",
       "      <td>NaN</td>\n",
       "      <td>NaN</td>\n",
       "      <td>NaN</td>\n",
       "      <td>Aditya</td>\n",
       "    </tr>\n",
       "    <tr>\n",
       "      <th>4</th>\n",
       "      <td>OrlovaChukaDome_02_20180819_02.00.00-03.00.00[...</td>\n",
       "      <td>Aditya_2018-08-19_23_5</td>\n",
       "      <td>1</td>\n",
       "      <td>2</td>\n",
       "      <td>2018-08-19 02:01:23</td>\n",
       "      <td>4</td>\n",
       "      <td>2018-08-19 02:01:23</td>\n",
       "      <td>9</td>\n",
       "      <td>2</td>\n",
       "      <td>P</td>\n",
       "      <td>0</td>\n",
       "      <td>NaN</td>\n",
       "      <td>Lasting only for a few frames after the buffer...</td>\n",
       "      <td>NaN</td>\n",
       "      <td>Aditya</td>\n",
       "    </tr>\n",
       "  </tbody>\n",
       "</table>\n",
       "</div>"
      ],
      "text/plain": [
       "                                          video_path           annotation_id  \\\n",
       "0  OrlovaChukaDome_02_20180819_02.00.00-03.00.00[...  Aditya_2018-08-19_23_1   \n",
       "1  OrlovaChukaDome_02_20180819_02.00.00-03.00.00[...  Aditya_2018-08-19_23_2   \n",
       "2  OrlovaChukaDome_02_20180819_02.00.00-03.00.00[...  Aditya_2018-08-19_23_3   \n",
       "3  OrlovaChukaDome_02_20180819_02.00.00-03.00.00[...  Aditya_2018-08-19_23_4   \n",
       "4  OrlovaChukaDome_02_20180819_02.00.00-03.00.00[...  Aditya_2018-08-19_23_5   \n",
       "\n",
       "   Sampling minute  timestamp from camera      start_timestamp  \\\n",
       "0                0                      2  2018-08-19 02:00:11   \n",
       "1                1                      2  2018-08-19 02:01:06   \n",
       "2                1                      2  2018-08-19 02:01:21   \n",
       "3                1                      2  2018-08-19 02:01:22   \n",
       "4                1                      2  2018-08-19 02:01:23   \n",
       "\n",
       "   start_framenumber        end_timestamp  end_framenumber  \\\n",
       "0                 20  2018-08-19 02:00:12               15   \n",
       "1                  6  2018-08-19 02:01:06               17   \n",
       "2                 17  2018-08-19 02:01:22                6   \n",
       "3                 13  2018-08-19 02:01:22               19   \n",
       "4                  4  2018-08-19 02:01:23                9   \n",
       "\n",
       "   no. of flying bats bat behaviour  strength (1 - strong, 0-weak)  \\\n",
       "0                   1           NaN                              0   \n",
       "1                   1           NaN                              1   \n",
       "2                   1           NaN                              1   \n",
       "3                   2             T                              1   \n",
       "4                   2             P                              0   \n",
       "\n",
       "  weak in (Behaviour Be, Number Bn)  \\\n",
       "0                               NaN   \n",
       "1                               NaN   \n",
       "2                               NaN   \n",
       "3                               NaN   \n",
       "4                               NaN   \n",
       "\n",
       "                                            Comments  Details on the comment  \\\n",
       "0  The bat has exited only out of the camera view...                     NaN   \n",
       "1                                                NaN                     NaN   \n",
       "2                                                NaN                     NaN   \n",
       "3                                                NaN                     NaN   \n",
       "4  Lasting only for a few frames after the buffer...                     NaN   \n",
       "\n",
       "  annotator  \n",
       "0    Aditya  \n",
       "1    Aditya  \n",
       "2    Aditya  \n",
       "3    Aditya  \n",
       "4    Aditya  "
      ]
     },
     "execution_count": 11,
     "metadata": {},
     "output_type": "execute_result"
    }
   ],
   "source": [
    "annots_w_bats.head()"
   ]
  },
  {
   "cell_type": "markdown",
   "metadata": {},
   "source": [
    "### Carrying out the common-fps conversion:\n"
   ]
  },
  {
   "cell_type": "code",
   "execution_count": 12,
   "metadata": {},
   "outputs": [],
   "source": [
    "# load the video sync file with corrected timestamps\n",
    "video_sync_file = 'videosync_OrlovaChukaDome_01_20180819_02.00.00-03.00.00[R][@3514][1].aviw_suggestions_[timestamp_corrected]_[signal_checked].csv'\n",
    "path_to_videosync = os.path.join('raw_sync',\n",
    "                                 video_sync_file)\n",
    "video_sync = pd.read_csv(path_to_videosync)"
   ]
  },
  {
   "cell_type": "code",
   "execution_count": 13,
   "metadata": {},
   "outputs": [
    {
     "data": {
      "text/html": [
       "<div>\n",
       "<style scoped>\n",
       "    .dataframe tbody tr th:only-of-type {\n",
       "        vertical-align: middle;\n",
       "    }\n",
       "\n",
       "    .dataframe tbody tr th {\n",
       "        vertical-align: top;\n",
       "    }\n",
       "\n",
       "    .dataframe thead th {\n",
       "        text-align: right;\n",
       "    }\n",
       "</style>\n",
       "<table border=\"1\" class=\"dataframe\">\n",
       "  <thead>\n",
       "    <tr style=\"text-align: right;\">\n",
       "      <th></th>\n",
       "      <th>Unnamed: 0</th>\n",
       "      <th>frame_number</th>\n",
       "      <th>led_intensity</th>\n",
       "      <th>timestamp</th>\n",
       "      <th>timestamp_verified</th>\n",
       "      <th>user_suggestion</th>\n",
       "    </tr>\n",
       "  </thead>\n",
       "  <tbody>\n",
       "    <tr>\n",
       "      <th>0</th>\n",
       "      <td>0</td>\n",
       "      <td>1</td>\n",
       "      <td>0.722407</td>\n",
       "      <td>2018-08-19 02:00:00</td>\n",
       "      <td>2018-08-19 02:00:00</td>\n",
       "      <td>maybeokay</td>\n",
       "    </tr>\n",
       "    <tr>\n",
       "      <th>1</th>\n",
       "      <td>1</td>\n",
       "      <td>2</td>\n",
       "      <td>0.756906</td>\n",
       "      <td>2018-08-19 02:00:00</td>\n",
       "      <td>2018-08-19 02:00:00</td>\n",
       "      <td>maybeokay</td>\n",
       "    </tr>\n",
       "    <tr>\n",
       "      <th>2</th>\n",
       "      <td>2</td>\n",
       "      <td>3</td>\n",
       "      <td>0.756906</td>\n",
       "      <td>2018-08-19 02:00:00</td>\n",
       "      <td>2018-08-19 02:00:00</td>\n",
       "      <td>maybeokay</td>\n",
       "    </tr>\n",
       "    <tr>\n",
       "      <th>3</th>\n",
       "      <td>3</td>\n",
       "      <td>4</td>\n",
       "      <td>0.756906</td>\n",
       "      <td>2018-08-19 02:00:00</td>\n",
       "      <td>2018-08-19 02:00:00</td>\n",
       "      <td>maybeokay</td>\n",
       "    </tr>\n",
       "    <tr>\n",
       "      <th>4</th>\n",
       "      <td>4</td>\n",
       "      <td>5</td>\n",
       "      <td>0.756906</td>\n",
       "      <td>2018-08-19 02:00:00</td>\n",
       "      <td>2018-08-19 02:00:00</td>\n",
       "      <td>maybeokay</td>\n",
       "    </tr>\n",
       "  </tbody>\n",
       "</table>\n",
       "</div>"
      ],
      "text/plain": [
       "   Unnamed: 0  frame_number  led_intensity            timestamp  \\\n",
       "0           0             1       0.722407  2018-08-19 02:00:00   \n",
       "1           1             2       0.756906  2018-08-19 02:00:00   \n",
       "2           2             3       0.756906  2018-08-19 02:00:00   \n",
       "3           3             4       0.756906  2018-08-19 02:00:00   \n",
       "4           4             5       0.756906  2018-08-19 02:00:00   \n",
       "\n",
       "    timestamp_verified user_suggestion  \n",
       "0  2018-08-19 02:00:00       maybeokay  \n",
       "1  2018-08-19 02:00:00       maybeokay  \n",
       "2  2018-08-19 02:00:00       maybeokay  \n",
       "3  2018-08-19 02:00:00       maybeokay  \n",
       "4  2018-08-19 02:00:00       maybeokay  "
      ]
     },
     "execution_count": 13,
     "metadata": {},
     "output_type": "execute_result"
    }
   ],
   "source": [
    "video_sync.head()"
   ]
  },
  {
   "cell_type": "code",
   "execution_count": 14,
   "metadata": {
    "scrolled": true
   },
   "outputs": [
    {
     "name": "stderr",
     "output_type": "stream",
     "text": [
      "0it [00:00, ?it/s]../../../bin/process_video_annotations.py:389: UserWarning: Some timestamps below min fps!\n",
      "  warnings.warn('Some timestamps below min fps!')\n",
      "../../../bin/process_video_annotations.py:310: UserWarning: FPS fell below the minimum required - ignoring this annotation\n",
      "  warnings.warn('FPS fell below the minimum required - ignoring this annotation')\n",
      "../../../bin/process_video_annotations.py:115: UserWarning: could not bring above annotation to common fps,                      please check a) if the corresponding audio file is present                        b) if the ON/OFF of the light signal is clean                           \n",
      "  ')\n",
      "1it [00:04,  4.66s/it]"
     ]
    },
    {
     "name": "stdout",
     "output_type": "stream",
     "text": [
      "('timestamps below min fps: ', array(['2018-08-19 02:00:53'], dtype=object))\n",
      "video_path                           OrlovaChukaDome_02_20180819_02.00.00-03.00.00[...\n",
      "annotation_id                                                   Aditya_2018-08-19_23_1\n",
      "Sampling minute                                                                      0\n",
      "timestamp from camera                                                                2\n",
      "start_timestamp                                                    2018-08-19 02:00:11\n",
      "start_framenumber                                                                   20\n",
      "end_timestamp                                                      2018-08-19 02:00:12\n",
      "end_framenumber                                                                     15\n",
      "no. of flying bats                                                                   1\n",
      "bat behaviour                                                                      NaN\n",
      "strength (1 - strong, 0-weak)                                                        0\n",
      "weak in (Behaviour Be, Number Bn)                                                  NaN\n",
      "Comments                             The bat has exited only out of the camera view...\n",
      "Details on the comment                                                             NaN\n",
      "annotator                                                                       Aditya\n",
      "Name: 0, dtype: object\n",
      "video_path                           OrlovaChukaDome_02_20180819_02.00.00-03.00.00[...\n",
      "annotation_id                                                   Aditya_2018-08-19_23_1\n",
      "Sampling minute                                                                      0\n",
      "timestamp from camera                                                                2\n",
      "start_timestamp                                                    2018-08-19 02:00:11\n",
      "start_framenumber                                                                   20\n",
      "end_timestamp                                                      2018-08-19 02:00:12\n",
      "end_framenumber                                                                     15\n",
      "no. of flying bats                                                                   1\n",
      "bat behaviour                                                                      NaN\n",
      "strength (1 - strong, 0-weak)                                                        0\n",
      "weak in (Behaviour Be, Number Bn)                                                  NaN\n",
      "Comments                             The bat has exited only out of the camera view...\n",
      "Details on the comment                                                             NaN\n",
      "annotator                                                                       Aditya\n",
      "Name: 0, dtype: object\n"
     ]
    },
    {
     "name": "stderr",
     "output_type": "stream",
     "text": [
      "/home/tbeleyur/anaconda2/envs/horseshoebat/lib/python2.7/site-packages/scipy/signal/signaltools.py:2223: FutureWarning: Using a non-tuple sequence for multidimensional indexing is deprecated; use `arr[tuple(seq)]` instead of `arr[seq]`. In the future this will be interpreted as an array index, `arr[np.array(seq)]`, which will result either in an error or a different result.\n",
      "  Y[sl] = X[sl]\n",
      "/home/tbeleyur/anaconda2/envs/horseshoebat/lib/python2.7/site-packages/scipy/signal/signaltools.py:2225: FutureWarning: Using a non-tuple sequence for multidimensional indexing is deprecated; use `arr[tuple(seq)]` instead of `arr[seq]`. In the future this will be interpreted as an array index, `arr[np.array(seq)]`, which will result either in an error or a different result.\n",
      "  Y[sl] = X[sl]\n",
      "/home/tbeleyur/anaconda2/envs/horseshoebat/lib/python2.7/site-packages/scipy/signal/signaltools.py:2233: FutureWarning: Using a non-tuple sequence for multidimensional indexing is deprecated; use `arr[tuple(seq)]` instead of `arr[seq]`. In the future this will be interpreted as an array index, `arr[np.array(seq)]`, which will result either in an error or a different result.\n",
      "  Y[sl] /= 2  # halve the component at -N/2\n",
      "/home/tbeleyur/anaconda2/envs/horseshoebat/lib/python2.7/site-packages/scipy/signal/signaltools.py:2234: FutureWarning: Using a non-tuple sequence for multidimensional indexing is deprecated; use `arr[tuple(seq)]` instead of `arr[seq]`. In the future this will be interpreted as an array index, `arr[np.array(seq)]`, which will result either in an error or a different result.\n",
      "  temp = Y[sl]\n",
      "/home/tbeleyur/anaconda2/envs/horseshoebat/lib/python2.7/site-packages/scipy/signal/signaltools.py:2236: FutureWarning: Using a non-tuple sequence for multidimensional indexing is deprecated; use `arr[tuple(seq)]` instead of `arr[seq]`. In the future this will be interpreted as an array index, `arr[np.array(seq)]`, which will result either in an error or a different result.\n",
      "  Y[sl] = temp  # set that equal to the component at -N/2\n",
      "2it [00:11,  5.37s/it]"
     ]
    },
    {
     "name": "stdout",
     "output_type": "stream",
     "text": [
      "Saved annotation :Aditya_2018-08-19_23_2\n"
     ]
    },
    {
     "name": "stderr",
     "output_type": "stream",
     "text": [
      "\r",
      "3it [00:18,  5.94s/it]"
     ]
    },
    {
     "name": "stdout",
     "output_type": "stream",
     "text": [
      "Saved annotation :Aditya_2018-08-19_23_3\n"
     ]
    },
    {
     "name": "stderr",
     "output_type": "stream",
     "text": [
      "\r",
      "4it [00:25,  6.25s/it]"
     ]
    },
    {
     "name": "stdout",
     "output_type": "stream",
     "text": [
      "Saved annotation :Aditya_2018-08-19_23_4\n"
     ]
    },
    {
     "name": "stderr",
     "output_type": "stream",
     "text": [
      "\r",
      "5it [00:32,  6.45s/it]"
     ]
    },
    {
     "name": "stdout",
     "output_type": "stream",
     "text": [
      "Saved annotation :Aditya_2018-08-19_23_5\n"
     ]
    },
    {
     "name": "stderr",
     "output_type": "stream",
     "text": [
      "\r",
      "6it [00:40,  6.68s/it]"
     ]
    },
    {
     "name": "stdout",
     "output_type": "stream",
     "text": [
      "Saved annotation :Aditya_2018-08-19_23_6\n"
     ]
    },
    {
     "name": "stderr",
     "output_type": "stream",
     "text": [
      "\r",
      "7it [00:44,  6.02s/it]"
     ]
    },
    {
     "name": "stdout",
     "output_type": "stream",
     "text": [
      "('timestamps below min fps: ', array(['2018-08-19 02:02:20'], dtype=object))\n",
      "video_path                           OrlovaChukaDome_02_20180819_02.00.00-03.00.00[...\n",
      "annotation_id                                                   Aditya_2018-08-19_23_7\n",
      "Sampling minute                                                                      1\n",
      "timestamp from camera                                                                2\n",
      "start_timestamp                                                    2018-08-19 02:01:41\n",
      "start_framenumber                                                                    9\n",
      "end_timestamp                                                      2018-08-19 02:01:42\n",
      "end_framenumber                                                                     17\n",
      "no. of flying bats                                                                   1\n",
      "bat behaviour                                                                      NaN\n",
      "strength (1 - strong, 0-weak)                                                        1\n",
      "weak in (Behaviour Be, Number Bn)                                                  NaN\n",
      "Comments                                                                           NaN\n",
      "Details on the comment                                                             NaN\n",
      "annotator                                                                       Aditya\n",
      "Name: 6, dtype: object\n",
      "video_path                           OrlovaChukaDome_02_20180819_02.00.00-03.00.00[...\n",
      "annotation_id                                                   Aditya_2018-08-19_23_7\n",
      "Sampling minute                                                                      1\n",
      "timestamp from camera                                                                2\n",
      "start_timestamp                                                    2018-08-19 02:01:41\n",
      "start_framenumber                                                                    9\n",
      "end_timestamp                                                      2018-08-19 02:01:42\n",
      "end_framenumber                                                                     17\n",
      "no. of flying bats                                                                   1\n",
      "bat behaviour                                                                      NaN\n",
      "strength (1 - strong, 0-weak)                                                        1\n",
      "weak in (Behaviour Be, Number Bn)                                                  NaN\n",
      "Comments                                                                           NaN\n",
      "Details on the comment                                                             NaN\n",
      "annotator                                                                       Aditya\n",
      "Name: 6, dtype: object\n"
     ]
    },
    {
     "name": "stderr",
     "output_type": "stream",
     "text": [
      "\r",
      "8it [00:48,  5.53s/it]"
     ]
    },
    {
     "name": "stdout",
     "output_type": "stream",
     "text": [
      "('timestamps below min fps: ', array(['2018-08-19 02:02:20', '2018-08-19 02:02:30'], dtype=object))\n",
      "video_path                           OrlovaChukaDome_02_20180819_02.00.00-03.00.00[...\n",
      "annotation_id                                                   Aditya_2018-08-19_23_8\n",
      "Sampling minute                                                                      2\n",
      "timestamp from camera                                                                2\n",
      "start_timestamp                                                    2018-08-19 02:02:05\n",
      "start_framenumber                                                                   16\n",
      "end_timestamp                                                      2018-08-19 02:02:08\n",
      "end_framenumber                                                                      5\n",
      "no. of flying bats                                                                   1\n",
      "bat behaviour                                                                      NaN\n",
      "strength (1 - strong, 0-weak)                                                        1\n",
      "weak in (Behaviour Be, Number Bn)                                                  NaN\n",
      "Comments                                                                           NaN\n",
      "Details on the comment                                                             NaN\n",
      "annotator                                                                       Aditya\n",
      "Name: 7, dtype: object\n",
      "video_path                           OrlovaChukaDome_02_20180819_02.00.00-03.00.00[...\n",
      "annotation_id                                                   Aditya_2018-08-19_23_8\n",
      "Sampling minute                                                                      2\n",
      "timestamp from camera                                                                2\n",
      "start_timestamp                                                    2018-08-19 02:02:05\n",
      "start_framenumber                                                                   16\n",
      "end_timestamp                                                      2018-08-19 02:02:08\n",
      "end_framenumber                                                                      5\n",
      "no. of flying bats                                                                   1\n",
      "bat behaviour                                                                      NaN\n",
      "strength (1 - strong, 0-weak)                                                        1\n",
      "weak in (Behaviour Be, Number Bn)                                                  NaN\n",
      "Comments                                                                           NaN\n",
      "Details on the comment                                                             NaN\n",
      "annotator                                                                       Aditya\n",
      "Name: 7, dtype: object\n"
     ]
    },
    {
     "name": "stderr",
     "output_type": "stream",
     "text": [
      "\r",
      "9it [00:53,  5.19s/it]"
     ]
    },
    {
     "name": "stdout",
     "output_type": "stream",
     "text": [
      "('timestamps below min fps: ', array(['2018-08-19 02:02:20', '2018-08-19 02:02:30'], dtype=object))\n",
      "video_path                           OrlovaChukaDome_02_20180819_02.00.00-03.00.00[...\n",
      "annotation_id                                                   Aditya_2018-08-19_23_9\n",
      "Sampling minute                                                                      2\n",
      "timestamp from camera                                                                2\n",
      "start_timestamp                                                    2018-08-19 02:02:10\n",
      "start_framenumber                                                                    5\n",
      "end_timestamp                                                      2018-08-19 02:02:10\n",
      "end_framenumber                                                                     15\n",
      "no. of flying bats                                                                   1\n",
      "bat behaviour                                                                      NaN\n",
      "strength (1 - strong, 0-weak)                                                        1\n",
      "weak in (Behaviour Be, Number Bn)                                                  NaN\n",
      "Comments                                                                           NaN\n",
      "Details on the comment                                                             NaN\n",
      "annotator                                                                       Aditya\n",
      "Name: 8, dtype: object\n",
      "video_path                           OrlovaChukaDome_02_20180819_02.00.00-03.00.00[...\n",
      "annotation_id                                                   Aditya_2018-08-19_23_9\n",
      "Sampling minute                                                                      2\n",
      "timestamp from camera                                                                2\n",
      "start_timestamp                                                    2018-08-19 02:02:10\n",
      "start_framenumber                                                                    5\n",
      "end_timestamp                                                      2018-08-19 02:02:10\n",
      "end_framenumber                                                                     15\n",
      "no. of flying bats                                                                   1\n",
      "bat behaviour                                                                      NaN\n",
      "strength (1 - strong, 0-weak)                                                        1\n",
      "weak in (Behaviour Be, Number Bn)                                                  NaN\n",
      "Comments                                                                           NaN\n",
      "Details on the comment                                                             NaN\n",
      "annotator                                                                       Aditya\n",
      "Name: 8, dtype: object\n"
     ]
    },
    {
     "name": "stderr",
     "output_type": "stream",
     "text": [
      "\r",
      "10it [00:57,  4.99s/it]"
     ]
    },
    {
     "name": "stdout",
     "output_type": "stream",
     "text": [
      "('timestamps below min fps: ', array(['2018-08-19 02:02:20', '2018-08-19 02:02:30'], dtype=object))\n",
      "video_path                           OrlovaChukaDome_02_20180819_02.00.00-03.00.00[...\n",
      "annotation_id                                                  Aditya_2018-08-19_23_10\n",
      "Sampling minute                                                                      2\n",
      "timestamp from camera                                                                2\n",
      "start_timestamp                                                    2018-08-19 02:02:10\n",
      "start_framenumber                                                                   22\n",
      "end_timestamp                                                      2018-08-19 02:02:10\n",
      "end_framenumber                                                                     24\n",
      "no. of flying bats                                                                   2\n",
      "bat behaviour                                                                        P\n",
      "strength (1 - strong, 0-weak)                                                        0\n",
      "weak in (Behaviour Be, Number Bn)                                                  NaN\n",
      "Comments                             Lasting only for a few frames after the buffer...\n",
      "Details on the comment                                                             NaN\n",
      "annotator                                                                       Aditya\n",
      "Name: 9, dtype: object\n",
      "video_path                           OrlovaChukaDome_02_20180819_02.00.00-03.00.00[...\n",
      "annotation_id                                                  Aditya_2018-08-19_23_10\n",
      "Sampling minute                                                                      2\n",
      "timestamp from camera                                                                2\n",
      "start_timestamp                                                    2018-08-19 02:02:10\n",
      "start_framenumber                                                                   22\n",
      "end_timestamp                                                      2018-08-19 02:02:10\n",
      "end_framenumber                                                                     24\n",
      "no. of flying bats                                                                   2\n",
      "bat behaviour                                                                        P\n",
      "strength (1 - strong, 0-weak)                                                        0\n",
      "weak in (Behaviour Be, Number Bn)                                                  NaN\n",
      "Comments                             Lasting only for a few frames after the buffer...\n",
      "Details on the comment                                                             NaN\n",
      "annotator                                                                       Aditya\n",
      "Name: 9, dtype: object\n"
     ]
    },
    {
     "name": "stderr",
     "output_type": "stream",
     "text": [
      "\r",
      "11it [01:02,  5.01s/it]"
     ]
    },
    {
     "name": "stdout",
     "output_type": "stream",
     "text": [
      "('timestamps below min fps: ', array(['2018-08-19 02:02:30'], dtype=object))\n",
      "video_path                           OrlovaChukaDome_02_20180819_02.00.00-03.00.00[...\n",
      "annotation_id                                                  Aditya_2018-08-19_23_11\n",
      "Sampling minute                                                                      2\n",
      "timestamp from camera                                                                2\n",
      "start_timestamp                                                    2018-08-19 02:02:22\n",
      "start_framenumber                                                                   17\n",
      "end_timestamp                                                      2018-08-19 02:02:22\n",
      "end_framenumber                                                                     24\n",
      "no. of flying bats                                                                   1\n",
      "bat behaviour                                                                      NaN\n",
      "strength (1 - strong, 0-weak)                                                        1\n",
      "weak in (Behaviour Be, Number Bn)                                                  NaN\n",
      "Comments                             There is a 2 bat situation happening very brie...\n",
      "Details on the comment                                                             NaN\n",
      "annotator                                                                       Aditya\n",
      "Name: 10, dtype: object\n",
      "video_path                           OrlovaChukaDome_02_20180819_02.00.00-03.00.00[...\n",
      "annotation_id                                                  Aditya_2018-08-19_23_11\n",
      "Sampling minute                                                                      2\n",
      "timestamp from camera                                                                2\n",
      "start_timestamp                                                    2018-08-19 02:02:22\n",
      "start_framenumber                                                                   17\n",
      "end_timestamp                                                      2018-08-19 02:02:22\n",
      "end_framenumber                                                                     24\n",
      "no. of flying bats                                                                   1\n",
      "bat behaviour                                                                      NaN\n",
      "strength (1 - strong, 0-weak)                                                        1\n",
      "weak in (Behaviour Be, Number Bn)                                                  NaN\n",
      "Comments                             There is a 2 bat situation happening very brie...\n",
      "Details on the comment                                                             NaN\n",
      "annotator                                                                       Aditya\n",
      "Name: 10, dtype: object\n"
     ]
    },
    {
     "name": "stderr",
     "output_type": "stream",
     "text": [
      "\r",
      "12it [01:10,  5.72s/it]"
     ]
    },
    {
     "name": "stdout",
     "output_type": "stream",
     "text": [
      "Saved annotation :Aditya_2018-08-19_23_12\n"
     ]
    },
    {
     "name": "stderr",
     "output_type": "stream",
     "text": [
      "\r",
      "13it [01:17,  6.15s/it]"
     ]
    },
    {
     "name": "stdout",
     "output_type": "stream",
     "text": [
      "Unable to process annotation: Aditya_2018-08-19_23_13\n"
     ]
    },
    {
     "name": "stderr",
     "output_type": "stream",
     "text": [
      "\r",
      "14it [01:25,  6.81s/it]"
     ]
    },
    {
     "name": "stdout",
     "output_type": "stream",
     "text": [
      "Saved annotation :Aditya_2018-08-19_23_14\n"
     ]
    },
    {
     "name": "stderr",
     "output_type": "stream",
     "text": [
      "\r",
      "15it [01:32,  6.82s/it]"
     ]
    },
    {
     "name": "stdout",
     "output_type": "stream",
     "text": [
      "Saved annotation :Aditya_2018-08-19_23_15\n"
     ]
    },
    {
     "name": "stderr",
     "output_type": "stream",
     "text": [
      "\r",
      "16it [01:40,  7.05s/it]"
     ]
    },
    {
     "name": "stdout",
     "output_type": "stream",
     "text": [
      "Saved annotation :Aditya_2018-08-19_23_16\n"
     ]
    },
    {
     "name": "stderr",
     "output_type": "stream",
     "text": [
      "\r",
      "17it [01:47,  7.12s/it]"
     ]
    },
    {
     "name": "stdout",
     "output_type": "stream",
     "text": [
      "Saved annotation :Aditya_2018-08-19_23_17\n"
     ]
    },
    {
     "name": "stderr",
     "output_type": "stream",
     "text": [
      "\r",
      "18it [01:54,  7.05s/it]"
     ]
    },
    {
     "name": "stdout",
     "output_type": "stream",
     "text": [
      "Saved annotation :Aditya_2018-08-19_23_18\n"
     ]
    },
    {
     "name": "stderr",
     "output_type": "stream",
     "text": [
      "\r",
      "19it [02:01,  7.09s/it]"
     ]
    },
    {
     "name": "stdout",
     "output_type": "stream",
     "text": [
      "Saved annotation :Aditya_2018-08-19_23_19\n"
     ]
    },
    {
     "name": "stderr",
     "output_type": "stream",
     "text": [
      "\r",
      "20it [02:06,  6.36s/it]"
     ]
    },
    {
     "name": "stdout",
     "output_type": "stream",
     "text": [
      "('timestamps below min fps: ', array(['2018-08-19 02:05:25'], dtype=object))\n",
      "video_path                           OrlovaChukaDome_02_20180819_02.00.00-03.00.00[...\n",
      "annotation_id                                                  Aditya_2018-08-19_23_20\n",
      "Sampling minute                                                                      4\n",
      "timestamp from camera                                                                2\n",
      "start_timestamp                                                    2018-08-19 02:04:41\n",
      "start_framenumber                                                                    8\n",
      "end_timestamp                                                      2018-08-19 02:04:42\n",
      "end_framenumber                                                                      5\n",
      "no. of flying bats                                                                   1\n",
      "bat behaviour                                                                      NaN\n",
      "strength (1 - strong, 0-weak)                                                        1\n",
      "weak in (Behaviour Be, Number Bn)                                                  NaN\n",
      "Comments                                                                           NaN\n",
      "Details on the comment                                                             NaN\n",
      "annotator                                                                       Aditya\n",
      "Name: 19, dtype: object\n",
      "video_path                           OrlovaChukaDome_02_20180819_02.00.00-03.00.00[...\n",
      "annotation_id                                                  Aditya_2018-08-19_23_20\n",
      "Sampling minute                                                                      4\n",
      "timestamp from camera                                                                2\n",
      "start_timestamp                                                    2018-08-19 02:04:41\n",
      "start_framenumber                                                                    8\n",
      "end_timestamp                                                      2018-08-19 02:04:42\n",
      "end_framenumber                                                                      5\n",
      "no. of flying bats                                                                   1\n",
      "bat behaviour                                                                      NaN\n",
      "strength (1 - strong, 0-weak)                                                        1\n",
      "weak in (Behaviour Be, Number Bn)                                                  NaN\n",
      "Comments                                                                           NaN\n",
      "Details on the comment                                                             NaN\n",
      "annotator                                                                       Aditya\n",
      "Name: 19, dtype: object\n"
     ]
    },
    {
     "name": "stderr",
     "output_type": "stream",
     "text": [
      "\r",
      "21it [02:10,  5.85s/it]"
     ]
    },
    {
     "name": "stdout",
     "output_type": "stream",
     "text": [
      "('timestamps below min fps: ', array(['2018-08-19 02:05:47', '2018-08-19 02:06:01'], dtype=object))\n",
      "video_path                           OrlovaChukaDome_02_20180819_02.00.00-03.00.00[...\n",
      "annotation_id                                                  Aditya_2018-08-19_23_21\n",
      "Sampling minute                                                                      5\n",
      "timestamp from camera                                                                2\n",
      "start_timestamp                                                    2018-08-19 02:05:31\n",
      "start_framenumber                                                                    2\n",
      "end_timestamp                                                      2018-08-19 02:05:36\n",
      "end_framenumber                                                                     20\n",
      "no. of flying bats                                                                   1\n",
      "bat behaviour                                                                      NaN\n",
      "strength (1 - strong, 0-weak)                                                        1\n",
      "weak in (Behaviour Be, Number Bn)                                                  NaN\n",
      "Comments                                                                           NaN\n",
      "Details on the comment                                                             NaN\n",
      "annotator                                                                       Aditya\n",
      "Name: 20, dtype: object\n",
      "video_path                           OrlovaChukaDome_02_20180819_02.00.00-03.00.00[...\n",
      "annotation_id                                                  Aditya_2018-08-19_23_21\n",
      "Sampling minute                                                                      5\n",
      "timestamp from camera                                                                2\n",
      "start_timestamp                                                    2018-08-19 02:05:31\n",
      "start_framenumber                                                                    2\n",
      "end_timestamp                                                      2018-08-19 02:05:36\n",
      "end_framenumber                                                                     20\n",
      "no. of flying bats                                                                   1\n",
      "bat behaviour                                                                      NaN\n",
      "strength (1 - strong, 0-weak)                                                        1\n",
      "weak in (Behaviour Be, Number Bn)                                                  NaN\n",
      "Comments                                                                           NaN\n",
      "Details on the comment                                                             NaN\n",
      "annotator                                                                       Aditya\n",
      "Name: 20, dtype: object\n"
     ]
    },
    {
     "name": "stderr",
     "output_type": "stream",
     "text": [
      "\r",
      "22it [02:15,  5.54s/it]"
     ]
    },
    {
     "name": "stdout",
     "output_type": "stream",
     "text": [
      "('timestamps below min fps: ', array(['2018-08-19 02:06:01', '2018-08-19 02:06:22'], dtype=object))\n",
      "video_path                           OrlovaChukaDome_02_20180819_02.00.00-03.00.00[...\n",
      "annotation_id                                                  Aditya_2018-08-19_23_22\n",
      "Sampling minute                                                                      5\n",
      "timestamp from camera                                                                2\n",
      "start_timestamp                                                    2018-08-19 02:05:50\n",
      "start_framenumber                                                                   21\n",
      "end_timestamp                                                      2018-08-19 02:05:58\n",
      "end_framenumber                                                                      2\n",
      "no. of flying bats                                                                   1\n",
      "bat behaviour                                                                      NaN\n",
      "strength (1 - strong, 0-weak)                                                        1\n",
      "weak in (Behaviour Be, Number Bn)                                                  NaN\n",
      "Comments                                                                           NaN\n",
      "Details on the comment                                                             NaN\n",
      "annotator                                                                       Aditya\n",
      "Name: 21, dtype: object\n",
      "video_path                           OrlovaChukaDome_02_20180819_02.00.00-03.00.00[...\n",
      "annotation_id                                                  Aditya_2018-08-19_23_22\n",
      "Sampling minute                                                                      5\n",
      "timestamp from camera                                                                2\n",
      "start_timestamp                                                    2018-08-19 02:05:50\n",
      "start_framenumber                                                                   21\n",
      "end_timestamp                                                      2018-08-19 02:05:58\n",
      "end_framenumber                                                                      2\n",
      "no. of flying bats                                                                   1\n",
      "bat behaviour                                                                      NaN\n",
      "strength (1 - strong, 0-weak)                                                        1\n",
      "weak in (Behaviour Be, Number Bn)                                                  NaN\n",
      "Comments                                                                           NaN\n",
      "Details on the comment                                                             NaN\n",
      "annotator                                                                       Aditya\n",
      "Name: 21, dtype: object\n"
     ]
    },
    {
     "name": "stderr",
     "output_type": "stream",
     "text": [
      "\r",
      "23it [02:20,  5.34s/it]"
     ]
    },
    {
     "name": "stdout",
     "output_type": "stream",
     "text": [
      "('timestamps below min fps: ', array(['2018-08-19 02:06:22', '2018-08-19 02:06:45'], dtype=object))\n",
      "video_path                           OrlovaChukaDome_02_20180819_02.00.00-03.00.00[...\n",
      "annotation_id                                                  Aditya_2018-08-19_23_23\n",
      "Sampling minute                                                                      6\n",
      "timestamp from camera                                                                2\n",
      "start_timestamp                                                    2018-08-19 02:06:11\n",
      "start_framenumber                                                                   10\n",
      "end_timestamp                                                      2018-08-19 02:06:12\n",
      "end_framenumber                                                                      8\n",
      "no. of flying bats                                                                   1\n",
      "bat behaviour                                                                      NaN\n",
      "strength (1 - strong, 0-weak)                                                        1\n",
      "weak in (Behaviour Be, Number Bn)                                                  NaN\n",
      "Comments                                                                           NaN\n",
      "Details on the comment                                                             NaN\n",
      "annotator                                                                       Aditya\n",
      "Name: 22, dtype: object\n",
      "video_path                           OrlovaChukaDome_02_20180819_02.00.00-03.00.00[...\n",
      "annotation_id                                                  Aditya_2018-08-19_23_23\n",
      "Sampling minute                                                                      6\n",
      "timestamp from camera                                                                2\n",
      "start_timestamp                                                    2018-08-19 02:06:11\n",
      "start_framenumber                                                                   10\n",
      "end_timestamp                                                      2018-08-19 02:06:12\n",
      "end_framenumber                                                                      8\n",
      "no. of flying bats                                                                   1\n",
      "bat behaviour                                                                      NaN\n",
      "strength (1 - strong, 0-weak)                                                        1\n",
      "weak in (Behaviour Be, Number Bn)                                                  NaN\n",
      "Comments                                                                           NaN\n",
      "Details on the comment                                                             NaN\n",
      "annotator                                                                       Aditya\n",
      "Name: 22, dtype: object\n"
     ]
    },
    {
     "name": "stderr",
     "output_type": "stream",
     "text": [
      "\r",
      "24it [02:25,  5.10s/it]"
     ]
    },
    {
     "name": "stdout",
     "output_type": "stream",
     "text": [
      "('timestamps below min fps: ', array(['2018-08-19 02:06:45'], dtype=object))\n",
      "video_path                           OrlovaChukaDome_02_20180819_02.00.00-03.00.00[...\n",
      "annotation_id                                                  Aditya_2018-08-19_23_24\n",
      "Sampling minute                                                                      6\n",
      "timestamp from camera                                                                2\n",
      "start_timestamp                                                    2018-08-19 02:06:23\n",
      "start_framenumber                                                                   23\n",
      "end_timestamp                                                      2018-08-19 02:06:24\n",
      "end_framenumber                                                                      7\n",
      "no. of flying bats                                                                   1\n",
      "bat behaviour                                                                      NaN\n",
      "strength (1 - strong, 0-weak)                                                        1\n",
      "weak in (Behaviour Be, Number Bn)                                                  NaN\n",
      "Comments                                                                           NaN\n",
      "Details on the comment                                                             NaN\n",
      "annotator                                                                       Aditya\n",
      "Name: 23, dtype: object\n",
      "video_path                           OrlovaChukaDome_02_20180819_02.00.00-03.00.00[...\n",
      "annotation_id                                                  Aditya_2018-08-19_23_24\n",
      "Sampling minute                                                                      6\n",
      "timestamp from camera                                                                2\n",
      "start_timestamp                                                    2018-08-19 02:06:23\n",
      "start_framenumber                                                                   23\n",
      "end_timestamp                                                      2018-08-19 02:06:24\n",
      "end_framenumber                                                                      7\n",
      "no. of flying bats                                                                   1\n",
      "bat behaviour                                                                      NaN\n",
      "strength (1 - strong, 0-weak)                                                        1\n",
      "weak in (Behaviour Be, Number Bn)                                                  NaN\n",
      "Comments                                                                           NaN\n",
      "Details on the comment                                                             NaN\n",
      "annotator                                                                       Aditya\n",
      "Name: 23, dtype: object\n"
     ]
    },
    {
     "name": "stderr",
     "output_type": "stream",
     "text": [
      "\r",
      "25it [02:29,  5.02s/it]"
     ]
    },
    {
     "name": "stdout",
     "output_type": "stream",
     "text": [
      "('timestamps below min fps: ', array(['2018-08-19 02:06:45'], dtype=object))\n",
      "video_path                           OrlovaChukaDome_02_20180819_02.00.00-03.00.00[...\n",
      "annotation_id                                                  Aditya_2018-08-19_23_25\n",
      "Sampling minute                                                                      6\n",
      "timestamp from camera                                                                2\n",
      "start_timestamp                                                    2018-08-19 02:06:24\n",
      "start_framenumber                                                                   14\n",
      "end_timestamp                                                      2018-08-19 02:06:24\n",
      "end_framenumber                                                                     17\n",
      "no. of flying bats                                                                   2\n",
      "bat behaviour                                                                        P\n",
      "strength (1 - strong, 0-weak)                                                        0\n",
      "weak in (Behaviour Be, Number Bn)                                                  NaN\n",
      "Comments                             Lasting only for a few frames after the buffer...\n",
      "Details on the comment                                                             NaN\n",
      "annotator                                                                       Aditya\n",
      "Name: 24, dtype: object\n",
      "video_path                           OrlovaChukaDome_02_20180819_02.00.00-03.00.00[...\n",
      "annotation_id                                                  Aditya_2018-08-19_23_25\n",
      "Sampling minute                                                                      6\n",
      "timestamp from camera                                                                2\n",
      "start_timestamp                                                    2018-08-19 02:06:24\n",
      "start_framenumber                                                                   14\n",
      "end_timestamp                                                      2018-08-19 02:06:24\n",
      "end_framenumber                                                                     17\n",
      "no. of flying bats                                                                   2\n",
      "bat behaviour                                                                        P\n",
      "strength (1 - strong, 0-weak)                                                        0\n",
      "weak in (Behaviour Be, Number Bn)                                                  NaN\n",
      "Comments                             Lasting only for a few frames after the buffer...\n",
      "Details on the comment                                                             NaN\n",
      "annotator                                                                       Aditya\n",
      "Name: 24, dtype: object\n"
     ]
    },
    {
     "name": "stderr",
     "output_type": "stream",
     "text": [
      "\r",
      "26it [02:34,  4.87s/it]"
     ]
    },
    {
     "name": "stdout",
     "output_type": "stream",
     "text": [
      "('timestamps below min fps: ', array(['2018-08-19 02:06:22', '2018-08-19 02:06:45'], dtype=object))\n",
      "video_path                           OrlovaChukaDome_02_20180819_02.00.00-03.00.00[...\n",
      "annotation_id                                                  Aditya_2018-08-19_23_26\n",
      "Sampling minute                                                                      6\n",
      "timestamp from camera                                                                2\n",
      "start_timestamp                                                    2018-08-19 02:06:02\n",
      "start_framenumber                                                                   24\n",
      "end_timestamp                                                      2018-08-19 02:06:25\n",
      "end_framenumber                                                                      3\n",
      "no. of flying bats                                                                   1\n",
      "bat behaviour                                                                      NaN\n",
      "strength (1 - strong, 0-weak)                                                        0\n",
      "weak in (Behaviour Be, Number Bn)                                                  NaN\n",
      "Comments                                                                           NaN\n",
      "Details on the comment                                                             NaN\n",
      "annotator                                                                       Aditya\n",
      "Name: 25, dtype: object\n",
      "video_path                           OrlovaChukaDome_02_20180819_02.00.00-03.00.00[...\n",
      "annotation_id                                                  Aditya_2018-08-19_23_26\n",
      "Sampling minute                                                                      6\n",
      "timestamp from camera                                                                2\n",
      "start_timestamp                                                    2018-08-19 02:06:02\n",
      "start_framenumber                                                                   24\n",
      "end_timestamp                                                      2018-08-19 02:06:25\n",
      "end_framenumber                                                                      3\n",
      "no. of flying bats                                                                   1\n",
      "bat behaviour                                                                      NaN\n",
      "strength (1 - strong, 0-weak)                                                        0\n",
      "weak in (Behaviour Be, Number Bn)                                                  NaN\n",
      "Comments                                                                           NaN\n",
      "Details on the comment                                                             NaN\n",
      "annotator                                                                       Aditya\n",
      "Name: 25, dtype: object\n"
     ]
    },
    {
     "name": "stderr",
     "output_type": "stream",
     "text": [
      "\r",
      "27it [02:38,  4.75s/it]"
     ]
    },
    {
     "name": "stdout",
     "output_type": "stream",
     "text": [
      "('timestamps below min fps: ', array(['2018-08-19 02:06:45'], dtype=object))\n",
      "video_path                           OrlovaChukaDome_02_20180819_02.00.00-03.00.00[...\n",
      "annotation_id                                                  Aditya_2018-08-19_23_27\n",
      "Sampling minute                                                                      6\n",
      "timestamp from camera                                                                2\n",
      "start_timestamp                                                    2018-08-19 02:06:43\n",
      "start_framenumber                                                                    8\n",
      "end_timestamp                                                      2018-08-19 02:06:43\n",
      "end_framenumber                                                                     21\n",
      "no. of flying bats                                                                   1\n",
      "bat behaviour                                                                      NaN\n",
      "strength (1 - strong, 0-weak)                                                        1\n",
      "weak in (Behaviour Be, Number Bn)                                                  NaN\n",
      "Comments                                                                           NaN\n",
      "Details on the comment                                                             NaN\n",
      "annotator                                                                       Aditya\n",
      "Name: 26, dtype: object\n",
      "video_path                           OrlovaChukaDome_02_20180819_02.00.00-03.00.00[...\n",
      "annotation_id                                                  Aditya_2018-08-19_23_27\n",
      "Sampling minute                                                                      6\n",
      "timestamp from camera                                                                2\n",
      "start_timestamp                                                    2018-08-19 02:06:43\n",
      "start_framenumber                                                                    8\n",
      "end_timestamp                                                      2018-08-19 02:06:43\n",
      "end_framenumber                                                                     21\n",
      "no. of flying bats                                                                   1\n",
      "bat behaviour                                                                      NaN\n",
      "strength (1 - strong, 0-weak)                                                        1\n",
      "weak in (Behaviour Be, Number Bn)                                                  NaN\n",
      "Comments                                                                           NaN\n",
      "Details on the comment                                                             NaN\n",
      "annotator                                                                       Aditya\n",
      "Name: 26, dtype: object\n"
     ]
    },
    {
     "name": "stderr",
     "output_type": "stream",
     "text": [
      "\r",
      "28it [02:44,  4.91s/it]"
     ]
    },
    {
     "name": "stdout",
     "output_type": "stream",
     "text": [
      "('timestamps below min fps: ', array(['2018-08-19 02:06:45'], dtype=object))\n",
      "video_path                           OrlovaChukaDome_02_20180819_02.00.00-03.00.00[...\n",
      "annotation_id                                                  Aditya_2018-08-19_23_28\n",
      "Sampling minute                                                                      6\n",
      "timestamp from camera                                                                2\n",
      "start_timestamp                                                    2018-08-19 02:06:44\n",
      "start_framenumber                                                                    3\n",
      "end_timestamp                                                      2018-08-19 02:06:46\n",
      "end_framenumber                                                                     19\n",
      "no. of flying bats                                                                   2\n",
      "bat behaviour                                                                        T\n",
      "strength (1 - strong, 0-weak)                                                        1\n",
      "weak in (Behaviour Be, Number Bn)                                                  NaN\n",
      "Comments                                            One bat is still inside the roost.\n",
      "Details on the comment                                                             NaN\n",
      "annotator                                                                       Aditya\n",
      "Name: 27, dtype: object\n",
      "video_path                           OrlovaChukaDome_02_20180819_02.00.00-03.00.00[...\n",
      "annotation_id                                                  Aditya_2018-08-19_23_28\n",
      "Sampling minute                                                                      6\n",
      "timestamp from camera                                                                2\n",
      "start_timestamp                                                    2018-08-19 02:06:44\n",
      "start_framenumber                                                                    3\n",
      "end_timestamp                                                      2018-08-19 02:06:46\n",
      "end_framenumber                                                                     19\n",
      "no. of flying bats                                                                   2\n",
      "bat behaviour                                                                        T\n",
      "strength (1 - strong, 0-weak)                                                        1\n",
      "weak in (Behaviour Be, Number Bn)                                                  NaN\n",
      "Comments                                            One bat is still inside the roost.\n",
      "Details on the comment                                                             NaN\n",
      "annotator                                                                       Aditya\n",
      "Name: 27, dtype: object\n"
     ]
    },
    {
     "name": "stderr",
     "output_type": "stream",
     "text": [
      "\r",
      "29it [02:52,  5.81s/it]"
     ]
    },
    {
     "name": "stdout",
     "output_type": "stream",
     "text": [
      "Saved annotation :Aditya_2018-08-19_23_29\n"
     ]
    },
    {
     "name": "stderr",
     "output_type": "stream",
     "text": [
      "\r",
      "30it [02:59,  6.37s/it]"
     ]
    },
    {
     "name": "stdout",
     "output_type": "stream",
     "text": [
      "Saved annotation :Aditya_2018-08-19_23_30\n"
     ]
    },
    {
     "name": "stderr",
     "output_type": "stream",
     "text": [
      "\r",
      "31it [03:08,  6.95s/it]"
     ]
    },
    {
     "name": "stdout",
     "output_type": "stream",
     "text": [
      "Saved annotation :Aditya_2018-08-19_23_31\n"
     ]
    },
    {
     "name": "stderr",
     "output_type": "stream",
     "text": [
      "\r",
      "32it [03:15,  7.14s/it]"
     ]
    },
    {
     "name": "stdout",
     "output_type": "stream",
     "text": [
      "Saved annotation :Aditya_2018-08-19_23_32\n"
     ]
    },
    {
     "name": "stderr",
     "output_type": "stream",
     "text": [
      "\r",
      "33it [03:23,  7.29s/it]"
     ]
    },
    {
     "name": "stdout",
     "output_type": "stream",
     "text": [
      "Saved annotation :Aditya_2018-08-19_23_33\n"
     ]
    },
    {
     "name": "stderr",
     "output_type": "stream",
     "text": [
      "\r",
      "34it [03:30,  7.40s/it]"
     ]
    },
    {
     "name": "stdout",
     "output_type": "stream",
     "text": [
      "Saved annotation :Aditya_2018-08-19_23_34\n"
     ]
    },
    {
     "name": "stderr",
     "output_type": "stream",
     "text": [
      "\r",
      "35it [03:38,  7.56s/it]"
     ]
    },
    {
     "name": "stdout",
     "output_type": "stream",
     "text": [
      "Unable to process annotation: Aditya_2018-08-19_23_35\n"
     ]
    },
    {
     "name": "stderr",
     "output_type": "stream",
     "text": [
      "\r",
      "36it [03:46,  7.61s/it]"
     ]
    },
    {
     "name": "stdout",
     "output_type": "stream",
     "text": [
      "Saved annotation :Aditya_2018-08-19_23_36\n"
     ]
    },
    {
     "name": "stderr",
     "output_type": "stream",
     "text": [
      "\r",
      "37it [03:54,  7.57s/it]"
     ]
    },
    {
     "name": "stdout",
     "output_type": "stream",
     "text": [
      "Saved annotation :Aditya_2018-08-19_23_37\n"
     ]
    },
    {
     "name": "stderr",
     "output_type": "stream",
     "text": [
      "\r",
      "38it [04:01,  7.58s/it]"
     ]
    },
    {
     "name": "stdout",
     "output_type": "stream",
     "text": [
      "Saved annotation :Aditya_2018-08-19_23_38\n"
     ]
    },
    {
     "name": "stderr",
     "output_type": "stream",
     "text": [
      "\r",
      "39it [04:10,  7.91s/it]"
     ]
    },
    {
     "name": "stdout",
     "output_type": "stream",
     "text": [
      "Saved annotation :Aditya_2018-08-19_23_39\n"
     ]
    },
    {
     "name": "stderr",
     "output_type": "stream",
     "text": [
      "\r",
      "40it [04:18,  7.99s/it]"
     ]
    },
    {
     "name": "stdout",
     "output_type": "stream",
     "text": [
      "Saved annotation :Aditya_2018-08-19_23_40\n"
     ]
    },
    {
     "name": "stderr",
     "output_type": "stream",
     "text": [
      "\r",
      "41it [04:23,  7.17s/it]"
     ]
    },
    {
     "name": "stdout",
     "output_type": "stream",
     "text": [
      "('timestamps below min fps: ', array(['2018-08-19 02:08:39'], dtype=object))\n",
      "video_path                           OrlovaChukaDome_02_20180819_02.00.00-03.00.00[...\n",
      "annotation_id                                                  Aditya_2018-08-19_23_41\n",
      "Sampling minute                                                                      8\n",
      "timestamp from camera                                                                2\n",
      "start_timestamp                                                    2018-08-19 02:08:07\n",
      "start_framenumber                                                                    4\n",
      "end_timestamp                                                      2018-08-19 02:08:08\n",
      "end_framenumber                                                                      7\n",
      "no. of flying bats                                                                   1\n",
      "bat behaviour                                                                      NaN\n",
      "strength (1 - strong, 0-weak)                                                        1\n",
      "weak in (Behaviour Be, Number Bn)                                                  NaN\n",
      "Comments                                                                           NaN\n",
      "Details on the comment                                                             NaN\n",
      "annotator                                                                       Aditya\n",
      "Name: 40, dtype: object\n",
      "video_path                           OrlovaChukaDome_02_20180819_02.00.00-03.00.00[...\n",
      "annotation_id                                                  Aditya_2018-08-19_23_41\n",
      "Sampling minute                                                                      8\n",
      "timestamp from camera                                                                2\n",
      "start_timestamp                                                    2018-08-19 02:08:07\n",
      "start_framenumber                                                                    4\n",
      "end_timestamp                                                      2018-08-19 02:08:08\n",
      "end_framenumber                                                                      7\n",
      "no. of flying bats                                                                   1\n",
      "bat behaviour                                                                      NaN\n",
      "strength (1 - strong, 0-weak)                                                        1\n",
      "weak in (Behaviour Be, Number Bn)                                                  NaN\n",
      "Comments                                                                           NaN\n",
      "Details on the comment                                                             NaN\n",
      "annotator                                                                       Aditya\n",
      "Name: 40, dtype: object\n"
     ]
    },
    {
     "name": "stderr",
     "output_type": "stream",
     "text": [
      "\r",
      "42it [04:29,  6.68s/it]"
     ]
    },
    {
     "name": "stdout",
     "output_type": "stream",
     "text": [
      "('timestamps below min fps: ', array(['2018-08-19 02:08:39'], dtype=object))\n",
      "video_path                           OrlovaChukaDome_02_20180819_02.00.00-03.00.00[...\n",
      "annotation_id                                                  Aditya_2018-08-19_23_42\n",
      "Sampling minute                                                                      8\n",
      "timestamp from camera                                                                2\n",
      "start_timestamp                                                    2018-08-19 02:08:20\n",
      "start_framenumber                                                                   15\n",
      "end_timestamp                                                      2018-08-19 02:08:22\n",
      "end_framenumber                                                                     24\n",
      "no. of flying bats                                                                   1\n",
      "bat behaviour                                                                      NaN\n",
      "strength (1 - strong, 0-weak)                                                        1\n",
      "weak in (Behaviour Be, Number Bn)                                                  NaN\n",
      "Comments                                                                           NaN\n",
      "Details on the comment                                                             NaN\n",
      "annotator                                                                       Aditya\n",
      "Name: 41, dtype: object\n",
      "video_path                           OrlovaChukaDome_02_20180819_02.00.00-03.00.00[...\n",
      "annotation_id                                                  Aditya_2018-08-19_23_42\n",
      "Sampling minute                                                                      8\n",
      "timestamp from camera                                                                2\n",
      "start_timestamp                                                    2018-08-19 02:08:20\n",
      "start_framenumber                                                                   15\n",
      "end_timestamp                                                      2018-08-19 02:08:22\n",
      "end_framenumber                                                                     24\n",
      "no. of flying bats                                                                   1\n",
      "bat behaviour                                                                      NaN\n",
      "strength (1 - strong, 0-weak)                                                        1\n",
      "weak in (Behaviour Be, Number Bn)                                                  NaN\n",
      "Comments                                                                           NaN\n",
      "Details on the comment                                                             NaN\n",
      "annotator                                                                       Aditya\n",
      "Name: 41, dtype: object\n"
     ]
    },
    {
     "name": "stderr",
     "output_type": "stream",
     "text": [
      "\r",
      "43it [04:35,  6.42s/it]"
     ]
    },
    {
     "name": "stdout",
     "output_type": "stream",
     "text": [
      "('timestamps below min fps: ', array(['2018-08-19 02:08:39'], dtype=object))\n",
      "video_path                           OrlovaChukaDome_02_20180819_02.00.00-03.00.00[...\n",
      "annotation_id                                                  Aditya_2018-08-19_23_43\n",
      "Sampling minute                                                                      8\n",
      "timestamp from camera                                                                2\n",
      "start_timestamp                                                    2018-08-19 02:08:24\n",
      "start_framenumber                                                                   12\n",
      "end_timestamp                                                      2018-08-19 02:08:27\n",
      "end_framenumber                                                                      2\n",
      "no. of flying bats                                                                   1\n",
      "bat behaviour                                                                      NaN\n",
      "strength (1 - strong, 0-weak)                                                        1\n",
      "weak in (Behaviour Be, Number Bn)                                                  NaN\n",
      "Comments                                                                           NaN\n",
      "Details on the comment                                                             NaN\n",
      "annotator                                                                       Aditya\n",
      "Name: 42, dtype: object\n",
      "video_path                           OrlovaChukaDome_02_20180819_02.00.00-03.00.00[...\n",
      "annotation_id                                                  Aditya_2018-08-19_23_43\n",
      "Sampling minute                                                                      8\n",
      "timestamp from camera                                                                2\n",
      "start_timestamp                                                    2018-08-19 02:08:24\n",
      "start_framenumber                                                                   12\n",
      "end_timestamp                                                      2018-08-19 02:08:27\n",
      "end_framenumber                                                                      2\n",
      "no. of flying bats                                                                   1\n",
      "bat behaviour                                                                      NaN\n",
      "strength (1 - strong, 0-weak)                                                        1\n",
      "weak in (Behaviour Be, Number Bn)                                                  NaN\n",
      "Comments                                                                           NaN\n",
      "Details on the comment                                                             NaN\n",
      "annotator                                                                       Aditya\n",
      "Name: 42, dtype: object\n"
     ]
    },
    {
     "name": "stderr",
     "output_type": "stream",
     "text": [
      "\r",
      "44it [04:43,  6.95s/it]"
     ]
    },
    {
     "name": "stdout",
     "output_type": "stream",
     "text": [
      "Saved annotation :Aditya_2018-08-19_23_44\n"
     ]
    },
    {
     "name": "stderr",
     "output_type": "stream",
     "text": [
      "\n"
     ]
    }
   ],
   "source": [
    "kwargs = {'timestamp_pattern': '%Y-%m-%d %H:%M:%S'}\n",
    "kwargs['min_fps']= 21 # Hz\n",
    "kwargs['min_durn'] = 45.0 # seconds \n",
    "kwargs['common_fps'] = 25 # Hz\n",
    "kwargs['output_folder'] = './common_fps/Aditya_annotations/2018-08-18/'\n",
    "\n",
    "unprocessed_annotations = []\n",
    "\n",
    "for i, each_annotation in tqdm(annots_w_bats.iterrows()):\n",
    "    try:\n",
    "        success = video_sync_over_annotation_block(each_annotation,video_sync, \n",
    "                                                     **kwargs)\n",
    "    except :\n",
    "        unprocessed_annotations.append(i)\n",
    "        print('Unable to process annotation: %s'%annots_w_bats['annotation_id'][i])\n"
   ]
  },
  {
   "cell_type": "markdown",
   "metadata": {},
   "source": [
    "### Matching Audio from the common_fps files"
   ]
  },
  {
   "cell_type": "code",
   "execution_count": 15,
   "metadata": {},
   "outputs": [],
   "source": [
    "### Finding the matching audio snippet !! \n",
    "import glob \n",
    "import soundfile as sf\n",
    "from audio_for_videoannotation import match_video_sync_to_audio, search_for_best_fit\n",
    "\n",
    "#all_commonfps = glob.glob('common_fps_video_sync*') # get all the relevant common_fps_sync files\n",
    "all_commonfps = glob.glob('common_fps/Aditya_annotations/2018-08-18/common_fps_video_syncAditya_2018-08-19_23*')\n",
    "audio_folder = '/home/tbeleyur/Documents/horseshoe_bat/audio_non_spikey/2018-08-18/' # the current folder\n",
    "\n",
    "# the output folders\n",
    "audiosync_folder = './sync_audio/'\n",
    "audioannotation_folder = './annotation_audio/'\n",
    "fs = 250000 # change according to the recording sampling rate in Hz!! \n"
   ]
  },
  {
   "cell_type": "code",
   "execution_count": 16,
   "metadata": {
    "scrolled": true
   },
   "outputs": [],
   "source": [
    "all_ccs = []\n",
    "files_to_run = sorted(all_commonfps)\n",
    "\n",
    "def generate_matching_audio(each_commonfps, audio_folder, \n",
    "                           **kwargs):\n",
    "    '''\n",
    "    '''\n",
    "    print(each_commonfps)\n",
    "    try:\n",
    "        video_sync = pd.read_csv(each_commonfps)\n",
    "        best_audio, syncblock_audio, crosscoef = match_video_sync_to_audio(video_sync, audio_folder, \n",
    "                                                                           **kwargs)\n",
    "        all_ccs.append(crosscoef)\n",
    "        fname  = os.path.split(each_commonfps)[-1]\n",
    "        annotation_id = '-'.join(os.path.split(fname)[-1].split('common_fps_video_sync')[-1:])[:-4]\n",
    "\n",
    "        audiosync_folder = kwargs.get('audiosync_folder', 'sync_audio')\n",
    "        audioannotation_folder = kwargs.get('audioannotation_folder', 'annotation_audio')\n",
    "\n",
    "    \n",
    "        audio_file_base_name = annotation_id+'.WAV'\n",
    "        sf.write(audiosync_folder+'matching_sync_'+audio_file_base_name, syncblock_audio,fs)\n",
    "        sf.write(audioannotation_folder+'matching_annotaudio_'+audio_file_base_name, best_audio,fs)\n",
    "        return(True)\n",
    "    except:\n",
    "        print('Could not save ', each_commonfps)\n",
    "        return(False)\n",
    "\n"
   ]
  },
  {
   "cell_type": "code",
   "execution_count": 17,
   "metadata": {},
   "outputs": [
    {
     "data": {
      "text/plain": [
       "['/home/tbeleyur/Documents/horseshoe_bat/audio_non_spikey/2018-08-18/non_spikey_T0000822.WAV',\n",
       " '/home/tbeleyur/Documents/horseshoe_bat/audio_non_spikey/2018-08-18/non_spikey_T0000974.WAV',\n",
       " '/home/tbeleyur/Documents/horseshoe_bat/audio_non_spikey/2018-08-18/non_spikey_T0000923.WAV',\n",
       " '/home/tbeleyur/Documents/horseshoe_bat/audio_non_spikey/2018-08-18/non_spikey_T0000888.WAV',\n",
       " '/home/tbeleyur/Documents/horseshoe_bat/audio_non_spikey/2018-08-18/non_spikey_T0000851.WAV',\n",
       " '/home/tbeleyur/Documents/horseshoe_bat/audio_non_spikey/2018-08-18/non_spikey_T0000918.WAV',\n",
       " '/home/tbeleyur/Documents/horseshoe_bat/audio_non_spikey/2018-08-18/non_spikey_T0000858.WAV',\n",
       " '/home/tbeleyur/Documents/horseshoe_bat/audio_non_spikey/2018-08-18/non_spikey_T0000919.WAV',\n",
       " '/home/tbeleyur/Documents/horseshoe_bat/audio_non_spikey/2018-08-18/non_spikey_T0000984.WAV',\n",
       " '/home/tbeleyur/Documents/horseshoe_bat/audio_non_spikey/2018-08-18/non_spikey_T0000963.WAV',\n",
       " '/home/tbeleyur/Documents/horseshoe_bat/audio_non_spikey/2018-08-18/non_spikey_T0000902.WAV',\n",
       " '/home/tbeleyur/Documents/horseshoe_bat/audio_non_spikey/2018-08-18/non_spikey_T0000911.WAV',\n",
       " '/home/tbeleyur/Documents/horseshoe_bat/audio_non_spikey/2018-08-18/non_spikey_T0000959.WAV',\n",
       " '/home/tbeleyur/Documents/horseshoe_bat/audio_non_spikey/2018-08-18/non_spikey_T0000969.WAV',\n",
       " '/home/tbeleyur/Documents/horseshoe_bat/audio_non_spikey/2018-08-18/non_spikey_T0000869.WAV',\n",
       " '/home/tbeleyur/Documents/horseshoe_bat/audio_non_spikey/2018-08-18/non_spikey_T0000886.WAV',\n",
       " '/home/tbeleyur/Documents/horseshoe_bat/audio_non_spikey/2018-08-18/non_spikey_T0000949.WAV',\n",
       " '/home/tbeleyur/Documents/horseshoe_bat/audio_non_spikey/2018-08-18/non_spikey_T0000912.WAV',\n",
       " '/home/tbeleyur/Documents/horseshoe_bat/audio_non_spikey/2018-08-18/non_spikey_T0000947.WAV',\n",
       " '/home/tbeleyur/Documents/horseshoe_bat/audio_non_spikey/2018-08-18/non_spikey_T0000986.WAV',\n",
       " '/home/tbeleyur/Documents/horseshoe_bat/audio_non_spikey/2018-08-18/non_spikey_T0000903.WAV',\n",
       " '/home/tbeleyur/Documents/horseshoe_bat/audio_non_spikey/2018-08-18/non_spikey_T0000962.WAV',\n",
       " '/home/tbeleyur/Documents/horseshoe_bat/audio_non_spikey/2018-08-18/non_spikey_T0000952.WAV',\n",
       " '/home/tbeleyur/Documents/horseshoe_bat/audio_non_spikey/2018-08-18/non_spikey_T0000882.WAV',\n",
       " '/home/tbeleyur/Documents/horseshoe_bat/audio_non_spikey/2018-08-18/non_spikey_T0000839.WAV',\n",
       " '/home/tbeleyur/Documents/horseshoe_bat/audio_non_spikey/2018-08-18/non_spikey_T0000917.WAV',\n",
       " '/home/tbeleyur/Documents/horseshoe_bat/audio_non_spikey/2018-08-18/non_spikey_T0000880.WAV',\n",
       " '/home/tbeleyur/Documents/horseshoe_bat/audio_non_spikey/2018-08-18/non_spikey_T0000823.WAV',\n",
       " '/home/tbeleyur/Documents/horseshoe_bat/audio_non_spikey/2018-08-18/non_spikey_T0000931.WAV',\n",
       " '/home/tbeleyur/Documents/horseshoe_bat/audio_non_spikey/2018-08-18/non_spikey_T0000916.WAV',\n",
       " '/home/tbeleyur/Documents/horseshoe_bat/audio_non_spikey/2018-08-18/non_spikey_T0000881.WAV',\n",
       " '/home/tbeleyur/Documents/horseshoe_bat/audio_non_spikey/2018-08-18/non_spikey_T0000929.WAV',\n",
       " '/home/tbeleyur/Documents/horseshoe_bat/audio_non_spikey/2018-08-18/non_spikey_T0000956.WAV',\n",
       " '/home/tbeleyur/Documents/horseshoe_bat/audio_non_spikey/2018-08-18/non_spikey_T0000857.WAV',\n",
       " '/home/tbeleyur/Documents/horseshoe_bat/audio_non_spikey/2018-08-18/non_spikey_T0000848.WAV',\n",
       " '/home/tbeleyur/Documents/horseshoe_bat/audio_non_spikey/2018-08-18/non_spikey_T0000955.WAV',\n",
       " '/home/tbeleyur/Documents/horseshoe_bat/audio_non_spikey/2018-08-18/non_spikey_T0000920.WAV',\n",
       " '/home/tbeleyur/Documents/horseshoe_bat/audio_non_spikey/2018-08-18/non_spikey_T0000894.WAV',\n",
       " '/home/tbeleyur/Documents/horseshoe_bat/audio_non_spikey/2018-08-18/non_spikey_T0000937.WAV',\n",
       " '/home/tbeleyur/Documents/horseshoe_bat/audio_non_spikey/2018-08-18/non_spikey_T0000887.WAV',\n",
       " '/home/tbeleyur/Documents/horseshoe_bat/audio_non_spikey/2018-08-18/non_spikey_T0000909.WAV',\n",
       " '/home/tbeleyur/Documents/horseshoe_bat/audio_non_spikey/2018-08-18/non_spikey_T0000843.WAV',\n",
       " '/home/tbeleyur/Documents/horseshoe_bat/audio_non_spikey/2018-08-18/non_spikey_T0000837.WAV',\n",
       " '/home/tbeleyur/Documents/horseshoe_bat/audio_non_spikey/2018-08-18/non_spikey_T0000933.WAV',\n",
       " '/home/tbeleyur/Documents/horseshoe_bat/audio_non_spikey/2018-08-18/non_spikey_T0000864.WAV',\n",
       " '/home/tbeleyur/Documents/horseshoe_bat/audio_non_spikey/2018-08-18/non_spikey_T0000901.WAV',\n",
       " '/home/tbeleyur/Documents/horseshoe_bat/audio_non_spikey/2018-08-18/non_spikey_T0000942.WAV',\n",
       " '/home/tbeleyur/Documents/horseshoe_bat/audio_non_spikey/2018-08-18/non_spikey_T0000844.WAV',\n",
       " '/home/tbeleyur/Documents/horseshoe_bat/audio_non_spikey/2018-08-18/non_spikey_T0000936.WAV',\n",
       " '/home/tbeleyur/Documents/horseshoe_bat/audio_non_spikey/2018-08-18/non_spikey_T0000842.WAV',\n",
       " '/home/tbeleyur/Documents/horseshoe_bat/audio_non_spikey/2018-08-18/non_spikey_T0000965.WAV',\n",
       " '/home/tbeleyur/Documents/horseshoe_bat/audio_non_spikey/2018-08-18/non_spikey_T0000975.WAV',\n",
       " '/home/tbeleyur/Documents/horseshoe_bat/audio_non_spikey/2018-08-18/non_spikey_T0000821.WAV',\n",
       " '/home/tbeleyur/Documents/horseshoe_bat/audio_non_spikey/2018-08-18/non_spikey_T0000818.WAV',\n",
       " '/home/tbeleyur/Documents/horseshoe_bat/audio_non_spikey/2018-08-18/non_spikey_T0000865.WAV',\n",
       " '/home/tbeleyur/Documents/horseshoe_bat/audio_non_spikey/2018-08-18/non_spikey_T0000966.WAV',\n",
       " '/home/tbeleyur/Documents/horseshoe_bat/audio_non_spikey/2018-08-18/non_spikey_T0000817.WAV',\n",
       " '/home/tbeleyur/Documents/horseshoe_bat/audio_non_spikey/2018-08-18/non_spikey_T0000928.WAV',\n",
       " '/home/tbeleyur/Documents/horseshoe_bat/audio_non_spikey/2018-08-18/non_spikey_T0000973.WAV',\n",
       " '/home/tbeleyur/Documents/horseshoe_bat/audio_non_spikey/2018-08-18/non_spikey_T0000983.WAV',\n",
       " '/home/tbeleyur/Documents/horseshoe_bat/audio_non_spikey/2018-08-18/non_spikey_T0000964.WAV',\n",
       " '/home/tbeleyur/Documents/horseshoe_bat/audio_non_spikey/2018-08-18/non_spikey_T0000856.WAV',\n",
       " '/home/tbeleyur/Documents/horseshoe_bat/audio_non_spikey/2018-08-18/non_spikey_T0000930.WAV',\n",
       " '/home/tbeleyur/Documents/horseshoe_bat/audio_non_spikey/2018-08-18/non_spikey_T0000819.WAV',\n",
       " '/home/tbeleyur/Documents/horseshoe_bat/audio_non_spikey/2018-08-18/non_spikey_T0000825.WAV',\n",
       " '/home/tbeleyur/Documents/horseshoe_bat/audio_non_spikey/2018-08-18/non_spikey_T0000854.WAV',\n",
       " '/home/tbeleyur/Documents/horseshoe_bat/audio_non_spikey/2018-08-18/non_spikey_T0000846.WAV',\n",
       " '/home/tbeleyur/Documents/horseshoe_bat/audio_non_spikey/2018-08-18/non_spikey_T0000946.WAV',\n",
       " '/home/tbeleyur/Documents/horseshoe_bat/audio_non_spikey/2018-08-18/non_spikey_T0000935.WAV',\n",
       " '/home/tbeleyur/Documents/horseshoe_bat/audio_non_spikey/2018-08-18/non_spikey_T0000981.WAV',\n",
       " '/home/tbeleyur/Documents/horseshoe_bat/audio_non_spikey/2018-08-18/non_spikey_T0000876.WAV',\n",
       " '/home/tbeleyur/Documents/horseshoe_bat/audio_non_spikey/2018-08-18/non_spikey_T0000875.WAV',\n",
       " '/home/tbeleyur/Documents/horseshoe_bat/audio_non_spikey/2018-08-18/non_spikey_T0000874.WAV',\n",
       " '/home/tbeleyur/Documents/horseshoe_bat/audio_non_spikey/2018-08-18/non_spikey_T0000915.WAV',\n",
       " '/home/tbeleyur/Documents/horseshoe_bat/audio_non_spikey/2018-08-18/non_spikey_T0000852.WAV',\n",
       " '/home/tbeleyur/Documents/horseshoe_bat/audio_non_spikey/2018-08-18/non_spikey_T0000939.WAV',\n",
       " '/home/tbeleyur/Documents/horseshoe_bat/audio_non_spikey/2018-08-18/non_spikey_T0000868.WAV',\n",
       " '/home/tbeleyur/Documents/horseshoe_bat/audio_non_spikey/2018-08-18/non_spikey_T0000951.WAV',\n",
       " '/home/tbeleyur/Documents/horseshoe_bat/audio_non_spikey/2018-08-18/non_spikey_T0000845.WAV',\n",
       " '/home/tbeleyur/Documents/horseshoe_bat/audio_non_spikey/2018-08-18/non_spikey_T0000922.WAV',\n",
       " '/home/tbeleyur/Documents/horseshoe_bat/audio_non_spikey/2018-08-18/non_spikey_T0000879.WAV',\n",
       " '/home/tbeleyur/Documents/horseshoe_bat/audio_non_spikey/2018-08-18/non_spikey_T0000945.WAV',\n",
       " '/home/tbeleyur/Documents/horseshoe_bat/audio_non_spikey/2018-08-18/non_spikey_T0000826.WAV',\n",
       " '/home/tbeleyur/Documents/horseshoe_bat/audio_non_spikey/2018-08-18/non_spikey_T0000898.WAV',\n",
       " '/home/tbeleyur/Documents/horseshoe_bat/audio_non_spikey/2018-08-18/non_spikey_T0000840.WAV',\n",
       " '/home/tbeleyur/Documents/horseshoe_bat/audio_non_spikey/2018-08-18/non_spikey_T0000889.WAV',\n",
       " '/home/tbeleyur/Documents/horseshoe_bat/audio_non_spikey/2018-08-18/non_spikey_T0000914.WAV',\n",
       " '/home/tbeleyur/Documents/horseshoe_bat/audio_non_spikey/2018-08-18/non_spikey_T0000873.WAV',\n",
       " '/home/tbeleyur/Documents/horseshoe_bat/audio_non_spikey/2018-08-18/non_spikey_T0000861.WAV',\n",
       " '/home/tbeleyur/Documents/horseshoe_bat/audio_non_spikey/2018-08-18/non_spikey_T0000815.WAV',\n",
       " '/home/tbeleyur/Documents/horseshoe_bat/audio_non_spikey/2018-08-18/non_spikey_T0000896.WAV',\n",
       " '/home/tbeleyur/Documents/horseshoe_bat/audio_non_spikey/2018-08-18/non_spikey_T0000913.WAV',\n",
       " '/home/tbeleyur/Documents/horseshoe_bat/audio_non_spikey/2018-08-18/non_spikey_T0000862.WAV',\n",
       " '/home/tbeleyur/Documents/horseshoe_bat/audio_non_spikey/2018-08-18/non_spikey_T0000867.WAV',\n",
       " '/home/tbeleyur/Documents/horseshoe_bat/audio_non_spikey/2018-08-18/non_spikey_T0000900.WAV',\n",
       " '/home/tbeleyur/Documents/horseshoe_bat/audio_non_spikey/2018-08-18/non_spikey_T0000841.WAV',\n",
       " '/home/tbeleyur/Documents/horseshoe_bat/audio_non_spikey/2018-08-18/non_spikey_T0000908.WAV',\n",
       " '/home/tbeleyur/Documents/horseshoe_bat/audio_non_spikey/2018-08-18/non_spikey_T0000847.WAV',\n",
       " '/home/tbeleyur/Documents/horseshoe_bat/audio_non_spikey/2018-08-18/non_spikey_T0000972.WAV',\n",
       " '/home/tbeleyur/Documents/horseshoe_bat/audio_non_spikey/2018-08-18/non_spikey_T0000855.WAV',\n",
       " '/home/tbeleyur/Documents/horseshoe_bat/audio_non_spikey/2018-08-18/non_spikey_T0000870.WAV',\n",
       " '/home/tbeleyur/Documents/horseshoe_bat/audio_non_spikey/2018-08-18/non_spikey_T0000829.WAV',\n",
       " '/home/tbeleyur/Documents/horseshoe_bat/audio_non_spikey/2018-08-18/non_spikey_T0000910.WAV',\n",
       " '/home/tbeleyur/Documents/horseshoe_bat/audio_non_spikey/2018-08-18/non_spikey_T0000863.WAV',\n",
       " '/home/tbeleyur/Documents/horseshoe_bat/audio_non_spikey/2018-08-18/non_spikey_T0000853.WAV',\n",
       " '/home/tbeleyur/Documents/horseshoe_bat/audio_non_spikey/2018-08-18/non_spikey_T0000926.WAV',\n",
       " '/home/tbeleyur/Documents/horseshoe_bat/audio_non_spikey/2018-08-18/non_spikey_T0000860.WAV',\n",
       " '/home/tbeleyur/Documents/horseshoe_bat/audio_non_spikey/2018-08-18/non_spikey_T0000904.WAV',\n",
       " '/home/tbeleyur/Documents/horseshoe_bat/audio_non_spikey/2018-08-18/non_spikey_T0000899.WAV',\n",
       " '/home/tbeleyur/Documents/horseshoe_bat/audio_non_spikey/2018-08-18/non_spikey_T0000957.WAV',\n",
       " '/home/tbeleyur/Documents/horseshoe_bat/audio_non_spikey/2018-08-18/non_spikey_T0000895.WAV',\n",
       " '/home/tbeleyur/Documents/horseshoe_bat/audio_non_spikey/2018-08-18/non_spikey_T0000941.WAV',\n",
       " '/home/tbeleyur/Documents/horseshoe_bat/audio_non_spikey/2018-08-18/non_spikey_T0000884.WAV',\n",
       " '/home/tbeleyur/Documents/horseshoe_bat/audio_non_spikey/2018-08-18/non_spikey_T0000832.WAV',\n",
       " '/home/tbeleyur/Documents/horseshoe_bat/audio_non_spikey/2018-08-18/non_spikey_T0000934.WAV',\n",
       " '/home/tbeleyur/Documents/horseshoe_bat/audio_non_spikey/2018-08-18/non_spikey_T0000980.WAV',\n",
       " '/home/tbeleyur/Documents/horseshoe_bat/audio_non_spikey/2018-08-18/non_spikey_T0000970.WAV',\n",
       " '/home/tbeleyur/Documents/horseshoe_bat/audio_non_spikey/2018-08-18/non_spikey_T0000828.WAV',\n",
       " '/home/tbeleyur/Documents/horseshoe_bat/audio_non_spikey/2018-08-18/non_spikey_T0000872.WAV',\n",
       " '/home/tbeleyur/Documents/horseshoe_bat/audio_non_spikey/2018-08-18/non_spikey_T0000835.WAV',\n",
       " '/home/tbeleyur/Documents/horseshoe_bat/audio_non_spikey/2018-08-18/non_spikey_T0000927.WAV',\n",
       " '/home/tbeleyur/Documents/horseshoe_bat/audio_non_spikey/2018-08-18/non_spikey_T0000979.WAV',\n",
       " '/home/tbeleyur/Documents/horseshoe_bat/audio_non_spikey/2018-08-18/non_spikey_T0000978.WAV',\n",
       " '/home/tbeleyur/Documents/horseshoe_bat/audio_non_spikey/2018-08-18/non_spikey_T0000833.WAV',\n",
       " '/home/tbeleyur/Documents/horseshoe_bat/audio_non_spikey/2018-08-18/non_spikey_T0000891.WAV',\n",
       " '/home/tbeleyur/Documents/horseshoe_bat/audio_non_spikey/2018-08-18/non_spikey_T0000883.WAV',\n",
       " '/home/tbeleyur/Documents/horseshoe_bat/audio_non_spikey/2018-08-18/non_spikey_T0000943.WAV',\n",
       " '/home/tbeleyur/Documents/horseshoe_bat/audio_non_spikey/2018-08-18/non_spikey_T0000878.WAV',\n",
       " '/home/tbeleyur/Documents/horseshoe_bat/audio_non_spikey/2018-08-18/non_spikey_T0000885.WAV',\n",
       " '/home/tbeleyur/Documents/horseshoe_bat/audio_non_spikey/2018-08-18/non_spikey_T0000830.WAV',\n",
       " '/home/tbeleyur/Documents/horseshoe_bat/audio_non_spikey/2018-08-18/non_spikey_T0000866.WAV',\n",
       " '/home/tbeleyur/Documents/horseshoe_bat/audio_non_spikey/2018-08-18/non_spikey_T0000838.WAV',\n",
       " '/home/tbeleyur/Documents/horseshoe_bat/audio_non_spikey/2018-08-18/non_spikey_T0000985.WAV',\n",
       " '/home/tbeleyur/Documents/horseshoe_bat/audio_non_spikey/2018-08-18/non_spikey_T0000836.WAV',\n",
       " '/home/tbeleyur/Documents/horseshoe_bat/audio_non_spikey/2018-08-18/non_spikey_T0000907.WAV',\n",
       " '/home/tbeleyur/Documents/horseshoe_bat/audio_non_spikey/2018-08-18/non_spikey_T0000824.WAV',\n",
       " '/home/tbeleyur/Documents/horseshoe_bat/audio_non_spikey/2018-08-18/non_spikey_T0000925.WAV',\n",
       " '/home/tbeleyur/Documents/horseshoe_bat/audio_non_spikey/2018-08-18/non_spikey_T0000871.WAV',\n",
       " '/home/tbeleyur/Documents/horseshoe_bat/audio_non_spikey/2018-08-18/non_spikey_T0000950.WAV',\n",
       " '/home/tbeleyur/Documents/horseshoe_bat/audio_non_spikey/2018-08-18/non_spikey_T0000892.WAV',\n",
       " '/home/tbeleyur/Documents/horseshoe_bat/audio_non_spikey/2018-08-18/non_spikey_T0000940.WAV',\n",
       " '/home/tbeleyur/Documents/horseshoe_bat/audio_non_spikey/2018-08-18/non_spikey_T0000971.WAV',\n",
       " '/home/tbeleyur/Documents/horseshoe_bat/audio_non_spikey/2018-08-18/non_spikey_T0000893.WAV',\n",
       " '/home/tbeleyur/Documents/horseshoe_bat/audio_non_spikey/2018-08-18/non_spikey_T0000960.WAV',\n",
       " '/home/tbeleyur/Documents/horseshoe_bat/audio_non_spikey/2018-08-18/non_spikey_T0000961.WAV',\n",
       " '/home/tbeleyur/Documents/horseshoe_bat/audio_non_spikey/2018-08-18/non_spikey_T0000906.WAV',\n",
       " '/home/tbeleyur/Documents/horseshoe_bat/audio_non_spikey/2018-08-18/non_spikey_T0000859.WAV',\n",
       " '/home/tbeleyur/Documents/horseshoe_bat/audio_non_spikey/2018-08-18/non_spikey_T0000954.WAV',\n",
       " '/home/tbeleyur/Documents/horseshoe_bat/audio_non_spikey/2018-08-18/non_spikey_T0000924.WAV',\n",
       " '/home/tbeleyur/Documents/horseshoe_bat/audio_non_spikey/2018-08-18/non_spikey_T0000953.WAV',\n",
       " '/home/tbeleyur/Documents/horseshoe_bat/audio_non_spikey/2018-08-18/non_spikey_T0000820.WAV',\n",
       " '/home/tbeleyur/Documents/horseshoe_bat/audio_non_spikey/2018-08-18/non_spikey_T0000948.WAV',\n",
       " '/home/tbeleyur/Documents/horseshoe_bat/audio_non_spikey/2018-08-18/non_spikey_T0000938.WAV',\n",
       " '/home/tbeleyur/Documents/horseshoe_bat/audio_non_spikey/2018-08-18/non_spikey_T0000976.WAV',\n",
       " '/home/tbeleyur/Documents/horseshoe_bat/audio_non_spikey/2018-08-18/non_spikey_T0000977.WAV',\n",
       " '/home/tbeleyur/Documents/horseshoe_bat/audio_non_spikey/2018-08-18/non_spikey_T0000982.WAV',\n",
       " '/home/tbeleyur/Documents/horseshoe_bat/audio_non_spikey/2018-08-18/non_spikey_T0000968.WAV',\n",
       " '/home/tbeleyur/Documents/horseshoe_bat/audio_non_spikey/2018-08-18/non_spikey_T0000850.WAV',\n",
       " '/home/tbeleyur/Documents/horseshoe_bat/audio_non_spikey/2018-08-18/non_spikey_T0000834.WAV',\n",
       " '/home/tbeleyur/Documents/horseshoe_bat/audio_non_spikey/2018-08-18/non_spikey_T0000877.WAV',\n",
       " '/home/tbeleyur/Documents/horseshoe_bat/audio_non_spikey/2018-08-18/non_spikey_T0000905.WAV',\n",
       " '/home/tbeleyur/Documents/horseshoe_bat/audio_non_spikey/2018-08-18/non_spikey_T0000958.WAV',\n",
       " '/home/tbeleyur/Documents/horseshoe_bat/audio_non_spikey/2018-08-18/non_spikey_T0000816.WAV',\n",
       " '/home/tbeleyur/Documents/horseshoe_bat/audio_non_spikey/2018-08-18/non_spikey_T0000921.WAV',\n",
       " '/home/tbeleyur/Documents/horseshoe_bat/audio_non_spikey/2018-08-18/non_spikey_T0000967.WAV',\n",
       " '/home/tbeleyur/Documents/horseshoe_bat/audio_non_spikey/2018-08-18/non_spikey_T0000890.WAV',\n",
       " '/home/tbeleyur/Documents/horseshoe_bat/audio_non_spikey/2018-08-18/non_spikey_T0000849.WAV',\n",
       " '/home/tbeleyur/Documents/horseshoe_bat/audio_non_spikey/2018-08-18/non_spikey_T0000827.WAV',\n",
       " '/home/tbeleyur/Documents/horseshoe_bat/audio_non_spikey/2018-08-18/non_spikey_T0000831.WAV',\n",
       " '/home/tbeleyur/Documents/horseshoe_bat/audio_non_spikey/2018-08-18/non_spikey_T0000897.WAV',\n",
       " '/home/tbeleyur/Documents/horseshoe_bat/audio_non_spikey/2018-08-18/non_spikey_T0000932.WAV',\n",
       " '/home/tbeleyur/Documents/horseshoe_bat/audio_non_spikey/2018-08-18/non_spikey_T0000944.WAV']"
      ]
     },
     "execution_count": 17,
     "metadata": {},
     "output_type": "execute_result"
    }
   ],
   "source": [
    "glob.glob(audio_folder+'*.WAV')"
   ]
  },
  {
   "cell_type": "code",
   "execution_count": 18,
   "metadata": {
    "scrolled": true
   },
   "outputs": [
    {
     "data": {
      "text/plain": [
       "['non_spikey_T0000822.WAV',\n",
       " 'non_spikey_T0000974.WAV',\n",
       " 'non_spikey_T0000923.WAV',\n",
       " 'non_spikey_T0000888.WAV',\n",
       " 'non_spikey_T0000851.WAV',\n",
       " 'non_spikey_T0000918.WAV',\n",
       " 'non_spikey_T0000858.WAV',\n",
       " 'non_spikey_T0000919.WAV',\n",
       " 'non_spikey_T0000984.WAV',\n",
       " 'non_spikey_T0000963.WAV',\n",
       " 'non_spikey_T0000902.WAV',\n",
       " 'non_spikey_T0000911.WAV',\n",
       " 'non_spikey_T0000959.WAV',\n",
       " 'non_spikey_T0000969.WAV',\n",
       " 'non_spikey_T0000869.WAV',\n",
       " 'non_spikey_T0000886.WAV',\n",
       " 'non_spikey_T0000949.WAV',\n",
       " 'non_spikey_T0000912.WAV',\n",
       " 'non_spikey_T0000947.WAV',\n",
       " 'non_spikey_T0000986.WAV',\n",
       " 'non_spikey_T0000903.WAV',\n",
       " 'non_spikey_T0000962.WAV',\n",
       " 'non_spikey_T0000952.WAV',\n",
       " 'non_spikey_T0000882.WAV',\n",
       " 'non_spikey_T0000839.WAV',\n",
       " 'non_spikey_T0000917.WAV',\n",
       " 'non_spikey_T0000880.WAV',\n",
       " 'non_spikey_T0000823.WAV',\n",
       " 'non_spikey_T0000931.WAV',\n",
       " 'non_spikey_T0000916.WAV',\n",
       " 'non_spikey_T0000881.WAV',\n",
       " 'non_spikey_T0000929.WAV',\n",
       " 'non_spikey_T0000956.WAV',\n",
       " 'non_spikey_T0000857.WAV',\n",
       " 'non_spikey_T0000848.WAV',\n",
       " 'non_spikey_T0000955.WAV',\n",
       " 'non_spikey_T0000920.WAV',\n",
       " 'non_spikey_T0000894.WAV',\n",
       " 'non_spikey_T0000937.WAV',\n",
       " 'non_spikey_T0000887.WAV',\n",
       " 'non_spikey_T0000909.WAV',\n",
       " 'non_spikey_T0000843.WAV',\n",
       " 'non_spikey_T0000837.WAV',\n",
       " 'non_spikey_T0000933.WAV',\n",
       " 'non_spikey_T0000864.WAV',\n",
       " 'make_non_spikey_2018-08-18.py',\n",
       " 'non_spikey_T0000901.WAV',\n",
       " 'non_spikey_T0000942.WAV',\n",
       " 'non_spikey_T0000844.WAV',\n",
       " 'non_spikey_T0000936.WAV',\n",
       " 'non_spikey_T0000842.WAV',\n",
       " 'non_spikey_T0000965.WAV',\n",
       " 'non_spikey_T0000975.WAV',\n",
       " 'non_spikey_T0000821.WAV',\n",
       " 'non_spikey_T0000818.WAV',\n",
       " 'non_spikey_T0000865.WAV',\n",
       " 'non_spikey_T0000966.WAV',\n",
       " 'non_spikey_T0000817.WAV',\n",
       " 'non_spikey_T0000928.WAV',\n",
       " 'non_spikey_T0000973.WAV',\n",
       " 'non_spikey_T0000983.WAV',\n",
       " 'non_spikey_T0000964.WAV',\n",
       " 'non_spikey_T0000856.WAV',\n",
       " 'non_spikey_T0000930.WAV',\n",
       " 'non_spikey_T0000819.WAV',\n",
       " 'non_spikey_T0000825.WAV',\n",
       " 'non_spikey_T0000854.WAV',\n",
       " 'non_spikey_T0000846.WAV',\n",
       " 'non_spikey_T0000946.WAV',\n",
       " 'non_spikey_T0000935.WAV',\n",
       " 'non_spikey_T0000981.WAV',\n",
       " 'non_spikey_T0000876.WAV',\n",
       " 'non_spikey_T0000875.WAV',\n",
       " 'non_spikey_T0000874.WAV',\n",
       " 'non_spikey_T0000915.WAV',\n",
       " 'non_spikey_T0000852.WAV',\n",
       " 'non_spikey_T0000939.WAV',\n",
       " 'non_spikey_T0000868.WAV',\n",
       " 'non_spikey_T0000951.WAV',\n",
       " 'non_spikey_T0000845.WAV',\n",
       " 'non_spikey_T0000922.WAV',\n",
       " 'non_spikey_T0000879.WAV',\n",
       " 'non_spikey_T0000945.WAV',\n",
       " 'non_spikey_T0000826.WAV',\n",
       " 'non_spikey_T0000898.WAV',\n",
       " 'non_spikey_T0000840.WAV',\n",
       " 'non_spikey_T0000889.WAV',\n",
       " 'non_spikey_T0000914.WAV',\n",
       " 'non_spikey_T0000873.WAV',\n",
       " 'non_spikey_T0000861.WAV',\n",
       " 'non_spikey_T0000815.WAV',\n",
       " 'non_spikey_T0000896.WAV',\n",
       " 'non_spikey_T0000913.WAV',\n",
       " 'non_spikey_T0000862.WAV',\n",
       " 'non_spikey_T0000867.WAV',\n",
       " 'non_spikey_T0000900.WAV',\n",
       " 'non_spikey_T0000841.WAV',\n",
       " 'non_spikey_T0000908.WAV',\n",
       " 'non_spikey_T0000847.WAV',\n",
       " 'non_spikey_T0000972.WAV',\n",
       " 'non_spikey_T0000855.WAV',\n",
       " 'non_spikey_T0000870.WAV',\n",
       " 'non_spikey_T0000829.WAV',\n",
       " 'non_spikey_T0000910.WAV',\n",
       " 'non_spikey_T0000863.WAV',\n",
       " 'non_spikey_T0000853.WAV',\n",
       " 'non_spikey_T0000926.WAV',\n",
       " 'non_spikey_T0000860.WAV',\n",
       " 'non_spikey_T0000904.WAV',\n",
       " 'non_spikey_T0000899.WAV',\n",
       " 'non_spikey_T0000957.WAV',\n",
       " 'non_spikey_T0000895.WAV',\n",
       " 'non_spikey_T0000941.WAV',\n",
       " 'non_spikey_T0000884.WAV',\n",
       " 'non_spikey_T0000832.WAV',\n",
       " 'non_spikey_T0000934.WAV',\n",
       " 'non_spikey_T0000980.WAV',\n",
       " 'non_spikey_T0000970.WAV',\n",
       " 'non_spikey_T0000828.WAV',\n",
       " 'non_spikey_T0000872.WAV',\n",
       " 'non_spikey_T0000835.WAV',\n",
       " 'non_spikey_T0000927.WAV',\n",
       " 'non_spikey_T0000979.WAV',\n",
       " 'non_spikey_T0000978.WAV',\n",
       " 'non_spikey_T0000833.WAV',\n",
       " 'non_spikey_T0000891.WAV',\n",
       " 'non_spikey_T0000883.WAV',\n",
       " 'non_spikey_T0000943.WAV',\n",
       " 'non_spikey_T0000878.WAV',\n",
       " 'non_spikey_T0000885.WAV',\n",
       " 'non_spikey_T0000830.WAV',\n",
       " 'non_spikey_T0000866.WAV',\n",
       " 'non_spikey_T0000838.WAV',\n",
       " 'non_spikey_T0000985.WAV',\n",
       " 'non_spikey_T0000836.WAV',\n",
       " 'non_spikey_T0000907.WAV',\n",
       " 'non_spikey_T0000824.WAV',\n",
       " 'non_spikey_T0000925.WAV',\n",
       " 'non_spikey_T0000871.WAV',\n",
       " 'non_spikey_T0000950.WAV',\n",
       " 'non_spikey_T0000892.WAV',\n",
       " 'non_spikey_T0000940.WAV',\n",
       " 'non_spikey_T0000971.WAV',\n",
       " 'non_spikey_T0000893.WAV',\n",
       " 'non_spikey_T0000960.WAV',\n",
       " 'non_spikey_T0000961.WAV',\n",
       " 'non_spikey_T0000906.WAV',\n",
       " 'non_spikey_T0000859.WAV',\n",
       " 'non_spikey_T0000954.WAV',\n",
       " 'non_spikey_T0000924.WAV',\n",
       " 'non_spikey_T0000953.WAV',\n",
       " 'non_spikey_T0000820.WAV',\n",
       " 'non_spikey_T0000948.WAV',\n",
       " 'non_spikey_T0000938.WAV',\n",
       " 'non_spikey_T0000976.WAV',\n",
       " 'non_spikey_T0000977.WAV',\n",
       " 'non_spikey_T0000982.WAV',\n",
       " 'non_spikey_T0000968.WAV',\n",
       " 'non_spikey_T0000850.WAV',\n",
       " 'non_spikey_T0000834.WAV',\n",
       " 'non_spikey_T0000877.WAV',\n",
       " 'non_spikey_T0000905.WAV',\n",
       " 'non_spikey_T0000958.WAV',\n",
       " 'non_spikey_T0000816.WAV',\n",
       " 'non_spikey_T0000921.WAV',\n",
       " 'non_spikey_T0000967.WAV',\n",
       " 'non_spikey_T0000890.WAV',\n",
       " 'non_spikey_T0000849.WAV',\n",
       " 'non_spikey_T0000827.WAV',\n",
       " 'non_spikey_T0000831.WAV',\n",
       " 'non_spikey_T0000897.WAV',\n",
       " 'non_spikey_T0000932.WAV',\n",
       " 'non_spikey_T0000944.WAV']"
      ]
     },
     "execution_count": 18,
     "metadata": {},
     "output_type": "execute_result"
    }
   ],
   "source": [
    "os.listdir(audio_folder)"
   ]
  },
  {
   "cell_type": "code",
   "execution_count": 19,
   "metadata": {
    "scrolled": true
   },
   "outputs": [
    {
     "data": {
      "text/plain": [
       "['common_fps/Aditya_annotations/2018-08-18/common_fps_video_syncAditya_2018-08-19_23_34.csv',\n",
       " 'common_fps/Aditya_annotations/2018-08-18/common_fps_video_syncAditya_2018-08-19_23_17.csv',\n",
       " 'common_fps/Aditya_annotations/2018-08-18/common_fps_video_syncAditya_2018-08-19_23_3.csv',\n",
       " 'common_fps/Aditya_annotations/2018-08-18/common_fps_video_syncAditya_2018-08-19_23_12.csv',\n",
       " 'common_fps/Aditya_annotations/2018-08-18/common_fps_video_syncAditya_2018-08-19_23_38.csv',\n",
       " 'common_fps/Aditya_annotations/2018-08-18/common_fps_video_syncAditya_2018-08-19_23_6.csv',\n",
       " 'common_fps/Aditya_annotations/2018-08-18/common_fps_video_syncAditya_2018-08-19_23_4.csv',\n",
       " 'common_fps/Aditya_annotations/2018-08-18/common_fps_video_syncAditya_2018-08-19_23_2.csv',\n",
       " 'common_fps/Aditya_annotations/2018-08-18/common_fps_video_syncAditya_2018-08-19_23_16.csv',\n",
       " 'common_fps/Aditya_annotations/2018-08-18/common_fps_video_syncAditya_2018-08-19_23_33.csv',\n",
       " 'common_fps/Aditya_annotations/2018-08-18/common_fps_video_syncAditya_2018-08-19_23_15.csv',\n",
       " 'common_fps/Aditya_annotations/2018-08-18/common_fps_video_syncAditya_2018-08-19_23_31.csv',\n",
       " 'common_fps/Aditya_annotations/2018-08-18/common_fps_video_syncAditya_2018-08-19_23_30.csv',\n",
       " 'common_fps/Aditya_annotations/2018-08-18/common_fps_video_syncAditya_2018-08-19_23_5.csv',\n",
       " 'common_fps/Aditya_annotations/2018-08-18/common_fps_video_syncAditya_2018-08-19_23_39.csv',\n",
       " 'common_fps/Aditya_annotations/2018-08-18/common_fps_video_syncAditya_2018-08-19_23_44.csv',\n",
       " 'common_fps/Aditya_annotations/2018-08-18/common_fps_video_syncAditya_2018-08-19_23_37.csv',\n",
       " 'common_fps/Aditya_annotations/2018-08-18/common_fps_video_syncAditya_2018-08-19_23_19.csv',\n",
       " 'common_fps/Aditya_annotations/2018-08-18/common_fps_video_syncAditya_2018-08-19_23_29.csv',\n",
       " 'common_fps/Aditya_annotations/2018-08-18/common_fps_video_syncAditya_2018-08-19_23_32.csv',\n",
       " 'common_fps/Aditya_annotations/2018-08-18/common_fps_video_syncAditya_2018-08-19_23_14.csv',\n",
       " 'common_fps/Aditya_annotations/2018-08-18/common_fps_video_syncAditya_2018-08-19_23_18.csv',\n",
       " 'common_fps/Aditya_annotations/2018-08-18/common_fps_video_syncAditya_2018-08-19_23_36.csv',\n",
       " 'common_fps/Aditya_annotations/2018-08-18/common_fps_video_syncAditya_2018-08-19_23_40.csv']"
      ]
     },
     "execution_count": 19,
     "metadata": {},
     "output_type": "execute_result"
    }
   ],
   "source": [
    "all_commonfps"
   ]
  },
  {
   "cell_type": "code",
   "execution_count": 20,
   "metadata": {},
   "outputs": [
    {
     "data": {
      "text/plain": [
       "'/home/tbeleyur/Documents/horseshoe_bat/audio_non_spikey/2018-08-18/'"
      ]
     },
     "execution_count": 20,
     "metadata": {},
     "output_type": "execute_result"
    }
   ],
   "source": [
    "audio_folder"
   ]
  },
  {
   "cell_type": "code",
   "execution_count": 21,
   "metadata": {},
   "outputs": [
    {
     "data": {
      "text/plain": [
       "24"
      ]
     },
     "execution_count": 21,
     "metadata": {},
     "output_type": "execute_result"
    }
   ],
   "source": [
    "len(all_commonfps)"
   ]
  },
  {
   "cell_type": "code",
   "execution_count": 22,
   "metadata": {},
   "outputs": [
    {
     "data": {
      "text/plain": [
       "24"
      ]
     },
     "execution_count": 22,
     "metadata": {},
     "output_type": "execute_result"
    }
   ],
   "source": [
    "len(all_commonfps)"
   ]
  },
  {
   "cell_type": "code",
   "execution_count": 23,
   "metadata": {
    "scrolled": true
   },
   "outputs": [
    {
     "name": "stdout",
     "output_type": "stream",
     "text": [
      "common_fps/Aditya_annotations/2018-08-18/common_fps_video_syncAditya_2018-08-19_23_12.csv\n",
      "('video_fps obtained is :', 25)\n",
      "Did not find user-provided sample rate - getting it from first file that matches format!\n",
      "('sampling rate is : ', 250000)\n",
      ".....finding best audio segment.....\n"
     ]
    },
    {
     "name": "stderr",
     "output_type": "stream",
     "text": [
      "\r",
      "  0%|          | 0/15 [00:00<?, ?it/s]"
     ]
    },
    {
     "name": "stdout",
     "output_type": "stream",
     "text": [
      "('max mins for upsampled video', -0.9105283243143308, 1.0)\n",
      "('max mins', -1.0, 0.9247948730428763)\n"
     ]
    },
    {
     "name": "stderr",
     "output_type": "stream",
     "text": [
      "/home/tbeleyur/anaconda2/envs/horseshoebat/lib/python2.7/site-packages/scipy/signal/signaltools.py:491: FutureWarning: Using a non-tuple sequence for multidimensional indexing is deprecated; use `arr[tuple(seq)]` instead of `arr[seq]`. In the future this will be interpreted as an array index, `arr[np.array(seq)]`, which will result either in an error or a different result.\n",
      "  return x[reverse].conj()\n",
      "  7%|▋         | 1/15 [00:06<01:24,  6.07s/it]"
     ]
    },
    {
     "name": "stdout",
     "output_type": "stream",
     "text": [
      "('max mins', -1.0, 0.9609768360886519)\n"
     ]
    },
    {
     "name": "stderr",
     "output_type": "stream",
     "text": [
      "\r",
      " 13%|█▎        | 2/15 [00:10<01:13,  5.65s/it]"
     ]
    },
    {
     "name": "stdout",
     "output_type": "stream",
     "text": [
      "('max mins', -1.0, 0.9805232904168644)\n"
     ]
    },
    {
     "name": "stderr",
     "output_type": "stream",
     "text": [
      "\r",
      " 20%|██        | 3/15 [00:15<01:04,  5.34s/it]"
     ]
    },
    {
     "name": "stdout",
     "output_type": "stream",
     "text": [
      "('max mins', -0.9971944581699195, 1.0)\n"
     ]
    },
    {
     "name": "stderr",
     "output_type": "stream",
     "text": [
      "\r",
      " 27%|██▋       | 4/15 [00:19<00:56,  5.12s/it]"
     ]
    },
    {
     "name": "stdout",
     "output_type": "stream",
     "text": [
      "('max mins', -0.9432270977593401, 1.0)\n"
     ]
    },
    {
     "name": "stderr",
     "output_type": "stream",
     "text": [
      "\r",
      " 33%|███▎      | 5/15 [00:24<00:50,  5.06s/it]"
     ]
    },
    {
     "name": "stdout",
     "output_type": "stream",
     "text": [
      "('max mins', -1.0, 0.9652737228547501)\n"
     ]
    },
    {
     "name": "stderr",
     "output_type": "stream",
     "text": [
      "\r",
      " 40%|████      | 6/15 [00:29<00:44,  4.93s/it]"
     ]
    },
    {
     "name": "stdout",
     "output_type": "stream",
     "text": [
      "('max mins', -1.0, 0.9136184428633362)\n"
     ]
    },
    {
     "name": "stderr",
     "output_type": "stream",
     "text": [
      "\r",
      " 47%|████▋     | 7/15 [00:34<00:38,  4.84s/it]"
     ]
    },
    {
     "name": "stdout",
     "output_type": "stream",
     "text": [
      "('max mins', -1.0, 0.9945457387121774)\n"
     ]
    },
    {
     "name": "stderr",
     "output_type": "stream",
     "text": [
      "\r",
      " 53%|█████▎    | 8/15 [00:38<00:33,  4.78s/it]"
     ]
    },
    {
     "name": "stdout",
     "output_type": "stream",
     "text": [
      "('max mins', -0.9589091947607681, 1.0)\n"
     ]
    },
    {
     "name": "stderr",
     "output_type": "stream",
     "text": [
      "\r",
      " 60%|██████    | 9/15 [00:43<00:28,  4.73s/it]"
     ]
    },
    {
     "name": "stdout",
     "output_type": "stream",
     "text": [
      "('max mins', -0.9643559131223649, 1.0)\n"
     ]
    },
    {
     "name": "stderr",
     "output_type": "stream",
     "text": [
      "\r",
      " 67%|██████▋   | 10/15 [00:48<00:23,  4.70s/it]"
     ]
    },
    {
     "name": "stdout",
     "output_type": "stream",
     "text": [
      "('max mins', -0.9913513794669172, 1.0)\n"
     ]
    },
    {
     "name": "stderr",
     "output_type": "stream",
     "text": [
      "\r",
      " 73%|███████▎  | 11/15 [00:52<00:18,  4.70s/it]"
     ]
    },
    {
     "name": "stdout",
     "output_type": "stream",
     "text": [
      "('max mins', -1.0, 0.9980330860645331)\n"
     ]
    },
    {
     "name": "stderr",
     "output_type": "stream",
     "text": [
      "\r",
      " 80%|████████  | 12/15 [00:57<00:14,  4.67s/it]"
     ]
    },
    {
     "name": "stdout",
     "output_type": "stream",
     "text": [
      "('max mins', -0.9838349328121095, 1.0)\n"
     ]
    },
    {
     "name": "stderr",
     "output_type": "stream",
     "text": [
      "\r",
      " 87%|████████▋ | 13/15 [01:02<00:09,  4.70s/it]"
     ]
    },
    {
     "name": "stdout",
     "output_type": "stream",
     "text": [
      "('max mins', -0.9530957512155002, 1.0)\n"
     ]
    },
    {
     "name": "stderr",
     "output_type": "stream",
     "text": [
      "\r",
      " 93%|█████████▎| 14/15 [01:06<00:04,  4.74s/it]"
     ]
    },
    {
     "name": "stdout",
     "output_type": "stream",
     "text": [
      "('max mins', -0.9789960168861033, 1.0)\n"
     ]
    },
    {
     "name": "stderr",
     "output_type": "stream",
     "text": [
      "100%|██████████| 15/15 [01:11<00:00,  4.73s/it]\n"
     ]
    },
    {
     "name": "stdout",
     "output_type": "stream",
     "text": [
      "('Best file pairs are: ', 'non_spikey_T0000858.WAV*non_spikey_T0000859.WAV')\n",
      "Start and end indices around peak:                  start index: 14794329\t\t          end index: 26294329                  total samples:30015488\n",
      "('AV Sync was above threshold: ', 0.8583572011050706)\n",
      "common_fps/Aditya_annotations/2018-08-18/common_fps_video_syncAditya_2018-08-19_23_14.csv\n",
      "('video_fps obtained is :', 25)\n",
      "Did not find user-provided sample rate - getting it from first file that matches format!\n",
      "('sampling rate is : ', 250000)\n",
      ".....finding best audio segment.....\n"
     ]
    },
    {
     "name": "stderr",
     "output_type": "stream",
     "text": [
      "\r",
      "  0%|          | 0/15 [00:00<?, ?it/s]"
     ]
    },
    {
     "name": "stdout",
     "output_type": "stream",
     "text": [
      "('max mins for upsampled video', -0.90124005687389, 1.0)\n",
      "('max mins', -1.0, 0.9247948730428763)\n"
     ]
    },
    {
     "name": "stderr",
     "output_type": "stream",
     "text": [
      "\r",
      "  7%|▋         | 1/15 [00:04<01:02,  4.48s/it]"
     ]
    },
    {
     "name": "stdout",
     "output_type": "stream",
     "text": [
      "('max mins', -1.0, 0.9609768360886519)\n"
     ]
    },
    {
     "name": "stderr",
     "output_type": "stream",
     "text": [
      "\r",
      " 13%|█▎        | 2/15 [00:09<00:58,  4.51s/it]"
     ]
    },
    {
     "name": "stdout",
     "output_type": "stream",
     "text": [
      "('max mins', -1.0, 0.9805232904168644)\n"
     ]
    },
    {
     "name": "stderr",
     "output_type": "stream",
     "text": [
      "\r",
      " 20%|██        | 3/15 [00:13<00:55,  4.63s/it]"
     ]
    },
    {
     "name": "stdout",
     "output_type": "stream",
     "text": [
      "('max mins', -0.9971944581699195, 1.0)\n"
     ]
    },
    {
     "name": "stderr",
     "output_type": "stream",
     "text": [
      "\r",
      " 27%|██▋       | 4/15 [00:18<00:49,  4.54s/it]"
     ]
    },
    {
     "name": "stdout",
     "output_type": "stream",
     "text": [
      "('max mins', -0.9432270977593401, 1.0)\n"
     ]
    },
    {
     "name": "stderr",
     "output_type": "stream",
     "text": [
      "\r",
      " 33%|███▎      | 5/15 [00:22<00:45,  4.56s/it]"
     ]
    },
    {
     "name": "stdout",
     "output_type": "stream",
     "text": [
      "('max mins', -1.0, 0.9652737228547501)\n"
     ]
    },
    {
     "name": "stderr",
     "output_type": "stream",
     "text": [
      "\r",
      " 40%|████      | 6/15 [00:27<00:41,  4.63s/it]"
     ]
    },
    {
     "name": "stdout",
     "output_type": "stream",
     "text": [
      "('max mins', -1.0, 0.9136184428633362)\n"
     ]
    },
    {
     "name": "stderr",
     "output_type": "stream",
     "text": [
      "\r",
      " 47%|████▋     | 7/15 [00:32<00:36,  4.62s/it]"
     ]
    },
    {
     "name": "stdout",
     "output_type": "stream",
     "text": [
      "('max mins', -1.0, 0.9945457387121774)\n"
     ]
    },
    {
     "name": "stderr",
     "output_type": "stream",
     "text": [
      "\r",
      " 53%|█████▎    | 8/15 [00:36<00:32,  4.57s/it]"
     ]
    },
    {
     "name": "stdout",
     "output_type": "stream",
     "text": [
      "('max mins', -0.9589091947607681, 1.0)\n"
     ]
    },
    {
     "name": "stderr",
     "output_type": "stream",
     "text": [
      "\r",
      " 60%|██████    | 9/15 [00:41<00:27,  4.51s/it]"
     ]
    },
    {
     "name": "stdout",
     "output_type": "stream",
     "text": [
      "('max mins', -0.9643559131223649, 1.0)\n"
     ]
    },
    {
     "name": "stderr",
     "output_type": "stream",
     "text": [
      "\r",
      " 67%|██████▋   | 10/15 [00:45<00:23,  4.62s/it]"
     ]
    },
    {
     "name": "stdout",
     "output_type": "stream",
     "text": [
      "('max mins', -0.9913513794669172, 1.0)\n"
     ]
    },
    {
     "name": "stderr",
     "output_type": "stream",
     "text": [
      "\r",
      " 73%|███████▎  | 11/15 [00:50<00:18,  4.61s/it]"
     ]
    },
    {
     "name": "stdout",
     "output_type": "stream",
     "text": [
      "('max mins', -1.0, 0.9980330860645331)\n"
     ]
    },
    {
     "name": "stderr",
     "output_type": "stream",
     "text": [
      "\r",
      " 80%|████████  | 12/15 [00:54<00:13,  4.54s/it]"
     ]
    },
    {
     "name": "stdout",
     "output_type": "stream",
     "text": [
      "('max mins', -0.9838349328121095, 1.0)\n"
     ]
    },
    {
     "name": "stderr",
     "output_type": "stream",
     "text": [
      "\r",
      " 87%|████████▋ | 13/15 [00:59<00:08,  4.49s/it]"
     ]
    },
    {
     "name": "stdout",
     "output_type": "stream",
     "text": [
      "('max mins', -0.9530957512155002, 1.0)\n"
     ]
    },
    {
     "name": "stderr",
     "output_type": "stream",
     "text": [
      "\r",
      " 93%|█████████▎| 14/15 [01:03<00:04,  4.46s/it]"
     ]
    },
    {
     "name": "stdout",
     "output_type": "stream",
     "text": [
      "('max mins', -0.9789960168861033, 1.0)\n"
     ]
    },
    {
     "name": "stderr",
     "output_type": "stream",
     "text": [
      "100%|██████████| 15/15 [01:08<00:00,  4.51s/it]\n"
     ]
    },
    {
     "name": "stdout",
     "output_type": "stream",
     "text": [
      "('Best file pairs are: ', 'non_spikey_T0000859.WAV*non_spikey_T0000860.WAV')\n",
      "Start and end indices around peak:                  start index: 5785416\t\t          end index: 17285416                  total samples:30015488\n",
      "('AV Sync was above threshold: ', 0.8611327098209438)\n",
      "common_fps/Aditya_annotations/2018-08-18/common_fps_video_syncAditya_2018-08-19_23_15.csv\n",
      "('video_fps obtained is :', 25)\n",
      "Did not find user-provided sample rate - getting it from first file that matches format!\n",
      "('sampling rate is : ', 250000)\n",
      ".....finding best audio segment.....\n"
     ]
    },
    {
     "name": "stderr",
     "output_type": "stream",
     "text": [
      "\r",
      "  0%|          | 0/15 [00:00<?, ?it/s]"
     ]
    },
    {
     "name": "stdout",
     "output_type": "stream",
     "text": [
      "('max mins for upsampled video', -0.8854676911609937, 1.0)\n",
      "('max mins', -1.0, 0.9247948730428763)\n"
     ]
    },
    {
     "name": "stderr",
     "output_type": "stream",
     "text": [
      "\r",
      "  7%|▋         | 1/15 [00:05<01:11,  5.09s/it]"
     ]
    },
    {
     "name": "stdout",
     "output_type": "stream",
     "text": [
      "('max mins', -1.0, 0.9609768360886519)\n"
     ]
    },
    {
     "name": "stderr",
     "output_type": "stream",
     "text": [
      "\r",
      " 13%|█▎        | 2/15 [00:10<01:06,  5.14s/it]"
     ]
    },
    {
     "name": "stdout",
     "output_type": "stream",
     "text": [
      "('max mins', -1.0, 0.9805232904168644)\n"
     ]
    },
    {
     "name": "stderr",
     "output_type": "stream",
     "text": [
      "\r",
      " 20%|██        | 3/15 [00:14<00:59,  4.94s/it]"
     ]
    },
    {
     "name": "stdout",
     "output_type": "stream",
     "text": [
      "('max mins', -0.9971944581699195, 1.0)\n"
     ]
    },
    {
     "name": "stderr",
     "output_type": "stream",
     "text": [
      "\r",
      " 27%|██▋       | 4/15 [00:19<00:54,  4.94s/it]"
     ]
    },
    {
     "name": "stdout",
     "output_type": "stream",
     "text": [
      "('max mins', -0.9432270977593401, 1.0)\n"
     ]
    },
    {
     "name": "stderr",
     "output_type": "stream",
     "text": [
      "\r",
      " 33%|███▎      | 5/15 [00:25<00:50,  5.04s/it]"
     ]
    },
    {
     "name": "stdout",
     "output_type": "stream",
     "text": [
      "('max mins', -1.0, 0.9652737228547501)\n"
     ]
    },
    {
     "name": "stderr",
     "output_type": "stream",
     "text": [
      "\r",
      " 40%|████      | 6/15 [00:30<00:45,  5.09s/it]"
     ]
    },
    {
     "name": "stdout",
     "output_type": "stream",
     "text": [
      "('max mins', -1.0, 0.9136184428633362)\n"
     ]
    },
    {
     "name": "stderr",
     "output_type": "stream",
     "text": [
      "\r",
      " 47%|████▋     | 7/15 [00:35<00:41,  5.22s/it]"
     ]
    },
    {
     "name": "stdout",
     "output_type": "stream",
     "text": [
      "('max mins', -1.0, 0.9945457387121774)\n"
     ]
    },
    {
     "name": "stderr",
     "output_type": "stream",
     "text": [
      "\r",
      " 53%|█████▎    | 8/15 [00:40<00:36,  5.20s/it]"
     ]
    },
    {
     "name": "stdout",
     "output_type": "stream",
     "text": [
      "('max mins', -0.9589091947607681, 1.0)\n"
     ]
    },
    {
     "name": "stderr",
     "output_type": "stream",
     "text": [
      "\r",
      " 60%|██████    | 9/15 [00:46<00:31,  5.31s/it]"
     ]
    },
    {
     "name": "stdout",
     "output_type": "stream",
     "text": [
      "('max mins', -0.9643559131223649, 1.0)\n"
     ]
    },
    {
     "name": "stderr",
     "output_type": "stream",
     "text": [
      "\r",
      " 67%|██████▋   | 10/15 [00:51<00:25,  5.17s/it]"
     ]
    },
    {
     "name": "stdout",
     "output_type": "stream",
     "text": [
      "('max mins', -0.9913513794669172, 1.0)\n"
     ]
    },
    {
     "name": "stderr",
     "output_type": "stream",
     "text": [
      "\r",
      " 73%|███████▎  | 11/15 [00:56<00:20,  5.14s/it]"
     ]
    },
    {
     "name": "stdout",
     "output_type": "stream",
     "text": [
      "('max mins', -1.0, 0.9980330860645331)\n"
     ]
    },
    {
     "name": "stderr",
     "output_type": "stream",
     "text": [
      "\r",
      " 80%|████████  | 12/15 [01:01<00:15,  5.07s/it]"
     ]
    },
    {
     "name": "stdout",
     "output_type": "stream",
     "text": [
      "('max mins', -0.9838349328121095, 1.0)\n"
     ]
    },
    {
     "name": "stderr",
     "output_type": "stream",
     "text": [
      "\r",
      " 87%|████████▋ | 13/15 [01:05<00:09,  4.86s/it]"
     ]
    },
    {
     "name": "stdout",
     "output_type": "stream",
     "text": [
      "('max mins', -0.9530957512155002, 1.0)\n"
     ]
    },
    {
     "name": "stderr",
     "output_type": "stream",
     "text": [
      "\r",
      " 93%|█████████▎| 14/15 [01:10<00:04,  4.74s/it]"
     ]
    },
    {
     "name": "stdout",
     "output_type": "stream",
     "text": [
      "('max mins', -0.9789960168861033, 1.0)\n"
     ]
    },
    {
     "name": "stderr",
     "output_type": "stream",
     "text": [
      "100%|██████████| 15/15 [01:14<00:00,  4.68s/it]\n"
     ]
    },
    {
     "name": "stdout",
     "output_type": "stream",
     "text": [
      "('Best file pairs are: ', 'non_spikey_T0000859.WAV*non_spikey_T0000860.WAV')\n",
      "Start and end indices around peak:                  start index: 6035099\t\t          end index: 17535099                  total samples:30015488\n",
      "('AV Sync was above threshold: ', 0.8613207146378477)\n",
      "common_fps/Aditya_annotations/2018-08-18/common_fps_video_syncAditya_2018-08-19_23_16.csv\n",
      "('video_fps obtained is :', 25)\n",
      "Did not find user-provided sample rate - getting it from first file that matches format!\n",
      "('sampling rate is : ', 250000)\n",
      ".....finding best audio segment.....\n"
     ]
    },
    {
     "name": "stderr",
     "output_type": "stream",
     "text": [
      "\r",
      "  0%|          | 0/15 [00:00<?, ?it/s]"
     ]
    },
    {
     "name": "stdout",
     "output_type": "stream",
     "text": [
      "('max mins for upsampled video', -0.8797106550545829, 1.0)\n",
      "('max mins', -1.0, 0.9247948730428763)\n"
     ]
    },
    {
     "name": "stderr",
     "output_type": "stream",
     "text": [
      "\r",
      "  7%|▋         | 1/15 [00:04<01:05,  4.70s/it]"
     ]
    },
    {
     "name": "stdout",
     "output_type": "stream",
     "text": [
      "('max mins', -1.0, 0.9609768360886519)\n"
     ]
    },
    {
     "name": "stderr",
     "output_type": "stream",
     "text": [
      "\r",
      " 13%|█▎        | 2/15 [00:09<01:01,  4.77s/it]"
     ]
    },
    {
     "name": "stdout",
     "output_type": "stream",
     "text": [
      "('max mins', -1.0, 0.9805232904168644)\n"
     ]
    },
    {
     "name": "stderr",
     "output_type": "stream",
     "text": [
      "\r",
      " 20%|██        | 3/15 [00:14<00:57,  4.76s/it]"
     ]
    },
    {
     "name": "stdout",
     "output_type": "stream",
     "text": [
      "('max mins', -0.9971944581699195, 1.0)\n"
     ]
    },
    {
     "name": "stderr",
     "output_type": "stream",
     "text": [
      "\r",
      " 27%|██▋       | 4/15 [00:19<00:53,  4.89s/it]"
     ]
    },
    {
     "name": "stdout",
     "output_type": "stream",
     "text": [
      "('max mins', -0.9432270977593401, 1.0)\n"
     ]
    },
    {
     "name": "stderr",
     "output_type": "stream",
     "text": [
      "\r",
      " 33%|███▎      | 5/15 [00:26<00:53,  5.38s/it]"
     ]
    },
    {
     "name": "stdout",
     "output_type": "stream",
     "text": [
      "('max mins', -1.0, 0.9652737228547501)\n"
     ]
    },
    {
     "name": "stderr",
     "output_type": "stream",
     "text": [
      "\r",
      " 40%|████      | 6/15 [00:31<00:47,  5.28s/it]"
     ]
    },
    {
     "name": "stdout",
     "output_type": "stream",
     "text": [
      "('max mins', -1.0, 0.9136184428633362)\n"
     ]
    },
    {
     "name": "stderr",
     "output_type": "stream",
     "text": [
      "\r",
      " 47%|████▋     | 7/15 [00:35<00:41,  5.14s/it]"
     ]
    },
    {
     "name": "stdout",
     "output_type": "stream",
     "text": [
      "('max mins', -1.0, 0.9945457387121774)\n"
     ]
    },
    {
     "name": "stderr",
     "output_type": "stream",
     "text": [
      "\r",
      " 53%|█████▎    | 8/15 [00:40<00:34,  4.93s/it]"
     ]
    },
    {
     "name": "stdout",
     "output_type": "stream",
     "text": [
      "('max mins', -0.9589091947607681, 1.0)\n"
     ]
    },
    {
     "name": "stderr",
     "output_type": "stream",
     "text": [
      "\r",
      " 60%|██████    | 9/15 [00:44<00:28,  4.77s/it]"
     ]
    },
    {
     "name": "stdout",
     "output_type": "stream",
     "text": [
      "('max mins', -0.9643559131223649, 1.0)\n"
     ]
    },
    {
     "name": "stderr",
     "output_type": "stream",
     "text": [
      "\r",
      " 67%|██████▋   | 10/15 [00:49<00:24,  4.85s/it]"
     ]
    },
    {
     "name": "stdout",
     "output_type": "stream",
     "text": [
      "('max mins', -0.9913513794669172, 1.0)\n"
     ]
    },
    {
     "name": "stderr",
     "output_type": "stream",
     "text": [
      "\r",
      " 73%|███████▎  | 11/15 [00:54<00:19,  4.75s/it]"
     ]
    },
    {
     "name": "stdout",
     "output_type": "stream",
     "text": [
      "('max mins', -1.0, 0.9980330860645331)\n"
     ]
    },
    {
     "name": "stderr",
     "output_type": "stream",
     "text": [
      "\r",
      " 80%|████████  | 12/15 [00:59<00:14,  4.76s/it]"
     ]
    },
    {
     "name": "stdout",
     "output_type": "stream",
     "text": [
      "('max mins', -0.9838349328121095, 1.0)\n"
     ]
    },
    {
     "name": "stderr",
     "output_type": "stream",
     "text": [
      "\r",
      " 87%|████████▋ | 13/15 [01:03<00:09,  4.71s/it]"
     ]
    },
    {
     "name": "stdout",
     "output_type": "stream",
     "text": [
      "('max mins', -0.9530957512155002, 1.0)\n"
     ]
    },
    {
     "name": "stderr",
     "output_type": "stream",
     "text": [
      "\r",
      " 93%|█████████▎| 14/15 [01:08<00:04,  4.83s/it]"
     ]
    },
    {
     "name": "stdout",
     "output_type": "stream",
     "text": [
      "('max mins', -0.9789960168861033, 1.0)\n"
     ]
    },
    {
     "name": "stderr",
     "output_type": "stream",
     "text": [
      "100%|██████████| 15/15 [01:13<00:00,  4.76s/it]\n"
     ]
    },
    {
     "name": "stdout",
     "output_type": "stream",
     "text": [
      "('Best file pairs are: ', 'non_spikey_T0000859.WAV*non_spikey_T0000860.WAV')\n",
      "Start and end indices around peak:                  start index: 6285362\t\t          end index: 17785362                  total samples:30015488\n",
      "('AV Sync was above threshold: ', 0.8575182358664758)\n",
      "common_fps/Aditya_annotations/2018-08-18/common_fps_video_syncAditya_2018-08-19_23_17.csv\n",
      "('video_fps obtained is :', 25)\n",
      "Did not find user-provided sample rate - getting it from first file that matches format!\n",
      "('sampling rate is : ', 250000)\n",
      ".....finding best audio segment.....\n"
     ]
    },
    {
     "name": "stderr",
     "output_type": "stream",
     "text": [
      "\r",
      "  0%|          | 0/15 [00:00<?, ?it/s]"
     ]
    },
    {
     "name": "stdout",
     "output_type": "stream",
     "text": [
      "('max mins for upsampled video', -0.8797106550545829, 1.0)\n",
      "('max mins', -1.0, 0.9247948730428763)\n"
     ]
    },
    {
     "name": "stderr",
     "output_type": "stream",
     "text": [
      "\r",
      "  7%|▋         | 1/15 [00:04<01:07,  4.81s/it]"
     ]
    },
    {
     "name": "stdout",
     "output_type": "stream",
     "text": [
      "('max mins', -1.0, 0.9609768360886519)\n"
     ]
    },
    {
     "name": "stderr",
     "output_type": "stream",
     "text": [
      "\r",
      " 13%|█▎        | 2/15 [00:09<01:02,  4.79s/it]"
     ]
    },
    {
     "name": "stdout",
     "output_type": "stream",
     "text": [
      "('max mins', -1.0, 0.9805232904168644)\n"
     ]
    },
    {
     "name": "stderr",
     "output_type": "stream",
     "text": [
      "\r",
      " 20%|██        | 3/15 [00:14<00:57,  4.82s/it]"
     ]
    },
    {
     "name": "stdout",
     "output_type": "stream",
     "text": [
      "('max mins', -0.9971944581699195, 1.0)\n"
     ]
    },
    {
     "name": "stderr",
     "output_type": "stream",
     "text": [
      "\r",
      " 27%|██▋       | 4/15 [00:19<00:52,  4.80s/it]"
     ]
    },
    {
     "name": "stdout",
     "output_type": "stream",
     "text": [
      "('max mins', -0.9432270977593401, 1.0)\n"
     ]
    },
    {
     "name": "stderr",
     "output_type": "stream",
     "text": [
      "\r",
      " 33%|███▎      | 5/15 [00:23<00:47,  4.79s/it]"
     ]
    },
    {
     "name": "stdout",
     "output_type": "stream",
     "text": [
      "('max mins', -1.0, 0.9652737228547501)\n"
     ]
    },
    {
     "name": "stderr",
     "output_type": "stream",
     "text": [
      "\r",
      " 40%|████      | 6/15 [00:28<00:42,  4.74s/it]"
     ]
    },
    {
     "name": "stdout",
     "output_type": "stream",
     "text": [
      "('max mins', -1.0, 0.9136184428633362)\n"
     ]
    },
    {
     "name": "stderr",
     "output_type": "stream",
     "text": [
      "\r",
      " 47%|████▋     | 7/15 [00:33<00:37,  4.72s/it]"
     ]
    },
    {
     "name": "stdout",
     "output_type": "stream",
     "text": [
      "('max mins', -1.0, 0.9945457387121774)\n"
     ]
    },
    {
     "name": "stderr",
     "output_type": "stream",
     "text": [
      "\r",
      " 53%|█████▎    | 8/15 [00:38<00:33,  4.75s/it]"
     ]
    },
    {
     "name": "stdout",
     "output_type": "stream",
     "text": [
      "('max mins', -0.9589091947607681, 1.0)\n"
     ]
    },
    {
     "name": "stderr",
     "output_type": "stream",
     "text": [
      "\r",
      " 60%|██████    | 9/15 [00:42<00:27,  4.66s/it]"
     ]
    },
    {
     "name": "stdout",
     "output_type": "stream",
     "text": [
      "('max mins', -0.9643559131223649, 1.0)\n"
     ]
    },
    {
     "name": "stderr",
     "output_type": "stream",
     "text": [
      "\r",
      " 67%|██████▋   | 10/15 [00:46<00:22,  4.59s/it]"
     ]
    },
    {
     "name": "stdout",
     "output_type": "stream",
     "text": [
      "('max mins', -0.9913513794669172, 1.0)\n"
     ]
    },
    {
     "name": "stderr",
     "output_type": "stream",
     "text": [
      "\r",
      " 73%|███████▎  | 11/15 [00:51<00:18,  4.70s/it]"
     ]
    },
    {
     "name": "stdout",
     "output_type": "stream",
     "text": [
      "('max mins', -1.0, 0.9980330860645331)\n"
     ]
    },
    {
     "name": "stderr",
     "output_type": "stream",
     "text": [
      "\r",
      " 80%|████████  | 12/15 [00:57<00:14,  4.88s/it]"
     ]
    },
    {
     "name": "stdout",
     "output_type": "stream",
     "text": [
      "('max mins', -0.9838349328121095, 1.0)\n"
     ]
    },
    {
     "name": "stderr",
     "output_type": "stream",
     "text": [
      "\r",
      " 87%|████████▋ | 13/15 [01:01<00:09,  4.76s/it]"
     ]
    },
    {
     "name": "stdout",
     "output_type": "stream",
     "text": [
      "('max mins', -0.9530957512155002, 1.0)\n"
     ]
    },
    {
     "name": "stderr",
     "output_type": "stream",
     "text": [
      "\r",
      " 93%|█████████▎| 14/15 [01:07<00:05,  5.00s/it]"
     ]
    },
    {
     "name": "stdout",
     "output_type": "stream",
     "text": [
      "('max mins', -0.9789960168861033, 1.0)\n"
     ]
    },
    {
     "name": "stderr",
     "output_type": "stream",
     "text": [
      "100%|██████████| 15/15 [01:12<00:00,  4.96s/it]\n"
     ]
    },
    {
     "name": "stdout",
     "output_type": "stream",
     "text": [
      "('Best file pairs are: ', 'non_spikey_T0000859.WAV*non_spikey_T0000860.WAV')\n",
      "Start and end indices around peak:                  start index: 6285362\t\t          end index: 17785362                  total samples:30015488\n",
      "('AV Sync was above threshold: ', 0.8575182358664758)\n",
      "common_fps/Aditya_annotations/2018-08-18/common_fps_video_syncAditya_2018-08-19_23_18.csv\n",
      "('video_fps obtained is :', 25)\n",
      "Did not find user-provided sample rate - getting it from first file that matches format!\n",
      "('sampling rate is : ', 250000)\n",
      ".....finding best audio segment.....\n"
     ]
    },
    {
     "name": "stderr",
     "output_type": "stream",
     "text": [
      "\r",
      "  0%|          | 0/15 [00:00<?, ?it/s]"
     ]
    },
    {
     "name": "stdout",
     "output_type": "stream",
     "text": [
      "('max mins for upsampled video', -0.898132384731401, 1.0)\n",
      "('max mins', -1.0, 0.9247948730428763)\n"
     ]
    },
    {
     "name": "stderr",
     "output_type": "stream",
     "text": [
      "\r",
      "  7%|▋         | 1/15 [00:05<01:10,  5.01s/it]"
     ]
    },
    {
     "name": "stdout",
     "output_type": "stream",
     "text": [
      "('max mins', -1.0, 0.9609768360886519)\n"
     ]
    },
    {
     "name": "stderr",
     "output_type": "stream",
     "text": [
      "\r",
      " 13%|█▎        | 2/15 [00:10<01:05,  5.04s/it]"
     ]
    },
    {
     "name": "stdout",
     "output_type": "stream",
     "text": [
      "('max mins', -1.0, 0.9805232904168644)\n"
     ]
    },
    {
     "name": "stderr",
     "output_type": "stream",
     "text": [
      "\r",
      " 20%|██        | 3/15 [00:15<01:02,  5.19s/it]"
     ]
    },
    {
     "name": "stdout",
     "output_type": "stream",
     "text": [
      "('max mins', -0.9971944581699195, 1.0)\n"
     ]
    },
    {
     "name": "stderr",
     "output_type": "stream",
     "text": [
      "\r",
      " 27%|██▋       | 4/15 [00:20<00:55,  5.06s/it]"
     ]
    },
    {
     "name": "stdout",
     "output_type": "stream",
     "text": [
      "('max mins', -0.9432270977593401, 1.0)\n"
     ]
    },
    {
     "name": "stderr",
     "output_type": "stream",
     "text": [
      "\r",
      " 33%|███▎      | 5/15 [00:24<00:49,  4.91s/it]"
     ]
    },
    {
     "name": "stdout",
     "output_type": "stream",
     "text": [
      "('max mins', -1.0, 0.9652737228547501)\n"
     ]
    },
    {
     "name": "stderr",
     "output_type": "stream",
     "text": [
      "\r",
      " 40%|████      | 6/15 [00:29<00:44,  4.91s/it]"
     ]
    },
    {
     "name": "stdout",
     "output_type": "stream",
     "text": [
      "('max mins', -1.0, 0.9136184428633362)\n"
     ]
    },
    {
     "name": "stderr",
     "output_type": "stream",
     "text": [
      "\r",
      " 47%|████▋     | 7/15 [00:34<00:39,  4.91s/it]"
     ]
    },
    {
     "name": "stdout",
     "output_type": "stream",
     "text": [
      "('max mins', -1.0, 0.9945457387121774)\n"
     ]
    },
    {
     "name": "stderr",
     "output_type": "stream",
     "text": [
      "\r",
      " 53%|█████▎    | 8/15 [00:39<00:34,  4.95s/it]"
     ]
    },
    {
     "name": "stdout",
     "output_type": "stream",
     "text": [
      "('max mins', -0.9589091947607681, 1.0)\n"
     ]
    },
    {
     "name": "stderr",
     "output_type": "stream",
     "text": [
      "\r",
      " 60%|██████    | 9/15 [00:45<00:30,  5.04s/it]"
     ]
    },
    {
     "name": "stdout",
     "output_type": "stream",
     "text": [
      "('max mins', -0.9643559131223649, 1.0)\n"
     ]
    },
    {
     "name": "stderr",
     "output_type": "stream",
     "text": [
      "\r",
      " 67%|██████▋   | 10/15 [00:50<00:25,  5.10s/it]"
     ]
    },
    {
     "name": "stdout",
     "output_type": "stream",
     "text": [
      "('max mins', -0.9913513794669172, 1.0)\n"
     ]
    },
    {
     "name": "stderr",
     "output_type": "stream",
     "text": [
      "\r",
      " 73%|███████▎  | 11/15 [00:55<00:20,  5.03s/it]"
     ]
    },
    {
     "name": "stdout",
     "output_type": "stream",
     "text": [
      "('max mins', -1.0, 0.9980330860645331)\n"
     ]
    },
    {
     "name": "stderr",
     "output_type": "stream",
     "text": [
      "\r",
      " 80%|████████  | 12/15 [01:00<00:14,  4.98s/it]"
     ]
    },
    {
     "name": "stdout",
     "output_type": "stream",
     "text": [
      "('max mins', -0.9838349328121095, 1.0)\n"
     ]
    },
    {
     "name": "stderr",
     "output_type": "stream",
     "text": [
      "\r",
      " 87%|████████▋ | 13/15 [01:04<00:09,  4.88s/it]"
     ]
    },
    {
     "name": "stdout",
     "output_type": "stream",
     "text": [
      "('max mins', -0.9530957512155002, 1.0)\n"
     ]
    },
    {
     "name": "stderr",
     "output_type": "stream",
     "text": [
      "\r",
      " 93%|█████████▎| 14/15 [01:09<00:04,  4.85s/it]"
     ]
    },
    {
     "name": "stdout",
     "output_type": "stream",
     "text": [
      "('max mins', -0.9789960168861033, 1.0)\n"
     ]
    },
    {
     "name": "stderr",
     "output_type": "stream",
     "text": [
      "100%|██████████| 15/15 [01:14<00:00,  4.78s/it]\n"
     ]
    },
    {
     "name": "stdout",
     "output_type": "stream",
     "text": [
      "('Best file pairs are: ', 'non_spikey_T0000859.WAV*non_spikey_T0000860.WAV')\n",
      "Start and end indices around peak:                  start index: 11284019\t\t          end index: 22784019                  total samples:30015488\n",
      "('AV Sync was above threshold: ', 0.8693935722997439)\n",
      "common_fps/Aditya_annotations/2018-08-18/common_fps_video_syncAditya_2018-08-19_23_19.csv\n",
      "('video_fps obtained is :', 25)\n",
      "Did not find user-provided sample rate - getting it from first file that matches format!\n",
      "('sampling rate is : ', 250000)\n",
      ".....finding best audio segment.....\n"
     ]
    },
    {
     "name": "stderr",
     "output_type": "stream",
     "text": [
      "\r",
      "  0%|          | 0/15 [00:00<?, ?it/s]"
     ]
    },
    {
     "name": "stdout",
     "output_type": "stream",
     "text": [
      "('max mins for upsampled video', -0.8689439514755837, 1.0)\n",
      "('max mins', -1.0, 0.9247948730428763)\n"
     ]
    },
    {
     "name": "stderr",
     "output_type": "stream",
     "text": [
      "\r",
      "  7%|▋         | 1/15 [00:04<01:05,  4.66s/it]"
     ]
    },
    {
     "name": "stdout",
     "output_type": "stream",
     "text": [
      "('max mins', -1.0, 0.9609768360886519)\n"
     ]
    },
    {
     "name": "stderr",
     "output_type": "stream",
     "text": [
      "\r",
      " 13%|█▎        | 2/15 [00:09<01:00,  4.68s/it]"
     ]
    },
    {
     "name": "stdout",
     "output_type": "stream",
     "text": [
      "('max mins', -1.0, 0.9805232904168644)\n"
     ]
    },
    {
     "name": "stderr",
     "output_type": "stream",
     "text": [
      "\r",
      " 20%|██        | 3/15 [00:14<00:57,  4.79s/it]"
     ]
    },
    {
     "name": "stdout",
     "output_type": "stream",
     "text": [
      "('max mins', -0.9971944581699195, 1.0)\n"
     ]
    },
    {
     "name": "stderr",
     "output_type": "stream",
     "text": [
      "\r",
      " 27%|██▋       | 4/15 [00:19<00:52,  4.82s/it]"
     ]
    },
    {
     "name": "stdout",
     "output_type": "stream",
     "text": [
      "('max mins', -0.9432270977593401, 1.0)\n"
     ]
    },
    {
     "name": "stderr",
     "output_type": "stream",
     "text": [
      "\r",
      " 33%|███▎      | 5/15 [00:24<00:47,  4.79s/it]"
     ]
    },
    {
     "name": "stdout",
     "output_type": "stream",
     "text": [
      "('max mins', -1.0, 0.9652737228547501)\n"
     ]
    },
    {
     "name": "stderr",
     "output_type": "stream",
     "text": [
      "\r",
      " 40%|████      | 6/15 [00:29<00:43,  4.86s/it]"
     ]
    },
    {
     "name": "stdout",
     "output_type": "stream",
     "text": [
      "('max mins', -1.0, 0.9136184428633362)\n"
     ]
    },
    {
     "name": "stderr",
     "output_type": "stream",
     "text": [
      "\r",
      " 47%|████▋     | 7/15 [00:33<00:37,  4.73s/it]"
     ]
    },
    {
     "name": "stdout",
     "output_type": "stream",
     "text": [
      "('max mins', -1.0, 0.9945457387121774)\n"
     ]
    },
    {
     "name": "stderr",
     "output_type": "stream",
     "text": [
      "\r",
      " 53%|█████▎    | 8/15 [00:37<00:32,  4.63s/it]"
     ]
    },
    {
     "name": "stdout",
     "output_type": "stream",
     "text": [
      "('max mins', -0.9589091947607681, 1.0)\n"
     ]
    },
    {
     "name": "stderr",
     "output_type": "stream",
     "text": [
      "\r",
      " 60%|██████    | 9/15 [00:43<00:28,  4.80s/it]"
     ]
    },
    {
     "name": "stdout",
     "output_type": "stream",
     "text": [
      "('max mins', -0.9643559131223649, 1.0)\n"
     ]
    },
    {
     "name": "stderr",
     "output_type": "stream",
     "text": [
      "\r",
      " 67%|██████▋   | 10/15 [00:47<00:23,  4.73s/it]"
     ]
    },
    {
     "name": "stdout",
     "output_type": "stream",
     "text": [
      "('max mins', -0.9913513794669172, 1.0)\n"
     ]
    },
    {
     "name": "stderr",
     "output_type": "stream",
     "text": [
      "\r",
      " 73%|███████▎  | 11/15 [00:51<00:18,  4.60s/it]"
     ]
    },
    {
     "name": "stdout",
     "output_type": "stream",
     "text": [
      "('max mins', -1.0, 0.9980330860645331)\n"
     ]
    },
    {
     "name": "stderr",
     "output_type": "stream",
     "text": [
      "\r",
      " 80%|████████  | 12/15 [00:56<00:13,  4.52s/it]"
     ]
    },
    {
     "name": "stdout",
     "output_type": "stream",
     "text": [
      "('max mins', -0.9838349328121095, 1.0)\n"
     ]
    },
    {
     "name": "stderr",
     "output_type": "stream",
     "text": [
      "\r",
      " 87%|████████▋ | 13/15 [01:00<00:08,  4.50s/it]"
     ]
    },
    {
     "name": "stdout",
     "output_type": "stream",
     "text": [
      "('max mins', -0.9530957512155002, 1.0)\n"
     ]
    },
    {
     "name": "stderr",
     "output_type": "stream",
     "text": [
      "\r",
      " 93%|█████████▎| 14/15 [01:05<00:04,  4.55s/it]"
     ]
    },
    {
     "name": "stdout",
     "output_type": "stream",
     "text": [
      "('max mins', -0.9789960168861033, 1.0)\n"
     ]
    },
    {
     "name": "stderr",
     "output_type": "stream",
     "text": [
      "100%|██████████| 15/15 [01:09<00:00,  4.51s/it]\n"
     ]
    },
    {
     "name": "stdout",
     "output_type": "stream",
     "text": [
      "('Best file pairs are: ', 'non_spikey_T0000859.WAV*non_spikey_T0000860.WAV')\n",
      "Start and end indices around peak:                  start index: 14284324\t\t          end index: 25784324                  total samples:30015488\n",
      "('AV Sync was above threshold: ', 0.8656222125945164)\n",
      "common_fps/Aditya_annotations/2018-08-18/common_fps_video_syncAditya_2018-08-19_23_2.csv\n",
      "('video_fps obtained is :', 25)\n",
      "Did not find user-provided sample rate - getting it from first file that matches format!\n",
      "('sampling rate is : ', 250000)\n",
      ".....finding best audio segment.....\n"
     ]
    },
    {
     "name": "stderr",
     "output_type": "stream",
     "text": [
      "\r",
      "  0%|          | 0/15 [00:00<?, ?it/s]"
     ]
    },
    {
     "name": "stdout",
     "output_type": "stream",
     "text": [
      "('max mins for upsampled video', -0.9374423461331963, 1.0)\n",
      "('max mins', -1.0, 0.9247948730428763)\n"
     ]
    },
    {
     "name": "stderr",
     "output_type": "stream",
     "text": [
      "\r",
      "  7%|▋         | 1/15 [00:04<01:08,  4.91s/it]"
     ]
    },
    {
     "name": "stdout",
     "output_type": "stream",
     "text": [
      "('max mins', -1.0, 0.9609768360886519)\n"
     ]
    },
    {
     "name": "stderr",
     "output_type": "stream",
     "text": [
      "\r",
      " 13%|█▎        | 2/15 [00:09<01:04,  4.96s/it]"
     ]
    },
    {
     "name": "stdout",
     "output_type": "stream",
     "text": [
      "('max mins', -1.0, 0.9805232904168644)\n"
     ]
    },
    {
     "name": "stderr",
     "output_type": "stream",
     "text": [
      "\r",
      " 20%|██        | 3/15 [00:15<01:02,  5.24s/it]"
     ]
    },
    {
     "name": "stdout",
     "output_type": "stream",
     "text": [
      "('max mins', -0.9971944581699195, 1.0)\n"
     ]
    },
    {
     "name": "stderr",
     "output_type": "stream",
     "text": [
      "\r",
      " 27%|██▋       | 4/15 [00:22<01:00,  5.53s/it]"
     ]
    },
    {
     "name": "stdout",
     "output_type": "stream",
     "text": [
      "('max mins', -0.9432270977593401, 1.0)\n"
     ]
    },
    {
     "name": "stderr",
     "output_type": "stream",
     "text": [
      "\r",
      " 33%|███▎      | 5/15 [00:27<00:56,  5.64s/it]"
     ]
    },
    {
     "name": "stdout",
     "output_type": "stream",
     "text": [
      "('max mins', -1.0, 0.9652737228547501)\n"
     ]
    },
    {
     "name": "stderr",
     "output_type": "stream",
     "text": [
      "\r",
      " 40%|████      | 6/15 [00:34<00:51,  5.75s/it]"
     ]
    },
    {
     "name": "stdout",
     "output_type": "stream",
     "text": [
      "('max mins', -1.0, 0.9136184428633362)\n"
     ]
    },
    {
     "name": "stderr",
     "output_type": "stream",
     "text": [
      "\r",
      " 47%|████▋     | 7/15 [00:39<00:46,  5.79s/it]"
     ]
    },
    {
     "name": "stdout",
     "output_type": "stream",
     "text": [
      "('max mins', -1.0, 0.9945457387121774)\n"
     ]
    },
    {
     "name": "stderr",
     "output_type": "stream",
     "text": [
      "\r",
      " 53%|█████▎    | 8/15 [00:45<00:41,  5.87s/it]"
     ]
    },
    {
     "name": "stdout",
     "output_type": "stream",
     "text": [
      "('max mins', -0.9589091947607681, 1.0)\n"
     ]
    },
    {
     "name": "stderr",
     "output_type": "stream",
     "text": [
      "\r",
      " 60%|██████    | 9/15 [00:51<00:35,  5.89s/it]"
     ]
    },
    {
     "name": "stdout",
     "output_type": "stream",
     "text": [
      "('max mins', -0.9643559131223649, 1.0)\n"
     ]
    },
    {
     "name": "stderr",
     "output_type": "stream",
     "text": [
      "\r",
      " 67%|██████▋   | 10/15 [00:58<00:30,  6.06s/it]"
     ]
    },
    {
     "name": "stdout",
     "output_type": "stream",
     "text": [
      "('max mins', -0.9913513794669172, 1.0)\n"
     ]
    },
    {
     "name": "stderr",
     "output_type": "stream",
     "text": [
      "\r",
      " 73%|███████▎  | 11/15 [01:03<00:23,  5.93s/it]"
     ]
    },
    {
     "name": "stdout",
     "output_type": "stream",
     "text": [
      "('max mins', -1.0, 0.9980330860645331)\n"
     ]
    },
    {
     "name": "stderr",
     "output_type": "stream",
     "text": [
      "\r",
      " 80%|████████  | 12/15 [01:09<00:17,  5.91s/it]"
     ]
    },
    {
     "name": "stdout",
     "output_type": "stream",
     "text": [
      "('max mins', -0.9838349328121095, 1.0)\n"
     ]
    },
    {
     "name": "stderr",
     "output_type": "stream",
     "text": [
      "\r",
      " 87%|████████▋ | 13/15 [01:15<00:11,  5.82s/it]"
     ]
    },
    {
     "name": "stdout",
     "output_type": "stream",
     "text": [
      "('max mins', -0.9530957512155002, 1.0)\n"
     ]
    },
    {
     "name": "stderr",
     "output_type": "stream",
     "text": [
      "\r",
      " 93%|█████████▎| 14/15 [01:20<00:05,  5.73s/it]"
     ]
    },
    {
     "name": "stdout",
     "output_type": "stream",
     "text": [
      "('max mins', -0.9789960168861033, 1.0)\n"
     ]
    },
    {
     "name": "stderr",
     "output_type": "stream",
     "text": [
      "100%|██████████| 15/15 [01:26<00:00,  5.64s/it]\n"
     ]
    },
    {
     "name": "stdout",
     "output_type": "stream",
     "text": [
      "('Best file pairs are: ', 'non_spikey_T0000856.WAV*non_spikey_T0000857.WAV')\n",
      "Start and end indices around peak:                  start index: 7287397\t\t          end index: 18787397                  total samples:30015488\n",
      "('AV Sync was above threshold: ', 0.8866091802419821)\n",
      "common_fps/Aditya_annotations/2018-08-18/common_fps_video_syncAditya_2018-08-19_23_29.csv\n",
      "('video_fps obtained is :', 25)\n",
      "Did not find user-provided sample rate - getting it from first file that matches format!\n",
      "('sampling rate is : ', 250000)\n",
      ".....finding best audio segment.....\n"
     ]
    },
    {
     "name": "stderr",
     "output_type": "stream",
     "text": [
      "\r",
      "  0%|          | 0/15 [00:00<?, ?it/s]"
     ]
    },
    {
     "name": "stdout",
     "output_type": "stream",
     "text": [
      "('max mins for upsampled video', -0.8345879728935107, 1.0)\n",
      "('max mins', -1.0, 0.9247948730428763)\n"
     ]
    },
    {
     "name": "stderr",
     "output_type": "stream",
     "text": [
      "\r",
      "  7%|▋         | 1/15 [00:06<01:35,  6.85s/it]"
     ]
    },
    {
     "name": "stdout",
     "output_type": "stream",
     "text": [
      "('max mins', -1.0, 0.9609768360886519)\n"
     ]
    },
    {
     "name": "stderr",
     "output_type": "stream",
     "text": [
      "\r",
      " 13%|█▎        | 2/15 [00:13<01:26,  6.66s/it]"
     ]
    },
    {
     "name": "stdout",
     "output_type": "stream",
     "text": [
      "('max mins', -1.0, 0.9805232904168644)\n"
     ]
    },
    {
     "name": "stderr",
     "output_type": "stream",
     "text": [
      "\r",
      " 20%|██        | 3/15 [00:18<01:17,  6.43s/it]"
     ]
    },
    {
     "name": "stdout",
     "output_type": "stream",
     "text": [
      "('max mins', -0.9971944581699195, 1.0)\n"
     ]
    },
    {
     "name": "stderr",
     "output_type": "stream",
     "text": [
      "\r",
      " 27%|██▋       | 4/15 [00:25<01:09,  6.35s/it]"
     ]
    },
    {
     "name": "stdout",
     "output_type": "stream",
     "text": [
      "('max mins', -0.9432270977593401, 1.0)\n"
     ]
    },
    {
     "name": "stderr",
     "output_type": "stream",
     "text": [
      "\r",
      " 33%|███▎      | 5/15 [00:31<01:03,  6.34s/it]"
     ]
    },
    {
     "name": "stdout",
     "output_type": "stream",
     "text": [
      "('max mins', -1.0, 0.9652737228547501)\n"
     ]
    },
    {
     "name": "stderr",
     "output_type": "stream",
     "text": [
      "\r",
      " 40%|████      | 6/15 [00:37<00:56,  6.28s/it]"
     ]
    },
    {
     "name": "stdout",
     "output_type": "stream",
     "text": [
      "('max mins', -1.0, 0.9136184428633362)\n"
     ]
    },
    {
     "name": "stderr",
     "output_type": "stream",
     "text": [
      "\r",
      " 47%|████▋     | 7/15 [00:44<00:50,  6.34s/it]"
     ]
    },
    {
     "name": "stdout",
     "output_type": "stream",
     "text": [
      "('max mins', -1.0, 0.9945457387121774)\n"
     ]
    },
    {
     "name": "stderr",
     "output_type": "stream",
     "text": [
      "\r",
      " 53%|█████▎    | 8/15 [00:50<00:43,  6.28s/it]"
     ]
    },
    {
     "name": "stdout",
     "output_type": "stream",
     "text": [
      "('max mins', -0.9589091947607681, 1.0)\n"
     ]
    },
    {
     "name": "stderr",
     "output_type": "stream",
     "text": [
      "\r",
      " 60%|██████    | 9/15 [00:56<00:37,  6.31s/it]"
     ]
    },
    {
     "name": "stdout",
     "output_type": "stream",
     "text": [
      "('max mins', -0.9643559131223649, 1.0)\n"
     ]
    },
    {
     "name": "stderr",
     "output_type": "stream",
     "text": [
      "\r",
      " 67%|██████▋   | 10/15 [01:02<00:31,  6.24s/it]"
     ]
    },
    {
     "name": "stdout",
     "output_type": "stream",
     "text": [
      "('max mins', -0.9913513794669172, 1.0)\n"
     ]
    },
    {
     "name": "stderr",
     "output_type": "stream",
     "text": [
      "\r",
      " 73%|███████▎  | 11/15 [01:08<00:24,  6.14s/it]"
     ]
    },
    {
     "name": "stdout",
     "output_type": "stream",
     "text": [
      "('max mins', -1.0, 0.9980330860645331)\n"
     ]
    },
    {
     "name": "stderr",
     "output_type": "stream",
     "text": [
      "\r",
      " 80%|████████  | 12/15 [01:14<00:18,  6.14s/it]"
     ]
    },
    {
     "name": "stdout",
     "output_type": "stream",
     "text": [
      "('max mins', -0.9838349328121095, 1.0)\n"
     ]
    },
    {
     "name": "stderr",
     "output_type": "stream",
     "text": [
      "\r",
      " 87%|████████▋ | 13/15 [01:21<00:12,  6.20s/it]"
     ]
    },
    {
     "name": "stdout",
     "output_type": "stream",
     "text": [
      "('max mins', -0.9530957512155002, 1.0)\n"
     ]
    },
    {
     "name": "stderr",
     "output_type": "stream",
     "text": [
      "\r",
      " 93%|█████████▎| 14/15 [01:27<00:06,  6.14s/it]"
     ]
    },
    {
     "name": "stdout",
     "output_type": "stream",
     "text": [
      "('max mins', -0.9789960168861033, 1.0)\n"
     ]
    },
    {
     "name": "stderr",
     "output_type": "stream",
     "text": [
      "100%|██████████| 15/15 [01:33<00:00,  6.18s/it]\n"
     ]
    },
    {
     "name": "stdout",
     "output_type": "stream",
     "text": [
      "('Best file pairs are: ', 'non_spikey_T0000862.WAV*non_spikey_T0000863.WAV')\n",
      "Start and end indices around peak:                  start index: 3516362\t\t          end index: 15016362                  total samples:30015488\n",
      "('AV Sync was above threshold: ', 0.8451060493450266)\n",
      "common_fps/Aditya_annotations/2018-08-18/common_fps_video_syncAditya_2018-08-19_23_3.csv\n",
      "('video_fps obtained is :', 25)\n",
      "Did not find user-provided sample rate - getting it from first file that matches format!\n",
      "('sampling rate is : ', 250000)\n",
      ".....finding best audio segment.....\n"
     ]
    },
    {
     "name": "stderr",
     "output_type": "stream",
     "text": [
      "\r",
      "  0%|          | 0/15 [00:00<?, ?it/s]"
     ]
    },
    {
     "name": "stdout",
     "output_type": "stream",
     "text": [
      "('max mins for upsampled video', -0.9265161140348465, 1.0)\n",
      "('max mins', -1.0, 0.9247948730428763)\n"
     ]
    },
    {
     "name": "stderr",
     "output_type": "stream",
     "text": [
      "\r",
      "  7%|▋         | 1/15 [00:05<01:22,  5.87s/it]"
     ]
    },
    {
     "name": "stdout",
     "output_type": "stream",
     "text": [
      "('max mins', -1.0, 0.9609768360886519)\n"
     ]
    },
    {
     "name": "stderr",
     "output_type": "stream",
     "text": [
      "\r",
      " 13%|█▎        | 2/15 [00:12<01:17,  5.98s/it]"
     ]
    },
    {
     "name": "stdout",
     "output_type": "stream",
     "text": [
      "('max mins', -1.0, 0.9805232904168644)\n"
     ]
    },
    {
     "name": "stderr",
     "output_type": "stream",
     "text": [
      "\r",
      " 20%|██        | 3/15 [00:18<01:12,  6.05s/it]"
     ]
    },
    {
     "name": "stdout",
     "output_type": "stream",
     "text": [
      "('max mins', -0.9971944581699195, 1.0)\n"
     ]
    },
    {
     "name": "stderr",
     "output_type": "stream",
     "text": [
      "\r",
      " 27%|██▋       | 4/15 [00:24<01:06,  6.02s/it]"
     ]
    },
    {
     "name": "stdout",
     "output_type": "stream",
     "text": [
      "('max mins', -0.9432270977593401, 1.0)\n"
     ]
    },
    {
     "name": "stderr",
     "output_type": "stream",
     "text": [
      "\r",
      " 33%|███▎      | 5/15 [00:30<01:00,  6.05s/it]"
     ]
    },
    {
     "name": "stdout",
     "output_type": "stream",
     "text": [
      "('max mins', -1.0, 0.9652737228547501)\n"
     ]
    },
    {
     "name": "stderr",
     "output_type": "stream",
     "text": [
      "\r",
      " 40%|████      | 6/15 [00:36<00:54,  6.10s/it]"
     ]
    },
    {
     "name": "stdout",
     "output_type": "stream",
     "text": [
      "('max mins', -1.0, 0.9136184428633362)\n"
     ]
    },
    {
     "name": "stderr",
     "output_type": "stream",
     "text": [
      "\r",
      " 47%|████▋     | 7/15 [00:42<00:48,  6.11s/it]"
     ]
    },
    {
     "name": "stdout",
     "output_type": "stream",
     "text": [
      "('max mins', -1.0, 0.9945457387121774)\n"
     ]
    },
    {
     "name": "stderr",
     "output_type": "stream",
     "text": [
      "\r",
      " 53%|█████▎    | 8/15 [00:48<00:42,  6.12s/it]"
     ]
    },
    {
     "name": "stdout",
     "output_type": "stream",
     "text": [
      "('max mins', -0.9589091947607681, 1.0)\n"
     ]
    },
    {
     "name": "stderr",
     "output_type": "stream",
     "text": [
      "\r",
      " 60%|██████    | 9/15 [00:54<00:36,  6.09s/it]"
     ]
    },
    {
     "name": "stdout",
     "output_type": "stream",
     "text": [
      "('max mins', -0.9643559131223649, 1.0)\n"
     ]
    },
    {
     "name": "stderr",
     "output_type": "stream",
     "text": [
      "\r",
      " 67%|██████▋   | 10/15 [01:00<00:29,  5.95s/it]"
     ]
    },
    {
     "name": "stdout",
     "output_type": "stream",
     "text": [
      "('max mins', -0.9913513794669172, 1.0)\n"
     ]
    },
    {
     "name": "stderr",
     "output_type": "stream",
     "text": [
      "\r",
      " 73%|███████▎  | 11/15 [01:06<00:24,  6.04s/it]"
     ]
    },
    {
     "name": "stdout",
     "output_type": "stream",
     "text": [
      "('max mins', -1.0, 0.9980330860645331)\n"
     ]
    },
    {
     "name": "stderr",
     "output_type": "stream",
     "text": [
      "\r",
      " 80%|████████  | 12/15 [01:13<00:18,  6.11s/it]"
     ]
    },
    {
     "name": "stdout",
     "output_type": "stream",
     "text": [
      "('max mins', -0.9838349328121095, 1.0)\n"
     ]
    },
    {
     "name": "stderr",
     "output_type": "stream",
     "text": [
      "\r",
      " 87%|████████▋ | 13/15 [01:19<00:12,  6.16s/it]"
     ]
    },
    {
     "name": "stdout",
     "output_type": "stream",
     "text": [
      "('max mins', -0.9530957512155002, 1.0)\n"
     ]
    },
    {
     "name": "stderr",
     "output_type": "stream",
     "text": [
      "\r",
      " 93%|█████████▎| 14/15 [01:25<00:06,  6.15s/it]"
     ]
    },
    {
     "name": "stdout",
     "output_type": "stream",
     "text": [
      "('max mins', -0.9789960168861033, 1.0)\n"
     ]
    },
    {
     "name": "stderr",
     "output_type": "stream",
     "text": [
      "100%|██████████| 15/15 [01:31<00:00,  5.98s/it]\n"
     ]
    },
    {
     "name": "stdout",
     "output_type": "stream",
     "text": [
      "('Best file pairs are: ', 'non_spikey_T0000856.WAV*non_spikey_T0000857.WAV')\n",
      "Start and end indices around peak:                  start index: 11038477\t\t          end index: 22538477                  total samples:30015488\n",
      "('AV Sync was above threshold: ', 0.7539428222432639)\n",
      "common_fps/Aditya_annotations/2018-08-18/common_fps_video_syncAditya_2018-08-19_23_30.csv\n",
      "('video_fps obtained is :', 25)\n",
      "Did not find user-provided sample rate - getting it from first file that matches format!\n",
      "('sampling rate is : ', 250000)\n",
      ".....finding best audio segment.....\n"
     ]
    },
    {
     "name": "stderr",
     "output_type": "stream",
     "text": [
      "\r",
      "  0%|          | 0/15 [00:00<?, ?it/s]"
     ]
    },
    {
     "name": "stdout",
     "output_type": "stream",
     "text": [
      "('max mins for upsampled video', -0.900222110582746, 1.0)\n",
      "('max mins', -1.0, 0.9247948730428763)\n"
     ]
    },
    {
     "name": "stderr",
     "output_type": "stream",
     "text": [
      "\r",
      "  7%|▋         | 1/15 [00:05<01:17,  5.52s/it]"
     ]
    },
    {
     "name": "stdout",
     "output_type": "stream",
     "text": [
      "('max mins', -1.0, 0.9609768360886519)\n"
     ]
    },
    {
     "name": "stderr",
     "output_type": "stream",
     "text": [
      "\r",
      " 13%|█▎        | 2/15 [00:11<01:13,  5.64s/it]"
     ]
    },
    {
     "name": "stdout",
     "output_type": "stream",
     "text": [
      "('max mins', -1.0, 0.9805232904168644)\n"
     ]
    },
    {
     "name": "stderr",
     "output_type": "stream",
     "text": [
      "\r",
      " 20%|██        | 3/15 [00:17<01:08,  5.70s/it]"
     ]
    },
    {
     "name": "stdout",
     "output_type": "stream",
     "text": [
      "('max mins', -0.9971944581699195, 1.0)\n"
     ]
    },
    {
     "name": "stderr",
     "output_type": "stream",
     "text": [
      "\r",
      " 27%|██▋       | 4/15 [00:23<01:04,  5.84s/it]"
     ]
    },
    {
     "name": "stdout",
     "output_type": "stream",
     "text": [
      "('max mins', -0.9432270977593401, 1.0)\n"
     ]
    },
    {
     "name": "stderr",
     "output_type": "stream",
     "text": [
      "\r",
      " 33%|███▎      | 5/15 [00:29<00:57,  5.78s/it]"
     ]
    },
    {
     "name": "stdout",
     "output_type": "stream",
     "text": [
      "('max mins', -1.0, 0.9652737228547501)\n"
     ]
    },
    {
     "name": "stderr",
     "output_type": "stream",
     "text": [
      "\r",
      " 40%|████      | 6/15 [00:35<00:52,  5.84s/it]"
     ]
    },
    {
     "name": "stdout",
     "output_type": "stream",
     "text": [
      "('max mins', -1.0, 0.9136184428633362)\n"
     ]
    },
    {
     "name": "stderr",
     "output_type": "stream",
     "text": [
      "\r",
      " 47%|████▋     | 7/15 [00:40<00:46,  5.82s/it]"
     ]
    },
    {
     "name": "stdout",
     "output_type": "stream",
     "text": [
      "('max mins', -1.0, 0.9945457387121774)\n"
     ]
    },
    {
     "name": "stderr",
     "output_type": "stream",
     "text": [
      "\r",
      " 53%|█████▎    | 8/15 [00:46<00:41,  5.86s/it]"
     ]
    },
    {
     "name": "stdout",
     "output_type": "stream",
     "text": [
      "('max mins', -0.9589091947607681, 1.0)\n"
     ]
    },
    {
     "name": "stderr",
     "output_type": "stream",
     "text": [
      "\r",
      " 60%|██████    | 9/15 [00:52<00:34,  5.82s/it]"
     ]
    },
    {
     "name": "stdout",
     "output_type": "stream",
     "text": [
      "('max mins', -0.9643559131223649, 1.0)\n"
     ]
    },
    {
     "name": "stderr",
     "output_type": "stream",
     "text": [
      "\r",
      " 67%|██████▋   | 10/15 [00:59<00:30,  6.02s/it]"
     ]
    },
    {
     "name": "stdout",
     "output_type": "stream",
     "text": [
      "('max mins', -0.9913513794669172, 1.0)\n"
     ]
    },
    {
     "name": "stderr",
     "output_type": "stream",
     "text": [
      "\r",
      " 73%|███████▎  | 11/15 [01:05<00:24,  6.08s/it]"
     ]
    },
    {
     "name": "stdout",
     "output_type": "stream",
     "text": [
      "('max mins', -1.0, 0.9980330860645331)\n"
     ]
    },
    {
     "name": "stderr",
     "output_type": "stream",
     "text": [
      "\r",
      " 80%|████████  | 12/15 [01:11<00:18,  6.12s/it]"
     ]
    },
    {
     "name": "stdout",
     "output_type": "stream",
     "text": [
      "('max mins', -0.9838349328121095, 1.0)\n"
     ]
    },
    {
     "name": "stderr",
     "output_type": "stream",
     "text": [
      "\r",
      " 87%|████████▋ | 13/15 [01:17<00:12,  6.16s/it]"
     ]
    },
    {
     "name": "stdout",
     "output_type": "stream",
     "text": [
      "('max mins', -0.9530957512155002, 1.0)\n"
     ]
    },
    {
     "name": "stderr",
     "output_type": "stream",
     "text": [
      "\r",
      " 93%|█████████▎| 14/15 [01:23<00:06,  6.18s/it]"
     ]
    },
    {
     "name": "stdout",
     "output_type": "stream",
     "text": [
      "('max mins', -0.9789960168861033, 1.0)\n"
     ]
    },
    {
     "name": "stderr",
     "output_type": "stream",
     "text": [
      "100%|██████████| 15/15 [01:30<00:00,  6.15s/it]\n"
     ]
    },
    {
     "name": "stdout",
     "output_type": "stream",
     "text": [
      "('Best file pairs are: ', 'non_spikey_T0000862.WAV*non_spikey_T0000863.WAV')\n",
      "Start and end indices around peak:                  start index: 4016219\t\t          end index: 15516219                  total samples:30015488\n",
      "('AV Sync was above threshold: ', 0.8459044942284969)\n",
      "common_fps/Aditya_annotations/2018-08-18/common_fps_video_syncAditya_2018-08-19_23_31.csv\n",
      "('video_fps obtained is :', 25)\n",
      "Did not find user-provided sample rate - getting it from first file that matches format!\n",
      "('sampling rate is : ', 250000)\n",
      ".....finding best audio segment.....\n"
     ]
    },
    {
     "name": "stderr",
     "output_type": "stream",
     "text": [
      "\r",
      "  0%|          | 0/15 [00:00<?, ?it/s]"
     ]
    },
    {
     "name": "stdout",
     "output_type": "stream",
     "text": [
      "('max mins for upsampled video', -0.8654965509345396, 1.0)\n",
      "('max mins', -1.0, 0.9247948730428763)\n"
     ]
    },
    {
     "name": "stderr",
     "output_type": "stream",
     "text": [
      "\r",
      "  7%|▋         | 1/15 [00:06<01:27,  6.26s/it]"
     ]
    },
    {
     "name": "stdout",
     "output_type": "stream",
     "text": [
      "('max mins', -1.0, 0.9609768360886519)\n"
     ]
    },
    {
     "name": "stderr",
     "output_type": "stream",
     "text": [
      "\r",
      " 13%|█▎        | 2/15 [00:12<01:20,  6.16s/it]"
     ]
    },
    {
     "name": "stdout",
     "output_type": "stream",
     "text": [
      "('max mins', -1.0, 0.9805232904168644)\n"
     ]
    },
    {
     "name": "stderr",
     "output_type": "stream",
     "text": [
      "\r",
      " 20%|██        | 3/15 [00:17<01:12,  6.02s/it]"
     ]
    },
    {
     "name": "stdout",
     "output_type": "stream",
     "text": [
      "('max mins', -0.9971944581699195, 1.0)\n"
     ]
    },
    {
     "name": "stderr",
     "output_type": "stream",
     "text": [
      "\r",
      " 27%|██▋       | 4/15 [00:23<01:06,  6.04s/it]"
     ]
    },
    {
     "name": "stdout",
     "output_type": "stream",
     "text": [
      "('max mins', -0.9432270977593401, 1.0)\n"
     ]
    },
    {
     "name": "stderr",
     "output_type": "stream",
     "text": [
      "\r",
      " 33%|███▎      | 5/15 [00:30<01:00,  6.06s/it]"
     ]
    },
    {
     "name": "stdout",
     "output_type": "stream",
     "text": [
      "('max mins', -1.0, 0.9652737228547501)\n"
     ]
    },
    {
     "name": "stderr",
     "output_type": "stream",
     "text": [
      "\r",
      " 40%|████      | 6/15 [00:35<00:53,  5.95s/it]"
     ]
    },
    {
     "name": "stdout",
     "output_type": "stream",
     "text": [
      "('max mins', -1.0, 0.9136184428633362)\n"
     ]
    },
    {
     "name": "stderr",
     "output_type": "stream",
     "text": [
      "\r",
      " 47%|████▋     | 7/15 [00:41<00:48,  6.03s/it]"
     ]
    },
    {
     "name": "stdout",
     "output_type": "stream",
     "text": [
      "('max mins', -1.0, 0.9945457387121774)\n"
     ]
    },
    {
     "name": "stderr",
     "output_type": "stream",
     "text": [
      "\r",
      " 53%|█████▎    | 8/15 [00:48<00:42,  6.05s/it]"
     ]
    },
    {
     "name": "stdout",
     "output_type": "stream",
     "text": [
      "('max mins', -0.9589091947607681, 1.0)\n"
     ]
    },
    {
     "name": "stderr",
     "output_type": "stream",
     "text": [
      "\r",
      " 60%|██████    | 9/15 [00:54<00:36,  6.02s/it]"
     ]
    },
    {
     "name": "stdout",
     "output_type": "stream",
     "text": [
      "('max mins', -0.9643559131223649, 1.0)\n"
     ]
    },
    {
     "name": "stderr",
     "output_type": "stream",
     "text": [
      "\r",
      " 67%|██████▋   | 10/15 [01:00<00:30,  6.05s/it]"
     ]
    },
    {
     "name": "stdout",
     "output_type": "stream",
     "text": [
      "('max mins', -0.9913513794669172, 1.0)\n"
     ]
    },
    {
     "name": "stderr",
     "output_type": "stream",
     "text": [
      "\r",
      " 73%|███████▎  | 11/15 [01:06<00:24,  6.11s/it]"
     ]
    },
    {
     "name": "stdout",
     "output_type": "stream",
     "text": [
      "('max mins', -1.0, 0.9980330860645331)\n"
     ]
    },
    {
     "name": "stderr",
     "output_type": "stream",
     "text": [
      "\r",
      " 80%|████████  | 12/15 [01:12<00:18,  6.25s/it]"
     ]
    },
    {
     "name": "stdout",
     "output_type": "stream",
     "text": [
      "('max mins', -0.9838349328121095, 1.0)\n"
     ]
    },
    {
     "name": "stderr",
     "output_type": "stream",
     "text": [
      "\r",
      " 87%|████████▋ | 13/15 [01:18<00:12,  6.14s/it]"
     ]
    },
    {
     "name": "stdout",
     "output_type": "stream",
     "text": [
      "('max mins', -0.9530957512155002, 1.0)\n"
     ]
    },
    {
     "name": "stderr",
     "output_type": "stream",
     "text": [
      "\r",
      " 93%|█████████▎| 14/15 [01:24<00:06,  6.01s/it]"
     ]
    },
    {
     "name": "stdout",
     "output_type": "stream",
     "text": [
      "('max mins', -0.9789960168861033, 1.0)\n"
     ]
    },
    {
     "name": "stderr",
     "output_type": "stream",
     "text": [
      "100%|██████████| 15/15 [01:30<00:00,  5.93s/it]\n"
     ]
    },
    {
     "name": "stdout",
     "output_type": "stream",
     "text": [
      "('Best file pairs are: ', 'non_spikey_T0000862.WAV*non_spikey_T0000863.WAV')\n",
      "Start and end indices around peak:                  start index: 4766219\t\t          end index: 16266219                  total samples:30015488\n",
      "('AV Sync was above threshold: ', 0.848058001264031)\n",
      "common_fps/Aditya_annotations/2018-08-18/common_fps_video_syncAditya_2018-08-19_23_32.csv\n",
      "('video_fps obtained is :', 25)\n",
      "Did not find user-provided sample rate - getting it from first file that matches format!\n",
      "('sampling rate is : ', 250000)\n",
      ".....finding best audio segment.....\n"
     ]
    },
    {
     "name": "stderr",
     "output_type": "stream",
     "text": [
      "\r",
      "  0%|          | 0/15 [00:00<?, ?it/s]"
     ]
    },
    {
     "name": "stdout",
     "output_type": "stream",
     "text": [
      "('max mins for upsampled video', -0.8387078658120432, 1.0)\n",
      "('max mins', -1.0, 0.9247948730428763)\n"
     ]
    },
    {
     "name": "stderr",
     "output_type": "stream",
     "text": [
      "\r",
      "  7%|▋         | 1/15 [00:05<01:20,  5.72s/it]"
     ]
    },
    {
     "name": "stdout",
     "output_type": "stream",
     "text": [
      "('max mins', -1.0, 0.9609768360886519)\n"
     ]
    },
    {
     "name": "stderr",
     "output_type": "stream",
     "text": [
      "\r",
      " 13%|█▎        | 2/15 [00:11<01:13,  5.67s/it]"
     ]
    },
    {
     "name": "stdout",
     "output_type": "stream",
     "text": [
      "('max mins', -1.0, 0.9805232904168644)\n"
     ]
    },
    {
     "name": "stderr",
     "output_type": "stream",
     "text": [
      "\r",
      " 20%|██        | 3/15 [00:18<01:11,  5.99s/it]"
     ]
    },
    {
     "name": "stdout",
     "output_type": "stream",
     "text": [
      "('max mins', -0.9971944581699195, 1.0)\n"
     ]
    },
    {
     "name": "stderr",
     "output_type": "stream",
     "text": [
      "\r",
      " 27%|██▋       | 4/15 [00:24<01:08,  6.24s/it]"
     ]
    },
    {
     "name": "stdout",
     "output_type": "stream",
     "text": [
      "('max mins', -0.9432270977593401, 1.0)\n"
     ]
    },
    {
     "name": "stderr",
     "output_type": "stream",
     "text": [
      "\r",
      " 33%|███▎      | 5/15 [00:30<01:01,  6.14s/it]"
     ]
    },
    {
     "name": "stdout",
     "output_type": "stream",
     "text": [
      "('max mins', -1.0, 0.9652737228547501)\n"
     ]
    },
    {
     "name": "stderr",
     "output_type": "stream",
     "text": [
      "\r",
      " 40%|████      | 6/15 [00:36<00:53,  5.95s/it]"
     ]
    },
    {
     "name": "stdout",
     "output_type": "stream",
     "text": [
      "('max mins', -1.0, 0.9136184428633362)\n"
     ]
    },
    {
     "name": "stderr",
     "output_type": "stream",
     "text": [
      "\r",
      " 47%|████▋     | 7/15 [00:42<00:47,  5.94s/it]"
     ]
    },
    {
     "name": "stdout",
     "output_type": "stream",
     "text": [
      "('max mins', -1.0, 0.9945457387121774)\n"
     ]
    },
    {
     "name": "stderr",
     "output_type": "stream",
     "text": [
      "\r",
      " 53%|█████▎    | 8/15 [00:48<00:41,  5.97s/it]"
     ]
    },
    {
     "name": "stdout",
     "output_type": "stream",
     "text": [
      "('max mins', -0.9589091947607681, 1.0)\n"
     ]
    },
    {
     "name": "stderr",
     "output_type": "stream",
     "text": [
      "\r",
      " 60%|██████    | 9/15 [00:54<00:36,  6.10s/it]"
     ]
    },
    {
     "name": "stdout",
     "output_type": "stream",
     "text": [
      "('max mins', -0.9643559131223649, 1.0)\n"
     ]
    },
    {
     "name": "stderr",
     "output_type": "stream",
     "text": [
      "\r",
      " 67%|██████▋   | 10/15 [01:01<00:31,  6.38s/it]"
     ]
    },
    {
     "name": "stdout",
     "output_type": "stream",
     "text": [
      "('max mins', -0.9913513794669172, 1.0)\n"
     ]
    },
    {
     "name": "stderr",
     "output_type": "stream",
     "text": [
      "\r",
      " 73%|███████▎  | 11/15 [01:07<00:25,  6.32s/it]"
     ]
    },
    {
     "name": "stdout",
     "output_type": "stream",
     "text": [
      "('max mins', -1.0, 0.9980330860645331)\n"
     ]
    },
    {
     "name": "stderr",
     "output_type": "stream",
     "text": [
      "\r",
      " 80%|████████  | 12/15 [01:14<00:19,  6.39s/it]"
     ]
    },
    {
     "name": "stdout",
     "output_type": "stream",
     "text": [
      "('max mins', -0.9838349328121095, 1.0)\n"
     ]
    },
    {
     "name": "stderr",
     "output_type": "stream",
     "text": [
      "\r",
      " 87%|████████▋ | 13/15 [01:20<00:12,  6.36s/it]"
     ]
    },
    {
     "name": "stdout",
     "output_type": "stream",
     "text": [
      "('max mins', -0.9530957512155002, 1.0)\n"
     ]
    },
    {
     "name": "stderr",
     "output_type": "stream",
     "text": [
      "\r",
      " 93%|█████████▎| 14/15 [01:27<00:06,  6.39s/it]"
     ]
    },
    {
     "name": "stdout",
     "output_type": "stream",
     "text": [
      "('max mins', -0.9789960168861033, 1.0)\n"
     ]
    },
    {
     "name": "stderr",
     "output_type": "stream",
     "text": [
      "100%|██████████| 15/15 [01:33<00:00,  6.38s/it]\n"
     ]
    },
    {
     "name": "stdout",
     "output_type": "stream",
     "text": [
      "('Best file pairs are: ', 'non_spikey_T0000862.WAV*non_spikey_T0000863.WAV')\n",
      "Start and end indices around peak:                  start index: 5265216\t\t          end index: 16765216                  total samples:30015488\n",
      "('AV Sync was above threshold: ', 0.8461416813018635)\n",
      "common_fps/Aditya_annotations/2018-08-18/common_fps_video_syncAditya_2018-08-19_23_33.csv\n",
      "('video_fps obtained is :', 25)\n",
      "Did not find user-provided sample rate - getting it from first file that matches format!\n",
      "('sampling rate is : ', 250000)\n",
      ".....finding best audio segment.....\n"
     ]
    },
    {
     "name": "stderr",
     "output_type": "stream",
     "text": [
      "\r",
      "  0%|          | 0/15 [00:00<?, ?it/s]"
     ]
    },
    {
     "name": "stdout",
     "output_type": "stream",
     "text": [
      "('max mins for upsampled video', -0.8360972744382926, 1.0)\n",
      "('max mins', -1.0, 0.9247948730428763)\n"
     ]
    },
    {
     "name": "stderr",
     "output_type": "stream",
     "text": [
      "\r",
      "  7%|▋         | 1/15 [00:06<01:33,  6.70s/it]"
     ]
    },
    {
     "name": "stdout",
     "output_type": "stream",
     "text": [
      "('max mins', -1.0, 0.9609768360886519)\n"
     ]
    },
    {
     "name": "stderr",
     "output_type": "stream",
     "text": [
      "\r",
      " 13%|█▎        | 2/15 [00:12<01:24,  6.53s/it]"
     ]
    },
    {
     "name": "stdout",
     "output_type": "stream",
     "text": [
      "('max mins', -1.0, 0.9805232904168644)\n"
     ]
    },
    {
     "name": "stderr",
     "output_type": "stream",
     "text": [
      "\r",
      " 20%|██        | 3/15 [00:19<01:17,  6.48s/it]"
     ]
    },
    {
     "name": "stdout",
     "output_type": "stream",
     "text": [
      "('max mins', -0.9971944581699195, 1.0)\n"
     ]
    },
    {
     "name": "stderr",
     "output_type": "stream",
     "text": [
      "\r",
      " 27%|██▋       | 4/15 [00:25<01:09,  6.32s/it]"
     ]
    },
    {
     "name": "stdout",
     "output_type": "stream",
     "text": [
      "('max mins', -0.9432270977593401, 1.0)\n"
     ]
    },
    {
     "name": "stderr",
     "output_type": "stream",
     "text": [
      "\r",
      " 33%|███▎      | 5/15 [00:31<01:02,  6.26s/it]"
     ]
    },
    {
     "name": "stdout",
     "output_type": "stream",
     "text": [
      "('max mins', -1.0, 0.9652737228547501)\n"
     ]
    },
    {
     "name": "stderr",
     "output_type": "stream",
     "text": [
      "\r",
      " 40%|████      | 6/15 [00:37<00:55,  6.17s/it]"
     ]
    },
    {
     "name": "stdout",
     "output_type": "stream",
     "text": [
      "('max mins', -1.0, 0.9136184428633362)\n"
     ]
    },
    {
     "name": "stderr",
     "output_type": "stream",
     "text": [
      "\r",
      " 47%|████▋     | 7/15 [00:43<00:49,  6.22s/it]"
     ]
    },
    {
     "name": "stdout",
     "output_type": "stream",
     "text": [
      "('max mins', -1.0, 0.9945457387121774)\n"
     ]
    },
    {
     "name": "stderr",
     "output_type": "stream",
     "text": [
      "\r",
      " 53%|█████▎    | 8/15 [00:49<00:43,  6.16s/it]"
     ]
    },
    {
     "name": "stdout",
     "output_type": "stream",
     "text": [
      "('max mins', -0.9589091947607681, 1.0)\n"
     ]
    },
    {
     "name": "stderr",
     "output_type": "stream",
     "text": [
      "\r",
      " 60%|██████    | 9/15 [00:55<00:37,  6.23s/it]"
     ]
    },
    {
     "name": "stdout",
     "output_type": "stream",
     "text": [
      "('max mins', -0.9643559131223649, 1.0)\n"
     ]
    },
    {
     "name": "stderr",
     "output_type": "stream",
     "text": [
      "\r",
      " 67%|██████▋   | 10/15 [01:01<00:30,  6.05s/it]"
     ]
    },
    {
     "name": "stdout",
     "output_type": "stream",
     "text": [
      "('max mins', -0.9913513794669172, 1.0)\n"
     ]
    },
    {
     "name": "stderr",
     "output_type": "stream",
     "text": [
      "\r",
      " 73%|███████▎  | 11/15 [01:07<00:23,  5.93s/it]"
     ]
    },
    {
     "name": "stdout",
     "output_type": "stream",
     "text": [
      "('max mins', -1.0, 0.9980330860645331)\n"
     ]
    },
    {
     "name": "stderr",
     "output_type": "stream",
     "text": [
      "\r",
      " 80%|████████  | 12/15 [01:12<00:17,  5.85s/it]"
     ]
    },
    {
     "name": "stdout",
     "output_type": "stream",
     "text": [
      "('max mins', -0.9838349328121095, 1.0)\n"
     ]
    },
    {
     "name": "stderr",
     "output_type": "stream",
     "text": [
      "\r",
      " 87%|████████▋ | 13/15 [01:18<00:11,  5.80s/it]"
     ]
    },
    {
     "name": "stdout",
     "output_type": "stream",
     "text": [
      "('max mins', -0.9530957512155002, 1.0)\n"
     ]
    },
    {
     "name": "stderr",
     "output_type": "stream",
     "text": [
      "\r",
      " 93%|█████████▎| 14/15 [01:24<00:05,  5.81s/it]"
     ]
    },
    {
     "name": "stdout",
     "output_type": "stream",
     "text": [
      "('max mins', -0.9789960168861033, 1.0)\n"
     ]
    },
    {
     "name": "stderr",
     "output_type": "stream",
     "text": [
      "100%|██████████| 15/15 [01:29<00:00,  5.73s/it]\n"
     ]
    },
    {
     "name": "stdout",
     "output_type": "stream",
     "text": [
      "('Best file pairs are: ', 'non_spikey_T0000862.WAV*non_spikey_T0000863.WAV')\n",
      "Start and end indices around peak:                  start index: 5765406\t\t          end index: 17265406                  total samples:30015488\n",
      "('AV Sync was above threshold: ', 0.8446783206095084)\n",
      "common_fps/Aditya_annotations/2018-08-18/common_fps_video_syncAditya_2018-08-19_23_34.csv\n",
      "('video_fps obtained is :', 25)\n",
      "Did not find user-provided sample rate - getting it from first file that matches format!\n",
      "('sampling rate is : ', 250000)\n",
      ".....finding best audio segment.....\n"
     ]
    },
    {
     "name": "stderr",
     "output_type": "stream",
     "text": [
      "\r",
      "  0%|          | 0/15 [00:00<?, ?it/s]"
     ]
    },
    {
     "name": "stdout",
     "output_type": "stream",
     "text": [
      "('max mins for upsampled video', -0.8286783255650458, 1.0)\n",
      "('max mins', -1.0, 0.9247948730428763)\n"
     ]
    },
    {
     "name": "stderr",
     "output_type": "stream",
     "text": [
      "\r",
      "  7%|▋         | 1/15 [00:05<01:20,  5.77s/it]"
     ]
    },
    {
     "name": "stdout",
     "output_type": "stream",
     "text": [
      "('max mins', -1.0, 0.9609768360886519)\n"
     ]
    },
    {
     "name": "stderr",
     "output_type": "stream",
     "text": [
      "\r",
      " 13%|█▎        | 2/15 [00:11<01:15,  5.78s/it]"
     ]
    },
    {
     "name": "stdout",
     "output_type": "stream",
     "text": [
      "('max mins', -1.0, 0.9805232904168644)\n"
     ]
    },
    {
     "name": "stderr",
     "output_type": "stream",
     "text": [
      "\r",
      " 20%|██        | 3/15 [00:17<01:09,  5.79s/it]"
     ]
    },
    {
     "name": "stdout",
     "output_type": "stream",
     "text": [
      "('max mins', -0.9971944581699195, 1.0)\n"
     ]
    },
    {
     "name": "stderr",
     "output_type": "stream",
     "text": [
      "\r",
      " 27%|██▋       | 4/15 [00:23<01:03,  5.76s/it]"
     ]
    },
    {
     "name": "stdout",
     "output_type": "stream",
     "text": [
      "('max mins', -0.9432270977593401, 1.0)\n"
     ]
    },
    {
     "name": "stderr",
     "output_type": "stream",
     "text": [
      "\r",
      " 33%|███▎      | 5/15 [00:28<00:57,  5.76s/it]"
     ]
    },
    {
     "name": "stdout",
     "output_type": "stream",
     "text": [
      "('max mins', -1.0, 0.9652737228547501)\n"
     ]
    },
    {
     "name": "stderr",
     "output_type": "stream",
     "text": [
      "\r",
      " 40%|████      | 6/15 [00:34<00:51,  5.69s/it]"
     ]
    },
    {
     "name": "stdout",
     "output_type": "stream",
     "text": [
      "('max mins', -1.0, 0.9136184428633362)\n"
     ]
    },
    {
     "name": "stderr",
     "output_type": "stream",
     "text": [
      "\r",
      " 47%|████▋     | 7/15 [00:39<00:45,  5.66s/it]"
     ]
    },
    {
     "name": "stdout",
     "output_type": "stream",
     "text": [
      "('max mins', -1.0, 0.9945457387121774)\n"
     ]
    },
    {
     "name": "stderr",
     "output_type": "stream",
     "text": [
      "\r",
      " 53%|█████▎    | 8/15 [00:45<00:40,  5.73s/it]"
     ]
    },
    {
     "name": "stdout",
     "output_type": "stream",
     "text": [
      "('max mins', -0.9589091947607681, 1.0)\n"
     ]
    },
    {
     "name": "stderr",
     "output_type": "stream",
     "text": [
      "\r",
      " 60%|██████    | 9/15 [00:51<00:34,  5.73s/it]"
     ]
    },
    {
     "name": "stdout",
     "output_type": "stream",
     "text": [
      "('max mins', -0.9643559131223649, 1.0)\n"
     ]
    },
    {
     "name": "stderr",
     "output_type": "stream",
     "text": [
      "\r",
      " 67%|██████▋   | 10/15 [00:56<00:28,  5.64s/it]"
     ]
    },
    {
     "name": "stdout",
     "output_type": "stream",
     "text": [
      "('max mins', -0.9913513794669172, 1.0)\n"
     ]
    },
    {
     "name": "stderr",
     "output_type": "stream",
     "text": [
      "\r",
      " 73%|███████▎  | 11/15 [01:02<00:22,  5.58s/it]"
     ]
    },
    {
     "name": "stdout",
     "output_type": "stream",
     "text": [
      "('max mins', -1.0, 0.9980330860645331)\n"
     ]
    },
    {
     "name": "stderr",
     "output_type": "stream",
     "text": [
      "\r",
      " 80%|████████  | 12/15 [01:08<00:16,  5.66s/it]"
     ]
    },
    {
     "name": "stdout",
     "output_type": "stream",
     "text": [
      "('max mins', -0.9838349328121095, 1.0)\n"
     ]
    },
    {
     "name": "stderr",
     "output_type": "stream",
     "text": [
      "\r",
      " 87%|████████▋ | 13/15 [01:14<00:11,  5.71s/it]"
     ]
    },
    {
     "name": "stdout",
     "output_type": "stream",
     "text": [
      "('max mins', -0.9530957512155002, 1.0)\n"
     ]
    },
    {
     "name": "stderr",
     "output_type": "stream",
     "text": [
      "\r",
      " 93%|█████████▎| 14/15 [01:19<00:05,  5.73s/it]"
     ]
    },
    {
     "name": "stdout",
     "output_type": "stream",
     "text": [
      "('max mins', -0.9789960168861033, 1.0)\n"
     ]
    },
    {
     "name": "stderr",
     "output_type": "stream",
     "text": [
      "100%|██████████| 15/15 [01:25<00:00,  5.73s/it]\n"
     ]
    },
    {
     "name": "stdout",
     "output_type": "stream",
     "text": [
      "('Best file pairs are: ', 'non_spikey_T0000862.WAV*non_spikey_T0000863.WAV')\n",
      "Start and end indices around peak:                  start index: 6014906\t\t          end index: 17514906                  total samples:30015488\n",
      "('AV Sync was above threshold: ', 0.8464936725478609)\n",
      "common_fps/Aditya_annotations/2018-08-18/common_fps_video_syncAditya_2018-08-19_23_36.csv\n",
      "('video_fps obtained is :', 25)\n",
      "Did not find user-provided sample rate - getting it from first file that matches format!\n",
      "('sampling rate is : ', 250000)\n",
      ".....finding best audio segment.....\n"
     ]
    },
    {
     "name": "stderr",
     "output_type": "stream",
     "text": [
      "\r",
      "  0%|          | 0/15 [00:00<?, ?it/s]"
     ]
    },
    {
     "name": "stdout",
     "output_type": "stream",
     "text": [
      "('max mins for upsampled video', -0.8178784711148219, 1.0)\n",
      "('max mins', -1.0, 0.9247948730428763)\n"
     ]
    },
    {
     "name": "stderr",
     "output_type": "stream",
     "text": [
      "\r",
      "  7%|▋         | 1/15 [00:06<01:29,  6.42s/it]"
     ]
    },
    {
     "name": "stdout",
     "output_type": "stream",
     "text": [
      "('max mins', -1.0, 0.9609768360886519)\n"
     ]
    },
    {
     "name": "stderr",
     "output_type": "stream",
     "text": [
      "\r",
      " 13%|█▎        | 2/15 [00:12<01:21,  6.29s/it]"
     ]
    },
    {
     "name": "stdout",
     "output_type": "stream",
     "text": [
      "('max mins', -1.0, 0.9805232904168644)\n"
     ]
    },
    {
     "name": "stderr",
     "output_type": "stream",
     "text": [
      "\r",
      " 20%|██        | 3/15 [00:18<01:15,  6.29s/it]"
     ]
    },
    {
     "name": "stdout",
     "output_type": "stream",
     "text": [
      "('max mins', -0.9971944581699195, 1.0)\n"
     ]
    },
    {
     "name": "stderr",
     "output_type": "stream",
     "text": [
      "\r",
      " 27%|██▋       | 4/15 [00:24<01:07,  6.14s/it]"
     ]
    },
    {
     "name": "stdout",
     "output_type": "stream",
     "text": [
      "('max mins', -0.9432270977593401, 1.0)\n"
     ]
    },
    {
     "name": "stderr",
     "output_type": "stream",
     "text": [
      "\r",
      " 33%|███▎      | 5/15 [00:30<00:59,  5.97s/it]"
     ]
    },
    {
     "name": "stdout",
     "output_type": "stream",
     "text": [
      "('max mins', -1.0, 0.9652737228547501)\n"
     ]
    },
    {
     "name": "stderr",
     "output_type": "stream",
     "text": [
      "\r",
      " 40%|████      | 6/15 [00:35<00:52,  5.85s/it]"
     ]
    },
    {
     "name": "stdout",
     "output_type": "stream",
     "text": [
      "('max mins', -1.0, 0.9136184428633362)\n"
     ]
    },
    {
     "name": "stderr",
     "output_type": "stream",
     "text": [
      "\r",
      " 47%|████▋     | 7/15 [00:41<00:46,  5.77s/it]"
     ]
    },
    {
     "name": "stdout",
     "output_type": "stream",
     "text": [
      "('max mins', -1.0, 0.9945457387121774)\n"
     ]
    },
    {
     "name": "stderr",
     "output_type": "stream",
     "text": [
      "\r",
      " 53%|█████▎    | 8/15 [00:46<00:40,  5.72s/it]"
     ]
    },
    {
     "name": "stdout",
     "output_type": "stream",
     "text": [
      "('max mins', -0.9589091947607681, 1.0)\n"
     ]
    },
    {
     "name": "stderr",
     "output_type": "stream",
     "text": [
      "\r",
      " 60%|██████    | 9/15 [00:52<00:33,  5.66s/it]"
     ]
    },
    {
     "name": "stdout",
     "output_type": "stream",
     "text": [
      "('max mins', -0.9643559131223649, 1.0)\n"
     ]
    },
    {
     "name": "stderr",
     "output_type": "stream",
     "text": [
      "\r",
      " 67%|██████▋   | 10/15 [00:59<00:29,  5.99s/it]"
     ]
    },
    {
     "name": "stdout",
     "output_type": "stream",
     "text": [
      "('max mins', -0.9913513794669172, 1.0)\n"
     ]
    },
    {
     "name": "stderr",
     "output_type": "stream",
     "text": [
      "\r",
      " 73%|███████▎  | 11/15 [01:05<00:24,  6.18s/it]"
     ]
    },
    {
     "name": "stdout",
     "output_type": "stream",
     "text": [
      "('max mins', -1.0, 0.9980330860645331)\n"
     ]
    },
    {
     "name": "stderr",
     "output_type": "stream",
     "text": [
      "\r",
      " 80%|████████  | 12/15 [01:12<00:19,  6.45s/it]"
     ]
    },
    {
     "name": "stdout",
     "output_type": "stream",
     "text": [
      "('max mins', -0.9838349328121095, 1.0)\n"
     ]
    },
    {
     "name": "stderr",
     "output_type": "stream",
     "text": [
      "\r",
      " 87%|████████▋ | 13/15 [01:19<00:13,  6.52s/it]"
     ]
    },
    {
     "name": "stdout",
     "output_type": "stream",
     "text": [
      "('max mins', -0.9530957512155002, 1.0)\n"
     ]
    },
    {
     "name": "stderr",
     "output_type": "stream",
     "text": [
      "\r",
      " 93%|█████████▎| 14/15 [01:25<00:06,  6.48s/it]"
     ]
    },
    {
     "name": "stdout",
     "output_type": "stream",
     "text": [
      "('max mins', -0.9789960168861033, 1.0)\n"
     ]
    },
    {
     "name": "stderr",
     "output_type": "stream",
     "text": [
      "100%|██████████| 15/15 [01:32<00:00,  6.50s/it]\n"
     ]
    },
    {
     "name": "stdout",
     "output_type": "stream",
     "text": [
      "('Best file pairs are: ', 'non_spikey_T0000862.WAV*non_spikey_T0000863.WAV')\n",
      "Start and end indices around peak:                  start index: 8014906\t\t          end index: 19514906                  total samples:30015488\n",
      "('AV Sync was above threshold: ', 0.8561367684270922)\n",
      "common_fps/Aditya_annotations/2018-08-18/common_fps_video_syncAditya_2018-08-19_23_37.csv\n",
      "('video_fps obtained is :', 25)\n",
      "Did not find user-provided sample rate - getting it from first file that matches format!\n",
      "('sampling rate is : ', 250000)\n",
      ".....finding best audio segment.....\n"
     ]
    },
    {
     "name": "stderr",
     "output_type": "stream",
     "text": [
      "\r",
      "  0%|          | 0/15 [00:00<?, ?it/s]"
     ]
    },
    {
     "name": "stdout",
     "output_type": "stream",
     "text": [
      "('max mins for upsampled video', -0.8277645441598765, 1.0)\n",
      "('max mins', -1.0, 0.9247948730428763)\n"
     ]
    },
    {
     "name": "stderr",
     "output_type": "stream",
     "text": [
      "\r",
      "  7%|▋         | 1/15 [00:06<01:27,  6.27s/it]"
     ]
    },
    {
     "name": "stdout",
     "output_type": "stream",
     "text": [
      "('max mins', -1.0, 0.9609768360886519)\n"
     ]
    },
    {
     "name": "stderr",
     "output_type": "stream",
     "text": [
      "\r",
      " 13%|█▎        | 2/15 [00:12<01:20,  6.16s/it]"
     ]
    },
    {
     "name": "stdout",
     "output_type": "stream",
     "text": [
      "('max mins', -1.0, 0.9805232904168644)\n"
     ]
    },
    {
     "name": "stderr",
     "output_type": "stream",
     "text": [
      "\r",
      " 20%|██        | 3/15 [00:17<01:11,  6.00s/it]"
     ]
    },
    {
     "name": "stdout",
     "output_type": "stream",
     "text": [
      "('max mins', -0.9971944581699195, 1.0)\n"
     ]
    },
    {
     "name": "stderr",
     "output_type": "stream",
     "text": [
      "\r",
      " 27%|██▋       | 4/15 [00:23<01:04,  5.87s/it]"
     ]
    },
    {
     "name": "stdout",
     "output_type": "stream",
     "text": [
      "('max mins', -0.9432270977593401, 1.0)\n"
     ]
    },
    {
     "name": "stderr",
     "output_type": "stream",
     "text": [
      "\r",
      " 33%|███▎      | 5/15 [00:28<00:57,  5.75s/it]"
     ]
    },
    {
     "name": "stdout",
     "output_type": "stream",
     "text": [
      "('max mins', -1.0, 0.9652737228547501)\n"
     ]
    },
    {
     "name": "stderr",
     "output_type": "stream",
     "text": [
      "\r",
      " 40%|████      | 6/15 [00:34<00:51,  5.68s/it]"
     ]
    },
    {
     "name": "stdout",
     "output_type": "stream",
     "text": [
      "('max mins', -1.0, 0.9136184428633362)\n"
     ]
    },
    {
     "name": "stderr",
     "output_type": "stream",
     "text": [
      "\r",
      " 47%|████▋     | 7/15 [00:39<00:43,  5.40s/it]"
     ]
    },
    {
     "name": "stdout",
     "output_type": "stream",
     "text": [
      "('max mins', -1.0, 0.9945457387121774)\n"
     ]
    },
    {
     "name": "stderr",
     "output_type": "stream",
     "text": [
      "\r",
      " 53%|█████▎    | 8/15 [00:43<00:35,  5.08s/it]"
     ]
    },
    {
     "name": "stdout",
     "output_type": "stream",
     "text": [
      "('max mins', -0.9589091947607681, 1.0)\n"
     ]
    },
    {
     "name": "stderr",
     "output_type": "stream",
     "text": [
      "\r",
      " 60%|██████    | 9/15 [00:47<00:29,  4.85s/it]"
     ]
    },
    {
     "name": "stdout",
     "output_type": "stream",
     "text": [
      "('max mins', -0.9643559131223649, 1.0)\n"
     ]
    },
    {
     "name": "stderr",
     "output_type": "stream",
     "text": [
      "\r",
      " 67%|██████▋   | 10/15 [00:52<00:23,  4.69s/it]"
     ]
    },
    {
     "name": "stdout",
     "output_type": "stream",
     "text": [
      "('max mins', -0.9913513794669172, 1.0)\n"
     ]
    },
    {
     "name": "stderr",
     "output_type": "stream",
     "text": [
      "\r",
      " 73%|███████▎  | 11/15 [00:56<00:18,  4.58s/it]"
     ]
    },
    {
     "name": "stdout",
     "output_type": "stream",
     "text": [
      "('max mins', -1.0, 0.9980330860645331)\n"
     ]
    },
    {
     "name": "stderr",
     "output_type": "stream",
     "text": [
      "\r",
      " 80%|████████  | 12/15 [01:00<00:13,  4.51s/it]"
     ]
    },
    {
     "name": "stdout",
     "output_type": "stream",
     "text": [
      "('max mins', -0.9838349328121095, 1.0)\n"
     ]
    },
    {
     "name": "stderr",
     "output_type": "stream",
     "text": [
      "\r",
      " 87%|████████▋ | 13/15 [01:05<00:08,  4.45s/it]"
     ]
    },
    {
     "name": "stdout",
     "output_type": "stream",
     "text": [
      "('max mins', -0.9530957512155002, 1.0)\n"
     ]
    },
    {
     "name": "stderr",
     "output_type": "stream",
     "text": [
      "\r",
      " 93%|█████████▎| 14/15 [01:09<00:04,  4.49s/it]"
     ]
    },
    {
     "name": "stdout",
     "output_type": "stream",
     "text": [
      "('max mins', -0.9789960168861033, 1.0)\n"
     ]
    },
    {
     "name": "stderr",
     "output_type": "stream",
     "text": [
      "100%|██████████| 15/15 [01:13<00:00,  4.44s/it]\n"
     ]
    },
    {
     "name": "stdout",
     "output_type": "stream",
     "text": [
      "('Best file pairs are: ', 'non_spikey_T0000862.WAV*non_spikey_T0000863.WAV')\n",
      "Start and end indices around peak:                  start index: 8265406\t\t          end index: 19765406                  total samples:30015488\n",
      "('AV Sync was above threshold: ', 0.8579864091762602)\n",
      "common_fps/Aditya_annotations/2018-08-18/common_fps_video_syncAditya_2018-08-19_23_38.csv\n",
      "('video_fps obtained is :', 25)\n",
      "Did not find user-provided sample rate - getting it from first file that matches format!\n",
      "('sampling rate is : ', 250000)\n",
      ".....finding best audio segment.....\n"
     ]
    },
    {
     "name": "stderr",
     "output_type": "stream",
     "text": [
      "\r",
      "  0%|          | 0/15 [00:00<?, ?it/s]"
     ]
    },
    {
     "name": "stdout",
     "output_type": "stream",
     "text": [
      "('max mins for upsampled video', -0.7987620574792432, 1.0)\n",
      "('max mins', -1.0, 0.9247948730428763)\n"
     ]
    },
    {
     "name": "stderr",
     "output_type": "stream",
     "text": [
      "\r",
      "  7%|▋         | 1/15 [00:04<01:00,  4.31s/it]"
     ]
    },
    {
     "name": "stdout",
     "output_type": "stream",
     "text": [
      "('max mins', -1.0, 0.9609768360886519)\n"
     ]
    },
    {
     "name": "stderr",
     "output_type": "stream",
     "text": [
      "\r",
      " 13%|█▎        | 2/15 [00:08<00:55,  4.30s/it]"
     ]
    },
    {
     "name": "stdout",
     "output_type": "stream",
     "text": [
      "('max mins', -1.0, 0.9805232904168644)\n"
     ]
    },
    {
     "name": "stderr",
     "output_type": "stream",
     "text": [
      "\r",
      " 20%|██        | 3/15 [00:12<00:51,  4.30s/it]"
     ]
    },
    {
     "name": "stdout",
     "output_type": "stream",
     "text": [
      "('max mins', -0.9971944581699195, 1.0)\n"
     ]
    },
    {
     "name": "stderr",
     "output_type": "stream",
     "text": [
      "\r",
      " 27%|██▋       | 4/15 [00:17<00:47,  4.30s/it]"
     ]
    },
    {
     "name": "stdout",
     "output_type": "stream",
     "text": [
      "('max mins', -0.9432270977593401, 1.0)\n"
     ]
    },
    {
     "name": "stderr",
     "output_type": "stream",
     "text": [
      "\r",
      " 33%|███▎      | 5/15 [00:21<00:43,  4.31s/it]"
     ]
    },
    {
     "name": "stdout",
     "output_type": "stream",
     "text": [
      "('max mins', -1.0, 0.9652737228547501)\n"
     ]
    },
    {
     "name": "stderr",
     "output_type": "stream",
     "text": [
      "\r",
      " 40%|████      | 6/15 [00:25<00:38,  4.30s/it]"
     ]
    },
    {
     "name": "stdout",
     "output_type": "stream",
     "text": [
      "('max mins', -1.0, 0.9136184428633362)\n"
     ]
    },
    {
     "name": "stderr",
     "output_type": "stream",
     "text": [
      "\r",
      " 47%|████▋     | 7/15 [00:30<00:34,  4.31s/it]"
     ]
    },
    {
     "name": "stdout",
     "output_type": "stream",
     "text": [
      "('max mins', -1.0, 0.9945457387121774)\n"
     ]
    },
    {
     "name": "stderr",
     "output_type": "stream",
     "text": [
      "\r",
      " 53%|█████▎    | 8/15 [00:34<00:30,  4.30s/it]"
     ]
    },
    {
     "name": "stdout",
     "output_type": "stream",
     "text": [
      "('max mins', -0.9589091947607681, 1.0)\n"
     ]
    },
    {
     "name": "stderr",
     "output_type": "stream",
     "text": [
      "\r",
      " 60%|██████    | 9/15 [00:38<00:25,  4.31s/it]"
     ]
    },
    {
     "name": "stdout",
     "output_type": "stream",
     "text": [
      "('max mins', -0.9643559131223649, 1.0)\n"
     ]
    },
    {
     "name": "stderr",
     "output_type": "stream",
     "text": [
      "\r",
      " 67%|██████▋   | 10/15 [00:43<00:21,  4.31s/it]"
     ]
    },
    {
     "name": "stdout",
     "output_type": "stream",
     "text": [
      "('max mins', -0.9913513794669172, 1.0)\n"
     ]
    },
    {
     "name": "stderr",
     "output_type": "stream",
     "text": [
      "\r",
      " 73%|███████▎  | 11/15 [00:47<00:17,  4.33s/it]"
     ]
    },
    {
     "name": "stdout",
     "output_type": "stream",
     "text": [
      "('max mins', -1.0, 0.9980330860645331)\n"
     ]
    },
    {
     "name": "stderr",
     "output_type": "stream",
     "text": [
      "\r",
      " 80%|████████  | 12/15 [00:51<00:12,  4.33s/it]"
     ]
    },
    {
     "name": "stdout",
     "output_type": "stream",
     "text": [
      "('max mins', -0.9838349328121095, 1.0)\n"
     ]
    },
    {
     "name": "stderr",
     "output_type": "stream",
     "text": [
      "\r",
      " 87%|████████▋ | 13/15 [00:56<00:08,  4.32s/it]"
     ]
    },
    {
     "name": "stdout",
     "output_type": "stream",
     "text": [
      "('max mins', -0.9530957512155002, 1.0)\n"
     ]
    },
    {
     "name": "stderr",
     "output_type": "stream",
     "text": [
      "\r",
      " 93%|█████████▎| 14/15 [01:00<00:04,  4.41s/it]"
     ]
    },
    {
     "name": "stdout",
     "output_type": "stream",
     "text": [
      "('max mins', -0.9789960168861033, 1.0)\n"
     ]
    },
    {
     "name": "stderr",
     "output_type": "stream",
     "text": [
      "100%|██████████| 15/15 [01:04<00:00,  4.37s/it]\n"
     ]
    },
    {
     "name": "stdout",
     "output_type": "stream",
     "text": [
      "('Best file pairs are: ', 'non_spikey_T0000862.WAV*non_spikey_T0000863.WAV')\n",
      "Start and end indices around peak:                  start index: 10014698\t\t          end index: 21514698                  total samples:30015488\n",
      "('AV Sync was above threshold: ', 0.8664007660036567)\n",
      "common_fps/Aditya_annotations/2018-08-18/common_fps_video_syncAditya_2018-08-19_23_39.csv\n",
      "('video_fps obtained is :', 25)\n",
      "Did not find user-provided sample rate - getting it from first file that matches format!\n",
      "('sampling rate is : ', 250000)\n",
      ".....finding best audio segment.....\n"
     ]
    },
    {
     "name": "stderr",
     "output_type": "stream",
     "text": [
      "\r",
      "  0%|          | 0/15 [00:00<?, ?it/s]"
     ]
    },
    {
     "name": "stdout",
     "output_type": "stream",
     "text": [
      "('max mins for upsampled video', -0.8058114758370243, 1.0)\n",
      "('max mins', -1.0, 0.9247948730428763)\n"
     ]
    },
    {
     "name": "stderr",
     "output_type": "stream",
     "text": [
      "\r",
      "  7%|▋         | 1/15 [00:04<01:00,  4.30s/it]"
     ]
    },
    {
     "name": "stdout",
     "output_type": "stream",
     "text": [
      "('max mins', -1.0, 0.9609768360886519)\n"
     ]
    },
    {
     "name": "stderr",
     "output_type": "stream",
     "text": [
      "\r",
      " 13%|█▎        | 2/15 [00:08<00:55,  4.31s/it]"
     ]
    },
    {
     "name": "stdout",
     "output_type": "stream",
     "text": [
      "('max mins', -1.0, 0.9805232904168644)\n"
     ]
    },
    {
     "name": "stderr",
     "output_type": "stream",
     "text": [
      "\r",
      " 20%|██        | 3/15 [00:12<00:51,  4.31s/it]"
     ]
    },
    {
     "name": "stdout",
     "output_type": "stream",
     "text": [
      "('max mins', -0.9971944581699195, 1.0)\n"
     ]
    },
    {
     "name": "stderr",
     "output_type": "stream",
     "text": [
      "\r",
      " 27%|██▋       | 4/15 [00:17<00:47,  4.31s/it]"
     ]
    },
    {
     "name": "stdout",
     "output_type": "stream",
     "text": [
      "('max mins', -0.9432270977593401, 1.0)\n"
     ]
    },
    {
     "name": "stderr",
     "output_type": "stream",
     "text": [
      "\r",
      " 33%|███▎      | 5/15 [00:21<00:43,  4.31s/it]"
     ]
    },
    {
     "name": "stdout",
     "output_type": "stream",
     "text": [
      "('max mins', -1.0, 0.9652737228547501)\n"
     ]
    },
    {
     "name": "stderr",
     "output_type": "stream",
     "text": [
      "\r",
      " 40%|████      | 6/15 [00:25<00:38,  4.31s/it]"
     ]
    },
    {
     "name": "stdout",
     "output_type": "stream",
     "text": [
      "('max mins', -1.0, 0.9136184428633362)\n"
     ]
    },
    {
     "name": "stderr",
     "output_type": "stream",
     "text": [
      "\r",
      " 47%|████▋     | 7/15 [00:30<00:34,  4.31s/it]"
     ]
    },
    {
     "name": "stdout",
     "output_type": "stream",
     "text": [
      "('max mins', -1.0, 0.9945457387121774)\n"
     ]
    },
    {
     "name": "stderr",
     "output_type": "stream",
     "text": [
      "\r",
      " 53%|█████▎    | 8/15 [00:34<00:30,  4.31s/it]"
     ]
    },
    {
     "name": "stdout",
     "output_type": "stream",
     "text": [
      "('max mins', -0.9589091947607681, 1.0)\n"
     ]
    },
    {
     "name": "stderr",
     "output_type": "stream",
     "text": [
      "\r",
      " 60%|██████    | 9/15 [00:38<00:25,  4.32s/it]"
     ]
    },
    {
     "name": "stdout",
     "output_type": "stream",
     "text": [
      "('max mins', -0.9643559131223649, 1.0)\n"
     ]
    },
    {
     "name": "stderr",
     "output_type": "stream",
     "text": [
      "\r",
      " 67%|██████▋   | 10/15 [00:43<00:21,  4.31s/it]"
     ]
    },
    {
     "name": "stdout",
     "output_type": "stream",
     "text": [
      "('max mins', -0.9913513794669172, 1.0)\n"
     ]
    },
    {
     "name": "stderr",
     "output_type": "stream",
     "text": [
      "\r",
      " 73%|███████▎  | 11/15 [00:47<00:17,  4.31s/it]"
     ]
    },
    {
     "name": "stdout",
     "output_type": "stream",
     "text": [
      "('max mins', -1.0, 0.9980330860645331)\n"
     ]
    },
    {
     "name": "stderr",
     "output_type": "stream",
     "text": [
      "\r",
      " 80%|████████  | 12/15 [00:51<00:12,  4.31s/it]"
     ]
    },
    {
     "name": "stdout",
     "output_type": "stream",
     "text": [
      "('max mins', -0.9838349328121095, 1.0)\n"
     ]
    },
    {
     "name": "stderr",
     "output_type": "stream",
     "text": [
      "\r",
      " 87%|████████▋ | 13/15 [00:56<00:08,  4.31s/it]"
     ]
    },
    {
     "name": "stdout",
     "output_type": "stream",
     "text": [
      "('max mins', -0.9530957512155002, 1.0)\n"
     ]
    },
    {
     "name": "stderr",
     "output_type": "stream",
     "text": [
      "\r",
      " 93%|█████████▎| 14/15 [01:00<00:04,  4.31s/it]"
     ]
    },
    {
     "name": "stdout",
     "output_type": "stream",
     "text": [
      "('max mins', -0.9789960168861033, 1.0)\n"
     ]
    },
    {
     "name": "stderr",
     "output_type": "stream",
     "text": [
      "100%|██████████| 15/15 [01:04<00:00,  4.32s/it]\n"
     ]
    },
    {
     "name": "stdout",
     "output_type": "stream",
     "text": [
      "('Best file pairs are: ', 'non_spikey_T0000862.WAV*non_spikey_T0000863.WAV')\n",
      "Start and end indices around peak:                  start index: 10515359\t\t          end index: 22015359                  total samples:30015488\n",
      "('AV Sync was above threshold: ', 0.8537850536015149)\n",
      "common_fps/Aditya_annotations/2018-08-18/common_fps_video_syncAditya_2018-08-19_23_4.csv\n",
      "('video_fps obtained is :', 25)\n",
      "Did not find user-provided sample rate - getting it from first file that matches format!\n",
      "('sampling rate is : ', 250000)\n",
      ".....finding best audio segment.....\n"
     ]
    },
    {
     "name": "stderr",
     "output_type": "stream",
     "text": [
      "\r",
      "  0%|          | 0/15 [00:00<?, ?it/s]"
     ]
    },
    {
     "name": "stdout",
     "output_type": "stream",
     "text": [
      "('max mins for upsampled video', -0.9324494546090164, 1.0)\n",
      "('max mins', -1.0, 0.9247948730428763)\n"
     ]
    },
    {
     "name": "stderr",
     "output_type": "stream",
     "text": [
      "\r",
      "  7%|▋         | 1/15 [00:04<01:00,  4.32s/it]"
     ]
    },
    {
     "name": "stdout",
     "output_type": "stream",
     "text": [
      "('max mins', -1.0, 0.9609768360886519)\n"
     ]
    },
    {
     "name": "stderr",
     "output_type": "stream",
     "text": [
      "\r",
      " 13%|█▎        | 2/15 [00:08<00:56,  4.32s/it]"
     ]
    },
    {
     "name": "stdout",
     "output_type": "stream",
     "text": [
      "('max mins', -1.0, 0.9805232904168644)\n"
     ]
    },
    {
     "name": "stderr",
     "output_type": "stream",
     "text": [
      "\r",
      " 20%|██        | 3/15 [00:13<00:53,  4.46s/it]"
     ]
    },
    {
     "name": "stdout",
     "output_type": "stream",
     "text": [
      "('max mins', -0.9971944581699195, 1.0)\n"
     ]
    },
    {
     "name": "stderr",
     "output_type": "stream",
     "text": [
      "\r",
      " 27%|██▋       | 4/15 [00:18<00:50,  4.63s/it]"
     ]
    },
    {
     "name": "stdout",
     "output_type": "stream",
     "text": [
      "('max mins', -0.9432270977593401, 1.0)\n"
     ]
    },
    {
     "name": "stderr",
     "output_type": "stream",
     "text": [
      "\r",
      " 33%|███▎      | 5/15 [00:23<00:46,  4.63s/it]"
     ]
    },
    {
     "name": "stdout",
     "output_type": "stream",
     "text": [
      "('max mins', -1.0, 0.9652737228547501)\n"
     ]
    },
    {
     "name": "stderr",
     "output_type": "stream",
     "text": [
      "\r",
      " 40%|████      | 6/15 [00:28<00:42,  4.73s/it]"
     ]
    },
    {
     "name": "stdout",
     "output_type": "stream",
     "text": [
      "('max mins', -1.0, 0.9136184428633362)\n"
     ]
    },
    {
     "name": "stderr",
     "output_type": "stream",
     "text": [
      "\r",
      " 47%|████▋     | 7/15 [00:32<00:37,  4.75s/it]"
     ]
    },
    {
     "name": "stdout",
     "output_type": "stream",
     "text": [
      "('max mins', -1.0, 0.9945457387121774)\n"
     ]
    },
    {
     "name": "stderr",
     "output_type": "stream",
     "text": [
      "\r",
      " 53%|█████▎    | 8/15 [00:37<00:34,  4.87s/it]"
     ]
    },
    {
     "name": "stdout",
     "output_type": "stream",
     "text": [
      "('max mins', -0.9589091947607681, 1.0)\n"
     ]
    },
    {
     "name": "stderr",
     "output_type": "stream",
     "text": [
      "\r",
      " 60%|██████    | 9/15 [00:43<00:31,  5.18s/it]"
     ]
    },
    {
     "name": "stdout",
     "output_type": "stream",
     "text": [
      "('max mins', -0.9643559131223649, 1.0)\n"
     ]
    },
    {
     "name": "stderr",
     "output_type": "stream",
     "text": [
      "\r",
      " 67%|██████▋   | 10/15 [00:48<00:25,  5.07s/it]"
     ]
    },
    {
     "name": "stdout",
     "output_type": "stream",
     "text": [
      "('max mins', -0.9913513794669172, 1.0)\n"
     ]
    },
    {
     "name": "stderr",
     "output_type": "stream",
     "text": [
      "\r",
      " 73%|███████▎  | 11/15 [00:53<00:19,  4.97s/it]"
     ]
    },
    {
     "name": "stdout",
     "output_type": "stream",
     "text": [
      "('max mins', -1.0, 0.9980330860645331)\n"
     ]
    },
    {
     "name": "stderr",
     "output_type": "stream",
     "text": [
      "\r",
      " 80%|████████  | 12/15 [00:58<00:14,  4.96s/it]"
     ]
    },
    {
     "name": "stdout",
     "output_type": "stream",
     "text": [
      "('max mins', -0.9838349328121095, 1.0)\n"
     ]
    },
    {
     "name": "stderr",
     "output_type": "stream",
     "text": [
      "\r",
      " 87%|████████▋ | 13/15 [01:03<00:10,  5.01s/it]"
     ]
    },
    {
     "name": "stdout",
     "output_type": "stream",
     "text": [
      "('max mins', -0.9530957512155002, 1.0)\n"
     ]
    },
    {
     "name": "stderr",
     "output_type": "stream",
     "text": [
      "\r",
      " 93%|█████████▎| 14/15 [01:08<00:04,  4.99s/it]"
     ]
    },
    {
     "name": "stdout",
     "output_type": "stream",
     "text": [
      "('max mins', -0.9789960168861033, 1.0)\n"
     ]
    },
    {
     "name": "stderr",
     "output_type": "stream",
     "text": [
      "100%|██████████| 15/15 [01:13<00:00,  4.98s/it]\n"
     ]
    },
    {
     "name": "stdout",
     "output_type": "stream",
     "text": [
      "('Best file pairs are: ', 'non_spikey_T0000856.WAV*non_spikey_T0000857.WAV')\n",
      "Start and end indices around peak:                  start index: 11288414\t\t          end index: 22788414                  total samples:30015488\n",
      "('AV Sync was above threshold: ', 0.7340550877235499)\n",
      "common_fps/Aditya_annotations/2018-08-18/common_fps_video_syncAditya_2018-08-19_23_40.csv\n",
      "('video_fps obtained is :', 25)\n",
      "Did not find user-provided sample rate - getting it from first file that matches format!\n",
      "('sampling rate is : ', 250000)\n",
      ".....finding best audio segment.....\n"
     ]
    },
    {
     "name": "stderr",
     "output_type": "stream",
     "text": [
      "\r",
      "  0%|          | 0/15 [00:00<?, ?it/s]"
     ]
    },
    {
     "name": "stdout",
     "output_type": "stream",
     "text": [
      "('max mins for upsampled video', -0.8114829455438725, 1.0)\n",
      "('max mins', -1.0, 0.9247948730428763)\n"
     ]
    },
    {
     "name": "stderr",
     "output_type": "stream",
     "text": [
      "\r",
      "  7%|▋         | 1/15 [00:04<01:02,  4.50s/it]"
     ]
    },
    {
     "name": "stdout",
     "output_type": "stream",
     "text": [
      "('max mins', -1.0, 0.9609768360886519)\n"
     ]
    },
    {
     "name": "stderr",
     "output_type": "stream",
     "text": [
      "\r",
      " 13%|█▎        | 2/15 [00:08<00:58,  4.50s/it]"
     ]
    },
    {
     "name": "stdout",
     "output_type": "stream",
     "text": [
      "('max mins', -1.0, 0.9805232904168644)\n"
     ]
    },
    {
     "name": "stderr",
     "output_type": "stream",
     "text": [
      "\r",
      " 20%|██        | 3/15 [00:13<00:54,  4.53s/it]"
     ]
    },
    {
     "name": "stdout",
     "output_type": "stream",
     "text": [
      "('max mins', -0.9971944581699195, 1.0)\n"
     ]
    },
    {
     "name": "stderr",
     "output_type": "stream",
     "text": [
      "\r",
      " 27%|██▋       | 4/15 [00:18<00:51,  4.69s/it]"
     ]
    },
    {
     "name": "stdout",
     "output_type": "stream",
     "text": [
      "('max mins', -0.9432270977593401, 1.0)\n"
     ]
    },
    {
     "name": "stderr",
     "output_type": "stream",
     "text": [
      "\r",
      " 33%|███▎      | 5/15 [00:24<00:49,  4.96s/it]"
     ]
    },
    {
     "name": "stdout",
     "output_type": "stream",
     "text": [
      "('max mins', -1.0, 0.9652737228547501)\n"
     ]
    },
    {
     "name": "stderr",
     "output_type": "stream",
     "text": [
      "\r",
      " 40%|████      | 6/15 [00:28<00:43,  4.86s/it]"
     ]
    },
    {
     "name": "stdout",
     "output_type": "stream",
     "text": [
      "('max mins', -1.0, 0.9136184428633362)\n"
     ]
    },
    {
     "name": "stderr",
     "output_type": "stream",
     "text": [
      "\r",
      " 47%|████▋     | 7/15 [00:33<00:38,  4.77s/it]"
     ]
    },
    {
     "name": "stdout",
     "output_type": "stream",
     "text": [
      "('max mins', -1.0, 0.9945457387121774)\n"
     ]
    },
    {
     "name": "stderr",
     "output_type": "stream",
     "text": [
      "\r",
      " 53%|█████▎    | 8/15 [00:37<00:32,  4.67s/it]"
     ]
    },
    {
     "name": "stdout",
     "output_type": "stream",
     "text": [
      "('max mins', -0.9589091947607681, 1.0)\n"
     ]
    },
    {
     "name": "stderr",
     "output_type": "stream",
     "text": [
      "\r",
      " 60%|██████    | 9/15 [00:42<00:27,  4.61s/it]"
     ]
    },
    {
     "name": "stdout",
     "output_type": "stream",
     "text": [
      "('max mins', -0.9643559131223649, 1.0)\n"
     ]
    },
    {
     "name": "stderr",
     "output_type": "stream",
     "text": [
      "\r",
      " 67%|██████▋   | 10/15 [00:47<00:23,  4.67s/it]"
     ]
    },
    {
     "name": "stdout",
     "output_type": "stream",
     "text": [
      "('max mins', -0.9913513794669172, 1.0)\n"
     ]
    },
    {
     "name": "stderr",
     "output_type": "stream",
     "text": [
      "\r",
      " 73%|███████▎  | 11/15 [00:51<00:18,  4.72s/it]"
     ]
    },
    {
     "name": "stdout",
     "output_type": "stream",
     "text": [
      "('max mins', -1.0, 0.9980330860645331)\n"
     ]
    },
    {
     "name": "stderr",
     "output_type": "stream",
     "text": [
      "\r",
      " 80%|████████  | 12/15 [00:56<00:13,  4.62s/it]"
     ]
    },
    {
     "name": "stdout",
     "output_type": "stream",
     "text": [
      "('max mins', -0.9838349328121095, 1.0)\n"
     ]
    },
    {
     "name": "stderr",
     "output_type": "stream",
     "text": [
      "\r",
      " 87%|████████▋ | 13/15 [01:01<00:09,  4.64s/it]"
     ]
    },
    {
     "name": "stdout",
     "output_type": "stream",
     "text": [
      "('max mins', -0.9530957512155002, 1.0)\n"
     ]
    },
    {
     "name": "stderr",
     "output_type": "stream",
     "text": [
      "\r",
      " 93%|█████████▎| 14/15 [01:06<00:04,  4.75s/it]"
     ]
    },
    {
     "name": "stdout",
     "output_type": "stream",
     "text": [
      "('max mins', -0.9789960168861033, 1.0)\n"
     ]
    },
    {
     "name": "stderr",
     "output_type": "stream",
     "text": [
      "100%|██████████| 15/15 [01:11<00:00,  4.82s/it]\n"
     ]
    },
    {
     "name": "stdout",
     "output_type": "stream",
     "text": [
      "('Best file pairs are: ', 'non_spikey_T0000862.WAV*non_spikey_T0000863.WAV')\n",
      "Start and end indices around peak:                  start index: 12015860\t\t          end index: 23515860                  total samples:30015488\n",
      "('AV Sync was above threshold: ', 0.8477656095618386)\n",
      "common_fps/Aditya_annotations/2018-08-18/common_fps_video_syncAditya_2018-08-19_23_44.csv\n",
      "('video_fps obtained is :', 25)\n",
      "Did not find user-provided sample rate - getting it from first file that matches format!\n",
      "('sampling rate is : ', 250000)\n",
      ".....finding best audio segment.....\n"
     ]
    },
    {
     "name": "stderr",
     "output_type": "stream",
     "text": [
      "\r",
      "  0%|          | 0/15 [00:00<?, ?it/s]"
     ]
    },
    {
     "name": "stdout",
     "output_type": "stream",
     "text": [
      "('max mins for upsampled video', -1.0, 0.7693199096911876)\n",
      "('max mins', -1.0, 0.9247948730428763)\n"
     ]
    },
    {
     "name": "stderr",
     "output_type": "stream",
     "text": [
      "\r",
      "  7%|▋         | 1/15 [00:04<01:08,  4.90s/it]"
     ]
    },
    {
     "name": "stdout",
     "output_type": "stream",
     "text": [
      "('max mins', -1.0, 0.9609768360886519)\n"
     ]
    },
    {
     "name": "stderr",
     "output_type": "stream",
     "text": [
      "\r",
      " 13%|█▎        | 2/15 [00:10<01:06,  5.12s/it]"
     ]
    },
    {
     "name": "stdout",
     "output_type": "stream",
     "text": [
      "('max mins', -1.0, 0.9805232904168644)\n"
     ]
    },
    {
     "name": "stderr",
     "output_type": "stream",
     "text": [
      "\r",
      " 20%|██        | 3/15 [00:16<01:03,  5.29s/it]"
     ]
    },
    {
     "name": "stdout",
     "output_type": "stream",
     "text": [
      "('max mins', -0.9971944581699195, 1.0)\n"
     ]
    },
    {
     "name": "stderr",
     "output_type": "stream",
     "text": [
      "\r",
      " 27%|██▋       | 4/15 [00:21<00:57,  5.27s/it]"
     ]
    },
    {
     "name": "stdout",
     "output_type": "stream",
     "text": [
      "('max mins', -0.9432270977593401, 1.0)\n"
     ]
    },
    {
     "name": "stderr",
     "output_type": "stream",
     "text": [
      "\r",
      " 33%|███▎      | 5/15 [00:26<00:50,  5.09s/it]"
     ]
    },
    {
     "name": "stdout",
     "output_type": "stream",
     "text": [
      "('max mins', -1.0, 0.9652737228547501)\n"
     ]
    },
    {
     "name": "stderr",
     "output_type": "stream",
     "text": [
      "\r",
      " 40%|████      | 6/15 [00:30<00:44,  4.97s/it]"
     ]
    },
    {
     "name": "stdout",
     "output_type": "stream",
     "text": [
      "('max mins', -1.0, 0.9136184428633362)\n"
     ]
    },
    {
     "name": "stderr",
     "output_type": "stream",
     "text": [
      "\r",
      " 47%|████▋     | 7/15 [00:35<00:40,  5.03s/it]"
     ]
    },
    {
     "name": "stdout",
     "output_type": "stream",
     "text": [
      "('max mins', -1.0, 0.9945457387121774)\n"
     ]
    },
    {
     "name": "stderr",
     "output_type": "stream",
     "text": [
      "\r",
      " 53%|█████▎    | 8/15 [00:40<00:34,  4.88s/it]"
     ]
    },
    {
     "name": "stdout",
     "output_type": "stream",
     "text": [
      "('max mins', -0.9589091947607681, 1.0)\n"
     ]
    },
    {
     "name": "stderr",
     "output_type": "stream",
     "text": [
      "\r",
      " 60%|██████    | 9/15 [00:45<00:28,  4.81s/it]"
     ]
    },
    {
     "name": "stdout",
     "output_type": "stream",
     "text": [
      "('max mins', -0.9643559131223649, 1.0)\n"
     ]
    },
    {
     "name": "stderr",
     "output_type": "stream",
     "text": [
      "\r",
      " 67%|██████▋   | 10/15 [00:50<00:24,  4.97s/it]"
     ]
    },
    {
     "name": "stdout",
     "output_type": "stream",
     "text": [
      "('max mins', -0.9913513794669172, 1.0)\n"
     ]
    },
    {
     "name": "stderr",
     "output_type": "stream",
     "text": [
      "\r",
      " 73%|███████▎  | 11/15 [00:55<00:19,  4.99s/it]"
     ]
    },
    {
     "name": "stdout",
     "output_type": "stream",
     "text": [
      "('max mins', -1.0, 0.9980330860645331)\n"
     ]
    },
    {
     "name": "stderr",
     "output_type": "stream",
     "text": [
      "\r",
      " 80%|████████  | 12/15 [01:00<00:14,  4.90s/it]"
     ]
    },
    {
     "name": "stdout",
     "output_type": "stream",
     "text": [
      "('max mins', -0.9838349328121095, 1.0)\n"
     ]
    },
    {
     "name": "stderr",
     "output_type": "stream",
     "text": [
      "\r",
      " 87%|████████▋ | 13/15 [01:06<00:10,  5.17s/it]"
     ]
    },
    {
     "name": "stdout",
     "output_type": "stream",
     "text": [
      "('max mins', -0.9530957512155002, 1.0)\n"
     ]
    },
    {
     "name": "stderr",
     "output_type": "stream",
     "text": [
      "\r",
      " 93%|█████████▎| 14/15 [01:10<00:04,  4.99s/it]"
     ]
    },
    {
     "name": "stdout",
     "output_type": "stream",
     "text": [
      "('max mins', -0.9789960168861033, 1.0)\n"
     ]
    },
    {
     "name": "stderr",
     "output_type": "stream",
     "text": [
      "100%|██████████| 15/15 [01:15<00:00,  4.86s/it]\n"
     ]
    },
    {
     "name": "stdout",
     "output_type": "stream",
     "text": [
      "('Best file pairs are: ', 'non_spikey_T0000859.WAV*non_spikey_T0000860.WAV')\n",
      "Start and end indices around peak:                  start index: 8654381\t\t          end index: 20154381                  total samples:30015488\n"
     ]
    },
    {
     "name": "stderr",
     "output_type": "stream",
     "text": [
      "../../../bin/audio_for_videoannotation.py:529: RuntimeWarning: invalid value encountered in divide\n",
      "  annotation_aligned_vsync /= np.max(np.abs(annotation_aligned_vsync))\n",
      "../../../bin/audio_for_videoannotation.py:175: UserWarning: The AV sync may not be very great - please check again. The value was :0.18325934031313842\n",
      "  warnings.warn(warning_msg, stacklevel=1)\n"
     ]
    },
    {
     "name": "stdout",
     "output_type": "stream",
     "text": [
      "common_fps/Aditya_annotations/2018-08-18/common_fps_video_syncAditya_2018-08-19_23_5.csv\n",
      "('video_fps obtained is :', 25)\n",
      "Did not find user-provided sample rate - getting it from first file that matches format!\n",
      "('sampling rate is : ', 250000)\n",
      ".....finding best audio segment.....\n"
     ]
    },
    {
     "name": "stderr",
     "output_type": "stream",
     "text": [
      "\r",
      "  0%|          | 0/15 [00:00<?, ?it/s]"
     ]
    },
    {
     "name": "stdout",
     "output_type": "stream",
     "text": [
      "('max mins for upsampled video', -0.9136842632371294, 1.0)\n",
      "('max mins', -1.0, 0.9247948730428763)\n"
     ]
    },
    {
     "name": "stderr",
     "output_type": "stream",
     "text": [
      "\r",
      "  7%|▋         | 1/15 [00:04<01:04,  4.60s/it]"
     ]
    },
    {
     "name": "stdout",
     "output_type": "stream",
     "text": [
      "('max mins', -1.0, 0.9609768360886519)\n"
     ]
    },
    {
     "name": "stderr",
     "output_type": "stream",
     "text": [
      "\r",
      " 13%|█▎        | 2/15 [00:09<00:59,  4.56s/it]"
     ]
    },
    {
     "name": "stdout",
     "output_type": "stream",
     "text": [
      "('max mins', -1.0, 0.9805232904168644)\n"
     ]
    },
    {
     "name": "stderr",
     "output_type": "stream",
     "text": [
      "\r",
      " 20%|██        | 3/15 [00:13<00:54,  4.57s/it]"
     ]
    },
    {
     "name": "stdout",
     "output_type": "stream",
     "text": [
      "('max mins', -0.9971944581699195, 1.0)\n"
     ]
    },
    {
     "name": "stderr",
     "output_type": "stream",
     "text": [
      "\r",
      " 27%|██▋       | 4/15 [00:18<00:50,  4.58s/it]"
     ]
    },
    {
     "name": "stdout",
     "output_type": "stream",
     "text": [
      "('max mins', -0.9432270977593401, 1.0)\n"
     ]
    },
    {
     "name": "stderr",
     "output_type": "stream",
     "text": [
      "\r",
      " 33%|███▎      | 5/15 [00:23<00:46,  4.63s/it]"
     ]
    },
    {
     "name": "stdout",
     "output_type": "stream",
     "text": [
      "('max mins', -1.0, 0.9652737228547501)\n"
     ]
    },
    {
     "name": "stderr",
     "output_type": "stream",
     "text": [
      "\r",
      " 40%|████      | 6/15 [00:28<00:42,  4.76s/it]"
     ]
    },
    {
     "name": "stdout",
     "output_type": "stream",
     "text": [
      "('max mins', -1.0, 0.9136184428633362)\n"
     ]
    },
    {
     "name": "stderr",
     "output_type": "stream",
     "text": [
      "\r",
      " 47%|████▋     | 7/15 [00:32<00:37,  4.72s/it]"
     ]
    },
    {
     "name": "stdout",
     "output_type": "stream",
     "text": [
      "('max mins', -1.0, 0.9945457387121774)\n"
     ]
    },
    {
     "name": "stderr",
     "output_type": "stream",
     "text": [
      "\r",
      " 53%|█████▎    | 8/15 [00:37<00:33,  4.71s/it]"
     ]
    },
    {
     "name": "stdout",
     "output_type": "stream",
     "text": [
      "('max mins', -0.9589091947607681, 1.0)\n"
     ]
    },
    {
     "name": "stderr",
     "output_type": "stream",
     "text": [
      "\r",
      " 60%|██████    | 9/15 [00:42<00:28,  4.71s/it]"
     ]
    },
    {
     "name": "stdout",
     "output_type": "stream",
     "text": [
      "('max mins', -0.9643559131223649, 1.0)\n"
     ]
    },
    {
     "name": "stderr",
     "output_type": "stream",
     "text": [
      "\r",
      " 67%|██████▋   | 10/15 [00:47<00:24,  4.82s/it]"
     ]
    },
    {
     "name": "stdout",
     "output_type": "stream",
     "text": [
      "('max mins', -0.9913513794669172, 1.0)\n"
     ]
    },
    {
     "name": "stderr",
     "output_type": "stream",
     "text": [
      "\r",
      " 73%|███████▎  | 11/15 [00:52<00:19,  4.92s/it]"
     ]
    },
    {
     "name": "stdout",
     "output_type": "stream",
     "text": [
      "('max mins', -1.0, 0.9980330860645331)\n"
     ]
    },
    {
     "name": "stderr",
     "output_type": "stream",
     "text": [
      "\r",
      " 80%|████████  | 12/15 [00:56<00:14,  4.83s/it]"
     ]
    },
    {
     "name": "stdout",
     "output_type": "stream",
     "text": [
      "('max mins', -0.9838349328121095, 1.0)\n"
     ]
    },
    {
     "name": "stderr",
     "output_type": "stream",
     "text": [
      "\r",
      " 87%|████████▋ | 13/15 [01:01<00:09,  4.74s/it]"
     ]
    },
    {
     "name": "stdout",
     "output_type": "stream",
     "text": [
      "('max mins', -0.9530957512155002, 1.0)\n"
     ]
    },
    {
     "name": "stderr",
     "output_type": "stream",
     "text": [
      "\r",
      " 93%|█████████▎| 14/15 [01:06<00:04,  4.71s/it]"
     ]
    },
    {
     "name": "stdout",
     "output_type": "stream",
     "text": [
      "('max mins', -0.9789960168861033, 1.0)\n"
     ]
    },
    {
     "name": "stderr",
     "output_type": "stream",
     "text": [
      "100%|██████████| 15/15 [01:10<00:00,  4.64s/it]\n"
     ]
    },
    {
     "name": "stdout",
     "output_type": "stream",
     "text": [
      "('Best file pairs are: ', 'non_spikey_T0000856.WAV*non_spikey_T0000857.WAV')\n",
      "Start and end indices around peak:                  start index: 11538474\t\t          end index: 23038474                  total samples:30015488\n",
      "('AV Sync was above threshold: ', 0.7174008031792526)\n",
      "common_fps/Aditya_annotations/2018-08-18/common_fps_video_syncAditya_2018-08-19_23_6.csv\n",
      "('video_fps obtained is :', 25)\n",
      "Did not find user-provided sample rate - getting it from first file that matches format!\n",
      "('sampling rate is : ', 250000)\n",
      ".....finding best audio segment.....\n"
     ]
    },
    {
     "name": "stderr",
     "output_type": "stream",
     "text": [
      "\r",
      "  0%|          | 0/15 [00:00<?, ?it/s]"
     ]
    },
    {
     "name": "stdout",
     "output_type": "stream",
     "text": [
      "('max mins for upsampled video', -0.9136842632371294, 1.0)\n",
      "('max mins', -1.0, 0.9247948730428763)\n"
     ]
    },
    {
     "name": "stderr",
     "output_type": "stream",
     "text": [
      "\r",
      "  7%|▋         | 1/15 [00:04<01:03,  4.54s/it]"
     ]
    },
    {
     "name": "stdout",
     "output_type": "stream",
     "text": [
      "('max mins', -1.0, 0.9609768360886519)\n"
     ]
    },
    {
     "name": "stderr",
     "output_type": "stream",
     "text": [
      "\r",
      " 13%|█▎        | 2/15 [00:09<00:58,  4.53s/it]"
     ]
    },
    {
     "name": "stdout",
     "output_type": "stream",
     "text": [
      "('max mins', -1.0, 0.9805232904168644)\n"
     ]
    },
    {
     "name": "stderr",
     "output_type": "stream",
     "text": [
      "\r",
      " 20%|██        | 3/15 [00:13<00:54,  4.54s/it]"
     ]
    },
    {
     "name": "stdout",
     "output_type": "stream",
     "text": [
      "('max mins', -0.9971944581699195, 1.0)\n"
     ]
    },
    {
     "name": "stderr",
     "output_type": "stream",
     "text": [
      "\r",
      " 27%|██▋       | 4/15 [00:18<00:50,  4.55s/it]"
     ]
    },
    {
     "name": "stdout",
     "output_type": "stream",
     "text": [
      "('max mins', -0.9432270977593401, 1.0)\n"
     ]
    },
    {
     "name": "stderr",
     "output_type": "stream",
     "text": [
      "\r",
      " 33%|███▎      | 5/15 [00:23<00:46,  4.68s/it]"
     ]
    },
    {
     "name": "stdout",
     "output_type": "stream",
     "text": [
      "('max mins', -1.0, 0.9652737228547501)\n"
     ]
    },
    {
     "name": "stderr",
     "output_type": "stream",
     "text": [
      "\r",
      " 40%|████      | 6/15 [00:27<00:42,  4.70s/it]"
     ]
    },
    {
     "name": "stdout",
     "output_type": "stream",
     "text": [
      "('max mins', -1.0, 0.9136184428633362)\n"
     ]
    },
    {
     "name": "stderr",
     "output_type": "stream",
     "text": [
      "\r",
      " 47%|████▋     | 7/15 [00:32<00:38,  4.82s/it]"
     ]
    },
    {
     "name": "stdout",
     "output_type": "stream",
     "text": [
      "('max mins', -1.0, 0.9945457387121774)\n"
     ]
    },
    {
     "name": "stderr",
     "output_type": "stream",
     "text": [
      "\r",
      " 53%|█████▎    | 8/15 [00:37<00:32,  4.69s/it]"
     ]
    },
    {
     "name": "stdout",
     "output_type": "stream",
     "text": [
      "('max mins', -0.9589091947607681, 1.0)\n"
     ]
    },
    {
     "name": "stderr",
     "output_type": "stream",
     "text": [
      "\r",
      " 60%|██████    | 9/15 [00:42<00:28,  4.71s/it]"
     ]
    },
    {
     "name": "stdout",
     "output_type": "stream",
     "text": [
      "('max mins', -0.9643559131223649, 1.0)\n"
     ]
    },
    {
     "name": "stderr",
     "output_type": "stream",
     "text": [
      "\r",
      " 67%|██████▋   | 10/15 [00:46<00:23,  4.67s/it]"
     ]
    },
    {
     "name": "stdout",
     "output_type": "stream",
     "text": [
      "('max mins', -0.9913513794669172, 1.0)\n"
     ]
    },
    {
     "name": "stderr",
     "output_type": "stream",
     "text": [
      "\r",
      " 73%|███████▎  | 11/15 [00:51<00:18,  4.57s/it]"
     ]
    },
    {
     "name": "stdout",
     "output_type": "stream",
     "text": [
      "('max mins', -1.0, 0.9980330860645331)\n"
     ]
    },
    {
     "name": "stderr",
     "output_type": "stream",
     "text": [
      "\r",
      " 80%|████████  | 12/15 [00:55<00:13,  4.52s/it]"
     ]
    },
    {
     "name": "stdout",
     "output_type": "stream",
     "text": [
      "('max mins', -0.9838349328121095, 1.0)\n"
     ]
    },
    {
     "name": "stderr",
     "output_type": "stream",
     "text": [
      "\r",
      " 87%|████████▋ | 13/15 [01:00<00:09,  4.53s/it]"
     ]
    },
    {
     "name": "stdout",
     "output_type": "stream",
     "text": [
      "('max mins', -0.9530957512155002, 1.0)\n"
     ]
    },
    {
     "name": "stderr",
     "output_type": "stream",
     "text": [
      "\r",
      " 93%|█████████▎| 14/15 [01:04<00:04,  4.54s/it]"
     ]
    },
    {
     "name": "stdout",
     "output_type": "stream",
     "text": [
      "('max mins', -0.9789960168861033, 1.0)\n"
     ]
    },
    {
     "name": "stderr",
     "output_type": "stream",
     "text": [
      "100%|██████████| 15/15 [01:09<00:00,  4.64s/it]\n"
     ]
    },
    {
     "name": "stdout",
     "output_type": "stream",
     "text": [
      "('Best file pairs are: ', 'non_spikey_T0000856.WAV*non_spikey_T0000857.WAV')\n",
      "Start and end indices around peak:                  start index: 11538474\t\t          end index: 23038474                  total samples:30015488\n",
      "('AV Sync was above threshold: ', 0.7174008031792526)\n"
     ]
    }
   ],
   "source": [
    "for each in sorted(all_commonfps):\n",
    "    generate_matching_audio(each, audio_folder, audio_sync_spikey=False, file_subset=('non_spikey_T0000855',\n",
    "                                                                                      'non_spikey_T0000870'),\n",
    "                            audio_fileformat='*.WAV',\n",
    "                          audiosync_folder='sync_audio/Aditya_annotations/',\n",
    "                           audioannotation_folder='annotation_audio/Aditya_annotations/')\n"
   ]
  },
  {
   "cell_type": "markdown",
   "metadata": {},
   "source": [
    "### Taking stock of the AV sync cross-correlation coefficients:\n",
    "Most of the matches are $\\geq0.8$ , but there are some that are start between 02:01:21 to 02:01:23. These annotations have a lower cross-corr coefficient than other (~0.7), and are characterised by a good match in the sync_audio, except for hte last few (6-8 seconds) seconds. I'm guessing this might be because of a weird framerate anomaly that's showing up in the common_fps files. \n",
    "\n",
    "The ~0.7 cc coefficient matched annotations are ```2018-08-19_23_3, 2018-08-19_23_4, 2018-08-19_23_5, 2018-08-19_23_6```. The \n",
    "\n",
    "### Deleting one bad match: 2018-08-19_23_44\n",
    "The sync and annotation audio for Annotation id 44 will be deleted because there was actually *no* video signal to actually match. This annotation fell in the period in the video_sync file that was zero-filled. "
   ]
  },
  {
   "cell_type": "code",
   "execution_count": 26,
   "metadata": {},
   "outputs": [],
   "source": [
    "import numpy as np "
   ]
  },
  {
   "cell_type": "code",
   "execution_count": 37,
   "metadata": {},
   "outputs": [
    {
     "data": {
      "text/html": [
       "<div>\n",
       "<style scoped>\n",
       "    .dataframe tbody tr th:only-of-type {\n",
       "        vertical-align: middle;\n",
       "    }\n",
       "\n",
       "    .dataframe tbody tr th {\n",
       "        vertical-align: top;\n",
       "    }\n",
       "\n",
       "    .dataframe thead th {\n",
       "        text-align: right;\n",
       "    }\n",
       "</style>\n",
       "<table border=\"1\" class=\"dataframe\">\n",
       "  <thead>\n",
       "    <tr style=\"text-align: right;\">\n",
       "      <th></th>\n",
       "      <th>num_frames</th>\n",
       "      <th>timestamp</th>\n",
       "    </tr>\n",
       "  </thead>\n",
       "  <tbody>\n",
       "    <tr>\n",
       "      <th>0</th>\n",
       "      <td>22</td>\n",
       "      <td>2018-08-19 02:01:21</td>\n",
       "    </tr>\n",
       "    <tr>\n",
       "      <th>1</th>\n",
       "      <td>23</td>\n",
       "      <td>2018-08-19 02:01:22</td>\n",
       "    </tr>\n",
       "    <tr>\n",
       "      <th>2</th>\n",
       "      <td>21</td>\n",
       "      <td>2018-08-19 02:01:23</td>\n",
       "    </tr>\n",
       "    <tr>\n",
       "      <th>3</th>\n",
       "      <td>22</td>\n",
       "      <td>2018-08-19 02:01:24</td>\n",
       "    </tr>\n",
       "    <tr>\n",
       "      <th>4</th>\n",
       "      <td>23</td>\n",
       "      <td>2018-08-19 02:01:25</td>\n",
       "    </tr>\n",
       "    <tr>\n",
       "      <th>5</th>\n",
       "      <td>21</td>\n",
       "      <td>2018-08-19 02:01:26</td>\n",
       "    </tr>\n",
       "    <tr>\n",
       "      <th>6</th>\n",
       "      <td>22</td>\n",
       "      <td>2018-08-19 02:01:27</td>\n",
       "    </tr>\n",
       "    <tr>\n",
       "      <th>7</th>\n",
       "      <td>23</td>\n",
       "      <td>2018-08-19 02:01:28</td>\n",
       "    </tr>\n",
       "    <tr>\n",
       "      <th>8</th>\n",
       "      <td>21</td>\n",
       "      <td>2018-08-19 02:01:29</td>\n",
       "    </tr>\n",
       "    <tr>\n",
       "      <th>9</th>\n",
       "      <td>22</td>\n",
       "      <td>2018-08-19 02:01:30</td>\n",
       "    </tr>\n",
       "    <tr>\n",
       "      <th>10</th>\n",
       "      <td>22</td>\n",
       "      <td>2018-08-19 02:01:31</td>\n",
       "    </tr>\n",
       "    <tr>\n",
       "      <th>11</th>\n",
       "      <td>22</td>\n",
       "      <td>2018-08-19 02:01:32</td>\n",
       "    </tr>\n",
       "    <tr>\n",
       "      <th>12</th>\n",
       "      <td>22</td>\n",
       "      <td>2018-08-19 02:01:33</td>\n",
       "    </tr>\n",
       "    <tr>\n",
       "      <th>13</th>\n",
       "      <td>22</td>\n",
       "      <td>2018-08-19 02:01:34</td>\n",
       "    </tr>\n",
       "    <tr>\n",
       "      <th>14</th>\n",
       "      <td>22</td>\n",
       "      <td>2018-08-19 02:01:35</td>\n",
       "    </tr>\n",
       "    <tr>\n",
       "      <th>15</th>\n",
       "      <td>22</td>\n",
       "      <td>2018-08-19 02:01:36</td>\n",
       "    </tr>\n",
       "    <tr>\n",
       "      <th>16</th>\n",
       "      <td>22</td>\n",
       "      <td>2018-08-19 02:01:37</td>\n",
       "    </tr>\n",
       "    <tr>\n",
       "      <th>17</th>\n",
       "      <td>22</td>\n",
       "      <td>2018-08-19 02:01:38</td>\n",
       "    </tr>\n",
       "    <tr>\n",
       "      <th>18</th>\n",
       "      <td>22</td>\n",
       "      <td>2018-08-19 02:01:39</td>\n",
       "    </tr>\n",
       "    <tr>\n",
       "      <th>19</th>\n",
       "      <td>22</td>\n",
       "      <td>2018-08-19 02:01:40</td>\n",
       "    </tr>\n",
       "    <tr>\n",
       "      <th>20</th>\n",
       "      <td>22</td>\n",
       "      <td>2018-08-19 02:01:41</td>\n",
       "    </tr>\n",
       "    <tr>\n",
       "      <th>21</th>\n",
       "      <td>22</td>\n",
       "      <td>2018-08-19 02:01:42</td>\n",
       "    </tr>\n",
       "    <tr>\n",
       "      <th>22</th>\n",
       "      <td>22</td>\n",
       "      <td>2018-08-19 02:01:43</td>\n",
       "    </tr>\n",
       "    <tr>\n",
       "      <th>23</th>\n",
       "      <td>22</td>\n",
       "      <td>2018-08-19 02:01:44</td>\n",
       "    </tr>\n",
       "    <tr>\n",
       "      <th>24</th>\n",
       "      <td>22</td>\n",
       "      <td>2018-08-19 02:01:45</td>\n",
       "    </tr>\n",
       "    <tr>\n",
       "      <th>25</th>\n",
       "      <td>22</td>\n",
       "      <td>2018-08-19 02:01:46</td>\n",
       "    </tr>\n",
       "    <tr>\n",
       "      <th>26</th>\n",
       "      <td>22</td>\n",
       "      <td>2018-08-19 02:01:47</td>\n",
       "    </tr>\n",
       "    <tr>\n",
       "      <th>27</th>\n",
       "      <td>22</td>\n",
       "      <td>2018-08-19 02:01:48</td>\n",
       "    </tr>\n",
       "    <tr>\n",
       "      <th>28</th>\n",
       "      <td>22</td>\n",
       "      <td>2018-08-19 02:01:49</td>\n",
       "    </tr>\n",
       "    <tr>\n",
       "      <th>29</th>\n",
       "      <td>22</td>\n",
       "      <td>2018-08-19 02:01:50</td>\n",
       "    </tr>\n",
       "    <tr>\n",
       "      <th>30</th>\n",
       "      <td>22</td>\n",
       "      <td>2018-08-19 02:01:51</td>\n",
       "    </tr>\n",
       "    <tr>\n",
       "      <th>31</th>\n",
       "      <td>22</td>\n",
       "      <td>2018-08-19 02:01:52</td>\n",
       "    </tr>\n",
       "    <tr>\n",
       "      <th>32</th>\n",
       "      <td>22</td>\n",
       "      <td>2018-08-19 02:01:53</td>\n",
       "    </tr>\n",
       "    <tr>\n",
       "      <th>33</th>\n",
       "      <td>22</td>\n",
       "      <td>2018-08-19 02:01:54</td>\n",
       "    </tr>\n",
       "    <tr>\n",
       "      <th>34</th>\n",
       "      <td>22</td>\n",
       "      <td>2018-08-19 02:01:55</td>\n",
       "    </tr>\n",
       "    <tr>\n",
       "      <th>35</th>\n",
       "      <td>22</td>\n",
       "      <td>2018-08-19 02:01:56</td>\n",
       "    </tr>\n",
       "    <tr>\n",
       "      <th>36</th>\n",
       "      <td>22</td>\n",
       "      <td>2018-08-19 02:01:57</td>\n",
       "    </tr>\n",
       "    <tr>\n",
       "      <th>37</th>\n",
       "      <td>23</td>\n",
       "      <td>2018-08-19 02:01:58</td>\n",
       "    </tr>\n",
       "    <tr>\n",
       "      <th>38</th>\n",
       "      <td>21</td>\n",
       "      <td>2018-08-19 02:01:59</td>\n",
       "    </tr>\n",
       "    <tr>\n",
       "      <th>39</th>\n",
       "      <td>44</td>\n",
       "      <td>2018-08-19 02:02:00</td>\n",
       "    </tr>\n",
       "    <tr>\n",
       "      <th>40</th>\n",
       "      <td>22</td>\n",
       "      <td>2018-08-19 02:02:01</td>\n",
       "    </tr>\n",
       "    <tr>\n",
       "      <th>41</th>\n",
       "      <td>22</td>\n",
       "      <td>2018-08-19 02:02:02</td>\n",
       "    </tr>\n",
       "    <tr>\n",
       "      <th>42</th>\n",
       "      <td>22</td>\n",
       "      <td>2018-08-19 02:02:03</td>\n",
       "    </tr>\n",
       "    <tr>\n",
       "      <th>43</th>\n",
       "      <td>22</td>\n",
       "      <td>2018-08-19 02:02:04</td>\n",
       "    </tr>\n",
       "    <tr>\n",
       "      <th>44</th>\n",
       "      <td>23</td>\n",
       "      <td>2018-08-19 02:02:05</td>\n",
       "    </tr>\n",
       "    <tr>\n",
       "      <th>45</th>\n",
       "      <td>21</td>\n",
       "      <td>2018-08-19 02:02:06</td>\n",
       "    </tr>\n",
       "    <tr>\n",
       "      <th>46</th>\n",
       "      <td>22</td>\n",
       "      <td>2018-08-19 02:02:07</td>\n",
       "    </tr>\n",
       "    <tr>\n",
       "      <th>47</th>\n",
       "      <td>22</td>\n",
       "      <td>2018-08-19 02:02:08</td>\n",
       "    </tr>\n",
       "  </tbody>\n",
       "</table>\n",
       "</div>"
      ],
      "text/plain": [
       "    num_frames            timestamp\n",
       "0           22  2018-08-19 02:01:21\n",
       "1           23  2018-08-19 02:01:22\n",
       "2           21  2018-08-19 02:01:23\n",
       "3           22  2018-08-19 02:01:24\n",
       "4           23  2018-08-19 02:01:25\n",
       "5           21  2018-08-19 02:01:26\n",
       "6           22  2018-08-19 02:01:27\n",
       "7           23  2018-08-19 02:01:28\n",
       "8           21  2018-08-19 02:01:29\n",
       "9           22  2018-08-19 02:01:30\n",
       "10          22  2018-08-19 02:01:31\n",
       "11          22  2018-08-19 02:01:32\n",
       "12          22  2018-08-19 02:01:33\n",
       "13          22  2018-08-19 02:01:34\n",
       "14          22  2018-08-19 02:01:35\n",
       "15          22  2018-08-19 02:01:36\n",
       "16          22  2018-08-19 02:01:37\n",
       "17          22  2018-08-19 02:01:38\n",
       "18          22  2018-08-19 02:01:39\n",
       "19          22  2018-08-19 02:01:40\n",
       "20          22  2018-08-19 02:01:41\n",
       "21          22  2018-08-19 02:01:42\n",
       "22          22  2018-08-19 02:01:43\n",
       "23          22  2018-08-19 02:01:44\n",
       "24          22  2018-08-19 02:01:45\n",
       "25          22  2018-08-19 02:01:46\n",
       "26          22  2018-08-19 02:01:47\n",
       "27          22  2018-08-19 02:01:48\n",
       "28          22  2018-08-19 02:01:49\n",
       "29          22  2018-08-19 02:01:50\n",
       "30          22  2018-08-19 02:01:51\n",
       "31          22  2018-08-19 02:01:52\n",
       "32          22  2018-08-19 02:01:53\n",
       "33          22  2018-08-19 02:01:54\n",
       "34          22  2018-08-19 02:01:55\n",
       "35          22  2018-08-19 02:01:56\n",
       "36          22  2018-08-19 02:01:57\n",
       "37          23  2018-08-19 02:01:58\n",
       "38          21  2018-08-19 02:01:59\n",
       "39          44  2018-08-19 02:02:00\n",
       "40          22  2018-08-19 02:02:01\n",
       "41          22  2018-08-19 02:02:02\n",
       "42          22  2018-08-19 02:02:03\n",
       "43          22  2018-08-19 02:02:04\n",
       "44          23  2018-08-19 02:02:05\n",
       "45          21  2018-08-19 02:02:06\n",
       "46          22  2018-08-19 02:02:07\n",
       "47          22  2018-08-19 02:02:08"
      ]
     },
     "execution_count": 37,
     "metadata": {},
     "output_type": "execute_result"
    }
   ],
   "source": [
    "start_frame = int(np.argwhere(video_sync['timestamp_verified']=='2018-08-19 02:01:21')[0])\n",
    "end_frame = int(np.argwhere(video_sync['timestamp_verified']=='2018-08-19 02:02:08')[-1])\n",
    "\n",
    "start_frame, end_frame\n",
    "relevant_rows = video_sync.iloc[start_frame:end_frame+1,:]\n",
    "timestamps, counts = np.unique(relevant_rows['timestamp_verified'], return_counts=True)\n",
    "pd.DataFrame(data={'timestamp':timestamps, 'num_frames':counts})"
   ]
  },
  {
   "cell_type": "markdown",
   "metadata": {},
   "source": [
    "### The problem timestamp : \n",
    "```2018-08-19 02:02:00``` appears 44 times - and thus messes up with the cross correlation coefficients! But otherwise, the matches are correct!"
   ]
  },
  {
   "cell_type": "code",
   "execution_count": null,
   "metadata": {},
   "outputs": [],
   "source": []
  }
 ],
 "metadata": {
  "kernelspec": {
   "display_name": "horseshoebat",
   "language": "python",
   "name": "horseshoebat"
  },
  "language_info": {
   "codemirror_mode": {
    "name": "ipython",
    "version": 2
   },
   "file_extension": ".py",
   "mimetype": "text/x-python",
   "name": "python",
   "nbconvert_exporter": "python",
   "pygments_lexer": "ipython2",
   "version": "2.7.15"
  }
 },
 "nbformat": 4,
 "nbformat_minor": 2
}
