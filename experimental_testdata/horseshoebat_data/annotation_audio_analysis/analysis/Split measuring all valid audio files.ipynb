{
 "cells": [
  {
   "cell_type": "markdown",
   "metadata": {},
   "source": [
    "### What this notebook will do\n",
    "This notebook will deal with the generation of measurements on the annotation audio. Each annotation audio file will be split into smaller segments of 50ms length. 50ms is chosen as it is the same temporal scale as the longest calls. The idea is that if possible, one segment should contain at least one call. \n",
    "\n",
    "The 'valid_annotations' have been chosen in the 'choosing valid annotations...' Jupyter notebook. 'valid annotations' are those with only the target species, where there was detectable audio when a bat was flying, and those that have been double checked to be correctly annotated. See the notebook for more details. \n",
    "\n",
    "In this notebook, the audio corresponding to all the 'valid_annotations' will be  split-measured to generate the raw data for all further statistical analysis that will follow to compare single vs. multi bat call sequences. \n",
    "\n",
    "\n",
    "- Author: Thejasvi Beleyur\n",
    "- Date of initiation: 2020-07-11"
   ]
  },
  {
   "cell_type": "code",
   "execution_count": 1,
   "metadata": {},
   "outputs": [],
   "source": [
    "import datetime as dt\n",
    "import sys \n",
    "sys.path.append('/home/tbeleyur/Documents/packages_dev/correct_call_annotations/')\n",
    "sys.path.append('../')\n",
    "sys.path.append('../../individual_call_analysis/analysis/')\n",
    "\n",
    "import correct_call_annotations.correct_call_annotations as cca\n",
    "import format_and_clean\n",
    "from format_and_clean import ind_call_format as icf\n",
    "import measure_annot_audio\n",
    "\n",
    "from measure_annot_audio import split_measure\n",
    "from measure_annot_audio.inbuilt_measurement_functions import dB\n",
    "import os\n",
    "import matplotlib.pyplot as plt\n",
    "import numpy as np\n",
    "import pandas as pd\n",
    "import soundfile as sf\n",
    "import tqdm"
   ]
  },
  {
   "cell_type": "code",
   "execution_count": 2,
   "metadata": {},
   "outputs": [],
   "source": [
    "%matplotlib notebook"
   ]
  },
  {
   "cell_type": "code",
   "execution_count": 3,
   "metadata": {},
   "outputs": [
    {
     "name": "stdout",
     "output_type": "stream",
     "text": [
      "Notebook started at: 2020-07-13 16:59:12.532819\n"
     ]
    }
   ],
   "source": [
    "print(f'Notebook started at: {dt.datetime.now()}')"
   ]
  },
  {
   "cell_type": "code",
   "execution_count": 4,
   "metadata": {},
   "outputs": [
    {
     "data": {
      "text/html": [
       "<div>\n",
       "<style scoped>\n",
       "    .dataframe tbody tr th:only-of-type {\n",
       "        vertical-align: middle;\n",
       "    }\n",
       "\n",
       "    .dataframe tbody tr th {\n",
       "        vertical-align: top;\n",
       "    }\n",
       "\n",
       "    .dataframe thead th {\n",
       "        text-align: right;\n",
       "    }\n",
       "</style>\n",
       "<table border=\"1\" class=\"dataframe\">\n",
       "  <thead>\n",
       "    <tr style=\"text-align: right;\">\n",
       "      <th></th>\n",
       "      <th>Unnamed: 0</th>\n",
       "      <th>valid_annotations</th>\n",
       "    </tr>\n",
       "  </thead>\n",
       "  <tbody>\n",
       "    <tr>\n",
       "      <th>0</th>\n",
       "      <td>0</td>\n",
       "      <td>matching_annotaudio_Aditya_2018-08-16_21502300_9</td>\n",
       "    </tr>\n",
       "    <tr>\n",
       "      <th>1</th>\n",
       "      <td>1</td>\n",
       "      <td>matching_annotaudio_Aditya_2018-08-16_21502300_12</td>\n",
       "    </tr>\n",
       "    <tr>\n",
       "      <th>2</th>\n",
       "      <td>2</td>\n",
       "      <td>matching_annotaudio_Aditya_2018-08-16_21502300_18</td>\n",
       "    </tr>\n",
       "    <tr>\n",
       "      <th>3</th>\n",
       "      <td>3</td>\n",
       "      <td>matching_annotaudio_Aditya_2018-08-16_21502300_19</td>\n",
       "    </tr>\n",
       "    <tr>\n",
       "      <th>4</th>\n",
       "      <td>4</td>\n",
       "      <td>matching_annotaudio_Aditya_2018-08-16_21502300_20</td>\n",
       "    </tr>\n",
       "    <tr>\n",
       "      <th>...</th>\n",
       "      <td>...</td>\n",
       "      <td>...</td>\n",
       "    </tr>\n",
       "    <tr>\n",
       "      <th>612</th>\n",
       "      <td>624</td>\n",
       "      <td>matching_annotaudio_Aditya_2018-08-20_0300-040...</td>\n",
       "    </tr>\n",
       "    <tr>\n",
       "      <th>613</th>\n",
       "      <td>625</td>\n",
       "      <td>matching_annotaudio_Aditya_2018-08-20_0300-040...</td>\n",
       "    </tr>\n",
       "    <tr>\n",
       "      <th>614</th>\n",
       "      <td>626</td>\n",
       "      <td>matching_annotaudio_Aditya_2018-08-20_0300-040...</td>\n",
       "    </tr>\n",
       "    <tr>\n",
       "      <th>615</th>\n",
       "      <td>627</td>\n",
       "      <td>matching_annotaudio_Aditya_2018-08-20_0300-040...</td>\n",
       "    </tr>\n",
       "    <tr>\n",
       "      <th>616</th>\n",
       "      <td>628</td>\n",
       "      <td>matching_annotaudio_Aditya_2018-08-20_0300-040...</td>\n",
       "    </tr>\n",
       "  </tbody>\n",
       "</table>\n",
       "<p>617 rows × 2 columns</p>\n",
       "</div>"
      ],
      "text/plain": [
       "     Unnamed: 0                                  valid_annotations\n",
       "0             0   matching_annotaudio_Aditya_2018-08-16_21502300_9\n",
       "1             1  matching_annotaudio_Aditya_2018-08-16_21502300_12\n",
       "2             2  matching_annotaudio_Aditya_2018-08-16_21502300_18\n",
       "3             3  matching_annotaudio_Aditya_2018-08-16_21502300_19\n",
       "4             4  matching_annotaudio_Aditya_2018-08-16_21502300_20\n",
       "..          ...                                                ...\n",
       "612         624  matching_annotaudio_Aditya_2018-08-20_0300-040...\n",
       "613         625  matching_annotaudio_Aditya_2018-08-20_0300-040...\n",
       "614         626  matching_annotaudio_Aditya_2018-08-20_0300-040...\n",
       "615         627  matching_annotaudio_Aditya_2018-08-20_0300-040...\n",
       "616         628  matching_annotaudio_Aditya_2018-08-20_0300-040...\n",
       "\n",
       "[617 rows x 2 columns]"
      ]
     },
     "execution_count": 4,
     "metadata": {},
     "output_type": "execute_result"
    }
   ],
   "source": [
    "verif_annots = pd.read_csv('../verified_annotations.csv').reset_index(drop=True) # manually re-checked set of audio files.\n",
    "# See ../choosing valid annotation audio files.ipynb\n",
    "\n",
    "verif_annots"
   ]
  },
  {
   "cell_type": "code",
   "execution_count": 5,
   "metadata": {},
   "outputs": [],
   "source": [
    "all_measures = []"
   ]
  },
  {
   "cell_type": "code",
   "execution_count": 6,
   "metadata": {
    "scrolled": true
   },
   "outputs": [
    {
     "name": "stderr",
     "output_type": "stream",
     "text": [
      "1it [00:00,  9.26it/s]"
     ]
    },
    {
     "name": "stdout",
     "output_type": "stream",
     "text": [
      "Match found!\n",
      "Match found!\n"
     ]
    },
    {
     "name": "stderr",
     "output_type": "stream",
     "text": [
      "\r",
      "2it [00:00,  6.89it/s]"
     ]
    },
    {
     "name": "stdout",
     "output_type": "stream",
     "text": [
      "Match found!\n"
     ]
    },
    {
     "name": "stderr",
     "output_type": "stream",
     "text": [
      "\r",
      "3it [00:00,  5.09it/s]"
     ]
    },
    {
     "name": "stdout",
     "output_type": "stream",
     "text": [
      "Match found!\n"
     ]
    },
    {
     "name": "stderr",
     "output_type": "stream",
     "text": [
      "\r",
      "4it [00:01,  3.49it/s]"
     ]
    },
    {
     "name": "stdout",
     "output_type": "stream",
     "text": [
      "Match found!\n"
     ]
    },
    {
     "name": "stderr",
     "output_type": "stream",
     "text": [
      "\r",
      "5it [00:01,  2.21it/s]"
     ]
    },
    {
     "name": "stdout",
     "output_type": "stream",
     "text": [
      "Match found!\n"
     ]
    },
    {
     "name": "stderr",
     "output_type": "stream",
     "text": [
      "\r",
      "6it [00:02,  1.85it/s]"
     ]
    },
    {
     "name": "stdout",
     "output_type": "stream",
     "text": [
      "Match found!\n"
     ]
    },
    {
     "name": "stderr",
     "output_type": "stream",
     "text": [
      "\r",
      "7it [00:02,  2.26it/s]"
     ]
    },
    {
     "name": "stdout",
     "output_type": "stream",
     "text": [
      "Match found!\n"
     ]
    },
    {
     "name": "stderr",
     "output_type": "stream",
     "text": [
      "\r",
      "8it [00:03,  2.49it/s]"
     ]
    },
    {
     "name": "stdout",
     "output_type": "stream",
     "text": [
      "Match found!\n"
     ]
    },
    {
     "name": "stderr",
     "output_type": "stream",
     "text": [
      "\r",
      "9it [00:03,  2.84it/s]"
     ]
    },
    {
     "name": "stdout",
     "output_type": "stream",
     "text": [
      "Match found!\n"
     ]
    },
    {
     "name": "stderr",
     "output_type": "stream",
     "text": [
      "11it [00:04,  2.59it/s]"
     ]
    },
    {
     "name": "stdout",
     "output_type": "stream",
     "text": [
      "Match found!\n",
      "Match found!\n"
     ]
    },
    {
     "name": "stderr",
     "output_type": "stream",
     "text": [
      "\r",
      "12it [00:05,  1.95it/s]"
     ]
    },
    {
     "name": "stdout",
     "output_type": "stream",
     "text": [
      "Match found!\n"
     ]
    },
    {
     "name": "stderr",
     "output_type": "stream",
     "text": [
      "\r",
      "13it [00:05,  1.81it/s]"
     ]
    },
    {
     "name": "stdout",
     "output_type": "stream",
     "text": [
      "Match found!\n"
     ]
    },
    {
     "name": "stderr",
     "output_type": "stream",
     "text": [
      "\r",
      "14it [00:06,  1.86it/s]"
     ]
    },
    {
     "name": "stdout",
     "output_type": "stream",
     "text": [
      "Match found!\n"
     ]
    },
    {
     "name": "stderr",
     "output_type": "stream",
     "text": [
      "\r",
      "15it [00:07,  1.19it/s]"
     ]
    },
    {
     "name": "stdout",
     "output_type": "stream",
     "text": [
      "Match found!\n"
     ]
    },
    {
     "name": "stderr",
     "output_type": "stream",
     "text": [
      "\r",
      "16it [00:08,  1.23it/s]"
     ]
    },
    {
     "name": "stdout",
     "output_type": "stream",
     "text": [
      "Match found!\n"
     ]
    },
    {
     "name": "stderr",
     "output_type": "stream",
     "text": [
      "18it [00:09,  1.55it/s]"
     ]
    },
    {
     "name": "stdout",
     "output_type": "stream",
     "text": [
      "Match found!\n",
      "Match found!\n"
     ]
    },
    {
     "name": "stderr",
     "output_type": "stream",
     "text": [
      "\r",
      "19it [00:10,  1.81it/s]"
     ]
    },
    {
     "name": "stdout",
     "output_type": "stream",
     "text": [
      "Match found!\n"
     ]
    },
    {
     "name": "stderr",
     "output_type": "stream",
     "text": [
      "\r",
      "20it [00:10,  2.04it/s]"
     ]
    },
    {
     "name": "stdout",
     "output_type": "stream",
     "text": [
      "Match found!\n"
     ]
    },
    {
     "name": "stderr",
     "output_type": "stream",
     "text": [
      "\r",
      "21it [00:11,  1.95it/s]"
     ]
    },
    {
     "name": "stdout",
     "output_type": "stream",
     "text": [
      "Match found!\n"
     ]
    },
    {
     "name": "stderr",
     "output_type": "stream",
     "text": [
      "\r",
      "22it [00:11,  2.12it/s]"
     ]
    },
    {
     "name": "stdout",
     "output_type": "stream",
     "text": [
      "Match found!\n"
     ]
    },
    {
     "name": "stderr",
     "output_type": "stream",
     "text": [
      "\r",
      "23it [00:13,  1.07s/it]"
     ]
    },
    {
     "name": "stdout",
     "output_type": "stream",
     "text": [
      "Match found!\n"
     ]
    },
    {
     "name": "stderr",
     "output_type": "stream",
     "text": [
      "\r",
      "24it [00:14,  1.22it/s]"
     ]
    },
    {
     "name": "stdout",
     "output_type": "stream",
     "text": [
      "Match found!\n"
     ]
    },
    {
     "name": "stderr",
     "output_type": "stream",
     "text": [
      "\r",
      "25it [00:15,  1.13it/s]"
     ]
    },
    {
     "name": "stdout",
     "output_type": "stream",
     "text": [
      "Match found!\n"
     ]
    },
    {
     "name": "stderr",
     "output_type": "stream",
     "text": [
      "\r",
      "26it [00:15,  1.35it/s]"
     ]
    },
    {
     "name": "stdout",
     "output_type": "stream",
     "text": [
      "Match found!\n"
     ]
    },
    {
     "name": "stderr",
     "output_type": "stream",
     "text": [
      "28it [00:16,  1.70it/s]"
     ]
    },
    {
     "name": "stdout",
     "output_type": "stream",
     "text": [
      "Match found!\n",
      "Match found!\n"
     ]
    },
    {
     "name": "stderr",
     "output_type": "stream",
     "text": [
      "\r",
      "29it [00:17,  1.84it/s]"
     ]
    },
    {
     "name": "stdout",
     "output_type": "stream",
     "text": [
      "Match found!\n"
     ]
    },
    {
     "name": "stderr",
     "output_type": "stream",
     "text": [
      "\r",
      "30it [00:17,  1.86it/s]"
     ]
    },
    {
     "name": "stdout",
     "output_type": "stream",
     "text": [
      "Match found!\n"
     ]
    },
    {
     "name": "stderr",
     "output_type": "stream",
     "text": [
      "\r",
      "31it [00:18,  1.91it/s]"
     ]
    },
    {
     "name": "stdout",
     "output_type": "stream",
     "text": [
      "Match found!\n"
     ]
    },
    {
     "name": "stderr",
     "output_type": "stream",
     "text": [
      "33it [00:19,  1.56it/s]"
     ]
    },
    {
     "name": "stdout",
     "output_type": "stream",
     "text": [
      "Match found!\n",
      "Match found!\n"
     ]
    },
    {
     "name": "stderr",
     "output_type": "stream",
     "text": [
      "\r",
      "34it [00:20,  1.57it/s]"
     ]
    },
    {
     "name": "stdout",
     "output_type": "stream",
     "text": [
      "Match found!\n"
     ]
    },
    {
     "name": "stderr",
     "output_type": "stream",
     "text": [
      "\r",
      "35it [00:20,  1.94it/s]"
     ]
    },
    {
     "name": "stdout",
     "output_type": "stream",
     "text": [
      "Match found!\n"
     ]
    },
    {
     "name": "stderr",
     "output_type": "stream",
     "text": [
      "\r",
      "36it [00:20,  2.32it/s]"
     ]
    },
    {
     "name": "stdout",
     "output_type": "stream",
     "text": [
      "Match found!\n"
     ]
    },
    {
     "name": "stderr",
     "output_type": "stream",
     "text": [
      "\r",
      "37it [00:21,  2.60it/s]"
     ]
    },
    {
     "name": "stdout",
     "output_type": "stream",
     "text": [
      "Match found!\n",
      "Match found!\n"
     ]
    },
    {
     "name": "stderr",
     "output_type": "stream",
     "text": [
      "\r",
      "39it [00:21,  3.13it/s]"
     ]
    },
    {
     "name": "stdout",
     "output_type": "stream",
     "text": [
      "Match found!\n",
      "Match found!\n"
     ]
    },
    {
     "name": "stderr",
     "output_type": "stream",
     "text": [
      "42it [00:21,  4.29it/s]"
     ]
    },
    {
     "name": "stdout",
     "output_type": "stream",
     "text": [
      "Match found!\n",
      "Match found!\n"
     ]
    },
    {
     "name": "stderr",
     "output_type": "stream",
     "text": [
      "44it [00:22,  5.24it/s]"
     ]
    },
    {
     "name": "stdout",
     "output_type": "stream",
     "text": [
      "Match found!\n",
      "Match found!\n"
     ]
    },
    {
     "name": "stderr",
     "output_type": "stream",
     "text": [
      "\r",
      "45it [00:22,  3.23it/s]"
     ]
    },
    {
     "name": "stdout",
     "output_type": "stream",
     "text": [
      "Match found!\n"
     ]
    },
    {
     "name": "stderr",
     "output_type": "stream",
     "text": [
      "47it [00:23,  3.69it/s]"
     ]
    },
    {
     "name": "stdout",
     "output_type": "stream",
     "text": [
      "Match found!\n",
      "Match found!\n"
     ]
    },
    {
     "name": "stderr",
     "output_type": "stream",
     "text": [
      "\r",
      "48it [00:23,  3.79it/s]"
     ]
    },
    {
     "name": "stdout",
     "output_type": "stream",
     "text": [
      "Match found!\n",
      "Match found!\n"
     ]
    },
    {
     "name": "stderr",
     "output_type": "stream",
     "text": [
      "51it [00:23,  4.97it/s]"
     ]
    },
    {
     "name": "stdout",
     "output_type": "stream",
     "text": [
      "Match found!\n",
      "Match found!\n"
     ]
    },
    {
     "name": "stderr",
     "output_type": "stream",
     "text": [
      "\r",
      "53it [00:24,  5.79it/s]"
     ]
    },
    {
     "name": "stdout",
     "output_type": "stream",
     "text": [
      "Match found!\n",
      "Match found!\n"
     ]
    },
    {
     "name": "stderr",
     "output_type": "stream",
     "text": [
      "\r",
      "54it [00:24,  4.68it/s]"
     ]
    },
    {
     "name": "stdout",
     "output_type": "stream",
     "text": [
      "Match found!\n"
     ]
    },
    {
     "name": "stderr",
     "output_type": "stream",
     "text": [
      "\r",
      "55it [00:24,  4.59it/s]"
     ]
    },
    {
     "name": "stdout",
     "output_type": "stream",
     "text": [
      "Match found!\n"
     ]
    },
    {
     "name": "stderr",
     "output_type": "stream",
     "text": [
      "\r",
      "56it [00:25,  1.88it/s]"
     ]
    },
    {
     "name": "stdout",
     "output_type": "stream",
     "text": [
      "Match found!\n"
     ]
    },
    {
     "name": "stderr",
     "output_type": "stream",
     "text": [
      "58it [00:26,  2.30it/s]"
     ]
    },
    {
     "name": "stdout",
     "output_type": "stream",
     "text": [
      "Match found!\n",
      "Match found!\n"
     ]
    },
    {
     "name": "stderr",
     "output_type": "stream",
     "text": [
      "\r",
      "59it [00:27,  2.56it/s]"
     ]
    },
    {
     "name": "stdout",
     "output_type": "stream",
     "text": [
      "Match found!\n"
     ]
    },
    {
     "name": "stderr",
     "output_type": "stream",
     "text": [
      "\r",
      "60it [00:27,  2.91it/s]"
     ]
    },
    {
     "name": "stdout",
     "output_type": "stream",
     "text": [
      "Match found!\n",
      "Match found!\n"
     ]
    },
    {
     "name": "stderr",
     "output_type": "stream",
     "text": [
      "\r",
      "62it [00:27,  3.27it/s]"
     ]
    },
    {
     "name": "stdout",
     "output_type": "stream",
     "text": [
      "Match found!\n"
     ]
    },
    {
     "name": "stderr",
     "output_type": "stream",
     "text": [
      "\r",
      "63it [00:27,  3.49it/s]"
     ]
    },
    {
     "name": "stdout",
     "output_type": "stream",
     "text": [
      "Match found!\n"
     ]
    },
    {
     "name": "stderr",
     "output_type": "stream",
     "text": [
      "\r",
      "64it [00:28,  2.65it/s]"
     ]
    },
    {
     "name": "stdout",
     "output_type": "stream",
     "text": [
      "Match found!\n"
     ]
    },
    {
     "name": "stderr",
     "output_type": "stream",
     "text": [
      "\r",
      "65it [00:29,  2.20it/s]"
     ]
    },
    {
     "name": "stdout",
     "output_type": "stream",
     "text": [
      "Match found!\n"
     ]
    },
    {
     "name": "stderr",
     "output_type": "stream",
     "text": [
      "\r",
      "66it [00:29,  1.94it/s]"
     ]
    },
    {
     "name": "stdout",
     "output_type": "stream",
     "text": [
      "Match found!\n"
     ]
    },
    {
     "name": "stderr",
     "output_type": "stream",
     "text": [
      "\r",
      "67it [00:30,  2.33it/s]"
     ]
    },
    {
     "name": "stdout",
     "output_type": "stream",
     "text": [
      "Match found!\n"
     ]
    },
    {
     "name": "stderr",
     "output_type": "stream",
     "text": [
      "\r",
      "68it [00:30,  2.73it/s]"
     ]
    },
    {
     "name": "stdout",
     "output_type": "stream",
     "text": [
      "Match found!\n"
     ]
    },
    {
     "name": "stderr",
     "output_type": "stream",
     "text": [
      "70it [00:31,  2.09it/s]"
     ]
    },
    {
     "name": "stdout",
     "output_type": "stream",
     "text": [
      "Match found!\n",
      "Match found!\n"
     ]
    },
    {
     "name": "stderr",
     "output_type": "stream",
     "text": [
      "\r",
      "71it [00:33,  1.12it/s]"
     ]
    },
    {
     "name": "stdout",
     "output_type": "stream",
     "text": [
      "Match found!\n"
     ]
    },
    {
     "name": "stderr",
     "output_type": "stream",
     "text": [
      "73it [00:33,  1.86it/s]"
     ]
    },
    {
     "name": "stdout",
     "output_type": "stream",
     "text": [
      "Match found!\n",
      "Match found!\n"
     ]
    },
    {
     "name": "stderr",
     "output_type": "stream",
     "text": [
      "\r",
      "74it [00:34,  2.23it/s]"
     ]
    },
    {
     "name": "stdout",
     "output_type": "stream",
     "text": [
      "Match found!\n"
     ]
    },
    {
     "name": "stderr",
     "output_type": "stream",
     "text": [
      "\r",
      "75it [00:34,  1.79it/s]"
     ]
    },
    {
     "name": "stdout",
     "output_type": "stream",
     "text": [
      "Match found!\n"
     ]
    },
    {
     "name": "stderr",
     "output_type": "stream",
     "text": [
      "77it [00:36,  1.93it/s]"
     ]
    },
    {
     "name": "stdout",
     "output_type": "stream",
     "text": [
      "Match found!\n",
      "Match found!\n"
     ]
    },
    {
     "name": "stderr",
     "output_type": "stream",
     "text": [
      "\r",
      "78it [00:36,  2.17it/s]"
     ]
    },
    {
     "name": "stdout",
     "output_type": "stream",
     "text": [
      "Match found!\n"
     ]
    },
    {
     "name": "stderr",
     "output_type": "stream",
     "text": [
      "\r",
      "79it [00:36,  2.01it/s]"
     ]
    },
    {
     "name": "stdout",
     "output_type": "stream",
     "text": [
      "Match found!\n"
     ]
    },
    {
     "name": "stderr",
     "output_type": "stream",
     "text": [
      "81it [00:37,  2.30it/s]"
     ]
    },
    {
     "name": "stdout",
     "output_type": "stream",
     "text": [
      "Match found!\n"
     ]
    },
    {
     "name": "stderr",
     "output_type": "stream",
     "text": [
      "\r",
      "82it [00:37,  2.99it/s]"
     ]
    },
    {
     "name": "stdout",
     "output_type": "stream",
     "text": [
      "Match found!\n",
      "Match found!\n"
     ]
    },
    {
     "name": "stderr",
     "output_type": "stream",
     "text": [
      "\r",
      "83it [00:38,  2.83it/s]"
     ]
    },
    {
     "name": "stdout",
     "output_type": "stream",
     "text": [
      "Match found!\n"
     ]
    },
    {
     "name": "stderr",
     "output_type": "stream",
     "text": [
      "85it [00:38,  3.58it/s]"
     ]
    },
    {
     "name": "stdout",
     "output_type": "stream",
     "text": [
      "Match found!\n",
      "Match found!\n"
     ]
    },
    {
     "name": "stderr",
     "output_type": "stream",
     "text": [
      "87it [00:39,  2.95it/s]"
     ]
    },
    {
     "name": "stdout",
     "output_type": "stream",
     "text": [
      "Match found!\n",
      "Match found!\n"
     ]
    },
    {
     "name": "stderr",
     "output_type": "stream",
     "text": [
      "\r",
      "88it [00:40,  2.68it/s]"
     ]
    },
    {
     "name": "stdout",
     "output_type": "stream",
     "text": [
      "Match found!\n"
     ]
    },
    {
     "name": "stderr",
     "output_type": "stream",
     "text": [
      "\r",
      "89it [00:40,  2.97it/s]"
     ]
    },
    {
     "name": "stdout",
     "output_type": "stream",
     "text": [
      "Match found!\n",
      "Match found!\n"
     ]
    },
    {
     "name": "stderr",
     "output_type": "stream",
     "text": [
      "92it [00:40,  4.29it/s]"
     ]
    },
    {
     "name": "stdout",
     "output_type": "stream",
     "text": [
      "Match found!\n",
      "Match found!\n"
     ]
    },
    {
     "name": "stderr",
     "output_type": "stream",
     "text": [
      "\r",
      "93it [00:40,  4.87it/s]"
     ]
    },
    {
     "name": "stdout",
     "output_type": "stream",
     "text": [
      "Match found!\n"
     ]
    },
    {
     "name": "stderr",
     "output_type": "stream",
     "text": [
      "96it [00:41,  4.57it/s]"
     ]
    },
    {
     "name": "stdout",
     "output_type": "stream",
     "text": [
      "Match found!\n",
      "Match found!\n",
      "Match found!\n"
     ]
    },
    {
     "name": "stderr",
     "output_type": "stream",
     "text": [
      "98it [00:41,  5.06it/s]"
     ]
    },
    {
     "name": "stdout",
     "output_type": "stream",
     "text": [
      "Match found!\n",
      "Match found!\n"
     ]
    },
    {
     "name": "stderr",
     "output_type": "stream",
     "text": [
      "\r",
      "99it [00:41,  5.03it/s]"
     ]
    },
    {
     "name": "stdout",
     "output_type": "stream",
     "text": [
      "Match found!\n"
     ]
    },
    {
     "name": "stderr",
     "output_type": "stream",
     "text": [
      "101it [00:42,  4.66it/s]"
     ]
    },
    {
     "name": "stdout",
     "output_type": "stream",
     "text": [
      "Match found!\n",
      "Match found!\n"
     ]
    },
    {
     "name": "stderr",
     "output_type": "stream",
     "text": [
      "\r",
      "102it [00:42,  5.06it/s]"
     ]
    },
    {
     "name": "stdout",
     "output_type": "stream",
     "text": [
      "Match found!\n",
      "Match found!\n"
     ]
    },
    {
     "name": "stderr",
     "output_type": "stream",
     "text": [
      "\r",
      "104it [00:42,  5.80it/s]"
     ]
    },
    {
     "name": "stdout",
     "output_type": "stream",
     "text": [
      "Match found!\n"
     ]
    },
    {
     "name": "stderr",
     "output_type": "stream",
     "text": [
      "\r",
      "105it [00:43,  5.20it/s]"
     ]
    },
    {
     "name": "stdout",
     "output_type": "stream",
     "text": [
      "Match found!\n"
     ]
    },
    {
     "name": "stderr",
     "output_type": "stream",
     "text": [
      "\r",
      "106it [00:43,  4.90it/s]"
     ]
    },
    {
     "name": "stdout",
     "output_type": "stream",
     "text": [
      "Match found!\n"
     ]
    },
    {
     "name": "stderr",
     "output_type": "stream",
     "text": [
      "\r",
      "107it [00:44,  2.22it/s]"
     ]
    },
    {
     "name": "stdout",
     "output_type": "stream",
     "text": [
      "Match found!\n",
      "Match found!\n"
     ]
    },
    {
     "name": "stderr",
     "output_type": "stream",
     "text": [
      "110it [00:45,  3.07it/s]"
     ]
    },
    {
     "name": "stdout",
     "output_type": "stream",
     "text": [
      "Match found!\n",
      "Match found!\n",
      "Match found!\n"
     ]
    },
    {
     "name": "stderr",
     "output_type": "stream",
     "text": [
      "\r",
      "112it [00:46,  2.66it/s]"
     ]
    },
    {
     "name": "stdout",
     "output_type": "stream",
     "text": [
      "Match found!\n"
     ]
    },
    {
     "name": "stderr",
     "output_type": "stream",
     "text": [
      "\r",
      "113it [00:47,  1.54it/s]"
     ]
    },
    {
     "name": "stdout",
     "output_type": "stream",
     "text": [
      "Match found!\n"
     ]
    },
    {
     "name": "stderr",
     "output_type": "stream",
     "text": [
      "116it [00:47,  2.49it/s]"
     ]
    },
    {
     "name": "stdout",
     "output_type": "stream",
     "text": [
      "Match found!\n",
      "Match found!\n",
      "Match found!\n"
     ]
    },
    {
     "name": "stderr",
     "output_type": "stream",
     "text": [
      "\r",
      "117it [00:48,  2.66it/s]"
     ]
    },
    {
     "name": "stdout",
     "output_type": "stream",
     "text": [
      "Match found!\n"
     ]
    },
    {
     "name": "stderr",
     "output_type": "stream",
     "text": [
      "\r",
      "118it [00:48,  2.82it/s]"
     ]
    },
    {
     "name": "stdout",
     "output_type": "stream",
     "text": [
      "Match found!\n"
     ]
    },
    {
     "name": "stderr",
     "output_type": "stream",
     "text": [
      "121it [00:48,  3.62it/s]"
     ]
    },
    {
     "name": "stdout",
     "output_type": "stream",
     "text": [
      "Match found!\n",
      "Match found!\n",
      "Match found!\n"
     ]
    },
    {
     "name": "stderr",
     "output_type": "stream",
     "text": [
      "\r",
      "122it [00:49,  3.87it/s]"
     ]
    },
    {
     "name": "stdout",
     "output_type": "stream",
     "text": [
      "Match found!\n"
     ]
    },
    {
     "name": "stderr",
     "output_type": "stream",
     "text": [
      "\r",
      "123it [00:49,  4.05it/s]"
     ]
    },
    {
     "name": "stdout",
     "output_type": "stream",
     "text": [
      "Match found!\n"
     ]
    },
    {
     "name": "stderr",
     "output_type": "stream",
     "text": [
      "\r",
      "124it [00:49,  3.90it/s]"
     ]
    },
    {
     "name": "stdout",
     "output_type": "stream",
     "text": [
      "Match found!\n"
     ]
    },
    {
     "name": "stderr",
     "output_type": "stream",
     "text": [
      "\r",
      "125it [00:50,  3.41it/s]"
     ]
    },
    {
     "name": "stdout",
     "output_type": "stream",
     "text": [
      "Match found!\n"
     ]
    },
    {
     "name": "stderr",
     "output_type": "stream",
     "text": [
      "\r",
      "126it [00:50,  3.74it/s]"
     ]
    },
    {
     "name": "stdout",
     "output_type": "stream",
     "text": [
      "Match found!\n"
     ]
    },
    {
     "name": "stderr",
     "output_type": "stream",
     "text": [
      "\r",
      "127it [00:50,  3.54it/s]"
     ]
    },
    {
     "name": "stdout",
     "output_type": "stream",
     "text": [
      "Match found!\n"
     ]
    },
    {
     "name": "stderr",
     "output_type": "stream",
     "text": [
      "130it [00:51,  4.58it/s]"
     ]
    },
    {
     "name": "stdout",
     "output_type": "stream",
     "text": [
      "Match found!\n",
      "Match found!\n",
      "Match found!\n"
     ]
    },
    {
     "name": "stderr",
     "output_type": "stream",
     "text": [
      "132it [00:51,  4.04it/s]"
     ]
    },
    {
     "name": "stdout",
     "output_type": "stream",
     "text": [
      "Match found!\n",
      "Match found!\n"
     ]
    },
    {
     "name": "stderr",
     "output_type": "stream",
     "text": [
      "134it [00:51,  5.18it/s]"
     ]
    },
    {
     "name": "stdout",
     "output_type": "stream",
     "text": [
      "Match found!\n",
      "Match found!\n"
     ]
    },
    {
     "name": "stderr",
     "output_type": "stream",
     "text": [
      "137it [00:52,  5.14it/s]"
     ]
    },
    {
     "name": "stdout",
     "output_type": "stream",
     "text": [
      "Match found!\n",
      "Match found!\n",
      "Match found!\n"
     ]
    },
    {
     "name": "stderr",
     "output_type": "stream",
     "text": [
      "\r",
      "138it [00:52,  5.25it/s]"
     ]
    },
    {
     "name": "stdout",
     "output_type": "stream",
     "text": [
      "Match found!\n"
     ]
    },
    {
     "name": "stderr",
     "output_type": "stream",
     "text": [
      "140it [00:52,  5.74it/s]"
     ]
    },
    {
     "name": "stdout",
     "output_type": "stream",
     "text": [
      "Match found!\n",
      "Match found!\n"
     ]
    },
    {
     "name": "stderr",
     "output_type": "stream",
     "text": [
      "\r",
      "141it [00:53,  2.95it/s]"
     ]
    },
    {
     "name": "stdout",
     "output_type": "stream",
     "text": [
      "Match found!\n"
     ]
    },
    {
     "name": "stderr",
     "output_type": "stream",
     "text": [
      "143it [00:54,  3.21it/s]"
     ]
    },
    {
     "name": "stdout",
     "output_type": "stream",
     "text": [
      "Match found!\n",
      "Match found!\n"
     ]
    },
    {
     "name": "stderr",
     "output_type": "stream",
     "text": [
      "146it [00:56,  1.47it/s]"
     ]
    },
    {
     "name": "stdout",
     "output_type": "stream",
     "text": [
      "Match found!\n",
      "Match found!\n",
      "Match found!\n"
     ]
    },
    {
     "name": "stderr",
     "output_type": "stream",
     "text": [
      "148it [00:57,  2.16it/s]"
     ]
    },
    {
     "name": "stdout",
     "output_type": "stream",
     "text": [
      "Match found!\n",
      "Match found!\n"
     ]
    },
    {
     "name": "stderr",
     "output_type": "stream",
     "text": [
      "\r",
      "150it [00:57,  2.76it/s]"
     ]
    },
    {
     "name": "stdout",
     "output_type": "stream",
     "text": [
      "Match found!\n",
      "Match found!\n"
     ]
    },
    {
     "name": "stderr",
     "output_type": "stream",
     "text": [
      "\r",
      "151it [00:57,  3.04it/s]"
     ]
    },
    {
     "name": "stdout",
     "output_type": "stream",
     "text": [
      "Match found!\n"
     ]
    },
    {
     "name": "stderr",
     "output_type": "stream",
     "text": [
      "153it [00:58,  3.97it/s]"
     ]
    },
    {
     "name": "stdout",
     "output_type": "stream",
     "text": [
      "Match found!\n",
      "Match found!\n"
     ]
    },
    {
     "name": "stderr",
     "output_type": "stream",
     "text": [
      "\r",
      "155it [00:58,  4.51it/s]"
     ]
    },
    {
     "name": "stdout",
     "output_type": "stream",
     "text": [
      "Match found!\n"
     ]
    },
    {
     "name": "stderr",
     "output_type": "stream",
     "text": [
      "\r",
      "156it [00:58,  5.25it/s]"
     ]
    },
    {
     "name": "stdout",
     "output_type": "stream",
     "text": [
      "Match found!\n",
      "Match found!\n"
     ]
    },
    {
     "name": "stderr",
     "output_type": "stream",
     "text": [
      "\r",
      "157it [00:59,  4.71it/s]"
     ]
    },
    {
     "name": "stdout",
     "output_type": "stream",
     "text": [
      "Match found!\n"
     ]
    },
    {
     "name": "stderr",
     "output_type": "stream",
     "text": [
      "159it [00:59,  3.84it/s]"
     ]
    },
    {
     "name": "stdout",
     "output_type": "stream",
     "text": [
      "Match found!\n",
      "Match found!\n"
     ]
    },
    {
     "name": "stderr",
     "output_type": "stream",
     "text": [
      "\r",
      "160it [00:59,  4.45it/s]"
     ]
    },
    {
     "name": "stdout",
     "output_type": "stream",
     "text": [
      "Match found!\n"
     ]
    },
    {
     "name": "stderr",
     "output_type": "stream",
     "text": [
      "164it [01:00,  6.69it/s]"
     ]
    },
    {
     "name": "stdout",
     "output_type": "stream",
     "text": [
      "Match found!\n",
      "Match found!\n",
      "Match found!\n",
      "Match found!\n",
      "Match found!\n"
     ]
    },
    {
     "name": "stderr",
     "output_type": "stream",
     "text": [
      "168it [01:00,  7.64it/s]"
     ]
    },
    {
     "name": "stdout",
     "output_type": "stream",
     "text": [
      "Match found!\n",
      "Match found!\n",
      "Match found!\n"
     ]
    },
    {
     "name": "stderr",
     "output_type": "stream",
     "text": [
      "\r",
      "170it [01:01,  5.68it/s]"
     ]
    },
    {
     "name": "stdout",
     "output_type": "stream",
     "text": [
      "Match found!\n",
      "Match found!\n"
     ]
    },
    {
     "name": "stderr",
     "output_type": "stream",
     "text": [
      "172it [01:01,  6.46it/s]"
     ]
    },
    {
     "name": "stdout",
     "output_type": "stream",
     "text": [
      "Match found!\n",
      "Match found!\n"
     ]
    },
    {
     "name": "stderr",
     "output_type": "stream",
     "text": [
      "\r",
      "173it [01:01,  6.09it/s]"
     ]
    },
    {
     "name": "stdout",
     "output_type": "stream",
     "text": [
      "Match found!\n"
     ]
    },
    {
     "name": "stderr",
     "output_type": "stream",
     "text": [
      "\r",
      "174it [01:02,  4.60it/s]"
     ]
    },
    {
     "name": "stdout",
     "output_type": "stream",
     "text": [
      "Match found!\n"
     ]
    },
    {
     "name": "stderr",
     "output_type": "stream",
     "text": [
      "176it [01:02,  4.42it/s]"
     ]
    },
    {
     "name": "stdout",
     "output_type": "stream",
     "text": [
      "Match found!\n",
      "Match found!\n"
     ]
    },
    {
     "name": "stderr",
     "output_type": "stream",
     "text": [
      "178it [01:03,  4.47it/s]"
     ]
    },
    {
     "name": "stdout",
     "output_type": "stream",
     "text": [
      "Match found!\n",
      "Match found!\n"
     ]
    },
    {
     "name": "stderr",
     "output_type": "stream",
     "text": [
      "\r",
      "179it [01:03,  5.17it/s]"
     ]
    },
    {
     "name": "stdout",
     "output_type": "stream",
     "text": [
      "Match found!\n"
     ]
    },
    {
     "name": "stderr",
     "output_type": "stream",
     "text": [
      "181it [01:03,  4.09it/s]"
     ]
    },
    {
     "name": "stdout",
     "output_type": "stream",
     "text": [
      "Match found!\n",
      "Match found!\n",
      "Match found!\n"
     ]
    },
    {
     "name": "stderr",
     "output_type": "stream",
     "text": [
      "\r",
      "183it [01:04,  5.04it/s]"
     ]
    },
    {
     "name": "stdout",
     "output_type": "stream",
     "text": [
      "Match found!\n"
     ]
    },
    {
     "name": "stderr",
     "output_type": "stream",
     "text": [
      "\r",
      "184it [01:04,  4.24it/s]"
     ]
    },
    {
     "name": "stdout",
     "output_type": "stream",
     "text": [
      "Match found!\n",
      "Match found!\n"
     ]
    },
    {
     "name": "stderr",
     "output_type": "stream",
     "text": [
      "\r",
      "186it [01:04,  4.90it/s]"
     ]
    },
    {
     "name": "stdout",
     "output_type": "stream",
     "text": [
      "Match found!\n"
     ]
    },
    {
     "name": "stderr",
     "output_type": "stream",
     "text": [
      "188it [01:05,  3.63it/s]"
     ]
    },
    {
     "name": "stdout",
     "output_type": "stream",
     "text": [
      "Match found!\n",
      "Match found!\n"
     ]
    },
    {
     "name": "stderr",
     "output_type": "stream",
     "text": [
      "\r",
      "189it [01:05,  4.34it/s]"
     ]
    },
    {
     "name": "stdout",
     "output_type": "stream",
     "text": [
      "Match found!\n"
     ]
    },
    {
     "name": "stderr",
     "output_type": "stream",
     "text": [
      "\r",
      "190it [01:06,  2.47it/s]"
     ]
    },
    {
     "name": "stdout",
     "output_type": "stream",
     "text": [
      "Match found!\n"
     ]
    },
    {
     "name": "stderr",
     "output_type": "stream",
     "text": [
      "192it [01:07,  2.71it/s]"
     ]
    },
    {
     "name": "stdout",
     "output_type": "stream",
     "text": [
      "Match found!\n",
      "Match found!\n"
     ]
    },
    {
     "name": "stderr",
     "output_type": "stream",
     "text": [
      "194it [01:07,  3.80it/s]"
     ]
    },
    {
     "name": "stdout",
     "output_type": "stream",
     "text": [
      "Match found!\n",
      "Match found!\n"
     ]
    },
    {
     "name": "stderr",
     "output_type": "stream",
     "text": [
      "\r",
      "195it [01:07,  3.48it/s]"
     ]
    },
    {
     "name": "stdout",
     "output_type": "stream",
     "text": [
      "Match found!\n"
     ]
    },
    {
     "name": "stderr",
     "output_type": "stream",
     "text": [
      "\r",
      "196it [01:08,  2.99it/s]"
     ]
    },
    {
     "name": "stdout",
     "output_type": "stream",
     "text": [
      "Match found!\n"
     ]
    },
    {
     "name": "stderr",
     "output_type": "stream",
     "text": [
      "198it [01:09,  2.04it/s]"
     ]
    },
    {
     "name": "stdout",
     "output_type": "stream",
     "text": [
      "Match found!\n",
      "Match found!\n"
     ]
    },
    {
     "name": "stderr",
     "output_type": "stream",
     "text": [
      "200it [01:10,  1.88it/s]"
     ]
    },
    {
     "name": "stdout",
     "output_type": "stream",
     "text": [
      "Match found!\n",
      "Match found!\n"
     ]
    },
    {
     "name": "stderr",
     "output_type": "stream",
     "text": [
      "\r",
      "201it [01:11,  1.91it/s]"
     ]
    },
    {
     "name": "stdout",
     "output_type": "stream",
     "text": [
      "Match found!\n"
     ]
    },
    {
     "name": "stderr",
     "output_type": "stream",
     "text": [
      "\r",
      "202it [01:11,  2.17it/s]"
     ]
    },
    {
     "name": "stdout",
     "output_type": "stream",
     "text": [
      "Match found!\n"
     ]
    },
    {
     "name": "stderr",
     "output_type": "stream",
     "text": [
      "204it [01:12,  3.24it/s]"
     ]
    },
    {
     "name": "stdout",
     "output_type": "stream",
     "text": [
      "Match found!\n",
      "Match found!\n"
     ]
    },
    {
     "name": "stderr",
     "output_type": "stream",
     "text": [
      "\r",
      "205it [01:12,  2.59it/s]"
     ]
    },
    {
     "name": "stdout",
     "output_type": "stream",
     "text": [
      "Match found!\n",
      "Match found!\n"
     ]
    },
    {
     "name": "stderr",
     "output_type": "stream",
     "text": [
      "\r",
      "207it [01:12,  3.30it/s]"
     ]
    },
    {
     "name": "stdout",
     "output_type": "stream",
     "text": [
      "Match found!\n"
     ]
    },
    {
     "name": "stderr",
     "output_type": "stream",
     "text": [
      "\r",
      "208it [01:13,  3.36it/s]"
     ]
    },
    {
     "name": "stdout",
     "output_type": "stream",
     "text": [
      "Match found!\n"
     ]
    },
    {
     "name": "stderr",
     "output_type": "stream",
     "text": [
      "\r",
      "209it [01:15,  1.02s/it]"
     ]
    },
    {
     "name": "stdout",
     "output_type": "stream",
     "text": [
      "Match found!\n",
      "Match found!\n"
     ]
    },
    {
     "name": "stderr",
     "output_type": "stream",
     "text": [
      "\r",
      "211it [01:17,  1.14it/s]"
     ]
    },
    {
     "name": "stdout",
     "output_type": "stream",
     "text": [
      "Match found!\n"
     ]
    },
    {
     "name": "stderr",
     "output_type": "stream",
     "text": [
      "\r",
      "212it [01:17,  1.39it/s]"
     ]
    },
    {
     "name": "stdout",
     "output_type": "stream",
     "text": [
      "Match found!\n"
     ]
    },
    {
     "name": "stderr",
     "output_type": "stream",
     "text": [
      "\r",
      "213it [01:17,  1.62it/s]"
     ]
    },
    {
     "name": "stdout",
     "output_type": "stream",
     "text": [
      "Match found!\n",
      "Match found!\n"
     ]
    },
    {
     "name": "stderr",
     "output_type": "stream",
     "text": [
      "\r",
      "215it [01:18,  2.10it/s]"
     ]
    },
    {
     "name": "stdout",
     "output_type": "stream",
     "text": [
      "Match found!\n",
      "Match found!\n"
     ]
    },
    {
     "name": "stderr",
     "output_type": "stream",
     "text": [
      "\r",
      "217it [01:18,  2.52it/s]"
     ]
    },
    {
     "name": "stdout",
     "output_type": "stream",
     "text": [
      "Match found!\n"
     ]
    },
    {
     "name": "stderr",
     "output_type": "stream",
     "text": [
      "219it [01:19,  2.88it/s]"
     ]
    },
    {
     "name": "stdout",
     "output_type": "stream",
     "text": [
      "Match found!\n",
      "Match found!\n"
     ]
    },
    {
     "name": "stderr",
     "output_type": "stream",
     "text": [
      "\r",
      "221it [01:19,  3.55it/s]"
     ]
    },
    {
     "name": "stdout",
     "output_type": "stream",
     "text": [
      "Match found!\n",
      "Match found!\n"
     ]
    },
    {
     "name": "stderr",
     "output_type": "stream",
     "text": [
      "223it [01:19,  4.50it/s]"
     ]
    },
    {
     "name": "stdout",
     "output_type": "stream",
     "text": [
      "Match found!\n",
      "Match found!\n"
     ]
    },
    {
     "name": "stderr",
     "output_type": "stream",
     "text": [
      "225it [01:21,  1.77it/s]"
     ]
    },
    {
     "name": "stdout",
     "output_type": "stream",
     "text": [
      "Match found!\n",
      "Match found!\n"
     ]
    },
    {
     "name": "stderr",
     "output_type": "stream",
     "text": [
      "\r",
      "226it [01:21,  2.33it/s]"
     ]
    },
    {
     "name": "stdout",
     "output_type": "stream",
     "text": [
      "Match found!\n",
      "Match found!\n"
     ]
    },
    {
     "name": "stderr",
     "output_type": "stream",
     "text": [
      "\r",
      "228it [01:22,  2.17it/s]"
     ]
    },
    {
     "name": "stdout",
     "output_type": "stream",
     "text": [
      "Match found!\n"
     ]
    },
    {
     "name": "stderr",
     "output_type": "stream",
     "text": [
      "\r",
      "229it [01:23,  2.01it/s]"
     ]
    },
    {
     "name": "stdout",
     "output_type": "stream",
     "text": [
      "Match found!\n"
     ]
    },
    {
     "name": "stderr",
     "output_type": "stream",
     "text": [
      "\r",
      "230it [01:24,  1.54it/s]"
     ]
    },
    {
     "name": "stdout",
     "output_type": "stream",
     "text": [
      "Match found!\n"
     ]
    },
    {
     "name": "stderr",
     "output_type": "stream",
     "text": [
      "\r",
      "231it [01:26,  1.03s/it]"
     ]
    },
    {
     "name": "stdout",
     "output_type": "stream",
     "text": [
      "Match found!\n"
     ]
    },
    {
     "name": "stderr",
     "output_type": "stream",
     "text": [
      "\r",
      "232it [01:27,  1.02s/it]"
     ]
    },
    {
     "name": "stdout",
     "output_type": "stream",
     "text": [
      "Match found!\n"
     ]
    },
    {
     "name": "stderr",
     "output_type": "stream",
     "text": [
      "\r",
      "233it [01:28,  1.06it/s]"
     ]
    },
    {
     "name": "stdout",
     "output_type": "stream",
     "text": [
      "Match found!\n"
     ]
    },
    {
     "name": "stderr",
     "output_type": "stream",
     "text": [
      "\r",
      "234it [01:29,  1.00s/it]"
     ]
    },
    {
     "name": "stdout",
     "output_type": "stream",
     "text": [
      "Match found!\n"
     ]
    },
    {
     "name": "stderr",
     "output_type": "stream",
     "text": [
      "\r",
      "235it [01:30,  1.05s/it]"
     ]
    },
    {
     "name": "stdout",
     "output_type": "stream",
     "text": [
      "Match found!\n",
      "Match found!\n"
     ]
    },
    {
     "name": "stderr",
     "output_type": "stream",
     "text": [
      "\r",
      "237it [01:31,  1.23it/s]"
     ]
    },
    {
     "name": "stdout",
     "output_type": "stream",
     "text": [
      "Match found!\n"
     ]
    },
    {
     "name": "stderr",
     "output_type": "stream",
     "text": [
      "\r",
      "238it [01:31,  1.54it/s]"
     ]
    },
    {
     "name": "stdout",
     "output_type": "stream",
     "text": [
      "Match found!\n",
      "Match found!\n"
     ]
    },
    {
     "name": "stderr",
     "output_type": "stream",
     "text": [
      "\r",
      "240it [01:31,  2.00it/s]"
     ]
    },
    {
     "name": "stdout",
     "output_type": "stream",
     "text": [
      "Match found!\n"
     ]
    },
    {
     "name": "stderr",
     "output_type": "stream",
     "text": [
      "\r",
      "241it [01:31,  2.22it/s]"
     ]
    },
    {
     "name": "stdout",
     "output_type": "stream",
     "text": [
      "Match found!\n",
      "Match found!\n"
     ]
    },
    {
     "name": "stderr",
     "output_type": "stream",
     "text": [
      "\r",
      "243it [01:32,  2.45it/s]"
     ]
    },
    {
     "name": "stdout",
     "output_type": "stream",
     "text": [
      "Match found!\n"
     ]
    },
    {
     "name": "stderr",
     "output_type": "stream",
     "text": [
      "245it [01:33,  3.26it/s]"
     ]
    },
    {
     "name": "stdout",
     "output_type": "stream",
     "text": [
      "Match found!\n",
      "Match found!\n"
     ]
    },
    {
     "name": "stderr",
     "output_type": "stream",
     "text": [
      "\r",
      "246it [01:33,  3.51it/s]"
     ]
    },
    {
     "name": "stdout",
     "output_type": "stream",
     "text": [
      "Match found!\n"
     ]
    },
    {
     "name": "stderr",
     "output_type": "stream",
     "text": [
      "\r",
      "247it [01:33,  2.43it/s]"
     ]
    },
    {
     "name": "stdout",
     "output_type": "stream",
     "text": [
      "Match found!\n",
      "Match found!\n",
      "Match found!\n"
     ]
    },
    {
     "name": "stderr",
     "output_type": "stream",
     "text": [
      "\r",
      "250it [01:34,  2.98it/s]"
     ]
    },
    {
     "name": "stdout",
     "output_type": "stream",
     "text": [
      "Match found!\n"
     ]
    },
    {
     "name": "stderr",
     "output_type": "stream",
     "text": [
      "\r",
      "251it [01:34,  2.53it/s]"
     ]
    },
    {
     "name": "stdout",
     "output_type": "stream",
     "text": [
      "Match found!\n"
     ]
    },
    {
     "name": "stderr",
     "output_type": "stream",
     "text": [
      "\r",
      "252it [01:35,  2.67it/s]"
     ]
    },
    {
     "name": "stdout",
     "output_type": "stream",
     "text": [
      "Match found!\n"
     ]
    },
    {
     "name": "stderr",
     "output_type": "stream",
     "text": [
      "255it [01:35,  3.74it/s]"
     ]
    },
    {
     "name": "stdout",
     "output_type": "stream",
     "text": [
      "Match found!\n",
      "Match found!\n",
      "Match found!\n"
     ]
    },
    {
     "name": "stderr",
     "output_type": "stream",
     "text": [
      "\r",
      "256it [01:36,  3.71it/s]"
     ]
    },
    {
     "name": "stdout",
     "output_type": "stream",
     "text": [
      "Match found!\n"
     ]
    },
    {
     "name": "stderr",
     "output_type": "stream",
     "text": [
      "259it [01:36,  4.32it/s]"
     ]
    },
    {
     "name": "stdout",
     "output_type": "stream",
     "text": [
      "Match found!\n",
      "Match found!\n",
      "Match found!\n"
     ]
    },
    {
     "name": "stderr",
     "output_type": "stream",
     "text": [
      "\r",
      "261it [01:36,  5.07it/s]"
     ]
    },
    {
     "name": "stdout",
     "output_type": "stream",
     "text": [
      "Match found!\n",
      "Match found!\n"
     ]
    },
    {
     "name": "stderr",
     "output_type": "stream",
     "text": [
      "\r",
      "262it [01:36,  5.64it/s]"
     ]
    },
    {
     "name": "stdout",
     "output_type": "stream",
     "text": [
      "Match found!\n"
     ]
    },
    {
     "name": "stderr",
     "output_type": "stream",
     "text": [
      "\r",
      "263it [01:38,  1.98it/s]"
     ]
    },
    {
     "name": "stdout",
     "output_type": "stream",
     "text": [
      "Match found!\n",
      "Match found!\n"
     ]
    },
    {
     "name": "stderr",
     "output_type": "stream",
     "text": [
      "\r",
      "265it [01:38,  2.49it/s]"
     ]
    },
    {
     "name": "stdout",
     "output_type": "stream",
     "text": [
      "Match found!\n"
     ]
    },
    {
     "name": "stderr",
     "output_type": "stream",
     "text": [
      "\r",
      "266it [01:38,  2.63it/s]"
     ]
    },
    {
     "name": "stdout",
     "output_type": "stream",
     "text": [
      "Match found!\n"
     ]
    },
    {
     "name": "stderr",
     "output_type": "stream",
     "text": [
      "\r",
      "267it [01:39,  2.66it/s]"
     ]
    },
    {
     "name": "stdout",
     "output_type": "stream",
     "text": [
      "Match found!\n"
     ]
    },
    {
     "name": "stderr",
     "output_type": "stream",
     "text": [
      "\r",
      "268it [01:39,  2.16it/s]"
     ]
    },
    {
     "name": "stdout",
     "output_type": "stream",
     "text": [
      "Match found!\n"
     ]
    },
    {
     "name": "stderr",
     "output_type": "stream",
     "text": [
      "\r",
      "269it [01:40,  2.38it/s]"
     ]
    },
    {
     "name": "stdout",
     "output_type": "stream",
     "text": [
      "Match found!\n",
      "Match found!\n"
     ]
    },
    {
     "name": "stderr",
     "output_type": "stream",
     "text": [
      "272it [01:40,  3.48it/s]"
     ]
    },
    {
     "name": "stdout",
     "output_type": "stream",
     "text": [
      "Match found!\n",
      "Match found!\n"
     ]
    },
    {
     "name": "stderr",
     "output_type": "stream",
     "text": [
      "\r",
      "273it [01:40,  3.38it/s]"
     ]
    },
    {
     "name": "stdout",
     "output_type": "stream",
     "text": [
      "Match found!\n"
     ]
    },
    {
     "name": "stderr",
     "output_type": "stream",
     "text": [
      "275it [01:41,  3.92it/s]"
     ]
    },
    {
     "name": "stdout",
     "output_type": "stream",
     "text": [
      "Match found!\n",
      "Match found!\n"
     ]
    },
    {
     "name": "stderr",
     "output_type": "stream",
     "text": [
      "277it [01:41,  5.15it/s]"
     ]
    },
    {
     "name": "stdout",
     "output_type": "stream",
     "text": [
      "Match found!\n",
      "Match found!\n"
     ]
    },
    {
     "name": "stderr",
     "output_type": "stream",
     "text": [
      "\r",
      "278it [01:42,  3.72it/s]"
     ]
    },
    {
     "name": "stdout",
     "output_type": "stream",
     "text": [
      "Match found!\n"
     ]
    },
    {
     "name": "stderr",
     "output_type": "stream",
     "text": [
      "\r",
      "279it [01:42,  2.83it/s]"
     ]
    },
    {
     "name": "stdout",
     "output_type": "stream",
     "text": [
      "Match found!\n"
     ]
    },
    {
     "name": "stderr",
     "output_type": "stream",
     "text": [
      "281it [01:43,  3.71it/s]"
     ]
    },
    {
     "name": "stdout",
     "output_type": "stream",
     "text": [
      "Match found!\n",
      "Match found!\n"
     ]
    },
    {
     "name": "stderr",
     "output_type": "stream",
     "text": [
      "283it [01:43,  4.04it/s]"
     ]
    },
    {
     "name": "stdout",
     "output_type": "stream",
     "text": [
      "Match found!\n",
      "Match found!\n"
     ]
    },
    {
     "name": "stderr",
     "output_type": "stream",
     "text": [
      "285it [01:43,  4.33it/s]"
     ]
    },
    {
     "name": "stdout",
     "output_type": "stream",
     "text": [
      "Match found!\n",
      "Match found!\n"
     ]
    },
    {
     "name": "stderr",
     "output_type": "stream",
     "text": [
      "\r",
      "286it [01:44,  4.74it/s]"
     ]
    },
    {
     "name": "stdout",
     "output_type": "stream",
     "text": [
      "Match found!\n"
     ]
    },
    {
     "name": "stderr",
     "output_type": "stream",
     "text": [
      "\r",
      "287it [01:44,  3.79it/s]"
     ]
    },
    {
     "name": "stdout",
     "output_type": "stream",
     "text": [
      "Match found!\n",
      "Match found!\n"
     ]
    },
    {
     "name": "stderr",
     "output_type": "stream",
     "text": [
      "\r",
      "289it [01:45,  3.60it/s]"
     ]
    },
    {
     "name": "stdout",
     "output_type": "stream",
     "text": [
      "Match found!\n"
     ]
    },
    {
     "name": "stderr",
     "output_type": "stream",
     "text": [
      "\r",
      "290it [01:45,  3.27it/s]"
     ]
    },
    {
     "name": "stdout",
     "output_type": "stream",
     "text": [
      "Match found!\n"
     ]
    },
    {
     "name": "stderr",
     "output_type": "stream",
     "text": [
      "293it [01:45,  4.23it/s]"
     ]
    },
    {
     "name": "stdout",
     "output_type": "stream",
     "text": [
      "Match found!\n",
      "Match found!\n",
      "Match found!\n"
     ]
    },
    {
     "name": "stderr",
     "output_type": "stream",
     "text": [
      "295it [01:46,  3.31it/s]"
     ]
    },
    {
     "name": "stdout",
     "output_type": "stream",
     "text": [
      "Match found!\n",
      "Match found!\n"
     ]
    },
    {
     "name": "stderr",
     "output_type": "stream",
     "text": [
      "297it [01:47,  3.96it/s]"
     ]
    },
    {
     "name": "stdout",
     "output_type": "stream",
     "text": [
      "Match found!\n",
      "Match found!\n"
     ]
    },
    {
     "name": "stderr",
     "output_type": "stream",
     "text": [
      "\r",
      "298it [01:47,  3.93it/s]"
     ]
    },
    {
     "name": "stdout",
     "output_type": "stream",
     "text": [
      "Match found!\n"
     ]
    },
    {
     "name": "stderr",
     "output_type": "stream",
     "text": [
      "\r",
      "299it [01:48,  2.89it/s]"
     ]
    },
    {
     "name": "stdout",
     "output_type": "stream",
     "text": [
      "Match found!\n"
     ]
    },
    {
     "name": "stderr",
     "output_type": "stream",
     "text": [
      "302it [01:48,  3.41it/s]"
     ]
    },
    {
     "name": "stdout",
     "output_type": "stream",
     "text": [
      "Match found!\n",
      "Match found!\n",
      "Match found!\n"
     ]
    },
    {
     "name": "stderr",
     "output_type": "stream",
     "text": [
      "304it [01:48,  4.42it/s]"
     ]
    },
    {
     "name": "stdout",
     "output_type": "stream",
     "text": [
      "Match found!\n",
      "Match found!\n"
     ]
    },
    {
     "name": "stderr",
     "output_type": "stream",
     "text": [
      "\r",
      "305it [01:49,  4.69it/s]"
     ]
    },
    {
     "name": "stdout",
     "output_type": "stream",
     "text": [
      "Match found!\n"
     ]
    },
    {
     "name": "stderr",
     "output_type": "stream",
     "text": [
      "\r",
      "306it [01:50,  2.50it/s]"
     ]
    },
    {
     "name": "stdout",
     "output_type": "stream",
     "text": [
      "Match found!\n"
     ]
    },
    {
     "name": "stderr",
     "output_type": "stream",
     "text": [
      "\r",
      "307it [01:50,  1.90it/s]"
     ]
    },
    {
     "name": "stdout",
     "output_type": "stream",
     "text": [
      "Match found!\n"
     ]
    },
    {
     "name": "stderr",
     "output_type": "stream",
     "text": [
      "\r",
      "308it [01:51,  1.62it/s]"
     ]
    },
    {
     "name": "stdout",
     "output_type": "stream",
     "text": [
      "Match found!\n"
     ]
    },
    {
     "name": "stderr",
     "output_type": "stream",
     "text": [
      "\r",
      "309it [01:52,  1.81it/s]"
     ]
    },
    {
     "name": "stdout",
     "output_type": "stream",
     "text": [
      "Match found!\n"
     ]
    },
    {
     "name": "stderr",
     "output_type": "stream",
     "text": [
      "\r",
      "310it [01:52,  1.88it/s]"
     ]
    },
    {
     "name": "stdout",
     "output_type": "stream",
     "text": [
      "Match found!\n"
     ]
    },
    {
     "name": "stderr",
     "output_type": "stream",
     "text": [
      "312it [01:53,  2.28it/s]"
     ]
    },
    {
     "name": "stdout",
     "output_type": "stream",
     "text": [
      "Match found!\n",
      "Match found!\n"
     ]
    },
    {
     "name": "stderr",
     "output_type": "stream",
     "text": [
      "\r",
      "313it [01:53,  2.49it/s]"
     ]
    },
    {
     "name": "stdout",
     "output_type": "stream",
     "text": [
      "Match found!\n"
     ]
    },
    {
     "name": "stderr",
     "output_type": "stream",
     "text": [
      "\r",
      "314it [01:54,  2.08it/s]"
     ]
    },
    {
     "name": "stdout",
     "output_type": "stream",
     "text": [
      "Match found!\n"
     ]
    },
    {
     "name": "stderr",
     "output_type": "stream",
     "text": [
      "\r",
      "315it [01:54,  2.41it/s]"
     ]
    },
    {
     "name": "stdout",
     "output_type": "stream",
     "text": [
      "Match found!\n"
     ]
    },
    {
     "name": "stderr",
     "output_type": "stream",
     "text": [
      "317it [01:55,  2.66it/s]"
     ]
    },
    {
     "name": "stdout",
     "output_type": "stream",
     "text": [
      "Match found!\n",
      "Match found!\n"
     ]
    },
    {
     "name": "stderr",
     "output_type": "stream",
     "text": [
      "\r",
      "319it [01:55,  3.41it/s]"
     ]
    },
    {
     "name": "stdout",
     "output_type": "stream",
     "text": [
      "Match found!\n",
      "Match found!\n"
     ]
    },
    {
     "name": "stderr",
     "output_type": "stream",
     "text": [
      "\r",
      "320it [01:55,  3.27it/s]"
     ]
    },
    {
     "name": "stdout",
     "output_type": "stream",
     "text": [
      "Match found!\n"
     ]
    },
    {
     "name": "stderr",
     "output_type": "stream",
     "text": [
      "\r",
      "321it [01:56,  2.75it/s]"
     ]
    },
    {
     "name": "stdout",
     "output_type": "stream",
     "text": [
      "Match found!\n"
     ]
    },
    {
     "name": "stderr",
     "output_type": "stream",
     "text": [
      "\r",
      "322it [01:57,  2.09it/s]"
     ]
    },
    {
     "name": "stdout",
     "output_type": "stream",
     "text": [
      "Match found!\n"
     ]
    },
    {
     "name": "stderr",
     "output_type": "stream",
     "text": [
      "\r",
      "323it [01:57,  2.25it/s]"
     ]
    },
    {
     "name": "stdout",
     "output_type": "stream",
     "text": [
      "Match found!\n"
     ]
    },
    {
     "name": "stderr",
     "output_type": "stream",
     "text": [
      "\r",
      "324it [01:57,  2.46it/s]"
     ]
    },
    {
     "name": "stdout",
     "output_type": "stream",
     "text": [
      "Match found!\n",
      "Match found!\n"
     ]
    },
    {
     "name": "stderr",
     "output_type": "stream",
     "text": [
      "327it [01:58,  3.69it/s]"
     ]
    },
    {
     "name": "stdout",
     "output_type": "stream",
     "text": [
      "Match found!\n",
      "Match found!\n",
      "Match found!\n"
     ]
    },
    {
     "name": "stderr",
     "output_type": "stream",
     "text": [
      "\r",
      "329it [01:58,  4.45it/s]"
     ]
    },
    {
     "name": "stdout",
     "output_type": "stream",
     "text": [
      "Match found!\n",
      "Match found!\n"
     ]
    },
    {
     "name": "stderr",
     "output_type": "stream",
     "text": [
      "333it [01:59,  3.65it/s]"
     ]
    },
    {
     "name": "stdout",
     "output_type": "stream",
     "text": [
      "Match found!\n",
      "Match found!\n",
      "Match found!\n"
     ]
    },
    {
     "name": "stderr",
     "output_type": "stream",
     "text": [
      "\r",
      "334it [02:00,  2.14it/s]"
     ]
    },
    {
     "name": "stdout",
     "output_type": "stream",
     "text": [
      "Match found!\n"
     ]
    },
    {
     "name": "stderr",
     "output_type": "stream",
     "text": [
      "\r",
      "335it [02:01,  2.54it/s]"
     ]
    },
    {
     "name": "stdout",
     "output_type": "stream",
     "text": [
      "Match found!\n",
      "Match found!\n"
     ]
    },
    {
     "name": "stderr",
     "output_type": "stream",
     "text": [
      "338it [02:01,  3.60it/s]"
     ]
    },
    {
     "name": "stdout",
     "output_type": "stream",
     "text": [
      "Match found!\n",
      "Match found!\n"
     ]
    },
    {
     "name": "stderr",
     "output_type": "stream",
     "text": [
      "340it [02:02,  3.82it/s]"
     ]
    },
    {
     "name": "stdout",
     "output_type": "stream",
     "text": [
      "Match found!\n",
      "Match found!\n"
     ]
    },
    {
     "name": "stderr",
     "output_type": "stream",
     "text": [
      "\r",
      "341it [02:02,  3.30it/s]"
     ]
    },
    {
     "name": "stdout",
     "output_type": "stream",
     "text": [
      "Match found!\n"
     ]
    },
    {
     "name": "stderr",
     "output_type": "stream",
     "text": [
      "\r",
      "342it [02:02,  3.25it/s]"
     ]
    },
    {
     "name": "stdout",
     "output_type": "stream",
     "text": [
      "Match found!\n"
     ]
    },
    {
     "name": "stderr",
     "output_type": "stream",
     "text": [
      "\r",
      "343it [02:03,  1.88it/s]"
     ]
    },
    {
     "name": "stdout",
     "output_type": "stream",
     "text": [
      "Match found!\n"
     ]
    },
    {
     "name": "stderr",
     "output_type": "stream",
     "text": [
      "345it [02:04,  2.60it/s]"
     ]
    },
    {
     "name": "stdout",
     "output_type": "stream",
     "text": [
      "Match found!\n",
      "Match found!\n"
     ]
    },
    {
     "name": "stderr",
     "output_type": "stream",
     "text": [
      "\r",
      "346it [02:04,  3.15it/s]"
     ]
    },
    {
     "name": "stdout",
     "output_type": "stream",
     "text": [
      "Match found!\n"
     ]
    },
    {
     "name": "stderr",
     "output_type": "stream",
     "text": [
      "\r",
      "347it [02:05,  2.18it/s]"
     ]
    },
    {
     "name": "stdout",
     "output_type": "stream",
     "text": [
      "Match found!\n",
      "Match found!\n"
     ]
    },
    {
     "name": "stderr",
     "output_type": "stream",
     "text": [
      "\r",
      "349it [02:05,  2.79it/s]"
     ]
    },
    {
     "name": "stdout",
     "output_type": "stream",
     "text": [
      "Match found!\n"
     ]
    },
    {
     "name": "stderr",
     "output_type": "stream",
     "text": [
      "\r",
      "350it [02:06,  2.21it/s]"
     ]
    },
    {
     "name": "stdout",
     "output_type": "stream",
     "text": [
      "Match found!\n",
      "Match found!\n"
     ]
    },
    {
     "name": "stderr",
     "output_type": "stream",
     "text": [
      "354it [02:06,  3.55it/s]"
     ]
    },
    {
     "name": "stdout",
     "output_type": "stream",
     "text": [
      "Match found!\n",
      "Match found!\n",
      "Match found!\n"
     ]
    },
    {
     "name": "stderr",
     "output_type": "stream",
     "text": [
      "\r",
      "355it [02:07,  2.58it/s]"
     ]
    },
    {
     "name": "stdout",
     "output_type": "stream",
     "text": [
      "Match found!\n",
      "Match found!\n"
     ]
    },
    {
     "name": "stderr",
     "output_type": "stream",
     "text": [
      "\r",
      "357it [02:07,  3.22it/s]"
     ]
    },
    {
     "name": "stdout",
     "output_type": "stream",
     "text": [
      "Match found!\n"
     ]
    },
    {
     "name": "stderr",
     "output_type": "stream",
     "text": [
      "\r",
      "358it [02:07,  3.49it/s]"
     ]
    },
    {
     "name": "stdout",
     "output_type": "stream",
     "text": [
      "Match found!\n"
     ]
    },
    {
     "name": "stderr",
     "output_type": "stream",
     "text": [
      "\r",
      "359it [02:08,  2.67it/s]"
     ]
    },
    {
     "name": "stdout",
     "output_type": "stream",
     "text": [
      "Match found!\n"
     ]
    },
    {
     "name": "stderr",
     "output_type": "stream",
     "text": [
      "\r",
      "360it [02:09,  1.79it/s]"
     ]
    },
    {
     "name": "stdout",
     "output_type": "stream",
     "text": [
      "Match found!\n"
     ]
    },
    {
     "name": "stderr",
     "output_type": "stream",
     "text": [
      "362it [02:10,  2.02it/s]"
     ]
    },
    {
     "name": "stdout",
     "output_type": "stream",
     "text": [
      "Match found!\n",
      "Match found!\n"
     ]
    },
    {
     "name": "stderr",
     "output_type": "stream",
     "text": [
      "364it [02:10,  3.38it/s]"
     ]
    },
    {
     "name": "stdout",
     "output_type": "stream",
     "text": [
      "Match found!\n",
      "Match found!\n",
      "Match found!\n"
     ]
    },
    {
     "name": "stderr",
     "output_type": "stream",
     "text": [
      "367it [02:11,  3.76it/s]"
     ]
    },
    {
     "name": "stdout",
     "output_type": "stream",
     "text": [
      "Match found!\n",
      "Match found!\n"
     ]
    },
    {
     "name": "stderr",
     "output_type": "stream",
     "text": [
      "\r",
      "368it [02:11,  4.35it/s]"
     ]
    },
    {
     "name": "stdout",
     "output_type": "stream",
     "text": [
      "Match found!\n"
     ]
    },
    {
     "name": "stderr",
     "output_type": "stream",
     "text": [
      "\r",
      "369it [02:12,  1.87it/s]"
     ]
    },
    {
     "name": "stdout",
     "output_type": "stream",
     "text": [
      "Match found!\n"
     ]
    },
    {
     "name": "stderr",
     "output_type": "stream",
     "text": [
      "371it [02:13,  2.73it/s]"
     ]
    },
    {
     "name": "stdout",
     "output_type": "stream",
     "text": [
      "Match found!\n",
      "Match found!\n"
     ]
    },
    {
     "name": "stderr",
     "output_type": "stream",
     "text": [
      "373it [02:14,  3.08it/s]"
     ]
    },
    {
     "name": "stdout",
     "output_type": "stream",
     "text": [
      "Match found!\n",
      "Match found!\n"
     ]
    },
    {
     "name": "stderr",
     "output_type": "stream",
     "text": [
      "375it [02:14,  2.89it/s]"
     ]
    },
    {
     "name": "stdout",
     "output_type": "stream",
     "text": [
      "Match found!\n",
      "Match found!\n"
     ]
    },
    {
     "name": "stderr",
     "output_type": "stream",
     "text": [
      "377it [02:15,  3.56it/s]"
     ]
    },
    {
     "name": "stdout",
     "output_type": "stream",
     "text": [
      "Match found!\n",
      "Match found!\n"
     ]
    },
    {
     "name": "stderr",
     "output_type": "stream",
     "text": [
      "380it [02:15,  5.03it/s]"
     ]
    },
    {
     "name": "stdout",
     "output_type": "stream",
     "text": [
      "Match found!\n",
      "Match found!\n",
      "Match found!\n"
     ]
    },
    {
     "name": "stderr",
     "output_type": "stream",
     "text": [
      "\r",
      "381it [02:15,  4.54it/s]"
     ]
    },
    {
     "name": "stdout",
     "output_type": "stream",
     "text": [
      "Match found!\n",
      "Match found!\n"
     ]
    },
    {
     "name": "stderr",
     "output_type": "stream",
     "text": [
      "384it [02:16,  5.71it/s]"
     ]
    },
    {
     "name": "stdout",
     "output_type": "stream",
     "text": [
      "Match found!\n",
      "Match found!\n"
     ]
    },
    {
     "name": "stderr",
     "output_type": "stream",
     "text": [
      "386it [02:17,  3.55it/s]"
     ]
    },
    {
     "name": "stdout",
     "output_type": "stream",
     "text": [
      "Match found!\n",
      "Match found!\n"
     ]
    },
    {
     "name": "stderr",
     "output_type": "stream",
     "text": [
      "\r",
      "387it [02:17,  4.13it/s]"
     ]
    },
    {
     "name": "stdout",
     "output_type": "stream",
     "text": [
      "Match found!\n"
     ]
    },
    {
     "name": "stderr",
     "output_type": "stream",
     "text": [
      "\r",
      "388it [02:17,  4.31it/s]"
     ]
    },
    {
     "name": "stdout",
     "output_type": "stream",
     "text": [
      "Match found!\n"
     ]
    },
    {
     "name": "stderr",
     "output_type": "stream",
     "text": [
      "\r",
      "389it [02:18,  1.97it/s]"
     ]
    },
    {
     "name": "stdout",
     "output_type": "stream",
     "text": [
      "Match found!\n"
     ]
    },
    {
     "name": "stderr",
     "output_type": "stream",
     "text": [
      "\r",
      "390it [02:19,  1.37it/s]"
     ]
    },
    {
     "name": "stdout",
     "output_type": "stream",
     "text": [
      "Match found!\n"
     ]
    },
    {
     "name": "stderr",
     "output_type": "stream",
     "text": [
      "\r",
      "391it [02:24,  1.98s/it]"
     ]
    },
    {
     "name": "stdout",
     "output_type": "stream",
     "text": [
      "Match found!\n"
     ]
    },
    {
     "name": "stderr",
     "output_type": "stream",
     "text": [
      "\r",
      "392it [02:25,  1.61s/it]"
     ]
    },
    {
     "name": "stdout",
     "output_type": "stream",
     "text": [
      "Match found!\n"
     ]
    },
    {
     "name": "stderr",
     "output_type": "stream",
     "text": [
      "\r",
      "393it [02:26,  1.29s/it]"
     ]
    },
    {
     "name": "stdout",
     "output_type": "stream",
     "text": [
      "Match found!\n"
     ]
    },
    {
     "name": "stderr",
     "output_type": "stream",
     "text": [
      "395it [02:26,  1.32it/s]"
     ]
    },
    {
     "name": "stdout",
     "output_type": "stream",
     "text": [
      "Match found!\n",
      "Match found!\n"
     ]
    },
    {
     "name": "stderr",
     "output_type": "stream",
     "text": [
      "\r",
      "396it [02:26,  1.73it/s]"
     ]
    },
    {
     "name": "stdout",
     "output_type": "stream",
     "text": [
      "Match found!\n",
      "Match found!\n"
     ]
    },
    {
     "name": "stderr",
     "output_type": "stream",
     "text": [
      "\r",
      "398it [02:27,  2.28it/s]"
     ]
    },
    {
     "name": "stdout",
     "output_type": "stream",
     "text": [
      "Match found!\n"
     ]
    },
    {
     "name": "stderr",
     "output_type": "stream",
     "text": [
      "\r",
      "399it [02:27,  1.98it/s]"
     ]
    },
    {
     "name": "stdout",
     "output_type": "stream",
     "text": [
      "Match found!\n"
     ]
    },
    {
     "name": "stderr",
     "output_type": "stream",
     "text": [
      "401it [02:28,  2.34it/s]"
     ]
    },
    {
     "name": "stdout",
     "output_type": "stream",
     "text": [
      "Match found!\n",
      "Match found!\n"
     ]
    },
    {
     "name": "stderr",
     "output_type": "stream",
     "text": [
      "\r",
      "402it [02:28,  2.60it/s]"
     ]
    },
    {
     "name": "stdout",
     "output_type": "stream",
     "text": [
      "Match found!\n"
     ]
    },
    {
     "name": "stderr",
     "output_type": "stream",
     "text": [
      "\r",
      "403it [02:29,  2.57it/s]"
     ]
    },
    {
     "name": "stdout",
     "output_type": "stream",
     "text": [
      "Match found!\n"
     ]
    },
    {
     "name": "stderr",
     "output_type": "stream",
     "text": [
      "\r",
      "404it [02:29,  2.65it/s]"
     ]
    },
    {
     "name": "stdout",
     "output_type": "stream",
     "text": [
      "Match found!\n"
     ]
    },
    {
     "name": "stderr",
     "output_type": "stream",
     "text": [
      "407it [02:29,  3.98it/s]"
     ]
    },
    {
     "name": "stdout",
     "output_type": "stream",
     "text": [
      "Match found!\n",
      "Match found!\n",
      "Match found!\n",
      "Match found!\n"
     ]
    },
    {
     "name": "stderr",
     "output_type": "stream",
     "text": [
      "\r",
      "409it [02:30,  4.24it/s]"
     ]
    },
    {
     "name": "stdout",
     "output_type": "stream",
     "text": [
      "Match found!\n"
     ]
    },
    {
     "name": "stderr",
     "output_type": "stream",
     "text": [
      "\r",
      "410it [02:30,  4.37it/s]"
     ]
    },
    {
     "name": "stdout",
     "output_type": "stream",
     "text": [
      "Match found!\n",
      "Match found!\n"
     ]
    },
    {
     "name": "stderr",
     "output_type": "stream",
     "text": [
      "413it [02:31,  3.73it/s]"
     ]
    },
    {
     "name": "stdout",
     "output_type": "stream",
     "text": [
      "Match found!\n",
      "Match found!\n"
     ]
    },
    {
     "name": "stderr",
     "output_type": "stream",
     "text": [
      "\r",
      "414it [02:34,  1.03it/s]"
     ]
    },
    {
     "name": "stdout",
     "output_type": "stream",
     "text": [
      "Match found!\n"
     ]
    },
    {
     "name": "stderr",
     "output_type": "stream",
     "text": [
      "416it [02:36,  1.17it/s]"
     ]
    },
    {
     "name": "stdout",
     "output_type": "stream",
     "text": [
      "Match found!\n",
      "Match found!\n"
     ]
    },
    {
     "name": "stderr",
     "output_type": "stream",
     "text": [
      "\r",
      "418it [02:36,  1.62it/s]"
     ]
    },
    {
     "name": "stdout",
     "output_type": "stream",
     "text": [
      "Match found!\n",
      "Match found!\n"
     ]
    },
    {
     "name": "stderr",
     "output_type": "stream",
     "text": [
      "\r",
      "419it [02:36,  2.00it/s]"
     ]
    },
    {
     "name": "stdout",
     "output_type": "stream",
     "text": [
      "Match found!\n"
     ]
    },
    {
     "name": "stderr",
     "output_type": "stream",
     "text": [
      "422it [02:36,  3.19it/s]"
     ]
    },
    {
     "name": "stdout",
     "output_type": "stream",
     "text": [
      "Match found!\n",
      "Match found!\n",
      "Match found!\n"
     ]
    },
    {
     "name": "stderr",
     "output_type": "stream",
     "text": [
      "424it [02:37,  2.77it/s]"
     ]
    },
    {
     "name": "stdout",
     "output_type": "stream",
     "text": [
      "Match found!\n",
      "Match found!\n"
     ]
    },
    {
     "name": "stderr",
     "output_type": "stream",
     "text": [
      "\r",
      "425it [02:38,  1.88it/s]"
     ]
    },
    {
     "name": "stdout",
     "output_type": "stream",
     "text": [
      "Match found!\n"
     ]
    },
    {
     "name": "stderr",
     "output_type": "stream",
     "text": [
      "\r",
      "426it [02:40,  1.27it/s]"
     ]
    },
    {
     "name": "stdout",
     "output_type": "stream",
     "text": [
      "Match found!\n"
     ]
    },
    {
     "name": "stderr",
     "output_type": "stream",
     "text": [
      "\r",
      "427it [02:40,  1.49it/s]"
     ]
    },
    {
     "name": "stdout",
     "output_type": "stream",
     "text": [
      "Match found!\n"
     ]
    },
    {
     "name": "stderr",
     "output_type": "stream",
     "text": [
      "\r",
      "428it [02:40,  1.71it/s]"
     ]
    },
    {
     "name": "stdout",
     "output_type": "stream",
     "text": [
      "Match found!\n"
     ]
    },
    {
     "name": "stderr",
     "output_type": "stream",
     "text": [
      "\r",
      "429it [02:42,  1.16it/s]"
     ]
    },
    {
     "name": "stdout",
     "output_type": "stream",
     "text": [
      "Match found!\n",
      "Match found!\n"
     ]
    },
    {
     "name": "stderr",
     "output_type": "stream",
     "text": [
      "432it [02:43,  1.92it/s]"
     ]
    },
    {
     "name": "stdout",
     "output_type": "stream",
     "text": [
      "Match found!\n",
      "Match found!\n"
     ]
    },
    {
     "name": "stderr",
     "output_type": "stream",
     "text": [
      "\r",
      "433it [02:43,  1.87it/s]"
     ]
    },
    {
     "name": "stdout",
     "output_type": "stream",
     "text": [
      "Match found!\n"
     ]
    },
    {
     "name": "stderr",
     "output_type": "stream",
     "text": [
      "435it [02:46,  1.08it/s]"
     ]
    },
    {
     "name": "stdout",
     "output_type": "stream",
     "text": [
      "Match found!\n",
      "Match found!\n",
      "Match found!\n"
     ]
    },
    {
     "name": "stderr",
     "output_type": "stream",
     "text": [
      "438it [02:47,  1.83it/s]"
     ]
    },
    {
     "name": "stdout",
     "output_type": "stream",
     "text": [
      "Match found!\n",
      "Match found!\n"
     ]
    },
    {
     "name": "stderr",
     "output_type": "stream",
     "text": [
      "\r",
      "439it [02:47,  2.21it/s]"
     ]
    },
    {
     "name": "stdout",
     "output_type": "stream",
     "text": [
      "Match found!\n"
     ]
    },
    {
     "name": "stderr",
     "output_type": "stream",
     "text": [
      "\r",
      "440it [02:48,  2.15it/s]"
     ]
    },
    {
     "name": "stdout",
     "output_type": "stream",
     "text": [
      "Match found!\n"
     ]
    },
    {
     "name": "stderr",
     "output_type": "stream",
     "text": [
      "442it [02:48,  2.99it/s]"
     ]
    },
    {
     "name": "stdout",
     "output_type": "stream",
     "text": [
      "Match found!\n",
      "Match found!\n"
     ]
    },
    {
     "name": "stderr",
     "output_type": "stream",
     "text": [
      "444it [02:48,  3.90it/s]"
     ]
    },
    {
     "name": "stdout",
     "output_type": "stream",
     "text": [
      "Match found!\n",
      "Match found!\n"
     ]
    },
    {
     "name": "stderr",
     "output_type": "stream",
     "text": [
      "447it [02:49,  5.26it/s]"
     ]
    },
    {
     "name": "stdout",
     "output_type": "stream",
     "text": [
      "Match found!\n",
      "Match found!\n",
      "Match found!\n"
     ]
    },
    {
     "name": "stderr",
     "output_type": "stream",
     "text": [
      "\r",
      "448it [02:49,  6.03it/s]"
     ]
    },
    {
     "name": "stdout",
     "output_type": "stream",
     "text": [
      "Match found!\n",
      "Match found!\n"
     ]
    },
    {
     "name": "stderr",
     "output_type": "stream",
     "text": [
      "\r",
      "450it [02:49,  5.32it/s]"
     ]
    },
    {
     "name": "stdout",
     "output_type": "stream",
     "text": [
      "Match found!\n",
      "Match found!\n"
     ]
    },
    {
     "name": "stderr",
     "output_type": "stream",
     "text": [
      "\r",
      "452it [02:50,  4.52it/s]"
     ]
    },
    {
     "name": "stdout",
     "output_type": "stream",
     "text": [
      "Match found!\n",
      "Match found!\n"
     ]
    },
    {
     "name": "stderr",
     "output_type": "stream",
     "text": [
      "\r",
      "454it [02:50,  5.12it/s]"
     ]
    },
    {
     "name": "stdout",
     "output_type": "stream",
     "text": [
      "Match found!\n",
      "Match found!\n"
     ]
    },
    {
     "name": "stderr",
     "output_type": "stream",
     "text": [
      "\r",
      "456it [02:51,  4.43it/s]"
     ]
    },
    {
     "name": "stdout",
     "output_type": "stream",
     "text": [
      "Match found!\n"
     ]
    },
    {
     "name": "stderr",
     "output_type": "stream",
     "text": [
      "\r",
      "457it [02:51,  3.52it/s]"
     ]
    },
    {
     "name": "stdout",
     "output_type": "stream",
     "text": [
      "Match found!\n"
     ]
    },
    {
     "name": "stderr",
     "output_type": "stream",
     "text": [
      "459it [02:52,  3.57it/s]"
     ]
    },
    {
     "name": "stdout",
     "output_type": "stream",
     "text": [
      "Match found!\n",
      "Match found!\n"
     ]
    },
    {
     "name": "stderr",
     "output_type": "stream",
     "text": [
      "461it [02:53,  3.14it/s]"
     ]
    },
    {
     "name": "stdout",
     "output_type": "stream",
     "text": [
      "Match found!\n",
      "Match found!\n"
     ]
    },
    {
     "name": "stderr",
     "output_type": "stream",
     "text": [
      "\r",
      "462it [02:54,  1.49it/s]"
     ]
    },
    {
     "name": "stdout",
     "output_type": "stream",
     "text": [
      "Match found!\n"
     ]
    },
    {
     "name": "stderr",
     "output_type": "stream",
     "text": [
      "\r",
      "463it [02:55,  1.31it/s]"
     ]
    },
    {
     "name": "stdout",
     "output_type": "stream",
     "text": [
      "Match found!\n"
     ]
    },
    {
     "name": "stderr",
     "output_type": "stream",
     "text": [
      "\r",
      "464it [02:55,  1.59it/s]"
     ]
    },
    {
     "name": "stdout",
     "output_type": "stream",
     "text": [
      "Match found!\n"
     ]
    },
    {
     "name": "stderr",
     "output_type": "stream",
     "text": [
      "\r",
      "465it [02:56,  1.78it/s]"
     ]
    },
    {
     "name": "stdout",
     "output_type": "stream",
     "text": [
      "Match found!\n"
     ]
    },
    {
     "name": "stderr",
     "output_type": "stream",
     "text": [
      "\r",
      "466it [02:56,  2.15it/s]"
     ]
    },
    {
     "name": "stdout",
     "output_type": "stream",
     "text": [
      "Match found!\n"
     ]
    },
    {
     "name": "stderr",
     "output_type": "stream",
     "text": [
      "469it [02:57,  3.07it/s]"
     ]
    },
    {
     "name": "stdout",
     "output_type": "stream",
     "text": [
      "Match found!\n",
      "Match found!\n",
      "Match found!\n",
      "Match found!\n"
     ]
    },
    {
     "name": "stderr",
     "output_type": "stream",
     "text": [
      "\r",
      "471it [02:57,  3.26it/s]"
     ]
    },
    {
     "name": "stdout",
     "output_type": "stream",
     "text": [
      "Match found!\n",
      "Match found!\n"
     ]
    },
    {
     "name": "stderr",
     "output_type": "stream",
     "text": [
      "475it [02:57,  5.09it/s]"
     ]
    },
    {
     "name": "stdout",
     "output_type": "stream",
     "text": [
      "Match found!\n",
      "Match found!\n",
      "Match found!\n"
     ]
    },
    {
     "name": "stderr",
     "output_type": "stream",
     "text": [
      "\r",
      "476it [02:58,  3.86it/s]"
     ]
    },
    {
     "name": "stdout",
     "output_type": "stream",
     "text": [
      "Match found!\n",
      "Match found!\n"
     ]
    },
    {
     "name": "stderr",
     "output_type": "stream",
     "text": [
      "\r",
      "478it [02:58,  4.38it/s]"
     ]
    },
    {
     "name": "stdout",
     "output_type": "stream",
     "text": [
      "Match found!\n"
     ]
    },
    {
     "name": "stderr",
     "output_type": "stream",
     "text": [
      "\r",
      "479it [02:58,  4.35it/s]"
     ]
    },
    {
     "name": "stdout",
     "output_type": "stream",
     "text": [
      "Match found!\n",
      "Match found!\n"
     ]
    },
    {
     "name": "stderr",
     "output_type": "stream",
     "text": [
      "\r",
      "481it [02:59,  3.98it/s]"
     ]
    },
    {
     "name": "stdout",
     "output_type": "stream",
     "text": [
      "Match found!\n"
     ]
    },
    {
     "name": "stderr",
     "output_type": "stream",
     "text": [
      "\r",
      "482it [02:59,  3.76it/s]"
     ]
    },
    {
     "name": "stdout",
     "output_type": "stream",
     "text": [
      "Match found!\n"
     ]
    },
    {
     "name": "stderr",
     "output_type": "stream",
     "text": [
      "\r",
      "483it [03:00,  3.67it/s]"
     ]
    },
    {
     "name": "stdout",
     "output_type": "stream",
     "text": [
      "Match found!\n"
     ]
    },
    {
     "name": "stderr",
     "output_type": "stream",
     "text": [
      "\r",
      "484it [03:00,  2.93it/s]"
     ]
    },
    {
     "name": "stdout",
     "output_type": "stream",
     "text": [
      "Match found!\n"
     ]
    },
    {
     "name": "stderr",
     "output_type": "stream",
     "text": [
      "486it [03:01,  3.48it/s]"
     ]
    },
    {
     "name": "stdout",
     "output_type": "stream",
     "text": [
      "Match found!\n",
      "Match found!\n"
     ]
    },
    {
     "name": "stderr",
     "output_type": "stream",
     "text": [
      "\r",
      "487it [03:01,  4.02it/s]"
     ]
    },
    {
     "name": "stdout",
     "output_type": "stream",
     "text": [
      "Match found!\n",
      "Match found!\n"
     ]
    },
    {
     "name": "stderr",
     "output_type": "stream",
     "text": [
      "490it [03:02,  3.93it/s]"
     ]
    },
    {
     "name": "stdout",
     "output_type": "stream",
     "text": [
      "Match found!\n",
      "Match found!\n"
     ]
    },
    {
     "name": "stderr",
     "output_type": "stream",
     "text": [
      "492it [03:02,  5.34it/s]"
     ]
    },
    {
     "name": "stdout",
     "output_type": "stream",
     "text": [
      "Match found!\n",
      "Match found!\n"
     ]
    },
    {
     "name": "stderr",
     "output_type": "stream",
     "text": [
      "\r",
      "493it [03:02,  3.60it/s]"
     ]
    },
    {
     "name": "stdout",
     "output_type": "stream",
     "text": [
      "Match found!\n"
     ]
    },
    {
     "name": "stderr",
     "output_type": "stream",
     "text": [
      "\r",
      "494it [03:03,  3.79it/s]"
     ]
    },
    {
     "name": "stdout",
     "output_type": "stream",
     "text": [
      "Match found!\n"
     ]
    },
    {
     "name": "stderr",
     "output_type": "stream",
     "text": [
      "\r",
      "495it [03:04,  1.74it/s]"
     ]
    },
    {
     "name": "stdout",
     "output_type": "stream",
     "text": [
      "Match found!\n"
     ]
    },
    {
     "name": "stderr",
     "output_type": "stream",
     "text": [
      "\r",
      "496it [03:04,  2.06it/s]"
     ]
    },
    {
     "name": "stdout",
     "output_type": "stream",
     "text": [
      "Match found!\n"
     ]
    },
    {
     "name": "stderr",
     "output_type": "stream",
     "text": [
      "\r",
      "497it [03:05,  1.59it/s]"
     ]
    },
    {
     "name": "stdout",
     "output_type": "stream",
     "text": [
      "Match found!\n",
      "Match found!\n"
     ]
    },
    {
     "name": "stderr",
     "output_type": "stream",
     "text": [
      "\r",
      "499it [03:07,  1.46it/s]"
     ]
    },
    {
     "name": "stdout",
     "output_type": "stream",
     "text": [
      "Match found!\n"
     ]
    },
    {
     "name": "stderr",
     "output_type": "stream",
     "text": [
      "501it [03:08,  1.73it/s]"
     ]
    },
    {
     "name": "stdout",
     "output_type": "stream",
     "text": [
      "Match found!\n",
      "Match found!\n"
     ]
    },
    {
     "name": "stderr",
     "output_type": "stream",
     "text": [
      "\r",
      "502it [03:09,  1.28it/s]"
     ]
    },
    {
     "name": "stdout",
     "output_type": "stream",
     "text": [
      "Match found!\n"
     ]
    },
    {
     "name": "stderr",
     "output_type": "stream",
     "text": [
      "\r",
      "503it [03:10,  1.42it/s]"
     ]
    },
    {
     "name": "stdout",
     "output_type": "stream",
     "text": [
      "Match found!\n"
     ]
    },
    {
     "name": "stderr",
     "output_type": "stream",
     "text": [
      "505it [03:11,  1.81it/s]"
     ]
    },
    {
     "name": "stdout",
     "output_type": "stream",
     "text": [
      "Match found!\n",
      "Match found!\n"
     ]
    },
    {
     "name": "stderr",
     "output_type": "stream",
     "text": [
      "\r",
      "506it [03:11,  2.33it/s]"
     ]
    },
    {
     "name": "stdout",
     "output_type": "stream",
     "text": [
      "Match found!\n"
     ]
    },
    {
     "name": "stderr",
     "output_type": "stream",
     "text": [
      "\r",
      "507it [03:11,  2.13it/s]"
     ]
    },
    {
     "name": "stdout",
     "output_type": "stream",
     "text": [
      "Match found!\n",
      "Match found!\n"
     ]
    },
    {
     "name": "stderr",
     "output_type": "stream",
     "text": [
      "\r",
      "509it [03:12,  2.76it/s]"
     ]
    },
    {
     "name": "stdout",
     "output_type": "stream",
     "text": [
      "Match found!\n"
     ]
    },
    {
     "name": "stderr",
     "output_type": "stream",
     "text": [
      "511it [03:12,  3.49it/s]"
     ]
    },
    {
     "name": "stdout",
     "output_type": "stream",
     "text": [
      "Match found!\n"
     ]
    },
    {
     "name": "stderr",
     "output_type": "stream",
     "text": [
      "\r",
      "512it [03:12,  4.32it/s]"
     ]
    },
    {
     "name": "stdout",
     "output_type": "stream",
     "text": [
      "Match found!\n",
      "Match found!\n",
      "Match found!\n"
     ]
    },
    {
     "name": "stderr",
     "output_type": "stream",
     "text": [
      "\r",
      "514it [03:12,  5.43it/s]"
     ]
    },
    {
     "name": "stdout",
     "output_type": "stream",
     "text": [
      "Match found!\n"
     ]
    },
    {
     "name": "stderr",
     "output_type": "stream",
     "text": [
      "\r",
      "515it [03:13,  4.06it/s]"
     ]
    },
    {
     "name": "stdout",
     "output_type": "stream",
     "text": [
      "Match found!\n"
     ]
    },
    {
     "name": "stderr",
     "output_type": "stream",
     "text": [
      "\r",
      "516it [03:13,  2.43it/s]"
     ]
    },
    {
     "name": "stdout",
     "output_type": "stream",
     "text": [
      "Match found!\n"
     ]
    },
    {
     "name": "stderr",
     "output_type": "stream",
     "text": [
      "\r",
      "517it [03:14,  2.35it/s]"
     ]
    },
    {
     "name": "stdout",
     "output_type": "stream",
     "text": [
      "Match found!\n"
     ]
    },
    {
     "name": "stderr",
     "output_type": "stream",
     "text": [
      "519it [03:14,  3.03it/s]"
     ]
    },
    {
     "name": "stdout",
     "output_type": "stream",
     "text": [
      "Match found!\n",
      "Match found!\n"
     ]
    },
    {
     "name": "stderr",
     "output_type": "stream",
     "text": [
      "\r",
      "520it [03:15,  3.35it/s]"
     ]
    },
    {
     "name": "stdout",
     "output_type": "stream",
     "text": [
      "Match found!\n"
     ]
    },
    {
     "name": "stderr",
     "output_type": "stream",
     "text": [
      "\r",
      "521it [03:15,  3.12it/s]"
     ]
    },
    {
     "name": "stdout",
     "output_type": "stream",
     "text": [
      "Match found!\n"
     ]
    },
    {
     "name": "stderr",
     "output_type": "stream",
     "text": [
      "524it [03:16,  2.93it/s]"
     ]
    },
    {
     "name": "stdout",
     "output_type": "stream",
     "text": [
      "Match found!\n",
      "Match found!\n",
      "Match found!\n"
     ]
    },
    {
     "name": "stderr",
     "output_type": "stream",
     "text": [
      "\r",
      "525it [03:17,  2.23it/s]"
     ]
    },
    {
     "name": "stdout",
     "output_type": "stream",
     "text": [
      "Match found!\n"
     ]
    },
    {
     "name": "stderr",
     "output_type": "stream",
     "text": [
      "\r",
      "526it [03:17,  2.05it/s]"
     ]
    },
    {
     "name": "stdout",
     "output_type": "stream",
     "text": [
      "Match found!\n"
     ]
    },
    {
     "name": "stderr",
     "output_type": "stream",
     "text": [
      "529it [03:18,  2.47it/s]"
     ]
    },
    {
     "name": "stdout",
     "output_type": "stream",
     "text": [
      "Match found!\n",
      "Match found!\n",
      "Match found!\n",
      "Match found!\n",
      "Match found!\n"
     ]
    },
    {
     "name": "stderr",
     "output_type": "stream",
     "text": [
      "\r",
      "532it [03:18,  3.15it/s]"
     ]
    },
    {
     "name": "stdout",
     "output_type": "stream",
     "text": [
      "Match found!\n"
     ]
    },
    {
     "name": "stderr",
     "output_type": "stream",
     "text": [
      "\r",
      "533it [03:19,  3.24it/s]"
     ]
    },
    {
     "name": "stdout",
     "output_type": "stream",
     "text": [
      "Match found!\n"
     ]
    },
    {
     "name": "stderr",
     "output_type": "stream",
     "text": [
      "\r",
      "534it [03:19,  3.14it/s]"
     ]
    },
    {
     "name": "stdout",
     "output_type": "stream",
     "text": [
      "Match found!\n"
     ]
    },
    {
     "name": "stderr",
     "output_type": "stream",
     "text": [
      "\r",
      "535it [03:19,  2.84it/s]"
     ]
    },
    {
     "name": "stdout",
     "output_type": "stream",
     "text": [
      "Match found!\n"
     ]
    },
    {
     "name": "stderr",
     "output_type": "stream",
     "text": [
      "\r",
      "536it [03:20,  3.10it/s]"
     ]
    },
    {
     "name": "stdout",
     "output_type": "stream",
     "text": [
      "Match found!\n"
     ]
    },
    {
     "name": "stderr",
     "output_type": "stream",
     "text": [
      "\r",
      "537it [03:20,  2.99it/s]"
     ]
    },
    {
     "name": "stdout",
     "output_type": "stream",
     "text": [
      "Match found!\n"
     ]
    },
    {
     "name": "stderr",
     "output_type": "stream",
     "text": [
      "539it [03:21,  3.05it/s]"
     ]
    },
    {
     "name": "stdout",
     "output_type": "stream",
     "text": [
      "Match found!\n",
      "Match found!\n"
     ]
    },
    {
     "name": "stderr",
     "output_type": "stream",
     "text": [
      "\r",
      "540it [03:21,  2.95it/s]"
     ]
    },
    {
     "name": "stdout",
     "output_type": "stream",
     "text": [
      "Match found!\n"
     ]
    },
    {
     "name": "stderr",
     "output_type": "stream",
     "text": [
      "\r",
      "541it [03:21,  3.15it/s]"
     ]
    },
    {
     "name": "stdout",
     "output_type": "stream",
     "text": [
      "Match found!\n"
     ]
    },
    {
     "name": "stderr",
     "output_type": "stream",
     "text": [
      "\r",
      "542it [03:22,  3.48it/s]"
     ]
    },
    {
     "name": "stdout",
     "output_type": "stream",
     "text": [
      "Match found!\n"
     ]
    },
    {
     "name": "stderr",
     "output_type": "stream",
     "text": [
      "544it [03:22,  4.10it/s]"
     ]
    },
    {
     "name": "stdout",
     "output_type": "stream",
     "text": [
      "Match found!\n",
      "Match found!\n"
     ]
    },
    {
     "name": "stderr",
     "output_type": "stream",
     "text": [
      "\r",
      "545it [03:23,  2.32it/s]"
     ]
    },
    {
     "name": "stdout",
     "output_type": "stream",
     "text": [
      "Match found!\n"
     ]
    },
    {
     "name": "stderr",
     "output_type": "stream",
     "text": [
      "\r",
      "546it [03:23,  2.69it/s]"
     ]
    },
    {
     "name": "stdout",
     "output_type": "stream",
     "text": [
      "Match found!\n"
     ]
    },
    {
     "name": "stderr",
     "output_type": "stream",
     "text": [
      "548it [03:24,  3.80it/s]"
     ]
    },
    {
     "name": "stdout",
     "output_type": "stream",
     "text": [
      "Match found!\n",
      "Match found!\n"
     ]
    },
    {
     "name": "stderr",
     "output_type": "stream",
     "text": [
      "\r",
      "549it [03:24,  4.52it/s]"
     ]
    },
    {
     "name": "stdout",
     "output_type": "stream",
     "text": [
      "Match found!\n"
     ]
    },
    {
     "name": "stderr",
     "output_type": "stream",
     "text": [
      "\r",
      "550it [03:24,  3.95it/s]"
     ]
    },
    {
     "name": "stdout",
     "output_type": "stream",
     "text": [
      "Match found!\n"
     ]
    },
    {
     "name": "stderr",
     "output_type": "stream",
     "text": [
      "553it [03:24,  4.90it/s]"
     ]
    },
    {
     "name": "stdout",
     "output_type": "stream",
     "text": [
      "Match found!\n",
      "Match found!\n",
      "Match found!\n"
     ]
    },
    {
     "name": "stderr",
     "output_type": "stream",
     "text": [
      "\r",
      "555it [03:25,  6.19it/s]"
     ]
    },
    {
     "name": "stdout",
     "output_type": "stream",
     "text": [
      "Match found!\n",
      "Match found!\n"
     ]
    },
    {
     "name": "stderr",
     "output_type": "stream",
     "text": [
      "557it [03:25,  5.27it/s]"
     ]
    },
    {
     "name": "stdout",
     "output_type": "stream",
     "text": [
      "Match found!\n",
      "Match found!\n"
     ]
    },
    {
     "name": "stderr",
     "output_type": "stream",
     "text": [
      "559it [03:25,  6.72it/s]"
     ]
    },
    {
     "name": "stdout",
     "output_type": "stream",
     "text": [
      "Match found!\n",
      "Match found!\n"
     ]
    },
    {
     "name": "stderr",
     "output_type": "stream",
     "text": [
      "\r",
      "560it [03:25,  5.77it/s]"
     ]
    },
    {
     "name": "stdout",
     "output_type": "stream",
     "text": [
      "Match found!\n"
     ]
    },
    {
     "name": "stderr",
     "output_type": "stream",
     "text": [
      "\r",
      "561it [03:26,  4.88it/s]"
     ]
    },
    {
     "name": "stdout",
     "output_type": "stream",
     "text": [
      "Match found!\n"
     ]
    },
    {
     "name": "stderr",
     "output_type": "stream",
     "text": [
      "\r",
      "562it [03:26,  4.43it/s]"
     ]
    },
    {
     "name": "stdout",
     "output_type": "stream",
     "text": [
      "Match found!\n"
     ]
    },
    {
     "name": "stderr",
     "output_type": "stream",
     "text": [
      "\r",
      "563it [03:26,  3.93it/s]"
     ]
    },
    {
     "name": "stdout",
     "output_type": "stream",
     "text": [
      "Match found!\n"
     ]
    },
    {
     "name": "stderr",
     "output_type": "stream",
     "text": [
      "\r",
      "564it [03:27,  3.91it/s]"
     ]
    },
    {
     "name": "stdout",
     "output_type": "stream",
     "text": [
      "Match found!\n"
     ]
    },
    {
     "name": "stderr",
     "output_type": "stream",
     "text": [
      "\r",
      "565it [03:27,  3.83it/s]"
     ]
    },
    {
     "name": "stdout",
     "output_type": "stream",
     "text": [
      "Match found!\n"
     ]
    },
    {
     "name": "stderr",
     "output_type": "stream",
     "text": [
      "\r",
      "566it [03:27,  3.39it/s]"
     ]
    },
    {
     "name": "stdout",
     "output_type": "stream",
     "text": [
      "Match found!\n"
     ]
    },
    {
     "name": "stderr",
     "output_type": "stream",
     "text": [
      "\r",
      "567it [03:29,  1.65it/s]"
     ]
    },
    {
     "name": "stdout",
     "output_type": "stream",
     "text": [
      "Match found!\n"
     ]
    },
    {
     "name": "stderr",
     "output_type": "stream",
     "text": [
      "569it [03:29,  2.54it/s]"
     ]
    },
    {
     "name": "stdout",
     "output_type": "stream",
     "text": [
      "Match found!\n",
      "Match found!\n"
     ]
    },
    {
     "name": "stderr",
     "output_type": "stream",
     "text": [
      "571it [03:29,  3.62it/s]"
     ]
    },
    {
     "name": "stdout",
     "output_type": "stream",
     "text": [
      "Match found!\n",
      "Match found!\n"
     ]
    },
    {
     "name": "stderr",
     "output_type": "stream",
     "text": [
      "573it [03:30,  5.07it/s]"
     ]
    },
    {
     "name": "stdout",
     "output_type": "stream",
     "text": [
      "Match found!\n",
      "Match found!\n"
     ]
    },
    {
     "name": "stderr",
     "output_type": "stream",
     "text": [
      "575it [03:30,  4.85it/s]"
     ]
    },
    {
     "name": "stdout",
     "output_type": "stream",
     "text": [
      "Match found!\n",
      "Match found!\n"
     ]
    },
    {
     "name": "stderr",
     "output_type": "stream",
     "text": [
      "577it [03:30,  5.19it/s]"
     ]
    },
    {
     "name": "stdout",
     "output_type": "stream",
     "text": [
      "Match found!\n",
      "Match found!\n"
     ]
    },
    {
     "name": "stderr",
     "output_type": "stream",
     "text": [
      "579it [03:31,  5.21it/s]"
     ]
    },
    {
     "name": "stdout",
     "output_type": "stream",
     "text": [
      "Match found!\n",
      "Match found!\n"
     ]
    },
    {
     "name": "stderr",
     "output_type": "stream",
     "text": [
      "\r",
      "580it [03:31,  4.83it/s]"
     ]
    },
    {
     "name": "stdout",
     "output_type": "stream",
     "text": [
      "Match found!\n"
     ]
    },
    {
     "name": "stderr",
     "output_type": "stream",
     "text": [
      "\r",
      "581it [03:31,  3.71it/s]"
     ]
    },
    {
     "name": "stdout",
     "output_type": "stream",
     "text": [
      "Match found!\n",
      "Match found!\n"
     ]
    },
    {
     "name": "stderr",
     "output_type": "stream",
     "text": [
      "\r",
      "583it [03:32,  3.70it/s]"
     ]
    },
    {
     "name": "stdout",
     "output_type": "stream",
     "text": [
      "Match found!\n"
     ]
    },
    {
     "name": "stderr",
     "output_type": "stream",
     "text": [
      "585it [03:33,  3.38it/s]"
     ]
    },
    {
     "name": "stdout",
     "output_type": "stream",
     "text": [
      "Match found!\n",
      "Match found!\n"
     ]
    },
    {
     "name": "stderr",
     "output_type": "stream",
     "text": [
      "\r",
      "586it [03:33,  3.98it/s]"
     ]
    },
    {
     "name": "stdout",
     "output_type": "stream",
     "text": [
      "Match found!\n"
     ]
    },
    {
     "name": "stderr",
     "output_type": "stream",
     "text": [
      "\r",
      "587it [03:33,  3.47it/s]"
     ]
    },
    {
     "name": "stdout",
     "output_type": "stream",
     "text": [
      "Match found!\n"
     ]
    },
    {
     "name": "stderr",
     "output_type": "stream",
     "text": [
      "\r",
      "588it [03:34,  2.50it/s]"
     ]
    },
    {
     "name": "stdout",
     "output_type": "stream",
     "text": [
      "Match found!\n",
      "Match found!\n"
     ]
    },
    {
     "name": "stderr",
     "output_type": "stream",
     "text": [
      "591it [03:34,  3.49it/s]"
     ]
    },
    {
     "name": "stdout",
     "output_type": "stream",
     "text": [
      "Match found!\n",
      "Match found!\n"
     ]
    },
    {
     "name": "stderr",
     "output_type": "stream",
     "text": [
      "\r",
      "592it [03:35,  3.10it/s]"
     ]
    },
    {
     "name": "stdout",
     "output_type": "stream",
     "text": [
      "Match found!\n"
     ]
    },
    {
     "name": "stderr",
     "output_type": "stream",
     "text": [
      "\r",
      "593it [03:35,  2.65it/s]"
     ]
    },
    {
     "name": "stdout",
     "output_type": "stream",
     "text": [
      "Match found!\n"
     ]
    },
    {
     "name": "stderr",
     "output_type": "stream",
     "text": [
      "595it [03:36,  3.68it/s]"
     ]
    },
    {
     "name": "stdout",
     "output_type": "stream",
     "text": [
      "Match found!\n",
      "Match found!\n"
     ]
    },
    {
     "name": "stderr",
     "output_type": "stream",
     "text": [
      "597it [03:36,  4.12it/s]"
     ]
    },
    {
     "name": "stdout",
     "output_type": "stream",
     "text": [
      "Match found!\n",
      "Match found!\n"
     ]
    },
    {
     "name": "stderr",
     "output_type": "stream",
     "text": [
      "\r",
      "598it [03:36,  4.27it/s]"
     ]
    },
    {
     "name": "stdout",
     "output_type": "stream",
     "text": [
      "Match found!\n"
     ]
    },
    {
     "name": "stderr",
     "output_type": "stream",
     "text": [
      "\r",
      "599it [03:38,  1.61it/s]"
     ]
    },
    {
     "name": "stdout",
     "output_type": "stream",
     "text": [
      "Match found!\n"
     ]
    },
    {
     "name": "stderr",
     "output_type": "stream",
     "text": [
      "\r",
      "600it [03:38,  1.80it/s]"
     ]
    },
    {
     "name": "stdout",
     "output_type": "stream",
     "text": [
      "Match found!\n"
     ]
    },
    {
     "name": "stderr",
     "output_type": "stream",
     "text": [
      "602it [03:39,  2.38it/s]"
     ]
    },
    {
     "name": "stdout",
     "output_type": "stream",
     "text": [
      "Match found!\n",
      "Match found!\n"
     ]
    },
    {
     "name": "stderr",
     "output_type": "stream",
     "text": [
      "604it [03:39,  3.39it/s]"
     ]
    },
    {
     "name": "stdout",
     "output_type": "stream",
     "text": [
      "Match found!\n",
      "Match found!\n"
     ]
    },
    {
     "name": "stderr",
     "output_type": "stream",
     "text": [
      "\r",
      "606it [03:39,  4.38it/s]"
     ]
    },
    {
     "name": "stdout",
     "output_type": "stream",
     "text": [
      "Match found!\n",
      "Match found!\n"
     ]
    },
    {
     "name": "stderr",
     "output_type": "stream",
     "text": [
      "608it [03:41,  2.67it/s]"
     ]
    },
    {
     "name": "stdout",
     "output_type": "stream",
     "text": [
      "Match found!\n",
      "Match found!\n"
     ]
    },
    {
     "name": "stderr",
     "output_type": "stream",
     "text": [
      "610it [03:42,  1.92it/s]"
     ]
    },
    {
     "name": "stdout",
     "output_type": "stream",
     "text": [
      "Match found!\n",
      "Match found!\n"
     ]
    },
    {
     "name": "stderr",
     "output_type": "stream",
     "text": [
      "\r",
      "611it [03:42,  2.30it/s]"
     ]
    },
    {
     "name": "stdout",
     "output_type": "stream",
     "text": [
      "Match found!\n",
      "Match found!\n",
      "Match found!\n"
     ]
    },
    {
     "name": "stderr",
     "output_type": "stream",
     "text": [
      "615it [03:43,  3.59it/s]"
     ]
    },
    {
     "name": "stdout",
     "output_type": "stream",
     "text": [
      "Match found!\n",
      "Match found!\n"
     ]
    },
    {
     "name": "stderr",
     "output_type": "stream",
     "text": [
      "617it [03:43,  2.76it/s]"
     ]
    },
    {
     "name": "stdout",
     "output_type": "stream",
     "text": [
      "Match found!\n"
     ]
    },
    {
     "name": "stderr",
     "output_type": "stream",
     "text": [
      "\n"
     ]
    }
   ],
   "source": [
    "for i, row in tqdm.tqdm(verif_annots.iterrows()):\n",
    "    \n",
    "    audio_folder = '../../individual_call_analysis/hp_annotation_audio/'\n",
    "    file_path = cca.find_file_in_folder(verif_annots['valid_annotations'][i]+'_hp.WAV', audio_folder)\n",
    "    measurements = split_measure.split_measure_audio(file_path[0],\n",
    "                                  spectrum_smoothing_width=100,\n",
    "                                  inter_peak_difference=1000,\n",
    "                                  peak_range=20)\n",
    "    all_measures.append(measurements)\n",
    "\n"
   ]
  },
  {
   "cell_type": "code",
   "execution_count": 7,
   "metadata": {},
   "outputs": [],
   "source": [
    "all_split_measure = pd.concat(all_measures).reset_index(drop=True)"
   ]
  },
  {
   "cell_type": "code",
   "execution_count": 8,
   "metadata": {},
   "outputs": [
    {
     "data": {
      "text/html": [
       "<div>\n",
       "<style scoped>\n",
       "    .dataframe tbody tr th:only-of-type {\n",
       "        vertical-align: middle;\n",
       "    }\n",
       "\n",
       "    .dataframe tbody tr th {\n",
       "        vertical-align: top;\n",
       "    }\n",
       "\n",
       "    .dataframe thead th {\n",
       "        text-align: right;\n",
       "    }\n",
       "</style>\n",
       "<table border=\"1\" class=\"dataframe\">\n",
       "  <thead>\n",
       "    <tr style=\"text-align: right;\">\n",
       "      <th></th>\n",
       "      <th>value</th>\n",
       "      <th>segment_number</th>\n",
       "      <th>measurement</th>\n",
       "      <th>file_name</th>\n",
       "    </tr>\n",
       "  </thead>\n",
       "  <tbody>\n",
       "    <tr>\n",
       "      <th>0</th>\n",
       "      <td>0.032661</td>\n",
       "      <td>0</td>\n",
       "      <td>rms</td>\n",
       "      <td>matching_annotaudio_Aditya_2018-08-16_21502300...</td>\n",
       "    </tr>\n",
       "    <tr>\n",
       "      <th>1</th>\n",
       "      <td>0.102295</td>\n",
       "      <td>0</td>\n",
       "      <td>peak_amplitude</td>\n",
       "      <td>matching_annotaudio_Aditya_2018-08-16_21502300...</td>\n",
       "    </tr>\n",
       "    <tr>\n",
       "      <th>2</th>\n",
       "      <td>104420.000000</td>\n",
       "      <td>0</td>\n",
       "      <td>minus_XdB_frequency</td>\n",
       "      <td>matching_annotaudio_Aditya_2018-08-16_21502300...</td>\n",
       "    </tr>\n",
       "    <tr>\n",
       "      <th>3</th>\n",
       "      <td>104700.000000</td>\n",
       "      <td>0</td>\n",
       "      <td>dominant_frequencies</td>\n",
       "      <td>matching_annotaudio_Aditya_2018-08-16_21502300...</td>\n",
       "    </tr>\n",
       "    <tr>\n",
       "      <th>4</th>\n",
       "      <td>0.012252</td>\n",
       "      <td>1</td>\n",
       "      <td>rms</td>\n",
       "      <td>matching_annotaudio_Aditya_2018-08-16_21502300...</td>\n",
       "    </tr>\n",
       "    <tr>\n",
       "      <th>...</th>\n",
       "      <td>...</td>\n",
       "      <td>...</td>\n",
       "      <td>...</td>\n",
       "      <td>...</td>\n",
       "    </tr>\n",
       "    <tr>\n",
       "      <th>331729</th>\n",
       "      <td>92600.000000</td>\n",
       "      <td>12</td>\n",
       "      <td>dominant_frequencies</td>\n",
       "      <td>matching_annotaudio_Aditya_2018-08-20_0300-040...</td>\n",
       "    </tr>\n",
       "    <tr>\n",
       "      <th>331730</th>\n",
       "      <td>100680.000000</td>\n",
       "      <td>12</td>\n",
       "      <td>dominant_frequencies</td>\n",
       "      <td>matching_annotaudio_Aditya_2018-08-20_0300-040...</td>\n",
       "    </tr>\n",
       "    <tr>\n",
       "      <th>331731</th>\n",
       "      <td>103600.000000</td>\n",
       "      <td>12</td>\n",
       "      <td>dominant_frequencies</td>\n",
       "      <td>matching_annotaudio_Aditya_2018-08-20_0300-040...</td>\n",
       "    </tr>\n",
       "    <tr>\n",
       "      <th>331732</th>\n",
       "      <td>105100.000000</td>\n",
       "      <td>12</td>\n",
       "      <td>dominant_frequencies</td>\n",
       "      <td>matching_annotaudio_Aditya_2018-08-20_0300-040...</td>\n",
       "    </tr>\n",
       "    <tr>\n",
       "      <th>331733</th>\n",
       "      <td>106780.000000</td>\n",
       "      <td>12</td>\n",
       "      <td>dominant_frequencies</td>\n",
       "      <td>matching_annotaudio_Aditya_2018-08-20_0300-040...</td>\n",
       "    </tr>\n",
       "  </tbody>\n",
       "</table>\n",
       "<p>331734 rows × 4 columns</p>\n",
       "</div>"
      ],
      "text/plain": [
       "                value  segment_number           measurement  \\\n",
       "0            0.032661               0                   rms   \n",
       "1            0.102295               0        peak_amplitude   \n",
       "2       104420.000000               0   minus_XdB_frequency   \n",
       "3       104700.000000               0  dominant_frequencies   \n",
       "4            0.012252               1                   rms   \n",
       "...               ...             ...                   ...   \n",
       "331729   92600.000000              12  dominant_frequencies   \n",
       "331730  100680.000000              12  dominant_frequencies   \n",
       "331731  103600.000000              12  dominant_frequencies   \n",
       "331732  105100.000000              12  dominant_frequencies   \n",
       "331733  106780.000000              12  dominant_frequencies   \n",
       "\n",
       "                                                file_name  \n",
       "0       matching_annotaudio_Aditya_2018-08-16_21502300...  \n",
       "1       matching_annotaudio_Aditya_2018-08-16_21502300...  \n",
       "2       matching_annotaudio_Aditya_2018-08-16_21502300...  \n",
       "3       matching_annotaudio_Aditya_2018-08-16_21502300...  \n",
       "4       matching_annotaudio_Aditya_2018-08-16_21502300...  \n",
       "...                                                   ...  \n",
       "331729  matching_annotaudio_Aditya_2018-08-20_0300-040...  \n",
       "331730  matching_annotaudio_Aditya_2018-08-20_0300-040...  \n",
       "331731  matching_annotaudio_Aditya_2018-08-20_0300-040...  \n",
       "331732  matching_annotaudio_Aditya_2018-08-20_0300-040...  \n",
       "331733  matching_annotaudio_Aditya_2018-08-20_0300-040...  \n",
       "\n",
       "[331734 rows x 4 columns]"
      ]
     },
     "execution_count": 8,
     "metadata": {},
     "output_type": "execute_result"
    }
   ],
   "source": [
    "all_split_measure"
   ]
  },
  {
   "cell_type": "code",
   "execution_count": 9,
   "metadata": {},
   "outputs": [],
   "source": [
    "all_split_measure['unique_window_id'] = all_split_measure['segment_number'].astype(str) +'_'+all_split_measure['file_name'] "
   ]
  },
  {
   "cell_type": "code",
   "execution_count": 10,
   "metadata": {},
   "outputs": [
    {
     "data": {
      "text/html": [
       "<div>\n",
       "<style scoped>\n",
       "    .dataframe tbody tr th:only-of-type {\n",
       "        vertical-align: middle;\n",
       "    }\n",
       "\n",
       "    .dataframe tbody tr th {\n",
       "        vertical-align: top;\n",
       "    }\n",
       "\n",
       "    .dataframe thead th {\n",
       "        text-align: right;\n",
       "    }\n",
       "</style>\n",
       "<table border=\"1\" class=\"dataframe\">\n",
       "  <thead>\n",
       "    <tr style=\"text-align: right;\">\n",
       "      <th></th>\n",
       "      <th>value</th>\n",
       "      <th>segment_number</th>\n",
       "      <th>measurement</th>\n",
       "      <th>file_name</th>\n",
       "      <th>unique_window_id</th>\n",
       "    </tr>\n",
       "  </thead>\n",
       "  <tbody>\n",
       "    <tr>\n",
       "      <th>0</th>\n",
       "      <td>0.032661</td>\n",
       "      <td>0</td>\n",
       "      <td>rms</td>\n",
       "      <td>matching_annotaudio_Aditya_2018-08-16_21502300...</td>\n",
       "      <td>0_matching_annotaudio_Aditya_2018-08-16_215023...</td>\n",
       "    </tr>\n",
       "    <tr>\n",
       "      <th>1</th>\n",
       "      <td>0.102295</td>\n",
       "      <td>0</td>\n",
       "      <td>peak_amplitude</td>\n",
       "      <td>matching_annotaudio_Aditya_2018-08-16_21502300...</td>\n",
       "      <td>0_matching_annotaudio_Aditya_2018-08-16_215023...</td>\n",
       "    </tr>\n",
       "    <tr>\n",
       "      <th>2</th>\n",
       "      <td>104420.000000</td>\n",
       "      <td>0</td>\n",
       "      <td>minus_XdB_frequency</td>\n",
       "      <td>matching_annotaudio_Aditya_2018-08-16_21502300...</td>\n",
       "      <td>0_matching_annotaudio_Aditya_2018-08-16_215023...</td>\n",
       "    </tr>\n",
       "    <tr>\n",
       "      <th>3</th>\n",
       "      <td>104700.000000</td>\n",
       "      <td>0</td>\n",
       "      <td>dominant_frequencies</td>\n",
       "      <td>matching_annotaudio_Aditya_2018-08-16_21502300...</td>\n",
       "      <td>0_matching_annotaudio_Aditya_2018-08-16_215023...</td>\n",
       "    </tr>\n",
       "    <tr>\n",
       "      <th>4</th>\n",
       "      <td>0.012252</td>\n",
       "      <td>1</td>\n",
       "      <td>rms</td>\n",
       "      <td>matching_annotaudio_Aditya_2018-08-16_21502300...</td>\n",
       "      <td>1_matching_annotaudio_Aditya_2018-08-16_215023...</td>\n",
       "    </tr>\n",
       "    <tr>\n",
       "      <th>...</th>\n",
       "      <td>...</td>\n",
       "      <td>...</td>\n",
       "      <td>...</td>\n",
       "      <td>...</td>\n",
       "      <td>...</td>\n",
       "    </tr>\n",
       "    <tr>\n",
       "      <th>331729</th>\n",
       "      <td>92600.000000</td>\n",
       "      <td>12</td>\n",
       "      <td>dominant_frequencies</td>\n",
       "      <td>matching_annotaudio_Aditya_2018-08-20_0300-040...</td>\n",
       "      <td>12_matching_annotaudio_Aditya_2018-08-20_0300-...</td>\n",
       "    </tr>\n",
       "    <tr>\n",
       "      <th>331730</th>\n",
       "      <td>100680.000000</td>\n",
       "      <td>12</td>\n",
       "      <td>dominant_frequencies</td>\n",
       "      <td>matching_annotaudio_Aditya_2018-08-20_0300-040...</td>\n",
       "      <td>12_matching_annotaudio_Aditya_2018-08-20_0300-...</td>\n",
       "    </tr>\n",
       "    <tr>\n",
       "      <th>331731</th>\n",
       "      <td>103600.000000</td>\n",
       "      <td>12</td>\n",
       "      <td>dominant_frequencies</td>\n",
       "      <td>matching_annotaudio_Aditya_2018-08-20_0300-040...</td>\n",
       "      <td>12_matching_annotaudio_Aditya_2018-08-20_0300-...</td>\n",
       "    </tr>\n",
       "    <tr>\n",
       "      <th>331732</th>\n",
       "      <td>105100.000000</td>\n",
       "      <td>12</td>\n",
       "      <td>dominant_frequencies</td>\n",
       "      <td>matching_annotaudio_Aditya_2018-08-20_0300-040...</td>\n",
       "      <td>12_matching_annotaudio_Aditya_2018-08-20_0300-...</td>\n",
       "    </tr>\n",
       "    <tr>\n",
       "      <th>331733</th>\n",
       "      <td>106780.000000</td>\n",
       "      <td>12</td>\n",
       "      <td>dominant_frequencies</td>\n",
       "      <td>matching_annotaudio_Aditya_2018-08-20_0300-040...</td>\n",
       "      <td>12_matching_annotaudio_Aditya_2018-08-20_0300-...</td>\n",
       "    </tr>\n",
       "  </tbody>\n",
       "</table>\n",
       "<p>331734 rows × 5 columns</p>\n",
       "</div>"
      ],
      "text/plain": [
       "                value  segment_number           measurement  \\\n",
       "0            0.032661               0                   rms   \n",
       "1            0.102295               0        peak_amplitude   \n",
       "2       104420.000000               0   minus_XdB_frequency   \n",
       "3       104700.000000               0  dominant_frequencies   \n",
       "4            0.012252               1                   rms   \n",
       "...               ...             ...                   ...   \n",
       "331729   92600.000000              12  dominant_frequencies   \n",
       "331730  100680.000000              12  dominant_frequencies   \n",
       "331731  103600.000000              12  dominant_frequencies   \n",
       "331732  105100.000000              12  dominant_frequencies   \n",
       "331733  106780.000000              12  dominant_frequencies   \n",
       "\n",
       "                                                file_name  \\\n",
       "0       matching_annotaudio_Aditya_2018-08-16_21502300...   \n",
       "1       matching_annotaudio_Aditya_2018-08-16_21502300...   \n",
       "2       matching_annotaudio_Aditya_2018-08-16_21502300...   \n",
       "3       matching_annotaudio_Aditya_2018-08-16_21502300...   \n",
       "4       matching_annotaudio_Aditya_2018-08-16_21502300...   \n",
       "...                                                   ...   \n",
       "331729  matching_annotaudio_Aditya_2018-08-20_0300-040...   \n",
       "331730  matching_annotaudio_Aditya_2018-08-20_0300-040...   \n",
       "331731  matching_annotaudio_Aditya_2018-08-20_0300-040...   \n",
       "331732  matching_annotaudio_Aditya_2018-08-20_0300-040...   \n",
       "331733  matching_annotaudio_Aditya_2018-08-20_0300-040...   \n",
       "\n",
       "                                         unique_window_id  \n",
       "0       0_matching_annotaudio_Aditya_2018-08-16_215023...  \n",
       "1       0_matching_annotaudio_Aditya_2018-08-16_215023...  \n",
       "2       0_matching_annotaudio_Aditya_2018-08-16_215023...  \n",
       "3       0_matching_annotaudio_Aditya_2018-08-16_215023...  \n",
       "4       1_matching_annotaudio_Aditya_2018-08-16_215023...  \n",
       "...                                                   ...  \n",
       "331729  12_matching_annotaudio_Aditya_2018-08-20_0300-...  \n",
       "331730  12_matching_annotaudio_Aditya_2018-08-20_0300-...  \n",
       "331731  12_matching_annotaudio_Aditya_2018-08-20_0300-...  \n",
       "331732  12_matching_annotaudio_Aditya_2018-08-20_0300-...  \n",
       "331733  12_matching_annotaudio_Aditya_2018-08-20_0300-...  \n",
       "\n",
       "[331734 rows x 5 columns]"
      ]
     },
     "execution_count": 10,
     "metadata": {},
     "output_type": "execute_result"
    }
   ],
   "source": [
    "all_split_measure"
   ]
  },
  {
   "cell_type": "code",
   "execution_count": 11,
   "metadata": {},
   "outputs": [
    {
     "data": {
      "application/javascript": [
       "/* Put everything inside the global mpl namespace */\n",
       "window.mpl = {};\n",
       "\n",
       "\n",
       "mpl.get_websocket_type = function() {\n",
       "    if (typeof(WebSocket) !== 'undefined') {\n",
       "        return WebSocket;\n",
       "    } else if (typeof(MozWebSocket) !== 'undefined') {\n",
       "        return MozWebSocket;\n",
       "    } else {\n",
       "        alert('Your browser does not have WebSocket support. ' +\n",
       "              'Please try Chrome, Safari or Firefox ≥ 6. ' +\n",
       "              'Firefox 4 and 5 are also supported but you ' +\n",
       "              'have to enable WebSockets in about:config.');\n",
       "    };\n",
       "}\n",
       "\n",
       "mpl.figure = function(figure_id, websocket, ondownload, parent_element) {\n",
       "    this.id = figure_id;\n",
       "\n",
       "    this.ws = websocket;\n",
       "\n",
       "    this.supports_binary = (this.ws.binaryType != undefined);\n",
       "\n",
       "    if (!this.supports_binary) {\n",
       "        var warnings = document.getElementById(\"mpl-warnings\");\n",
       "        if (warnings) {\n",
       "            warnings.style.display = 'block';\n",
       "            warnings.textContent = (\n",
       "                \"This browser does not support binary websocket messages. \" +\n",
       "                    \"Performance may be slow.\");\n",
       "        }\n",
       "    }\n",
       "\n",
       "    this.imageObj = new Image();\n",
       "\n",
       "    this.context = undefined;\n",
       "    this.message = undefined;\n",
       "    this.canvas = undefined;\n",
       "    this.rubberband_canvas = undefined;\n",
       "    this.rubberband_context = undefined;\n",
       "    this.format_dropdown = undefined;\n",
       "\n",
       "    this.image_mode = 'full';\n",
       "\n",
       "    this.root = $('<div/>');\n",
       "    this._root_extra_style(this.root)\n",
       "    this.root.attr('style', 'display: inline-block');\n",
       "\n",
       "    $(parent_element).append(this.root);\n",
       "\n",
       "    this._init_header(this);\n",
       "    this._init_canvas(this);\n",
       "    this._init_toolbar(this);\n",
       "\n",
       "    var fig = this;\n",
       "\n",
       "    this.waiting = false;\n",
       "\n",
       "    this.ws.onopen =  function () {\n",
       "            fig.send_message(\"supports_binary\", {value: fig.supports_binary});\n",
       "            fig.send_message(\"send_image_mode\", {});\n",
       "            if (mpl.ratio != 1) {\n",
       "                fig.send_message(\"set_dpi_ratio\", {'dpi_ratio': mpl.ratio});\n",
       "            }\n",
       "            fig.send_message(\"refresh\", {});\n",
       "        }\n",
       "\n",
       "    this.imageObj.onload = function() {\n",
       "            if (fig.image_mode == 'full') {\n",
       "                // Full images could contain transparency (where diff images\n",
       "                // almost always do), so we need to clear the canvas so that\n",
       "                // there is no ghosting.\n",
       "                fig.context.clearRect(0, 0, fig.canvas.width, fig.canvas.height);\n",
       "            }\n",
       "            fig.context.drawImage(fig.imageObj, 0, 0);\n",
       "        };\n",
       "\n",
       "    this.imageObj.onunload = function() {\n",
       "        fig.ws.close();\n",
       "    }\n",
       "\n",
       "    this.ws.onmessage = this._make_on_message_function(this);\n",
       "\n",
       "    this.ondownload = ondownload;\n",
       "}\n",
       "\n",
       "mpl.figure.prototype._init_header = function() {\n",
       "    var titlebar = $(\n",
       "        '<div class=\"ui-dialog-titlebar ui-widget-header ui-corner-all ' +\n",
       "        'ui-helper-clearfix\"/>');\n",
       "    var titletext = $(\n",
       "        '<div class=\"ui-dialog-title\" style=\"width: 100%; ' +\n",
       "        'text-align: center; padding: 3px;\"/>');\n",
       "    titlebar.append(titletext)\n",
       "    this.root.append(titlebar);\n",
       "    this.header = titletext[0];\n",
       "}\n",
       "\n",
       "\n",
       "\n",
       "mpl.figure.prototype._canvas_extra_style = function(canvas_div) {\n",
       "\n",
       "}\n",
       "\n",
       "\n",
       "mpl.figure.prototype._root_extra_style = function(canvas_div) {\n",
       "\n",
       "}\n",
       "\n",
       "mpl.figure.prototype._init_canvas = function() {\n",
       "    var fig = this;\n",
       "\n",
       "    var canvas_div = $('<div/>');\n",
       "\n",
       "    canvas_div.attr('style', 'position: relative; clear: both; outline: 0');\n",
       "\n",
       "    function canvas_keyboard_event(event) {\n",
       "        return fig.key_event(event, event['data']);\n",
       "    }\n",
       "\n",
       "    canvas_div.keydown('key_press', canvas_keyboard_event);\n",
       "    canvas_div.keyup('key_release', canvas_keyboard_event);\n",
       "    this.canvas_div = canvas_div\n",
       "    this._canvas_extra_style(canvas_div)\n",
       "    this.root.append(canvas_div);\n",
       "\n",
       "    var canvas = $('<canvas/>');\n",
       "    canvas.addClass('mpl-canvas');\n",
       "    canvas.attr('style', \"left: 0; top: 0; z-index: 0; outline: 0\")\n",
       "\n",
       "    this.canvas = canvas[0];\n",
       "    this.context = canvas[0].getContext(\"2d\");\n",
       "\n",
       "    var backingStore = this.context.backingStorePixelRatio ||\n",
       "\tthis.context.webkitBackingStorePixelRatio ||\n",
       "\tthis.context.mozBackingStorePixelRatio ||\n",
       "\tthis.context.msBackingStorePixelRatio ||\n",
       "\tthis.context.oBackingStorePixelRatio ||\n",
       "\tthis.context.backingStorePixelRatio || 1;\n",
       "\n",
       "    mpl.ratio = (window.devicePixelRatio || 1) / backingStore;\n",
       "\n",
       "    var rubberband = $('<canvas/>');\n",
       "    rubberband.attr('style', \"position: absolute; left: 0; top: 0; z-index: 1;\")\n",
       "\n",
       "    var pass_mouse_events = true;\n",
       "\n",
       "    canvas_div.resizable({\n",
       "        start: function(event, ui) {\n",
       "            pass_mouse_events = false;\n",
       "        },\n",
       "        resize: function(event, ui) {\n",
       "            fig.request_resize(ui.size.width, ui.size.height);\n",
       "        },\n",
       "        stop: function(event, ui) {\n",
       "            pass_mouse_events = true;\n",
       "            fig.request_resize(ui.size.width, ui.size.height);\n",
       "        },\n",
       "    });\n",
       "\n",
       "    function mouse_event_fn(event) {\n",
       "        if (pass_mouse_events)\n",
       "            return fig.mouse_event(event, event['data']);\n",
       "    }\n",
       "\n",
       "    rubberband.mousedown('button_press', mouse_event_fn);\n",
       "    rubberband.mouseup('button_release', mouse_event_fn);\n",
       "    // Throttle sequential mouse events to 1 every 20ms.\n",
       "    rubberband.mousemove('motion_notify', mouse_event_fn);\n",
       "\n",
       "    rubberband.mouseenter('figure_enter', mouse_event_fn);\n",
       "    rubberband.mouseleave('figure_leave', mouse_event_fn);\n",
       "\n",
       "    canvas_div.on(\"wheel\", function (event) {\n",
       "        event = event.originalEvent;\n",
       "        event['data'] = 'scroll'\n",
       "        if (event.deltaY < 0) {\n",
       "            event.step = 1;\n",
       "        } else {\n",
       "            event.step = -1;\n",
       "        }\n",
       "        mouse_event_fn(event);\n",
       "    });\n",
       "\n",
       "    canvas_div.append(canvas);\n",
       "    canvas_div.append(rubberband);\n",
       "\n",
       "    this.rubberband = rubberband;\n",
       "    this.rubberband_canvas = rubberband[0];\n",
       "    this.rubberband_context = rubberband[0].getContext(\"2d\");\n",
       "    this.rubberband_context.strokeStyle = \"#000000\";\n",
       "\n",
       "    this._resize_canvas = function(width, height) {\n",
       "        // Keep the size of the canvas, canvas container, and rubber band\n",
       "        // canvas in synch.\n",
       "        canvas_div.css('width', width)\n",
       "        canvas_div.css('height', height)\n",
       "\n",
       "        canvas.attr('width', width * mpl.ratio);\n",
       "        canvas.attr('height', height * mpl.ratio);\n",
       "        canvas.attr('style', 'width: ' + width + 'px; height: ' + height + 'px;');\n",
       "\n",
       "        rubberband.attr('width', width);\n",
       "        rubberband.attr('height', height);\n",
       "    }\n",
       "\n",
       "    // Set the figure to an initial 600x600px, this will subsequently be updated\n",
       "    // upon first draw.\n",
       "    this._resize_canvas(600, 600);\n",
       "\n",
       "    // Disable right mouse context menu.\n",
       "    $(this.rubberband_canvas).bind(\"contextmenu\",function(e){\n",
       "        return false;\n",
       "    });\n",
       "\n",
       "    function set_focus () {\n",
       "        canvas.focus();\n",
       "        canvas_div.focus();\n",
       "    }\n",
       "\n",
       "    window.setTimeout(set_focus, 100);\n",
       "}\n",
       "\n",
       "mpl.figure.prototype._init_toolbar = function() {\n",
       "    var fig = this;\n",
       "\n",
       "    var nav_element = $('<div/>');\n",
       "    nav_element.attr('style', 'width: 100%');\n",
       "    this.root.append(nav_element);\n",
       "\n",
       "    // Define a callback function for later on.\n",
       "    function toolbar_event(event) {\n",
       "        return fig.toolbar_button_onclick(event['data']);\n",
       "    }\n",
       "    function toolbar_mouse_event(event) {\n",
       "        return fig.toolbar_button_onmouseover(event['data']);\n",
       "    }\n",
       "\n",
       "    for(var toolbar_ind in mpl.toolbar_items) {\n",
       "        var name = mpl.toolbar_items[toolbar_ind][0];\n",
       "        var tooltip = mpl.toolbar_items[toolbar_ind][1];\n",
       "        var image = mpl.toolbar_items[toolbar_ind][2];\n",
       "        var method_name = mpl.toolbar_items[toolbar_ind][3];\n",
       "\n",
       "        if (!name) {\n",
       "            // put a spacer in here.\n",
       "            continue;\n",
       "        }\n",
       "        var button = $('<button/>');\n",
       "        button.addClass('ui-button ui-widget ui-state-default ui-corner-all ' +\n",
       "                        'ui-button-icon-only');\n",
       "        button.attr('role', 'button');\n",
       "        button.attr('aria-disabled', 'false');\n",
       "        button.click(method_name, toolbar_event);\n",
       "        button.mouseover(tooltip, toolbar_mouse_event);\n",
       "\n",
       "        var icon_img = $('<span/>');\n",
       "        icon_img.addClass('ui-button-icon-primary ui-icon');\n",
       "        icon_img.addClass(image);\n",
       "        icon_img.addClass('ui-corner-all');\n",
       "\n",
       "        var tooltip_span = $('<span/>');\n",
       "        tooltip_span.addClass('ui-button-text');\n",
       "        tooltip_span.html(tooltip);\n",
       "\n",
       "        button.append(icon_img);\n",
       "        button.append(tooltip_span);\n",
       "\n",
       "        nav_element.append(button);\n",
       "    }\n",
       "\n",
       "    var fmt_picker_span = $('<span/>');\n",
       "\n",
       "    var fmt_picker = $('<select/>');\n",
       "    fmt_picker.addClass('mpl-toolbar-option ui-widget ui-widget-content');\n",
       "    fmt_picker_span.append(fmt_picker);\n",
       "    nav_element.append(fmt_picker_span);\n",
       "    this.format_dropdown = fmt_picker[0];\n",
       "\n",
       "    for (var ind in mpl.extensions) {\n",
       "        var fmt = mpl.extensions[ind];\n",
       "        var option = $(\n",
       "            '<option/>', {selected: fmt === mpl.default_extension}).html(fmt);\n",
       "        fmt_picker.append(option);\n",
       "    }\n",
       "\n",
       "    // Add hover states to the ui-buttons\n",
       "    $( \".ui-button\" ).hover(\n",
       "        function() { $(this).addClass(\"ui-state-hover\");},\n",
       "        function() { $(this).removeClass(\"ui-state-hover\");}\n",
       "    );\n",
       "\n",
       "    var status_bar = $('<span class=\"mpl-message\"/>');\n",
       "    nav_element.append(status_bar);\n",
       "    this.message = status_bar[0];\n",
       "}\n",
       "\n",
       "mpl.figure.prototype.request_resize = function(x_pixels, y_pixels) {\n",
       "    // Request matplotlib to resize the figure. Matplotlib will then trigger a resize in the client,\n",
       "    // which will in turn request a refresh of the image.\n",
       "    this.send_message('resize', {'width': x_pixels, 'height': y_pixels});\n",
       "}\n",
       "\n",
       "mpl.figure.prototype.send_message = function(type, properties) {\n",
       "    properties['type'] = type;\n",
       "    properties['figure_id'] = this.id;\n",
       "    this.ws.send(JSON.stringify(properties));\n",
       "}\n",
       "\n",
       "mpl.figure.prototype.send_draw_message = function() {\n",
       "    if (!this.waiting) {\n",
       "        this.waiting = true;\n",
       "        this.ws.send(JSON.stringify({type: \"draw\", figure_id: this.id}));\n",
       "    }\n",
       "}\n",
       "\n",
       "\n",
       "mpl.figure.prototype.handle_save = function(fig, msg) {\n",
       "    var format_dropdown = fig.format_dropdown;\n",
       "    var format = format_dropdown.options[format_dropdown.selectedIndex].value;\n",
       "    fig.ondownload(fig, format);\n",
       "}\n",
       "\n",
       "\n",
       "mpl.figure.prototype.handle_resize = function(fig, msg) {\n",
       "    var size = msg['size'];\n",
       "    if (size[0] != fig.canvas.width || size[1] != fig.canvas.height) {\n",
       "        fig._resize_canvas(size[0], size[1]);\n",
       "        fig.send_message(\"refresh\", {});\n",
       "    };\n",
       "}\n",
       "\n",
       "mpl.figure.prototype.handle_rubberband = function(fig, msg) {\n",
       "    var x0 = msg['x0'] / mpl.ratio;\n",
       "    var y0 = (fig.canvas.height - msg['y0']) / mpl.ratio;\n",
       "    var x1 = msg['x1'] / mpl.ratio;\n",
       "    var y1 = (fig.canvas.height - msg['y1']) / mpl.ratio;\n",
       "    x0 = Math.floor(x0) + 0.5;\n",
       "    y0 = Math.floor(y0) + 0.5;\n",
       "    x1 = Math.floor(x1) + 0.5;\n",
       "    y1 = Math.floor(y1) + 0.5;\n",
       "    var min_x = Math.min(x0, x1);\n",
       "    var min_y = Math.min(y0, y1);\n",
       "    var width = Math.abs(x1 - x0);\n",
       "    var height = Math.abs(y1 - y0);\n",
       "\n",
       "    fig.rubberband_context.clearRect(\n",
       "        0, 0, fig.canvas.width / mpl.ratio, fig.canvas.height / mpl.ratio);\n",
       "\n",
       "    fig.rubberband_context.strokeRect(min_x, min_y, width, height);\n",
       "}\n",
       "\n",
       "mpl.figure.prototype.handle_figure_label = function(fig, msg) {\n",
       "    // Updates the figure title.\n",
       "    fig.header.textContent = msg['label'];\n",
       "}\n",
       "\n",
       "mpl.figure.prototype.handle_cursor = function(fig, msg) {\n",
       "    var cursor = msg['cursor'];\n",
       "    switch(cursor)\n",
       "    {\n",
       "    case 0:\n",
       "        cursor = 'pointer';\n",
       "        break;\n",
       "    case 1:\n",
       "        cursor = 'default';\n",
       "        break;\n",
       "    case 2:\n",
       "        cursor = 'crosshair';\n",
       "        break;\n",
       "    case 3:\n",
       "        cursor = 'move';\n",
       "        break;\n",
       "    }\n",
       "    fig.rubberband_canvas.style.cursor = cursor;\n",
       "}\n",
       "\n",
       "mpl.figure.prototype.handle_message = function(fig, msg) {\n",
       "    fig.message.textContent = msg['message'];\n",
       "}\n",
       "\n",
       "mpl.figure.prototype.handle_draw = function(fig, msg) {\n",
       "    // Request the server to send over a new figure.\n",
       "    fig.send_draw_message();\n",
       "}\n",
       "\n",
       "mpl.figure.prototype.handle_image_mode = function(fig, msg) {\n",
       "    fig.image_mode = msg['mode'];\n",
       "}\n",
       "\n",
       "mpl.figure.prototype.updated_canvas_event = function() {\n",
       "    // Called whenever the canvas gets updated.\n",
       "    this.send_message(\"ack\", {});\n",
       "}\n",
       "\n",
       "// A function to construct a web socket function for onmessage handling.\n",
       "// Called in the figure constructor.\n",
       "mpl.figure.prototype._make_on_message_function = function(fig) {\n",
       "    return function socket_on_message(evt) {\n",
       "        if (evt.data instanceof Blob) {\n",
       "            /* FIXME: We get \"Resource interpreted as Image but\n",
       "             * transferred with MIME type text/plain:\" errors on\n",
       "             * Chrome.  But how to set the MIME type?  It doesn't seem\n",
       "             * to be part of the websocket stream */\n",
       "            evt.data.type = \"image/png\";\n",
       "\n",
       "            /* Free the memory for the previous frames */\n",
       "            if (fig.imageObj.src) {\n",
       "                (window.URL || window.webkitURL).revokeObjectURL(\n",
       "                    fig.imageObj.src);\n",
       "            }\n",
       "\n",
       "            fig.imageObj.src = (window.URL || window.webkitURL).createObjectURL(\n",
       "                evt.data);\n",
       "            fig.updated_canvas_event();\n",
       "            fig.waiting = false;\n",
       "            return;\n",
       "        }\n",
       "        else if (typeof evt.data === 'string' && evt.data.slice(0, 21) == \"data:image/png;base64\") {\n",
       "            fig.imageObj.src = evt.data;\n",
       "            fig.updated_canvas_event();\n",
       "            fig.waiting = false;\n",
       "            return;\n",
       "        }\n",
       "\n",
       "        var msg = JSON.parse(evt.data);\n",
       "        var msg_type = msg['type'];\n",
       "\n",
       "        // Call the  \"handle_{type}\" callback, which takes\n",
       "        // the figure and JSON message as its only arguments.\n",
       "        try {\n",
       "            var callback = fig[\"handle_\" + msg_type];\n",
       "        } catch (e) {\n",
       "            console.log(\"No handler for the '\" + msg_type + \"' message type: \", msg);\n",
       "            return;\n",
       "        }\n",
       "\n",
       "        if (callback) {\n",
       "            try {\n",
       "                // console.log(\"Handling '\" + msg_type + \"' message: \", msg);\n",
       "                callback(fig, msg);\n",
       "            } catch (e) {\n",
       "                console.log(\"Exception inside the 'handler_\" + msg_type + \"' callback:\", e, e.stack, msg);\n",
       "            }\n",
       "        }\n",
       "    };\n",
       "}\n",
       "\n",
       "// from http://stackoverflow.com/questions/1114465/getting-mouse-location-in-canvas\n",
       "mpl.findpos = function(e) {\n",
       "    //this section is from http://www.quirksmode.org/js/events_properties.html\n",
       "    var targ;\n",
       "    if (!e)\n",
       "        e = window.event;\n",
       "    if (e.target)\n",
       "        targ = e.target;\n",
       "    else if (e.srcElement)\n",
       "        targ = e.srcElement;\n",
       "    if (targ.nodeType == 3) // defeat Safari bug\n",
       "        targ = targ.parentNode;\n",
       "\n",
       "    // jQuery normalizes the pageX and pageY\n",
       "    // pageX,Y are the mouse positions relative to the document\n",
       "    // offset() returns the position of the element relative to the document\n",
       "    var x = e.pageX - $(targ).offset().left;\n",
       "    var y = e.pageY - $(targ).offset().top;\n",
       "\n",
       "    return {\"x\": x, \"y\": y};\n",
       "};\n",
       "\n",
       "/*\n",
       " * return a copy of an object with only non-object keys\n",
       " * we need this to avoid circular references\n",
       " * http://stackoverflow.com/a/24161582/3208463\n",
       " */\n",
       "function simpleKeys (original) {\n",
       "  return Object.keys(original).reduce(function (obj, key) {\n",
       "    if (typeof original[key] !== 'object')\n",
       "        obj[key] = original[key]\n",
       "    return obj;\n",
       "  }, {});\n",
       "}\n",
       "\n",
       "mpl.figure.prototype.mouse_event = function(event, name) {\n",
       "    var canvas_pos = mpl.findpos(event)\n",
       "\n",
       "    if (name === 'button_press')\n",
       "    {\n",
       "        this.canvas.focus();\n",
       "        this.canvas_div.focus();\n",
       "    }\n",
       "\n",
       "    var x = canvas_pos.x * mpl.ratio;\n",
       "    var y = canvas_pos.y * mpl.ratio;\n",
       "\n",
       "    this.send_message(name, {x: x, y: y, button: event.button,\n",
       "                             step: event.step,\n",
       "                             guiEvent: simpleKeys(event)});\n",
       "\n",
       "    /* This prevents the web browser from automatically changing to\n",
       "     * the text insertion cursor when the button is pressed.  We want\n",
       "     * to control all of the cursor setting manually through the\n",
       "     * 'cursor' event from matplotlib */\n",
       "    event.preventDefault();\n",
       "    return false;\n",
       "}\n",
       "\n",
       "mpl.figure.prototype._key_event_extra = function(event, name) {\n",
       "    // Handle any extra behaviour associated with a key event\n",
       "}\n",
       "\n",
       "mpl.figure.prototype.key_event = function(event, name) {\n",
       "\n",
       "    // Prevent repeat events\n",
       "    if (name == 'key_press')\n",
       "    {\n",
       "        if (event.which === this._key)\n",
       "            return;\n",
       "        else\n",
       "            this._key = event.which;\n",
       "    }\n",
       "    if (name == 'key_release')\n",
       "        this._key = null;\n",
       "\n",
       "    var value = '';\n",
       "    if (event.ctrlKey && event.which != 17)\n",
       "        value += \"ctrl+\";\n",
       "    if (event.altKey && event.which != 18)\n",
       "        value += \"alt+\";\n",
       "    if (event.shiftKey && event.which != 16)\n",
       "        value += \"shift+\";\n",
       "\n",
       "    value += 'k';\n",
       "    value += event.which.toString();\n",
       "\n",
       "    this._key_event_extra(event, name);\n",
       "\n",
       "    this.send_message(name, {key: value,\n",
       "                             guiEvent: simpleKeys(event)});\n",
       "    return false;\n",
       "}\n",
       "\n",
       "mpl.figure.prototype.toolbar_button_onclick = function(name) {\n",
       "    if (name == 'download') {\n",
       "        this.handle_save(this, null);\n",
       "    } else {\n",
       "        this.send_message(\"toolbar_button\", {name: name});\n",
       "    }\n",
       "};\n",
       "\n",
       "mpl.figure.prototype.toolbar_button_onmouseover = function(tooltip) {\n",
       "    this.message.textContent = tooltip;\n",
       "};\n",
       "mpl.toolbar_items = [[\"Home\", \"Reset original view\", \"fa fa-home icon-home\", \"home\"], [\"Back\", \"Back to previous view\", \"fa fa-arrow-left icon-arrow-left\", \"back\"], [\"Forward\", \"Forward to next view\", \"fa fa-arrow-right icon-arrow-right\", \"forward\"], [\"\", \"\", \"\", \"\"], [\"Pan\", \"Pan axes with left mouse, zoom with right\", \"fa fa-arrows icon-move\", \"pan\"], [\"Zoom\", \"Zoom to rectangle\", \"fa fa-square-o icon-check-empty\", \"zoom\"], [\"\", \"\", \"\", \"\"], [\"Download\", \"Download plot\", \"fa fa-floppy-o icon-save\", \"download\"]];\n",
       "\n",
       "mpl.extensions = [\"eps\", \"jpeg\", \"pdf\", \"png\", \"ps\", \"raw\", \"svg\", \"tif\"];\n",
       "\n",
       "mpl.default_extension = \"png\";var comm_websocket_adapter = function(comm) {\n",
       "    // Create a \"websocket\"-like object which calls the given IPython comm\n",
       "    // object with the appropriate methods. Currently this is a non binary\n",
       "    // socket, so there is still some room for performance tuning.\n",
       "    var ws = {};\n",
       "\n",
       "    ws.close = function() {\n",
       "        comm.close()\n",
       "    };\n",
       "    ws.send = function(m) {\n",
       "        //console.log('sending', m);\n",
       "        comm.send(m);\n",
       "    };\n",
       "    // Register the callback with on_msg.\n",
       "    comm.on_msg(function(msg) {\n",
       "        //console.log('receiving', msg['content']['data'], msg);\n",
       "        // Pass the mpl event to the overridden (by mpl) onmessage function.\n",
       "        ws.onmessage(msg['content']['data'])\n",
       "    });\n",
       "    return ws;\n",
       "}\n",
       "\n",
       "mpl.mpl_figure_comm = function(comm, msg) {\n",
       "    // This is the function which gets called when the mpl process\n",
       "    // starts-up an IPython Comm through the \"matplotlib\" channel.\n",
       "\n",
       "    var id = msg.content.data.id;\n",
       "    // Get hold of the div created by the display call when the Comm\n",
       "    // socket was opened in Python.\n",
       "    var element = $(\"#\" + id);\n",
       "    var ws_proxy = comm_websocket_adapter(comm)\n",
       "\n",
       "    function ondownload(figure, format) {\n",
       "        window.open(figure.imageObj.src);\n",
       "    }\n",
       "\n",
       "    var fig = new mpl.figure(id, ws_proxy,\n",
       "                           ondownload,\n",
       "                           element.get(0));\n",
       "\n",
       "    // Call onopen now - mpl needs it, as it is assuming we've passed it a real\n",
       "    // web socket which is closed, not our websocket->open comm proxy.\n",
       "    ws_proxy.onopen();\n",
       "\n",
       "    fig.parent_element = element.get(0);\n",
       "    fig.cell_info = mpl.find_output_cell(\"<div id='\" + id + \"'></div>\");\n",
       "    if (!fig.cell_info) {\n",
       "        console.error(\"Failed to find cell for figure\", id, fig);\n",
       "        return;\n",
       "    }\n",
       "\n",
       "    var output_index = fig.cell_info[2]\n",
       "    var cell = fig.cell_info[0];\n",
       "\n",
       "};\n",
       "\n",
       "mpl.figure.prototype.handle_close = function(fig, msg) {\n",
       "    var width = fig.canvas.width/mpl.ratio\n",
       "    fig.root.unbind('remove')\n",
       "\n",
       "    // Update the output cell to use the data from the current canvas.\n",
       "    fig.push_to_output();\n",
       "    var dataURL = fig.canvas.toDataURL();\n",
       "    // Re-enable the keyboard manager in IPython - without this line, in FF,\n",
       "    // the notebook keyboard shortcuts fail.\n",
       "    IPython.keyboard_manager.enable()\n",
       "    $(fig.parent_element).html('<img src=\"' + dataURL + '\" width=\"' + width + '\">');\n",
       "    fig.close_ws(fig, msg);\n",
       "}\n",
       "\n",
       "mpl.figure.prototype.close_ws = function(fig, msg){\n",
       "    fig.send_message('closing', msg);\n",
       "    // fig.ws.close()\n",
       "}\n",
       "\n",
       "mpl.figure.prototype.push_to_output = function(remove_interactive) {\n",
       "    // Turn the data on the canvas into data in the output cell.\n",
       "    var width = this.canvas.width/mpl.ratio\n",
       "    var dataURL = this.canvas.toDataURL();\n",
       "    this.cell_info[1]['text/html'] = '<img src=\"' + dataURL + '\" width=\"' + width + '\">';\n",
       "}\n",
       "\n",
       "mpl.figure.prototype.updated_canvas_event = function() {\n",
       "    // Tell IPython that the notebook contents must change.\n",
       "    IPython.notebook.set_dirty(true);\n",
       "    this.send_message(\"ack\", {});\n",
       "    var fig = this;\n",
       "    // Wait a second, then push the new image to the DOM so\n",
       "    // that it is saved nicely (might be nice to debounce this).\n",
       "    setTimeout(function () { fig.push_to_output() }, 1000);\n",
       "}\n",
       "\n",
       "mpl.figure.prototype._init_toolbar = function() {\n",
       "    var fig = this;\n",
       "\n",
       "    var nav_element = $('<div/>');\n",
       "    nav_element.attr('style', 'width: 100%');\n",
       "    this.root.append(nav_element);\n",
       "\n",
       "    // Define a callback function for later on.\n",
       "    function toolbar_event(event) {\n",
       "        return fig.toolbar_button_onclick(event['data']);\n",
       "    }\n",
       "    function toolbar_mouse_event(event) {\n",
       "        return fig.toolbar_button_onmouseover(event['data']);\n",
       "    }\n",
       "\n",
       "    for(var toolbar_ind in mpl.toolbar_items){\n",
       "        var name = mpl.toolbar_items[toolbar_ind][0];\n",
       "        var tooltip = mpl.toolbar_items[toolbar_ind][1];\n",
       "        var image = mpl.toolbar_items[toolbar_ind][2];\n",
       "        var method_name = mpl.toolbar_items[toolbar_ind][3];\n",
       "\n",
       "        if (!name) { continue; };\n",
       "\n",
       "        var button = $('<button class=\"btn btn-default\" href=\"#\" title=\"' + name + '\"><i class=\"fa ' + image + ' fa-lg\"></i></button>');\n",
       "        button.click(method_name, toolbar_event);\n",
       "        button.mouseover(tooltip, toolbar_mouse_event);\n",
       "        nav_element.append(button);\n",
       "    }\n",
       "\n",
       "    // Add the status bar.\n",
       "    var status_bar = $('<span class=\"mpl-message\" style=\"text-align:right; float: right;\"/>');\n",
       "    nav_element.append(status_bar);\n",
       "    this.message = status_bar[0];\n",
       "\n",
       "    // Add the close button to the window.\n",
       "    var buttongrp = $('<div class=\"btn-group inline pull-right\"></div>');\n",
       "    var button = $('<button class=\"btn btn-mini btn-primary\" href=\"#\" title=\"Stop Interaction\"><i class=\"fa fa-power-off icon-remove icon-large\"></i></button>');\n",
       "    button.click(function (evt) { fig.handle_close(fig, {}); } );\n",
       "    button.mouseover('Stop Interaction', toolbar_mouse_event);\n",
       "    buttongrp.append(button);\n",
       "    var titlebar = this.root.find($('.ui-dialog-titlebar'));\n",
       "    titlebar.prepend(buttongrp);\n",
       "}\n",
       "\n",
       "mpl.figure.prototype._root_extra_style = function(el){\n",
       "    var fig = this\n",
       "    el.on(\"remove\", function(){\n",
       "\tfig.close_ws(fig, {});\n",
       "    });\n",
       "}\n",
       "\n",
       "mpl.figure.prototype._canvas_extra_style = function(el){\n",
       "    // this is important to make the div 'focusable\n",
       "    el.attr('tabindex', 0)\n",
       "    // reach out to IPython and tell the keyboard manager to turn it's self\n",
       "    // off when our div gets focus\n",
       "\n",
       "    // location in version 3\n",
       "    if (IPython.notebook.keyboard_manager) {\n",
       "        IPython.notebook.keyboard_manager.register_events(el);\n",
       "    }\n",
       "    else {\n",
       "        // location in version 2\n",
       "        IPython.keyboard_manager.register_events(el);\n",
       "    }\n",
       "\n",
       "}\n",
       "\n",
       "mpl.figure.prototype._key_event_extra = function(event, name) {\n",
       "    var manager = IPython.notebook.keyboard_manager;\n",
       "    if (!manager)\n",
       "        manager = IPython.keyboard_manager;\n",
       "\n",
       "    // Check for shift+enter\n",
       "    if (event.shiftKey && event.which == 13) {\n",
       "        this.canvas_div.blur();\n",
       "        // select the cell after this one\n",
       "        var index = IPython.notebook.find_cell_index(this.cell_info[0]);\n",
       "        IPython.notebook.select(index + 1);\n",
       "    }\n",
       "}\n",
       "\n",
       "mpl.figure.prototype.handle_save = function(fig, msg) {\n",
       "    fig.ondownload(fig, null);\n",
       "}\n",
       "\n",
       "\n",
       "mpl.find_output_cell = function(html_output) {\n",
       "    // Return the cell and output element which can be found *uniquely* in the notebook.\n",
       "    // Note - this is a bit hacky, but it is done because the \"notebook_saving.Notebook\"\n",
       "    // IPython event is triggered only after the cells have been serialised, which for\n",
       "    // our purposes (turning an active figure into a static one), is too late.\n",
       "    var cells = IPython.notebook.get_cells();\n",
       "    var ncells = cells.length;\n",
       "    for (var i=0; i<ncells; i++) {\n",
       "        var cell = cells[i];\n",
       "        if (cell.cell_type === 'code'){\n",
       "            for (var j=0; j<cell.output_area.outputs.length; j++) {\n",
       "                var data = cell.output_area.outputs[j];\n",
       "                if (data.data) {\n",
       "                    // IPython >= 3 moved mimebundle to data attribute of output\n",
       "                    data = data.data;\n",
       "                }\n",
       "                if (data['text/html'] == html_output) {\n",
       "                    return [cell, data, j];\n",
       "                }\n",
       "            }\n",
       "        }\n",
       "    }\n",
       "}\n",
       "\n",
       "// Register the function which deals with the matplotlib target/channel.\n",
       "// The kernel may be null if the page has been refreshed.\n",
       "if (IPython.notebook.kernel != null) {\n",
       "    IPython.notebook.kernel.comm_manager.register_target('matplotlib', mpl.mpl_figure_comm);\n",
       "}\n"
      ],
      "text/plain": [
       "<IPython.core.display.Javascript object>"
      ]
     },
     "metadata": {},
     "output_type": "display_data"
    },
    {
     "data": {
      "text/html": [
       "<img src=\"data:image/png;base64,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\" width=\"640\">"
      ],
      "text/plain": [
       "<IPython.core.display.HTML object>"
      ]
     },
     "metadata": {},
     "output_type": "display_data"
    },
    {
     "data": {
      "text/plain": [
       "{'whiskers': [<matplotlib.lines.Line2D at 0x7fcf849ca860>,\n",
       "  <matplotlib.lines.Line2D at 0x7fcf849ca828>],\n",
       " 'caps': [<matplotlib.lines.Line2D at 0x7fcf849ca128>,\n",
       "  <matplotlib.lines.Line2D at 0x7fcf84bc20f0>],\n",
       " 'boxes': [<matplotlib.lines.Line2D at 0x7fcf849caef0>],\n",
       " 'medians': [<matplotlib.lines.Line2D at 0x7fcf84bc2080>],\n",
       " 'fliers': [<matplotlib.lines.Line2D at 0x7fcf84bc2240>],\n",
       " 'means': []}"
      ]
     },
     "execution_count": 11,
     "metadata": {},
     "output_type": "execute_result"
    }
   ],
   "source": [
    "rms_values = all_split_measure[all_split_measure['measurement']=='rms']\n",
    "plt.figure()\n",
    "plt.boxplot(dB(rms_values['value']))"
   ]
  },
  {
   "cell_type": "markdown",
   "metadata": {},
   "source": [
    "### Choosing only those above the silence threshold\n",
    "Now all windows above the silence threshold need to be chosen. Previously, in the notebook *what qualifies as a silent audio segment* I'd set the $silence+20$dB threshold. Right now, I'm wondering if that threshold is too high, and that it'd mean losing out on a lot of data. But first let's see how much data is left with +10 and +20 dB thresholds. "
   ]
  },
  {
   "cell_type": "code",
   "execution_count": 12,
   "metadata": {},
   "outputs": [
    {
     "data": {
      "text/html": [
       "<div>\n",
       "<style scoped>\n",
       "    .dataframe tbody tr th:only-of-type {\n",
       "        vertical-align: middle;\n",
       "    }\n",
       "\n",
       "    .dataframe tbody tr th {\n",
       "        vertical-align: top;\n",
       "    }\n",
       "\n",
       "    .dataframe thead th {\n",
       "        text-align: right;\n",
       "    }\n",
       "</style>\n",
       "<table border=\"1\" class=\"dataframe\">\n",
       "  <thead>\n",
       "    <tr style=\"text-align: right;\">\n",
       "      <th></th>\n",
       "      <th>Unnamed: 0</th>\n",
       "      <th>call_dbpeak_threshold</th>\n",
       "      <th>call_dbrms_threshold</th>\n",
       "    </tr>\n",
       "  </thead>\n",
       "  <tbody>\n",
       "    <tr>\n",
       "      <th>0</th>\n",
       "      <td>0</td>\n",
       "      <td>-23.0</td>\n",
       "      <td>-37.0</td>\n",
       "    </tr>\n",
       "  </tbody>\n",
       "</table>\n",
       "</div>"
      ],
      "text/plain": [
       "   Unnamed: 0  call_dbpeak_threshold  call_dbrms_threshold\n",
       "0           0                  -23.0                 -37.0"
      ]
     },
     "execution_count": 12,
     "metadata": {},
     "output_type": "execute_result"
    }
   ],
   "source": [
    "plus20dB_threshold = pd.read_csv('../call_threshold_levels.csv')\n",
    "plus20dB_threshold"
   ]
  },
  {
   "cell_type": "code",
   "execution_count": 13,
   "metadata": {},
   "outputs": [],
   "source": [
    "measurement_df = all_split_measure"
   ]
  },
  {
   "cell_type": "code",
   "execution_count": 14,
   "metadata": {},
   "outputs": [],
   "source": [
    "def choose_all_windows_above_threshold(measurement_df, threshold):\n",
    "    '''\n",
    "    Chooses all windows with rms greater or equal to the given rms threshold\n",
    "    \n",
    "    \n",
    "    Parameters\n",
    "    ----------\n",
    "    measurement_df : pd.DataFrame\n",
    "        A long dataframe with one measurement value per row\n",
    "        Must have the columns 'measurement', 'unique_window_id'\n",
    "        The 'measurement' column must also have some entries with 'rms' in them. \n",
    "    threshold : float>0\n",
    "        The rms threshold to define windows which are not silent. \n",
    "    \n",
    "    Returns \n",
    "    -------\n",
    "    all_above_threshold : pd.DataFrame\n",
    "        The dataframe with all segments across different files that are greater than or equal to the \n",
    "        chosen threshold rms. \n",
    "    '''\n",
    "\n",
    "    rms_values = measurement_df[measurement_df['measurement']=='rms'].reset_index(drop=True)\n",
    "    above_threshold = rms_values[rms_values['value']>=threshold]\n",
    "    windowids_above_threshold = above_threshold['unique_window_id']\n",
    "    all_above_threshold = measurement_df[measurement_df['unique_window_id'].isin(windowids_above_threshold)].reset_index(drop=True)\n",
    "    return all_above_threshold\n"
   ]
  },
  {
   "cell_type": "code",
   "execution_count": 15,
   "metadata": {},
   "outputs": [
    {
     "data": {
      "text/plain": [
       "(0.01412537544622754, 0.0044668359215096305)"
      ]
     },
     "execution_count": 15,
     "metadata": {},
     "output_type": "execute_result"
    }
   ],
   "source": [
    "threshold_20db = float(10**(plus20dB_threshold['call_dbrms_threshold']/20.0))\n",
    "threshold10db  = float(10**((plus20dB_threshold['call_dbrms_threshold']-10)/20.0))\n",
    "threshold_20db, threshold10db"
   ]
  },
  {
   "cell_type": "code",
   "execution_count": 16,
   "metadata": {},
   "outputs": [],
   "source": [
    "non_silent_measures = choose_all_windows_above_threshold(all_split_measure, threshold_20db)"
   ]
  },
  {
   "cell_type": "code",
   "execution_count": 17,
   "metadata": {},
   "outputs": [
    {
     "data": {
      "application/javascript": [
       "/* Put everything inside the global mpl namespace */\n",
       "window.mpl = {};\n",
       "\n",
       "\n",
       "mpl.get_websocket_type = function() {\n",
       "    if (typeof(WebSocket) !== 'undefined') {\n",
       "        return WebSocket;\n",
       "    } else if (typeof(MozWebSocket) !== 'undefined') {\n",
       "        return MozWebSocket;\n",
       "    } else {\n",
       "        alert('Your browser does not have WebSocket support. ' +\n",
       "              'Please try Chrome, Safari or Firefox ≥ 6. ' +\n",
       "              'Firefox 4 and 5 are also supported but you ' +\n",
       "              'have to enable WebSockets in about:config.');\n",
       "    };\n",
       "}\n",
       "\n",
       "mpl.figure = function(figure_id, websocket, ondownload, parent_element) {\n",
       "    this.id = figure_id;\n",
       "\n",
       "    this.ws = websocket;\n",
       "\n",
       "    this.supports_binary = (this.ws.binaryType != undefined);\n",
       "\n",
       "    if (!this.supports_binary) {\n",
       "        var warnings = document.getElementById(\"mpl-warnings\");\n",
       "        if (warnings) {\n",
       "            warnings.style.display = 'block';\n",
       "            warnings.textContent = (\n",
       "                \"This browser does not support binary websocket messages. \" +\n",
       "                    \"Performance may be slow.\");\n",
       "        }\n",
       "    }\n",
       "\n",
       "    this.imageObj = new Image();\n",
       "\n",
       "    this.context = undefined;\n",
       "    this.message = undefined;\n",
       "    this.canvas = undefined;\n",
       "    this.rubberband_canvas = undefined;\n",
       "    this.rubberband_context = undefined;\n",
       "    this.format_dropdown = undefined;\n",
       "\n",
       "    this.image_mode = 'full';\n",
       "\n",
       "    this.root = $('<div/>');\n",
       "    this._root_extra_style(this.root)\n",
       "    this.root.attr('style', 'display: inline-block');\n",
       "\n",
       "    $(parent_element).append(this.root);\n",
       "\n",
       "    this._init_header(this);\n",
       "    this._init_canvas(this);\n",
       "    this._init_toolbar(this);\n",
       "\n",
       "    var fig = this;\n",
       "\n",
       "    this.waiting = false;\n",
       "\n",
       "    this.ws.onopen =  function () {\n",
       "            fig.send_message(\"supports_binary\", {value: fig.supports_binary});\n",
       "            fig.send_message(\"send_image_mode\", {});\n",
       "            if (mpl.ratio != 1) {\n",
       "                fig.send_message(\"set_dpi_ratio\", {'dpi_ratio': mpl.ratio});\n",
       "            }\n",
       "            fig.send_message(\"refresh\", {});\n",
       "        }\n",
       "\n",
       "    this.imageObj.onload = function() {\n",
       "            if (fig.image_mode == 'full') {\n",
       "                // Full images could contain transparency (where diff images\n",
       "                // almost always do), so we need to clear the canvas so that\n",
       "                // there is no ghosting.\n",
       "                fig.context.clearRect(0, 0, fig.canvas.width, fig.canvas.height);\n",
       "            }\n",
       "            fig.context.drawImage(fig.imageObj, 0, 0);\n",
       "        };\n",
       "\n",
       "    this.imageObj.onunload = function() {\n",
       "        fig.ws.close();\n",
       "    }\n",
       "\n",
       "    this.ws.onmessage = this._make_on_message_function(this);\n",
       "\n",
       "    this.ondownload = ondownload;\n",
       "}\n",
       "\n",
       "mpl.figure.prototype._init_header = function() {\n",
       "    var titlebar = $(\n",
       "        '<div class=\"ui-dialog-titlebar ui-widget-header ui-corner-all ' +\n",
       "        'ui-helper-clearfix\"/>');\n",
       "    var titletext = $(\n",
       "        '<div class=\"ui-dialog-title\" style=\"width: 100%; ' +\n",
       "        'text-align: center; padding: 3px;\"/>');\n",
       "    titlebar.append(titletext)\n",
       "    this.root.append(titlebar);\n",
       "    this.header = titletext[0];\n",
       "}\n",
       "\n",
       "\n",
       "\n",
       "mpl.figure.prototype._canvas_extra_style = function(canvas_div) {\n",
       "\n",
       "}\n",
       "\n",
       "\n",
       "mpl.figure.prototype._root_extra_style = function(canvas_div) {\n",
       "\n",
       "}\n",
       "\n",
       "mpl.figure.prototype._init_canvas = function() {\n",
       "    var fig = this;\n",
       "\n",
       "    var canvas_div = $('<div/>');\n",
       "\n",
       "    canvas_div.attr('style', 'position: relative; clear: both; outline: 0');\n",
       "\n",
       "    function canvas_keyboard_event(event) {\n",
       "        return fig.key_event(event, event['data']);\n",
       "    }\n",
       "\n",
       "    canvas_div.keydown('key_press', canvas_keyboard_event);\n",
       "    canvas_div.keyup('key_release', canvas_keyboard_event);\n",
       "    this.canvas_div = canvas_div\n",
       "    this._canvas_extra_style(canvas_div)\n",
       "    this.root.append(canvas_div);\n",
       "\n",
       "    var canvas = $('<canvas/>');\n",
       "    canvas.addClass('mpl-canvas');\n",
       "    canvas.attr('style', \"left: 0; top: 0; z-index: 0; outline: 0\")\n",
       "\n",
       "    this.canvas = canvas[0];\n",
       "    this.context = canvas[0].getContext(\"2d\");\n",
       "\n",
       "    var backingStore = this.context.backingStorePixelRatio ||\n",
       "\tthis.context.webkitBackingStorePixelRatio ||\n",
       "\tthis.context.mozBackingStorePixelRatio ||\n",
       "\tthis.context.msBackingStorePixelRatio ||\n",
       "\tthis.context.oBackingStorePixelRatio ||\n",
       "\tthis.context.backingStorePixelRatio || 1;\n",
       "\n",
       "    mpl.ratio = (window.devicePixelRatio || 1) / backingStore;\n",
       "\n",
       "    var rubberband = $('<canvas/>');\n",
       "    rubberband.attr('style', \"position: absolute; left: 0; top: 0; z-index: 1;\")\n",
       "\n",
       "    var pass_mouse_events = true;\n",
       "\n",
       "    canvas_div.resizable({\n",
       "        start: function(event, ui) {\n",
       "            pass_mouse_events = false;\n",
       "        },\n",
       "        resize: function(event, ui) {\n",
       "            fig.request_resize(ui.size.width, ui.size.height);\n",
       "        },\n",
       "        stop: function(event, ui) {\n",
       "            pass_mouse_events = true;\n",
       "            fig.request_resize(ui.size.width, ui.size.height);\n",
       "        },\n",
       "    });\n",
       "\n",
       "    function mouse_event_fn(event) {\n",
       "        if (pass_mouse_events)\n",
       "            return fig.mouse_event(event, event['data']);\n",
       "    }\n",
       "\n",
       "    rubberband.mousedown('button_press', mouse_event_fn);\n",
       "    rubberband.mouseup('button_release', mouse_event_fn);\n",
       "    // Throttle sequential mouse events to 1 every 20ms.\n",
       "    rubberband.mousemove('motion_notify', mouse_event_fn);\n",
       "\n",
       "    rubberband.mouseenter('figure_enter', mouse_event_fn);\n",
       "    rubberband.mouseleave('figure_leave', mouse_event_fn);\n",
       "\n",
       "    canvas_div.on(\"wheel\", function (event) {\n",
       "        event = event.originalEvent;\n",
       "        event['data'] = 'scroll'\n",
       "        if (event.deltaY < 0) {\n",
       "            event.step = 1;\n",
       "        } else {\n",
       "            event.step = -1;\n",
       "        }\n",
       "        mouse_event_fn(event);\n",
       "    });\n",
       "\n",
       "    canvas_div.append(canvas);\n",
       "    canvas_div.append(rubberband);\n",
       "\n",
       "    this.rubberband = rubberband;\n",
       "    this.rubberband_canvas = rubberband[0];\n",
       "    this.rubberband_context = rubberband[0].getContext(\"2d\");\n",
       "    this.rubberband_context.strokeStyle = \"#000000\";\n",
       "\n",
       "    this._resize_canvas = function(width, height) {\n",
       "        // Keep the size of the canvas, canvas container, and rubber band\n",
       "        // canvas in synch.\n",
       "        canvas_div.css('width', width)\n",
       "        canvas_div.css('height', height)\n",
       "\n",
       "        canvas.attr('width', width * mpl.ratio);\n",
       "        canvas.attr('height', height * mpl.ratio);\n",
       "        canvas.attr('style', 'width: ' + width + 'px; height: ' + height + 'px;');\n",
       "\n",
       "        rubberband.attr('width', width);\n",
       "        rubberband.attr('height', height);\n",
       "    }\n",
       "\n",
       "    // Set the figure to an initial 600x600px, this will subsequently be updated\n",
       "    // upon first draw.\n",
       "    this._resize_canvas(600, 600);\n",
       "\n",
       "    // Disable right mouse context menu.\n",
       "    $(this.rubberband_canvas).bind(\"contextmenu\",function(e){\n",
       "        return false;\n",
       "    });\n",
       "\n",
       "    function set_focus () {\n",
       "        canvas.focus();\n",
       "        canvas_div.focus();\n",
       "    }\n",
       "\n",
       "    window.setTimeout(set_focus, 100);\n",
       "}\n",
       "\n",
       "mpl.figure.prototype._init_toolbar = function() {\n",
       "    var fig = this;\n",
       "\n",
       "    var nav_element = $('<div/>');\n",
       "    nav_element.attr('style', 'width: 100%');\n",
       "    this.root.append(nav_element);\n",
       "\n",
       "    // Define a callback function for later on.\n",
       "    function toolbar_event(event) {\n",
       "        return fig.toolbar_button_onclick(event['data']);\n",
       "    }\n",
       "    function toolbar_mouse_event(event) {\n",
       "        return fig.toolbar_button_onmouseover(event['data']);\n",
       "    }\n",
       "\n",
       "    for(var toolbar_ind in mpl.toolbar_items) {\n",
       "        var name = mpl.toolbar_items[toolbar_ind][0];\n",
       "        var tooltip = mpl.toolbar_items[toolbar_ind][1];\n",
       "        var image = mpl.toolbar_items[toolbar_ind][2];\n",
       "        var method_name = mpl.toolbar_items[toolbar_ind][3];\n",
       "\n",
       "        if (!name) {\n",
       "            // put a spacer in here.\n",
       "            continue;\n",
       "        }\n",
       "        var button = $('<button/>');\n",
       "        button.addClass('ui-button ui-widget ui-state-default ui-corner-all ' +\n",
       "                        'ui-button-icon-only');\n",
       "        button.attr('role', 'button');\n",
       "        button.attr('aria-disabled', 'false');\n",
       "        button.click(method_name, toolbar_event);\n",
       "        button.mouseover(tooltip, toolbar_mouse_event);\n",
       "\n",
       "        var icon_img = $('<span/>');\n",
       "        icon_img.addClass('ui-button-icon-primary ui-icon');\n",
       "        icon_img.addClass(image);\n",
       "        icon_img.addClass('ui-corner-all');\n",
       "\n",
       "        var tooltip_span = $('<span/>');\n",
       "        tooltip_span.addClass('ui-button-text');\n",
       "        tooltip_span.html(tooltip);\n",
       "\n",
       "        button.append(icon_img);\n",
       "        button.append(tooltip_span);\n",
       "\n",
       "        nav_element.append(button);\n",
       "    }\n",
       "\n",
       "    var fmt_picker_span = $('<span/>');\n",
       "\n",
       "    var fmt_picker = $('<select/>');\n",
       "    fmt_picker.addClass('mpl-toolbar-option ui-widget ui-widget-content');\n",
       "    fmt_picker_span.append(fmt_picker);\n",
       "    nav_element.append(fmt_picker_span);\n",
       "    this.format_dropdown = fmt_picker[0];\n",
       "\n",
       "    for (var ind in mpl.extensions) {\n",
       "        var fmt = mpl.extensions[ind];\n",
       "        var option = $(\n",
       "            '<option/>', {selected: fmt === mpl.default_extension}).html(fmt);\n",
       "        fmt_picker.append(option);\n",
       "    }\n",
       "\n",
       "    // Add hover states to the ui-buttons\n",
       "    $( \".ui-button\" ).hover(\n",
       "        function() { $(this).addClass(\"ui-state-hover\");},\n",
       "        function() { $(this).removeClass(\"ui-state-hover\");}\n",
       "    );\n",
       "\n",
       "    var status_bar = $('<span class=\"mpl-message\"/>');\n",
       "    nav_element.append(status_bar);\n",
       "    this.message = status_bar[0];\n",
       "}\n",
       "\n",
       "mpl.figure.prototype.request_resize = function(x_pixels, y_pixels) {\n",
       "    // Request matplotlib to resize the figure. Matplotlib will then trigger a resize in the client,\n",
       "    // which will in turn request a refresh of the image.\n",
       "    this.send_message('resize', {'width': x_pixels, 'height': y_pixels});\n",
       "}\n",
       "\n",
       "mpl.figure.prototype.send_message = function(type, properties) {\n",
       "    properties['type'] = type;\n",
       "    properties['figure_id'] = this.id;\n",
       "    this.ws.send(JSON.stringify(properties));\n",
       "}\n",
       "\n",
       "mpl.figure.prototype.send_draw_message = function() {\n",
       "    if (!this.waiting) {\n",
       "        this.waiting = true;\n",
       "        this.ws.send(JSON.stringify({type: \"draw\", figure_id: this.id}));\n",
       "    }\n",
       "}\n",
       "\n",
       "\n",
       "mpl.figure.prototype.handle_save = function(fig, msg) {\n",
       "    var format_dropdown = fig.format_dropdown;\n",
       "    var format = format_dropdown.options[format_dropdown.selectedIndex].value;\n",
       "    fig.ondownload(fig, format);\n",
       "}\n",
       "\n",
       "\n",
       "mpl.figure.prototype.handle_resize = function(fig, msg) {\n",
       "    var size = msg['size'];\n",
       "    if (size[0] != fig.canvas.width || size[1] != fig.canvas.height) {\n",
       "        fig._resize_canvas(size[0], size[1]);\n",
       "        fig.send_message(\"refresh\", {});\n",
       "    };\n",
       "}\n",
       "\n",
       "mpl.figure.prototype.handle_rubberband = function(fig, msg) {\n",
       "    var x0 = msg['x0'] / mpl.ratio;\n",
       "    var y0 = (fig.canvas.height - msg['y0']) / mpl.ratio;\n",
       "    var x1 = msg['x1'] / mpl.ratio;\n",
       "    var y1 = (fig.canvas.height - msg['y1']) / mpl.ratio;\n",
       "    x0 = Math.floor(x0) + 0.5;\n",
       "    y0 = Math.floor(y0) + 0.5;\n",
       "    x1 = Math.floor(x1) + 0.5;\n",
       "    y1 = Math.floor(y1) + 0.5;\n",
       "    var min_x = Math.min(x0, x1);\n",
       "    var min_y = Math.min(y0, y1);\n",
       "    var width = Math.abs(x1 - x0);\n",
       "    var height = Math.abs(y1 - y0);\n",
       "\n",
       "    fig.rubberband_context.clearRect(\n",
       "        0, 0, fig.canvas.width / mpl.ratio, fig.canvas.height / mpl.ratio);\n",
       "\n",
       "    fig.rubberband_context.strokeRect(min_x, min_y, width, height);\n",
       "}\n",
       "\n",
       "mpl.figure.prototype.handle_figure_label = function(fig, msg) {\n",
       "    // Updates the figure title.\n",
       "    fig.header.textContent = msg['label'];\n",
       "}\n",
       "\n",
       "mpl.figure.prototype.handle_cursor = function(fig, msg) {\n",
       "    var cursor = msg['cursor'];\n",
       "    switch(cursor)\n",
       "    {\n",
       "    case 0:\n",
       "        cursor = 'pointer';\n",
       "        break;\n",
       "    case 1:\n",
       "        cursor = 'default';\n",
       "        break;\n",
       "    case 2:\n",
       "        cursor = 'crosshair';\n",
       "        break;\n",
       "    case 3:\n",
       "        cursor = 'move';\n",
       "        break;\n",
       "    }\n",
       "    fig.rubberband_canvas.style.cursor = cursor;\n",
       "}\n",
       "\n",
       "mpl.figure.prototype.handle_message = function(fig, msg) {\n",
       "    fig.message.textContent = msg['message'];\n",
       "}\n",
       "\n",
       "mpl.figure.prototype.handle_draw = function(fig, msg) {\n",
       "    // Request the server to send over a new figure.\n",
       "    fig.send_draw_message();\n",
       "}\n",
       "\n",
       "mpl.figure.prototype.handle_image_mode = function(fig, msg) {\n",
       "    fig.image_mode = msg['mode'];\n",
       "}\n",
       "\n",
       "mpl.figure.prototype.updated_canvas_event = function() {\n",
       "    // Called whenever the canvas gets updated.\n",
       "    this.send_message(\"ack\", {});\n",
       "}\n",
       "\n",
       "// A function to construct a web socket function for onmessage handling.\n",
       "// Called in the figure constructor.\n",
       "mpl.figure.prototype._make_on_message_function = function(fig) {\n",
       "    return function socket_on_message(evt) {\n",
       "        if (evt.data instanceof Blob) {\n",
       "            /* FIXME: We get \"Resource interpreted as Image but\n",
       "             * transferred with MIME type text/plain:\" errors on\n",
       "             * Chrome.  But how to set the MIME type?  It doesn't seem\n",
       "             * to be part of the websocket stream */\n",
       "            evt.data.type = \"image/png\";\n",
       "\n",
       "            /* Free the memory for the previous frames */\n",
       "            if (fig.imageObj.src) {\n",
       "                (window.URL || window.webkitURL).revokeObjectURL(\n",
       "                    fig.imageObj.src);\n",
       "            }\n",
       "\n",
       "            fig.imageObj.src = (window.URL || window.webkitURL).createObjectURL(\n",
       "                evt.data);\n",
       "            fig.updated_canvas_event();\n",
       "            fig.waiting = false;\n",
       "            return;\n",
       "        }\n",
       "        else if (typeof evt.data === 'string' && evt.data.slice(0, 21) == \"data:image/png;base64\") {\n",
       "            fig.imageObj.src = evt.data;\n",
       "            fig.updated_canvas_event();\n",
       "            fig.waiting = false;\n",
       "            return;\n",
       "        }\n",
       "\n",
       "        var msg = JSON.parse(evt.data);\n",
       "        var msg_type = msg['type'];\n",
       "\n",
       "        // Call the  \"handle_{type}\" callback, which takes\n",
       "        // the figure and JSON message as its only arguments.\n",
       "        try {\n",
       "            var callback = fig[\"handle_\" + msg_type];\n",
       "        } catch (e) {\n",
       "            console.log(\"No handler for the '\" + msg_type + \"' message type: \", msg);\n",
       "            return;\n",
       "        }\n",
       "\n",
       "        if (callback) {\n",
       "            try {\n",
       "                // console.log(\"Handling '\" + msg_type + \"' message: \", msg);\n",
       "                callback(fig, msg);\n",
       "            } catch (e) {\n",
       "                console.log(\"Exception inside the 'handler_\" + msg_type + \"' callback:\", e, e.stack, msg);\n",
       "            }\n",
       "        }\n",
       "    };\n",
       "}\n",
       "\n",
       "// from http://stackoverflow.com/questions/1114465/getting-mouse-location-in-canvas\n",
       "mpl.findpos = function(e) {\n",
       "    //this section is from http://www.quirksmode.org/js/events_properties.html\n",
       "    var targ;\n",
       "    if (!e)\n",
       "        e = window.event;\n",
       "    if (e.target)\n",
       "        targ = e.target;\n",
       "    else if (e.srcElement)\n",
       "        targ = e.srcElement;\n",
       "    if (targ.nodeType == 3) // defeat Safari bug\n",
       "        targ = targ.parentNode;\n",
       "\n",
       "    // jQuery normalizes the pageX and pageY\n",
       "    // pageX,Y are the mouse positions relative to the document\n",
       "    // offset() returns the position of the element relative to the document\n",
       "    var x = e.pageX - $(targ).offset().left;\n",
       "    var y = e.pageY - $(targ).offset().top;\n",
       "\n",
       "    return {\"x\": x, \"y\": y};\n",
       "};\n",
       "\n",
       "/*\n",
       " * return a copy of an object with only non-object keys\n",
       " * we need this to avoid circular references\n",
       " * http://stackoverflow.com/a/24161582/3208463\n",
       " */\n",
       "function simpleKeys (original) {\n",
       "  return Object.keys(original).reduce(function (obj, key) {\n",
       "    if (typeof original[key] !== 'object')\n",
       "        obj[key] = original[key]\n",
       "    return obj;\n",
       "  }, {});\n",
       "}\n",
       "\n",
       "mpl.figure.prototype.mouse_event = function(event, name) {\n",
       "    var canvas_pos = mpl.findpos(event)\n",
       "\n",
       "    if (name === 'button_press')\n",
       "    {\n",
       "        this.canvas.focus();\n",
       "        this.canvas_div.focus();\n",
       "    }\n",
       "\n",
       "    var x = canvas_pos.x * mpl.ratio;\n",
       "    var y = canvas_pos.y * mpl.ratio;\n",
       "\n",
       "    this.send_message(name, {x: x, y: y, button: event.button,\n",
       "                             step: event.step,\n",
       "                             guiEvent: simpleKeys(event)});\n",
       "\n",
       "    /* This prevents the web browser from automatically changing to\n",
       "     * the text insertion cursor when the button is pressed.  We want\n",
       "     * to control all of the cursor setting manually through the\n",
       "     * 'cursor' event from matplotlib */\n",
       "    event.preventDefault();\n",
       "    return false;\n",
       "}\n",
       "\n",
       "mpl.figure.prototype._key_event_extra = function(event, name) {\n",
       "    // Handle any extra behaviour associated with a key event\n",
       "}\n",
       "\n",
       "mpl.figure.prototype.key_event = function(event, name) {\n",
       "\n",
       "    // Prevent repeat events\n",
       "    if (name == 'key_press')\n",
       "    {\n",
       "        if (event.which === this._key)\n",
       "            return;\n",
       "        else\n",
       "            this._key = event.which;\n",
       "    }\n",
       "    if (name == 'key_release')\n",
       "        this._key = null;\n",
       "\n",
       "    var value = '';\n",
       "    if (event.ctrlKey && event.which != 17)\n",
       "        value += \"ctrl+\";\n",
       "    if (event.altKey && event.which != 18)\n",
       "        value += \"alt+\";\n",
       "    if (event.shiftKey && event.which != 16)\n",
       "        value += \"shift+\";\n",
       "\n",
       "    value += 'k';\n",
       "    value += event.which.toString();\n",
       "\n",
       "    this._key_event_extra(event, name);\n",
       "\n",
       "    this.send_message(name, {key: value,\n",
       "                             guiEvent: simpleKeys(event)});\n",
       "    return false;\n",
       "}\n",
       "\n",
       "mpl.figure.prototype.toolbar_button_onclick = function(name) {\n",
       "    if (name == 'download') {\n",
       "        this.handle_save(this, null);\n",
       "    } else {\n",
       "        this.send_message(\"toolbar_button\", {name: name});\n",
       "    }\n",
       "};\n",
       "\n",
       "mpl.figure.prototype.toolbar_button_onmouseover = function(tooltip) {\n",
       "    this.message.textContent = tooltip;\n",
       "};\n",
       "mpl.toolbar_items = [[\"Home\", \"Reset original view\", \"fa fa-home icon-home\", \"home\"], [\"Back\", \"Back to previous view\", \"fa fa-arrow-left icon-arrow-left\", \"back\"], [\"Forward\", \"Forward to next view\", \"fa fa-arrow-right icon-arrow-right\", \"forward\"], [\"\", \"\", \"\", \"\"], [\"Pan\", \"Pan axes with left mouse, zoom with right\", \"fa fa-arrows icon-move\", \"pan\"], [\"Zoom\", \"Zoom to rectangle\", \"fa fa-square-o icon-check-empty\", \"zoom\"], [\"\", \"\", \"\", \"\"], [\"Download\", \"Download plot\", \"fa fa-floppy-o icon-save\", \"download\"]];\n",
       "\n",
       "mpl.extensions = [\"eps\", \"jpeg\", \"pdf\", \"png\", \"ps\", \"raw\", \"svg\", \"tif\"];\n",
       "\n",
       "mpl.default_extension = \"png\";var comm_websocket_adapter = function(comm) {\n",
       "    // Create a \"websocket\"-like object which calls the given IPython comm\n",
       "    // object with the appropriate methods. Currently this is a non binary\n",
       "    // socket, so there is still some room for performance tuning.\n",
       "    var ws = {};\n",
       "\n",
       "    ws.close = function() {\n",
       "        comm.close()\n",
       "    };\n",
       "    ws.send = function(m) {\n",
       "        //console.log('sending', m);\n",
       "        comm.send(m);\n",
       "    };\n",
       "    // Register the callback with on_msg.\n",
       "    comm.on_msg(function(msg) {\n",
       "        //console.log('receiving', msg['content']['data'], msg);\n",
       "        // Pass the mpl event to the overridden (by mpl) onmessage function.\n",
       "        ws.onmessage(msg['content']['data'])\n",
       "    });\n",
       "    return ws;\n",
       "}\n",
       "\n",
       "mpl.mpl_figure_comm = function(comm, msg) {\n",
       "    // This is the function which gets called when the mpl process\n",
       "    // starts-up an IPython Comm through the \"matplotlib\" channel.\n",
       "\n",
       "    var id = msg.content.data.id;\n",
       "    // Get hold of the div created by the display call when the Comm\n",
       "    // socket was opened in Python.\n",
       "    var element = $(\"#\" + id);\n",
       "    var ws_proxy = comm_websocket_adapter(comm)\n",
       "\n",
       "    function ondownload(figure, format) {\n",
       "        window.open(figure.imageObj.src);\n",
       "    }\n",
       "\n",
       "    var fig = new mpl.figure(id, ws_proxy,\n",
       "                           ondownload,\n",
       "                           element.get(0));\n",
       "\n",
       "    // Call onopen now - mpl needs it, as it is assuming we've passed it a real\n",
       "    // web socket which is closed, not our websocket->open comm proxy.\n",
       "    ws_proxy.onopen();\n",
       "\n",
       "    fig.parent_element = element.get(0);\n",
       "    fig.cell_info = mpl.find_output_cell(\"<div id='\" + id + \"'></div>\");\n",
       "    if (!fig.cell_info) {\n",
       "        console.error(\"Failed to find cell for figure\", id, fig);\n",
       "        return;\n",
       "    }\n",
       "\n",
       "    var output_index = fig.cell_info[2]\n",
       "    var cell = fig.cell_info[0];\n",
       "\n",
       "};\n",
       "\n",
       "mpl.figure.prototype.handle_close = function(fig, msg) {\n",
       "    var width = fig.canvas.width/mpl.ratio\n",
       "    fig.root.unbind('remove')\n",
       "\n",
       "    // Update the output cell to use the data from the current canvas.\n",
       "    fig.push_to_output();\n",
       "    var dataURL = fig.canvas.toDataURL();\n",
       "    // Re-enable the keyboard manager in IPython - without this line, in FF,\n",
       "    // the notebook keyboard shortcuts fail.\n",
       "    IPython.keyboard_manager.enable()\n",
       "    $(fig.parent_element).html('<img src=\"' + dataURL + '\" width=\"' + width + '\">');\n",
       "    fig.close_ws(fig, msg);\n",
       "}\n",
       "\n",
       "mpl.figure.prototype.close_ws = function(fig, msg){\n",
       "    fig.send_message('closing', msg);\n",
       "    // fig.ws.close()\n",
       "}\n",
       "\n",
       "mpl.figure.prototype.push_to_output = function(remove_interactive) {\n",
       "    // Turn the data on the canvas into data in the output cell.\n",
       "    var width = this.canvas.width/mpl.ratio\n",
       "    var dataURL = this.canvas.toDataURL();\n",
       "    this.cell_info[1]['text/html'] = '<img src=\"' + dataURL + '\" width=\"' + width + '\">';\n",
       "}\n",
       "\n",
       "mpl.figure.prototype.updated_canvas_event = function() {\n",
       "    // Tell IPython that the notebook contents must change.\n",
       "    IPython.notebook.set_dirty(true);\n",
       "    this.send_message(\"ack\", {});\n",
       "    var fig = this;\n",
       "    // Wait a second, then push the new image to the DOM so\n",
       "    // that it is saved nicely (might be nice to debounce this).\n",
       "    setTimeout(function () { fig.push_to_output() }, 1000);\n",
       "}\n",
       "\n",
       "mpl.figure.prototype._init_toolbar = function() {\n",
       "    var fig = this;\n",
       "\n",
       "    var nav_element = $('<div/>');\n",
       "    nav_element.attr('style', 'width: 100%');\n",
       "    this.root.append(nav_element);\n",
       "\n",
       "    // Define a callback function for later on.\n",
       "    function toolbar_event(event) {\n",
       "        return fig.toolbar_button_onclick(event['data']);\n",
       "    }\n",
       "    function toolbar_mouse_event(event) {\n",
       "        return fig.toolbar_button_onmouseover(event['data']);\n",
       "    }\n",
       "\n",
       "    for(var toolbar_ind in mpl.toolbar_items){\n",
       "        var name = mpl.toolbar_items[toolbar_ind][0];\n",
       "        var tooltip = mpl.toolbar_items[toolbar_ind][1];\n",
       "        var image = mpl.toolbar_items[toolbar_ind][2];\n",
       "        var method_name = mpl.toolbar_items[toolbar_ind][3];\n",
       "\n",
       "        if (!name) { continue; };\n",
       "\n",
       "        var button = $('<button class=\"btn btn-default\" href=\"#\" title=\"' + name + '\"><i class=\"fa ' + image + ' fa-lg\"></i></button>');\n",
       "        button.click(method_name, toolbar_event);\n",
       "        button.mouseover(tooltip, toolbar_mouse_event);\n",
       "        nav_element.append(button);\n",
       "    }\n",
       "\n",
       "    // Add the status bar.\n",
       "    var status_bar = $('<span class=\"mpl-message\" style=\"text-align:right; float: right;\"/>');\n",
       "    nav_element.append(status_bar);\n",
       "    this.message = status_bar[0];\n",
       "\n",
       "    // Add the close button to the window.\n",
       "    var buttongrp = $('<div class=\"btn-group inline pull-right\"></div>');\n",
       "    var button = $('<button class=\"btn btn-mini btn-primary\" href=\"#\" title=\"Stop Interaction\"><i class=\"fa fa-power-off icon-remove icon-large\"></i></button>');\n",
       "    button.click(function (evt) { fig.handle_close(fig, {}); } );\n",
       "    button.mouseover('Stop Interaction', toolbar_mouse_event);\n",
       "    buttongrp.append(button);\n",
       "    var titlebar = this.root.find($('.ui-dialog-titlebar'));\n",
       "    titlebar.prepend(buttongrp);\n",
       "}\n",
       "\n",
       "mpl.figure.prototype._root_extra_style = function(el){\n",
       "    var fig = this\n",
       "    el.on(\"remove\", function(){\n",
       "\tfig.close_ws(fig, {});\n",
       "    });\n",
       "}\n",
       "\n",
       "mpl.figure.prototype._canvas_extra_style = function(el){\n",
       "    // this is important to make the div 'focusable\n",
       "    el.attr('tabindex', 0)\n",
       "    // reach out to IPython and tell the keyboard manager to turn it's self\n",
       "    // off when our div gets focus\n",
       "\n",
       "    // location in version 3\n",
       "    if (IPython.notebook.keyboard_manager) {\n",
       "        IPython.notebook.keyboard_manager.register_events(el);\n",
       "    }\n",
       "    else {\n",
       "        // location in version 2\n",
       "        IPython.keyboard_manager.register_events(el);\n",
       "    }\n",
       "\n",
       "}\n",
       "\n",
       "mpl.figure.prototype._key_event_extra = function(event, name) {\n",
       "    var manager = IPython.notebook.keyboard_manager;\n",
       "    if (!manager)\n",
       "        manager = IPython.keyboard_manager;\n",
       "\n",
       "    // Check for shift+enter\n",
       "    if (event.shiftKey && event.which == 13) {\n",
       "        this.canvas_div.blur();\n",
       "        // select the cell after this one\n",
       "        var index = IPython.notebook.find_cell_index(this.cell_info[0]);\n",
       "        IPython.notebook.select(index + 1);\n",
       "    }\n",
       "}\n",
       "\n",
       "mpl.figure.prototype.handle_save = function(fig, msg) {\n",
       "    fig.ondownload(fig, null);\n",
       "}\n",
       "\n",
       "\n",
       "mpl.find_output_cell = function(html_output) {\n",
       "    // Return the cell and output element which can be found *uniquely* in the notebook.\n",
       "    // Note - this is a bit hacky, but it is done because the \"notebook_saving.Notebook\"\n",
       "    // IPython event is triggered only after the cells have been serialised, which for\n",
       "    // our purposes (turning an active figure into a static one), is too late.\n",
       "    var cells = IPython.notebook.get_cells();\n",
       "    var ncells = cells.length;\n",
       "    for (var i=0; i<ncells; i++) {\n",
       "        var cell = cells[i];\n",
       "        if (cell.cell_type === 'code'){\n",
       "            for (var j=0; j<cell.output_area.outputs.length; j++) {\n",
       "                var data = cell.output_area.outputs[j];\n",
       "                if (data.data) {\n",
       "                    // IPython >= 3 moved mimebundle to data attribute of output\n",
       "                    data = data.data;\n",
       "                }\n",
       "                if (data['text/html'] == html_output) {\n",
       "                    return [cell, data, j];\n",
       "                }\n",
       "            }\n",
       "        }\n",
       "    }\n",
       "}\n",
       "\n",
       "// Register the function which deals with the matplotlib target/channel.\n",
       "// The kernel may be null if the page has been refreshed.\n",
       "if (IPython.notebook.kernel != null) {\n",
       "    IPython.notebook.kernel.comm_manager.register_target('matplotlib', mpl.mpl_figure_comm);\n",
       "}\n"
      ],
      "text/plain": [
       "<IPython.core.display.Javascript object>"
      ]
     },
     "metadata": {},
     "output_type": "display_data"
    },
    {
     "data": {
      "text/html": [
       "<img src=\"data:image/png;base64,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\" width=\"640\">"
      ],
      "text/plain": [
       "<IPython.core.display.HTML object>"
      ]
     },
     "metadata": {},
     "output_type": "display_data"
    },
    {
     "data": {
      "text/plain": [
       "{'whiskers': [<matplotlib.lines.Line2D at 0x7fcf84c05940>,\n",
       "  <matplotlib.lines.Line2D at 0x7fcf84dea1d0>],\n",
       " 'caps': [<matplotlib.lines.Line2D at 0x7fcf84dea400>,\n",
       "  <matplotlib.lines.Line2D at 0x7fcf84dafcf8>],\n",
       " 'boxes': [<matplotlib.lines.Line2D at 0x7fcf84c05cc0>],\n",
       " 'medians': [<matplotlib.lines.Line2D at 0x7fcf84dafeb8>],\n",
       " 'fliers': [<matplotlib.lines.Line2D at 0x7fcf84ee79b0>],\n",
       " 'means': []}"
      ]
     },
     "execution_count": 17,
     "metadata": {},
     "output_type": "execute_result"
    }
   ],
   "source": [
    "dom_freq = non_silent_measures[non_silent_measures['measurement']=='dominant_frequencies']\n",
    "\n",
    "\n",
    "plt.figure()\n",
    "plt.boxplot(dom_freq['value'])"
   ]
  },
  {
   "cell_type": "code",
   "execution_count": 18,
   "metadata": {},
   "outputs": [
    {
     "data": {
      "application/javascript": [
       "/* Put everything inside the global mpl namespace */\n",
       "window.mpl = {};\n",
       "\n",
       "\n",
       "mpl.get_websocket_type = function() {\n",
       "    if (typeof(WebSocket) !== 'undefined') {\n",
       "        return WebSocket;\n",
       "    } else if (typeof(MozWebSocket) !== 'undefined') {\n",
       "        return MozWebSocket;\n",
       "    } else {\n",
       "        alert('Your browser does not have WebSocket support. ' +\n",
       "              'Please try Chrome, Safari or Firefox ≥ 6. ' +\n",
       "              'Firefox 4 and 5 are also supported but you ' +\n",
       "              'have to enable WebSockets in about:config.');\n",
       "    };\n",
       "}\n",
       "\n",
       "mpl.figure = function(figure_id, websocket, ondownload, parent_element) {\n",
       "    this.id = figure_id;\n",
       "\n",
       "    this.ws = websocket;\n",
       "\n",
       "    this.supports_binary = (this.ws.binaryType != undefined);\n",
       "\n",
       "    if (!this.supports_binary) {\n",
       "        var warnings = document.getElementById(\"mpl-warnings\");\n",
       "        if (warnings) {\n",
       "            warnings.style.display = 'block';\n",
       "            warnings.textContent = (\n",
       "                \"This browser does not support binary websocket messages. \" +\n",
       "                    \"Performance may be slow.\");\n",
       "        }\n",
       "    }\n",
       "\n",
       "    this.imageObj = new Image();\n",
       "\n",
       "    this.context = undefined;\n",
       "    this.message = undefined;\n",
       "    this.canvas = undefined;\n",
       "    this.rubberband_canvas = undefined;\n",
       "    this.rubberband_context = undefined;\n",
       "    this.format_dropdown = undefined;\n",
       "\n",
       "    this.image_mode = 'full';\n",
       "\n",
       "    this.root = $('<div/>');\n",
       "    this._root_extra_style(this.root)\n",
       "    this.root.attr('style', 'display: inline-block');\n",
       "\n",
       "    $(parent_element).append(this.root);\n",
       "\n",
       "    this._init_header(this);\n",
       "    this._init_canvas(this);\n",
       "    this._init_toolbar(this);\n",
       "\n",
       "    var fig = this;\n",
       "\n",
       "    this.waiting = false;\n",
       "\n",
       "    this.ws.onopen =  function () {\n",
       "            fig.send_message(\"supports_binary\", {value: fig.supports_binary});\n",
       "            fig.send_message(\"send_image_mode\", {});\n",
       "            if (mpl.ratio != 1) {\n",
       "                fig.send_message(\"set_dpi_ratio\", {'dpi_ratio': mpl.ratio});\n",
       "            }\n",
       "            fig.send_message(\"refresh\", {});\n",
       "        }\n",
       "\n",
       "    this.imageObj.onload = function() {\n",
       "            if (fig.image_mode == 'full') {\n",
       "                // Full images could contain transparency (where diff images\n",
       "                // almost always do), so we need to clear the canvas so that\n",
       "                // there is no ghosting.\n",
       "                fig.context.clearRect(0, 0, fig.canvas.width, fig.canvas.height);\n",
       "            }\n",
       "            fig.context.drawImage(fig.imageObj, 0, 0);\n",
       "        };\n",
       "\n",
       "    this.imageObj.onunload = function() {\n",
       "        fig.ws.close();\n",
       "    }\n",
       "\n",
       "    this.ws.onmessage = this._make_on_message_function(this);\n",
       "\n",
       "    this.ondownload = ondownload;\n",
       "}\n",
       "\n",
       "mpl.figure.prototype._init_header = function() {\n",
       "    var titlebar = $(\n",
       "        '<div class=\"ui-dialog-titlebar ui-widget-header ui-corner-all ' +\n",
       "        'ui-helper-clearfix\"/>');\n",
       "    var titletext = $(\n",
       "        '<div class=\"ui-dialog-title\" style=\"width: 100%; ' +\n",
       "        'text-align: center; padding: 3px;\"/>');\n",
       "    titlebar.append(titletext)\n",
       "    this.root.append(titlebar);\n",
       "    this.header = titletext[0];\n",
       "}\n",
       "\n",
       "\n",
       "\n",
       "mpl.figure.prototype._canvas_extra_style = function(canvas_div) {\n",
       "\n",
       "}\n",
       "\n",
       "\n",
       "mpl.figure.prototype._root_extra_style = function(canvas_div) {\n",
       "\n",
       "}\n",
       "\n",
       "mpl.figure.prototype._init_canvas = function() {\n",
       "    var fig = this;\n",
       "\n",
       "    var canvas_div = $('<div/>');\n",
       "\n",
       "    canvas_div.attr('style', 'position: relative; clear: both; outline: 0');\n",
       "\n",
       "    function canvas_keyboard_event(event) {\n",
       "        return fig.key_event(event, event['data']);\n",
       "    }\n",
       "\n",
       "    canvas_div.keydown('key_press', canvas_keyboard_event);\n",
       "    canvas_div.keyup('key_release', canvas_keyboard_event);\n",
       "    this.canvas_div = canvas_div\n",
       "    this._canvas_extra_style(canvas_div)\n",
       "    this.root.append(canvas_div);\n",
       "\n",
       "    var canvas = $('<canvas/>');\n",
       "    canvas.addClass('mpl-canvas');\n",
       "    canvas.attr('style', \"left: 0; top: 0; z-index: 0; outline: 0\")\n",
       "\n",
       "    this.canvas = canvas[0];\n",
       "    this.context = canvas[0].getContext(\"2d\");\n",
       "\n",
       "    var backingStore = this.context.backingStorePixelRatio ||\n",
       "\tthis.context.webkitBackingStorePixelRatio ||\n",
       "\tthis.context.mozBackingStorePixelRatio ||\n",
       "\tthis.context.msBackingStorePixelRatio ||\n",
       "\tthis.context.oBackingStorePixelRatio ||\n",
       "\tthis.context.backingStorePixelRatio || 1;\n",
       "\n",
       "    mpl.ratio = (window.devicePixelRatio || 1) / backingStore;\n",
       "\n",
       "    var rubberband = $('<canvas/>');\n",
       "    rubberband.attr('style', \"position: absolute; left: 0; top: 0; z-index: 1;\")\n",
       "\n",
       "    var pass_mouse_events = true;\n",
       "\n",
       "    canvas_div.resizable({\n",
       "        start: function(event, ui) {\n",
       "            pass_mouse_events = false;\n",
       "        },\n",
       "        resize: function(event, ui) {\n",
       "            fig.request_resize(ui.size.width, ui.size.height);\n",
       "        },\n",
       "        stop: function(event, ui) {\n",
       "            pass_mouse_events = true;\n",
       "            fig.request_resize(ui.size.width, ui.size.height);\n",
       "        },\n",
       "    });\n",
       "\n",
       "    function mouse_event_fn(event) {\n",
       "        if (pass_mouse_events)\n",
       "            return fig.mouse_event(event, event['data']);\n",
       "    }\n",
       "\n",
       "    rubberband.mousedown('button_press', mouse_event_fn);\n",
       "    rubberband.mouseup('button_release', mouse_event_fn);\n",
       "    // Throttle sequential mouse events to 1 every 20ms.\n",
       "    rubberband.mousemove('motion_notify', mouse_event_fn);\n",
       "\n",
       "    rubberband.mouseenter('figure_enter', mouse_event_fn);\n",
       "    rubberband.mouseleave('figure_leave', mouse_event_fn);\n",
       "\n",
       "    canvas_div.on(\"wheel\", function (event) {\n",
       "        event = event.originalEvent;\n",
       "        event['data'] = 'scroll'\n",
       "        if (event.deltaY < 0) {\n",
       "            event.step = 1;\n",
       "        } else {\n",
       "            event.step = -1;\n",
       "        }\n",
       "        mouse_event_fn(event);\n",
       "    });\n",
       "\n",
       "    canvas_div.append(canvas);\n",
       "    canvas_div.append(rubberband);\n",
       "\n",
       "    this.rubberband = rubberband;\n",
       "    this.rubberband_canvas = rubberband[0];\n",
       "    this.rubberband_context = rubberband[0].getContext(\"2d\");\n",
       "    this.rubberband_context.strokeStyle = \"#000000\";\n",
       "\n",
       "    this._resize_canvas = function(width, height) {\n",
       "        // Keep the size of the canvas, canvas container, and rubber band\n",
       "        // canvas in synch.\n",
       "        canvas_div.css('width', width)\n",
       "        canvas_div.css('height', height)\n",
       "\n",
       "        canvas.attr('width', width * mpl.ratio);\n",
       "        canvas.attr('height', height * mpl.ratio);\n",
       "        canvas.attr('style', 'width: ' + width + 'px; height: ' + height + 'px;');\n",
       "\n",
       "        rubberband.attr('width', width);\n",
       "        rubberband.attr('height', height);\n",
       "    }\n",
       "\n",
       "    // Set the figure to an initial 600x600px, this will subsequently be updated\n",
       "    // upon first draw.\n",
       "    this._resize_canvas(600, 600);\n",
       "\n",
       "    // Disable right mouse context menu.\n",
       "    $(this.rubberband_canvas).bind(\"contextmenu\",function(e){\n",
       "        return false;\n",
       "    });\n",
       "\n",
       "    function set_focus () {\n",
       "        canvas.focus();\n",
       "        canvas_div.focus();\n",
       "    }\n",
       "\n",
       "    window.setTimeout(set_focus, 100);\n",
       "}\n",
       "\n",
       "mpl.figure.prototype._init_toolbar = function() {\n",
       "    var fig = this;\n",
       "\n",
       "    var nav_element = $('<div/>');\n",
       "    nav_element.attr('style', 'width: 100%');\n",
       "    this.root.append(nav_element);\n",
       "\n",
       "    // Define a callback function for later on.\n",
       "    function toolbar_event(event) {\n",
       "        return fig.toolbar_button_onclick(event['data']);\n",
       "    }\n",
       "    function toolbar_mouse_event(event) {\n",
       "        return fig.toolbar_button_onmouseover(event['data']);\n",
       "    }\n",
       "\n",
       "    for(var toolbar_ind in mpl.toolbar_items) {\n",
       "        var name = mpl.toolbar_items[toolbar_ind][0];\n",
       "        var tooltip = mpl.toolbar_items[toolbar_ind][1];\n",
       "        var image = mpl.toolbar_items[toolbar_ind][2];\n",
       "        var method_name = mpl.toolbar_items[toolbar_ind][3];\n",
       "\n",
       "        if (!name) {\n",
       "            // put a spacer in here.\n",
       "            continue;\n",
       "        }\n",
       "        var button = $('<button/>');\n",
       "        button.addClass('ui-button ui-widget ui-state-default ui-corner-all ' +\n",
       "                        'ui-button-icon-only');\n",
       "        button.attr('role', 'button');\n",
       "        button.attr('aria-disabled', 'false');\n",
       "        button.click(method_name, toolbar_event);\n",
       "        button.mouseover(tooltip, toolbar_mouse_event);\n",
       "\n",
       "        var icon_img = $('<span/>');\n",
       "        icon_img.addClass('ui-button-icon-primary ui-icon');\n",
       "        icon_img.addClass(image);\n",
       "        icon_img.addClass('ui-corner-all');\n",
       "\n",
       "        var tooltip_span = $('<span/>');\n",
       "        tooltip_span.addClass('ui-button-text');\n",
       "        tooltip_span.html(tooltip);\n",
       "\n",
       "        button.append(icon_img);\n",
       "        button.append(tooltip_span);\n",
       "\n",
       "        nav_element.append(button);\n",
       "    }\n",
       "\n",
       "    var fmt_picker_span = $('<span/>');\n",
       "\n",
       "    var fmt_picker = $('<select/>');\n",
       "    fmt_picker.addClass('mpl-toolbar-option ui-widget ui-widget-content');\n",
       "    fmt_picker_span.append(fmt_picker);\n",
       "    nav_element.append(fmt_picker_span);\n",
       "    this.format_dropdown = fmt_picker[0];\n",
       "\n",
       "    for (var ind in mpl.extensions) {\n",
       "        var fmt = mpl.extensions[ind];\n",
       "        var option = $(\n",
       "            '<option/>', {selected: fmt === mpl.default_extension}).html(fmt);\n",
       "        fmt_picker.append(option);\n",
       "    }\n",
       "\n",
       "    // Add hover states to the ui-buttons\n",
       "    $( \".ui-button\" ).hover(\n",
       "        function() { $(this).addClass(\"ui-state-hover\");},\n",
       "        function() { $(this).removeClass(\"ui-state-hover\");}\n",
       "    );\n",
       "\n",
       "    var status_bar = $('<span class=\"mpl-message\"/>');\n",
       "    nav_element.append(status_bar);\n",
       "    this.message = status_bar[0];\n",
       "}\n",
       "\n",
       "mpl.figure.prototype.request_resize = function(x_pixels, y_pixels) {\n",
       "    // Request matplotlib to resize the figure. Matplotlib will then trigger a resize in the client,\n",
       "    // which will in turn request a refresh of the image.\n",
       "    this.send_message('resize', {'width': x_pixels, 'height': y_pixels});\n",
       "}\n",
       "\n",
       "mpl.figure.prototype.send_message = function(type, properties) {\n",
       "    properties['type'] = type;\n",
       "    properties['figure_id'] = this.id;\n",
       "    this.ws.send(JSON.stringify(properties));\n",
       "}\n",
       "\n",
       "mpl.figure.prototype.send_draw_message = function() {\n",
       "    if (!this.waiting) {\n",
       "        this.waiting = true;\n",
       "        this.ws.send(JSON.stringify({type: \"draw\", figure_id: this.id}));\n",
       "    }\n",
       "}\n",
       "\n",
       "\n",
       "mpl.figure.prototype.handle_save = function(fig, msg) {\n",
       "    var format_dropdown = fig.format_dropdown;\n",
       "    var format = format_dropdown.options[format_dropdown.selectedIndex].value;\n",
       "    fig.ondownload(fig, format);\n",
       "}\n",
       "\n",
       "\n",
       "mpl.figure.prototype.handle_resize = function(fig, msg) {\n",
       "    var size = msg['size'];\n",
       "    if (size[0] != fig.canvas.width || size[1] != fig.canvas.height) {\n",
       "        fig._resize_canvas(size[0], size[1]);\n",
       "        fig.send_message(\"refresh\", {});\n",
       "    };\n",
       "}\n",
       "\n",
       "mpl.figure.prototype.handle_rubberband = function(fig, msg) {\n",
       "    var x0 = msg['x0'] / mpl.ratio;\n",
       "    var y0 = (fig.canvas.height - msg['y0']) / mpl.ratio;\n",
       "    var x1 = msg['x1'] / mpl.ratio;\n",
       "    var y1 = (fig.canvas.height - msg['y1']) / mpl.ratio;\n",
       "    x0 = Math.floor(x0) + 0.5;\n",
       "    y0 = Math.floor(y0) + 0.5;\n",
       "    x1 = Math.floor(x1) + 0.5;\n",
       "    y1 = Math.floor(y1) + 0.5;\n",
       "    var min_x = Math.min(x0, x1);\n",
       "    var min_y = Math.min(y0, y1);\n",
       "    var width = Math.abs(x1 - x0);\n",
       "    var height = Math.abs(y1 - y0);\n",
       "\n",
       "    fig.rubberband_context.clearRect(\n",
       "        0, 0, fig.canvas.width / mpl.ratio, fig.canvas.height / mpl.ratio);\n",
       "\n",
       "    fig.rubberband_context.strokeRect(min_x, min_y, width, height);\n",
       "}\n",
       "\n",
       "mpl.figure.prototype.handle_figure_label = function(fig, msg) {\n",
       "    // Updates the figure title.\n",
       "    fig.header.textContent = msg['label'];\n",
       "}\n",
       "\n",
       "mpl.figure.prototype.handle_cursor = function(fig, msg) {\n",
       "    var cursor = msg['cursor'];\n",
       "    switch(cursor)\n",
       "    {\n",
       "    case 0:\n",
       "        cursor = 'pointer';\n",
       "        break;\n",
       "    case 1:\n",
       "        cursor = 'default';\n",
       "        break;\n",
       "    case 2:\n",
       "        cursor = 'crosshair';\n",
       "        break;\n",
       "    case 3:\n",
       "        cursor = 'move';\n",
       "        break;\n",
       "    }\n",
       "    fig.rubberband_canvas.style.cursor = cursor;\n",
       "}\n",
       "\n",
       "mpl.figure.prototype.handle_message = function(fig, msg) {\n",
       "    fig.message.textContent = msg['message'];\n",
       "}\n",
       "\n",
       "mpl.figure.prototype.handle_draw = function(fig, msg) {\n",
       "    // Request the server to send over a new figure.\n",
       "    fig.send_draw_message();\n",
       "}\n",
       "\n",
       "mpl.figure.prototype.handle_image_mode = function(fig, msg) {\n",
       "    fig.image_mode = msg['mode'];\n",
       "}\n",
       "\n",
       "mpl.figure.prototype.updated_canvas_event = function() {\n",
       "    // Called whenever the canvas gets updated.\n",
       "    this.send_message(\"ack\", {});\n",
       "}\n",
       "\n",
       "// A function to construct a web socket function for onmessage handling.\n",
       "// Called in the figure constructor.\n",
       "mpl.figure.prototype._make_on_message_function = function(fig) {\n",
       "    return function socket_on_message(evt) {\n",
       "        if (evt.data instanceof Blob) {\n",
       "            /* FIXME: We get \"Resource interpreted as Image but\n",
       "             * transferred with MIME type text/plain:\" errors on\n",
       "             * Chrome.  But how to set the MIME type?  It doesn't seem\n",
       "             * to be part of the websocket stream */\n",
       "            evt.data.type = \"image/png\";\n",
       "\n",
       "            /* Free the memory for the previous frames */\n",
       "            if (fig.imageObj.src) {\n",
       "                (window.URL || window.webkitURL).revokeObjectURL(\n",
       "                    fig.imageObj.src);\n",
       "            }\n",
       "\n",
       "            fig.imageObj.src = (window.URL || window.webkitURL).createObjectURL(\n",
       "                evt.data);\n",
       "            fig.updated_canvas_event();\n",
       "            fig.waiting = false;\n",
       "            return;\n",
       "        }\n",
       "        else if (typeof evt.data === 'string' && evt.data.slice(0, 21) == \"data:image/png;base64\") {\n",
       "            fig.imageObj.src = evt.data;\n",
       "            fig.updated_canvas_event();\n",
       "            fig.waiting = false;\n",
       "            return;\n",
       "        }\n",
       "\n",
       "        var msg = JSON.parse(evt.data);\n",
       "        var msg_type = msg['type'];\n",
       "\n",
       "        // Call the  \"handle_{type}\" callback, which takes\n",
       "        // the figure and JSON message as its only arguments.\n",
       "        try {\n",
       "            var callback = fig[\"handle_\" + msg_type];\n",
       "        } catch (e) {\n",
       "            console.log(\"No handler for the '\" + msg_type + \"' message type: \", msg);\n",
       "            return;\n",
       "        }\n",
       "\n",
       "        if (callback) {\n",
       "            try {\n",
       "                // console.log(\"Handling '\" + msg_type + \"' message: \", msg);\n",
       "                callback(fig, msg);\n",
       "            } catch (e) {\n",
       "                console.log(\"Exception inside the 'handler_\" + msg_type + \"' callback:\", e, e.stack, msg);\n",
       "            }\n",
       "        }\n",
       "    };\n",
       "}\n",
       "\n",
       "// from http://stackoverflow.com/questions/1114465/getting-mouse-location-in-canvas\n",
       "mpl.findpos = function(e) {\n",
       "    //this section is from http://www.quirksmode.org/js/events_properties.html\n",
       "    var targ;\n",
       "    if (!e)\n",
       "        e = window.event;\n",
       "    if (e.target)\n",
       "        targ = e.target;\n",
       "    else if (e.srcElement)\n",
       "        targ = e.srcElement;\n",
       "    if (targ.nodeType == 3) // defeat Safari bug\n",
       "        targ = targ.parentNode;\n",
       "\n",
       "    // jQuery normalizes the pageX and pageY\n",
       "    // pageX,Y are the mouse positions relative to the document\n",
       "    // offset() returns the position of the element relative to the document\n",
       "    var x = e.pageX - $(targ).offset().left;\n",
       "    var y = e.pageY - $(targ).offset().top;\n",
       "\n",
       "    return {\"x\": x, \"y\": y};\n",
       "};\n",
       "\n",
       "/*\n",
       " * return a copy of an object with only non-object keys\n",
       " * we need this to avoid circular references\n",
       " * http://stackoverflow.com/a/24161582/3208463\n",
       " */\n",
       "function simpleKeys (original) {\n",
       "  return Object.keys(original).reduce(function (obj, key) {\n",
       "    if (typeof original[key] !== 'object')\n",
       "        obj[key] = original[key]\n",
       "    return obj;\n",
       "  }, {});\n",
       "}\n",
       "\n",
       "mpl.figure.prototype.mouse_event = function(event, name) {\n",
       "    var canvas_pos = mpl.findpos(event)\n",
       "\n",
       "    if (name === 'button_press')\n",
       "    {\n",
       "        this.canvas.focus();\n",
       "        this.canvas_div.focus();\n",
       "    }\n",
       "\n",
       "    var x = canvas_pos.x * mpl.ratio;\n",
       "    var y = canvas_pos.y * mpl.ratio;\n",
       "\n",
       "    this.send_message(name, {x: x, y: y, button: event.button,\n",
       "                             step: event.step,\n",
       "                             guiEvent: simpleKeys(event)});\n",
       "\n",
       "    /* This prevents the web browser from automatically changing to\n",
       "     * the text insertion cursor when the button is pressed.  We want\n",
       "     * to control all of the cursor setting manually through the\n",
       "     * 'cursor' event from matplotlib */\n",
       "    event.preventDefault();\n",
       "    return false;\n",
       "}\n",
       "\n",
       "mpl.figure.prototype._key_event_extra = function(event, name) {\n",
       "    // Handle any extra behaviour associated with a key event\n",
       "}\n",
       "\n",
       "mpl.figure.prototype.key_event = function(event, name) {\n",
       "\n",
       "    // Prevent repeat events\n",
       "    if (name == 'key_press')\n",
       "    {\n",
       "        if (event.which === this._key)\n",
       "            return;\n",
       "        else\n",
       "            this._key = event.which;\n",
       "    }\n",
       "    if (name == 'key_release')\n",
       "        this._key = null;\n",
       "\n",
       "    var value = '';\n",
       "    if (event.ctrlKey && event.which != 17)\n",
       "        value += \"ctrl+\";\n",
       "    if (event.altKey && event.which != 18)\n",
       "        value += \"alt+\";\n",
       "    if (event.shiftKey && event.which != 16)\n",
       "        value += \"shift+\";\n",
       "\n",
       "    value += 'k';\n",
       "    value += event.which.toString();\n",
       "\n",
       "    this._key_event_extra(event, name);\n",
       "\n",
       "    this.send_message(name, {key: value,\n",
       "                             guiEvent: simpleKeys(event)});\n",
       "    return false;\n",
       "}\n",
       "\n",
       "mpl.figure.prototype.toolbar_button_onclick = function(name) {\n",
       "    if (name == 'download') {\n",
       "        this.handle_save(this, null);\n",
       "    } else {\n",
       "        this.send_message(\"toolbar_button\", {name: name});\n",
       "    }\n",
       "};\n",
       "\n",
       "mpl.figure.prototype.toolbar_button_onmouseover = function(tooltip) {\n",
       "    this.message.textContent = tooltip;\n",
       "};\n",
       "mpl.toolbar_items = [[\"Home\", \"Reset original view\", \"fa fa-home icon-home\", \"home\"], [\"Back\", \"Back to previous view\", \"fa fa-arrow-left icon-arrow-left\", \"back\"], [\"Forward\", \"Forward to next view\", \"fa fa-arrow-right icon-arrow-right\", \"forward\"], [\"\", \"\", \"\", \"\"], [\"Pan\", \"Pan axes with left mouse, zoom with right\", \"fa fa-arrows icon-move\", \"pan\"], [\"Zoom\", \"Zoom to rectangle\", \"fa fa-square-o icon-check-empty\", \"zoom\"], [\"\", \"\", \"\", \"\"], [\"Download\", \"Download plot\", \"fa fa-floppy-o icon-save\", \"download\"]];\n",
       "\n",
       "mpl.extensions = [\"eps\", \"jpeg\", \"pdf\", \"png\", \"ps\", \"raw\", \"svg\", \"tif\"];\n",
       "\n",
       "mpl.default_extension = \"png\";var comm_websocket_adapter = function(comm) {\n",
       "    // Create a \"websocket\"-like object which calls the given IPython comm\n",
       "    // object with the appropriate methods. Currently this is a non binary\n",
       "    // socket, so there is still some room for performance tuning.\n",
       "    var ws = {};\n",
       "\n",
       "    ws.close = function() {\n",
       "        comm.close()\n",
       "    };\n",
       "    ws.send = function(m) {\n",
       "        //console.log('sending', m);\n",
       "        comm.send(m);\n",
       "    };\n",
       "    // Register the callback with on_msg.\n",
       "    comm.on_msg(function(msg) {\n",
       "        //console.log('receiving', msg['content']['data'], msg);\n",
       "        // Pass the mpl event to the overridden (by mpl) onmessage function.\n",
       "        ws.onmessage(msg['content']['data'])\n",
       "    });\n",
       "    return ws;\n",
       "}\n",
       "\n",
       "mpl.mpl_figure_comm = function(comm, msg) {\n",
       "    // This is the function which gets called when the mpl process\n",
       "    // starts-up an IPython Comm through the \"matplotlib\" channel.\n",
       "\n",
       "    var id = msg.content.data.id;\n",
       "    // Get hold of the div created by the display call when the Comm\n",
       "    // socket was opened in Python.\n",
       "    var element = $(\"#\" + id);\n",
       "    var ws_proxy = comm_websocket_adapter(comm)\n",
       "\n",
       "    function ondownload(figure, format) {\n",
       "        window.open(figure.imageObj.src);\n",
       "    }\n",
       "\n",
       "    var fig = new mpl.figure(id, ws_proxy,\n",
       "                           ondownload,\n",
       "                           element.get(0));\n",
       "\n",
       "    // Call onopen now - mpl needs it, as it is assuming we've passed it a real\n",
       "    // web socket which is closed, not our websocket->open comm proxy.\n",
       "    ws_proxy.onopen();\n",
       "\n",
       "    fig.parent_element = element.get(0);\n",
       "    fig.cell_info = mpl.find_output_cell(\"<div id='\" + id + \"'></div>\");\n",
       "    if (!fig.cell_info) {\n",
       "        console.error(\"Failed to find cell for figure\", id, fig);\n",
       "        return;\n",
       "    }\n",
       "\n",
       "    var output_index = fig.cell_info[2]\n",
       "    var cell = fig.cell_info[0];\n",
       "\n",
       "};\n",
       "\n",
       "mpl.figure.prototype.handle_close = function(fig, msg) {\n",
       "    var width = fig.canvas.width/mpl.ratio\n",
       "    fig.root.unbind('remove')\n",
       "\n",
       "    // Update the output cell to use the data from the current canvas.\n",
       "    fig.push_to_output();\n",
       "    var dataURL = fig.canvas.toDataURL();\n",
       "    // Re-enable the keyboard manager in IPython - without this line, in FF,\n",
       "    // the notebook keyboard shortcuts fail.\n",
       "    IPython.keyboard_manager.enable()\n",
       "    $(fig.parent_element).html('<img src=\"' + dataURL + '\" width=\"' + width + '\">');\n",
       "    fig.close_ws(fig, msg);\n",
       "}\n",
       "\n",
       "mpl.figure.prototype.close_ws = function(fig, msg){\n",
       "    fig.send_message('closing', msg);\n",
       "    // fig.ws.close()\n",
       "}\n",
       "\n",
       "mpl.figure.prototype.push_to_output = function(remove_interactive) {\n",
       "    // Turn the data on the canvas into data in the output cell.\n",
       "    var width = this.canvas.width/mpl.ratio\n",
       "    var dataURL = this.canvas.toDataURL();\n",
       "    this.cell_info[1]['text/html'] = '<img src=\"' + dataURL + '\" width=\"' + width + '\">';\n",
       "}\n",
       "\n",
       "mpl.figure.prototype.updated_canvas_event = function() {\n",
       "    // Tell IPython that the notebook contents must change.\n",
       "    IPython.notebook.set_dirty(true);\n",
       "    this.send_message(\"ack\", {});\n",
       "    var fig = this;\n",
       "    // Wait a second, then push the new image to the DOM so\n",
       "    // that it is saved nicely (might be nice to debounce this).\n",
       "    setTimeout(function () { fig.push_to_output() }, 1000);\n",
       "}\n",
       "\n",
       "mpl.figure.prototype._init_toolbar = function() {\n",
       "    var fig = this;\n",
       "\n",
       "    var nav_element = $('<div/>');\n",
       "    nav_element.attr('style', 'width: 100%');\n",
       "    this.root.append(nav_element);\n",
       "\n",
       "    // Define a callback function for later on.\n",
       "    function toolbar_event(event) {\n",
       "        return fig.toolbar_button_onclick(event['data']);\n",
       "    }\n",
       "    function toolbar_mouse_event(event) {\n",
       "        return fig.toolbar_button_onmouseover(event['data']);\n",
       "    }\n",
       "\n",
       "    for(var toolbar_ind in mpl.toolbar_items){\n",
       "        var name = mpl.toolbar_items[toolbar_ind][0];\n",
       "        var tooltip = mpl.toolbar_items[toolbar_ind][1];\n",
       "        var image = mpl.toolbar_items[toolbar_ind][2];\n",
       "        var method_name = mpl.toolbar_items[toolbar_ind][3];\n",
       "\n",
       "        if (!name) { continue; };\n",
       "\n",
       "        var button = $('<button class=\"btn btn-default\" href=\"#\" title=\"' + name + '\"><i class=\"fa ' + image + ' fa-lg\"></i></button>');\n",
       "        button.click(method_name, toolbar_event);\n",
       "        button.mouseover(tooltip, toolbar_mouse_event);\n",
       "        nav_element.append(button);\n",
       "    }\n",
       "\n",
       "    // Add the status bar.\n",
       "    var status_bar = $('<span class=\"mpl-message\" style=\"text-align:right; float: right;\"/>');\n",
       "    nav_element.append(status_bar);\n",
       "    this.message = status_bar[0];\n",
       "\n",
       "    // Add the close button to the window.\n",
       "    var buttongrp = $('<div class=\"btn-group inline pull-right\"></div>');\n",
       "    var button = $('<button class=\"btn btn-mini btn-primary\" href=\"#\" title=\"Stop Interaction\"><i class=\"fa fa-power-off icon-remove icon-large\"></i></button>');\n",
       "    button.click(function (evt) { fig.handle_close(fig, {}); } );\n",
       "    button.mouseover('Stop Interaction', toolbar_mouse_event);\n",
       "    buttongrp.append(button);\n",
       "    var titlebar = this.root.find($('.ui-dialog-titlebar'));\n",
       "    titlebar.prepend(buttongrp);\n",
       "}\n",
       "\n",
       "mpl.figure.prototype._root_extra_style = function(el){\n",
       "    var fig = this\n",
       "    el.on(\"remove\", function(){\n",
       "\tfig.close_ws(fig, {});\n",
       "    });\n",
       "}\n",
       "\n",
       "mpl.figure.prototype._canvas_extra_style = function(el){\n",
       "    // this is important to make the div 'focusable\n",
       "    el.attr('tabindex', 0)\n",
       "    // reach out to IPython and tell the keyboard manager to turn it's self\n",
       "    // off when our div gets focus\n",
       "\n",
       "    // location in version 3\n",
       "    if (IPython.notebook.keyboard_manager) {\n",
       "        IPython.notebook.keyboard_manager.register_events(el);\n",
       "    }\n",
       "    else {\n",
       "        // location in version 2\n",
       "        IPython.keyboard_manager.register_events(el);\n",
       "    }\n",
       "\n",
       "}\n",
       "\n",
       "mpl.figure.prototype._key_event_extra = function(event, name) {\n",
       "    var manager = IPython.notebook.keyboard_manager;\n",
       "    if (!manager)\n",
       "        manager = IPython.keyboard_manager;\n",
       "\n",
       "    // Check for shift+enter\n",
       "    if (event.shiftKey && event.which == 13) {\n",
       "        this.canvas_div.blur();\n",
       "        // select the cell after this one\n",
       "        var index = IPython.notebook.find_cell_index(this.cell_info[0]);\n",
       "        IPython.notebook.select(index + 1);\n",
       "    }\n",
       "}\n",
       "\n",
       "mpl.figure.prototype.handle_save = function(fig, msg) {\n",
       "    fig.ondownload(fig, null);\n",
       "}\n",
       "\n",
       "\n",
       "mpl.find_output_cell = function(html_output) {\n",
       "    // Return the cell and output element which can be found *uniquely* in the notebook.\n",
       "    // Note - this is a bit hacky, but it is done because the \"notebook_saving.Notebook\"\n",
       "    // IPython event is triggered only after the cells have been serialised, which for\n",
       "    // our purposes (turning an active figure into a static one), is too late.\n",
       "    var cells = IPython.notebook.get_cells();\n",
       "    var ncells = cells.length;\n",
       "    for (var i=0; i<ncells; i++) {\n",
       "        var cell = cells[i];\n",
       "        if (cell.cell_type === 'code'){\n",
       "            for (var j=0; j<cell.output_area.outputs.length; j++) {\n",
       "                var data = cell.output_area.outputs[j];\n",
       "                if (data.data) {\n",
       "                    // IPython >= 3 moved mimebundle to data attribute of output\n",
       "                    data = data.data;\n",
       "                }\n",
       "                if (data['text/html'] == html_output) {\n",
       "                    return [cell, data, j];\n",
       "                }\n",
       "            }\n",
       "        }\n",
       "    }\n",
       "}\n",
       "\n",
       "// Register the function which deals with the matplotlib target/channel.\n",
       "// The kernel may be null if the page has been refreshed.\n",
       "if (IPython.notebook.kernel != null) {\n",
       "    IPython.notebook.kernel.comm_manager.register_target('matplotlib', mpl.mpl_figure_comm);\n",
       "}\n"
      ],
      "text/plain": [
       "<IPython.core.display.Javascript object>"
      ]
     },
     "metadata": {},
     "output_type": "display_data"
    },
    {
     "data": {
      "text/html": [
       "<img src=\"data:image/png;base64,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\" width=\"640\">"
      ],
      "text/plain": [
       "<IPython.core.display.HTML object>"
      ]
     },
     "metadata": {},
     "output_type": "display_data"
    },
    {
     "data": {
      "text/plain": [
       "{'whiskers': [<matplotlib.lines.Line2D at 0x7fcf7f9264e0>,\n",
       "  <matplotlib.lines.Line2D at 0x7fcf7f926898>],\n",
       " 'caps': [<matplotlib.lines.Line2D at 0x7fcf7f926c18>,\n",
       "  <matplotlib.lines.Line2D at 0x7fcf7f926f98>],\n",
       " 'boxes': [<matplotlib.lines.Line2D at 0x7fcf7f9261d0>],\n",
       " 'medians': [<matplotlib.lines.Line2D at 0x7fcf7f92b358>],\n",
       " 'fliers': [<matplotlib.lines.Line2D at 0x7fcf7f92b6d8>],\n",
       " 'means': []}"
      ]
     },
     "execution_count": 18,
     "metadata": {},
     "output_type": "execute_result"
    }
   ],
   "source": [
    "rms_df = non_silent_measures[non_silent_measures['measurement']=='rms']\n",
    "\n",
    "plt.figure()\n",
    "plt.boxplot(dB(rms_df['value']))"
   ]
  },
  {
   "cell_type": "code",
   "execution_count": 19,
   "metadata": {},
   "outputs": [
    {
     "data": {
      "application/javascript": [
       "/* Put everything inside the global mpl namespace */\n",
       "window.mpl = {};\n",
       "\n",
       "\n",
       "mpl.get_websocket_type = function() {\n",
       "    if (typeof(WebSocket) !== 'undefined') {\n",
       "        return WebSocket;\n",
       "    } else if (typeof(MozWebSocket) !== 'undefined') {\n",
       "        return MozWebSocket;\n",
       "    } else {\n",
       "        alert('Your browser does not have WebSocket support. ' +\n",
       "              'Please try Chrome, Safari or Firefox ≥ 6. ' +\n",
       "              'Firefox 4 and 5 are also supported but you ' +\n",
       "              'have to enable WebSockets in about:config.');\n",
       "    };\n",
       "}\n",
       "\n",
       "mpl.figure = function(figure_id, websocket, ondownload, parent_element) {\n",
       "    this.id = figure_id;\n",
       "\n",
       "    this.ws = websocket;\n",
       "\n",
       "    this.supports_binary = (this.ws.binaryType != undefined);\n",
       "\n",
       "    if (!this.supports_binary) {\n",
       "        var warnings = document.getElementById(\"mpl-warnings\");\n",
       "        if (warnings) {\n",
       "            warnings.style.display = 'block';\n",
       "            warnings.textContent = (\n",
       "                \"This browser does not support binary websocket messages. \" +\n",
       "                    \"Performance may be slow.\");\n",
       "        }\n",
       "    }\n",
       "\n",
       "    this.imageObj = new Image();\n",
       "\n",
       "    this.context = undefined;\n",
       "    this.message = undefined;\n",
       "    this.canvas = undefined;\n",
       "    this.rubberband_canvas = undefined;\n",
       "    this.rubberband_context = undefined;\n",
       "    this.format_dropdown = undefined;\n",
       "\n",
       "    this.image_mode = 'full';\n",
       "\n",
       "    this.root = $('<div/>');\n",
       "    this._root_extra_style(this.root)\n",
       "    this.root.attr('style', 'display: inline-block');\n",
       "\n",
       "    $(parent_element).append(this.root);\n",
       "\n",
       "    this._init_header(this);\n",
       "    this._init_canvas(this);\n",
       "    this._init_toolbar(this);\n",
       "\n",
       "    var fig = this;\n",
       "\n",
       "    this.waiting = false;\n",
       "\n",
       "    this.ws.onopen =  function () {\n",
       "            fig.send_message(\"supports_binary\", {value: fig.supports_binary});\n",
       "            fig.send_message(\"send_image_mode\", {});\n",
       "            if (mpl.ratio != 1) {\n",
       "                fig.send_message(\"set_dpi_ratio\", {'dpi_ratio': mpl.ratio});\n",
       "            }\n",
       "            fig.send_message(\"refresh\", {});\n",
       "        }\n",
       "\n",
       "    this.imageObj.onload = function() {\n",
       "            if (fig.image_mode == 'full') {\n",
       "                // Full images could contain transparency (where diff images\n",
       "                // almost always do), so we need to clear the canvas so that\n",
       "                // there is no ghosting.\n",
       "                fig.context.clearRect(0, 0, fig.canvas.width, fig.canvas.height);\n",
       "            }\n",
       "            fig.context.drawImage(fig.imageObj, 0, 0);\n",
       "        };\n",
       "\n",
       "    this.imageObj.onunload = function() {\n",
       "        fig.ws.close();\n",
       "    }\n",
       "\n",
       "    this.ws.onmessage = this._make_on_message_function(this);\n",
       "\n",
       "    this.ondownload = ondownload;\n",
       "}\n",
       "\n",
       "mpl.figure.prototype._init_header = function() {\n",
       "    var titlebar = $(\n",
       "        '<div class=\"ui-dialog-titlebar ui-widget-header ui-corner-all ' +\n",
       "        'ui-helper-clearfix\"/>');\n",
       "    var titletext = $(\n",
       "        '<div class=\"ui-dialog-title\" style=\"width: 100%; ' +\n",
       "        'text-align: center; padding: 3px;\"/>');\n",
       "    titlebar.append(titletext)\n",
       "    this.root.append(titlebar);\n",
       "    this.header = titletext[0];\n",
       "}\n",
       "\n",
       "\n",
       "\n",
       "mpl.figure.prototype._canvas_extra_style = function(canvas_div) {\n",
       "\n",
       "}\n",
       "\n",
       "\n",
       "mpl.figure.prototype._root_extra_style = function(canvas_div) {\n",
       "\n",
       "}\n",
       "\n",
       "mpl.figure.prototype._init_canvas = function() {\n",
       "    var fig = this;\n",
       "\n",
       "    var canvas_div = $('<div/>');\n",
       "\n",
       "    canvas_div.attr('style', 'position: relative; clear: both; outline: 0');\n",
       "\n",
       "    function canvas_keyboard_event(event) {\n",
       "        return fig.key_event(event, event['data']);\n",
       "    }\n",
       "\n",
       "    canvas_div.keydown('key_press', canvas_keyboard_event);\n",
       "    canvas_div.keyup('key_release', canvas_keyboard_event);\n",
       "    this.canvas_div = canvas_div\n",
       "    this._canvas_extra_style(canvas_div)\n",
       "    this.root.append(canvas_div);\n",
       "\n",
       "    var canvas = $('<canvas/>');\n",
       "    canvas.addClass('mpl-canvas');\n",
       "    canvas.attr('style', \"left: 0; top: 0; z-index: 0; outline: 0\")\n",
       "\n",
       "    this.canvas = canvas[0];\n",
       "    this.context = canvas[0].getContext(\"2d\");\n",
       "\n",
       "    var backingStore = this.context.backingStorePixelRatio ||\n",
       "\tthis.context.webkitBackingStorePixelRatio ||\n",
       "\tthis.context.mozBackingStorePixelRatio ||\n",
       "\tthis.context.msBackingStorePixelRatio ||\n",
       "\tthis.context.oBackingStorePixelRatio ||\n",
       "\tthis.context.backingStorePixelRatio || 1;\n",
       "\n",
       "    mpl.ratio = (window.devicePixelRatio || 1) / backingStore;\n",
       "\n",
       "    var rubberband = $('<canvas/>');\n",
       "    rubberband.attr('style', \"position: absolute; left: 0; top: 0; z-index: 1;\")\n",
       "\n",
       "    var pass_mouse_events = true;\n",
       "\n",
       "    canvas_div.resizable({\n",
       "        start: function(event, ui) {\n",
       "            pass_mouse_events = false;\n",
       "        },\n",
       "        resize: function(event, ui) {\n",
       "            fig.request_resize(ui.size.width, ui.size.height);\n",
       "        },\n",
       "        stop: function(event, ui) {\n",
       "            pass_mouse_events = true;\n",
       "            fig.request_resize(ui.size.width, ui.size.height);\n",
       "        },\n",
       "    });\n",
       "\n",
       "    function mouse_event_fn(event) {\n",
       "        if (pass_mouse_events)\n",
       "            return fig.mouse_event(event, event['data']);\n",
       "    }\n",
       "\n",
       "    rubberband.mousedown('button_press', mouse_event_fn);\n",
       "    rubberband.mouseup('button_release', mouse_event_fn);\n",
       "    // Throttle sequential mouse events to 1 every 20ms.\n",
       "    rubberband.mousemove('motion_notify', mouse_event_fn);\n",
       "\n",
       "    rubberband.mouseenter('figure_enter', mouse_event_fn);\n",
       "    rubberband.mouseleave('figure_leave', mouse_event_fn);\n",
       "\n",
       "    canvas_div.on(\"wheel\", function (event) {\n",
       "        event = event.originalEvent;\n",
       "        event['data'] = 'scroll'\n",
       "        if (event.deltaY < 0) {\n",
       "            event.step = 1;\n",
       "        } else {\n",
       "            event.step = -1;\n",
       "        }\n",
       "        mouse_event_fn(event);\n",
       "    });\n",
       "\n",
       "    canvas_div.append(canvas);\n",
       "    canvas_div.append(rubberband);\n",
       "\n",
       "    this.rubberband = rubberband;\n",
       "    this.rubberband_canvas = rubberband[0];\n",
       "    this.rubberband_context = rubberband[0].getContext(\"2d\");\n",
       "    this.rubberband_context.strokeStyle = \"#000000\";\n",
       "\n",
       "    this._resize_canvas = function(width, height) {\n",
       "        // Keep the size of the canvas, canvas container, and rubber band\n",
       "        // canvas in synch.\n",
       "        canvas_div.css('width', width)\n",
       "        canvas_div.css('height', height)\n",
       "\n",
       "        canvas.attr('width', width * mpl.ratio);\n",
       "        canvas.attr('height', height * mpl.ratio);\n",
       "        canvas.attr('style', 'width: ' + width + 'px; height: ' + height + 'px;');\n",
       "\n",
       "        rubberband.attr('width', width);\n",
       "        rubberband.attr('height', height);\n",
       "    }\n",
       "\n",
       "    // Set the figure to an initial 600x600px, this will subsequently be updated\n",
       "    // upon first draw.\n",
       "    this._resize_canvas(600, 600);\n",
       "\n",
       "    // Disable right mouse context menu.\n",
       "    $(this.rubberband_canvas).bind(\"contextmenu\",function(e){\n",
       "        return false;\n",
       "    });\n",
       "\n",
       "    function set_focus () {\n",
       "        canvas.focus();\n",
       "        canvas_div.focus();\n",
       "    }\n",
       "\n",
       "    window.setTimeout(set_focus, 100);\n",
       "}\n",
       "\n",
       "mpl.figure.prototype._init_toolbar = function() {\n",
       "    var fig = this;\n",
       "\n",
       "    var nav_element = $('<div/>');\n",
       "    nav_element.attr('style', 'width: 100%');\n",
       "    this.root.append(nav_element);\n",
       "\n",
       "    // Define a callback function for later on.\n",
       "    function toolbar_event(event) {\n",
       "        return fig.toolbar_button_onclick(event['data']);\n",
       "    }\n",
       "    function toolbar_mouse_event(event) {\n",
       "        return fig.toolbar_button_onmouseover(event['data']);\n",
       "    }\n",
       "\n",
       "    for(var toolbar_ind in mpl.toolbar_items) {\n",
       "        var name = mpl.toolbar_items[toolbar_ind][0];\n",
       "        var tooltip = mpl.toolbar_items[toolbar_ind][1];\n",
       "        var image = mpl.toolbar_items[toolbar_ind][2];\n",
       "        var method_name = mpl.toolbar_items[toolbar_ind][3];\n",
       "\n",
       "        if (!name) {\n",
       "            // put a spacer in here.\n",
       "            continue;\n",
       "        }\n",
       "        var button = $('<button/>');\n",
       "        button.addClass('ui-button ui-widget ui-state-default ui-corner-all ' +\n",
       "                        'ui-button-icon-only');\n",
       "        button.attr('role', 'button');\n",
       "        button.attr('aria-disabled', 'false');\n",
       "        button.click(method_name, toolbar_event);\n",
       "        button.mouseover(tooltip, toolbar_mouse_event);\n",
       "\n",
       "        var icon_img = $('<span/>');\n",
       "        icon_img.addClass('ui-button-icon-primary ui-icon');\n",
       "        icon_img.addClass(image);\n",
       "        icon_img.addClass('ui-corner-all');\n",
       "\n",
       "        var tooltip_span = $('<span/>');\n",
       "        tooltip_span.addClass('ui-button-text');\n",
       "        tooltip_span.html(tooltip);\n",
       "\n",
       "        button.append(icon_img);\n",
       "        button.append(tooltip_span);\n",
       "\n",
       "        nav_element.append(button);\n",
       "    }\n",
       "\n",
       "    var fmt_picker_span = $('<span/>');\n",
       "\n",
       "    var fmt_picker = $('<select/>');\n",
       "    fmt_picker.addClass('mpl-toolbar-option ui-widget ui-widget-content');\n",
       "    fmt_picker_span.append(fmt_picker);\n",
       "    nav_element.append(fmt_picker_span);\n",
       "    this.format_dropdown = fmt_picker[0];\n",
       "\n",
       "    for (var ind in mpl.extensions) {\n",
       "        var fmt = mpl.extensions[ind];\n",
       "        var option = $(\n",
       "            '<option/>', {selected: fmt === mpl.default_extension}).html(fmt);\n",
       "        fmt_picker.append(option);\n",
       "    }\n",
       "\n",
       "    // Add hover states to the ui-buttons\n",
       "    $( \".ui-button\" ).hover(\n",
       "        function() { $(this).addClass(\"ui-state-hover\");},\n",
       "        function() { $(this).removeClass(\"ui-state-hover\");}\n",
       "    );\n",
       "\n",
       "    var status_bar = $('<span class=\"mpl-message\"/>');\n",
       "    nav_element.append(status_bar);\n",
       "    this.message = status_bar[0];\n",
       "}\n",
       "\n",
       "mpl.figure.prototype.request_resize = function(x_pixels, y_pixels) {\n",
       "    // Request matplotlib to resize the figure. Matplotlib will then trigger a resize in the client,\n",
       "    // which will in turn request a refresh of the image.\n",
       "    this.send_message('resize', {'width': x_pixels, 'height': y_pixels});\n",
       "}\n",
       "\n",
       "mpl.figure.prototype.send_message = function(type, properties) {\n",
       "    properties['type'] = type;\n",
       "    properties['figure_id'] = this.id;\n",
       "    this.ws.send(JSON.stringify(properties));\n",
       "}\n",
       "\n",
       "mpl.figure.prototype.send_draw_message = function() {\n",
       "    if (!this.waiting) {\n",
       "        this.waiting = true;\n",
       "        this.ws.send(JSON.stringify({type: \"draw\", figure_id: this.id}));\n",
       "    }\n",
       "}\n",
       "\n",
       "\n",
       "mpl.figure.prototype.handle_save = function(fig, msg) {\n",
       "    var format_dropdown = fig.format_dropdown;\n",
       "    var format = format_dropdown.options[format_dropdown.selectedIndex].value;\n",
       "    fig.ondownload(fig, format);\n",
       "}\n",
       "\n",
       "\n",
       "mpl.figure.prototype.handle_resize = function(fig, msg) {\n",
       "    var size = msg['size'];\n",
       "    if (size[0] != fig.canvas.width || size[1] != fig.canvas.height) {\n",
       "        fig._resize_canvas(size[0], size[1]);\n",
       "        fig.send_message(\"refresh\", {});\n",
       "    };\n",
       "}\n",
       "\n",
       "mpl.figure.prototype.handle_rubberband = function(fig, msg) {\n",
       "    var x0 = msg['x0'] / mpl.ratio;\n",
       "    var y0 = (fig.canvas.height - msg['y0']) / mpl.ratio;\n",
       "    var x1 = msg['x1'] / mpl.ratio;\n",
       "    var y1 = (fig.canvas.height - msg['y1']) / mpl.ratio;\n",
       "    x0 = Math.floor(x0) + 0.5;\n",
       "    y0 = Math.floor(y0) + 0.5;\n",
       "    x1 = Math.floor(x1) + 0.5;\n",
       "    y1 = Math.floor(y1) + 0.5;\n",
       "    var min_x = Math.min(x0, x1);\n",
       "    var min_y = Math.min(y0, y1);\n",
       "    var width = Math.abs(x1 - x0);\n",
       "    var height = Math.abs(y1 - y0);\n",
       "\n",
       "    fig.rubberband_context.clearRect(\n",
       "        0, 0, fig.canvas.width / mpl.ratio, fig.canvas.height / mpl.ratio);\n",
       "\n",
       "    fig.rubberband_context.strokeRect(min_x, min_y, width, height);\n",
       "}\n",
       "\n",
       "mpl.figure.prototype.handle_figure_label = function(fig, msg) {\n",
       "    // Updates the figure title.\n",
       "    fig.header.textContent = msg['label'];\n",
       "}\n",
       "\n",
       "mpl.figure.prototype.handle_cursor = function(fig, msg) {\n",
       "    var cursor = msg['cursor'];\n",
       "    switch(cursor)\n",
       "    {\n",
       "    case 0:\n",
       "        cursor = 'pointer';\n",
       "        break;\n",
       "    case 1:\n",
       "        cursor = 'default';\n",
       "        break;\n",
       "    case 2:\n",
       "        cursor = 'crosshair';\n",
       "        break;\n",
       "    case 3:\n",
       "        cursor = 'move';\n",
       "        break;\n",
       "    }\n",
       "    fig.rubberband_canvas.style.cursor = cursor;\n",
       "}\n",
       "\n",
       "mpl.figure.prototype.handle_message = function(fig, msg) {\n",
       "    fig.message.textContent = msg['message'];\n",
       "}\n",
       "\n",
       "mpl.figure.prototype.handle_draw = function(fig, msg) {\n",
       "    // Request the server to send over a new figure.\n",
       "    fig.send_draw_message();\n",
       "}\n",
       "\n",
       "mpl.figure.prototype.handle_image_mode = function(fig, msg) {\n",
       "    fig.image_mode = msg['mode'];\n",
       "}\n",
       "\n",
       "mpl.figure.prototype.updated_canvas_event = function() {\n",
       "    // Called whenever the canvas gets updated.\n",
       "    this.send_message(\"ack\", {});\n",
       "}\n",
       "\n",
       "// A function to construct a web socket function for onmessage handling.\n",
       "// Called in the figure constructor.\n",
       "mpl.figure.prototype._make_on_message_function = function(fig) {\n",
       "    return function socket_on_message(evt) {\n",
       "        if (evt.data instanceof Blob) {\n",
       "            /* FIXME: We get \"Resource interpreted as Image but\n",
       "             * transferred with MIME type text/plain:\" errors on\n",
       "             * Chrome.  But how to set the MIME type?  It doesn't seem\n",
       "             * to be part of the websocket stream */\n",
       "            evt.data.type = \"image/png\";\n",
       "\n",
       "            /* Free the memory for the previous frames */\n",
       "            if (fig.imageObj.src) {\n",
       "                (window.URL || window.webkitURL).revokeObjectURL(\n",
       "                    fig.imageObj.src);\n",
       "            }\n",
       "\n",
       "            fig.imageObj.src = (window.URL || window.webkitURL).createObjectURL(\n",
       "                evt.data);\n",
       "            fig.updated_canvas_event();\n",
       "            fig.waiting = false;\n",
       "            return;\n",
       "        }\n",
       "        else if (typeof evt.data === 'string' && evt.data.slice(0, 21) == \"data:image/png;base64\") {\n",
       "            fig.imageObj.src = evt.data;\n",
       "            fig.updated_canvas_event();\n",
       "            fig.waiting = false;\n",
       "            return;\n",
       "        }\n",
       "\n",
       "        var msg = JSON.parse(evt.data);\n",
       "        var msg_type = msg['type'];\n",
       "\n",
       "        // Call the  \"handle_{type}\" callback, which takes\n",
       "        // the figure and JSON message as its only arguments.\n",
       "        try {\n",
       "            var callback = fig[\"handle_\" + msg_type];\n",
       "        } catch (e) {\n",
       "            console.log(\"No handler for the '\" + msg_type + \"' message type: \", msg);\n",
       "            return;\n",
       "        }\n",
       "\n",
       "        if (callback) {\n",
       "            try {\n",
       "                // console.log(\"Handling '\" + msg_type + \"' message: \", msg);\n",
       "                callback(fig, msg);\n",
       "            } catch (e) {\n",
       "                console.log(\"Exception inside the 'handler_\" + msg_type + \"' callback:\", e, e.stack, msg);\n",
       "            }\n",
       "        }\n",
       "    };\n",
       "}\n",
       "\n",
       "// from http://stackoverflow.com/questions/1114465/getting-mouse-location-in-canvas\n",
       "mpl.findpos = function(e) {\n",
       "    //this section is from http://www.quirksmode.org/js/events_properties.html\n",
       "    var targ;\n",
       "    if (!e)\n",
       "        e = window.event;\n",
       "    if (e.target)\n",
       "        targ = e.target;\n",
       "    else if (e.srcElement)\n",
       "        targ = e.srcElement;\n",
       "    if (targ.nodeType == 3) // defeat Safari bug\n",
       "        targ = targ.parentNode;\n",
       "\n",
       "    // jQuery normalizes the pageX and pageY\n",
       "    // pageX,Y are the mouse positions relative to the document\n",
       "    // offset() returns the position of the element relative to the document\n",
       "    var x = e.pageX - $(targ).offset().left;\n",
       "    var y = e.pageY - $(targ).offset().top;\n",
       "\n",
       "    return {\"x\": x, \"y\": y};\n",
       "};\n",
       "\n",
       "/*\n",
       " * return a copy of an object with only non-object keys\n",
       " * we need this to avoid circular references\n",
       " * http://stackoverflow.com/a/24161582/3208463\n",
       " */\n",
       "function simpleKeys (original) {\n",
       "  return Object.keys(original).reduce(function (obj, key) {\n",
       "    if (typeof original[key] !== 'object')\n",
       "        obj[key] = original[key]\n",
       "    return obj;\n",
       "  }, {});\n",
       "}\n",
       "\n",
       "mpl.figure.prototype.mouse_event = function(event, name) {\n",
       "    var canvas_pos = mpl.findpos(event)\n",
       "\n",
       "    if (name === 'button_press')\n",
       "    {\n",
       "        this.canvas.focus();\n",
       "        this.canvas_div.focus();\n",
       "    }\n",
       "\n",
       "    var x = canvas_pos.x * mpl.ratio;\n",
       "    var y = canvas_pos.y * mpl.ratio;\n",
       "\n",
       "    this.send_message(name, {x: x, y: y, button: event.button,\n",
       "                             step: event.step,\n",
       "                             guiEvent: simpleKeys(event)});\n",
       "\n",
       "    /* This prevents the web browser from automatically changing to\n",
       "     * the text insertion cursor when the button is pressed.  We want\n",
       "     * to control all of the cursor setting manually through the\n",
       "     * 'cursor' event from matplotlib */\n",
       "    event.preventDefault();\n",
       "    return false;\n",
       "}\n",
       "\n",
       "mpl.figure.prototype._key_event_extra = function(event, name) {\n",
       "    // Handle any extra behaviour associated with a key event\n",
       "}\n",
       "\n",
       "mpl.figure.prototype.key_event = function(event, name) {\n",
       "\n",
       "    // Prevent repeat events\n",
       "    if (name == 'key_press')\n",
       "    {\n",
       "        if (event.which === this._key)\n",
       "            return;\n",
       "        else\n",
       "            this._key = event.which;\n",
       "    }\n",
       "    if (name == 'key_release')\n",
       "        this._key = null;\n",
       "\n",
       "    var value = '';\n",
       "    if (event.ctrlKey && event.which != 17)\n",
       "        value += \"ctrl+\";\n",
       "    if (event.altKey && event.which != 18)\n",
       "        value += \"alt+\";\n",
       "    if (event.shiftKey && event.which != 16)\n",
       "        value += \"shift+\";\n",
       "\n",
       "    value += 'k';\n",
       "    value += event.which.toString();\n",
       "\n",
       "    this._key_event_extra(event, name);\n",
       "\n",
       "    this.send_message(name, {key: value,\n",
       "                             guiEvent: simpleKeys(event)});\n",
       "    return false;\n",
       "}\n",
       "\n",
       "mpl.figure.prototype.toolbar_button_onclick = function(name) {\n",
       "    if (name == 'download') {\n",
       "        this.handle_save(this, null);\n",
       "    } else {\n",
       "        this.send_message(\"toolbar_button\", {name: name});\n",
       "    }\n",
       "};\n",
       "\n",
       "mpl.figure.prototype.toolbar_button_onmouseover = function(tooltip) {\n",
       "    this.message.textContent = tooltip;\n",
       "};\n",
       "mpl.toolbar_items = [[\"Home\", \"Reset original view\", \"fa fa-home icon-home\", \"home\"], [\"Back\", \"Back to previous view\", \"fa fa-arrow-left icon-arrow-left\", \"back\"], [\"Forward\", \"Forward to next view\", \"fa fa-arrow-right icon-arrow-right\", \"forward\"], [\"\", \"\", \"\", \"\"], [\"Pan\", \"Pan axes with left mouse, zoom with right\", \"fa fa-arrows icon-move\", \"pan\"], [\"Zoom\", \"Zoom to rectangle\", \"fa fa-square-o icon-check-empty\", \"zoom\"], [\"\", \"\", \"\", \"\"], [\"Download\", \"Download plot\", \"fa fa-floppy-o icon-save\", \"download\"]];\n",
       "\n",
       "mpl.extensions = [\"eps\", \"jpeg\", \"pdf\", \"png\", \"ps\", \"raw\", \"svg\", \"tif\"];\n",
       "\n",
       "mpl.default_extension = \"png\";var comm_websocket_adapter = function(comm) {\n",
       "    // Create a \"websocket\"-like object which calls the given IPython comm\n",
       "    // object with the appropriate methods. Currently this is a non binary\n",
       "    // socket, so there is still some room for performance tuning.\n",
       "    var ws = {};\n",
       "\n",
       "    ws.close = function() {\n",
       "        comm.close()\n",
       "    };\n",
       "    ws.send = function(m) {\n",
       "        //console.log('sending', m);\n",
       "        comm.send(m);\n",
       "    };\n",
       "    // Register the callback with on_msg.\n",
       "    comm.on_msg(function(msg) {\n",
       "        //console.log('receiving', msg['content']['data'], msg);\n",
       "        // Pass the mpl event to the overridden (by mpl) onmessage function.\n",
       "        ws.onmessage(msg['content']['data'])\n",
       "    });\n",
       "    return ws;\n",
       "}\n",
       "\n",
       "mpl.mpl_figure_comm = function(comm, msg) {\n",
       "    // This is the function which gets called when the mpl process\n",
       "    // starts-up an IPython Comm through the \"matplotlib\" channel.\n",
       "\n",
       "    var id = msg.content.data.id;\n",
       "    // Get hold of the div created by the display call when the Comm\n",
       "    // socket was opened in Python.\n",
       "    var element = $(\"#\" + id);\n",
       "    var ws_proxy = comm_websocket_adapter(comm)\n",
       "\n",
       "    function ondownload(figure, format) {\n",
       "        window.open(figure.imageObj.src);\n",
       "    }\n",
       "\n",
       "    var fig = new mpl.figure(id, ws_proxy,\n",
       "                           ondownload,\n",
       "                           element.get(0));\n",
       "\n",
       "    // Call onopen now - mpl needs it, as it is assuming we've passed it a real\n",
       "    // web socket which is closed, not our websocket->open comm proxy.\n",
       "    ws_proxy.onopen();\n",
       "\n",
       "    fig.parent_element = element.get(0);\n",
       "    fig.cell_info = mpl.find_output_cell(\"<div id='\" + id + \"'></div>\");\n",
       "    if (!fig.cell_info) {\n",
       "        console.error(\"Failed to find cell for figure\", id, fig);\n",
       "        return;\n",
       "    }\n",
       "\n",
       "    var output_index = fig.cell_info[2]\n",
       "    var cell = fig.cell_info[0];\n",
       "\n",
       "};\n",
       "\n",
       "mpl.figure.prototype.handle_close = function(fig, msg) {\n",
       "    var width = fig.canvas.width/mpl.ratio\n",
       "    fig.root.unbind('remove')\n",
       "\n",
       "    // Update the output cell to use the data from the current canvas.\n",
       "    fig.push_to_output();\n",
       "    var dataURL = fig.canvas.toDataURL();\n",
       "    // Re-enable the keyboard manager in IPython - without this line, in FF,\n",
       "    // the notebook keyboard shortcuts fail.\n",
       "    IPython.keyboard_manager.enable()\n",
       "    $(fig.parent_element).html('<img src=\"' + dataURL + '\" width=\"' + width + '\">');\n",
       "    fig.close_ws(fig, msg);\n",
       "}\n",
       "\n",
       "mpl.figure.prototype.close_ws = function(fig, msg){\n",
       "    fig.send_message('closing', msg);\n",
       "    // fig.ws.close()\n",
       "}\n",
       "\n",
       "mpl.figure.prototype.push_to_output = function(remove_interactive) {\n",
       "    // Turn the data on the canvas into data in the output cell.\n",
       "    var width = this.canvas.width/mpl.ratio\n",
       "    var dataURL = this.canvas.toDataURL();\n",
       "    this.cell_info[1]['text/html'] = '<img src=\"' + dataURL + '\" width=\"' + width + '\">';\n",
       "}\n",
       "\n",
       "mpl.figure.prototype.updated_canvas_event = function() {\n",
       "    // Tell IPython that the notebook contents must change.\n",
       "    IPython.notebook.set_dirty(true);\n",
       "    this.send_message(\"ack\", {});\n",
       "    var fig = this;\n",
       "    // Wait a second, then push the new image to the DOM so\n",
       "    // that it is saved nicely (might be nice to debounce this).\n",
       "    setTimeout(function () { fig.push_to_output() }, 1000);\n",
       "}\n",
       "\n",
       "mpl.figure.prototype._init_toolbar = function() {\n",
       "    var fig = this;\n",
       "\n",
       "    var nav_element = $('<div/>');\n",
       "    nav_element.attr('style', 'width: 100%');\n",
       "    this.root.append(nav_element);\n",
       "\n",
       "    // Define a callback function for later on.\n",
       "    function toolbar_event(event) {\n",
       "        return fig.toolbar_button_onclick(event['data']);\n",
       "    }\n",
       "    function toolbar_mouse_event(event) {\n",
       "        return fig.toolbar_button_onmouseover(event['data']);\n",
       "    }\n",
       "\n",
       "    for(var toolbar_ind in mpl.toolbar_items){\n",
       "        var name = mpl.toolbar_items[toolbar_ind][0];\n",
       "        var tooltip = mpl.toolbar_items[toolbar_ind][1];\n",
       "        var image = mpl.toolbar_items[toolbar_ind][2];\n",
       "        var method_name = mpl.toolbar_items[toolbar_ind][3];\n",
       "\n",
       "        if (!name) { continue; };\n",
       "\n",
       "        var button = $('<button class=\"btn btn-default\" href=\"#\" title=\"' + name + '\"><i class=\"fa ' + image + ' fa-lg\"></i></button>');\n",
       "        button.click(method_name, toolbar_event);\n",
       "        button.mouseover(tooltip, toolbar_mouse_event);\n",
       "        nav_element.append(button);\n",
       "    }\n",
       "\n",
       "    // Add the status bar.\n",
       "    var status_bar = $('<span class=\"mpl-message\" style=\"text-align:right; float: right;\"/>');\n",
       "    nav_element.append(status_bar);\n",
       "    this.message = status_bar[0];\n",
       "\n",
       "    // Add the close button to the window.\n",
       "    var buttongrp = $('<div class=\"btn-group inline pull-right\"></div>');\n",
       "    var button = $('<button class=\"btn btn-mini btn-primary\" href=\"#\" title=\"Stop Interaction\"><i class=\"fa fa-power-off icon-remove icon-large\"></i></button>');\n",
       "    button.click(function (evt) { fig.handle_close(fig, {}); } );\n",
       "    button.mouseover('Stop Interaction', toolbar_mouse_event);\n",
       "    buttongrp.append(button);\n",
       "    var titlebar = this.root.find($('.ui-dialog-titlebar'));\n",
       "    titlebar.prepend(buttongrp);\n",
       "}\n",
       "\n",
       "mpl.figure.prototype._root_extra_style = function(el){\n",
       "    var fig = this\n",
       "    el.on(\"remove\", function(){\n",
       "\tfig.close_ws(fig, {});\n",
       "    });\n",
       "}\n",
       "\n",
       "mpl.figure.prototype._canvas_extra_style = function(el){\n",
       "    // this is important to make the div 'focusable\n",
       "    el.attr('tabindex', 0)\n",
       "    // reach out to IPython and tell the keyboard manager to turn it's self\n",
       "    // off when our div gets focus\n",
       "\n",
       "    // location in version 3\n",
       "    if (IPython.notebook.keyboard_manager) {\n",
       "        IPython.notebook.keyboard_manager.register_events(el);\n",
       "    }\n",
       "    else {\n",
       "        // location in version 2\n",
       "        IPython.keyboard_manager.register_events(el);\n",
       "    }\n",
       "\n",
       "}\n",
       "\n",
       "mpl.figure.prototype._key_event_extra = function(event, name) {\n",
       "    var manager = IPython.notebook.keyboard_manager;\n",
       "    if (!manager)\n",
       "        manager = IPython.keyboard_manager;\n",
       "\n",
       "    // Check for shift+enter\n",
       "    if (event.shiftKey && event.which == 13) {\n",
       "        this.canvas_div.blur();\n",
       "        // select the cell after this one\n",
       "        var index = IPython.notebook.find_cell_index(this.cell_info[0]);\n",
       "        IPython.notebook.select(index + 1);\n",
       "    }\n",
       "}\n",
       "\n",
       "mpl.figure.prototype.handle_save = function(fig, msg) {\n",
       "    fig.ondownload(fig, null);\n",
       "}\n",
       "\n",
       "\n",
       "mpl.find_output_cell = function(html_output) {\n",
       "    // Return the cell and output element which can be found *uniquely* in the notebook.\n",
       "    // Note - this is a bit hacky, but it is done because the \"notebook_saving.Notebook\"\n",
       "    // IPython event is triggered only after the cells have been serialised, which for\n",
       "    // our purposes (turning an active figure into a static one), is too late.\n",
       "    var cells = IPython.notebook.get_cells();\n",
       "    var ncells = cells.length;\n",
       "    for (var i=0; i<ncells; i++) {\n",
       "        var cell = cells[i];\n",
       "        if (cell.cell_type === 'code'){\n",
       "            for (var j=0; j<cell.output_area.outputs.length; j++) {\n",
       "                var data = cell.output_area.outputs[j];\n",
       "                if (data.data) {\n",
       "                    // IPython >= 3 moved mimebundle to data attribute of output\n",
       "                    data = data.data;\n",
       "                }\n",
       "                if (data['text/html'] == html_output) {\n",
       "                    return [cell, data, j];\n",
       "                }\n",
       "            }\n",
       "        }\n",
       "    }\n",
       "}\n",
       "\n",
       "// Register the function which deals with the matplotlib target/channel.\n",
       "// The kernel may be null if the page has been refreshed.\n",
       "if (IPython.notebook.kernel != null) {\n",
       "    IPython.notebook.kernel.comm_manager.register_target('matplotlib', mpl.mpl_figure_comm);\n",
       "}\n"
      ],
      "text/plain": [
       "<IPython.core.display.Javascript object>"
      ]
     },
     "metadata": {},
     "output_type": "display_data"
    },
    {
     "data": {
      "text/html": [
       "<img src=\"data:image/png;base64,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\" width=\"640\">"
      ],
      "text/plain": [
       "<IPython.core.display.HTML object>"
      ]
     },
     "metadata": {},
     "output_type": "display_data"
    },
    {
     "data": {
      "text/plain": [
       "{'whiskers': [<matplotlib.lines.Line2D at 0x7fcf7f8c3710>,\n",
       "  <matplotlib.lines.Line2D at 0x7fcf7f8c3ac8>],\n",
       " 'caps': [<matplotlib.lines.Line2D at 0x7fcf7f8c3e48>,\n",
       "  <matplotlib.lines.Line2D at 0x7fcf7f8c9208>],\n",
       " 'boxes': [<matplotlib.lines.Line2D at 0x7fcf7f8c3400>],\n",
       " 'medians': [<matplotlib.lines.Line2D at 0x7fcf7f8c9588>],\n",
       " 'fliers': [<matplotlib.lines.Line2D at 0x7fcf7f8c9908>],\n",
       " 'means': []}"
      ]
     },
     "execution_count": 19,
     "metadata": {},
     "output_type": "execute_result"
    }
   ],
   "source": [
    "minusx_df = non_silent_measures[non_silent_measures['measurement']=='minus_XdB_frequency']\n",
    "\n",
    "plt.figure()\n",
    "plt.boxplot(minusx_df['value'])"
   ]
  },
  {
   "cell_type": "markdown",
   "metadata": {},
   "source": [
    "### Assigning the number of bats to each annotation audio\n",
    "Now that we have all of our measurements in place, it's time to compare each of the measurements across single and multi bat contexts."
   ]
  },
  {
   "cell_type": "code",
   "execution_count": 20,
   "metadata": {},
   "outputs": [],
   "source": [
    "non_silent_measures['video_annot_id'] = non_silent_measures['file_name'].str.lstrip('matching_annotaudio_')\n",
    "# remove the '_hp' from the video_annot_ida\n",
    "\n",
    "non_silent_measures['video_annot_id'] = non_silent_measures['video_annot_id'].str.rstrip('_hp.WAV')"
   ]
  },
  {
   "cell_type": "code",
   "execution_count": 21,
   "metadata": {},
   "outputs": [
    {
     "data": {
      "text/plain": [
       "'Aditya_2018-08-16_21502300_9'"
      ]
     },
     "execution_count": 21,
     "metadata": {},
     "output_type": "execute_result"
    }
   ],
   "source": [
    "non_silent_measures['video_annot_id'][0]"
   ]
  },
  {
   "cell_type": "code",
   "execution_count": 22,
   "metadata": {},
   "outputs": [],
   "source": [
    "video_annot_folder = '../../whole_data_analysis/annotations/corrected_HBC_video_annotations_Aditya/'\n",
    "non_silent_measures['num_bats'] = icf.get_numbats_from_annotation_id(non_silent_measures['video_annot_id'], video_annot_folder)"
   ]
  },
  {
   "cell_type": "markdown",
   "metadata": {},
   "source": [
    "#### The numbers below represent the *rows* with the following bat numbers in the annotation audio - and not the number of annotations itself!!"
   ]
  },
  {
   "cell_type": "code",
   "execution_count": 23,
   "metadata": {},
   "outputs": [
    {
     "name": "stdout",
     "output_type": "stream",
     "text": [
      "[1 2 3] [12492  4739   636]\n"
     ]
    }
   ],
   "source": [
    "group_size, counts = np.unique(non_silent_measures['num_bats'], return_counts=True)\n",
    "print(group_size, counts)"
   ]
  },
  {
   "cell_type": "code",
   "execution_count": 24,
   "metadata": {},
   "outputs": [],
   "source": [
    "non_silent_measures.to_csv('non_silent_measurements_20dBthreshold.csv')"
   ]
  },
  {
   "cell_type": "code",
   "execution_count": 25,
   "metadata": {},
   "outputs": [
    {
     "name": "stdout",
     "output_type": "stream",
     "text": [
      "Notebook ended at: 2020-07-13 17:03:21.757211\n"
     ]
    }
   ],
   "source": [
    "print(f'Notebook ended at: {dt.datetime.now()}')"
   ]
  }
 ],
 "metadata": {
  "kernelspec": {
   "display_name": "Python [conda env:mhbc] *",
   "language": "python",
   "name": "conda-env-mhbc-py"
  },
  "language_info": {
   "codemirror_mode": {
    "name": "ipython",
    "version": 3
   },
   "file_extension": ".py",
   "mimetype": "text/x-python",
   "name": "python",
   "nbconvert_exporter": "python",
   "pygments_lexer": "ipython3",
   "version": "3.7.0"
  }
 },
 "nbformat": 4,
 "nbformat_minor": 4
}
