{
 "cells": [
  {
   "cell_type": "markdown",
   "metadata": {},
   "source": [
    "### What this notebook will do\n",
    "This notebook will deal with the generation of measurements on the annotation audio. Each annotation audio file will be split into smaller segments of 50ms length. 50ms is chosen as it is the same temporal scale as the longest calls. The idea is that if possible, one segment should contain at least one call. \n",
    "\n",
    "The 'valid_annotations' have been chosen in the 'choosing valid annotations...' Jupyter notebook. 'valid annotations' are those with only the target species, where there was detectable audio when a bat was flying, and those that have been double checked to be correctly annotated. See the notebook for more details. \n",
    "\n",
    "In this notebook, the audio corresponding to all the 'valid_annotations' will be  split-measured to generate the raw data for all further statistical analysis that will follow to compare single vs. multi bat call sequences. \n",
    "\n",
    "\n",
    "- Author: Thejasvi Beleyur\n",
    "- Date of initiation: 2020-07-11"
   ]
  },
  {
   "cell_type": "code",
   "execution_count": 1,
   "metadata": {},
   "outputs": [],
   "source": [
    "import datetime as dt\n",
    "import sys \n",
    "sys.path.append('/home/tbeleyur/Documents/packages_dev/correct_call_annotations/')\n",
    "sys.path.append('../')\n",
    "sys.path.append('../../individual_call_analysis/analysis/')\n",
    "\n",
    "import correct_call_annotations.correct_call_annotations as cca\n",
    "import format_and_clean\n",
    "from format_and_clean import ind_call_format as icf\n",
    "import measure_annot_audio\n",
    "\n",
    "from measure_annot_audio import split_measure\n",
    "from measure_annot_audio.inbuilt_measurement_functions import dB\n",
    "import os\n",
    "import matplotlib.pyplot as plt\n",
    "import numpy as np\n",
    "import pandas as pd\n",
    "import soundfile as sf\n",
    "import tqdm"
   ]
  },
  {
   "cell_type": "code",
   "execution_count": 2,
   "metadata": {},
   "outputs": [],
   "source": [
    "%matplotlib notebook"
   ]
  },
  {
   "cell_type": "code",
   "execution_count": 3,
   "metadata": {},
   "outputs": [
    {
     "name": "stdout",
     "output_type": "stream",
     "text": [
      "Notebook started at: 2020-09-07 19:30:45.418167\n"
     ]
    }
   ],
   "source": [
    "print(f'Notebook started at: {dt.datetime.now()}')"
   ]
  },
  {
   "cell_type": "code",
   "execution_count": 4,
   "metadata": {},
   "outputs": [
    {
     "data": {
      "text/html": [
       "<div>\n",
       "<style scoped>\n",
       "    .dataframe tbody tr th:only-of-type {\n",
       "        vertical-align: middle;\n",
       "    }\n",
       "\n",
       "    .dataframe tbody tr th {\n",
       "        vertical-align: top;\n",
       "    }\n",
       "\n",
       "    .dataframe thead th {\n",
       "        text-align: right;\n",
       "    }\n",
       "</style>\n",
       "<table border=\"1\" class=\"dataframe\">\n",
       "  <thead>\n",
       "    <tr style=\"text-align: right;\">\n",
       "      <th></th>\n",
       "      <th>Unnamed: 0</th>\n",
       "      <th>valid_annotations</th>\n",
       "    </tr>\n",
       "  </thead>\n",
       "  <tbody>\n",
       "    <tr>\n",
       "      <th>0</th>\n",
       "      <td>0</td>\n",
       "      <td>matching_annotaudio_Aditya_2018-08-16_21502300_9</td>\n",
       "    </tr>\n",
       "    <tr>\n",
       "      <th>1</th>\n",
       "      <td>1</td>\n",
       "      <td>matching_annotaudio_Aditya_2018-08-16_21502300_12</td>\n",
       "    </tr>\n",
       "    <tr>\n",
       "      <th>2</th>\n",
       "      <td>2</td>\n",
       "      <td>matching_annotaudio_Aditya_2018-08-16_21502300_18</td>\n",
       "    </tr>\n",
       "    <tr>\n",
       "      <th>3</th>\n",
       "      <td>3</td>\n",
       "      <td>matching_annotaudio_Aditya_2018-08-16_21502300_19</td>\n",
       "    </tr>\n",
       "    <tr>\n",
       "      <th>4</th>\n",
       "      <td>4</td>\n",
       "      <td>matching_annotaudio_Aditya_2018-08-16_21502300_20</td>\n",
       "    </tr>\n",
       "    <tr>\n",
       "      <th>...</th>\n",
       "      <td>...</td>\n",
       "      <td>...</td>\n",
       "    </tr>\n",
       "    <tr>\n",
       "      <th>612</th>\n",
       "      <td>624</td>\n",
       "      <td>matching_annotaudio_Aditya_2018-08-20_0300-040...</td>\n",
       "    </tr>\n",
       "    <tr>\n",
       "      <th>613</th>\n",
       "      <td>625</td>\n",
       "      <td>matching_annotaudio_Aditya_2018-08-20_0300-040...</td>\n",
       "    </tr>\n",
       "    <tr>\n",
       "      <th>614</th>\n",
       "      <td>626</td>\n",
       "      <td>matching_annotaudio_Aditya_2018-08-20_0300-040...</td>\n",
       "    </tr>\n",
       "    <tr>\n",
       "      <th>615</th>\n",
       "      <td>627</td>\n",
       "      <td>matching_annotaudio_Aditya_2018-08-20_0300-040...</td>\n",
       "    </tr>\n",
       "    <tr>\n",
       "      <th>616</th>\n",
       "      <td>628</td>\n",
       "      <td>matching_annotaudio_Aditya_2018-08-20_0300-040...</td>\n",
       "    </tr>\n",
       "  </tbody>\n",
       "</table>\n",
       "<p>617 rows × 2 columns</p>\n",
       "</div>"
      ],
      "text/plain": [
       "     Unnamed: 0                                  valid_annotations\n",
       "0             0   matching_annotaudio_Aditya_2018-08-16_21502300_9\n",
       "1             1  matching_annotaudio_Aditya_2018-08-16_21502300_12\n",
       "2             2  matching_annotaudio_Aditya_2018-08-16_21502300_18\n",
       "3             3  matching_annotaudio_Aditya_2018-08-16_21502300_19\n",
       "4             4  matching_annotaudio_Aditya_2018-08-16_21502300_20\n",
       "..          ...                                                ...\n",
       "612         624  matching_annotaudio_Aditya_2018-08-20_0300-040...\n",
       "613         625  matching_annotaudio_Aditya_2018-08-20_0300-040...\n",
       "614         626  matching_annotaudio_Aditya_2018-08-20_0300-040...\n",
       "615         627  matching_annotaudio_Aditya_2018-08-20_0300-040...\n",
       "616         628  matching_annotaudio_Aditya_2018-08-20_0300-040...\n",
       "\n",
       "[617 rows x 2 columns]"
      ]
     },
     "execution_count": 4,
     "metadata": {},
     "output_type": "execute_result"
    }
   ],
   "source": [
    "verif_annots = pd.read_csv('../verified_annotations.csv').reset_index(drop=True) # manually re-checked set of audio files.\n",
    "# See ../choosing valid annotation audio files.ipynb\n",
    "\n",
    "verif_annots"
   ]
  },
  {
   "cell_type": "code",
   "execution_count": 5,
   "metadata": {},
   "outputs": [],
   "source": [
    "all_measures = []"
   ]
  },
  {
   "cell_type": "code",
   "execution_count": 6,
   "metadata": {},
   "outputs": [],
   "source": [
    "fs = 250000\n",
    "kwargs = {'inter_peak_difference':250, \n",
    "          'spectrum_smoothing_width': 100,\n",
    "          'peak_range': 14,\n",
    "          'fs':fs,\n",
    "          'db_range':46}"
   ]
  },
  {
   "cell_type": "code",
   "execution_count": 7,
   "metadata": {
    "scrolled": true
   },
   "outputs": [
    {
     "name": "stderr",
     "output_type": "stream",
     "text": [
      "\r",
      "0it [00:00, ?it/s]"
     ]
    },
    {
     "name": "stdout",
     "output_type": "stream",
     "text": [
      "Match found!\n",
      "Match found!\n"
     ]
    },
    {
     "name": "stderr",
     "output_type": "stream",
     "text": [
      "\r",
      "2it [00:00,  9.98it/s]"
     ]
    },
    {
     "name": "stdout",
     "output_type": "stream",
     "text": [
      "Match found!\n"
     ]
    },
    {
     "name": "stderr",
     "output_type": "stream",
     "text": [
      "\r",
      "3it [00:00,  6.27it/s]"
     ]
    },
    {
     "name": "stdout",
     "output_type": "stream",
     "text": [
      "Match found!\n"
     ]
    },
    {
     "name": "stderr",
     "output_type": "stream",
     "text": [
      "\r",
      "4it [00:01,  3.70it/s]"
     ]
    },
    {
     "name": "stdout",
     "output_type": "stream",
     "text": [
      "Match found!\n"
     ]
    },
    {
     "name": "stderr",
     "output_type": "stream",
     "text": [
      "\r",
      "5it [00:01,  2.38it/s]"
     ]
    },
    {
     "name": "stdout",
     "output_type": "stream",
     "text": [
      "Match found!\n"
     ]
    },
    {
     "name": "stderr",
     "output_type": "stream",
     "text": [
      "7it [00:03,  2.05it/s]"
     ]
    },
    {
     "name": "stdout",
     "output_type": "stream",
     "text": [
      "Match found!\n",
      "Match found!\n"
     ]
    },
    {
     "name": "stderr",
     "output_type": "stream",
     "text": [
      "\r",
      "8it [00:03,  2.25it/s]"
     ]
    },
    {
     "name": "stdout",
     "output_type": "stream",
     "text": [
      "Match found!\n"
     ]
    },
    {
     "name": "stderr",
     "output_type": "stream",
     "text": [
      "\r",
      "9it [00:03,  2.54it/s]"
     ]
    },
    {
     "name": "stdout",
     "output_type": "stream",
     "text": [
      "Match found!\n"
     ]
    },
    {
     "name": "stderr",
     "output_type": "stream",
     "text": [
      "\r",
      "10it [00:04,  1.74it/s]"
     ]
    },
    {
     "name": "stdout",
     "output_type": "stream",
     "text": [
      "Match found!\n"
     ]
    },
    {
     "name": "stderr",
     "output_type": "stream",
     "text": [
      "\r",
      "11it [00:04,  2.08it/s]"
     ]
    },
    {
     "name": "stdout",
     "output_type": "stream",
     "text": [
      "Match found!\n"
     ]
    },
    {
     "name": "stderr",
     "output_type": "stream",
     "text": [
      "\r",
      "12it [00:05,  1.56it/s]"
     ]
    },
    {
     "name": "stdout",
     "output_type": "stream",
     "text": [
      "Match found!\n"
     ]
    },
    {
     "name": "stderr",
     "output_type": "stream",
     "text": [
      "\r",
      "13it [00:06,  1.53it/s]"
     ]
    },
    {
     "name": "stdout",
     "output_type": "stream",
     "text": [
      "Match found!\n"
     ]
    },
    {
     "name": "stderr",
     "output_type": "stream",
     "text": [
      "\r",
      "14it [00:07,  1.50it/s]"
     ]
    },
    {
     "name": "stdout",
     "output_type": "stream",
     "text": [
      "Match found!\n"
     ]
    },
    {
     "name": "stderr",
     "output_type": "stream",
     "text": [
      "\r",
      "15it [00:09,  1.03s/it]"
     ]
    },
    {
     "name": "stdout",
     "output_type": "stream",
     "text": [
      "Match found!\n"
     ]
    },
    {
     "name": "stderr",
     "output_type": "stream",
     "text": [
      "\r",
      "16it [00:09,  1.05it/s]"
     ]
    },
    {
     "name": "stdout",
     "output_type": "stream",
     "text": [
      "Match found!\n"
     ]
    },
    {
     "name": "stderr",
     "output_type": "stream",
     "text": [
      "18it [00:11,  1.31it/s]"
     ]
    },
    {
     "name": "stdout",
     "output_type": "stream",
     "text": [
      "Match found!\n",
      "Match found!\n"
     ]
    },
    {
     "name": "stderr",
     "output_type": "stream",
     "text": [
      "\r",
      "19it [00:11,  1.52it/s]"
     ]
    },
    {
     "name": "stdout",
     "output_type": "stream",
     "text": [
      "Match found!\n"
     ]
    },
    {
     "name": "stderr",
     "output_type": "stream",
     "text": [
      "\r",
      "20it [00:12,  1.67it/s]"
     ]
    },
    {
     "name": "stdout",
     "output_type": "stream",
     "text": [
      "Match found!\n"
     ]
    },
    {
     "name": "stderr",
     "output_type": "stream",
     "text": [
      "\r",
      "21it [00:12,  1.55it/s]"
     ]
    },
    {
     "name": "stdout",
     "output_type": "stream",
     "text": [
      "Match found!\n"
     ]
    },
    {
     "name": "stderr",
     "output_type": "stream",
     "text": [
      "\r",
      "22it [00:13,  1.67it/s]"
     ]
    },
    {
     "name": "stdout",
     "output_type": "stream",
     "text": [
      "Match found!\n"
     ]
    },
    {
     "name": "stderr",
     "output_type": "stream",
     "text": [
      "\r",
      "23it [00:16,  1.28s/it]"
     ]
    },
    {
     "name": "stdout",
     "output_type": "stream",
     "text": [
      "Match found!\n"
     ]
    },
    {
     "name": "stderr",
     "output_type": "stream",
     "text": [
      "\r",
      "24it [00:16,  1.00s/it]"
     ]
    },
    {
     "name": "stdout",
     "output_type": "stream",
     "text": [
      "Match found!\n"
     ]
    },
    {
     "name": "stderr",
     "output_type": "stream",
     "text": [
      "\r",
      "25it [00:17,  1.02s/it]"
     ]
    },
    {
     "name": "stdout",
     "output_type": "stream",
     "text": [
      "Match found!\n"
     ]
    },
    {
     "name": "stderr",
     "output_type": "stream",
     "text": [
      "\r",
      "26it [00:18,  1.19it/s]"
     ]
    },
    {
     "name": "stdout",
     "output_type": "stream",
     "text": [
      "Match found!\n"
     ]
    },
    {
     "name": "stderr",
     "output_type": "stream",
     "text": [
      "28it [00:19,  1.52it/s]"
     ]
    },
    {
     "name": "stdout",
     "output_type": "stream",
     "text": [
      "Match found!\n",
      "Match found!\n"
     ]
    },
    {
     "name": "stderr",
     "output_type": "stream",
     "text": [
      "\r",
      "29it [00:19,  1.66it/s]"
     ]
    },
    {
     "name": "stdout",
     "output_type": "stream",
     "text": [
      "Match found!\n"
     ]
    },
    {
     "name": "stderr",
     "output_type": "stream",
     "text": [
      "\r",
      "30it [00:20,  1.68it/s]"
     ]
    },
    {
     "name": "stdout",
     "output_type": "stream",
     "text": [
      "Match found!\n"
     ]
    },
    {
     "name": "stderr",
     "output_type": "stream",
     "text": [
      "\r",
      "31it [00:20,  1.77it/s]"
     ]
    },
    {
     "name": "stdout",
     "output_type": "stream",
     "text": [
      "Match found!\n"
     ]
    },
    {
     "name": "stderr",
     "output_type": "stream",
     "text": [
      "33it [00:22,  1.48it/s]"
     ]
    },
    {
     "name": "stdout",
     "output_type": "stream",
     "text": [
      "Match found!\n",
      "Match found!\n"
     ]
    },
    {
     "name": "stderr",
     "output_type": "stream",
     "text": [
      "\r",
      "34it [00:23,  1.48it/s]"
     ]
    },
    {
     "name": "stdout",
     "output_type": "stream",
     "text": [
      "Match found!\n"
     ]
    },
    {
     "name": "stderr",
     "output_type": "stream",
     "text": [
      "\r",
      "35it [00:23,  1.84it/s]"
     ]
    },
    {
     "name": "stdout",
     "output_type": "stream",
     "text": [
      "Match found!\n"
     ]
    },
    {
     "name": "stderr",
     "output_type": "stream",
     "text": [
      "\r",
      "36it [00:23,  2.20it/s]"
     ]
    },
    {
     "name": "stdout",
     "output_type": "stream",
     "text": [
      "Match found!\n"
     ]
    },
    {
     "name": "stderr",
     "output_type": "stream",
     "text": [
      "\r",
      "37it [00:24,  2.59it/s]"
     ]
    },
    {
     "name": "stdout",
     "output_type": "stream",
     "text": [
      "Match found!\n",
      "Match found!\n"
     ]
    },
    {
     "name": "stderr",
     "output_type": "stream",
     "text": [
      "\r",
      "39it [00:24,  3.12it/s]"
     ]
    },
    {
     "name": "stdout",
     "output_type": "stream",
     "text": [
      "Match found!\n",
      "Match found!\n"
     ]
    },
    {
     "name": "stderr",
     "output_type": "stream",
     "text": [
      "42it [00:24,  4.19it/s]"
     ]
    },
    {
     "name": "stdout",
     "output_type": "stream",
     "text": [
      "Match found!\n",
      "Match found!\n"
     ]
    },
    {
     "name": "stderr",
     "output_type": "stream",
     "text": [
      "44it [00:25,  5.21it/s]"
     ]
    },
    {
     "name": "stdout",
     "output_type": "stream",
     "text": [
      "Match found!\n",
      "Match found!\n"
     ]
    },
    {
     "name": "stderr",
     "output_type": "stream",
     "text": [
      "\r",
      "45it [00:25,  3.20it/s]"
     ]
    },
    {
     "name": "stdout",
     "output_type": "stream",
     "text": [
      "Match found!\n"
     ]
    },
    {
     "name": "stderr",
     "output_type": "stream",
     "text": [
      "47it [00:26,  3.61it/s]"
     ]
    },
    {
     "name": "stdout",
     "output_type": "stream",
     "text": [
      "Match found!\n",
      "Match found!\n"
     ]
    },
    {
     "name": "stderr",
     "output_type": "stream",
     "text": [
      "49it [00:26,  4.56it/s]"
     ]
    },
    {
     "name": "stdout",
     "output_type": "stream",
     "text": [
      "Match found!\n",
      "Match found!\n"
     ]
    },
    {
     "name": "stderr",
     "output_type": "stream",
     "text": [
      "51it [00:26,  5.28it/s]"
     ]
    },
    {
     "name": "stdout",
     "output_type": "stream",
     "text": [
      "Match found!\n",
      "Match found!\n"
     ]
    },
    {
     "name": "stderr",
     "output_type": "stream",
     "text": [
      "\r",
      "53it [00:27,  6.04it/s]"
     ]
    },
    {
     "name": "stdout",
     "output_type": "stream",
     "text": [
      "Match found!\n",
      "Match found!\n"
     ]
    },
    {
     "name": "stderr",
     "output_type": "stream",
     "text": [
      "\r",
      "54it [00:27,  4.83it/s]"
     ]
    },
    {
     "name": "stdout",
     "output_type": "stream",
     "text": [
      "Match found!\n"
     ]
    },
    {
     "name": "stderr",
     "output_type": "stream",
     "text": [
      "\r",
      "55it [00:27,  4.69it/s]"
     ]
    },
    {
     "name": "stdout",
     "output_type": "stream",
     "text": [
      "Match found!\n"
     ]
    },
    {
     "name": "stderr",
     "output_type": "stream",
     "text": [
      "\r",
      "56it [00:28,  1.81it/s]"
     ]
    },
    {
     "name": "stdout",
     "output_type": "stream",
     "text": [
      "Match found!\n"
     ]
    },
    {
     "name": "stderr",
     "output_type": "stream",
     "text": [
      "58it [00:29,  2.23it/s]"
     ]
    },
    {
     "name": "stdout",
     "output_type": "stream",
     "text": [
      "Match found!\n",
      "Match found!\n"
     ]
    },
    {
     "name": "stderr",
     "output_type": "stream",
     "text": [
      "\r",
      "59it [00:30,  2.46it/s]"
     ]
    },
    {
     "name": "stdout",
     "output_type": "stream",
     "text": [
      "Match found!\n"
     ]
    },
    {
     "name": "stderr",
     "output_type": "stream",
     "text": [
      "\r",
      "60it [00:30,  2.81it/s]"
     ]
    },
    {
     "name": "stdout",
     "output_type": "stream",
     "text": [
      "Match found!\n",
      "Match found!\n"
     ]
    },
    {
     "name": "stderr",
     "output_type": "stream",
     "text": [
      "\r",
      "62it [00:30,  3.17it/s]"
     ]
    },
    {
     "name": "stdout",
     "output_type": "stream",
     "text": [
      "Match found!\n"
     ]
    },
    {
     "name": "stderr",
     "output_type": "stream",
     "text": [
      "\r",
      "63it [00:31,  3.31it/s]"
     ]
    },
    {
     "name": "stdout",
     "output_type": "stream",
     "text": [
      "Match found!\n"
     ]
    },
    {
     "name": "stderr",
     "output_type": "stream",
     "text": [
      "\r",
      "64it [00:31,  2.47it/s]"
     ]
    },
    {
     "name": "stdout",
     "output_type": "stream",
     "text": [
      "Match found!\n"
     ]
    },
    {
     "name": "stderr",
     "output_type": "stream",
     "text": [
      "\r",
      "65it [00:32,  2.07it/s]"
     ]
    },
    {
     "name": "stdout",
     "output_type": "stream",
     "text": [
      "Match found!\n"
     ]
    },
    {
     "name": "stderr",
     "output_type": "stream",
     "text": [
      "\r",
      "66it [00:33,  1.81it/s]"
     ]
    },
    {
     "name": "stdout",
     "output_type": "stream",
     "text": [
      "Match found!\n"
     ]
    },
    {
     "name": "stderr",
     "output_type": "stream",
     "text": [
      "\r",
      "67it [00:33,  2.18it/s]"
     ]
    },
    {
     "name": "stdout",
     "output_type": "stream",
     "text": [
      "Match found!\n"
     ]
    },
    {
     "name": "stderr",
     "output_type": "stream",
     "text": [
      "\r",
      "68it [00:33,  2.60it/s]"
     ]
    },
    {
     "name": "stdout",
     "output_type": "stream",
     "text": [
      "Match found!\n"
     ]
    },
    {
     "name": "stderr",
     "output_type": "stream",
     "text": [
      "70it [00:34,  2.01it/s]"
     ]
    },
    {
     "name": "stdout",
     "output_type": "stream",
     "text": [
      "Match found!\n",
      "Match found!\n"
     ]
    },
    {
     "name": "stderr",
     "output_type": "stream",
     "text": [
      "\r",
      "71it [00:36,  1.05it/s]"
     ]
    },
    {
     "name": "stdout",
     "output_type": "stream",
     "text": [
      "Match found!\n"
     ]
    },
    {
     "name": "stderr",
     "output_type": "stream",
     "text": [
      "73it [00:37,  1.76it/s]"
     ]
    },
    {
     "name": "stdout",
     "output_type": "stream",
     "text": [
      "Match found!\n",
      "Match found!\n"
     ]
    },
    {
     "name": "stderr",
     "output_type": "stream",
     "text": [
      "\r",
      "74it [00:37,  2.12it/s]"
     ]
    },
    {
     "name": "stdout",
     "output_type": "stream",
     "text": [
      "Match found!\n"
     ]
    },
    {
     "name": "stderr",
     "output_type": "stream",
     "text": [
      "\r",
      "75it [00:38,  1.71it/s]"
     ]
    },
    {
     "name": "stdout",
     "output_type": "stream",
     "text": [
      "Match found!\n"
     ]
    },
    {
     "name": "stderr",
     "output_type": "stream",
     "text": [
      "\r",
      "76it [00:39,  1.36it/s]"
     ]
    },
    {
     "name": "stdout",
     "output_type": "stream",
     "text": [
      "Match found!\n",
      "Match found!\n"
     ]
    },
    {
     "name": "stderr",
     "output_type": "stream",
     "text": [
      "\r",
      "78it [00:39,  1.75it/s]"
     ]
    },
    {
     "name": "stdout",
     "output_type": "stream",
     "text": [
      "Match found!\n"
     ]
    },
    {
     "name": "stderr",
     "output_type": "stream",
     "text": [
      "\r",
      "79it [00:40,  1.68it/s]"
     ]
    },
    {
     "name": "stdout",
     "output_type": "stream",
     "text": [
      "Match found!\n"
     ]
    },
    {
     "name": "stderr",
     "output_type": "stream",
     "text": [
      "\r",
      "80it [00:41,  1.66it/s]"
     ]
    },
    {
     "name": "stdout",
     "output_type": "stream",
     "text": [
      "Match found!\n"
     ]
    },
    {
     "name": "stderr",
     "output_type": "stream",
     "text": [
      "82it [00:41,  2.71it/s]"
     ]
    },
    {
     "name": "stdout",
     "output_type": "stream",
     "text": [
      "Match found!\n",
      "Match found!\n"
     ]
    },
    {
     "name": "stderr",
     "output_type": "stream",
     "text": [
      "\r",
      "83it [00:41,  2.56it/s]"
     ]
    },
    {
     "name": "stdout",
     "output_type": "stream",
     "text": [
      "Match found!\n"
     ]
    },
    {
     "name": "stderr",
     "output_type": "stream",
     "text": [
      "85it [00:42,  3.26it/s]"
     ]
    },
    {
     "name": "stdout",
     "output_type": "stream",
     "text": [
      "Match found!\n",
      "Match found!\n"
     ]
    },
    {
     "name": "stderr",
     "output_type": "stream",
     "text": [
      "\r",
      "86it [00:43,  2.07it/s]"
     ]
    },
    {
     "name": "stdout",
     "output_type": "stream",
     "text": [
      "Match found!\n"
     ]
    },
    {
     "name": "stderr",
     "output_type": "stream",
     "text": [
      "\r",
      "87it [00:43,  2.43it/s]"
     ]
    },
    {
     "name": "stdout",
     "output_type": "stream",
     "text": [
      "Match found!\n"
     ]
    },
    {
     "name": "stderr",
     "output_type": "stream",
     "text": [
      "\r",
      "88it [00:44,  2.17it/s]"
     ]
    },
    {
     "name": "stdout",
     "output_type": "stream",
     "text": [
      "Match found!\n"
     ]
    },
    {
     "name": "stderr",
     "output_type": "stream",
     "text": [
      "\r",
      "89it [00:44,  2.33it/s]"
     ]
    },
    {
     "name": "stdout",
     "output_type": "stream",
     "text": [
      "Match found!\n",
      "Match found!\n"
     ]
    },
    {
     "name": "stderr",
     "output_type": "stream",
     "text": [
      "92it [00:44,  3.35it/s]"
     ]
    },
    {
     "name": "stdout",
     "output_type": "stream",
     "text": [
      "Match found!\n",
      "Match found!\n"
     ]
    },
    {
     "name": "stderr",
     "output_type": "stream",
     "text": [
      "\r",
      "93it [00:45,  3.84it/s]"
     ]
    },
    {
     "name": "stdout",
     "output_type": "stream",
     "text": [
      "Match found!\n"
     ]
    },
    {
     "name": "stderr",
     "output_type": "stream",
     "text": [
      "96it [00:45,  3.55it/s]"
     ]
    },
    {
     "name": "stdout",
     "output_type": "stream",
     "text": [
      "Match found!\n",
      "Match found!\n",
      "Match found!\n"
     ]
    },
    {
     "name": "stderr",
     "output_type": "stream",
     "text": [
      "\r",
      "97it [00:46,  3.31it/s]"
     ]
    },
    {
     "name": "stdout",
     "output_type": "stream",
     "text": [
      "Match found!\n"
     ]
    },
    {
     "name": "stderr",
     "output_type": "stream",
     "text": [
      "\r",
      "98it [00:46,  3.65it/s]"
     ]
    },
    {
     "name": "stdout",
     "output_type": "stream",
     "text": [
      "Match found!\n"
     ]
    },
    {
     "name": "stderr",
     "output_type": "stream",
     "text": [
      "\r",
      "99it [00:46,  3.70it/s]"
     ]
    },
    {
     "name": "stdout",
     "output_type": "stream",
     "text": [
      "Match found!\n"
     ]
    },
    {
     "name": "stderr",
     "output_type": "stream",
     "text": [
      "\r",
      "100it [00:47,  3.29it/s]"
     ]
    },
    {
     "name": "stdout",
     "output_type": "stream",
     "text": [
      "Match found!\n"
     ]
    },
    {
     "name": "stderr",
     "output_type": "stream",
     "text": [
      "\r",
      "101it [00:47,  3.47it/s]"
     ]
    },
    {
     "name": "stdout",
     "output_type": "stream",
     "text": [
      "Match found!\n"
     ]
    },
    {
     "name": "stderr",
     "output_type": "stream",
     "text": [
      "103it [00:47,  4.35it/s]"
     ]
    },
    {
     "name": "stdout",
     "output_type": "stream",
     "text": [
      "Match found!\n",
      "Match found!\n"
     ]
    },
    {
     "name": "stderr",
     "output_type": "stream",
     "text": [
      "\r",
      "104it [00:48,  3.93it/s]"
     ]
    },
    {
     "name": "stdout",
     "output_type": "stream",
     "text": [
      "Match found!\n"
     ]
    },
    {
     "name": "stderr",
     "output_type": "stream",
     "text": [
      "\r",
      "105it [00:48,  3.09it/s]"
     ]
    },
    {
     "name": "stdout",
     "output_type": "stream",
     "text": [
      "Match found!\n"
     ]
    },
    {
     "name": "stderr",
     "output_type": "stream",
     "text": [
      "\r",
      "106it [00:49,  2.65it/s]"
     ]
    },
    {
     "name": "stdout",
     "output_type": "stream",
     "text": [
      "Match found!\n"
     ]
    },
    {
     "name": "stderr",
     "output_type": "stream",
     "text": [
      "108it [00:51,  1.41it/s]"
     ]
    },
    {
     "name": "stdout",
     "output_type": "stream",
     "text": [
      "Match found!\n",
      "Match found!\n"
     ]
    },
    {
     "name": "stderr",
     "output_type": "stream",
     "text": [
      "110it [00:52,  1.79it/s]"
     ]
    },
    {
     "name": "stdout",
     "output_type": "stream",
     "text": [
      "Match found!\n",
      "Match found!\n",
      "Match found!\n"
     ]
    },
    {
     "name": "stderr",
     "output_type": "stream",
     "text": [
      "\r",
      "112it [00:53,  1.63it/s]"
     ]
    },
    {
     "name": "stdout",
     "output_type": "stream",
     "text": [
      "Match found!\n"
     ]
    },
    {
     "name": "stderr",
     "output_type": "stream",
     "text": [
      "\r",
      "113it [00:55,  1.02s/it]"
     ]
    },
    {
     "name": "stdout",
     "output_type": "stream",
     "text": [
      "Match found!\n"
     ]
    },
    {
     "name": "stderr",
     "output_type": "stream",
     "text": [
      "116it [00:56,  1.62it/s]"
     ]
    },
    {
     "name": "stdout",
     "output_type": "stream",
     "text": [
      "Match found!\n",
      "Match found!\n",
      "Match found!\n"
     ]
    },
    {
     "name": "stderr",
     "output_type": "stream",
     "text": [
      "\r",
      "117it [00:56,  1.78it/s]"
     ]
    },
    {
     "name": "stdout",
     "output_type": "stream",
     "text": [
      "Match found!\n"
     ]
    },
    {
     "name": "stderr",
     "output_type": "stream",
     "text": [
      "\r",
      "118it [00:57,  1.98it/s]"
     ]
    },
    {
     "name": "stdout",
     "output_type": "stream",
     "text": [
      "Match found!\n"
     ]
    },
    {
     "name": "stderr",
     "output_type": "stream",
     "text": [
      "121it [00:57,  2.81it/s]"
     ]
    },
    {
     "name": "stdout",
     "output_type": "stream",
     "text": [
      "Match found!\n",
      "Match found!\n",
      "Match found!\n"
     ]
    },
    {
     "name": "stderr",
     "output_type": "stream",
     "text": [
      "\r",
      "122it [00:57,  3.34it/s]"
     ]
    },
    {
     "name": "stdout",
     "output_type": "stream",
     "text": [
      "Match found!\n"
     ]
    },
    {
     "name": "stderr",
     "output_type": "stream",
     "text": [
      "\r",
      "123it [00:58,  3.62it/s]"
     ]
    },
    {
     "name": "stdout",
     "output_type": "stream",
     "text": [
      "Match found!\n"
     ]
    },
    {
     "name": "stderr",
     "output_type": "stream",
     "text": [
      "\r",
      "124it [00:58,  3.62it/s]"
     ]
    },
    {
     "name": "stdout",
     "output_type": "stream",
     "text": [
      "Match found!\n"
     ]
    },
    {
     "name": "stderr",
     "output_type": "stream",
     "text": [
      "126it [00:59,  3.61it/s]"
     ]
    },
    {
     "name": "stdout",
     "output_type": "stream",
     "text": [
      "Match found!\n",
      "Match found!\n"
     ]
    },
    {
     "name": "stderr",
     "output_type": "stream",
     "text": [
      "\r",
      "127it [00:59,  3.43it/s]"
     ]
    },
    {
     "name": "stdout",
     "output_type": "stream",
     "text": [
      "Match found!\n"
     ]
    },
    {
     "name": "stderr",
     "output_type": "stream",
     "text": [
      "130it [00:59,  4.48it/s]"
     ]
    },
    {
     "name": "stdout",
     "output_type": "stream",
     "text": [
      "Match found!\n",
      "Match found!\n",
      "Match found!\n"
     ]
    },
    {
     "name": "stderr",
     "output_type": "stream",
     "text": [
      "132it [01:00,  4.01it/s]"
     ]
    },
    {
     "name": "stdout",
     "output_type": "stream",
     "text": [
      "Match found!\n",
      "Match found!\n"
     ]
    },
    {
     "name": "stderr",
     "output_type": "stream",
     "text": [
      "134it [01:00,  4.75it/s]"
     ]
    },
    {
     "name": "stdout",
     "output_type": "stream",
     "text": [
      "Match found!\n",
      "Match found!\n"
     ]
    },
    {
     "name": "stderr",
     "output_type": "stream",
     "text": [
      "137it [01:01,  4.78it/s]"
     ]
    },
    {
     "name": "stdout",
     "output_type": "stream",
     "text": [
      "Match found!\n",
      "Match found!\n",
      "Match found!\n"
     ]
    },
    {
     "name": "stderr",
     "output_type": "stream",
     "text": [
      "\r",
      "138it [01:01,  4.91it/s]"
     ]
    },
    {
     "name": "stdout",
     "output_type": "stream",
     "text": [
      "Match found!\n"
     ]
    },
    {
     "name": "stderr",
     "output_type": "stream",
     "text": [
      "\r",
      "139it [01:01,  4.64it/s]"
     ]
    },
    {
     "name": "stdout",
     "output_type": "stream",
     "text": [
      "Match found!\n",
      "Match found!\n"
     ]
    },
    {
     "name": "stderr",
     "output_type": "stream",
     "text": [
      "\r",
      "141it [01:02,  3.72it/s]"
     ]
    },
    {
     "name": "stdout",
     "output_type": "stream",
     "text": [
      "Match found!\n"
     ]
    },
    {
     "name": "stderr",
     "output_type": "stream",
     "text": [
      "\r",
      "142it [01:03,  2.68it/s]"
     ]
    },
    {
     "name": "stdout",
     "output_type": "stream",
     "text": [
      "Match found!\n",
      "Match found!\n"
     ]
    },
    {
     "name": "stderr",
     "output_type": "stream",
     "text": [
      "146it [01:06,  1.98it/s]"
     ]
    },
    {
     "name": "stdout",
     "output_type": "stream",
     "text": [
      "Match found!\n",
      "Match found!\n",
      "Match found!\n"
     ]
    },
    {
     "name": "stderr",
     "output_type": "stream",
     "text": [
      "148it [01:06,  2.75it/s]"
     ]
    },
    {
     "name": "stdout",
     "output_type": "stream",
     "text": [
      "Match found!\n",
      "Match found!\n"
     ]
    },
    {
     "name": "stderr",
     "output_type": "stream",
     "text": [
      "\r",
      "150it [01:06,  3.37it/s]"
     ]
    },
    {
     "name": "stdout",
     "output_type": "stream",
     "text": [
      "Match found!\n",
      "Match found!\n"
     ]
    },
    {
     "name": "stderr",
     "output_type": "stream",
     "text": [
      "\r",
      "151it [01:07,  3.55it/s]"
     ]
    },
    {
     "name": "stdout",
     "output_type": "stream",
     "text": [
      "Match found!\n"
     ]
    },
    {
     "name": "stderr",
     "output_type": "stream",
     "text": [
      "153it [01:07,  4.38it/s]"
     ]
    },
    {
     "name": "stdout",
     "output_type": "stream",
     "text": [
      "Match found!\n",
      "Match found!\n"
     ]
    },
    {
     "name": "stderr",
     "output_type": "stream",
     "text": [
      "\r",
      "155it [01:07,  4.90it/s]"
     ]
    },
    {
     "name": "stdout",
     "output_type": "stream",
     "text": [
      "Match found!\n"
     ]
    },
    {
     "name": "stderr",
     "output_type": "stream",
     "text": [
      "\r",
      "156it [01:07,  5.69it/s]"
     ]
    },
    {
     "name": "stdout",
     "output_type": "stream",
     "text": [
      "Match found!\n",
      "Match found!\n"
     ]
    },
    {
     "name": "stderr",
     "output_type": "stream",
     "text": [
      "\r",
      "157it [01:08,  4.98it/s]"
     ]
    },
    {
     "name": "stdout",
     "output_type": "stream",
     "text": [
      "Match found!\n"
     ]
    },
    {
     "name": "stderr",
     "output_type": "stream",
     "text": [
      "159it [01:08,  4.00it/s]"
     ]
    },
    {
     "name": "stdout",
     "output_type": "stream",
     "text": [
      "Match found!\n",
      "Match found!\n"
     ]
    },
    {
     "name": "stderr",
     "output_type": "stream",
     "text": [
      "\r",
      "160it [01:09,  4.53it/s]"
     ]
    },
    {
     "name": "stdout",
     "output_type": "stream",
     "text": [
      "Match found!\n"
     ]
    },
    {
     "name": "stderr",
     "output_type": "stream",
     "text": [
      "163it [01:09,  5.61it/s]"
     ]
    },
    {
     "name": "stdout",
     "output_type": "stream",
     "text": [
      "Match found!\n",
      "Match found!\n",
      "Match found!\n"
     ]
    },
    {
     "name": "stderr",
     "output_type": "stream",
     "text": [
      "\r",
      "165it [01:09,  6.57it/s]"
     ]
    },
    {
     "name": "stdout",
     "output_type": "stream",
     "text": [
      "Match found!\n",
      "Match found!\n"
     ]
    },
    {
     "name": "stderr",
     "output_type": "stream",
     "text": [
      "168it [01:09,  7.15it/s]"
     ]
    },
    {
     "name": "stdout",
     "output_type": "stream",
     "text": [
      "Match found!\n",
      "Match found!\n",
      "Match found!\n"
     ]
    },
    {
     "name": "stderr",
     "output_type": "stream",
     "text": [
      "170it [01:10,  5.04it/s]"
     ]
    },
    {
     "name": "stdout",
     "output_type": "stream",
     "text": [
      "Match found!\n",
      "Match found!\n"
     ]
    },
    {
     "name": "stderr",
     "output_type": "stream",
     "text": [
      "\r",
      "172it [01:10,  5.68it/s]"
     ]
    },
    {
     "name": "stdout",
     "output_type": "stream",
     "text": [
      "Match found!\n",
      "Match found!\n"
     ]
    },
    {
     "name": "stderr",
     "output_type": "stream",
     "text": [
      "\r",
      "173it [01:10,  5.64it/s]"
     ]
    },
    {
     "name": "stdout",
     "output_type": "stream",
     "text": [
      "Match found!\n"
     ]
    },
    {
     "name": "stderr",
     "output_type": "stream",
     "text": [
      "\r",
      "174it [01:11,  4.47it/s]"
     ]
    },
    {
     "name": "stdout",
     "output_type": "stream",
     "text": [
      "Match found!\n"
     ]
    },
    {
     "name": "stderr",
     "output_type": "stream",
     "text": [
      "176it [01:11,  4.35it/s]"
     ]
    },
    {
     "name": "stdout",
     "output_type": "stream",
     "text": [
      "Match found!\n",
      "Match found!\n"
     ]
    },
    {
     "name": "stderr",
     "output_type": "stream",
     "text": [
      "178it [01:12,  4.50it/s]"
     ]
    },
    {
     "name": "stdout",
     "output_type": "stream",
     "text": [
      "Match found!\n",
      "Match found!\n"
     ]
    },
    {
     "name": "stderr",
     "output_type": "stream",
     "text": [
      "\r",
      "179it [01:12,  5.21it/s]"
     ]
    },
    {
     "name": "stdout",
     "output_type": "stream",
     "text": [
      "Match found!\n"
     ]
    },
    {
     "name": "stderr",
     "output_type": "stream",
     "text": [
      "181it [01:13,  4.19it/s]"
     ]
    },
    {
     "name": "stdout",
     "output_type": "stream",
     "text": [
      "Match found!\n",
      "Match found!\n",
      "Match found!\n"
     ]
    },
    {
     "name": "stderr",
     "output_type": "stream",
     "text": [
      "\r",
      "183it [01:13,  5.14it/s]"
     ]
    },
    {
     "name": "stdout",
     "output_type": "stream",
     "text": [
      "Match found!\n"
     ]
    },
    {
     "name": "stderr",
     "output_type": "stream",
     "text": [
      "\r",
      "184it [01:13,  4.32it/s]"
     ]
    },
    {
     "name": "stdout",
     "output_type": "stream",
     "text": [
      "Match found!\n",
      "Match found!\n"
     ]
    },
    {
     "name": "stderr",
     "output_type": "stream",
     "text": [
      "\r",
      "186it [01:13,  5.01it/s]"
     ]
    },
    {
     "name": "stdout",
     "output_type": "stream",
     "text": [
      "Match found!\n"
     ]
    },
    {
     "name": "stderr",
     "output_type": "stream",
     "text": [
      "188it [01:14,  3.70it/s]"
     ]
    },
    {
     "name": "stdout",
     "output_type": "stream",
     "text": [
      "Match found!\n"
     ]
    },
    {
     "name": "stderr",
     "output_type": "stream",
     "text": [
      "\r",
      "189it [01:14,  4.45it/s]"
     ]
    },
    {
     "name": "stdout",
     "output_type": "stream",
     "text": [
      "Match found!\n",
      "Match found!\n"
     ]
    },
    {
     "name": "stderr",
     "output_type": "stream",
     "text": [
      "\r",
      "190it [01:15,  2.48it/s]"
     ]
    },
    {
     "name": "stdout",
     "output_type": "stream",
     "text": [
      "Match found!\n"
     ]
    },
    {
     "name": "stderr",
     "output_type": "stream",
     "text": [
      "192it [01:16,  2.71it/s]"
     ]
    },
    {
     "name": "stdout",
     "output_type": "stream",
     "text": [
      "Match found!\n",
      "Match found!\n"
     ]
    },
    {
     "name": "stderr",
     "output_type": "stream",
     "text": [
      "194it [01:16,  3.82it/s]"
     ]
    },
    {
     "name": "stdout",
     "output_type": "stream",
     "text": [
      "Match found!\n",
      "Match found!\n"
     ]
    },
    {
     "name": "stderr",
     "output_type": "stream",
     "text": [
      "\r",
      "195it [01:16,  3.49it/s]"
     ]
    },
    {
     "name": "stdout",
     "output_type": "stream",
     "text": [
      "Match found!\n"
     ]
    },
    {
     "name": "stderr",
     "output_type": "stream",
     "text": [
      "\r",
      "196it [01:17,  3.01it/s]"
     ]
    },
    {
     "name": "stdout",
     "output_type": "stream",
     "text": [
      "Match found!\n"
     ]
    },
    {
     "name": "stderr",
     "output_type": "stream",
     "text": [
      "198it [01:18,  2.08it/s]"
     ]
    },
    {
     "name": "stdout",
     "output_type": "stream",
     "text": [
      "Match found!\n",
      "Match found!\n"
     ]
    },
    {
     "name": "stderr",
     "output_type": "stream",
     "text": [
      "200it [01:20,  1.93it/s]"
     ]
    },
    {
     "name": "stdout",
     "output_type": "stream",
     "text": [
      "Match found!\n",
      "Match found!\n"
     ]
    },
    {
     "name": "stderr",
     "output_type": "stream",
     "text": [
      "\r",
      "201it [01:20,  2.03it/s]"
     ]
    },
    {
     "name": "stdout",
     "output_type": "stream",
     "text": [
      "Match found!\n"
     ]
    },
    {
     "name": "stderr",
     "output_type": "stream",
     "text": [
      "\r",
      "202it [01:20,  2.30it/s]"
     ]
    },
    {
     "name": "stdout",
     "output_type": "stream",
     "text": [
      "Match found!\n"
     ]
    },
    {
     "name": "stderr",
     "output_type": "stream",
     "text": [
      "204it [01:21,  3.38it/s]"
     ]
    },
    {
     "name": "stdout",
     "output_type": "stream",
     "text": [
      "Match found!\n",
      "Match found!\n"
     ]
    },
    {
     "name": "stderr",
     "output_type": "stream",
     "text": [
      "\r",
      "205it [01:21,  2.66it/s]"
     ]
    },
    {
     "name": "stdout",
     "output_type": "stream",
     "text": [
      "Match found!\n",
      "Match found!\n"
     ]
    },
    {
     "name": "stderr",
     "output_type": "stream",
     "text": [
      "\r",
      "207it [01:21,  3.38it/s]"
     ]
    },
    {
     "name": "stdout",
     "output_type": "stream",
     "text": [
      "Match found!\n"
     ]
    },
    {
     "name": "stderr",
     "output_type": "stream",
     "text": [
      "\r",
      "208it [01:22,  3.43it/s]"
     ]
    },
    {
     "name": "stdout",
     "output_type": "stream",
     "text": [
      "Match found!\n"
     ]
    },
    {
     "name": "stderr",
     "output_type": "stream",
     "text": [
      "\r",
      "209it [01:24,  1.00s/it]"
     ]
    },
    {
     "name": "stdout",
     "output_type": "stream",
     "text": [
      "Match found!\n",
      "Match found!\n"
     ]
    },
    {
     "name": "stderr",
     "output_type": "stream",
     "text": [
      "\r",
      "211it [01:25,  1.16it/s]"
     ]
    },
    {
     "name": "stdout",
     "output_type": "stream",
     "text": [
      "Match found!\n"
     ]
    },
    {
     "name": "stderr",
     "output_type": "stream",
     "text": [
      "\r",
      "212it [01:26,  1.41it/s]"
     ]
    },
    {
     "name": "stdout",
     "output_type": "stream",
     "text": [
      "Match found!\n"
     ]
    },
    {
     "name": "stderr",
     "output_type": "stream",
     "text": [
      "\r",
      "213it [01:26,  1.65it/s]"
     ]
    },
    {
     "name": "stdout",
     "output_type": "stream",
     "text": [
      "Match found!\n",
      "Match found!\n"
     ]
    },
    {
     "name": "stderr",
     "output_type": "stream",
     "text": [
      "\r",
      "215it [01:26,  2.15it/s]"
     ]
    },
    {
     "name": "stdout",
     "output_type": "stream",
     "text": [
      "Match found!\n",
      "Match found!\n"
     ]
    },
    {
     "name": "stderr",
     "output_type": "stream",
     "text": [
      "\r",
      "217it [01:27,  2.57it/s]"
     ]
    },
    {
     "name": "stdout",
     "output_type": "stream",
     "text": [
      "Match found!\n"
     ]
    },
    {
     "name": "stderr",
     "output_type": "stream",
     "text": [
      "219it [01:27,  3.10it/s]"
     ]
    },
    {
     "name": "stdout",
     "output_type": "stream",
     "text": [
      "Match found!\n",
      "Match found!\n",
      "Match found!\n"
     ]
    },
    {
     "name": "stderr",
     "output_type": "stream",
     "text": [
      "222it [01:28,  4.55it/s]"
     ]
    },
    {
     "name": "stdout",
     "output_type": "stream",
     "text": [
      "Match found!\n",
      "Match found!\n"
     ]
    },
    {
     "name": "stderr",
     "output_type": "stream",
     "text": [
      "\r",
      "223it [01:28,  4.81it/s]"
     ]
    },
    {
     "name": "stdout",
     "output_type": "stream",
     "text": [
      "Match found!\n"
     ]
    },
    {
     "name": "stderr",
     "output_type": "stream",
     "text": [
      "225it [01:30,  1.83it/s]"
     ]
    },
    {
     "name": "stdout",
     "output_type": "stream",
     "text": [
      "Match found!\n",
      "Match found!\n"
     ]
    },
    {
     "name": "stderr",
     "output_type": "stream",
     "text": [
      "\r",
      "226it [01:30,  2.41it/s]"
     ]
    },
    {
     "name": "stdout",
     "output_type": "stream",
     "text": [
      "Match found!\n",
      "Match found!\n"
     ]
    },
    {
     "name": "stderr",
     "output_type": "stream",
     "text": [
      "\r",
      "228it [01:31,  2.20it/s]"
     ]
    },
    {
     "name": "stdout",
     "output_type": "stream",
     "text": [
      "Match found!\n"
     ]
    },
    {
     "name": "stderr",
     "output_type": "stream",
     "text": [
      "\r",
      "229it [01:32,  2.10it/s]"
     ]
    },
    {
     "name": "stdout",
     "output_type": "stream",
     "text": [
      "Match found!\n"
     ]
    },
    {
     "name": "stderr",
     "output_type": "stream",
     "text": [
      "\r",
      "230it [01:33,  1.60it/s]"
     ]
    },
    {
     "name": "stdout",
     "output_type": "stream",
     "text": [
      "Match found!\n"
     ]
    },
    {
     "name": "stderr",
     "output_type": "stream",
     "text": [
      "\r",
      "231it [01:35,  1.00s/it]"
     ]
    },
    {
     "name": "stdout",
     "output_type": "stream",
     "text": [
      "Match found!\n"
     ]
    },
    {
     "name": "stderr",
     "output_type": "stream",
     "text": [
      "\r",
      "232it [01:36,  1.00it/s]"
     ]
    },
    {
     "name": "stdout",
     "output_type": "stream",
     "text": [
      "Match found!\n"
     ]
    },
    {
     "name": "stderr",
     "output_type": "stream",
     "text": [
      "\r",
      "233it [01:36,  1.08it/s]"
     ]
    },
    {
     "name": "stdout",
     "output_type": "stream",
     "text": [
      "Match found!\n"
     ]
    },
    {
     "name": "stderr",
     "output_type": "stream",
     "text": [
      "\r",
      "234it [01:37,  1.01it/s]"
     ]
    },
    {
     "name": "stdout",
     "output_type": "stream",
     "text": [
      "Match found!\n"
     ]
    },
    {
     "name": "stderr",
     "output_type": "stream",
     "text": [
      "\r",
      "235it [01:39,  1.03s/it]"
     ]
    },
    {
     "name": "stdout",
     "output_type": "stream",
     "text": [
      "Match found!\n",
      "Match found!\n"
     ]
    },
    {
     "name": "stderr",
     "output_type": "stream",
     "text": [
      "\r",
      "237it [01:39,  1.25it/s]"
     ]
    },
    {
     "name": "stdout",
     "output_type": "stream",
     "text": [
      "Match found!\n"
     ]
    },
    {
     "name": "stderr",
     "output_type": "stream",
     "text": [
      "\r",
      "238it [01:39,  1.60it/s]"
     ]
    },
    {
     "name": "stdout",
     "output_type": "stream",
     "text": [
      "Match found!\n",
      "Match found!\n"
     ]
    },
    {
     "name": "stderr",
     "output_type": "stream",
     "text": [
      "\r",
      "240it [01:40,  2.07it/s]"
     ]
    },
    {
     "name": "stdout",
     "output_type": "stream",
     "text": [
      "Match found!\n"
     ]
    },
    {
     "name": "stderr",
     "output_type": "stream",
     "text": [
      "\r",
      "241it [01:40,  2.30it/s]"
     ]
    },
    {
     "name": "stdout",
     "output_type": "stream",
     "text": [
      "Match found!\n",
      "Match found!\n"
     ]
    },
    {
     "name": "stderr",
     "output_type": "stream",
     "text": [
      "\r",
      "243it [01:41,  2.50it/s]"
     ]
    },
    {
     "name": "stdout",
     "output_type": "stream",
     "text": [
      "Match found!\n"
     ]
    },
    {
     "name": "stderr",
     "output_type": "stream",
     "text": [
      "245it [01:41,  3.31it/s]"
     ]
    },
    {
     "name": "stdout",
     "output_type": "stream",
     "text": [
      "Match found!\n",
      "Match found!\n"
     ]
    },
    {
     "name": "stderr",
     "output_type": "stream",
     "text": [
      "\r",
      "246it [01:41,  3.36it/s]"
     ]
    },
    {
     "name": "stdout",
     "output_type": "stream",
     "text": [
      "Match found!\n"
     ]
    },
    {
     "name": "stderr",
     "output_type": "stream",
     "text": [
      "\r",
      "247it [01:42,  2.43it/s]"
     ]
    },
    {
     "name": "stdout",
     "output_type": "stream",
     "text": [
      "Match found!\n",
      "Match found!\n",
      "Match found!\n"
     ]
    },
    {
     "name": "stderr",
     "output_type": "stream",
     "text": [
      "\r",
      "250it [01:42,  2.98it/s]"
     ]
    },
    {
     "name": "stdout",
     "output_type": "stream",
     "text": [
      "Match found!\n"
     ]
    },
    {
     "name": "stderr",
     "output_type": "stream",
     "text": [
      "\r",
      "251it [01:43,  2.57it/s]"
     ]
    },
    {
     "name": "stdout",
     "output_type": "stream",
     "text": [
      "Match found!\n"
     ]
    },
    {
     "name": "stderr",
     "output_type": "stream",
     "text": [
      "\r",
      "252it [01:43,  2.71it/s]"
     ]
    },
    {
     "name": "stdout",
     "output_type": "stream",
     "text": [
      "Match found!\n"
     ]
    },
    {
     "name": "stderr",
     "output_type": "stream",
     "text": [
      "255it [01:44,  3.81it/s]"
     ]
    },
    {
     "name": "stdout",
     "output_type": "stream",
     "text": [
      "Match found!\n",
      "Match found!\n",
      "Match found!\n"
     ]
    },
    {
     "name": "stderr",
     "output_type": "stream",
     "text": [
      "\r",
      "256it [01:44,  3.85it/s]"
     ]
    },
    {
     "name": "stdout",
     "output_type": "stream",
     "text": [
      "Match found!\n"
     ]
    },
    {
     "name": "stderr",
     "output_type": "stream",
     "text": [
      "259it [01:44,  4.48it/s]"
     ]
    },
    {
     "name": "stdout",
     "output_type": "stream",
     "text": [
      "Match found!\n",
      "Match found!\n",
      "Match found!\n"
     ]
    },
    {
     "name": "stderr",
     "output_type": "stream",
     "text": [
      "\r",
      "261it [01:45,  5.24it/s]"
     ]
    },
    {
     "name": "stdout",
     "output_type": "stream",
     "text": [
      "Match found!\n",
      "Match found!\n"
     ]
    },
    {
     "name": "stderr",
     "output_type": "stream",
     "text": [
      "\r",
      "262it [01:45,  5.82it/s]"
     ]
    },
    {
     "name": "stdout",
     "output_type": "stream",
     "text": [
      "Match found!\n"
     ]
    },
    {
     "name": "stderr",
     "output_type": "stream",
     "text": [
      "\r",
      "263it [01:46,  2.09it/s]"
     ]
    },
    {
     "name": "stdout",
     "output_type": "stream",
     "text": [
      "Match found!\n",
      "Match found!\n"
     ]
    },
    {
     "name": "stderr",
     "output_type": "stream",
     "text": [
      "\r",
      "265it [01:46,  2.60it/s]"
     ]
    },
    {
     "name": "stdout",
     "output_type": "stream",
     "text": [
      "Match found!\n"
     ]
    },
    {
     "name": "stderr",
     "output_type": "stream",
     "text": [
      "\r",
      "266it [01:47,  2.73it/s]"
     ]
    },
    {
     "name": "stdout",
     "output_type": "stream",
     "text": [
      "Match found!\n"
     ]
    },
    {
     "name": "stderr",
     "output_type": "stream",
     "text": [
      "\r",
      "267it [01:47,  2.89it/s]"
     ]
    },
    {
     "name": "stdout",
     "output_type": "stream",
     "text": [
      "Match found!\n"
     ]
    },
    {
     "name": "stderr",
     "output_type": "stream",
     "text": [
      "\r",
      "268it [01:48,  2.28it/s]"
     ]
    },
    {
     "name": "stdout",
     "output_type": "stream",
     "text": [
      "Match found!\n"
     ]
    },
    {
     "name": "stderr",
     "output_type": "stream",
     "text": [
      "\r",
      "269it [01:48,  2.47it/s]"
     ]
    },
    {
     "name": "stdout",
     "output_type": "stream",
     "text": [
      "Match found!\n",
      "Match found!\n"
     ]
    },
    {
     "name": "stderr",
     "output_type": "stream",
     "text": [
      "272it [01:48,  3.61it/s]"
     ]
    },
    {
     "name": "stdout",
     "output_type": "stream",
     "text": [
      "Match found!\n",
      "Match found!\n"
     ]
    },
    {
     "name": "stderr",
     "output_type": "stream",
     "text": [
      "\r",
      "273it [01:49,  3.51it/s]"
     ]
    },
    {
     "name": "stdout",
     "output_type": "stream",
     "text": [
      "Match found!\n"
     ]
    },
    {
     "name": "stderr",
     "output_type": "stream",
     "text": [
      "275it [01:49,  4.00it/s]"
     ]
    },
    {
     "name": "stdout",
     "output_type": "stream",
     "text": [
      "Match found!\n",
      "Match found!\n"
     ]
    },
    {
     "name": "stderr",
     "output_type": "stream",
     "text": [
      "277it [01:49,  5.34it/s]"
     ]
    },
    {
     "name": "stdout",
     "output_type": "stream",
     "text": [
      "Match found!\n",
      "Match found!\n"
     ]
    },
    {
     "name": "stderr",
     "output_type": "stream",
     "text": [
      "\r",
      "278it [01:50,  3.83it/s]"
     ]
    },
    {
     "name": "stdout",
     "output_type": "stream",
     "text": [
      "Match found!\n"
     ]
    },
    {
     "name": "stderr",
     "output_type": "stream",
     "text": [
      "\r",
      "279it [01:50,  2.89it/s]"
     ]
    },
    {
     "name": "stdout",
     "output_type": "stream",
     "text": [
      "Match found!\n"
     ]
    },
    {
     "name": "stderr",
     "output_type": "stream",
     "text": [
      "281it [01:51,  3.75it/s]"
     ]
    },
    {
     "name": "stdout",
     "output_type": "stream",
     "text": [
      "Match found!\n",
      "Match found!\n"
     ]
    },
    {
     "name": "stderr",
     "output_type": "stream",
     "text": [
      "283it [01:51,  4.12it/s]"
     ]
    },
    {
     "name": "stdout",
     "output_type": "stream",
     "text": [
      "Match found!\n",
      "Match found!\n"
     ]
    },
    {
     "name": "stderr",
     "output_type": "stream",
     "text": [
      "285it [01:52,  4.40it/s]"
     ]
    },
    {
     "name": "stdout",
     "output_type": "stream",
     "text": [
      "Match found!\n",
      "Match found!\n"
     ]
    },
    {
     "name": "stderr",
     "output_type": "stream",
     "text": [
      "\r",
      "286it [01:52,  4.78it/s]"
     ]
    },
    {
     "name": "stdout",
     "output_type": "stream",
     "text": [
      "Match found!\n"
     ]
    },
    {
     "name": "stderr",
     "output_type": "stream",
     "text": [
      "\r",
      "287it [01:52,  3.86it/s]"
     ]
    },
    {
     "name": "stdout",
     "output_type": "stream",
     "text": [
      "Match found!\n",
      "Match found!\n"
     ]
    },
    {
     "name": "stderr",
     "output_type": "stream",
     "text": [
      "\r",
      "289it [01:53,  3.62it/s]"
     ]
    },
    {
     "name": "stdout",
     "output_type": "stream",
     "text": [
      "Match found!\n"
     ]
    },
    {
     "name": "stderr",
     "output_type": "stream",
     "text": [
      "\r",
      "290it [01:53,  3.31it/s]"
     ]
    },
    {
     "name": "stdout",
     "output_type": "stream",
     "text": [
      "Match found!\n"
     ]
    },
    {
     "name": "stderr",
     "output_type": "stream",
     "text": [
      "293it [01:54,  4.26it/s]"
     ]
    },
    {
     "name": "stdout",
     "output_type": "stream",
     "text": [
      "Match found!\n",
      "Match found!\n",
      "Match found!\n"
     ]
    },
    {
     "name": "stderr",
     "output_type": "stream",
     "text": [
      "295it [01:54,  3.36it/s]"
     ]
    },
    {
     "name": "stdout",
     "output_type": "stream",
     "text": [
      "Match found!\n",
      "Match found!\n"
     ]
    },
    {
     "name": "stderr",
     "output_type": "stream",
     "text": [
      "297it [01:55,  4.08it/s]"
     ]
    },
    {
     "name": "stdout",
     "output_type": "stream",
     "text": [
      "Match found!\n",
      "Match found!\n"
     ]
    },
    {
     "name": "stderr",
     "output_type": "stream",
     "text": [
      "\r",
      "298it [01:55,  4.09it/s]"
     ]
    },
    {
     "name": "stdout",
     "output_type": "stream",
     "text": [
      "Match found!\n"
     ]
    },
    {
     "name": "stderr",
     "output_type": "stream",
     "text": [
      "\r",
      "299it [01:56,  2.95it/s]"
     ]
    },
    {
     "name": "stdout",
     "output_type": "stream",
     "text": [
      "Match found!\n"
     ]
    },
    {
     "name": "stderr",
     "output_type": "stream",
     "text": [
      "302it [01:56,  3.47it/s]"
     ]
    },
    {
     "name": "stdout",
     "output_type": "stream",
     "text": [
      "Match found!\n",
      "Match found!\n",
      "Match found!\n"
     ]
    },
    {
     "name": "stderr",
     "output_type": "stream",
     "text": [
      "304it [01:57,  4.49it/s]"
     ]
    },
    {
     "name": "stdout",
     "output_type": "stream",
     "text": [
      "Match found!\n",
      "Match found!\n"
     ]
    },
    {
     "name": "stderr",
     "output_type": "stream",
     "text": [
      "\r",
      "305it [01:57,  4.81it/s]"
     ]
    },
    {
     "name": "stdout",
     "output_type": "stream",
     "text": [
      "Match found!\n"
     ]
    },
    {
     "name": "stderr",
     "output_type": "stream",
     "text": [
      "\r",
      "306it [01:58,  2.52it/s]"
     ]
    },
    {
     "name": "stdout",
     "output_type": "stream",
     "text": [
      "Match found!\n"
     ]
    },
    {
     "name": "stderr",
     "output_type": "stream",
     "text": [
      "\r",
      "307it [01:58,  1.91it/s]"
     ]
    },
    {
     "name": "stdout",
     "output_type": "stream",
     "text": [
      "Match found!\n"
     ]
    },
    {
     "name": "stderr",
     "output_type": "stream",
     "text": [
      "\r",
      "308it [01:59,  1.67it/s]"
     ]
    },
    {
     "name": "stdout",
     "output_type": "stream",
     "text": [
      "Match found!\n"
     ]
    },
    {
     "name": "stderr",
     "output_type": "stream",
     "text": [
      "\r",
      "309it [02:00,  1.86it/s]"
     ]
    },
    {
     "name": "stdout",
     "output_type": "stream",
     "text": [
      "Match found!\n"
     ]
    },
    {
     "name": "stderr",
     "output_type": "stream",
     "text": [
      "\r",
      "310it [02:00,  1.93it/s]"
     ]
    },
    {
     "name": "stdout",
     "output_type": "stream",
     "text": [
      "Match found!\n"
     ]
    },
    {
     "name": "stderr",
     "output_type": "stream",
     "text": [
      "\r",
      "311it [02:01,  1.79it/s]"
     ]
    },
    {
     "name": "stdout",
     "output_type": "stream",
     "text": [
      "Match found!\n",
      "Match found!\n"
     ]
    },
    {
     "name": "stderr",
     "output_type": "stream",
     "text": [
      "\r",
      "313it [02:01,  2.22it/s]"
     ]
    },
    {
     "name": "stdout",
     "output_type": "stream",
     "text": [
      "Match found!\n"
     ]
    },
    {
     "name": "stderr",
     "output_type": "stream",
     "text": [
      "\r",
      "314it [02:02,  1.96it/s]"
     ]
    },
    {
     "name": "stdout",
     "output_type": "stream",
     "text": [
      "Match found!\n"
     ]
    },
    {
     "name": "stderr",
     "output_type": "stream",
     "text": [
      "\r",
      "315it [02:02,  2.32it/s]"
     ]
    },
    {
     "name": "stdout",
     "output_type": "stream",
     "text": [
      "Match found!\n"
     ]
    },
    {
     "name": "stderr",
     "output_type": "stream",
     "text": [
      "317it [02:03,  2.64it/s]"
     ]
    },
    {
     "name": "stdout",
     "output_type": "stream",
     "text": [
      "Match found!\n",
      "Match found!\n"
     ]
    },
    {
     "name": "stderr",
     "output_type": "stream",
     "text": [
      "\r",
      "319it [02:03,  3.28it/s]"
     ]
    },
    {
     "name": "stdout",
     "output_type": "stream",
     "text": [
      "Match found!\n",
      "Match found!\n"
     ]
    },
    {
     "name": "stderr",
     "output_type": "stream",
     "text": [
      "\r",
      "320it [02:03,  3.39it/s]"
     ]
    },
    {
     "name": "stdout",
     "output_type": "stream",
     "text": [
      "Match found!\n"
     ]
    },
    {
     "name": "stderr",
     "output_type": "stream",
     "text": [
      "\r",
      "321it [02:04,  2.84it/s]"
     ]
    },
    {
     "name": "stdout",
     "output_type": "stream",
     "text": [
      "Match found!\n"
     ]
    },
    {
     "name": "stderr",
     "output_type": "stream",
     "text": [
      "\r",
      "322it [02:05,  2.13it/s]"
     ]
    },
    {
     "name": "stdout",
     "output_type": "stream",
     "text": [
      "Match found!\n"
     ]
    },
    {
     "name": "stderr",
     "output_type": "stream",
     "text": [
      "\r",
      "323it [02:05,  2.30it/s]"
     ]
    },
    {
     "name": "stdout",
     "output_type": "stream",
     "text": [
      "Match found!\n"
     ]
    },
    {
     "name": "stderr",
     "output_type": "stream",
     "text": [
      "\r",
      "324it [02:05,  2.51it/s]"
     ]
    },
    {
     "name": "stdout",
     "output_type": "stream",
     "text": [
      "Match found!\n",
      "Match found!\n"
     ]
    },
    {
     "name": "stderr",
     "output_type": "stream",
     "text": [
      "327it [02:06,  3.76it/s]"
     ]
    },
    {
     "name": "stdout",
     "output_type": "stream",
     "text": [
      "Match found!\n",
      "Match found!\n",
      "Match found!\n"
     ]
    },
    {
     "name": "stderr",
     "output_type": "stream",
     "text": [
      "\r",
      "329it [02:06,  4.55it/s]"
     ]
    },
    {
     "name": "stdout",
     "output_type": "stream",
     "text": [
      "Match found!\n",
      "Match found!\n"
     ]
    },
    {
     "name": "stderr",
     "output_type": "stream",
     "text": [
      "333it [02:07,  3.77it/s]"
     ]
    },
    {
     "name": "stdout",
     "output_type": "stream",
     "text": [
      "Match found!\n",
      "Match found!\n",
      "Match found!\n"
     ]
    },
    {
     "name": "stderr",
     "output_type": "stream",
     "text": [
      "335it [02:08,  2.68it/s]"
     ]
    },
    {
     "name": "stdout",
     "output_type": "stream",
     "text": [
      "Match found!\n",
      "Match found!\n",
      "Match found!\n"
     ]
    },
    {
     "name": "stderr",
     "output_type": "stream",
     "text": [
      "338it [02:09,  3.99it/s]"
     ]
    },
    {
     "name": "stdout",
     "output_type": "stream",
     "text": [
      "Match found!\n",
      "Match found!\n"
     ]
    },
    {
     "name": "stderr",
     "output_type": "stream",
     "text": [
      "340it [02:09,  4.07it/s]"
     ]
    },
    {
     "name": "stdout",
     "output_type": "stream",
     "text": [
      "Match found!\n",
      "Match found!\n"
     ]
    },
    {
     "name": "stderr",
     "output_type": "stream",
     "text": [
      "\r",
      "341it [02:10,  3.46it/s]"
     ]
    },
    {
     "name": "stdout",
     "output_type": "stream",
     "text": [
      "Match found!\n"
     ]
    },
    {
     "name": "stderr",
     "output_type": "stream",
     "text": [
      "\r",
      "342it [02:10,  3.36it/s]"
     ]
    },
    {
     "name": "stdout",
     "output_type": "stream",
     "text": [
      "Match found!\n"
     ]
    },
    {
     "name": "stderr",
     "output_type": "stream",
     "text": [
      "\r",
      "343it [02:11,  1.96it/s]"
     ]
    },
    {
     "name": "stdout",
     "output_type": "stream",
     "text": [
      "Match found!\n"
     ]
    },
    {
     "name": "stderr",
     "output_type": "stream",
     "text": [
      "\r",
      "344it [02:11,  2.04it/s]"
     ]
    },
    {
     "name": "stdout",
     "output_type": "stream",
     "text": [
      "Match found!\n",
      "Match found!\n"
     ]
    },
    {
     "name": "stderr",
     "output_type": "stream",
     "text": [
      "\r",
      "346it [02:12,  2.63it/s]"
     ]
    },
    {
     "name": "stdout",
     "output_type": "stream",
     "text": [
      "Match found!\n"
     ]
    },
    {
     "name": "stderr",
     "output_type": "stream",
     "text": [
      "\r",
      "347it [02:13,  1.95it/s]"
     ]
    },
    {
     "name": "stdout",
     "output_type": "stream",
     "text": [
      "Match found!\n",
      "Match found!\n"
     ]
    },
    {
     "name": "stderr",
     "output_type": "stream",
     "text": [
      "\r",
      "349it [02:13,  2.53it/s]"
     ]
    },
    {
     "name": "stdout",
     "output_type": "stream",
     "text": [
      "Match found!\n"
     ]
    },
    {
     "name": "stderr",
     "output_type": "stream",
     "text": [
      "\r",
      "350it [02:13,  2.12it/s]"
     ]
    },
    {
     "name": "stdout",
     "output_type": "stream",
     "text": [
      "Match found!\n",
      "Match found!\n"
     ]
    },
    {
     "name": "stderr",
     "output_type": "stream",
     "text": [
      "354it [02:14,  3.44it/s]"
     ]
    },
    {
     "name": "stdout",
     "output_type": "stream",
     "text": [
      "Match found!\n",
      "Match found!\n",
      "Match found!\n"
     ]
    },
    {
     "name": "stderr",
     "output_type": "stream",
     "text": [
      "\r",
      "355it [02:15,  2.65it/s]"
     ]
    },
    {
     "name": "stdout",
     "output_type": "stream",
     "text": [
      "Match found!\n",
      "Match found!\n"
     ]
    },
    {
     "name": "stderr",
     "output_type": "stream",
     "text": [
      "\r",
      "357it [02:15,  3.30it/s]"
     ]
    },
    {
     "name": "stdout",
     "output_type": "stream",
     "text": [
      "Match found!\n"
     ]
    },
    {
     "name": "stderr",
     "output_type": "stream",
     "text": [
      "\r",
      "358it [02:15,  3.57it/s]"
     ]
    },
    {
     "name": "stdout",
     "output_type": "stream",
     "text": [
      "Match found!\n"
     ]
    },
    {
     "name": "stderr",
     "output_type": "stream",
     "text": [
      "\r",
      "359it [02:16,  2.72it/s]"
     ]
    },
    {
     "name": "stdout",
     "output_type": "stream",
     "text": [
      "Match found!\n"
     ]
    },
    {
     "name": "stderr",
     "output_type": "stream",
     "text": [
      "\r",
      "360it [02:17,  1.84it/s]"
     ]
    },
    {
     "name": "stdout",
     "output_type": "stream",
     "text": [
      "Match found!\n"
     ]
    },
    {
     "name": "stderr",
     "output_type": "stream",
     "text": [
      "362it [02:18,  2.07it/s]"
     ]
    },
    {
     "name": "stdout",
     "output_type": "stream",
     "text": [
      "Match found!\n",
      "Match found!\n"
     ]
    },
    {
     "name": "stderr",
     "output_type": "stream",
     "text": [
      "364it [02:18,  3.42it/s]"
     ]
    },
    {
     "name": "stdout",
     "output_type": "stream",
     "text": [
      "Match found!\n",
      "Match found!\n",
      "Match found!\n"
     ]
    },
    {
     "name": "stderr",
     "output_type": "stream",
     "text": [
      "367it [02:19,  3.87it/s]"
     ]
    },
    {
     "name": "stdout",
     "output_type": "stream",
     "text": [
      "Match found!\n",
      "Match found!\n"
     ]
    },
    {
     "name": "stderr",
     "output_type": "stream",
     "text": [
      "\r",
      "368it [02:19,  4.50it/s]"
     ]
    },
    {
     "name": "stdout",
     "output_type": "stream",
     "text": [
      "Match found!\n"
     ]
    },
    {
     "name": "stderr",
     "output_type": "stream",
     "text": [
      "370it [02:20,  2.33it/s]"
     ]
    },
    {
     "name": "stdout",
     "output_type": "stream",
     "text": [
      "Match found!\n",
      "Match found!\n"
     ]
    },
    {
     "name": "stderr",
     "output_type": "stream",
     "text": [
      "\r",
      "371it [02:20,  2.80it/s]"
     ]
    },
    {
     "name": "stdout",
     "output_type": "stream",
     "text": [
      "Match found!\n"
     ]
    },
    {
     "name": "stderr",
     "output_type": "stream",
     "text": [
      "373it [02:21,  3.14it/s]"
     ]
    },
    {
     "name": "stdout",
     "output_type": "stream",
     "text": [
      "Match found!\n",
      "Match found!\n"
     ]
    },
    {
     "name": "stderr",
     "output_type": "stream",
     "text": [
      "375it [02:22,  2.89it/s]"
     ]
    },
    {
     "name": "stdout",
     "output_type": "stream",
     "text": [
      "Match found!\n",
      "Match found!\n"
     ]
    },
    {
     "name": "stderr",
     "output_type": "stream",
     "text": [
      "377it [02:22,  3.59it/s]"
     ]
    },
    {
     "name": "stdout",
     "output_type": "stream",
     "text": [
      "Match found!\n",
      "Match found!\n"
     ]
    },
    {
     "name": "stderr",
     "output_type": "stream",
     "text": [
      "380it [02:23,  5.19it/s]"
     ]
    },
    {
     "name": "stdout",
     "output_type": "stream",
     "text": [
      "Match found!\n",
      "Match found!\n",
      "Match found!\n"
     ]
    },
    {
     "name": "stderr",
     "output_type": "stream",
     "text": [
      "\r",
      "381it [02:23,  4.65it/s]"
     ]
    },
    {
     "name": "stdout",
     "output_type": "stream",
     "text": [
      "Match found!\n",
      "Match found!\n"
     ]
    },
    {
     "name": "stderr",
     "output_type": "stream",
     "text": [
      "384it [02:23,  5.90it/s]"
     ]
    },
    {
     "name": "stdout",
     "output_type": "stream",
     "text": [
      "Match found!\n",
      "Match found!\n"
     ]
    },
    {
     "name": "stderr",
     "output_type": "stream",
     "text": [
      "386it [02:24,  3.65it/s]"
     ]
    },
    {
     "name": "stdout",
     "output_type": "stream",
     "text": [
      "Match found!\n",
      "Match found!\n"
     ]
    },
    {
     "name": "stderr",
     "output_type": "stream",
     "text": [
      "388it [02:24,  4.43it/s]"
     ]
    },
    {
     "name": "stdout",
     "output_type": "stream",
     "text": [
      "Match found!\n",
      "Match found!\n"
     ]
    },
    {
     "name": "stderr",
     "output_type": "stream",
     "text": [
      "\r",
      "389it [02:26,  1.99it/s]"
     ]
    },
    {
     "name": "stdout",
     "output_type": "stream",
     "text": [
      "Match found!\n"
     ]
    },
    {
     "name": "stderr",
     "output_type": "stream",
     "text": [
      "\r",
      "390it [02:27,  1.44it/s]"
     ]
    },
    {
     "name": "stdout",
     "output_type": "stream",
     "text": [
      "Match found!\n"
     ]
    },
    {
     "name": "stderr",
     "output_type": "stream",
     "text": [
      "\r",
      "391it [02:32,  1.95s/it]"
     ]
    },
    {
     "name": "stdout",
     "output_type": "stream",
     "text": [
      "Match found!\n"
     ]
    },
    {
     "name": "stderr",
     "output_type": "stream",
     "text": [
      "\r",
      "392it [02:32,  1.57s/it]"
     ]
    },
    {
     "name": "stdout",
     "output_type": "stream",
     "text": [
      "Match found!\n"
     ]
    },
    {
     "name": "stderr",
     "output_type": "stream",
     "text": [
      "\r",
      "393it [02:33,  1.27s/it]"
     ]
    },
    {
     "name": "stdout",
     "output_type": "stream",
     "text": [
      "Match found!\n"
     ]
    },
    {
     "name": "stderr",
     "output_type": "stream",
     "text": [
      "395it [02:33,  1.35it/s]"
     ]
    },
    {
     "name": "stdout",
     "output_type": "stream",
     "text": [
      "Match found!\n",
      "Match found!\n"
     ]
    },
    {
     "name": "stderr",
     "output_type": "stream",
     "text": [
      "\r",
      "396it [02:33,  1.77it/s]"
     ]
    },
    {
     "name": "stdout",
     "output_type": "stream",
     "text": [
      "Match found!\n",
      "Match found!\n"
     ]
    },
    {
     "name": "stderr",
     "output_type": "stream",
     "text": [
      "\r",
      "398it [02:34,  2.33it/s]"
     ]
    },
    {
     "name": "stdout",
     "output_type": "stream",
     "text": [
      "Match found!\n"
     ]
    },
    {
     "name": "stderr",
     "output_type": "stream",
     "text": [
      "\r",
      "399it [02:34,  2.01it/s]"
     ]
    },
    {
     "name": "stdout",
     "output_type": "stream",
     "text": [
      "Match found!\n"
     ]
    },
    {
     "name": "stderr",
     "output_type": "stream",
     "text": [
      "401it [02:35,  2.35it/s]"
     ]
    },
    {
     "name": "stdout",
     "output_type": "stream",
     "text": [
      "Match found!\n",
      "Match found!\n"
     ]
    },
    {
     "name": "stderr",
     "output_type": "stream",
     "text": [
      "\r",
      "402it [02:35,  2.60it/s]"
     ]
    },
    {
     "name": "stdout",
     "output_type": "stream",
     "text": [
      "Match found!\n"
     ]
    },
    {
     "name": "stderr",
     "output_type": "stream",
     "text": [
      "\r",
      "403it [02:36,  2.59it/s]"
     ]
    },
    {
     "name": "stdout",
     "output_type": "stream",
     "text": [
      "Match found!\n"
     ]
    },
    {
     "name": "stderr",
     "output_type": "stream",
     "text": [
      "\r",
      "404it [02:36,  2.65it/s]"
     ]
    },
    {
     "name": "stdout",
     "output_type": "stream",
     "text": [
      "Match found!\n"
     ]
    },
    {
     "name": "stderr",
     "output_type": "stream",
     "text": [
      "407it [02:37,  3.94it/s]"
     ]
    },
    {
     "name": "stdout",
     "output_type": "stream",
     "text": [
      "Match found!\n",
      "Match found!\n",
      "Match found!\n",
      "Match found!\n"
     ]
    },
    {
     "name": "stderr",
     "output_type": "stream",
     "text": [
      "410it [02:37,  4.45it/s]"
     ]
    },
    {
     "name": "stdout",
     "output_type": "stream",
     "text": [
      "Match found!\n",
      "Match found!\n",
      "Match found!\n"
     ]
    },
    {
     "name": "stderr",
     "output_type": "stream",
     "text": [
      "413it [02:38,  3.84it/s]"
     ]
    },
    {
     "name": "stdout",
     "output_type": "stream",
     "text": [
      "Match found!\n",
      "Match found!\n"
     ]
    },
    {
     "name": "stderr",
     "output_type": "stream",
     "text": [
      "\r",
      "414it [02:41,  1.01it/s]"
     ]
    },
    {
     "name": "stdout",
     "output_type": "stream",
     "text": [
      "Match found!\n"
     ]
    },
    {
     "name": "stderr",
     "output_type": "stream",
     "text": [
      "416it [02:43,  1.19it/s]"
     ]
    },
    {
     "name": "stdout",
     "output_type": "stream",
     "text": [
      "Match found!\n",
      "Match found!\n"
     ]
    },
    {
     "name": "stderr",
     "output_type": "stream",
     "text": [
      "\r",
      "418it [02:43,  1.64it/s]"
     ]
    },
    {
     "name": "stdout",
     "output_type": "stream",
     "text": [
      "Match found!\n",
      "Match found!\n"
     ]
    },
    {
     "name": "stderr",
     "output_type": "stream",
     "text": [
      "420it [02:43,  2.52it/s]"
     ]
    },
    {
     "name": "stdout",
     "output_type": "stream",
     "text": [
      "Match found!\n",
      "Match found!\n"
     ]
    },
    {
     "name": "stderr",
     "output_type": "stream",
     "text": [
      "\r",
      "422it [02:43,  3.32it/s]"
     ]
    },
    {
     "name": "stdout",
     "output_type": "stream",
     "text": [
      "Match found!\n",
      "Match found!\n"
     ]
    },
    {
     "name": "stderr",
     "output_type": "stream",
     "text": [
      "424it [02:44,  2.80it/s]"
     ]
    },
    {
     "name": "stdout",
     "output_type": "stream",
     "text": [
      "Match found!\n",
      "Match found!\n"
     ]
    },
    {
     "name": "stderr",
     "output_type": "stream",
     "text": [
      "\r",
      "425it [02:45,  1.93it/s]"
     ]
    },
    {
     "name": "stdout",
     "output_type": "stream",
     "text": [
      "Match found!\n"
     ]
    },
    {
     "name": "stderr",
     "output_type": "stream",
     "text": [
      "\r",
      "426it [02:47,  1.27it/s]"
     ]
    },
    {
     "name": "stdout",
     "output_type": "stream",
     "text": [
      "Match found!\n"
     ]
    },
    {
     "name": "stderr",
     "output_type": "stream",
     "text": [
      "\r",
      "427it [02:47,  1.49it/s]"
     ]
    },
    {
     "name": "stdout",
     "output_type": "stream",
     "text": [
      "Match found!\n"
     ]
    },
    {
     "name": "stderr",
     "output_type": "stream",
     "text": [
      "\r",
      "428it [02:47,  1.73it/s]"
     ]
    },
    {
     "name": "stdout",
     "output_type": "stream",
     "text": [
      "Match found!\n"
     ]
    },
    {
     "name": "stderr",
     "output_type": "stream",
     "text": [
      "\r",
      "429it [02:49,  1.14it/s]"
     ]
    },
    {
     "name": "stdout",
     "output_type": "stream",
     "text": [
      "Match found!\n",
      "Match found!\n"
     ]
    },
    {
     "name": "stderr",
     "output_type": "stream",
     "text": [
      "432it [02:50,  1.91it/s]"
     ]
    },
    {
     "name": "stdout",
     "output_type": "stream",
     "text": [
      "Match found!\n",
      "Match found!\n"
     ]
    },
    {
     "name": "stderr",
     "output_type": "stream",
     "text": [
      "\r",
      "433it [02:50,  1.92it/s]"
     ]
    },
    {
     "name": "stdout",
     "output_type": "stream",
     "text": [
      "Match found!\n"
     ]
    },
    {
     "name": "stderr",
     "output_type": "stream",
     "text": [
      "435it [02:53,  1.10it/s]"
     ]
    },
    {
     "name": "stdout",
     "output_type": "stream",
     "text": [
      "Match found!\n",
      "Match found!\n",
      "Match found!\n"
     ]
    },
    {
     "name": "stderr",
     "output_type": "stream",
     "text": [
      "438it [02:54,  1.86it/s]"
     ]
    },
    {
     "name": "stdout",
     "output_type": "stream",
     "text": [
      "Match found!\n",
      "Match found!\n"
     ]
    },
    {
     "name": "stderr",
     "output_type": "stream",
     "text": [
      "\r",
      "439it [02:54,  2.25it/s]"
     ]
    },
    {
     "name": "stdout",
     "output_type": "stream",
     "text": [
      "Match found!\n"
     ]
    },
    {
     "name": "stderr",
     "output_type": "stream",
     "text": [
      "\r",
      "440it [02:54,  2.19it/s]"
     ]
    },
    {
     "name": "stdout",
     "output_type": "stream",
     "text": [
      "Match found!\n"
     ]
    },
    {
     "name": "stderr",
     "output_type": "stream",
     "text": [
      "442it [02:55,  3.07it/s]"
     ]
    },
    {
     "name": "stdout",
     "output_type": "stream",
     "text": [
      "Match found!\n",
      "Match found!\n"
     ]
    },
    {
     "name": "stderr",
     "output_type": "stream",
     "text": [
      "444it [02:55,  4.00it/s]"
     ]
    },
    {
     "name": "stdout",
     "output_type": "stream",
     "text": [
      "Match found!\n",
      "Match found!\n"
     ]
    },
    {
     "name": "stderr",
     "output_type": "stream",
     "text": [
      "447it [02:56,  5.38it/s]"
     ]
    },
    {
     "name": "stdout",
     "output_type": "stream",
     "text": [
      "Match found!\n",
      "Match found!\n",
      "Match found!\n"
     ]
    },
    {
     "name": "stderr",
     "output_type": "stream",
     "text": [
      "\r",
      "448it [02:56,  6.20it/s]"
     ]
    },
    {
     "name": "stdout",
     "output_type": "stream",
     "text": [
      "Match found!\n",
      "Match found!\n"
     ]
    },
    {
     "name": "stderr",
     "output_type": "stream",
     "text": [
      "\r",
      "450it [02:56,  5.42it/s]"
     ]
    },
    {
     "name": "stdout",
     "output_type": "stream",
     "text": [
      "Match found!\n",
      "Match found!\n"
     ]
    },
    {
     "name": "stderr",
     "output_type": "stream",
     "text": [
      "\r",
      "452it [02:57,  4.62it/s]"
     ]
    },
    {
     "name": "stdout",
     "output_type": "stream",
     "text": [
      "Match found!\n",
      "Match found!\n"
     ]
    },
    {
     "name": "stderr",
     "output_type": "stream",
     "text": [
      "\r",
      "454it [02:57,  5.23it/s]"
     ]
    },
    {
     "name": "stdout",
     "output_type": "stream",
     "text": [
      "Match found!\n",
      "Match found!\n"
     ]
    },
    {
     "name": "stderr",
     "output_type": "stream",
     "text": [
      "\r",
      "456it [02:58,  4.55it/s]"
     ]
    },
    {
     "name": "stdout",
     "output_type": "stream",
     "text": [
      "Match found!\n"
     ]
    },
    {
     "name": "stderr",
     "output_type": "stream",
     "text": [
      "\r",
      "457it [02:58,  3.62it/s]"
     ]
    },
    {
     "name": "stdout",
     "output_type": "stream",
     "text": [
      "Match found!\n"
     ]
    },
    {
     "name": "stderr",
     "output_type": "stream",
     "text": [
      "459it [02:59,  3.68it/s]"
     ]
    },
    {
     "name": "stdout",
     "output_type": "stream",
     "text": [
      "Match found!\n",
      "Match found!\n"
     ]
    },
    {
     "name": "stderr",
     "output_type": "stream",
     "text": [
      "461it [02:59,  3.19it/s]"
     ]
    },
    {
     "name": "stdout",
     "output_type": "stream",
     "text": [
      "Match found!\n",
      "Match found!\n"
     ]
    },
    {
     "name": "stderr",
     "output_type": "stream",
     "text": [
      "\r",
      "462it [03:01,  1.45it/s]"
     ]
    },
    {
     "name": "stdout",
     "output_type": "stream",
     "text": [
      "Match found!\n"
     ]
    },
    {
     "name": "stderr",
     "output_type": "stream",
     "text": [
      "\r",
      "463it [03:02,  1.31it/s]"
     ]
    },
    {
     "name": "stdout",
     "output_type": "stream",
     "text": [
      "Match found!\n"
     ]
    },
    {
     "name": "stderr",
     "output_type": "stream",
     "text": [
      "\r",
      "464it [03:02,  1.58it/s]"
     ]
    },
    {
     "name": "stdout",
     "output_type": "stream",
     "text": [
      "Match found!\n"
     ]
    },
    {
     "name": "stderr",
     "output_type": "stream",
     "text": [
      "\r",
      "465it [03:03,  1.76it/s]"
     ]
    },
    {
     "name": "stdout",
     "output_type": "stream",
     "text": [
      "Match found!\n"
     ]
    },
    {
     "name": "stderr",
     "output_type": "stream",
     "text": [
      "\r",
      "466it [03:03,  2.16it/s]"
     ]
    },
    {
     "name": "stdout",
     "output_type": "stream",
     "text": [
      "Match found!\n"
     ]
    },
    {
     "name": "stderr",
     "output_type": "stream",
     "text": [
      "469it [03:03,  3.08it/s]"
     ]
    },
    {
     "name": "stdout",
     "output_type": "stream",
     "text": [
      "Match found!\n",
      "Match found!\n",
      "Match found!\n",
      "Match found!\n"
     ]
    },
    {
     "name": "stderr",
     "output_type": "stream",
     "text": [
      "\r",
      "471it [03:04,  3.42it/s]"
     ]
    },
    {
     "name": "stdout",
     "output_type": "stream",
     "text": [
      "Match found!\n",
      "Match found!\n"
     ]
    },
    {
     "name": "stderr",
     "output_type": "stream",
     "text": [
      "475it [03:04,  5.36it/s]"
     ]
    },
    {
     "name": "stdout",
     "output_type": "stream",
     "text": [
      "Match found!\n",
      "Match found!\n",
      "Match found!\n"
     ]
    },
    {
     "name": "stderr",
     "output_type": "stream",
     "text": [
      "\r",
      "476it [03:05,  3.99it/s]"
     ]
    },
    {
     "name": "stdout",
     "output_type": "stream",
     "text": [
      "Match found!\n",
      "Match found!\n"
     ]
    },
    {
     "name": "stderr",
     "output_type": "stream",
     "text": [
      "\r",
      "478it [03:05,  4.54it/s]"
     ]
    },
    {
     "name": "stdout",
     "output_type": "stream",
     "text": [
      "Match found!\n"
     ]
    },
    {
     "name": "stderr",
     "output_type": "stream",
     "text": [
      "\r",
      "479it [03:05,  4.49it/s]"
     ]
    },
    {
     "name": "stdout",
     "output_type": "stream",
     "text": [
      "Match found!\n",
      "Match found!\n"
     ]
    },
    {
     "name": "stderr",
     "output_type": "stream",
     "text": [
      "\r",
      "481it [03:06,  4.05it/s]"
     ]
    },
    {
     "name": "stdout",
     "output_type": "stream",
     "text": [
      "Match found!\n"
     ]
    },
    {
     "name": "stderr",
     "output_type": "stream",
     "text": [
      "\r",
      "482it [03:06,  3.75it/s]"
     ]
    },
    {
     "name": "stdout",
     "output_type": "stream",
     "text": [
      "Match found!\n"
     ]
    },
    {
     "name": "stderr",
     "output_type": "stream",
     "text": [
      "\r",
      "483it [03:06,  3.63it/s]"
     ]
    },
    {
     "name": "stdout",
     "output_type": "stream",
     "text": [
      "Match found!\n"
     ]
    },
    {
     "name": "stderr",
     "output_type": "stream",
     "text": [
      "\r",
      "484it [03:07,  2.95it/s]"
     ]
    },
    {
     "name": "stdout",
     "output_type": "stream",
     "text": [
      "Match found!\n"
     ]
    },
    {
     "name": "stderr",
     "output_type": "stream",
     "text": [
      "486it [03:07,  3.58it/s]"
     ]
    },
    {
     "name": "stdout",
     "output_type": "stream",
     "text": [
      "Match found!\n",
      "Match found!\n"
     ]
    },
    {
     "name": "stderr",
     "output_type": "stream",
     "text": [
      "\r",
      "487it [03:07,  4.21it/s]"
     ]
    },
    {
     "name": "stdout",
     "output_type": "stream",
     "text": [
      "Match found!\n",
      "Match found!\n"
     ]
    },
    {
     "name": "stderr",
     "output_type": "stream",
     "text": [
      "490it [03:08,  4.09it/s]"
     ]
    },
    {
     "name": "stdout",
     "output_type": "stream",
     "text": [
      "Match found!\n",
      "Match found!\n"
     ]
    },
    {
     "name": "stderr",
     "output_type": "stream",
     "text": [
      "\r",
      "491it [03:09,  4.64it/s]"
     ]
    },
    {
     "name": "stdout",
     "output_type": "stream",
     "text": [
      "Match found!\n",
      "Match found!\n"
     ]
    },
    {
     "name": "stderr",
     "output_type": "stream",
     "text": [
      "\r",
      "493it [03:09,  4.25it/s]"
     ]
    },
    {
     "name": "stdout",
     "output_type": "stream",
     "text": [
      "Match found!\n"
     ]
    },
    {
     "name": "stderr",
     "output_type": "stream",
     "text": [
      "\r",
      "494it [03:09,  4.30it/s]"
     ]
    },
    {
     "name": "stdout",
     "output_type": "stream",
     "text": [
      "Match found!\n"
     ]
    },
    {
     "name": "stderr",
     "output_type": "stream",
     "text": [
      "\r",
      "495it [03:11,  1.85it/s]"
     ]
    },
    {
     "name": "stdout",
     "output_type": "stream",
     "text": [
      "Match found!\n"
     ]
    },
    {
     "name": "stderr",
     "output_type": "stream",
     "text": [
      "\r",
      "496it [03:11,  2.19it/s]"
     ]
    },
    {
     "name": "stdout",
     "output_type": "stream",
     "text": [
      "Match found!\n"
     ]
    },
    {
     "name": "stderr",
     "output_type": "stream",
     "text": [
      "\r",
      "497it [03:12,  1.67it/s]"
     ]
    },
    {
     "name": "stdout",
     "output_type": "stream",
     "text": [
      "Match found!\n",
      "Match found!\n"
     ]
    },
    {
     "name": "stderr",
     "output_type": "stream",
     "text": [
      "\r",
      "499it [03:13,  1.51it/s]"
     ]
    },
    {
     "name": "stdout",
     "output_type": "stream",
     "text": [
      "Match found!\n"
     ]
    },
    {
     "name": "stderr",
     "output_type": "stream",
     "text": [
      "501it [03:14,  1.77it/s]"
     ]
    },
    {
     "name": "stdout",
     "output_type": "stream",
     "text": [
      "Match found!\n",
      "Match found!\n"
     ]
    },
    {
     "name": "stderr",
     "output_type": "stream",
     "text": [
      "\r",
      "502it [03:16,  1.31it/s]"
     ]
    },
    {
     "name": "stdout",
     "output_type": "stream",
     "text": [
      "Match found!\n"
     ]
    },
    {
     "name": "stderr",
     "output_type": "stream",
     "text": [
      "\r",
      "503it [03:16,  1.44it/s]"
     ]
    },
    {
     "name": "stdout",
     "output_type": "stream",
     "text": [
      "Match found!\n"
     ]
    },
    {
     "name": "stderr",
     "output_type": "stream",
     "text": [
      "505it [03:17,  1.84it/s]"
     ]
    },
    {
     "name": "stdout",
     "output_type": "stream",
     "text": [
      "Match found!\n",
      "Match found!\n"
     ]
    },
    {
     "name": "stderr",
     "output_type": "stream",
     "text": [
      "\r",
      "506it [03:17,  2.37it/s]"
     ]
    },
    {
     "name": "stdout",
     "output_type": "stream",
     "text": [
      "Match found!\n"
     ]
    },
    {
     "name": "stderr",
     "output_type": "stream",
     "text": [
      "509it [03:18,  2.83it/s]"
     ]
    },
    {
     "name": "stdout",
     "output_type": "stream",
     "text": [
      "Match found!\n",
      "Match found!\n",
      "Match found!\n"
     ]
    },
    {
     "name": "stderr",
     "output_type": "stream",
     "text": [
      "511it [03:18,  3.57it/s]"
     ]
    },
    {
     "name": "stdout",
     "output_type": "stream",
     "text": [
      "Match found!\n"
     ]
    },
    {
     "name": "stderr",
     "output_type": "stream",
     "text": [
      "\r",
      "513it [03:19,  4.59it/s]"
     ]
    },
    {
     "name": "stdout",
     "output_type": "stream",
     "text": [
      "Match found!\n",
      "Match found!\n",
      "Match found!\n",
      "Match found!\n"
     ]
    },
    {
     "name": "stderr",
     "output_type": "stream",
     "text": [
      "\r",
      "515it [03:19,  4.64it/s]"
     ]
    },
    {
     "name": "stdout",
     "output_type": "stream",
     "text": [
      "Match found!\n"
     ]
    },
    {
     "name": "stderr",
     "output_type": "stream",
     "text": [
      "\r",
      "516it [03:20,  2.59it/s]"
     ]
    },
    {
     "name": "stdout",
     "output_type": "stream",
     "text": [
      "Match found!\n"
     ]
    },
    {
     "name": "stderr",
     "output_type": "stream",
     "text": [
      "\r",
      "517it [03:20,  2.47it/s]"
     ]
    },
    {
     "name": "stdout",
     "output_type": "stream",
     "text": [
      "Match found!\n"
     ]
    },
    {
     "name": "stderr",
     "output_type": "stream",
     "text": [
      "\r",
      "518it [03:21,  2.54it/s]"
     ]
    },
    {
     "name": "stdout",
     "output_type": "stream",
     "text": [
      "Match found!\n",
      "Match found!\n"
     ]
    },
    {
     "name": "stderr",
     "output_type": "stream",
     "text": [
      "\r",
      "520it [03:21,  3.03it/s]"
     ]
    },
    {
     "name": "stdout",
     "output_type": "stream",
     "text": [
      "Match found!\n"
     ]
    },
    {
     "name": "stderr",
     "output_type": "stream",
     "text": [
      "\r",
      "521it [03:21,  2.91it/s]"
     ]
    },
    {
     "name": "stdout",
     "output_type": "stream",
     "text": [
      "Match found!\n"
     ]
    },
    {
     "name": "stderr",
     "output_type": "stream",
     "text": [
      "524it [03:22,  2.82it/s]"
     ]
    },
    {
     "name": "stdout",
     "output_type": "stream",
     "text": [
      "Match found!\n",
      "Match found!\n",
      "Match found!\n"
     ]
    },
    {
     "name": "stderr",
     "output_type": "stream",
     "text": [
      "\r",
      "525it [03:23,  2.19it/s]"
     ]
    },
    {
     "name": "stdout",
     "output_type": "stream",
     "text": [
      "Match found!\n"
     ]
    },
    {
     "name": "stderr",
     "output_type": "stream",
     "text": [
      "\r",
      "526it [03:24,  2.05it/s]"
     ]
    },
    {
     "name": "stdout",
     "output_type": "stream",
     "text": [
      "Match found!\n"
     ]
    },
    {
     "name": "stderr",
     "output_type": "stream",
     "text": [
      "529it [03:24,  2.52it/s]"
     ]
    },
    {
     "name": "stdout",
     "output_type": "stream",
     "text": [
      "Match found!\n",
      "Match found!\n",
      "Match found!\n",
      "Match found!\n",
      "Match found!\n"
     ]
    },
    {
     "name": "stderr",
     "output_type": "stream",
     "text": [
      "\r",
      "532it [03:25,  3.21it/s]"
     ]
    },
    {
     "name": "stdout",
     "output_type": "stream",
     "text": [
      "Match found!\n"
     ]
    },
    {
     "name": "stderr",
     "output_type": "stream",
     "text": [
      "\r",
      "533it [03:25,  3.31it/s]"
     ]
    },
    {
     "name": "stdout",
     "output_type": "stream",
     "text": [
      "Match found!\n"
     ]
    },
    {
     "name": "stderr",
     "output_type": "stream",
     "text": [
      "\r",
      "534it [03:25,  3.27it/s]"
     ]
    },
    {
     "name": "stdout",
     "output_type": "stream",
     "text": [
      "Match found!\n"
     ]
    },
    {
     "name": "stderr",
     "output_type": "stream",
     "text": [
      "\r",
      "535it [03:26,  2.94it/s]"
     ]
    },
    {
     "name": "stdout",
     "output_type": "stream",
     "text": [
      "Match found!\n"
     ]
    },
    {
     "name": "stderr",
     "output_type": "stream",
     "text": [
      "\r",
      "536it [03:26,  3.21it/s]"
     ]
    },
    {
     "name": "stdout",
     "output_type": "stream",
     "text": [
      "Match found!\n"
     ]
    },
    {
     "name": "stderr",
     "output_type": "stream",
     "text": [
      "\r",
      "537it [03:26,  3.07it/s]"
     ]
    },
    {
     "name": "stdout",
     "output_type": "stream",
     "text": [
      "Match found!\n"
     ]
    },
    {
     "name": "stderr",
     "output_type": "stream",
     "text": [
      "539it [03:27,  3.11it/s]"
     ]
    },
    {
     "name": "stdout",
     "output_type": "stream",
     "text": [
      "Match found!\n",
      "Match found!\n"
     ]
    },
    {
     "name": "stderr",
     "output_type": "stream",
     "text": [
      "\r",
      "540it [03:27,  3.01it/s]"
     ]
    },
    {
     "name": "stdout",
     "output_type": "stream",
     "text": [
      "Match found!\n"
     ]
    },
    {
     "name": "stderr",
     "output_type": "stream",
     "text": [
      "\r",
      "541it [03:28,  3.23it/s]"
     ]
    },
    {
     "name": "stdout",
     "output_type": "stream",
     "text": [
      "Match found!\n"
     ]
    },
    {
     "name": "stderr",
     "output_type": "stream",
     "text": [
      "\r",
      "542it [03:28,  3.56it/s]"
     ]
    },
    {
     "name": "stdout",
     "output_type": "stream",
     "text": [
      "Match found!\n"
     ]
    },
    {
     "name": "stderr",
     "output_type": "stream",
     "text": [
      "544it [03:28,  4.15it/s]"
     ]
    },
    {
     "name": "stdout",
     "output_type": "stream",
     "text": [
      "Match found!\n",
      "Match found!\n"
     ]
    },
    {
     "name": "stderr",
     "output_type": "stream",
     "text": [
      "\r",
      "545it [03:29,  2.43it/s]"
     ]
    },
    {
     "name": "stdout",
     "output_type": "stream",
     "text": [
      "Match found!\n"
     ]
    },
    {
     "name": "stderr",
     "output_type": "stream",
     "text": [
      "\r",
      "546it [03:29,  2.81it/s]"
     ]
    },
    {
     "name": "stdout",
     "output_type": "stream",
     "text": [
      "Match found!\n"
     ]
    },
    {
     "name": "stderr",
     "output_type": "stream",
     "text": [
      "549it [03:30,  3.93it/s]"
     ]
    },
    {
     "name": "stdout",
     "output_type": "stream",
     "text": [
      "Match found!\n",
      "Match found!\n",
      "Match found!\n"
     ]
    },
    {
     "name": "stderr",
     "output_type": "stream",
     "text": [
      "\r",
      "550it [03:30,  3.65it/s]"
     ]
    },
    {
     "name": "stdout",
     "output_type": "stream",
     "text": [
      "Match found!\n"
     ]
    },
    {
     "name": "stderr",
     "output_type": "stream",
     "text": [
      "553it [03:30,  4.75it/s]"
     ]
    },
    {
     "name": "stdout",
     "output_type": "stream",
     "text": [
      "Match found!\n",
      "Match found!\n",
      "Match found!\n"
     ]
    },
    {
     "name": "stderr",
     "output_type": "stream",
     "text": [
      "\r",
      "555it [03:31,  6.14it/s]"
     ]
    },
    {
     "name": "stdout",
     "output_type": "stream",
     "text": [
      "Match found!\n",
      "Match found!\n"
     ]
    },
    {
     "name": "stderr",
     "output_type": "stream",
     "text": [
      "\r",
      "557it [03:31,  5.74it/s]"
     ]
    },
    {
     "name": "stdout",
     "output_type": "stream",
     "text": [
      "Match found!\n",
      "Match found!\n"
     ]
    },
    {
     "name": "stderr",
     "output_type": "stream",
     "text": [
      "559it [03:31,  6.97it/s]"
     ]
    },
    {
     "name": "stdout",
     "output_type": "stream",
     "text": [
      "Match found!\n",
      "Match found!\n"
     ]
    },
    {
     "name": "stderr",
     "output_type": "stream",
     "text": [
      "\r",
      "560it [03:31,  5.92it/s]"
     ]
    },
    {
     "name": "stdout",
     "output_type": "stream",
     "text": [
      "Match found!\n"
     ]
    },
    {
     "name": "stderr",
     "output_type": "stream",
     "text": [
      "\r",
      "561it [03:32,  5.05it/s]"
     ]
    },
    {
     "name": "stdout",
     "output_type": "stream",
     "text": [
      "Match found!\n"
     ]
    },
    {
     "name": "stderr",
     "output_type": "stream",
     "text": [
      "\r",
      "562it [03:32,  4.54it/s]"
     ]
    },
    {
     "name": "stdout",
     "output_type": "stream",
     "text": [
      "Match found!\n"
     ]
    },
    {
     "name": "stderr",
     "output_type": "stream",
     "text": [
      "\r",
      "563it [03:32,  4.07it/s]"
     ]
    },
    {
     "name": "stdout",
     "output_type": "stream",
     "text": [
      "Match found!\n"
     ]
    },
    {
     "name": "stderr",
     "output_type": "stream",
     "text": [
      "\r",
      "564it [03:32,  4.11it/s]"
     ]
    },
    {
     "name": "stdout",
     "output_type": "stream",
     "text": [
      "Match found!\n"
     ]
    },
    {
     "name": "stderr",
     "output_type": "stream",
     "text": [
      "\r",
      "565it [03:33,  4.03it/s]"
     ]
    },
    {
     "name": "stdout",
     "output_type": "stream",
     "text": [
      "Match found!\n"
     ]
    },
    {
     "name": "stderr",
     "output_type": "stream",
     "text": [
      "\r",
      "566it [03:33,  3.59it/s]"
     ]
    },
    {
     "name": "stdout",
     "output_type": "stream",
     "text": [
      "Match found!\n"
     ]
    },
    {
     "name": "stderr",
     "output_type": "stream",
     "text": [
      "\r",
      "567it [03:34,  1.68it/s]"
     ]
    },
    {
     "name": "stdout",
     "output_type": "stream",
     "text": [
      "Match found!\n"
     ]
    },
    {
     "name": "stderr",
     "output_type": "stream",
     "text": [
      "569it [03:35,  2.68it/s]"
     ]
    },
    {
     "name": "stdout",
     "output_type": "stream",
     "text": [
      "Match found!\n",
      "Match found!\n"
     ]
    },
    {
     "name": "stderr",
     "output_type": "stream",
     "text": [
      "571it [03:35,  3.80it/s]"
     ]
    },
    {
     "name": "stdout",
     "output_type": "stream",
     "text": [
      "Match found!\n",
      "Match found!\n"
     ]
    },
    {
     "name": "stderr",
     "output_type": "stream",
     "text": [
      "\r",
      "572it [03:35,  4.42it/s]"
     ]
    },
    {
     "name": "stdout",
     "output_type": "stream",
     "text": [
      "Match found!\n",
      "Match found!\n"
     ]
    },
    {
     "name": "stderr",
     "output_type": "stream",
     "text": [
      "575it [03:36,  4.93it/s]"
     ]
    },
    {
     "name": "stdout",
     "output_type": "stream",
     "text": [
      "Match found!\n",
      "Match found!\n"
     ]
    },
    {
     "name": "stderr",
     "output_type": "stream",
     "text": [
      "577it [03:36,  5.31it/s]"
     ]
    },
    {
     "name": "stdout",
     "output_type": "stream",
     "text": [
      "Match found!\n",
      "Match found!\n"
     ]
    },
    {
     "name": "stderr",
     "output_type": "stream",
     "text": [
      "579it [03:36,  5.50it/s]"
     ]
    },
    {
     "name": "stdout",
     "output_type": "stream",
     "text": [
      "Match found!\n",
      "Match found!\n"
     ]
    },
    {
     "name": "stderr",
     "output_type": "stream",
     "text": [
      "\r",
      "580it [03:37,  5.14it/s]"
     ]
    },
    {
     "name": "stdout",
     "output_type": "stream",
     "text": [
      "Match found!\n"
     ]
    },
    {
     "name": "stderr",
     "output_type": "stream",
     "text": [
      "\r",
      "581it [03:37,  3.86it/s]"
     ]
    },
    {
     "name": "stdout",
     "output_type": "stream",
     "text": [
      "Match found!\n",
      "Match found!\n"
     ]
    },
    {
     "name": "stderr",
     "output_type": "stream",
     "text": [
      "\r",
      "583it [03:38,  3.85it/s]"
     ]
    },
    {
     "name": "stdout",
     "output_type": "stream",
     "text": [
      "Match found!\n"
     ]
    },
    {
     "name": "stderr",
     "output_type": "stream",
     "text": [
      "585it [03:38,  3.48it/s]"
     ]
    },
    {
     "name": "stdout",
     "output_type": "stream",
     "text": [
      "Match found!\n",
      "Match found!\n"
     ]
    },
    {
     "name": "stderr",
     "output_type": "stream",
     "text": [
      "\r",
      "586it [03:38,  4.03it/s]"
     ]
    },
    {
     "name": "stdout",
     "output_type": "stream",
     "text": [
      "Match found!\n"
     ]
    },
    {
     "name": "stderr",
     "output_type": "stream",
     "text": [
      "\r",
      "587it [03:39,  3.59it/s]"
     ]
    },
    {
     "name": "stdout",
     "output_type": "stream",
     "text": [
      "Match found!\n"
     ]
    },
    {
     "name": "stderr",
     "output_type": "stream",
     "text": [
      "\r",
      "588it [03:39,  2.71it/s]"
     ]
    },
    {
     "name": "stdout",
     "output_type": "stream",
     "text": [
      "Match found!\n",
      "Match found!\n"
     ]
    },
    {
     "name": "stderr",
     "output_type": "stream",
     "text": [
      "591it [03:40,  3.73it/s]"
     ]
    },
    {
     "name": "stdout",
     "output_type": "stream",
     "text": [
      "Match found!\n",
      "Match found!\n"
     ]
    },
    {
     "name": "stderr",
     "output_type": "stream",
     "text": [
      "\r",
      "592it [03:40,  3.34it/s]"
     ]
    },
    {
     "name": "stdout",
     "output_type": "stream",
     "text": [
      "Match found!\n"
     ]
    },
    {
     "name": "stderr",
     "output_type": "stream",
     "text": [
      "\r",
      "593it [03:41,  2.79it/s]"
     ]
    },
    {
     "name": "stdout",
     "output_type": "stream",
     "text": [
      "Match found!\n"
     ]
    },
    {
     "name": "stderr",
     "output_type": "stream",
     "text": [
      "\r",
      "594it [03:41,  3.01it/s]"
     ]
    },
    {
     "name": "stdout",
     "output_type": "stream",
     "text": [
      "Match found!\n",
      "Match found!\n"
     ]
    },
    {
     "name": "stderr",
     "output_type": "stream",
     "text": [
      "597it [03:42,  4.06it/s]"
     ]
    },
    {
     "name": "stdout",
     "output_type": "stream",
     "text": [
      "Match found!\n",
      "Match found!\n"
     ]
    },
    {
     "name": "stderr",
     "output_type": "stream",
     "text": [
      "\r",
      "598it [03:42,  3.98it/s]"
     ]
    },
    {
     "name": "stdout",
     "output_type": "stream",
     "text": [
      "Match found!\n"
     ]
    },
    {
     "name": "stderr",
     "output_type": "stream",
     "text": [
      "\r",
      "599it [03:43,  1.63it/s]"
     ]
    },
    {
     "name": "stdout",
     "output_type": "stream",
     "text": [
      "Match found!\n"
     ]
    },
    {
     "name": "stderr",
     "output_type": "stream",
     "text": [
      "\r",
      "600it [03:44,  1.84it/s]"
     ]
    },
    {
     "name": "stdout",
     "output_type": "stream",
     "text": [
      "Match found!\n"
     ]
    },
    {
     "name": "stderr",
     "output_type": "stream",
     "text": [
      "602it [03:44,  2.50it/s]"
     ]
    },
    {
     "name": "stdout",
     "output_type": "stream",
     "text": [
      "Match found!\n",
      "Match found!\n"
     ]
    },
    {
     "name": "stderr",
     "output_type": "stream",
     "text": [
      "604it [03:45,  3.54it/s]"
     ]
    },
    {
     "name": "stdout",
     "output_type": "stream",
     "text": [
      "Match found!\n",
      "Match found!\n"
     ]
    },
    {
     "name": "stderr",
     "output_type": "stream",
     "text": [
      "\r",
      "606it [03:45,  4.57it/s]"
     ]
    },
    {
     "name": "stdout",
     "output_type": "stream",
     "text": [
      "Match found!\n",
      "Match found!\n"
     ]
    },
    {
     "name": "stderr",
     "output_type": "stream",
     "text": [
      "608it [03:46,  2.82it/s]"
     ]
    },
    {
     "name": "stdout",
     "output_type": "stream",
     "text": [
      "Match found!\n",
      "Match found!\n"
     ]
    },
    {
     "name": "stderr",
     "output_type": "stream",
     "text": [
      "610it [03:47,  1.89it/s]"
     ]
    },
    {
     "name": "stdout",
     "output_type": "stream",
     "text": [
      "Match found!\n",
      "Match found!\n"
     ]
    },
    {
     "name": "stderr",
     "output_type": "stream",
     "text": [
      "\r",
      "611it [03:48,  2.28it/s]"
     ]
    },
    {
     "name": "stdout",
     "output_type": "stream",
     "text": [
      "Match found!\n",
      "Match found!\n",
      "Match found!\n"
     ]
    },
    {
     "name": "stderr",
     "output_type": "stream",
     "text": [
      "615it [03:48,  3.62it/s]"
     ]
    },
    {
     "name": "stdout",
     "output_type": "stream",
     "text": [
      "Match found!\n",
      "Match found!\n"
     ]
    },
    {
     "name": "stderr",
     "output_type": "stream",
     "text": [
      "617it [03:48,  2.70it/s]"
     ]
    },
    {
     "name": "stdout",
     "output_type": "stream",
     "text": [
      "Match found!\n"
     ]
    },
    {
     "name": "stderr",
     "output_type": "stream",
     "text": [
      "\n"
     ]
    }
   ],
   "source": [
    "for i, row in tqdm.tqdm(verif_annots.iterrows()):\n",
    "    \n",
    "    audio_folder = '../../individual_call_analysis/hp_annotation_audio/'\n",
    "    file_path = cca.find_file_in_folder(verif_annots['valid_annotations'][i]+'_hp.WAV', audio_folder)\n",
    "    measurements = split_measure.split_measure_audio(file_path[0],\n",
    "                                  **kwargs)\n",
    "    all_measures.append(measurements)\n",
    "\n"
   ]
  },
  {
   "cell_type": "code",
   "execution_count": 8,
   "metadata": {},
   "outputs": [],
   "source": [
    "all_split_measure = pd.concat(all_measures).reset_index(drop=True)"
   ]
  },
  {
   "cell_type": "code",
   "execution_count": 9,
   "metadata": {},
   "outputs": [
    {
     "data": {
      "text/html": [
       "<div>\n",
       "<style scoped>\n",
       "    .dataframe tbody tr th:only-of-type {\n",
       "        vertical-align: middle;\n",
       "    }\n",
       "\n",
       "    .dataframe tbody tr th {\n",
       "        vertical-align: top;\n",
       "    }\n",
       "\n",
       "    .dataframe thead th {\n",
       "        text-align: right;\n",
       "    }\n",
       "</style>\n",
       "<table border=\"1\" class=\"dataframe\">\n",
       "  <thead>\n",
       "    <tr style=\"text-align: right;\">\n",
       "      <th></th>\n",
       "      <th>value</th>\n",
       "      <th>segment_number</th>\n",
       "      <th>measurement</th>\n",
       "      <th>file_name</th>\n",
       "    </tr>\n",
       "  </thead>\n",
       "  <tbody>\n",
       "    <tr>\n",
       "      <th>0</th>\n",
       "      <td>0.032661</td>\n",
       "      <td>0</td>\n",
       "      <td>rms</td>\n",
       "      <td>matching_annotaudio_Aditya_2018-08-16_21502300...</td>\n",
       "    </tr>\n",
       "    <tr>\n",
       "      <th>1</th>\n",
       "      <td>0.102295</td>\n",
       "      <td>0</td>\n",
       "      <td>peak_amplitude</td>\n",
       "      <td>matching_annotaudio_Aditya_2018-08-16_21502300...</td>\n",
       "    </tr>\n",
       "    <tr>\n",
       "      <th>2</th>\n",
       "      <td>90200.000000</td>\n",
       "      <td>0</td>\n",
       "      <td>minus_XdB_frequency</td>\n",
       "      <td>matching_annotaudio_Aditya_2018-08-16_21502300...</td>\n",
       "    </tr>\n",
       "    <tr>\n",
       "      <th>3</th>\n",
       "      <td>104700.000000</td>\n",
       "      <td>0</td>\n",
       "      <td>dominant_frequencies</td>\n",
       "      <td>matching_annotaudio_Aditya_2018-08-16_21502300...</td>\n",
       "    </tr>\n",
       "    <tr>\n",
       "      <th>4</th>\n",
       "      <td>0.012252</td>\n",
       "      <td>1</td>\n",
       "      <td>rms</td>\n",
       "      <td>matching_annotaudio_Aditya_2018-08-16_21502300...</td>\n",
       "    </tr>\n",
       "    <tr>\n",
       "      <th>...</th>\n",
       "      <td>...</td>\n",
       "      <td>...</td>\n",
       "      <td>...</td>\n",
       "      <td>...</td>\n",
       "    </tr>\n",
       "    <tr>\n",
       "      <th>651612</th>\n",
       "      <td>103120.000000</td>\n",
       "      <td>12</td>\n",
       "      <td>dominant_frequencies</td>\n",
       "      <td>matching_annotaudio_Aditya_2018-08-20_0300-040...</td>\n",
       "    </tr>\n",
       "    <tr>\n",
       "      <th>651613</th>\n",
       "      <td>103600.000000</td>\n",
       "      <td>12</td>\n",
       "      <td>dominant_frequencies</td>\n",
       "      <td>matching_annotaudio_Aditya_2018-08-20_0300-040...</td>\n",
       "    </tr>\n",
       "    <tr>\n",
       "      <th>651614</th>\n",
       "      <td>103840.000000</td>\n",
       "      <td>12</td>\n",
       "      <td>dominant_frequencies</td>\n",
       "      <td>matching_annotaudio_Aditya_2018-08-20_0300-040...</td>\n",
       "    </tr>\n",
       "    <tr>\n",
       "      <th>651615</th>\n",
       "      <td>104540.000000</td>\n",
       "      <td>12</td>\n",
       "      <td>dominant_frequencies</td>\n",
       "      <td>matching_annotaudio_Aditya_2018-08-20_0300-040...</td>\n",
       "    </tr>\n",
       "    <tr>\n",
       "      <th>651616</th>\n",
       "      <td>105100.000000</td>\n",
       "      <td>12</td>\n",
       "      <td>dominant_frequencies</td>\n",
       "      <td>matching_annotaudio_Aditya_2018-08-20_0300-040...</td>\n",
       "    </tr>\n",
       "  </tbody>\n",
       "</table>\n",
       "<p>651617 rows × 4 columns</p>\n",
       "</div>"
      ],
      "text/plain": [
       "                value  segment_number           measurement  \\\n",
       "0            0.032661               0                   rms   \n",
       "1            0.102295               0        peak_amplitude   \n",
       "2        90200.000000               0   minus_XdB_frequency   \n",
       "3       104700.000000               0  dominant_frequencies   \n",
       "4            0.012252               1                   rms   \n",
       "...               ...             ...                   ...   \n",
       "651612  103120.000000              12  dominant_frequencies   \n",
       "651613  103600.000000              12  dominant_frequencies   \n",
       "651614  103840.000000              12  dominant_frequencies   \n",
       "651615  104540.000000              12  dominant_frequencies   \n",
       "651616  105100.000000              12  dominant_frequencies   \n",
       "\n",
       "                                                file_name  \n",
       "0       matching_annotaudio_Aditya_2018-08-16_21502300...  \n",
       "1       matching_annotaudio_Aditya_2018-08-16_21502300...  \n",
       "2       matching_annotaudio_Aditya_2018-08-16_21502300...  \n",
       "3       matching_annotaudio_Aditya_2018-08-16_21502300...  \n",
       "4       matching_annotaudio_Aditya_2018-08-16_21502300...  \n",
       "...                                                   ...  \n",
       "651612  matching_annotaudio_Aditya_2018-08-20_0300-040...  \n",
       "651613  matching_annotaudio_Aditya_2018-08-20_0300-040...  \n",
       "651614  matching_annotaudio_Aditya_2018-08-20_0300-040...  \n",
       "651615  matching_annotaudio_Aditya_2018-08-20_0300-040...  \n",
       "651616  matching_annotaudio_Aditya_2018-08-20_0300-040...  \n",
       "\n",
       "[651617 rows x 4 columns]"
      ]
     },
     "execution_count": 9,
     "metadata": {},
     "output_type": "execute_result"
    }
   ],
   "source": [
    "all_split_measure"
   ]
  },
  {
   "cell_type": "code",
   "execution_count": 10,
   "metadata": {},
   "outputs": [],
   "source": [
    "all_split_measure['unique_window_id'] = all_split_measure['segment_number'].astype(str) +'_'+all_split_measure['file_name'] "
   ]
  },
  {
   "cell_type": "code",
   "execution_count": 11,
   "metadata": {},
   "outputs": [
    {
     "data": {
      "text/html": [
       "<div>\n",
       "<style scoped>\n",
       "    .dataframe tbody tr th:only-of-type {\n",
       "        vertical-align: middle;\n",
       "    }\n",
       "\n",
       "    .dataframe tbody tr th {\n",
       "        vertical-align: top;\n",
       "    }\n",
       "\n",
       "    .dataframe thead th {\n",
       "        text-align: right;\n",
       "    }\n",
       "</style>\n",
       "<table border=\"1\" class=\"dataframe\">\n",
       "  <thead>\n",
       "    <tr style=\"text-align: right;\">\n",
       "      <th></th>\n",
       "      <th>value</th>\n",
       "      <th>segment_number</th>\n",
       "      <th>measurement</th>\n",
       "      <th>file_name</th>\n",
       "      <th>unique_window_id</th>\n",
       "    </tr>\n",
       "  </thead>\n",
       "  <tbody>\n",
       "    <tr>\n",
       "      <th>0</th>\n",
       "      <td>0.032661</td>\n",
       "      <td>0</td>\n",
       "      <td>rms</td>\n",
       "      <td>matching_annotaudio_Aditya_2018-08-16_21502300...</td>\n",
       "      <td>0_matching_annotaudio_Aditya_2018-08-16_215023...</td>\n",
       "    </tr>\n",
       "    <tr>\n",
       "      <th>1</th>\n",
       "      <td>0.102295</td>\n",
       "      <td>0</td>\n",
       "      <td>peak_amplitude</td>\n",
       "      <td>matching_annotaudio_Aditya_2018-08-16_21502300...</td>\n",
       "      <td>0_matching_annotaudio_Aditya_2018-08-16_215023...</td>\n",
       "    </tr>\n",
       "    <tr>\n",
       "      <th>2</th>\n",
       "      <td>90200.000000</td>\n",
       "      <td>0</td>\n",
       "      <td>minus_XdB_frequency</td>\n",
       "      <td>matching_annotaudio_Aditya_2018-08-16_21502300...</td>\n",
       "      <td>0_matching_annotaudio_Aditya_2018-08-16_215023...</td>\n",
       "    </tr>\n",
       "    <tr>\n",
       "      <th>3</th>\n",
       "      <td>104700.000000</td>\n",
       "      <td>0</td>\n",
       "      <td>dominant_frequencies</td>\n",
       "      <td>matching_annotaudio_Aditya_2018-08-16_21502300...</td>\n",
       "      <td>0_matching_annotaudio_Aditya_2018-08-16_215023...</td>\n",
       "    </tr>\n",
       "    <tr>\n",
       "      <th>4</th>\n",
       "      <td>0.012252</td>\n",
       "      <td>1</td>\n",
       "      <td>rms</td>\n",
       "      <td>matching_annotaudio_Aditya_2018-08-16_21502300...</td>\n",
       "      <td>1_matching_annotaudio_Aditya_2018-08-16_215023...</td>\n",
       "    </tr>\n",
       "    <tr>\n",
       "      <th>...</th>\n",
       "      <td>...</td>\n",
       "      <td>...</td>\n",
       "      <td>...</td>\n",
       "      <td>...</td>\n",
       "      <td>...</td>\n",
       "    </tr>\n",
       "    <tr>\n",
       "      <th>651612</th>\n",
       "      <td>103120.000000</td>\n",
       "      <td>12</td>\n",
       "      <td>dominant_frequencies</td>\n",
       "      <td>matching_annotaudio_Aditya_2018-08-20_0300-040...</td>\n",
       "      <td>12_matching_annotaudio_Aditya_2018-08-20_0300-...</td>\n",
       "    </tr>\n",
       "    <tr>\n",
       "      <th>651613</th>\n",
       "      <td>103600.000000</td>\n",
       "      <td>12</td>\n",
       "      <td>dominant_frequencies</td>\n",
       "      <td>matching_annotaudio_Aditya_2018-08-20_0300-040...</td>\n",
       "      <td>12_matching_annotaudio_Aditya_2018-08-20_0300-...</td>\n",
       "    </tr>\n",
       "    <tr>\n",
       "      <th>651614</th>\n",
       "      <td>103840.000000</td>\n",
       "      <td>12</td>\n",
       "      <td>dominant_frequencies</td>\n",
       "      <td>matching_annotaudio_Aditya_2018-08-20_0300-040...</td>\n",
       "      <td>12_matching_annotaudio_Aditya_2018-08-20_0300-...</td>\n",
       "    </tr>\n",
       "    <tr>\n",
       "      <th>651615</th>\n",
       "      <td>104540.000000</td>\n",
       "      <td>12</td>\n",
       "      <td>dominant_frequencies</td>\n",
       "      <td>matching_annotaudio_Aditya_2018-08-20_0300-040...</td>\n",
       "      <td>12_matching_annotaudio_Aditya_2018-08-20_0300-...</td>\n",
       "    </tr>\n",
       "    <tr>\n",
       "      <th>651616</th>\n",
       "      <td>105100.000000</td>\n",
       "      <td>12</td>\n",
       "      <td>dominant_frequencies</td>\n",
       "      <td>matching_annotaudio_Aditya_2018-08-20_0300-040...</td>\n",
       "      <td>12_matching_annotaudio_Aditya_2018-08-20_0300-...</td>\n",
       "    </tr>\n",
       "  </tbody>\n",
       "</table>\n",
       "<p>651617 rows × 5 columns</p>\n",
       "</div>"
      ],
      "text/plain": [
       "                value  segment_number           measurement  \\\n",
       "0            0.032661               0                   rms   \n",
       "1            0.102295               0        peak_amplitude   \n",
       "2        90200.000000               0   minus_XdB_frequency   \n",
       "3       104700.000000               0  dominant_frequencies   \n",
       "4            0.012252               1                   rms   \n",
       "...               ...             ...                   ...   \n",
       "651612  103120.000000              12  dominant_frequencies   \n",
       "651613  103600.000000              12  dominant_frequencies   \n",
       "651614  103840.000000              12  dominant_frequencies   \n",
       "651615  104540.000000              12  dominant_frequencies   \n",
       "651616  105100.000000              12  dominant_frequencies   \n",
       "\n",
       "                                                file_name  \\\n",
       "0       matching_annotaudio_Aditya_2018-08-16_21502300...   \n",
       "1       matching_annotaudio_Aditya_2018-08-16_21502300...   \n",
       "2       matching_annotaudio_Aditya_2018-08-16_21502300...   \n",
       "3       matching_annotaudio_Aditya_2018-08-16_21502300...   \n",
       "4       matching_annotaudio_Aditya_2018-08-16_21502300...   \n",
       "...                                                   ...   \n",
       "651612  matching_annotaudio_Aditya_2018-08-20_0300-040...   \n",
       "651613  matching_annotaudio_Aditya_2018-08-20_0300-040...   \n",
       "651614  matching_annotaudio_Aditya_2018-08-20_0300-040...   \n",
       "651615  matching_annotaudio_Aditya_2018-08-20_0300-040...   \n",
       "651616  matching_annotaudio_Aditya_2018-08-20_0300-040...   \n",
       "\n",
       "                                         unique_window_id  \n",
       "0       0_matching_annotaudio_Aditya_2018-08-16_215023...  \n",
       "1       0_matching_annotaudio_Aditya_2018-08-16_215023...  \n",
       "2       0_matching_annotaudio_Aditya_2018-08-16_215023...  \n",
       "3       0_matching_annotaudio_Aditya_2018-08-16_215023...  \n",
       "4       1_matching_annotaudio_Aditya_2018-08-16_215023...  \n",
       "...                                                   ...  \n",
       "651612  12_matching_annotaudio_Aditya_2018-08-20_0300-...  \n",
       "651613  12_matching_annotaudio_Aditya_2018-08-20_0300-...  \n",
       "651614  12_matching_annotaudio_Aditya_2018-08-20_0300-...  \n",
       "651615  12_matching_annotaudio_Aditya_2018-08-20_0300-...  \n",
       "651616  12_matching_annotaudio_Aditya_2018-08-20_0300-...  \n",
       "\n",
       "[651617 rows x 5 columns]"
      ]
     },
     "execution_count": 11,
     "metadata": {},
     "output_type": "execute_result"
    }
   ],
   "source": [
    "all_split_measure"
   ]
  },
  {
   "cell_type": "code",
   "execution_count": 12,
   "metadata": {},
   "outputs": [
    {
     "data": {
      "application/javascript": [
       "/* Put everything inside the global mpl namespace */\n",
       "window.mpl = {};\n",
       "\n",
       "\n",
       "mpl.get_websocket_type = function() {\n",
       "    if (typeof(WebSocket) !== 'undefined') {\n",
       "        return WebSocket;\n",
       "    } else if (typeof(MozWebSocket) !== 'undefined') {\n",
       "        return MozWebSocket;\n",
       "    } else {\n",
       "        alert('Your browser does not have WebSocket support. ' +\n",
       "              'Please try Chrome, Safari or Firefox ≥ 6. ' +\n",
       "              'Firefox 4 and 5 are also supported but you ' +\n",
       "              'have to enable WebSockets in about:config.');\n",
       "    };\n",
       "}\n",
       "\n",
       "mpl.figure = function(figure_id, websocket, ondownload, parent_element) {\n",
       "    this.id = figure_id;\n",
       "\n",
       "    this.ws = websocket;\n",
       "\n",
       "    this.supports_binary = (this.ws.binaryType != undefined);\n",
       "\n",
       "    if (!this.supports_binary) {\n",
       "        var warnings = document.getElementById(\"mpl-warnings\");\n",
       "        if (warnings) {\n",
       "            warnings.style.display = 'block';\n",
       "            warnings.textContent = (\n",
       "                \"This browser does not support binary websocket messages. \" +\n",
       "                    \"Performance may be slow.\");\n",
       "        }\n",
       "    }\n",
       "\n",
       "    this.imageObj = new Image();\n",
       "\n",
       "    this.context = undefined;\n",
       "    this.message = undefined;\n",
       "    this.canvas = undefined;\n",
       "    this.rubberband_canvas = undefined;\n",
       "    this.rubberband_context = undefined;\n",
       "    this.format_dropdown = undefined;\n",
       "\n",
       "    this.image_mode = 'full';\n",
       "\n",
       "    this.root = $('<div/>');\n",
       "    this._root_extra_style(this.root)\n",
       "    this.root.attr('style', 'display: inline-block');\n",
       "\n",
       "    $(parent_element).append(this.root);\n",
       "\n",
       "    this._init_header(this);\n",
       "    this._init_canvas(this);\n",
       "    this._init_toolbar(this);\n",
       "\n",
       "    var fig = this;\n",
       "\n",
       "    this.waiting = false;\n",
       "\n",
       "    this.ws.onopen =  function () {\n",
       "            fig.send_message(\"supports_binary\", {value: fig.supports_binary});\n",
       "            fig.send_message(\"send_image_mode\", {});\n",
       "            if (mpl.ratio != 1) {\n",
       "                fig.send_message(\"set_dpi_ratio\", {'dpi_ratio': mpl.ratio});\n",
       "            }\n",
       "            fig.send_message(\"refresh\", {});\n",
       "        }\n",
       "\n",
       "    this.imageObj.onload = function() {\n",
       "            if (fig.image_mode == 'full') {\n",
       "                // Full images could contain transparency (where diff images\n",
       "                // almost always do), so we need to clear the canvas so that\n",
       "                // there is no ghosting.\n",
       "                fig.context.clearRect(0, 0, fig.canvas.width, fig.canvas.height);\n",
       "            }\n",
       "            fig.context.drawImage(fig.imageObj, 0, 0);\n",
       "        };\n",
       "\n",
       "    this.imageObj.onunload = function() {\n",
       "        fig.ws.close();\n",
       "    }\n",
       "\n",
       "    this.ws.onmessage = this._make_on_message_function(this);\n",
       "\n",
       "    this.ondownload = ondownload;\n",
       "}\n",
       "\n",
       "mpl.figure.prototype._init_header = function() {\n",
       "    var titlebar = $(\n",
       "        '<div class=\"ui-dialog-titlebar ui-widget-header ui-corner-all ' +\n",
       "        'ui-helper-clearfix\"/>');\n",
       "    var titletext = $(\n",
       "        '<div class=\"ui-dialog-title\" style=\"width: 100%; ' +\n",
       "        'text-align: center; padding: 3px;\"/>');\n",
       "    titlebar.append(titletext)\n",
       "    this.root.append(titlebar);\n",
       "    this.header = titletext[0];\n",
       "}\n",
       "\n",
       "\n",
       "\n",
       "mpl.figure.prototype._canvas_extra_style = function(canvas_div) {\n",
       "\n",
       "}\n",
       "\n",
       "\n",
       "mpl.figure.prototype._root_extra_style = function(canvas_div) {\n",
       "\n",
       "}\n",
       "\n",
       "mpl.figure.prototype._init_canvas = function() {\n",
       "    var fig = this;\n",
       "\n",
       "    var canvas_div = $('<div/>');\n",
       "\n",
       "    canvas_div.attr('style', 'position: relative; clear: both; outline: 0');\n",
       "\n",
       "    function canvas_keyboard_event(event) {\n",
       "        return fig.key_event(event, event['data']);\n",
       "    }\n",
       "\n",
       "    canvas_div.keydown('key_press', canvas_keyboard_event);\n",
       "    canvas_div.keyup('key_release', canvas_keyboard_event);\n",
       "    this.canvas_div = canvas_div\n",
       "    this._canvas_extra_style(canvas_div)\n",
       "    this.root.append(canvas_div);\n",
       "\n",
       "    var canvas = $('<canvas/>');\n",
       "    canvas.addClass('mpl-canvas');\n",
       "    canvas.attr('style', \"left: 0; top: 0; z-index: 0; outline: 0\")\n",
       "\n",
       "    this.canvas = canvas[0];\n",
       "    this.context = canvas[0].getContext(\"2d\");\n",
       "\n",
       "    var backingStore = this.context.backingStorePixelRatio ||\n",
       "\tthis.context.webkitBackingStorePixelRatio ||\n",
       "\tthis.context.mozBackingStorePixelRatio ||\n",
       "\tthis.context.msBackingStorePixelRatio ||\n",
       "\tthis.context.oBackingStorePixelRatio ||\n",
       "\tthis.context.backingStorePixelRatio || 1;\n",
       "\n",
       "    mpl.ratio = (window.devicePixelRatio || 1) / backingStore;\n",
       "\n",
       "    var rubberband = $('<canvas/>');\n",
       "    rubberband.attr('style', \"position: absolute; left: 0; top: 0; z-index: 1;\")\n",
       "\n",
       "    var pass_mouse_events = true;\n",
       "\n",
       "    canvas_div.resizable({\n",
       "        start: function(event, ui) {\n",
       "            pass_mouse_events = false;\n",
       "        },\n",
       "        resize: function(event, ui) {\n",
       "            fig.request_resize(ui.size.width, ui.size.height);\n",
       "        },\n",
       "        stop: function(event, ui) {\n",
       "            pass_mouse_events = true;\n",
       "            fig.request_resize(ui.size.width, ui.size.height);\n",
       "        },\n",
       "    });\n",
       "\n",
       "    function mouse_event_fn(event) {\n",
       "        if (pass_mouse_events)\n",
       "            return fig.mouse_event(event, event['data']);\n",
       "    }\n",
       "\n",
       "    rubberband.mousedown('button_press', mouse_event_fn);\n",
       "    rubberband.mouseup('button_release', mouse_event_fn);\n",
       "    // Throttle sequential mouse events to 1 every 20ms.\n",
       "    rubberband.mousemove('motion_notify', mouse_event_fn);\n",
       "\n",
       "    rubberband.mouseenter('figure_enter', mouse_event_fn);\n",
       "    rubberband.mouseleave('figure_leave', mouse_event_fn);\n",
       "\n",
       "    canvas_div.on(\"wheel\", function (event) {\n",
       "        event = event.originalEvent;\n",
       "        event['data'] = 'scroll'\n",
       "        if (event.deltaY < 0) {\n",
       "            event.step = 1;\n",
       "        } else {\n",
       "            event.step = -1;\n",
       "        }\n",
       "        mouse_event_fn(event);\n",
       "    });\n",
       "\n",
       "    canvas_div.append(canvas);\n",
       "    canvas_div.append(rubberband);\n",
       "\n",
       "    this.rubberband = rubberband;\n",
       "    this.rubberband_canvas = rubberband[0];\n",
       "    this.rubberband_context = rubberband[0].getContext(\"2d\");\n",
       "    this.rubberband_context.strokeStyle = \"#000000\";\n",
       "\n",
       "    this._resize_canvas = function(width, height) {\n",
       "        // Keep the size of the canvas, canvas container, and rubber band\n",
       "        // canvas in synch.\n",
       "        canvas_div.css('width', width)\n",
       "        canvas_div.css('height', height)\n",
       "\n",
       "        canvas.attr('width', width * mpl.ratio);\n",
       "        canvas.attr('height', height * mpl.ratio);\n",
       "        canvas.attr('style', 'width: ' + width + 'px; height: ' + height + 'px;');\n",
       "\n",
       "        rubberband.attr('width', width);\n",
       "        rubberband.attr('height', height);\n",
       "    }\n",
       "\n",
       "    // Set the figure to an initial 600x600px, this will subsequently be updated\n",
       "    // upon first draw.\n",
       "    this._resize_canvas(600, 600);\n",
       "\n",
       "    // Disable right mouse context menu.\n",
       "    $(this.rubberband_canvas).bind(\"contextmenu\",function(e){\n",
       "        return false;\n",
       "    });\n",
       "\n",
       "    function set_focus () {\n",
       "        canvas.focus();\n",
       "        canvas_div.focus();\n",
       "    }\n",
       "\n",
       "    window.setTimeout(set_focus, 100);\n",
       "}\n",
       "\n",
       "mpl.figure.prototype._init_toolbar = function() {\n",
       "    var fig = this;\n",
       "\n",
       "    var nav_element = $('<div/>');\n",
       "    nav_element.attr('style', 'width: 100%');\n",
       "    this.root.append(nav_element);\n",
       "\n",
       "    // Define a callback function for later on.\n",
       "    function toolbar_event(event) {\n",
       "        return fig.toolbar_button_onclick(event['data']);\n",
       "    }\n",
       "    function toolbar_mouse_event(event) {\n",
       "        return fig.toolbar_button_onmouseover(event['data']);\n",
       "    }\n",
       "\n",
       "    for(var toolbar_ind in mpl.toolbar_items) {\n",
       "        var name = mpl.toolbar_items[toolbar_ind][0];\n",
       "        var tooltip = mpl.toolbar_items[toolbar_ind][1];\n",
       "        var image = mpl.toolbar_items[toolbar_ind][2];\n",
       "        var method_name = mpl.toolbar_items[toolbar_ind][3];\n",
       "\n",
       "        if (!name) {\n",
       "            // put a spacer in here.\n",
       "            continue;\n",
       "        }\n",
       "        var button = $('<button/>');\n",
       "        button.addClass('ui-button ui-widget ui-state-default ui-corner-all ' +\n",
       "                        'ui-button-icon-only');\n",
       "        button.attr('role', 'button');\n",
       "        button.attr('aria-disabled', 'false');\n",
       "        button.click(method_name, toolbar_event);\n",
       "        button.mouseover(tooltip, toolbar_mouse_event);\n",
       "\n",
       "        var icon_img = $('<span/>');\n",
       "        icon_img.addClass('ui-button-icon-primary ui-icon');\n",
       "        icon_img.addClass(image);\n",
       "        icon_img.addClass('ui-corner-all');\n",
       "\n",
       "        var tooltip_span = $('<span/>');\n",
       "        tooltip_span.addClass('ui-button-text');\n",
       "        tooltip_span.html(tooltip);\n",
       "\n",
       "        button.append(icon_img);\n",
       "        button.append(tooltip_span);\n",
       "\n",
       "        nav_element.append(button);\n",
       "    }\n",
       "\n",
       "    var fmt_picker_span = $('<span/>');\n",
       "\n",
       "    var fmt_picker = $('<select/>');\n",
       "    fmt_picker.addClass('mpl-toolbar-option ui-widget ui-widget-content');\n",
       "    fmt_picker_span.append(fmt_picker);\n",
       "    nav_element.append(fmt_picker_span);\n",
       "    this.format_dropdown = fmt_picker[0];\n",
       "\n",
       "    for (var ind in mpl.extensions) {\n",
       "        var fmt = mpl.extensions[ind];\n",
       "        var option = $(\n",
       "            '<option/>', {selected: fmt === mpl.default_extension}).html(fmt);\n",
       "        fmt_picker.append(option);\n",
       "    }\n",
       "\n",
       "    // Add hover states to the ui-buttons\n",
       "    $( \".ui-button\" ).hover(\n",
       "        function() { $(this).addClass(\"ui-state-hover\");},\n",
       "        function() { $(this).removeClass(\"ui-state-hover\");}\n",
       "    );\n",
       "\n",
       "    var status_bar = $('<span class=\"mpl-message\"/>');\n",
       "    nav_element.append(status_bar);\n",
       "    this.message = status_bar[0];\n",
       "}\n",
       "\n",
       "mpl.figure.prototype.request_resize = function(x_pixels, y_pixels) {\n",
       "    // Request matplotlib to resize the figure. Matplotlib will then trigger a resize in the client,\n",
       "    // which will in turn request a refresh of the image.\n",
       "    this.send_message('resize', {'width': x_pixels, 'height': y_pixels});\n",
       "}\n",
       "\n",
       "mpl.figure.prototype.send_message = function(type, properties) {\n",
       "    properties['type'] = type;\n",
       "    properties['figure_id'] = this.id;\n",
       "    this.ws.send(JSON.stringify(properties));\n",
       "}\n",
       "\n",
       "mpl.figure.prototype.send_draw_message = function() {\n",
       "    if (!this.waiting) {\n",
       "        this.waiting = true;\n",
       "        this.ws.send(JSON.stringify({type: \"draw\", figure_id: this.id}));\n",
       "    }\n",
       "}\n",
       "\n",
       "\n",
       "mpl.figure.prototype.handle_save = function(fig, msg) {\n",
       "    var format_dropdown = fig.format_dropdown;\n",
       "    var format = format_dropdown.options[format_dropdown.selectedIndex].value;\n",
       "    fig.ondownload(fig, format);\n",
       "}\n",
       "\n",
       "\n",
       "mpl.figure.prototype.handle_resize = function(fig, msg) {\n",
       "    var size = msg['size'];\n",
       "    if (size[0] != fig.canvas.width || size[1] != fig.canvas.height) {\n",
       "        fig._resize_canvas(size[0], size[1]);\n",
       "        fig.send_message(\"refresh\", {});\n",
       "    };\n",
       "}\n",
       "\n",
       "mpl.figure.prototype.handle_rubberband = function(fig, msg) {\n",
       "    var x0 = msg['x0'] / mpl.ratio;\n",
       "    var y0 = (fig.canvas.height - msg['y0']) / mpl.ratio;\n",
       "    var x1 = msg['x1'] / mpl.ratio;\n",
       "    var y1 = (fig.canvas.height - msg['y1']) / mpl.ratio;\n",
       "    x0 = Math.floor(x0) + 0.5;\n",
       "    y0 = Math.floor(y0) + 0.5;\n",
       "    x1 = Math.floor(x1) + 0.5;\n",
       "    y1 = Math.floor(y1) + 0.5;\n",
       "    var min_x = Math.min(x0, x1);\n",
       "    var min_y = Math.min(y0, y1);\n",
       "    var width = Math.abs(x1 - x0);\n",
       "    var height = Math.abs(y1 - y0);\n",
       "\n",
       "    fig.rubberband_context.clearRect(\n",
       "        0, 0, fig.canvas.width / mpl.ratio, fig.canvas.height / mpl.ratio);\n",
       "\n",
       "    fig.rubberband_context.strokeRect(min_x, min_y, width, height);\n",
       "}\n",
       "\n",
       "mpl.figure.prototype.handle_figure_label = function(fig, msg) {\n",
       "    // Updates the figure title.\n",
       "    fig.header.textContent = msg['label'];\n",
       "}\n",
       "\n",
       "mpl.figure.prototype.handle_cursor = function(fig, msg) {\n",
       "    var cursor = msg['cursor'];\n",
       "    switch(cursor)\n",
       "    {\n",
       "    case 0:\n",
       "        cursor = 'pointer';\n",
       "        break;\n",
       "    case 1:\n",
       "        cursor = 'default';\n",
       "        break;\n",
       "    case 2:\n",
       "        cursor = 'crosshair';\n",
       "        break;\n",
       "    case 3:\n",
       "        cursor = 'move';\n",
       "        break;\n",
       "    }\n",
       "    fig.rubberband_canvas.style.cursor = cursor;\n",
       "}\n",
       "\n",
       "mpl.figure.prototype.handle_message = function(fig, msg) {\n",
       "    fig.message.textContent = msg['message'];\n",
       "}\n",
       "\n",
       "mpl.figure.prototype.handle_draw = function(fig, msg) {\n",
       "    // Request the server to send over a new figure.\n",
       "    fig.send_draw_message();\n",
       "}\n",
       "\n",
       "mpl.figure.prototype.handle_image_mode = function(fig, msg) {\n",
       "    fig.image_mode = msg['mode'];\n",
       "}\n",
       "\n",
       "mpl.figure.prototype.updated_canvas_event = function() {\n",
       "    // Called whenever the canvas gets updated.\n",
       "    this.send_message(\"ack\", {});\n",
       "}\n",
       "\n",
       "// A function to construct a web socket function for onmessage handling.\n",
       "// Called in the figure constructor.\n",
       "mpl.figure.prototype._make_on_message_function = function(fig) {\n",
       "    return function socket_on_message(evt) {\n",
       "        if (evt.data instanceof Blob) {\n",
       "            /* FIXME: We get \"Resource interpreted as Image but\n",
       "             * transferred with MIME type text/plain:\" errors on\n",
       "             * Chrome.  But how to set the MIME type?  It doesn't seem\n",
       "             * to be part of the websocket stream */\n",
       "            evt.data.type = \"image/png\";\n",
       "\n",
       "            /* Free the memory for the previous frames */\n",
       "            if (fig.imageObj.src) {\n",
       "                (window.URL || window.webkitURL).revokeObjectURL(\n",
       "                    fig.imageObj.src);\n",
       "            }\n",
       "\n",
       "            fig.imageObj.src = (window.URL || window.webkitURL).createObjectURL(\n",
       "                evt.data);\n",
       "            fig.updated_canvas_event();\n",
       "            fig.waiting = false;\n",
       "            return;\n",
       "        }\n",
       "        else if (typeof evt.data === 'string' && evt.data.slice(0, 21) == \"data:image/png;base64\") {\n",
       "            fig.imageObj.src = evt.data;\n",
       "            fig.updated_canvas_event();\n",
       "            fig.waiting = false;\n",
       "            return;\n",
       "        }\n",
       "\n",
       "        var msg = JSON.parse(evt.data);\n",
       "        var msg_type = msg['type'];\n",
       "\n",
       "        // Call the  \"handle_{type}\" callback, which takes\n",
       "        // the figure and JSON message as its only arguments.\n",
       "        try {\n",
       "            var callback = fig[\"handle_\" + msg_type];\n",
       "        } catch (e) {\n",
       "            console.log(\"No handler for the '\" + msg_type + \"' message type: \", msg);\n",
       "            return;\n",
       "        }\n",
       "\n",
       "        if (callback) {\n",
       "            try {\n",
       "                // console.log(\"Handling '\" + msg_type + \"' message: \", msg);\n",
       "                callback(fig, msg);\n",
       "            } catch (e) {\n",
       "                console.log(\"Exception inside the 'handler_\" + msg_type + \"' callback:\", e, e.stack, msg);\n",
       "            }\n",
       "        }\n",
       "    };\n",
       "}\n",
       "\n",
       "// from http://stackoverflow.com/questions/1114465/getting-mouse-location-in-canvas\n",
       "mpl.findpos = function(e) {\n",
       "    //this section is from http://www.quirksmode.org/js/events_properties.html\n",
       "    var targ;\n",
       "    if (!e)\n",
       "        e = window.event;\n",
       "    if (e.target)\n",
       "        targ = e.target;\n",
       "    else if (e.srcElement)\n",
       "        targ = e.srcElement;\n",
       "    if (targ.nodeType == 3) // defeat Safari bug\n",
       "        targ = targ.parentNode;\n",
       "\n",
       "    // jQuery normalizes the pageX and pageY\n",
       "    // pageX,Y are the mouse positions relative to the document\n",
       "    // offset() returns the position of the element relative to the document\n",
       "    var x = e.pageX - $(targ).offset().left;\n",
       "    var y = e.pageY - $(targ).offset().top;\n",
       "\n",
       "    return {\"x\": x, \"y\": y};\n",
       "};\n",
       "\n",
       "/*\n",
       " * return a copy of an object with only non-object keys\n",
       " * we need this to avoid circular references\n",
       " * http://stackoverflow.com/a/24161582/3208463\n",
       " */\n",
       "function simpleKeys (original) {\n",
       "  return Object.keys(original).reduce(function (obj, key) {\n",
       "    if (typeof original[key] !== 'object')\n",
       "        obj[key] = original[key]\n",
       "    return obj;\n",
       "  }, {});\n",
       "}\n",
       "\n",
       "mpl.figure.prototype.mouse_event = function(event, name) {\n",
       "    var canvas_pos = mpl.findpos(event)\n",
       "\n",
       "    if (name === 'button_press')\n",
       "    {\n",
       "        this.canvas.focus();\n",
       "        this.canvas_div.focus();\n",
       "    }\n",
       "\n",
       "    var x = canvas_pos.x * mpl.ratio;\n",
       "    var y = canvas_pos.y * mpl.ratio;\n",
       "\n",
       "    this.send_message(name, {x: x, y: y, button: event.button,\n",
       "                             step: event.step,\n",
       "                             guiEvent: simpleKeys(event)});\n",
       "\n",
       "    /* This prevents the web browser from automatically changing to\n",
       "     * the text insertion cursor when the button is pressed.  We want\n",
       "     * to control all of the cursor setting manually through the\n",
       "     * 'cursor' event from matplotlib */\n",
       "    event.preventDefault();\n",
       "    return false;\n",
       "}\n",
       "\n",
       "mpl.figure.prototype._key_event_extra = function(event, name) {\n",
       "    // Handle any extra behaviour associated with a key event\n",
       "}\n",
       "\n",
       "mpl.figure.prototype.key_event = function(event, name) {\n",
       "\n",
       "    // Prevent repeat events\n",
       "    if (name == 'key_press')\n",
       "    {\n",
       "        if (event.which === this._key)\n",
       "            return;\n",
       "        else\n",
       "            this._key = event.which;\n",
       "    }\n",
       "    if (name == 'key_release')\n",
       "        this._key = null;\n",
       "\n",
       "    var value = '';\n",
       "    if (event.ctrlKey && event.which != 17)\n",
       "        value += \"ctrl+\";\n",
       "    if (event.altKey && event.which != 18)\n",
       "        value += \"alt+\";\n",
       "    if (event.shiftKey && event.which != 16)\n",
       "        value += \"shift+\";\n",
       "\n",
       "    value += 'k';\n",
       "    value += event.which.toString();\n",
       "\n",
       "    this._key_event_extra(event, name);\n",
       "\n",
       "    this.send_message(name, {key: value,\n",
       "                             guiEvent: simpleKeys(event)});\n",
       "    return false;\n",
       "}\n",
       "\n",
       "mpl.figure.prototype.toolbar_button_onclick = function(name) {\n",
       "    if (name == 'download') {\n",
       "        this.handle_save(this, null);\n",
       "    } else {\n",
       "        this.send_message(\"toolbar_button\", {name: name});\n",
       "    }\n",
       "};\n",
       "\n",
       "mpl.figure.prototype.toolbar_button_onmouseover = function(tooltip) {\n",
       "    this.message.textContent = tooltip;\n",
       "};\n",
       "mpl.toolbar_items = [[\"Home\", \"Reset original view\", \"fa fa-home icon-home\", \"home\"], [\"Back\", \"Back to previous view\", \"fa fa-arrow-left icon-arrow-left\", \"back\"], [\"Forward\", \"Forward to next view\", \"fa fa-arrow-right icon-arrow-right\", \"forward\"], [\"\", \"\", \"\", \"\"], [\"Pan\", \"Pan axes with left mouse, zoom with right\", \"fa fa-arrows icon-move\", \"pan\"], [\"Zoom\", \"Zoom to rectangle\", \"fa fa-square-o icon-check-empty\", \"zoom\"], [\"\", \"\", \"\", \"\"], [\"Download\", \"Download plot\", \"fa fa-floppy-o icon-save\", \"download\"]];\n",
       "\n",
       "mpl.extensions = [\"eps\", \"jpeg\", \"pdf\", \"png\", \"ps\", \"raw\", \"svg\", \"tif\"];\n",
       "\n",
       "mpl.default_extension = \"png\";var comm_websocket_adapter = function(comm) {\n",
       "    // Create a \"websocket\"-like object which calls the given IPython comm\n",
       "    // object with the appropriate methods. Currently this is a non binary\n",
       "    // socket, so there is still some room for performance tuning.\n",
       "    var ws = {};\n",
       "\n",
       "    ws.close = function() {\n",
       "        comm.close()\n",
       "    };\n",
       "    ws.send = function(m) {\n",
       "        //console.log('sending', m);\n",
       "        comm.send(m);\n",
       "    };\n",
       "    // Register the callback with on_msg.\n",
       "    comm.on_msg(function(msg) {\n",
       "        //console.log('receiving', msg['content']['data'], msg);\n",
       "        // Pass the mpl event to the overridden (by mpl) onmessage function.\n",
       "        ws.onmessage(msg['content']['data'])\n",
       "    });\n",
       "    return ws;\n",
       "}\n",
       "\n",
       "mpl.mpl_figure_comm = function(comm, msg) {\n",
       "    // This is the function which gets called when the mpl process\n",
       "    // starts-up an IPython Comm through the \"matplotlib\" channel.\n",
       "\n",
       "    var id = msg.content.data.id;\n",
       "    // Get hold of the div created by the display call when the Comm\n",
       "    // socket was opened in Python.\n",
       "    var element = $(\"#\" + id);\n",
       "    var ws_proxy = comm_websocket_adapter(comm)\n",
       "\n",
       "    function ondownload(figure, format) {\n",
       "        window.open(figure.imageObj.src);\n",
       "    }\n",
       "\n",
       "    var fig = new mpl.figure(id, ws_proxy,\n",
       "                           ondownload,\n",
       "                           element.get(0));\n",
       "\n",
       "    // Call onopen now - mpl needs it, as it is assuming we've passed it a real\n",
       "    // web socket which is closed, not our websocket->open comm proxy.\n",
       "    ws_proxy.onopen();\n",
       "\n",
       "    fig.parent_element = element.get(0);\n",
       "    fig.cell_info = mpl.find_output_cell(\"<div id='\" + id + \"'></div>\");\n",
       "    if (!fig.cell_info) {\n",
       "        console.error(\"Failed to find cell for figure\", id, fig);\n",
       "        return;\n",
       "    }\n",
       "\n",
       "    var output_index = fig.cell_info[2]\n",
       "    var cell = fig.cell_info[0];\n",
       "\n",
       "};\n",
       "\n",
       "mpl.figure.prototype.handle_close = function(fig, msg) {\n",
       "    var width = fig.canvas.width/mpl.ratio\n",
       "    fig.root.unbind('remove')\n",
       "\n",
       "    // Update the output cell to use the data from the current canvas.\n",
       "    fig.push_to_output();\n",
       "    var dataURL = fig.canvas.toDataURL();\n",
       "    // Re-enable the keyboard manager in IPython - without this line, in FF,\n",
       "    // the notebook keyboard shortcuts fail.\n",
       "    IPython.keyboard_manager.enable()\n",
       "    $(fig.parent_element).html('<img src=\"' + dataURL + '\" width=\"' + width + '\">');\n",
       "    fig.close_ws(fig, msg);\n",
       "}\n",
       "\n",
       "mpl.figure.prototype.close_ws = function(fig, msg){\n",
       "    fig.send_message('closing', msg);\n",
       "    // fig.ws.close()\n",
       "}\n",
       "\n",
       "mpl.figure.prototype.push_to_output = function(remove_interactive) {\n",
       "    // Turn the data on the canvas into data in the output cell.\n",
       "    var width = this.canvas.width/mpl.ratio\n",
       "    var dataURL = this.canvas.toDataURL();\n",
       "    this.cell_info[1]['text/html'] = '<img src=\"' + dataURL + '\" width=\"' + width + '\">';\n",
       "}\n",
       "\n",
       "mpl.figure.prototype.updated_canvas_event = function() {\n",
       "    // Tell IPython that the notebook contents must change.\n",
       "    IPython.notebook.set_dirty(true);\n",
       "    this.send_message(\"ack\", {});\n",
       "    var fig = this;\n",
       "    // Wait a second, then push the new image to the DOM so\n",
       "    // that it is saved nicely (might be nice to debounce this).\n",
       "    setTimeout(function () { fig.push_to_output() }, 1000);\n",
       "}\n",
       "\n",
       "mpl.figure.prototype._init_toolbar = function() {\n",
       "    var fig = this;\n",
       "\n",
       "    var nav_element = $('<div/>');\n",
       "    nav_element.attr('style', 'width: 100%');\n",
       "    this.root.append(nav_element);\n",
       "\n",
       "    // Define a callback function for later on.\n",
       "    function toolbar_event(event) {\n",
       "        return fig.toolbar_button_onclick(event['data']);\n",
       "    }\n",
       "    function toolbar_mouse_event(event) {\n",
       "        return fig.toolbar_button_onmouseover(event['data']);\n",
       "    }\n",
       "\n",
       "    for(var toolbar_ind in mpl.toolbar_items){\n",
       "        var name = mpl.toolbar_items[toolbar_ind][0];\n",
       "        var tooltip = mpl.toolbar_items[toolbar_ind][1];\n",
       "        var image = mpl.toolbar_items[toolbar_ind][2];\n",
       "        var method_name = mpl.toolbar_items[toolbar_ind][3];\n",
       "\n",
       "        if (!name) { continue; };\n",
       "\n",
       "        var button = $('<button class=\"btn btn-default\" href=\"#\" title=\"' + name + '\"><i class=\"fa ' + image + ' fa-lg\"></i></button>');\n",
       "        button.click(method_name, toolbar_event);\n",
       "        button.mouseover(tooltip, toolbar_mouse_event);\n",
       "        nav_element.append(button);\n",
       "    }\n",
       "\n",
       "    // Add the status bar.\n",
       "    var status_bar = $('<span class=\"mpl-message\" style=\"text-align:right; float: right;\"/>');\n",
       "    nav_element.append(status_bar);\n",
       "    this.message = status_bar[0];\n",
       "\n",
       "    // Add the close button to the window.\n",
       "    var buttongrp = $('<div class=\"btn-group inline pull-right\"></div>');\n",
       "    var button = $('<button class=\"btn btn-mini btn-primary\" href=\"#\" title=\"Stop Interaction\"><i class=\"fa fa-power-off icon-remove icon-large\"></i></button>');\n",
       "    button.click(function (evt) { fig.handle_close(fig, {}); } );\n",
       "    button.mouseover('Stop Interaction', toolbar_mouse_event);\n",
       "    buttongrp.append(button);\n",
       "    var titlebar = this.root.find($('.ui-dialog-titlebar'));\n",
       "    titlebar.prepend(buttongrp);\n",
       "}\n",
       "\n",
       "mpl.figure.prototype._root_extra_style = function(el){\n",
       "    var fig = this\n",
       "    el.on(\"remove\", function(){\n",
       "\tfig.close_ws(fig, {});\n",
       "    });\n",
       "}\n",
       "\n",
       "mpl.figure.prototype._canvas_extra_style = function(el){\n",
       "    // this is important to make the div 'focusable\n",
       "    el.attr('tabindex', 0)\n",
       "    // reach out to IPython and tell the keyboard manager to turn it's self\n",
       "    // off when our div gets focus\n",
       "\n",
       "    // location in version 3\n",
       "    if (IPython.notebook.keyboard_manager) {\n",
       "        IPython.notebook.keyboard_manager.register_events(el);\n",
       "    }\n",
       "    else {\n",
       "        // location in version 2\n",
       "        IPython.keyboard_manager.register_events(el);\n",
       "    }\n",
       "\n",
       "}\n",
       "\n",
       "mpl.figure.prototype._key_event_extra = function(event, name) {\n",
       "    var manager = IPython.notebook.keyboard_manager;\n",
       "    if (!manager)\n",
       "        manager = IPython.keyboard_manager;\n",
       "\n",
       "    // Check for shift+enter\n",
       "    if (event.shiftKey && event.which == 13) {\n",
       "        this.canvas_div.blur();\n",
       "        // select the cell after this one\n",
       "        var index = IPython.notebook.find_cell_index(this.cell_info[0]);\n",
       "        IPython.notebook.select(index + 1);\n",
       "    }\n",
       "}\n",
       "\n",
       "mpl.figure.prototype.handle_save = function(fig, msg) {\n",
       "    fig.ondownload(fig, null);\n",
       "}\n",
       "\n",
       "\n",
       "mpl.find_output_cell = function(html_output) {\n",
       "    // Return the cell and output element which can be found *uniquely* in the notebook.\n",
       "    // Note - this is a bit hacky, but it is done because the \"notebook_saving.Notebook\"\n",
       "    // IPython event is triggered only after the cells have been serialised, which for\n",
       "    // our purposes (turning an active figure into a static one), is too late.\n",
       "    var cells = IPython.notebook.get_cells();\n",
       "    var ncells = cells.length;\n",
       "    for (var i=0; i<ncells; i++) {\n",
       "        var cell = cells[i];\n",
       "        if (cell.cell_type === 'code'){\n",
       "            for (var j=0; j<cell.output_area.outputs.length; j++) {\n",
       "                var data = cell.output_area.outputs[j];\n",
       "                if (data.data) {\n",
       "                    // IPython >= 3 moved mimebundle to data attribute of output\n",
       "                    data = data.data;\n",
       "                }\n",
       "                if (data['text/html'] == html_output) {\n",
       "                    return [cell, data, j];\n",
       "                }\n",
       "            }\n",
       "        }\n",
       "    }\n",
       "}\n",
       "\n",
       "// Register the function which deals with the matplotlib target/channel.\n",
       "// The kernel may be null if the page has been refreshed.\n",
       "if (IPython.notebook.kernel != null) {\n",
       "    IPython.notebook.kernel.comm_manager.register_target('matplotlib', mpl.mpl_figure_comm);\n",
       "}\n"
      ],
      "text/plain": [
       "<IPython.core.display.Javascript object>"
      ]
     },
     "metadata": {},
     "output_type": "display_data"
    },
    {
     "data": {
      "text/html": [
       "<img src=\"data:image/png;base64,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\" width=\"640\">"
      ],
      "text/plain": [
       "<IPython.core.display.HTML object>"
      ]
     },
     "metadata": {},
     "output_type": "display_data"
    },
    {
     "data": {
      "text/plain": [
       "{'whiskers': [<matplotlib.lines.Line2D at 0x7feba32839e8>,\n",
       "  <matplotlib.lines.Line2D at 0x7feba3283160>],\n",
       " 'caps': [<matplotlib.lines.Line2D at 0x7feba3283320>,\n",
       "  <matplotlib.lines.Line2D at 0x7feba32832b0>],\n",
       " 'boxes': [<matplotlib.lines.Line2D at 0x7feba3283c18>],\n",
       " 'medians': [<matplotlib.lines.Line2D at 0x7feba2f47390>],\n",
       " 'fliers': [<matplotlib.lines.Line2D at 0x7feba2f47780>],\n",
       " 'means': []}"
      ]
     },
     "execution_count": 12,
     "metadata": {},
     "output_type": "execute_result"
    }
   ],
   "source": [
    "rms_values = all_split_measure[all_split_measure['measurement']=='rms']\n",
    "plt.figure()\n",
    "plt.boxplot(dB(rms_values['value']))"
   ]
  },
  {
   "cell_type": "markdown",
   "metadata": {},
   "source": [
    "### Choosing only those above the silence threshold\n",
    "Now all windows above the silence threshold need to be chosen. Previously, in the notebook *what qualifies as a silent audio segment* I'd set the $silence+20$dB threshold. Right now, I'm wondering if that threshold is too high, and that it'd mean losing out on a lot of data. But first let's see how much data is left with +10 and +20 dB thresholds. "
   ]
  },
  {
   "cell_type": "code",
   "execution_count": 13,
   "metadata": {},
   "outputs": [
    {
     "data": {
      "text/html": [
       "<div>\n",
       "<style scoped>\n",
       "    .dataframe tbody tr th:only-of-type {\n",
       "        vertical-align: middle;\n",
       "    }\n",
       "\n",
       "    .dataframe tbody tr th {\n",
       "        vertical-align: top;\n",
       "    }\n",
       "\n",
       "    .dataframe thead th {\n",
       "        text-align: right;\n",
       "    }\n",
       "</style>\n",
       "<table border=\"1\" class=\"dataframe\">\n",
       "  <thead>\n",
       "    <tr style=\"text-align: right;\">\n",
       "      <th></th>\n",
       "      <th>Unnamed: 0</th>\n",
       "      <th>call_dbpeak_threshold</th>\n",
       "      <th>call_dbrms_threshold</th>\n",
       "    </tr>\n",
       "  </thead>\n",
       "  <tbody>\n",
       "    <tr>\n",
       "      <th>0</th>\n",
       "      <td>0</td>\n",
       "      <td>-23.0</td>\n",
       "      <td>-37.0</td>\n",
       "    </tr>\n",
       "  </tbody>\n",
       "</table>\n",
       "</div>"
      ],
      "text/plain": [
       "   Unnamed: 0  call_dbpeak_threshold  call_dbrms_threshold\n",
       "0           0                  -23.0                 -37.0"
      ]
     },
     "execution_count": 13,
     "metadata": {},
     "output_type": "execute_result"
    }
   ],
   "source": [
    "plus20dB_threshold = pd.read_csv('../call_threshold_levels.csv')\n",
    "plus20dB_threshold"
   ]
  },
  {
   "cell_type": "code",
   "execution_count": 14,
   "metadata": {},
   "outputs": [],
   "source": [
    "measurement_df = all_split_measure"
   ]
  },
  {
   "cell_type": "code",
   "execution_count": 15,
   "metadata": {},
   "outputs": [],
   "source": [
    "def choose_all_windows_above_threshold(measurement_df, threshold):\n",
    "    '''\n",
    "    Chooses all windows with rms greater or equal to the given rms threshold\n",
    "    \n",
    "    \n",
    "    Parameters\n",
    "    ----------\n",
    "    measurement_df : pd.DataFrame\n",
    "        A long dataframe with one measurement value per row\n",
    "        Must have the columns 'measurement', 'unique_window_id'\n",
    "        The 'measurement' column must also have some entries with 'rms' in them. \n",
    "    threshold : float>0\n",
    "        The rms threshold to define windows which are not silent. \n",
    "    \n",
    "    Returns \n",
    "    -------\n",
    "    all_above_threshold : pd.DataFrame\n",
    "        The dataframe with all segments across different files that are greater than or equal to the \n",
    "        chosen threshold rms. \n",
    "    '''\n",
    "\n",
    "    rms_values = measurement_df[measurement_df['measurement']=='rms'].reset_index(drop=True)\n",
    "    above_threshold = rms_values[rms_values['value']>=threshold]\n",
    "    windowids_above_threshold = above_threshold['unique_window_id']\n",
    "    all_above_threshold = measurement_df[measurement_df['unique_window_id'].isin(windowids_above_threshold)].reset_index(drop=True)\n",
    "    return all_above_threshold\n"
   ]
  },
  {
   "cell_type": "code",
   "execution_count": 16,
   "metadata": {},
   "outputs": [
    {
     "data": {
      "text/plain": [
       "(0.01412537544622754, 0.0044668359215096305)"
      ]
     },
     "execution_count": 16,
     "metadata": {},
     "output_type": "execute_result"
    }
   ],
   "source": [
    "threshold_20db = float(10**(plus20dB_threshold['call_dbrms_threshold']/20.0))\n",
    "threshold10db  = float(10**((plus20dB_threshold['call_dbrms_threshold']-10)/20.0))\n",
    "threshold_20db, threshold10db"
   ]
  },
  {
   "cell_type": "code",
   "execution_count": 17,
   "metadata": {},
   "outputs": [],
   "source": [
    "non_silent_measures = choose_all_windows_above_threshold(all_split_measure, threshold_20db)"
   ]
  },
  {
   "cell_type": "code",
   "execution_count": 18,
   "metadata": {},
   "outputs": [
    {
     "data": {
      "application/javascript": [
       "/* Put everything inside the global mpl namespace */\n",
       "window.mpl = {};\n",
       "\n",
       "\n",
       "mpl.get_websocket_type = function() {\n",
       "    if (typeof(WebSocket) !== 'undefined') {\n",
       "        return WebSocket;\n",
       "    } else if (typeof(MozWebSocket) !== 'undefined') {\n",
       "        return MozWebSocket;\n",
       "    } else {\n",
       "        alert('Your browser does not have WebSocket support. ' +\n",
       "              'Please try Chrome, Safari or Firefox ≥ 6. ' +\n",
       "              'Firefox 4 and 5 are also supported but you ' +\n",
       "              'have to enable WebSockets in about:config.');\n",
       "    };\n",
       "}\n",
       "\n",
       "mpl.figure = function(figure_id, websocket, ondownload, parent_element) {\n",
       "    this.id = figure_id;\n",
       "\n",
       "    this.ws = websocket;\n",
       "\n",
       "    this.supports_binary = (this.ws.binaryType != undefined);\n",
       "\n",
       "    if (!this.supports_binary) {\n",
       "        var warnings = document.getElementById(\"mpl-warnings\");\n",
       "        if (warnings) {\n",
       "            warnings.style.display = 'block';\n",
       "            warnings.textContent = (\n",
       "                \"This browser does not support binary websocket messages. \" +\n",
       "                    \"Performance may be slow.\");\n",
       "        }\n",
       "    }\n",
       "\n",
       "    this.imageObj = new Image();\n",
       "\n",
       "    this.context = undefined;\n",
       "    this.message = undefined;\n",
       "    this.canvas = undefined;\n",
       "    this.rubberband_canvas = undefined;\n",
       "    this.rubberband_context = undefined;\n",
       "    this.format_dropdown = undefined;\n",
       "\n",
       "    this.image_mode = 'full';\n",
       "\n",
       "    this.root = $('<div/>');\n",
       "    this._root_extra_style(this.root)\n",
       "    this.root.attr('style', 'display: inline-block');\n",
       "\n",
       "    $(parent_element).append(this.root);\n",
       "\n",
       "    this._init_header(this);\n",
       "    this._init_canvas(this);\n",
       "    this._init_toolbar(this);\n",
       "\n",
       "    var fig = this;\n",
       "\n",
       "    this.waiting = false;\n",
       "\n",
       "    this.ws.onopen =  function () {\n",
       "            fig.send_message(\"supports_binary\", {value: fig.supports_binary});\n",
       "            fig.send_message(\"send_image_mode\", {});\n",
       "            if (mpl.ratio != 1) {\n",
       "                fig.send_message(\"set_dpi_ratio\", {'dpi_ratio': mpl.ratio});\n",
       "            }\n",
       "            fig.send_message(\"refresh\", {});\n",
       "        }\n",
       "\n",
       "    this.imageObj.onload = function() {\n",
       "            if (fig.image_mode == 'full') {\n",
       "                // Full images could contain transparency (where diff images\n",
       "                // almost always do), so we need to clear the canvas so that\n",
       "                // there is no ghosting.\n",
       "                fig.context.clearRect(0, 0, fig.canvas.width, fig.canvas.height);\n",
       "            }\n",
       "            fig.context.drawImage(fig.imageObj, 0, 0);\n",
       "        };\n",
       "\n",
       "    this.imageObj.onunload = function() {\n",
       "        fig.ws.close();\n",
       "    }\n",
       "\n",
       "    this.ws.onmessage = this._make_on_message_function(this);\n",
       "\n",
       "    this.ondownload = ondownload;\n",
       "}\n",
       "\n",
       "mpl.figure.prototype._init_header = function() {\n",
       "    var titlebar = $(\n",
       "        '<div class=\"ui-dialog-titlebar ui-widget-header ui-corner-all ' +\n",
       "        'ui-helper-clearfix\"/>');\n",
       "    var titletext = $(\n",
       "        '<div class=\"ui-dialog-title\" style=\"width: 100%; ' +\n",
       "        'text-align: center; padding: 3px;\"/>');\n",
       "    titlebar.append(titletext)\n",
       "    this.root.append(titlebar);\n",
       "    this.header = titletext[0];\n",
       "}\n",
       "\n",
       "\n",
       "\n",
       "mpl.figure.prototype._canvas_extra_style = function(canvas_div) {\n",
       "\n",
       "}\n",
       "\n",
       "\n",
       "mpl.figure.prototype._root_extra_style = function(canvas_div) {\n",
       "\n",
       "}\n",
       "\n",
       "mpl.figure.prototype._init_canvas = function() {\n",
       "    var fig = this;\n",
       "\n",
       "    var canvas_div = $('<div/>');\n",
       "\n",
       "    canvas_div.attr('style', 'position: relative; clear: both; outline: 0');\n",
       "\n",
       "    function canvas_keyboard_event(event) {\n",
       "        return fig.key_event(event, event['data']);\n",
       "    }\n",
       "\n",
       "    canvas_div.keydown('key_press', canvas_keyboard_event);\n",
       "    canvas_div.keyup('key_release', canvas_keyboard_event);\n",
       "    this.canvas_div = canvas_div\n",
       "    this._canvas_extra_style(canvas_div)\n",
       "    this.root.append(canvas_div);\n",
       "\n",
       "    var canvas = $('<canvas/>');\n",
       "    canvas.addClass('mpl-canvas');\n",
       "    canvas.attr('style', \"left: 0; top: 0; z-index: 0; outline: 0\")\n",
       "\n",
       "    this.canvas = canvas[0];\n",
       "    this.context = canvas[0].getContext(\"2d\");\n",
       "\n",
       "    var backingStore = this.context.backingStorePixelRatio ||\n",
       "\tthis.context.webkitBackingStorePixelRatio ||\n",
       "\tthis.context.mozBackingStorePixelRatio ||\n",
       "\tthis.context.msBackingStorePixelRatio ||\n",
       "\tthis.context.oBackingStorePixelRatio ||\n",
       "\tthis.context.backingStorePixelRatio || 1;\n",
       "\n",
       "    mpl.ratio = (window.devicePixelRatio || 1) / backingStore;\n",
       "\n",
       "    var rubberband = $('<canvas/>');\n",
       "    rubberband.attr('style', \"position: absolute; left: 0; top: 0; z-index: 1;\")\n",
       "\n",
       "    var pass_mouse_events = true;\n",
       "\n",
       "    canvas_div.resizable({\n",
       "        start: function(event, ui) {\n",
       "            pass_mouse_events = false;\n",
       "        },\n",
       "        resize: function(event, ui) {\n",
       "            fig.request_resize(ui.size.width, ui.size.height);\n",
       "        },\n",
       "        stop: function(event, ui) {\n",
       "            pass_mouse_events = true;\n",
       "            fig.request_resize(ui.size.width, ui.size.height);\n",
       "        },\n",
       "    });\n",
       "\n",
       "    function mouse_event_fn(event) {\n",
       "        if (pass_mouse_events)\n",
       "            return fig.mouse_event(event, event['data']);\n",
       "    }\n",
       "\n",
       "    rubberband.mousedown('button_press', mouse_event_fn);\n",
       "    rubberband.mouseup('button_release', mouse_event_fn);\n",
       "    // Throttle sequential mouse events to 1 every 20ms.\n",
       "    rubberband.mousemove('motion_notify', mouse_event_fn);\n",
       "\n",
       "    rubberband.mouseenter('figure_enter', mouse_event_fn);\n",
       "    rubberband.mouseleave('figure_leave', mouse_event_fn);\n",
       "\n",
       "    canvas_div.on(\"wheel\", function (event) {\n",
       "        event = event.originalEvent;\n",
       "        event['data'] = 'scroll'\n",
       "        if (event.deltaY < 0) {\n",
       "            event.step = 1;\n",
       "        } else {\n",
       "            event.step = -1;\n",
       "        }\n",
       "        mouse_event_fn(event);\n",
       "    });\n",
       "\n",
       "    canvas_div.append(canvas);\n",
       "    canvas_div.append(rubberband);\n",
       "\n",
       "    this.rubberband = rubberband;\n",
       "    this.rubberband_canvas = rubberband[0];\n",
       "    this.rubberband_context = rubberband[0].getContext(\"2d\");\n",
       "    this.rubberband_context.strokeStyle = \"#000000\";\n",
       "\n",
       "    this._resize_canvas = function(width, height) {\n",
       "        // Keep the size of the canvas, canvas container, and rubber band\n",
       "        // canvas in synch.\n",
       "        canvas_div.css('width', width)\n",
       "        canvas_div.css('height', height)\n",
       "\n",
       "        canvas.attr('width', width * mpl.ratio);\n",
       "        canvas.attr('height', height * mpl.ratio);\n",
       "        canvas.attr('style', 'width: ' + width + 'px; height: ' + height + 'px;');\n",
       "\n",
       "        rubberband.attr('width', width);\n",
       "        rubberband.attr('height', height);\n",
       "    }\n",
       "\n",
       "    // Set the figure to an initial 600x600px, this will subsequently be updated\n",
       "    // upon first draw.\n",
       "    this._resize_canvas(600, 600);\n",
       "\n",
       "    // Disable right mouse context menu.\n",
       "    $(this.rubberband_canvas).bind(\"contextmenu\",function(e){\n",
       "        return false;\n",
       "    });\n",
       "\n",
       "    function set_focus () {\n",
       "        canvas.focus();\n",
       "        canvas_div.focus();\n",
       "    }\n",
       "\n",
       "    window.setTimeout(set_focus, 100);\n",
       "}\n",
       "\n",
       "mpl.figure.prototype._init_toolbar = function() {\n",
       "    var fig = this;\n",
       "\n",
       "    var nav_element = $('<div/>');\n",
       "    nav_element.attr('style', 'width: 100%');\n",
       "    this.root.append(nav_element);\n",
       "\n",
       "    // Define a callback function for later on.\n",
       "    function toolbar_event(event) {\n",
       "        return fig.toolbar_button_onclick(event['data']);\n",
       "    }\n",
       "    function toolbar_mouse_event(event) {\n",
       "        return fig.toolbar_button_onmouseover(event['data']);\n",
       "    }\n",
       "\n",
       "    for(var toolbar_ind in mpl.toolbar_items) {\n",
       "        var name = mpl.toolbar_items[toolbar_ind][0];\n",
       "        var tooltip = mpl.toolbar_items[toolbar_ind][1];\n",
       "        var image = mpl.toolbar_items[toolbar_ind][2];\n",
       "        var method_name = mpl.toolbar_items[toolbar_ind][3];\n",
       "\n",
       "        if (!name) {\n",
       "            // put a spacer in here.\n",
       "            continue;\n",
       "        }\n",
       "        var button = $('<button/>');\n",
       "        button.addClass('ui-button ui-widget ui-state-default ui-corner-all ' +\n",
       "                        'ui-button-icon-only');\n",
       "        button.attr('role', 'button');\n",
       "        button.attr('aria-disabled', 'false');\n",
       "        button.click(method_name, toolbar_event);\n",
       "        button.mouseover(tooltip, toolbar_mouse_event);\n",
       "\n",
       "        var icon_img = $('<span/>');\n",
       "        icon_img.addClass('ui-button-icon-primary ui-icon');\n",
       "        icon_img.addClass(image);\n",
       "        icon_img.addClass('ui-corner-all');\n",
       "\n",
       "        var tooltip_span = $('<span/>');\n",
       "        tooltip_span.addClass('ui-button-text');\n",
       "        tooltip_span.html(tooltip);\n",
       "\n",
       "        button.append(icon_img);\n",
       "        button.append(tooltip_span);\n",
       "\n",
       "        nav_element.append(button);\n",
       "    }\n",
       "\n",
       "    var fmt_picker_span = $('<span/>');\n",
       "\n",
       "    var fmt_picker = $('<select/>');\n",
       "    fmt_picker.addClass('mpl-toolbar-option ui-widget ui-widget-content');\n",
       "    fmt_picker_span.append(fmt_picker);\n",
       "    nav_element.append(fmt_picker_span);\n",
       "    this.format_dropdown = fmt_picker[0];\n",
       "\n",
       "    for (var ind in mpl.extensions) {\n",
       "        var fmt = mpl.extensions[ind];\n",
       "        var option = $(\n",
       "            '<option/>', {selected: fmt === mpl.default_extension}).html(fmt);\n",
       "        fmt_picker.append(option);\n",
       "    }\n",
       "\n",
       "    // Add hover states to the ui-buttons\n",
       "    $( \".ui-button\" ).hover(\n",
       "        function() { $(this).addClass(\"ui-state-hover\");},\n",
       "        function() { $(this).removeClass(\"ui-state-hover\");}\n",
       "    );\n",
       "\n",
       "    var status_bar = $('<span class=\"mpl-message\"/>');\n",
       "    nav_element.append(status_bar);\n",
       "    this.message = status_bar[0];\n",
       "}\n",
       "\n",
       "mpl.figure.prototype.request_resize = function(x_pixels, y_pixels) {\n",
       "    // Request matplotlib to resize the figure. Matplotlib will then trigger a resize in the client,\n",
       "    // which will in turn request a refresh of the image.\n",
       "    this.send_message('resize', {'width': x_pixels, 'height': y_pixels});\n",
       "}\n",
       "\n",
       "mpl.figure.prototype.send_message = function(type, properties) {\n",
       "    properties['type'] = type;\n",
       "    properties['figure_id'] = this.id;\n",
       "    this.ws.send(JSON.stringify(properties));\n",
       "}\n",
       "\n",
       "mpl.figure.prototype.send_draw_message = function() {\n",
       "    if (!this.waiting) {\n",
       "        this.waiting = true;\n",
       "        this.ws.send(JSON.stringify({type: \"draw\", figure_id: this.id}));\n",
       "    }\n",
       "}\n",
       "\n",
       "\n",
       "mpl.figure.prototype.handle_save = function(fig, msg) {\n",
       "    var format_dropdown = fig.format_dropdown;\n",
       "    var format = format_dropdown.options[format_dropdown.selectedIndex].value;\n",
       "    fig.ondownload(fig, format);\n",
       "}\n",
       "\n",
       "\n",
       "mpl.figure.prototype.handle_resize = function(fig, msg) {\n",
       "    var size = msg['size'];\n",
       "    if (size[0] != fig.canvas.width || size[1] != fig.canvas.height) {\n",
       "        fig._resize_canvas(size[0], size[1]);\n",
       "        fig.send_message(\"refresh\", {});\n",
       "    };\n",
       "}\n",
       "\n",
       "mpl.figure.prototype.handle_rubberband = function(fig, msg) {\n",
       "    var x0 = msg['x0'] / mpl.ratio;\n",
       "    var y0 = (fig.canvas.height - msg['y0']) / mpl.ratio;\n",
       "    var x1 = msg['x1'] / mpl.ratio;\n",
       "    var y1 = (fig.canvas.height - msg['y1']) / mpl.ratio;\n",
       "    x0 = Math.floor(x0) + 0.5;\n",
       "    y0 = Math.floor(y0) + 0.5;\n",
       "    x1 = Math.floor(x1) + 0.5;\n",
       "    y1 = Math.floor(y1) + 0.5;\n",
       "    var min_x = Math.min(x0, x1);\n",
       "    var min_y = Math.min(y0, y1);\n",
       "    var width = Math.abs(x1 - x0);\n",
       "    var height = Math.abs(y1 - y0);\n",
       "\n",
       "    fig.rubberband_context.clearRect(\n",
       "        0, 0, fig.canvas.width / mpl.ratio, fig.canvas.height / mpl.ratio);\n",
       "\n",
       "    fig.rubberband_context.strokeRect(min_x, min_y, width, height);\n",
       "}\n",
       "\n",
       "mpl.figure.prototype.handle_figure_label = function(fig, msg) {\n",
       "    // Updates the figure title.\n",
       "    fig.header.textContent = msg['label'];\n",
       "}\n",
       "\n",
       "mpl.figure.prototype.handle_cursor = function(fig, msg) {\n",
       "    var cursor = msg['cursor'];\n",
       "    switch(cursor)\n",
       "    {\n",
       "    case 0:\n",
       "        cursor = 'pointer';\n",
       "        break;\n",
       "    case 1:\n",
       "        cursor = 'default';\n",
       "        break;\n",
       "    case 2:\n",
       "        cursor = 'crosshair';\n",
       "        break;\n",
       "    case 3:\n",
       "        cursor = 'move';\n",
       "        break;\n",
       "    }\n",
       "    fig.rubberband_canvas.style.cursor = cursor;\n",
       "}\n",
       "\n",
       "mpl.figure.prototype.handle_message = function(fig, msg) {\n",
       "    fig.message.textContent = msg['message'];\n",
       "}\n",
       "\n",
       "mpl.figure.prototype.handle_draw = function(fig, msg) {\n",
       "    // Request the server to send over a new figure.\n",
       "    fig.send_draw_message();\n",
       "}\n",
       "\n",
       "mpl.figure.prototype.handle_image_mode = function(fig, msg) {\n",
       "    fig.image_mode = msg['mode'];\n",
       "}\n",
       "\n",
       "mpl.figure.prototype.updated_canvas_event = function() {\n",
       "    // Called whenever the canvas gets updated.\n",
       "    this.send_message(\"ack\", {});\n",
       "}\n",
       "\n",
       "// A function to construct a web socket function for onmessage handling.\n",
       "// Called in the figure constructor.\n",
       "mpl.figure.prototype._make_on_message_function = function(fig) {\n",
       "    return function socket_on_message(evt) {\n",
       "        if (evt.data instanceof Blob) {\n",
       "            /* FIXME: We get \"Resource interpreted as Image but\n",
       "             * transferred with MIME type text/plain:\" errors on\n",
       "             * Chrome.  But how to set the MIME type?  It doesn't seem\n",
       "             * to be part of the websocket stream */\n",
       "            evt.data.type = \"image/png\";\n",
       "\n",
       "            /* Free the memory for the previous frames */\n",
       "            if (fig.imageObj.src) {\n",
       "                (window.URL || window.webkitURL).revokeObjectURL(\n",
       "                    fig.imageObj.src);\n",
       "            }\n",
       "\n",
       "            fig.imageObj.src = (window.URL || window.webkitURL).createObjectURL(\n",
       "                evt.data);\n",
       "            fig.updated_canvas_event();\n",
       "            fig.waiting = false;\n",
       "            return;\n",
       "        }\n",
       "        else if (typeof evt.data === 'string' && evt.data.slice(0, 21) == \"data:image/png;base64\") {\n",
       "            fig.imageObj.src = evt.data;\n",
       "            fig.updated_canvas_event();\n",
       "            fig.waiting = false;\n",
       "            return;\n",
       "        }\n",
       "\n",
       "        var msg = JSON.parse(evt.data);\n",
       "        var msg_type = msg['type'];\n",
       "\n",
       "        // Call the  \"handle_{type}\" callback, which takes\n",
       "        // the figure and JSON message as its only arguments.\n",
       "        try {\n",
       "            var callback = fig[\"handle_\" + msg_type];\n",
       "        } catch (e) {\n",
       "            console.log(\"No handler for the '\" + msg_type + \"' message type: \", msg);\n",
       "            return;\n",
       "        }\n",
       "\n",
       "        if (callback) {\n",
       "            try {\n",
       "                // console.log(\"Handling '\" + msg_type + \"' message: \", msg);\n",
       "                callback(fig, msg);\n",
       "            } catch (e) {\n",
       "                console.log(\"Exception inside the 'handler_\" + msg_type + \"' callback:\", e, e.stack, msg);\n",
       "            }\n",
       "        }\n",
       "    };\n",
       "}\n",
       "\n",
       "// from http://stackoverflow.com/questions/1114465/getting-mouse-location-in-canvas\n",
       "mpl.findpos = function(e) {\n",
       "    //this section is from http://www.quirksmode.org/js/events_properties.html\n",
       "    var targ;\n",
       "    if (!e)\n",
       "        e = window.event;\n",
       "    if (e.target)\n",
       "        targ = e.target;\n",
       "    else if (e.srcElement)\n",
       "        targ = e.srcElement;\n",
       "    if (targ.nodeType == 3) // defeat Safari bug\n",
       "        targ = targ.parentNode;\n",
       "\n",
       "    // jQuery normalizes the pageX and pageY\n",
       "    // pageX,Y are the mouse positions relative to the document\n",
       "    // offset() returns the position of the element relative to the document\n",
       "    var x = e.pageX - $(targ).offset().left;\n",
       "    var y = e.pageY - $(targ).offset().top;\n",
       "\n",
       "    return {\"x\": x, \"y\": y};\n",
       "};\n",
       "\n",
       "/*\n",
       " * return a copy of an object with only non-object keys\n",
       " * we need this to avoid circular references\n",
       " * http://stackoverflow.com/a/24161582/3208463\n",
       " */\n",
       "function simpleKeys (original) {\n",
       "  return Object.keys(original).reduce(function (obj, key) {\n",
       "    if (typeof original[key] !== 'object')\n",
       "        obj[key] = original[key]\n",
       "    return obj;\n",
       "  }, {});\n",
       "}\n",
       "\n",
       "mpl.figure.prototype.mouse_event = function(event, name) {\n",
       "    var canvas_pos = mpl.findpos(event)\n",
       "\n",
       "    if (name === 'button_press')\n",
       "    {\n",
       "        this.canvas.focus();\n",
       "        this.canvas_div.focus();\n",
       "    }\n",
       "\n",
       "    var x = canvas_pos.x * mpl.ratio;\n",
       "    var y = canvas_pos.y * mpl.ratio;\n",
       "\n",
       "    this.send_message(name, {x: x, y: y, button: event.button,\n",
       "                             step: event.step,\n",
       "                             guiEvent: simpleKeys(event)});\n",
       "\n",
       "    /* This prevents the web browser from automatically changing to\n",
       "     * the text insertion cursor when the button is pressed.  We want\n",
       "     * to control all of the cursor setting manually through the\n",
       "     * 'cursor' event from matplotlib */\n",
       "    event.preventDefault();\n",
       "    return false;\n",
       "}\n",
       "\n",
       "mpl.figure.prototype._key_event_extra = function(event, name) {\n",
       "    // Handle any extra behaviour associated with a key event\n",
       "}\n",
       "\n",
       "mpl.figure.prototype.key_event = function(event, name) {\n",
       "\n",
       "    // Prevent repeat events\n",
       "    if (name == 'key_press')\n",
       "    {\n",
       "        if (event.which === this._key)\n",
       "            return;\n",
       "        else\n",
       "            this._key = event.which;\n",
       "    }\n",
       "    if (name == 'key_release')\n",
       "        this._key = null;\n",
       "\n",
       "    var value = '';\n",
       "    if (event.ctrlKey && event.which != 17)\n",
       "        value += \"ctrl+\";\n",
       "    if (event.altKey && event.which != 18)\n",
       "        value += \"alt+\";\n",
       "    if (event.shiftKey && event.which != 16)\n",
       "        value += \"shift+\";\n",
       "\n",
       "    value += 'k';\n",
       "    value += event.which.toString();\n",
       "\n",
       "    this._key_event_extra(event, name);\n",
       "\n",
       "    this.send_message(name, {key: value,\n",
       "                             guiEvent: simpleKeys(event)});\n",
       "    return false;\n",
       "}\n",
       "\n",
       "mpl.figure.prototype.toolbar_button_onclick = function(name) {\n",
       "    if (name == 'download') {\n",
       "        this.handle_save(this, null);\n",
       "    } else {\n",
       "        this.send_message(\"toolbar_button\", {name: name});\n",
       "    }\n",
       "};\n",
       "\n",
       "mpl.figure.prototype.toolbar_button_onmouseover = function(tooltip) {\n",
       "    this.message.textContent = tooltip;\n",
       "};\n",
       "mpl.toolbar_items = [[\"Home\", \"Reset original view\", \"fa fa-home icon-home\", \"home\"], [\"Back\", \"Back to previous view\", \"fa fa-arrow-left icon-arrow-left\", \"back\"], [\"Forward\", \"Forward to next view\", \"fa fa-arrow-right icon-arrow-right\", \"forward\"], [\"\", \"\", \"\", \"\"], [\"Pan\", \"Pan axes with left mouse, zoom with right\", \"fa fa-arrows icon-move\", \"pan\"], [\"Zoom\", \"Zoom to rectangle\", \"fa fa-square-o icon-check-empty\", \"zoom\"], [\"\", \"\", \"\", \"\"], [\"Download\", \"Download plot\", \"fa fa-floppy-o icon-save\", \"download\"]];\n",
       "\n",
       "mpl.extensions = [\"eps\", \"jpeg\", \"pdf\", \"png\", \"ps\", \"raw\", \"svg\", \"tif\"];\n",
       "\n",
       "mpl.default_extension = \"png\";var comm_websocket_adapter = function(comm) {\n",
       "    // Create a \"websocket\"-like object which calls the given IPython comm\n",
       "    // object with the appropriate methods. Currently this is a non binary\n",
       "    // socket, so there is still some room for performance tuning.\n",
       "    var ws = {};\n",
       "\n",
       "    ws.close = function() {\n",
       "        comm.close()\n",
       "    };\n",
       "    ws.send = function(m) {\n",
       "        //console.log('sending', m);\n",
       "        comm.send(m);\n",
       "    };\n",
       "    // Register the callback with on_msg.\n",
       "    comm.on_msg(function(msg) {\n",
       "        //console.log('receiving', msg['content']['data'], msg);\n",
       "        // Pass the mpl event to the overridden (by mpl) onmessage function.\n",
       "        ws.onmessage(msg['content']['data'])\n",
       "    });\n",
       "    return ws;\n",
       "}\n",
       "\n",
       "mpl.mpl_figure_comm = function(comm, msg) {\n",
       "    // This is the function which gets called when the mpl process\n",
       "    // starts-up an IPython Comm through the \"matplotlib\" channel.\n",
       "\n",
       "    var id = msg.content.data.id;\n",
       "    // Get hold of the div created by the display call when the Comm\n",
       "    // socket was opened in Python.\n",
       "    var element = $(\"#\" + id);\n",
       "    var ws_proxy = comm_websocket_adapter(comm)\n",
       "\n",
       "    function ondownload(figure, format) {\n",
       "        window.open(figure.imageObj.src);\n",
       "    }\n",
       "\n",
       "    var fig = new mpl.figure(id, ws_proxy,\n",
       "                           ondownload,\n",
       "                           element.get(0));\n",
       "\n",
       "    // Call onopen now - mpl needs it, as it is assuming we've passed it a real\n",
       "    // web socket which is closed, not our websocket->open comm proxy.\n",
       "    ws_proxy.onopen();\n",
       "\n",
       "    fig.parent_element = element.get(0);\n",
       "    fig.cell_info = mpl.find_output_cell(\"<div id='\" + id + \"'></div>\");\n",
       "    if (!fig.cell_info) {\n",
       "        console.error(\"Failed to find cell for figure\", id, fig);\n",
       "        return;\n",
       "    }\n",
       "\n",
       "    var output_index = fig.cell_info[2]\n",
       "    var cell = fig.cell_info[0];\n",
       "\n",
       "};\n",
       "\n",
       "mpl.figure.prototype.handle_close = function(fig, msg) {\n",
       "    var width = fig.canvas.width/mpl.ratio\n",
       "    fig.root.unbind('remove')\n",
       "\n",
       "    // Update the output cell to use the data from the current canvas.\n",
       "    fig.push_to_output();\n",
       "    var dataURL = fig.canvas.toDataURL();\n",
       "    // Re-enable the keyboard manager in IPython - without this line, in FF,\n",
       "    // the notebook keyboard shortcuts fail.\n",
       "    IPython.keyboard_manager.enable()\n",
       "    $(fig.parent_element).html('<img src=\"' + dataURL + '\" width=\"' + width + '\">');\n",
       "    fig.close_ws(fig, msg);\n",
       "}\n",
       "\n",
       "mpl.figure.prototype.close_ws = function(fig, msg){\n",
       "    fig.send_message('closing', msg);\n",
       "    // fig.ws.close()\n",
       "}\n",
       "\n",
       "mpl.figure.prototype.push_to_output = function(remove_interactive) {\n",
       "    // Turn the data on the canvas into data in the output cell.\n",
       "    var width = this.canvas.width/mpl.ratio\n",
       "    var dataURL = this.canvas.toDataURL();\n",
       "    this.cell_info[1]['text/html'] = '<img src=\"' + dataURL + '\" width=\"' + width + '\">';\n",
       "}\n",
       "\n",
       "mpl.figure.prototype.updated_canvas_event = function() {\n",
       "    // Tell IPython that the notebook contents must change.\n",
       "    IPython.notebook.set_dirty(true);\n",
       "    this.send_message(\"ack\", {});\n",
       "    var fig = this;\n",
       "    // Wait a second, then push the new image to the DOM so\n",
       "    // that it is saved nicely (might be nice to debounce this).\n",
       "    setTimeout(function () { fig.push_to_output() }, 1000);\n",
       "}\n",
       "\n",
       "mpl.figure.prototype._init_toolbar = function() {\n",
       "    var fig = this;\n",
       "\n",
       "    var nav_element = $('<div/>');\n",
       "    nav_element.attr('style', 'width: 100%');\n",
       "    this.root.append(nav_element);\n",
       "\n",
       "    // Define a callback function for later on.\n",
       "    function toolbar_event(event) {\n",
       "        return fig.toolbar_button_onclick(event['data']);\n",
       "    }\n",
       "    function toolbar_mouse_event(event) {\n",
       "        return fig.toolbar_button_onmouseover(event['data']);\n",
       "    }\n",
       "\n",
       "    for(var toolbar_ind in mpl.toolbar_items){\n",
       "        var name = mpl.toolbar_items[toolbar_ind][0];\n",
       "        var tooltip = mpl.toolbar_items[toolbar_ind][1];\n",
       "        var image = mpl.toolbar_items[toolbar_ind][2];\n",
       "        var method_name = mpl.toolbar_items[toolbar_ind][3];\n",
       "\n",
       "        if (!name) { continue; };\n",
       "\n",
       "        var button = $('<button class=\"btn btn-default\" href=\"#\" title=\"' + name + '\"><i class=\"fa ' + image + ' fa-lg\"></i></button>');\n",
       "        button.click(method_name, toolbar_event);\n",
       "        button.mouseover(tooltip, toolbar_mouse_event);\n",
       "        nav_element.append(button);\n",
       "    }\n",
       "\n",
       "    // Add the status bar.\n",
       "    var status_bar = $('<span class=\"mpl-message\" style=\"text-align:right; float: right;\"/>');\n",
       "    nav_element.append(status_bar);\n",
       "    this.message = status_bar[0];\n",
       "\n",
       "    // Add the close button to the window.\n",
       "    var buttongrp = $('<div class=\"btn-group inline pull-right\"></div>');\n",
       "    var button = $('<button class=\"btn btn-mini btn-primary\" href=\"#\" title=\"Stop Interaction\"><i class=\"fa fa-power-off icon-remove icon-large\"></i></button>');\n",
       "    button.click(function (evt) { fig.handle_close(fig, {}); } );\n",
       "    button.mouseover('Stop Interaction', toolbar_mouse_event);\n",
       "    buttongrp.append(button);\n",
       "    var titlebar = this.root.find($('.ui-dialog-titlebar'));\n",
       "    titlebar.prepend(buttongrp);\n",
       "}\n",
       "\n",
       "mpl.figure.prototype._root_extra_style = function(el){\n",
       "    var fig = this\n",
       "    el.on(\"remove\", function(){\n",
       "\tfig.close_ws(fig, {});\n",
       "    });\n",
       "}\n",
       "\n",
       "mpl.figure.prototype._canvas_extra_style = function(el){\n",
       "    // this is important to make the div 'focusable\n",
       "    el.attr('tabindex', 0)\n",
       "    // reach out to IPython and tell the keyboard manager to turn it's self\n",
       "    // off when our div gets focus\n",
       "\n",
       "    // location in version 3\n",
       "    if (IPython.notebook.keyboard_manager) {\n",
       "        IPython.notebook.keyboard_manager.register_events(el);\n",
       "    }\n",
       "    else {\n",
       "        // location in version 2\n",
       "        IPython.keyboard_manager.register_events(el);\n",
       "    }\n",
       "\n",
       "}\n",
       "\n",
       "mpl.figure.prototype._key_event_extra = function(event, name) {\n",
       "    var manager = IPython.notebook.keyboard_manager;\n",
       "    if (!manager)\n",
       "        manager = IPython.keyboard_manager;\n",
       "\n",
       "    // Check for shift+enter\n",
       "    if (event.shiftKey && event.which == 13) {\n",
       "        this.canvas_div.blur();\n",
       "        // select the cell after this one\n",
       "        var index = IPython.notebook.find_cell_index(this.cell_info[0]);\n",
       "        IPython.notebook.select(index + 1);\n",
       "    }\n",
       "}\n",
       "\n",
       "mpl.figure.prototype.handle_save = function(fig, msg) {\n",
       "    fig.ondownload(fig, null);\n",
       "}\n",
       "\n",
       "\n",
       "mpl.find_output_cell = function(html_output) {\n",
       "    // Return the cell and output element which can be found *uniquely* in the notebook.\n",
       "    // Note - this is a bit hacky, but it is done because the \"notebook_saving.Notebook\"\n",
       "    // IPython event is triggered only after the cells have been serialised, which for\n",
       "    // our purposes (turning an active figure into a static one), is too late.\n",
       "    var cells = IPython.notebook.get_cells();\n",
       "    var ncells = cells.length;\n",
       "    for (var i=0; i<ncells; i++) {\n",
       "        var cell = cells[i];\n",
       "        if (cell.cell_type === 'code'){\n",
       "            for (var j=0; j<cell.output_area.outputs.length; j++) {\n",
       "                var data = cell.output_area.outputs[j];\n",
       "                if (data.data) {\n",
       "                    // IPython >= 3 moved mimebundle to data attribute of output\n",
       "                    data = data.data;\n",
       "                }\n",
       "                if (data['text/html'] == html_output) {\n",
       "                    return [cell, data, j];\n",
       "                }\n",
       "            }\n",
       "        }\n",
       "    }\n",
       "}\n",
       "\n",
       "// Register the function which deals with the matplotlib target/channel.\n",
       "// The kernel may be null if the page has been refreshed.\n",
       "if (IPython.notebook.kernel != null) {\n",
       "    IPython.notebook.kernel.comm_manager.register_target('matplotlib', mpl.mpl_figure_comm);\n",
       "}\n"
      ],
      "text/plain": [
       "<IPython.core.display.Javascript object>"
      ]
     },
     "metadata": {},
     "output_type": "display_data"
    },
    {
     "data": {
      "text/html": [
       "<img src=\"data:image/png;base64,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\" width=\"1000\">"
      ],
      "text/plain": [
       "<IPython.core.display.HTML object>"
      ]
     },
     "metadata": {},
     "output_type": "display_data"
    },
    {
     "data": {
      "text/plain": [
       "Text(0.5, 0, 'Lower frequency, \\n -46dB from peak frequency power')"
      ]
     },
     "execution_count": 18,
     "metadata": {},
     "output_type": "execute_result"
    }
   ],
   "source": [
    "dom_freq = non_silent_measures[non_silent_measures['measurement']=='dominant_frequencies']\n",
    "minusx_df = non_silent_measures[non_silent_measures['measurement']=='minus_XdB_frequency']\n",
    "\n",
    "\n",
    "\n",
    "plt.figure(figsize=(10,8))\n",
    "a0 = plt.subplot(121)\n",
    "plt.boxplot(dom_freq['value'])\n",
    "plt.xlabel('Dominant frequencies')\n",
    "plt.subplot(122, sharey=a0)\n",
    "plt.boxplot(minusx_df['value'])\n",
    "plt.xlabel('Lower frequency, \\n -46dB from peak frequency power')"
   ]
  },
  {
   "cell_type": "code",
   "execution_count": 19,
   "metadata": {},
   "outputs": [
    {
     "data": {
      "application/javascript": [
       "/* Put everything inside the global mpl namespace */\n",
       "window.mpl = {};\n",
       "\n",
       "\n",
       "mpl.get_websocket_type = function() {\n",
       "    if (typeof(WebSocket) !== 'undefined') {\n",
       "        return WebSocket;\n",
       "    } else if (typeof(MozWebSocket) !== 'undefined') {\n",
       "        return MozWebSocket;\n",
       "    } else {\n",
       "        alert('Your browser does not have WebSocket support. ' +\n",
       "              'Please try Chrome, Safari or Firefox ≥ 6. ' +\n",
       "              'Firefox 4 and 5 are also supported but you ' +\n",
       "              'have to enable WebSockets in about:config.');\n",
       "    };\n",
       "}\n",
       "\n",
       "mpl.figure = function(figure_id, websocket, ondownload, parent_element) {\n",
       "    this.id = figure_id;\n",
       "\n",
       "    this.ws = websocket;\n",
       "\n",
       "    this.supports_binary = (this.ws.binaryType != undefined);\n",
       "\n",
       "    if (!this.supports_binary) {\n",
       "        var warnings = document.getElementById(\"mpl-warnings\");\n",
       "        if (warnings) {\n",
       "            warnings.style.display = 'block';\n",
       "            warnings.textContent = (\n",
       "                \"This browser does not support binary websocket messages. \" +\n",
       "                    \"Performance may be slow.\");\n",
       "        }\n",
       "    }\n",
       "\n",
       "    this.imageObj = new Image();\n",
       "\n",
       "    this.context = undefined;\n",
       "    this.message = undefined;\n",
       "    this.canvas = undefined;\n",
       "    this.rubberband_canvas = undefined;\n",
       "    this.rubberband_context = undefined;\n",
       "    this.format_dropdown = undefined;\n",
       "\n",
       "    this.image_mode = 'full';\n",
       "\n",
       "    this.root = $('<div/>');\n",
       "    this._root_extra_style(this.root)\n",
       "    this.root.attr('style', 'display: inline-block');\n",
       "\n",
       "    $(parent_element).append(this.root);\n",
       "\n",
       "    this._init_header(this);\n",
       "    this._init_canvas(this);\n",
       "    this._init_toolbar(this);\n",
       "\n",
       "    var fig = this;\n",
       "\n",
       "    this.waiting = false;\n",
       "\n",
       "    this.ws.onopen =  function () {\n",
       "            fig.send_message(\"supports_binary\", {value: fig.supports_binary});\n",
       "            fig.send_message(\"send_image_mode\", {});\n",
       "            if (mpl.ratio != 1) {\n",
       "                fig.send_message(\"set_dpi_ratio\", {'dpi_ratio': mpl.ratio});\n",
       "            }\n",
       "            fig.send_message(\"refresh\", {});\n",
       "        }\n",
       "\n",
       "    this.imageObj.onload = function() {\n",
       "            if (fig.image_mode == 'full') {\n",
       "                // Full images could contain transparency (where diff images\n",
       "                // almost always do), so we need to clear the canvas so that\n",
       "                // there is no ghosting.\n",
       "                fig.context.clearRect(0, 0, fig.canvas.width, fig.canvas.height);\n",
       "            }\n",
       "            fig.context.drawImage(fig.imageObj, 0, 0);\n",
       "        };\n",
       "\n",
       "    this.imageObj.onunload = function() {\n",
       "        fig.ws.close();\n",
       "    }\n",
       "\n",
       "    this.ws.onmessage = this._make_on_message_function(this);\n",
       "\n",
       "    this.ondownload = ondownload;\n",
       "}\n",
       "\n",
       "mpl.figure.prototype._init_header = function() {\n",
       "    var titlebar = $(\n",
       "        '<div class=\"ui-dialog-titlebar ui-widget-header ui-corner-all ' +\n",
       "        'ui-helper-clearfix\"/>');\n",
       "    var titletext = $(\n",
       "        '<div class=\"ui-dialog-title\" style=\"width: 100%; ' +\n",
       "        'text-align: center; padding: 3px;\"/>');\n",
       "    titlebar.append(titletext)\n",
       "    this.root.append(titlebar);\n",
       "    this.header = titletext[0];\n",
       "}\n",
       "\n",
       "\n",
       "\n",
       "mpl.figure.prototype._canvas_extra_style = function(canvas_div) {\n",
       "\n",
       "}\n",
       "\n",
       "\n",
       "mpl.figure.prototype._root_extra_style = function(canvas_div) {\n",
       "\n",
       "}\n",
       "\n",
       "mpl.figure.prototype._init_canvas = function() {\n",
       "    var fig = this;\n",
       "\n",
       "    var canvas_div = $('<div/>');\n",
       "\n",
       "    canvas_div.attr('style', 'position: relative; clear: both; outline: 0');\n",
       "\n",
       "    function canvas_keyboard_event(event) {\n",
       "        return fig.key_event(event, event['data']);\n",
       "    }\n",
       "\n",
       "    canvas_div.keydown('key_press', canvas_keyboard_event);\n",
       "    canvas_div.keyup('key_release', canvas_keyboard_event);\n",
       "    this.canvas_div = canvas_div\n",
       "    this._canvas_extra_style(canvas_div)\n",
       "    this.root.append(canvas_div);\n",
       "\n",
       "    var canvas = $('<canvas/>');\n",
       "    canvas.addClass('mpl-canvas');\n",
       "    canvas.attr('style', \"left: 0; top: 0; z-index: 0; outline: 0\")\n",
       "\n",
       "    this.canvas = canvas[0];\n",
       "    this.context = canvas[0].getContext(\"2d\");\n",
       "\n",
       "    var backingStore = this.context.backingStorePixelRatio ||\n",
       "\tthis.context.webkitBackingStorePixelRatio ||\n",
       "\tthis.context.mozBackingStorePixelRatio ||\n",
       "\tthis.context.msBackingStorePixelRatio ||\n",
       "\tthis.context.oBackingStorePixelRatio ||\n",
       "\tthis.context.backingStorePixelRatio || 1;\n",
       "\n",
       "    mpl.ratio = (window.devicePixelRatio || 1) / backingStore;\n",
       "\n",
       "    var rubberband = $('<canvas/>');\n",
       "    rubberband.attr('style', \"position: absolute; left: 0; top: 0; z-index: 1;\")\n",
       "\n",
       "    var pass_mouse_events = true;\n",
       "\n",
       "    canvas_div.resizable({\n",
       "        start: function(event, ui) {\n",
       "            pass_mouse_events = false;\n",
       "        },\n",
       "        resize: function(event, ui) {\n",
       "            fig.request_resize(ui.size.width, ui.size.height);\n",
       "        },\n",
       "        stop: function(event, ui) {\n",
       "            pass_mouse_events = true;\n",
       "            fig.request_resize(ui.size.width, ui.size.height);\n",
       "        },\n",
       "    });\n",
       "\n",
       "    function mouse_event_fn(event) {\n",
       "        if (pass_mouse_events)\n",
       "            return fig.mouse_event(event, event['data']);\n",
       "    }\n",
       "\n",
       "    rubberband.mousedown('button_press', mouse_event_fn);\n",
       "    rubberband.mouseup('button_release', mouse_event_fn);\n",
       "    // Throttle sequential mouse events to 1 every 20ms.\n",
       "    rubberband.mousemove('motion_notify', mouse_event_fn);\n",
       "\n",
       "    rubberband.mouseenter('figure_enter', mouse_event_fn);\n",
       "    rubberband.mouseleave('figure_leave', mouse_event_fn);\n",
       "\n",
       "    canvas_div.on(\"wheel\", function (event) {\n",
       "        event = event.originalEvent;\n",
       "        event['data'] = 'scroll'\n",
       "        if (event.deltaY < 0) {\n",
       "            event.step = 1;\n",
       "        } else {\n",
       "            event.step = -1;\n",
       "        }\n",
       "        mouse_event_fn(event);\n",
       "    });\n",
       "\n",
       "    canvas_div.append(canvas);\n",
       "    canvas_div.append(rubberband);\n",
       "\n",
       "    this.rubberband = rubberband;\n",
       "    this.rubberband_canvas = rubberband[0];\n",
       "    this.rubberband_context = rubberband[0].getContext(\"2d\");\n",
       "    this.rubberband_context.strokeStyle = \"#000000\";\n",
       "\n",
       "    this._resize_canvas = function(width, height) {\n",
       "        // Keep the size of the canvas, canvas container, and rubber band\n",
       "        // canvas in synch.\n",
       "        canvas_div.css('width', width)\n",
       "        canvas_div.css('height', height)\n",
       "\n",
       "        canvas.attr('width', width * mpl.ratio);\n",
       "        canvas.attr('height', height * mpl.ratio);\n",
       "        canvas.attr('style', 'width: ' + width + 'px; height: ' + height + 'px;');\n",
       "\n",
       "        rubberband.attr('width', width);\n",
       "        rubberband.attr('height', height);\n",
       "    }\n",
       "\n",
       "    // Set the figure to an initial 600x600px, this will subsequently be updated\n",
       "    // upon first draw.\n",
       "    this._resize_canvas(600, 600);\n",
       "\n",
       "    // Disable right mouse context menu.\n",
       "    $(this.rubberband_canvas).bind(\"contextmenu\",function(e){\n",
       "        return false;\n",
       "    });\n",
       "\n",
       "    function set_focus () {\n",
       "        canvas.focus();\n",
       "        canvas_div.focus();\n",
       "    }\n",
       "\n",
       "    window.setTimeout(set_focus, 100);\n",
       "}\n",
       "\n",
       "mpl.figure.prototype._init_toolbar = function() {\n",
       "    var fig = this;\n",
       "\n",
       "    var nav_element = $('<div/>');\n",
       "    nav_element.attr('style', 'width: 100%');\n",
       "    this.root.append(nav_element);\n",
       "\n",
       "    // Define a callback function for later on.\n",
       "    function toolbar_event(event) {\n",
       "        return fig.toolbar_button_onclick(event['data']);\n",
       "    }\n",
       "    function toolbar_mouse_event(event) {\n",
       "        return fig.toolbar_button_onmouseover(event['data']);\n",
       "    }\n",
       "\n",
       "    for(var toolbar_ind in mpl.toolbar_items) {\n",
       "        var name = mpl.toolbar_items[toolbar_ind][0];\n",
       "        var tooltip = mpl.toolbar_items[toolbar_ind][1];\n",
       "        var image = mpl.toolbar_items[toolbar_ind][2];\n",
       "        var method_name = mpl.toolbar_items[toolbar_ind][3];\n",
       "\n",
       "        if (!name) {\n",
       "            // put a spacer in here.\n",
       "            continue;\n",
       "        }\n",
       "        var button = $('<button/>');\n",
       "        button.addClass('ui-button ui-widget ui-state-default ui-corner-all ' +\n",
       "                        'ui-button-icon-only');\n",
       "        button.attr('role', 'button');\n",
       "        button.attr('aria-disabled', 'false');\n",
       "        button.click(method_name, toolbar_event);\n",
       "        button.mouseover(tooltip, toolbar_mouse_event);\n",
       "\n",
       "        var icon_img = $('<span/>');\n",
       "        icon_img.addClass('ui-button-icon-primary ui-icon');\n",
       "        icon_img.addClass(image);\n",
       "        icon_img.addClass('ui-corner-all');\n",
       "\n",
       "        var tooltip_span = $('<span/>');\n",
       "        tooltip_span.addClass('ui-button-text');\n",
       "        tooltip_span.html(tooltip);\n",
       "\n",
       "        button.append(icon_img);\n",
       "        button.append(tooltip_span);\n",
       "\n",
       "        nav_element.append(button);\n",
       "    }\n",
       "\n",
       "    var fmt_picker_span = $('<span/>');\n",
       "\n",
       "    var fmt_picker = $('<select/>');\n",
       "    fmt_picker.addClass('mpl-toolbar-option ui-widget ui-widget-content');\n",
       "    fmt_picker_span.append(fmt_picker);\n",
       "    nav_element.append(fmt_picker_span);\n",
       "    this.format_dropdown = fmt_picker[0];\n",
       "\n",
       "    for (var ind in mpl.extensions) {\n",
       "        var fmt = mpl.extensions[ind];\n",
       "        var option = $(\n",
       "            '<option/>', {selected: fmt === mpl.default_extension}).html(fmt);\n",
       "        fmt_picker.append(option);\n",
       "    }\n",
       "\n",
       "    // Add hover states to the ui-buttons\n",
       "    $( \".ui-button\" ).hover(\n",
       "        function() { $(this).addClass(\"ui-state-hover\");},\n",
       "        function() { $(this).removeClass(\"ui-state-hover\");}\n",
       "    );\n",
       "\n",
       "    var status_bar = $('<span class=\"mpl-message\"/>');\n",
       "    nav_element.append(status_bar);\n",
       "    this.message = status_bar[0];\n",
       "}\n",
       "\n",
       "mpl.figure.prototype.request_resize = function(x_pixels, y_pixels) {\n",
       "    // Request matplotlib to resize the figure. Matplotlib will then trigger a resize in the client,\n",
       "    // which will in turn request a refresh of the image.\n",
       "    this.send_message('resize', {'width': x_pixels, 'height': y_pixels});\n",
       "}\n",
       "\n",
       "mpl.figure.prototype.send_message = function(type, properties) {\n",
       "    properties['type'] = type;\n",
       "    properties['figure_id'] = this.id;\n",
       "    this.ws.send(JSON.stringify(properties));\n",
       "}\n",
       "\n",
       "mpl.figure.prototype.send_draw_message = function() {\n",
       "    if (!this.waiting) {\n",
       "        this.waiting = true;\n",
       "        this.ws.send(JSON.stringify({type: \"draw\", figure_id: this.id}));\n",
       "    }\n",
       "}\n",
       "\n",
       "\n",
       "mpl.figure.prototype.handle_save = function(fig, msg) {\n",
       "    var format_dropdown = fig.format_dropdown;\n",
       "    var format = format_dropdown.options[format_dropdown.selectedIndex].value;\n",
       "    fig.ondownload(fig, format);\n",
       "}\n",
       "\n",
       "\n",
       "mpl.figure.prototype.handle_resize = function(fig, msg) {\n",
       "    var size = msg['size'];\n",
       "    if (size[0] != fig.canvas.width || size[1] != fig.canvas.height) {\n",
       "        fig._resize_canvas(size[0], size[1]);\n",
       "        fig.send_message(\"refresh\", {});\n",
       "    };\n",
       "}\n",
       "\n",
       "mpl.figure.prototype.handle_rubberband = function(fig, msg) {\n",
       "    var x0 = msg['x0'] / mpl.ratio;\n",
       "    var y0 = (fig.canvas.height - msg['y0']) / mpl.ratio;\n",
       "    var x1 = msg['x1'] / mpl.ratio;\n",
       "    var y1 = (fig.canvas.height - msg['y1']) / mpl.ratio;\n",
       "    x0 = Math.floor(x0) + 0.5;\n",
       "    y0 = Math.floor(y0) + 0.5;\n",
       "    x1 = Math.floor(x1) + 0.5;\n",
       "    y1 = Math.floor(y1) + 0.5;\n",
       "    var min_x = Math.min(x0, x1);\n",
       "    var min_y = Math.min(y0, y1);\n",
       "    var width = Math.abs(x1 - x0);\n",
       "    var height = Math.abs(y1 - y0);\n",
       "\n",
       "    fig.rubberband_context.clearRect(\n",
       "        0, 0, fig.canvas.width / mpl.ratio, fig.canvas.height / mpl.ratio);\n",
       "\n",
       "    fig.rubberband_context.strokeRect(min_x, min_y, width, height);\n",
       "}\n",
       "\n",
       "mpl.figure.prototype.handle_figure_label = function(fig, msg) {\n",
       "    // Updates the figure title.\n",
       "    fig.header.textContent = msg['label'];\n",
       "}\n",
       "\n",
       "mpl.figure.prototype.handle_cursor = function(fig, msg) {\n",
       "    var cursor = msg['cursor'];\n",
       "    switch(cursor)\n",
       "    {\n",
       "    case 0:\n",
       "        cursor = 'pointer';\n",
       "        break;\n",
       "    case 1:\n",
       "        cursor = 'default';\n",
       "        break;\n",
       "    case 2:\n",
       "        cursor = 'crosshair';\n",
       "        break;\n",
       "    case 3:\n",
       "        cursor = 'move';\n",
       "        break;\n",
       "    }\n",
       "    fig.rubberband_canvas.style.cursor = cursor;\n",
       "}\n",
       "\n",
       "mpl.figure.prototype.handle_message = function(fig, msg) {\n",
       "    fig.message.textContent = msg['message'];\n",
       "}\n",
       "\n",
       "mpl.figure.prototype.handle_draw = function(fig, msg) {\n",
       "    // Request the server to send over a new figure.\n",
       "    fig.send_draw_message();\n",
       "}\n",
       "\n",
       "mpl.figure.prototype.handle_image_mode = function(fig, msg) {\n",
       "    fig.image_mode = msg['mode'];\n",
       "}\n",
       "\n",
       "mpl.figure.prototype.updated_canvas_event = function() {\n",
       "    // Called whenever the canvas gets updated.\n",
       "    this.send_message(\"ack\", {});\n",
       "}\n",
       "\n",
       "// A function to construct a web socket function for onmessage handling.\n",
       "// Called in the figure constructor.\n",
       "mpl.figure.prototype._make_on_message_function = function(fig) {\n",
       "    return function socket_on_message(evt) {\n",
       "        if (evt.data instanceof Blob) {\n",
       "            /* FIXME: We get \"Resource interpreted as Image but\n",
       "             * transferred with MIME type text/plain:\" errors on\n",
       "             * Chrome.  But how to set the MIME type?  It doesn't seem\n",
       "             * to be part of the websocket stream */\n",
       "            evt.data.type = \"image/png\";\n",
       "\n",
       "            /* Free the memory for the previous frames */\n",
       "            if (fig.imageObj.src) {\n",
       "                (window.URL || window.webkitURL).revokeObjectURL(\n",
       "                    fig.imageObj.src);\n",
       "            }\n",
       "\n",
       "            fig.imageObj.src = (window.URL || window.webkitURL).createObjectURL(\n",
       "                evt.data);\n",
       "            fig.updated_canvas_event();\n",
       "            fig.waiting = false;\n",
       "            return;\n",
       "        }\n",
       "        else if (typeof evt.data === 'string' && evt.data.slice(0, 21) == \"data:image/png;base64\") {\n",
       "            fig.imageObj.src = evt.data;\n",
       "            fig.updated_canvas_event();\n",
       "            fig.waiting = false;\n",
       "            return;\n",
       "        }\n",
       "\n",
       "        var msg = JSON.parse(evt.data);\n",
       "        var msg_type = msg['type'];\n",
       "\n",
       "        // Call the  \"handle_{type}\" callback, which takes\n",
       "        // the figure and JSON message as its only arguments.\n",
       "        try {\n",
       "            var callback = fig[\"handle_\" + msg_type];\n",
       "        } catch (e) {\n",
       "            console.log(\"No handler for the '\" + msg_type + \"' message type: \", msg);\n",
       "            return;\n",
       "        }\n",
       "\n",
       "        if (callback) {\n",
       "            try {\n",
       "                // console.log(\"Handling '\" + msg_type + \"' message: \", msg);\n",
       "                callback(fig, msg);\n",
       "            } catch (e) {\n",
       "                console.log(\"Exception inside the 'handler_\" + msg_type + \"' callback:\", e, e.stack, msg);\n",
       "            }\n",
       "        }\n",
       "    };\n",
       "}\n",
       "\n",
       "// from http://stackoverflow.com/questions/1114465/getting-mouse-location-in-canvas\n",
       "mpl.findpos = function(e) {\n",
       "    //this section is from http://www.quirksmode.org/js/events_properties.html\n",
       "    var targ;\n",
       "    if (!e)\n",
       "        e = window.event;\n",
       "    if (e.target)\n",
       "        targ = e.target;\n",
       "    else if (e.srcElement)\n",
       "        targ = e.srcElement;\n",
       "    if (targ.nodeType == 3) // defeat Safari bug\n",
       "        targ = targ.parentNode;\n",
       "\n",
       "    // jQuery normalizes the pageX and pageY\n",
       "    // pageX,Y are the mouse positions relative to the document\n",
       "    // offset() returns the position of the element relative to the document\n",
       "    var x = e.pageX - $(targ).offset().left;\n",
       "    var y = e.pageY - $(targ).offset().top;\n",
       "\n",
       "    return {\"x\": x, \"y\": y};\n",
       "};\n",
       "\n",
       "/*\n",
       " * return a copy of an object with only non-object keys\n",
       " * we need this to avoid circular references\n",
       " * http://stackoverflow.com/a/24161582/3208463\n",
       " */\n",
       "function simpleKeys (original) {\n",
       "  return Object.keys(original).reduce(function (obj, key) {\n",
       "    if (typeof original[key] !== 'object')\n",
       "        obj[key] = original[key]\n",
       "    return obj;\n",
       "  }, {});\n",
       "}\n",
       "\n",
       "mpl.figure.prototype.mouse_event = function(event, name) {\n",
       "    var canvas_pos = mpl.findpos(event)\n",
       "\n",
       "    if (name === 'button_press')\n",
       "    {\n",
       "        this.canvas.focus();\n",
       "        this.canvas_div.focus();\n",
       "    }\n",
       "\n",
       "    var x = canvas_pos.x * mpl.ratio;\n",
       "    var y = canvas_pos.y * mpl.ratio;\n",
       "\n",
       "    this.send_message(name, {x: x, y: y, button: event.button,\n",
       "                             step: event.step,\n",
       "                             guiEvent: simpleKeys(event)});\n",
       "\n",
       "    /* This prevents the web browser from automatically changing to\n",
       "     * the text insertion cursor when the button is pressed.  We want\n",
       "     * to control all of the cursor setting manually through the\n",
       "     * 'cursor' event from matplotlib */\n",
       "    event.preventDefault();\n",
       "    return false;\n",
       "}\n",
       "\n",
       "mpl.figure.prototype._key_event_extra = function(event, name) {\n",
       "    // Handle any extra behaviour associated with a key event\n",
       "}\n",
       "\n",
       "mpl.figure.prototype.key_event = function(event, name) {\n",
       "\n",
       "    // Prevent repeat events\n",
       "    if (name == 'key_press')\n",
       "    {\n",
       "        if (event.which === this._key)\n",
       "            return;\n",
       "        else\n",
       "            this._key = event.which;\n",
       "    }\n",
       "    if (name == 'key_release')\n",
       "        this._key = null;\n",
       "\n",
       "    var value = '';\n",
       "    if (event.ctrlKey && event.which != 17)\n",
       "        value += \"ctrl+\";\n",
       "    if (event.altKey && event.which != 18)\n",
       "        value += \"alt+\";\n",
       "    if (event.shiftKey && event.which != 16)\n",
       "        value += \"shift+\";\n",
       "\n",
       "    value += 'k';\n",
       "    value += event.which.toString();\n",
       "\n",
       "    this._key_event_extra(event, name);\n",
       "\n",
       "    this.send_message(name, {key: value,\n",
       "                             guiEvent: simpleKeys(event)});\n",
       "    return false;\n",
       "}\n",
       "\n",
       "mpl.figure.prototype.toolbar_button_onclick = function(name) {\n",
       "    if (name == 'download') {\n",
       "        this.handle_save(this, null);\n",
       "    } else {\n",
       "        this.send_message(\"toolbar_button\", {name: name});\n",
       "    }\n",
       "};\n",
       "\n",
       "mpl.figure.prototype.toolbar_button_onmouseover = function(tooltip) {\n",
       "    this.message.textContent = tooltip;\n",
       "};\n",
       "mpl.toolbar_items = [[\"Home\", \"Reset original view\", \"fa fa-home icon-home\", \"home\"], [\"Back\", \"Back to previous view\", \"fa fa-arrow-left icon-arrow-left\", \"back\"], [\"Forward\", \"Forward to next view\", \"fa fa-arrow-right icon-arrow-right\", \"forward\"], [\"\", \"\", \"\", \"\"], [\"Pan\", \"Pan axes with left mouse, zoom with right\", \"fa fa-arrows icon-move\", \"pan\"], [\"Zoom\", \"Zoom to rectangle\", \"fa fa-square-o icon-check-empty\", \"zoom\"], [\"\", \"\", \"\", \"\"], [\"Download\", \"Download plot\", \"fa fa-floppy-o icon-save\", \"download\"]];\n",
       "\n",
       "mpl.extensions = [\"eps\", \"jpeg\", \"pdf\", \"png\", \"ps\", \"raw\", \"svg\", \"tif\"];\n",
       "\n",
       "mpl.default_extension = \"png\";var comm_websocket_adapter = function(comm) {\n",
       "    // Create a \"websocket\"-like object which calls the given IPython comm\n",
       "    // object with the appropriate methods. Currently this is a non binary\n",
       "    // socket, so there is still some room for performance tuning.\n",
       "    var ws = {};\n",
       "\n",
       "    ws.close = function() {\n",
       "        comm.close()\n",
       "    };\n",
       "    ws.send = function(m) {\n",
       "        //console.log('sending', m);\n",
       "        comm.send(m);\n",
       "    };\n",
       "    // Register the callback with on_msg.\n",
       "    comm.on_msg(function(msg) {\n",
       "        //console.log('receiving', msg['content']['data'], msg);\n",
       "        // Pass the mpl event to the overridden (by mpl) onmessage function.\n",
       "        ws.onmessage(msg['content']['data'])\n",
       "    });\n",
       "    return ws;\n",
       "}\n",
       "\n",
       "mpl.mpl_figure_comm = function(comm, msg) {\n",
       "    // This is the function which gets called when the mpl process\n",
       "    // starts-up an IPython Comm through the \"matplotlib\" channel.\n",
       "\n",
       "    var id = msg.content.data.id;\n",
       "    // Get hold of the div created by the display call when the Comm\n",
       "    // socket was opened in Python.\n",
       "    var element = $(\"#\" + id);\n",
       "    var ws_proxy = comm_websocket_adapter(comm)\n",
       "\n",
       "    function ondownload(figure, format) {\n",
       "        window.open(figure.imageObj.src);\n",
       "    }\n",
       "\n",
       "    var fig = new mpl.figure(id, ws_proxy,\n",
       "                           ondownload,\n",
       "                           element.get(0));\n",
       "\n",
       "    // Call onopen now - mpl needs it, as it is assuming we've passed it a real\n",
       "    // web socket which is closed, not our websocket->open comm proxy.\n",
       "    ws_proxy.onopen();\n",
       "\n",
       "    fig.parent_element = element.get(0);\n",
       "    fig.cell_info = mpl.find_output_cell(\"<div id='\" + id + \"'></div>\");\n",
       "    if (!fig.cell_info) {\n",
       "        console.error(\"Failed to find cell for figure\", id, fig);\n",
       "        return;\n",
       "    }\n",
       "\n",
       "    var output_index = fig.cell_info[2]\n",
       "    var cell = fig.cell_info[0];\n",
       "\n",
       "};\n",
       "\n",
       "mpl.figure.prototype.handle_close = function(fig, msg) {\n",
       "    var width = fig.canvas.width/mpl.ratio\n",
       "    fig.root.unbind('remove')\n",
       "\n",
       "    // Update the output cell to use the data from the current canvas.\n",
       "    fig.push_to_output();\n",
       "    var dataURL = fig.canvas.toDataURL();\n",
       "    // Re-enable the keyboard manager in IPython - without this line, in FF,\n",
       "    // the notebook keyboard shortcuts fail.\n",
       "    IPython.keyboard_manager.enable()\n",
       "    $(fig.parent_element).html('<img src=\"' + dataURL + '\" width=\"' + width + '\">');\n",
       "    fig.close_ws(fig, msg);\n",
       "}\n",
       "\n",
       "mpl.figure.prototype.close_ws = function(fig, msg){\n",
       "    fig.send_message('closing', msg);\n",
       "    // fig.ws.close()\n",
       "}\n",
       "\n",
       "mpl.figure.prototype.push_to_output = function(remove_interactive) {\n",
       "    // Turn the data on the canvas into data in the output cell.\n",
       "    var width = this.canvas.width/mpl.ratio\n",
       "    var dataURL = this.canvas.toDataURL();\n",
       "    this.cell_info[1]['text/html'] = '<img src=\"' + dataURL + '\" width=\"' + width + '\">';\n",
       "}\n",
       "\n",
       "mpl.figure.prototype.updated_canvas_event = function() {\n",
       "    // Tell IPython that the notebook contents must change.\n",
       "    IPython.notebook.set_dirty(true);\n",
       "    this.send_message(\"ack\", {});\n",
       "    var fig = this;\n",
       "    // Wait a second, then push the new image to the DOM so\n",
       "    // that it is saved nicely (might be nice to debounce this).\n",
       "    setTimeout(function () { fig.push_to_output() }, 1000);\n",
       "}\n",
       "\n",
       "mpl.figure.prototype._init_toolbar = function() {\n",
       "    var fig = this;\n",
       "\n",
       "    var nav_element = $('<div/>');\n",
       "    nav_element.attr('style', 'width: 100%');\n",
       "    this.root.append(nav_element);\n",
       "\n",
       "    // Define a callback function for later on.\n",
       "    function toolbar_event(event) {\n",
       "        return fig.toolbar_button_onclick(event['data']);\n",
       "    }\n",
       "    function toolbar_mouse_event(event) {\n",
       "        return fig.toolbar_button_onmouseover(event['data']);\n",
       "    }\n",
       "\n",
       "    for(var toolbar_ind in mpl.toolbar_items){\n",
       "        var name = mpl.toolbar_items[toolbar_ind][0];\n",
       "        var tooltip = mpl.toolbar_items[toolbar_ind][1];\n",
       "        var image = mpl.toolbar_items[toolbar_ind][2];\n",
       "        var method_name = mpl.toolbar_items[toolbar_ind][3];\n",
       "\n",
       "        if (!name) { continue; };\n",
       "\n",
       "        var button = $('<button class=\"btn btn-default\" href=\"#\" title=\"' + name + '\"><i class=\"fa ' + image + ' fa-lg\"></i></button>');\n",
       "        button.click(method_name, toolbar_event);\n",
       "        button.mouseover(tooltip, toolbar_mouse_event);\n",
       "        nav_element.append(button);\n",
       "    }\n",
       "\n",
       "    // Add the status bar.\n",
       "    var status_bar = $('<span class=\"mpl-message\" style=\"text-align:right; float: right;\"/>');\n",
       "    nav_element.append(status_bar);\n",
       "    this.message = status_bar[0];\n",
       "\n",
       "    // Add the close button to the window.\n",
       "    var buttongrp = $('<div class=\"btn-group inline pull-right\"></div>');\n",
       "    var button = $('<button class=\"btn btn-mini btn-primary\" href=\"#\" title=\"Stop Interaction\"><i class=\"fa fa-power-off icon-remove icon-large\"></i></button>');\n",
       "    button.click(function (evt) { fig.handle_close(fig, {}); } );\n",
       "    button.mouseover('Stop Interaction', toolbar_mouse_event);\n",
       "    buttongrp.append(button);\n",
       "    var titlebar = this.root.find($('.ui-dialog-titlebar'));\n",
       "    titlebar.prepend(buttongrp);\n",
       "}\n",
       "\n",
       "mpl.figure.prototype._root_extra_style = function(el){\n",
       "    var fig = this\n",
       "    el.on(\"remove\", function(){\n",
       "\tfig.close_ws(fig, {});\n",
       "    });\n",
       "}\n",
       "\n",
       "mpl.figure.prototype._canvas_extra_style = function(el){\n",
       "    // this is important to make the div 'focusable\n",
       "    el.attr('tabindex', 0)\n",
       "    // reach out to IPython and tell the keyboard manager to turn it's self\n",
       "    // off when our div gets focus\n",
       "\n",
       "    // location in version 3\n",
       "    if (IPython.notebook.keyboard_manager) {\n",
       "        IPython.notebook.keyboard_manager.register_events(el);\n",
       "    }\n",
       "    else {\n",
       "        // location in version 2\n",
       "        IPython.keyboard_manager.register_events(el);\n",
       "    }\n",
       "\n",
       "}\n",
       "\n",
       "mpl.figure.prototype._key_event_extra = function(event, name) {\n",
       "    var manager = IPython.notebook.keyboard_manager;\n",
       "    if (!manager)\n",
       "        manager = IPython.keyboard_manager;\n",
       "\n",
       "    // Check for shift+enter\n",
       "    if (event.shiftKey && event.which == 13) {\n",
       "        this.canvas_div.blur();\n",
       "        // select the cell after this one\n",
       "        var index = IPython.notebook.find_cell_index(this.cell_info[0]);\n",
       "        IPython.notebook.select(index + 1);\n",
       "    }\n",
       "}\n",
       "\n",
       "mpl.figure.prototype.handle_save = function(fig, msg) {\n",
       "    fig.ondownload(fig, null);\n",
       "}\n",
       "\n",
       "\n",
       "mpl.find_output_cell = function(html_output) {\n",
       "    // Return the cell and output element which can be found *uniquely* in the notebook.\n",
       "    // Note - this is a bit hacky, but it is done because the \"notebook_saving.Notebook\"\n",
       "    // IPython event is triggered only after the cells have been serialised, which for\n",
       "    // our purposes (turning an active figure into a static one), is too late.\n",
       "    var cells = IPython.notebook.get_cells();\n",
       "    var ncells = cells.length;\n",
       "    for (var i=0; i<ncells; i++) {\n",
       "        var cell = cells[i];\n",
       "        if (cell.cell_type === 'code'){\n",
       "            for (var j=0; j<cell.output_area.outputs.length; j++) {\n",
       "                var data = cell.output_area.outputs[j];\n",
       "                if (data.data) {\n",
       "                    // IPython >= 3 moved mimebundle to data attribute of output\n",
       "                    data = data.data;\n",
       "                }\n",
       "                if (data['text/html'] == html_output) {\n",
       "                    return [cell, data, j];\n",
       "                }\n",
       "            }\n",
       "        }\n",
       "    }\n",
       "}\n",
       "\n",
       "// Register the function which deals with the matplotlib target/channel.\n",
       "// The kernel may be null if the page has been refreshed.\n",
       "if (IPython.notebook.kernel != null) {\n",
       "    IPython.notebook.kernel.comm_manager.register_target('matplotlib', mpl.mpl_figure_comm);\n",
       "}\n"
      ],
      "text/plain": [
       "<IPython.core.display.Javascript object>"
      ]
     },
     "metadata": {},
     "output_type": "display_data"
    },
    {
     "data": {
      "text/html": [
       "<img src=\"data:image/png;base64,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\" width=\"640\">"
      ],
      "text/plain": [
       "<IPython.core.display.HTML object>"
      ]
     },
     "metadata": {},
     "output_type": "display_data"
    },
    {
     "data": {
      "text/plain": [
       "{'whiskers': [<matplotlib.lines.Line2D at 0x7feba102fe10>,\n",
       "  <matplotlib.lines.Line2D at 0x7feba1034208>],\n",
       " 'caps': [<matplotlib.lines.Line2D at 0x7feba1034588>,\n",
       "  <matplotlib.lines.Line2D at 0x7feba1034908>],\n",
       " 'boxes': [<matplotlib.lines.Line2D at 0x7feba102fcf8>],\n",
       " 'medians': [<matplotlib.lines.Line2D at 0x7feba1034c88>],\n",
       " 'fliers': [<matplotlib.lines.Line2D at 0x7feba0fba048>],\n",
       " 'means': []}"
      ]
     },
     "execution_count": 19,
     "metadata": {},
     "output_type": "execute_result"
    }
   ],
   "source": [
    "rms_df = non_silent_measures[non_silent_measures['measurement']=='rms']\n",
    "\n",
    "plt.figure()\n",
    "plt.boxplot(dB(rms_df['value']))"
   ]
  },
  {
   "cell_type": "markdown",
   "metadata": {},
   "source": [
    "### Assigning the number of bats to each annotation audio\n",
    "Now that we have all of our measurements in place, it's time to compare each of the measurements across single and multi bat contexts."
   ]
  },
  {
   "cell_type": "code",
   "execution_count": 20,
   "metadata": {},
   "outputs": [],
   "source": [
    "non_silent_measures['video_annot_id'] = non_silent_measures['file_name'].str.lstrip('matching_annotaudio_')\n",
    "# remove the '_hp' from the video_annot_ida\n",
    "\n",
    "non_silent_measures['video_annot_id'] = non_silent_measures['video_annot_id'].str.rstrip('_hp.WAV')"
   ]
  },
  {
   "cell_type": "code",
   "execution_count": 21,
   "metadata": {},
   "outputs": [
    {
     "data": {
      "text/plain": [
       "'Aditya_2018-08-16_21502300_9'"
      ]
     },
     "execution_count": 21,
     "metadata": {},
     "output_type": "execute_result"
    }
   ],
   "source": [
    "non_silent_measures['video_annot_id'][0]"
   ]
  },
  {
   "cell_type": "code",
   "execution_count": 22,
   "metadata": {},
   "outputs": [],
   "source": [
    "video_annot_folder = '../../whole_data_analysis/annotations/corrected_HBC_video_annotations_Aditya/'\n",
    "non_silent_measures['num_bats'] = icf.get_numbats_from_annotation_id(non_silent_measures['video_annot_id'], video_annot_folder)"
   ]
  },
  {
   "cell_type": "markdown",
   "metadata": {},
   "source": [
    "#### The numbers below represent the *rows* with the following bat numbers in the annotation audio - and not the number of annotations itself!!"
   ]
  },
  {
   "cell_type": "code",
   "execution_count": 23,
   "metadata": {},
   "outputs": [
    {
     "name": "stdout",
     "output_type": "stream",
     "text": [
      "[1 2 3] [13505  5060   689]\n"
     ]
    }
   ],
   "source": [
    "group_size, counts = np.unique(non_silent_measures['num_bats'], return_counts=True)\n",
    "print(group_size, counts)"
   ]
  },
  {
   "cell_type": "code",
   "execution_count": 24,
   "metadata": {},
   "outputs": [],
   "source": [
    "non_silent_measures.to_csv('non_silent_measurements_20dBthreshold.csv')"
   ]
  },
  {
   "cell_type": "code",
   "execution_count": 25,
   "metadata": {},
   "outputs": [
    {
     "name": "stdout",
     "output_type": "stream",
     "text": [
      "Notebook ended at: 2020-09-07 19:35:04.372968\n"
     ]
    }
   ],
   "source": [
    "print(f'Notebook ended at: {dt.datetime.now()}')"
   ]
  }
 ],
 "metadata": {
  "kernelspec": {
   "display_name": "Python [conda env:mhbc] *",
   "language": "python",
   "name": "conda-env-mhbc-py"
  },
  "language_info": {
   "codemirror_mode": {
    "name": "ipython",
    "version": 3
   },
   "file_extension": ".py",
   "mimetype": "text/x-python",
   "name": "python",
   "nbconvert_exporter": "python",
   "pygments_lexer": "ipython3",
   "version": "3.7.0"
  }
 },
 "nbformat": 4,
 "nbformat_minor": 4
}
