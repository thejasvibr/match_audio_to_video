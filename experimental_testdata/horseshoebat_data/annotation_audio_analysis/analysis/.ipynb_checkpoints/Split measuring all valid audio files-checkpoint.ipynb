{
 "cells": [
  {
   "cell_type": "markdown",
   "metadata": {},
   "source": [
    "### What this notebook will do\n",
    "This notebook will deal with the generation of measurements on the annotation audio. Each annotation audio file will be split into smaller segments of 50ms length. 50ms is chosen as it is the same temporal scale as the longest calls. The idea is that if possible, one segment should contain at least one call. \n",
    "\n",
    "The 'valid_annotations' have been chosen in the 'choosing valid annotations...' Jupyter notebook. 'valid annotations' are those with only the target species, where there was detectable audio when a bat was flying, and those that have been double checked to be correctly annotated. See the notebook for more details. \n",
    "\n",
    "In this notebook, the audio corresponding to all the 'valid_annotations' will be  split-measured to generate the raw data for all further statistical analysis that will follow to compare single vs. multi bat call sequences. \n",
    "\n",
    "\n",
    "- Author: Thejasvi Beleyur\n",
    "- Date of initiation: 2020-07-11"
   ]
  },
  {
   "cell_type": "code",
   "execution_count": 1,
   "metadata": {},
   "outputs": [],
   "source": [
    "import datetime as dt\n",
    "import sys \n",
    "sys.path.append('/home/tbeleyur/Documents/packages_dev/correct_call_annotations/')\n",
    "sys.path.append('../')\n",
    "sys.path.append('../../individual_call_analysis/analysis/')\n",
    "\n",
    "import correct_call_annotations.correct_call_annotations as cca\n",
    "import format_and_clean\n",
    "from format_and_clean import ind_call_format as icf\n",
    "import measure_annot_audio\n",
    "\n",
    "from measure_annot_audio import split_measure\n",
    "from measure_annot_audio.inbuilt_measurement_functions import dB\n",
    "import os\n",
    "import matplotlib.pyplot as plt\n",
    "import numpy as np\n",
    "import pandas as pd\n",
    "import soundfile as sf\n",
    "import tqdm"
   ]
  },
  {
   "cell_type": "code",
   "execution_count": 21,
   "metadata": {},
   "outputs": [],
   "source": [
    "%matplotlib notebook"
   ]
  },
  {
   "cell_type": "code",
   "execution_count": 2,
   "metadata": {},
   "outputs": [
    {
     "name": "stdout",
     "output_type": "stream",
     "text": [
      "Notebook started at: 2020-08-25 15:20:26.108431\n"
     ]
    }
   ],
   "source": [
    "print(f'Notebook started at: {dt.datetime.now()}')"
   ]
  },
  {
   "cell_type": "code",
   "execution_count": 3,
   "metadata": {},
   "outputs": [
    {
     "data": {
      "text/html": [
       "<div>\n",
       "<style scoped>\n",
       "    .dataframe tbody tr th:only-of-type {\n",
       "        vertical-align: middle;\n",
       "    }\n",
       "\n",
       "    .dataframe tbody tr th {\n",
       "        vertical-align: top;\n",
       "    }\n",
       "\n",
       "    .dataframe thead th {\n",
       "        text-align: right;\n",
       "    }\n",
       "</style>\n",
       "<table border=\"1\" class=\"dataframe\">\n",
       "  <thead>\n",
       "    <tr style=\"text-align: right;\">\n",
       "      <th></th>\n",
       "      <th>Unnamed: 0</th>\n",
       "      <th>valid_annotations</th>\n",
       "    </tr>\n",
       "  </thead>\n",
       "  <tbody>\n",
       "    <tr>\n",
       "      <th>0</th>\n",
       "      <td>0</td>\n",
       "      <td>matching_annotaudio_Aditya_2018-08-16_21502300_9</td>\n",
       "    </tr>\n",
       "    <tr>\n",
       "      <th>1</th>\n",
       "      <td>1</td>\n",
       "      <td>matching_annotaudio_Aditya_2018-08-16_21502300_12</td>\n",
       "    </tr>\n",
       "    <tr>\n",
       "      <th>2</th>\n",
       "      <td>2</td>\n",
       "      <td>matching_annotaudio_Aditya_2018-08-16_21502300_18</td>\n",
       "    </tr>\n",
       "    <tr>\n",
       "      <th>3</th>\n",
       "      <td>3</td>\n",
       "      <td>matching_annotaudio_Aditya_2018-08-16_21502300_19</td>\n",
       "    </tr>\n",
       "    <tr>\n",
       "      <th>4</th>\n",
       "      <td>4</td>\n",
       "      <td>matching_annotaudio_Aditya_2018-08-16_21502300_20</td>\n",
       "    </tr>\n",
       "    <tr>\n",
       "      <th>...</th>\n",
       "      <td>...</td>\n",
       "      <td>...</td>\n",
       "    </tr>\n",
       "    <tr>\n",
       "      <th>612</th>\n",
       "      <td>624</td>\n",
       "      <td>matching_annotaudio_Aditya_2018-08-20_0300-040...</td>\n",
       "    </tr>\n",
       "    <tr>\n",
       "      <th>613</th>\n",
       "      <td>625</td>\n",
       "      <td>matching_annotaudio_Aditya_2018-08-20_0300-040...</td>\n",
       "    </tr>\n",
       "    <tr>\n",
       "      <th>614</th>\n",
       "      <td>626</td>\n",
       "      <td>matching_annotaudio_Aditya_2018-08-20_0300-040...</td>\n",
       "    </tr>\n",
       "    <tr>\n",
       "      <th>615</th>\n",
       "      <td>627</td>\n",
       "      <td>matching_annotaudio_Aditya_2018-08-20_0300-040...</td>\n",
       "    </tr>\n",
       "    <tr>\n",
       "      <th>616</th>\n",
       "      <td>628</td>\n",
       "      <td>matching_annotaudio_Aditya_2018-08-20_0300-040...</td>\n",
       "    </tr>\n",
       "  </tbody>\n",
       "</table>\n",
       "<p>617 rows × 2 columns</p>\n",
       "</div>"
      ],
      "text/plain": [
       "     Unnamed: 0                                  valid_annotations\n",
       "0             0   matching_annotaudio_Aditya_2018-08-16_21502300_9\n",
       "1             1  matching_annotaudio_Aditya_2018-08-16_21502300_12\n",
       "2             2  matching_annotaudio_Aditya_2018-08-16_21502300_18\n",
       "3             3  matching_annotaudio_Aditya_2018-08-16_21502300_19\n",
       "4             4  matching_annotaudio_Aditya_2018-08-16_21502300_20\n",
       "..          ...                                                ...\n",
       "612         624  matching_annotaudio_Aditya_2018-08-20_0300-040...\n",
       "613         625  matching_annotaudio_Aditya_2018-08-20_0300-040...\n",
       "614         626  matching_annotaudio_Aditya_2018-08-20_0300-040...\n",
       "615         627  matching_annotaudio_Aditya_2018-08-20_0300-040...\n",
       "616         628  matching_annotaudio_Aditya_2018-08-20_0300-040...\n",
       "\n",
       "[617 rows x 2 columns]"
      ]
     },
     "execution_count": 3,
     "metadata": {},
     "output_type": "execute_result"
    }
   ],
   "source": [
    "verif_annots = pd.read_csv('../verified_annotations.csv').reset_index(drop=True) # manually re-checked set of audio files.\n",
    "# See ../choosing valid annotation audio files.ipynb\n",
    "\n",
    "verif_annots"
   ]
  },
  {
   "cell_type": "code",
   "execution_count": 4,
   "metadata": {},
   "outputs": [],
   "source": [
    "all_measures = []"
   ]
  },
  {
   "cell_type": "code",
   "execution_count": 6,
   "metadata": {},
   "outputs": [],
   "source": [
    "fs = 250000\n",
    "kwargs = {'inter_peak_difference':250, \n",
    "          'spectrum_smoothing_width': 100,\n",
    "          'peak_range': 14,\n",
    "          'fs':fs,\n",
    "          'db_range':46}"
   ]
  },
  {
   "cell_type": "code",
   "execution_count": 7,
   "metadata": {
    "scrolled": true
   },
   "outputs": [
    {
     "name": "stderr",
     "output_type": "stream",
     "text": [
      "\r",
      "0it [00:00, ?it/s]"
     ]
    },
    {
     "name": "stdout",
     "output_type": "stream",
     "text": [
      "Match found!\n",
      "Match found!\n"
     ]
    },
    {
     "name": "stderr",
     "output_type": "stream",
     "text": [
      "\r",
      "2it [00:00,  7.51it/s]"
     ]
    },
    {
     "name": "stdout",
     "output_type": "stream",
     "text": [
      "Match found!\n"
     ]
    },
    {
     "name": "stderr",
     "output_type": "stream",
     "text": [
      "\r",
      "3it [00:00,  5.69it/s]"
     ]
    },
    {
     "name": "stdout",
     "output_type": "stream",
     "text": [
      "Match found!\n"
     ]
    },
    {
     "name": "stderr",
     "output_type": "stream",
     "text": [
      "\r",
      "4it [00:00,  3.98it/s]"
     ]
    },
    {
     "name": "stdout",
     "output_type": "stream",
     "text": [
      "Match found!\n"
     ]
    },
    {
     "name": "stderr",
     "output_type": "stream",
     "text": [
      "\r",
      "5it [00:01,  2.54it/s]"
     ]
    },
    {
     "name": "stdout",
     "output_type": "stream",
     "text": [
      "Match found!\n"
     ]
    },
    {
     "name": "stderr",
     "output_type": "stream",
     "text": [
      "7it [00:02,  2.42it/s]"
     ]
    },
    {
     "name": "stdout",
     "output_type": "stream",
     "text": [
      "Match found!\n",
      "Match found!\n"
     ]
    },
    {
     "name": "stderr",
     "output_type": "stream",
     "text": [
      "\r",
      "8it [00:02,  2.64it/s]"
     ]
    },
    {
     "name": "stdout",
     "output_type": "stream",
     "text": [
      "Match found!\n"
     ]
    },
    {
     "name": "stderr",
     "output_type": "stream",
     "text": [
      "\r",
      "9it [00:03,  2.74it/s]"
     ]
    },
    {
     "name": "stdout",
     "output_type": "stream",
     "text": [
      "Match found!\n"
     ]
    },
    {
     "name": "stderr",
     "output_type": "stream",
     "text": [
      "\r",
      "10it [00:04,  1.90it/s]"
     ]
    },
    {
     "name": "stdout",
     "output_type": "stream",
     "text": [
      "Match found!\n"
     ]
    },
    {
     "name": "stderr",
     "output_type": "stream",
     "text": [
      "\r",
      "11it [00:04,  2.30it/s]"
     ]
    },
    {
     "name": "stdout",
     "output_type": "stream",
     "text": [
      "Match found!\n"
     ]
    },
    {
     "name": "stderr",
     "output_type": "stream",
     "text": [
      "\r",
      "12it [00:05,  1.62it/s]"
     ]
    },
    {
     "name": "stdout",
     "output_type": "stream",
     "text": [
      "Match found!\n"
     ]
    },
    {
     "name": "stderr",
     "output_type": "stream",
     "text": [
      "\r",
      "13it [00:06,  1.54it/s]"
     ]
    },
    {
     "name": "stdout",
     "output_type": "stream",
     "text": [
      "Match found!\n"
     ]
    },
    {
     "name": "stderr",
     "output_type": "stream",
     "text": [
      "\r",
      "14it [00:06,  1.61it/s]"
     ]
    },
    {
     "name": "stdout",
     "output_type": "stream",
     "text": [
      "Match found!\n"
     ]
    },
    {
     "name": "stderr",
     "output_type": "stream",
     "text": [
      "\r",
      "15it [00:08,  1.08it/s]"
     ]
    },
    {
     "name": "stdout",
     "output_type": "stream",
     "text": [
      "Match found!\n"
     ]
    },
    {
     "name": "stderr",
     "output_type": "stream",
     "text": [
      "\r",
      "16it [00:09,  1.13it/s]"
     ]
    },
    {
     "name": "stdout",
     "output_type": "stream",
     "text": [
      "Match found!\n"
     ]
    },
    {
     "name": "stderr",
     "output_type": "stream",
     "text": [
      "18it [00:10,  1.44it/s]"
     ]
    },
    {
     "name": "stdout",
     "output_type": "stream",
     "text": [
      "Match found!\n",
      "Match found!\n"
     ]
    },
    {
     "name": "stderr",
     "output_type": "stream",
     "text": [
      "\r",
      "19it [00:10,  1.70it/s]"
     ]
    },
    {
     "name": "stdout",
     "output_type": "stream",
     "text": [
      "Match found!\n"
     ]
    },
    {
     "name": "stderr",
     "output_type": "stream",
     "text": [
      "\r",
      "20it [00:11,  1.89it/s]"
     ]
    },
    {
     "name": "stdout",
     "output_type": "stream",
     "text": [
      "Match found!\n"
     ]
    },
    {
     "name": "stderr",
     "output_type": "stream",
     "text": [
      "\r",
      "21it [00:11,  1.81it/s]"
     ]
    },
    {
     "name": "stdout",
     "output_type": "stream",
     "text": [
      "Match found!\n"
     ]
    },
    {
     "name": "stderr",
     "output_type": "stream",
     "text": [
      "\r",
      "22it [00:12,  1.97it/s]"
     ]
    },
    {
     "name": "stdout",
     "output_type": "stream",
     "text": [
      "Match found!\n"
     ]
    },
    {
     "name": "stderr",
     "output_type": "stream",
     "text": [
      "\r",
      "23it [00:14,  1.21s/it]"
     ]
    },
    {
     "name": "stdout",
     "output_type": "stream",
     "text": [
      "Match found!\n"
     ]
    },
    {
     "name": "stderr",
     "output_type": "stream",
     "text": [
      "\r",
      "24it [00:15,  1.04it/s]"
     ]
    },
    {
     "name": "stdout",
     "output_type": "stream",
     "text": [
      "Match found!\n"
     ]
    },
    {
     "name": "stderr",
     "output_type": "stream",
     "text": [
      "\r",
      "25it [00:16,  1.00it/s]"
     ]
    },
    {
     "name": "stdout",
     "output_type": "stream",
     "text": [
      "Match found!\n"
     ]
    },
    {
     "name": "stderr",
     "output_type": "stream",
     "text": [
      "\r",
      "26it [00:16,  1.22it/s]"
     ]
    },
    {
     "name": "stdout",
     "output_type": "stream",
     "text": [
      "Match found!\n"
     ]
    },
    {
     "name": "stderr",
     "output_type": "stream",
     "text": [
      "28it [00:17,  1.55it/s]"
     ]
    },
    {
     "name": "stdout",
     "output_type": "stream",
     "text": [
      "Match found!\n",
      "Match found!\n"
     ]
    },
    {
     "name": "stderr",
     "output_type": "stream",
     "text": [
      "\r",
      "29it [00:18,  1.65it/s]"
     ]
    },
    {
     "name": "stdout",
     "output_type": "stream",
     "text": [
      "Match found!\n"
     ]
    },
    {
     "name": "stderr",
     "output_type": "stream",
     "text": [
      "\r",
      "30it [00:18,  1.69it/s]"
     ]
    },
    {
     "name": "stdout",
     "output_type": "stream",
     "text": [
      "Match found!\n"
     ]
    },
    {
     "name": "stderr",
     "output_type": "stream",
     "text": [
      "\r",
      "31it [00:19,  1.78it/s]"
     ]
    },
    {
     "name": "stdout",
     "output_type": "stream",
     "text": [
      "Match found!\n"
     ]
    },
    {
     "name": "stderr",
     "output_type": "stream",
     "text": [
      "33it [00:21,  1.49it/s]"
     ]
    },
    {
     "name": "stdout",
     "output_type": "stream",
     "text": [
      "Match found!\n",
      "Match found!\n"
     ]
    },
    {
     "name": "stderr",
     "output_type": "stream",
     "text": [
      "\r",
      "34it [00:21,  1.50it/s]"
     ]
    },
    {
     "name": "stdout",
     "output_type": "stream",
     "text": [
      "Match found!\n"
     ]
    },
    {
     "name": "stderr",
     "output_type": "stream",
     "text": [
      "\r",
      "35it [00:22,  1.86it/s]"
     ]
    },
    {
     "name": "stdout",
     "output_type": "stream",
     "text": [
      "Match found!\n"
     ]
    },
    {
     "name": "stderr",
     "output_type": "stream",
     "text": [
      "\r",
      "36it [00:22,  2.25it/s]"
     ]
    },
    {
     "name": "stdout",
     "output_type": "stream",
     "text": [
      "Match found!\n"
     ]
    },
    {
     "name": "stderr",
     "output_type": "stream",
     "text": [
      "\r",
      "37it [00:22,  2.50it/s]"
     ]
    },
    {
     "name": "stdout",
     "output_type": "stream",
     "text": [
      "Match found!\n",
      "Match found!\n"
     ]
    },
    {
     "name": "stderr",
     "output_type": "stream",
     "text": [
      "\r",
      "39it [00:22,  3.11it/s]"
     ]
    },
    {
     "name": "stdout",
     "output_type": "stream",
     "text": [
      "Match found!\n",
      "Match found!\n"
     ]
    },
    {
     "name": "stderr",
     "output_type": "stream",
     "text": [
      "42it [00:23,  4.26it/s]"
     ]
    },
    {
     "name": "stdout",
     "output_type": "stream",
     "text": [
      "Match found!\n",
      "Match found!\n"
     ]
    },
    {
     "name": "stderr",
     "output_type": "stream",
     "text": [
      "44it [00:23,  5.00it/s]"
     ]
    },
    {
     "name": "stdout",
     "output_type": "stream",
     "text": [
      "Match found!\n",
      "Match found!\n"
     ]
    },
    {
     "name": "stderr",
     "output_type": "stream",
     "text": [
      "\r",
      "45it [00:24,  3.20it/s]"
     ]
    },
    {
     "name": "stdout",
     "output_type": "stream",
     "text": [
      "Match found!\n"
     ]
    },
    {
     "name": "stderr",
     "output_type": "stream",
     "text": [
      "\r",
      "46it [00:24,  2.86it/s]"
     ]
    },
    {
     "name": "stdout",
     "output_type": "stream",
     "text": [
      "Match found!\n"
     ]
    },
    {
     "name": "stderr",
     "output_type": "stream",
     "text": [
      "\r",
      "47it [00:24,  3.19it/s]"
     ]
    },
    {
     "name": "stdout",
     "output_type": "stream",
     "text": [
      "Match found!\n"
     ]
    },
    {
     "name": "stderr",
     "output_type": "stream",
     "text": [
      "\r",
      "48it [00:25,  3.25it/s]"
     ]
    },
    {
     "name": "stdout",
     "output_type": "stream",
     "text": [
      "Match found!\n",
      "Match found!\n"
     ]
    },
    {
     "name": "stderr",
     "output_type": "stream",
     "text": [
      "51it [00:25,  4.37it/s]"
     ]
    },
    {
     "name": "stdout",
     "output_type": "stream",
     "text": [
      "Match found!\n",
      "Match found!\n"
     ]
    },
    {
     "name": "stderr",
     "output_type": "stream",
     "text": [
      "\r",
      "53it [00:25,  5.03it/s]"
     ]
    },
    {
     "name": "stdout",
     "output_type": "stream",
     "text": [
      "Match found!\n",
      "Match found!\n"
     ]
    },
    {
     "name": "stderr",
     "output_type": "stream",
     "text": [
      "\r",
      "54it [00:26,  4.30it/s]"
     ]
    },
    {
     "name": "stdout",
     "output_type": "stream",
     "text": [
      "Match found!\n"
     ]
    },
    {
     "name": "stderr",
     "output_type": "stream",
     "text": [
      "\r",
      "55it [00:26,  4.30it/s]"
     ]
    },
    {
     "name": "stdout",
     "output_type": "stream",
     "text": [
      "Match found!\n"
     ]
    },
    {
     "name": "stderr",
     "output_type": "stream",
     "text": [
      "\r",
      "56it [00:27,  1.69it/s]"
     ]
    },
    {
     "name": "stdout",
     "output_type": "stream",
     "text": [
      "Match found!\n"
     ]
    },
    {
     "name": "stderr",
     "output_type": "stream",
     "text": [
      "58it [00:28,  2.14it/s]"
     ]
    },
    {
     "name": "stdout",
     "output_type": "stream",
     "text": [
      "Match found!\n",
      "Match found!\n"
     ]
    },
    {
     "name": "stderr",
     "output_type": "stream",
     "text": [
      "\r",
      "59it [00:28,  2.40it/s]"
     ]
    },
    {
     "name": "stdout",
     "output_type": "stream",
     "text": [
      "Match found!\n"
     ]
    },
    {
     "name": "stderr",
     "output_type": "stream",
     "text": [
      "\r",
      "60it [00:29,  2.70it/s]"
     ]
    },
    {
     "name": "stdout",
     "output_type": "stream",
     "text": [
      "Match found!\n",
      "Match found!\n"
     ]
    },
    {
     "name": "stderr",
     "output_type": "stream",
     "text": [
      "\r",
      "62it [00:29,  3.07it/s]"
     ]
    },
    {
     "name": "stdout",
     "output_type": "stream",
     "text": [
      "Match found!\n"
     ]
    },
    {
     "name": "stderr",
     "output_type": "stream",
     "text": [
      "\r",
      "63it [00:29,  3.29it/s]"
     ]
    },
    {
     "name": "stdout",
     "output_type": "stream",
     "text": [
      "Match found!\n"
     ]
    },
    {
     "name": "stderr",
     "output_type": "stream",
     "text": [
      "\r",
      "64it [00:30,  2.22it/s]"
     ]
    },
    {
     "name": "stdout",
     "output_type": "stream",
     "text": [
      "Match found!\n"
     ]
    },
    {
     "name": "stderr",
     "output_type": "stream",
     "text": [
      "\r",
      "65it [00:31,  1.89it/s]"
     ]
    },
    {
     "name": "stdout",
     "output_type": "stream",
     "text": [
      "Match found!\n"
     ]
    },
    {
     "name": "stderr",
     "output_type": "stream",
     "text": [
      "\r",
      "66it [00:32,  1.69it/s]"
     ]
    },
    {
     "name": "stdout",
     "output_type": "stream",
     "text": [
      "Match found!\n"
     ]
    },
    {
     "name": "stderr",
     "output_type": "stream",
     "text": [
      "\r",
      "67it [00:32,  2.07it/s]"
     ]
    },
    {
     "name": "stdout",
     "output_type": "stream",
     "text": [
      "Match found!\n"
     ]
    },
    {
     "name": "stderr",
     "output_type": "stream",
     "text": [
      "\r",
      "68it [00:32,  2.48it/s]"
     ]
    },
    {
     "name": "stdout",
     "output_type": "stream",
     "text": [
      "Match found!\n"
     ]
    },
    {
     "name": "stderr",
     "output_type": "stream",
     "text": [
      "\r",
      "69it [00:34,  1.42it/s]"
     ]
    },
    {
     "name": "stdout",
     "output_type": "stream",
     "text": [
      "Match found!\n"
     ]
    },
    {
     "name": "stderr",
     "output_type": "stream",
     "text": [
      "\r",
      "70it [00:34,  1.73it/s]"
     ]
    },
    {
     "name": "stdout",
     "output_type": "stream",
     "text": [
      "Match found!\n"
     ]
    },
    {
     "name": "stderr",
     "output_type": "stream",
     "text": [
      "\r",
      "71it [00:36,  1.16s/it]"
     ]
    },
    {
     "name": "stdout",
     "output_type": "stream",
     "text": [
      "Match found!\n"
     ]
    },
    {
     "name": "stderr",
     "output_type": "stream",
     "text": [
      "73it [00:37,  1.43it/s]"
     ]
    },
    {
     "name": "stdout",
     "output_type": "stream",
     "text": [
      "Match found!\n",
      "Match found!\n"
     ]
    },
    {
     "name": "stderr",
     "output_type": "stream",
     "text": [
      "\r",
      "74it [00:37,  1.74it/s]"
     ]
    },
    {
     "name": "stdout",
     "output_type": "stream",
     "text": [
      "Match found!\n"
     ]
    },
    {
     "name": "stderr",
     "output_type": "stream",
     "text": [
      "\r",
      "75it [00:38,  1.39it/s]"
     ]
    },
    {
     "name": "stdout",
     "output_type": "stream",
     "text": [
      "Match found!\n"
     ]
    },
    {
     "name": "stderr",
     "output_type": "stream",
     "text": [
      "77it [00:40,  1.45it/s]"
     ]
    },
    {
     "name": "stdout",
     "output_type": "stream",
     "text": [
      "Match found!\n",
      "Match found!\n"
     ]
    },
    {
     "name": "stderr",
     "output_type": "stream",
     "text": [
      "\r",
      "78it [00:40,  1.67it/s]"
     ]
    },
    {
     "name": "stdout",
     "output_type": "stream",
     "text": [
      "Match found!\n"
     ]
    },
    {
     "name": "stderr",
     "output_type": "stream",
     "text": [
      "\r",
      "79it [00:41,  1.58it/s]"
     ]
    },
    {
     "name": "stdout",
     "output_type": "stream",
     "text": [
      "Match found!\n"
     ]
    },
    {
     "name": "stderr",
     "output_type": "stream",
     "text": [
      "\r",
      "80it [00:42,  1.47it/s]"
     ]
    },
    {
     "name": "stdout",
     "output_type": "stream",
     "text": [
      "Match found!\n"
     ]
    },
    {
     "name": "stderr",
     "output_type": "stream",
     "text": [
      "82it [00:42,  2.27it/s]"
     ]
    },
    {
     "name": "stdout",
     "output_type": "stream",
     "text": [
      "Match found!\n",
      "Match found!\n"
     ]
    },
    {
     "name": "stderr",
     "output_type": "stream",
     "text": [
      "\r",
      "83it [00:43,  2.24it/s]"
     ]
    },
    {
     "name": "stdout",
     "output_type": "stream",
     "text": [
      "Match found!\n"
     ]
    },
    {
     "name": "stderr",
     "output_type": "stream",
     "text": [
      "85it [00:43,  2.97it/s]"
     ]
    },
    {
     "name": "stdout",
     "output_type": "stream",
     "text": [
      "Match found!\n",
      "Match found!\n"
     ]
    },
    {
     "name": "stderr",
     "output_type": "stream",
     "text": [
      "\r",
      "86it [00:44,  2.07it/s]"
     ]
    },
    {
     "name": "stdout",
     "output_type": "stream",
     "text": [
      "Match found!\n"
     ]
    },
    {
     "name": "stderr",
     "output_type": "stream",
     "text": [
      "\r",
      "87it [00:44,  2.36it/s]"
     ]
    },
    {
     "name": "stdout",
     "output_type": "stream",
     "text": [
      "Match found!\n"
     ]
    },
    {
     "name": "stderr",
     "output_type": "stream",
     "text": [
      "\r",
      "88it [00:45,  2.07it/s]"
     ]
    },
    {
     "name": "stdout",
     "output_type": "stream",
     "text": [
      "Match found!\n"
     ]
    },
    {
     "name": "stderr",
     "output_type": "stream",
     "text": [
      "\r",
      "89it [00:45,  2.27it/s]"
     ]
    },
    {
     "name": "stdout",
     "output_type": "stream",
     "text": [
      "Match found!\n",
      "Match found!\n"
     ]
    },
    {
     "name": "stderr",
     "output_type": "stream",
     "text": [
      "92it [00:46,  3.45it/s]"
     ]
    },
    {
     "name": "stdout",
     "output_type": "stream",
     "text": [
      "Match found!\n",
      "Match found!\n"
     ]
    },
    {
     "name": "stderr",
     "output_type": "stream",
     "text": [
      "\r",
      "93it [00:46,  3.96it/s]"
     ]
    },
    {
     "name": "stdout",
     "output_type": "stream",
     "text": [
      "Match found!\n"
     ]
    },
    {
     "name": "stderr",
     "output_type": "stream",
     "text": [
      "96it [00:46,  3.96it/s]"
     ]
    },
    {
     "name": "stdout",
     "output_type": "stream",
     "text": [
      "Match found!\n",
      "Match found!\n",
      "Match found!\n"
     ]
    },
    {
     "name": "stderr",
     "output_type": "stream",
     "text": [
      "98it [00:47,  4.43it/s]"
     ]
    },
    {
     "name": "stdout",
     "output_type": "stream",
     "text": [
      "Match found!\n",
      "Match found!\n"
     ]
    },
    {
     "name": "stderr",
     "output_type": "stream",
     "text": [
      "\r",
      "99it [00:47,  4.59it/s]"
     ]
    },
    {
     "name": "stdout",
     "output_type": "stream",
     "text": [
      "Match found!\n"
     ]
    },
    {
     "name": "stderr",
     "output_type": "stream",
     "text": [
      "\r",
      "100it [00:47,  4.01it/s]"
     ]
    },
    {
     "name": "stdout",
     "output_type": "stream",
     "text": [
      "Match found!\n"
     ]
    },
    {
     "name": "stderr",
     "output_type": "stream",
     "text": [
      "\r",
      "101it [00:48,  3.93it/s]"
     ]
    },
    {
     "name": "stdout",
     "output_type": "stream",
     "text": [
      "Match found!\n"
     ]
    },
    {
     "name": "stderr",
     "output_type": "stream",
     "text": [
      "103it [00:48,  4.91it/s]"
     ]
    },
    {
     "name": "stdout",
     "output_type": "stream",
     "text": [
      "Match found!\n",
      "Match found!\n"
     ]
    },
    {
     "name": "stderr",
     "output_type": "stream",
     "text": [
      "\r",
      "104it [00:48,  5.20it/s]"
     ]
    },
    {
     "name": "stdout",
     "output_type": "stream",
     "text": [
      "Match found!\n"
     ]
    },
    {
     "name": "stderr",
     "output_type": "stream",
     "text": [
      "\r",
      "105it [00:48,  4.51it/s]"
     ]
    },
    {
     "name": "stdout",
     "output_type": "stream",
     "text": [
      "Match found!\n"
     ]
    },
    {
     "name": "stderr",
     "output_type": "stream",
     "text": [
      "\r",
      "106it [00:49,  4.38it/s]"
     ]
    },
    {
     "name": "stdout",
     "output_type": "stream",
     "text": [
      "Match found!\n"
     ]
    },
    {
     "name": "stderr",
     "output_type": "stream",
     "text": [
      "\r",
      "107it [00:50,  1.89it/s]"
     ]
    },
    {
     "name": "stdout",
     "output_type": "stream",
     "text": [
      "Match found!\n",
      "Match found!\n"
     ]
    },
    {
     "name": "stderr",
     "output_type": "stream",
     "text": [
      "110it [00:51,  2.78it/s]"
     ]
    },
    {
     "name": "stdout",
     "output_type": "stream",
     "text": [
      "Match found!\n",
      "Match found!\n",
      "Match found!\n"
     ]
    },
    {
     "name": "stderr",
     "output_type": "stream",
     "text": [
      "\r",
      "112it [00:52,  2.49it/s]"
     ]
    },
    {
     "name": "stdout",
     "output_type": "stream",
     "text": [
      "Match found!\n"
     ]
    },
    {
     "name": "stderr",
     "output_type": "stream",
     "text": [
      "\r",
      "113it [00:53,  1.43it/s]"
     ]
    },
    {
     "name": "stdout",
     "output_type": "stream",
     "text": [
      "Match found!\n"
     ]
    },
    {
     "name": "stderr",
     "output_type": "stream",
     "text": [
      "116it [00:53,  2.33it/s]"
     ]
    },
    {
     "name": "stdout",
     "output_type": "stream",
     "text": [
      "Match found!\n",
      "Match found!\n",
      "Match found!\n"
     ]
    },
    {
     "name": "stderr",
     "output_type": "stream",
     "text": [
      "\r",
      "117it [00:54,  2.49it/s]"
     ]
    },
    {
     "name": "stdout",
     "output_type": "stream",
     "text": [
      "Match found!\n"
     ]
    },
    {
     "name": "stderr",
     "output_type": "stream",
     "text": [
      "\r",
      "118it [00:54,  2.68it/s]"
     ]
    },
    {
     "name": "stdout",
     "output_type": "stream",
     "text": [
      "Match found!\n"
     ]
    },
    {
     "name": "stderr",
     "output_type": "stream",
     "text": [
      "121it [00:55,  3.44it/s]"
     ]
    },
    {
     "name": "stdout",
     "output_type": "stream",
     "text": [
      "Match found!\n",
      "Match found!\n",
      "Match found!\n"
     ]
    },
    {
     "name": "stderr",
     "output_type": "stream",
     "text": [
      "\r",
      "122it [00:55,  3.94it/s]"
     ]
    },
    {
     "name": "stdout",
     "output_type": "stream",
     "text": [
      "Match found!\n"
     ]
    },
    {
     "name": "stderr",
     "output_type": "stream",
     "text": [
      "\r",
      "123it [00:55,  4.05it/s]"
     ]
    },
    {
     "name": "stdout",
     "output_type": "stream",
     "text": [
      "Match found!\n"
     ]
    },
    {
     "name": "stderr",
     "output_type": "stream",
     "text": [
      "\r",
      "124it [00:55,  3.84it/s]"
     ]
    },
    {
     "name": "stdout",
     "output_type": "stream",
     "text": [
      "Match found!\n"
     ]
    },
    {
     "name": "stderr",
     "output_type": "stream",
     "text": [
      "\r",
      "125it [00:56,  3.23it/s]"
     ]
    },
    {
     "name": "stdout",
     "output_type": "stream",
     "text": [
      "Match found!\n"
     ]
    },
    {
     "name": "stderr",
     "output_type": "stream",
     "text": [
      "\r",
      "126it [00:56,  3.32it/s]"
     ]
    },
    {
     "name": "stdout",
     "output_type": "stream",
     "text": [
      "Match found!\n"
     ]
    },
    {
     "name": "stderr",
     "output_type": "stream",
     "text": [
      "\r",
      "127it [00:56,  3.35it/s]"
     ]
    },
    {
     "name": "stdout",
     "output_type": "stream",
     "text": [
      "Match found!\n"
     ]
    },
    {
     "name": "stderr",
     "output_type": "stream",
     "text": [
      "130it [00:57,  4.42it/s]"
     ]
    },
    {
     "name": "stdout",
     "output_type": "stream",
     "text": [
      "Match found!\n",
      "Match found!\n",
      "Match found!\n"
     ]
    },
    {
     "name": "stderr",
     "output_type": "stream",
     "text": [
      "132it [00:57,  3.96it/s]"
     ]
    },
    {
     "name": "stdout",
     "output_type": "stream",
     "text": [
      "Match found!\n",
      "Match found!\n"
     ]
    },
    {
     "name": "stderr",
     "output_type": "stream",
     "text": [
      "134it [00:58,  4.88it/s]"
     ]
    },
    {
     "name": "stdout",
     "output_type": "stream",
     "text": [
      "Match found!\n",
      "Match found!\n"
     ]
    },
    {
     "name": "stderr",
     "output_type": "stream",
     "text": [
      "136it [00:58,  4.49it/s]"
     ]
    },
    {
     "name": "stdout",
     "output_type": "stream",
     "text": [
      "Match found!\n",
      "Match found!\n",
      "Match found!\n"
     ]
    },
    {
     "name": "stderr",
     "output_type": "stream",
     "text": [
      "\r",
      "138it [00:58,  5.21it/s]"
     ]
    },
    {
     "name": "stdout",
     "output_type": "stream",
     "text": [
      "Match found!\n"
     ]
    },
    {
     "name": "stderr",
     "output_type": "stream",
     "text": [
      "140it [00:59,  5.37it/s]"
     ]
    },
    {
     "name": "stdout",
     "output_type": "stream",
     "text": [
      "Match found!\n",
      "Match found!\n"
     ]
    },
    {
     "name": "stderr",
     "output_type": "stream",
     "text": [
      "\r",
      "141it [01:00,  2.98it/s]"
     ]
    },
    {
     "name": "stdout",
     "output_type": "stream",
     "text": [
      "Match found!\n"
     ]
    },
    {
     "name": "stderr",
     "output_type": "stream",
     "text": [
      "\r",
      "142it [01:00,  2.45it/s]"
     ]
    },
    {
     "name": "stdout",
     "output_type": "stream",
     "text": [
      "Match found!\n",
      "Match found!\n"
     ]
    },
    {
     "name": "stderr",
     "output_type": "stream",
     "text": [
      "146it [01:03,  1.91it/s]"
     ]
    },
    {
     "name": "stdout",
     "output_type": "stream",
     "text": [
      "Match found!\n",
      "Match found!\n",
      "Match found!\n"
     ]
    },
    {
     "name": "stderr",
     "output_type": "stream",
     "text": [
      "148it [01:04,  2.68it/s]"
     ]
    },
    {
     "name": "stdout",
     "output_type": "stream",
     "text": [
      "Match found!\n",
      "Match found!\n",
      "Match found!\n"
     ]
    },
    {
     "name": "stderr",
     "output_type": "stream",
     "text": [
      "\r",
      "150it [01:04,  3.29it/s]"
     ]
    },
    {
     "name": "stdout",
     "output_type": "stream",
     "text": [
      "Match found!\n"
     ]
    },
    {
     "name": "stderr",
     "output_type": "stream",
     "text": [
      "\r",
      "151it [01:04,  3.32it/s]"
     ]
    },
    {
     "name": "stdout",
     "output_type": "stream",
     "text": [
      "Match found!\n"
     ]
    },
    {
     "name": "stderr",
     "output_type": "stream",
     "text": [
      "153it [01:05,  4.03it/s]"
     ]
    },
    {
     "name": "stdout",
     "output_type": "stream",
     "text": [
      "Match found!\n",
      "Match found!\n"
     ]
    },
    {
     "name": "stderr",
     "output_type": "stream",
     "text": [
      "\r",
      "154it [01:05,  4.90it/s]"
     ]
    },
    {
     "name": "stdout",
     "output_type": "stream",
     "text": [
      "Match found!\n"
     ]
    },
    {
     "name": "stderr",
     "output_type": "stream",
     "text": [
      "156it [01:05,  5.65it/s]"
     ]
    },
    {
     "name": "stdout",
     "output_type": "stream",
     "text": [
      "Match found!\n",
      "Match found!\n"
     ]
    },
    {
     "name": "stderr",
     "output_type": "stream",
     "text": [
      "\r",
      "157it [01:05,  4.86it/s]"
     ]
    },
    {
     "name": "stdout",
     "output_type": "stream",
     "text": [
      "Match found!\n"
     ]
    },
    {
     "name": "stderr",
     "output_type": "stream",
     "text": [
      "159it [01:06,  3.76it/s]"
     ]
    },
    {
     "name": "stdout",
     "output_type": "stream",
     "text": [
      "Match found!\n",
      "Match found!\n"
     ]
    },
    {
     "name": "stderr",
     "output_type": "stream",
     "text": [
      "\r",
      "160it [01:06,  4.22it/s]"
     ]
    },
    {
     "name": "stdout",
     "output_type": "stream",
     "text": [
      "Match found!\n"
     ]
    },
    {
     "name": "stderr",
     "output_type": "stream",
     "text": [
      "162it [01:07,  5.07it/s]"
     ]
    },
    {
     "name": "stdout",
     "output_type": "stream",
     "text": [
      "Match found!\n",
      "Match found!\n",
      "Match found!\n"
     ]
    },
    {
     "name": "stderr",
     "output_type": "stream",
     "text": [
      "\r",
      "164it [01:07,  6.47it/s]"
     ]
    },
    {
     "name": "stdout",
     "output_type": "stream",
     "text": [
      "Match found!\n",
      "Match found!\n"
     ]
    },
    {
     "name": "stderr",
     "output_type": "stream",
     "text": [
      "\r",
      "166it [01:07,  5.39it/s]"
     ]
    },
    {
     "name": "stdout",
     "output_type": "stream",
     "text": [
      "Match found!\n",
      "Match found!\n"
     ]
    },
    {
     "name": "stderr",
     "output_type": "stream",
     "text": [
      "\r",
      "168it [01:07,  6.14it/s]"
     ]
    },
    {
     "name": "stdout",
     "output_type": "stream",
     "text": [
      "Match found!\n"
     ]
    },
    {
     "name": "stderr",
     "output_type": "stream",
     "text": [
      "170it [01:08,  3.64it/s]"
     ]
    },
    {
     "name": "stdout",
     "output_type": "stream",
     "text": [
      "Match found!\n",
      "Match found!\n"
     ]
    },
    {
     "name": "stderr",
     "output_type": "stream",
     "text": [
      "172it [01:08,  4.84it/s]"
     ]
    },
    {
     "name": "stdout",
     "output_type": "stream",
     "text": [
      "Match found!\n",
      "Match found!\n"
     ]
    },
    {
     "name": "stderr",
     "output_type": "stream",
     "text": [
      "\r",
      "173it [01:09,  4.42it/s]"
     ]
    },
    {
     "name": "stdout",
     "output_type": "stream",
     "text": [
      "Match found!\n"
     ]
    },
    {
     "name": "stderr",
     "output_type": "stream",
     "text": [
      "\r",
      "174it [01:09,  3.57it/s]"
     ]
    },
    {
     "name": "stdout",
     "output_type": "stream",
     "text": [
      "Match found!\n"
     ]
    },
    {
     "name": "stderr",
     "output_type": "stream",
     "text": [
      "176it [01:10,  3.30it/s]"
     ]
    },
    {
     "name": "stdout",
     "output_type": "stream",
     "text": [
      "Match found!\n",
      "Match found!\n"
     ]
    },
    {
     "name": "stderr",
     "output_type": "stream",
     "text": [
      "\r",
      "177it [01:10,  2.97it/s]"
     ]
    },
    {
     "name": "stdout",
     "output_type": "stream",
     "text": [
      "Match found!\n"
     ]
    },
    {
     "name": "stderr",
     "output_type": "stream",
     "text": [
      "179it [01:11,  3.61it/s]"
     ]
    },
    {
     "name": "stdout",
     "output_type": "stream",
     "text": [
      "Match found!\n",
      "Match found!\n"
     ]
    },
    {
     "name": "stderr",
     "output_type": "stream",
     "text": [
      "181it [01:11,  3.29it/s]"
     ]
    },
    {
     "name": "stdout",
     "output_type": "stream",
     "text": [
      "Match found!\n",
      "Match found!\n",
      "Match found!\n"
     ]
    },
    {
     "name": "stderr",
     "output_type": "stream",
     "text": [
      "\r",
      "183it [01:12,  4.11it/s]"
     ]
    },
    {
     "name": "stdout",
     "output_type": "stream",
     "text": [
      "Match found!\n"
     ]
    },
    {
     "name": "stderr",
     "output_type": "stream",
     "text": [
      "185it [01:12,  4.52it/s]"
     ]
    },
    {
     "name": "stdout",
     "output_type": "stream",
     "text": [
      "Match found!\n",
      "Match found!\n"
     ]
    },
    {
     "name": "stderr",
     "output_type": "stream",
     "text": [
      "\r",
      "186it [01:12,  4.28it/s]"
     ]
    },
    {
     "name": "stdout",
     "output_type": "stream",
     "text": [
      "Match found!\n"
     ]
    },
    {
     "name": "stderr",
     "output_type": "stream",
     "text": [
      "\r",
      "187it [01:13,  2.77it/s]"
     ]
    },
    {
     "name": "stdout",
     "output_type": "stream",
     "text": [
      "Match found!\n"
     ]
    },
    {
     "name": "stderr",
     "output_type": "stream",
     "text": [
      "189it [01:13,  3.81it/s]"
     ]
    },
    {
     "name": "stdout",
     "output_type": "stream",
     "text": [
      "Match found!\n",
      "Match found!\n"
     ]
    },
    {
     "name": "stderr",
     "output_type": "stream",
     "text": [
      "\r",
      "190it [01:14,  2.05it/s]"
     ]
    },
    {
     "name": "stdout",
     "output_type": "stream",
     "text": [
      "Match found!\n"
     ]
    },
    {
     "name": "stderr",
     "output_type": "stream",
     "text": [
      "192it [01:15,  2.35it/s]"
     ]
    },
    {
     "name": "stdout",
     "output_type": "stream",
     "text": [
      "Match found!\n",
      "Match found!\n"
     ]
    },
    {
     "name": "stderr",
     "output_type": "stream",
     "text": [
      "194it [01:16,  3.19it/s]"
     ]
    },
    {
     "name": "stdout",
     "output_type": "stream",
     "text": [
      "Match found!\n",
      "Match found!\n"
     ]
    },
    {
     "name": "stderr",
     "output_type": "stream",
     "text": [
      "\r",
      "195it [01:16,  3.01it/s]"
     ]
    },
    {
     "name": "stdout",
     "output_type": "stream",
     "text": [
      "Match found!\n"
     ]
    },
    {
     "name": "stderr",
     "output_type": "stream",
     "text": [
      "\r",
      "196it [01:16,  2.68it/s]"
     ]
    },
    {
     "name": "stdout",
     "output_type": "stream",
     "text": [
      "Match found!\n"
     ]
    },
    {
     "name": "stderr",
     "output_type": "stream",
     "text": [
      "198it [01:18,  2.00it/s]"
     ]
    },
    {
     "name": "stdout",
     "output_type": "stream",
     "text": [
      "Match found!\n",
      "Match found!\n"
     ]
    },
    {
     "name": "stderr",
     "output_type": "stream",
     "text": [
      "\r",
      "199it [01:19,  1.46it/s]"
     ]
    },
    {
     "name": "stdout",
     "output_type": "stream",
     "text": [
      "Match found!\n"
     ]
    },
    {
     "name": "stderr",
     "output_type": "stream",
     "text": [
      "\r",
      "200it [01:19,  1.84it/s]"
     ]
    },
    {
     "name": "stdout",
     "output_type": "stream",
     "text": [
      "Match found!\n"
     ]
    },
    {
     "name": "stderr",
     "output_type": "stream",
     "text": [
      "\r",
      "201it [01:20,  1.90it/s]"
     ]
    },
    {
     "name": "stdout",
     "output_type": "stream",
     "text": [
      "Match found!\n"
     ]
    },
    {
     "name": "stderr",
     "output_type": "stream",
     "text": [
      "\r",
      "202it [01:20,  2.10it/s]"
     ]
    },
    {
     "name": "stdout",
     "output_type": "stream",
     "text": [
      "Match found!\n"
     ]
    },
    {
     "name": "stderr",
     "output_type": "stream",
     "text": [
      "204it [01:21,  2.78it/s]"
     ]
    },
    {
     "name": "stdout",
     "output_type": "stream",
     "text": [
      "Match found!\n",
      "Match found!\n"
     ]
    },
    {
     "name": "stderr",
     "output_type": "stream",
     "text": [
      "206it [01:21,  2.98it/s]"
     ]
    },
    {
     "name": "stdout",
     "output_type": "stream",
     "text": [
      "Match found!\n",
      "Match found!\n"
     ]
    },
    {
     "name": "stderr",
     "output_type": "stream",
     "text": [
      "\r",
      "207it [01:22,  3.57it/s]"
     ]
    },
    {
     "name": "stdout",
     "output_type": "stream",
     "text": [
      "Match found!\n"
     ]
    },
    {
     "name": "stderr",
     "output_type": "stream",
     "text": [
      "\r",
      "208it [01:22,  3.51it/s]"
     ]
    },
    {
     "name": "stdout",
     "output_type": "stream",
     "text": [
      "Match found!\n"
     ]
    },
    {
     "name": "stderr",
     "output_type": "stream",
     "text": [
      "\r",
      "209it [01:25,  1.02s/it]"
     ]
    },
    {
     "name": "stdout",
     "output_type": "stream",
     "text": [
      "Match found!\n",
      "Match found!\n"
     ]
    },
    {
     "name": "stderr",
     "output_type": "stream",
     "text": [
      "\r",
      "211it [01:26,  1.12it/s]"
     ]
    },
    {
     "name": "stdout",
     "output_type": "stream",
     "text": [
      "Match found!\n"
     ]
    },
    {
     "name": "stderr",
     "output_type": "stream",
     "text": [
      "\r",
      "212it [01:26,  1.35it/s]"
     ]
    },
    {
     "name": "stdout",
     "output_type": "stream",
     "text": [
      "Match found!\n"
     ]
    },
    {
     "name": "stderr",
     "output_type": "stream",
     "text": [
      "214it [01:27,  2.09it/s]"
     ]
    },
    {
     "name": "stdout",
     "output_type": "stream",
     "text": [
      "Match found!\n",
      "Match found!\n"
     ]
    },
    {
     "name": "stderr",
     "output_type": "stream",
     "text": [
      "\r",
      "215it [01:27,  2.54it/s]"
     ]
    },
    {
     "name": "stdout",
     "output_type": "stream",
     "text": [
      "Match found!\n",
      "Match found!\n"
     ]
    },
    {
     "name": "stderr",
     "output_type": "stream",
     "text": [
      "\r",
      "217it [01:27,  2.93it/s]"
     ]
    },
    {
     "name": "stdout",
     "output_type": "stream",
     "text": [
      "Match found!\n"
     ]
    },
    {
     "name": "stderr",
     "output_type": "stream",
     "text": [
      "219it [01:28,  3.12it/s]"
     ]
    },
    {
     "name": "stdout",
     "output_type": "stream",
     "text": [
      "Match found!\n",
      "Match found!\n",
      "Match found!\n"
     ]
    },
    {
     "name": "stderr",
     "output_type": "stream",
     "text": [
      "222it [01:28,  4.32it/s]"
     ]
    },
    {
     "name": "stdout",
     "output_type": "stream",
     "text": [
      "Match found!\n",
      "Match found!\n"
     ]
    },
    {
     "name": "stderr",
     "output_type": "stream",
     "text": [
      "\r",
      "223it [01:29,  4.51it/s]"
     ]
    },
    {
     "name": "stdout",
     "output_type": "stream",
     "text": [
      "Match found!\n"
     ]
    },
    {
     "name": "stderr",
     "output_type": "stream",
     "text": [
      "225it [01:31,  1.72it/s]"
     ]
    },
    {
     "name": "stdout",
     "output_type": "stream",
     "text": [
      "Match found!\n",
      "Match found!\n"
     ]
    },
    {
     "name": "stderr",
     "output_type": "stream",
     "text": [
      "\r",
      "226it [01:31,  2.25it/s]"
     ]
    },
    {
     "name": "stdout",
     "output_type": "stream",
     "text": [
      "Match found!\n",
      "Match found!\n"
     ]
    },
    {
     "name": "stderr",
     "output_type": "stream",
     "text": [
      "\r",
      "228it [01:32,  2.04it/s]"
     ]
    },
    {
     "name": "stdout",
     "output_type": "stream",
     "text": [
      "Match found!\n"
     ]
    },
    {
     "name": "stderr",
     "output_type": "stream",
     "text": [
      "\r",
      "229it [01:33,  1.96it/s]"
     ]
    },
    {
     "name": "stdout",
     "output_type": "stream",
     "text": [
      "Match found!\n"
     ]
    },
    {
     "name": "stderr",
     "output_type": "stream",
     "text": [
      "\r",
      "230it [01:34,  1.44it/s]"
     ]
    },
    {
     "name": "stdout",
     "output_type": "stream",
     "text": [
      "Match found!\n"
     ]
    },
    {
     "name": "stderr",
     "output_type": "stream",
     "text": [
      "\r",
      "231it [01:36,  1.04s/it]"
     ]
    },
    {
     "name": "stdout",
     "output_type": "stream",
     "text": [
      "Match found!\n"
     ]
    },
    {
     "name": "stderr",
     "output_type": "stream",
     "text": [
      "\r",
      "232it [01:37,  1.04s/it]"
     ]
    },
    {
     "name": "stdout",
     "output_type": "stream",
     "text": [
      "Match found!\n"
     ]
    },
    {
     "name": "stderr",
     "output_type": "stream",
     "text": [
      "\r",
      "233it [01:37,  1.05it/s]"
     ]
    },
    {
     "name": "stdout",
     "output_type": "stream",
     "text": [
      "Match found!\n"
     ]
    },
    {
     "name": "stderr",
     "output_type": "stream",
     "text": [
      "\r",
      "234it [01:39,  1.06s/it]"
     ]
    },
    {
     "name": "stdout",
     "output_type": "stream",
     "text": [
      "Match found!\n"
     ]
    },
    {
     "name": "stderr",
     "output_type": "stream",
     "text": [
      "236it [01:40,  1.22it/s]"
     ]
    },
    {
     "name": "stdout",
     "output_type": "stream",
     "text": [
      "Match found!\n",
      "Match found!\n"
     ]
    },
    {
     "name": "stderr",
     "output_type": "stream",
     "text": [
      "\r",
      "237it [01:41,  1.35it/s]"
     ]
    },
    {
     "name": "stdout",
     "output_type": "stream",
     "text": [
      "Match found!\n"
     ]
    },
    {
     "name": "stderr",
     "output_type": "stream",
     "text": [
      "239it [01:41,  2.22it/s]"
     ]
    },
    {
     "name": "stdout",
     "output_type": "stream",
     "text": [
      "Match found!\n",
      "Match found!\n"
     ]
    },
    {
     "name": "stderr",
     "output_type": "stream",
     "text": [
      "\r",
      "240it [01:41,  2.65it/s]"
     ]
    },
    {
     "name": "stdout",
     "output_type": "stream",
     "text": [
      "Match found!\n"
     ]
    },
    {
     "name": "stderr",
     "output_type": "stream",
     "text": [
      "242it [01:42,  3.33it/s]"
     ]
    },
    {
     "name": "stdout",
     "output_type": "stream",
     "text": [
      "Match found!\n",
      "Match found!\n"
     ]
    },
    {
     "name": "stderr",
     "output_type": "stream",
     "text": [
      "\r",
      "243it [01:42,  2.43it/s]"
     ]
    },
    {
     "name": "stdout",
     "output_type": "stream",
     "text": [
      "Match found!\n"
     ]
    },
    {
     "name": "stderr",
     "output_type": "stream",
     "text": [
      "245it [01:43,  3.11it/s]"
     ]
    },
    {
     "name": "stdout",
     "output_type": "stream",
     "text": [
      "Match found!\n",
      "Match found!\n"
     ]
    },
    {
     "name": "stderr",
     "output_type": "stream",
     "text": [
      "\r",
      "246it [01:43,  3.06it/s]"
     ]
    },
    {
     "name": "stdout",
     "output_type": "stream",
     "text": [
      "Match found!\n"
     ]
    },
    {
     "name": "stderr",
     "output_type": "stream",
     "text": [
      "249it [01:44,  2.95it/s]"
     ]
    },
    {
     "name": "stdout",
     "output_type": "stream",
     "text": [
      "Match found!\n",
      "Match found!\n",
      "Match found!\n"
     ]
    },
    {
     "name": "stderr",
     "output_type": "stream",
     "text": [
      "\r",
      "250it [01:45,  2.77it/s]"
     ]
    },
    {
     "name": "stdout",
     "output_type": "stream",
     "text": [
      "Match found!\n"
     ]
    },
    {
     "name": "stderr",
     "output_type": "stream",
     "text": [
      "\r",
      "251it [01:45,  2.41it/s]"
     ]
    },
    {
     "name": "stdout",
     "output_type": "stream",
     "text": [
      "Match found!\n"
     ]
    },
    {
     "name": "stderr",
     "output_type": "stream",
     "text": [
      "\r",
      "252it [01:45,  2.55it/s]"
     ]
    },
    {
     "name": "stdout",
     "output_type": "stream",
     "text": [
      "Match found!\n"
     ]
    },
    {
     "name": "stderr",
     "output_type": "stream",
     "text": [
      "255it [01:46,  3.57it/s]"
     ]
    },
    {
     "name": "stdout",
     "output_type": "stream",
     "text": [
      "Match found!\n",
      "Match found!\n",
      "Match found!\n"
     ]
    },
    {
     "name": "stderr",
     "output_type": "stream",
     "text": [
      "\r",
      "256it [01:46,  3.58it/s]"
     ]
    },
    {
     "name": "stdout",
     "output_type": "stream",
     "text": [
      "Match found!\n"
     ]
    },
    {
     "name": "stderr",
     "output_type": "stream",
     "text": [
      "259it [01:47,  4.12it/s]"
     ]
    },
    {
     "name": "stdout",
     "output_type": "stream",
     "text": [
      "Match found!\n",
      "Match found!\n",
      "Match found!\n"
     ]
    },
    {
     "name": "stderr",
     "output_type": "stream",
     "text": [
      "\r",
      "261it [01:47,  4.84it/s]"
     ]
    },
    {
     "name": "stdout",
     "output_type": "stream",
     "text": [
      "Match found!\n",
      "Match found!\n"
     ]
    },
    {
     "name": "stderr",
     "output_type": "stream",
     "text": [
      "\r",
      "262it [01:47,  5.22it/s]"
     ]
    },
    {
     "name": "stdout",
     "output_type": "stream",
     "text": [
      "Match found!\n"
     ]
    },
    {
     "name": "stderr",
     "output_type": "stream",
     "text": [
      "\r",
      "263it [01:48,  2.08it/s]"
     ]
    },
    {
     "name": "stdout",
     "output_type": "stream",
     "text": [
      "Match found!\n",
      "Match found!\n"
     ]
    },
    {
     "name": "stderr",
     "output_type": "stream",
     "text": [
      "\r",
      "265it [01:49,  2.57it/s]"
     ]
    },
    {
     "name": "stdout",
     "output_type": "stream",
     "text": [
      "Match found!\n"
     ]
    },
    {
     "name": "stderr",
     "output_type": "stream",
     "text": [
      "\r",
      "266it [01:49,  2.66it/s]"
     ]
    },
    {
     "name": "stdout",
     "output_type": "stream",
     "text": [
      "Match found!\n"
     ]
    },
    {
     "name": "stderr",
     "output_type": "stream",
     "text": [
      "\r",
      "267it [01:49,  2.77it/s]"
     ]
    },
    {
     "name": "stdout",
     "output_type": "stream",
     "text": [
      "Match found!\n"
     ]
    },
    {
     "name": "stderr",
     "output_type": "stream",
     "text": [
      "\r",
      "268it [01:50,  2.22it/s]"
     ]
    },
    {
     "name": "stdout",
     "output_type": "stream",
     "text": [
      "Match found!\n"
     ]
    },
    {
     "name": "stderr",
     "output_type": "stream",
     "text": [
      "\r",
      "269it [01:50,  2.41it/s]"
     ]
    },
    {
     "name": "stdout",
     "output_type": "stream",
     "text": [
      "Match found!\n",
      "Match found!\n"
     ]
    },
    {
     "name": "stderr",
     "output_type": "stream",
     "text": [
      "272it [01:51,  3.45it/s]"
     ]
    },
    {
     "name": "stdout",
     "output_type": "stream",
     "text": [
      "Match found!\n",
      "Match found!\n"
     ]
    },
    {
     "name": "stderr",
     "output_type": "stream",
     "text": [
      "\r",
      "273it [01:51,  3.31it/s]"
     ]
    },
    {
     "name": "stdout",
     "output_type": "stream",
     "text": [
      "Match found!\n"
     ]
    },
    {
     "name": "stderr",
     "output_type": "stream",
     "text": [
      "\r",
      "274it [01:51,  3.32it/s]"
     ]
    },
    {
     "name": "stdout",
     "output_type": "stream",
     "text": [
      "Match found!\n"
     ]
    },
    {
     "name": "stderr",
     "output_type": "stream",
     "text": [
      "276it [01:52,  4.29it/s]"
     ]
    },
    {
     "name": "stdout",
     "output_type": "stream",
     "text": [
      "Match found!\n",
      "Match found!\n"
     ]
    },
    {
     "name": "stderr",
     "output_type": "stream",
     "text": [
      "\r",
      "277it [01:52,  4.83it/s]"
     ]
    },
    {
     "name": "stdout",
     "output_type": "stream",
     "text": [
      "Match found!\n"
     ]
    },
    {
     "name": "stderr",
     "output_type": "stream",
     "text": [
      "\r",
      "278it [01:52,  3.33it/s]"
     ]
    },
    {
     "name": "stdout",
     "output_type": "stream",
     "text": [
      "Match found!\n"
     ]
    },
    {
     "name": "stderr",
     "output_type": "stream",
     "text": [
      "\r",
      "279it [01:53,  2.61it/s]"
     ]
    },
    {
     "name": "stdout",
     "output_type": "stream",
     "text": [
      "Match found!\n"
     ]
    },
    {
     "name": "stderr",
     "output_type": "stream",
     "text": [
      "281it [01:53,  3.41it/s]"
     ]
    },
    {
     "name": "stdout",
     "output_type": "stream",
     "text": [
      "Match found!\n",
      "Match found!\n"
     ]
    },
    {
     "name": "stderr",
     "output_type": "stream",
     "text": [
      "283it [01:54,  3.81it/s]"
     ]
    },
    {
     "name": "stdout",
     "output_type": "stream",
     "text": [
      "Match found!\n",
      "Match found!\n"
     ]
    },
    {
     "name": "stderr",
     "output_type": "stream",
     "text": [
      "285it [01:54,  4.34it/s]"
     ]
    },
    {
     "name": "stdout",
     "output_type": "stream",
     "text": [
      "Match found!\n",
      "Match found!\n"
     ]
    },
    {
     "name": "stderr",
     "output_type": "stream",
     "text": [
      "\r",
      "286it [01:54,  4.71it/s]"
     ]
    },
    {
     "name": "stdout",
     "output_type": "stream",
     "text": [
      "Match found!\n"
     ]
    },
    {
     "name": "stderr",
     "output_type": "stream",
     "text": [
      "\r",
      "287it [01:55,  3.76it/s]"
     ]
    },
    {
     "name": "stdout",
     "output_type": "stream",
     "text": [
      "Match found!\n",
      "Match found!\n"
     ]
    },
    {
     "name": "stderr",
     "output_type": "stream",
     "text": [
      "\r",
      "289it [01:56,  3.52it/s]"
     ]
    },
    {
     "name": "stdout",
     "output_type": "stream",
     "text": [
      "Match found!\n"
     ]
    },
    {
     "name": "stderr",
     "output_type": "stream",
     "text": [
      "\r",
      "290it [01:56,  3.16it/s]"
     ]
    },
    {
     "name": "stdout",
     "output_type": "stream",
     "text": [
      "Match found!\n"
     ]
    },
    {
     "name": "stderr",
     "output_type": "stream",
     "text": [
      "293it [01:56,  4.05it/s]"
     ]
    },
    {
     "name": "stdout",
     "output_type": "stream",
     "text": [
      "Match found!\n",
      "Match found!\n",
      "Match found!\n"
     ]
    },
    {
     "name": "stderr",
     "output_type": "stream",
     "text": [
      "295it [01:57,  3.24it/s]"
     ]
    },
    {
     "name": "stdout",
     "output_type": "stream",
     "text": [
      "Match found!\n",
      "Match found!\n"
     ]
    },
    {
     "name": "stderr",
     "output_type": "stream",
     "text": [
      "297it [01:58,  3.85it/s]"
     ]
    },
    {
     "name": "stdout",
     "output_type": "stream",
     "text": [
      "Match found!\n",
      "Match found!\n"
     ]
    },
    {
     "name": "stderr",
     "output_type": "stream",
     "text": [
      "\r",
      "298it [01:58,  3.82it/s]"
     ]
    },
    {
     "name": "stdout",
     "output_type": "stream",
     "text": [
      "Match found!\n"
     ]
    },
    {
     "name": "stderr",
     "output_type": "stream",
     "text": [
      "\r",
      "299it [01:58,  2.76it/s]"
     ]
    },
    {
     "name": "stdout",
     "output_type": "stream",
     "text": [
      "Match found!\n"
     ]
    },
    {
     "name": "stderr",
     "output_type": "stream",
     "text": [
      "302it [01:59,  3.12it/s]"
     ]
    },
    {
     "name": "stdout",
     "output_type": "stream",
     "text": [
      "Match found!\n",
      "Match found!\n",
      "Match found!\n"
     ]
    },
    {
     "name": "stderr",
     "output_type": "stream",
     "text": [
      "304it [02:00,  4.09it/s]"
     ]
    },
    {
     "name": "stdout",
     "output_type": "stream",
     "text": [
      "Match found!\n",
      "Match found!\n"
     ]
    },
    {
     "name": "stderr",
     "output_type": "stream",
     "text": [
      "\r",
      "305it [02:00,  4.43it/s]"
     ]
    },
    {
     "name": "stdout",
     "output_type": "stream",
     "text": [
      "Match found!\n"
     ]
    },
    {
     "name": "stderr",
     "output_type": "stream",
     "text": [
      "\r",
      "306it [02:01,  2.50it/s]"
     ]
    },
    {
     "name": "stdout",
     "output_type": "stream",
     "text": [
      "Match found!\n"
     ]
    },
    {
     "name": "stderr",
     "output_type": "stream",
     "text": [
      "\r",
      "307it [02:01,  1.90it/s]"
     ]
    },
    {
     "name": "stdout",
     "output_type": "stream",
     "text": [
      "Match found!\n"
     ]
    },
    {
     "name": "stderr",
     "output_type": "stream",
     "text": [
      "\r",
      "308it [02:02,  1.65it/s]"
     ]
    },
    {
     "name": "stdout",
     "output_type": "stream",
     "text": [
      "Match found!\n"
     ]
    },
    {
     "name": "stderr",
     "output_type": "stream",
     "text": [
      "\r",
      "309it [02:03,  1.82it/s]"
     ]
    },
    {
     "name": "stdout",
     "output_type": "stream",
     "text": [
      "Match found!\n"
     ]
    },
    {
     "name": "stderr",
     "output_type": "stream",
     "text": [
      "\r",
      "310it [02:03,  1.87it/s]"
     ]
    },
    {
     "name": "stdout",
     "output_type": "stream",
     "text": [
      "Match found!\n"
     ]
    },
    {
     "name": "stderr",
     "output_type": "stream",
     "text": [
      "312it [02:04,  2.29it/s]"
     ]
    },
    {
     "name": "stdout",
     "output_type": "stream",
     "text": [
      "Match found!\n",
      "Match found!\n"
     ]
    },
    {
     "name": "stderr",
     "output_type": "stream",
     "text": [
      "\r",
      "313it [02:04,  2.50it/s]"
     ]
    },
    {
     "name": "stdout",
     "output_type": "stream",
     "text": [
      "Match found!\n"
     ]
    },
    {
     "name": "stderr",
     "output_type": "stream",
     "text": [
      "\r",
      "314it [02:05,  2.00it/s]"
     ]
    },
    {
     "name": "stdout",
     "output_type": "stream",
     "text": [
      "Match found!\n"
     ]
    },
    {
     "name": "stderr",
     "output_type": "stream",
     "text": [
      "\r",
      "315it [02:05,  2.33it/s]"
     ]
    },
    {
     "name": "stdout",
     "output_type": "stream",
     "text": [
      "Match found!\n"
     ]
    },
    {
     "name": "stderr",
     "output_type": "stream",
     "text": [
      "\r",
      "316it [02:06,  2.13it/s]"
     ]
    },
    {
     "name": "stdout",
     "output_type": "stream",
     "text": [
      "Match found!\n"
     ]
    },
    {
     "name": "stderr",
     "output_type": "stream",
     "text": [
      "319it [02:06,  3.29it/s]"
     ]
    },
    {
     "name": "stdout",
     "output_type": "stream",
     "text": [
      "Match found!\n",
      "Match found!\n",
      "Match found!\n"
     ]
    },
    {
     "name": "stderr",
     "output_type": "stream",
     "text": [
      "\r",
      "320it [02:06,  3.34it/s]"
     ]
    },
    {
     "name": "stdout",
     "output_type": "stream",
     "text": [
      "Match found!\n"
     ]
    },
    {
     "name": "stderr",
     "output_type": "stream",
     "text": [
      "\r",
      "321it [02:07,  2.73it/s]"
     ]
    },
    {
     "name": "stdout",
     "output_type": "stream",
     "text": [
      "Match found!\n"
     ]
    },
    {
     "name": "stderr",
     "output_type": "stream",
     "text": [
      "\r",
      "322it [02:08,  2.08it/s]"
     ]
    },
    {
     "name": "stdout",
     "output_type": "stream",
     "text": [
      "Match found!\n"
     ]
    },
    {
     "name": "stderr",
     "output_type": "stream",
     "text": [
      "\r",
      "323it [02:08,  2.23it/s]"
     ]
    },
    {
     "name": "stdout",
     "output_type": "stream",
     "text": [
      "Match found!\n"
     ]
    },
    {
     "name": "stderr",
     "output_type": "stream",
     "text": [
      "\r",
      "324it [02:08,  2.43it/s]"
     ]
    },
    {
     "name": "stdout",
     "output_type": "stream",
     "text": [
      "Match found!\n",
      "Match found!\n"
     ]
    },
    {
     "name": "stderr",
     "output_type": "stream",
     "text": [
      "327it [02:09,  3.58it/s]"
     ]
    },
    {
     "name": "stdout",
     "output_type": "stream",
     "text": [
      "Match found!\n",
      "Match found!\n",
      "Match found!\n"
     ]
    },
    {
     "name": "stderr",
     "output_type": "stream",
     "text": [
      "\r",
      "329it [02:09,  4.34it/s]"
     ]
    },
    {
     "name": "stdout",
     "output_type": "stream",
     "text": [
      "Match found!\n",
      "Match found!\n"
     ]
    },
    {
     "name": "stderr",
     "output_type": "stream",
     "text": [
      "333it [02:11,  3.64it/s]"
     ]
    },
    {
     "name": "stdout",
     "output_type": "stream",
     "text": [
      "Match found!\n",
      "Match found!\n",
      "Match found!\n"
     ]
    },
    {
     "name": "stderr",
     "output_type": "stream",
     "text": [
      "335it [02:12,  2.52it/s]"
     ]
    },
    {
     "name": "stdout",
     "output_type": "stream",
     "text": [
      "Match found!\n",
      "Match found!\n"
     ]
    },
    {
     "name": "stderr",
     "output_type": "stream",
     "text": [
      "\r",
      "337it [02:12,  3.16it/s]"
     ]
    },
    {
     "name": "stdout",
     "output_type": "stream",
     "text": [
      "Match found!\n",
      "Match found!\n"
     ]
    },
    {
     "name": "stderr",
     "output_type": "stream",
     "text": [
      "\r",
      "338it [02:12,  3.76it/s]"
     ]
    },
    {
     "name": "stdout",
     "output_type": "stream",
     "text": [
      "Match found!\n"
     ]
    },
    {
     "name": "stderr",
     "output_type": "stream",
     "text": [
      "340it [02:13,  3.79it/s]"
     ]
    },
    {
     "name": "stdout",
     "output_type": "stream",
     "text": [
      "Match found!\n",
      "Match found!\n"
     ]
    },
    {
     "name": "stderr",
     "output_type": "stream",
     "text": [
      "\r",
      "341it [02:13,  3.20it/s]"
     ]
    },
    {
     "name": "stdout",
     "output_type": "stream",
     "text": [
      "Match found!\n"
     ]
    },
    {
     "name": "stderr",
     "output_type": "stream",
     "text": [
      "\r",
      "342it [02:14,  3.15it/s]"
     ]
    },
    {
     "name": "stdout",
     "output_type": "stream",
     "text": [
      "Match found!\n"
     ]
    },
    {
     "name": "stderr",
     "output_type": "stream",
     "text": [
      "\r",
      "343it [02:15,  1.89it/s]"
     ]
    },
    {
     "name": "stdout",
     "output_type": "stream",
     "text": [
      "Match found!\n"
     ]
    },
    {
     "name": "stderr",
     "output_type": "stream",
     "text": [
      "345it [02:15,  2.56it/s]"
     ]
    },
    {
     "name": "stdout",
     "output_type": "stream",
     "text": [
      "Match found!\n",
      "Match found!\n"
     ]
    },
    {
     "name": "stderr",
     "output_type": "stream",
     "text": [
      "\r",
      "346it [02:15,  3.09it/s]"
     ]
    },
    {
     "name": "stdout",
     "output_type": "stream",
     "text": [
      "Match found!\n"
     ]
    },
    {
     "name": "stderr",
     "output_type": "stream",
     "text": [
      "348it [02:16,  2.80it/s]"
     ]
    },
    {
     "name": "stdout",
     "output_type": "stream",
     "text": [
      "Match found!\n",
      "Match found!\n"
     ]
    },
    {
     "name": "stderr",
     "output_type": "stream",
     "text": [
      "\r",
      "349it [02:16,  3.34it/s]"
     ]
    },
    {
     "name": "stdout",
     "output_type": "stream",
     "text": [
      "Match found!\n"
     ]
    },
    {
     "name": "stderr",
     "output_type": "stream",
     "text": [
      "\r",
      "350it [02:17,  2.31it/s]"
     ]
    },
    {
     "name": "stdout",
     "output_type": "stream",
     "text": [
      "Match found!\n",
      "Match found!\n"
     ]
    },
    {
     "name": "stderr",
     "output_type": "stream",
     "text": [
      "354it [02:18,  3.65it/s]"
     ]
    },
    {
     "name": "stdout",
     "output_type": "stream",
     "text": [
      "Match found!\n",
      "Match found!\n",
      "Match found!\n"
     ]
    },
    {
     "name": "stderr",
     "output_type": "stream",
     "text": [
      "356it [02:18,  3.60it/s]"
     ]
    },
    {
     "name": "stdout",
     "output_type": "stream",
     "text": [
      "Match found!\n",
      "Match found!\n"
     ]
    },
    {
     "name": "stderr",
     "output_type": "stream",
     "text": [
      "\r",
      "357it [02:18,  4.04it/s]"
     ]
    },
    {
     "name": "stdout",
     "output_type": "stream",
     "text": [
      "Match found!\n"
     ]
    },
    {
     "name": "stderr",
     "output_type": "stream",
     "text": [
      "\r",
      "358it [02:19,  4.06it/s]"
     ]
    },
    {
     "name": "stdout",
     "output_type": "stream",
     "text": [
      "Match found!\n"
     ]
    },
    {
     "name": "stderr",
     "output_type": "stream",
     "text": [
      "\r",
      "359it [02:19,  2.81it/s]"
     ]
    },
    {
     "name": "stdout",
     "output_type": "stream",
     "text": [
      "Match found!\n"
     ]
    },
    {
     "name": "stderr",
     "output_type": "stream",
     "text": [
      "\r",
      "360it [02:20,  1.87it/s]"
     ]
    },
    {
     "name": "stdout",
     "output_type": "stream",
     "text": [
      "Match found!\n"
     ]
    },
    {
     "name": "stderr",
     "output_type": "stream",
     "text": [
      "362it [02:21,  2.06it/s]"
     ]
    },
    {
     "name": "stdout",
     "output_type": "stream",
     "text": [
      "Match found!\n",
      "Match found!\n"
     ]
    },
    {
     "name": "stderr",
     "output_type": "stream",
     "text": [
      "364it [02:21,  3.42it/s]"
     ]
    },
    {
     "name": "stdout",
     "output_type": "stream",
     "text": [
      "Match found!\n",
      "Match found!\n",
      "Match found!\n"
     ]
    },
    {
     "name": "stderr",
     "output_type": "stream",
     "text": [
      "367it [02:22,  3.84it/s]"
     ]
    },
    {
     "name": "stdout",
     "output_type": "stream",
     "text": [
      "Match found!\n",
      "Match found!\n"
     ]
    },
    {
     "name": "stderr",
     "output_type": "stream",
     "text": [
      "\r",
      "368it [02:22,  4.33it/s]"
     ]
    },
    {
     "name": "stdout",
     "output_type": "stream",
     "text": [
      "Match found!\n"
     ]
    },
    {
     "name": "stderr",
     "output_type": "stream",
     "text": [
      "370it [02:24,  2.21it/s]"
     ]
    },
    {
     "name": "stdout",
     "output_type": "stream",
     "text": [
      "Match found!\n",
      "Match found!\n"
     ]
    },
    {
     "name": "stderr",
     "output_type": "stream",
     "text": [
      "\r",
      "371it [02:24,  2.67it/s]"
     ]
    },
    {
     "name": "stdout",
     "output_type": "stream",
     "text": [
      "Match found!\n"
     ]
    },
    {
     "name": "stderr",
     "output_type": "stream",
     "text": [
      "373it [02:25,  2.95it/s]"
     ]
    },
    {
     "name": "stdout",
     "output_type": "stream",
     "text": [
      "Match found!\n",
      "Match found!\n"
     ]
    },
    {
     "name": "stderr",
     "output_type": "stream",
     "text": [
      "\r",
      "374it [02:26,  2.17it/s]"
     ]
    },
    {
     "name": "stdout",
     "output_type": "stream",
     "text": [
      "Match found!\n"
     ]
    },
    {
     "name": "stderr",
     "output_type": "stream",
     "text": [
      "\r",
      "375it [02:26,  2.58it/s]"
     ]
    },
    {
     "name": "stdout",
     "output_type": "stream",
     "text": [
      "Match found!\n"
     ]
    },
    {
     "name": "stderr",
     "output_type": "stream",
     "text": [
      "\r",
      "376it [02:26,  2.54it/s]"
     ]
    },
    {
     "name": "stdout",
     "output_type": "stream",
     "text": [
      "Match found!\n"
     ]
    },
    {
     "name": "stderr",
     "output_type": "stream",
     "text": [
      "\r",
      "377it [02:26,  2.84it/s]"
     ]
    },
    {
     "name": "stdout",
     "output_type": "stream",
     "text": [
      "Match found!\n"
     ]
    },
    {
     "name": "stderr",
     "output_type": "stream",
     "text": [
      "379it [02:27,  3.91it/s]"
     ]
    },
    {
     "name": "stdout",
     "output_type": "stream",
     "text": [
      "Match found!\n",
      "Match found!\n"
     ]
    },
    {
     "name": "stderr",
     "output_type": "stream",
     "text": [
      "\r",
      "380it [02:27,  4.44it/s]"
     ]
    },
    {
     "name": "stdout",
     "output_type": "stream",
     "text": [
      "Match found!\n"
     ]
    },
    {
     "name": "stderr",
     "output_type": "stream",
     "text": [
      "382it [02:27,  4.34it/s]"
     ]
    },
    {
     "name": "stdout",
     "output_type": "stream",
     "text": [
      "Match found!\n",
      "Match found!\n"
     ]
    },
    {
     "name": "stderr",
     "output_type": "stream",
     "text": [
      "384it [02:28,  4.66it/s]"
     ]
    },
    {
     "name": "stdout",
     "output_type": "stream",
     "text": [
      "Match found!\n",
      "Match found!\n"
     ]
    },
    {
     "name": "stderr",
     "output_type": "stream",
     "text": [
      "386it [02:29,  3.24it/s]"
     ]
    },
    {
     "name": "stdout",
     "output_type": "stream",
     "text": [
      "Match found!\n",
      "Match found!\n"
     ]
    },
    {
     "name": "stderr",
     "output_type": "stream",
     "text": [
      "\r",
      "387it [02:29,  3.76it/s]"
     ]
    },
    {
     "name": "stdout",
     "output_type": "stream",
     "text": [
      "Match found!\n"
     ]
    },
    {
     "name": "stderr",
     "output_type": "stream",
     "text": [
      "\r",
      "388it [02:29,  4.01it/s]"
     ]
    },
    {
     "name": "stdout",
     "output_type": "stream",
     "text": [
      "Match found!\n"
     ]
    },
    {
     "name": "stderr",
     "output_type": "stream",
     "text": [
      "\r",
      "389it [02:30,  1.81it/s]"
     ]
    },
    {
     "name": "stdout",
     "output_type": "stream",
     "text": [
      "Match found!\n"
     ]
    },
    {
     "name": "stderr",
     "output_type": "stream",
     "text": [
      "\r",
      "390it [02:32,  1.39it/s]"
     ]
    },
    {
     "name": "stdout",
     "output_type": "stream",
     "text": [
      "Match found!\n"
     ]
    },
    {
     "name": "stderr",
     "output_type": "stream",
     "text": [
      "\r",
      "391it [02:37,  2.05s/it]"
     ]
    },
    {
     "name": "stdout",
     "output_type": "stream",
     "text": [
      "Match found!\n"
     ]
    },
    {
     "name": "stderr",
     "output_type": "stream",
     "text": [
      "\r",
      "392it [02:37,  1.66s/it]"
     ]
    },
    {
     "name": "stdout",
     "output_type": "stream",
     "text": [
      "Match found!\n"
     ]
    },
    {
     "name": "stderr",
     "output_type": "stream",
     "text": [
      "\r",
      "393it [02:38,  1.34s/it]"
     ]
    },
    {
     "name": "stdout",
     "output_type": "stream",
     "text": [
      "Match found!\n"
     ]
    },
    {
     "name": "stderr",
     "output_type": "stream",
     "text": [
      "395it [02:39,  1.27it/s]"
     ]
    },
    {
     "name": "stdout",
     "output_type": "stream",
     "text": [
      "Match found!\n",
      "Match found!\n"
     ]
    },
    {
     "name": "stderr",
     "output_type": "stream",
     "text": [
      "\r",
      "396it [02:39,  1.68it/s]"
     ]
    },
    {
     "name": "stdout",
     "output_type": "stream",
     "text": [
      "Match found!\n",
      "Match found!\n"
     ]
    },
    {
     "name": "stderr",
     "output_type": "stream",
     "text": [
      "\r",
      "398it [02:39,  2.21it/s]"
     ]
    },
    {
     "name": "stdout",
     "output_type": "stream",
     "text": [
      "Match found!\n"
     ]
    },
    {
     "name": "stderr",
     "output_type": "stream",
     "text": [
      "\r",
      "399it [02:40,  1.91it/s]"
     ]
    },
    {
     "name": "stdout",
     "output_type": "stream",
     "text": [
      "Match found!\n"
     ]
    },
    {
     "name": "stderr",
     "output_type": "stream",
     "text": [
      "401it [02:41,  2.16it/s]"
     ]
    },
    {
     "name": "stdout",
     "output_type": "stream",
     "text": [
      "Match found!\n",
      "Match found!\n"
     ]
    },
    {
     "name": "stderr",
     "output_type": "stream",
     "text": [
      "\r",
      "402it [02:41,  2.42it/s]"
     ]
    },
    {
     "name": "stdout",
     "output_type": "stream",
     "text": [
      "Match found!\n"
     ]
    },
    {
     "name": "stderr",
     "output_type": "stream",
     "text": [
      "\r",
      "403it [02:41,  2.45it/s]"
     ]
    },
    {
     "name": "stdout",
     "output_type": "stream",
     "text": [
      "Match found!\n"
     ]
    },
    {
     "name": "stderr",
     "output_type": "stream",
     "text": [
      "\r",
      "404it [02:42,  2.62it/s]"
     ]
    },
    {
     "name": "stdout",
     "output_type": "stream",
     "text": [
      "Match found!\n"
     ]
    },
    {
     "name": "stderr",
     "output_type": "stream",
     "text": [
      "408it [02:42,  4.98it/s]"
     ]
    },
    {
     "name": "stdout",
     "output_type": "stream",
     "text": [
      "Match found!\n",
      "Match found!\n",
      "Match found!\n",
      "Match found!\n"
     ]
    },
    {
     "name": "stderr",
     "output_type": "stream",
     "text": [
      "\r",
      "409it [02:42,  4.17it/s]"
     ]
    },
    {
     "name": "stdout",
     "output_type": "stream",
     "text": [
      "Match found!\n"
     ]
    },
    {
     "name": "stderr",
     "output_type": "stream",
     "text": [
      "411it [02:43,  5.01it/s]"
     ]
    },
    {
     "name": "stdout",
     "output_type": "stream",
     "text": [
      "Match found!\n",
      "Match found!\n"
     ]
    },
    {
     "name": "stderr",
     "output_type": "stream",
     "text": [
      "413it [02:44,  2.90it/s]"
     ]
    },
    {
     "name": "stdout",
     "output_type": "stream",
     "text": [
      "Match found!\n",
      "Match found!\n"
     ]
    },
    {
     "name": "stderr",
     "output_type": "stream",
     "text": [
      "\r",
      "414it [02:46,  1.05s/it]"
     ]
    },
    {
     "name": "stdout",
     "output_type": "stream",
     "text": [
      "Match found!\n"
     ]
    },
    {
     "name": "stderr",
     "output_type": "stream",
     "text": [
      "416it [02:48,  1.12it/s]"
     ]
    },
    {
     "name": "stdout",
     "output_type": "stream",
     "text": [
      "Match found!\n",
      "Match found!\n"
     ]
    },
    {
     "name": "stderr",
     "output_type": "stream",
     "text": [
      "\r",
      "418it [02:48,  1.54it/s]"
     ]
    },
    {
     "name": "stdout",
     "output_type": "stream",
     "text": [
      "Match found!\n",
      "Match found!\n"
     ]
    },
    {
     "name": "stderr",
     "output_type": "stream",
     "text": [
      "\r",
      "419it [02:49,  1.96it/s]"
     ]
    },
    {
     "name": "stdout",
     "output_type": "stream",
     "text": [
      "Match found!\n"
     ]
    },
    {
     "name": "stderr",
     "output_type": "stream",
     "text": [
      "422it [02:49,  3.14it/s]"
     ]
    },
    {
     "name": "stdout",
     "output_type": "stream",
     "text": [
      "Match found!\n",
      "Match found!\n",
      "Match found!\n"
     ]
    },
    {
     "name": "stderr",
     "output_type": "stream",
     "text": [
      "424it [02:50,  2.70it/s]"
     ]
    },
    {
     "name": "stdout",
     "output_type": "stream",
     "text": [
      "Match found!\n",
      "Match found!\n"
     ]
    },
    {
     "name": "stderr",
     "output_type": "stream",
     "text": [
      "\r",
      "425it [02:51,  1.86it/s]"
     ]
    },
    {
     "name": "stdout",
     "output_type": "stream",
     "text": [
      "Match found!\n"
     ]
    },
    {
     "name": "stderr",
     "output_type": "stream",
     "text": [
      "\r",
      "426it [02:52,  1.23it/s]"
     ]
    },
    {
     "name": "stdout",
     "output_type": "stream",
     "text": [
      "Match found!\n"
     ]
    },
    {
     "name": "stderr",
     "output_type": "stream",
     "text": [
      "\r",
      "427it [02:53,  1.40it/s]"
     ]
    },
    {
     "name": "stdout",
     "output_type": "stream",
     "text": [
      "Match found!\n"
     ]
    },
    {
     "name": "stderr",
     "output_type": "stream",
     "text": [
      "\r",
      "428it [02:53,  1.56it/s]"
     ]
    },
    {
     "name": "stdout",
     "output_type": "stream",
     "text": [
      "Match found!\n"
     ]
    },
    {
     "name": "stderr",
     "output_type": "stream",
     "text": [
      "\r",
      "429it [02:55,  1.05s/it]"
     ]
    },
    {
     "name": "stdout",
     "output_type": "stream",
     "text": [
      "Match found!\n",
      "Match found!\n"
     ]
    },
    {
     "name": "stderr",
     "output_type": "stream",
     "text": [
      "432it [02:56,  1.65it/s]"
     ]
    },
    {
     "name": "stdout",
     "output_type": "stream",
     "text": [
      "Match found!\n",
      "Match found!\n"
     ]
    },
    {
     "name": "stderr",
     "output_type": "stream",
     "text": [
      "\r",
      "433it [02:56,  1.72it/s]"
     ]
    },
    {
     "name": "stdout",
     "output_type": "stream",
     "text": [
      "Match found!\n"
     ]
    },
    {
     "name": "stderr",
     "output_type": "stream",
     "text": [
      "\r",
      "434it [02:59,  1.27s/it]"
     ]
    },
    {
     "name": "stdout",
     "output_type": "stream",
     "text": [
      "Match found!\n"
     ]
    },
    {
     "name": "stderr",
     "output_type": "stream",
     "text": [
      "\r",
      "435it [03:00,  1.05it/s]"
     ]
    },
    {
     "name": "stdout",
     "output_type": "stream",
     "text": [
      "Match found!\n",
      "Match found!\n"
     ]
    },
    {
     "name": "stderr",
     "output_type": "stream",
     "text": [
      "438it [03:00,  1.72it/s]"
     ]
    },
    {
     "name": "stdout",
     "output_type": "stream",
     "text": [
      "Match found!\n",
      "Match found!\n"
     ]
    },
    {
     "name": "stderr",
     "output_type": "stream",
     "text": [
      "\r",
      "439it [03:01,  1.97it/s]"
     ]
    },
    {
     "name": "stdout",
     "output_type": "stream",
     "text": [
      "Match found!\n"
     ]
    },
    {
     "name": "stderr",
     "output_type": "stream",
     "text": [
      "\r",
      "440it [03:01,  1.82it/s]"
     ]
    },
    {
     "name": "stdout",
     "output_type": "stream",
     "text": [
      "Match found!\n"
     ]
    },
    {
     "name": "stderr",
     "output_type": "stream",
     "text": [
      "442it [03:02,  2.56it/s]"
     ]
    },
    {
     "name": "stdout",
     "output_type": "stream",
     "text": [
      "Match found!\n",
      "Match found!\n"
     ]
    },
    {
     "name": "stderr",
     "output_type": "stream",
     "text": [
      "444it [03:02,  3.44it/s]"
     ]
    },
    {
     "name": "stdout",
     "output_type": "stream",
     "text": [
      "Match found!\n",
      "Match found!\n"
     ]
    },
    {
     "name": "stderr",
     "output_type": "stream",
     "text": [
      "446it [03:03,  4.54it/s]"
     ]
    },
    {
     "name": "stdout",
     "output_type": "stream",
     "text": [
      "Match found!\n",
      "Match found!\n",
      "Match found!\n"
     ]
    },
    {
     "name": "stderr",
     "output_type": "stream",
     "text": [
      "\r",
      "448it [03:03,  5.48it/s]"
     ]
    },
    {
     "name": "stdout",
     "output_type": "stream",
     "text": [
      "Match found!\n",
      "Match found!\n"
     ]
    },
    {
     "name": "stderr",
     "output_type": "stream",
     "text": [
      "\r",
      "450it [03:03,  4.84it/s]"
     ]
    },
    {
     "name": "stdout",
     "output_type": "stream",
     "text": [
      "Match found!\n",
      "Match found!\n"
     ]
    },
    {
     "name": "stderr",
     "output_type": "stream",
     "text": [
      "\r",
      "452it [03:04,  3.90it/s]"
     ]
    },
    {
     "name": "stdout",
     "output_type": "stream",
     "text": [
      "Match found!\n"
     ]
    },
    {
     "name": "stderr",
     "output_type": "stream",
     "text": [
      "454it [03:04,  4.31it/s]"
     ]
    },
    {
     "name": "stdout",
     "output_type": "stream",
     "text": [
      "Match found!\n",
      "Match found!\n",
      "Match found!\n"
     ]
    },
    {
     "name": "stderr",
     "output_type": "stream",
     "text": [
      "\r",
      "456it [03:05,  3.93it/s]"
     ]
    },
    {
     "name": "stdout",
     "output_type": "stream",
     "text": [
      "Match found!\n"
     ]
    },
    {
     "name": "stderr",
     "output_type": "stream",
     "text": [
      "\r",
      "457it [03:05,  3.30it/s]"
     ]
    },
    {
     "name": "stdout",
     "output_type": "stream",
     "text": [
      "Match found!\n"
     ]
    },
    {
     "name": "stderr",
     "output_type": "stream",
     "text": [
      "459it [03:06,  3.65it/s]"
     ]
    },
    {
     "name": "stdout",
     "output_type": "stream",
     "text": [
      "Match found!\n",
      "Match found!\n"
     ]
    },
    {
     "name": "stderr",
     "output_type": "stream",
     "text": [
      "461it [03:07,  3.24it/s]"
     ]
    },
    {
     "name": "stdout",
     "output_type": "stream",
     "text": [
      "Match found!\n",
      "Match found!\n"
     ]
    },
    {
     "name": "stderr",
     "output_type": "stream",
     "text": [
      "\r",
      "462it [03:08,  1.32it/s]"
     ]
    },
    {
     "name": "stdout",
     "output_type": "stream",
     "text": [
      "Match found!\n"
     ]
    },
    {
     "name": "stderr",
     "output_type": "stream",
     "text": [
      "\r",
      "463it [03:10,  1.07it/s]"
     ]
    },
    {
     "name": "stdout",
     "output_type": "stream",
     "text": [
      "Match found!\n"
     ]
    },
    {
     "name": "stderr",
     "output_type": "stream",
     "text": [
      "\r",
      "464it [03:10,  1.20it/s]"
     ]
    },
    {
     "name": "stdout",
     "output_type": "stream",
     "text": [
      "Match found!\n"
     ]
    },
    {
     "name": "stderr",
     "output_type": "stream",
     "text": [
      "\r",
      "465it [03:11,  1.22it/s]"
     ]
    },
    {
     "name": "stdout",
     "output_type": "stream",
     "text": [
      "Match found!\n"
     ]
    },
    {
     "name": "stderr",
     "output_type": "stream",
     "text": [
      "\r",
      "466it [03:12,  1.42it/s]"
     ]
    },
    {
     "name": "stdout",
     "output_type": "stream",
     "text": [
      "Match found!\n"
     ]
    },
    {
     "name": "stderr",
     "output_type": "stream",
     "text": [
      "\r",
      "467it [03:12,  1.47it/s]"
     ]
    },
    {
     "name": "stdout",
     "output_type": "stream",
     "text": [
      "Match found!\n",
      "Match found!\n"
     ]
    },
    {
     "name": "stderr",
     "output_type": "stream",
     "text": [
      "\r",
      "469it [03:13,  1.94it/s]"
     ]
    },
    {
     "name": "stdout",
     "output_type": "stream",
     "text": [
      "Match found!\n",
      "Match found!\n"
     ]
    },
    {
     "name": "stderr",
     "output_type": "stream",
     "text": [
      "472it [03:13,  2.70it/s]"
     ]
    },
    {
     "name": "stdout",
     "output_type": "stream",
     "text": [
      "Match found!\n",
      "Match found!\n"
     ]
    },
    {
     "name": "stderr",
     "output_type": "stream",
     "text": [
      "475it [03:14,  4.08it/s]"
     ]
    },
    {
     "name": "stdout",
     "output_type": "stream",
     "text": [
      "Match found!\n",
      "Match found!\n",
      "Match found!\n"
     ]
    },
    {
     "name": "stderr",
     "output_type": "stream",
     "text": [
      "\r",
      "476it [03:14,  3.20it/s]"
     ]
    },
    {
     "name": "stdout",
     "output_type": "stream",
     "text": [
      "Match found!\n",
      "Match found!\n"
     ]
    },
    {
     "name": "stderr",
     "output_type": "stream",
     "text": [
      "\r",
      "478it [03:15,  3.52it/s]"
     ]
    },
    {
     "name": "stdout",
     "output_type": "stream",
     "text": [
      "Match found!\n"
     ]
    },
    {
     "name": "stderr",
     "output_type": "stream",
     "text": [
      "480it [03:15,  4.09it/s]"
     ]
    },
    {
     "name": "stdout",
     "output_type": "stream",
     "text": [
      "Match found!\n",
      "Match found!\n"
     ]
    },
    {
     "name": "stderr",
     "output_type": "stream",
     "text": [
      "\r",
      "481it [03:16,  2.37it/s]"
     ]
    },
    {
     "name": "stdout",
     "output_type": "stream",
     "text": [
      "Match found!\n"
     ]
    },
    {
     "name": "stderr",
     "output_type": "stream",
     "text": [
      "\r",
      "482it [03:17,  2.16it/s]"
     ]
    },
    {
     "name": "stdout",
     "output_type": "stream",
     "text": [
      "Match found!\n"
     ]
    },
    {
     "name": "stderr",
     "output_type": "stream",
     "text": [
      "\r",
      "483it [03:17,  2.20it/s]"
     ]
    },
    {
     "name": "stdout",
     "output_type": "stream",
     "text": [
      "Match found!\n"
     ]
    },
    {
     "name": "stderr",
     "output_type": "stream",
     "text": [
      "\r",
      "484it [03:18,  1.83it/s]"
     ]
    },
    {
     "name": "stdout",
     "output_type": "stream",
     "text": [
      "Match found!\n"
     ]
    },
    {
     "name": "stderr",
     "output_type": "stream",
     "text": [
      "486it [03:18,  2.56it/s]"
     ]
    },
    {
     "name": "stdout",
     "output_type": "stream",
     "text": [
      "Match found!\n",
      "Match found!\n"
     ]
    },
    {
     "name": "stderr",
     "output_type": "stream",
     "text": [
      "\r",
      "487it [03:18,  3.19it/s]"
     ]
    },
    {
     "name": "stdout",
     "output_type": "stream",
     "text": [
      "Match found!\n",
      "Match found!\n"
     ]
    },
    {
     "name": "stderr",
     "output_type": "stream",
     "text": [
      "490it [03:19,  3.52it/s]"
     ]
    },
    {
     "name": "stdout",
     "output_type": "stream",
     "text": [
      "Match found!\n",
      "Match found!\n"
     ]
    },
    {
     "name": "stderr",
     "output_type": "stream",
     "text": [
      "\r",
      "491it [03:20,  4.09it/s]"
     ]
    },
    {
     "name": "stdout",
     "output_type": "stream",
     "text": [
      "Match found!\n",
      "Match found!\n"
     ]
    },
    {
     "name": "stderr",
     "output_type": "stream",
     "text": [
      "\r",
      "493it [03:20,  3.89it/s]"
     ]
    },
    {
     "name": "stdout",
     "output_type": "stream",
     "text": [
      "Match found!\n"
     ]
    },
    {
     "name": "stderr",
     "output_type": "stream",
     "text": [
      "\r",
      "494it [03:20,  4.07it/s]"
     ]
    },
    {
     "name": "stdout",
     "output_type": "stream",
     "text": [
      "Match found!\n"
     ]
    },
    {
     "name": "stderr",
     "output_type": "stream",
     "text": [
      "\r",
      "495it [03:22,  1.57it/s]"
     ]
    },
    {
     "name": "stdout",
     "output_type": "stream",
     "text": [
      "Match found!\n"
     ]
    },
    {
     "name": "stderr",
     "output_type": "stream",
     "text": [
      "\r",
      "496it [03:22,  1.88it/s]"
     ]
    },
    {
     "name": "stdout",
     "output_type": "stream",
     "text": [
      "Match found!\n"
     ]
    },
    {
     "name": "stderr",
     "output_type": "stream",
     "text": [
      "\r",
      "497it [03:23,  1.52it/s]"
     ]
    },
    {
     "name": "stdout",
     "output_type": "stream",
     "text": [
      "Match found!\n",
      "Match found!\n"
     ]
    },
    {
     "name": "stderr",
     "output_type": "stream",
     "text": [
      "\r",
      "499it [03:25,  1.40it/s]"
     ]
    },
    {
     "name": "stdout",
     "output_type": "stream",
     "text": [
      "Match found!\n"
     ]
    },
    {
     "name": "stderr",
     "output_type": "stream",
     "text": [
      "501it [03:26,  1.64it/s]"
     ]
    },
    {
     "name": "stdout",
     "output_type": "stream",
     "text": [
      "Match found!\n",
      "Match found!\n"
     ]
    },
    {
     "name": "stderr",
     "output_type": "stream",
     "text": [
      "\r",
      "502it [03:27,  1.22it/s]"
     ]
    },
    {
     "name": "stdout",
     "output_type": "stream",
     "text": [
      "Match found!\n"
     ]
    },
    {
     "name": "stderr",
     "output_type": "stream",
     "text": [
      "\r",
      "503it [03:28,  1.30it/s]"
     ]
    },
    {
     "name": "stdout",
     "output_type": "stream",
     "text": [
      "Match found!\n"
     ]
    },
    {
     "name": "stderr",
     "output_type": "stream",
     "text": [
      "505it [03:29,  1.57it/s]"
     ]
    },
    {
     "name": "stdout",
     "output_type": "stream",
     "text": [
      "Match found!\n",
      "Match found!\n"
     ]
    },
    {
     "name": "stderr",
     "output_type": "stream",
     "text": [
      "\r",
      "506it [03:29,  2.01it/s]"
     ]
    },
    {
     "name": "stdout",
     "output_type": "stream",
     "text": [
      "Match found!\n"
     ]
    },
    {
     "name": "stderr",
     "output_type": "stream",
     "text": [
      "\r",
      "507it [03:30,  1.65it/s]"
     ]
    },
    {
     "name": "stdout",
     "output_type": "stream",
     "text": [
      "Match found!\n",
      "Match found!\n"
     ]
    },
    {
     "name": "stderr",
     "output_type": "stream",
     "text": [
      "\r",
      "509it [03:30,  2.18it/s]"
     ]
    },
    {
     "name": "stdout",
     "output_type": "stream",
     "text": [
      "Match found!\n"
     ]
    },
    {
     "name": "stderr",
     "output_type": "stream",
     "text": [
      "\r",
      "510it [03:31,  2.31it/s]"
     ]
    },
    {
     "name": "stdout",
     "output_type": "stream",
     "text": [
      "Match found!\n"
     ]
    },
    {
     "name": "stderr",
     "output_type": "stream",
     "text": [
      "512it [03:31,  3.34it/s]"
     ]
    },
    {
     "name": "stdout",
     "output_type": "stream",
     "text": [
      "Match found!\n",
      "Match found!\n",
      "Match found!\n"
     ]
    },
    {
     "name": "stderr",
     "output_type": "stream",
     "text": [
      "\r",
      "514it [03:31,  4.16it/s]"
     ]
    },
    {
     "name": "stdout",
     "output_type": "stream",
     "text": [
      "Match found!\n"
     ]
    },
    {
     "name": "stderr",
     "output_type": "stream",
     "text": [
      "\r",
      "515it [03:32,  3.44it/s]"
     ]
    },
    {
     "name": "stdout",
     "output_type": "stream",
     "text": [
      "Match found!\n"
     ]
    },
    {
     "name": "stderr",
     "output_type": "stream",
     "text": [
      "\r",
      "516it [03:33,  2.03it/s]"
     ]
    },
    {
     "name": "stdout",
     "output_type": "stream",
     "text": [
      "Match found!\n"
     ]
    },
    {
     "name": "stderr",
     "output_type": "stream",
     "text": [
      "\r",
      "517it [03:33,  1.93it/s]"
     ]
    },
    {
     "name": "stdout",
     "output_type": "stream",
     "text": [
      "Match found!\n"
     ]
    },
    {
     "name": "stderr",
     "output_type": "stream",
     "text": [
      "519it [03:34,  2.59it/s]"
     ]
    },
    {
     "name": "stdout",
     "output_type": "stream",
     "text": [
      "Match found!\n",
      "Match found!\n"
     ]
    },
    {
     "name": "stderr",
     "output_type": "stream",
     "text": [
      "\r",
      "520it [03:34,  2.78it/s]"
     ]
    },
    {
     "name": "stdout",
     "output_type": "stream",
     "text": [
      "Match found!\n"
     ]
    },
    {
     "name": "stderr",
     "output_type": "stream",
     "text": [
      "\r",
      "521it [03:35,  2.52it/s]"
     ]
    },
    {
     "name": "stdout",
     "output_type": "stream",
     "text": [
      "Match found!\n"
     ]
    },
    {
     "name": "stderr",
     "output_type": "stream",
     "text": [
      "524it [03:36,  2.17it/s]"
     ]
    },
    {
     "name": "stdout",
     "output_type": "stream",
     "text": [
      "Match found!\n",
      "Match found!\n",
      "Match found!\n"
     ]
    },
    {
     "name": "stderr",
     "output_type": "stream",
     "text": [
      "\r",
      "525it [03:37,  1.65it/s]"
     ]
    },
    {
     "name": "stdout",
     "output_type": "stream",
     "text": [
      "Match found!\n"
     ]
    },
    {
     "name": "stderr",
     "output_type": "stream",
     "text": [
      "\r",
      "526it [03:38,  1.47it/s]"
     ]
    },
    {
     "name": "stdout",
     "output_type": "stream",
     "text": [
      "Match found!\n"
     ]
    },
    {
     "name": "stderr",
     "output_type": "stream",
     "text": [
      "\r",
      "527it [03:38,  1.42it/s]"
     ]
    },
    {
     "name": "stdout",
     "output_type": "stream",
     "text": [
      "Match found!\n",
      "Match found!\n"
     ]
    },
    {
     "name": "stderr",
     "output_type": "stream",
     "text": [
      "531it [03:39,  2.61it/s]"
     ]
    },
    {
     "name": "stdout",
     "output_type": "stream",
     "text": [
      "Match found!\n",
      "Match found!\n",
      "Match found!\n"
     ]
    },
    {
     "name": "stderr",
     "output_type": "stream",
     "text": [
      "\r",
      "532it [03:39,  2.81it/s]"
     ]
    },
    {
     "name": "stdout",
     "output_type": "stream",
     "text": [
      "Match found!\n"
     ]
    },
    {
     "name": "stderr",
     "output_type": "stream",
     "text": [
      "\r",
      "533it [03:39,  2.93it/s]"
     ]
    },
    {
     "name": "stdout",
     "output_type": "stream",
     "text": [
      "Match found!\n"
     ]
    },
    {
     "name": "stderr",
     "output_type": "stream",
     "text": [
      "\r",
      "534it [03:40,  2.92it/s]"
     ]
    },
    {
     "name": "stdout",
     "output_type": "stream",
     "text": [
      "Match found!\n"
     ]
    },
    {
     "name": "stderr",
     "output_type": "stream",
     "text": [
      "\r",
      "535it [03:40,  2.47it/s]"
     ]
    },
    {
     "name": "stdout",
     "output_type": "stream",
     "text": [
      "Match found!\n"
     ]
    },
    {
     "name": "stderr",
     "output_type": "stream",
     "text": [
      "\r",
      "536it [03:41,  2.65it/s]"
     ]
    },
    {
     "name": "stdout",
     "output_type": "stream",
     "text": [
      "Match found!\n"
     ]
    },
    {
     "name": "stderr",
     "output_type": "stream",
     "text": [
      "\r",
      "537it [03:41,  2.61it/s]"
     ]
    },
    {
     "name": "stdout",
     "output_type": "stream",
     "text": [
      "Match found!\n"
     ]
    },
    {
     "name": "stderr",
     "output_type": "stream",
     "text": [
      "539it [03:42,  2.82it/s]"
     ]
    },
    {
     "name": "stdout",
     "output_type": "stream",
     "text": [
      "Match found!\n",
      "Match found!\n"
     ]
    },
    {
     "name": "stderr",
     "output_type": "stream",
     "text": [
      "\r",
      "540it [03:42,  2.74it/s]"
     ]
    },
    {
     "name": "stdout",
     "output_type": "stream",
     "text": [
      "Match found!\n"
     ]
    },
    {
     "name": "stderr",
     "output_type": "stream",
     "text": [
      "\r",
      "541it [03:42,  2.91it/s]"
     ]
    },
    {
     "name": "stdout",
     "output_type": "stream",
     "text": [
      "Match found!\n"
     ]
    },
    {
     "name": "stderr",
     "output_type": "stream",
     "text": [
      "\r",
      "542it [03:43,  3.22it/s]"
     ]
    },
    {
     "name": "stdout",
     "output_type": "stream",
     "text": [
      "Match found!\n"
     ]
    },
    {
     "name": "stderr",
     "output_type": "stream",
     "text": [
      "544it [03:43,  3.82it/s]"
     ]
    },
    {
     "name": "stdout",
     "output_type": "stream",
     "text": [
      "Match found!\n",
      "Match found!\n"
     ]
    },
    {
     "name": "stderr",
     "output_type": "stream",
     "text": [
      "\r",
      "545it [03:44,  2.17it/s]"
     ]
    },
    {
     "name": "stdout",
     "output_type": "stream",
     "text": [
      "Match found!\n"
     ]
    },
    {
     "name": "stderr",
     "output_type": "stream",
     "text": [
      "\r",
      "546it [03:44,  2.56it/s]"
     ]
    },
    {
     "name": "stdout",
     "output_type": "stream",
     "text": [
      "Match found!\n"
     ]
    },
    {
     "name": "stderr",
     "output_type": "stream",
     "text": [
      "548it [03:45,  3.58it/s]"
     ]
    },
    {
     "name": "stdout",
     "output_type": "stream",
     "text": [
      "Match found!\n",
      "Match found!\n"
     ]
    },
    {
     "name": "stderr",
     "output_type": "stream",
     "text": [
      "\r",
      "549it [03:45,  4.31it/s]"
     ]
    },
    {
     "name": "stdout",
     "output_type": "stream",
     "text": [
      "Match found!\n"
     ]
    },
    {
     "name": "stderr",
     "output_type": "stream",
     "text": [
      "\r",
      "550it [03:45,  3.79it/s]"
     ]
    },
    {
     "name": "stdout",
     "output_type": "stream",
     "text": [
      "Match found!\n"
     ]
    },
    {
     "name": "stderr",
     "output_type": "stream",
     "text": [
      "553it [03:45,  4.80it/s]"
     ]
    },
    {
     "name": "stdout",
     "output_type": "stream",
     "text": [
      "Match found!\n",
      "Match found!\n",
      "Match found!\n"
     ]
    },
    {
     "name": "stderr",
     "output_type": "stream",
     "text": [
      "\r",
      "555it [03:46,  6.11it/s]"
     ]
    },
    {
     "name": "stdout",
     "output_type": "stream",
     "text": [
      "Match found!\n",
      "Match found!\n"
     ]
    },
    {
     "name": "stderr",
     "output_type": "stream",
     "text": [
      "\r",
      "556it [03:46,  4.79it/s]"
     ]
    },
    {
     "name": "stdout",
     "output_type": "stream",
     "text": [
      "Match found!\n"
     ]
    },
    {
     "name": "stderr",
     "output_type": "stream",
     "text": [
      "558it [03:46,  5.30it/s]"
     ]
    },
    {
     "name": "stdout",
     "output_type": "stream",
     "text": [
      "Match found!\n",
      "Match found!\n"
     ]
    },
    {
     "name": "stderr",
     "output_type": "stream",
     "text": [
      "\r",
      "559it [03:46,  5.86it/s]"
     ]
    },
    {
     "name": "stdout",
     "output_type": "stream",
     "text": [
      "Match found!\n"
     ]
    },
    {
     "name": "stderr",
     "output_type": "stream",
     "text": [
      "\r",
      "560it [03:47,  5.22it/s]"
     ]
    },
    {
     "name": "stdout",
     "output_type": "stream",
     "text": [
      "Match found!\n"
     ]
    },
    {
     "name": "stderr",
     "output_type": "stream",
     "text": [
      "\r",
      "561it [03:47,  4.41it/s]"
     ]
    },
    {
     "name": "stdout",
     "output_type": "stream",
     "text": [
      "Match found!\n"
     ]
    },
    {
     "name": "stderr",
     "output_type": "stream",
     "text": [
      "\r",
      "562it [03:47,  3.78it/s]"
     ]
    },
    {
     "name": "stdout",
     "output_type": "stream",
     "text": [
      "Match found!\n"
     ]
    },
    {
     "name": "stderr",
     "output_type": "stream",
     "text": [
      "\r",
      "563it [03:48,  3.50it/s]"
     ]
    },
    {
     "name": "stdout",
     "output_type": "stream",
     "text": [
      "Match found!\n"
     ]
    },
    {
     "name": "stderr",
     "output_type": "stream",
     "text": [
      "\r",
      "564it [03:48,  3.51it/s]"
     ]
    },
    {
     "name": "stdout",
     "output_type": "stream",
     "text": [
      "Match found!\n"
     ]
    },
    {
     "name": "stderr",
     "output_type": "stream",
     "text": [
      "\r",
      "565it [03:48,  3.39it/s]"
     ]
    },
    {
     "name": "stdout",
     "output_type": "stream",
     "text": [
      "Match found!\n"
     ]
    },
    {
     "name": "stderr",
     "output_type": "stream",
     "text": [
      "\r",
      "566it [03:49,  2.92it/s]"
     ]
    },
    {
     "name": "stdout",
     "output_type": "stream",
     "text": [
      "Match found!\n"
     ]
    },
    {
     "name": "stderr",
     "output_type": "stream",
     "text": [
      "\r",
      "567it [03:50,  1.31it/s]"
     ]
    },
    {
     "name": "stdout",
     "output_type": "stream",
     "text": [
      "Match found!\n"
     ]
    },
    {
     "name": "stderr",
     "output_type": "stream",
     "text": [
      "569it [03:51,  2.01it/s]"
     ]
    },
    {
     "name": "stdout",
     "output_type": "stream",
     "text": [
      "Match found!\n",
      "Match found!\n"
     ]
    },
    {
     "name": "stderr",
     "output_type": "stream",
     "text": [
      "571it [03:51,  2.91it/s]"
     ]
    },
    {
     "name": "stdout",
     "output_type": "stream",
     "text": [
      "Match found!\n"
     ]
    },
    {
     "name": "stderr",
     "output_type": "stream",
     "text": [
      "\r",
      "572it [03:52,  3.30it/s]"
     ]
    },
    {
     "name": "stdout",
     "output_type": "stream",
     "text": [
      "Match found!\n"
     ]
    },
    {
     "name": "stderr",
     "output_type": "stream",
     "text": [
      "\r",
      "573it [03:52,  4.03it/s]"
     ]
    },
    {
     "name": "stdout",
     "output_type": "stream",
     "text": [
      "Match found!\n",
      "Match found!\n"
     ]
    },
    {
     "name": "stderr",
     "output_type": "stream",
     "text": [
      "\r",
      "574it [03:52,  4.00it/s]"
     ]
    },
    {
     "name": "stdout",
     "output_type": "stream",
     "text": [
      "Match found!\n"
     ]
    },
    {
     "name": "stderr",
     "output_type": "stream",
     "text": [
      "\r",
      "575it [03:52,  3.84it/s]"
     ]
    },
    {
     "name": "stdout",
     "output_type": "stream",
     "text": [
      "Match found!\n"
     ]
    },
    {
     "name": "stderr",
     "output_type": "stream",
     "text": [
      "577it [03:53,  4.32it/s]"
     ]
    },
    {
     "name": "stdout",
     "output_type": "stream",
     "text": [
      "Match found!\n",
      "Match found!\n"
     ]
    },
    {
     "name": "stderr",
     "output_type": "stream",
     "text": [
      "579it [03:53,  4.46it/s]"
     ]
    },
    {
     "name": "stdout",
     "output_type": "stream",
     "text": [
      "Match found!\n",
      "Match found!\n"
     ]
    },
    {
     "name": "stderr",
     "output_type": "stream",
     "text": [
      "\r",
      "580it [03:53,  4.22it/s]"
     ]
    },
    {
     "name": "stdout",
     "output_type": "stream",
     "text": [
      "Match found!\n"
     ]
    },
    {
     "name": "stderr",
     "output_type": "stream",
     "text": [
      "\r",
      "581it [03:54,  3.09it/s]"
     ]
    },
    {
     "name": "stdout",
     "output_type": "stream",
     "text": [
      "Match found!\n",
      "Match found!\n"
     ]
    },
    {
     "name": "stderr",
     "output_type": "stream",
     "text": [
      "\r",
      "583it [03:54,  3.21it/s]"
     ]
    },
    {
     "name": "stdout",
     "output_type": "stream",
     "text": [
      "Match found!\n"
     ]
    },
    {
     "name": "stderr",
     "output_type": "stream",
     "text": [
      "585it [03:55,  3.08it/s]"
     ]
    },
    {
     "name": "stdout",
     "output_type": "stream",
     "text": [
      "Match found!\n",
      "Match found!\n"
     ]
    },
    {
     "name": "stderr",
     "output_type": "stream",
     "text": [
      "\r",
      "586it [03:55,  3.61it/s]"
     ]
    },
    {
     "name": "stdout",
     "output_type": "stream",
     "text": [
      "Match found!\n"
     ]
    },
    {
     "name": "stderr",
     "output_type": "stream",
     "text": [
      "\r",
      "587it [03:56,  3.25it/s]"
     ]
    },
    {
     "name": "stdout",
     "output_type": "stream",
     "text": [
      "Match found!\n"
     ]
    },
    {
     "name": "stderr",
     "output_type": "stream",
     "text": [
      "\r",
      "588it [03:56,  2.47it/s]"
     ]
    },
    {
     "name": "stdout",
     "output_type": "stream",
     "text": [
      "Match found!\n",
      "Match found!\n"
     ]
    },
    {
     "name": "stderr",
     "output_type": "stream",
     "text": [
      "\r",
      "590it [03:57,  3.07it/s]"
     ]
    },
    {
     "name": "stdout",
     "output_type": "stream",
     "text": [
      "Match found!\n"
     ]
    },
    {
     "name": "stderr",
     "output_type": "stream",
     "text": [
      "\r",
      "591it [03:57,  3.37it/s]"
     ]
    },
    {
     "name": "stdout",
     "output_type": "stream",
     "text": [
      "Match found!\n"
     ]
    },
    {
     "name": "stderr",
     "output_type": "stream",
     "text": [
      "\r",
      "592it [03:57,  2.99it/s]"
     ]
    },
    {
     "name": "stdout",
     "output_type": "stream",
     "text": [
      "Match found!\n"
     ]
    },
    {
     "name": "stderr",
     "output_type": "stream",
     "text": [
      "\r",
      "593it [03:58,  2.57it/s]"
     ]
    },
    {
     "name": "stdout",
     "output_type": "stream",
     "text": [
      "Match found!\n"
     ]
    },
    {
     "name": "stderr",
     "output_type": "stream",
     "text": [
      "595it [03:58,  3.56it/s]"
     ]
    },
    {
     "name": "stdout",
     "output_type": "stream",
     "text": [
      "Match found!\n",
      "Match found!\n"
     ]
    },
    {
     "name": "stderr",
     "output_type": "stream",
     "text": [
      "597it [03:59,  3.98it/s]"
     ]
    },
    {
     "name": "stdout",
     "output_type": "stream",
     "text": [
      "Match found!\n",
      "Match found!\n"
     ]
    },
    {
     "name": "stderr",
     "output_type": "stream",
     "text": [
      "\r",
      "598it [03:59,  4.14it/s]"
     ]
    },
    {
     "name": "stdout",
     "output_type": "stream",
     "text": [
      "Match found!\n"
     ]
    },
    {
     "name": "stderr",
     "output_type": "stream",
     "text": [
      "\r",
      "599it [04:01,  1.53it/s]"
     ]
    },
    {
     "name": "stdout",
     "output_type": "stream",
     "text": [
      "Match found!\n"
     ]
    },
    {
     "name": "stderr",
     "output_type": "stream",
     "text": [
      "\r",
      "600it [04:01,  1.73it/s]"
     ]
    },
    {
     "name": "stdout",
     "output_type": "stream",
     "text": [
      "Match found!\n"
     ]
    },
    {
     "name": "stderr",
     "output_type": "stream",
     "text": [
      "602it [04:02,  2.35it/s]"
     ]
    },
    {
     "name": "stdout",
     "output_type": "stream",
     "text": [
      "Match found!\n",
      "Match found!\n"
     ]
    },
    {
     "name": "stderr",
     "output_type": "stream",
     "text": [
      "604it [04:02,  3.32it/s]"
     ]
    },
    {
     "name": "stdout",
     "output_type": "stream",
     "text": [
      "Match found!\n",
      "Match found!\n"
     ]
    },
    {
     "name": "stderr",
     "output_type": "stream",
     "text": [
      "\r",
      "606it [04:02,  4.30it/s]"
     ]
    },
    {
     "name": "stdout",
     "output_type": "stream",
     "text": [
      "Match found!\n",
      "Match found!\n"
     ]
    },
    {
     "name": "stderr",
     "output_type": "stream",
     "text": [
      "608it [04:03,  2.67it/s]"
     ]
    },
    {
     "name": "stdout",
     "output_type": "stream",
     "text": [
      "Match found!\n",
      "Match found!\n"
     ]
    },
    {
     "name": "stderr",
     "output_type": "stream",
     "text": [
      "\r",
      "609it [04:05,  1.45it/s]"
     ]
    },
    {
     "name": "stdout",
     "output_type": "stream",
     "text": [
      "Match found!\n"
     ]
    },
    {
     "name": "stderr",
     "output_type": "stream",
     "text": [
      "\r",
      "610it [04:05,  1.78it/s]"
     ]
    },
    {
     "name": "stdout",
     "output_type": "stream",
     "text": [
      "Match found!\n"
     ]
    },
    {
     "name": "stderr",
     "output_type": "stream",
     "text": [
      "613it [04:05,  2.75it/s]"
     ]
    },
    {
     "name": "stdout",
     "output_type": "stream",
     "text": [
      "Match found!\n",
      "Match found!\n",
      "Match found!\n"
     ]
    },
    {
     "name": "stderr",
     "output_type": "stream",
     "text": [
      "615it [04:06,  3.41it/s]"
     ]
    },
    {
     "name": "stdout",
     "output_type": "stream",
     "text": [
      "Match found!\n",
      "Match found!\n"
     ]
    },
    {
     "name": "stderr",
     "output_type": "stream",
     "text": [
      "617it [04:06,  2.50it/s]"
     ]
    },
    {
     "name": "stdout",
     "output_type": "stream",
     "text": [
      "Match found!\n"
     ]
    },
    {
     "name": "stderr",
     "output_type": "stream",
     "text": [
      "\n"
     ]
    }
   ],
   "source": [
    "for i, row in tqdm.tqdm(verif_annots.iterrows()):\n",
    "    \n",
    "    audio_folder = '../../individual_call_analysis/hp_annotation_audio/'\n",
    "    file_path = cca.find_file_in_folder(verif_annots['valid_annotations'][i]+'_hp.WAV', audio_folder)\n",
    "    measurements = split_measure.split_measure_audio(file_path[0],\n",
    "                                  **kwargs)\n",
    "    all_measures.append(measurements)\n",
    "\n"
   ]
  },
  {
   "cell_type": "code",
   "execution_count": 8,
   "metadata": {},
   "outputs": [],
   "source": [
    "all_split_measure = pd.concat(all_measures).reset_index(drop=True)"
   ]
  },
  {
   "cell_type": "code",
   "execution_count": 9,
   "metadata": {},
   "outputs": [
    {
     "data": {
      "text/html": [
       "<div>\n",
       "<style scoped>\n",
       "    .dataframe tbody tr th:only-of-type {\n",
       "        vertical-align: middle;\n",
       "    }\n",
       "\n",
       "    .dataframe tbody tr th {\n",
       "        vertical-align: top;\n",
       "    }\n",
       "\n",
       "    .dataframe thead th {\n",
       "        text-align: right;\n",
       "    }\n",
       "</style>\n",
       "<table border=\"1\" class=\"dataframe\">\n",
       "  <thead>\n",
       "    <tr style=\"text-align: right;\">\n",
       "      <th></th>\n",
       "      <th>value</th>\n",
       "      <th>segment_number</th>\n",
       "      <th>measurement</th>\n",
       "      <th>file_name</th>\n",
       "    </tr>\n",
       "  </thead>\n",
       "  <tbody>\n",
       "    <tr>\n",
       "      <th>0</th>\n",
       "      <td>0.032661</td>\n",
       "      <td>0</td>\n",
       "      <td>rms</td>\n",
       "      <td>matching_annotaudio_Aditya_2018-08-16_21502300...</td>\n",
       "    </tr>\n",
       "    <tr>\n",
       "      <th>1</th>\n",
       "      <td>0.102295</td>\n",
       "      <td>0</td>\n",
       "      <td>peak_amplitude</td>\n",
       "      <td>matching_annotaudio_Aditya_2018-08-16_21502300...</td>\n",
       "    </tr>\n",
       "    <tr>\n",
       "      <th>2</th>\n",
       "      <td>104300.000000</td>\n",
       "      <td>0</td>\n",
       "      <td>minus_XdB_frequency</td>\n",
       "      <td>matching_annotaudio_Aditya_2018-08-16_21502300...</td>\n",
       "    </tr>\n",
       "    <tr>\n",
       "      <th>3</th>\n",
       "      <td>104700.000000</td>\n",
       "      <td>0</td>\n",
       "      <td>dominant_frequencies</td>\n",
       "      <td>matching_annotaudio_Aditya_2018-08-16_21502300...</td>\n",
       "    </tr>\n",
       "    <tr>\n",
       "      <th>4</th>\n",
       "      <td>0.012252</td>\n",
       "      <td>1</td>\n",
       "      <td>rms</td>\n",
       "      <td>matching_annotaudio_Aditya_2018-08-16_21502300...</td>\n",
       "    </tr>\n",
       "    <tr>\n",
       "      <th>...</th>\n",
       "      <td>...</td>\n",
       "      <td>...</td>\n",
       "      <td>...</td>\n",
       "      <td>...</td>\n",
       "    </tr>\n",
       "    <tr>\n",
       "      <th>766332</th>\n",
       "      <td>103120.000000</td>\n",
       "      <td>12</td>\n",
       "      <td>dominant_frequencies</td>\n",
       "      <td>matching_annotaudio_Aditya_2018-08-20_0300-040...</td>\n",
       "    </tr>\n",
       "    <tr>\n",
       "      <th>766333</th>\n",
       "      <td>103600.000000</td>\n",
       "      <td>12</td>\n",
       "      <td>dominant_frequencies</td>\n",
       "      <td>matching_annotaudio_Aditya_2018-08-20_0300-040...</td>\n",
       "    </tr>\n",
       "    <tr>\n",
       "      <th>766334</th>\n",
       "      <td>103840.000000</td>\n",
       "      <td>12</td>\n",
       "      <td>dominant_frequencies</td>\n",
       "      <td>matching_annotaudio_Aditya_2018-08-20_0300-040...</td>\n",
       "    </tr>\n",
       "    <tr>\n",
       "      <th>766335</th>\n",
       "      <td>104540.000000</td>\n",
       "      <td>12</td>\n",
       "      <td>dominant_frequencies</td>\n",
       "      <td>matching_annotaudio_Aditya_2018-08-20_0300-040...</td>\n",
       "    </tr>\n",
       "    <tr>\n",
       "      <th>766336</th>\n",
       "      <td>105100.000000</td>\n",
       "      <td>12</td>\n",
       "      <td>dominant_frequencies</td>\n",
       "      <td>matching_annotaudio_Aditya_2018-08-20_0300-040...</td>\n",
       "    </tr>\n",
       "  </tbody>\n",
       "</table>\n",
       "<p>766337 rows × 4 columns</p>\n",
       "</div>"
      ],
      "text/plain": [
       "                value  segment_number           measurement  \\\n",
       "0            0.032661               0                   rms   \n",
       "1            0.102295               0        peak_amplitude   \n",
       "2       104300.000000               0   minus_XdB_frequency   \n",
       "3       104700.000000               0  dominant_frequencies   \n",
       "4            0.012252               1                   rms   \n",
       "...               ...             ...                   ...   \n",
       "766332  103120.000000              12  dominant_frequencies   \n",
       "766333  103600.000000              12  dominant_frequencies   \n",
       "766334  103840.000000              12  dominant_frequencies   \n",
       "766335  104540.000000              12  dominant_frequencies   \n",
       "766336  105100.000000              12  dominant_frequencies   \n",
       "\n",
       "                                                file_name  \n",
       "0       matching_annotaudio_Aditya_2018-08-16_21502300...  \n",
       "1       matching_annotaudio_Aditya_2018-08-16_21502300...  \n",
       "2       matching_annotaudio_Aditya_2018-08-16_21502300...  \n",
       "3       matching_annotaudio_Aditya_2018-08-16_21502300...  \n",
       "4       matching_annotaudio_Aditya_2018-08-16_21502300...  \n",
       "...                                                   ...  \n",
       "766332  matching_annotaudio_Aditya_2018-08-20_0300-040...  \n",
       "766333  matching_annotaudio_Aditya_2018-08-20_0300-040...  \n",
       "766334  matching_annotaudio_Aditya_2018-08-20_0300-040...  \n",
       "766335  matching_annotaudio_Aditya_2018-08-20_0300-040...  \n",
       "766336  matching_annotaudio_Aditya_2018-08-20_0300-040...  \n",
       "\n",
       "[766337 rows x 4 columns]"
      ]
     },
     "execution_count": 9,
     "metadata": {},
     "output_type": "execute_result"
    }
   ],
   "source": [
    "all_split_measure"
   ]
  },
  {
   "cell_type": "code",
   "execution_count": 10,
   "metadata": {},
   "outputs": [],
   "source": [
    "all_split_measure['unique_window_id'] = all_split_measure['segment_number'].astype(str) +'_'+all_split_measure['file_name'] "
   ]
  },
  {
   "cell_type": "code",
   "execution_count": 11,
   "metadata": {},
   "outputs": [
    {
     "data": {
      "text/html": [
       "<div>\n",
       "<style scoped>\n",
       "    .dataframe tbody tr th:only-of-type {\n",
       "        vertical-align: middle;\n",
       "    }\n",
       "\n",
       "    .dataframe tbody tr th {\n",
       "        vertical-align: top;\n",
       "    }\n",
       "\n",
       "    .dataframe thead th {\n",
       "        text-align: right;\n",
       "    }\n",
       "</style>\n",
       "<table border=\"1\" class=\"dataframe\">\n",
       "  <thead>\n",
       "    <tr style=\"text-align: right;\">\n",
       "      <th></th>\n",
       "      <th>value</th>\n",
       "      <th>segment_number</th>\n",
       "      <th>measurement</th>\n",
       "      <th>file_name</th>\n",
       "      <th>unique_window_id</th>\n",
       "    </tr>\n",
       "  </thead>\n",
       "  <tbody>\n",
       "    <tr>\n",
       "      <th>0</th>\n",
       "      <td>0.032661</td>\n",
       "      <td>0</td>\n",
       "      <td>rms</td>\n",
       "      <td>matching_annotaudio_Aditya_2018-08-16_21502300...</td>\n",
       "      <td>0_matching_annotaudio_Aditya_2018-08-16_215023...</td>\n",
       "    </tr>\n",
       "    <tr>\n",
       "      <th>1</th>\n",
       "      <td>0.102295</td>\n",
       "      <td>0</td>\n",
       "      <td>peak_amplitude</td>\n",
       "      <td>matching_annotaudio_Aditya_2018-08-16_21502300...</td>\n",
       "      <td>0_matching_annotaudio_Aditya_2018-08-16_215023...</td>\n",
       "    </tr>\n",
       "    <tr>\n",
       "      <th>2</th>\n",
       "      <td>104300.000000</td>\n",
       "      <td>0</td>\n",
       "      <td>minus_XdB_frequency</td>\n",
       "      <td>matching_annotaudio_Aditya_2018-08-16_21502300...</td>\n",
       "      <td>0_matching_annotaudio_Aditya_2018-08-16_215023...</td>\n",
       "    </tr>\n",
       "    <tr>\n",
       "      <th>3</th>\n",
       "      <td>104700.000000</td>\n",
       "      <td>0</td>\n",
       "      <td>dominant_frequencies</td>\n",
       "      <td>matching_annotaudio_Aditya_2018-08-16_21502300...</td>\n",
       "      <td>0_matching_annotaudio_Aditya_2018-08-16_215023...</td>\n",
       "    </tr>\n",
       "    <tr>\n",
       "      <th>4</th>\n",
       "      <td>0.012252</td>\n",
       "      <td>1</td>\n",
       "      <td>rms</td>\n",
       "      <td>matching_annotaudio_Aditya_2018-08-16_21502300...</td>\n",
       "      <td>1_matching_annotaudio_Aditya_2018-08-16_215023...</td>\n",
       "    </tr>\n",
       "    <tr>\n",
       "      <th>...</th>\n",
       "      <td>...</td>\n",
       "      <td>...</td>\n",
       "      <td>...</td>\n",
       "      <td>...</td>\n",
       "      <td>...</td>\n",
       "    </tr>\n",
       "    <tr>\n",
       "      <th>766332</th>\n",
       "      <td>103120.000000</td>\n",
       "      <td>12</td>\n",
       "      <td>dominant_frequencies</td>\n",
       "      <td>matching_annotaudio_Aditya_2018-08-20_0300-040...</td>\n",
       "      <td>12_matching_annotaudio_Aditya_2018-08-20_0300-...</td>\n",
       "    </tr>\n",
       "    <tr>\n",
       "      <th>766333</th>\n",
       "      <td>103600.000000</td>\n",
       "      <td>12</td>\n",
       "      <td>dominant_frequencies</td>\n",
       "      <td>matching_annotaudio_Aditya_2018-08-20_0300-040...</td>\n",
       "      <td>12_matching_annotaudio_Aditya_2018-08-20_0300-...</td>\n",
       "    </tr>\n",
       "    <tr>\n",
       "      <th>766334</th>\n",
       "      <td>103840.000000</td>\n",
       "      <td>12</td>\n",
       "      <td>dominant_frequencies</td>\n",
       "      <td>matching_annotaudio_Aditya_2018-08-20_0300-040...</td>\n",
       "      <td>12_matching_annotaudio_Aditya_2018-08-20_0300-...</td>\n",
       "    </tr>\n",
       "    <tr>\n",
       "      <th>766335</th>\n",
       "      <td>104540.000000</td>\n",
       "      <td>12</td>\n",
       "      <td>dominant_frequencies</td>\n",
       "      <td>matching_annotaudio_Aditya_2018-08-20_0300-040...</td>\n",
       "      <td>12_matching_annotaudio_Aditya_2018-08-20_0300-...</td>\n",
       "    </tr>\n",
       "    <tr>\n",
       "      <th>766336</th>\n",
       "      <td>105100.000000</td>\n",
       "      <td>12</td>\n",
       "      <td>dominant_frequencies</td>\n",
       "      <td>matching_annotaudio_Aditya_2018-08-20_0300-040...</td>\n",
       "      <td>12_matching_annotaudio_Aditya_2018-08-20_0300-...</td>\n",
       "    </tr>\n",
       "  </tbody>\n",
       "</table>\n",
       "<p>766337 rows × 5 columns</p>\n",
       "</div>"
      ],
      "text/plain": [
       "                value  segment_number           measurement  \\\n",
       "0            0.032661               0                   rms   \n",
       "1            0.102295               0        peak_amplitude   \n",
       "2       104300.000000               0   minus_XdB_frequency   \n",
       "3       104700.000000               0  dominant_frequencies   \n",
       "4            0.012252               1                   rms   \n",
       "...               ...             ...                   ...   \n",
       "766332  103120.000000              12  dominant_frequencies   \n",
       "766333  103600.000000              12  dominant_frequencies   \n",
       "766334  103840.000000              12  dominant_frequencies   \n",
       "766335  104540.000000              12  dominant_frequencies   \n",
       "766336  105100.000000              12  dominant_frequencies   \n",
       "\n",
       "                                                file_name  \\\n",
       "0       matching_annotaudio_Aditya_2018-08-16_21502300...   \n",
       "1       matching_annotaudio_Aditya_2018-08-16_21502300...   \n",
       "2       matching_annotaudio_Aditya_2018-08-16_21502300...   \n",
       "3       matching_annotaudio_Aditya_2018-08-16_21502300...   \n",
       "4       matching_annotaudio_Aditya_2018-08-16_21502300...   \n",
       "...                                                   ...   \n",
       "766332  matching_annotaudio_Aditya_2018-08-20_0300-040...   \n",
       "766333  matching_annotaudio_Aditya_2018-08-20_0300-040...   \n",
       "766334  matching_annotaudio_Aditya_2018-08-20_0300-040...   \n",
       "766335  matching_annotaudio_Aditya_2018-08-20_0300-040...   \n",
       "766336  matching_annotaudio_Aditya_2018-08-20_0300-040...   \n",
       "\n",
       "                                         unique_window_id  \n",
       "0       0_matching_annotaudio_Aditya_2018-08-16_215023...  \n",
       "1       0_matching_annotaudio_Aditya_2018-08-16_215023...  \n",
       "2       0_matching_annotaudio_Aditya_2018-08-16_215023...  \n",
       "3       0_matching_annotaudio_Aditya_2018-08-16_215023...  \n",
       "4       1_matching_annotaudio_Aditya_2018-08-16_215023...  \n",
       "...                                                   ...  \n",
       "766332  12_matching_annotaudio_Aditya_2018-08-20_0300-...  \n",
       "766333  12_matching_annotaudio_Aditya_2018-08-20_0300-...  \n",
       "766334  12_matching_annotaudio_Aditya_2018-08-20_0300-...  \n",
       "766335  12_matching_annotaudio_Aditya_2018-08-20_0300-...  \n",
       "766336  12_matching_annotaudio_Aditya_2018-08-20_0300-...  \n",
       "\n",
       "[766337 rows x 5 columns]"
      ]
     },
     "execution_count": 11,
     "metadata": {},
     "output_type": "execute_result"
    }
   ],
   "source": [
    "all_split_measure"
   ]
  },
  {
   "cell_type": "code",
   "execution_count": 27,
   "metadata": {},
   "outputs": [
    {
     "data": {
      "application/javascript": [
       "/* Put everything inside the global mpl namespace */\n",
       "window.mpl = {};\n",
       "\n",
       "\n",
       "mpl.get_websocket_type = function() {\n",
       "    if (typeof(WebSocket) !== 'undefined') {\n",
       "        return WebSocket;\n",
       "    } else if (typeof(MozWebSocket) !== 'undefined') {\n",
       "        return MozWebSocket;\n",
       "    } else {\n",
       "        alert('Your browser does not have WebSocket support. ' +\n",
       "              'Please try Chrome, Safari or Firefox ≥ 6. ' +\n",
       "              'Firefox 4 and 5 are also supported but you ' +\n",
       "              'have to enable WebSockets in about:config.');\n",
       "    };\n",
       "}\n",
       "\n",
       "mpl.figure = function(figure_id, websocket, ondownload, parent_element) {\n",
       "    this.id = figure_id;\n",
       "\n",
       "    this.ws = websocket;\n",
       "\n",
       "    this.supports_binary = (this.ws.binaryType != undefined);\n",
       "\n",
       "    if (!this.supports_binary) {\n",
       "        var warnings = document.getElementById(\"mpl-warnings\");\n",
       "        if (warnings) {\n",
       "            warnings.style.display = 'block';\n",
       "            warnings.textContent = (\n",
       "                \"This browser does not support binary websocket messages. \" +\n",
       "                    \"Performance may be slow.\");\n",
       "        }\n",
       "    }\n",
       "\n",
       "    this.imageObj = new Image();\n",
       "\n",
       "    this.context = undefined;\n",
       "    this.message = undefined;\n",
       "    this.canvas = undefined;\n",
       "    this.rubberband_canvas = undefined;\n",
       "    this.rubberband_context = undefined;\n",
       "    this.format_dropdown = undefined;\n",
       "\n",
       "    this.image_mode = 'full';\n",
       "\n",
       "    this.root = $('<div/>');\n",
       "    this._root_extra_style(this.root)\n",
       "    this.root.attr('style', 'display: inline-block');\n",
       "\n",
       "    $(parent_element).append(this.root);\n",
       "\n",
       "    this._init_header(this);\n",
       "    this._init_canvas(this);\n",
       "    this._init_toolbar(this);\n",
       "\n",
       "    var fig = this;\n",
       "\n",
       "    this.waiting = false;\n",
       "\n",
       "    this.ws.onopen =  function () {\n",
       "            fig.send_message(\"supports_binary\", {value: fig.supports_binary});\n",
       "            fig.send_message(\"send_image_mode\", {});\n",
       "            if (mpl.ratio != 1) {\n",
       "                fig.send_message(\"set_dpi_ratio\", {'dpi_ratio': mpl.ratio});\n",
       "            }\n",
       "            fig.send_message(\"refresh\", {});\n",
       "        }\n",
       "\n",
       "    this.imageObj.onload = function() {\n",
       "            if (fig.image_mode == 'full') {\n",
       "                // Full images could contain transparency (where diff images\n",
       "                // almost always do), so we need to clear the canvas so that\n",
       "                // there is no ghosting.\n",
       "                fig.context.clearRect(0, 0, fig.canvas.width, fig.canvas.height);\n",
       "            }\n",
       "            fig.context.drawImage(fig.imageObj, 0, 0);\n",
       "        };\n",
       "\n",
       "    this.imageObj.onunload = function() {\n",
       "        fig.ws.close();\n",
       "    }\n",
       "\n",
       "    this.ws.onmessage = this._make_on_message_function(this);\n",
       "\n",
       "    this.ondownload = ondownload;\n",
       "}\n",
       "\n",
       "mpl.figure.prototype._init_header = function() {\n",
       "    var titlebar = $(\n",
       "        '<div class=\"ui-dialog-titlebar ui-widget-header ui-corner-all ' +\n",
       "        'ui-helper-clearfix\"/>');\n",
       "    var titletext = $(\n",
       "        '<div class=\"ui-dialog-title\" style=\"width: 100%; ' +\n",
       "        'text-align: center; padding: 3px;\"/>');\n",
       "    titlebar.append(titletext)\n",
       "    this.root.append(titlebar);\n",
       "    this.header = titletext[0];\n",
       "}\n",
       "\n",
       "\n",
       "\n",
       "mpl.figure.prototype._canvas_extra_style = function(canvas_div) {\n",
       "\n",
       "}\n",
       "\n",
       "\n",
       "mpl.figure.prototype._root_extra_style = function(canvas_div) {\n",
       "\n",
       "}\n",
       "\n",
       "mpl.figure.prototype._init_canvas = function() {\n",
       "    var fig = this;\n",
       "\n",
       "    var canvas_div = $('<div/>');\n",
       "\n",
       "    canvas_div.attr('style', 'position: relative; clear: both; outline: 0');\n",
       "\n",
       "    function canvas_keyboard_event(event) {\n",
       "        return fig.key_event(event, event['data']);\n",
       "    }\n",
       "\n",
       "    canvas_div.keydown('key_press', canvas_keyboard_event);\n",
       "    canvas_div.keyup('key_release', canvas_keyboard_event);\n",
       "    this.canvas_div = canvas_div\n",
       "    this._canvas_extra_style(canvas_div)\n",
       "    this.root.append(canvas_div);\n",
       "\n",
       "    var canvas = $('<canvas/>');\n",
       "    canvas.addClass('mpl-canvas');\n",
       "    canvas.attr('style', \"left: 0; top: 0; z-index: 0; outline: 0\")\n",
       "\n",
       "    this.canvas = canvas[0];\n",
       "    this.context = canvas[0].getContext(\"2d\");\n",
       "\n",
       "    var backingStore = this.context.backingStorePixelRatio ||\n",
       "\tthis.context.webkitBackingStorePixelRatio ||\n",
       "\tthis.context.mozBackingStorePixelRatio ||\n",
       "\tthis.context.msBackingStorePixelRatio ||\n",
       "\tthis.context.oBackingStorePixelRatio ||\n",
       "\tthis.context.backingStorePixelRatio || 1;\n",
       "\n",
       "    mpl.ratio = (window.devicePixelRatio || 1) / backingStore;\n",
       "\n",
       "    var rubberband = $('<canvas/>');\n",
       "    rubberband.attr('style', \"position: absolute; left: 0; top: 0; z-index: 1;\")\n",
       "\n",
       "    var pass_mouse_events = true;\n",
       "\n",
       "    canvas_div.resizable({\n",
       "        start: function(event, ui) {\n",
       "            pass_mouse_events = false;\n",
       "        },\n",
       "        resize: function(event, ui) {\n",
       "            fig.request_resize(ui.size.width, ui.size.height);\n",
       "        },\n",
       "        stop: function(event, ui) {\n",
       "            pass_mouse_events = true;\n",
       "            fig.request_resize(ui.size.width, ui.size.height);\n",
       "        },\n",
       "    });\n",
       "\n",
       "    function mouse_event_fn(event) {\n",
       "        if (pass_mouse_events)\n",
       "            return fig.mouse_event(event, event['data']);\n",
       "    }\n",
       "\n",
       "    rubberband.mousedown('button_press', mouse_event_fn);\n",
       "    rubberband.mouseup('button_release', mouse_event_fn);\n",
       "    // Throttle sequential mouse events to 1 every 20ms.\n",
       "    rubberband.mousemove('motion_notify', mouse_event_fn);\n",
       "\n",
       "    rubberband.mouseenter('figure_enter', mouse_event_fn);\n",
       "    rubberband.mouseleave('figure_leave', mouse_event_fn);\n",
       "\n",
       "    canvas_div.on(\"wheel\", function (event) {\n",
       "        event = event.originalEvent;\n",
       "        event['data'] = 'scroll'\n",
       "        if (event.deltaY < 0) {\n",
       "            event.step = 1;\n",
       "        } else {\n",
       "            event.step = -1;\n",
       "        }\n",
       "        mouse_event_fn(event);\n",
       "    });\n",
       "\n",
       "    canvas_div.append(canvas);\n",
       "    canvas_div.append(rubberband);\n",
       "\n",
       "    this.rubberband = rubberband;\n",
       "    this.rubberband_canvas = rubberband[0];\n",
       "    this.rubberband_context = rubberband[0].getContext(\"2d\");\n",
       "    this.rubberband_context.strokeStyle = \"#000000\";\n",
       "\n",
       "    this._resize_canvas = function(width, height) {\n",
       "        // Keep the size of the canvas, canvas container, and rubber band\n",
       "        // canvas in synch.\n",
       "        canvas_div.css('width', width)\n",
       "        canvas_div.css('height', height)\n",
       "\n",
       "        canvas.attr('width', width * mpl.ratio);\n",
       "        canvas.attr('height', height * mpl.ratio);\n",
       "        canvas.attr('style', 'width: ' + width + 'px; height: ' + height + 'px;');\n",
       "\n",
       "        rubberband.attr('width', width);\n",
       "        rubberband.attr('height', height);\n",
       "    }\n",
       "\n",
       "    // Set the figure to an initial 600x600px, this will subsequently be updated\n",
       "    // upon first draw.\n",
       "    this._resize_canvas(600, 600);\n",
       "\n",
       "    // Disable right mouse context menu.\n",
       "    $(this.rubberband_canvas).bind(\"contextmenu\",function(e){\n",
       "        return false;\n",
       "    });\n",
       "\n",
       "    function set_focus () {\n",
       "        canvas.focus();\n",
       "        canvas_div.focus();\n",
       "    }\n",
       "\n",
       "    window.setTimeout(set_focus, 100);\n",
       "}\n",
       "\n",
       "mpl.figure.prototype._init_toolbar = function() {\n",
       "    var fig = this;\n",
       "\n",
       "    var nav_element = $('<div/>');\n",
       "    nav_element.attr('style', 'width: 100%');\n",
       "    this.root.append(nav_element);\n",
       "\n",
       "    // Define a callback function for later on.\n",
       "    function toolbar_event(event) {\n",
       "        return fig.toolbar_button_onclick(event['data']);\n",
       "    }\n",
       "    function toolbar_mouse_event(event) {\n",
       "        return fig.toolbar_button_onmouseover(event['data']);\n",
       "    }\n",
       "\n",
       "    for(var toolbar_ind in mpl.toolbar_items) {\n",
       "        var name = mpl.toolbar_items[toolbar_ind][0];\n",
       "        var tooltip = mpl.toolbar_items[toolbar_ind][1];\n",
       "        var image = mpl.toolbar_items[toolbar_ind][2];\n",
       "        var method_name = mpl.toolbar_items[toolbar_ind][3];\n",
       "\n",
       "        if (!name) {\n",
       "            // put a spacer in here.\n",
       "            continue;\n",
       "        }\n",
       "        var button = $('<button/>');\n",
       "        button.addClass('ui-button ui-widget ui-state-default ui-corner-all ' +\n",
       "                        'ui-button-icon-only');\n",
       "        button.attr('role', 'button');\n",
       "        button.attr('aria-disabled', 'false');\n",
       "        button.click(method_name, toolbar_event);\n",
       "        button.mouseover(tooltip, toolbar_mouse_event);\n",
       "\n",
       "        var icon_img = $('<span/>');\n",
       "        icon_img.addClass('ui-button-icon-primary ui-icon');\n",
       "        icon_img.addClass(image);\n",
       "        icon_img.addClass('ui-corner-all');\n",
       "\n",
       "        var tooltip_span = $('<span/>');\n",
       "        tooltip_span.addClass('ui-button-text');\n",
       "        tooltip_span.html(tooltip);\n",
       "\n",
       "        button.append(icon_img);\n",
       "        button.append(tooltip_span);\n",
       "\n",
       "        nav_element.append(button);\n",
       "    }\n",
       "\n",
       "    var fmt_picker_span = $('<span/>');\n",
       "\n",
       "    var fmt_picker = $('<select/>');\n",
       "    fmt_picker.addClass('mpl-toolbar-option ui-widget ui-widget-content');\n",
       "    fmt_picker_span.append(fmt_picker);\n",
       "    nav_element.append(fmt_picker_span);\n",
       "    this.format_dropdown = fmt_picker[0];\n",
       "\n",
       "    for (var ind in mpl.extensions) {\n",
       "        var fmt = mpl.extensions[ind];\n",
       "        var option = $(\n",
       "            '<option/>', {selected: fmt === mpl.default_extension}).html(fmt);\n",
       "        fmt_picker.append(option);\n",
       "    }\n",
       "\n",
       "    // Add hover states to the ui-buttons\n",
       "    $( \".ui-button\" ).hover(\n",
       "        function() { $(this).addClass(\"ui-state-hover\");},\n",
       "        function() { $(this).removeClass(\"ui-state-hover\");}\n",
       "    );\n",
       "\n",
       "    var status_bar = $('<span class=\"mpl-message\"/>');\n",
       "    nav_element.append(status_bar);\n",
       "    this.message = status_bar[0];\n",
       "}\n",
       "\n",
       "mpl.figure.prototype.request_resize = function(x_pixels, y_pixels) {\n",
       "    // Request matplotlib to resize the figure. Matplotlib will then trigger a resize in the client,\n",
       "    // which will in turn request a refresh of the image.\n",
       "    this.send_message('resize', {'width': x_pixels, 'height': y_pixels});\n",
       "}\n",
       "\n",
       "mpl.figure.prototype.send_message = function(type, properties) {\n",
       "    properties['type'] = type;\n",
       "    properties['figure_id'] = this.id;\n",
       "    this.ws.send(JSON.stringify(properties));\n",
       "}\n",
       "\n",
       "mpl.figure.prototype.send_draw_message = function() {\n",
       "    if (!this.waiting) {\n",
       "        this.waiting = true;\n",
       "        this.ws.send(JSON.stringify({type: \"draw\", figure_id: this.id}));\n",
       "    }\n",
       "}\n",
       "\n",
       "\n",
       "mpl.figure.prototype.handle_save = function(fig, msg) {\n",
       "    var format_dropdown = fig.format_dropdown;\n",
       "    var format = format_dropdown.options[format_dropdown.selectedIndex].value;\n",
       "    fig.ondownload(fig, format);\n",
       "}\n",
       "\n",
       "\n",
       "mpl.figure.prototype.handle_resize = function(fig, msg) {\n",
       "    var size = msg['size'];\n",
       "    if (size[0] != fig.canvas.width || size[1] != fig.canvas.height) {\n",
       "        fig._resize_canvas(size[0], size[1]);\n",
       "        fig.send_message(\"refresh\", {});\n",
       "    };\n",
       "}\n",
       "\n",
       "mpl.figure.prototype.handle_rubberband = function(fig, msg) {\n",
       "    var x0 = msg['x0'] / mpl.ratio;\n",
       "    var y0 = (fig.canvas.height - msg['y0']) / mpl.ratio;\n",
       "    var x1 = msg['x1'] / mpl.ratio;\n",
       "    var y1 = (fig.canvas.height - msg['y1']) / mpl.ratio;\n",
       "    x0 = Math.floor(x0) + 0.5;\n",
       "    y0 = Math.floor(y0) + 0.5;\n",
       "    x1 = Math.floor(x1) + 0.5;\n",
       "    y1 = Math.floor(y1) + 0.5;\n",
       "    var min_x = Math.min(x0, x1);\n",
       "    var min_y = Math.min(y0, y1);\n",
       "    var width = Math.abs(x1 - x0);\n",
       "    var height = Math.abs(y1 - y0);\n",
       "\n",
       "    fig.rubberband_context.clearRect(\n",
       "        0, 0, fig.canvas.width / mpl.ratio, fig.canvas.height / mpl.ratio);\n",
       "\n",
       "    fig.rubberband_context.strokeRect(min_x, min_y, width, height);\n",
       "}\n",
       "\n",
       "mpl.figure.prototype.handle_figure_label = function(fig, msg) {\n",
       "    // Updates the figure title.\n",
       "    fig.header.textContent = msg['label'];\n",
       "}\n",
       "\n",
       "mpl.figure.prototype.handle_cursor = function(fig, msg) {\n",
       "    var cursor = msg['cursor'];\n",
       "    switch(cursor)\n",
       "    {\n",
       "    case 0:\n",
       "        cursor = 'pointer';\n",
       "        break;\n",
       "    case 1:\n",
       "        cursor = 'default';\n",
       "        break;\n",
       "    case 2:\n",
       "        cursor = 'crosshair';\n",
       "        break;\n",
       "    case 3:\n",
       "        cursor = 'move';\n",
       "        break;\n",
       "    }\n",
       "    fig.rubberband_canvas.style.cursor = cursor;\n",
       "}\n",
       "\n",
       "mpl.figure.prototype.handle_message = function(fig, msg) {\n",
       "    fig.message.textContent = msg['message'];\n",
       "}\n",
       "\n",
       "mpl.figure.prototype.handle_draw = function(fig, msg) {\n",
       "    // Request the server to send over a new figure.\n",
       "    fig.send_draw_message();\n",
       "}\n",
       "\n",
       "mpl.figure.prototype.handle_image_mode = function(fig, msg) {\n",
       "    fig.image_mode = msg['mode'];\n",
       "}\n",
       "\n",
       "mpl.figure.prototype.updated_canvas_event = function() {\n",
       "    // Called whenever the canvas gets updated.\n",
       "    this.send_message(\"ack\", {});\n",
       "}\n",
       "\n",
       "// A function to construct a web socket function for onmessage handling.\n",
       "// Called in the figure constructor.\n",
       "mpl.figure.prototype._make_on_message_function = function(fig) {\n",
       "    return function socket_on_message(evt) {\n",
       "        if (evt.data instanceof Blob) {\n",
       "            /* FIXME: We get \"Resource interpreted as Image but\n",
       "             * transferred with MIME type text/plain:\" errors on\n",
       "             * Chrome.  But how to set the MIME type?  It doesn't seem\n",
       "             * to be part of the websocket stream */\n",
       "            evt.data.type = \"image/png\";\n",
       "\n",
       "            /* Free the memory for the previous frames */\n",
       "            if (fig.imageObj.src) {\n",
       "                (window.URL || window.webkitURL).revokeObjectURL(\n",
       "                    fig.imageObj.src);\n",
       "            }\n",
       "\n",
       "            fig.imageObj.src = (window.URL || window.webkitURL).createObjectURL(\n",
       "                evt.data);\n",
       "            fig.updated_canvas_event();\n",
       "            fig.waiting = false;\n",
       "            return;\n",
       "        }\n",
       "        else if (typeof evt.data === 'string' && evt.data.slice(0, 21) == \"data:image/png;base64\") {\n",
       "            fig.imageObj.src = evt.data;\n",
       "            fig.updated_canvas_event();\n",
       "            fig.waiting = false;\n",
       "            return;\n",
       "        }\n",
       "\n",
       "        var msg = JSON.parse(evt.data);\n",
       "        var msg_type = msg['type'];\n",
       "\n",
       "        // Call the  \"handle_{type}\" callback, which takes\n",
       "        // the figure and JSON message as its only arguments.\n",
       "        try {\n",
       "            var callback = fig[\"handle_\" + msg_type];\n",
       "        } catch (e) {\n",
       "            console.log(\"No handler for the '\" + msg_type + \"' message type: \", msg);\n",
       "            return;\n",
       "        }\n",
       "\n",
       "        if (callback) {\n",
       "            try {\n",
       "                // console.log(\"Handling '\" + msg_type + \"' message: \", msg);\n",
       "                callback(fig, msg);\n",
       "            } catch (e) {\n",
       "                console.log(\"Exception inside the 'handler_\" + msg_type + \"' callback:\", e, e.stack, msg);\n",
       "            }\n",
       "        }\n",
       "    };\n",
       "}\n",
       "\n",
       "// from http://stackoverflow.com/questions/1114465/getting-mouse-location-in-canvas\n",
       "mpl.findpos = function(e) {\n",
       "    //this section is from http://www.quirksmode.org/js/events_properties.html\n",
       "    var targ;\n",
       "    if (!e)\n",
       "        e = window.event;\n",
       "    if (e.target)\n",
       "        targ = e.target;\n",
       "    else if (e.srcElement)\n",
       "        targ = e.srcElement;\n",
       "    if (targ.nodeType == 3) // defeat Safari bug\n",
       "        targ = targ.parentNode;\n",
       "\n",
       "    // jQuery normalizes the pageX and pageY\n",
       "    // pageX,Y are the mouse positions relative to the document\n",
       "    // offset() returns the position of the element relative to the document\n",
       "    var x = e.pageX - $(targ).offset().left;\n",
       "    var y = e.pageY - $(targ).offset().top;\n",
       "\n",
       "    return {\"x\": x, \"y\": y};\n",
       "};\n",
       "\n",
       "/*\n",
       " * return a copy of an object with only non-object keys\n",
       " * we need this to avoid circular references\n",
       " * http://stackoverflow.com/a/24161582/3208463\n",
       " */\n",
       "function simpleKeys (original) {\n",
       "  return Object.keys(original).reduce(function (obj, key) {\n",
       "    if (typeof original[key] !== 'object')\n",
       "        obj[key] = original[key]\n",
       "    return obj;\n",
       "  }, {});\n",
       "}\n",
       "\n",
       "mpl.figure.prototype.mouse_event = function(event, name) {\n",
       "    var canvas_pos = mpl.findpos(event)\n",
       "\n",
       "    if (name === 'button_press')\n",
       "    {\n",
       "        this.canvas.focus();\n",
       "        this.canvas_div.focus();\n",
       "    }\n",
       "\n",
       "    var x = canvas_pos.x * mpl.ratio;\n",
       "    var y = canvas_pos.y * mpl.ratio;\n",
       "\n",
       "    this.send_message(name, {x: x, y: y, button: event.button,\n",
       "                             step: event.step,\n",
       "                             guiEvent: simpleKeys(event)});\n",
       "\n",
       "    /* This prevents the web browser from automatically changing to\n",
       "     * the text insertion cursor when the button is pressed.  We want\n",
       "     * to control all of the cursor setting manually through the\n",
       "     * 'cursor' event from matplotlib */\n",
       "    event.preventDefault();\n",
       "    return false;\n",
       "}\n",
       "\n",
       "mpl.figure.prototype._key_event_extra = function(event, name) {\n",
       "    // Handle any extra behaviour associated with a key event\n",
       "}\n",
       "\n",
       "mpl.figure.prototype.key_event = function(event, name) {\n",
       "\n",
       "    // Prevent repeat events\n",
       "    if (name == 'key_press')\n",
       "    {\n",
       "        if (event.which === this._key)\n",
       "            return;\n",
       "        else\n",
       "            this._key = event.which;\n",
       "    }\n",
       "    if (name == 'key_release')\n",
       "        this._key = null;\n",
       "\n",
       "    var value = '';\n",
       "    if (event.ctrlKey && event.which != 17)\n",
       "        value += \"ctrl+\";\n",
       "    if (event.altKey && event.which != 18)\n",
       "        value += \"alt+\";\n",
       "    if (event.shiftKey && event.which != 16)\n",
       "        value += \"shift+\";\n",
       "\n",
       "    value += 'k';\n",
       "    value += event.which.toString();\n",
       "\n",
       "    this._key_event_extra(event, name);\n",
       "\n",
       "    this.send_message(name, {key: value,\n",
       "                             guiEvent: simpleKeys(event)});\n",
       "    return false;\n",
       "}\n",
       "\n",
       "mpl.figure.prototype.toolbar_button_onclick = function(name) {\n",
       "    if (name == 'download') {\n",
       "        this.handle_save(this, null);\n",
       "    } else {\n",
       "        this.send_message(\"toolbar_button\", {name: name});\n",
       "    }\n",
       "};\n",
       "\n",
       "mpl.figure.prototype.toolbar_button_onmouseover = function(tooltip) {\n",
       "    this.message.textContent = tooltip;\n",
       "};\n",
       "mpl.toolbar_items = [[\"Home\", \"Reset original view\", \"fa fa-home icon-home\", \"home\"], [\"Back\", \"Back to previous view\", \"fa fa-arrow-left icon-arrow-left\", \"back\"], [\"Forward\", \"Forward to next view\", \"fa fa-arrow-right icon-arrow-right\", \"forward\"], [\"\", \"\", \"\", \"\"], [\"Pan\", \"Pan axes with left mouse, zoom with right\", \"fa fa-arrows icon-move\", \"pan\"], [\"Zoom\", \"Zoom to rectangle\", \"fa fa-square-o icon-check-empty\", \"zoom\"], [\"\", \"\", \"\", \"\"], [\"Download\", \"Download plot\", \"fa fa-floppy-o icon-save\", \"download\"]];\n",
       "\n",
       "mpl.extensions = [\"eps\", \"jpeg\", \"pdf\", \"png\", \"ps\", \"raw\", \"svg\", \"tif\"];\n",
       "\n",
       "mpl.default_extension = \"png\";var comm_websocket_adapter = function(comm) {\n",
       "    // Create a \"websocket\"-like object which calls the given IPython comm\n",
       "    // object with the appropriate methods. Currently this is a non binary\n",
       "    // socket, so there is still some room for performance tuning.\n",
       "    var ws = {};\n",
       "\n",
       "    ws.close = function() {\n",
       "        comm.close()\n",
       "    };\n",
       "    ws.send = function(m) {\n",
       "        //console.log('sending', m);\n",
       "        comm.send(m);\n",
       "    };\n",
       "    // Register the callback with on_msg.\n",
       "    comm.on_msg(function(msg) {\n",
       "        //console.log('receiving', msg['content']['data'], msg);\n",
       "        // Pass the mpl event to the overridden (by mpl) onmessage function.\n",
       "        ws.onmessage(msg['content']['data'])\n",
       "    });\n",
       "    return ws;\n",
       "}\n",
       "\n",
       "mpl.mpl_figure_comm = function(comm, msg) {\n",
       "    // This is the function which gets called when the mpl process\n",
       "    // starts-up an IPython Comm through the \"matplotlib\" channel.\n",
       "\n",
       "    var id = msg.content.data.id;\n",
       "    // Get hold of the div created by the display call when the Comm\n",
       "    // socket was opened in Python.\n",
       "    var element = $(\"#\" + id);\n",
       "    var ws_proxy = comm_websocket_adapter(comm)\n",
       "\n",
       "    function ondownload(figure, format) {\n",
       "        window.open(figure.imageObj.src);\n",
       "    }\n",
       "\n",
       "    var fig = new mpl.figure(id, ws_proxy,\n",
       "                           ondownload,\n",
       "                           element.get(0));\n",
       "\n",
       "    // Call onopen now - mpl needs it, as it is assuming we've passed it a real\n",
       "    // web socket which is closed, not our websocket->open comm proxy.\n",
       "    ws_proxy.onopen();\n",
       "\n",
       "    fig.parent_element = element.get(0);\n",
       "    fig.cell_info = mpl.find_output_cell(\"<div id='\" + id + \"'></div>\");\n",
       "    if (!fig.cell_info) {\n",
       "        console.error(\"Failed to find cell for figure\", id, fig);\n",
       "        return;\n",
       "    }\n",
       "\n",
       "    var output_index = fig.cell_info[2]\n",
       "    var cell = fig.cell_info[0];\n",
       "\n",
       "};\n",
       "\n",
       "mpl.figure.prototype.handle_close = function(fig, msg) {\n",
       "    var width = fig.canvas.width/mpl.ratio\n",
       "    fig.root.unbind('remove')\n",
       "\n",
       "    // Update the output cell to use the data from the current canvas.\n",
       "    fig.push_to_output();\n",
       "    var dataURL = fig.canvas.toDataURL();\n",
       "    // Re-enable the keyboard manager in IPython - without this line, in FF,\n",
       "    // the notebook keyboard shortcuts fail.\n",
       "    IPython.keyboard_manager.enable()\n",
       "    $(fig.parent_element).html('<img src=\"' + dataURL + '\" width=\"' + width + '\">');\n",
       "    fig.close_ws(fig, msg);\n",
       "}\n",
       "\n",
       "mpl.figure.prototype.close_ws = function(fig, msg){\n",
       "    fig.send_message('closing', msg);\n",
       "    // fig.ws.close()\n",
       "}\n",
       "\n",
       "mpl.figure.prototype.push_to_output = function(remove_interactive) {\n",
       "    // Turn the data on the canvas into data in the output cell.\n",
       "    var width = this.canvas.width/mpl.ratio\n",
       "    var dataURL = this.canvas.toDataURL();\n",
       "    this.cell_info[1]['text/html'] = '<img src=\"' + dataURL + '\" width=\"' + width + '\">';\n",
       "}\n",
       "\n",
       "mpl.figure.prototype.updated_canvas_event = function() {\n",
       "    // Tell IPython that the notebook contents must change.\n",
       "    IPython.notebook.set_dirty(true);\n",
       "    this.send_message(\"ack\", {});\n",
       "    var fig = this;\n",
       "    // Wait a second, then push the new image to the DOM so\n",
       "    // that it is saved nicely (might be nice to debounce this).\n",
       "    setTimeout(function () { fig.push_to_output() }, 1000);\n",
       "}\n",
       "\n",
       "mpl.figure.prototype._init_toolbar = function() {\n",
       "    var fig = this;\n",
       "\n",
       "    var nav_element = $('<div/>');\n",
       "    nav_element.attr('style', 'width: 100%');\n",
       "    this.root.append(nav_element);\n",
       "\n",
       "    // Define a callback function for later on.\n",
       "    function toolbar_event(event) {\n",
       "        return fig.toolbar_button_onclick(event['data']);\n",
       "    }\n",
       "    function toolbar_mouse_event(event) {\n",
       "        return fig.toolbar_button_onmouseover(event['data']);\n",
       "    }\n",
       "\n",
       "    for(var toolbar_ind in mpl.toolbar_items){\n",
       "        var name = mpl.toolbar_items[toolbar_ind][0];\n",
       "        var tooltip = mpl.toolbar_items[toolbar_ind][1];\n",
       "        var image = mpl.toolbar_items[toolbar_ind][2];\n",
       "        var method_name = mpl.toolbar_items[toolbar_ind][3];\n",
       "\n",
       "        if (!name) { continue; };\n",
       "\n",
       "        var button = $('<button class=\"btn btn-default\" href=\"#\" title=\"' + name + '\"><i class=\"fa ' + image + ' fa-lg\"></i></button>');\n",
       "        button.click(method_name, toolbar_event);\n",
       "        button.mouseover(tooltip, toolbar_mouse_event);\n",
       "        nav_element.append(button);\n",
       "    }\n",
       "\n",
       "    // Add the status bar.\n",
       "    var status_bar = $('<span class=\"mpl-message\" style=\"text-align:right; float: right;\"/>');\n",
       "    nav_element.append(status_bar);\n",
       "    this.message = status_bar[0];\n",
       "\n",
       "    // Add the close button to the window.\n",
       "    var buttongrp = $('<div class=\"btn-group inline pull-right\"></div>');\n",
       "    var button = $('<button class=\"btn btn-mini btn-primary\" href=\"#\" title=\"Stop Interaction\"><i class=\"fa fa-power-off icon-remove icon-large\"></i></button>');\n",
       "    button.click(function (evt) { fig.handle_close(fig, {}); } );\n",
       "    button.mouseover('Stop Interaction', toolbar_mouse_event);\n",
       "    buttongrp.append(button);\n",
       "    var titlebar = this.root.find($('.ui-dialog-titlebar'));\n",
       "    titlebar.prepend(buttongrp);\n",
       "}\n",
       "\n",
       "mpl.figure.prototype._root_extra_style = function(el){\n",
       "    var fig = this\n",
       "    el.on(\"remove\", function(){\n",
       "\tfig.close_ws(fig, {});\n",
       "    });\n",
       "}\n",
       "\n",
       "mpl.figure.prototype._canvas_extra_style = function(el){\n",
       "    // this is important to make the div 'focusable\n",
       "    el.attr('tabindex', 0)\n",
       "    // reach out to IPython and tell the keyboard manager to turn it's self\n",
       "    // off when our div gets focus\n",
       "\n",
       "    // location in version 3\n",
       "    if (IPython.notebook.keyboard_manager) {\n",
       "        IPython.notebook.keyboard_manager.register_events(el);\n",
       "    }\n",
       "    else {\n",
       "        // location in version 2\n",
       "        IPython.keyboard_manager.register_events(el);\n",
       "    }\n",
       "\n",
       "}\n",
       "\n",
       "mpl.figure.prototype._key_event_extra = function(event, name) {\n",
       "    var manager = IPython.notebook.keyboard_manager;\n",
       "    if (!manager)\n",
       "        manager = IPython.keyboard_manager;\n",
       "\n",
       "    // Check for shift+enter\n",
       "    if (event.shiftKey && event.which == 13) {\n",
       "        this.canvas_div.blur();\n",
       "        // select the cell after this one\n",
       "        var index = IPython.notebook.find_cell_index(this.cell_info[0]);\n",
       "        IPython.notebook.select(index + 1);\n",
       "    }\n",
       "}\n",
       "\n",
       "mpl.figure.prototype.handle_save = function(fig, msg) {\n",
       "    fig.ondownload(fig, null);\n",
       "}\n",
       "\n",
       "\n",
       "mpl.find_output_cell = function(html_output) {\n",
       "    // Return the cell and output element which can be found *uniquely* in the notebook.\n",
       "    // Note - this is a bit hacky, but it is done because the \"notebook_saving.Notebook\"\n",
       "    // IPython event is triggered only after the cells have been serialised, which for\n",
       "    // our purposes (turning an active figure into a static one), is too late.\n",
       "    var cells = IPython.notebook.get_cells();\n",
       "    var ncells = cells.length;\n",
       "    for (var i=0; i<ncells; i++) {\n",
       "        var cell = cells[i];\n",
       "        if (cell.cell_type === 'code'){\n",
       "            for (var j=0; j<cell.output_area.outputs.length; j++) {\n",
       "                var data = cell.output_area.outputs[j];\n",
       "                if (data.data) {\n",
       "                    // IPython >= 3 moved mimebundle to data attribute of output\n",
       "                    data = data.data;\n",
       "                }\n",
       "                if (data['text/html'] == html_output) {\n",
       "                    return [cell, data, j];\n",
       "                }\n",
       "            }\n",
       "        }\n",
       "    }\n",
       "}\n",
       "\n",
       "// Register the function which deals with the matplotlib target/channel.\n",
       "// The kernel may be null if the page has been refreshed.\n",
       "if (IPython.notebook.kernel != null) {\n",
       "    IPython.notebook.kernel.comm_manager.register_target('matplotlib', mpl.mpl_figure_comm);\n",
       "}\n"
      ],
      "text/plain": [
       "<IPython.core.display.Javascript object>"
      ]
     },
     "metadata": {},
     "output_type": "display_data"
    },
    {
     "data": {
      "text/html": [
       "<img src=\"data:image/png;base64,iVBORw0KGgoAAAANSUhEUgAAAoAAAAHgCAYAAAA10dzkAAAgAElEQVR4nO3df4zf9V3A8U9bsFytHR0tV1PAIiXoMmXGbFohW0RogNh1yTKypbvNSIaaEY2yeanL1vgjCkugMSZgRd0/J8UENEtMHSS0MXRlix5H3bW3YbbRXAmsc80dZ5O70u7lX3f24Mo+5f2WL9/X5/FIPsl6v76fvHllr2e/d/dtEwAAdErT6xsAAOCtJQABADpGAAIAdIwABADoGAEIANAxAhAAoGMEIABAxwhAAICOEYAAAB0jAAEAOkYAAgB0jAAEAOgYAQgA0DECEACgYwQgAEDHCEAAgI4RgAAAHSMAAQA6RgACAHSMAAQA6BgBCADQMQIQAKBjBCAAQMcIQACAjhGAAAAdIwABADpGAAIAdIwABADoGAEIANAxAhAAoGMEIABAxwhAAICOEYAAAB0jAAEAOkYAAgB0jAAEAOgYAQgA0DECEACgYwQgAEDHCEAAgI4RgAAAHSMAAQA6RgACAHSMAAQA6BgBCADQMQIQAKBjBCAAQMcIQACAjhGAAAAdIwABADpGAAIAdIwABADoGAEIANAxAhAAoGMEIABAxwhAAICOEYAFzp49G5OTkzE1NRXT09Mul8vlcrn64JqamorJyck4e/Zsr1OiZwRggcnJyWiaxuVyuVwuVx9ek5OTvU6JnhGABaamphYGqNd/m3G5XC6Xy9Xumn8CZ2pqqtcp0TMCsMD09HQ0TRPT09O9vhUAoCX7WwAWMUAA0H/sbwFYxAABQP+xvwVgEQMEAP3H/haARQwQAPQf+1sAFjFAANB/7G8BWMQAAUD/sb8FYBEDBAD9x/4WgEUMEAD0H/tbABYxQJDTmTNn4sCBA/HII4/EgQMH4syZM72+JaAi+1sAFjFAkM/jjz8emzZtWvTvhW7atCkef/zxXt8aUIn9LQCLGCDI5fHHH49ly5bFtm3b4plnnomZmZl45plnYtu2bbFs2TIRCEnY3wKwiAGCPM6cORObNm2Kbdu2xdmzZxe97+zZs7Ft27a4+uqrfTsYErC/BWARAwR5HDhwIJqmiWeeeWbJnwE8dOhQNE0TBw4c6PWtAoXsbwFYxABBHo888kg0TRMjIyNL/gzgyMhINE0TjzzySK9vFShkfwvAIgYI8ph/BrBpmiV/BnD+fZ4BhP5nfwvAIgYI8pibm4uLLrooBgcH49SpU7F79+64++67Y/fu3XHq1KkYHByMiy66KObm5np9q0Ah+1sAFjFAkMe5zwAuW7Zs0beAz/2zZwCh/9nfArCIAYI85n8GsGmaWL58+aIAXLFixcL/9jOA0P/sbwFYxABBHk8++WQ0TRNr166N2dnZRb8FPDs7G2vXro2maeLJJ5/s9a0ChexvAVjEAEEe999/fzRNE9dff/2SrwP48z//89E0Tdx///09ukOgFvtbABYxQJDH3XffvfDzftu2bYtDhw7FK6+8EocOHVr4l0Capom7776717cKFLK/BWARAwR57N69O5qmid/5nd953esAXn311fFbv/Vb0TRN7N69u9e3ChSyvwVgEQMEeZz7MjCvvPJKfPrTn46tW7fGpz/96XjllVe8DAwkYn8LwCIGCHL57Gc/u+iZv9den/3sZ3t9i0AF9rcALGKAIBcBCN1gfwvAIgYI8vAvgUB32N8CsIgBgjzmfwnk4YcfXvL9e/bs8UsgkIT9LQCLGCDIY/5lYF566aUl3//iiy96GRhIwv4WgEUMEORx7jOAMzMz8aEPfSh+7ud+Lj70oQ/FzMyMZwAhEftbABYxQJDH/M8AXnTRRUv+Asj8+/wMIPQ/+1sAFjFAkMvg4OAb/hbw4OBgr28RqMD+FoBFDBDkMTMz84bxN3/NzMz0+laBQva3ACxigCCPbdu2Lfp270033RRDQ0Nx0003Lfq28LZt23p9q0Ah+1sAFjFAkMf69eujaZpYsWJFTE1NLfqn4KampmLFihXRNE2sX7++17cKFLK/BWARAwR5rF69OpqmiR//8R9f8lu/q1atiqZpYvXq1b2+VaCQ/Z00AP/sz/4stmzZEgMDA/GOd7xjyY85duxY3H777TEwMBDr16+Pz3zmM/Hqq69e0OMYIMhj8+bNrX4GcPPmzb2+VaCQ/Z00AL/whS/EAw88EH/wB3+wZACeOXMm3v3ud8fNN98cY2NjsW/fvli3bl3s3Lnzgh7HAEEed955Z6sAvPPOO3t9q0Ah+ztpAM770pe+tGQA7tu3L5YvXx4vv/zywtseeuihWLNmzQW9xpcBgjwEIHSH/d3RAPz85z8f119//aK3fec734mmaeLZZ58979ebnZ2N6enphWtycrLzAwRZXHvtta0C8Nprr+31rQKFBGBHA/BTn/pUbN26ddHbTp06FU3TxL59+8779Xbt2rXkQujyAEEWGzZsiKZpYtmyZW8YgBs2bOj1rQKFBGAfBeDw8PCP/Jv5xMTEos+pHYCeAYS83vWud7V6BvBd73pXr28VKCQA+ygAT5w4ERMTE294vfbn92p/C/i1DBDkcccdd7QKwDvuuKPXtwoUsr/7KADfjB/1SyDf+973Ft62Z8+eWLNmTczOzrb++gYI8hgaGmoVgENDQ72+VaCQ/Z00AI8dOxZjY2Pxx3/8x7F69eoYGxuLsbGxhX/Dc/5lYLZu3RrPPfdcfOUrX4n169d7GRjosEsvvbRVAF566aW9vlWgkP2dNAA/+clPLvl/3AcOHFj4mBdeeCFuu+22GBgYiHXr1sU999zjhaChwy6++OJWAXjxxRf3+laBQvZ30gB8qxggyOPcZwBXrly5KPrO/bNnAKH/2d8CsIgBgjxuvfXWVs8A3nrrrb2+VaCQ/S0AixggyOODH/xgqwD84Ac/2OtbBQrZ3wKwiAGCPD7ykY+0CsCPfOQjvb5VoJD9LQCLGCDIY8uWLa0CcMuWLb2+VaCQ/S0AixggyOO1/xLIunXrYnBwMNatW+dfAoFk7G8BWMQAQR5XXXVVq2cAr7rqql7fKlDI/haARQwQ5LF58+ZWAbh58+Ze3ypQyP4WgEUMEOTx2m8Bn+/yLWDof/a3ACxigCCP9773va0C8L3vfW+vbxUoZH8LwCIGCPK47LLLWgXgZZdd1utbBQrZ3wKwiAGCPFavXt0qAFevXt3rWwUK2d8CsIgBgjyuueaaVgF4zTXX9PpWgUL2twAsYoAgjw9/+MMLkXfxxRfHTTfdFDt27IibbropLr744oX3ffjDH+71rQKF7G8BWMQAwdvLqVOnYnR09E1dV155ZatnAK+88so3/RinTp3q9REBYX9HCMAiBgjeXkZHR1tFXK+u0dHRXh8REPZ3hAAsYoDg7aXkGcD3v//9C6H2Yz/2Y4vC7dw/v//97/cMIPQ5+1sAFjFAkMfMzMxC5A0MDCwKwHP/PDMz0+tbBQrZ3wKwiAGCXH7Ui0F7EWjIwf4WgEUMEORzvggUf5CH/S0AixggyGlmZiY+8IEPRNM08YEPfMC3fSEZ+1sAFjFAkNf8bxT7zV3Ix/4WgEUMEOQlACEv+1sAFjFAkJcAhLzsbwFYxABBXgIQ8rK/BWARAwR5CUDIy/4WgEUMEOQlACEv+1sAFjFAkJcAhLzsbwFYxABBXgIQ8rK/BWARAwR5CUDIy/4WgEUMEOQlACEv+1sAFjFAkJcAhLzsbwFYxABBXgIQ8rK/BWARAwR5CUDIy/4WgEUMEOQlACEv+1sAFjFAkJcAhLzsbwFYxABBXgIQ8rK/BWARAwR5CUDIy/4WgEUMEOQlACEv+1sAFjFAkJcAhLzsbwFYxABBXgIQ8rK/BWARAwR5CUDIy/4WgEUMEOQlACEv+1sAFjFAkJcAhLzsbwFYxABBXgIQ8rK/BWARAwR5CUDIy/4WgEUMEOQlACEv+1sAFjFAkJcAhLzsbwFYxABBXgIQ8rK/BWARAwR5CUDIy/4WgEUMEOQlACEv+1sAFjFAkJcAhLzs76QB+N3vfjd+8zd/MzZt2hSXXHJJ/PRP/3R84QtfiLm5uUUfd/jw4bjxxhtj5cqVccUVV8R99913QY9jgCAvAQh52d9JA/Bf//Vf4zd+4zfiiSeeiG9/+9vx5S9/OS6//PK45557Fj5meno6BgcHY8eOHTE+Ph579+6NgYGB2LNnT+vHMUCQlwCEvOzvpAG4lC9+8Ytx9dVXL/z5wQcfjLVr1y56VnB4eDiuu+661l/TAEFeAhDysr87FICf+9zn4hd/8RcX/jw0NBTbt29f9DH79++Ppmni5MmTrb6mAYK8BCDkZX93JAD/67/+K9asWRN/8zd/s/C2W265Je66665FH3fkyJFomiaOHj265NeZnZ2N6enphWtycrLzAwRZCUDISwD2WQAODw9H0zRveE1MTCz6nOPHj8c111wTd95556K3v5kA3LVr15KP2eUBgqwEIOQlAPssAE+cOBETExNveJ37M30vvvhiXHvttTE0NBRnz55d9LXezLeAPQMI3SEAIS8B2GcBeCGOHz8e1157bXz0ox+NM2fOvO79878Ecvr06YW37dy50y+BABEhACEz+ztpAB4/fjw2b94cv/ZrvxbHjx+Pl156aeGaNzU1FYODgzE0NBTj4+Px6KOPxqpVq7wMDBARAhAys7+TBuCXvvSl8/6M4LnOfSHojRs3xr333ntBj2OAIC8BCHnZ30kD8K1igCAvAQh52d8CsIgBgrwEIORlfwvAIgYI8hKAkJf9LQCLGCDISwBCXva3ACxigCAvAQh52d8CsIgBgrwEIORlfwvAIgYI8hKAkJf9LQCLGCDISwBCXva3ACxigCAvAQh52d8CsIgBgrwEIORlfwvAIgYI8hKAkJf9LQCLGCDISwBCXva3ACxigCAvAQh52d8CsIgBgrwEIORlfwvAIgYI8hKAkJf9LQCLGCDISwBCXva3ACxigCAvAQh52d8CsIgBgrwEIORlfwvAIgYI8hKAkJf9LQCLGCDISwBCXva3ACxigCAvAQh52d8CsIgBgrwEIORlfwvAIgYI8hKAkJf9LQCLGCDISwBCXva3ACxigCAvAQh52d8CsIgBgrwEIORlfwvAIgYI8hKAkJf9LQCLGCDISwBCXva3ACxigCAvAQh52d8CsIgBgrwEIORlfwvAIgYI8hKAkJf9LQCLGCDISwBCXva3ACxigCAvAQh52d8CsIgBgrwEIORlfwvAIgYI8hKAkJf9LQCLGCDISwBCXva3ACxigCAvAQh52d8CsIgBgrwEIORlfwvAIgYI8hKAkJf9LQCLGCDISwBCXva3ACxigCAvAQh52d8CsIgBgrwEIORlfwvAIgYI8hKAkJf9LQCLGCDISwBCXva3ACxigCAvAQh52d8CsIgBgrwEIORlfwvAIgYI8hKAkJf9LQCLGCDISwBCXva3ACxigCAvAQh52d8CsIgBgrwEIORlfwvAIgYI8hKAkJf9LQCLGCDISwBCXva3ACxigCAvAQh52d+JA3Dbtm1x5ZVXxsqVK2PDhg3x8Y9/PF588cVFH3P48OG48cYbY+XKlXHFFVfEfffdd0GPYYAgLwEIednfiQPwgQceiGeeeSZeeOGF+OpXvxpbtmyJLVu2LLx/eno6BgcHY8eOHTE+Ph579+6NgYGB2LNnT+vHMECQlwCEvOzvxAH4Wl/+8pdj2bJlcfr06YiIePDBB2Pt2rUxNze38DHDw8Nx3XXXtf6aBgjyEoCQl/3dkQD8wQ9+EHfccUfccMMNC28bGhqK7du3L/q4/fv3R9M0cfLkyVZf1wBBXgIQ8rK/kwfgH/7hH8aqVauiaZr45V/+5fjv//7vhffdcsstcddddy36+CNHjkTTNHH06NElv97s7GxMT08vXJOTk50fIMhKAEJeArDPAnB4eDiapnnDa2JiYuHjv//978e3vvWtePLJJ+OGG26I22+/PX74wx9GxJsLwF27di35mF0eIMhKAEJeArDPAvDEiRMxMTHxhte5P9N3rvln6w4dOhQRb+5bwJ4BhO4QgJCXAOyzACxx7NixaJomDhw4EBH/90sg878UEhGxc+dOvwQCRIQAhMzs76QB+LWvfS3+6q/+KsbGxuKFF16Ip556Kn7lV34lrrnmmpidnY2IiKmpqRgcHIyhoaEYHx+PRx99NFatWuVlYICIEICQmf2dNAD/8z//M371V3813vnOd8bKlStj06ZN8du//dtx/PjxRR937gtBb9y4Me69994LehwDBHkJQMjL/k4agG8VAwR5CUDIy/4WgEUMEOQlACEv+1sAFjFAkJcAhLzsbwFYxABBXgIQ8rK/BWARAwR5CUDIy/4WgEUMEOQlACEv+1sAFjFAkJcAhLzsbwFYxABBXgIQ8rK/BWARAwR5CUDIy/4WgEUMEOQlACEv+1sAFjFAkJcAhLzsbwFYxABBXgIQ8rK/BWARAwR5CUDIy/4WgEUMEOQlACEv+1sAFjFAkJcAhLzsbwFYxABBXgIQ8rK/BWARAwR5CUDIy/4WgEUMEOQlACEv+1sAFjFAkJcAhLzsbwFYxABBXgIQ8rK/BWARAwR5CUDIy/4WgEUMEOQlACEv+1sAFjFAkJcAhLzsbwFYxABBXgIQ8rK/BWARAwR5CUDIy/4WgEUMEOQlACEv+1sAFjFAkJcAhLzsbwFYxABBXgIQ8rK/BWARAwR5CUDIy/4WgEUMEOQlACEv+1sAFjFAkJcAhLzsbwFYxABBXgIQ8rK/BWARAwR5CUDIy/4WgEUMEOQlACEv+1sAFjFAkJcAhLzsbwFYxABBXgIQ8rK/BWARAwR5CUDIy/4WgEUMEOQlACEv+1sAFjFAkJcAhLzsbwFYxABBXgIQ8rK/BWARAwR5CUDIy/4WgEUMEOQlACEv+1sAFjFAkJcAhLzsbwFYxABBXgIQ8rK/BWARAwR5CUDIy/4WgEUMEOQlACEv+1sAFjFAkJcAhLzsbwFYxABBPc8//3yMjo6+ba6RkZFomiZGRkZ6fi/nXs8//3yv/1NB37O/BWARAwR1PP/889E0javlJQKhjP0tAIsYIKhj/tutb6dn2w4ePBgjIyNx8ODBnt/La5+VHB31bWkoYX8LwCIGCOqYD0Bh88acE9RhfwvAIgYI6hA27TgnqMP+FoBFDBDUIWzacU5Qh/3dgQCcnZ2N66+/PpqmibGxsUXvO3z4cNx4442xcuXKuOKKK+K+++67oK9tgKAOYdOOc4I67O8OBODv/u7vxm233fa6AJyeno7BwcHYsWNHjI+Px969e2NgYCD27NnT+msbIKhD2LTjnKAO+zt5AO7bty9+5md+Jo4cOfK6AHzwwQdj7dq1MTc3t/C24eHhuO6661p/fQMEdQibdpwT1GF/Jw7Al19+OTZu3Bj//u//Ht/97ndfF4BDQ0Oxffv2RZ+zf//+aJomTp48ueTXnJ2djenp6YVrcnKy8wMENQibdpwT1CEAkwbgD3/4w7j11lvjT//0TyMilgzAW265Je66665Fnzf/TOHRo0eX/Lq7du1a8kVZuzxAUIOwacc5QR0CsM8CcHh4+Ee+Qv7ExET85V/+Zdxwww1x5syZiKgXgJ4BhP8fwqYd5wR1CMA+C8ATJ07ExMTEG15zc3Oxffv2WL58eaxYsWLhapomVqxYEZ/4xCci4s19C/i1DBDUIWzacU5Qh/3dZwHY1rFjx+Ib3/jGwvXEE09E0zTx2GOPxeTkZET83y+BnD59euHzdu7c6ZdAoAeETTvOCeqwv5MG4Gst9S3gqampGBwcjKGhoRgfH49HH300Vq1a5WVgoAeETTvOCeqwvzscgBGLXwh648aNce+9917Q1zVAUIewacc5QR32d0cC8P+LAYI6hE07zgnqsL8FYBEDBHUIm3acE9RhfwvAIgYI6hA27TgnqMP+FoBFDBDUIWzacU5Qh/0tAIsYIKhD2LTjnKAO+1sAFjFAUIewacc5QR32twAsYoCgDmHTjnOCOuxvAVjEAEEdwqYd5wR12N8CsIgBgjqETTvOCeqwvwVgEQMEdQibdpwT1GF/C8AiBgjqEDbtOCeow/4WgEUMENQhbNpxTlCH/S0AixggqEPYtOOcoA77WwAWMUBQh7BpxzlBHfa3ACxigKAOYdOOc4I67G8BWMQAQR3Cph3nBHXY3wKwiAGCOoRNO84J6rC/BWARAwR1CJt2nBPUYX8LwCIGCOoQNu04J6jD/haARQwQ1CFs2nFOUIf9LQCLGCCoQ9i045ygDvtbABYxQFCHsGnHOUEd9rcALGKAoA5h045zgjrsbwFYxABBHcKmHecEddjfArCIAYI6hE07zgnqsL8FYBEDBHUIm3acE9RhfwvAIgYI6hA27TgnqMP+FoBFDBDUIWzacU5Qh/0tAIsYIKhD2LTjnKAO+1sAFjFAUIewacc5QR32twAsYoCgDmHTjnOCOuxvAVjEAEEdwqYd5wR12N8CsIgBgjqETTvOCeqwvwVgEQMEdQibdpwT1GF/C8AiBgjqEDbtOCeow/4WgEUMENQhbNpxTlCH/S0AixggqOPZr381fmHD8jj61N6IF8dc57mOPrU3fmHD8nj261/t9X8y6Gv2twAsYoCgjqNP7Y3YtcbV8jr61N5e/yeDvmZ/C8AiBgjq8AygZwDhrWR/C8AiBgjq8LNt7TgnqMP+FoBFDBDUIWzacU5Qh/0tAIsYIKhD2LTjnKAO+1sAFjFAUIewacc5QR32twAsYoCgDmHTjnOCOuxvAVjEAEEdwqYd5wR12N8CsIgBgjqETTvOCeqwvwVgEQMEdQibdpwT1GF/C8AiBgjqEDbtOCeow/4WgEUMENQhbNpxTlCH/S0AixggqEPYtOOcoA77WwAWMUBQh7BpxzlBHfa3ACxigKAOYdOOc4I67O/EAfhTP/VT0TTNousv/uIvFn3M4cOH48Ybb4yVK1fGFVdcEffdd98FPYYBgjqETTvOCeqwv5MH4J/8yZ/ESy+9tHD9z//8z8L7p6enY3BwMHbs2BHj4+Oxd+/eGBgYiD179rR+DAMEdQibdpwT1GF/Jw/A3bt3n/f9Dz74YKxduzbm5uYW3jY8PBzXXXdd68cwQFCHsGnHOUEd9nfyABwcHIx3vvOd8Z73vCe++MUvxquvvrrw/qGhodi+ffuiz9m/f380TRMnT55s9RgGCOoQNu04J6jD/k4cgPfff38cOHAgDh8+HA899FBceuml8fu///sL77/lllvirrvuWvQ5R44ciaZp4ujRo0t+zdnZ2Zienl64JicnOz9AUIOwacc5QR0CsM8CcHh4+HW/2PHaa2JiYsnP/bu/+7u46KKLYnZ2NiLeXADu2rVrycfs8gBBDcKmHecEdQjAPgvAEydOxMTExBte5/5M37nGx8ejaZr45je/GRFv7lvAngGE/x/Cph3nBHUIwD4LwBIjIyOxfPnyhbib/yWQ06dPL3zMzp07/RII9ICwacc5QR32d9IAPHToUOzevTuee+65+Pa3vx0jIyOxfv36+MQnPrHwMVNTUzE4OBhDQ0MxPj4ejz76aKxatcrLwEAPCJt2nBPUYX8nDcDR0dH4pV/6pXjHO94Rl1xySfzsz/5s/Pmf//nCz//NO/eFoDdu3Bj33nvvBT2OAYI6hE07zgnqsL+TBuBbxQBBHcKmHecEddjfArCIAYI6hE07zgnqsL8FYBEDBHUIm3acE9RhfwvAIgYI6hA27TgnqMP+FoBFDBDUIWzacU5Qh/0tAIsYIKhD2LTjnKAO+1sAFjFAUIewacc5QR32twAsYoCgDmHTjnOCOuxvAVjEAEEdwqYd5wR12N8CsIgBgjqETTvOCeqwvwVgEQMEdQibdpwT1GF/C8AiBgjqEDbtOCeow/4WgEUMENQhbNpxTlCH/S0AixggqEPYtOOcoA77WwAWMUBQh7BpxzlBHfa3ACxigKAOYdOOc4I67G8BWMQAQR3Cph3nBHXY3wKwiAGCOoRNO84J6rC/BWARAwR1CJt2nBPUYX8LwCIGCOoQNu04J6jD/haARQwQ1CFs2nFOUIf9LQCLGCCoQ9i045ygDvtbABYxQFCHsGnHOUEd9rcALGKAoA5h045zgjrsbwFYxABBHcKmHecEddjfArCIAYI6hE07zgnqsL8FYBEDBHUIm3acE9RhfwvAIgYI6hA27TgnqMP+FoBFDBDU8fTTT0fTNPHwww/H6Ojo2+I6ePBgjIyMxMGDB3t+L/PXyMiIAIQK7G8BWMQAQR0PP/xwNE3jank9//zzvf5PBn3N/haARQwQ1PH9738/Hn744Xj66ad7/izba59tGxkZ6fm9nHuJPyhnfwvAIgYI8hod9fN2kJX9LQCLGCDISwBCXva3ACxigCAvAQh52d8CsIgBgrwEIORlfwvAIgYI8hKAkJf9LQCLGCDISwBCXva3ACxigCAvAQh52d8CsIgBgrwEIORlfwvAIgYI8hKAkJf9LQCLGCDISwBCXva3ACxigCAvAQh52d8CsIgBgrwEIORlfwvAIgYI8hKAkJf9LQCLGCDISwBCXva3ACxigCAvAQh52d8CsIgBgrwEIORlfwvAIgYI8hKAkJf9LQCLGCDISwBCXva3ACxigCAvAQh52d8CsIgBgrwEIORlfwvAIgYI8hKAkJf9LQCLGCDISwBCXvZ34gD8l3/5l3jf+94Xl1xySVx66aWxffv2Re8/duxY3H777TEwMBDr16+Pz3zmM/Hqq69e0GMYIHh7OXXqVIyOjla5RkZGommaGBkZqfY1T5061esjAsL+jkgagI899lisXbs2HnroofjWt74VR44ciX/8x39ceP+ZM2fi3e9+d9x8880xNjYW+/bti3Xr1sXOnTsv6HEMELy9zD9r93a9PJsIbw/2d8IAfPXVV2Pjxo3xt3/7t+f9mH379sXy5cvj5ZdfXnjbQw89FGvWrIm5ubnWj2WA4O2l5jOABw8ejJGRkTh48KBnACEZ+zthAH7961+Ppmni7//+7+M973lPbJGHbDIAAAPUSURBVNiwIW699db4xje+sfAxn//85+P6669f9Hnf+c53ommaePbZZ8/7tWdnZ2N6enrhmpyc7PwAAUC/EYAJA3Dv3r3RNE1cddVV8dhjj8V//Md/xMc+9rG47LLL4gc/+EFERHzqU5+KrVu3Lvq8U6dORdM0sW/fvvN+7V27di35bZ0uDxAA9BsB2EcBODw8/CN/vmZiYiL+4R/+IZqmiT179ix87uzsbKxbty7++q//OiLefAB6BhAA+p8A7KMAPHHiRExMTLzhNTc3F/v374+maeLpp59e9Pnve9/74o/+6I8i4s1/C/i1DBAA9B/7u48CsK3p6elYuXLlol8COX36dFx++eULzwrO/xLI9773vYWP2bNnT6xZsyZmZ2cv6LG6PkAA0G/s74QBGBHxe7/3e7Fx48Z44okn4pvf/Gbceeedcfnll8fJkycj4v9eBmbr1q3x3HPPxVe+8pVYv369l4EBgA6wv5MG4OnTp+Oee+6Jyy+/PH7iJ34ibr755hgfH1/0MS+88ELcdtttMTAwEOvWrYt77rnHC0EDQAfY30kD8K1igACg/9jfArCIAQKA/mN/C8AiBggA+o/9LQCLGCAA6D/2twAsYoAAoP/Y3wKwiAECgP5jfwvAIgYIAPqP/S0Ai0xNTUXTNDE5Obno3wh2uVwul8v19r0mJyejaZqYmprqdUr0jAAsMD9ALpfL5XK5+u+anJzsdUr0jAAscPbs2ZicnIypqame/23G5XLVveb/gucZfpcr3zU1NRWTk5Nx9uzZXqdEzwhAgCVMT/sZISAvAQiwBAEIZCYAAZYgAIHMBCDAEmZnZ2PXrl0xOzvb61sBqE4AAgB0jAAEAOgYAQgA0DECEACgYwQgAEDHCECAc/zbv/1b/Pqv/3r85E/+ZDRNE//8z//c61sCqE4AApxj37598bnPfS7+6Z/+SQACaQlAgPMQgEBWAhDgPAQgkJUABDgPAQhkJQABzkMAAlkJQIDzEIBAVgIQ4DwEIJCVAAQ4x8zMTIyNjcXY2Fg0TRMPPPBAjI2NxbFjx3p9awDVCECAcxw4cCCapnnd9clPfrLXtwZQjQAEAOgYAQgA0DECEACgYwQgAEDHCEAAgI4RgAAAHSMAAQA6RgACAHSMAAQA6BgBCADQMQIQAKBjBCAAQMcIQACAjhGAAAAdIwABADpGAAIAdIwABADoGAEIANAxAhAAoGMEIABAxwhAAICOEYAAAB0jAAEAOkYAAgB0jAAEAOgYAQgA0DECEACgYwQgAEDHCEAAgI4RgAAAHSMAAQA6RgACAHTM/wLFMpQuytdeygAAAABJRU5ErkJggg==\" width=\"640\">"
      ],
      "text/plain": [
       "<IPython.core.display.HTML object>"
      ]
     },
     "metadata": {},
     "output_type": "display_data"
    },
    {
     "data": {
      "text/plain": [
       "{'whiskers': [<matplotlib.lines.Line2D at 0x7f3b11df1208>,\n",
       "  <matplotlib.lines.Line2D at 0x7f3b11df1588>],\n",
       " 'caps': [<matplotlib.lines.Line2D at 0x7f3b11df1908>,\n",
       "  <matplotlib.lines.Line2D at 0x7f3b11df1c88>],\n",
       " 'boxes': [<matplotlib.lines.Line2D at 0x7f3b11df10b8>],\n",
       " 'medians': [<matplotlib.lines.Line2D at 0x7f3b11df9048>],\n",
       " 'fliers': [<matplotlib.lines.Line2D at 0x7f3b11df93c8>],\n",
       " 'means': []}"
      ]
     },
     "execution_count": 27,
     "metadata": {},
     "output_type": "execute_result"
    }
   ],
   "source": [
    "rms_values = all_split_measure[all_split_measure['measurement']=='rms']\n",
    "plt.figure()\n",
    "plt.boxplot(dB(rms_values['value']))"
   ]
  },
  {
   "cell_type": "markdown",
   "metadata": {},
   "source": [
    "### Choosing only those above the silence threshold\n",
    "Now all windows above the silence threshold need to be chosen. Previously, in the notebook *what qualifies as a silent audio segment* I'd set the $silence+20$dB threshold. Right now, I'm wondering if that threshold is too high, and that it'd mean losing out on a lot of data. But first let's see how much data is left with +10 and +20 dB thresholds. "
   ]
  },
  {
   "cell_type": "code",
   "execution_count": 13,
   "metadata": {},
   "outputs": [
    {
     "data": {
      "text/html": [
       "<div>\n",
       "<style scoped>\n",
       "    .dataframe tbody tr th:only-of-type {\n",
       "        vertical-align: middle;\n",
       "    }\n",
       "\n",
       "    .dataframe tbody tr th {\n",
       "        vertical-align: top;\n",
       "    }\n",
       "\n",
       "    .dataframe thead th {\n",
       "        text-align: right;\n",
       "    }\n",
       "</style>\n",
       "<table border=\"1\" class=\"dataframe\">\n",
       "  <thead>\n",
       "    <tr style=\"text-align: right;\">\n",
       "      <th></th>\n",
       "      <th>Unnamed: 0</th>\n",
       "      <th>call_dbpeak_threshold</th>\n",
       "      <th>call_dbrms_threshold</th>\n",
       "    </tr>\n",
       "  </thead>\n",
       "  <tbody>\n",
       "    <tr>\n",
       "      <th>0</th>\n",
       "      <td>0</td>\n",
       "      <td>-23.0</td>\n",
       "      <td>-37.0</td>\n",
       "    </tr>\n",
       "  </tbody>\n",
       "</table>\n",
       "</div>"
      ],
      "text/plain": [
       "   Unnamed: 0  call_dbpeak_threshold  call_dbrms_threshold\n",
       "0           0                  -23.0                 -37.0"
      ]
     },
     "execution_count": 13,
     "metadata": {},
     "output_type": "execute_result"
    }
   ],
   "source": [
    "plus20dB_threshold = pd.read_csv('../call_threshold_levels.csv')\n",
    "plus20dB_threshold"
   ]
  },
  {
   "cell_type": "code",
   "execution_count": 14,
   "metadata": {},
   "outputs": [],
   "source": [
    "measurement_df = all_split_measure"
   ]
  },
  {
   "cell_type": "code",
   "execution_count": 15,
   "metadata": {},
   "outputs": [],
   "source": [
    "def choose_all_windows_above_threshold(measurement_df, threshold):\n",
    "    '''\n",
    "    Chooses all windows with rms greater or equal to the given rms threshold\n",
    "    \n",
    "    \n",
    "    Parameters\n",
    "    ----------\n",
    "    measurement_df : pd.DataFrame\n",
    "        A long dataframe with one measurement value per row\n",
    "        Must have the columns 'measurement', 'unique_window_id'\n",
    "        The 'measurement' column must also have some entries with 'rms' in them. \n",
    "    threshold : float>0\n",
    "        The rms threshold to define windows which are not silent. \n",
    "    \n",
    "    Returns \n",
    "    -------\n",
    "    all_above_threshold : pd.DataFrame\n",
    "        The dataframe with all segments across different files that are greater than or equal to the \n",
    "        chosen threshold rms. \n",
    "    '''\n",
    "\n",
    "    rms_values = measurement_df[measurement_df['measurement']=='rms'].reset_index(drop=True)\n",
    "    above_threshold = rms_values[rms_values['value']>=threshold]\n",
    "    windowids_above_threshold = above_threshold['unique_window_id']\n",
    "    all_above_threshold = measurement_df[measurement_df['unique_window_id'].isin(windowids_above_threshold)].reset_index(drop=True)\n",
    "    return all_above_threshold\n"
   ]
  },
  {
   "cell_type": "code",
   "execution_count": 16,
   "metadata": {},
   "outputs": [
    {
     "data": {
      "text/plain": [
       "(0.01412537544622754, 0.0044668359215096305)"
      ]
     },
     "execution_count": 16,
     "metadata": {},
     "output_type": "execute_result"
    }
   ],
   "source": [
    "threshold_20db = float(10**(plus20dB_threshold['call_dbrms_threshold']/20.0))\n",
    "threshold10db  = float(10**((plus20dB_threshold['call_dbrms_threshold']-10)/20.0))\n",
    "threshold_20db, threshold10db"
   ]
  },
  {
   "cell_type": "code",
   "execution_count": 17,
   "metadata": {},
   "outputs": [],
   "source": [
    "non_silent_measures = choose_all_windows_above_threshold(all_split_measure, threshold_20db)"
   ]
  },
  {
   "cell_type": "code",
   "execution_count": 33,
   "metadata": {},
   "outputs": [
    {
     "data": {
      "application/javascript": [
       "/* Put everything inside the global mpl namespace */\n",
       "window.mpl = {};\n",
       "\n",
       "\n",
       "mpl.get_websocket_type = function() {\n",
       "    if (typeof(WebSocket) !== 'undefined') {\n",
       "        return WebSocket;\n",
       "    } else if (typeof(MozWebSocket) !== 'undefined') {\n",
       "        return MozWebSocket;\n",
       "    } else {\n",
       "        alert('Your browser does not have WebSocket support. ' +\n",
       "              'Please try Chrome, Safari or Firefox ≥ 6. ' +\n",
       "              'Firefox 4 and 5 are also supported but you ' +\n",
       "              'have to enable WebSockets in about:config.');\n",
       "    };\n",
       "}\n",
       "\n",
       "mpl.figure = function(figure_id, websocket, ondownload, parent_element) {\n",
       "    this.id = figure_id;\n",
       "\n",
       "    this.ws = websocket;\n",
       "\n",
       "    this.supports_binary = (this.ws.binaryType != undefined);\n",
       "\n",
       "    if (!this.supports_binary) {\n",
       "        var warnings = document.getElementById(\"mpl-warnings\");\n",
       "        if (warnings) {\n",
       "            warnings.style.display = 'block';\n",
       "            warnings.textContent = (\n",
       "                \"This browser does not support binary websocket messages. \" +\n",
       "                    \"Performance may be slow.\");\n",
       "        }\n",
       "    }\n",
       "\n",
       "    this.imageObj = new Image();\n",
       "\n",
       "    this.context = undefined;\n",
       "    this.message = undefined;\n",
       "    this.canvas = undefined;\n",
       "    this.rubberband_canvas = undefined;\n",
       "    this.rubberband_context = undefined;\n",
       "    this.format_dropdown = undefined;\n",
       "\n",
       "    this.image_mode = 'full';\n",
       "\n",
       "    this.root = $('<div/>');\n",
       "    this._root_extra_style(this.root)\n",
       "    this.root.attr('style', 'display: inline-block');\n",
       "\n",
       "    $(parent_element).append(this.root);\n",
       "\n",
       "    this._init_header(this);\n",
       "    this._init_canvas(this);\n",
       "    this._init_toolbar(this);\n",
       "\n",
       "    var fig = this;\n",
       "\n",
       "    this.waiting = false;\n",
       "\n",
       "    this.ws.onopen =  function () {\n",
       "            fig.send_message(\"supports_binary\", {value: fig.supports_binary});\n",
       "            fig.send_message(\"send_image_mode\", {});\n",
       "            if (mpl.ratio != 1) {\n",
       "                fig.send_message(\"set_dpi_ratio\", {'dpi_ratio': mpl.ratio});\n",
       "            }\n",
       "            fig.send_message(\"refresh\", {});\n",
       "        }\n",
       "\n",
       "    this.imageObj.onload = function() {\n",
       "            if (fig.image_mode == 'full') {\n",
       "                // Full images could contain transparency (where diff images\n",
       "                // almost always do), so we need to clear the canvas so that\n",
       "                // there is no ghosting.\n",
       "                fig.context.clearRect(0, 0, fig.canvas.width, fig.canvas.height);\n",
       "            }\n",
       "            fig.context.drawImage(fig.imageObj, 0, 0);\n",
       "        };\n",
       "\n",
       "    this.imageObj.onunload = function() {\n",
       "        fig.ws.close();\n",
       "    }\n",
       "\n",
       "    this.ws.onmessage = this._make_on_message_function(this);\n",
       "\n",
       "    this.ondownload = ondownload;\n",
       "}\n",
       "\n",
       "mpl.figure.prototype._init_header = function() {\n",
       "    var titlebar = $(\n",
       "        '<div class=\"ui-dialog-titlebar ui-widget-header ui-corner-all ' +\n",
       "        'ui-helper-clearfix\"/>');\n",
       "    var titletext = $(\n",
       "        '<div class=\"ui-dialog-title\" style=\"width: 100%; ' +\n",
       "        'text-align: center; padding: 3px;\"/>');\n",
       "    titlebar.append(titletext)\n",
       "    this.root.append(titlebar);\n",
       "    this.header = titletext[0];\n",
       "}\n",
       "\n",
       "\n",
       "\n",
       "mpl.figure.prototype._canvas_extra_style = function(canvas_div) {\n",
       "\n",
       "}\n",
       "\n",
       "\n",
       "mpl.figure.prototype._root_extra_style = function(canvas_div) {\n",
       "\n",
       "}\n",
       "\n",
       "mpl.figure.prototype._init_canvas = function() {\n",
       "    var fig = this;\n",
       "\n",
       "    var canvas_div = $('<div/>');\n",
       "\n",
       "    canvas_div.attr('style', 'position: relative; clear: both; outline: 0');\n",
       "\n",
       "    function canvas_keyboard_event(event) {\n",
       "        return fig.key_event(event, event['data']);\n",
       "    }\n",
       "\n",
       "    canvas_div.keydown('key_press', canvas_keyboard_event);\n",
       "    canvas_div.keyup('key_release', canvas_keyboard_event);\n",
       "    this.canvas_div = canvas_div\n",
       "    this._canvas_extra_style(canvas_div)\n",
       "    this.root.append(canvas_div);\n",
       "\n",
       "    var canvas = $('<canvas/>');\n",
       "    canvas.addClass('mpl-canvas');\n",
       "    canvas.attr('style', \"left: 0; top: 0; z-index: 0; outline: 0\")\n",
       "\n",
       "    this.canvas = canvas[0];\n",
       "    this.context = canvas[0].getContext(\"2d\");\n",
       "\n",
       "    var backingStore = this.context.backingStorePixelRatio ||\n",
       "\tthis.context.webkitBackingStorePixelRatio ||\n",
       "\tthis.context.mozBackingStorePixelRatio ||\n",
       "\tthis.context.msBackingStorePixelRatio ||\n",
       "\tthis.context.oBackingStorePixelRatio ||\n",
       "\tthis.context.backingStorePixelRatio || 1;\n",
       "\n",
       "    mpl.ratio = (window.devicePixelRatio || 1) / backingStore;\n",
       "\n",
       "    var rubberband = $('<canvas/>');\n",
       "    rubberband.attr('style', \"position: absolute; left: 0; top: 0; z-index: 1;\")\n",
       "\n",
       "    var pass_mouse_events = true;\n",
       "\n",
       "    canvas_div.resizable({\n",
       "        start: function(event, ui) {\n",
       "            pass_mouse_events = false;\n",
       "        },\n",
       "        resize: function(event, ui) {\n",
       "            fig.request_resize(ui.size.width, ui.size.height);\n",
       "        },\n",
       "        stop: function(event, ui) {\n",
       "            pass_mouse_events = true;\n",
       "            fig.request_resize(ui.size.width, ui.size.height);\n",
       "        },\n",
       "    });\n",
       "\n",
       "    function mouse_event_fn(event) {\n",
       "        if (pass_mouse_events)\n",
       "            return fig.mouse_event(event, event['data']);\n",
       "    }\n",
       "\n",
       "    rubberband.mousedown('button_press', mouse_event_fn);\n",
       "    rubberband.mouseup('button_release', mouse_event_fn);\n",
       "    // Throttle sequential mouse events to 1 every 20ms.\n",
       "    rubberband.mousemove('motion_notify', mouse_event_fn);\n",
       "\n",
       "    rubberband.mouseenter('figure_enter', mouse_event_fn);\n",
       "    rubberband.mouseleave('figure_leave', mouse_event_fn);\n",
       "\n",
       "    canvas_div.on(\"wheel\", function (event) {\n",
       "        event = event.originalEvent;\n",
       "        event['data'] = 'scroll'\n",
       "        if (event.deltaY < 0) {\n",
       "            event.step = 1;\n",
       "        } else {\n",
       "            event.step = -1;\n",
       "        }\n",
       "        mouse_event_fn(event);\n",
       "    });\n",
       "\n",
       "    canvas_div.append(canvas);\n",
       "    canvas_div.append(rubberband);\n",
       "\n",
       "    this.rubberband = rubberband;\n",
       "    this.rubberband_canvas = rubberband[0];\n",
       "    this.rubberband_context = rubberband[0].getContext(\"2d\");\n",
       "    this.rubberband_context.strokeStyle = \"#000000\";\n",
       "\n",
       "    this._resize_canvas = function(width, height) {\n",
       "        // Keep the size of the canvas, canvas container, and rubber band\n",
       "        // canvas in synch.\n",
       "        canvas_div.css('width', width)\n",
       "        canvas_div.css('height', height)\n",
       "\n",
       "        canvas.attr('width', width * mpl.ratio);\n",
       "        canvas.attr('height', height * mpl.ratio);\n",
       "        canvas.attr('style', 'width: ' + width + 'px; height: ' + height + 'px;');\n",
       "\n",
       "        rubberband.attr('width', width);\n",
       "        rubberband.attr('height', height);\n",
       "    }\n",
       "\n",
       "    // Set the figure to an initial 600x600px, this will subsequently be updated\n",
       "    // upon first draw.\n",
       "    this._resize_canvas(600, 600);\n",
       "\n",
       "    // Disable right mouse context menu.\n",
       "    $(this.rubberband_canvas).bind(\"contextmenu\",function(e){\n",
       "        return false;\n",
       "    });\n",
       "\n",
       "    function set_focus () {\n",
       "        canvas.focus();\n",
       "        canvas_div.focus();\n",
       "    }\n",
       "\n",
       "    window.setTimeout(set_focus, 100);\n",
       "}\n",
       "\n",
       "mpl.figure.prototype._init_toolbar = function() {\n",
       "    var fig = this;\n",
       "\n",
       "    var nav_element = $('<div/>');\n",
       "    nav_element.attr('style', 'width: 100%');\n",
       "    this.root.append(nav_element);\n",
       "\n",
       "    // Define a callback function for later on.\n",
       "    function toolbar_event(event) {\n",
       "        return fig.toolbar_button_onclick(event['data']);\n",
       "    }\n",
       "    function toolbar_mouse_event(event) {\n",
       "        return fig.toolbar_button_onmouseover(event['data']);\n",
       "    }\n",
       "\n",
       "    for(var toolbar_ind in mpl.toolbar_items) {\n",
       "        var name = mpl.toolbar_items[toolbar_ind][0];\n",
       "        var tooltip = mpl.toolbar_items[toolbar_ind][1];\n",
       "        var image = mpl.toolbar_items[toolbar_ind][2];\n",
       "        var method_name = mpl.toolbar_items[toolbar_ind][3];\n",
       "\n",
       "        if (!name) {\n",
       "            // put a spacer in here.\n",
       "            continue;\n",
       "        }\n",
       "        var button = $('<button/>');\n",
       "        button.addClass('ui-button ui-widget ui-state-default ui-corner-all ' +\n",
       "                        'ui-button-icon-only');\n",
       "        button.attr('role', 'button');\n",
       "        button.attr('aria-disabled', 'false');\n",
       "        button.click(method_name, toolbar_event);\n",
       "        button.mouseover(tooltip, toolbar_mouse_event);\n",
       "\n",
       "        var icon_img = $('<span/>');\n",
       "        icon_img.addClass('ui-button-icon-primary ui-icon');\n",
       "        icon_img.addClass(image);\n",
       "        icon_img.addClass('ui-corner-all');\n",
       "\n",
       "        var tooltip_span = $('<span/>');\n",
       "        tooltip_span.addClass('ui-button-text');\n",
       "        tooltip_span.html(tooltip);\n",
       "\n",
       "        button.append(icon_img);\n",
       "        button.append(tooltip_span);\n",
       "\n",
       "        nav_element.append(button);\n",
       "    }\n",
       "\n",
       "    var fmt_picker_span = $('<span/>');\n",
       "\n",
       "    var fmt_picker = $('<select/>');\n",
       "    fmt_picker.addClass('mpl-toolbar-option ui-widget ui-widget-content');\n",
       "    fmt_picker_span.append(fmt_picker);\n",
       "    nav_element.append(fmt_picker_span);\n",
       "    this.format_dropdown = fmt_picker[0];\n",
       "\n",
       "    for (var ind in mpl.extensions) {\n",
       "        var fmt = mpl.extensions[ind];\n",
       "        var option = $(\n",
       "            '<option/>', {selected: fmt === mpl.default_extension}).html(fmt);\n",
       "        fmt_picker.append(option);\n",
       "    }\n",
       "\n",
       "    // Add hover states to the ui-buttons\n",
       "    $( \".ui-button\" ).hover(\n",
       "        function() { $(this).addClass(\"ui-state-hover\");},\n",
       "        function() { $(this).removeClass(\"ui-state-hover\");}\n",
       "    );\n",
       "\n",
       "    var status_bar = $('<span class=\"mpl-message\"/>');\n",
       "    nav_element.append(status_bar);\n",
       "    this.message = status_bar[0];\n",
       "}\n",
       "\n",
       "mpl.figure.prototype.request_resize = function(x_pixels, y_pixels) {\n",
       "    // Request matplotlib to resize the figure. Matplotlib will then trigger a resize in the client,\n",
       "    // which will in turn request a refresh of the image.\n",
       "    this.send_message('resize', {'width': x_pixels, 'height': y_pixels});\n",
       "}\n",
       "\n",
       "mpl.figure.prototype.send_message = function(type, properties) {\n",
       "    properties['type'] = type;\n",
       "    properties['figure_id'] = this.id;\n",
       "    this.ws.send(JSON.stringify(properties));\n",
       "}\n",
       "\n",
       "mpl.figure.prototype.send_draw_message = function() {\n",
       "    if (!this.waiting) {\n",
       "        this.waiting = true;\n",
       "        this.ws.send(JSON.stringify({type: \"draw\", figure_id: this.id}));\n",
       "    }\n",
       "}\n",
       "\n",
       "\n",
       "mpl.figure.prototype.handle_save = function(fig, msg) {\n",
       "    var format_dropdown = fig.format_dropdown;\n",
       "    var format = format_dropdown.options[format_dropdown.selectedIndex].value;\n",
       "    fig.ondownload(fig, format);\n",
       "}\n",
       "\n",
       "\n",
       "mpl.figure.prototype.handle_resize = function(fig, msg) {\n",
       "    var size = msg['size'];\n",
       "    if (size[0] != fig.canvas.width || size[1] != fig.canvas.height) {\n",
       "        fig._resize_canvas(size[0], size[1]);\n",
       "        fig.send_message(\"refresh\", {});\n",
       "    };\n",
       "}\n",
       "\n",
       "mpl.figure.prototype.handle_rubberband = function(fig, msg) {\n",
       "    var x0 = msg['x0'] / mpl.ratio;\n",
       "    var y0 = (fig.canvas.height - msg['y0']) / mpl.ratio;\n",
       "    var x1 = msg['x1'] / mpl.ratio;\n",
       "    var y1 = (fig.canvas.height - msg['y1']) / mpl.ratio;\n",
       "    x0 = Math.floor(x0) + 0.5;\n",
       "    y0 = Math.floor(y0) + 0.5;\n",
       "    x1 = Math.floor(x1) + 0.5;\n",
       "    y1 = Math.floor(y1) + 0.5;\n",
       "    var min_x = Math.min(x0, x1);\n",
       "    var min_y = Math.min(y0, y1);\n",
       "    var width = Math.abs(x1 - x0);\n",
       "    var height = Math.abs(y1 - y0);\n",
       "\n",
       "    fig.rubberband_context.clearRect(\n",
       "        0, 0, fig.canvas.width / mpl.ratio, fig.canvas.height / mpl.ratio);\n",
       "\n",
       "    fig.rubberband_context.strokeRect(min_x, min_y, width, height);\n",
       "}\n",
       "\n",
       "mpl.figure.prototype.handle_figure_label = function(fig, msg) {\n",
       "    // Updates the figure title.\n",
       "    fig.header.textContent = msg['label'];\n",
       "}\n",
       "\n",
       "mpl.figure.prototype.handle_cursor = function(fig, msg) {\n",
       "    var cursor = msg['cursor'];\n",
       "    switch(cursor)\n",
       "    {\n",
       "    case 0:\n",
       "        cursor = 'pointer';\n",
       "        break;\n",
       "    case 1:\n",
       "        cursor = 'default';\n",
       "        break;\n",
       "    case 2:\n",
       "        cursor = 'crosshair';\n",
       "        break;\n",
       "    case 3:\n",
       "        cursor = 'move';\n",
       "        break;\n",
       "    }\n",
       "    fig.rubberband_canvas.style.cursor = cursor;\n",
       "}\n",
       "\n",
       "mpl.figure.prototype.handle_message = function(fig, msg) {\n",
       "    fig.message.textContent = msg['message'];\n",
       "}\n",
       "\n",
       "mpl.figure.prototype.handle_draw = function(fig, msg) {\n",
       "    // Request the server to send over a new figure.\n",
       "    fig.send_draw_message();\n",
       "}\n",
       "\n",
       "mpl.figure.prototype.handle_image_mode = function(fig, msg) {\n",
       "    fig.image_mode = msg['mode'];\n",
       "}\n",
       "\n",
       "mpl.figure.prototype.updated_canvas_event = function() {\n",
       "    // Called whenever the canvas gets updated.\n",
       "    this.send_message(\"ack\", {});\n",
       "}\n",
       "\n",
       "// A function to construct a web socket function for onmessage handling.\n",
       "// Called in the figure constructor.\n",
       "mpl.figure.prototype._make_on_message_function = function(fig) {\n",
       "    return function socket_on_message(evt) {\n",
       "        if (evt.data instanceof Blob) {\n",
       "            /* FIXME: We get \"Resource interpreted as Image but\n",
       "             * transferred with MIME type text/plain:\" errors on\n",
       "             * Chrome.  But how to set the MIME type?  It doesn't seem\n",
       "             * to be part of the websocket stream */\n",
       "            evt.data.type = \"image/png\";\n",
       "\n",
       "            /* Free the memory for the previous frames */\n",
       "            if (fig.imageObj.src) {\n",
       "                (window.URL || window.webkitURL).revokeObjectURL(\n",
       "                    fig.imageObj.src);\n",
       "            }\n",
       "\n",
       "            fig.imageObj.src = (window.URL || window.webkitURL).createObjectURL(\n",
       "                evt.data);\n",
       "            fig.updated_canvas_event();\n",
       "            fig.waiting = false;\n",
       "            return;\n",
       "        }\n",
       "        else if (typeof evt.data === 'string' && evt.data.slice(0, 21) == \"data:image/png;base64\") {\n",
       "            fig.imageObj.src = evt.data;\n",
       "            fig.updated_canvas_event();\n",
       "            fig.waiting = false;\n",
       "            return;\n",
       "        }\n",
       "\n",
       "        var msg = JSON.parse(evt.data);\n",
       "        var msg_type = msg['type'];\n",
       "\n",
       "        // Call the  \"handle_{type}\" callback, which takes\n",
       "        // the figure and JSON message as its only arguments.\n",
       "        try {\n",
       "            var callback = fig[\"handle_\" + msg_type];\n",
       "        } catch (e) {\n",
       "            console.log(\"No handler for the '\" + msg_type + \"' message type: \", msg);\n",
       "            return;\n",
       "        }\n",
       "\n",
       "        if (callback) {\n",
       "            try {\n",
       "                // console.log(\"Handling '\" + msg_type + \"' message: \", msg);\n",
       "                callback(fig, msg);\n",
       "            } catch (e) {\n",
       "                console.log(\"Exception inside the 'handler_\" + msg_type + \"' callback:\", e, e.stack, msg);\n",
       "            }\n",
       "        }\n",
       "    };\n",
       "}\n",
       "\n",
       "// from http://stackoverflow.com/questions/1114465/getting-mouse-location-in-canvas\n",
       "mpl.findpos = function(e) {\n",
       "    //this section is from http://www.quirksmode.org/js/events_properties.html\n",
       "    var targ;\n",
       "    if (!e)\n",
       "        e = window.event;\n",
       "    if (e.target)\n",
       "        targ = e.target;\n",
       "    else if (e.srcElement)\n",
       "        targ = e.srcElement;\n",
       "    if (targ.nodeType == 3) // defeat Safari bug\n",
       "        targ = targ.parentNode;\n",
       "\n",
       "    // jQuery normalizes the pageX and pageY\n",
       "    // pageX,Y are the mouse positions relative to the document\n",
       "    // offset() returns the position of the element relative to the document\n",
       "    var x = e.pageX - $(targ).offset().left;\n",
       "    var y = e.pageY - $(targ).offset().top;\n",
       "\n",
       "    return {\"x\": x, \"y\": y};\n",
       "};\n",
       "\n",
       "/*\n",
       " * return a copy of an object with only non-object keys\n",
       " * we need this to avoid circular references\n",
       " * http://stackoverflow.com/a/24161582/3208463\n",
       " */\n",
       "function simpleKeys (original) {\n",
       "  return Object.keys(original).reduce(function (obj, key) {\n",
       "    if (typeof original[key] !== 'object')\n",
       "        obj[key] = original[key]\n",
       "    return obj;\n",
       "  }, {});\n",
       "}\n",
       "\n",
       "mpl.figure.prototype.mouse_event = function(event, name) {\n",
       "    var canvas_pos = mpl.findpos(event)\n",
       "\n",
       "    if (name === 'button_press')\n",
       "    {\n",
       "        this.canvas.focus();\n",
       "        this.canvas_div.focus();\n",
       "    }\n",
       "\n",
       "    var x = canvas_pos.x * mpl.ratio;\n",
       "    var y = canvas_pos.y * mpl.ratio;\n",
       "\n",
       "    this.send_message(name, {x: x, y: y, button: event.button,\n",
       "                             step: event.step,\n",
       "                             guiEvent: simpleKeys(event)});\n",
       "\n",
       "    /* This prevents the web browser from automatically changing to\n",
       "     * the text insertion cursor when the button is pressed.  We want\n",
       "     * to control all of the cursor setting manually through the\n",
       "     * 'cursor' event from matplotlib */\n",
       "    event.preventDefault();\n",
       "    return false;\n",
       "}\n",
       "\n",
       "mpl.figure.prototype._key_event_extra = function(event, name) {\n",
       "    // Handle any extra behaviour associated with a key event\n",
       "}\n",
       "\n",
       "mpl.figure.prototype.key_event = function(event, name) {\n",
       "\n",
       "    // Prevent repeat events\n",
       "    if (name == 'key_press')\n",
       "    {\n",
       "        if (event.which === this._key)\n",
       "            return;\n",
       "        else\n",
       "            this._key = event.which;\n",
       "    }\n",
       "    if (name == 'key_release')\n",
       "        this._key = null;\n",
       "\n",
       "    var value = '';\n",
       "    if (event.ctrlKey && event.which != 17)\n",
       "        value += \"ctrl+\";\n",
       "    if (event.altKey && event.which != 18)\n",
       "        value += \"alt+\";\n",
       "    if (event.shiftKey && event.which != 16)\n",
       "        value += \"shift+\";\n",
       "\n",
       "    value += 'k';\n",
       "    value += event.which.toString();\n",
       "\n",
       "    this._key_event_extra(event, name);\n",
       "\n",
       "    this.send_message(name, {key: value,\n",
       "                             guiEvent: simpleKeys(event)});\n",
       "    return false;\n",
       "}\n",
       "\n",
       "mpl.figure.prototype.toolbar_button_onclick = function(name) {\n",
       "    if (name == 'download') {\n",
       "        this.handle_save(this, null);\n",
       "    } else {\n",
       "        this.send_message(\"toolbar_button\", {name: name});\n",
       "    }\n",
       "};\n",
       "\n",
       "mpl.figure.prototype.toolbar_button_onmouseover = function(tooltip) {\n",
       "    this.message.textContent = tooltip;\n",
       "};\n",
       "mpl.toolbar_items = [[\"Home\", \"Reset original view\", \"fa fa-home icon-home\", \"home\"], [\"Back\", \"Back to previous view\", \"fa fa-arrow-left icon-arrow-left\", \"back\"], [\"Forward\", \"Forward to next view\", \"fa fa-arrow-right icon-arrow-right\", \"forward\"], [\"\", \"\", \"\", \"\"], [\"Pan\", \"Pan axes with left mouse, zoom with right\", \"fa fa-arrows icon-move\", \"pan\"], [\"Zoom\", \"Zoom to rectangle\", \"fa fa-square-o icon-check-empty\", \"zoom\"], [\"\", \"\", \"\", \"\"], [\"Download\", \"Download plot\", \"fa fa-floppy-o icon-save\", \"download\"]];\n",
       "\n",
       "mpl.extensions = [\"eps\", \"jpeg\", \"pdf\", \"png\", \"ps\", \"raw\", \"svg\", \"tif\"];\n",
       "\n",
       "mpl.default_extension = \"png\";var comm_websocket_adapter = function(comm) {\n",
       "    // Create a \"websocket\"-like object which calls the given IPython comm\n",
       "    // object with the appropriate methods. Currently this is a non binary\n",
       "    // socket, so there is still some room for performance tuning.\n",
       "    var ws = {};\n",
       "\n",
       "    ws.close = function() {\n",
       "        comm.close()\n",
       "    };\n",
       "    ws.send = function(m) {\n",
       "        //console.log('sending', m);\n",
       "        comm.send(m);\n",
       "    };\n",
       "    // Register the callback with on_msg.\n",
       "    comm.on_msg(function(msg) {\n",
       "        //console.log('receiving', msg['content']['data'], msg);\n",
       "        // Pass the mpl event to the overridden (by mpl) onmessage function.\n",
       "        ws.onmessage(msg['content']['data'])\n",
       "    });\n",
       "    return ws;\n",
       "}\n",
       "\n",
       "mpl.mpl_figure_comm = function(comm, msg) {\n",
       "    // This is the function which gets called when the mpl process\n",
       "    // starts-up an IPython Comm through the \"matplotlib\" channel.\n",
       "\n",
       "    var id = msg.content.data.id;\n",
       "    // Get hold of the div created by the display call when the Comm\n",
       "    // socket was opened in Python.\n",
       "    var element = $(\"#\" + id);\n",
       "    var ws_proxy = comm_websocket_adapter(comm)\n",
       "\n",
       "    function ondownload(figure, format) {\n",
       "        window.open(figure.imageObj.src);\n",
       "    }\n",
       "\n",
       "    var fig = new mpl.figure(id, ws_proxy,\n",
       "                           ondownload,\n",
       "                           element.get(0));\n",
       "\n",
       "    // Call onopen now - mpl needs it, as it is assuming we've passed it a real\n",
       "    // web socket which is closed, not our websocket->open comm proxy.\n",
       "    ws_proxy.onopen();\n",
       "\n",
       "    fig.parent_element = element.get(0);\n",
       "    fig.cell_info = mpl.find_output_cell(\"<div id='\" + id + \"'></div>\");\n",
       "    if (!fig.cell_info) {\n",
       "        console.error(\"Failed to find cell for figure\", id, fig);\n",
       "        return;\n",
       "    }\n",
       "\n",
       "    var output_index = fig.cell_info[2]\n",
       "    var cell = fig.cell_info[0];\n",
       "\n",
       "};\n",
       "\n",
       "mpl.figure.prototype.handle_close = function(fig, msg) {\n",
       "    var width = fig.canvas.width/mpl.ratio\n",
       "    fig.root.unbind('remove')\n",
       "\n",
       "    // Update the output cell to use the data from the current canvas.\n",
       "    fig.push_to_output();\n",
       "    var dataURL = fig.canvas.toDataURL();\n",
       "    // Re-enable the keyboard manager in IPython - without this line, in FF,\n",
       "    // the notebook keyboard shortcuts fail.\n",
       "    IPython.keyboard_manager.enable()\n",
       "    $(fig.parent_element).html('<img src=\"' + dataURL + '\" width=\"' + width + '\">');\n",
       "    fig.close_ws(fig, msg);\n",
       "}\n",
       "\n",
       "mpl.figure.prototype.close_ws = function(fig, msg){\n",
       "    fig.send_message('closing', msg);\n",
       "    // fig.ws.close()\n",
       "}\n",
       "\n",
       "mpl.figure.prototype.push_to_output = function(remove_interactive) {\n",
       "    // Turn the data on the canvas into data in the output cell.\n",
       "    var width = this.canvas.width/mpl.ratio\n",
       "    var dataURL = this.canvas.toDataURL();\n",
       "    this.cell_info[1]['text/html'] = '<img src=\"' + dataURL + '\" width=\"' + width + '\">';\n",
       "}\n",
       "\n",
       "mpl.figure.prototype.updated_canvas_event = function() {\n",
       "    // Tell IPython that the notebook contents must change.\n",
       "    IPython.notebook.set_dirty(true);\n",
       "    this.send_message(\"ack\", {});\n",
       "    var fig = this;\n",
       "    // Wait a second, then push the new image to the DOM so\n",
       "    // that it is saved nicely (might be nice to debounce this).\n",
       "    setTimeout(function () { fig.push_to_output() }, 1000);\n",
       "}\n",
       "\n",
       "mpl.figure.prototype._init_toolbar = function() {\n",
       "    var fig = this;\n",
       "\n",
       "    var nav_element = $('<div/>');\n",
       "    nav_element.attr('style', 'width: 100%');\n",
       "    this.root.append(nav_element);\n",
       "\n",
       "    // Define a callback function for later on.\n",
       "    function toolbar_event(event) {\n",
       "        return fig.toolbar_button_onclick(event['data']);\n",
       "    }\n",
       "    function toolbar_mouse_event(event) {\n",
       "        return fig.toolbar_button_onmouseover(event['data']);\n",
       "    }\n",
       "\n",
       "    for(var toolbar_ind in mpl.toolbar_items){\n",
       "        var name = mpl.toolbar_items[toolbar_ind][0];\n",
       "        var tooltip = mpl.toolbar_items[toolbar_ind][1];\n",
       "        var image = mpl.toolbar_items[toolbar_ind][2];\n",
       "        var method_name = mpl.toolbar_items[toolbar_ind][3];\n",
       "\n",
       "        if (!name) { continue; };\n",
       "\n",
       "        var button = $('<button class=\"btn btn-default\" href=\"#\" title=\"' + name + '\"><i class=\"fa ' + image + ' fa-lg\"></i></button>');\n",
       "        button.click(method_name, toolbar_event);\n",
       "        button.mouseover(tooltip, toolbar_mouse_event);\n",
       "        nav_element.append(button);\n",
       "    }\n",
       "\n",
       "    // Add the status bar.\n",
       "    var status_bar = $('<span class=\"mpl-message\" style=\"text-align:right; float: right;\"/>');\n",
       "    nav_element.append(status_bar);\n",
       "    this.message = status_bar[0];\n",
       "\n",
       "    // Add the close button to the window.\n",
       "    var buttongrp = $('<div class=\"btn-group inline pull-right\"></div>');\n",
       "    var button = $('<button class=\"btn btn-mini btn-primary\" href=\"#\" title=\"Stop Interaction\"><i class=\"fa fa-power-off icon-remove icon-large\"></i></button>');\n",
       "    button.click(function (evt) { fig.handle_close(fig, {}); } );\n",
       "    button.mouseover('Stop Interaction', toolbar_mouse_event);\n",
       "    buttongrp.append(button);\n",
       "    var titlebar = this.root.find($('.ui-dialog-titlebar'));\n",
       "    titlebar.prepend(buttongrp);\n",
       "}\n",
       "\n",
       "mpl.figure.prototype._root_extra_style = function(el){\n",
       "    var fig = this\n",
       "    el.on(\"remove\", function(){\n",
       "\tfig.close_ws(fig, {});\n",
       "    });\n",
       "}\n",
       "\n",
       "mpl.figure.prototype._canvas_extra_style = function(el){\n",
       "    // this is important to make the div 'focusable\n",
       "    el.attr('tabindex', 0)\n",
       "    // reach out to IPython and tell the keyboard manager to turn it's self\n",
       "    // off when our div gets focus\n",
       "\n",
       "    // location in version 3\n",
       "    if (IPython.notebook.keyboard_manager) {\n",
       "        IPython.notebook.keyboard_manager.register_events(el);\n",
       "    }\n",
       "    else {\n",
       "        // location in version 2\n",
       "        IPython.keyboard_manager.register_events(el);\n",
       "    }\n",
       "\n",
       "}\n",
       "\n",
       "mpl.figure.prototype._key_event_extra = function(event, name) {\n",
       "    var manager = IPython.notebook.keyboard_manager;\n",
       "    if (!manager)\n",
       "        manager = IPython.keyboard_manager;\n",
       "\n",
       "    // Check for shift+enter\n",
       "    if (event.shiftKey && event.which == 13) {\n",
       "        this.canvas_div.blur();\n",
       "        // select the cell after this one\n",
       "        var index = IPython.notebook.find_cell_index(this.cell_info[0]);\n",
       "        IPython.notebook.select(index + 1);\n",
       "    }\n",
       "}\n",
       "\n",
       "mpl.figure.prototype.handle_save = function(fig, msg) {\n",
       "    fig.ondownload(fig, null);\n",
       "}\n",
       "\n",
       "\n",
       "mpl.find_output_cell = function(html_output) {\n",
       "    // Return the cell and output element which can be found *uniquely* in the notebook.\n",
       "    // Note - this is a bit hacky, but it is done because the \"notebook_saving.Notebook\"\n",
       "    // IPython event is triggered only after the cells have been serialised, which for\n",
       "    // our purposes (turning an active figure into a static one), is too late.\n",
       "    var cells = IPython.notebook.get_cells();\n",
       "    var ncells = cells.length;\n",
       "    for (var i=0; i<ncells; i++) {\n",
       "        var cell = cells[i];\n",
       "        if (cell.cell_type === 'code'){\n",
       "            for (var j=0; j<cell.output_area.outputs.length; j++) {\n",
       "                var data = cell.output_area.outputs[j];\n",
       "                if (data.data) {\n",
       "                    // IPython >= 3 moved mimebundle to data attribute of output\n",
       "                    data = data.data;\n",
       "                }\n",
       "                if (data['text/html'] == html_output) {\n",
       "                    return [cell, data, j];\n",
       "                }\n",
       "            }\n",
       "        }\n",
       "    }\n",
       "}\n",
       "\n",
       "// Register the function which deals with the matplotlib target/channel.\n",
       "// The kernel may be null if the page has been refreshed.\n",
       "if (IPython.notebook.kernel != null) {\n",
       "    IPython.notebook.kernel.comm_manager.register_target('matplotlib', mpl.mpl_figure_comm);\n",
       "}\n"
      ],
      "text/plain": [
       "<IPython.core.display.Javascript object>"
      ]
     },
     "metadata": {},
     "output_type": "display_data"
    },
    {
     "data": {
      "text/html": [
       "<img src=\"data:image/png;base64,iVBORw0KGgoAAAANSUhEUgAAA+gAAAMgCAYAAACwGEg9AAAgAElEQVR4nOzde3SV1YH+8Z0LOQSVgIUEyyXBIlhAFK9FQbqq4IUgdTo6Qykwdap4G60XVBCl6tSiRjJdclEYZEZTsLRoXa0KFMxYudRWjFSMLa36s1Rsa5FLyiUQeH5/uHKaQ/Jygr5xX97vZ62zVpNzCO/edD97P56Tc4wAAAAAAIB1xvYFAAAAAAAACjoAAAAAAE6goAMAAAAA4AAKOgAAAAAADqCgAwAAAADgAAo6AAAAAAAOoKADAAAAAOAACjoAAAAAAA6goAMAAAAA4AAKOgAAAAAADqCgAwAAAADgAAo6AAAAAAAOoKADAAAAAOAACjoAAAAAAA6goAMAAAAA4AAKOgAAAAAADqCgAwAAAADgAAo6AAAAAAAOoKADAAAAAOAACjoAAAAAAA6goAMAAAAA4AAKOgAAAAAADqCgAwAAAADgAAo6AAAAAAAOoKADAAAAAOAACjoAAAAAAA6goAMAAAAA4AAKOgAAAAAADqCgAwAAAADgAAo6AAAAAAAOoKADAAAAAOAACjoAAAAAAA6goAMAAAAA4AAKOgAAAAAADqCgAwAAAADgAAo6AAAAAAAOoKADAAAAAOAACjoAAAAAAA6goAMAAAAA4AAKOgAAAAAADqCgAwAAAADgAAo6AAAAAAAOoKADAAAAAOAACjoAAAAAAA6goAMAAAAA4AAKOgAAAAAADqCgAwAAAADgAAo6AAAAAAAOoKADAAAAAOAACjoAAAAAAA6goAMAAAAA4AAKOgAAAAAADqCgAwAAAADgAAo6AAAAAAAOoKADAAAAAOAACjoAAAAAAA6goAMAAAAA4AAKOgAAAAAADqCgAwAAAADgAAo6AAAAAAAOoKADAAAAAOAACjoAAAAAAA6goAMAAAAA4AAKOgAAAAAADqCgAwAAAADgAAo6AAAAAAAOoKADAAAAAOAACjoAAAAAAA6goAMAAAAA4AAKOgAAAAAADqCgAwAAAADgAAo6AAAAAAAOoKADAAAAAOAACjoQuHfffVfGGC1cuND2pXxiTzzxhPr166f8/HwVFRXZvhznhPBvDAAAAAo6EIuFCxfKGJO+pVIpHXfccRo5cqS+//3va+fOndauzbXytmbNGk2fPl3btm1r1ePfeust5ebm6uKLL9bChQv1wx/+sI2v0D+u/RsDAADgk6GgAzFoLOj33nuvnnzyST3++OO6//77NXLkSOXk5Ki0tFQbNmywcm0HDx7Unj171NDQYOXvP9RDDz0kY4zefffdVj1+7ty5Msbo97//fdtemMdc+zcGAADAJ0NBB2LQWNB//etfN7tv1apVKiwsVGlpqXbv3m3h6txypAX9nnvukTFGH3744WEfd/DgQeYXAAAAXqOgAzE4XEGXpPvvv1/GGM2bNy/j+6tWrdLQoUPVoUMHFRUV6ZJLLlFtbW3GY6ZPny5jjH73u99p3Lhx6tixo7p06aJp06bp4MGD+uMf/6hLLrlExxxzjEpKSlRRUZHx51t6+fPEiRN11FFH6U9/+pPGjBmjo446Sl26dNEtt9zS7FnYhx56SEOGDNGxxx6r9u3b69RTT9WPfvSjZmM0xui6667TM888owEDBqigoED9+/fXCy+80Gwsh96iynppaWmzx06fPj1936hRo7Rs2TKddtppSqVSqqyslCRt27ZNN954o3r06KGCggJ94Qtf0IwZM3TgwIGMn79t2zZNnDhRHTt2VFFRkSZMmKCamppm8zV8+HANHz682fVNnDhRpaWlGd87cOCAKisr1b9/f6VSKRUXF+uqq67SRx991Gxso0aN0ssvv6wzzjhDqVRKvXv31v/+7/82+3u2bdumb3/72yotLVVBQYG6d++u8ePHp/+jRdRL3N966y197WtfU+fOnZVKpXTaaafp2WefzXjMvn379J3vfEd9+vRRKpXSscceq3POOUcrVqxo8d8EAAAAbYeCDsQgW0HfvHmzjDH653/+5/T3fv7znys/P199+/bVgw8+qHvuuUddunRR586dMwprY6k95ZRTNHbsWM2ZM0ejRo2SMUYzZ85Uv379dM0112jOnDk655xzZIzRSy+9lP7zUQW9ffv2GjBggK644grNnTtXX/va12SM0Zw5czKuvUePHrr22ms1a9YszZw5U2eeeaaMMfrZz36W8ThjjE4++WQdd9xxuu+++/Rf//VfOv7449WhQwf97W9/kyRt2LBBY8eOlTFGlZWVevLJJ/Xkk0/q73//e4vz9swzz+jSSy+VMUZz587Vk08+mf5VgdLSUvXp00edO3fWHXfcoUcffVTV1dXatWuXBg0apM997nOaOnWqHn30UU2YMEE5OTm68cYb0z/74MGDOvfcc5Wbm6trr71WjzzyiL7yla9o0KBBn6qgf+tb31J+fr6uvPJKPfroo7r99tt11FFH6YwzztC+ffvSjystLVW/fv1UUlKiqVOnatasWTr11FOVk5OjjRs3ph9XV1engQMHKi8vT1deeaXmzp2r++67T2eccYZqamoi/403btyooqIi9e/fXw888IBmzZqlc889Vzk5OXr66afTj5s6dapycnJ05ZVXav78+Xr44Yc1duxYzZgxo8V/EwAAALQdCjoQg2wFXZKKioo0ePDg9NennHKKiouLtXXr1vT3NmzYoNzcXE2YMCH9vcaCftVVV6W/19DQoB49eignJyejSG3btk2FhYWaOHFi+ntRBb3xd+abGjx4sE477bSM7x36svF9+/Zp4MCB+spXvpLxfWOMCgoK9Ic//CFjPMYYPfLII+nvHelL3BvHf+hL3BufXV+2bFnG9++77z4dddRR2rRpU8b377jjDuXl5emPf/yjJOknP/mJjDF68MEH049paGjQsGHDPnFBf/nll2WM0Q9+8IOMxy1btqzZ9xuv/xe/+EX6e3/961+VSqV0yy23pL939913yxiTUaobHTx4UFLL/8bnnXeeTjrpJO3duzfj8WeffbZOOOGE9PdOPvlkjRo1qtnPBgAAwGePgg7EoDUFvXv37urTp48kacuWLTLG6Lbbbmv2uAsuuEBdunRJf91YUH/1q19lPO6rX/1qi8X1lFNO0bBhw9JfH66g//Wvf834szfccIM6d+4cOYaPPvpIH374oa655hp16tQp4z5jjC6++OJmf6Zjx4666aab0l/HWdB79+7d7PGDBg3ShRdeqA8//DDjtnLlShljVFVVJUm66qqrlJ+fr7q6uow/v2TJkk9c0G+44QYVFRXpr3/9a7O//+ijj9a3vvWtjOvv379/i9d/6aWXpr8eMGCATj755MPO0aH/xlu3blVOTo7uu+++ZtfR+Dv9f/rTn9JjKysra/YfNAAAAPDZo6ADMTjSZ9DXrVsnY4wWLFjQ7HHf/va3ZYxJv+y7saD++c9/znhc48vUDzV8+HANHDgw/fXhXuJ+qMa/q6mf/vSnOuuss5RKpTJ+FzwnJyfjccYYXX311c1+Zmlpqf7t3/4t/XWcBf3QZ/ElqbCwsMXfc2+8zZw5U9LH/yGkZ8+ezf5847P+n6SgX3TRRYf9uy+55JKM67/wwgub/czhw4fry1/+cvrr9u3ba9y4cZHzIzX/N37llVcOex3GGL322muSpJdeekmdOnWSMUYDBw7Urbfeau0TBwAAAJKOgg7EoLW/g37ZZZdJ+mQF/dCC2vhGb4caPny4BgwYkP76cG8Sd6hDC/ovfvEL5eTkaPjw4VqwYIGef/55/fznP9fXv/71ZkW+8U3iDlVaWprxkvs4C3pLL81OpVIaMWKEfv7zn7d4e++99yQdWUH/8pe/3GJB/8Y3vpFR0C+44AIVFxdH/t2vv/561us/9D8GfJKC3vj/r1tvvTXyWnbu3Jn+81u3btXjjz+uf/3Xf1WnTp2Ul5en+fPnH/bvBAAAQPwo6EAMWvsu7v/93/8t6fAvcb/wwgtbfIm7jYJ+4403qrCwMOP3mCV9qoJeUVHRpgW9f//+GjJkSNafeyQvcb/00ktbfJn5sGHDMgr6tddeq7y8vFZ93FtrC/oneYn7X/7yFxljNGXKlKzXcai6ujoNHjxY3bt3P+I/CwAAgE+Hgg7EoDWfg967d2/t2bMn/f1TTjlFJSUl2rZtW/p7b7zxRuSbxNko6DfffLM6dOigXbt2Zfy8Dh06fOKCPnfuXBlj0u9Ans2RFvTvfOc7Lb55nPTxm+jt379f0pG9Sdytt96qVCqV8Tv7r7/+unJzczMK+v/93/9FFuP9+/dn/Fu3tqB/0jeJ+/KXv6xjjz1WW7Zsafbnmo6j8R32m7rssssy/iMRAAAAPhsUdCAGjQX93nvv1ZNPPqmFCxdqxowZGjlypHJyclRWVqY33ngj4880fszaiSeeqIceekj33nuvunbtqs6dO+udd95JP85mQV+1apWMMRo2bJjmzp2re+65R8XFxemPImuqtQX9V7/6VfoN5Z544gktXrw48mPWDjf+qIK7a9cunXrqqcrPz9e3vvUtzZ07VxUVFekxN/6cAwcO6Jxzzkl/zNqsWbMiP2attrZWubm5Gjx4sGbNmqW7775bxcXFOumkk5p9zNqkSZNkjNFFF12kyspKzZo1SzfeeKM+//nPZ3x+fGsLel1dnfr375/+mLVHH31U999/v770pS+lXzLf0r/xm2++qc6dO+tzn/uc7rjjDs2bN0/33XefLr74Yg0aNCj9uOLiYl1++eV64IEHNH/+fE2aNEk5OTn6j//4j8h/EwAAALQNCjoQg8aC3ngrKChQt27dNGLECH3/+9/P+H3fplauXKlzzjlHhYWF6tixo0aPHq3a2tqMx9gs6JK0YMECnXDCCUqlUjrxxBO1cOHCFh/X2oIuffxRaN27d1dubm7Wl7sfaUGXPi61U6ZMUZ8+fVRQUKAuXbro7LPPVkVFRcZnkW/dulXjx49Xx44dVVRUpPHjx6umpqbZfElSVVWVjj/+eBUUFOiUU07R8uXLW/wcdEmaN2+eTjvtNBUWFuqYY47RSSedpNtuuy3j2ezWFvTG67z++uvVvXt3FRQUqEePHpo4cWL62e+W/o0l6e2339aECRPUrVs3tWvXTt27d1d5ebl+/OMfpx/zn//5nzrzzDPVqVMnFRYW6sQTT9R3v/vdjHkCAADAZ4OCDgBNRJVdAAAAoK1R0AGgCQo6AAAAbKGgA0ATFHQAAADYQkEHgCYo6AAAALCFgg4AAAAAgAMo6AAAAAAAOICCDgAAAACAAyjoCXPgwAFt3rxZ27dv144dO7hx48aN22d02759uzZv3qwDBw7Y3gqcw97EjRs3bnZu7E3uoaAnzObNm2WM4caNGzdulm6bN2+2vRU4h72JGzdu3Oze2JvcQUFPmO3bt6cXoe3/YseNGzduSbo1ltDt27fb3gqcw97EjRs3bnZu7E3uoaAnzI4dO2SM0Y4dO2xfCgAkCvkbjbkBADvIX/dQ0BOGRQgAdpC/0ZgbALCD/HUPBT1hWIQAYAf5G425AQA7yF/3UNAThkUIAHaQv9GYGwCwg/x1DwU9YViEAGAH+RuNuQEAO8hf91DQE4ZFCAB2kL/RmBsAsIP8dQ8FPWFYhABgB/kbjbkBADvIX/dQ0BOGRQgAdpC/0ZgbALCD/HUPBT1hWIQAYAf5G425AQA7yF/3UNAThkUIAHaQv9GYGwCwg/x1DwU9YViEAGAH+RuNuQEAO8hf91DQE4ZFCAB2kL/RmBsAsIP8dQ8FPWFYhABgB/kbjbkBADvIX/dQ0BOGRQgAdpC/0ZgbALCD/HUPBT1hWIQAYAf5G425AQA7yF/3UNAThkUIAHaQv9GYGwCwg/x1DwU9YViEAGAH+RuNuQEAO8hf91DQE4ZFCAB2kL/RmBsAsIP8dQ8FPWFYhABgB/kbjbkBADvIX/dQ0BOGRQgAdpC/0ZgbALCD/HUPBT1hWIQAYAf5G425AQA7yF/3UNAThkUIAHaQv9GYGwCwg/x1DwU9YViEAGAH+RuNuQEAO8hf91DQE4ZFCAB2kL/RmBsAsIP8dQ8FPWFYhABgB/kbjbkBADvIX/dQ0BOGRQhX7Nq1S+vXrz+i2+rVq1VVVaXVq1cf8Z/dtWuX7SEj4cjfaMwNANhB/rqHgp4wLEK4Yv369TLGfGa39evX2x4yEo78jcbcAIAd5K97KOgJwyKEKz7JM+hVVVUyxqiqqopn0OEd8jcacwMAdpC/7qGgJwyLED5rfNadZ8PhI/I3GnMDAHaQv+6hoCcMixA+o6DDZ+RvNOYGAOwgf91DQU8YFiF8RkGHz8jfaMwNXMEbmCJpyF/3UNAThkUIn1HQ4TPyNxpzA1fwBqZIGvLXPRT0hGERwmcUdPiM/I3G3MAVvIEpkob8dQ8FPWFYhPAZBR0+I3+jMTfwGXsTfEb+uoeCnjAsQviMQxB8Rv5GY27gM/Ym+Iz8dQ8FPWFYhPAZhyD4jPyNxtzAZ+xN8Bn56x4KesKwCOEzDkHwGfkbjbmBz9ib4DPy1z0U9IRhEcJnHILgM/I3GnMDn7E3wWfkr3so6AnDIoTPOATBZ+RvNOYGPmNvgs/IX/dQ0BOGRQifcQiCz8jfaMwNfMbeBJ+Rv+6hoCcMixA+4xAEn5G/0Zgb+Iy9CT4jf91DQU8YFiF8xiEIPiN/ozE38Bl7E3xG/rqHgp4wLEL4jEMQfEb+RmNu4DP2JviM/HUPBT1hWITwGYcg+Iz8jcbcwGfsTfAZ+eseCnrCsAjhMw5B8Bn5G425gc/Ym+Az8tc9FPSEYRHCZxyC4DPyNxpzA5+xN8Fn5K97KOgJwyKEzzgEwWfkbzTmBj5jb4LPyF/3UNAThkUIn3EIgs/I32jMDXzG3gSfkb/uoaAnDIsQPuMQBJ+Rv9GYG/iMvQk+I3/dQ0FPGBYhfMYhCD4jf6MxN/AZexN8Rv66h4KeMCxC+IxDEHxG/kZjbuAz9ib4jPx1DwU9YViE8BmHIPiM/I3G3MBn7E3wGfnrHgp6wrAI4TMOQfAZ+RuNuYHP2JvgM/LXPRT0hGERwmccguAz8jcacwOfsTfBZ+SveyjoCcMihM84BMFn5G805gY+Y2+Cz8hf91DQE4ZFCJ9xCILPyN9ozA18xt4En5G/7qGgJwyLED7jEASfkb/RmBv4jL0JPiN/3UNBTxgWIXzGIQg+I3+jMTfwGXsTfEb+uoeCnjAsQviMQxB8Rv5GY27gM/Ym+Iz8dQ8FPWFYhPAZhyD4jPyNxtzAZ+xN8Bn56x4KesKwCOEzDkHwGfkbjbmBz9ib4DPy1z0U9IRhEcJnHILgM/I3GnMDn7E3wWfkr3sSX9BfeukllZeX67jjjpMxRs8880zG/UuXLtWIESN07LHHyhijmpqaZj9jz549uvbaa3XsscfqqKOO0j/90z/pz3/+c8Zj3nvvPV188cUqLCxU165ddeutt2r//v0Zj6murtbgwYNVUFCgL3zhC1q4cGGzv2vWrFkqLS1VKpXSmWeeqVdeeeWIxssihM84BMFnR5K/7E2AP9ib4DPy1z2JL+jPP/+87rzzTj399NMtHoKeeOIJ3XPPPZo/f37kIejqq69Wz549tWrVKr366qv60pe+pLPPPjt9f0NDgwYOHKjzzz9fNTU1ev7559WlSxdNmTIl/Zh33nlHHTp00M0336za2lo98sgjysvL07Jly9KPeeqpp1RQUKDHH39cb775pq688kp16tRJf/nLX1o9XhYhfMYhCD47kvxlbwL8wd4En5G/7kl8QW+qpUNQo3fffbfFQ9D27dvVrl07/ehHP0p/76233pIxRuvWrZP08UErNzc345mLuXPnqmPHjqqvr5ck3XbbbRowYEDGz/6Xf/kXXXDBBemvzzzzTF133XXprw8cOKDPf/7z+t73vtfqMbII4TMOQfDZJ81f9ibAbexN8Bn56x4KehOf5BC0atUqGWO0bdu2jO/36tVLM2fOlCTdddddOvnkkzPuf+edd2SM0WuvvSZJGjZsmG688caMxzz++OPq2LGjJKm+vl55eXnNrm/ChAm65JJLWj1GFiF8xiEIPvssCzp7E/DZYW+Cz8hf91DQm/gkh6Af/OAHKigoaPb4M844Q7fddpsk6corr9TIkSMz7t+1a5eMMXr++eclSSeccILuv//+jMc899xzMsZo9+7dev/992WM0dq1azMeM3nyZJ155pmRY9q7d6927NiRvm3evJlFCG9xCILPPsuCzt4EfHbYm+AzCrp7KOhNhHgImj59uowxzW4sQviIQxB8RkH/B/YmhIS9CT6joLuHgt5EiC8j5FkKhIRDEHzGS9z/gb0JIWFvgs8o6O6hoDfxad6I58c//nH6e7/97W9bfCOepu9o+9hjj6ljx47au3evpI/fiGfgwIEZP3vs2LHN3ojn+uuvT3994MABde/enTfiQWJwCILPbLxJHHsT0PbYm+Az8tc9iS/odXV1qqmpUU1NjYwxmjlzpmpqavTee+9JkrZu3aqampr0S/qeeuop1dTU6IMPPkj/jKuvvlq9evXSiy++qFdffVVDhgzRkCFD0vc3fpTNyJEj9frrr2vZsmXq2rVrix9lM3nyZL311luaPXt2ix9lk0ql9D//8z+qra3VVVddpU6dOjX7XNvDYRHCZxyC4LMjyV/2JsAf7E3wGfnrnsQX9Orq6hZ/D27ixImSpIULF7Z4//Tp09M/Y8+ePbr22mvVuXNndejQQZdeemnGIUmS/t//+3+66KKLVFhYqC5duuiWW27R/v37m13LKaecooKCAh1//PFauHBhs+t95JFH1KtXLxUUFOjMM8/UL3/5yyMaL4sQPuMQBJ8dSf6yNwH+YG+Cz8hf9yS+oCcNixA+4xAEn5G/0Zgb+Iy9CT4jf91DQU8YFiF8xiEIPiN/ozE38Bl7E3xG/rqHgp4wLEL4jEMQfEb+RmNu4DP2JviM/HUPBT1hWITwGYcg+Iz8jcbcwGfsTfAZ+eseCnrCsAjhMw5B8Bn5G425gc/Ym+Az8tc9FPSEYRHCZxyC4DPyNxpzA5+xN8Fn5K97KOgJwyKEzzgEwWfkbzTmBj5jb4LPyF/3UNAThkUIn3EIgs/I32jMDXzG3gSfkb/uoaAnDIsQPuMQBJ+Rv9GYG/iMvQk+I3/dQ0FPGBYhfMYhCD4jf6MxN/AZexN8Rv66h4KeMCxC+IxDEHxG/kZjbuAz9ib4jPx1DwU9YViE8BmHIPiM/I3G3MBn7E3wGfnrHgp6wrAI4TMOQfAZ+RuNuYHP2JvgM/LXPRT0hGERwmccguAz8jcacwOfsTfBZ+SveyjoCcMihM84BMFn5G805gY+Y2+Cz8hf91DQE4ZFCJ9xCILPyN9ozA18xt4En5G/7qGgJwyLED7jEASfkb/RmBv4jL0JPiN/3UNBTxgWIXzGIQg+I3+jMTfwGXsTfEb+uoeCnjAsQviMQxB8Rv5GY27gM/Ym+Iz8dQ8FPWFYhPAZhyD4jPyNxtzAZ+xN8Bn56x4KesKwCNFWNm3apPXr17fpraqqSsYYVVVVtfnftX79em3atMn2tCIg5G805gY+o6DDZ+SveyjoCcMiRFvYtGmTjDFB3ijpiAv5G425gc8o6PAZ+eseCnrCsAjRFhoPJ239zPbq1atVVVWl1atXf2bP1nPgQlzI32jMDXxGQYfPyF/3UNAThkWIthDi4STEMcEu8jcacwOfsV/AZ+SveyjoCcMiRFsI8XAS4phgF/kbjbmBz9gv4DPy1z0U9IRhEaIthHg4CXFMsIv8jcbcwGfsF/AZ+eseCnrCsAjRFkI8nIQ4JthF/kZjbuAz9gv4jPx1DwU9YViEaAshHk5CHBPsIn+jMTfwGfsFfEb+uoeCnjAsQrSFEA8nIY4JdpG/0Zgb+Iz9Aj4jf91DQU8YFiHaQoiHkxDHBLvI32jMDXzGfgGfkb/uoaAnDIsQbSHEw0mIY4Jd5G805gY+Y7+Az8hf91DQE4ZFiLYQ4uEkxDHBLvI3GnMDn7FfwGfkr3so6AnDIkRbCPFwEuKYYBf5G425gc/YL+Az8tc9FPSEYRGiLYR4OAlxTLCL/I3G3MBn7BfwGfnrHgp6wrAI0RZCPJyEOCbYRf5GY27gM/YL+Iz8dQ8FPWFYhGgLIR5OQhwT7CJ/ozE38Bn7BXxG/rqHgp4wLEK0hRAPJyGOCXaRv9GYG/iM/QI+I3/dQ0FPGBYh2kKIh5MQxwS7yN9ozA18xn4Bn5G/7qGgJwyLEG0hxMNJiGOCXeRvNOYGPmO/gM/IX/dQ0BOGRYi2EOLhJMQxwS7yNxpzA5+xX8Bn5K97KOgJwyJEWwjxcBLimGAX+RuNuYHP2C/gM/LXPRT0hGERoi2EeDgJcUywi/yNxtzAZ+wX8Bn56x4KesKwCNEWQjychDgm2EX+RmNu4DP2C/iM/HUPBT1hWIRoCyEeTkIcE+wif6MxN/AZ+wV8Rv66h4KeMCxCtIUQDychjgl2kb/RmBv4jP0CPiN/3UNBTxgWIdpCiIeTEMcEu8jfaMwNfMZ+AZ+Rv+6hoCcMixBtIcTDSYhjgl3kbzTmBj5jv4DPyF/3UNAThkWIthDi4STEMcEu8jcacwOfsV/AZ+SveyjoCcMiRFsI8XAS4phgF/kbjbmBz9gv4DPy1z0U9IRhEaIthHg4CXFMsIv8jcbcwGfsF/AZ+eseCnrCsAjRFkI8nIQ4JthF/kZjbuAz9gv4jPx1DwU9YViEaAshHk5CHBPsIn+jMTfwGfsFfEb+uoeCnjAsQrSFEA8nIY4JdpG/0Zgb+Iz9Aj4jf91DQU8YFiHaQoiHkxDHBLvI32jMDXzGfgGfkb/uoaAnDIsQbeG1V9ZocLdc1a5aLL1fE8StdtViDe6Wq9deWWN7ehEI8jcacwOfUdDhM/LXPRT0hGERoi3UrlosTe8Y5K121WLb04tAkL/RmBv4jIIOn5G/7qGgJwyLEG2BZ9CB7MjfaMwNfEZBh8/IX/dQ0BOGRYWeVCMAACAASURBVIi2EOLhJMQxwS7yNxpzA5+xX8Bn5K97KOgJwyJEWwjxcBLimGAX+RuNuYHP2C/gM/LXPRT0hGERoi2EeDgJcUywi/yNxtzAZ+wX8Bn56x4KesKwCNEWQjychDgm2EX+RmNu0BY2bdqk9evXt/mtqqpKxhhVVVW1+d+1adMm29OKwJC/7qGgJwyLEG0hxDIb4phgF/kbjblB3DZt2iRjTJA3SjriRP66h4KeMCxCtIUQy2yIY4Jd5G805gZxa8zwz+JZ7dWrV6uqqkqrV6/+TJ6pZ19CnMhf91DQE4ZFiLYQYpkNcUywi/yNxtwgbiFmeIhjgn3kr3so6AnDIkRbCPHQEOKYYBf5G425QdxCzPAQxwT7yF/3UNAThkWIthDioSHEMcEu8jcac4O4hZjhIY4J9pG/7qGgJwyLEG0hxENDiGOCXeRvNOYGcQsxw0McE+wjf91DQU8YFiHaQoiHhhDHBLvI32jMDeIWYoaHOCbYR/66h4KeMCxCtIUQDw0hjgl2kb/RmBvELcQMD3FMsI/8dQ8FPWFYhGgLIR4aQhwT7CJ/ozE3iFuIGR7imGAf+eseCnrCsAjRFkI8NIQ4JthF/kZjbhC3EDM8xDHBPvLXPYkv6C+99JLKy8t13HHHyRijZ555JuP+gwcP6q677lK3bt3Uvn17nXfeedq0aVPGY0pLS2WMybh973vfy3jMhg0bNHToUKVSKfXo0UMPPPBAs2tZsmSJ+vXrp1QqpYEDB+q555474mvJhkWIthDioSHEMcGuI8lf9ibg0wkxw0McE+wjf92T+IL+/PPP684779TTTz/d4iFoxowZKioq0k9+8hNt2LBBl1xyiXr37q09e/akH1NaWqp7771XH3zwQfr297//PX3/jh07VFJSonHjxmnjxo1avHixCgsL9dhjj6Ufs2bNGuXl5enBBx9UbW2tpk2bpnbt2umNN944omvJhkWIthDioSHEMcGuI8lf9ibg0wkxw0McE+wjf92T+ILe1KGHoIMHD6pbt2566KGH0t/bvn27UqmUFi9enP5eaWmpKisrI3/unDlz1LlzZ9XX16e/d/vtt6tfv37pry+//HKNGjUq48+dddZZmjRp0hFdSzYsQrSFEA8NIY4Jdn3S/GVvAo5ciBke4phgH/nrHgp6E4cegt5++20ZY1RTU5PxuHPPPVc33HBD+uvS0lKVlJTo2GOP1SmnnKIHH3xQ+/fvT98/fvx4jRkzJuNnvPjiizLG6KOPPpIk9ezZs9lB6u6779agQYOO6FqyYRGiLYR4aAhxTLArroLO3gRkF2KGhzgm2Ef+uoeC3sShh6A1a9bIGKMtW7ZkPO6yyy7T5Zdfnv764YcfVnV1tTZs2KC5c+eqU6dOuummm9L3jxgxQldddVXGz3jzzTdljFFtba0kqV27dlq0aFHGY2bPnq3i4uIjupZD7d27Vzt27EjfNm/ezCJE7EI8NIQ4JtgVV0FnbwKyCzHDQxwT7KOgu4eC3sQnPQQdasGCBcrPz9fevXsl2T0ETZ8+vdmbBLEIEbcQDw0hjgl2fdYF/VDsTUiSEDM8xDHBPgq6eyjoTXzSlxEeauPGjTLG6Le//a0kuy8j5FkKfBZefvllGWM0f/58rV+/vs1uq1evVlVVlVavXt2mf8/69etVVVXFQQix+qxf4n4o9iYkSYhlNsQxwT4Kunso6E1EvRFPRUVF+ns7duzI+uY3VVVVys3NTR9wGt+IZ9++fenHTJkypdkb8ZSXl2f8nCFDhjR7I54jvZZDsQjRFubPn9/is2Eh3I7046KAKHG/SRx7ExAtxDIb4phgH/nrnsQX9Lq6OtXU1KimpkbGGM2cOVM1NTV67733JH388TGdOnXSs88+q9/85jcaM2ZMxsfHrF27VpWVlXr99df19ttvq6qqSl27dtWECRPSf8f27dtVUlKi8ePHa+PGjXrqqafUoUOHZh9lk5+fr4qKCr311luaPn16ix9lc7hraQ0WIdrChx9+qPnz5+vll1/+TJ7VrqqqavNn0NevX085R6yOJH/Zm4BPJ8QyG+KYYB/5657EF/Tq6uoWnzWbOHGipI+fHbjrrrtUUlKiVCql8847T7/73e/Sf379+vU666yzVFRUpPbt2+uLX/yi7r///vTv+DXasGGDhg4dqlQqpe7du2vGjBnNrmXJkiXq27evCgoKNGDAAD333HMZ92e7ltZgEcJnHE7gsyPJX/Ym4NMJcb8IcUywj/x1T+ILetKwCOEzDifwGfkbjblB3ELcL0IcE+wjf91DQU8YFiF8xuEEPiN/ozE3iFuI+0WIY4J95K97KOgJwyKEzzicwGfkbzTmBnELcb8IcUywj/x1DwU9YViE8BmHE/iM/I3G3CBuIe4XIY4J9pG/7qGgJwyLED7jcAKfkb/RmBvELcT9IsQxwT7y1z0U9IRhEcJnHE7gM/I3GnODuIW4X4Q4JthH/rqHgp4wLEL4jMMJfEb+RmNuELcQ94sQxwT7yF/3UNAThkUIn3E4gc/I32jMDeIW4n4R4phgH/nrHgp6wrAI4TMOJ/AZ+RuNuUHcQtwvQhwT7CN/3UNBTxgWIXzG4QQ+I3+jMTeIW4j7RYhjgn3kr3so6AnDIoTPOJzAZ+RvNOYGcQtxvwhxTLCP/HUPBT1hWITwGYcT+Iz8jcbcIG4h7hchjgn2kb/uoaAnDIsQPuNwAp+Rv9GYG8QtxP0ixDHBPvLXPRT0hGERwmccTuAz8jcac4O4hbhfhDgm2Ef+uoeCnjAsQviMwwl8Rv5GY24QtxD3ixDHBPvIX/dQ0BOGRQifcTiBz8jfaMwN4hbifhHimGAf+eseCnrCsAjhMw4n8Bn5G425QdxC3C9CHBPsI3/dQ0FPGBYhfMbhBD4jf6MxN4hbiPtFiGOCfeSveyjoCcMihM84nMBn5G805gZxC3G/CHFMsI/8dQ8FPWFYhPAZhxP4jPyNxtwgbiHuFyGOCfaRv+6hoCcMixA+43ACn5G/0ZgbxC3E/SLEMcE+8tc9FPSEYRHCZxxO4DPyNxpzg7iFuF+EOCbYR/66h4KeMCxC+IzDCXxG/kZjbhC3EPeLEMcE+8hf91DQE4ZFCJ9xOIHPyN9ozA3iFuJ+EeKYYB/56x4KesKwCOEzDifwGfkbjblB3ELcL0IcE+wjf91DQU8YFiF8xuEEPiN/ozE3iFuI+0WIY4J95K97KOgJwyKEzzicwGfkbzTmBnELcb8IcUywj/x1DwU9YViE8BmHE/iM/I3G3CBuIe4XIY4J9pG/7qGgJwyLED7jcAKfkb/RmBvELcT9IsQxwT7y1z0U9IRhEcJnHE7gM/I3GnODuIW4X4Q4JthH/rqHgp4wLEL4jMMJfEb+RmNuELcQ94sQxwT7yF/3UNAThkUIn3E4gc/I32jMDeIW4n4R4phgH/nrHgp6wrAI4TMOJ/AZ+RuNuUHcQtwvQhwT7CN/3UNBTxgWIXzG4QQ+I3+jMTeIW4j7RYhjgn3kr3so6AnDIoTPOJzAZ+RvNOYGcQtxvwhxTLCP/HUPBT1hWITwGYcT+Iz8jcbcIG4h7hchjgn2kb/uoaAnDIsQPuNwAp+Rv9GYG8QtxP0ixDHBPvLXPRT0hGERwmccTuAz8jcac4O4hbhfhDgm2Ef+uoeCnjAsQviMwwl8Rv5GY24QtxD3ixDHBPvIX/dQ0BOGRQifcTiBz8jfaMwN4hbifhHimGAf+eseCnrCsAjhMw4n8Bn5G425QdxC3C9CHBPsI3/dQ0FPGBYhfMbhBD4jf6MxN4hbiPtFiGOCfeSveyjoCcMihM84nMBn5G805gZxC3G/CHFMsI/8dQ8FPWFYhPAZhxP4jPyNxtwgbiHuFyGOCfaRv+6hoCcMixA+43ACn5G/0ZgbxC3E/SLEMcE+8tc9FPSEYRHCZxxO4DPyNxpzg7iFuF+EOCbYR/66h4KeMCxC+IzDCXxG/kZjbhC3EPeLEMcE+8hf91DQE4ZFCJ9xOIHPyN9ozA3iFuJ+EeKYYB/56x4KesKwCOEzDifwGfkbjblB3ELcL0IcE+wjf91DQU8YFiF8xuEEPiN/ozE3iNtrr6zR4G65ql21WHq/Johb7arFGtwtV6+9ssb29CIg5K97KOgJwyKEzyjo8Bn5G425QdxqVy2WpncM8la7arHt6UVAyF/3UNAThkUIn1HQ4TPyNxpzg7jxDDrQOuSveyjoCcMihM8o6PAZ+RuNuUHcQtwvQhwT7CN/3UNBTxgWIXzG4QQ+I3+jMTeIW4j7RYhjgn3kr3so6AnDIoTPOJzAZ+RvNOYGcQtxvwhxTLCP/HUPBT1hWITwGYcT+Iz8jcbcIG4h7hchjgn2kb/uoaAnDIsQPuNwAp+Rv9GYG8QtxP0ixDHBPvLXPRT0hGERwmccTuAz8jcac4O4hbhfhDgm2Ef+uoeCnjAsQviMwwl8Rv5GY24QtxD3ixDHBPvIX/dQ0BOGRQifcTiBz8jfaMwN4hbifhHimGAf+eseCnrCsAjhMw4n8Bn5G425QdxC3C9CHBPsI3/dQ0FPGBYhfMbhBD4jf6MxN4hbiPtFiGOCfeSveyjoCcMihM84nMBn5G805gZxC3G/CHFMsI/8dQ8FPWFYhPAZhxP4jPyNxtwgbiHuFyGOCfaRv+6hoCcMixA+43ACn5G/0ZgbxC3E/SLEMcE+8tc9FPSEYRHCZxxO4DPyNxpzg7iFuF+EOCbYR/66h4KeMCxC+IzDCXxG/kZjbhC3EPeLEMcE+8hf91DQE4ZFCJ9xOIHPyN9ozA3iFuJ+EeKYYB/56x4KesKwCOEzDifwGfkbjblB3ELcL0IcE+wjf91DQU8YFiF8xuEEPiN/ozE3iFuI+0WIY4J95K97KOgJwyKEzzicwGfkbzTmBnELcb8IcUywj/x1T+IL+ksvvaTy8nIdd9xxMsbomWeeybj/4MGDuuuuu9StWze1b99e5513njZt2pTxmK1bt+rrX/+6jjnmGBUVFemKK65QXV1dxmM2bNigoUOHKpVKqUePHnrggQeaXcuSJUvUr18/pVIpDRw4UM8999wRX0s2LEL4jMMJfHYk+cveBHw6Ie4XIY4J9pG/7kl8QX/++ed155136umnn27xEDRjxgwVFRXpJz/5iTZs2KBLLrlEvXv31p49e9KPufDCC3XyySfrl7/8pV5++WX16dNHY8eOTd+/Y8cOlZSUaNy4cdq4caMWL16swsJCPfbYY+nHrFmzRnl5eXrwwQdVW1uradOmqV27dnrjjTeO6FqyYRHCZxxO4LMjyV/2JuDTCXG/CHFMsI/8dU/iC3pThx6CDh48qG7duumhhx5Kf2/79u1KpVJavHixJKm2tlbGGP36179OP+aFF15QTk6O3n//fUnSnDlz1LlzZ9XX16cfc/vtt6tfv37pry+//HKNGjUq43rOOussTZo0qdXX0hosQviMwwl89knzl70JOHIh7hchjgn2kb/uoaA3cegh6O2335YxRjU1NRmPO/fcc3XDDTdIkhYsWKBOnTpl3L9//37l5eXp6aefliSNHz9eY8aMyXjMiy++KGOMPvroI0lSz549VVlZmfGYu+++W4MGDWr1tbRk79692rFjR/q2efNmFiG8xeEEPouroLM3AdmFuF+EOCbYR0F3DwW9iUMPQWvWrJExRlu2bMl43GWXXabLL79ckvTd735Xffv2bfazunbtqjlz5kiSRowYoauuuirj/jfffFPGGNXW1kqS2rVrp0WLFmU8Zvbs2SouLm71tbRk+vTpMsY0u7EI4SMOJ/BZXAWdvQnILsT9IsQxwT4Kunso6E2EeAjiWQqEhMMJfEZB/wf2JrS1EPeLEMcE+yjo7qGgNxHiywgPxSKEr+rr63XzzTfLGKObb7454/dmAR/wEvdo7E2IW4hlNsQxwT7y1z0U9Cai3oinoqIi/b0dO3a0+EY8r776avoxy5cvb/GNePbt25d+zJQpU5q9EU95eXnG9QwZMqTZG/Ec7lpag0UIH02ePFn5+fkZL4XNz8/X5MmTbV8a0Gpxv0kcexMQLcQyG+KYYB/5657EF/S6ujrV1NSopqZGxhjNnDlTNTU1eu+99yR9/PExnTp10rPPPqvf/OY3GjNmTIsfZTN48GC98sorWr16tU444YSMj7LZvn27SkpKNH78eG3cuFFPPfWUOnTo0OyjbPLz81VRUaG33npL06dPb/GjbLJdSzYsQrhi165dWr9+fdbbhAkTZIxRbm5uRkFv/HrChAmt+jm7du2yPWQk3JHkL3sT8OmEWGZDHBPsI3/dk/iCXl1d3eIb1UycOFHSx88O3HXXXSopKVEqldJ5552n3/3udxk/Y+vWrRo7dqyOPvpodezYUd/85jdVV1eX8ZgNGzZo6NChSqVS6t69u2bMmNHsWpYsWaK+ffuqoKBAAwYM0HPPPZdxf2uuJRsWIVzReND4rG4caGDbkeQvexPw6YRYZkMcE+wjf92T+IKeNCxCuKI1z6DfdNNN6WIydOhQ3XTTTbryyit10003aejQoen7brrpJp5Bh/PI32jMDeIWYpkNcUywj/x1DwU9YViE8MmYMWNkjFGfPn1UVlaW8UxiWVmZvvCFL8gY0+yNrgAXkb/RmBvELcQyG+KYYB/56x4KesKwCOGT888/P13Iy8vLNXv2bD3++OOaPXu2ysvL0/edf/75ti8VyIr8jcbcIG4hltkQxwT7yF/3UNAThkUIn9x2220yxigvL089e/bMeAa9Z8+eysvLkzFGt912m+1LBbIif6MxN4hbiGU2xDHBPvLXPRT0hGERwicVFRWtegO4ph/xBLiK/I3G3CBuIZbZEMcE+8hf91DQE4ZFCJ888cQTrSroTzzxhO1LBbIif6MxN4hbiGU2xDHBPvLXPRT0hGERwidNn0FPpVIZpbx9+/Y8gw6vkL/RmBvELcQyG+KYYB/56x4KesKwCOGTqVOnyhijvn37Nvsd9F69eqlv374yxmjq1Km2LxXIivyNxtwgbiGW2RDHBPvIX/dQ0BOGRQifTJs2LV3ICwsLMwp606+nTZtm+1KBrMjfaMwN4hZimQ1xTLCP/HUPBT1hWITwycqVKyMLeocOHdL/e+XKlbYvFciK/I3G3CBuIZbZEMcE+8hf91DQE4ZFCJ/U19crNzdXxhiNGjVKs2bN0oIFCzRr1iyNGjVKxhjl5uaqvr7e9qUCWZG/0ZgbxC3EMhvimGAf+eseCnrCsAjhk+rq6lY9g15dXW37UoGsyN9ozA3iFmKZDXFMsI/8dQ8FPWFYhPDJokWLZIxRVVWVSktLMwp6WVmZqqqqZIzRokWLbF8qkBX5G425QdxCLLMhjgn2kb/uoaAnDIsQPml8Bn3dunWqr69XZWWlrr/+elVWVqq+vl5r167lGXR4g/yNxtwgbiGW2RDHBPvIX/dQ0BOGRQifNDQ0qKysTKeffrrKysqaPYN++umnq3fv3mpoaLB9qUBW5G805gZxC7HMhjgm2Ef+uoeCnjAsQvhm8uTJMsaopKRE8+bN05YtWzRv3jyVlJTIGKPJkyfbvkSgVcjfaMwN4hZimQ1xTLCP/HUPBT1hWITwSdNn0Fv6HXSeQYdPyN9ozA3iFmKZDXFMsI/8dQ8FPWFYhPBJ099Bb2hoUHV1tRYtWqTq6mo1NDTwO+jwCvkbjblB3EIssyGOCfaRv+6hoCcMixA+aXwX97q6uhbv37lzJ+/iDm+Qv9GYG8QtxDIb4phgH/nrHgp6wrAI4ZOmz6C3hGfQ4RPyNxpzg7iFWGZDHBPsI3/dQ0FPGBYhfNL4O+ijR4/WgQMHMu47cOCARo8eze+gwxvkbzTmBnELscyGOCbYR/66h4KeMCxC+Gbp0qXKycnR6NGjtXbtWu3cuVNr167V6NGjlZOTo6VLl9q+RKBVyN9ozA3iFmKZDXFMsI/8dQ8FPWFYhPDR0qVLm30Oeu/evSnn8Ar5G425QdxCLLMhjgn2kb/uoaAnDIsQvmrpXdwBn5C/0ZgbxC3EMhvimGAf+eseCnrCsAjhKwo6fEf+RmNuELcQy2yIY4J95K97KOgJwyKEj1p6iXtZWRkvcYdXyN9ozA3iFmKZDXFMsI/8dQ8FPWFYhPBN45vEFRYWZhT0wsJC3iQOXiF/ozE3iFuIZTbEMcE+8tc9FPSEYRHCJw0NDSouLs4o5ofeiouLebk7vED+RmNuELcQy2yIY4J95K97KOgJwyKET1auXJku4rm5uRnFvOnXK1eutH2pQFbkbzTmBnELscyGOCbYR/66h4KeMCxC+GTKlCnpEl5eXq5169aprq5O69atU3l5efq+KVOm2L5UICvyNxpzg7iFWGZDHBPsI3/dQ0FPGBYhfHL++efLGKPjjz9eBw4cyLjvwIEDOv7442WM0fnnn2/pCoHWI3+jMTeIW4hlNsQxwT7y1z0U9IRhEcInZ599towx6t+/f4sF/Ytf/KKMMTr77LMtXSHQeuRvNOYGcQuxzIY4JthH/rqHgp4wLEL4ZNy4cRkvcV+7dq127typtWvXZrzEfdy4cbYvFciK/I3G3CBuIZbZEMcE+8hf91DQE4ZFCJ+sWLEi42PVmr5JXIcOHdL/e8WKFbYvFciK/I3G3CBuIZbZEMcE+8hf91DQE4ZFCJ80NDSoqKioxY9Xy8nJkTFGRUVFfMwavED+RmNuELcQy2yIY4J95K97KOgJwyKEb5YuXXrYz0FfunSp7UsEWoX8jcbcIG4hltkQxwT7yF/3UNAThkUIHy1dulQ9e/bMKOa9evWinMMr5G805gZxC7HMhjgm2Ef+uoeCnjAsQvho8uTJys/Pzyjo+fn5mjx5su1LA1qN/I3G3CBuIZbZEMcE+8hf91DQE4ZFCN9MnjxZxhiVlJRo/vz5+uCDDzR//nyVlJTIGENJhzfI32jMDeIWYpkNcUywj/x1DwU9YViE8El9fb3y8/NVUlKi/fv3Z9y3f/9+lZSUKD8/X/X19ZauEGg98jcac4O4hVhmQxwT7CN/3UNBTxgWIXxSWVkpY4zmz5/f4v2PPfaYjDGqrKz8jK8MOHLkbzTmBnELscyGOCbYR/66h4KeMCxC+OT666+XMUYffPBBi/e///77Msbo+uuv/4yvDDhy5G805gZxC7HMhjgm2Ef+uoeCnjAsQvik6TPoDQ0Nqq6u1qJFi1RdXa2GhgaeQYdXyN9ozA3iFmKZDXFMsI/8dQ8FPWFYhPBJ4++gFxUVqVevXs0+Zq2oqIjfQYc3yN9ozA3iFmKZDXFMsI/8dQ8FPWFYhPDNmDFjZIxRQUGBxo4dq4cfflhjx45VQUGBjDEaM2aM7UsEWoX8jcbcIG4hltkQxwT7yF/3UNAThkUInzQ0NKisrCz9kWqH3kpKStS7d281NDTYvlQgK/I3GnODuIVYZkMcE+wjf91DQU8YFiF8Ul1dLWOMcnJylEqlMsp5KpVSTk6OjDGqrq62falAVuRvNOYGcQuxzIY4JthH/rqHgp4wLEL4pKqqKl3Iy8vLtW7dOtXV1WndunUqLy9P31dVVWX7UoGsyN9ozA3iFmKZDXFMsI/8dQ8FPWFYhPBJRUWFjDEaNGiQ9u3bl/Eu7vv27dNJJ50kY4wqKipsXyqQFfkbjblB3EIssyGOCfaRv+6hoCcMixA+mTp1qowx6tu3r8rKyjJe4l5WVqa+ffvKGKOpU6favlQgK/I3GnODuIVYZkMcE+wjf91DQU8YFiF8Mm3atIw3hJs3b562bNmiefPmZbxx3LRp02xfKpAV+RuNuUHcQiyzIY4J9pG/7qGgJwyLED5Zvny5jDE6+uij1aNHj4xn0Hv27Kmjjz5axhgtX77c9qUCWZG/0ZgbxC3EMhvimGAf+eseCnrCsAjhk5UrV7b48WqH3lauXGn7UoGsyN9ozA3iFmKZDXFMsI/8dQ8FPWFYhPDJokWLWlXQFy1aZPtSgazI32jMDeIWYpkNcUywj/x1DwU9YViE8MmKFSvSJTw3NzejlDf9esWKFbYvFciK/I3G3CBuIZbZEMcE+8hf91DQE4ZFCJ/MmDEjXcZ79uzZ7HfQG0v6jBkzbF8qkBX5G425QdxCLLMhjgn2kb/uoaAnDIsQPjnnnHNa9S7u55xzju1LBbIif6MxN4hbiGU2xDHBPvLXPRT0hGERwieNBb179+7NPge9d+/e+vznP09BhzfI32jMDeIWYpkNcUywj/x1DwU9YViE8MmkSZNkjFEqlWrxJe4FBQUyxmjSpEm2LxXIivyNxtwgbiGW2RDHBPvIX/dQ0BOGRQifPPHEE616F/cnnnjC9qUCWZG/0ZgbxC3EMhvimGAf+eseCnrCsAjhEz4HHSEhf6MxN4hbiGU2xDHBPvLXPRT0hGERwifLly+XMUbt27dXXl5eRinPz89X+/btZYzR8uXLbV8qkBX5G425QdxCLLMhjgn2kb/uoaAnDIsQPpk2bVq6kF900UUaNmyY+vfvr2HDhumiiy5K3zdt2jTblwpkRf5GY24QtxDLbIhjgn3kr3so6AnDIoRPGgv62Wef3eJL24cMGUJBhzfI32jMDeIWYpkNcUywj/x1DwU9YViE8EnT30HPzc3NKOdNv+Z30OED8jcac4O4hVhmQxwT7CN/3UNBTxgWIXyye/fuVr1J3O7du21fKpAV+RuNuUHcQiyzIY4J9pG/7qGgJwyLED6pqKiIfAa96ZvGVVRU2L5UICvyNxpzg7iFWGZDHBPsI3/dQ0FPGBYhfDJmzBgZY9SnTx+VlpZmFPSysjL16dNHxhiNGTPG9qUCWZG/0ZgbxC3EMhvimGAf+eseCnrCsAjhk/PPP1/GGI0ePbpZQS8tLdWoUaNkjNH5559v+1KBrMjfaMwN4hZimQ1xTLCP/HUPBT1hWITwyR133JEu5AUFBRkFvenXd9xxh+1LBbIif6MxN4hbiGU2xDHBPvLXnkbg/AAAIABJREFUPRT0hGERwifLly9v1ZvELV++3PalAlmRv9GYG8QtxDIb4phgH/nrHgp6K+zcuVM33nijevXqpfbt22vIkCH61a9+lb5/4sSJzQrDBRdckPEztm7dqq9//es65phjVFRUpCuuuEJ1dXUZj9mwYYOGDh2qVCqlHj166IEHHmh2LUuWLFG/fv2USqU0cOBAPffcc0c0FhYhfLJixYpWFfQVK1bYvlQgq7jzl70JiBZimQ1xTLCP/HUPBb0VLr/8cvXv318vvfSSfv/732v69Onq2LGj/vSnP0n6+BB04YUX6oMPPkjfPvroo4yfceGFF+rkk0/WL3/5S7388svq06ePxo4dm75/x44dKikp0bhx47Rx40YtXrxYhYWFeuyxx9KPWbNmjfLy8vTggw+qtrZW06ZNU7t27fTGG2+0eiwsQvhk6tSpkS9xT6VS6f89depU25cKZBV3/rI3AdFCLLMhjgn2kb/uoaBnsXv3buXl5elnP/tZxvdPPfVU3XnnnZI+PgQd7l2ka2trZYzRr3/96/T3XnjhBeXk5Oj999+XJM2ZM0edO3dWfX19+jG33367+vXrl/768ssv16hRozJ+9llnnaVJkya1ejwsQvjkG9/4howx+vd///cW38X9iiuukDFG3/jGN2xfKpBVnPnL3gQcXohlNsQxwT7y1z0U9Cx27twpY4xWrlyZ8f1zzjlHw4cPl/TxIaioqEhdu3ZV3759dfXVV+tvf/tb+rELFixQp06dMv78/v37lZeXp6efflqSNH78+GYHqRdffFHGmPQzHj179lRlZWXGY+6++24NGjQo8vr37t2rHTt2pG+bN29mEcIbjc+g9+vXr8V3cT/hhBN4Bh3eiPMQxN4EHF6IZTbEMcE+Crp7KOitMGTIEA0fPlzvv/++Ghoa9OSTTyo3N1d9+/aVJC1evFjPPvusfvOb3+iZZ57RF7/4RZ1xxhlqaGiQJH33u99NP7aprl27as6cOZKkESNG6Kqrrsq4/80335QxRrW1tZKkdu3aadGiRRmPmT17toqLiyOvffr06S3+zi6LED5YuXJl+v+zxcXFuuWWWzR79mzdcsstKi4uTt93aEkBXBT3IYi9CYgWYpkNcUywj4LuHgp6K/zhD3/QueeeK2OM8vLydMYZZ2jcuHE68cQTW3z822+/nVEabB6CeJYCPquvr1dubu5h3yAuNzc34+W3gKviPgSxNwHRQiyzIY4J9lHQ3UNBPwJ///vftWXLFkkf/87dxRdfHPnYLl266NFHH5Vk92WEh2IRwifV1dWtehf36upq25cKZNVW+cveBDQXYpkNcUywj/x1DwX9E/joo49UVFSU8S62TW3evFk5OTl69tlnJf3jjXheffXV9GOWL1/e4hvx7Nu3L/2YKVOmNHsjnvLy8oy/a8iQIbwRD4JVVVWVLuGFhYUZpbzp11VVVbYvFciqrfOXvQn4hxDLbIhjgn3kr3so6K2wbNkyvfDCC3rnnXe0YsUKnXzyyTrrrLO0b98+1dXV6dZbb9W6dev07rvvauXKlTr11FN1wgknaO/evemfceGFF2rw4MF65ZVXtHr1ap1wwgkZH2Wzfft2lZSUaPz48dq4caOeeuopdejQodlH2eTn56uiokJvvfWWpk+fzkfZIGgPP/xw+g3hWnqTuMbvPfzww7YvFcgq7vxlbwKihVhmQxwT7CN/3UNBb4Uf/vCHOv7441VQUKBu3brpuuuu0/bt2yV9/FE3I0eOVNeuXdWuXTuVlpbqyiuv1J///OeMn7F161aNHTtWRx99tDp27KhvfvObqqury3jMhg0bNHToUKVSKXXv3l0zZsxodi1LlixR3759VVBQoAEDBui55547orGwCOGTpp+DXl5ernXr1qmurk7r1q1TeXk5n4MOr8Sdv+xNQLQQy2yIY4J95K97KOgJwyKETw4t6GvXrtXOnTu1du1aCjq8Q/5GY24QtxDLbIhjgn3kr3so6AnDIoRPKioqIl/iXlZWlv5eRUWF7UsFsiJ/ozE3iFuIZTbEMcE+8tc9FPSEYRHCJ03fJK6goCCjoDf9mjeJgw/I32jMDeIWYpkNcUywj/x1DwU9YViE8Akfs4aQkL/RmBvELcQyG+KYYB/56x4KesKwCOGT+vp65eTkHLac5+TkqL6+3valAlmRv9GYG8QtxDIb4phgH/nrHgp6wrAI4ZPly5eni3jXrl11yy23aPbs2brlllvUtWvX9H3Lly+3falAVuRvNOYGcQuxzIY4JthH/rqHgp4wLEL4ZNy4cTLGqGfPniorK8t45rx3797q2bOnjDEaN26c7UsFsiJ/ozE3iFuIZTbEMcE+8tc9FPSEYRHCJ0OHDk2/S3tDQ4Oqq6u1aNEiVVdXq6GhQQ888ICMMRo6dKjtSwWyIn+jMTeIW4hlNsQxwT7y1z0U9IRhEcInjc+gDxgwQPv27cso6Pv27dOAAQN4Bh3eIH+jMTeIW4hlNsQxwT7y1z0U9IRhEcInTX8HPZVKZbzEvenX/A46fED+RmNuELcQy2yIY4J95K97KOgJwyKETxoaGlRYWHjYd3EvLCxUQ0OD7UsFsiJ/ozE3iFuIZTbEMcE+8tc9FPSEYRHCJw0NDSouLj5sQS8uLqagwwvkbzTmBnELscyGOCbYR/66h4KeMCxC+KS6ujryJe7t27dP/+/q6mrblwpkRf5GY24QtxDLbIhjgn3kr3so6AnDIoRPqqqqZIzRRRddpD179qiyslLXX3+9KisrtWfPHl100UUyxqiqqsr2pQJZkb/RmBvELcQyG+KYYB/56x4KesKwCOGTyspKGWN0zTXXNPsc9LKyMk2aNEnGGFVWVtq+VCAr8jcac4O4hVhmQxwT7CN/3UNBTxgWIXzS+Ax645vBHfrmcI3/m2fQ4QPyNxpzg7iFWGZDHBPsI3/dQ0FPGBYhfLJy5cqMN4ObN2+etmzZonnz5mW8edzKlSttXyqQFfkbjblB3EIssyGOCfaRv+6hoCcMixA+WbFihYwxOuqoo1RaWtrsJe5HHXWUjDFasWKF7UsFsiJ/ozE3iFuIZTbEMcE+8tc9FPSEYRHCJ9OmTWvVS9ynTZtm+1KBrMjfaMwN4hZimQ1xTLCP/HUPBT1hWITwSdOCfrgbBR0+IH+jMTeIW4hlNsQxwT7y1z0U9IRhEcIny5cvT5fwrl276tZbb9WcOXN06623qmvXrun7li9fbvtSgazI32jMDeIWYpkNcUywj/x1DwU9YViE8MmyZcvSJfziiy/WrFmztGDBAs2aNUsXX3xx+r5ly5bZvlQgK/I3GnODuIVYZkMcE+wjf91DQU8YFiF8Mn78+HQJz8nJyXhZe9Ovx48fb/tSgazI32jMDeIWYpkNcUywj/x1DwU9YViE8MlXv/rVVv0O+le/+lXblwpkRf5GY24QtxDLbIhjgn3kr3so6AnDIoRPHnrooXQJz8vL09ixY1VZWamxY8cqLy8vfd9DDz1k+1KBrMjfaMwN4hZimQ1xTLCP/HUPBT1hWITwyU9/+tOM30Ffu3atdu7cqbVr12b8DvpPf/pT25cKZEX+RmNuELcQy2yIY4J95K97KOgJwyKET0aMGJEu4bm5uRkva2/6DPqIESNsXyqQFfkbjblB3EIssyGOCfaRv+6hoCcMixA+Of3002WM0SWXXNKsoOfm5qq8vFzGGJ1++um2LxXIivyNxtwgbiGW2RDHBPvIX/dQ0BOGRQifXHPNNTLGqFu3burVq1dGQe/Vq5e6desmY4yuueYa25cKZEX+RmNuELcQy2yIY4J95K97KOgJwyKET3bv3p0u5MXFxZo3b562bNmiefPmqbi4OH3f7t27bV8qkBX5G425QdxCLLMhjgn2kb/uoaAnDIsQPmloaFCHDh0O+xFrHTp0UENDg+1LBbIif6MxN4hbiGU2xDHBPvLXPRT0hGERwifV1dUyxmjYsGEtlvPG71dXV9u+VCAr8jcac4O4hVhmQxwT7CN/3UNBTxgWIXyyaNEiGWNUV1en3bt367rrrtPIkSN13XXXaffu3dq5c6eMMVq0aJHtSwWyIn+jMTeIW4hlNsQxwT7y1z0U9IRhEcInjc+gr1u3rsX7165dyzPo8Ab5G425QdxCLLMhjgn2kb/uoaAnDIsQPmloaFBZWZlGjx6tAwcOZNx34MABjR49Wr179+Z30OEF8jcac4O4hVhmQxwT7CN/3UNBTxgWIXyzdOlS5fz/9u49Oqr6Xv/4N/crhABJUC4JCETFA+pRKR6WeIMiCaJWsYAYxQoqamy9oIilR8WD19geoUW8HZsGxQLaVgGLRgUSFTVyaZCLcjRSWi0YEsUEkjy/P1jZhzHZBPsL3d8v+/1aa9ZqMpPJzsd+nsnDnsxERSkvL0+FhYWaPHmyCgsLlZeXp6ioKC1atCjoQwQOCfnrj9mgvR2JZfZI/JkQPPLXPhT0kGEJ4aIxY8a0+iJxY8aMCfrQgENG/vpjNmhvR2KZPRJ/JgSP/LUPBT1kWEK45tZbb/XeB33s2LG68sorNXbsWO990G+99dagDxE4JOSvP2aD9nYkltkj8WdC8Mhf+1DQQ4YlhEvq6+sVGxurtLQ09erVK+Lsea9evZSWlqbY2FjV19cHfahAm8hff8wG7e1ILLNH4s+E4JG/9qGghwxLCJcUFRV5hTwpKSmioB/4cVFRUdCHCrSJ/PXHbNDejsQyeyT+TAge+WsfCnrIsIRwyXXXXeeV8Pz8fJWXl6u2tlbl5eXKz8/3rrvuuuuCPlSgTeSvP2aD9nYkltkj8WdC8Mhf+1DQQ4YlhEuuvfZaGWPUt29f7d27V6WlpSopKVFpaan27t2rY445RsYYXXvttUEfKtAm8tcfs0F7OxLL7JH4MyF45K99KOghwxLCJbfffruMMUpJSVF2dnbEU9yzs7OVkpIiY4xuv/32oA8VaBP564/ZoL0diWX2SPyZEDzy1z4U9JBhCeGSGTNmtPr2at+9zJgxI+hDBdpE/vpjNmhvR2KZPRJ/JgSP/LUPBT1kWEK4ZPny5V4Jj4qKiijlB368fPnyoA8VaBP564/ZoL0diWX2SPyZEDzy1z4U9JBhCeGSV1991Svh5513nm688UZNnjxZN954o8477zzvuldffTXoQwXaRP76YzZob0dimT0SfyYEj/y1DwU9ZFhCuOTAp7gnJib6vs0aT3GHC8hff8wG7e1ILLNH4s+E4JG/9qGghwxLCJc0F/SxY8cqNjY2oqDHxsZq7NixFHQ4g/z1x2zQ3lauXCljjObPn6/333//sF5WrVql4uJirVq16rB+n+LiYgo62h35ax8KesiwhHDJihUrvEKel5enOXPm6KmnntKcOXOUl5fnXbdixYqgDxVoE/nrj9mgvc2fP/+QXmTUxcvmzZuDHi+OIOSvfSjoIcMSwiX19fWKjo6WMUb5+fkqKytTTU2NysrKlJ+fL2OMoqOjVV9fH/ShAm0if/0xG7S3L7/8UvPnz9fKlSsP+xn05jPbxcXFh/17Uc7R3shf+1DQQ4YlhEtKS0tb/ZtzY4ySk5O9/11aWhr0oQJtIn/9MRu4jL8Nh8vIX/tQ0EOGJYRLSkpKvLMS2dnZEQU9JyfHO2tRUlIS9KECbSJ//TEbuIyCDpeRv/ahoIcMSwiXNJ9BLy8vV0NDg0pLS1VSUqLS0lI1NDSorKyMM+hwBvnrj9nAZRR0uIz8tQ8FPWRYQrikoaFBOTk5Gj16tPbu3RtR0Pfu3avRo0erd+/eamhoCPpQgTaRv/6YDVxGQYfLyF/7UNBDhiWEaxYtWqSoqKgWf4OelJSkqKgoLVq0KOhDBA4J+euP2cBlFHS4jPy1DwU9ZFhCuGbRokUHfZE4CjpcQf76YzZwGQUdLiN/7UNBDxmWEC5pfor7Kaecol69ekUU9F69eumUU07hKe5wBvnrj9nAZRR0uIz8tQ8FPWRYQrjkwLdZGz16tMrLy1VbW6vy8nKNHj2at1mDU8hff8wGLqOgw2Xkr30o6CHDEsIlzW+jdt5557X6InHnnXee9zZsgO3IX3/MBi6joMNl5K99KOghwxLCJUVFRTLG6Nprr1VOTk6L90G/5pprZIxRUVFR0IcKtIn89cds4DIKOlxG/tqHgh4yLCFc0nwG3RijxMTEiIJ+4MecQYcLyF9/zAYuo6DDZeSvfSjoIcMSwiUrVqzwSnhmZqZuvvlmzZkzRzfffLMyMzO961asWBH0oQJtIn/9MRu4jIIOl5G/9qGghwxLCJe8+uqrMsYoISFBMTExEWfQY2NjlZCQIGOMXn311aAPFWgT+euP2cBlFHS4jPy1DwU9ZFhCuGTGjBleIY+Kiooo6Ad+PGPGjKAPFWgT+euP2cBlFHS4jPy1DwU9ZFhCuGT69OleCU9KSooo6Ad+PH369KAPFWgT+euP2cBlFHS4jPy1DwU9ZFhCuOTBBx+UMUYdO3ZUXV1dxNus1dXVqUOHDjLG6MEHHwz6UIE2kb/+mA1cRkGHy8hf+1DQQ4YlhEsOPIOen5+vsrIy1dTUqKysTPn5+ZxBh1PIX3/MBi6joMNl5K99KOghwxLCJQf+DfrBnuLO36DDBeSvP2YDl1HQ4TLy1z4U9JBhCeGS5rdZS09PjyjnzZfmz/M2a3AB+euP2cBlFHS4jPy1DwU9ZFhCuKShoUHJyckyxiguLk7jxo3Tww8/rHHjxikuLk7GGCUnJ6uhoSHoQwXaRP76YzZwGQUdLiN/7UNBDxmWEC6pr69XdHT0QZ/iHh0drfr6+qAPFWgT+euP2cBlFHS4jPy1DwX9ENTU1KiwsFC9evVSYmKihgwZonfffde7vqmpSXfddZe6deumxMREnXPOOdq8eXPEfezcuVPjx49Xhw4dlJaWpkmTJqm2tjbiNmvXrtXQoUOVkJCgHj166P77729xLAsXLlRubq4SEhJ0wgkn6OWXX/5ePwtLCJcUFRXJGKNrr71W2dnZEQU9JydHU6ZMkTFGRUVFQR8q0Kb2zl8emwA7UNDhMvLXPhT0QzB27Fgdf/zxevPNN7VlyxbNnDlTHTt21Oeffy5Jmj17ttLS0vTiiy9q7dq1Ov/889W7d299++233n2MHDlSgwYN0ttvv62VK1eqb9++GjdunHf97t27lZWVpQkTJmjDhg1asGCBkpKSNG/ePO82q1evVkxMjB544AFVVlZqxowZiouL0/r16w/5Z2EJ4ZLrr79exhg98cQTLQp6dna25s+fL2OMrr/++qAPFWhTe+cvj02AHSjocBn5ax8Kehv27NmjmJgY/elPf4r4/Mknn6w777xTTU1N6tatW8T7MFdXVyshIUELFiyQJFVWVsoYozVr1ni3Wbp0qaKiorR9+3ZJ0ty5c5Wenh7xVN1p06YpNzfX+3js2LHKy8uLOI7BgwdrypQph/zzsIRwSfMZdGOMRo8erfLyctXW1qq8vFyjR4/2ruMMOlzQnvnLYxNgDwo6XEb+2oeC3oaamppWXyX6P/7jPzRs2DB9/PHHMsaooqIi4vozzjhDN954oyTpySefVKdOnSKu37dvn2JiYrR48WJJ0sSJEzVmzJiI27z++usyxmjXrl2SpJ49e7YoIj//+c81cOBA3+Ovq6vT7t27vUtVVRVLCGfs2bNHxhjFx8e3+Dvz+vp6xcfHyxijPXv2BHSEwKFrz1+CeGwC7EFBh8so6PahoB+CIUOGaNiwYdq+fbsaGhr029/+VtHR0erfv79Wr14tY4z++te/RnzNJZdcorFjx0qSZs2apf79+7e434yMDM2dO1eSNHz4cE2ePDni+r/85S8yxqiyslKSFBcXp5KSkojbzJkzR5mZmb7HPnPmzFbfnoolhAtKS0u9/89mZWVp3rx52r59u+bNm6esrCzvutLS0qAPFWhTe/8SxGMTYAcKOlxGQbcPBf0QbN26VWeccYaMMYqJidGpp56qCRMm6Nhjj7X+lyDOUsBlJSUlMsaosLBQMTExEb/Ix8bGqrCwUMaYFnsB2Ki9fwnisQmwAwUdLqOg24eC/j18/fXX3i87Y8eO1ahRo6x/GuF3sYRwSfMZ9P/6r/9q9UXi7rvvPs6gwxmHK395bAKCRUGHy8hf+1DQ/wm7du1SWlqa5s2b570Qz0MPPeRdv3v37lZfiOe9997zbrN8+fJWX4hn79693m3uuOOOFi/Ek5+fH3EsQ4YM4YV4cMRqaGhQZmamjDHKz8+PeJG4/Px8GWOUmZmphoaGoA8VaNPhzl8em4BgUNDhMvLXPhT0Q7Bs2TItXbpUn3zyiV599VUNGjRIgwcP9n5hmT17tjp16qSXXnpJ69at05gxY1p9K5uTTjpJ77zzjlatWqV+/fpFvJVNdXW1srKyNHHiRG3YsEHPPfeckpOTW7yVTWxsrB566CFt3LhRM2fO5K1scERraGhQRkaGV9DLyspUU1OjsrIyCjqc0975y2MTYAcKOlxG/tqHgn4Inn/+efXp00fx8fHq1q2bpk6dqurqau/6pqYm3XXXXcrKylJCQoLOOeccbdq0KeI+du7cqXHjxik1NVUdO3bUlVdeqdra2ojbrF27VkOHDlVCQoK6d++u2bNntziWhQsXqn///oqPj9eAAQP08ssvf6+fhSWESw58intOTk7EU9x79+7NU9zhlPbOXx6bADtQ0OEy8tc+FPSQYQnhkuYXiSsuLlbPnj0jCnrPnj1VXFzMi8TBGeSvP2YDl1HQ4TLy1z4U9JBhCeGSA99m7WAXzqDDBeSvP2YDl1HQ4TLy1z4U9JBhCeGS+vp6r4THx8fr9ttv19atW3X77bcrPj7eu66+vj7oQwXaRP76YzZwGQUdLiN/7UNBDxmWEC5ZunSpV8JHjRqlxx57TE8++aQee+wxjRo1yrtu6dKlQR8q0Cby1x+zgcso6HAZ+WsfCnrIsIRwyfDhw2WM0SmnnKLY2NiIp7XHxsbq3//932WM0fDhw4M+VKBN5K8/ZgOXUdDhMvLXPhT0kGEJ4ZJTTjlFxhhFRUUpPz9fc+bM0VNPPaU5c+YoPz9fUVFRXoEHbEf++mM2cBkFHS4jf+1DQQ8ZlhAumTJliowxSk5O1r59+yKu27dvn5KTk2WM0ZQpUwI6QuDQkb/+mA1cRkGHy8hf+1DQQ4YlhEuWLVt2SH+DvmzZsqAPFWgT+euP2cBlFHS4jPy1DwU9ZFhCuKT5fdDbuvA+6HAB+euP2cBlFHS4jPy1DwU9ZFhCuIT3QceRhPz1x2zgMgo6XEb+2oeCHjIsIVxSX1+v2NhYZWVlqaamRlOnTtWIESM0depU1dTUKCsrS7GxsbwPOpxA/vpjNnAZBR0uI3/tQ0EPGZYQLmk+g978Ku4H/g36ga/izhl0uID89cds4DIKOlxG/tqHgh4yLCFc0vw36IWFha2+D3phYSF/gw5nkL/+mA1cRkGHy8hf+1DQQ4YlhEsO/Bv0vLw8FRYWavLkySosLFReXh5/gw6nkL/+mA1cRkGHy8hf+1DQQ4YlhEua/wY9LS1NOTk5EWfQc3JylJaWxt+gwxnkrz9mA5dR0OEy8tc+FPSQYQnhkgPPoGdlZenmm2/WnDlzdPPNNysrK4sz6HAK+euP2cBlFHS4jPy1DwU9ZFhCuKS4uFjGGPXu3VsxMTERZ9BjYmLUu3dvGWNUXFwc9KECbSJ//TEbuIyCDpeRv/ahoIcMSwiXFBUVeYU8Pz9fc+bM0VNPPaU5c+YoPz/fu66oqCjoQwXaRP76YzZwGQUdLiN/7UNBDxmWEC559tlnZYxRRkaG6urqVFpaqpKSEpWWlqqurk4ZGRkyxujZZ58N+lCBNpG//pgNXEZBh8vIX/tQ0EOGJYRLDjyDnpSUFPEU9wM/5gw6XED++mM2cBkFHS4jf+1DQQ8ZlhAuaf4b9LYu/A06XED++mM2cBkFHS4jf+1DQQ8ZlhAuWbFihVfCMzMzI17FPTMz07tuxYoVQR8q0Cby1x+zgcso6HAZ+WsfCnrIsIRwyfLly2WMUWpqaov3Qe/du7dSU1NljNHy5cuDPlSgTeSvP2YDl1HQ4TLy1z4U9JBhCeGSGTNmyBijqKgojRo1ShdddJHOPvtsXXTRRRo1apSioqJkjNGMGTOCPlSgTeSvP2YDl1HQ4TLy1z4U9JBhCeGS5oJ++umnt/q3582fp6DDBeSvP2YDl1HQ4TLy1z4U9JBhCeGS7/4N+i233KK5c+fqlltu4W/Q4Rzy1x+zgcso6HAZ+WsfCnrIsIRwyZ49e7wSPmrUKJWVlammpkZlZWUaNWqUd92ePXuCPlSgTeSvP2YDl1HQ4TLy1z4U9JBhCeGSg70PenJyMu+DDqeQv/6YDVxGQYfLyF/7UNBDhiWES66//noZY/TEE0+0+iru8+fPlzFG119/fdCHCrSJ/PXHbOAyCjpcRv7ah4IeMiwhXNJ8Bn3+/Pmqr69XUVGRrr/+ehUVFam+vl7z5s3jDDqcQf76YzZwGQUdLiN/7UNBDxmWEC6pr69XbGys0tLS1KtXr4gz6L169VJaWppiY2NVX18f9KECbSJ//TEbuIyCDpeRv/ahoIcMSwjXjBkzRsYYxcfHa9q0adq8ebOmTZum+Ph4GWM0ZsyYoA8ROCTkrz9mA5dR0OEy8tc+FPSQYQnhkoaGBuXk5OiYY45RbGxsxBn02NhYHXPMMerdu7caGhqCPlSgTeSvP2YDl1HQ4TLy1z4U9JBhCeGS0tJSGWNUXl6uPXv2aOrUqRoxYoSmTp2qPXv2qKysTMYYlZaWBn2oQJvIX3/MBi6joMNl5K99KOghwxLCJSUlJTLGqLi4uMWruOfk5Ki4uFjGGJWUlAR9qECbyF9/zAYuo6DDZeSvfSjoIcMSwiXNZ9CjoqJavA96UlKSoqKiOIMOZ5C//pgNXEZBh8vIX/tQ0EOGJYRL6uvrFR0d7b1I3IEFvfk9BPvDAAAgAElEQVTj6OhoXsUdTiB//TEbuIyCDpeRv/ahoIcMSwiXrFixwivkzUW9tY9XrFgR9KECbSJ//TEbuIyCDpeRv/ahoIcMSwiXTJ8+PeIp7QcW9OTkZO9/T58+PehDBdpE/vpjNnAZBR0uI3/tQ0EPGZYQLpkwYYKMMTrhhBO0d+9elZaWqqSkRKWlpdq7d68GDBggY4wmTJgQ9KECbSJ//TEbuIyCDpeRv/ahoIcMSwiXjB8/3ivojY2NEdc1NjbqhBNOkDFG48ePD+gIgUNH/vpjNnAZBR0uI3/tQ0EPGZYQLjnwKe75+fkqKytTTU2NysrKlJ+fz1Pc4RTy1x+zgcso6HAZ+WsfCnrIsIRwyYEvEnewv0HnReLgAvLXH7OByyjocBn5ax8KesiwhHBJQ0ODMjMzZYxRQkJCREFPTEyUMUaZmZlqaGgI+lCBNpG//pgNXEZBh8vIX/tQ0EOGJYRrFi1apKioqFbPoEdFRWnRokVBHyJwSMhff8wGLqOgw2Xkr30o6CHDEsJFixYtUk5OTkRB7927N+UcTiF//TEbuIyCDpeRv/ahoIcMSwhXNTQ0RLzNGk9rh2vIX3/MBi6joMNl5K99KOghwxLCVRR0uI789cds4DIKOlxG/tqHgh4yLCFc1NpT3HNycniKO5xC/vpjNnAZBR0uI3/tQ0EPGZYQrml+kbjRo0ervLxctbW1Ki8v1+jRo3mRODiF/PXHbOAyCjpcRv7ah4IeMiwhXNLQ0KCcnByNHj1ajY2NEdc1NjZq9OjR6t27N093hxPIX3/MBi6joMNl5K99KOghwxLCJaWlpTLGqLy8vNXry8rKZIxRaWnpv/bAgH8C+euP2cBlFHS4jPy1DwU9ZFhCuKSkpETGGNXW1rZ6fU1NjYwxKikp+RcfGfD9kb/+mA1cRkGHy8hf+1DQQ4YlhEs4g44jCfnrj9nAZRR0uIz8tQ8FPWRYQriEv0HHkYT89cds4DIKOlxG/tqHgh4yLCFcc+CruJeVlammpkZlZWW8ijucQ/76YzZwGQUdLiN/7UNBDxmWEC5q7X3Qe/fuTTmHU8hff8wGLqOgw2Xkr30o6CHDEsJVDQ0NKi0tVUlJiUpLS3laO5xD/vpjNnAZBR0uI3/tQ0EPGZYQAIJB/vpjNnAZBR0uI3/tQ0EPGZYQAIJB/vpjNnAZBR0uI3/tQ0EPGZYQAIJB/vpjNnAZBR0uI3/tQ0EPGZYQAIJB/vpjNnAZBR0uI3/tQ0EPGZYQAIJB/vpjNnAZBR0uI3/tQ0EPGZYQAIJB/vpjNnAZBR0uI3/tQ0EPGZYQAIJB/vpjNnAZBR0uI3/tQ0EPGZYQAIJB/vpjNnAZBR0uI3/tQ0EPGZYQAIJB/vpjNnAZBR0uI3/tQ0EPGZYQAIJB/vpjNnAZBR0uI3/tQ0EPGZYQAIJB/vpjNnAZBR0uI3/tQ0EPGZYQAIJB/vpjNnAZBR0uI3/tQ0FvQ0NDg2bMmKGcnBwlJiaqT58+uvvuu9XU1OTdpqCgQMaYiMsPf/jDiPvZuXOnxo8frw4dOigtLU2TJk1SbW1txG3Wrl2roUOHKiEhQT169ND999/f4ngWLlyo3NxcJSQk6IQTTtDLL7/8vX4elhAAgtGe+ctjE2APCjpcRv7ah4LehlmzZqlLly7605/+pG3btumFF15QamqqfvnLX3q3KSgo0MiRI7Vjxw7vsmvXroj7GTlypAYNGqS3335bK1euVN++fTVu3Djv+t27dysrK0sTJkzQhg0btGDBAiUlJWnevHnebVavXq2YmBg98MADqqys1IwZMxQXF6f169cf8s/DEgJAMNozf3lsAuxBQYfLyF/7UNDbkJeXp0mTJkV87qKLLtKECRO8jwsKCjRmzBjf+6isrJQxRmvWrPE+t3TpUkVFRWn79u2SpLlz5yo9PV319fXebaZNm6bc3Fzv47FjxyovLy/ivgcPHqwpU6Yc8s/DEgJAMNozf3lsAuxBQYfLyF/7UNDbMGvWLGVnZ2vTpk2SpA8//FCZmZkqLi72blNQUKC0tDRlZGSof//+uuaaa/SPf/zDu/7JJ59Up06dIu533759iomJ0eLFiyVJEydObPGL1Ouvvy5jjHfGo2fPnioqKoq4zc9//nMNHDjwkH8elhAAgtHeZ9B5bALsQEGHy8hf+1DQ29DY2Khp06YpKipKsbGxioqK0n333RdxmwULFuill17SunXrtGTJEh133HE69dRT1dDQIGn/L1L9+/dvcd8ZGRmaO3euJGn48OGaPHlyxPV/+ctfZIxRZWWlJCkuLk4lJSURt5kzZ44yMzN9j7+urk67d+/2LlVVVSwhAASgPX8J4rEJsAcFHS6joNuHgt6GBQsWqEePHlqwYIHWrVunZ599Vp07d9Yzzzzj+zUff/yxjDFasWKFpGB/CZo5c2aLFwliCQHgX689fwnisQmwBwUdLqOg24eC3oYePXrosccei/jcPffcE/H3d63p2rWrfvOb30gK9mmEnKUAADu05y9BPDYB9qCgw2UUdPtQ0NvQuXNn70xCs/vuu0/9+vXz/ZqqqipFRUXppZdekvR/L8Tz3nvvebdZvnx5qy/Es3fvXu82d9xxR4sX4snPz4/4XkOGDOGFeADAAe2Zvzw2AfagoMNl5K99KOhtKCgoUPfu3b23slm8eLG6du2q2267TZJUW1urW265ReXl5dq2bZtWrFihk08+Wf369VNdXZ13PyNHjtRJJ52kd955R6tWrVK/fv0i3sqmurpaWVlZmjhxojZs2KDnnntOycnJLd7KJjY2Vg899JA2btyomTNn8lY2AOCI9sxfHpsAe1DQ4TLy1z4U9DbU1NSosLBQvXr1UmJiovr06aM777zTe8uZPXv2aMSIEcrIyFBcXJyys7N19dVX629/+1vE/ezcuVPjxo1TamqqOnbsqCuvvFK1tbURt1m7dq2GDh2qhIQEde/eXbNnz25xPAsXLlT//v0VHx+vAQMG6OWXX/5ePw9LCADBaM/85bEJsAcFHS4jf+1DQQ8ZlhAAgkH++mM2cBkFHS4jf+1DQQ8ZlhAAgkH++mM2cBkFHS4jf+1DQQ8ZlhAAgkH++mM2cBkFHS4jf+1DQQ8ZlhAAgkH++mM2cBkFHS4jf+1DQQ8ZlhAAgkH++mM2cBkFHS4jf+1DQQ8ZlhAAgkH++mM2cBkFHS4jf+1DQQ8ZlhAAgkH++mM2cBkFHS4jf+1DQQ8ZlhAAgkH++mM2cBkFHS4jf+1DQQ8ZlhAAgkH++mM2cBkFHS4jf+1DQQ8ZlhAAgkH++mM2cBkFHS4jf+1DQQ8ZlhAAgkH++mM2cBkFHS4jf+1DQQ8ZlhAAgkH++mM2cBkFHS4jf+1DQQ8ZlhAAgkH++mM2cBkFHS4jf+1DQQ8ZlhAAgkH++mM2cBkFHS4jf+1DQQ8ZlhAAgkH++mM2cBkFHS4jf+1DQQ8ZlhAAgkH++mM2cBkFHS4jf+1DQQ8ZlhAAgkH++mM2cBkFHS4jf+1DQQ8ZlhAAgkH++mM2cBkFHS4jf+1DQQ8ZlhAAgkH++mM2cBkFHS4jf+1DQQ8ZlhAAgkH++mM2cBkFHS4jf+1DQQ8ZlhAAgkH++mM2cBkFHS4jf+1DQQ8ZlhAAgkH++mM2cBkFHS4jf+1DQQ8ZlhAAgkH++mM2cBkFHS4jf+1DQQ8ZlhAAgkH++mM2cBkFHS4jf+1DQQ8ZlhAAgkH++mM2cBkFHS4jf+1DQQ8ZlhAAgkH++mM2cBkFHS4jf+1DQQ8ZlhAAgkH++mM2cBkFHS4jf+1DQQ8ZlhAAgkH++mM2cBkFHS4jf+1DQQ8ZlhAAgkH++mM2cBkFHS4jf+1DQQ8ZlhAAgkH++mM2cBkFHS4jf+1DQQ8ZlhAAgkH++mM2cBkFHS4jf+1DQQ8ZlhAAgkH++mM2cBkFHS4jf+1DQQ8ZlhAAgkH++mM2cBkFHS4jf+1DQQ8ZlhAAgkH++mM2cBkFHS4jf+1DQQ8ZlhAAgkH++mM2cBkFHS4jf+1DQQ8ZlhAAgkH++mM2cBkFHS4jf+1DQQ8ZlhAAgkH++mM2cBkFHS4jf+1DQQ8ZlhAAgkH++mM2cBkFHS4jf+1DQQ8ZlhAAgkH++mM2cBkFHS4jf+1DQQ8ZlhAAgkH++mM2cBkFHS4jf+1DQQ8ZlhAAgkH++mM2cBkFHS4jf+1DQQ8ZlhAAgkH++mM2cBkFHS4jf+1DQQ8ZlhAAgkH++mM2cBkFHS4jf+1DQQ8ZlhAAgkH++mM2cBkFHS4jf+1DQQ8ZlhAAgkH++mM2cBkFHS4jf+1DQQ8ZlhAAgkH++mM2cBkFHS4jf+1DQQ8ZlhAAgkH++mM2cBkFHS4jf+1DQQ8ZlhAAgkH++mM2cBkFHS4jf+1DQQ8ZlhAAgkH++mM2cBkFHS4jf+1DQQ8ZlhAAgkH++mM2cBkFHS4jf+1DQQ8ZlhAAgkH++mM2cBkFHS4jf+1DQQ8ZlhAAgkH++mM2cBkFHS4jf+1DQQ8ZlhAAgkH++mM2cBkFHS4jf+1DQQ8ZlhAAgkH++mM2cBkFHS4jf+1DQQ8ZlhAAgkH++mM2cBkFHS4jf+1DQQ8ZlhAAgkH++mM2cBkFHS4jf+1DQQ8ZlhAAgkH++mM2cBkFHS4jf+1DQQ8ZlhAAgkH++mM2cBkFHS4jf+1DQQ8ZlhAAgkH++mM2cBkFHS4jf+1DQQ8ZlhAAgkH++mM2cBkFHS4jf+1DQQ8ZlhAAgkH++mM2cBkFHS4jf+1DQQ8ZlhAAgkH++mM2cBkFHS4jf+1DQQ8ZlhAAgkH++mM2cBkFHS4jf+1DQQ8ZlhAAgkH++mM2cBkFHS4jf+1DQQ8ZlhAAgkH++mM2cBkFHS4jf+1DQQ8ZlhAAgkH++mM2cBkFHS4jf+1DQQ8ZlhAAgkH++mM2cBkFHS4jf+1DQQ8ZlhAAgkH++mM2cBkFHS4jf+1DQQ8ZlhAAgkH++mM2cBkFHS4jf+1DQQ8ZlhAAgkH++mM2cBkFHS4jf+1DQQ8ZlhAAgkH++mM2cBkFHS4jf+1DQW9DQ0ODZsyYoZycHCUmJqpPnz66++671dTU5N2mqalJd911l7p166bExESdc8452rx5c8T97Ny5U+PHj1eHDh2UlpamSZMmqba2NuI2a9eu1dChQ5WQkKAePXro/vvvb3E8CxcuVG5urhISEnTCCSfo5Zdf/l4/D0sIAMFoz/zlsQmwBwUdLiN/7UNBb8OsWbPUpUsX/elPf9K2bdv0wgsvKDU1Vb/85S+928yePVtpaWl68cUXtXbtWp1//vnq3bu3vv32W+82I0eO1KBBg/T2229r5cqV6tu3r8aNG+ddv3v3bmVlZWnChAnasGGDFixYoKSkJM2bN8+7zerVqxUTE6MHHnhAlZWVmjFjhuLi4rR+/fpD/nlYQgAIRnvmL49NgD0o6HAZ+WsfCnob8vLyNGnSpIjPXXTRRZowYYKk/WcounXrpgcffNC7vrq6WgkJCVqwYIEkqbKyUsYYrVmzxrvN0qVLFRUVpe3bt0uS5s6dq/T0dNXX13u3mTZtmnJzc72Px44dq7y8vIhjGTx4sKZMmXLIPw9LCADBaM/85bEJsAcFHS4jf+1DQW/DrFmzlJ2drU2bNkmSPvzwQ2VmZqq4uFiS9PHHH8sYo4qKioivO+OMM3TjjTdKkp588kl16tQp4vp9+/YpJiZGixcvliRNnDhRY8aMibjN66+/LmOMdu3aJUnq2bOnioqKIm7z85//XAMHDjzkn4clBIBgtPcZdB6bADtQ0OEy8tc+FPQ2NDY2atq0aYqKilJsbKyioqJ03333edevXr1axhj99a9/jfi6Sy65RGPHjpW0/xep/v37t7jvjIwMzZ07V5I0fPhwTZ48OeL6v/zlLzLGqLKyUpIUFxenkpKSiNvMmTNHmZmZvsdfV1en3bt3e5eqqiqWEAAC0J6/BPHYBNiDgg6XUdDtQ0Fvw4IFC9SjRw8tWLBA69at07PPPqvOnTvrmWeekWT/L0EzZ86UMabFhSUEgH+t9vwliMcmwB4UdLiMgm4fCnobevToocceeyzic/fcc4/393e2P42QsxQAYIf2/CWIxybAHhR0uIyCbh8Kehs6d+7snUlodt9996lfv36S/u+FeB566CHv+t27d7f6Qjzvvfeed5vly5e3+kI8e/fu9W5zxx13tHghnvz8/IhjGTJkCC/EAwAOaM/85bEJsAcFHS4jf+1DQW9DQUGBunfv7r2VzeLFi9W1a1fddttt3m1mz56tTp066aWXXtK6des0ZsyYVt/K5qSTTtI777yjVatWqV+/fhFvZVNdXa2srCxNnDhRGzZs0HPPPafk5OQWb2UTGxurhx56SBs3btTMmTN5KxsAcER75i+PTYA9KOhwGflrHwp6G2pqalRYWKhevXopMTFRffr00Z133hnxljNNTU266667lJWVpYSEBJ1zzjneK+s227lzp8aNG6fU1FR17NhRV155pWprayNus3btWg0dOlQJCQnq3r27Zs+e3eJ4Fi5cqP79+ys+Pl4DBgzQyy+//L1+HpYQAILRnvnLYxNgDwo6XEb+2oeCHjIsIQAEg/z1x2zgMgo6XEb+2oeCHjIsIQAEg/z1x2zgMgo6XEb+2oeCHjIsIQAEg/z1x2zgMgo6XEb+2oeCHjIsIQAEg/z1x2zgMgo6XEb+2oeCHjIsIQAEg/z1x2zgMgo6XEb+2oeCHjIsIQAEg/z1x2zgMgo6XEb+2oeCHjIsIQAEg/z1x2zgMgo6XEb+2oeCHjIsIQAEg/z1x2zgMgo6XEb+2oeCHjIsIQAEg/z1x2zgMgo6XEb+2oeCHjIsIQAEg/z1x2zgMgo6XEb+2oeCHjIsIQAEg/z1x2zgMgo6XEb+2oeCHjIsIQAEg/z1x2zgMgo6XEb+2oeCHjIsIQAEg/z1x2zgMgo6XEb+2oeCHjIsIQAEg/z1x2zgMgo6XEb+2oeCHjIsIQAEg/z1x2zgMgo6XEb+2oeCHjIsIQAEg/z1x2zgMgo6XEb+2oeCHjIsIQAEg/z1x2zgMgo6XEb+2oeCHjIsIQAEg/z1x2zgMgo6XEb+2oeCHjIsIQAEg/z1x2zgMgo6XEb+2oeCHjIsIQAEg/z1x2zgMgo6XEb+2oeCHjIsIQAEg/z1x2zgMgo6XEb+2oeCHjIsIQAEg/z1x2zgMgo6XEb+2oeCHjIsIQAEg/z1x2zgMgo6XEb+2oeCHjIsIQAEg/z1x2zgMgo6XEb+2oeCHjIsIQAEg/z1x2zgMgo6XEb+2oeCHjIsIQAEg/z1x2zgMgo6XEb+2oeCHjIsIQAEg/z1x2zgMgo6XEb+2oeCHjIsIQAEg/z1x2zgMgo6XEb+2oeCHjIsIQAEg/z1x2xgi2+++Ubvv//+97oUFxfLGKPi4uLv/bXffPNN0D8yQo78tQ8FPWRYQgAIBvnrj9nAFs1nw/9VF866I2jkr30o6CHDEgJAMMhff8wGtvhnzqCvWrVKxcXFWrVqFWfQ4Rzy1z4U9JBhCQEgGOSvP2YDAMEgf+1DQQ8ZlhAAgkH++mM2ABAM8tc+FPSQYQkBIBjkrz9mAwDBIH/tQ0EPGZYQAIJB/vpjNgAQDPLXPhT0kGEJASAY5K8/ZgMAwSB/7UNBDxmWEACCQf76YzYAEAzy1z4U9JBhCQEgGOSvP2YDAMEgf+1DQQ8ZlhAAgkH++mM2ABAM8tc+FPSQYQkBIBjkrz9mAwDBIH/tQ0EPGZYQAIJB/vpjNgAQDPLXPhT0kGEJASAY5K8/ZgMAwSB/7UNBDxmWEACCQf76YzYAEAzy1z4U9JBhCQEgGOSvP2YDAMEgf+1DQQ8ZlhAAgkH++mM2ABAM8tc+FPSQYQkBIBjkrz9mAwDBIH/tQ0EPGZYQAIJB/vpjNgAQDPLXPhT0kGEJASAY5K8/ZgMAwSB/7UNBDxmWEACCQf76YzYAEAzy1z4U9JBhCQEgGOSvP2YDAMEgf+1DQQ8ZlhAAgkH++mM2ABAM8tc+FPSQYQkBIBjkrz9mAwDBIH/tQ0EPGZYQAIJB/vpjNgAQDPLXPhT0kGEJASAY5K8/ZgMAwSB/7UNBDxmWEACCQf76YzYAEAzy1z4U9JBhCQEgGOSvP2YDAMEgf+1DQQ+Z6upqGWNUVVWl3bt3c+HChQuXf9GlqqpKxhhVV1cH/VBgHR6buHDhwiWYC49N9qGgh0zzEnLhwoULl2AuVVVVQT8UWIfHJi5cuHAJ9sJjkz0o6CHT2NioqqoqVVdXB/4vdly4fN9L8y/xnGXj4uKlurpaVVVVamxsDPqhwDo8NnFx+cJjExeXLzw22YeCDsAZu3fzd1IAALvw2ASgPVHQATiDX4IAALbhsQlAe6KgA3AGvwQBAGzDYxOA9kRBB+CMuro6zZw5U3V1dUEfCgAAknhsAtC+KOgAAAAAAFiAgg4AAAAAgAUo6AAAAAAAWICCDgAAAACABSjoAAAAAABYgIIOwHpvvvmm8vPzddRRR8kYoyVLlgR9SACAkOOxCcDhQEEHYL1XXnlFd955pxYvXswvQQAAK/DYBOBwoKADcAq/BAEAbMNjE4D2QkEH4BR+CQIA2IbHJgDthYIOwCn8EgQAsA2PTQDaCwUdgFP4JQgAYBsemwC0Fwo6AKfwSxAAwDY8NgFoLxR0AE7hlyAAgG14bALQXijoAKxXW1uriooKVVRUyBijRx55RBUVFfr000+DPjQAQEjx2ATgcKCgA7BeaWmpjDEtLgUFBUEfGgAgpHhsAnA4UNABAAAAALAABR0AAAAAAAtQ0AEAAAAAsAAFHQAAAAAAC1DQAQAAAACwAAUdAAAAAAALUNABAAAAALAABR0AAAAAAAtQ0AEAABB6TU1Nuvrqq5Weni5jjCoqKoI+JAAhREEHAABAuykoKNCYMWOCPozv7ZVXXlFcXJxWr16tHTt2aN++fUEfEoAQoqADAACg3dhe0Ovr61v9/H//93+rV69e/9TXAkB7oaADAACg3bRV0N944w2deuqpio+PV7du3TRt2jTvbPUf//hHpaWlqaGhQZJUUVEhY4ymTZvmff1VV12lCRMmeB+vXLlSQ4cOVWJionr06KEbbrhBX3/9tXd9dna27r77bk2cOFEdOnRQQUFBq8dsjPEu2dnZkqRhw4Zp6tSpKiwsVJcuXXTmmWdKktavX6+RI0cqJSVFmZmZuuyyy/Tll1969/f1119r4sSJSklJUbdu3fTQQw9p2LBhKiws9G5jjNGSJUsijiMtLU1PP/209/Fnn32mSy65RGlpaUpPT9f555+vbdu2tZj1gw8+qG7duqlz58667rrrtHfvXu82dXV1uu2229SjRw/Fx8frmGOO0RNPPKGmpiYdc8wxevDBByOOoXnmW7ZsafW/H4DDi4IOAACAdnOwgv75558rOTlZ1113nTZu3KglS5aoa9eumjlzpiSpurpa0dHRWrNmjSTp0UcfVdeuXTV48GDvPvr27av58+dLkrZu3aqUlBQVFRVp8+bNWr16tU466SRdccUV3u2zs7PVsWNHPfTQQ9q6dau2bt3a4riqq6t19913q0ePHtqxY4e++OILSfsLempqqm699VZ99NFH+uijj/TVV18pIyNDd9xxhzZu3KgPPvhAw4cP11lnneXd37XXXqtevXppxYoVWrdunfLz89WhQ4fvVdD37t2r4447TpMmTdK6detUWVmp8ePHKzc31zuTX1BQoI4dO+qaa67Rxo0b9cc//lHJycl6/PHHvfscO3asevbsqcWLF+vjjz/WihUr9Nxzz0mSZs2apeOPPz7iGG688UadccYZrf73A3D4UdABAADQbg5W0KdPn67c3Fw1NTV5n5szZ45SU1PV2NgoSTr55JO9s7oXXHCBZs2apfj4eNXW1urzzz+XMUabN2+WtP9s+uTJkyO+x8qVKxUdHa1vv/1W0v6CfsEFF7R53EVFRd6Z82bDhg3TSSedFPG5e+65RyNGjIj4XFVVlYwx2rRpk2praxUfH6+FCxd61+/cuVNJSUnfq6D/9re/bTGr+vp6JSUlafny5ZL2zzo7O9t7xoEkXXLJJbr00kslSZs2bZIxRn/+859b/Zm3b9+umJgYvfPOO5L2/6NA165d9cwzz/jOCcDhRUEHAABAuzlYQb/wwgsjzm5L0ocffihjjD799FNJ0k9/+lPl5eWpqalJXbp00caNGzVo0CAtXbpUv/vd73T00Ud7X3vKKacoPj5eKSkp3iU5OVnGGFVWVkraX9DvvffeNo/br6D/5Cc/ifjcxRdfrLi4uIjvmZKSImOMXnnllRY/T7MTTzzxexX0W265RTExMS2+T1RUlObOnStp/6xHjRoVcR833nijdzb/+eefV0xMTMRT3r/r/PPP15QpUyRJixYtUocOHfTNN9+0MS0AhwsFHQAAAO3m/7egv/TSS0pLS1NFRYW6desmSSosLNS0adM0efJkjRs3zvvaY489VjfccIO2bNnS4tL8NPDs7GwVFRW1edx+Bf3AUi1JI0eO1EUXXdTq9/z6668PuaBHRUVp8eLFEbdJTk72Cvo111yj0047rdXvU11dLan1WRcWFmrYsGGSpD/84Q9tFvQ//OEPSktL0549e5Sfn9/iHyQA/GtR0AEAANBu/pmnuHfo0MF7ivuuXbsUHR2tyy+/3Huq9pIlSzR48GD1799f8+bN8752/PjxOueccw56PO1d0Jt/Br+3YautrVVcXFzEU9x37dql5OTkiPvKzMzUnDlzvI83b94sY4xX0B9//HGlp6dr9+7dvsfcVkHftm2boqKifJ/iLkkNDQ06+uij9fDDDys2NlZlZWW+twVw+FHQAQAA0G4KCgp05plnqqKiIuLy2WefeS8SN3XqVG3cuFEvvvhixIvENTvxxBMVExOjX//615L2/w13XFycjDH66KOPvNutXbtWSUlJmjp1qioqKrR582a9+Fmz3ZQAABH9SURBVOKLmjp1qneb9i7o27dvV0ZGhi6++GK9++672rp1q5YtW6YrrrjC+1vwa665RtnZ2Xrttde0fv16nX/++UpNTY24rx//+Mc67rjj9MEHH2jNmjU6++yzFRcX5xX0b775Rv369dOZZ56pt956S5988olKS0t1ww03qKqqypv1wQq6JF1xxRXq2bOnlixZ4t3H888/H/E106dPV3x8vI477rg25wTg8KKgAwAAoN189y3Lmi9XXXWVpIO/zVqzwsJCGWO0ceNG73ODBg3ynvJ+oHfffVfDhw9XamqqUlJSNHDgQM2aNcu7vr0LurT/bPeFF16oTp06KSkpSccee6xuuukm75kBtbW1uuyyy5ScnKysrCw98MADLe5r+/btGjFihFJSUtSvXz+98sorLd5mbceOHbr88svVtWtXJSQkqE+fPrr66qu9s+qHUtC//fZb/fSnP9VRRx2l+Ph49e3bV0899VTE13z88ccyxuiBBx5o8bMWFBRE3B+Aw4uCDgAAABxmfmXfBm+99Zbi4uL0t7/9rcV1Z5xxRotnOAA4fCjoAAAAwGFmY0Gvq6tTVVWVzj77bI0fP77F9dXV1erevbtqa2sDODognCjoAAAAwGFmY0F/+umnFR0drZNPPlmff/550IcDQBR0AAAAAACsQEEHAAAAAMACFHQAAIAj3KG+knlbduzYoXPPPVfJyclKS0trhyNzw7Zt22SMUUVFxff6upkzZyozM1PGGC1ZsuQwHR2AIwkFHQAAwDKrVq1STEyMBg0a1OK6zz//XBMmTFDnzp2VmJioE044QWvWrDno/X23oGdnZ3tvfxYdHa2jjjpKkyZN0q5duw56P7fddpsGDBigzZs36+9///s/98M56J8p6JWVlV4x37Fjh+rq6g7jEQI4UlDQAQAALPLVV1+pT58+GjFiRIuCvmvXLmVnZ+uKK67QO++8o08++UTLly/X1q1bD3qfrRX0u+++Wzt27NDnn3+u119/XX379tVll1120Pv50Y9+pMsvv/ygt9m7d28bP6F7/pmC/sc//lHGGO+90VtTX1/fHoeHw6ypqUn79u0L+jAQEhR0AAAAi1x66aWaMWOGZs6c2aKgT5s2TUOHDj3o1//9739Xfn6+EhMTlZOTo+Li4lYL+nef8n7PPffo+OOP973fA8+6G2NUUFAgSTLGaO7cuRo9erSSk5O998yeO3eu+vTpo7i4OPXv31/PPvtsxP0ZY/Sb3/xGeXl5SkpK0rHHHquysjJt2bJFw4YNU3JysoYMGXLQf3xoLs4LFizQkCFDlJCQoAEDBuiNN96IuN369es1cuRIpaSkKDMzU5dddpm+/PJL7/qlS5fqP/7jP5SWlqbOnTsrLy8v4vt+t6A3NDToyiuvVG5urj799NMWxzVz5syIWRmz/1fugoICjRkzRvfee6+OOuoo5eTkSJI+++wzXXLJJUpLS1N6errOP/98bdu2zbu/hoYG/fSnP/WO79Zbb9Xll1+uMWPGRPz3+e5/00GDBkW8h/lXX32lq666Sl27dlWHDh101lln6cMPP4w47kGDBunZZ59Vdna2OnbsqEsvvVQ1NTXebRobG3X//ffrmGOOUXx8vHr27Kl7771XknTWWWdp6tSpEcfwxRdfKC4uTitWrGjlv+D/fc/f/OY36tGjh5KSknTJJZeouro64nv+53/+p7p37674+HgNGjRIS5cu9a7/0Y9+FPF9CwsLZYzRxo0bJe3/h5Dk5GT9+c9/9u7vvvvuU05OjhITEzVw4EC98MIL3teXlpbKGKNXXnlFJ598suLi4lRaWtrq8QPtjYIOAABgiaeeekqnnnqq9u3b12pBP+6443TTTTfp4osvVkZGhk488UQ9/vjjEbc577zzNGjQIJWXl+u9997T6aefrqSkpIMW9M8//1ynnXaarrzySt9j++KLLzRy5EiNHTtWO3bs8AqUMUaZmZl66qmn9PHHH+vTTz/V4sWLFRcXpzlz5mjTpk16+OGHFRMTo9dff927P2OMunfvrueff16bNm3SBRdcoJycHJ199tlatmyZKisr9YMf/EAjR470Pabm4tyjRw/9/ve/V2VlpX7yk5+oQ4cO+sc//iFpfynNyMjQHXfcoY0bN+qDDz7Q8OHDddZZZ3n38/vf/16LFi3Sli1bVFFRodGjR+vf/u3f1NjYGPF9KioqVFdXpwsvvFAnnXSSvvjii1aPq7a2Vk8//bSMMdqxY4d27NghaX9BT01N1cSJE7VhwwZt2LBBe/fu1XHHHadJkyZp3bp1qqys1Pjx45Wbm+udYb///vuVnp6uRYsWqbKyUldddZU6dOjwvQv6ueeeq9GjR2vNmjXavHmzbr75ZnXp0kU7d+6UtL8sp6am6qKLLtL69ev11ltvqVu3bpo+fbp3H7fddpvS09P1zDPPaOvWrVq5cqXmz58vSfrd736n9PT0iKfzP/LII8rJyfF9JsHMmTOVkpKis88+WxUVFXrzzTfVt2/fiPdlf+SRR9SxY0ctWLBAH330kW677TbFxcVp8+bNkqRf/epXGjBggHf7E088UV27dtWvf/1rSfv/ZCQuLk7ffPONJOnee+/Vscceq2XLlunjjz/W008/rYSEBO8fdpoL+sCBA/Xqq69q69at3oyAw42CDgAAYIHNmzcrMzNTmzZtkqRWC3pCQoISEhJ0xx136IMPPtC8efOUmJioZ555RpK0adMmGWP07rvvel+zceNGGWNaFPT4+HilpKQoMTFRxhgNHjxYX3311UGPccyYMd6Z82bGGN10000Rnzv99NN19dVXR3zukksu0ahRoyK+bsaMGd7H5eXlMsboySef9D63YMECJSYm+h5Pc3GePXu297l9+/apR48euv/++yXtf2bAiBEjIr6uqqpKxhhv1t/15Zdfyhij9evXR3yflStX6pxzztHQoUMjzvC2ZsmSJd6Z82YFBQXKysqKeGr7b3/7W+Xm5kYU2Pr6eiUlJWn58uWSpKOOOkoPPPBAi5/x+xT0lStXqmPHji3+Fv6YY47RvHnzJO3//1xycnLEGfNbb71VgwcPliTV1NQoISHBK+Tf9e233yo9PV3PP/+897mBAwfqF7/4hc+U9n/PmJiYiPdhX7p0qaKjo71/2Dj66KM1a9asiK879dRTdd1110mS1q1bp6ioKH3xxRfatWuX4uPjdc899+jSSy+VtL+Qn3766ZKkuro6JScnq6ysLOL+rrrqKo0bN07S/xX0F1980fe4gcOFgg4AAPAvlpKS4l2mTJmihoYGnXLKKd4ZP6n1gh4XF6chQ4ZEfO6GG27QD37wA0nSiy++qNjYWO/Mb7NOnTq1KOh33nmntmzZos2bN+u1117T4MGDdfrpp6uhocH3uP0KenFxccTnms+wHujRRx9V7969I75u4cKF3seffPJJi39ceP3112WM0e7du1s9nubi/Oabb0Z8/oILLtAVV1whSbr44osVFxcXMfOUlBTvKczS/n8c+fGPf6zevXurQ4cO3vUvv/xyxPfp0aOHfvCDH2jPnj2+M2rmV9DPPffciM/dcsstiomJaXF8UVFRmjt3rqqrq31/xu9T0B977DFFR0e3+D7R0dG67bbbJO3//9x3/8zhkUce8f67vfPOOzLG6JNPPvH9uW+88Ub98Ic/lCS9//77io6O1v/+7//63n7mzJkR/7+Q5P3Mb7zxhnbv3u397wPddNNN3rMgmpqa1KVLF73wwgt66aWXNHjwYFVUVKhbt26SpOHDh3vPAtiwYYOMMS3mEBcXp9NOO03S/xX0A//RAPhXoaADAAD8i23ZssW7/P3vf9dXX30lY4xiYmK8S1RUlPe51157TZLUq1cvXXXVVRH3NXfuXB199NGSvl9B/26Zaz6D3fx3uq3xK+jffQuxQy3oB35day/E1lyU/M7sH0pBHzlypC666KKImTdfvv76a0lSbm6uRowYoRUrVqiystIrcc3H1/x9Jk+erOTkZO+/x8H4FfQDS7UkXXPNNTrttNNaPb7q6upDLui9e/fWI488EnGb448/3ivos2fPVvfu3Vv9Ps1/j9/aPwoVFRUpOztb0v4z1W0V9HXr1ik6OlpVVVW6/vrrW/yDxHe1R0GXpAsvvFBTp07Vz372M02bNk2NjY1KT0/X+vXrlZKS4j0b4e233/bu77tz+OyzzyS1/f874HCioAMAAASssbFR69evj7hce+21ys3N1fr1670iOW7cuBYvEnfTTTd5Z9U/+uijFmehmz/XVkF/9913ZYzRH/7wB9/jPNSC7vcU97y8PN+v+/8p6M1PZ5f2P/27Z8+e3uemT5+u3Nxc31fh/sc//iFjjN566y3vcytXrmy1oFdUVOhXv/qVUlJSWhTG7zrUgv74448rPT3d91kCUutPce/Zs2fEfZ122mm69dZbvY93796tpKQkr6C/+uqriomJiXjxue9qq6B/++23SkpK8n2K+4HH8vOf/1ydO3dWSUnJQW/b/BT37du3e59btmzZIT3F/cAXhnv00Uc1YMAAnXzyyd4LyI0ZM0aXX365YmNjvR1qfpr+d1+08EAUdASJgg4AAGCh1srSu+++q9jYWM2aNUtbtmzR7373OyUnJ0c8xXzkyJE66aST9Pbbb+u9997T0KFDW32RuOa3WfvrX/+qd955R8OGDVNGRob34mqtOdSCvmTJEsXFxWnu3LnavHmz9yJxB74SdnsW9F69emnx4sXauHGjJk+erNTUVO+s8Pbt25WRkaGLL75Y7777rrZu3aply5bpiiuuUENDgxobG9WlSxdddtll2rJli1577TWdeuqpvgVd2l9aU1NTtXLlSt9ZHWpB/+abb9SvXz+deeaZeuutt/TJJ5+otLRUN9xwg6qqqiTtP/vduXNnLVmyRBs3btTVV1/d4kXibr/9dnXr1k1vvfWW1q1bpwsuuECpqaleQW9qatLQoUM1aNAgLV++XNu2bdPq1as1ffp0rVmzRlLbBV2SfvGLXyg9PV3/8z//o61bt6q8vFxPPPFExNc8/vjjio+PV3p6ur799lvfGTV/z5SUFJ177rn68MMP9dZbb6l///768Y9/HHEMHTt21HPPPaePPvpI06ZNi3iROEn68MMPFRUVpYSEBNXW1npfFxMT4/0JSLM777xTXbp08V7o7v3339evfvUr71kfFHQEiYIOAABgodbKkrT//bVPOOEEJSQk6Nhjj23xKu47duxQXl6eEhIS1KtXL+8ts75b0A98C7CMjAyNGjWqzff5PtSCLh3a26y1V0EvKSnRaaedpvj4eB1//PERrxYv7f8b8wsvvFCdOnXy3tLtpptu8l6Y7c9//rOOO+44JSQkaODAgXrjjTcOWtAl6eGHH1aHDh20evXqVo/tUAu6tP+/2eWXX66uXbsqISFBffr00dVXX+2dVd+3b58KCwvVsWNHderUST/72c9avM3a7t27demll6pjx47q2bOnnnnmmRav4l5TU6MbbrhBRx99tOLi4tSzZ09NmDDBe2r3oRT0xsZG3XvvvcrOzlZcXJx69eql++67L+JramtrlZyc7L2I28E0f8/mP9VITEzUxRdfrF27dkV8z1/84hfq3r274uLiWrzNWvNt0tPTvRe0k6SKigoZY3T77bdH3LapqUmPPvqocnNzFRcXp4yMDP3whz/0/oyAgo4gUdABAADgpNaKc1j4lX0bbNu2TdHR0Xr//ffbvK3fP0QBYUVBBwAAgJMo6HYV9L1792rHjh2aMGGC97ZmbaGgA5Eo6AAAAHASBd2ugt781PD+/ftr3bp1h/Q1FHQgEgUdAAAAAAALUNABAAAAALAABR0AAAAAAAtQ0AEAAAAAsAAFHQAAAAAAC1DQAQAAAACwAAUdAAAAAAALUNABAAAAALAABR0AAAAAAAtQ0AEAAAAAsAAFHQAAAAAAC1DQAQAAAACwAAUdAAAAAAALUNABAAAAALAABR0AAAAAAAtQ0AEAAAAAsAAFHQAAAAAAC1DQAQAAAACwAAUdAAAAAAALUNABAAAAALAABR0AAAAAAAtQ0AEAAAAAsAAFHQAAAAAAC1DQAQAAAACwAAUdAAAAAAALUNABAAAAALAABR0AAAAAAAtQ0AEAAAAAsAAFHQAAAAAAC/w/1BBxT7f1iO0AAAAASUVORK5CYII=\" width=\"1000\">"
      ],
      "text/plain": [
       "<IPython.core.display.HTML object>"
      ]
     },
     "metadata": {},
     "output_type": "display_data"
    },
    {
     "data": {
      "text/plain": [
       "Text(0.5, 0, 'Lower frequency, \\n -46dB from peak frequency power')"
      ]
     },
     "execution_count": 33,
     "metadata": {},
     "output_type": "execute_result"
    }
   ],
   "source": [
    "dom_freq = non_silent_measures[non_silent_measures['measurement']=='dominant_frequencies']\n",
    "minusx_df = non_silent_measures[non_silent_measures['measurement']=='minus_XdB_frequency']\n",
    "\n",
    "\n",
    "\n",
    "plt.figure(figsize=(10,8))\n",
    "a0 = plt.subplot(121)\n",
    "plt.boxplot(dom_freq['value'])\n",
    "plt.xlabel('Dominant frequencies')plt.subplot(122, sharey=a0)\n",
    "plt.boxplot(minusx_df['value'])\n",
    "plt.xlabel('Lower frequency, \\n -46dB from peak frequency power')"
   ]
  },
  {
   "cell_type": "code",
   "execution_count": 26,
   "metadata": {},
   "outputs": [
    {
     "data": {
      "application/javascript": [
       "/* Put everything inside the global mpl namespace */\n",
       "window.mpl = {};\n",
       "\n",
       "\n",
       "mpl.get_websocket_type = function() {\n",
       "    if (typeof(WebSocket) !== 'undefined') {\n",
       "        return WebSocket;\n",
       "    } else if (typeof(MozWebSocket) !== 'undefined') {\n",
       "        return MozWebSocket;\n",
       "    } else {\n",
       "        alert('Your browser does not have WebSocket support. ' +\n",
       "              'Please try Chrome, Safari or Firefox ≥ 6. ' +\n",
       "              'Firefox 4 and 5 are also supported but you ' +\n",
       "              'have to enable WebSockets in about:config.');\n",
       "    };\n",
       "}\n",
       "\n",
       "mpl.figure = function(figure_id, websocket, ondownload, parent_element) {\n",
       "    this.id = figure_id;\n",
       "\n",
       "    this.ws = websocket;\n",
       "\n",
       "    this.supports_binary = (this.ws.binaryType != undefined);\n",
       "\n",
       "    if (!this.supports_binary) {\n",
       "        var warnings = document.getElementById(\"mpl-warnings\");\n",
       "        if (warnings) {\n",
       "            warnings.style.display = 'block';\n",
       "            warnings.textContent = (\n",
       "                \"This browser does not support binary websocket messages. \" +\n",
       "                    \"Performance may be slow.\");\n",
       "        }\n",
       "    }\n",
       "\n",
       "    this.imageObj = new Image();\n",
       "\n",
       "    this.context = undefined;\n",
       "    this.message = undefined;\n",
       "    this.canvas = undefined;\n",
       "    this.rubberband_canvas = undefined;\n",
       "    this.rubberband_context = undefined;\n",
       "    this.format_dropdown = undefined;\n",
       "\n",
       "    this.image_mode = 'full';\n",
       "\n",
       "    this.root = $('<div/>');\n",
       "    this._root_extra_style(this.root)\n",
       "    this.root.attr('style', 'display: inline-block');\n",
       "\n",
       "    $(parent_element).append(this.root);\n",
       "\n",
       "    this._init_header(this);\n",
       "    this._init_canvas(this);\n",
       "    this._init_toolbar(this);\n",
       "\n",
       "    var fig = this;\n",
       "\n",
       "    this.waiting = false;\n",
       "\n",
       "    this.ws.onopen =  function () {\n",
       "            fig.send_message(\"supports_binary\", {value: fig.supports_binary});\n",
       "            fig.send_message(\"send_image_mode\", {});\n",
       "            if (mpl.ratio != 1) {\n",
       "                fig.send_message(\"set_dpi_ratio\", {'dpi_ratio': mpl.ratio});\n",
       "            }\n",
       "            fig.send_message(\"refresh\", {});\n",
       "        }\n",
       "\n",
       "    this.imageObj.onload = function() {\n",
       "            if (fig.image_mode == 'full') {\n",
       "                // Full images could contain transparency (where diff images\n",
       "                // almost always do), so we need to clear the canvas so that\n",
       "                // there is no ghosting.\n",
       "                fig.context.clearRect(0, 0, fig.canvas.width, fig.canvas.height);\n",
       "            }\n",
       "            fig.context.drawImage(fig.imageObj, 0, 0);\n",
       "        };\n",
       "\n",
       "    this.imageObj.onunload = function() {\n",
       "        fig.ws.close();\n",
       "    }\n",
       "\n",
       "    this.ws.onmessage = this._make_on_message_function(this);\n",
       "\n",
       "    this.ondownload = ondownload;\n",
       "}\n",
       "\n",
       "mpl.figure.prototype._init_header = function() {\n",
       "    var titlebar = $(\n",
       "        '<div class=\"ui-dialog-titlebar ui-widget-header ui-corner-all ' +\n",
       "        'ui-helper-clearfix\"/>');\n",
       "    var titletext = $(\n",
       "        '<div class=\"ui-dialog-title\" style=\"width: 100%; ' +\n",
       "        'text-align: center; padding: 3px;\"/>');\n",
       "    titlebar.append(titletext)\n",
       "    this.root.append(titlebar);\n",
       "    this.header = titletext[0];\n",
       "}\n",
       "\n",
       "\n",
       "\n",
       "mpl.figure.prototype._canvas_extra_style = function(canvas_div) {\n",
       "\n",
       "}\n",
       "\n",
       "\n",
       "mpl.figure.prototype._root_extra_style = function(canvas_div) {\n",
       "\n",
       "}\n",
       "\n",
       "mpl.figure.prototype._init_canvas = function() {\n",
       "    var fig = this;\n",
       "\n",
       "    var canvas_div = $('<div/>');\n",
       "\n",
       "    canvas_div.attr('style', 'position: relative; clear: both; outline: 0');\n",
       "\n",
       "    function canvas_keyboard_event(event) {\n",
       "        return fig.key_event(event, event['data']);\n",
       "    }\n",
       "\n",
       "    canvas_div.keydown('key_press', canvas_keyboard_event);\n",
       "    canvas_div.keyup('key_release', canvas_keyboard_event);\n",
       "    this.canvas_div = canvas_div\n",
       "    this._canvas_extra_style(canvas_div)\n",
       "    this.root.append(canvas_div);\n",
       "\n",
       "    var canvas = $('<canvas/>');\n",
       "    canvas.addClass('mpl-canvas');\n",
       "    canvas.attr('style', \"left: 0; top: 0; z-index: 0; outline: 0\")\n",
       "\n",
       "    this.canvas = canvas[0];\n",
       "    this.context = canvas[0].getContext(\"2d\");\n",
       "\n",
       "    var backingStore = this.context.backingStorePixelRatio ||\n",
       "\tthis.context.webkitBackingStorePixelRatio ||\n",
       "\tthis.context.mozBackingStorePixelRatio ||\n",
       "\tthis.context.msBackingStorePixelRatio ||\n",
       "\tthis.context.oBackingStorePixelRatio ||\n",
       "\tthis.context.backingStorePixelRatio || 1;\n",
       "\n",
       "    mpl.ratio = (window.devicePixelRatio || 1) / backingStore;\n",
       "\n",
       "    var rubberband = $('<canvas/>');\n",
       "    rubberband.attr('style', \"position: absolute; left: 0; top: 0; z-index: 1;\")\n",
       "\n",
       "    var pass_mouse_events = true;\n",
       "\n",
       "    canvas_div.resizable({\n",
       "        start: function(event, ui) {\n",
       "            pass_mouse_events = false;\n",
       "        },\n",
       "        resize: function(event, ui) {\n",
       "            fig.request_resize(ui.size.width, ui.size.height);\n",
       "        },\n",
       "        stop: function(event, ui) {\n",
       "            pass_mouse_events = true;\n",
       "            fig.request_resize(ui.size.width, ui.size.height);\n",
       "        },\n",
       "    });\n",
       "\n",
       "    function mouse_event_fn(event) {\n",
       "        if (pass_mouse_events)\n",
       "            return fig.mouse_event(event, event['data']);\n",
       "    }\n",
       "\n",
       "    rubberband.mousedown('button_press', mouse_event_fn);\n",
       "    rubberband.mouseup('button_release', mouse_event_fn);\n",
       "    // Throttle sequential mouse events to 1 every 20ms.\n",
       "    rubberband.mousemove('motion_notify', mouse_event_fn);\n",
       "\n",
       "    rubberband.mouseenter('figure_enter', mouse_event_fn);\n",
       "    rubberband.mouseleave('figure_leave', mouse_event_fn);\n",
       "\n",
       "    canvas_div.on(\"wheel\", function (event) {\n",
       "        event = event.originalEvent;\n",
       "        event['data'] = 'scroll'\n",
       "        if (event.deltaY < 0) {\n",
       "            event.step = 1;\n",
       "        } else {\n",
       "            event.step = -1;\n",
       "        }\n",
       "        mouse_event_fn(event);\n",
       "    });\n",
       "\n",
       "    canvas_div.append(canvas);\n",
       "    canvas_div.append(rubberband);\n",
       "\n",
       "    this.rubberband = rubberband;\n",
       "    this.rubberband_canvas = rubberband[0];\n",
       "    this.rubberband_context = rubberband[0].getContext(\"2d\");\n",
       "    this.rubberband_context.strokeStyle = \"#000000\";\n",
       "\n",
       "    this._resize_canvas = function(width, height) {\n",
       "        // Keep the size of the canvas, canvas container, and rubber band\n",
       "        // canvas in synch.\n",
       "        canvas_div.css('width', width)\n",
       "        canvas_div.css('height', height)\n",
       "\n",
       "        canvas.attr('width', width * mpl.ratio);\n",
       "        canvas.attr('height', height * mpl.ratio);\n",
       "        canvas.attr('style', 'width: ' + width + 'px; height: ' + height + 'px;');\n",
       "\n",
       "        rubberband.attr('width', width);\n",
       "        rubberband.attr('height', height);\n",
       "    }\n",
       "\n",
       "    // Set the figure to an initial 600x600px, this will subsequently be updated\n",
       "    // upon first draw.\n",
       "    this._resize_canvas(600, 600);\n",
       "\n",
       "    // Disable right mouse context menu.\n",
       "    $(this.rubberband_canvas).bind(\"contextmenu\",function(e){\n",
       "        return false;\n",
       "    });\n",
       "\n",
       "    function set_focus () {\n",
       "        canvas.focus();\n",
       "        canvas_div.focus();\n",
       "    }\n",
       "\n",
       "    window.setTimeout(set_focus, 100);\n",
       "}\n",
       "\n",
       "mpl.figure.prototype._init_toolbar = function() {\n",
       "    var fig = this;\n",
       "\n",
       "    var nav_element = $('<div/>');\n",
       "    nav_element.attr('style', 'width: 100%');\n",
       "    this.root.append(nav_element);\n",
       "\n",
       "    // Define a callback function for later on.\n",
       "    function toolbar_event(event) {\n",
       "        return fig.toolbar_button_onclick(event['data']);\n",
       "    }\n",
       "    function toolbar_mouse_event(event) {\n",
       "        return fig.toolbar_button_onmouseover(event['data']);\n",
       "    }\n",
       "\n",
       "    for(var toolbar_ind in mpl.toolbar_items) {\n",
       "        var name = mpl.toolbar_items[toolbar_ind][0];\n",
       "        var tooltip = mpl.toolbar_items[toolbar_ind][1];\n",
       "        var image = mpl.toolbar_items[toolbar_ind][2];\n",
       "        var method_name = mpl.toolbar_items[toolbar_ind][3];\n",
       "\n",
       "        if (!name) {\n",
       "            // put a spacer in here.\n",
       "            continue;\n",
       "        }\n",
       "        var button = $('<button/>');\n",
       "        button.addClass('ui-button ui-widget ui-state-default ui-corner-all ' +\n",
       "                        'ui-button-icon-only');\n",
       "        button.attr('role', 'button');\n",
       "        button.attr('aria-disabled', 'false');\n",
       "        button.click(method_name, toolbar_event);\n",
       "        button.mouseover(tooltip, toolbar_mouse_event);\n",
       "\n",
       "        var icon_img = $('<span/>');\n",
       "        icon_img.addClass('ui-button-icon-primary ui-icon');\n",
       "        icon_img.addClass(image);\n",
       "        icon_img.addClass('ui-corner-all');\n",
       "\n",
       "        var tooltip_span = $('<span/>');\n",
       "        tooltip_span.addClass('ui-button-text');\n",
       "        tooltip_span.html(tooltip);\n",
       "\n",
       "        button.append(icon_img);\n",
       "        button.append(tooltip_span);\n",
       "\n",
       "        nav_element.append(button);\n",
       "    }\n",
       "\n",
       "    var fmt_picker_span = $('<span/>');\n",
       "\n",
       "    var fmt_picker = $('<select/>');\n",
       "    fmt_picker.addClass('mpl-toolbar-option ui-widget ui-widget-content');\n",
       "    fmt_picker_span.append(fmt_picker);\n",
       "    nav_element.append(fmt_picker_span);\n",
       "    this.format_dropdown = fmt_picker[0];\n",
       "\n",
       "    for (var ind in mpl.extensions) {\n",
       "        var fmt = mpl.extensions[ind];\n",
       "        var option = $(\n",
       "            '<option/>', {selected: fmt === mpl.default_extension}).html(fmt);\n",
       "        fmt_picker.append(option);\n",
       "    }\n",
       "\n",
       "    // Add hover states to the ui-buttons\n",
       "    $( \".ui-button\" ).hover(\n",
       "        function() { $(this).addClass(\"ui-state-hover\");},\n",
       "        function() { $(this).removeClass(\"ui-state-hover\");}\n",
       "    );\n",
       "\n",
       "    var status_bar = $('<span class=\"mpl-message\"/>');\n",
       "    nav_element.append(status_bar);\n",
       "    this.message = status_bar[0];\n",
       "}\n",
       "\n",
       "mpl.figure.prototype.request_resize = function(x_pixels, y_pixels) {\n",
       "    // Request matplotlib to resize the figure. Matplotlib will then trigger a resize in the client,\n",
       "    // which will in turn request a refresh of the image.\n",
       "    this.send_message('resize', {'width': x_pixels, 'height': y_pixels});\n",
       "}\n",
       "\n",
       "mpl.figure.prototype.send_message = function(type, properties) {\n",
       "    properties['type'] = type;\n",
       "    properties['figure_id'] = this.id;\n",
       "    this.ws.send(JSON.stringify(properties));\n",
       "}\n",
       "\n",
       "mpl.figure.prototype.send_draw_message = function() {\n",
       "    if (!this.waiting) {\n",
       "        this.waiting = true;\n",
       "        this.ws.send(JSON.stringify({type: \"draw\", figure_id: this.id}));\n",
       "    }\n",
       "}\n",
       "\n",
       "\n",
       "mpl.figure.prototype.handle_save = function(fig, msg) {\n",
       "    var format_dropdown = fig.format_dropdown;\n",
       "    var format = format_dropdown.options[format_dropdown.selectedIndex].value;\n",
       "    fig.ondownload(fig, format);\n",
       "}\n",
       "\n",
       "\n",
       "mpl.figure.prototype.handle_resize = function(fig, msg) {\n",
       "    var size = msg['size'];\n",
       "    if (size[0] != fig.canvas.width || size[1] != fig.canvas.height) {\n",
       "        fig._resize_canvas(size[0], size[1]);\n",
       "        fig.send_message(\"refresh\", {});\n",
       "    };\n",
       "}\n",
       "\n",
       "mpl.figure.prototype.handle_rubberband = function(fig, msg) {\n",
       "    var x0 = msg['x0'] / mpl.ratio;\n",
       "    var y0 = (fig.canvas.height - msg['y0']) / mpl.ratio;\n",
       "    var x1 = msg['x1'] / mpl.ratio;\n",
       "    var y1 = (fig.canvas.height - msg['y1']) / mpl.ratio;\n",
       "    x0 = Math.floor(x0) + 0.5;\n",
       "    y0 = Math.floor(y0) + 0.5;\n",
       "    x1 = Math.floor(x1) + 0.5;\n",
       "    y1 = Math.floor(y1) + 0.5;\n",
       "    var min_x = Math.min(x0, x1);\n",
       "    var min_y = Math.min(y0, y1);\n",
       "    var width = Math.abs(x1 - x0);\n",
       "    var height = Math.abs(y1 - y0);\n",
       "\n",
       "    fig.rubberband_context.clearRect(\n",
       "        0, 0, fig.canvas.width / mpl.ratio, fig.canvas.height / mpl.ratio);\n",
       "\n",
       "    fig.rubberband_context.strokeRect(min_x, min_y, width, height);\n",
       "}\n",
       "\n",
       "mpl.figure.prototype.handle_figure_label = function(fig, msg) {\n",
       "    // Updates the figure title.\n",
       "    fig.header.textContent = msg['label'];\n",
       "}\n",
       "\n",
       "mpl.figure.prototype.handle_cursor = function(fig, msg) {\n",
       "    var cursor = msg['cursor'];\n",
       "    switch(cursor)\n",
       "    {\n",
       "    case 0:\n",
       "        cursor = 'pointer';\n",
       "        break;\n",
       "    case 1:\n",
       "        cursor = 'default';\n",
       "        break;\n",
       "    case 2:\n",
       "        cursor = 'crosshair';\n",
       "        break;\n",
       "    case 3:\n",
       "        cursor = 'move';\n",
       "        break;\n",
       "    }\n",
       "    fig.rubberband_canvas.style.cursor = cursor;\n",
       "}\n",
       "\n",
       "mpl.figure.prototype.handle_message = function(fig, msg) {\n",
       "    fig.message.textContent = msg['message'];\n",
       "}\n",
       "\n",
       "mpl.figure.prototype.handle_draw = function(fig, msg) {\n",
       "    // Request the server to send over a new figure.\n",
       "    fig.send_draw_message();\n",
       "}\n",
       "\n",
       "mpl.figure.prototype.handle_image_mode = function(fig, msg) {\n",
       "    fig.image_mode = msg['mode'];\n",
       "}\n",
       "\n",
       "mpl.figure.prototype.updated_canvas_event = function() {\n",
       "    // Called whenever the canvas gets updated.\n",
       "    this.send_message(\"ack\", {});\n",
       "}\n",
       "\n",
       "// A function to construct a web socket function for onmessage handling.\n",
       "// Called in the figure constructor.\n",
       "mpl.figure.prototype._make_on_message_function = function(fig) {\n",
       "    return function socket_on_message(evt) {\n",
       "        if (evt.data instanceof Blob) {\n",
       "            /* FIXME: We get \"Resource interpreted as Image but\n",
       "             * transferred with MIME type text/plain:\" errors on\n",
       "             * Chrome.  But how to set the MIME type?  It doesn't seem\n",
       "             * to be part of the websocket stream */\n",
       "            evt.data.type = \"image/png\";\n",
       "\n",
       "            /* Free the memory for the previous frames */\n",
       "            if (fig.imageObj.src) {\n",
       "                (window.URL || window.webkitURL).revokeObjectURL(\n",
       "                    fig.imageObj.src);\n",
       "            }\n",
       "\n",
       "            fig.imageObj.src = (window.URL || window.webkitURL).createObjectURL(\n",
       "                evt.data);\n",
       "            fig.updated_canvas_event();\n",
       "            fig.waiting = false;\n",
       "            return;\n",
       "        }\n",
       "        else if (typeof evt.data === 'string' && evt.data.slice(0, 21) == \"data:image/png;base64\") {\n",
       "            fig.imageObj.src = evt.data;\n",
       "            fig.updated_canvas_event();\n",
       "            fig.waiting = false;\n",
       "            return;\n",
       "        }\n",
       "\n",
       "        var msg = JSON.parse(evt.data);\n",
       "        var msg_type = msg['type'];\n",
       "\n",
       "        // Call the  \"handle_{type}\" callback, which takes\n",
       "        // the figure and JSON message as its only arguments.\n",
       "        try {\n",
       "            var callback = fig[\"handle_\" + msg_type];\n",
       "        } catch (e) {\n",
       "            console.log(\"No handler for the '\" + msg_type + \"' message type: \", msg);\n",
       "            return;\n",
       "        }\n",
       "\n",
       "        if (callback) {\n",
       "            try {\n",
       "                // console.log(\"Handling '\" + msg_type + \"' message: \", msg);\n",
       "                callback(fig, msg);\n",
       "            } catch (e) {\n",
       "                console.log(\"Exception inside the 'handler_\" + msg_type + \"' callback:\", e, e.stack, msg);\n",
       "            }\n",
       "        }\n",
       "    };\n",
       "}\n",
       "\n",
       "// from http://stackoverflow.com/questions/1114465/getting-mouse-location-in-canvas\n",
       "mpl.findpos = function(e) {\n",
       "    //this section is from http://www.quirksmode.org/js/events_properties.html\n",
       "    var targ;\n",
       "    if (!e)\n",
       "        e = window.event;\n",
       "    if (e.target)\n",
       "        targ = e.target;\n",
       "    else if (e.srcElement)\n",
       "        targ = e.srcElement;\n",
       "    if (targ.nodeType == 3) // defeat Safari bug\n",
       "        targ = targ.parentNode;\n",
       "\n",
       "    // jQuery normalizes the pageX and pageY\n",
       "    // pageX,Y are the mouse positions relative to the document\n",
       "    // offset() returns the position of the element relative to the document\n",
       "    var x = e.pageX - $(targ).offset().left;\n",
       "    var y = e.pageY - $(targ).offset().top;\n",
       "\n",
       "    return {\"x\": x, \"y\": y};\n",
       "};\n",
       "\n",
       "/*\n",
       " * return a copy of an object with only non-object keys\n",
       " * we need this to avoid circular references\n",
       " * http://stackoverflow.com/a/24161582/3208463\n",
       " */\n",
       "function simpleKeys (original) {\n",
       "  return Object.keys(original).reduce(function (obj, key) {\n",
       "    if (typeof original[key] !== 'object')\n",
       "        obj[key] = original[key]\n",
       "    return obj;\n",
       "  }, {});\n",
       "}\n",
       "\n",
       "mpl.figure.prototype.mouse_event = function(event, name) {\n",
       "    var canvas_pos = mpl.findpos(event)\n",
       "\n",
       "    if (name === 'button_press')\n",
       "    {\n",
       "        this.canvas.focus();\n",
       "        this.canvas_div.focus();\n",
       "    }\n",
       "\n",
       "    var x = canvas_pos.x * mpl.ratio;\n",
       "    var y = canvas_pos.y * mpl.ratio;\n",
       "\n",
       "    this.send_message(name, {x: x, y: y, button: event.button,\n",
       "                             step: event.step,\n",
       "                             guiEvent: simpleKeys(event)});\n",
       "\n",
       "    /* This prevents the web browser from automatically changing to\n",
       "     * the text insertion cursor when the button is pressed.  We want\n",
       "     * to control all of the cursor setting manually through the\n",
       "     * 'cursor' event from matplotlib */\n",
       "    event.preventDefault();\n",
       "    return false;\n",
       "}\n",
       "\n",
       "mpl.figure.prototype._key_event_extra = function(event, name) {\n",
       "    // Handle any extra behaviour associated with a key event\n",
       "}\n",
       "\n",
       "mpl.figure.prototype.key_event = function(event, name) {\n",
       "\n",
       "    // Prevent repeat events\n",
       "    if (name == 'key_press')\n",
       "    {\n",
       "        if (event.which === this._key)\n",
       "            return;\n",
       "        else\n",
       "            this._key = event.which;\n",
       "    }\n",
       "    if (name == 'key_release')\n",
       "        this._key = null;\n",
       "\n",
       "    var value = '';\n",
       "    if (event.ctrlKey && event.which != 17)\n",
       "        value += \"ctrl+\";\n",
       "    if (event.altKey && event.which != 18)\n",
       "        value += \"alt+\";\n",
       "    if (event.shiftKey && event.which != 16)\n",
       "        value += \"shift+\";\n",
       "\n",
       "    value += 'k';\n",
       "    value += event.which.toString();\n",
       "\n",
       "    this._key_event_extra(event, name);\n",
       "\n",
       "    this.send_message(name, {key: value,\n",
       "                             guiEvent: simpleKeys(event)});\n",
       "    return false;\n",
       "}\n",
       "\n",
       "mpl.figure.prototype.toolbar_button_onclick = function(name) {\n",
       "    if (name == 'download') {\n",
       "        this.handle_save(this, null);\n",
       "    } else {\n",
       "        this.send_message(\"toolbar_button\", {name: name});\n",
       "    }\n",
       "};\n",
       "\n",
       "mpl.figure.prototype.toolbar_button_onmouseover = function(tooltip) {\n",
       "    this.message.textContent = tooltip;\n",
       "};\n",
       "mpl.toolbar_items = [[\"Home\", \"Reset original view\", \"fa fa-home icon-home\", \"home\"], [\"Back\", \"Back to previous view\", \"fa fa-arrow-left icon-arrow-left\", \"back\"], [\"Forward\", \"Forward to next view\", \"fa fa-arrow-right icon-arrow-right\", \"forward\"], [\"\", \"\", \"\", \"\"], [\"Pan\", \"Pan axes with left mouse, zoom with right\", \"fa fa-arrows icon-move\", \"pan\"], [\"Zoom\", \"Zoom to rectangle\", \"fa fa-square-o icon-check-empty\", \"zoom\"], [\"\", \"\", \"\", \"\"], [\"Download\", \"Download plot\", \"fa fa-floppy-o icon-save\", \"download\"]];\n",
       "\n",
       "mpl.extensions = [\"eps\", \"jpeg\", \"pdf\", \"png\", \"ps\", \"raw\", \"svg\", \"tif\"];\n",
       "\n",
       "mpl.default_extension = \"png\";var comm_websocket_adapter = function(comm) {\n",
       "    // Create a \"websocket\"-like object which calls the given IPython comm\n",
       "    // object with the appropriate methods. Currently this is a non binary\n",
       "    // socket, so there is still some room for performance tuning.\n",
       "    var ws = {};\n",
       "\n",
       "    ws.close = function() {\n",
       "        comm.close()\n",
       "    };\n",
       "    ws.send = function(m) {\n",
       "        //console.log('sending', m);\n",
       "        comm.send(m);\n",
       "    };\n",
       "    // Register the callback with on_msg.\n",
       "    comm.on_msg(function(msg) {\n",
       "        //console.log('receiving', msg['content']['data'], msg);\n",
       "        // Pass the mpl event to the overridden (by mpl) onmessage function.\n",
       "        ws.onmessage(msg['content']['data'])\n",
       "    });\n",
       "    return ws;\n",
       "}\n",
       "\n",
       "mpl.mpl_figure_comm = function(comm, msg) {\n",
       "    // This is the function which gets called when the mpl process\n",
       "    // starts-up an IPython Comm through the \"matplotlib\" channel.\n",
       "\n",
       "    var id = msg.content.data.id;\n",
       "    // Get hold of the div created by the display call when the Comm\n",
       "    // socket was opened in Python.\n",
       "    var element = $(\"#\" + id);\n",
       "    var ws_proxy = comm_websocket_adapter(comm)\n",
       "\n",
       "    function ondownload(figure, format) {\n",
       "        window.open(figure.imageObj.src);\n",
       "    }\n",
       "\n",
       "    var fig = new mpl.figure(id, ws_proxy,\n",
       "                           ondownload,\n",
       "                           element.get(0));\n",
       "\n",
       "    // Call onopen now - mpl needs it, as it is assuming we've passed it a real\n",
       "    // web socket which is closed, not our websocket->open comm proxy.\n",
       "    ws_proxy.onopen();\n",
       "\n",
       "    fig.parent_element = element.get(0);\n",
       "    fig.cell_info = mpl.find_output_cell(\"<div id='\" + id + \"'></div>\");\n",
       "    if (!fig.cell_info) {\n",
       "        console.error(\"Failed to find cell for figure\", id, fig);\n",
       "        return;\n",
       "    }\n",
       "\n",
       "    var output_index = fig.cell_info[2]\n",
       "    var cell = fig.cell_info[0];\n",
       "\n",
       "};\n",
       "\n",
       "mpl.figure.prototype.handle_close = function(fig, msg) {\n",
       "    var width = fig.canvas.width/mpl.ratio\n",
       "    fig.root.unbind('remove')\n",
       "\n",
       "    // Update the output cell to use the data from the current canvas.\n",
       "    fig.push_to_output();\n",
       "    var dataURL = fig.canvas.toDataURL();\n",
       "    // Re-enable the keyboard manager in IPython - without this line, in FF,\n",
       "    // the notebook keyboard shortcuts fail.\n",
       "    IPython.keyboard_manager.enable()\n",
       "    $(fig.parent_element).html('<img src=\"' + dataURL + '\" width=\"' + width + '\">');\n",
       "    fig.close_ws(fig, msg);\n",
       "}\n",
       "\n",
       "mpl.figure.prototype.close_ws = function(fig, msg){\n",
       "    fig.send_message('closing', msg);\n",
       "    // fig.ws.close()\n",
       "}\n",
       "\n",
       "mpl.figure.prototype.push_to_output = function(remove_interactive) {\n",
       "    // Turn the data on the canvas into data in the output cell.\n",
       "    var width = this.canvas.width/mpl.ratio\n",
       "    var dataURL = this.canvas.toDataURL();\n",
       "    this.cell_info[1]['text/html'] = '<img src=\"' + dataURL + '\" width=\"' + width + '\">';\n",
       "}\n",
       "\n",
       "mpl.figure.prototype.updated_canvas_event = function() {\n",
       "    // Tell IPython that the notebook contents must change.\n",
       "    IPython.notebook.set_dirty(true);\n",
       "    this.send_message(\"ack\", {});\n",
       "    var fig = this;\n",
       "    // Wait a second, then push the new image to the DOM so\n",
       "    // that it is saved nicely (might be nice to debounce this).\n",
       "    setTimeout(function () { fig.push_to_output() }, 1000);\n",
       "}\n",
       "\n",
       "mpl.figure.prototype._init_toolbar = function() {\n",
       "    var fig = this;\n",
       "\n",
       "    var nav_element = $('<div/>');\n",
       "    nav_element.attr('style', 'width: 100%');\n",
       "    this.root.append(nav_element);\n",
       "\n",
       "    // Define a callback function for later on.\n",
       "    function toolbar_event(event) {\n",
       "        return fig.toolbar_button_onclick(event['data']);\n",
       "    }\n",
       "    function toolbar_mouse_event(event) {\n",
       "        return fig.toolbar_button_onmouseover(event['data']);\n",
       "    }\n",
       "\n",
       "    for(var toolbar_ind in mpl.toolbar_items){\n",
       "        var name = mpl.toolbar_items[toolbar_ind][0];\n",
       "        var tooltip = mpl.toolbar_items[toolbar_ind][1];\n",
       "        var image = mpl.toolbar_items[toolbar_ind][2];\n",
       "        var method_name = mpl.toolbar_items[toolbar_ind][3];\n",
       "\n",
       "        if (!name) { continue; };\n",
       "\n",
       "        var button = $('<button class=\"btn btn-default\" href=\"#\" title=\"' + name + '\"><i class=\"fa ' + image + ' fa-lg\"></i></button>');\n",
       "        button.click(method_name, toolbar_event);\n",
       "        button.mouseover(tooltip, toolbar_mouse_event);\n",
       "        nav_element.append(button);\n",
       "    }\n",
       "\n",
       "    // Add the status bar.\n",
       "    var status_bar = $('<span class=\"mpl-message\" style=\"text-align:right; float: right;\"/>');\n",
       "    nav_element.append(status_bar);\n",
       "    this.message = status_bar[0];\n",
       "\n",
       "    // Add the close button to the window.\n",
       "    var buttongrp = $('<div class=\"btn-group inline pull-right\"></div>');\n",
       "    var button = $('<button class=\"btn btn-mini btn-primary\" href=\"#\" title=\"Stop Interaction\"><i class=\"fa fa-power-off icon-remove icon-large\"></i></button>');\n",
       "    button.click(function (evt) { fig.handle_close(fig, {}); } );\n",
       "    button.mouseover('Stop Interaction', toolbar_mouse_event);\n",
       "    buttongrp.append(button);\n",
       "    var titlebar = this.root.find($('.ui-dialog-titlebar'));\n",
       "    titlebar.prepend(buttongrp);\n",
       "}\n",
       "\n",
       "mpl.figure.prototype._root_extra_style = function(el){\n",
       "    var fig = this\n",
       "    el.on(\"remove\", function(){\n",
       "\tfig.close_ws(fig, {});\n",
       "    });\n",
       "}\n",
       "\n",
       "mpl.figure.prototype._canvas_extra_style = function(el){\n",
       "    // this is important to make the div 'focusable\n",
       "    el.attr('tabindex', 0)\n",
       "    // reach out to IPython and tell the keyboard manager to turn it's self\n",
       "    // off when our div gets focus\n",
       "\n",
       "    // location in version 3\n",
       "    if (IPython.notebook.keyboard_manager) {\n",
       "        IPython.notebook.keyboard_manager.register_events(el);\n",
       "    }\n",
       "    else {\n",
       "        // location in version 2\n",
       "        IPython.keyboard_manager.register_events(el);\n",
       "    }\n",
       "\n",
       "}\n",
       "\n",
       "mpl.figure.prototype._key_event_extra = function(event, name) {\n",
       "    var manager = IPython.notebook.keyboard_manager;\n",
       "    if (!manager)\n",
       "        manager = IPython.keyboard_manager;\n",
       "\n",
       "    // Check for shift+enter\n",
       "    if (event.shiftKey && event.which == 13) {\n",
       "        this.canvas_div.blur();\n",
       "        // select the cell after this one\n",
       "        var index = IPython.notebook.find_cell_index(this.cell_info[0]);\n",
       "        IPython.notebook.select(index + 1);\n",
       "    }\n",
       "}\n",
       "\n",
       "mpl.figure.prototype.handle_save = function(fig, msg) {\n",
       "    fig.ondownload(fig, null);\n",
       "}\n",
       "\n",
       "\n",
       "mpl.find_output_cell = function(html_output) {\n",
       "    // Return the cell and output element which can be found *uniquely* in the notebook.\n",
       "    // Note - this is a bit hacky, but it is done because the \"notebook_saving.Notebook\"\n",
       "    // IPython event is triggered only after the cells have been serialised, which for\n",
       "    // our purposes (turning an active figure into a static one), is too late.\n",
       "    var cells = IPython.notebook.get_cells();\n",
       "    var ncells = cells.length;\n",
       "    for (var i=0; i<ncells; i++) {\n",
       "        var cell = cells[i];\n",
       "        if (cell.cell_type === 'code'){\n",
       "            for (var j=0; j<cell.output_area.outputs.length; j++) {\n",
       "                var data = cell.output_area.outputs[j];\n",
       "                if (data.data) {\n",
       "                    // IPython >= 3 moved mimebundle to data attribute of output\n",
       "                    data = data.data;\n",
       "                }\n",
       "                if (data['text/html'] == html_output) {\n",
       "                    return [cell, data, j];\n",
       "                }\n",
       "            }\n",
       "        }\n",
       "    }\n",
       "}\n",
       "\n",
       "// Register the function which deals with the matplotlib target/channel.\n",
       "// The kernel may be null if the page has been refreshed.\n",
       "if (IPython.notebook.kernel != null) {\n",
       "    IPython.notebook.kernel.comm_manager.register_target('matplotlib', mpl.mpl_figure_comm);\n",
       "}\n"
      ],
      "text/plain": [
       "<IPython.core.display.Javascript object>"
      ]
     },
     "metadata": {},
     "output_type": "display_data"
    },
    {
     "data": {
      "text/html": [
       "<img src=\"data:image/png;base64,iVBORw0KGgoAAAANSUhEUgAAAoAAAAHgCAYAAAA10dzkAAAgAElEQVR4nO3df2xV533H8WP84wID21CMnWGgYdhuCoISiTCvjPzBSGiwsBYpnozlWiAFomUK2pYGIX5YSwU1xANVDW5RRBulHqbOZoIUIFQEhLAbKNAbg7kUWsKQC8m0mt2LQzC//NkfiNPc2CQHPU998XPeL+n8ge/JzfXTr/R91+beeAIAAECoeKl+AQAAABhYBCAAAEDIEIAAAAAhQwACAACEDAEIAAAQMgQgAABAyBCAAAAAIUMAAgAAhAwBCAAAEDIEIAAAQMgQgAAAACFDAAIAAIQMAQgAABAyBCAAAEDIEIAAAAAhQwACAACEDAEIAAAQMgQgAABAyBCAAAAAIUMAAgAAhAwBCAAAEDIEIAAAQMgQgAAAACFDAAIAAIQMAQgAABAyBCAAAEDIEIAAAAAhQwACAACEDAEIAAAQMgQgAABAyBCAAAAAIUMAAgAAhAwBCAAAEDIEIAAAQMgQgAAAACFDAAIAAIQMAQgAABAyBCAAAEDIEIAAAAAhQwACAACEDAEIAAAQMgQgAABAyBCAAAAAIUMAAgAAhAwBCAAAEDIEIAAAQMgQgAAAACFDAAIAAIQMAQgAABAyBCAAAEDIEIAAAAAhQwACAACEDAEIAAAQMgQgAABAyBCAAAAAIUMAAgAAhAwBaODOnTvq7OxUPB5XIpHg4uLi4uLiGgRXPB5XZ2en7ty5k+qUSBkC0EBnZ6c8z+Pi4uLi4uIahFdnZ2eqUyJlCEAD8XjcH6BU/78ZLi4uLi4urmDXvR/gxOPxVKdEyhCABhKJhDzPUyKRSPVLAQAAAbG/CUAjDBAAAIMP+5sANMIAAQAw+LC/CUAjDBAAAIMP+5sANMIAAQAw+LC/CUAjDBAAAIMP+5sANMIAAQAw+LC/CUAjDBAAAIMP+5sANMIAAQAw+LC/CUAjDBAAAIMP+5sANMIAAQAw+LC/CUAjDBAAAIMP+5sANMIAAQAw+LC/CUAjDBDwcLl27ZpOnDhh5WptbVVjY6NaW1utPee1a9dSfUQAxP6WCEAjDBDwcDlx4oQ8z3torxMnTqT6iACI/S0RgEYYIODhYvMngI2NjfI8T42NjfwEEHAM+5sANMIAAe6699NEfmoHuIf9TQAaYYAAdxGAgLvY3wSgEQYIcBcBCLiL/U0AGmGAAHcRgIC72N8EoBEGCHAXAQi4i/1NABphgAB3EYCAu9jfBKARBghwFwEIuIv9TQAaYYAAdxGAgLvY3wSgEQYIcBcBCLiL/U0AGmGAAHcRgIC72N8EoBEGCHAXAQi4i/1NABphgAB3EYCAu9jfBKARBghwFwEIuIv9TQAaYYAAdxGAgLvY3wSgEQYIcBcBCLiL/U0AGmGAAHcRgIC72N+WA/DQoUMqKyvTI488Is/ztHPnzqTH/+u//kvz5s3T6NGj5XmeotFon+e4fv26/vEf/1GjR4/WX/zFX+jZZ5/VJ598knTPxYsX9cwzz2jYsGHKy8vTyy+/rFu3biXdc/DgQc2YMUNZWVn6q7/6K/3sZz/r8+96/fXXNXHiREUiET3xxBM6evToA32/DBDgLgIQcBf723IA7tmzR6tWrVJLS0u/AfjWW2/p3/7t3/TGG2/cNwBfeOEFjR8/Xu+//76OHz+uv/7rv9bf/M3f+I/fvn1bU6dO1d/93d8pGo1qz549GjNmjFauXOnf89FHH2n48OH6l3/5F8ViMf3oRz9Senq63nvvPf+eHTt2KCsrSz/96U91+vRpPf/888rNzdX//M//BP5+GSDAXQQg4C7295/xV8D9BeA9Fy5c6DcA4/G4MjMz9fbbb/tfO3PmjDzP0wcffCDpbmQOGTIk6aeCP/7xj5Wdna0bN25Ikl555RVNmTIl6bn/4R/+QU8//bT/5yeeeEIvvvii/+c7d+7oL//yL/WDH/wg8PfIAAHuIgABd7G/H7IAfP/99+V5nv7v//4v6esTJkzQpk2bJElr1qzR9OnTkx7/6KOP5HmefvOb30iS/vZv/1bLly9PuuenP/2psrOzJUk3btxQenp6n9f33e9+VwsXLrzv99TT06NEIuFfnZ2doR8gwFUEIOAuAvAhC8D/+I//UFZWVp/7Z86cqVdeeUWS9Pzzz+upp55KevzatWvyPE979uyRJBUVFWn9+vVJ9+zevVue5+mzzz7TpUuX5HmefvWrXyXd873vfU9PPPHEfb+n2tpaeZ7X5wrzAAGuIgABdxGABGDSPV8VgPwEEAgPAhBwFwH4kAXgw/4r4C9igAB3EYCAu9jfD1kA3nsTyH/+53/6X/vtb3/b75tAPv9u3a1btyo7O1s9PT2S7r4JZOrUqUnPXVlZ2edNIP/0T//k//nOnTsaN24cbwIBIIkABFzG/rYcgN3d3YpGo4pGo/I8T5s2bVI0GtXFixclSV1dXYpGo/6vY3fs2KFoNKqPP/7Yf44XXnhBEyZM0IEDB3T8+HGVlpaqtLTUf/zex8A89dRT+vDDD/Xee+8pLy+v34+B+d73vqczZ85oy5Yt/X4MTCQS0ZtvvqlYLKalS5cqNze3z2cOfhkGCHAXAQi4i/1tOQAPHjzY75skampqJEk/+9nP+n28trbWf457HwQ9atQoDR8+XH//93+fFIiS9N///d/6zne+o2HDhmnMmDH613/9134/CPpb3/qWsrKyNGnSpH4/CPpHP/qRJkyYoKysLD3xxBM6cuTIA32/DBDgLgIQcBf7m/8UnBEGCHAXAQi4i/1NABphgAB3EYCAu9jfBKARBghwFwEIuIv9TQAaYYAAdxGAgLvY3wSgEQYIcBcBCLiL/U0AGmGAAHcRgIC72N8EoBEGCHAXAQi4i/1NABphgAB3EYCAu9jfBKARBghwFwEIuIv9TQAaYYAAdxGAgLvY3wSgEQYIcBcBCLiL/U0AGmGAAHcRgIC72N8EoBEGCHAXAQi4i/1NABphgAB3EYCAu9jfBKARBghwFwEIuIv9TQAaYYAAdxGAgLvY3wSgEQYIcBcBCLiL/U0AGmGAAHcRgIC72N8EoBEGCHAXAQi4i/1NABphgAB3EYCAu9jfBKARBghwFwEIuIv9TQAaYYAAdxGAgLvY3wSgEQYIcBcBCLiL/U0AGmGAAHcRgIC72N8EoBEGCHAXAQi4i/1NABphgAB3EYCAu9jfBKARBghwFwEIuIv9TQAaYYAAdxGAgLvY3wSgEQYIcBcBCLiL/U0AGmGAAHcRgIC72N8EoBEGCHAXAQi4i/1NABphgAB3EYCAu9jfBKARBghwFwEIuIv9TQAaYYAAe86dO6cTJ048NFdjY6M8z1NjY2PKX8vnr3PnzqX6fypg0GN/E4BGGCDAjnPnzsnzPK6AFxEImGF/E4BGGCDAjnu/bn2YftrW2tqqxsZGtba2pvy1fPGnkidO8GtpwAT7mwA0wgABdtwLQMLmy3FOgB3sbwLQCAME2EHYBMM5AXawvwlAIwwQYAdhEwznBNjB/rYcgIcOHVJZWZkeeeQReZ6nnTt3Jj3e29urNWvWqKCgQEOHDtXcuXP7/GXmiRMn9vkLzz/4wQ+S7mlvb9fs2bMViURUWFioDRs29Hktzc3NKikpUSQS0dSpU7V79+4Hfi1fhQEC7CBsguGcADvY35YDcM+ePVq1apVaWlr6DcC6ujrl5OTonXfeUXt7uxYuXKhHH31U169f9++ZOHGiXn31VX388cf+9emnn/qPJxIJ5efnq6qqSh0dHWpqatKwYcO0detW/562tjalp6dr48aNisViWr16tTIzM3Xq1KkHei1fhQEC7CBsguGcADvY33/GXwF/MQB7e3tVUFCg1157zf9aPB5XJBJRU1OT/7WJEydq8+bN933ehoYGjRo1Sjdu3PC/tmLFCpWUlPh/rqio0IIFC5L+uVmzZmnZsmUP9Fq+CgME2EHYBMM5AXawvwcwAM+fPy/P8xSNRpPumzNnjl566SX/zxMnTlR+fr5Gjx6tb33rW9q4caNu3brlP15dXa3y8vKk5zhw4IA8z9OVK1ckSePHj+8TkWvXrtW0adMe6LV8UU9PjxKJhH91dnaGfoAAGwibYDgnwA4CcAADsK2tTZ7n6fLly0n3Pffcc6qoqPD//O///u86ePCg2tvb9eMf/1i5ubn653/+Z//xefPmaenSpUnPcfr0aXmep1gsJknKzMzU9u3bk+7ZsmWLxo4d+0Cv5Ytqa2v7/VDWMA8QYANhEwznBNhBAD6EAfhF27ZtU0ZGhnp6eiSlNgD5CSDw50HYBMM5AXYQgA/hr4C/qKOjQ57n6be//a2k1P4K+IsYIMAOwiYYzgmwg/2dgjeB1NfX+19LJBJf+caLxsZGDRkyxI+7e28CuXnzpn/PypUr+7wJpKysLOl5SktL+7wJ5EFfyxcxQIAdhE0wnBNgB/vbcgB2d3crGo0qGo3K8zxt2rRJ0WhUFy9elHT3o1dyc3O1a9cunTx5UuXl5UkfvfKrX/1Kmzdv1ocffqjz58+rsbFReXl5+u53v+v/O+LxuPLz81VdXa2Ojg7t2LFDw4cP7/MxMBkZGaqvr9eZM2dUW1vb78fAfNlrCYIBAuwgbILhnAA72N+WA/DgwYP9vkmipqZG0p8+fDk/P1+RSERz587V2bNn/X/+xIkTmjVrlnJycjR06FA99thjWr9+vf/3/+75/AdBjxs3TnV1dX1eS3Nzs4qLi5WVlaUpU6bc94Og7/dagmCAADsIm2A4J8AO9jf/KTgjDBBgB2ETDOcE2MH+JgCNMECAHYRNMJwTYAf7mwA0wgABdhA2wXBOgB3sbwLQCAME2EHYBMM5AXawvwlAIwwQYAdhEwznBNjB/iYAjTBAgB2ETTCcE2AH+5sANMIAAXYQNsFwToAd7G8C0AgDBNhB2ATDOQF2sL8JQCMMEGAHYRMM5wTYwf4mAI0wQIAdhE0wnBNgB/ubADTCAAF2EDbBcE6AHexvAtAIAwTYQdgEwzkBdrC/CUAjDBBgB2ETDOcE2MH+JgCNMECAHYRNMJwTYAf7mwA0wgABdhA2wXBOgB3sbwLQCAME2EHYBMM5AXawvwlAIwwQYAdhEwznBNjB/iYAjTBAgB2ETTCcE2AH+5sANMIAAXYQNsFwToAd7G8C0AgDBNhB2ATDOQF2sL8JQCMMEGAHYRMM5wTYwf4mAI0wQIAdhE0wnBNgB/ubADTCAAF2EDbBcE6AHexvAtAIAwTYQdgEwzkBdrC/CUAjDBBgB2ETDOcE2MH+JgCNMECAHYRNMJwTYAf7mwA0wgABdhA2wXBOgB3sbwLQCAME2PGbo22aUTBEsfebpEtRrvtcsfebNKNgiH5ztC3V/5MBgxr7mwA0wgABdsTeb5Jqs7kCXrH3m1L9PxkwqLG/CUAjDBBgBz8B5CeAwEBifxOARhggwA7+blswnBNgB/ubADTCAAF2EDbBcE6AHexvAtAIAwTYQdgEwzkBdrC/CUAjDBBgB2ETDOcE2MH+JgCNMECAHYRNMJwTYAf7mwA0wgABdhA2wXBOgB3sbwLQCAME2EHYBMM5AXawvwlAIwwQYAdhEwznBNjB/iYAjTBAgB2ETTCcE2AH+9tyAB46dEhlZWV65JFH5Hmedu7cmfR4b2+v1qxZo4KCAg0dOlRz587VuXPnku7p6urSokWLNHLkSOXk5GjJkiXq7u5Ouqe9vV2zZ89WJBJRYWGhNmzY0Oe1NDc3q6SkRJFIRFOnTtXu3bsf+LV8FQYIsIOwCYZzAuxgf1sOwD179mjVqlVqaWnpNwDr6uqUk5Ojd955R+3t7Vq4cKEeffRRXb9+3b9n/vz5mj59uo4cOaLDhw9r8uTJqqys9B9PJBLKz89XVVWVOjo61NTUpGHDhmnr1q3+PW1tbUpPT9fGjRsVi8W0evVqZWZm6tSpUw/0Wr4KAwTYQdgEwzkBdrC//4y/Av5iAPb29qqgoECvvfaa/7V4PK5IJKKmprv/YfNYLCbP83Ts2DH/nr179yotLU2XLl2SJDU0NGjUqFG6ceOGf8+KFStUUlLi/7miokILFixIej2zZs3SsmXLAr+WIBggwA7CJhjOCbCD/T2AAXj+/Hl5nqdoNJp035w5c/TSSy9JkrZt26bc3Nykx2/duqX09HS1tLRIkqqrq1VeXp50z4EDB+R5nq5cuSJJGj9+vDZv3px0z9q1azVt2rTAr6U/PT09SiQS/tXZ2Rn6AQJsIGyC4ZwAOwjAAQzAtrY2eZ6ny5cvJ9333HPPqaKiQpK0bt06FRcX93muvLw8NTQ0SJLmzZunpUuXJj1++vRpeZ6nWCwmScrMzNT27duT7tmyZYvGjh0b+LX0p7a2Vp7n9bnCPECADYRNMJwTYAcBSADe97X0h58AAn8ehE0wnBNgBwHIr4Dv+1qCYIAAOwibYDgnwA72dwreBFJfX+9/LZFI9PsmkOPHj/v37Nu3r983gdy8edO/Z+XKlX3eBFJWVpb0ekpLS/u8CeTLXksQDBBgB2ETDOcE2MH+thyA3d3dikajikaj8jxPmzZtUjQa1cWLFyXd/eiV3Nxc7dq1SydPnlR5eXm/HwMzY8YMHT16VK2trSoqKkr6GJh4PK78/HxVV1ero6NDO3bs0PDhw/t8DExGRobq6+t15swZ1dbW9vsxMF/1Wr4KAwTYQdgEwzkBdrC/LQfgwYMH+32TRE1NjaQ/ffhyfn6+IpGI5s6dq7NnzyY9R1dXlyorKzVixAhlZ2dr8eLFX/pB0OPGjVNdXV2f19Lc3Kzi4mJlZWVpypQp9/0g6C97LV+FAQLsIGyC4ZwAO9jf/KfgjDBAgB2ETTCcE2AH+5sANMIAAXYQNsFwToAd7G8C0AgDBNhB2ATDOQF2sL8JQCMMEGAHYRMM5wTYwf4mAI0wQIAdhE0wnBNgB/ubADTCAAF2EDbBcE6AHexvAtAIAwTYQdgEwzkBdrC/CUAjDBBgB2ETDOcE2MH+JgCNMECAHYRNMJwTYAf7mwA0wgABdhA2wXBOgB3sbwLQCAME2EHYBMM5AXawvwlAIwwQYAdhEwznBNjB/iYAjTBAgB2ETTCcE2AH+5sANMIAAXYQNsFwToAd7G8C0AgDBNhB2ATDOQF2sL8JQCMMEGAHYRMM5wTYwf4mAI0wQIAdhE0wnBNgB/ubADTCAAF2EDbBcE6AHexvAtAIAwTYQdgEwzkBdrC/CUAjDBBgB2ETDOcE2MH+JgCNMECAHYRNMJwTYAf7mwA0wgABdhA2wXBOgB3sbwLQCAME2EHYBMM5AXawvwlAIwwQYAdhEwznBNjB/iYAjTBAgB2ETTCcE2AH+5sANMIAAXYQNsFwToAd7G8C0AgDBNhB2ATDOQF2sL8JQCMMEGAHYRMM5wTYwf4mAI0wQIAdhE0wnBNgB/ubADTCAAF2EDbBcE6AHexvAtAIAwTYQdgEwzkBdrC/CUAjDBBgB2ETDOcE2MH+JgCNMECAHYRNMJwTYAf7mwA0wgABdhA2wXBOgB3sbwLQCAME2EHYBMM5AXawvwlAIwwQYAdhEwznBNjB/iYAjTBAgB2ETTCcE2AH+5sANMIAAXYQNsFwToAd7O8UBODVq1e1fPlyTZgwQUOHDlVpaal+/etf+4/X1NTI87yk6+mnn056jq6uLi1atEgjR45UTk6OlixZou7u7qR72tvbNXv2bEUiERUWFmrDhg19Xktzc7NKSkoUiUQ0depU7d69+4G+FwYIsIOwCYZzAuxgf6cgACsqKvTNb35Thw4d0u9+9zvV1tYqOztbf/jDHyTdDcD58+fr448/9q8rV64kPcf8+fM1ffp0HTlyRIcPH9bkyZNVWVnpP55IJJSfn6+qqip1dHSoqalJw4YN09atW/172tralJ6ero0bNyoWi2n16tXKzMzUqVOnAn8vDBBgB2ETDOcE2MH+HuAA/Oyzz5Senq5333036euPP/64Vq1aJeluAJaXl9/3OWKxmDzP07Fjx/yv7d27V2lpabp06ZIkqaGhQaNGjdKNGzf8e1asWKGSkhL/zxUVFVqwYEHSc8+aNUvLli0L/P0wQIAdhE0wnBNgB/t7gAPw6tWr8jxP+/fvT/r6t7/9bT355JOS7gZgTk6O8vLyVFxcrBdeeEF//OMf/Xu3bdum3NzcpH/+1q1bSk9PV0tLiySpurq6T0QeOHBAnuf5P00cP368Nm/enHTP2rVrNW3atMDfDwME2EHYBMM5AXawv1PwK+DS0lI9+eSTunTpkm7fvq2f//znGjJkiIqLiyVJTU1N2rVrl06ePKmdO3fqscce08yZM3X79m1J0rp16/x7Py8vL08NDQ2SpHnz5mnp0qVJj58+fVqe5ykWi0mSMjMztX379qR7tmzZorFjx973tff09CiRSPhXZ2dn6AcIsIGwCYZzAuwgAFMQgL///e81Z84ceZ6n9PR0zZw5U1VVVfrGN77R7/3nz59P+qlhKgOwtra2zxtUwj5AgA2ETTCcE2AHAZjCj4H59NNPdfnyZUl3/z7eM888c997x4wZo5/85CeSUvsrYH4CCPx5EDbBcE6AHQTgQ/A5gFeuXFFOTk7SO3Q/r7OzU2lpadq1a5ekP70J5Pjx4/49+/bt6/dNIDdv3vTvWblyZZ83gZSVlSX9u0pLS3kTCJAChE0wnBNgB/s7BQH43nvvae/evfroo4/0y1/+UtOnT9esWbN08+ZNdXd36+WXX9YHH3ygCxcuaP/+/Xr88cdVVFSknp4e/znmz5+vGTNm6OjRo2ptbVVRUVHSx8DE43Hl5+erurpaHR0d2rFjh4YPH97nY2AyMjJUX1+vM2fOqLa2lo+BAVKEsAmGcwLsYH+nIAB/8YtfaNKkScrKylJBQYFefPFFxeNxSXc/Juapp55SXl6eMjMzNXHiRD3//PP65JNPkp6jq6tLlZWVGjFihLKzs7V48eIv/SDocePGqa6urs9raW5uVnFxsbKysjRlyhQ+CBpIEcImGM4JsIP9/RD8CngwY4AAOwibYDgnwA72NwFohAEC7CBsguGcADvY3wSgEQYIsIOwCYZzAuxgfxOARhggwA7CJhjOCbCD/U0AGmGAADsIm2A4J8AO9jcBaIQBAuwgbILhnAA72N8EoBEGCLCDsAmGcwLsYH8TgEYYIMAOwiYYzgmwg/1NABphgAA7CJtgOCfADvY3AWiEAQLsIGyC4ZwAO9jfBKARBgiwg7AJhnMC7GB/E4BGGCDADsImGM4JsIP9TQAaYYAAOwibYDgnwA72NwFohAEC7CBsguGcADvY3wSgEQYIsIOwCYZzAuxgfxOARhggwA7CJhjOCbCD/U0AGmGAADsIm2A4J8AO9jcBaIQBAuwgbILhnAA72N8EoBEGCLCDsAmGcwLsYH8TgEYYIMAOwiYYzgmwg/1NABphgAA7CJtgOCfADvY3AWiEAQLsIGyC4ZwAO9jfBKARBgiwg7AJhnMC7GB/E4BGGCDADsImGM4JsIP9TQAaYYAAOwibYDgnwA72NwFohAEC7CBsguGcADvY3wSgEQYIsIOwCYZzAuxgfxOARhggwI7Dhw/L8zy98cYbOnHixENxtba2qrGxUa2trSl/LfeuxsZGAhCwgP1NABphgAA73njjDXmexxXwOnfuXKr/JwMGNfY3AWiEAQLs+N///V+98cYbOnz4cMp/yvbFn7Y1Njam/LV8/iL+AHPsbwLQCAMEuOvECf6+HeAq9jcBaIQBAtxFAALuYn8TgEYYIMBdBCDgLvY3AWiEAQLcRQAC7mJ/E4BGGCDAXQQg4C72NwFohAEC3EUAAu5ifxOARhggwF0EIOAu9jcBaIQBAtxFAALuYn8TgEYYIMBdBCDgLvZ3CgLw6tWrWr58uSZMmKChQ4eqtLRUv/71r/3He3t7tWbNGhUUFGjo0KGaO3dun0++7+rq0qJFizRy5Ejl5ORoyZIl6u7uTrqnvb1ds2fPViQSUWFhoTZs2NDntTQ3N6ukpESRSERTp07V7t27H+h7YYAAdxGAgLvY3ykIwIqKCn3zm9/UoUOH9Lvf/U61tbXKzs7WH/7wB0lSXV2dcnJy9M4776i9vV0LFy7Uo48+quvXr/vPMX/+fE2fPl1HjhzR4cOHNXnyZFVWVvqPJxIJ5efnq6qqSh0dHWpqatKwYcO0detW/562tjalp6dr48aNisViWr16tTIzM3Xq1KnA3wsDBLiLAATcxf4e4AD87LPPlJ6ernfffTfp648//rhWrVql3t5eFRQU6LXXXvMfi8fjikQiampqkiTFYjF5nqdjx4759+zdu1dpaWm6dOmSJKmhoUGjRo3SjRs3/HtWrFihkpIS/88VFRVasGBB0uuYNWuWli1bFvj7YYAAdxGAgLvY3wMcgFevXpXnedq/f3/S17/97W/rySef1Pnz5+V5nqLRaNLjc+bM0UsvvSRJ2rZtm3Jzc5Mev3XrltLT09XS0iJJqq6uVnl5edI9Bw4ckOd5unLliiRp/Pjx2rx5c9I9a9eu1bRp0wJ/PwwQ4C4CEHAX+zsFvwIuLS3Vk08+qUuXLun27dv6+c9/riFDhqi4uFhtbW3yPE+XL19O+meee+45VVRUSJLWrVun4uLiPs+bl5enhoYGSdK8efO0dOnSpMdPnz4tz/MUi8UkSZmZmdq+fXvSPVu2bNHYsWPv+9p7enqUSCT8q7OzM/QDBLiKAATcRQCmIAB///vfa86cOfI8T+np6Zo5c6aqqqr0jW9846EPwNraWnme1+cK8wABriIAAXcRgCn8GJhPP/3UD72Kigo988wzD/2vgPkJIBAeBCDgLgLwIfgcwCtXrignJ0dbt2713wRSX1/vP55IJPp9E8jx48f9e/bt29fvm0Bu3rzp37Ny5co+bwIpKytLei2lpaW8CQSAJAIQcBn7OwUB+N5772nv3r366KOP9Mtf/lLTp0/XrFmz/Firq6tTbm6udu3apZMnT6q8vLzfj4GZMeoZNQQAABAjSURBVGOGjh49qtbWVhUVFSV9DEw8Hld+fr6qq6vV0dGhHTt2aPjw4X0+BiYjI0P19fU6c+aMamtr+RgYAD4CEHAX+zsFAfiLX/xCkyZNUlZWlgoKCvTiiy8qHo/7j9/7IOj8/HxFIhHNnTtXZ8+eTXqOrq4uVVZWasSIEcrOztbixYu/9IOgx40bp7q6uj6vpbm5WcXFxcrKytKUKVP4IGgAPgIQcBf7+yH4FfBgxgAB7iIAAXexvwlAIwwQ4C4CEHAX+5sANMIAAe4iAAF3sb8JQCMMEOAuAhBwF/ubADTCAAHuIgABd7G/CUAjDBDgLgIQcBf7mwA0wgAB7iIAAXexvwlAIwwQ4C4CEHAX+5sANMIAAe4iAAF3sb8JQCMMEOAuAhBwF/ubADTCAAHuIgABd7G/CUAjDBDgLgIQcBf7mwA0wgAB7iIAAXexvwlAIwwQ4C4CEHAX+5sANMIAAe4iAAF3sb8JQCMMEOAuAhBwF/ubADTCAAHuIgABd7G/CUAjDBDgLgIQcBf7mwA0wgAB7iIAAXexvwlAIwwQ4C4CEHAX+5sANMIAAe4iAAF3sb8JQCMMEOAuAhBwF/ubADTCAAHuIgABd7G/CUAjDBDgLgIQcBf7mwA0wgAB7iIAAXexvwlAIwwQ4C4CEHAX+5sANMIAAe4iAAF3sb8JQCMMEOAuAhBwF/ubADTCAAHuIgABd7G/CUAjDBDgLgIQcBf7mwA0wgAB7iIAAXexvwlAIwwQ4C4CEHAX+5sANMIAAe4iAAF3sb8JQCMMEOAuAhBwF/ubADTCAAHuIgABd7G/CUAjDBDgLgIQcBf7mwA0wgAB7iIAAXexvwlAIwwQ4C4CEHAX+5sANMIAAe4iAAF3sb8HOABv376t1atX6+tf/7qGDh2qSZMm6dVXX1Vvb69/T01NjTzPS7qefvrppOfp6urSokWLNHLkSOXk5GjJkiXq7u5Ouqe9vV2zZ89WJBJRYWGhNmzY0Of1NDc3q6SkRJFIRFOnTtXu3bsf6PthgAB3EYCAu9jfAxyA69at09e+9jW9++67unDhgt5++22NGDFCP/zhD/17ampqNH/+fH388cf+deXKlaTnmT9/vqZPn64jR47o8OHDmjx5siorK/3HE4mE8vPzVVVVpY6ODjU1NWnYsGHaunWrf09bW5vS09O1ceNGxWIxrV69WpmZmTp16lTg74cBAtxFAALuYn8PcAAuWLBAS5YsSfras88+q6qqKv/PNTU1Ki8vv+9zxGIxeZ6nY8eO+V/bu3ev0tLSdOnSJUlSQ0ODRo0apRs3bvj3rFixQiUlJf6fKyoqtGDBgqTnnjVrlpYtWxb4+2GAAHcRgIC72N8p+AngxIkTdfbsWUnShx9+qLFjx6qxsdG/p6amRjk5OcrLy1NxcbFeeOEF/fGPf/Qf37Ztm3Jzc5Oe99atW0pPT1dLS4skqbq6uk9EHjhwQJ7n+T9NHD9+vDZv3px0z9q1azVt2rTA3w8DBLiLAATcxf4e4AC8c+eOVqxYobS0NGVkZCgtLU3r169PuqepqUm7du3SyZMntXPnTj322GOaOXOmbt++LeluRBYXF/d57ry8PDU0NEiS5s2bp6VLlyY9fvr0aXmep1gsJknKzMzU9u3bk+7ZsmWLxo4de9/X39PTo0Qi4V+dnZ2hHyDAVQQg4C4CcIADsKmpSYWFhWpqatLJkyf11ltvafTo0XrzzTfv+8+cP39enudp//79klIbgLW1tX3eoBL2AQJcRQAC7iIABzgACwsL9frrryd97fvf/37S383rz5gxY/STn/xEUmp/BcxPAIHwIAABdxGAAxyAo0eP9n9Kd8/69etVVFR033+ms7NTaWlp2rVrl6Q/vQnk+PHj/j379u3r900gN2/e9O9ZuXJlnzeBlJWVJf27SktLeRMIAEkEIOAy9vcAB2BNTY3GjRvnfwxMS0uLxowZo1deeUWS1N3drZdfflkffPCBLly4oP379+vxxx9XUVGRenp6/OeZP3++ZsyYoaNHj6q1tVVFRUVJHwMTj8eVn5+v6upqdXR0aMeOHRo+fHifj4HJyMhQfX29zpw5o9raWj4GBoCPAATcxf4e4AC8evWqli9frgkTJvgfBL1q1Sr/41o+++wzPfXUU8rLy1NmZqYmTpyo559/Xp988knS83R1damyslIjRoxQdna2Fi9e/KUfBD1u3DjV1dX1eT3Nzc0qLi5WVlaWpkyZwgdBA/ARgIC72N/8p+CMMECAuwhAwF3sbwLQCAMEuIsABNzF/iYAjTBAgLsIQMBd7G8C0AgDBLiLAATcxf4mAI0wQIC7CEDAXexvAtAIAwS4iwAE3MX+JgCNMECAuwhAwF3sbwLQCAMEuIsABNzF/iYAjTBAgLsIQMBd7G8C0AgDBLiLAATcxf4mAI0wQIC7CEDAXexvAtAIAwS4iwAE3MX+JgCNMECAuwhAwF3sbwLQCAMEuIsABNzF/iYAjTBAgLsIQMBd7G8C0AgDBLiLAATcxf4mAI0wQIC7CEDAXexvAtAIAwS4iwAE3MX+JgCNMECAuwhAwF3sbwLQCAMEuIsABNzF/iYAjTBAgLsIQMBd7G8C0AgDBLiLAATcxf4mAI0wQIC7CEDAXexvAtAIAwS4iwAE3MX+JgCNMECAuwhAwF3sbwLQCAMEuIsABNzF/iYAjTBAgLsIQMBd7G8C0AgDBLiLAATcxf4mAI0wQIC7CEDAXexvAtAIAwS4iwAE3MX+JgCNMECAuwhAwF3sbwLQCAMEuIsABNzF/iYAjTBAgLsIQMBd7G8C0AgDBLiLAATcxf4mAI0wQIC7CEDAXexvAtAIAwS4iwAE3MX+JgCNMECAuwhAwF3sbwLQCAMEuIsABNzF/iYAjTBAgLsIQMBd7O8BDsDbt29r9erV+vrXv66hQ4dq0qRJevXVV9Xb2+vf09vbqzVr1qigoEBDhw7V3Llzde7cuaTn6erq0qJFizRy5Ejl5ORoyZIl6u7uTrqnvb1ds2fPViQSUWFhoTZs2NDn9TQ3N6ukpESRSERTp07V7t27H+j7YYAAdxGAgLvY3wMcgOvWrdPXvvY1vfvuu7pw4YLefvttjRgxQj/84Q/9e+rq6pSTk6N33nlH7e3tWrhwoR599FFdv37dv2f+/PmaPn26jhw5osOHD2vy5MmqrKz0H08kEsrPz1dVVZU6OjrU1NSkYcOGaevWrf49bW1tSk9P18aNGxWLxbR69WplZmbq1KlTgb8fBghwFwEIuIv9PcABuGDBAi1ZsiTpa88++6yqqqok3f3pX0FBgV577TX/8Xg8rkgkoqamJklSLBaT53k6duyYf8/evXuVlpamS5cuSZIaGho0atQo3bhxw79nxYoVKikp8f9cUVGhBQsWJL2WWbNmadmyZYG/HwYIcBcBCLiL/Z2CnwBOnDhRZ8+elSR9+OGHGjt2rBobGyVJ58+fl+d5ikajSf/cnDlz9NJLL0mStm3bptzc3KTHb926pfT0dLW0tEiSqqurVV5ennTPgQMH5Hmerly5IkkaP368Nm/enHTP2rVrNW3atMDfDwMEuIsABNzF/h7gALxz545WrFihtLQ0ZWRkKC0tTevXr/cfb2trk+d5unz5ctI/99xzz6miokLS3YgsLi7u89x5eXlqaGiQJM2bN09Lly5Nevz06dPyPE+xWEySlJmZqe3btyfds2XLFo0dO/a+r7+np0eJRMK/Ojs7Qz9AgKsIQMBdBOAAB2BTU5MKCwvV1NSkkydP6q233tLo0aP15ptvSnr4A7C2tlae5/W5wjxAgKsIQMBdBOAAB2BhYaFef/31pK99//vf9/9u3sP+K2B+AgiEBwEIuIsAHOAAHD16tP9TunvWr1+voqIiSX96E0h9fb3/eCKR6PdNIMePH/fv2bdvX79vArl586Z/z8qVK/u8CaSsrCzptZSWlvImEACSCEDAZezvAQ7AmpoajRs3zv8YmJaWFo0ZM0avvPKKf09dXZ1yc3O1a9cunTx5UuXl5f1+DMyMGTN09OhRtba2qqioKOljYOLxuPLz81VdXa2Ojg7t2LFDw4cP7/MxMBkZGaqvr9eZM2dUW1vLx8AA8BGAgLvY3wMcgFevXtXy5cs1YcIE/4OgV61alfRxLfc+CDo/P1+RSERz58713zV8T1dXlyorKzVixAhlZ2dr8eLFX/pB0OPGjVNdXV2f19Pc3Kzi4mJlZWVpypQpfBA0AB8BCLiL/c1/Cs4IAwS4iwAE3MX+JgCNMECAuwhAwF3sbwLQCAMEuIsABNzF/iYAjTBAgLsIQMBd7G8C0AgDBLiLAATcxf4mAI0wQIC7CEDAXexvAtAIAwS4iwAE3MX+JgCNMECAuwhAwF3sbwLQCAMEuIsABNzF/iYAjTBAgLsIQMBd7G8C0AgDBLiLAATcxf4mAI0wQIC7CEDAXexvAtAIAwS4iwAE3MX+JgCNMECAuwhAwF3sbwLQCAMEPFyuXbumEydOWLkaGxvleZ4aGxutPee1a9dSfUQAxP6WCEAjDBDwcLn3U7uH9eKnicDDgf1NABphgICHi82fALa2tqqxsVGtra38BBBwDPubADTCAAEAMPiwvwlAIwwQAACDD/ubADTCAAEAMPiwvwlAIwwQAACDD/ubADTCAAEAMPiwvwlAIwwQAACDD/ubADTCAAEAMPiwvwlAIwwQAACDD/ubADTCAAEAMPiwvwlAIwwQAACDD/ubADTCAAEAMPiwvwlAIwwQAACDD/ubADTCAAEAMPiwvwlAIwwQAACDD/ubADQSj8fleZ46OzuVSCS4uLi4uLi4BsHV2dkpz/MUj8dTnRIpQwAauDdAXFxcXFxcXIPv6uzsTHVKpAwBaODOnTvq7OxUPB5P+f+b4eLisnvd+z94/ISfi8u9Kx6Pq7OzU3fu3El1SqQMAQgA/Ugk+DtCANxFAAJAPwhAAC4jAAGgHwQgAJcRgADQj56eHtXW1qqnpyfVLwUArCMAAQAAQoYABAAACBkCEAAAIGQIQAAAgJAhAAEAAEKGAASAzzl06JDKysr0yCOPyPM87dy5M9UvCQCsIwAB4HP27NmjVatWqaWlhQAE4CwCEADugwAE4CoCEADugwAE4CoCEADugwAE4CoCEADugwAE4CoCEADugwAE4CoCEADugwAE4CoCEAA+p7u7W9FoVNFoVJ7nadOmTYpGo7p48WKqXxoAWEMAAsDnHDx4UJ7n9blqampS/dIAwBoCEAAAIGQIQAAAgJAhAAEAAEKGAAQAAAgZAhAAACBkCEAAAICQIQABAABChgAEAAAIGQIQAAAgZAhAAACAkCEAAQAAQoYABAAACBkCEAAAIGQIQAAAgJAhAAEAAEKGAAQAAAgZAhAAACBkCEAAAICQIQABAABChgAEAAAIGQIQAAAgZAhAAACAkCEAAQAAQoYABAAACBkCEAAAIGQIQAAAgJAhAAEAAEKGAAQAAAgZAhAAACBkCEAAAICQIQABAABChgAEAAAImf8HcHyCFE/NFz0AAAAASUVORK5CYII=\" width=\"640\">"
      ],
      "text/plain": [
       "<IPython.core.display.HTML object>"
      ]
     },
     "metadata": {},
     "output_type": "display_data"
    },
    {
     "data": {
      "text/plain": [
       "{'whiskers': [<matplotlib.lines.Line2D at 0x7f3b1c0549e8>,\n",
       "  <matplotlib.lines.Line2D at 0x7f3b1c054d68>],\n",
       " 'caps': [<matplotlib.lines.Line2D at 0x7f3b1c060128>,\n",
       "  <matplotlib.lines.Line2D at 0x7f3b1c0604a8>],\n",
       " 'boxes': [<matplotlib.lines.Line2D at 0x7f3b1c054898>],\n",
       " 'medians': [<matplotlib.lines.Line2D at 0x7f3b1c060828>],\n",
       " 'fliers': [<matplotlib.lines.Line2D at 0x7f3b1c060ba8>],\n",
       " 'means': []}"
      ]
     },
     "execution_count": 26,
     "metadata": {},
     "output_type": "execute_result"
    }
   ],
   "source": []
  },
  {
   "cell_type": "code",
   "execution_count": 23,
   "metadata": {},
   "outputs": [
    {
     "data": {
      "application/javascript": [
       "/* Put everything inside the global mpl namespace */\n",
       "window.mpl = {};\n",
       "\n",
       "\n",
       "mpl.get_websocket_type = function() {\n",
       "    if (typeof(WebSocket) !== 'undefined') {\n",
       "        return WebSocket;\n",
       "    } else if (typeof(MozWebSocket) !== 'undefined') {\n",
       "        return MozWebSocket;\n",
       "    } else {\n",
       "        alert('Your browser does not have WebSocket support. ' +\n",
       "              'Please try Chrome, Safari or Firefox ≥ 6. ' +\n",
       "              'Firefox 4 and 5 are also supported but you ' +\n",
       "              'have to enable WebSockets in about:config.');\n",
       "    };\n",
       "}\n",
       "\n",
       "mpl.figure = function(figure_id, websocket, ondownload, parent_element) {\n",
       "    this.id = figure_id;\n",
       "\n",
       "    this.ws = websocket;\n",
       "\n",
       "    this.supports_binary = (this.ws.binaryType != undefined);\n",
       "\n",
       "    if (!this.supports_binary) {\n",
       "        var warnings = document.getElementById(\"mpl-warnings\");\n",
       "        if (warnings) {\n",
       "            warnings.style.display = 'block';\n",
       "            warnings.textContent = (\n",
       "                \"This browser does not support binary websocket messages. \" +\n",
       "                    \"Performance may be slow.\");\n",
       "        }\n",
       "    }\n",
       "\n",
       "    this.imageObj = new Image();\n",
       "\n",
       "    this.context = undefined;\n",
       "    this.message = undefined;\n",
       "    this.canvas = undefined;\n",
       "    this.rubberband_canvas = undefined;\n",
       "    this.rubberband_context = undefined;\n",
       "    this.format_dropdown = undefined;\n",
       "\n",
       "    this.image_mode = 'full';\n",
       "\n",
       "    this.root = $('<div/>');\n",
       "    this._root_extra_style(this.root)\n",
       "    this.root.attr('style', 'display: inline-block');\n",
       "\n",
       "    $(parent_element).append(this.root);\n",
       "\n",
       "    this._init_header(this);\n",
       "    this._init_canvas(this);\n",
       "    this._init_toolbar(this);\n",
       "\n",
       "    var fig = this;\n",
       "\n",
       "    this.waiting = false;\n",
       "\n",
       "    this.ws.onopen =  function () {\n",
       "            fig.send_message(\"supports_binary\", {value: fig.supports_binary});\n",
       "            fig.send_message(\"send_image_mode\", {});\n",
       "            if (mpl.ratio != 1) {\n",
       "                fig.send_message(\"set_dpi_ratio\", {'dpi_ratio': mpl.ratio});\n",
       "            }\n",
       "            fig.send_message(\"refresh\", {});\n",
       "        }\n",
       "\n",
       "    this.imageObj.onload = function() {\n",
       "            if (fig.image_mode == 'full') {\n",
       "                // Full images could contain transparency (where diff images\n",
       "                // almost always do), so we need to clear the canvas so that\n",
       "                // there is no ghosting.\n",
       "                fig.context.clearRect(0, 0, fig.canvas.width, fig.canvas.height);\n",
       "            }\n",
       "            fig.context.drawImage(fig.imageObj, 0, 0);\n",
       "        };\n",
       "\n",
       "    this.imageObj.onunload = function() {\n",
       "        fig.ws.close();\n",
       "    }\n",
       "\n",
       "    this.ws.onmessage = this._make_on_message_function(this);\n",
       "\n",
       "    this.ondownload = ondownload;\n",
       "}\n",
       "\n",
       "mpl.figure.prototype._init_header = function() {\n",
       "    var titlebar = $(\n",
       "        '<div class=\"ui-dialog-titlebar ui-widget-header ui-corner-all ' +\n",
       "        'ui-helper-clearfix\"/>');\n",
       "    var titletext = $(\n",
       "        '<div class=\"ui-dialog-title\" style=\"width: 100%; ' +\n",
       "        'text-align: center; padding: 3px;\"/>');\n",
       "    titlebar.append(titletext)\n",
       "    this.root.append(titlebar);\n",
       "    this.header = titletext[0];\n",
       "}\n",
       "\n",
       "\n",
       "\n",
       "mpl.figure.prototype._canvas_extra_style = function(canvas_div) {\n",
       "\n",
       "}\n",
       "\n",
       "\n",
       "mpl.figure.prototype._root_extra_style = function(canvas_div) {\n",
       "\n",
       "}\n",
       "\n",
       "mpl.figure.prototype._init_canvas = function() {\n",
       "    var fig = this;\n",
       "\n",
       "    var canvas_div = $('<div/>');\n",
       "\n",
       "    canvas_div.attr('style', 'position: relative; clear: both; outline: 0');\n",
       "\n",
       "    function canvas_keyboard_event(event) {\n",
       "        return fig.key_event(event, event['data']);\n",
       "    }\n",
       "\n",
       "    canvas_div.keydown('key_press', canvas_keyboard_event);\n",
       "    canvas_div.keyup('key_release', canvas_keyboard_event);\n",
       "    this.canvas_div = canvas_div\n",
       "    this._canvas_extra_style(canvas_div)\n",
       "    this.root.append(canvas_div);\n",
       "\n",
       "    var canvas = $('<canvas/>');\n",
       "    canvas.addClass('mpl-canvas');\n",
       "    canvas.attr('style', \"left: 0; top: 0; z-index: 0; outline: 0\")\n",
       "\n",
       "    this.canvas = canvas[0];\n",
       "    this.context = canvas[0].getContext(\"2d\");\n",
       "\n",
       "    var backingStore = this.context.backingStorePixelRatio ||\n",
       "\tthis.context.webkitBackingStorePixelRatio ||\n",
       "\tthis.context.mozBackingStorePixelRatio ||\n",
       "\tthis.context.msBackingStorePixelRatio ||\n",
       "\tthis.context.oBackingStorePixelRatio ||\n",
       "\tthis.context.backingStorePixelRatio || 1;\n",
       "\n",
       "    mpl.ratio = (window.devicePixelRatio || 1) / backingStore;\n",
       "\n",
       "    var rubberband = $('<canvas/>');\n",
       "    rubberband.attr('style', \"position: absolute; left: 0; top: 0; z-index: 1;\")\n",
       "\n",
       "    var pass_mouse_events = true;\n",
       "\n",
       "    canvas_div.resizable({\n",
       "        start: function(event, ui) {\n",
       "            pass_mouse_events = false;\n",
       "        },\n",
       "        resize: function(event, ui) {\n",
       "            fig.request_resize(ui.size.width, ui.size.height);\n",
       "        },\n",
       "        stop: function(event, ui) {\n",
       "            pass_mouse_events = true;\n",
       "            fig.request_resize(ui.size.width, ui.size.height);\n",
       "        },\n",
       "    });\n",
       "\n",
       "    function mouse_event_fn(event) {\n",
       "        if (pass_mouse_events)\n",
       "            return fig.mouse_event(event, event['data']);\n",
       "    }\n",
       "\n",
       "    rubberband.mousedown('button_press', mouse_event_fn);\n",
       "    rubberband.mouseup('button_release', mouse_event_fn);\n",
       "    // Throttle sequential mouse events to 1 every 20ms.\n",
       "    rubberband.mousemove('motion_notify', mouse_event_fn);\n",
       "\n",
       "    rubberband.mouseenter('figure_enter', mouse_event_fn);\n",
       "    rubberband.mouseleave('figure_leave', mouse_event_fn);\n",
       "\n",
       "    canvas_div.on(\"wheel\", function (event) {\n",
       "        event = event.originalEvent;\n",
       "        event['data'] = 'scroll'\n",
       "        if (event.deltaY < 0) {\n",
       "            event.step = 1;\n",
       "        } else {\n",
       "            event.step = -1;\n",
       "        }\n",
       "        mouse_event_fn(event);\n",
       "    });\n",
       "\n",
       "    canvas_div.append(canvas);\n",
       "    canvas_div.append(rubberband);\n",
       "\n",
       "    this.rubberband = rubberband;\n",
       "    this.rubberband_canvas = rubberband[0];\n",
       "    this.rubberband_context = rubberband[0].getContext(\"2d\");\n",
       "    this.rubberband_context.strokeStyle = \"#000000\";\n",
       "\n",
       "    this._resize_canvas = function(width, height) {\n",
       "        // Keep the size of the canvas, canvas container, and rubber band\n",
       "        // canvas in synch.\n",
       "        canvas_div.css('width', width)\n",
       "        canvas_div.css('height', height)\n",
       "\n",
       "        canvas.attr('width', width * mpl.ratio);\n",
       "        canvas.attr('height', height * mpl.ratio);\n",
       "        canvas.attr('style', 'width: ' + width + 'px; height: ' + height + 'px;');\n",
       "\n",
       "        rubberband.attr('width', width);\n",
       "        rubberband.attr('height', height);\n",
       "    }\n",
       "\n",
       "    // Set the figure to an initial 600x600px, this will subsequently be updated\n",
       "    // upon first draw.\n",
       "    this._resize_canvas(600, 600);\n",
       "\n",
       "    // Disable right mouse context menu.\n",
       "    $(this.rubberband_canvas).bind(\"contextmenu\",function(e){\n",
       "        return false;\n",
       "    });\n",
       "\n",
       "    function set_focus () {\n",
       "        canvas.focus();\n",
       "        canvas_div.focus();\n",
       "    }\n",
       "\n",
       "    window.setTimeout(set_focus, 100);\n",
       "}\n",
       "\n",
       "mpl.figure.prototype._init_toolbar = function() {\n",
       "    var fig = this;\n",
       "\n",
       "    var nav_element = $('<div/>');\n",
       "    nav_element.attr('style', 'width: 100%');\n",
       "    this.root.append(nav_element);\n",
       "\n",
       "    // Define a callback function for later on.\n",
       "    function toolbar_event(event) {\n",
       "        return fig.toolbar_button_onclick(event['data']);\n",
       "    }\n",
       "    function toolbar_mouse_event(event) {\n",
       "        return fig.toolbar_button_onmouseover(event['data']);\n",
       "    }\n",
       "\n",
       "    for(var toolbar_ind in mpl.toolbar_items) {\n",
       "        var name = mpl.toolbar_items[toolbar_ind][0];\n",
       "        var tooltip = mpl.toolbar_items[toolbar_ind][1];\n",
       "        var image = mpl.toolbar_items[toolbar_ind][2];\n",
       "        var method_name = mpl.toolbar_items[toolbar_ind][3];\n",
       "\n",
       "        if (!name) {\n",
       "            // put a spacer in here.\n",
       "            continue;\n",
       "        }\n",
       "        var button = $('<button/>');\n",
       "        button.addClass('ui-button ui-widget ui-state-default ui-corner-all ' +\n",
       "                        'ui-button-icon-only');\n",
       "        button.attr('role', 'button');\n",
       "        button.attr('aria-disabled', 'false');\n",
       "        button.click(method_name, toolbar_event);\n",
       "        button.mouseover(tooltip, toolbar_mouse_event);\n",
       "\n",
       "        var icon_img = $('<span/>');\n",
       "        icon_img.addClass('ui-button-icon-primary ui-icon');\n",
       "        icon_img.addClass(image);\n",
       "        icon_img.addClass('ui-corner-all');\n",
       "\n",
       "        var tooltip_span = $('<span/>');\n",
       "        tooltip_span.addClass('ui-button-text');\n",
       "        tooltip_span.html(tooltip);\n",
       "\n",
       "        button.append(icon_img);\n",
       "        button.append(tooltip_span);\n",
       "\n",
       "        nav_element.append(button);\n",
       "    }\n",
       "\n",
       "    var fmt_picker_span = $('<span/>');\n",
       "\n",
       "    var fmt_picker = $('<select/>');\n",
       "    fmt_picker.addClass('mpl-toolbar-option ui-widget ui-widget-content');\n",
       "    fmt_picker_span.append(fmt_picker);\n",
       "    nav_element.append(fmt_picker_span);\n",
       "    this.format_dropdown = fmt_picker[0];\n",
       "\n",
       "    for (var ind in mpl.extensions) {\n",
       "        var fmt = mpl.extensions[ind];\n",
       "        var option = $(\n",
       "            '<option/>', {selected: fmt === mpl.default_extension}).html(fmt);\n",
       "        fmt_picker.append(option);\n",
       "    }\n",
       "\n",
       "    // Add hover states to the ui-buttons\n",
       "    $( \".ui-button\" ).hover(\n",
       "        function() { $(this).addClass(\"ui-state-hover\");},\n",
       "        function() { $(this).removeClass(\"ui-state-hover\");}\n",
       "    );\n",
       "\n",
       "    var status_bar = $('<span class=\"mpl-message\"/>');\n",
       "    nav_element.append(status_bar);\n",
       "    this.message = status_bar[0];\n",
       "}\n",
       "\n",
       "mpl.figure.prototype.request_resize = function(x_pixels, y_pixels) {\n",
       "    // Request matplotlib to resize the figure. Matplotlib will then trigger a resize in the client,\n",
       "    // which will in turn request a refresh of the image.\n",
       "    this.send_message('resize', {'width': x_pixels, 'height': y_pixels});\n",
       "}\n",
       "\n",
       "mpl.figure.prototype.send_message = function(type, properties) {\n",
       "    properties['type'] = type;\n",
       "    properties['figure_id'] = this.id;\n",
       "    this.ws.send(JSON.stringify(properties));\n",
       "}\n",
       "\n",
       "mpl.figure.prototype.send_draw_message = function() {\n",
       "    if (!this.waiting) {\n",
       "        this.waiting = true;\n",
       "        this.ws.send(JSON.stringify({type: \"draw\", figure_id: this.id}));\n",
       "    }\n",
       "}\n",
       "\n",
       "\n",
       "mpl.figure.prototype.handle_save = function(fig, msg) {\n",
       "    var format_dropdown = fig.format_dropdown;\n",
       "    var format = format_dropdown.options[format_dropdown.selectedIndex].value;\n",
       "    fig.ondownload(fig, format);\n",
       "}\n",
       "\n",
       "\n",
       "mpl.figure.prototype.handle_resize = function(fig, msg) {\n",
       "    var size = msg['size'];\n",
       "    if (size[0] != fig.canvas.width || size[1] != fig.canvas.height) {\n",
       "        fig._resize_canvas(size[0], size[1]);\n",
       "        fig.send_message(\"refresh\", {});\n",
       "    };\n",
       "}\n",
       "\n",
       "mpl.figure.prototype.handle_rubberband = function(fig, msg) {\n",
       "    var x0 = msg['x0'] / mpl.ratio;\n",
       "    var y0 = (fig.canvas.height - msg['y0']) / mpl.ratio;\n",
       "    var x1 = msg['x1'] / mpl.ratio;\n",
       "    var y1 = (fig.canvas.height - msg['y1']) / mpl.ratio;\n",
       "    x0 = Math.floor(x0) + 0.5;\n",
       "    y0 = Math.floor(y0) + 0.5;\n",
       "    x1 = Math.floor(x1) + 0.5;\n",
       "    y1 = Math.floor(y1) + 0.5;\n",
       "    var min_x = Math.min(x0, x1);\n",
       "    var min_y = Math.min(y0, y1);\n",
       "    var width = Math.abs(x1 - x0);\n",
       "    var height = Math.abs(y1 - y0);\n",
       "\n",
       "    fig.rubberband_context.clearRect(\n",
       "        0, 0, fig.canvas.width / mpl.ratio, fig.canvas.height / mpl.ratio);\n",
       "\n",
       "    fig.rubberband_context.strokeRect(min_x, min_y, width, height);\n",
       "}\n",
       "\n",
       "mpl.figure.prototype.handle_figure_label = function(fig, msg) {\n",
       "    // Updates the figure title.\n",
       "    fig.header.textContent = msg['label'];\n",
       "}\n",
       "\n",
       "mpl.figure.prototype.handle_cursor = function(fig, msg) {\n",
       "    var cursor = msg['cursor'];\n",
       "    switch(cursor)\n",
       "    {\n",
       "    case 0:\n",
       "        cursor = 'pointer';\n",
       "        break;\n",
       "    case 1:\n",
       "        cursor = 'default';\n",
       "        break;\n",
       "    case 2:\n",
       "        cursor = 'crosshair';\n",
       "        break;\n",
       "    case 3:\n",
       "        cursor = 'move';\n",
       "        break;\n",
       "    }\n",
       "    fig.rubberband_canvas.style.cursor = cursor;\n",
       "}\n",
       "\n",
       "mpl.figure.prototype.handle_message = function(fig, msg) {\n",
       "    fig.message.textContent = msg['message'];\n",
       "}\n",
       "\n",
       "mpl.figure.prototype.handle_draw = function(fig, msg) {\n",
       "    // Request the server to send over a new figure.\n",
       "    fig.send_draw_message();\n",
       "}\n",
       "\n",
       "mpl.figure.prototype.handle_image_mode = function(fig, msg) {\n",
       "    fig.image_mode = msg['mode'];\n",
       "}\n",
       "\n",
       "mpl.figure.prototype.updated_canvas_event = function() {\n",
       "    // Called whenever the canvas gets updated.\n",
       "    this.send_message(\"ack\", {});\n",
       "}\n",
       "\n",
       "// A function to construct a web socket function for onmessage handling.\n",
       "// Called in the figure constructor.\n",
       "mpl.figure.prototype._make_on_message_function = function(fig) {\n",
       "    return function socket_on_message(evt) {\n",
       "        if (evt.data instanceof Blob) {\n",
       "            /* FIXME: We get \"Resource interpreted as Image but\n",
       "             * transferred with MIME type text/plain:\" errors on\n",
       "             * Chrome.  But how to set the MIME type?  It doesn't seem\n",
       "             * to be part of the websocket stream */\n",
       "            evt.data.type = \"image/png\";\n",
       "\n",
       "            /* Free the memory for the previous frames */\n",
       "            if (fig.imageObj.src) {\n",
       "                (window.URL || window.webkitURL).revokeObjectURL(\n",
       "                    fig.imageObj.src);\n",
       "            }\n",
       "\n",
       "            fig.imageObj.src = (window.URL || window.webkitURL).createObjectURL(\n",
       "                evt.data);\n",
       "            fig.updated_canvas_event();\n",
       "            fig.waiting = false;\n",
       "            return;\n",
       "        }\n",
       "        else if (typeof evt.data === 'string' && evt.data.slice(0, 21) == \"data:image/png;base64\") {\n",
       "            fig.imageObj.src = evt.data;\n",
       "            fig.updated_canvas_event();\n",
       "            fig.waiting = false;\n",
       "            return;\n",
       "        }\n",
       "\n",
       "        var msg = JSON.parse(evt.data);\n",
       "        var msg_type = msg['type'];\n",
       "\n",
       "        // Call the  \"handle_{type}\" callback, which takes\n",
       "        // the figure and JSON message as its only arguments.\n",
       "        try {\n",
       "            var callback = fig[\"handle_\" + msg_type];\n",
       "        } catch (e) {\n",
       "            console.log(\"No handler for the '\" + msg_type + \"' message type: \", msg);\n",
       "            return;\n",
       "        }\n",
       "\n",
       "        if (callback) {\n",
       "            try {\n",
       "                // console.log(\"Handling '\" + msg_type + \"' message: \", msg);\n",
       "                callback(fig, msg);\n",
       "            } catch (e) {\n",
       "                console.log(\"Exception inside the 'handler_\" + msg_type + \"' callback:\", e, e.stack, msg);\n",
       "            }\n",
       "        }\n",
       "    };\n",
       "}\n",
       "\n",
       "// from http://stackoverflow.com/questions/1114465/getting-mouse-location-in-canvas\n",
       "mpl.findpos = function(e) {\n",
       "    //this section is from http://www.quirksmode.org/js/events_properties.html\n",
       "    var targ;\n",
       "    if (!e)\n",
       "        e = window.event;\n",
       "    if (e.target)\n",
       "        targ = e.target;\n",
       "    else if (e.srcElement)\n",
       "        targ = e.srcElement;\n",
       "    if (targ.nodeType == 3) // defeat Safari bug\n",
       "        targ = targ.parentNode;\n",
       "\n",
       "    // jQuery normalizes the pageX and pageY\n",
       "    // pageX,Y are the mouse positions relative to the document\n",
       "    // offset() returns the position of the element relative to the document\n",
       "    var x = e.pageX - $(targ).offset().left;\n",
       "    var y = e.pageY - $(targ).offset().top;\n",
       "\n",
       "    return {\"x\": x, \"y\": y};\n",
       "};\n",
       "\n",
       "/*\n",
       " * return a copy of an object with only non-object keys\n",
       " * we need this to avoid circular references\n",
       " * http://stackoverflow.com/a/24161582/3208463\n",
       " */\n",
       "function simpleKeys (original) {\n",
       "  return Object.keys(original).reduce(function (obj, key) {\n",
       "    if (typeof original[key] !== 'object')\n",
       "        obj[key] = original[key]\n",
       "    return obj;\n",
       "  }, {});\n",
       "}\n",
       "\n",
       "mpl.figure.prototype.mouse_event = function(event, name) {\n",
       "    var canvas_pos = mpl.findpos(event)\n",
       "\n",
       "    if (name === 'button_press')\n",
       "    {\n",
       "        this.canvas.focus();\n",
       "        this.canvas_div.focus();\n",
       "    }\n",
       "\n",
       "    var x = canvas_pos.x * mpl.ratio;\n",
       "    var y = canvas_pos.y * mpl.ratio;\n",
       "\n",
       "    this.send_message(name, {x: x, y: y, button: event.button,\n",
       "                             step: event.step,\n",
       "                             guiEvent: simpleKeys(event)});\n",
       "\n",
       "    /* This prevents the web browser from automatically changing to\n",
       "     * the text insertion cursor when the button is pressed.  We want\n",
       "     * to control all of the cursor setting manually through the\n",
       "     * 'cursor' event from matplotlib */\n",
       "    event.preventDefault();\n",
       "    return false;\n",
       "}\n",
       "\n",
       "mpl.figure.prototype._key_event_extra = function(event, name) {\n",
       "    // Handle any extra behaviour associated with a key event\n",
       "}\n",
       "\n",
       "mpl.figure.prototype.key_event = function(event, name) {\n",
       "\n",
       "    // Prevent repeat events\n",
       "    if (name == 'key_press')\n",
       "    {\n",
       "        if (event.which === this._key)\n",
       "            return;\n",
       "        else\n",
       "            this._key = event.which;\n",
       "    }\n",
       "    if (name == 'key_release')\n",
       "        this._key = null;\n",
       "\n",
       "    var value = '';\n",
       "    if (event.ctrlKey && event.which != 17)\n",
       "        value += \"ctrl+\";\n",
       "    if (event.altKey && event.which != 18)\n",
       "        value += \"alt+\";\n",
       "    if (event.shiftKey && event.which != 16)\n",
       "        value += \"shift+\";\n",
       "\n",
       "    value += 'k';\n",
       "    value += event.which.toString();\n",
       "\n",
       "    this._key_event_extra(event, name);\n",
       "\n",
       "    this.send_message(name, {key: value,\n",
       "                             guiEvent: simpleKeys(event)});\n",
       "    return false;\n",
       "}\n",
       "\n",
       "mpl.figure.prototype.toolbar_button_onclick = function(name) {\n",
       "    if (name == 'download') {\n",
       "        this.handle_save(this, null);\n",
       "    } else {\n",
       "        this.send_message(\"toolbar_button\", {name: name});\n",
       "    }\n",
       "};\n",
       "\n",
       "mpl.figure.prototype.toolbar_button_onmouseover = function(tooltip) {\n",
       "    this.message.textContent = tooltip;\n",
       "};\n",
       "mpl.toolbar_items = [[\"Home\", \"Reset original view\", \"fa fa-home icon-home\", \"home\"], [\"Back\", \"Back to previous view\", \"fa fa-arrow-left icon-arrow-left\", \"back\"], [\"Forward\", \"Forward to next view\", \"fa fa-arrow-right icon-arrow-right\", \"forward\"], [\"\", \"\", \"\", \"\"], [\"Pan\", \"Pan axes with left mouse, zoom with right\", \"fa fa-arrows icon-move\", \"pan\"], [\"Zoom\", \"Zoom to rectangle\", \"fa fa-square-o icon-check-empty\", \"zoom\"], [\"\", \"\", \"\", \"\"], [\"Download\", \"Download plot\", \"fa fa-floppy-o icon-save\", \"download\"]];\n",
       "\n",
       "mpl.extensions = [\"eps\", \"jpeg\", \"pdf\", \"png\", \"ps\", \"raw\", \"svg\", \"tif\"];\n",
       "\n",
       "mpl.default_extension = \"png\";var comm_websocket_adapter = function(comm) {\n",
       "    // Create a \"websocket\"-like object which calls the given IPython comm\n",
       "    // object with the appropriate methods. Currently this is a non binary\n",
       "    // socket, so there is still some room for performance tuning.\n",
       "    var ws = {};\n",
       "\n",
       "    ws.close = function() {\n",
       "        comm.close()\n",
       "    };\n",
       "    ws.send = function(m) {\n",
       "        //console.log('sending', m);\n",
       "        comm.send(m);\n",
       "    };\n",
       "    // Register the callback with on_msg.\n",
       "    comm.on_msg(function(msg) {\n",
       "        //console.log('receiving', msg['content']['data'], msg);\n",
       "        // Pass the mpl event to the overridden (by mpl) onmessage function.\n",
       "        ws.onmessage(msg['content']['data'])\n",
       "    });\n",
       "    return ws;\n",
       "}\n",
       "\n",
       "mpl.mpl_figure_comm = function(comm, msg) {\n",
       "    // This is the function which gets called when the mpl process\n",
       "    // starts-up an IPython Comm through the \"matplotlib\" channel.\n",
       "\n",
       "    var id = msg.content.data.id;\n",
       "    // Get hold of the div created by the display call when the Comm\n",
       "    // socket was opened in Python.\n",
       "    var element = $(\"#\" + id);\n",
       "    var ws_proxy = comm_websocket_adapter(comm)\n",
       "\n",
       "    function ondownload(figure, format) {\n",
       "        window.open(figure.imageObj.src);\n",
       "    }\n",
       "\n",
       "    var fig = new mpl.figure(id, ws_proxy,\n",
       "                           ondownload,\n",
       "                           element.get(0));\n",
       "\n",
       "    // Call onopen now - mpl needs it, as it is assuming we've passed it a real\n",
       "    // web socket which is closed, not our websocket->open comm proxy.\n",
       "    ws_proxy.onopen();\n",
       "\n",
       "    fig.parent_element = element.get(0);\n",
       "    fig.cell_info = mpl.find_output_cell(\"<div id='\" + id + \"'></div>\");\n",
       "    if (!fig.cell_info) {\n",
       "        console.error(\"Failed to find cell for figure\", id, fig);\n",
       "        return;\n",
       "    }\n",
       "\n",
       "    var output_index = fig.cell_info[2]\n",
       "    var cell = fig.cell_info[0];\n",
       "\n",
       "};\n",
       "\n",
       "mpl.figure.prototype.handle_close = function(fig, msg) {\n",
       "    var width = fig.canvas.width/mpl.ratio\n",
       "    fig.root.unbind('remove')\n",
       "\n",
       "    // Update the output cell to use the data from the current canvas.\n",
       "    fig.push_to_output();\n",
       "    var dataURL = fig.canvas.toDataURL();\n",
       "    // Re-enable the keyboard manager in IPython - without this line, in FF,\n",
       "    // the notebook keyboard shortcuts fail.\n",
       "    IPython.keyboard_manager.enable()\n",
       "    $(fig.parent_element).html('<img src=\"' + dataURL + '\" width=\"' + width + '\">');\n",
       "    fig.close_ws(fig, msg);\n",
       "}\n",
       "\n",
       "mpl.figure.prototype.close_ws = function(fig, msg){\n",
       "    fig.send_message('closing', msg);\n",
       "    // fig.ws.close()\n",
       "}\n",
       "\n",
       "mpl.figure.prototype.push_to_output = function(remove_interactive) {\n",
       "    // Turn the data on the canvas into data in the output cell.\n",
       "    var width = this.canvas.width/mpl.ratio\n",
       "    var dataURL = this.canvas.toDataURL();\n",
       "    this.cell_info[1]['text/html'] = '<img src=\"' + dataURL + '\" width=\"' + width + '\">';\n",
       "}\n",
       "\n",
       "mpl.figure.prototype.updated_canvas_event = function() {\n",
       "    // Tell IPython that the notebook contents must change.\n",
       "    IPython.notebook.set_dirty(true);\n",
       "    this.send_message(\"ack\", {});\n",
       "    var fig = this;\n",
       "    // Wait a second, then push the new image to the DOM so\n",
       "    // that it is saved nicely (might be nice to debounce this).\n",
       "    setTimeout(function () { fig.push_to_output() }, 1000);\n",
       "}\n",
       "\n",
       "mpl.figure.prototype._init_toolbar = function() {\n",
       "    var fig = this;\n",
       "\n",
       "    var nav_element = $('<div/>');\n",
       "    nav_element.attr('style', 'width: 100%');\n",
       "    this.root.append(nav_element);\n",
       "\n",
       "    // Define a callback function for later on.\n",
       "    function toolbar_event(event) {\n",
       "        return fig.toolbar_button_onclick(event['data']);\n",
       "    }\n",
       "    function toolbar_mouse_event(event) {\n",
       "        return fig.toolbar_button_onmouseover(event['data']);\n",
       "    }\n",
       "\n",
       "    for(var toolbar_ind in mpl.toolbar_items){\n",
       "        var name = mpl.toolbar_items[toolbar_ind][0];\n",
       "        var tooltip = mpl.toolbar_items[toolbar_ind][1];\n",
       "        var image = mpl.toolbar_items[toolbar_ind][2];\n",
       "        var method_name = mpl.toolbar_items[toolbar_ind][3];\n",
       "\n",
       "        if (!name) { continue; };\n",
       "\n",
       "        var button = $('<button class=\"btn btn-default\" href=\"#\" title=\"' + name + '\"><i class=\"fa ' + image + ' fa-lg\"></i></button>');\n",
       "        button.click(method_name, toolbar_event);\n",
       "        button.mouseover(tooltip, toolbar_mouse_event);\n",
       "        nav_element.append(button);\n",
       "    }\n",
       "\n",
       "    // Add the status bar.\n",
       "    var status_bar = $('<span class=\"mpl-message\" style=\"text-align:right; float: right;\"/>');\n",
       "    nav_element.append(status_bar);\n",
       "    this.message = status_bar[0];\n",
       "\n",
       "    // Add the close button to the window.\n",
       "    var buttongrp = $('<div class=\"btn-group inline pull-right\"></div>');\n",
       "    var button = $('<button class=\"btn btn-mini btn-primary\" href=\"#\" title=\"Stop Interaction\"><i class=\"fa fa-power-off icon-remove icon-large\"></i></button>');\n",
       "    button.click(function (evt) { fig.handle_close(fig, {}); } );\n",
       "    button.mouseover('Stop Interaction', toolbar_mouse_event);\n",
       "    buttongrp.append(button);\n",
       "    var titlebar = this.root.find($('.ui-dialog-titlebar'));\n",
       "    titlebar.prepend(buttongrp);\n",
       "}\n",
       "\n",
       "mpl.figure.prototype._root_extra_style = function(el){\n",
       "    var fig = this\n",
       "    el.on(\"remove\", function(){\n",
       "\tfig.close_ws(fig, {});\n",
       "    });\n",
       "}\n",
       "\n",
       "mpl.figure.prototype._canvas_extra_style = function(el){\n",
       "    // this is important to make the div 'focusable\n",
       "    el.attr('tabindex', 0)\n",
       "    // reach out to IPython and tell the keyboard manager to turn it's self\n",
       "    // off when our div gets focus\n",
       "\n",
       "    // location in version 3\n",
       "    if (IPython.notebook.keyboard_manager) {\n",
       "        IPython.notebook.keyboard_manager.register_events(el);\n",
       "    }\n",
       "    else {\n",
       "        // location in version 2\n",
       "        IPython.keyboard_manager.register_events(el);\n",
       "    }\n",
       "\n",
       "}\n",
       "\n",
       "mpl.figure.prototype._key_event_extra = function(event, name) {\n",
       "    var manager = IPython.notebook.keyboard_manager;\n",
       "    if (!manager)\n",
       "        manager = IPython.keyboard_manager;\n",
       "\n",
       "    // Check for shift+enter\n",
       "    if (event.shiftKey && event.which == 13) {\n",
       "        this.canvas_div.blur();\n",
       "        // select the cell after this one\n",
       "        var index = IPython.notebook.find_cell_index(this.cell_info[0]);\n",
       "        IPython.notebook.select(index + 1);\n",
       "    }\n",
       "}\n",
       "\n",
       "mpl.figure.prototype.handle_save = function(fig, msg) {\n",
       "    fig.ondownload(fig, null);\n",
       "}\n",
       "\n",
       "\n",
       "mpl.find_output_cell = function(html_output) {\n",
       "    // Return the cell and output element which can be found *uniquely* in the notebook.\n",
       "    // Note - this is a bit hacky, but it is done because the \"notebook_saving.Notebook\"\n",
       "    // IPython event is triggered only after the cells have been serialised, which for\n",
       "    // our purposes (turning an active figure into a static one), is too late.\n",
       "    var cells = IPython.notebook.get_cells();\n",
       "    var ncells = cells.length;\n",
       "    for (var i=0; i<ncells; i++) {\n",
       "        var cell = cells[i];\n",
       "        if (cell.cell_type === 'code'){\n",
       "            for (var j=0; j<cell.output_area.outputs.length; j++) {\n",
       "                var data = cell.output_area.outputs[j];\n",
       "                if (data.data) {\n",
       "                    // IPython >= 3 moved mimebundle to data attribute of output\n",
       "                    data = data.data;\n",
       "                }\n",
       "                if (data['text/html'] == html_output) {\n",
       "                    return [cell, data, j];\n",
       "                }\n",
       "            }\n",
       "        }\n",
       "    }\n",
       "}\n",
       "\n",
       "// Register the function which deals with the matplotlib target/channel.\n",
       "// The kernel may be null if the page has been refreshed.\n",
       "if (IPython.notebook.kernel != null) {\n",
       "    IPython.notebook.kernel.comm_manager.register_target('matplotlib', mpl.mpl_figure_comm);\n",
       "}\n"
      ],
      "text/plain": [
       "<IPython.core.display.Javascript object>"
      ]
     },
     "metadata": {},
     "output_type": "display_data"
    },
    {
     "data": {
      "text/html": [
       "<img src=\"data:image/png;base64,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\" width=\"640\">"
      ],
      "text/plain": [
       "<IPython.core.display.HTML object>"
      ]
     },
     "metadata": {},
     "output_type": "display_data"
    },
    {
     "data": {
      "text/plain": [
       "{'whiskers': [<matplotlib.lines.Line2D at 0x7f3b1c118908>,\n",
       "  <matplotlib.lines.Line2D at 0x7f3b1c118c88>],\n",
       " 'caps': [<matplotlib.lines.Line2D at 0x7f3b1c122048>,\n",
       "  <matplotlib.lines.Line2D at 0x7f3b1c1223c8>],\n",
       " 'boxes': [<matplotlib.lines.Line2D at 0x7f3b1c1187b8>],\n",
       " 'medians': [<matplotlib.lines.Line2D at 0x7f3b1c122748>],\n",
       " 'fliers': [<matplotlib.lines.Line2D at 0x7f3b1c122ac8>],\n",
       " 'means': []}"
      ]
     },
     "execution_count": 23,
     "metadata": {},
     "output_type": "execute_result"
    }
   ],
   "source": [
    "rms_df = non_silent_measures[non_silent_measures['measurement']=='rms']\n",
    "\n",
    "plt.figure()\n",
    "plt.boxplot(dB(rms_df['value']))"
   ]
  },
  {
   "cell_type": "code",
   "execution_count": 25,
   "metadata": {},
   "outputs": [
    {
     "data": {
      "application/javascript": [
       "/* Put everything inside the global mpl namespace */\n",
       "window.mpl = {};\n",
       "\n",
       "\n",
       "mpl.get_websocket_type = function() {\n",
       "    if (typeof(WebSocket) !== 'undefined') {\n",
       "        return WebSocket;\n",
       "    } else if (typeof(MozWebSocket) !== 'undefined') {\n",
       "        return MozWebSocket;\n",
       "    } else {\n",
       "        alert('Your browser does not have WebSocket support. ' +\n",
       "              'Please try Chrome, Safari or Firefox ≥ 6. ' +\n",
       "              'Firefox 4 and 5 are also supported but you ' +\n",
       "              'have to enable WebSockets in about:config.');\n",
       "    };\n",
       "}\n",
       "\n",
       "mpl.figure = function(figure_id, websocket, ondownload, parent_element) {\n",
       "    this.id = figure_id;\n",
       "\n",
       "    this.ws = websocket;\n",
       "\n",
       "    this.supports_binary = (this.ws.binaryType != undefined);\n",
       "\n",
       "    if (!this.supports_binary) {\n",
       "        var warnings = document.getElementById(\"mpl-warnings\");\n",
       "        if (warnings) {\n",
       "            warnings.style.display = 'block';\n",
       "            warnings.textContent = (\n",
       "                \"This browser does not support binary websocket messages. \" +\n",
       "                    \"Performance may be slow.\");\n",
       "        }\n",
       "    }\n",
       "\n",
       "    this.imageObj = new Image();\n",
       "\n",
       "    this.context = undefined;\n",
       "    this.message = undefined;\n",
       "    this.canvas = undefined;\n",
       "    this.rubberband_canvas = undefined;\n",
       "    this.rubberband_context = undefined;\n",
       "    this.format_dropdown = undefined;\n",
       "\n",
       "    this.image_mode = 'full';\n",
       "\n",
       "    this.root = $('<div/>');\n",
       "    this._root_extra_style(this.root)\n",
       "    this.root.attr('style', 'display: inline-block');\n",
       "\n",
       "    $(parent_element).append(this.root);\n",
       "\n",
       "    this._init_header(this);\n",
       "    this._init_canvas(this);\n",
       "    this._init_toolbar(this);\n",
       "\n",
       "    var fig = this;\n",
       "\n",
       "    this.waiting = false;\n",
       "\n",
       "    this.ws.onopen =  function () {\n",
       "            fig.send_message(\"supports_binary\", {value: fig.supports_binary});\n",
       "            fig.send_message(\"send_image_mode\", {});\n",
       "            if (mpl.ratio != 1) {\n",
       "                fig.send_message(\"set_dpi_ratio\", {'dpi_ratio': mpl.ratio});\n",
       "            }\n",
       "            fig.send_message(\"refresh\", {});\n",
       "        }\n",
       "\n",
       "    this.imageObj.onload = function() {\n",
       "            if (fig.image_mode == 'full') {\n",
       "                // Full images could contain transparency (where diff images\n",
       "                // almost always do), so we need to clear the canvas so that\n",
       "                // there is no ghosting.\n",
       "                fig.context.clearRect(0, 0, fig.canvas.width, fig.canvas.height);\n",
       "            }\n",
       "            fig.context.drawImage(fig.imageObj, 0, 0);\n",
       "        };\n",
       "\n",
       "    this.imageObj.onunload = function() {\n",
       "        fig.ws.close();\n",
       "    }\n",
       "\n",
       "    this.ws.onmessage = this._make_on_message_function(this);\n",
       "\n",
       "    this.ondownload = ondownload;\n",
       "}\n",
       "\n",
       "mpl.figure.prototype._init_header = function() {\n",
       "    var titlebar = $(\n",
       "        '<div class=\"ui-dialog-titlebar ui-widget-header ui-corner-all ' +\n",
       "        'ui-helper-clearfix\"/>');\n",
       "    var titletext = $(\n",
       "        '<div class=\"ui-dialog-title\" style=\"width: 100%; ' +\n",
       "        'text-align: center; padding: 3px;\"/>');\n",
       "    titlebar.append(titletext)\n",
       "    this.root.append(titlebar);\n",
       "    this.header = titletext[0];\n",
       "}\n",
       "\n",
       "\n",
       "\n",
       "mpl.figure.prototype._canvas_extra_style = function(canvas_div) {\n",
       "\n",
       "}\n",
       "\n",
       "\n",
       "mpl.figure.prototype._root_extra_style = function(canvas_div) {\n",
       "\n",
       "}\n",
       "\n",
       "mpl.figure.prototype._init_canvas = function() {\n",
       "    var fig = this;\n",
       "\n",
       "    var canvas_div = $('<div/>');\n",
       "\n",
       "    canvas_div.attr('style', 'position: relative; clear: both; outline: 0');\n",
       "\n",
       "    function canvas_keyboard_event(event) {\n",
       "        return fig.key_event(event, event['data']);\n",
       "    }\n",
       "\n",
       "    canvas_div.keydown('key_press', canvas_keyboard_event);\n",
       "    canvas_div.keyup('key_release', canvas_keyboard_event);\n",
       "    this.canvas_div = canvas_div\n",
       "    this._canvas_extra_style(canvas_div)\n",
       "    this.root.append(canvas_div);\n",
       "\n",
       "    var canvas = $('<canvas/>');\n",
       "    canvas.addClass('mpl-canvas');\n",
       "    canvas.attr('style', \"left: 0; top: 0; z-index: 0; outline: 0\")\n",
       "\n",
       "    this.canvas = canvas[0];\n",
       "    this.context = canvas[0].getContext(\"2d\");\n",
       "\n",
       "    var backingStore = this.context.backingStorePixelRatio ||\n",
       "\tthis.context.webkitBackingStorePixelRatio ||\n",
       "\tthis.context.mozBackingStorePixelRatio ||\n",
       "\tthis.context.msBackingStorePixelRatio ||\n",
       "\tthis.context.oBackingStorePixelRatio ||\n",
       "\tthis.context.backingStorePixelRatio || 1;\n",
       "\n",
       "    mpl.ratio = (window.devicePixelRatio || 1) / backingStore;\n",
       "\n",
       "    var rubberband = $('<canvas/>');\n",
       "    rubberband.attr('style', \"position: absolute; left: 0; top: 0; z-index: 1;\")\n",
       "\n",
       "    var pass_mouse_events = true;\n",
       "\n",
       "    canvas_div.resizable({\n",
       "        start: function(event, ui) {\n",
       "            pass_mouse_events = false;\n",
       "        },\n",
       "        resize: function(event, ui) {\n",
       "            fig.request_resize(ui.size.width, ui.size.height);\n",
       "        },\n",
       "        stop: function(event, ui) {\n",
       "            pass_mouse_events = true;\n",
       "            fig.request_resize(ui.size.width, ui.size.height);\n",
       "        },\n",
       "    });\n",
       "\n",
       "    function mouse_event_fn(event) {\n",
       "        if (pass_mouse_events)\n",
       "            return fig.mouse_event(event, event['data']);\n",
       "    }\n",
       "\n",
       "    rubberband.mousedown('button_press', mouse_event_fn);\n",
       "    rubberband.mouseup('button_release', mouse_event_fn);\n",
       "    // Throttle sequential mouse events to 1 every 20ms.\n",
       "    rubberband.mousemove('motion_notify', mouse_event_fn);\n",
       "\n",
       "    rubberband.mouseenter('figure_enter', mouse_event_fn);\n",
       "    rubberband.mouseleave('figure_leave', mouse_event_fn);\n",
       "\n",
       "    canvas_div.on(\"wheel\", function (event) {\n",
       "        event = event.originalEvent;\n",
       "        event['data'] = 'scroll'\n",
       "        if (event.deltaY < 0) {\n",
       "            event.step = 1;\n",
       "        } else {\n",
       "            event.step = -1;\n",
       "        }\n",
       "        mouse_event_fn(event);\n",
       "    });\n",
       "\n",
       "    canvas_div.append(canvas);\n",
       "    canvas_div.append(rubberband);\n",
       "\n",
       "    this.rubberband = rubberband;\n",
       "    this.rubberband_canvas = rubberband[0];\n",
       "    this.rubberband_context = rubberband[0].getContext(\"2d\");\n",
       "    this.rubberband_context.strokeStyle = \"#000000\";\n",
       "\n",
       "    this._resize_canvas = function(width, height) {\n",
       "        // Keep the size of the canvas, canvas container, and rubber band\n",
       "        // canvas in synch.\n",
       "        canvas_div.css('width', width)\n",
       "        canvas_div.css('height', height)\n",
       "\n",
       "        canvas.attr('width', width * mpl.ratio);\n",
       "        canvas.attr('height', height * mpl.ratio);\n",
       "        canvas.attr('style', 'width: ' + width + 'px; height: ' + height + 'px;');\n",
       "\n",
       "        rubberband.attr('width', width);\n",
       "        rubberband.attr('height', height);\n",
       "    }\n",
       "\n",
       "    // Set the figure to an initial 600x600px, this will subsequently be updated\n",
       "    // upon first draw.\n",
       "    this._resize_canvas(600, 600);\n",
       "\n",
       "    // Disable right mouse context menu.\n",
       "    $(this.rubberband_canvas).bind(\"contextmenu\",function(e){\n",
       "        return false;\n",
       "    });\n",
       "\n",
       "    function set_focus () {\n",
       "        canvas.focus();\n",
       "        canvas_div.focus();\n",
       "    }\n",
       "\n",
       "    window.setTimeout(set_focus, 100);\n",
       "}\n",
       "\n",
       "mpl.figure.prototype._init_toolbar = function() {\n",
       "    var fig = this;\n",
       "\n",
       "    var nav_element = $('<div/>');\n",
       "    nav_element.attr('style', 'width: 100%');\n",
       "    this.root.append(nav_element);\n",
       "\n",
       "    // Define a callback function for later on.\n",
       "    function toolbar_event(event) {\n",
       "        return fig.toolbar_button_onclick(event['data']);\n",
       "    }\n",
       "    function toolbar_mouse_event(event) {\n",
       "        return fig.toolbar_button_onmouseover(event['data']);\n",
       "    }\n",
       "\n",
       "    for(var toolbar_ind in mpl.toolbar_items) {\n",
       "        var name = mpl.toolbar_items[toolbar_ind][0];\n",
       "        var tooltip = mpl.toolbar_items[toolbar_ind][1];\n",
       "        var image = mpl.toolbar_items[toolbar_ind][2];\n",
       "        var method_name = mpl.toolbar_items[toolbar_ind][3];\n",
       "\n",
       "        if (!name) {\n",
       "            // put a spacer in here.\n",
       "            continue;\n",
       "        }\n",
       "        var button = $('<button/>');\n",
       "        button.addClass('ui-button ui-widget ui-state-default ui-corner-all ' +\n",
       "                        'ui-button-icon-only');\n",
       "        button.attr('role', 'button');\n",
       "        button.attr('aria-disabled', 'false');\n",
       "        button.click(method_name, toolbar_event);\n",
       "        button.mouseover(tooltip, toolbar_mouse_event);\n",
       "\n",
       "        var icon_img = $('<span/>');\n",
       "        icon_img.addClass('ui-button-icon-primary ui-icon');\n",
       "        icon_img.addClass(image);\n",
       "        icon_img.addClass('ui-corner-all');\n",
       "\n",
       "        var tooltip_span = $('<span/>');\n",
       "        tooltip_span.addClass('ui-button-text');\n",
       "        tooltip_span.html(tooltip);\n",
       "\n",
       "        button.append(icon_img);\n",
       "        button.append(tooltip_span);\n",
       "\n",
       "        nav_element.append(button);\n",
       "    }\n",
       "\n",
       "    var fmt_picker_span = $('<span/>');\n",
       "\n",
       "    var fmt_picker = $('<select/>');\n",
       "    fmt_picker.addClass('mpl-toolbar-option ui-widget ui-widget-content');\n",
       "    fmt_picker_span.append(fmt_picker);\n",
       "    nav_element.append(fmt_picker_span);\n",
       "    this.format_dropdown = fmt_picker[0];\n",
       "\n",
       "    for (var ind in mpl.extensions) {\n",
       "        var fmt = mpl.extensions[ind];\n",
       "        var option = $(\n",
       "            '<option/>', {selected: fmt === mpl.default_extension}).html(fmt);\n",
       "        fmt_picker.append(option);\n",
       "    }\n",
       "\n",
       "    // Add hover states to the ui-buttons\n",
       "    $( \".ui-button\" ).hover(\n",
       "        function() { $(this).addClass(\"ui-state-hover\");},\n",
       "        function() { $(this).removeClass(\"ui-state-hover\");}\n",
       "    );\n",
       "\n",
       "    var status_bar = $('<span class=\"mpl-message\"/>');\n",
       "    nav_element.append(status_bar);\n",
       "    this.message = status_bar[0];\n",
       "}\n",
       "\n",
       "mpl.figure.prototype.request_resize = function(x_pixels, y_pixels) {\n",
       "    // Request matplotlib to resize the figure. Matplotlib will then trigger a resize in the client,\n",
       "    // which will in turn request a refresh of the image.\n",
       "    this.send_message('resize', {'width': x_pixels, 'height': y_pixels});\n",
       "}\n",
       "\n",
       "mpl.figure.prototype.send_message = function(type, properties) {\n",
       "    properties['type'] = type;\n",
       "    properties['figure_id'] = this.id;\n",
       "    this.ws.send(JSON.stringify(properties));\n",
       "}\n",
       "\n",
       "mpl.figure.prototype.send_draw_message = function() {\n",
       "    if (!this.waiting) {\n",
       "        this.waiting = true;\n",
       "        this.ws.send(JSON.stringify({type: \"draw\", figure_id: this.id}));\n",
       "    }\n",
       "}\n",
       "\n",
       "\n",
       "mpl.figure.prototype.handle_save = function(fig, msg) {\n",
       "    var format_dropdown = fig.format_dropdown;\n",
       "    var format = format_dropdown.options[format_dropdown.selectedIndex].value;\n",
       "    fig.ondownload(fig, format);\n",
       "}\n",
       "\n",
       "\n",
       "mpl.figure.prototype.handle_resize = function(fig, msg) {\n",
       "    var size = msg['size'];\n",
       "    if (size[0] != fig.canvas.width || size[1] != fig.canvas.height) {\n",
       "        fig._resize_canvas(size[0], size[1]);\n",
       "        fig.send_message(\"refresh\", {});\n",
       "    };\n",
       "}\n",
       "\n",
       "mpl.figure.prototype.handle_rubberband = function(fig, msg) {\n",
       "    var x0 = msg['x0'] / mpl.ratio;\n",
       "    var y0 = (fig.canvas.height - msg['y0']) / mpl.ratio;\n",
       "    var x1 = msg['x1'] / mpl.ratio;\n",
       "    var y1 = (fig.canvas.height - msg['y1']) / mpl.ratio;\n",
       "    x0 = Math.floor(x0) + 0.5;\n",
       "    y0 = Math.floor(y0) + 0.5;\n",
       "    x1 = Math.floor(x1) + 0.5;\n",
       "    y1 = Math.floor(y1) + 0.5;\n",
       "    var min_x = Math.min(x0, x1);\n",
       "    var min_y = Math.min(y0, y1);\n",
       "    var width = Math.abs(x1 - x0);\n",
       "    var height = Math.abs(y1 - y0);\n",
       "\n",
       "    fig.rubberband_context.clearRect(\n",
       "        0, 0, fig.canvas.width / mpl.ratio, fig.canvas.height / mpl.ratio);\n",
       "\n",
       "    fig.rubberband_context.strokeRect(min_x, min_y, width, height);\n",
       "}\n",
       "\n",
       "mpl.figure.prototype.handle_figure_label = function(fig, msg) {\n",
       "    // Updates the figure title.\n",
       "    fig.header.textContent = msg['label'];\n",
       "}\n",
       "\n",
       "mpl.figure.prototype.handle_cursor = function(fig, msg) {\n",
       "    var cursor = msg['cursor'];\n",
       "    switch(cursor)\n",
       "    {\n",
       "    case 0:\n",
       "        cursor = 'pointer';\n",
       "        break;\n",
       "    case 1:\n",
       "        cursor = 'default';\n",
       "        break;\n",
       "    case 2:\n",
       "        cursor = 'crosshair';\n",
       "        break;\n",
       "    case 3:\n",
       "        cursor = 'move';\n",
       "        break;\n",
       "    }\n",
       "    fig.rubberband_canvas.style.cursor = cursor;\n",
       "}\n",
       "\n",
       "mpl.figure.prototype.handle_message = function(fig, msg) {\n",
       "    fig.message.textContent = msg['message'];\n",
       "}\n",
       "\n",
       "mpl.figure.prototype.handle_draw = function(fig, msg) {\n",
       "    // Request the server to send over a new figure.\n",
       "    fig.send_draw_message();\n",
       "}\n",
       "\n",
       "mpl.figure.prototype.handle_image_mode = function(fig, msg) {\n",
       "    fig.image_mode = msg['mode'];\n",
       "}\n",
       "\n",
       "mpl.figure.prototype.updated_canvas_event = function() {\n",
       "    // Called whenever the canvas gets updated.\n",
       "    this.send_message(\"ack\", {});\n",
       "}\n",
       "\n",
       "// A function to construct a web socket function for onmessage handling.\n",
       "// Called in the figure constructor.\n",
       "mpl.figure.prototype._make_on_message_function = function(fig) {\n",
       "    return function socket_on_message(evt) {\n",
       "        if (evt.data instanceof Blob) {\n",
       "            /* FIXME: We get \"Resource interpreted as Image but\n",
       "             * transferred with MIME type text/plain:\" errors on\n",
       "             * Chrome.  But how to set the MIME type?  It doesn't seem\n",
       "             * to be part of the websocket stream */\n",
       "            evt.data.type = \"image/png\";\n",
       "\n",
       "            /* Free the memory for the previous frames */\n",
       "            if (fig.imageObj.src) {\n",
       "                (window.URL || window.webkitURL).revokeObjectURL(\n",
       "                    fig.imageObj.src);\n",
       "            }\n",
       "\n",
       "            fig.imageObj.src = (window.URL || window.webkitURL).createObjectURL(\n",
       "                evt.data);\n",
       "            fig.updated_canvas_event();\n",
       "            fig.waiting = false;\n",
       "            return;\n",
       "        }\n",
       "        else if (typeof evt.data === 'string' && evt.data.slice(0, 21) == \"data:image/png;base64\") {\n",
       "            fig.imageObj.src = evt.data;\n",
       "            fig.updated_canvas_event();\n",
       "            fig.waiting = false;\n",
       "            return;\n",
       "        }\n",
       "\n",
       "        var msg = JSON.parse(evt.data);\n",
       "        var msg_type = msg['type'];\n",
       "\n",
       "        // Call the  \"handle_{type}\" callback, which takes\n",
       "        // the figure and JSON message as its only arguments.\n",
       "        try {\n",
       "            var callback = fig[\"handle_\" + msg_type];\n",
       "        } catch (e) {\n",
       "            console.log(\"No handler for the '\" + msg_type + \"' message type: \", msg);\n",
       "            return;\n",
       "        }\n",
       "\n",
       "        if (callback) {\n",
       "            try {\n",
       "                // console.log(\"Handling '\" + msg_type + \"' message: \", msg);\n",
       "                callback(fig, msg);\n",
       "            } catch (e) {\n",
       "                console.log(\"Exception inside the 'handler_\" + msg_type + \"' callback:\", e, e.stack, msg);\n",
       "            }\n",
       "        }\n",
       "    };\n",
       "}\n",
       "\n",
       "// from http://stackoverflow.com/questions/1114465/getting-mouse-location-in-canvas\n",
       "mpl.findpos = function(e) {\n",
       "    //this section is from http://www.quirksmode.org/js/events_properties.html\n",
       "    var targ;\n",
       "    if (!e)\n",
       "        e = window.event;\n",
       "    if (e.target)\n",
       "        targ = e.target;\n",
       "    else if (e.srcElement)\n",
       "        targ = e.srcElement;\n",
       "    if (targ.nodeType == 3) // defeat Safari bug\n",
       "        targ = targ.parentNode;\n",
       "\n",
       "    // jQuery normalizes the pageX and pageY\n",
       "    // pageX,Y are the mouse positions relative to the document\n",
       "    // offset() returns the position of the element relative to the document\n",
       "    var x = e.pageX - $(targ).offset().left;\n",
       "    var y = e.pageY - $(targ).offset().top;\n",
       "\n",
       "    return {\"x\": x, \"y\": y};\n",
       "};\n",
       "\n",
       "/*\n",
       " * return a copy of an object with only non-object keys\n",
       " * we need this to avoid circular references\n",
       " * http://stackoverflow.com/a/24161582/3208463\n",
       " */\n",
       "function simpleKeys (original) {\n",
       "  return Object.keys(original).reduce(function (obj, key) {\n",
       "    if (typeof original[key] !== 'object')\n",
       "        obj[key] = original[key]\n",
       "    return obj;\n",
       "  }, {});\n",
       "}\n",
       "\n",
       "mpl.figure.prototype.mouse_event = function(event, name) {\n",
       "    var canvas_pos = mpl.findpos(event)\n",
       "\n",
       "    if (name === 'button_press')\n",
       "    {\n",
       "        this.canvas.focus();\n",
       "        this.canvas_div.focus();\n",
       "    }\n",
       "\n",
       "    var x = canvas_pos.x * mpl.ratio;\n",
       "    var y = canvas_pos.y * mpl.ratio;\n",
       "\n",
       "    this.send_message(name, {x: x, y: y, button: event.button,\n",
       "                             step: event.step,\n",
       "                             guiEvent: simpleKeys(event)});\n",
       "\n",
       "    /* This prevents the web browser from automatically changing to\n",
       "     * the text insertion cursor when the button is pressed.  We want\n",
       "     * to control all of the cursor setting manually through the\n",
       "     * 'cursor' event from matplotlib */\n",
       "    event.preventDefault();\n",
       "    return false;\n",
       "}\n",
       "\n",
       "mpl.figure.prototype._key_event_extra = function(event, name) {\n",
       "    // Handle any extra behaviour associated with a key event\n",
       "}\n",
       "\n",
       "mpl.figure.prototype.key_event = function(event, name) {\n",
       "\n",
       "    // Prevent repeat events\n",
       "    if (name == 'key_press')\n",
       "    {\n",
       "        if (event.which === this._key)\n",
       "            return;\n",
       "        else\n",
       "            this._key = event.which;\n",
       "    }\n",
       "    if (name == 'key_release')\n",
       "        this._key = null;\n",
       "\n",
       "    var value = '';\n",
       "    if (event.ctrlKey && event.which != 17)\n",
       "        value += \"ctrl+\";\n",
       "    if (event.altKey && event.which != 18)\n",
       "        value += \"alt+\";\n",
       "    if (event.shiftKey && event.which != 16)\n",
       "        value += \"shift+\";\n",
       "\n",
       "    value += 'k';\n",
       "    value += event.which.toString();\n",
       "\n",
       "    this._key_event_extra(event, name);\n",
       "\n",
       "    this.send_message(name, {key: value,\n",
       "                             guiEvent: simpleKeys(event)});\n",
       "    return false;\n",
       "}\n",
       "\n",
       "mpl.figure.prototype.toolbar_button_onclick = function(name) {\n",
       "    if (name == 'download') {\n",
       "        this.handle_save(this, null);\n",
       "    } else {\n",
       "        this.send_message(\"toolbar_button\", {name: name});\n",
       "    }\n",
       "};\n",
       "\n",
       "mpl.figure.prototype.toolbar_button_onmouseover = function(tooltip) {\n",
       "    this.message.textContent = tooltip;\n",
       "};\n",
       "mpl.toolbar_items = [[\"Home\", \"Reset original view\", \"fa fa-home icon-home\", \"home\"], [\"Back\", \"Back to previous view\", \"fa fa-arrow-left icon-arrow-left\", \"back\"], [\"Forward\", \"Forward to next view\", \"fa fa-arrow-right icon-arrow-right\", \"forward\"], [\"\", \"\", \"\", \"\"], [\"Pan\", \"Pan axes with left mouse, zoom with right\", \"fa fa-arrows icon-move\", \"pan\"], [\"Zoom\", \"Zoom to rectangle\", \"fa fa-square-o icon-check-empty\", \"zoom\"], [\"\", \"\", \"\", \"\"], [\"Download\", \"Download plot\", \"fa fa-floppy-o icon-save\", \"download\"]];\n",
       "\n",
       "mpl.extensions = [\"eps\", \"jpeg\", \"pdf\", \"png\", \"ps\", \"raw\", \"svg\", \"tif\"];\n",
       "\n",
       "mpl.default_extension = \"png\";var comm_websocket_adapter = function(comm) {\n",
       "    // Create a \"websocket\"-like object which calls the given IPython comm\n",
       "    // object with the appropriate methods. Currently this is a non binary\n",
       "    // socket, so there is still some room for performance tuning.\n",
       "    var ws = {};\n",
       "\n",
       "    ws.close = function() {\n",
       "        comm.close()\n",
       "    };\n",
       "    ws.send = function(m) {\n",
       "        //console.log('sending', m);\n",
       "        comm.send(m);\n",
       "    };\n",
       "    // Register the callback with on_msg.\n",
       "    comm.on_msg(function(msg) {\n",
       "        //console.log('receiving', msg['content']['data'], msg);\n",
       "        // Pass the mpl event to the overridden (by mpl) onmessage function.\n",
       "        ws.onmessage(msg['content']['data'])\n",
       "    });\n",
       "    return ws;\n",
       "}\n",
       "\n",
       "mpl.mpl_figure_comm = function(comm, msg) {\n",
       "    // This is the function which gets called when the mpl process\n",
       "    // starts-up an IPython Comm through the \"matplotlib\" channel.\n",
       "\n",
       "    var id = msg.content.data.id;\n",
       "    // Get hold of the div created by the display call when the Comm\n",
       "    // socket was opened in Python.\n",
       "    var element = $(\"#\" + id);\n",
       "    var ws_proxy = comm_websocket_adapter(comm)\n",
       "\n",
       "    function ondownload(figure, format) {\n",
       "        window.open(figure.imageObj.src);\n",
       "    }\n",
       "\n",
       "    var fig = new mpl.figure(id, ws_proxy,\n",
       "                           ondownload,\n",
       "                           element.get(0));\n",
       "\n",
       "    // Call onopen now - mpl needs it, as it is assuming we've passed it a real\n",
       "    // web socket which is closed, not our websocket->open comm proxy.\n",
       "    ws_proxy.onopen();\n",
       "\n",
       "    fig.parent_element = element.get(0);\n",
       "    fig.cell_info = mpl.find_output_cell(\"<div id='\" + id + \"'></div>\");\n",
       "    if (!fig.cell_info) {\n",
       "        console.error(\"Failed to find cell for figure\", id, fig);\n",
       "        return;\n",
       "    }\n",
       "\n",
       "    var output_index = fig.cell_info[2]\n",
       "    var cell = fig.cell_info[0];\n",
       "\n",
       "};\n",
       "\n",
       "mpl.figure.prototype.handle_close = function(fig, msg) {\n",
       "    var width = fig.canvas.width/mpl.ratio\n",
       "    fig.root.unbind('remove')\n",
       "\n",
       "    // Update the output cell to use the data from the current canvas.\n",
       "    fig.push_to_output();\n",
       "    var dataURL = fig.canvas.toDataURL();\n",
       "    // Re-enable the keyboard manager in IPython - without this line, in FF,\n",
       "    // the notebook keyboard shortcuts fail.\n",
       "    IPython.keyboard_manager.enable()\n",
       "    $(fig.parent_element).html('<img src=\"' + dataURL + '\" width=\"' + width + '\">');\n",
       "    fig.close_ws(fig, msg);\n",
       "}\n",
       "\n",
       "mpl.figure.prototype.close_ws = function(fig, msg){\n",
       "    fig.send_message('closing', msg);\n",
       "    // fig.ws.close()\n",
       "}\n",
       "\n",
       "mpl.figure.prototype.push_to_output = function(remove_interactive) {\n",
       "    // Turn the data on the canvas into data in the output cell.\n",
       "    var width = this.canvas.width/mpl.ratio\n",
       "    var dataURL = this.canvas.toDataURL();\n",
       "    this.cell_info[1]['text/html'] = '<img src=\"' + dataURL + '\" width=\"' + width + '\">';\n",
       "}\n",
       "\n",
       "mpl.figure.prototype.updated_canvas_event = function() {\n",
       "    // Tell IPython that the notebook contents must change.\n",
       "    IPython.notebook.set_dirty(true);\n",
       "    this.send_message(\"ack\", {});\n",
       "    var fig = this;\n",
       "    // Wait a second, then push the new image to the DOM so\n",
       "    // that it is saved nicely (might be nice to debounce this).\n",
       "    setTimeout(function () { fig.push_to_output() }, 1000);\n",
       "}\n",
       "\n",
       "mpl.figure.prototype._init_toolbar = function() {\n",
       "    var fig = this;\n",
       "\n",
       "    var nav_element = $('<div/>');\n",
       "    nav_element.attr('style', 'width: 100%');\n",
       "    this.root.append(nav_element);\n",
       "\n",
       "    // Define a callback function for later on.\n",
       "    function toolbar_event(event) {\n",
       "        return fig.toolbar_button_onclick(event['data']);\n",
       "    }\n",
       "    function toolbar_mouse_event(event) {\n",
       "        return fig.toolbar_button_onmouseover(event['data']);\n",
       "    }\n",
       "\n",
       "    for(var toolbar_ind in mpl.toolbar_items){\n",
       "        var name = mpl.toolbar_items[toolbar_ind][0];\n",
       "        var tooltip = mpl.toolbar_items[toolbar_ind][1];\n",
       "        var image = mpl.toolbar_items[toolbar_ind][2];\n",
       "        var method_name = mpl.toolbar_items[toolbar_ind][3];\n",
       "\n",
       "        if (!name) { continue; };\n",
       "\n",
       "        var button = $('<button class=\"btn btn-default\" href=\"#\" title=\"' + name + '\"><i class=\"fa ' + image + ' fa-lg\"></i></button>');\n",
       "        button.click(method_name, toolbar_event);\n",
       "        button.mouseover(tooltip, toolbar_mouse_event);\n",
       "        nav_element.append(button);\n",
       "    }\n",
       "\n",
       "    // Add the status bar.\n",
       "    var status_bar = $('<span class=\"mpl-message\" style=\"text-align:right; float: right;\"/>');\n",
       "    nav_element.append(status_bar);\n",
       "    this.message = status_bar[0];\n",
       "\n",
       "    // Add the close button to the window.\n",
       "    var buttongrp = $('<div class=\"btn-group inline pull-right\"></div>');\n",
       "    var button = $('<button class=\"btn btn-mini btn-primary\" href=\"#\" title=\"Stop Interaction\"><i class=\"fa fa-power-off icon-remove icon-large\"></i></button>');\n",
       "    button.click(function (evt) { fig.handle_close(fig, {}); } );\n",
       "    button.mouseover('Stop Interaction', toolbar_mouse_event);\n",
       "    buttongrp.append(button);\n",
       "    var titlebar = this.root.find($('.ui-dialog-titlebar'));\n",
       "    titlebar.prepend(buttongrp);\n",
       "}\n",
       "\n",
       "mpl.figure.prototype._root_extra_style = function(el){\n",
       "    var fig = this\n",
       "    el.on(\"remove\", function(){\n",
       "\tfig.close_ws(fig, {});\n",
       "    });\n",
       "}\n",
       "\n",
       "mpl.figure.prototype._canvas_extra_style = function(el){\n",
       "    // this is important to make the div 'focusable\n",
       "    el.attr('tabindex', 0)\n",
       "    // reach out to IPython and tell the keyboard manager to turn it's self\n",
       "    // off when our div gets focus\n",
       "\n",
       "    // location in version 3\n",
       "    if (IPython.notebook.keyboard_manager) {\n",
       "        IPython.notebook.keyboard_manager.register_events(el);\n",
       "    }\n",
       "    else {\n",
       "        // location in version 2\n",
       "        IPython.keyboard_manager.register_events(el);\n",
       "    }\n",
       "\n",
       "}\n",
       "\n",
       "mpl.figure.prototype._key_event_extra = function(event, name) {\n",
       "    var manager = IPython.notebook.keyboard_manager;\n",
       "    if (!manager)\n",
       "        manager = IPython.keyboard_manager;\n",
       "\n",
       "    // Check for shift+enter\n",
       "    if (event.shiftKey && event.which == 13) {\n",
       "        this.canvas_div.blur();\n",
       "        // select the cell after this one\n",
       "        var index = IPython.notebook.find_cell_index(this.cell_info[0]);\n",
       "        IPython.notebook.select(index + 1);\n",
       "    }\n",
       "}\n",
       "\n",
       "mpl.figure.prototype.handle_save = function(fig, msg) {\n",
       "    fig.ondownload(fig, null);\n",
       "}\n",
       "\n",
       "\n",
       "mpl.find_output_cell = function(html_output) {\n",
       "    // Return the cell and output element which can be found *uniquely* in the notebook.\n",
       "    // Note - this is a bit hacky, but it is done because the \"notebook_saving.Notebook\"\n",
       "    // IPython event is triggered only after the cells have been serialised, which for\n",
       "    // our purposes (turning an active figure into a static one), is too late.\n",
       "    var cells = IPython.notebook.get_cells();\n",
       "    var ncells = cells.length;\n",
       "    for (var i=0; i<ncells; i++) {\n",
       "        var cell = cells[i];\n",
       "        if (cell.cell_type === 'code'){\n",
       "            for (var j=0; j<cell.output_area.outputs.length; j++) {\n",
       "                var data = cell.output_area.outputs[j];\n",
       "                if (data.data) {\n",
       "                    // IPython >= 3 moved mimebundle to data attribute of output\n",
       "                    data = data.data;\n",
       "                }\n",
       "                if (data['text/html'] == html_output) {\n",
       "                    return [cell, data, j];\n",
       "                }\n",
       "            }\n",
       "        }\n",
       "    }\n",
       "}\n",
       "\n",
       "// Register the function which deals with the matplotlib target/channel.\n",
       "// The kernel may be null if the page has been refreshed.\n",
       "if (IPython.notebook.kernel != null) {\n",
       "    IPython.notebook.kernel.comm_manager.register_target('matplotlib', mpl.mpl_figure_comm);\n",
       "}\n"
      ],
      "text/plain": [
       "<IPython.core.display.Javascript object>"
      ]
     },
     "metadata": {},
     "output_type": "display_data"
    },
    {
     "data": {
      "text/html": [
       "<img src=\"data:image/png;base64,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\" width=\"640\">"
      ],
      "text/plain": [
       "<IPython.core.display.HTML object>"
      ]
     },
     "metadata": {},
     "output_type": "display_data"
    },
    {
     "data": {
      "text/plain": [
       "{'whiskers': [<matplotlib.lines.Line2D at 0x7f3b1c07b400>,\n",
       "  <matplotlib.lines.Line2D at 0x7f3b1c07b780>],\n",
       " 'caps': [<matplotlib.lines.Line2D at 0x7f3b1c07bb00>,\n",
       "  <matplotlib.lines.Line2D at 0x7f3b1c07be80>],\n",
       " 'boxes': [<matplotlib.lines.Line2D at 0x7f3b1c07b2b0>],\n",
       " 'medians': [<matplotlib.lines.Line2D at 0x7f3b1c084240>],\n",
       " 'fliers': [<matplotlib.lines.Line2D at 0x7f3b1c0845c0>],\n",
       " 'means': []}"
      ]
     },
     "execution_count": 25,
     "metadata": {},
     "output_type": "execute_result"
    }
   ],
   "source": []
  },
  {
   "cell_type": "markdown",
   "metadata": {},
   "source": [
    "### Assigning the number of bats to each annotation audio\n",
    "Now that we have all of our measurements in place, it's time to compare each of the measurements across single and multi bat contexts."
   ]
  },
  {
   "cell_type": "code",
   "execution_count": 20,
   "metadata": {},
   "outputs": [],
   "source": [
    "non_silent_measures['video_annot_id'] = non_silent_measures['file_name'].str.lstrip('matching_annotaudio_')\n",
    "# remove the '_hp' from the video_annot_ida\n",
    "\n",
    "non_silent_measures['video_annot_id'] = non_silent_measures['video_annot_id'].str.rstrip('_hp.WAV')"
   ]
  },
  {
   "cell_type": "code",
   "execution_count": 21,
   "metadata": {},
   "outputs": [
    {
     "data": {
      "text/plain": [
       "'Aditya_2018-08-16_21502300_9'"
      ]
     },
     "execution_count": 21,
     "metadata": {},
     "output_type": "execute_result"
    }
   ],
   "source": [
    "non_silent_measures['video_annot_id'][0]"
   ]
  },
  {
   "cell_type": "code",
   "execution_count": 22,
   "metadata": {},
   "outputs": [],
   "source": [
    "video_annot_folder = '../../whole_data_analysis/annotations/corrected_HBC_video_annotations_Aditya/'\n",
    "non_silent_measures['num_bats'] = icf.get_numbats_from_annotation_id(non_silent_measures['video_annot_id'], video_annot_folder)"
   ]
  },
  {
   "cell_type": "markdown",
   "metadata": {},
   "source": [
    "#### The numbers below represent the *rows* with the following bat numbers in the annotation audio - and not the number of annotations itself!!"
   ]
  },
  {
   "cell_type": "code",
   "execution_count": 23,
   "metadata": {},
   "outputs": [
    {
     "name": "stdout",
     "output_type": "stream",
     "text": [
      "[1 2 3] [12492  4739   636]\n"
     ]
    }
   ],
   "source": [
    "group_size, counts = np.unique(non_silent_measures['num_bats'], return_counts=True)\n",
    "print(group_size, counts)"
   ]
  },
  {
   "cell_type": "code",
   "execution_count": 24,
   "metadata": {},
   "outputs": [],
   "source": [
    "non_silent_measures.to_csv('non_silent_measurements_20dBthreshold.csv')"
   ]
  },
  {
   "cell_type": "code",
   "execution_count": 25,
   "metadata": {},
   "outputs": [
    {
     "name": "stdout",
     "output_type": "stream",
     "text": [
      "Notebook ended at: 2020-07-13 17:03:21.757211\n"
     ]
    }
   ],
   "source": [
    "print(f'Notebook ended at: {dt.datetime.now()}')"
   ]
  }
 ],
 "metadata": {
  "kernelspec": {
   "display_name": "Python [conda env:mhbc] *",
   "language": "python",
   "name": "conda-env-mhbc-py"
  },
  "language_info": {
   "codemirror_mode": {
    "name": "ipython",
    "version": 3
   },
   "file_extension": ".py",
   "mimetype": "text/x-python",
   "name": "python",
   "nbconvert_exporter": "python",
   "pygments_lexer": "ipython3",
   "version": "3.7.0"
  }
 },
 "nbformat": 4,
 "nbformat_minor": 4
}
