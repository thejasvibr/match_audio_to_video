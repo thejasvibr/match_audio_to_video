{
 "cells": [
  {
   "cell_type": "markdown",
   "metadata": {},
   "source": [
    "### What this notebook is about\n",
    "This notebook will record and produce a .csv file with all the valid annotation audio files that can be used for further analysis. The main reason this needs to be done is because the annotation audio files can have a mix of bat calls in the dataset from different species. \n",
    "\n",
    "Orlova Chuka (the field site) has multiple bat species, and we have seen *Rhinolophus ferrumequinum*, and *Myotis* genus type calls in the audio. While Aditya was selecting high SNR single calls, he also noted down\n",
    "\n",
    "- which audio clips had non-target species calls. Our target species calls are those of *R. euryale* and *R. mehelyi*. These two target species have a constant frequency range between 102-112 kHZ [1], with *R. euryale* constant frequencies being between 102-109 kHz, and *R. mehelyi* being between 104-112 kHz. The target species are far apart in their call frequency and structure from the non-target species, and thus identification can happen unambiguously. \n",
    "\n",
    "- which clips had overlapping calls even though the video annotation said there was one bat flying. This is not an annotation mistake, and is explainable by bats emitting calls while perched in the roosting spot. The roosting spot is not visible in the field-of-view of the camera. \n",
    "\n",
    "- which annotations were actually the result of annotation errors, and also identified duplicate entries. \n",
    "\n",
    "The double checking of video + audio annotations means that the audio data is even more reliable at this stage. \n",
    "\n",
    "\n",
    "### More concretely ...\n",
    "Aditya's annotations have clear descriptions of whether or not it was possible to get a single call from an annotation audio file. Annotations with blank comments are those where a single call could succesfully be identified. Those with 'No clear call' indicate a valid audio annotation file, but one where a clearly extractable individual call could not be obtained. All other comments such as 'FM calls only', 'HSB calls', indicate the presence of non-target species. Some single call annotations have comments and valid single-call entries which comment on the details of the call selection or peculiarities of that particular annotation audio file, these are treated as valid annotation files too. \n",
    "\n",
    "### Where are the annotation audio files that need to be chosen?\n",
    "The annotation audio files are all in the  'individual_call_analysis/annotation_audio/'. The audio files are placed according to the video hour that they were matched to. \n",
    "\n",
    "\n",
    "\n",
    "\n",
    "\n",
    "\n",
    "Author : Thejasvi Beleyur \n",
    "\n",
    "Date of initation: July 07, 2020"
   ]
  },
  {
   "cell_type": "code",
   "execution_count": 1,
   "metadata": {},
   "outputs": [],
   "source": [
    "import datetime as dt\n",
    "import glob\n",
    "import os\n",
    "import pandas as pd"
   ]
  },
  {
   "cell_type": "code",
   "execution_count": 2,
   "metadata": {},
   "outputs": [
    {
     "name": "stdout",
     "output_type": "stream",
     "text": [
      "../individual_call_analysis/annotation_audio\n"
     ]
    }
   ],
   "source": [
    "single_call_folder = '../individual_call_analysis/'\n",
    "annot_audio_folder = \"annotation_audio\"\n",
    "audio_folder_path = os.path.join(single_call_folder, annot_audio_folder)\n",
    "print(audio_folder_path)"
   ]
  },
  {
   "cell_type": "code",
   "execution_count": 3,
   "metadata": {},
   "outputs": [],
   "source": [
    "all_valid_annotation_files = []"
   ]
  },
  {
   "cell_type": "markdown",
   "metadata": {},
   "source": [
    "### 2018-08-16_2150-2300_annotation_audio"
   ]
  },
  {
   "cell_type": "code",
   "execution_count": 4,
   "metadata": {},
   "outputs": [
    {
     "data": {
      "text/plain": [
       "46"
      ]
     },
     "execution_count": 4,
     "metadata": {},
     "output_type": "execute_result"
    }
   ],
   "source": [
    "valid_files_20180816_215002300 = [\n",
    "'matching_annotaudio_Aditya_2018-08-16_21502300_9',\n",
    "'matching_annotaudio_Aditya_2018-08-16_21502300_12',\n",
    "'matching_annotaudio_Aditya_2018-08-16_21502300_18',\n",
    "'matching_annotaudio_Aditya_2018-08-16_21502300_19',\n",
    "'matching_annotaudio_Aditya_2018-08-16_21502300_20',\n",
    "'matching_annotaudio_Aditya_2018-08-16_21502300_22',\n",
    "'matching_annotaudio_Aditya_2018-08-16_21502300_24',\n",
    "'matching_annotaudio_Aditya_2018-08-16_21502300_25',\n",
    "'matching_annotaudio_Aditya_2018-08-16_21502300_26',\n",
    "'matching_annotaudio_Aditya_2018-08-16_21502300_28',\n",
    "'matching_annotaudio_Aditya_2018-08-16_21502300_30',\n",
    "'matching_annotaudio_Aditya_2018-08-16_21502300_32',\n",
    "'matching_annotaudio_Aditya_2018-08-16_21502300_33',\n",
    "'matching_annotaudio_Aditya_2018-08-16_21502300_34',\n",
    "'matching_annotaudio_Aditya_2018-08-16_21502300_35',\n",
    "'matching_annotaudio_Aditya_2018-08-16_21502300_36',\n",
    "'matching_annotaudio_Aditya_2018-08-16_21502300_39',\n",
    "'matching_annotaudio_Aditya_2018-08-16_21502300_40',\n",
    "'matching_annotaudio_Aditya_2018-08-16_21502300_41',\n",
    "'matching_annotaudio_Aditya_2018-08-16_21502300_43',\n",
    "'matching_annotaudio_Aditya_2018-08-16_21502300_44',\n",
    "'matching_annotaudio_Aditya_2018-08-16_21502300_45',\n",
    "'matching_annotaudio_Aditya_2018-08-16_21502300_46',\n",
    "'matching_annotaudio_Aditya_2018-08-16_21502300_47',\n",
    "'matching_annotaudio_Aditya_2018-08-16_21502300_48',\n",
    "'matching_annotaudio_Aditya_2018-08-16_21502300_49',\n",
    "'matching_annotaudio_Aditya_2018-08-16_21502300_50',\n",
    "'matching_annotaudio_Aditya_2018-08-16_21502300_62',\n",
    "'matching_annotaudio_Aditya_2018-08-16_21502300_65',\n",
    "'matching_annotaudio_Aditya_2018-08-16_21502300_69',\n",
    "'matching_annotaudio_Aditya_2018-08-16_21502300_70',\n",
    "'matching_annotaudio_Aditya_2018-08-16_21502300_73',\n",
    "'matching_annotaudio_Aditya_2018-08-16_21502300_74',\n",
    "'matching_annotaudio_Aditya_2018-08-16_21502300_93',\n",
    "'matching_annotaudio_Aditya_2018-08-16_21502300_98',\n",
    "'matching_annotaudio_Aditya_2018-08-16_21502300_99',\n",
    "'matching_annotaudio_Aditya_2018-08-16_21502300_100',\n",
    "'matching_annotaudio_Aditya_2018-08-16_21502300_101',\n",
    "'matching_annotaudio_Aditya_2018-08-16_21502300_102',\n",
    "'matching_annotaudio_Aditya_2018-08-16_21502300_104',\n",
    "'matching_annotaudio_Aditya_2018-08-16_21502300_105',\n",
    "'matching_annotaudio_Aditya_2018-08-16_21502300_106',\n",
    "'matching_annotaudio_Aditya_2018-08-16_21502300_108',\n",
    "'matching_annotaudio_Aditya_2018-08-16_21502300_109',\n",
    "'matching_annotaudio_Aditya_2018-08-16_21502300_110',\n",
    "'matching_annotaudio_Aditya_2018-08-16_21502300_111',]\n",
    "len(valid_files_20180816_215002300)"
   ]
  },
  {
   "cell_type": "markdown",
   "metadata": {},
   "source": [
    "### 2018-08-16_2300-2400_annotation_audio"
   ]
  },
  {
   "cell_type": "code",
   "execution_count": 5,
   "metadata": {},
   "outputs": [
    {
     "data": {
      "text/plain": [
       "102"
      ]
     },
     "execution_count": 5,
     "metadata": {},
     "output_type": "execute_result"
    }
   ],
   "source": [
    "valid_files_20180816_23002400 = [\n",
    "'matching_annotaudio_Aditya_2018-08-16_2324_3',\n",
    "'matching_annotaudio_Aditya_2018-08-16_2324_5',\n",
    "'matching_annotaudio_Aditya_2018-08-16_2324_7',\n",
    "'matching_annotaudio_Aditya_2018-08-16_2324_8',\n",
    "'matching_annotaudio_Aditya_2018-08-16_2324_9',\n",
    "'matching_annotaudio_Aditya_2018-08-16_2324_10',\n",
    "'matching_annotaudio_Aditya_2018-08-16_2324_14',\n",
    "'matching_annotaudio_Aditya_2018-08-16_2324_15',\n",
    "'matching_annotaudio_Aditya_2018-08-16_2324_18',\n",
    "'matching_annotaudio_Aditya_2018-08-16_2324_20',\n",
    "'matching_annotaudio_Aditya_2018-08-16_2324_22',\n",
    "'matching_annotaudio_Aditya_2018-08-16_2324_23',\n",
    "'matching_annotaudio_Aditya_2018-08-16_2324_24',\n",
    "'matching_annotaudio_Aditya_2018-08-16_2324_26',\n",
    "'matching_annotaudio_Aditya_2018-08-16_2324_28',\n",
    "'matching_annotaudio_Aditya_2018-08-16_2324_29',\n",
    "'matching_annotaudio_Aditya_2018-08-16_2324_30',\n",
    "'matching_annotaudio_Aditya_2018-08-16_2324_31',\n",
    "'matching_annotaudio_Aditya_2018-08-16_2324_54',\n",
    "'matching_annotaudio_Aditya_2018-08-16_2324_55',\n",
    "'matching_annotaudio_Aditya_2018-08-16_2324_56',\n",
    "'matching_annotaudio_Aditya_2018-08-16_2324_59',\n",
    "'matching_annotaudio_Aditya_2018-08-16_2324_61',\n",
    "'matching_annotaudio_Aditya_2018-08-16_2324_62',\n",
    "'matching_annotaudio_Aditya_2018-08-16_2324_68',\n",
    "'matching_annotaudio_Aditya_2018-08-16_2324_69',\n",
    "'matching_annotaudio_Aditya_2018-08-16_2324_70',\n",
    "'matching_annotaudio_Aditya_2018-08-16_2324_79',\n",
    "'matching_annotaudio_Aditya_2018-08-16_2324_80',\n",
    "'matching_annotaudio_Aditya_2018-08-16_2324_85',\n",
    "'matching_annotaudio_Aditya_2018-08-16_2324_88',\n",
    "'matching_annotaudio_Aditya_2018-08-16_2324_89',\n",
    "'matching_annotaudio_Aditya_2018-08-16_2324_90',\n",
    "'matching_annotaudio_Aditya_2018-08-16_2324_91',\n",
    "'matching_annotaudio_Aditya_2018-08-16_2324_92',\n",
    "'matching_annotaudio_Aditya_2018-08-16_2324_94',\n",
    "'matching_annotaudio_Aditya_2018-08-16_2324_95',\n",
    "'matching_annotaudio_Aditya_2018-08-16_2324_117',\n",
    "'matching_annotaudio_Aditya_2018-08-16_2324_128',\n",
    "'matching_annotaudio_Aditya_2018-08-16_2324_129',\n",
    "'matching_annotaudio_Aditya_2018-08-16_2324_130',\n",
    "'matching_annotaudio_Aditya_2018-08-16_2324_138',\n",
    "'matching_annotaudio_Aditya_2018-08-16_2324_143',\n",
    "'matching_annotaudio_Aditya_2018-08-16_2324_148',\n",
    "'matching_annotaudio_Aditya_2018-08-16_2324_153',\n",
    "'matching_annotaudio_Aditya_2018-08-16_2324_154',\n",
    "'matching_annotaudio_Aditya_2018-08-16_2324_156',\n",
    "'matching_annotaudio_Aditya_2018-08-16_2324_159',\n",
    "'matching_annotaudio_Aditya_2018-08-16_2324_165',\n",
    "'matching_annotaudio_Aditya_2018-08-16_2324_167',\n",
    "'matching_annotaudio_Aditya_2018-08-16_2324_169',\n",
    "'matching_annotaudio_Aditya_2018-08-16_2324_171',\n",
    "'matching_annotaudio_Aditya_2018-08-16_2324_179',\n",
    "'matching_annotaudio_Aditya_2018-08-16_2324_180',\n",
    "'matching_annotaudio_Aditya_2018-08-16_2324_182',\n",
    "'matching_annotaudio_Aditya_2018-08-16_2324_183',\n",
    "'matching_annotaudio_Aditya_2018-08-16_2324_184',\n",
    "'matching_annotaudio_Aditya_2018-08-16_2324_185',\n",
    "'matching_annotaudio_Aditya_2018-08-16_2324_187',\n",
    "'matching_annotaudio_Aditya_2018-08-16_2324_192',\n",
    "'matching_annotaudio_Aditya_2018-08-16_2324_193',\n",
    "'matching_annotaudio_Aditya_2018-08-16_2324_196',\n",
    "'matching_annotaudio_Aditya_2018-08-16_2324_197',\n",
    "'matching_annotaudio_Aditya_2018-08-16_2324_198',\n",
    "'matching_annotaudio_Aditya_2018-08-16_2324_199',\n",
    "'matching_annotaudio_Aditya_2018-08-16_2324_200',\n",
    "'matching_annotaudio_Aditya_2018-08-16_2324_202',\n",
    "'matching_annotaudio_Aditya_2018-08-16_2324_204',\n",
    "'matching_annotaudio_Aditya_2018-08-16_2324_207',\n",
    "'matching_annotaudio_Aditya_2018-08-16_2324_208',\n",
    "'matching_annotaudio_Aditya_2018-08-16_2324_209',\n",
    "'matching_annotaudio_Aditya_2018-08-16_2324_210',\n",
    "'matching_annotaudio_Aditya_2018-08-16_2324_211',\n",
    "'matching_annotaudio_Aditya_2018-08-16_2324_212',\n",
    "'matching_annotaudio_Aditya_2018-08-16_2324_214',\n",
    "'matching_annotaudio_Aditya_2018-08-16_2324_215',\n",
    "'matching_annotaudio_Aditya_2018-08-16_2324_216',\n",
    "'matching_annotaudio_Aditya_2018-08-16_2324_218',\n",
    "'matching_annotaudio_Aditya_2018-08-16_2324_219',\n",
    "'matching_annotaudio_Aditya_2018-08-16_2324_223',\n",
    "'matching_annotaudio_Aditya_2018-08-16_2324_228',\n",
    "'matching_annotaudio_Aditya_2018-08-16_2324_230',\n",
    "'matching_annotaudio_Aditya_2018-08-16_2324_231',\n",
    "'matching_annotaudio_Aditya_2018-08-16_2324_234',\n",
    "'matching_annotaudio_Aditya_2018-08-16_2324_236',\n",
    "'matching_annotaudio_Aditya_2018-08-16_2324_248',\n",
    "'matching_annotaudio_Aditya_2018-08-16_2324_250',\n",
    "'matching_annotaudio_Aditya_2018-08-16_2324_252',\n",
    "'matching_annotaudio_Aditya_2018-08-16_2324_253',\n",
    "'matching_annotaudio_Aditya_2018-08-16_2324_254',\n",
    "'matching_annotaudio_Aditya_2018-08-16_2324_255',\n",
    "'matching_annotaudio_Aditya_2018-08-16_2324_256',\n",
    "'matching_annotaudio_Aditya_2018-08-16_2324_257',\n",
    "'matching_annotaudio_Aditya_2018-08-16_2324_258',\n",
    "'matching_annotaudio_Aditya_2018-08-16_2324_259',\n",
    "'matching_annotaudio_Aditya_2018-08-16_2324_260',\n",
    "'matching_annotaudio_Aditya_2018-08-16_2324_277',\n",
    "'matching_annotaudio_Aditya_2018-08-16_2324_280',\n",
    "'matching_annotaudio_Aditya_2018-08-16_2324_285',\n",
    "'matching_annotaudio_Aditya_2018-08-16_2324_286',\n",
    "'matching_annotaudio_Aditya_2018-08-16_2324_287',\n",
    "'matching_annotaudio_Aditya_2018-08-16_2324_288',]\n",
    "len(valid_files_20180816_23002400)"
   ]
  },
  {
   "cell_type": "markdown",
   "metadata": {},
   "source": [
    "### 2018-08-17_0000-0100_am_annotation_audio"
   ]
  },
  {
   "cell_type": "code",
   "execution_count": 6,
   "metadata": {},
   "outputs": [
    {
     "data": {
      "text/plain": [
       "51"
      ]
     },
     "execution_count": 6,
     "metadata": {},
     "output_type": "execute_result"
    }
   ],
   "source": [
    "valid_file_20180817_00000100 = [\n",
    "'matching_annotaudio_Aditya_2018-08-17_01_2',\n",
    "'matching_annotaudio_Aditya_2018-08-17_01_3',\n",
    "'matching_annotaudio_Aditya_2018-08-17_01_4',\n",
    "'matching_annotaudio_Aditya_2018-08-17_01_6',\n",
    "'matching_annotaudio_Aditya_2018-08-17_01_7',\n",
    "'matching_annotaudio_Aditya_2018-08-17_01_8',\n",
    "'matching_annotaudio_Aditya_2018-08-17_01_10',\n",
    "'matching_annotaudio_Aditya_2018-08-17_01_11',\n",
    "'matching_annotaudio_Aditya_2018-08-17_01_13',\n",
    "'matching_annotaudio_Aditya_2018-08-17_01_14',\n",
    "'matching_annotaudio_Aditya_2018-08-17_01_15',\n",
    "'matching_annotaudio_Aditya_2018-08-17_01_19',\n",
    "'matching_annotaudio_Aditya_2018-08-17_01_21',\n",
    "'matching_annotaudio_Aditya_2018-08-17_01_22',\n",
    "'matching_annotaudio_Aditya_2018-08-17_01_24',\n",
    "'matching_annotaudio_Aditya_2018-08-17_01_26',\n",
    "'matching_annotaudio_Aditya_2018-08-17_01_28',\n",
    "'matching_annotaudio_Aditya_2018-08-17_01_29',\n",
    "'matching_annotaudio_Aditya_2018-08-17_01_30',\n",
    "'matching_annotaudio_Aditya_2018-08-17_01_31',\n",
    "'matching_annotaudio_Aditya_2018-08-17_01_32',\n",
    "'matching_annotaudio_Aditya_2018-08-17_01_33',\n",
    "'matching_annotaudio_Aditya_2018-08-17_01_34',\n",
    "'matching_annotaudio_Aditya_2018-08-17_01_35',\n",
    "'matching_annotaudio_Aditya_2018-08-17_01_36',\n",
    "'matching_annotaudio_Aditya_2018-08-17_01_37',\n",
    "'matching_annotaudio_Aditya_2018-08-17_01_39',\n",
    "'matching_annotaudio_Aditya_2018-08-17_01_40',\n",
    "'matching_annotaudio_Aditya_2018-08-17_01_43',\n",
    "'matching_annotaudio_Aditya_2018-08-17_01_44',\n",
    "'matching_annotaudio_Aditya_2018-08-17_01_45',\n",
    "'matching_annotaudio_Aditya_2018-08-17_01_46',\n",
    "'matching_annotaudio_Aditya_2018-08-17_01_47',\n",
    "'matching_annotaudio_Aditya_2018-08-17_01_49',\n",
    "'matching_annotaudio_Aditya_2018-08-17_01_57',\n",
    "'matching_annotaudio_Aditya_2018-08-17_01_58',\n",
    "'matching_annotaudio_Aditya_2018-08-17_01_60',\n",
    "'matching_annotaudio_Aditya_2018-08-17_01_62',\n",
    "'matching_annotaudio_Aditya_2018-08-17_01_63',\n",
    "'matching_annotaudio_Aditya_2018-08-17_01_65',\n",
    "'matching_annotaudio_Aditya_2018-08-17_01_74',\n",
    "'matching_annotaudio_Aditya_2018-08-17_01_75',\n",
    "'matching_annotaudio_Aditya_2018-08-17_01_76',\n",
    "'matching_annotaudio_Aditya_2018-08-17_01_77',\n",
    "'matching_annotaudio_Aditya_2018-08-17_01_78',\n",
    "'matching_annotaudio_Aditya_2018-08-17_01_79',\n",
    "'matching_annotaudio_Aditya_2018-08-17_01_80',\n",
    "'matching_annotaudio_Aditya_2018-08-17_01_81',\n",
    "'matching_annotaudio_Aditya_2018-08-17_01_82',\n",
    "'matching_annotaudio_Aditya_2018-08-17_01_83',\n",
    "'matching_annotaudio_Aditya_2018-08-17_01_84',   \n",
    "]\n",
    "len(valid_file_20180817_00000100)"
   ]
  },
  {
   "cell_type": "markdown",
   "metadata": {},
   "source": [
    "### 2018-08-17_0100-0200_annotation_audio"
   ]
  },
  {
   "cell_type": "code",
   "execution_count": 7,
   "metadata": {},
   "outputs": [],
   "source": [
    "valid_file_20180817_01000200 = [\n",
    "'matching_annotaudio_Aditya_2018-08-17_12_2',\n",
    "'matching_annotaudio_Aditya_2018-08-17_12_4',\n",
    "'matching_annotaudio_Aditya_2018-08-17_12_8',\n",
    "'matching_annotaudio_Aditya_2018-08-17_12_15',\n",
    "'matching_annotaudio_Aditya_2018-08-17_12_16',\n",
    "'matching_annotaudio_Aditya_2018-08-17_12_21',\n",
    "'matching_annotaudio_Aditya_2018-08-17_12_28',\n",
    "'matching_annotaudio_Aditya_2018-08-17_12_29',\n",
    "'matching_annotaudio_Aditya_2018-08-17_12_33',\n",
    "'matching_annotaudio_Aditya_2018-08-17_12_44',\n",
    "'matching_annotaudio_Aditya_2018-08-17_12_50',\n",
    "'matching_annotaudio_Aditya_2018-08-17_12_52',\n",
    "'matching_annotaudio_Aditya_2018-08-17_12_53',\n",
    "'matching_annotaudio_Aditya_2018-08-17_12_61',\n",
    "'matching_annotaudio_Aditya_2018-08-17_12_68',\n",
    "'matching_annotaudio_Aditya_2018-08-17_12_71',\n",
    "'matching_annotaudio_Aditya_2018-08-17_12_72',\n",
    "'matching_annotaudio_Aditya_2018-08-17_12_73',\n",
    "'matching_annotaudio_Aditya_2018-08-17_12_74',\n",
    "'matching_annotaudio_Aditya_2018-08-17_12_75',\n",
    "'matching_annotaudio_Aditya_2018-08-17_12_76',\n",
    "'matching_annotaudio_Aditya_2018-08-17_12_77',\n",
    "'matching_annotaudio_Aditya_2018-08-17_12_78',\n",
    "'matching_annotaudio_Aditya_2018-08-17_12_79',\n",
    "'matching_annotaudio_Aditya_2018-08-17_12_80',\n",
    "'matching_annotaudio_Aditya_2018-08-17_12_88',\n",
    "'matching_annotaudio_Aditya_2018-08-17_12_97',\n",
    "'matching_annotaudio_Aditya_2018-08-17_12_100',\n",
    "'matching_annotaudio_Aditya_2018-08-17_12_101',\n",
    "'matching_annotaudio_Aditya_2018-08-17_12_103',\n",
    "'matching_annotaudio_Aditya_2018-08-17_12_104',\n",
    "'matching_annotaudio_Aditya_2018-08-17_12_105',\n",
    "'matching_annotaudio_Aditya_2018-08-17_12_106',\n",
    "'matching_annotaudio_Aditya_2018-08-17_12_108',\n",
    "'matching_annotaudio_Aditya_2018-08-17_12_110',\n",
    "'matching_annotaudio_Aditya_2018-08-17_12_114',\n",
    "'matching_annotaudio_Aditya_2018-08-17_12_115',\n",
    "'matching_annotaudio_Aditya_2018-08-17_12_116',\n",
    "'matching_annotaudio_Aditya_2018-08-17_12_117',\n",
    "'matching_annotaudio_Aditya_2018-08-17_12_118',\n",
    "'matching_annotaudio_Aditya_2018-08-17_12_121',\n",
    "'matching_annotaudio_Aditya_2018-08-17_12_122',\n",
    "'matching_annotaudio_Aditya_2018-08-17_12_124',\n",
    "'matching_annotaudio_Aditya_2018-08-17_12_125',    \n",
    "]"
   ]
  },
  {
   "cell_type": "markdown",
   "metadata": {},
   "source": [
    "### 2018-08-17_0200-0300_annotation_audio"
   ]
  },
  {
   "cell_type": "code",
   "execution_count": 8,
   "metadata": {},
   "outputs": [
    {
     "data": {
      "text/plain": [
       "78"
      ]
     },
     "execution_count": 8,
     "metadata": {},
     "output_type": "execute_result"
    }
   ],
   "source": [
    "valid_file_20180817_02000300 = [\n",
    "'matching_annotaudio_Aditya_2018-08-17_23_2',\n",
    "'matching_annotaudio_Aditya_2018-08-17_23_3',\n",
    "'matching_annotaudio_Aditya_2018-08-17_23_7',\n",
    "'matching_annotaudio_Aditya_2018-08-17_23_14',\n",
    "'matching_annotaudio_Aditya_2018-08-17_23_15',\n",
    "'matching_annotaudio_Aditya_2018-08-17_23_26',\n",
    "'matching_annotaudio_Aditya_2018-08-17_23_28',\n",
    "'matching_annotaudio_Aditya_2018-08-17_23_30',\n",
    "'matching_annotaudio_Aditya_2018-08-17_23_37',\n",
    "'matching_annotaudio_Aditya_2018-08-17_23_39',\n",
    "'matching_annotaudio_Aditya_2018-08-17_23_40',\n",
    "'matching_annotaudio_Aditya_2018-08-17_23_42',\n",
    "'matching_annotaudio_Aditya_2018-08-17_23_43',\n",
    "'matching_annotaudio_Aditya_2018-08-17_23_45',\n",
    "'matching_annotaudio_Aditya_2018-08-17_23_53',\n",
    "'matching_annotaudio_Aditya_2018-08-17_23_56',\n",
    "'matching_annotaudio_Aditya_2018-08-17_23_58',\n",
    "'matching_annotaudio_Aditya_2018-08-17_23_65',\n",
    "'matching_annotaudio_Aditya_2018-08-17_23_66',\n",
    "'matching_annotaudio_Aditya_2018-08-17_23_67',\n",
    "'matching_annotaudio_Aditya_2018-08-17_23_68',\n",
    "'matching_annotaudio_Aditya_2018-08-17_23_69',\n",
    "'matching_annotaudio_Aditya_2018-08-17_23_70',\n",
    "'matching_annotaudio_Aditya_2018-08-17_23_71',\n",
    "'matching_annotaudio_Aditya_2018-08-17_23_72',\n",
    "'matching_annotaudio_Aditya_2018-08-17_23_75',\n",
    "'matching_annotaudio_Aditya_2018-08-17_23_78',\n",
    "'matching_annotaudio_Aditya_2018-08-17_23_81',\n",
    "'matching_annotaudio_Aditya_2018-08-17_23_82',\n",
    "'matching_annotaudio_Aditya_2018-08-17_23_84',\n",
    "'matching_annotaudio_Aditya_2018-08-17_23_91',\n",
    "'matching_annotaudio_Aditya_2018-08-17_23_92',\n",
    "'matching_annotaudio_Aditya_2018-08-17_23_95',\n",
    "'matching_annotaudio_Aditya_2018-08-17_23_96',\n",
    "'matching_annotaudio_Aditya_2018-08-17_23_97',\n",
    "'matching_annotaudio_Aditya_2018-08-17_23_98',\n",
    "'matching_annotaudio_Aditya_2018-08-17_23_99',\n",
    "'matching_annotaudio_Aditya_2018-08-17_23_100',\n",
    "'matching_annotaudio_Aditya_2018-08-17_23_101',\n",
    "'matching_annotaudio_Aditya_2018-08-17_23_102',\n",
    "'matching_annotaudio_Aditya_2018-08-17_23_105',\n",
    "'matching_annotaudio_Aditya_2018-08-17_23_109',\n",
    "'matching_annotaudio_Aditya_2018-08-17_23_110',\n",
    "'matching_annotaudio_Aditya_2018-08-17_23_111',\n",
    "'matching_annotaudio_Aditya_2018-08-17_23_112',\n",
    "'matching_annotaudio_Aditya_2018-08-17_23_113',\n",
    "'matching_annotaudio_Aditya_2018-08-17_23_115',\n",
    "'matching_annotaudio_Aditya_2018-08-17_23_117',\n",
    "'matching_annotaudio_Aditya_2018-08-17_23_133',\n",
    "'matching_annotaudio_Aditya_2018-08-17_23_134',\n",
    "'matching_annotaudio_Aditya_2018-08-17_23_136',\n",
    "'matching_annotaudio_Aditya_2018-08-17_23_137',\n",
    "'matching_annotaudio_Aditya_2018-08-17_23_138',\n",
    "'matching_annotaudio_Aditya_2018-08-17_23_139',\n",
    "'matching_annotaudio_Aditya_2018-08-17_23_141',\n",
    "'matching_annotaudio_Aditya_2018-08-17_23_142',\n",
    "'matching_annotaudio_Aditya_2018-08-17_23_143',\n",
    "'matching_annotaudio_Aditya_2018-08-17_23_145',\n",
    "'matching_annotaudio_Aditya_2018-08-17_23_146',\n",
    "'matching_annotaudio_Aditya_2018-08-17_23_154',\n",
    "'matching_annotaudio_Aditya_2018-08-17_23_155',\n",
    "'matching_annotaudio_Aditya_2018-08-17_23_156',\n",
    "'matching_annotaudio_Aditya_2018-08-17_23_157',\n",
    "'matching_annotaudio_Aditya_2018-08-17_23_158',\n",
    "'matching_annotaudio_Aditya_2018-08-17_23_161',\n",
    "'matching_annotaudio_Aditya_2018-08-17_23_167',\n",
    "'matching_annotaudio_Aditya_2018-08-17_23_168',\n",
    "'matching_annotaudio_Aditya_2018-08-17_23_170',\n",
    "'matching_annotaudio_Aditya_2018-08-17_23_172',\n",
    "'matching_annotaudio_Aditya_2018-08-17_23_173',\n",
    "'matching_annotaudio_Aditya_2018-08-17_23_174',\n",
    "'matching_annotaudio_Aditya_2018-08-17_23_185',\n",
    "'matching_annotaudio_Aditya_2018-08-17_23_186',\n",
    "'matching_annotaudio_Aditya_2018-08-17_23_187',\n",
    "'matching_annotaudio_Aditya_2018-08-17_23_191',\n",
    "'matching_annotaudio_Aditya_2018-08-17_23_192',\n",
    "'matching_annotaudio_Aditya_2018-08-17_23_193',\n",
    "'matching_annotaudio_Aditya_2018-08-17_23_196'\n",
    "]\n",
    "len(valid_file_20180817_02000300)"
   ]
  },
  {
   "cell_type": "code",
   "execution_count": null,
   "metadata": {},
   "outputs": [],
   "source": []
  },
  {
   "cell_type": "markdown",
   "metadata": {},
   "source": [
    "### 2018-08-17_0300-0400_am_annotation_audio\n",
    "*Note* : The single-call annotation file for this particular file has a misleading name, 'Audio Annotation Datasheet_3-4_16.08.18_corrected(1).csv' - which makes it seem as though the audio corresponds to the 3-4am on the 16th of August. It actually contains the data from the *17*th of August 2018 between 3-4 am. "
   ]
  },
  {
   "cell_type": "code",
   "execution_count": 9,
   "metadata": {},
   "outputs": [
    {
     "data": {
      "text/plain": [
       "84"
      ]
     },
     "execution_count": 9,
     "metadata": {},
     "output_type": "execute_result"
    }
   ],
   "source": [
    "valid_file_20180817_03000400 = [  \n",
    "'matching_annotaudio_Aditya_2018-08-17_34_1',\n",
    "'matching_annotaudio_Aditya_2018-08-17_34_2',\n",
    "'matching_annotaudio_Aditya_2018-08-17_34_3',\n",
    "'matching_annotaudio_Aditya_2018-08-17_34_4',\n",
    "'matching_annotaudio_Aditya_2018-08-17_34_7',\n",
    "'matching_annotaudio_Aditya_2018-08-17_34_12',\n",
    "'matching_annotaudio_Aditya_2018-08-17_34_18',\n",
    "'matching_annotaudio_Aditya_2018-08-17_34_19',\n",
    "'matching_annotaudio_Aditya_2018-08-17_34_20',\n",
    "'matching_annotaudio_Aditya_2018-08-17_34_21',\n",
    "'matching_annotaudio_Aditya_2018-08-17_34_22',\n",
    "'matching_annotaudio_Aditya_2018-08-17_34_23',\n",
    "'matching_annotaudio_Aditya_2018-08-17_34_24',\n",
    "'matching_annotaudio_Aditya_2018-08-17_34_27',\n",
    "'matching_annotaudio_Aditya_2018-08-17_34_31',\n",
    "'matching_annotaudio_Aditya_2018-08-17_34_32',\n",
    "'matching_annotaudio_Aditya_2018-08-17_34_34',\n",
    "'matching_annotaudio_Aditya_2018-08-17_34_35',\n",
    "'matching_annotaudio_Aditya_2018-08-17_34_36',\n",
    "'matching_annotaudio_Aditya_2018-08-17_34_38',\n",
    "'matching_annotaudio_Aditya_2018-08-17_34_39',\n",
    "'matching_annotaudio_Aditya_2018-08-17_34_40',\n",
    "'matching_annotaudio_Aditya_2018-08-17_34_41',\n",
    "'matching_annotaudio_Aditya_2018-08-17_34_43',\n",
    "'matching_annotaudio_Aditya_2018-08-17_34_44',\n",
    "'matching_annotaudio_Aditya_2018-08-17_34_49',\n",
    "'matching_annotaudio_Aditya_2018-08-17_34_51',\n",
    "'matching_annotaudio_Aditya_2018-08-17_34_52',\n",
    "'matching_annotaudio_Aditya_2018-08-17_34_53',\n",
    "'matching_annotaudio_Aditya_2018-08-17_34_54',\n",
    "'matching_annotaudio_Aditya_2018-08-17_34_55',\n",
    "'matching_annotaudio_Aditya_2018-08-17_34_56',\n",
    "'matching_annotaudio_Aditya_2018-08-17_34_57',\n",
    "'matching_annotaudio_Aditya_2018-08-17_34_60',\n",
    "'matching_annotaudio_Aditya_2018-08-17_34_61',\n",
    "'matching_annotaudio_Aditya_2018-08-17_34_62',\n",
    "'matching_annotaudio_Aditya_2018-08-17_34_63',\n",
    "'matching_annotaudio_Aditya_2018-08-17_34_64',\n",
    "'matching_annotaudio_Aditya_2018-08-17_34_65',\n",
    "'matching_annotaudio_Aditya_2018-08-17_34_66',\n",
    "'matching_annotaudio_Aditya_2018-08-17_34_67',\n",
    "'matching_annotaudio_Aditya_2018-08-17_34_69',\n",
    "'matching_annotaudio_Aditya_2018-08-17_34_71',\n",
    "'matching_annotaudio_Aditya_2018-08-17_34_72',\n",
    "'matching_annotaudio_Aditya_2018-08-17_34_73',\n",
    "'matching_annotaudio_Aditya_2018-08-17_34_77',\n",
    "'matching_annotaudio_Aditya_2018-08-17_34_78',\n",
    "'matching_annotaudio_Aditya_2018-08-17_34_79',\n",
    "'matching_annotaudio_Aditya_2018-08-17_34_80',\n",
    "'matching_annotaudio_Aditya_2018-08-17_34_81',\n",
    "'matching_annotaudio_Aditya_2018-08-17_34_82',\n",
    "'matching_annotaudio_Aditya_2018-08-17_34_83',\n",
    "'matching_annotaudio_Aditya_2018-08-17_34_111',\n",
    "'matching_annotaudio_Aditya_2018-08-17_34_120',\n",
    "'matching_annotaudio_Aditya_2018-08-17_34_124',\n",
    "'matching_annotaudio_Aditya_2018-08-17_34_125',\n",
    "'matching_annotaudio_Aditya_2018-08-17_34_132',\n",
    "'matching_annotaudio_Aditya_2018-08-17_34_133',\n",
    "'matching_annotaudio_Aditya_2018-08-17_34_134',\n",
    "'matching_annotaudio_Aditya_2018-08-17_34_136',\n",
    "'matching_annotaudio_Aditya_2018-08-17_34_137',\n",
    "'matching_annotaudio_Aditya_2018-08-17_34_138',\n",
    "'matching_annotaudio_Aditya_2018-08-17_34_142',\n",
    "'matching_annotaudio_Aditya_2018-08-17_34_143',\n",
    "'matching_annotaudio_Aditya_2018-08-17_34_144',\n",
    "'matching_annotaudio_Aditya_2018-08-17_34_145',\n",
    "'matching_annotaudio_Aditya_2018-08-17_34_147',\n",
    "'matching_annotaudio_Aditya_2018-08-17_34_149',\n",
    "'matching_annotaudio_Aditya_2018-08-17_34_151',\n",
    "'matching_annotaudio_Aditya_2018-08-17_34_154',\n",
    "'matching_annotaudio_Aditya_2018-08-17_34_155',\n",
    "'matching_annotaudio_Aditya_2018-08-17_34_156',\n",
    "'matching_annotaudio_Aditya_2018-08-17_34_157',\n",
    "'matching_annotaudio_Aditya_2018-08-17_34_158',\n",
    "'matching_annotaudio_Aditya_2018-08-17_34_163',\n",
    "'matching_annotaudio_Aditya_2018-08-17_34_165',\n",
    "'matching_annotaudio_Aditya_2018-08-17_34_168',\n",
    "'matching_annotaudio_Aditya_2018-08-17_34_169',\n",
    "'matching_annotaudio_Aditya_2018-08-17_34_170',\n",
    "'matching_annotaudio_Aditya_2018-08-17_34_171',\n",
    "'matching_annotaudio_Aditya_2018-08-17_34_201',\n",
    "'matching_annotaudio_Aditya_2018-08-17_34_202',\n",
    "'matching_annotaudio_Aditya_2018-08-17_34_208',\n",
    "'matching_annotaudio_Aditya_2018-08-17_34_211']\n",
    "len(valid_file_20180817_03000400)"
   ]
  },
  {
   "cell_type": "markdown",
   "metadata": {},
   "source": [
    "### 2018-08-17_0400-0500_annotation_audio"
   ]
  },
  {
   "cell_type": "code",
   "execution_count": 10,
   "metadata": {},
   "outputs": [
    {
     "data": {
      "text/plain": [
       "67"
      ]
     },
     "execution_count": 10,
     "metadata": {},
     "output_type": "execute_result"
    }
   ],
   "source": [
    "valid_file_20180817_04000500 = [\n",
    "    \n",
    "'matching_annotaudio_Aditya_2018-08-17_45_1',\n",
    "'matching_annotaudio_Aditya_2018-08-17_45_3',\n",
    "'matching_annotaudio_Aditya_2018-08-17_45_5',\n",
    "'matching_annotaudio_Aditya_2018-08-17_45_8',\n",
    "'matching_annotaudio_Aditya_2018-08-17_45_22',\n",
    "'matching_annotaudio_Aditya_2018-08-17_45_24',\n",
    "'matching_annotaudio_Aditya_2018-08-17_45_25',\n",
    "'matching_annotaudio_Aditya_2018-08-17_45_27',\n",
    "'matching_annotaudio_Aditya_2018-08-17_45_29',\n",
    "'matching_annotaudio_Aditya_2018-08-17_45_51',\n",
    "'matching_annotaudio_Aditya_2018-08-17_45_56',\n",
    "'matching_annotaudio_Aditya_2018-08-17_45_67',\n",
    "'matching_annotaudio_Aditya_2018-08-17_45_93',\n",
    "'matching_annotaudio_Aditya_2018-08-17_45_96',\n",
    "'matching_annotaudio_Aditya_2018-08-17_45_99',\n",
    "'matching_annotaudio_Aditya_2018-08-17_45_100',\n",
    "'matching_annotaudio_Aditya_2018-08-17_45_113',\n",
    "'matching_annotaudio_Aditya_2018-08-17_45_115',\n",
    "'matching_annotaudio_Aditya_2018-08-17_45_116',\n",
    "'matching_annotaudio_Aditya_2018-08-17_45_117',\n",
    "'matching_annotaudio_Aditya_2018-08-17_45_118',\n",
    "'matching_annotaudio_Aditya_2018-08-17_45_119',\n",
    "'matching_annotaudio_Aditya_2018-08-17_45_121',\n",
    "'matching_annotaudio_Aditya_2018-08-17_45_122',\n",
    "'matching_annotaudio_Aditya_2018-08-17_45_123',\n",
    "'matching_annotaudio_Aditya_2018-08-17_45_124',\n",
    "'matching_annotaudio_Aditya_2018-08-17_45_125',\n",
    "'matching_annotaudio_Aditya_2018-08-17_45_128',\n",
    "'matching_annotaudio_Aditya_2018-08-17_45_129',\n",
    "'matching_annotaudio_Aditya_2018-08-17_45_135',\n",
    "'matching_annotaudio_Aditya_2018-08-17_45_137',\n",
    "'matching_annotaudio_Aditya_2018-08-17_45_162',\n",
    "'matching_annotaudio_Aditya_2018-08-17_45_164',\n",
    "'matching_annotaudio_Aditya_2018-08-17_45_172',\n",
    "'matching_annotaudio_Aditya_2018-08-17_45_173',\n",
    "'matching_annotaudio_Aditya_2018-08-17_45_174',\n",
    "'matching_annotaudio_Aditya_2018-08-17_45_178',\n",
    "'matching_annotaudio_Aditya_2018-08-17_45_180',\n",
    "'matching_annotaudio_Aditya_2018-08-17_45_185',\n",
    "'matching_annotaudio_Aditya_2018-08-17_45_189',\n",
    "'matching_annotaudio_Aditya_2018-08-17_45_203',\n",
    "'matching_annotaudio_Aditya_2018-08-17_45_205',\n",
    "'matching_annotaudio_Aditya_2018-08-17_45_210',\n",
    "'matching_annotaudio_Aditya_2018-08-17_45_211',\n",
    "'matching_annotaudio_Aditya_2018-08-17_45_231',\n",
    "'matching_annotaudio_Aditya_2018-08-17_45_237',\n",
    "'matching_annotaudio_Aditya_2018-08-17_45_244',\n",
    "'matching_annotaudio_Aditya_2018-08-17_45_262',\n",
    "'matching_annotaudio_Aditya_2018-08-17_45_266',\n",
    "'matching_annotaudio_Aditya_2018-08-17_45_267',\n",
    "'matching_annotaudio_Aditya_2018-08-17_45_269',\n",
    "'matching_annotaudio_Aditya_2018-08-17_45_279',\n",
    "'matching_annotaudio_Aditya_2018-08-17_45_290',\n",
    "'matching_annotaudio_Aditya_2018-08-17_45_302',\n",
    "'matching_annotaudio_Aditya_2018-08-17_45_303',\n",
    "'matching_annotaudio_Aditya_2018-08-17_45_317',\n",
    "'matching_annotaudio_Aditya_2018-08-17_45_318',\n",
    "'matching_annotaudio_Aditya_2018-08-17_45_319',\n",
    "'matching_annotaudio_Aditya_2018-08-17_45_321',\n",
    "'matching_annotaudio_Aditya_2018-08-17_45_322',\n",
    "'matching_annotaudio_Aditya_2018-08-17_45_326',\n",
    "'matching_annotaudio_Aditya_2018-08-17_45_337',\n",
    "'matching_annotaudio_Aditya_2018-08-17_45_339',\n",
    "'matching_annotaudio_Aditya_2018-08-17_45_340',\n",
    "'matching_annotaudio_Aditya_2018-08-17_45_341',\n",
    "'matching_annotaudio_Aditya_2018-08-17_45_342',\n",
    "'matching_annotaudio_Aditya_2018-08-17_45_348',\n",
    "    \n",
    "]\n",
    "    \n",
    "len(valid_file_20180817_04000500)"
   ]
  },
  {
   "cell_type": "markdown",
   "metadata": {},
   "source": [
    "### 2018-08-17_0500-0600_annotation_audio"
   ]
  },
  {
   "cell_type": "code",
   "execution_count": 11,
   "metadata": {},
   "outputs": [
    {
     "data": {
      "text/plain": [
       "33"
      ]
     },
     "execution_count": 11,
     "metadata": {},
     "output_type": "execute_result"
    }
   ],
   "source": [
    "valid_file_20180817_05000600 = [\n",
    "   \n",
    "'matching_annotaudio_Aditya_2018-08-17_56_1',\n",
    "'matching_annotaudio_Aditya_2018-08-17_56_2',\n",
    "'matching_annotaudio_Aditya_2018-08-17_56_6',\n",
    "'matching_annotaudio_Aditya_2018-08-17_56_7',\n",
    "'matching_annotaudio_Aditya_2018-08-17_56_9',\n",
    "'matching_annotaudio_Aditya_2018-08-17_56_11',\n",
    "'matching_annotaudio_Aditya_2018-08-17_56_12',\n",
    "'matching_annotaudio_Aditya_2018-08-17_56_13',\n",
    "'matching_annotaudio_Aditya_2018-08-17_56_23',\n",
    "'matching_annotaudio_Aditya_2018-08-17_56_26',\n",
    "'matching_annotaudio_Aditya_2018-08-17_56_27',\n",
    "'matching_annotaudio_Aditya_2018-08-17_56_31',\n",
    "'matching_annotaudio_Aditya_2018-08-17_56_33',\n",
    "'matching_annotaudio_Aditya_2018-08-17_56_57',\n",
    "'matching_annotaudio_Aditya_2018-08-17_56_58',\n",
    "'matching_annotaudio_Aditya_2018-08-17_56_59',\n",
    "'matching_annotaudio_Aditya_2018-08-17_56_73',\n",
    "'matching_annotaudio_Aditya_2018-08-17_56_78',\n",
    "'matching_annotaudio_Aditya_2018-08-17_56_81',\n",
    "'matching_annotaudio_Aditya_2018-08-17_56_90',\n",
    "'matching_annotaudio_Aditya_2018-08-17_56_91',\n",
    "'matching_annotaudio_Aditya_2018-08-17_56_96',\n",
    "'matching_annotaudio_Aditya_2018-08-17_56_102',\n",
    "'matching_annotaudio_Aditya_2018-08-17_56_107',\n",
    "'matching_annotaudio_Aditya_2018-08-17_56_108',\n",
    "'matching_annotaudio_Aditya_2018-08-17_56_109',\n",
    "'matching_annotaudio_Aditya_2018-08-17_56_140',\n",
    "'matching_annotaudio_Aditya_2018-08-17_56_143',\n",
    "'matching_annotaudio_Aditya_2018-08-17_56_162',\n",
    "'matching_annotaudio_Aditya_2018-08-17_56_174',\n",
    "'matching_annotaudio_Aditya_2018-08-17_56_176',\n",
    "'matching_annotaudio_Aditya_2018-08-17_56_177',\n",
    "'matching_annotaudio_Aditya_2018-08-17_56_181',    \n",
    "]\n",
    "len(valid_file_20180817_05000600)"
   ]
  },
  {
   "cell_type": "markdown",
   "metadata": {},
   "source": [
    "### 2018-08-19_0120_0200_annotation_audio"
   ]
  },
  {
   "cell_type": "code",
   "execution_count": 12,
   "metadata": {},
   "outputs": [
    {
     "data": {
      "text/plain": [
       "59"
      ]
     },
     "execution_count": 12,
     "metadata": {},
     "output_type": "execute_result"
    }
   ],
   "source": [
    "valid_file_20180819_0120200 = [\n",
    "'matching_annotaudio_Aditya_2018-08-19_0120-0200_1',\n",
    "'matching_annotaudio_Aditya_2018-08-19_0120-0200_8',\n",
    "'matching_annotaudio_Aditya_2018-08-19_0120-0200_13',\n",
    "'matching_annotaudio_Aditya_2018-08-19_0120-0200_14',\n",
    "'matching_annotaudio_Aditya_2018-08-19_0120-0200_18',\n",
    "'matching_annotaudio_Aditya_2018-08-19_0120-0200_19',\n",
    "'matching_annotaudio_Aditya_2018-08-19_0120-0200_20',\n",
    "'matching_annotaudio_Aditya_2018-08-19_0120-0200_21',\n",
    "'matching_annotaudio_Aditya_2018-08-19_0120-0200_22',\n",
    "'matching_annotaudio_Aditya_2018-08-19_0120-0200_23',\n",
    "'matching_annotaudio_Aditya_2018-08-19_0120-0200_24',\n",
    "'matching_annotaudio_Aditya_2018-08-19_0120-0200_27',\n",
    "'matching_annotaudio_Aditya_2018-08-19_0120-0200_59',\n",
    "'matching_annotaudio_Aditya_2018-08-19_0120-0200_60',\n",
    "'matching_annotaudio_Aditya_2018-08-19_0120-0200_62',\n",
    "'matching_annotaudio_Aditya_2018-08-19_0120-0200_63',\n",
    "'matching_annotaudio_Aditya_2018-08-19_0120-0200_64',\n",
    "'matching_annotaudio_Aditya_2018-08-19_0120-0200_65',\n",
    "'matching_annotaudio_Aditya_2018-08-19_0120-0200_66',\n",
    "'matching_annotaudio_Aditya_2018-08-19_0120-0200_70',\n",
    "'matching_annotaudio_Aditya_2018-08-19_0120-0200_71',\n",
    "'matching_annotaudio_Aditya_2018-08-19_0120-0200_72',\n",
    "'matching_annotaudio_Aditya_2018-08-19_0120-0200_73',\n",
    "'matching_annotaudio_Aditya_2018-08-19_0120-0200_74',\n",
    "'matching_annotaudio_Aditya_2018-08-19_0120-0200_76',\n",
    "'matching_annotaudio_Aditya_2018-08-19_0120-0200_77',\n",
    "'matching_annotaudio_Aditya_2018-08-19_0120-0200_78',\n",
    "'matching_annotaudio_Aditya_2018-08-19_0120-0200_79',\n",
    "'matching_annotaudio_Aditya_2018-08-19_0120-0200_80',\n",
    "'matching_annotaudio_Aditya_2018-08-19_0120-0200_81',\n",
    "'matching_annotaudio_Aditya_2018-08-19_0120-0200_82',\n",
    "'matching_annotaudio_Aditya_2018-08-19_0120-0200_83',\n",
    "'matching_annotaudio_Aditya_2018-08-19_0120-0200_84',\n",
    "'matching_annotaudio_Aditya_2018-08-19_0120-0200_85',\n",
    "'matching_annotaudio_Aditya_2018-08-19_0120-0200_86',\n",
    "'matching_annotaudio_Aditya_2018-08-19_0120-0200_87',\n",
    "'matching_annotaudio_Aditya_2018-08-19_0120-0200_88',\n",
    "'matching_annotaudio_Aditya_2018-08-19_0120-0200_90',\n",
    "'matching_annotaudio_Aditya_2018-08-19_0120-0200_93',\n",
    "'matching_annotaudio_Aditya_2018-08-19_0120-0200_94',\n",
    "'matching_annotaudio_Aditya_2018-08-19_0120-0200_95',\n",
    "'matching_annotaudio_Aditya_2018-08-19_0120-0200_96',\n",
    "'matching_annotaudio_Aditya_2018-08-19_0120-0200_101',\n",
    "'matching_annotaudio_Aditya_2018-08-19_0120-0200_105',\n",
    "'matching_annotaudio_Aditya_2018-08-19_0120-0200_106',\n",
    "'matching_annotaudio_Aditya_2018-08-19_0120-0200_107',\n",
    "'matching_annotaudio_Aditya_2018-08-19_0120-0200_109',\n",
    "'matching_annotaudio_Aditya_2018-08-19_0120-0200_110',\n",
    "'matching_annotaudio_Aditya_2018-08-19_0120-0200_111',\n",
    "'matching_annotaudio_Aditya_2018-08-19_0120-0200_112',\n",
    "'matching_annotaudio_Aditya_2018-08-19_0120-0200_113',\n",
    "'matching_annotaudio_Aditya_2018-08-19_0120-0200_117',\n",
    "'matching_annotaudio_Aditya_2018-08-19_0120-0200_118',\n",
    "'matching_annotaudio_Aditya_2018-08-19_0120-0200_119',\n",
    "'matching_annotaudio_Aditya_2018-08-19_0120-0200_120',\n",
    "'matching_annotaudio_Aditya_2018-08-19_0120-0200_123',\n",
    "'matching_annotaudio_Aditya_2018-08-19_0120-0200_124',\n",
    "'matching_annotaudio_Aditya_2018-08-19_0120-0200_127',\n",
    "'matching_annotaudio_Aditya_2018-08-19_0120-0200_128',   \n",
    "]\n",
    "len(valid_file_20180819_0120200)"
   ]
  },
  {
   "cell_type": "markdown",
   "metadata": {},
   "source": [
    "### 2018-08-19_0200-0300_annotation_audio"
   ]
  },
  {
   "cell_type": "code",
   "execution_count": 13,
   "metadata": {},
   "outputs": [
    {
     "data": {
      "text/plain": [
       "18"
      ]
     },
     "execution_count": 13,
     "metadata": {},
     "output_type": "execute_result"
    }
   ],
   "source": [
    "valid_file_20180819_02000300 = [    \n",
    "'matching_annotaudio_Aditya_2018-08-19_23_2',\n",
    "'matching_annotaudio_Aditya_2018-08-19_23_5',\n",
    "'matching_annotaudio_Aditya_2018-08-19_23_6',\n",
    "'matching_annotaudio_Aditya_2018-08-19_23_12',\n",
    "'matching_annotaudio_Aditya_2018-08-19_23_14',\n",
    "'matching_annotaudio_Aditya_2018-08-19_23_15',\n",
    "'matching_annotaudio_Aditya_2018-08-19_23_16',\n",
    "'matching_annotaudio_Aditya_2018-08-19_23_17',\n",
    "'matching_annotaudio_Aditya_2018-08-19_23_18',\n",
    "'matching_annotaudio_Aditya_2018-08-19_23_19',\n",
    "'matching_annotaudio_Aditya_2018-08-19_23_29',\n",
    "'matching_annotaudio_Aditya_2018-08-19_23_31',\n",
    "'matching_annotaudio_Aditya_2018-08-19_23_32',\n",
    "'matching_annotaudio_Aditya_2018-08-19_23_34',\n",
    "'matching_annotaudio_Aditya_2018-08-19_23_37',\n",
    "'matching_annotaudio_Aditya_2018-08-19_23_38',\n",
    "'matching_annotaudio_Aditya_2018-08-19_23_39',\n",
    "'matching_annotaudio_Aditya_2018-08-19_23_40', ]\n",
    "len(valid_file_20180819_02000300)"
   ]
  },
  {
   "cell_type": "markdown",
   "metadata": {},
   "source": [
    "### 2018-08-20_0200_0300_annotation_audio"
   ]
  },
  {
   "cell_type": "code",
   "execution_count": 14,
   "metadata": {},
   "outputs": [
    {
     "data": {
      "text/plain": [
       "29"
      ]
     },
     "execution_count": 14,
     "metadata": {},
     "output_type": "execute_result"
    }
   ],
   "source": [
    "valid_file_20180820_02000300 = [\n",
    "'matching_annotaudio_Aditya_2018-08-20_0200-0300_3',\n",
    "'matching_annotaudio_Aditya_2018-08-20_0200-0300_8',\n",
    "'matching_annotaudio_Aditya_2018-08-20_0200-0300_11',\n",
    "'matching_annotaudio_Aditya_2018-08-20_0200-0300_13',\n",
    "'matching_annotaudio_Aditya_2018-08-20_0200-0300_16',\n",
    "'matching_annotaudio_Aditya_2018-08-20_0200-0300_18',\n",
    "'matching_annotaudio_Aditya_2018-08-20_0200-0300_23',\n",
    "'matching_annotaudio_Aditya_2018-08-20_0200-0300_38',\n",
    "'matching_annotaudio_Aditya_2018-08-20_0200-0300_39',\n",
    "'matching_annotaudio_Aditya_2018-08-20_0200-0300_41',\n",
    "'matching_annotaudio_Aditya_2018-08-20_0200-0300_43',\n",
    "'matching_annotaudio_Aditya_2018-08-20_0200-0300_44',\n",
    "'matching_annotaudio_Aditya_2018-08-20_0200-0300_54',\n",
    "'matching_annotaudio_Aditya_2018-08-20_0200-0300_60',\n",
    "'matching_annotaudio_Aditya_2018-08-20_0200-0300_61',\n",
    "'matching_annotaudio_Aditya_2018-08-20_0200-0300_62',\n",
    "'matching_annotaudio_Aditya_2018-08-20_0200-0300_64',\n",
    "'matching_annotaudio_Aditya_2018-08-20_0200-0300_66',\n",
    "'matching_annotaudio_Aditya_2018-08-20_0200-0300_67',\n",
    "'matching_annotaudio_Aditya_2018-08-20_0200-0300_71',\n",
    "'matching_annotaudio_Aditya_2018-08-20_0200-0300_72',\n",
    "'matching_annotaudio_Aditya_2018-08-20_0200-0300_73',\n",
    "'matching_annotaudio_Aditya_2018-08-20_0200-0300_76',\n",
    "'matching_annotaudio_Aditya_2018-08-20_0200-0300_78',\n",
    "'matching_annotaudio_Aditya_2018-08-20_0200-0300_79',\n",
    "'matching_annotaudio_Aditya_2018-08-20_0200-0300_80',\n",
    "'matching_annotaudio_Aditya_2018-08-20_0200-0300_88',\n",
    "'matching_annotaudio_Aditya_2018-08-20_0200-0300_90',\n",
    "'matching_annotaudio_Aditya_2018-08-20_0200-0300_92',\n",
    "]\n",
    "len(valid_file_20180820_02000300)"
   ]
  },
  {
   "cell_type": "markdown",
   "metadata": {},
   "source": [
    "### 2018-08-20_0300_0400_annotation_audio"
   ]
  },
  {
   "cell_type": "code",
   "execution_count": 15,
   "metadata": {},
   "outputs": [
    {
     "data": {
      "text/plain": [
       "18"
      ]
     },
     "execution_count": 15,
     "metadata": {},
     "output_type": "execute_result"
    }
   ],
   "source": [
    "valid_file_20180820_03000400 = [\n",
    "'matching_annotaudio_Aditya_2018-08-20_0300-0400_18',\n",
    "'matching_annotaudio_Aditya_2018-08-20_0300-0400_19',\n",
    "'matching_annotaudio_Aditya_2018-08-20_0300-0400_25',\n",
    "'matching_annotaudio_Aditya_2018-08-20_0300-0400_31',\n",
    "'matching_annotaudio_Aditya_2018-08-20_0300-0400_35',\n",
    "'matching_annotaudio_Aditya_2018-08-20_0300-0400_39',\n",
    "'matching_annotaudio_Aditya_2018-08-20_0300-0400_56',\n",
    "'matching_annotaudio_Aditya_2018-08-20_0300-0400_58',\n",
    "'matching_annotaudio_Aditya_2018-08-20_0300-0400_61',\n",
    "'matching_annotaudio_Aditya_2018-08-20_0300-0400_70',\n",
    "'matching_annotaudio_Aditya_2018-08-20_0300-0400_79',\n",
    "'matching_annotaudio_Aditya_2018-08-20_0300-0400_81',\n",
    "'matching_annotaudio_Aditya_2018-08-20_0300-0400_83',\n",
    "'matching_annotaudio_Aditya_2018-08-20_0300-0400_84',\n",
    "'matching_annotaudio_Aditya_2018-08-20_0300-0400_85',\n",
    "'matching_annotaudio_Aditya_2018-08-20_0300-0400_90',\n",
    "'matching_annotaudio_Aditya_2018-08-20_0300-0400_91',\n",
    "'matching_annotaudio_Aditya_2018-08-20_0300-0400_92',\n",
    "]\n",
    "\n",
    "\n",
    "len(valid_file_20180820_03000400)"
   ]
  },
  {
   "cell_type": "markdown",
   "metadata": {},
   "source": [
    "### Putting it all together:\n",
    "Now let's join all the valid annotation ids into one big dataframe and save it into a csv file. "
   ]
  },
  {
   "cell_type": "code",
   "execution_count": 16,
   "metadata": {},
   "outputs": [],
   "source": [
    "from pandas.core.common import flatten\n",
    "import numpy as np"
   ]
  },
  {
   "cell_type": "code",
   "execution_count": 17,
   "metadata": {},
   "outputs": [],
   "source": [
    "all_valid_files = list(flatten([ valid_files_20180816_215002300, \n",
    "    valid_files_20180816_23002400,\n",
    "    valid_file_20180817_00000100,\n",
    "    valid_file_20180817_01000200,\n",
    "    valid_file_20180817_02000300,\n",
    "    valid_file_20180817_03000400,\n",
    "    valid_file_20180817_04000500,\n",
    "    valid_file_20180817_05000600,\n",
    "    valid_file_20180819_0120200,\n",
    "    valid_file_20180819_02000300,\n",
    "    valid_file_20180820_02000300,\n",
    "    valid_file_20180820_03000400]))\n",
    "\n",
    "ids, counts = np.unique(all_valid_files, return_counts=True)\n",
    "if np.max(counts)>1:\n",
    "    raise ValueError('There are repeated ids')"
   ]
  },
  {
   "cell_type": "markdown",
   "metadata": {},
   "source": [
    "### Now having, put together all the valid audio annotations with our target species, let's proceed to save these annotation ids into a csv file. "
   ]
  },
  {
   "cell_type": "code",
   "execution_count": 18,
   "metadata": {},
   "outputs": [],
   "source": [
    "valid_annotations = pd.DataFrame(data={'valid_annotations': all_valid_files})\n",
    "valid_annotations.to_csv('valid_annotations.csv')"
   ]
  },
  {
   "cell_type": "markdown",
   "metadata": {},
   "source": [
    "## It's not over! The valid annotations still need to be checked for their correctness\n"
   ]
  },
  {
   "cell_type": "raw",
   "metadata": {
    "scrolled": true
   },
   "source": [
    "### not running this right now because it freezes up the computer when run from the notebook instead of being run as a separate command from the command line. \n",
    "\n",
    "%run -i checking_valid_annotation_audio.py    # generates output in the 'checking_valid_annot_audio' folder with \n",
    "# images of spectrograms and waveforms for each annotation audio file. "
   ]
  },
  {
   "cell_type": "markdown",
   "metadata": {},
   "source": [
    "Because there are so many annotations that were done manually errors do creep in, the final matched audio still need to be checked again for duplicates. Some times even when the audio was apparently matched well, there were no calls in the audio. The spectrogram and waveforms of all audio in the 'valid annotations' file were checked again once more and there are some more audio files that need to be removed for various reasons described below."
   ]
  },
  {
   "cell_type": "markdown",
   "metadata": {},
   "source": [
    "#### List of files which were weird\n",
    "\n",
    "- 2018-08-16_2324_207, 208   : duplicates, audio very similar. Choose only one of the two.\n",
    "- 2018-08-16_2324_214, 215   : duplicates, audio very similar. Choose only one of the two.\n",
    "- 2018-08-16_2324_230, 231   : duplicates, audio very similar. Choose only one of the two.\n",
    "- 2018-08-16_21502300_34, 35 : duplicates. Choose only one of the two.\n",
    "- 2018-08-17_12_28, 29       : duplicates. Choose only one of the two.\n",
    "- 2018-08-17_12_61           : no bat call. Remove from list of audio files to be analysed\n",
    "- 2018-08-17_34_62, 63       : duplicates, only slightly shifted from one another. Choose only one of the two.\n",
    "- 2018-08-17_34_64, 65       : duplicates, slightly shifted.  Choose only one of the two.\n",
    "- 2018-08-17_34_124, 125     : duplicates, slightly shifted.  Choose only one of the two.\n",
    "- 2018-08-17_34_132, 133     : duplicates, slightly shifted.  Choose only one of the two.\n",
    "- 2018-08-17_34_136, 137     : duplicates, slightly shifted.  Choose only one of the two.\n",
    "- 2018-08-17_34_138          : Strong FM calls. Delete"
   ]
  },
  {
   "cell_type": "code",
   "execution_count": 19,
   "metadata": {},
   "outputs": [],
   "source": [
    "short_annots_to_remove = ['2018-08-16_2324_207', '2018-08-16_2324_214', '2018-08-16_2324_230',\n",
    "                         '2018-08-16_21502300_34', '2018-08-17_12_28', '2018-08-17_12_61',\n",
    "                         '2018-08-17_34_62' ,'2018-08-17_34_64','2018-08-17_34_124',\n",
    "                         '2018-08-17_34_132','2018-08-17_34_136','2018-08-17_34_138']\n",
    "to_remove = ['matching_annotaudio_Aditya_' + each for each in short_annots_to_remove]\n",
    "\n"
   ]
  },
  {
   "cell_type": "code",
   "execution_count": 20,
   "metadata": {},
   "outputs": [
    {
     "data": {
      "text/plain": [
       "(629, 1)"
      ]
     },
     "execution_count": 20,
     "metadata": {},
     "output_type": "execute_result"
    }
   ],
   "source": [
    "valid_annotations.shape"
   ]
  },
  {
   "cell_type": "code",
   "execution_count": 21,
   "metadata": {},
   "outputs": [],
   "source": [
    "good_annotations = valid_annotations[~valid_annotations['valid_annotations'].isin(to_remove)]"
   ]
  },
  {
   "cell_type": "code",
   "execution_count": 22,
   "metadata": {},
   "outputs": [],
   "source": [
    "good_annotations.to_csv('verified_annotations.csv')"
   ]
  },
  {
   "cell_type": "markdown",
   "metadata": {},
   "source": [
    "### References\n",
    "\n",
    "1. #### Dietz, C., & Kiefer, A. (2016). Bats of Britain and Europe. Bloomsbury Publishing."
   ]
  },
  {
   "cell_type": "code",
   "execution_count": 23,
   "metadata": {},
   "outputs": [
    {
     "name": "stdout",
     "output_type": "stream",
     "text": [
      "2020-07-13 13:52:33.709524\n"
     ]
    }
   ],
   "source": [
    "print(dt.datetime.now())"
   ]
  }
 ],
 "metadata": {
  "kernelspec": {
   "display_name": "Python [conda env:mhbc] *",
   "language": "python",
   "name": "conda-env-mhbc-py"
  },
  "language_info": {
   "codemirror_mode": {
    "name": "ipython",
    "version": 3
   },
   "file_extension": ".py",
   "mimetype": "text/x-python",
   "name": "python",
   "nbconvert_exporter": "python",
   "pygments_lexer": "ipython3",
   "version": "3.7.0"
  }
 },
 "nbformat": 4,
 "nbformat_minor": 4
}
