{
 "cells": [
  {
   "cell_type": "markdown",
   "metadata": {},
   "source": [
    "I just realised that the current annotation audio is the *raw* annotation audio. This means that I now need to make a separate copy of the files after high-pass filtering. \n",
    "\n",
    "This notebook is based on another notebook used to do something similar ('Making a high-pass copy of the single call audio ')\n",
    "\n",
    "- Author: Thejasvi Beleyur\n",
    "- Date of initiation : 2020-07-13\n"
   ]
  },
  {
   "cell_type": "code",
   "execution_count": 1,
   "metadata": {},
   "outputs": [],
   "source": [
    "import datetime as dt\n",
    "import os\n",
    "import numpy as np \n",
    "import scipy.signal as signal \n",
    "import soundfile as sf\n",
    "import tqdm"
   ]
  },
  {
   "cell_type": "code",
   "execution_count": 2,
   "metadata": {},
   "outputs": [
    {
     "name": "stdout",
     "output_type": "stream",
     "text": [
      "Notebook started at 2020-07-13 16:19:36.437468\n"
     ]
    }
   ],
   "source": [
    "print(f'Notebook started at {dt.datetime.now()}')"
   ]
  },
  {
   "cell_type": "code",
   "execution_count": 3,
   "metadata": {},
   "outputs": [],
   "source": [
    "source_folder = '../annotation_audio/'\n",
    "out_folder = '../hp_annotation_audio/'\n",
    "\n",
    "# check if a folder exists, and make one if not. \n",
    "candidate_files = []\n",
    "for root, dirs, all_files in os.walk(source_folder):\n",
    "    for each in dirs:\n",
    "        candidate_folder_path = os.path.join(out_folder,each)\n",
    "        if os.path.isdir(candidate_folder_path):\n",
    "            pass\n",
    "        else:\n",
    "            os.mkdir(candidate_folder_path)\n",
    "\n"
   ]
  },
  {
   "cell_type": "code",
   "execution_count": 4,
   "metadata": {},
   "outputs": [],
   "source": [
    "b,a = signal.butter(2, 70000/125000, 'highpass')"
   ]
  },
  {
   "cell_type": "code",
   "execution_count": 5,
   "metadata": {},
   "outputs": [],
   "source": [
    "def highpass_filter(one_channel, b,a):\n",
    "    return signal.filtfilt(b,a,one_channel)"
   ]
  },
  {
   "cell_type": "code",
   "execution_count": 6,
   "metadata": {},
   "outputs": [
    {
     "name": "stderr",
     "output_type": "stream",
     "text": [
      "0it [00:00, ?it/s]\n",
      "100%|██████████| 191/191 [00:14<00:00, 12.93it/s]\n",
      "100%|██████████| 92/92 [00:10<00:00,  9.18it/s]\n",
      "100%|██████████| 133/133 [00:11<00:00, 11.49it/s]\n",
      "100%|██████████| 191/191 [00:20<00:00,  9.14it/s]\n",
      "100%|██████████| 53/53 [00:03<00:00, 14.06it/s]\n",
      "100%|██████████| 85/85 [00:08<00:00, 10.46it/s]\n",
      "100%|██████████| 69/69 [00:03<00:00, 20.27it/s]\n",
      "100%|██████████| 82/82 [00:08<00:00, 10.00it/s]\n",
      "100%|██████████| 102/102 [00:08<00:00, 12.43it/s]\n",
      "100%|██████████| 119/119 [00:07<00:00, 15.60it/s]\n",
      "100%|██████████| 23/23 [00:01<00:00, 19.32it/s]\n",
      "100%|██████████| 48/48 [00:02<00:00, 18.37it/s]\n"
     ]
    }
   ],
   "source": [
    "# load all audio fils in the source and save an hp version in the out folder\n",
    "for root, dirs, all_files in os.walk(source_folder):\n",
    "    for each in tqdm.tqdm(all_files):\n",
    "        try:\n",
    "            date_folder = os.path.split(root)[1]\n",
    "            original_audio_path = os.path.join(root, each)\n",
    "            if each[-4:] == '.WAV':\n",
    "                audio, fs = sf.read(original_audio_path)\n",
    "\n",
    "                # highpass \n",
    "                hp_audio = np.apply_along_axis(highpass_filter, 0, audio, b,a)\n",
    "                # save in out folder with _hp suffix\n",
    "                file_name, file_format = each.split('.')\n",
    "                with_hp_suffix = file_name+'_hp.'+file_format\n",
    "                out_file_path  = os.path.join(out_folder,date_folder,with_hp_suffix)\n",
    "                if not os.path.exists(out_file_path):\n",
    "                    sf.write(out_file_path, hp_audio, fs)\n",
    "        except ValueError:\n",
    "            print(each)\n"
   ]
  },
  {
   "cell_type": "code",
   "execution_count": 7,
   "metadata": {},
   "outputs": [
    {
     "name": "stdout",
     "output_type": "stream",
     "text": [
      "Notebook ended at 2020-07-13 16:21:16.939450\n"
     ]
    }
   ],
   "source": [
    "print(f'Notebook ended at {dt.datetime.now()}')"
   ]
  }
 ],
 "metadata": {
  "kernelspec": {
   "display_name": "Python [conda env:mhbc] *",
   "language": "python",
   "name": "conda-env-mhbc-py"
  },
  "language_info": {
   "codemirror_mode": {
    "name": "ipython",
    "version": 3
   },
   "file_extension": ".py",
   "mimetype": "text/x-python",
   "name": "python",
   "nbconvert_exporter": "python",
   "pygments_lexer": "ipython3",
   "version": "3.7.0"
  }
 },
 "nbformat": 4,
 "nbformat_minor": 4
}
