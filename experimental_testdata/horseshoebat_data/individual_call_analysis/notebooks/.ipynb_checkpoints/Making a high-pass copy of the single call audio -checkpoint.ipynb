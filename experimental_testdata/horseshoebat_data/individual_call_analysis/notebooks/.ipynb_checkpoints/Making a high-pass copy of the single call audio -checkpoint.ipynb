{
 "cells": [
  {
   "cell_type": "markdown",
   "metadata": {},
   "source": [
    "I only realised today that all the audio till now I've been working with is *raw*. I need to high-pass filter the single call audio selections to get better CF/FM segmentation and measurements of these regions. \n",
    "\n",
    "This notebook will create a new directory,```hp_ind_calls```, and copy the structure of all the folders, except with the audio files being highpassed at 65 kHz. \n",
    "\n",
    "- Thejasvi Beleyur, June 2020"
   ]
  },
  {
   "cell_type": "code",
   "execution_count": 1,
   "metadata": {},
   "outputs": [],
   "source": [
    "import numpy as np \n",
    "import os\n",
    "import scipy.signal as signal \n",
    "import soundfile as sf"
   ]
  },
  {
   "cell_type": "markdown",
   "metadata": {},
   "source": [
    "### Here let's replicate the folder structure of the ```raw_ind_calls``` directory."
   ]
  },
  {
   "cell_type": "code",
   "execution_count": 2,
   "metadata": {},
   "outputs": [],
   "source": [
    "source_folder = '../raw_ind_calls/'\n",
    "out_folder = '../hp_ind_calls/'\n",
    "\n",
    "# check if a folder exists, and make one if not. \n",
    "candidate_files = []\n",
    "for root, dirs, all_files in os.walk(source_folder):\n",
    "    for each in dirs:\n",
    "        candidate_folder_path = os.path.join(out_folder,each)\n",
    "        if os.path.isdir(candidate_folder_path):\n",
    "            pass\n",
    "        else:\n",
    "            os.mkdir(candidate_folder_path)\n"
   ]
  },
  {
   "cell_type": "code",
   "execution_count": 3,
   "metadata": {},
   "outputs": [],
   "source": [
    "b,a = signal.butter(2, 70000/125000, 'highpass')"
   ]
  },
  {
   "cell_type": "markdown",
   "metadata": {},
   "source": [
    "### Here let's load each file from the ```raw_ind_calls``` folder tree, highpass filter it, and then save the highpassed version into the ```hp_ind_calls``` folder tree. All highpassed filtered files have a ```_hp``` suffix to them. "
   ]
  },
  {
   "cell_type": "code",
   "execution_count": 6,
   "metadata": {},
   "outputs": [
    {
     "name": "stdout",
     "output_type": "stream",
     "text": [
      "segment_matching_annotaudio_Aditya_2018-08-19_0120-0200_117.WAV\n",
      "segment_matching_annotaudio_Aditya_2018-08-17_01_2.WAV\n"
     ]
    }
   ],
   "source": [
    "# load all audio fils in the source and save an hp version in the out folder\n",
    "for root, dirs, all_files in os.walk(source_folder):\n",
    "    for each in all_files:\n",
    "        try:\n",
    "            date_folder = os.path.split(root)[1]\n",
    "            original_audio_path = os.path.join(root, each)\n",
    "            audio, fs = sf.read(original_audio_path)\n",
    "\n",
    "            # highpass \n",
    "            hp_audio = signal.filtfilt(b,a,audio)\n",
    "\n",
    "            # save in out folder with _hp suffix\n",
    "            file_name, file_format = each.split('.')\n",
    "            with_hp_suffix = file_name+'_hp.'+file_format\n",
    "            out_file_path  = os.path.join(out_folder,date_folder,with_hp_suffix)\n",
    "            if not os.path.exists(out_file_path):\n",
    "                sf.write(out_file_path, hp_audio, fs)\n",
    "        except:\n",
    "            print(each)\n",
    "\n"
   ]
  }
 ],
 "metadata": {
  "kernelspec": {
   "display_name": "Python [conda env:mhbc] *",
   "language": "python",
   "name": "conda-env-mhbc-py"
  },
  "language_info": {
   "codemirror_mode": {
    "name": "ipython",
    "version": 3
   },
   "file_extension": ".py",
   "mimetype": "text/x-python",
   "name": "python",
   "nbconvert_exporter": "python",
   "pygments_lexer": "ipython3",
   "version": "3.7.0"
  }
 },
 "nbformat": 4,
 "nbformat_minor": 4
}
