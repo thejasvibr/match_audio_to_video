{
 "cells": [
  {
   "cell_type": "markdown",
   "metadata": {},
   "source": [
    "This is a test notebook to see if the ```itsfm``` package (v0.1.0) can handle the actual audio recordings well enough to be of use! I'll be loading the raw audio snippets and check to see if the segmentations and measurements work as expected. "
   ]
  },
  {
   "cell_type": "code",
   "execution_count": 1,
   "metadata": {},
   "outputs": [],
   "source": [
    "import glob \n",
    "import matplotlib.pyplot as plt\n",
    "plt.rcParams['agg.path.chunksize'] = 10000\n",
    "import os \n",
    "import natsort\n",
    "import scipy.signal as signal \n",
    "import soundfile as sf\n",
    "import itsfm"
   ]
  },
  {
   "cell_type": "code",
   "execution_count": 2,
   "metadata": {},
   "outputs": [],
   "source": [
    "import pandas as pd"
   ]
  },
  {
   "cell_type": "code",
   "execution_count": 3,
   "metadata": {},
   "outputs": [],
   "source": [
    "%matplotlib notebook"
   ]
  },
  {
   "cell_type": "code",
   "execution_count": 4,
   "metadata": {},
   "outputs": [],
   "source": [
    "source_folder = '../raw_ind_calls/2018-08-17_0500-0600'\n",
    "audio_files = glob.glob( os.path.join(source_folder,'*.WAV'))"
   ]
  },
  {
   "cell_type": "code",
   "execution_count": 5,
   "metadata": {},
   "outputs": [],
   "source": [
    "batch_file = pd.DataFrame(data=[], columns=['audio_path', 'segment_method', 'signal_level','tfr_cliprange',\n",
    "                                            'measurements',])"
   ]
  },
  {
   "cell_type": "code",
   "execution_count": 6,
   "metadata": {},
   "outputs": [],
   "source": [
    "batch_file['audio_path'] = natsort.natsorted(audio_files)\n",
    "batch_file['audio_path'] =  '../'+batch_file['audio_path']\n",
    "batch_file['segment_method'] = 'pwvd'\n",
    "batch_file['signal_level'] = -46\n",
    "batch_file['window_size'] = 375\n",
    "batch_file['extrap_window'] = 50*10**-6\n",
    "batch_file['max_acc'] = 3\n",
    "batch_file['fmrate_threshold'] = 2\n",
    "batch_file['measurements'] ='[measure_peak_amplitude, measure_peak_frequency, measure_rms, measure_terminal_frequency]'\n",
    "batch_file['tfr_cliprange'] = 'DEFAULT'"
   ]
  },
  {
   "cell_type": "code",
   "execution_count": null,
   "metadata": {},
   "outputs": [],
   "source": []
  },
  {
   "cell_type": "code",
   "execution_count": 7,
   "metadata": {},
   "outputs": [
    {
     "data": {
      "text/html": [
       "<div>\n",
       "<style scoped>\n",
       "    .dataframe tbody tr th:only-of-type {\n",
       "        vertical-align: middle;\n",
       "    }\n",
       "\n",
       "    .dataframe tbody tr th {\n",
       "        vertical-align: top;\n",
       "    }\n",
       "\n",
       "    .dataframe thead th {\n",
       "        text-align: right;\n",
       "    }\n",
       "</style>\n",
       "<table border=\"1\" class=\"dataframe\">\n",
       "  <thead>\n",
       "    <tr style=\"text-align: right;\">\n",
       "      <th></th>\n",
       "      <th>audio_path</th>\n",
       "      <th>segment_method</th>\n",
       "      <th>signal_level</th>\n",
       "      <th>tfr_cliprange</th>\n",
       "      <th>measurements</th>\n",
       "      <th>window_size</th>\n",
       "      <th>extrap_window</th>\n",
       "      <th>max_acc</th>\n",
       "      <th>fmrate_threshold</th>\n",
       "    </tr>\n",
       "  </thead>\n",
       "  <tbody>\n",
       "    <tr>\n",
       "      <th>0</th>\n",
       "      <td>../../raw_ind_calls/2018-08-17_0500-0600/segme...</td>\n",
       "      <td>pwvd</td>\n",
       "      <td>-46</td>\n",
       "      <td>DEFAULT</td>\n",
       "      <td>[measure_peak_amplitude, measure_peak_frequenc...</td>\n",
       "      <td>375</td>\n",
       "      <td>0.00005</td>\n",
       "      <td>3</td>\n",
       "      <td>2</td>\n",
       "    </tr>\n",
       "    <tr>\n",
       "      <th>1</th>\n",
       "      <td>../../raw_ind_calls/2018-08-17_0500-0600/segme...</td>\n",
       "      <td>pwvd</td>\n",
       "      <td>-46</td>\n",
       "      <td>DEFAULT</td>\n",
       "      <td>[measure_peak_amplitude, measure_peak_frequenc...</td>\n",
       "      <td>375</td>\n",
       "      <td>0.00005</td>\n",
       "      <td>3</td>\n",
       "      <td>2</td>\n",
       "    </tr>\n",
       "    <tr>\n",
       "      <th>2</th>\n",
       "      <td>../../raw_ind_calls/2018-08-17_0500-0600/segme...</td>\n",
       "      <td>pwvd</td>\n",
       "      <td>-46</td>\n",
       "      <td>DEFAULT</td>\n",
       "      <td>[measure_peak_amplitude, measure_peak_frequenc...</td>\n",
       "      <td>375</td>\n",
       "      <td>0.00005</td>\n",
       "      <td>3</td>\n",
       "      <td>2</td>\n",
       "    </tr>\n",
       "    <tr>\n",
       "      <th>3</th>\n",
       "      <td>../../raw_ind_calls/2018-08-17_0500-0600/segme...</td>\n",
       "      <td>pwvd</td>\n",
       "      <td>-46</td>\n",
       "      <td>DEFAULT</td>\n",
       "      <td>[measure_peak_amplitude, measure_peak_frequenc...</td>\n",
       "      <td>375</td>\n",
       "      <td>0.00005</td>\n",
       "      <td>3</td>\n",
       "      <td>2</td>\n",
       "    </tr>\n",
       "    <tr>\n",
       "      <th>4</th>\n",
       "      <td>../../raw_ind_calls/2018-08-17_0500-0600/segme...</td>\n",
       "      <td>pwvd</td>\n",
       "      <td>-46</td>\n",
       "      <td>DEFAULT</td>\n",
       "      <td>[measure_peak_amplitude, measure_peak_frequenc...</td>\n",
       "      <td>375</td>\n",
       "      <td>0.00005</td>\n",
       "      <td>3</td>\n",
       "      <td>2</td>\n",
       "    </tr>\n",
       "  </tbody>\n",
       "</table>\n",
       "</div>"
      ],
      "text/plain": [
       "                                          audio_path segment_method  \\\n",
       "0  ../../raw_ind_calls/2018-08-17_0500-0600/segme...           pwvd   \n",
       "1  ../../raw_ind_calls/2018-08-17_0500-0600/segme...           pwvd   \n",
       "2  ../../raw_ind_calls/2018-08-17_0500-0600/segme...           pwvd   \n",
       "3  ../../raw_ind_calls/2018-08-17_0500-0600/segme...           pwvd   \n",
       "4  ../../raw_ind_calls/2018-08-17_0500-0600/segme...           pwvd   \n",
       "\n",
       "   signal_level tfr_cliprange  \\\n",
       "0           -46       DEFAULT   \n",
       "1           -46       DEFAULT   \n",
       "2           -46       DEFAULT   \n",
       "3           -46       DEFAULT   \n",
       "4           -46       DEFAULT   \n",
       "\n",
       "                                        measurements  window_size  \\\n",
       "0  [measure_peak_amplitude, measure_peak_frequenc...          375   \n",
       "1  [measure_peak_amplitude, measure_peak_frequenc...          375   \n",
       "2  [measure_peak_amplitude, measure_peak_frequenc...          375   \n",
       "3  [measure_peak_amplitude, measure_peak_frequenc...          375   \n",
       "4  [measure_peak_amplitude, measure_peak_frequenc...          375   \n",
       "\n",
       "   extrap_window  max_acc  fmrate_threshold  \n",
       "0        0.00005        3                 2  \n",
       "1        0.00005        3                 2  \n",
       "2        0.00005        3                 2  \n",
       "3        0.00005        3                 2  \n",
       "4        0.00005        3                 2  "
      ]
     },
     "execution_count": 7,
     "metadata": {},
     "output_type": "execute_result"
    }
   ],
   "source": [
    "batch_file.head()"
   ]
  },
  {
   "cell_type": "code",
   "execution_count": 8,
   "metadata": {},
   "outputs": [],
   "source": [
    "# write the basic batch file to csv\n",
    "source_folder_name = os.path.split(source_folder)[1]\n",
    "batchfile_path = os.path.join(source_folder_name,source_folder_name+'.csv')\n"
   ]
  },
  {
   "cell_type": "code",
   "execution_count": 9,
   "metadata": {},
   "outputs": [
    {
     "data": {
      "text/plain": [
       "'2018-08-17_0500-0600/2018-08-17_0500-0600.csv'"
      ]
     },
     "execution_count": 9,
     "metadata": {},
     "output_type": "execute_result"
    }
   ],
   "source": [
    "batchfile_path"
   ]
  },
  {
   "cell_type": "code",
   "execution_count": 10,
   "metadata": {},
   "outputs": [],
   "source": [
    "batch_file.to_csv(batchfile_path)"
   ]
  },
  {
   "cell_type": "code",
   "execution_count": null,
   "metadata": {},
   "outputs": [],
   "source": []
  }
 ],
 "metadata": {
  "kernelspec": {
   "display_name": "Python [conda env:mhbc] *",
   "language": "python",
   "name": "conda-env-mhbc-py"
  },
  "language_info": {
   "codemirror_mode": {
    "name": "ipython",
    "version": 3
   },
   "file_extension": ".py",
   "mimetype": "text/x-python",
   "name": "python",
   "nbconvert_exporter": "python",
   "pygments_lexer": "ipython3",
   "version": "3.7.0"
  }
 },
 "nbformat": 4,
 "nbformat_minor": 4
}
