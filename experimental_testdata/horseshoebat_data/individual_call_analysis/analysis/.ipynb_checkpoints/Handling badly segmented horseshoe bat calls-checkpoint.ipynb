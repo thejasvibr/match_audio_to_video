{
 "cells": [
  {
   "cell_type": "markdown",
   "metadata": {},
   "source": [
    "This notebook will handle the 'odd' calls resulting from the strict FM-rate based segmentation of the itsFM package [1]. Because of the weird segmentation the measurements are also irrelevant for the study. This notebook will 'fuse' the poor segmentations (all 'regions' post cf1 will be fused into fm2 after manual checking), and measurements will be run anew for these correctly segmented calls. \n",
    "\n",
    "Here is an example call that has been poorly segmented because of the strict FMrate based segmentation. This leads to multiple FM or CF segments being detected because the FM rate goes up and down over the  FM hook for instance.\n",
    "![](./hooked_fm_eg.png)\n",
    "\n",
    "The other odd calls could also be the result of poor ```itsfm``` parameter choices, and may require removal of a call too. In these cases, a second check takes place.\n",
    "\n",
    "Author: Thejasvi Beleyur \n",
    "Date: 2020-06-26"
   ]
  },
  {
   "cell_type": "code",
   "execution_count": 1,
   "metadata": {},
   "outputs": [
    {
     "name": "stdout",
     "output_type": "stream",
     "text": [
      "This notebook run was initiated at : 2020-07-10 19:26:50.918637\n"
     ]
    }
   ],
   "source": [
    "import datetime as dt\n",
    "print(f\"This notebook run was initiated at : {dt.datetime.now()}\")\n",
    "import itsfm\n",
    "import matplotlib.pyplot as plt \n",
    "import pandas as pd \n",
    "import numpy as np \n",
    "import soundfile as sf\n",
    "import sys \n"
   ]
  },
  {
   "cell_type": "code",
   "execution_count": null,
   "metadata": {},
   "outputs": [],
   "source": []
  },
  {
   "cell_type": "code",
   "execution_count": 2,
   "metadata": {},
   "outputs": [],
   "source": [
    "%matplotlib notebook"
   ]
  },
  {
   "cell_type": "code",
   "execution_count": 3,
   "metadata": {},
   "outputs": [
    {
     "data": {
      "text/html": [
       "<div>\n",
       "<style scoped>\n",
       "    .dataframe tbody tr th:only-of-type {\n",
       "        vertical-align: middle;\n",
       "    }\n",
       "\n",
       "    .dataframe tbody tr th {\n",
       "        vertical-align: top;\n",
       "    }\n",
       "\n",
       "    .dataframe thead th {\n",
       "        text-align: right;\n",
       "    }\n",
       "</style>\n",
       "<table border=\"1\" class=\"dataframe\">\n",
       "  <thead>\n",
       "    <tr style=\"text-align: right;\">\n",
       "      <th></th>\n",
       "      <th>Unnamed: 0</th>\n",
       "      <th>Unnamed: 0.1</th>\n",
       "      <th>audio_file</th>\n",
       "      <th>duration</th>\n",
       "      <th>peak_amplitude</th>\n",
       "      <th>peak_freq_resolution</th>\n",
       "      <th>peak_frequency</th>\n",
       "      <th>region_id</th>\n",
       "      <th>rms</th>\n",
       "      <th>start</th>\n",
       "      <th>stop</th>\n",
       "      <th>terminal_frequency</th>\n",
       "      <th>terminal_frequency_threshold</th>\n",
       "      <th>video_annot_id</th>\n",
       "      <th>num_bats</th>\n",
       "    </tr>\n",
       "  </thead>\n",
       "  <tbody>\n",
       "    <tr>\n",
       "      <th>0</th>\n",
       "      <td>0</td>\n",
       "      <td>0</td>\n",
       "      <td>segment_matching_annotaudio_Aditya_2018-08-16_...</td>\n",
       "      <td>0.001556</td>\n",
       "      <td>0.259338</td>\n",
       "      <td>1282.051282</td>\n",
       "      <td>103470.437018</td>\n",
       "      <td>fm1</td>\n",
       "      <td>0.125976</td>\n",
       "      <td>0.000000</td>\n",
       "      <td>0.001556</td>\n",
       "      <td>93830.334190</td>\n",
       "      <td>-10</td>\n",
       "      <td>Aditya_2018-08-16_21502300_100</td>\n",
       "      <td>2</td>\n",
       "    </tr>\n",
       "    <tr>\n",
       "      <th>1</th>\n",
       "      <td>1</td>\n",
       "      <td>1</td>\n",
       "      <td>segment_matching_annotaudio_Aditya_2018-08-16_...</td>\n",
       "      <td>0.017596</td>\n",
       "      <td>0.406403</td>\n",
       "      <td>113.636364</td>\n",
       "      <td>105876.335531</td>\n",
       "      <td>cf1</td>\n",
       "      <td>0.172472</td>\n",
       "      <td>0.001556</td>\n",
       "      <td>0.019152</td>\n",
       "      <td>105705.842237</td>\n",
       "      <td>-10</td>\n",
       "      <td>Aditya_2018-08-16_21502300_100</td>\n",
       "      <td>2</td>\n",
       "    </tr>\n",
       "    <tr>\n",
       "      <th>2</th>\n",
       "      <td>2</td>\n",
       "      <td>2</td>\n",
       "      <td>segment_matching_annotaudio_Aditya_2018-08-16_...</td>\n",
       "      <td>0.001764</td>\n",
       "      <td>0.110443</td>\n",
       "      <td>1131.221719</td>\n",
       "      <td>104875.283447</td>\n",
       "      <td>fm2</td>\n",
       "      <td>0.069835</td>\n",
       "      <td>0.019152</td>\n",
       "      <td>0.020916</td>\n",
       "      <td>92403.628118</td>\n",
       "      <td>-10</td>\n",
       "      <td>Aditya_2018-08-16_21502300_100</td>\n",
       "      <td>2</td>\n",
       "    </tr>\n",
       "    <tr>\n",
       "      <th>3</th>\n",
       "      <td>3</td>\n",
       "      <td>3</td>\n",
       "      <td>segment_matching_annotaudio_Aditya_2018-08-16_...</td>\n",
       "      <td>0.001088</td>\n",
       "      <td>0.089539</td>\n",
       "      <td>1824.817518</td>\n",
       "      <td>91911.764706</td>\n",
       "      <td>cf2</td>\n",
       "      <td>0.045110</td>\n",
       "      <td>0.020916</td>\n",
       "      <td>0.022004</td>\n",
       "      <td>91911.764706</td>\n",
       "      <td>-10</td>\n",
       "      <td>Aditya_2018-08-16_21502300_100</td>\n",
       "      <td>2</td>\n",
       "    </tr>\n",
       "    <tr>\n",
       "      <th>4</th>\n",
       "      <td>4</td>\n",
       "      <td>0</td>\n",
       "      <td>segment_matching_annotaudio_Aditya_2018-08-16_...</td>\n",
       "      <td>0.000192</td>\n",
       "      <td>0.013245</td>\n",
       "      <td>10000.000000</td>\n",
       "      <td>104166.666667</td>\n",
       "      <td>fm1</td>\n",
       "      <td>0.006660</td>\n",
       "      <td>0.001288</td>\n",
       "      <td>0.001480</td>\n",
       "      <td>98958.333333</td>\n",
       "      <td>-10</td>\n",
       "      <td>Aditya_2018-08-16_21502300_102</td>\n",
       "      <td>1</td>\n",
       "    </tr>\n",
       "  </tbody>\n",
       "</table>\n",
       "</div>"
      ],
      "text/plain": [
       "   Unnamed: 0  Unnamed: 0.1  \\\n",
       "0           0             0   \n",
       "1           1             1   \n",
       "2           2             2   \n",
       "3           3             3   \n",
       "4           4             0   \n",
       "\n",
       "                                          audio_file  duration  \\\n",
       "0  segment_matching_annotaudio_Aditya_2018-08-16_...  0.001556   \n",
       "1  segment_matching_annotaudio_Aditya_2018-08-16_...  0.017596   \n",
       "2  segment_matching_annotaudio_Aditya_2018-08-16_...  0.001764   \n",
       "3  segment_matching_annotaudio_Aditya_2018-08-16_...  0.001088   \n",
       "4  segment_matching_annotaudio_Aditya_2018-08-16_...  0.000192   \n",
       "\n",
       "   peak_amplitude  peak_freq_resolution  peak_frequency region_id       rms  \\\n",
       "0        0.259338           1282.051282   103470.437018       fm1  0.125976   \n",
       "1        0.406403            113.636364   105876.335531       cf1  0.172472   \n",
       "2        0.110443           1131.221719   104875.283447       fm2  0.069835   \n",
       "3        0.089539           1824.817518    91911.764706       cf2  0.045110   \n",
       "4        0.013245          10000.000000   104166.666667       fm1  0.006660   \n",
       "\n",
       "      start      stop  terminal_frequency  terminal_frequency_threshold  \\\n",
       "0  0.000000  0.001556        93830.334190                           -10   \n",
       "1  0.001556  0.019152       105705.842237                           -10   \n",
       "2  0.019152  0.020916        92403.628118                           -10   \n",
       "3  0.020916  0.022004        91911.764706                           -10   \n",
       "4  0.001288  0.001480        98958.333333                           -10   \n",
       "\n",
       "                   video_annot_id  num_bats  \n",
       "0  Aditya_2018-08-16_21502300_100         2  \n",
       "1  Aditya_2018-08-16_21502300_100         2  \n",
       "2  Aditya_2018-08-16_21502300_100         2  \n",
       "3  Aditya_2018-08-16_21502300_100         2  \n",
       "4  Aditya_2018-08-16_21502300_102         1  "
      ]
     },
     "execution_count": 3,
     "metadata": {},
     "output_type": "execute_result"
    }
   ],
   "source": [
    "df = pd.read_csv('odd_calls_msmts.csv')\n",
    "df_by_calls = df.groupby(['video_annot_id'])\n",
    "df.head()"
   ]
  },
  {
   "cell_type": "code",
   "execution_count": 4,
   "metadata": {},
   "outputs": [
    {
     "data": {
      "text/plain": [
       "63"
      ]
     },
     "execution_count": 4,
     "metadata": {},
     "output_type": "execute_result"
    }
   ],
   "source": [
    "len(df_by_calls.groups.keys())"
   ]
  },
  {
   "cell_type": "code",
   "execution_count": 5,
   "metadata": {},
   "outputs": [
    {
     "name": "stdout",
     "output_type": "stream",
     "text": [
      "                                 0\n",
      "0   Aditya_2018-08-16_21502300_100\n",
      "1   Aditya_2018-08-16_21502300_102\n",
      "2    Aditya_2018-08-16_21502300_19\n",
      "3        Aditya_2018-08-16_2324_14\n",
      "4       Aditya_2018-08-16_2324_148\n",
      "..                             ...\n",
      "58         Aditya_2018-08-19_23_16\n",
      "59         Aditya_2018-08-19_23_17\n",
      "60         Aditya_2018-08-19_23_18\n",
      "61         Aditya_2018-08-19_23_39\n",
      "62  Aditya_2018-08-20_0300-0400_56\n",
      "\n",
      "[63 rows x 1 columns]\n"
     ]
    }
   ],
   "source": [
    "print(pd.DataFrame(data=df_by_calls.groups.keys()))"
   ]
  },
  {
   "cell_type": "markdown",
   "metadata": {},
   "source": [
    "### Actions to be taken for each 'odd' call"
   ]
  },
  {
   "cell_type": "code",
   "execution_count": 6,
   "metadata": {},
   "outputs": [],
   "source": [
    "import correct_bad_segs.re_measure_bad_segs as rmbg\n",
    "from itsfm import measure_hbc_call\n",
    "from itsfm.measurement_functions import measure_peak_amplitude, measure_peak_frequency, measure_rms, measure_terminal_frequency"
   ]
  },
  {
   "cell_type": "code",
   "execution_count": 7,
   "metadata": {},
   "outputs": [
    {
     "data": {
      "text/plain": [
       "280    fm1\n",
       "281    cf1\n",
       "282    fm2\n",
       "283    cf2\n",
       "284    fm3\n",
       "Name: region_id, dtype: object"
      ]
     },
     "execution_count": 7,
     "metadata": {},
     "output_type": "execute_result"
    }
   ],
   "source": [
    "call_id = 'Aditya_2018-08-17_23_56'\n",
    "\n",
    "df_by_calls.get_group(call_id)['region_id']"
   ]
  },
  {
   "cell_type": "code",
   "execution_count": 8,
   "metadata": {},
   "outputs": [],
   "source": [
    "# make a dictionary containing the relevant call IDs as keys and old_regions_list + reassigned_list as entries\n",
    "fm2cf2_to_fm2 = ([['fm2','cf2']] , ['fm2'])\n",
    "cf1fm1_to_fm1 = ([['cf1','fm1']], ['fm1'])\n",
    "fm1cf2_to_fm1 = ([['fm1','cf2']], ['fm1'])\n",
    "\n",
    "cf1fm2cf2_to_cf1 = ([['cf1','fm2','cf2']], ['cf1'])\n",
    "\n",
    "fm1cf2fm2_to_fm1 = ([['fm1', 'cf2', 'fm2']], ['fm1'])\n",
    "fm2cf2fm3_to_fm2 = ([['fm2', 'cf2', 'fm3']], ['fm2'])\n",
    "fm2cf2fm3cf3_to_fm2 = ([['fm2', 'cf2', 'fm3','cf3']], ['fm2'])\n",
    "fm1cf2fm2cf3fm3_to_fm1 = ([['fm1','cf2','fm2','cf3','fm3']], ['fm1'])\n",
    "fm1cf1fm2_to_fm1 = ([['fm1', 'cf1', 'fm2']], ['fm1'])\n",
    "fm2cf2fm3cf3_to_fm2 = ([['fm2', 'cf2', 'fm3','cf3']], ['fm2'])\n",
    "\n",
    "action_delete = ([],[])"
   ]
  },
  {
   "cell_type": "code",
   "execution_count": 9,
   "metadata": {},
   "outputs": [],
   "source": [
    "corrections = {    \n",
    "    'Aditya_2018-08-16_21502300_100'  : fm2cf2_to_fm2,\n",
    "    'Aditya_2018-08-16_21502300_102'  : ([['fm1','cf1'], ['fm2','cf2','fm3']],['cf1', 'fm1']),\n",
    "    'Aditya_2018-08-16_21502300_19'   : ([['fm2','fm3'],['fm2']]),\n",
    "    'Aditya_2018-08-16_2324_14'       : cf1fm1_to_fm1,\n",
    "    'Aditya_2018-08-16_2324_148'      : fm1cf2fm2_to_fm1,\n",
    "    'Aditya_2018-08-16_2324_154'      : fm2cf2_to_fm2,\n",
    "    'Aditya_2018-08-16_2324_197'      : action_delete,\n",
    "    'Aditya_2018-08-16_2324_207'      : fm2cf2fm3cf3_to_fm2,\n",
    "    'Aditya_2018-08-16_2324_223'      : fm2cf2_to_fm2,\n",
    "    'Aditya_2018-08-16_2324_230'      : fm2cf2_to_fm2,\n",
    "    'Aditya_2018-08-16_2324_258'      : fm2cf2_to_fm2,\n",
    "    'Aditya_2018-08-16_2324_28'       : fm1cf2fm2cf3fm3_to_fm1,\n",
    "    'Aditya_2018-08-16_2324_68'       : fm2cf2_to_fm2,\n",
    "    'Aditya_2018-08-16_2324_90'       : cf1fm1_to_fm1,\n",
    "    'Aditya_2018-08-16_2324_94'       : fm1cf2fm2_to_fm1,\n",
    "    'Aditya_2018-08-17_01_15'         : cf1fm1_to_fm1,\n",
    "    'Aditya_2018-08-17_01_28'         : fm1cf2_to_fm1,\n",
    "    'Aditya_2018-08-17_01_29'         : fm2cf2fm3cf3_to_fm2,\n",
    "    'Aditya_2018-08-17_01_35'         : fm1cf2fm2_to_fm1,\n",
    "    'Aditya_2018-08-17_01_40'         : ([['cf1','fm2','cf2','fm3','cf3']], ['cf1']),\n",
    "    'Aditya_2018-08-17_01_46'         : fm2cf2fm3_to_fm2,\n",
    "    'Aditya_2018-08-17_01_60'         : fm1cf2fm2_to_fm1,\n",
    "    'Aditya_2018-08-17_01_80'         : fm2cf2_to_fm2,\n",
    "    'Aditya_2018-08-17_01_81'         : cf1fm1_to_fm1,\n",
    "    'Aditya_2018-08-17_12_100'        : ([['cf1','fm1','cf2','fm2','cf3','fm3','cf4']], \n",
    "                                        ['cf1']),\n",
    "    'Aditya_2018-08-17_12_108'        : action_delete,\n",
    "    'Aditya_2018-08-17_12_110'        : action_delete,\n",
    "    'Aditya_2018-08-17_12_117'        : action_delete,\n",
    "    'Aditya_2018-08-17_12_121'        : ([['fm1','cf1','fm2']], ['fm1']),\n",
    "    'Aditya_2018-08-17_12_76'         : ([['fm1','cf1','fm2']], ['fm1']),\n",
    "    'Aditya_2018-08-17_34_40'         : fm2cf2_to_fm2,\n",
    "    'Aditya_2018-08-17_34_65'         : fm2cf2fm3_to_fm2,\n",
    "    'Aditya_2018-08-17_34_71'         : ([['cf1','fm1'], ['fm2','cf3']], ['fm1', 'fm2']),\n",
    "    'Aditya_2018-08-17_34_72'         : ([['fm1','cf2','fm2','cf3','fm3']], ['fm1']),\n",
    "    'Aditya_2018-08-17_45_116'        : fm2cf2_to_fm2,\n",
    "    'Aditya_2018-08-17_45_126'        : action_delete,\n",
    "    'Aditya_2018-08-17_45_127'        : fm1cf2fm2_to_fm1,\n",
    "    'Aditya_2018-08-17_45_173'        : cf1fm1_to_fm1,\n",
    "    'Aditya_2018-08-17_45_200'        : cf1fm2cf2_to_cf1,\n",
    "    'Aditya_2018-08-17_45_203'        : action_delete,\n",
    "    'Aditya_2018-08-17_45_269'        : cf1fm1_to_fm1,\n",
    "    'Aditya_2018-08-17_45_29'         : fm2cf2_to_fm2,\n",
    "    'Aditya_2018-08-17_45_337'        : ([['fm2','cf2','fm3','cf3','fm4','cf4']], ['fm2']),\n",
    "    'Aditya_2018-08-17_45_342'        : ([['cf1','fm1'], ['fm2','cf3']], ['fm1', 'fm2']),\n",
    "    'Aditya_2018-08-19_0120-0200_110' : fm2cf2fm3_to_fm2,\n",
    "    'Aditya_2018-08-19_0120-0200_112' : cf1fm1_to_fm1,\n",
    "    'Aditya_2018-08-19_0120-0200_59'  : fm1cf2_to_fm1,\n",
    "    'Aditya_2018-08-19_0120-0200_90'  : ([['cf1','fm1'], ['fm2','cf3']], ['fm1', 'fm2']),\n",
    "    'Aditya_2018-08-19_23_16'         : ([['fm1', 'cf1', 'fm2','cf2']], ['cf1']),\n",
    "    'Aditya_2018-08-19_23_17'         : fm2cf2fm3_to_fm2,\n",
    "    'Aditya_2018-08-19_23_18'         : fm1cf1fm2_to_fm1,\n",
    "    'Aditya_2018-08-19_23_39'         : fm2cf2fm3cf3_to_fm2,\n",
    "    'Aditya_2018-08-20_0300-0400_56'  : fm2cf2fm3_to_fm2,\n",
    "    'Aditya_2018-08-17_23_111'        : cf1fm2cf2_to_cf1,\n",
    "    'Aditya_2018-08-17_23_133'        : fm2cf2_to_fm2,\n",
    "    'Aditya_2018-08-17_23_14'         : ([['cf1', 'fm1'], ['fm2', 'cf3', 'fm3']], ['cf1', 'fm2']),\n",
    "    'Aditya_2018-08-17_23_145'        : cf1fm2cf2_to_cf1,\n",
    "    'Aditya_2018-08-17_23_15'         : cf1fm1_to_fm1,\n",
    "    'Aditya_2018-08-17_23_173'        : action_delete,\n",
    "    'Aditya_2018-08-17_23_196'        : ([['cf1','fm1'], ['fm2','cf3','fm3','cf4']], ['fm1','fm2']),\n",
    "    'Aditya_2018-08-17_23_56'         : fm2cf2fm3_to_fm2,\n",
    "    'Aditya_2018-08-17_23_70'         : ([['cf1','fm1'], ['fm2','cf2','fm3']], ['cf1', 'fm2']),\n",
    "    'Aditya_2018-08-17_23_84'         : ([['cf1','fm2','cf2']], ['cf1'])\n",
    "                }"
   ]
  },
  {
   "cell_type": "code",
   "execution_count": 10,
   "metadata": {},
   "outputs": [
    {
     "data": {
      "text/plain": [
       "63"
      ]
     },
     "execution_count": 10,
     "metadata": {},
     "output_type": "execute_result"
    }
   ],
   "source": [
    "len(corrections.keys())"
   ]
  },
  {
   "cell_type": "code",
   "execution_count": 11,
   "metadata": {},
   "outputs": [
    {
     "name": "stdout",
     "output_type": "stream",
     "text": [
      "Match found!\n",
      "Match found!\n",
      "Match found!\n"
     ]
    },
    {
     "name": "stderr",
     "output_type": "stream",
     "text": [
      "/home/tbeleyur/Documents/packages_dev/match_audio_to_video/experimental_testdata/horseshoebat_data/individual_call_analysis/analysis/correct_bad_segs/re_measure_bad_segs.py:71: SettingWithCopyWarning: \n",
      "A value is trying to be set on a copy of a slice from a DataFrame\n",
      "\n",
      "See the caveats in the documentation: https://pandas.pydata.org/pandas-docs/stable/user_guide/indexing.html#returning-a-view-versus-a-copy\n",
      "  corrected_region['region_id'] = reassigned_region\n",
      "/home/tbeleyur/Documents/packages_dev/match_audio_to_video/experimental_testdata/horseshoebat_data/individual_call_analysis/analysis/correct_bad_segs/re_measure_bad_segs.py:72: SettingWithCopyWarning: \n",
      "A value is trying to be set on a copy of a slice from a DataFrame\n",
      "\n",
      "See the caveats in the documentation: https://pandas.pydata.org/pandas-docs/stable/user_guide/indexing.html#returning-a-view-versus-a-copy\n",
      "  corrected_region['start'] = new_start\n",
      "/home/tbeleyur/Documents/packages_dev/match_audio_to_video/experimental_testdata/horseshoebat_data/individual_call_analysis/analysis/correct_bad_segs/re_measure_bad_segs.py:73: SettingWithCopyWarning: \n",
      "A value is trying to be set on a copy of a slice from a DataFrame\n",
      "\n",
      "See the caveats in the documentation: https://pandas.pydata.org/pandas-docs/stable/user_guide/indexing.html#returning-a-view-versus-a-copy\n",
      "  corrected_region['stop'] = new_stop\n"
     ]
    },
    {
     "name": "stdout",
     "output_type": "stream",
     "text": [
      "Match found!\n",
      "FAILED TO PROCESS Aditya_2018-08-16_21502300_19\n",
      "Match found!\n",
      "Match found!\n",
      "Match found!\n",
      "Match found!\n",
      "Match found!\n",
      "Match found!\n",
      "Match found!\n",
      "Match found!\n",
      "Match found!\n",
      "Match found!\n",
      "Match found!\n",
      "Match found!\n",
      "Match found!\n",
      "Match found!\n",
      "Match found!\n",
      "Match found!\n",
      "Match found!\n",
      "Match found!\n",
      "Match found!\n",
      "Match found!\n",
      "Match found!\n",
      "Match found!\n",
      "Match found!\n",
      "Match found!\n",
      "Match found!\n",
      "Match found!\n",
      "Match found!\n",
      "Match found!\n",
      "Match found!\n",
      "Match found!\n",
      "Match found!\n",
      "Match found!\n",
      "Match found!\n",
      "Match found!\n",
      "Match found!\n",
      "Match found!\n",
      "Match found!\n",
      "Match found!\n",
      "Match found!\n",
      "Match found!\n",
      "Match found!\n",
      "Match found!\n",
      "Match found!\n",
      "Match found!\n",
      "Match found!\n",
      "Match found!\n",
      "Match found!\n",
      "Match found!\n",
      "Match found!\n",
      "Match found!\n",
      "Match found!\n",
      "Match found!\n",
      "Match found!\n",
      "Match found!\n",
      "Match found!\n",
      "Match found!\n",
      "Match found!\n",
      "Match found!\n",
      "Match found!\n",
      "Match found!\n",
      "Match found!\n",
      "Match found!\n",
      "Match found!\n",
      "Match found!\n",
      "Match found!\n",
      "Match found!\n",
      "Match found!\n",
      "Match found!\n",
      "Match found!\n",
      "Match found!\n",
      "Match found!\n",
      "Match found!\n",
      "Match found!\n",
      "Match found!\n",
      "Match found!\n",
      "Match found!\n",
      "Match found!\n",
      "Match found!\n",
      "Match found!\n",
      "Match found!\n",
      "Match found!\n",
      "Match found!\n",
      "Match found!\n",
      "Match found!\n",
      "Match found!\n",
      "Match found!\n",
      "Match found!\n",
      "Match found!\n",
      "Match found!\n",
      "Match found!\n",
      "Match found!\n",
      "Match found!\n",
      "Match found!\n",
      "Match found!\n",
      "Match found!\n",
      "Match found!\n",
      "Match found!\n",
      "Match found!\n",
      "Match found!\n",
      "Match found!\n",
      "Match found!\n",
      "Match found!\n",
      "Match found!\n",
      "Match found!\n",
      "Match found!\n",
      "Match found!\n"
     ]
    }
   ],
   "source": [
    "audio_folder = '../hp_ind_calls/'\n",
    "\n",
    "all_measurements  = []\n",
    "\n",
    "\n",
    "for call_id, correction_data in corrections.items():\n",
    "    try:\n",
    "        eg = df_by_calls.get_group(call_id)\n",
    "        old_regions_correction, reassigned_correction = correction_data\n",
    "        if not np.logical_and(len(old_regions_correction)==0,\n",
    "                          len(reassigned_correction)==0):\n",
    "            \n",
    "            cf, fm, corr = rmbg.create_correct_boolean_masks(eg, audio_folder, rmbg.multi_fuse_old_to_new_regions,\n",
    "                                              old_regions_list=old_regions_correction,\n",
    "                                              reassigned_regions_list=reassigned_correction)\n",
    "\n",
    "            audio, fs = rmbg.load_audio_from_call_region(corr.reset_index(drop=True), audio_folder)\n",
    "\n",
    "            custom_measures = [measure_peak_amplitude, measure_peak_frequency, measure_rms, measure_terminal_frequency]\n",
    "            measurement_results = measure_hbc_call(audio, fs,\n",
    "                                                    cf, fm,\n",
    "                                                    measurements=custom_measures)\n",
    "            eg2_reset = eg.reset_index()\n",
    "            measurement_results['audio_file'] = eg2_reset['audio_file'][0]\n",
    "            measurement_results['num_bats'] = eg2_reset['num_bats'][0]\n",
    "            measurement_results['video_annot_id'] = eg2_reset['video_annot_id'][0]\n",
    "            all_measurements.append(measurement_results)\n",
    "    except:\n",
    "        print(f\"FAILED TO PROCESS {call_id}\")"
   ]
  },
  {
   "cell_type": "code",
   "execution_count": 12,
   "metadata": {},
   "outputs": [],
   "source": [
    "# put all corrected call measurements together :\n",
    "corrected_call_measurements = pd.concat(all_measurements)\n",
    "corrected_call_measurements.to_csv('correctly_handled_call_measurements.csv')"
   ]
  },
  {
   "cell_type": "markdown",
   "metadata": {},
   "source": [
    "## References\n",
    "\n",
    "- ### [1] Beleyur, T, itsfm : Identify, Track and Segment sound (by) Frequency (and its) Modulation, (Python package"
   ]
  },
  {
   "cell_type": "code",
   "execution_count": 13,
   "metadata": {},
   "outputs": [
    {
     "name": "stdout",
     "output_type": "stream",
     "text": [
      "This notebook run ended at : 2020-07-10 19:26:54.725636\n"
     ]
    }
   ],
   "source": [
    "\n",
    "print(f\"This notebook run ended at : {dt.datetime.now()}\")"
   ]
  },
  {
   "cell_type": "code",
   "execution_count": null,
   "metadata": {},
   "outputs": [],
   "source": []
  }
 ],
 "metadata": {
  "kernelspec": {
   "display_name": "Python [conda env:mhbc] *",
   "language": "python",
   "name": "conda-env-mhbc-py"
  },
  "language_info": {
   "codemirror_mode": {
    "name": "ipython",
    "version": 3
   },
   "file_extension": ".py",
   "mimetype": "text/x-python",
   "name": "python",
   "nbconvert_exporter": "python",
   "pygments_lexer": "ipython3",
   "version": "3.7.0"
  }
 },
 "nbformat": 4,
 "nbformat_minor": 4
}
